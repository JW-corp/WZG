{
 "cells": [
  {
   "cell_type": "code",
   "execution_count": 1,
   "id": "8d8182ba",
   "metadata": {},
   "outputs": [
    {
     "name": "stdout",
     "output_type": "stream",
     "text": [
      "Welcome to JupyROOT 6.28/06\n"
     ]
    }
   ],
   "source": [
    "import os,sys\n",
    "import ROOT\n",
    "import json\n",
    "import logging\n",
    "from array import array\n",
    "import tdr as tdrStyle\n",
    "from lumi import CMS_lumi\n",
    "from ratio import createRatio"
   ]
  },
  {
   "cell_type": "code",
   "execution_count": 2,
   "id": "b8f4c312",
   "metadata": {},
   "outputs": [],
   "source": [
    "logging.basicConfig(level=logging.DEBUG)\n",
    "\n",
    "def checkfile(file):\n",
    "    if not os.path.isfile(file):\n",
    "        raise Exception('{file} not existed'.format(file=file))\n",
    "\n",
    "\n",
    "def sethiststyle(hist, color, Xtitle=' ', Ytitle=' ', ratio=1):\n",
    "    if color != 1:\n",
    "        hist.SetFillColor(color)\n",
    "        hist.SetLineColor(0)\n",
    "        hist.SetLineWidth(0)\n",
    "    else:\n",
    "        hist.SetLineWidth(2)\n",
    "        hist.SetLineColor(1)\n",
    "    hist.SetMarkerStyle(20)\n",
    "    hist.SetMarkerColor(1)\n",
    "    hist.SetYTitle('Events/bin')\n",
    "    hist.SetStats(0)\n",
    "#    hist.Sumw2()\n",
    "\n",
    "    # Adjust y-axis settings\n",
    "    # hist.GetYaxis().SetNdivisions(105)\n",
    "    hist.GetYaxis().SetTitleSize(38)\n",
    "    hist.GetYaxis().SetTitleFont(43)\n",
    "    hist.GetYaxis().SetTitleOffset(1.50)\n",
    "    hist.GetYaxis().SetLabelFont(43)\n",
    "    hist.GetYaxis().SetLabelSize(38)\n",
    "    hist.GetYaxis().SetLabelOffset(0.015)\n",
    "\n",
    "    # Adjust x-axis settings\n",
    "    hist.SetXTitle(str(Xtitle))\n",
    "#    hist.GetXaxis().SetTitleSize(38)\n",
    "    hist.GetXaxis().SetTitleSize(0)\n",
    "    hist.GetXaxis().SetTitleFont(43)\n",
    "    hist.GetXaxis().SetTitleOffset(6.2)\n",
    "    hist.GetXaxis().SetLabelFont(43)\n",
    "    hist.GetXaxis().SetLabelSize(18)\n",
    "    hist.GetXaxis().SetLabelOffset(0.015)\n",
    "\n",
    "tdrStyle.setTDRStyle()\n",
    "tdrStyle.gtdr()\n"
   ]
  },
  {
   "cell_type": "code",
   "execution_count": 3,
   "id": "d913f1e1",
   "metadata": {},
   "outputs": [],
   "source": [
    "final_hists = {\n",
    "    'VV':{\n",
    "        'name':'VV',\n",
    "        'color':'#1f77b4',\n",
    "    },\n",
    "    'VG':{\n",
    "        'name':'VG',\n",
    "        'color':'#2ca02c',\n",
    "    },\n",
    "    'VVV':{\n",
    "        'name':'VVV',\n",
    "        'color':'#9467bd',\n",
    "    },\n",
    "    'Top':{\n",
    "        'name':'Top',\n",
    "        'color':'#ff7f0e',\n",
    "    },\n",
    "    'FakeLep':{\n",
    "        'name':'FakeLep',\n",
    "        'color':'#bcbd22',\n",
    "    },\n",
    "    'FakePho':{\n",
    "        'name':'FakePho',\n",
    "        'color':'#17becf',\n",
    "    },\n",
    "    'WZG':{\n",
    "        'name':'WZG',\n",
    "        'color':'#d62728'\n",
    "    }\n",
    "}\n",
    "\n",
    "json_path = \"combine_shape_fullrun2.json\"\n",
    "#json_path = \"combine_shape_18.json\"\n",
    "root_path = \"freezed_PSmodified/RunII/fitDiagnosticsTest.root\"\n",
    "#root_path = \"freezed_PSmodified_unblind/2018/fitDiagnosticsTest.root\"\n",
    "\n",
    "\n",
    "checkfile(json_path)\n",
    "checkfile(root_path)\n"
   ]
  },
  {
   "cell_type": "code",
   "execution_count": 4,
   "id": "4565e4e2",
   "metadata": {},
   "outputs": [
    {
     "data": {
      "text/plain": [
       "'combine_shape_fullrun2.json'"
      ]
     },
     "execution_count": 4,
     "metadata": {},
     "output_type": "execute_result"
    }
   ],
   "source": [
    "json_path"
   ]
  },
  {
   "cell_type": "code",
   "execution_count": 5,
   "id": "019af127",
   "metadata": {},
   "outputs": [
    {
     "name": "stdout",
     "output_type": "stream",
     "text": [
      "18\n"
     ]
    },
    {
     "name": "stderr",
     "output_type": "stream",
     "text": [
      "Warning in <TClass::Init>: no dictionary for class RooList is available\n"
     ]
    }
   ],
   "source": [
    "## Full Run-II\n",
    "with open(json_path) as f:\n",
    "    jsons = json.load(f)\n",
    "    f.close()\n",
    "\n",
    "\n",
    "total_bin = 0\n",
    "for region in jsons['regions']:\n",
    "    if '2016'in region:\n",
    "        region = jsons['regions'][region]\n",
    "        bin_array = region['bin_array']\n",
    "        total_bin += len(bin_array) - 1\n",
    "\n",
    "\n",
    "tag = jsons['utils']['tag']\n",
    "print(total_bin)\n",
    "file = ROOT.TFile(root_path,'OPEN')\n",
    "Xtitle='m_{lll} [GeV]'"
   ]
  },
  {
   "cell_type": "markdown",
   "id": "d5ef96ea",
   "metadata": {},
   "source": [
    "---\n",
    "## 2. Makehist"
   ]
  },
  {
   "cell_type": "code",
   "execution_count": 6,
   "id": "f2c4fc0e",
   "metadata": {},
   "outputs": [],
   "source": [
    "# Create stack for global plot\n",
    "h_stack = ROOT.THStack(\"\",\"\")\n",
    "h_mc = ROOT.TH1D(\"\", \"\", total_bin, 0, total_bin)\n",
    "h_mc.SetFillColor(ROOT.kGray+2)\n",
    "h_mc.SetFillStyle(3345)\n",
    "h_mc.SetMarkerSize(0.)\n",
    "h_mc.SetMarkerColor(ROOT.kGray+2)\n",
    "h_mc.SetLineWidth(0)\n",
    "h_data = ROOT.TH1D(\"\", \"\", total_bin, 0, total_bin)\n",
    "sethiststyle(h_data, 1, ratio=0.7, Xtitle=Xtitle)\n",
    "# Create line for global plot\n",
    "lines = []\n",
    "# Create text for global plot\n",
    "texts = []\n",
    "titles = []\n",
    "\n",
    "\n",
    "# Create Legend for global plot\n",
    "legend = ROOT.TLegend(0.20, 0.55, 0.90, 0.80)\n",
    "legend.SetNColumns(3)\n",
    "legend.SetBorderSize(0)\n",
    "legend.SetFillColor(0)\n",
    "legend.SetTextSize(0.055)\n",
    "legend.SetLineWidth(1)\n",
    "legend.SetLineStyle(0)\n"
   ]
  },
  {
   "cell_type": "markdown",
   "id": "ee678ee2",
   "metadata": {},
   "source": [
    "### Get MC"
   ]
  },
  {
   "cell_type": "code",
   "execution_count": 7,
   "id": "dd9dffe5",
   "metadata": {},
   "outputs": [],
   "source": [
    "import math\n",
    "def GET_MC_HIST(process ,h_mc, year, draw_legend=False):\n",
    "    \n",
    "    \n",
    "    hist_temp = ROOT.TH1D(\"\", \"\", total_bin, 0, total_bin)\n",
    "    process = final_hists[process]\n",
    "    process_name = process['name']\n",
    "\n",
    "    global_bin_count = 1\n",
    "    # Load every region --> SR CR1 CR2...\n",
    "    for region in jsons['regions']:\n",
    "\n",
    "        if not year in region: continue; # >> year condition (only for RunII full data)\n",
    "\n",
    "        region = jsons['regions'][region]\n",
    "        region_name = region['final_name']\n",
    "        variable = region['variable_storename']\n",
    "        bin_array = region['bin_array']\n",
    "        \n",
    "        \n",
    "        if not process_name in region['processes']: ## >> process (WZG VG VV FakePhoton FakeLepton...)\n",
    "            logging.info(\"{process} not included in {region}\".format(process=process['name'], region=region['final_name']))\n",
    "            global_bin_count += len(bin_array) - 1\n",
    "            continue\n",
    "\n",
    "        total_bin_content = 0\n",
    "        total_bin_error = 0\n",
    "        # Load every bin --> bin 1 2 3...\n",
    "        for bin in range(1, len(bin_array)):\n",
    "            #branch_name = '{region_name}_{variable}_bin{bin}_{tag}'.format(region_name=region_name, variable=variable, bin=str(bin), tag=tag)\n",
    "            \n",
    "            # -- pre-fit\n",
    "            branch = file.shapes_prefit.Get(f'{region_name}')\n",
    "            # --post-fit\n",
    "            #branch = file.shapes_fit_s.Get(f'{region_name}')\n",
    "\n",
    "            if hasattr(branch, process_name):\n",
    "                bin_content = branch.Get(process_name).GetBinContent(bin)\n",
    "                bin_error   = branch.Get(process_name).GetBinError(bin)\n",
    "                hist_temp.SetBinContent(global_bin_count, bin_content)\n",
    "                hist_temp.SetBinError(global_bin_count, bin_error)\n",
    "            else:\n",
    "                logging.warning(f\"{process_name} not exist in {region_name}\")\n",
    "                pass\n",
    "            total_bin_content += bin_content\n",
    "            total_bin_error = math.sqrt(bin_error**2 + total_bin_error**2)\n",
    "            global_bin_count += 1\n",
    "\n",
    "        if \"SR\" in region_name:\n",
    "            print(region_name,total_bin_content,total_bin_error)\n",
    "    #sethiststyle(hist_temp, process['color'], ratio=0.7)\n",
    "    sethiststyle(hist_temp, ROOT.TColor.GetColor(process['color']), ratio=0.7)\n",
    "\n",
    "    if draw_legend:\n",
    "        legend.AddEntry(hist_temp, process['name'], 'F')\n",
    "    h_mc.Add(hist_temp)\n",
    "    \n",
    "    return hist_temp\n"
   ]
  },
  {
   "cell_type": "code",
   "execution_count": 8,
   "id": "c4cad9da",
   "metadata": {},
   "outputs": [
    {
     "name": "stderr",
     "output_type": "stream",
     "text": [
      "WARNING:root:VG not exist in CR3_2016\n",
      "WARNING:root:VG not exist in CR3_2016\n",
      "WARNING:root:VG not exist in CR3_2016\n",
      "WARNING:root:VG not exist in CR3_2016\n",
      "WARNING:root:VG not exist in CR3_2016\n",
      "WARNING:root:VG not exist in CR3_2017\n",
      "WARNING:root:VG not exist in CR3_2017\n",
      "WARNING:root:VG not exist in CR3_2017\n",
      "WARNING:root:VG not exist in CR3_2017\n",
      "WARNING:root:VG not exist in CR3_2017\n",
      "WARNING:root:VG not exist in CR3_2018\n",
      "WARNING:root:VG not exist in CR3_2018\n",
      "WARNING:root:VG not exist in CR3_2018\n",
      "WARNING:root:VG not exist in CR3_2018\n",
      "WARNING:root:VG not exist in CR3_2018\n",
      "WARNING:root:VVV not exist in CR2_2016\n",
      "WARNING:root:VVV not exist in CR2_2016\n",
      "WARNING:root:VVV not exist in CR2_2016\n",
      "WARNING:root:VVV not exist in CR2_2016\n",
      "WARNING:root:VVV not exist in CR2_2017\n",
      "WARNING:root:VVV not exist in CR2_2017\n",
      "WARNING:root:VVV not exist in CR2_2017\n",
      "WARNING:root:VVV not exist in CR2_2017\n",
      "WARNING:root:VVV not exist in CR3_2017\n",
      "WARNING:root:VVV not exist in CR3_2017\n",
      "WARNING:root:VVV not exist in CR3_2017\n",
      "WARNING:root:VVV not exist in CR3_2017\n",
      "WARNING:root:VVV not exist in CR3_2017\n",
      "WARNING:root:FakeLep not exist in CR2_2016\n",
      "WARNING:root:FakeLep not exist in CR2_2016\n",
      "WARNING:root:FakeLep not exist in CR2_2016\n",
      "WARNING:root:FakeLep not exist in CR2_2016\n",
      "WARNING:root:FakeLep not exist in CR3_2016\n",
      "WARNING:root:FakeLep not exist in CR3_2016\n",
      "WARNING:root:FakeLep not exist in CR3_2016\n",
      "WARNING:root:FakeLep not exist in CR3_2016\n",
      "WARNING:root:FakeLep not exist in CR3_2016\n",
      "WARNING:root:FakeLep not exist in CR2_2017\n",
      "WARNING:root:FakeLep not exist in CR2_2017\n",
      "WARNING:root:FakeLep not exist in CR2_2017\n",
      "WARNING:root:FakeLep not exist in CR2_2017\n",
      "WARNING:root:FakeLep not exist in CR3_2017\n",
      "WARNING:root:FakeLep not exist in CR3_2017\n",
      "WARNING:root:FakeLep not exist in CR3_2017\n",
      "WARNING:root:FakeLep not exist in CR3_2017\n",
      "WARNING:root:FakeLep not exist in CR3_2017\n",
      "WARNING:root:FakeLep not exist in CR2_2018\n",
      "WARNING:root:FakeLep not exist in CR2_2018\n",
      "WARNING:root:FakeLep not exist in CR2_2018\n",
      "WARNING:root:FakeLep not exist in CR2_2018\n",
      "WARNING:root:FakeLep not exist in CR3_2018\n",
      "WARNING:root:FakeLep not exist in CR3_2018\n",
      "WARNING:root:FakeLep not exist in CR3_2018\n",
      "WARNING:root:FakeLep not exist in CR3_2018\n",
      "WARNING:root:FakeLep not exist in CR3_2018\n",
      "INFO:root:FakePho not included in CR1_2016\n",
      "INFO:root:FakePho not included in CR3_2016\n",
      "INFO:root:FakePho not included in CR1_2017\n",
      "INFO:root:FakePho not included in CR3_2017\n",
      "INFO:root:FakePho not included in CR1_2018\n",
      "INFO:root:FakePho not included in CR3_2018\n"
     ]
    },
    {
     "name": "stdout",
     "output_type": "stream",
     "text": [
      "--- VV ---\n",
      "SR_2016 3.030780851840973 0.486520159085138\n",
      "--- VV ---\n",
      "SR_2017 4.474452584981918 0.7327553244859015\n",
      "--- VV ---\n",
      "SR_2018 6.299349904060364 0.25239663145737057\n",
      "--- VG ---\n",
      "SR_2016 0.1113839467498321 0.18233470590320056\n",
      "--- VG ---\n",
      "SR_2017 0.3229154676396636 0.3788528750864954\n",
      "--- VG ---\n",
      "SR_2018 1.4013480852113496 1.2116307869224683\n",
      "--- VVV ---\n",
      "SR_2016 0.4878529980778694 0.25082699842680617\n",
      "--- VVV ---\n",
      "SR_2017 0.5094005391001701 0.26058802930209346\n",
      "--- VVV ---\n",
      "SR_2018 0.7701573073863983 0.03973813926336177\n",
      "--- Top ---\n",
      "SR_2016 0.849784754216671 0.3563869112848082\n",
      "--- Top ---\n",
      "SR_2017 0.8941448777914047 0.1918141972941221\n",
      "--- Top ---\n",
      "SR_2018 1.5288983136415482 0.6688988172425147\n",
      "--- FakeLep ---\n",
      "SR_2016 2.930984616279602 3.2815115920650686\n",
      "--- FakeLep ---\n",
      "SR_2017 6.1417515883909 3.3632535522596436\n",
      "--- FakeLep ---\n",
      "SR_2018 7.066616535186768 4.713658117159006\n",
      "--- FakePho ---\n",
      "SR_2016 4.365493357181549 1.3238572212864557\n",
      "--- FakePho ---\n",
      "SR_2017 7.763314127922058 1.81084516024893\n",
      "--- FakePho ---\n",
      "SR_2018 9.46199882030487 1.983446664003172\n",
      "--- WZG ---\n",
      "SR_2016 9.728410959243774 0.6063564246451885\n",
      "--- WZG ---\n",
      "SR_2017 11.329497337341309 0.7301044130771646\n",
      "--- WZG ---\n",
      "SR_2018 16.37779402732849 1.0385601739691515\n",
      "736.4813287725183\n",
      "736.4813287725183\n"
     ]
    }
   ],
   "source": [
    "cls=0\n",
    "for process in final_hists:\n",
    "    for year in ['2016','2017','2018']:\n",
    "        print(f\"--- {process} ---\")\n",
    "        if cls in list(range(0,21,3)):\n",
    "            h_stack.Add(GET_MC_HIST(process ,h_mc, year, draw_legend=True))\n",
    "        else:\n",
    "            h_stack.Add(GET_MC_HIST(process ,h_mc, year, draw_legend=False))\n",
    "        cls+=1\n",
    "\n",
    "# --> only for 2018\n",
    "#for process in final_hists:\n",
    "#    print(f\"--- {process} ---\")\n",
    "#    h_stack.Add(GET_MC_HIST(process ,h_mc, '2018', draw_legend=True))\n",
    "\n",
    "\n",
    "print(h_stack.GetMaximum())\n",
    "print(h_mc.GetMaximum())"
   ]
  },
  {
   "cell_type": "markdown",
   "id": "058cd8e6",
   "metadata": {},
   "source": [
    "### Get data"
   ]
  },
  {
   "cell_type": "code",
   "execution_count": 9,
   "id": "581ffa06",
   "metadata": {},
   "outputs": [],
   "source": [
    "import math\n",
    "def GET_DATA_HIST(h_data, year, draw_style=False, show_x_label=True):\n",
    "    # get data (asimov when blinded)\n",
    "    global_bin_count = 1\n",
    "    hist_temp = ROOT.TH1D(\"\", \"\", total_bin, 0, total_bin)\n",
    "    \n",
    "    # Load every region --> SR CR1 CR2...\n",
    "    for region in jsons['regions']:  \n",
    "        \n",
    "        print(\"check global bin --> \",region,global_bin_count)\n",
    "        if not year in region: continue; # year condition # --> only for RunII Full data\n",
    "        \n",
    "        region = jsons['regions'][region]\n",
    "        region_name = region['final_name']\n",
    "        variable = region['variable_storename']\n",
    "        variable_plotname = region['variable_plotname']\n",
    "        bin_array = region['bin_array']\n",
    "        \n",
    "        total_data=0\n",
    "        total_data_error = 0\n",
    "        # Load every bin --> bin1 bin2 bin3....\n",
    "        for bin in range(0, len(bin_array)-1):\n",
    "            branch_name = region_name\n",
    "            if not hasattr(file.shapes_prefit, f'{branch_name}/data'): # Prefit\n",
    "            #if not hasattr(file.shapes_fit_s, f'{branch_name}/data'): # Postfit\n",
    "\n",
    "                logging.info(f\"data not included in {region_name}\")\n",
    "                global_bin_count += 1\n",
    "                continue\n",
    "\n",
    "            branch = file.shapes_prefit.Get(branch_name) # Prefit\n",
    "            #branch = file.shapes_fit_s.Get(branch_name) # Postfit\n",
    "\n",
    " \n",
    "            bin_content = branch.Get('data').GetPointY(bin)\n",
    "            bin_error = branch.Get('data').GetErrorY(bin)\n",
    "\n",
    "            hist_temp.SetBinContent(global_bin_count, bin_content)\n",
    "            hist_temp.SetBinError(global_bin_count, bin_error)\n",
    "\n",
    "            \n",
    "            if show_x_label:\n",
    "                h_data.GetXaxis().SetBinLabel(global_bin_count, '[{left},{right})'.format(left=bin_array[bin], right=bin_array[bin+1]))\n",
    "                h_data.GetXaxis().LabelsOption('v')\n",
    "                hist_temp.GetXaxis().LabelsOption('v')\n",
    "            total_data+=bin_content\n",
    "            total_data_error = math.sqrt(bin_error**2 +total_data_error**2)\n",
    "            global_bin_count += 1\n",
    "    \n",
    "        if \"SR\" in region_name:\n",
    "            print(region_name,total_data,total_data_error)\n",
    "            \n",
    "        if draw_style:\n",
    "            line_temp = ROOT.TLine(global_bin_count-1, 0, global_bin_count-1, 3.0*hist_temp.GetMaximum())\n",
    "            line_temp.SetLineWidth(3)\n",
    "            line_temp.SetLineColor(1)\n",
    "            line_temp.SetLineStyle(2)\n",
    "            lines.append(line_temp)\n",
    "\n",
    "            text_name = region_name.split('_')[0]\n",
    "            text_temp = ROOT.TText(global_bin_count-1-len(bin_array)/2, 4.0*hist_temp.GetMaximum(), text_name)\n",
    "            text_temp.SetTextSize(40)\n",
    "            text_temp.SetTextFont(43)\n",
    "            texts.append(text_temp)\n",
    "\n",
    "            title_temp = ROOT.TLatex(global_bin_count-len(bin_array)+0.2, -1, variable_plotname)\n",
    "            title_temp.SetTextSize(35)\n",
    "            title_temp.SetTextFont(43)\n",
    "            titles.append(title_temp)\n",
    "    h_data.Add(hist_temp)    \n",
    "        \n",
    "        \n",
    "        "
   ]
  },
  {
   "cell_type": "code",
   "execution_count": 10,
   "id": "b846b135",
   "metadata": {},
   "outputs": [
    {
     "name": "stdout",
     "output_type": "stream",
     "text": [
      "check global bin -->  CR1_2016 1\n",
      "check global bin -->  CR2_2016 1\n",
      "check global bin -->  CR3_2016 1\n",
      "check global bin -->  SR1_2016 1\n",
      "check global bin -->  CR1_2017 1\n",
      "check global bin -->  CR2_2017 1\n",
      "check global bin -->  CR3_2017 1\n",
      "check global bin -->  SR1_2017 1\n",
      "check global bin -->  CR1_2018 1\n",
      "check global bin -->  CR2_2018 6\n",
      "check global bin -->  CR3_2018 10\n",
      "check global bin -->  SR1_2018 15\n",
      "SR_2018 42.90616273880005 7.377520238048311\n",
      "check global bin -->  CR1_2016 1\n",
      "check global bin -->  CR2_2016 1\n",
      "check global bin -->  CR3_2016 1\n",
      "check global bin -->  SR1_2016 1\n",
      "check global bin -->  CR1_2017 1\n",
      "check global bin -->  CR2_2017 6\n",
      "check global bin -->  CR3_2017 10\n",
      "check global bin -->  SR1_2017 15\n",
      "SR_2017 31.435476303100586 6.44427163846412\n",
      "check global bin -->  CR1_2018 19\n",
      "check global bin -->  CR2_2018 19\n",
      "check global bin -->  CR3_2018 19\n",
      "check global bin -->  SR1_2018 19\n",
      "check global bin -->  CR1_2016 1\n",
      "check global bin -->  CR2_2016 6\n",
      "check global bin -->  CR3_2016 10\n",
      "check global bin -->  SR1_2016 15\n",
      "SR_2016 21.504691123962402 5.7247353924705795\n",
      "check global bin -->  CR1_2017 19\n",
      "check global bin -->  CR2_2017 19\n",
      "check global bin -->  CR3_2017 19\n",
      "check global bin -->  SR1_2017 19\n",
      "check global bin -->  CR1_2018 19\n",
      "check global bin -->  CR2_2018 19\n",
      "check global bin -->  CR3_2018 19\n",
      "check global bin -->  SR1_2018 19\n",
      "736.4813385009766\n"
     ]
    },
    {
     "name": "stderr",
     "output_type": "stream",
     "text": [
      "Warning in <TAxis::Sort>: Cannot sort. No labels\n",
      "Warning in <TAxis::Sort>: Cannot sort. No labels\n",
      "Warning in <TAxis::Sort>: Cannot sort. No labels\n",
      "Warning in <TAxis::Sort>: Cannot sort. No labels\n",
      "Warning in <TAxis::Sort>: Cannot sort. No labels\n",
      "Warning in <TAxis::Sort>: Cannot sort. No labels\n",
      "Warning in <TAxis::Sort>: Cannot sort. No labels\n",
      "Warning in <TAxis::Sort>: Cannot sort. No labels\n",
      "Warning in <TAxis::Sort>: Cannot sort. No labels\n",
      "Warning in <TAxis::Sort>: Cannot sort. No labels\n",
      "Warning in <TAxis::Sort>: Cannot sort. No labels\n",
      "Warning in <TAxis::Sort>: Cannot sort. No labels\n",
      "Warning in <TAxis::Sort>: Cannot sort. No labels\n",
      "Warning in <TAxis::Sort>: Cannot sort. No labels\n",
      "Warning in <TAxis::Sort>: Cannot sort. No labels\n",
      "Warning in <TAxis::Sort>: Cannot sort. No labels\n",
      "Warning in <TAxis::Sort>: Cannot sort. No labels\n",
      "Warning in <TAxis::Sort>: Cannot sort. No labels\n",
      "Info in <TH1D::Add>: Attempt to add histograms with different labels - trying to use TH1::Merge\n",
      "Warning in <Merge>: Not all histograms have labels. I will ignore labels, falling back to bin numbering mode.\n"
     ]
    }
   ],
   "source": [
    "GET_DATA_HIST(h_data, '2018',False,False)\n",
    "GET_DATA_HIST(h_data, '2017',False,False)\n",
    "GET_DATA_HIST(h_data, '2016',True,True)\n",
    "\n",
    "# 2018 only\n",
    "#GET_DATA_HIST(h_data, '2018',True,True)\n",
    "\n",
    "print(h_data.GetMaximum())"
   ]
  },
  {
   "cell_type": "code",
   "execution_count": 11,
   "id": "02ffe388",
   "metadata": {},
   "outputs": [
    {
     "name": "stdout",
     "output_type": "stream",
     "text": [
      "95.84633016586304\n"
     ]
    }
   ],
   "source": [
    "sum_=0\n",
    "for i in [15,16,17,18,19]:\n",
    "    sum_ +=h_data.GetBinContent(i)\n",
    "print(sum_)"
   ]
  },
  {
   "cell_type": "code",
   "execution_count": 12,
   "id": "8400cc73",
   "metadata": {},
   "outputs": [
    {
     "data": {
      "text/plain": [
       "736.4813287725183"
      ]
     },
     "execution_count": 12,
     "metadata": {},
     "output_type": "execute_result"
    }
   ],
   "source": [
    "h_mc.GetMaximum()"
   ]
  },
  {
   "cell_type": "code",
   "execution_count": 13,
   "id": "7d1156c8",
   "metadata": {},
   "outputs": [],
   "source": [
    "# Blind -- SR \n",
    "#for i in [15,16,17,18]:\n",
    "#    h_data.SetBinContent(i,0)"
   ]
  },
  {
   "cell_type": "code",
   "execution_count": 14,
   "id": "4b9b2fb0",
   "metadata": {
    "scrolled": true
   },
   "outputs": [
    {
     "name": "stdout",
     "output_type": "stream",
     "text": [
      "138 fb^{-1} RunII (13 TeV)\n"
     ]
    },
    {
     "name": "stderr",
     "output_type": "stream",
     "text": [
      "Warning in <TH1D::Sumw2>: Sum of squares of weights structure already created\n",
      "Warning in <TH1D::Divide>: Dividing histograms with different labels\n",
      "Warning in <TH1D::Sumw2>: Sum of squares of weights structure already created\n"
     ]
    },
    {
     "data": {
      "image/png": "[encoded data removed]",
      "text/plain": [
       "<IPython.core.display.Image object>"
      ]
     },
     "metadata": {},
     "output_type": "display_data"
    }
   ],
   "source": [
    "c1 = ROOT.TCanvas(\"\",\"\",1000,800)\n",
    "c1.Draw()\n",
    "pad1 = ROOT.TPad(\"pad1\", \"pad1\", 0, 0.30, 1, 1.00)\n",
    "pad1.SetTopMargin(0.15)  # joins upper and lower plot\n",
    "pad1.SetBottomMargin(0.015)  # joins upper and lower plot\n",
    "pad1.SetLogy()\n",
    "#pad1.SetGridx()\n",
    "pad1.Draw()\n",
    "# Lower ratio plot is pad2\n",
    "c1.cd()  # returns to main canvas before defining pad2\n",
    "pad2 = ROOT.TPad(\"pad2\", \"pad2\", 0, 0.00, 1, 0.30)\n",
    "pad2.SetTopMargin(0.055)  # joins upper and lower plot\n",
    "pad2.SetBottomMargin(0.60)  # joins upper and lower plot\n",
    "\n",
    "pad2.SetGridy()\n",
    "pad2.Draw()\n",
    "\n",
    "# Draw Everything\n",
    "pad1.cd()\n",
    "\n",
    "h_stack.Draw('HIST')\n",
    "h_stack.SetMaximum(100000)\n",
    "h_data.Draw('E0X0p SAME')\n",
    "h_mc.Draw('e2 SAME')\n",
    "legend.AddEntry(h_data, 'Data')\n",
    "legend.AddEntry(h_mc, 'Bkg unc.', 'F')\n",
    "legend.Draw('SAME')\n",
    "for line in lines:\n",
    "    line.Draw('SAME')\n",
    "for text in texts:\n",
    "    text.Draw('SAME')\n",
    "\n",
    "h3 = createRatio(h_data, h_mc)\n",
    "pad2.cd()\n",
    "sethiststyle(h3, 1, ratio=0.28, Xtitle=Xtitle)\n",
    "h3.SetYTitle('Data/Pred.')\n",
    "\n",
    "h4 = createRatio(h_mc, h_mc)\n",
    "sethiststyle(h4, 1, ratio=0.28, Xtitle=Xtitle)\n",
    "#h3.Draw('E0X0p')\n",
    "h3.SetLineColor(0)\n",
    "h3.Draw('p SAME')\n",
    "\n",
    "hline = ROOT.TLine(0,1,18,1)\n",
    "hline.Draw()\n",
    "\n",
    "h4.Draw('e2 SAME')\n",
    "for title in titles:\n",
    "    title.Draw(\"SAME\")\n",
    "CMS_lumi(pad1, 0, 0)\n",
    "ROOT.gPad.RedrawAxis()\n",
    "ROOT.gStyle.SetPadLeftMargin(0.15)\n",
    "ROOT.gStyle.SetPadBottomMargin(0.50)\n"
   ]
  },
  {
   "cell_type": "code",
   "execution_count": 15,
   "id": "d75cc9a0",
   "metadata": {},
   "outputs": [
    {
     "name": "stderr",
     "output_type": "stream",
     "text": [
      "Info in <TCanvas::Print>: pdf file pretfit_2018.pdf has been created\n",
      "Info in <TCanvas::Print>: png file prefit_2018.png has been created\n"
     ]
    }
   ],
   "source": [
    "c1.Print(\"pretfit_2018.pdf\")\n",
    "c1.Print(\"prefit_2018.png\")"
   ]
  },
  {
   "cell_type": "code",
   "execution_count": 16,
   "id": "faa5d97e",
   "metadata": {},
   "outputs": [
    {
     "name": "stdout",
     "output_type": "stream",
     "text": [
      "asimov_2018.pdf\t\t     freezed_PSmodified\r\n",
      "asimov_2018.png\t\t     freezed_PSmodified_unblind\r\n",
      "breakdown_unc.sh\t     lumi.py\r\n",
      "card_origin\t\t     lumi.pyc\r\n",
      "cards_map_2016.json\t     N5_photonPT15_FakePhotonShape\r\n",
      "cards_map_2017.json\t     N6_PhotonPT20_FakePhotonShape\r\n",
      "cards_map_2018.json\t     Plot_asimov.ipynb\r\n",
      "cards_map_fullrun2.json      plot_asimov.py\r\n",
      "combine_CR_shape_16.csv      Plot_test.ipynb\r\n",
      "combine_CR_shape_17.csv      postfit_2018.pdf\r\n",
      "combine_CR_shape_18.csv      postfit_2018.png\r\n",
      "Combine_help_shape.py\t     prefit_2018.pdf\r\n",
      "combine_logger.out\t     prefit_2018.png\r\n",
      "combine_shape_16.json\t     pre_post_fit.py\r\n",
      "combine_shape_17.json\t     __pycache__\r\n",
      "combine_shape_18.json\t     ratio.py\r\n",
      "combine_shape_fullrun2.json  ratio.pyc\r\n",
      "combine_SR_shape_16.csv      Standard_results_beforePrV\r\n",
      "combine_SR_shape_17.csv      store\r\n",
      "combine_SR_shape_18.csv      tdr.py\r\n",
      "combine_SR_shape_18_org.csv  tdr.pyc\r\n",
      "data_open_231030\t     test_breakdown\r\n",
      "freezed\t\t\t     test.sh\r\n",
      "freezed_data\r\n"
     ]
    }
   ],
   "source": [
    "!ls"
   ]
  }
 ],
 "metadata": {
  "@webio": {
   "lastCommId": null,
   "lastKernelId": null
  },
  "kernelspec": {
   "display_name": "Python 3",
   "language": "python",
   "name": "python3"
  },
  "language_info": {
   "codemirror_mode": {
    "name": "ipython",
    "version": 3
   },
   "file_extension": ".py",
   "mimetype": "text/x-python",
   "name": "python",
   "nbconvert_exporter": "python",
   "pygments_lexer": "ipython3",
   "version": "3.9.12"
  }
 },
 "nbformat": 4,
 "nbformat_minor": 5
}
