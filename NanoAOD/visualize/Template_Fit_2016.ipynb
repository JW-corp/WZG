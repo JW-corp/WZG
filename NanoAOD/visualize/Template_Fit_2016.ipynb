{
 "cells": [
  {
   "cell_type": "code",
   "execution_count": 1,
   "id": "ac7c13cf",
   "metadata": {
    "scrolled": true
   },
   "outputs": [
    {
     "name": "stderr",
     "output_type": "stream",
     "text": [
      "/cvmfs/sft.cern.ch/lcg/views/LCG_101swan/x86_64-centos7-gcc8-opt/lib/python3.9/site-packages/uproot3/__init__.py:127: FutureWarning: Consider switching from 'uproot3' to 'uproot', since the new interface became the default in 2020.\n",
      "\n",
      "    pip install -U uproot\n",
      "\n",
      "In Python:\n",
      "\n",
      "    >>> import uproot\n",
      "    >>> with uproot.open(...) as file:\n",
      "    ...\n",
      "\n",
      "  warnings.warn(\n",
      "/cvmfs/sft.cern.ch/lcg/views/LCG_101swan/x86_64-centos7-gcc8-opt/lib/python3.9/site-packages/awkward0/__init__.py:12: FutureWarning: Consider switching from 'awkward0' to 'awkward', since the new interface became the default in 2020.\n",
      "\n",
      "    pip install -U awkward\n",
      "\n",
      "In Python:\n",
      "\n",
      "    >>> import awkward as ak\n",
      "    >>> new_style_array = ak.from_awkward0(old_style_array)\n",
      "    >>> old_style_array = ak.to_awkward0(new_style_array)\n",
      "\n",
      "  warnings.warn(\n"
     ]
    },
    {
     "name": "stdout",
     "output_type": "stream",
     "text": [
      "Welcome to JupyROOT 6.24/06\n"
     ]
    }
   ],
   "source": [
    "import matplotlib\n",
    "import uproot, uproot3\n",
    "import numpy\n",
    "import awkward\n",
    "import numba\n",
    "import numpy as np\n",
    "import matplotlib.pyplot as plt\n",
    "import mplhep as hep\n",
    "import pandas as pd\n",
    "from tqdm import trange\n",
    "import ROOT\n",
    "import os,sys\n",
    "from array import array\n",
    "import pickle\n",
    "\n",
    "from Lumi import *\n",
    "from Ratio_Plot import *\n",
    "from TDR_Style import *"
   ]
  },
  {
   "cell_type": "code",
   "execution_count": 2,
   "id": "fa20c846",
   "metadata": {},
   "outputs": [
    {
     "data": {
      "text/plain": [
       "'4.0.1'"
      ]
     },
     "execution_count": 2,
     "metadata": {},
     "output_type": "execute_result"
    }
   ],
   "source": [
    "uproot.__version__"
   ]
  },
  {
   "cell_type": "markdown",
   "id": "0b4debf8",
   "metadata": {},
   "source": [
    "## 1. Make template"
   ]
  },
  {
   "cell_type": "code",
   "execution_count": 3,
   "id": "3faf99a6",
   "metadata": {},
   "outputs": [],
   "source": [
    "def AddHist_data(file, hist, ptrange, isbarrel,closure=False,xsec=1,lumi=1):\n",
    "\n",
    "\n",
    "    if 'MuonEG_Run2016H' in file:\n",
    "        branches = uproot.open(file+':Events').arrays([\n",
    "                    'channel_mark'\n",
    "                    ,'HLT_Ele27_WPTight_Gsf'\n",
    "                    ,'HLT_IsoTkMu24'\n",
    "                    ,'HLT_IsoMu24'\n",
    "                    ,'HLT_Mu17_TrkIsoVVL_Mu8_TrkIsoVVL'\n",
    "                    ,'HLT_Mu17_TrkIsoVVL_TkMu8_TrkIsoVVL'\n",
    "                    ,'HLT_Mu17_TrkIsoVVL_Mu8_TrkIsoVVL_DZ'\n",
    "                    ,'HLT_Mu17_TrkIsoVVL_TkMu8_TrkIsoVVL_DZ'\n",
    "                    ,'HLT_Mu8_TrkIsoVVL_Ele23_CaloIdL_TrackIdL_IsoVL'\n",
    "                    ,'HLT_Mu23_TrkIsoVVL_Ele8_CaloIdL_TrackIdL_IsoVL'\n",
    "                    ,'HLT_Mu8_TrkIsoVVL_Ele23_CaloIdL_TrackIdL_IsoVL_DZ'\n",
    "                    ,'HLT_Mu23_TrkIsoVVL_Ele8_CaloIdL_TrackIdL_IsoVL_DZ'\n",
    "                    ,'HLT_Ele23_Ele12_CaloIdL_TrackIdL_IsoVL_DZ'\n",
    "                    ,'More_than_three_tight_lep'\n",
    "                    ,'photon_sieie'\n",
    "                    ,'photon_vidNestedWPBitmap'\n",
    "                    ,'photon_eta'\n",
    "                    ,'photon_pt'\n",
    "                    ,'photon_pfRelIso03_chg'], library='pd')\n",
    "    \n",
    "    else:\n",
    "        branches = uproot.open(file+':Events').arrays([\n",
    "                    'channel_mark'\n",
    "                    ,'HLT_Ele27_WPTight_Gsf'\n",
    "                    ,'HLT_IsoTkMu24'\n",
    "                    ,'HLT_IsoMu24'\n",
    "                    ,'HLT_Mu17_TrkIsoVVL_Mu8_TrkIsoVVL'\n",
    "                    ,'HLT_Mu17_TrkIsoVVL_TkMu8_TrkIsoVVL'\n",
    "                    ,'HLT_Mu17_TrkIsoVVL_Mu8_TrkIsoVVL_DZ'\n",
    "                    ,'HLT_Mu17_TrkIsoVVL_TkMu8_TrkIsoVVL_DZ'\n",
    "                    ,'HLT_Mu8_TrkIsoVVL_Ele23_CaloIdL_TrackIdL_IsoVL'\n",
    "                    ,'HLT_Mu23_TrkIsoVVL_Ele8_CaloIdL_TrackIdL_IsoVL'\n",
    "                    ,'HLT_Ele23_Ele12_CaloIdL_TrackIdL_IsoVL_DZ'\n",
    "                    ,'More_than_three_tight_lep'\n",
    "                    ,'photon_sieie'\n",
    "                    ,'photon_vidNestedWPBitmap'\n",
    "                    ,'photon_eta'\n",
    "                    ,'photon_pt'\n",
    "                    ,'photon_pfRelIso03_chg'], library='pd')        \n",
    "        \n",
    "\n",
    "     # Single Electron HLT\n",
    "    HLT_SingleElectron = branches.loc[:,'HLT_Ele27_WPTight_Gsf'] == True\n",
    "\n",
    "    # DoubleEG HLT\n",
    "    HLT_DoubleEG = branches.loc[:,'HLT_Ele23_Ele12_CaloIdL_TrackIdL_IsoVL_DZ'] == True\n",
    "\n",
    "    # Single MuonHLT\n",
    "    HLT_SingleMuon1 = branches.loc[:,'HLT_IsoTkMu24'] == True\n",
    "    HLT_SingleMuon2 = branches.loc[:,'HLT_IsoMu24'] == True\n",
    "    comb_HLT_SingleMuon  = (HLT_SingleMuon1 | HLT_SingleMuon2)\n",
    "\n",
    "    # Double Muon HLT\n",
    "    HLT_DoubleMuon1 = branches.loc[:,'HLT_Mu17_TrkIsoVVL_Mu8_TrkIsoVVL'] == True\n",
    "    HLT_DoubleMuon2 = branches.loc[:,'HLT_Mu17_TrkIsoVVL_TkMu8_TrkIsoVVL'] == True\n",
    "    HLT_DoubleMuon3 = branches.loc[:,'HLT_Mu17_TrkIsoVVL_Mu8_TrkIsoVVL_DZ'] == True\n",
    "    HLT_DoubleMuon4 = branches.loc[:,'HLT_Mu17_TrkIsoVVL_TkMu8_TrkIsoVVL_DZ'] == True\n",
    "    if 'DoubleMuon_Run2016H'in file:\n",
    "        comb_HLT_DoubleMuon = (HLT_DoubleMuon3 | HLT_DoubleMuon4)\n",
    "    elif 'DoubleMuon_Run2016' in file:\n",
    "        comb_HLT_DoubleMuon = (HLT_DoubleMuon1 | HLT_DoubleMuon2)\n",
    "    else:\n",
    "        comb_HLT_DoubleMuon = (HLT_DoubleMuon1 | HLT_DoubleMuon2) | (HLT_DoubleMuon3 | HLT_DoubleMuon4)\n",
    "\n",
    "    # MuonEG HLT\n",
    "    HLT_MuonEG1 = branches.loc[:,'HLT_Mu8_TrkIsoVVL_Ele23_CaloIdL_TrackIdL_IsoVL'] == True\n",
    "    HLT_MuonEG2 = branches.loc[:,'HLT_Mu23_TrkIsoVVL_Ele8_CaloIdL_TrackIdL_IsoVL'] == True\n",
    "\n",
    "\n",
    "    if 'MuonEG_Run2016H' in file:\n",
    "        HLT_MuonEG3 = branches.loc[:,'HLT_Mu8_TrkIsoVVL_Ele23_CaloIdL_TrackIdL_IsoVL_DZ'] == True\n",
    "        HLT_MuonEG4 = branches.loc[:,'HLT_Mu23_TrkIsoVVL_Ele8_CaloIdL_TrackIdL_IsoVL_DZ'] == True\n",
    "        comb_HLT_MuonEG = (HLT_MuonEG1 | HLT_MuonEG2) | (HLT_MuonEG3 | HLT_MuonEG4)\n",
    "    else:\n",
    "        comb_HLT_MuonEG = (HLT_MuonEG1 | HLT_MuonEG2)\n",
    "\n",
    "    print('before trigger',len(branches))\n",
    "    # Apply trigger\n",
    "    if 'SingleMuon' in file:\n",
    "        print('SingleMuon trigger')\n",
    "        arrays = branches.loc[comb_HLT_SingleMuon , :].copy()\n",
    "    elif 'DoubleMuon' in file:\n",
    "        print('DoubleMuon trigger')\n",
    "        arrays = branches.loc[~comb_HLT_SingleMuon & comb_HLT_DoubleMuon, :].copy()\n",
    "    elif 'SingleElectron' in file:\n",
    "        print('SingleElectron trigger')\n",
    "        arrays = branches.loc[~comb_HLT_SingleMuon & ~comb_HLT_DoubleMuon &   HLT_SingleElectron ,:].copy()\n",
    "    elif 'MuonEG' in file:\n",
    "        print('MuonEG Trigger')\n",
    "        arrays = branches.loc[~comb_HLT_SingleMuon & ~comb_HLT_DoubleMuon &  ~HLT_SingleElectron & comb_HLT_MuonEG,:].copy()\n",
    "    elif 'DoubleEG' in file:\n",
    "        print('DoubleEG trigger')\n",
    "        arrays = branches.loc[~comb_HLT_SingleMuon & ~comb_HLT_DoubleMuon &  ~HLT_SingleElectron & ~comb_HLT_MuonEG & HLT_DoubleEG,:].copy()\n",
    "        \n",
    "    else:\n",
    "        print('isMC')\n",
    "        arrays = branches.loc[comb_HLT_SingleMuon | comb_HLT_DoubleMuon | comb_HLT_MuonEG | HLT_SingleElectron |  HLT_DoubleEG ,:].copy()\n",
    "    print('after trigger',len(arrays))\n",
    "    \n",
    "    if isbarrel == 1:\n",
    "        eta_cut = abs(arrays.loc[:,'photon_eta']) < 1.4442\n",
    "#         chg_cut = (arrays.loc[:,'photon_pfRelIso03_chg']*arrays.loc[:,'photon_pt']) < 1.141\n",
    "    elif isbarrel == 0:\n",
    "        eta_cut = abs((arrays.loc[:,'photon_eta']) > 1.566) & abs((arrays.loc[:,'photon_eta']) < 2.5)\n",
    "#         chg_cut = (arrays.loc[:,'photon_pfRelIso03_chg']*arrays.loc[:,'photon_pt']) < 1.051\n",
    "        \n",
    "    mask_mediumID_withoutsieie = (1<<1) | (1<<3) | (1<<5) | (1<<9) | (1<<11) | (1<<13)\n",
    "    arrays['mediumID'] = arrays['photon_vidNestedWPBitmap'] & mask_mediumID_withoutsieie\n",
    "    arrays = arrays.loc[arrays.loc[:,'mediumID'] == mask_mediumID_withoutsieie, :]\n",
    "    \n",
    "        \n",
    "    if ptrange[1] == -1:\n",
    "        pt_cut = (arrays.loc[:,'photon_pt'] >= ptrange[0])\n",
    "    else:\n",
    "        pt_cut = (arrays.loc[:,'photon_pt'] >= ptrange[0]) & (arrays.loc[:,'photon_pt'] < ptrange[1]) \n",
    "        \n",
    "    arrays = arrays.loc[pt_cut & eta_cut,:]\n",
    "\n",
    "    for i in trange(0, len(arrays['photon_sieie']), desc=f'fill sigma ieta ieta for {file}'):\n",
    "        hist.Fill(float(arrays['photon_sieie'].values[i]))\n",
    "    \n",
    "    \n",
    "def AddHist_mcTruth(file, hist, ptrange, isbarrel, xsec, lumi):\n",
    "    branches = uproot.open(file+':Events').arrays([\n",
    "                    'channel_mark'\n",
    "                    ,'HLT_Ele27_WPTight_Gsf'\n",
    "                    ,'HLT_IsoTkMu24'\n",
    "                    ,'HLT_IsoMu24'\n",
    "                    ,'HLT_Mu17_TrkIsoVVL_Mu8_TrkIsoVVL'\n",
    "                    ,'HLT_Mu17_TrkIsoVVL_TkMu8_TrkIsoVVL'\n",
    "                    ,'HLT_Mu17_TrkIsoVVL_Mu8_TrkIsoVVL_DZ'\n",
    "                    ,'HLT_Mu17_TrkIsoVVL_TkMu8_TrkIsoVVL_DZ'\n",
    "                    ,'HLT_Mu8_TrkIsoVVL_Ele23_CaloIdL_TrackIdL_IsoVL'\n",
    "                    ,'HLT_Mu23_TrkIsoVVL_Ele8_CaloIdL_TrackIdL_IsoVL'\n",
    "                    ,'HLT_Ele23_Ele12_CaloIdL_TrackIdL_IsoVL_DZ'\n",
    "                    ,'More_than_three_tight_lep'\n",
    "                    ,'photon_sieie'\n",
    "                    ,'photon_vidNestedWPBitmap'\n",
    "                    ,'photon_eta'\n",
    "                    ,'photon_pt'\n",
    "                    ,'photon_pfRelIso03_chg'\n",
    "                    ,'photon_genPartFlav'\n",
    "                    ,'Generator_weight'\n",
    "                    ,'puWeight'], library='pd')   \n",
    "    true_events = uproot.open(file)['nEventsGenWeighted'].values()[0]\n",
    "    \n",
    "     # Single Electron HLT\n",
    "    HLT_SingleElectron = branches.loc[:,'HLT_Ele27_WPTight_Gsf'] == True\n",
    "\n",
    "    # DoubleEG HLT\n",
    "    HLT_DoubleEG = branches.loc[:,'HLT_Ele23_Ele12_CaloIdL_TrackIdL_IsoVL_DZ'] == True\n",
    "\n",
    "    # Single MuonHLT\n",
    "    HLT_SingleMuon1 = branches.loc[:,'HLT_IsoTkMu24'] == True\n",
    "    HLT_SingleMuon2 = branches.loc[:,'HLT_IsoMu24'] == True\n",
    "    comb_HLT_SingleMuon  = (HLT_SingleMuon1 | HLT_SingleMuon2)\n",
    "\n",
    "    # Double Muon HLT\n",
    "    HLT_DoubleMuon1 = branches.loc[:,'HLT_Mu17_TrkIsoVVL_Mu8_TrkIsoVVL'] == True\n",
    "    HLT_DoubleMuon2 = branches.loc[:,'HLT_Mu17_TrkIsoVVL_TkMu8_TrkIsoVVL'] == True\n",
    "    HLT_DoubleMuon3 = branches.loc[:,'HLT_Mu17_TrkIsoVVL_Mu8_TrkIsoVVL_DZ'] == True\n",
    "    HLT_DoubleMuon4 = branches.loc[:,'HLT_Mu17_TrkIsoVVL_TkMu8_TrkIsoVVL_DZ'] == True\n",
    "    if 'DoubleMuon_Run2016H'in file:\n",
    "        comb_HLT_DoubleMuon = (HLT_DoubleMuon3 | HLT_DoubleMuon4)\n",
    "    elif 'DoubleMuon_Run2016' in file:\n",
    "        comb_HLT_DoubleMuon = (HLT_DoubleMuon1 | HLT_DoubleMuon2)\n",
    "    else:\n",
    "        comb_HLT_DoubleMuon = (HLT_DoubleMuon1 | HLT_DoubleMuon2) | (HLT_DoubleMuon3 | HLT_DoubleMuon4)\n",
    "\n",
    "    # MuonEG HLT\n",
    "    HLT_MuonEG1 = branches.loc[:,'HLT_Mu8_TrkIsoVVL_Ele23_CaloIdL_TrackIdL_IsoVL'] == True\n",
    "    HLT_MuonEG2 = branches.loc[:,'HLT_Mu23_TrkIsoVVL_Ele8_CaloIdL_TrackIdL_IsoVL'] == True\n",
    "\n",
    "\n",
    "    if 'MuonEG_Run2016H' in file:\n",
    "        HLT_MuonEG3 = branches.loc[:,'HLT_Mu8_TrkIsoVVL_Ele23_CaloIdL_TrackIdL_IsoVL_DZ'] == True\n",
    "        HLT_MuonEG4 = branches.loc[:,'HLT_Mu23_TrkIsoVVL_Ele8_CaloIdL_TrackIdL_IsoVL_DZ'] == True\n",
    "        comb_HLT_MuonEG = (HLT_MuonEG1 | HLT_MuonEG2) | (HLT_MuonEG3 | HLT_MuonEG4)\n",
    "    else:\n",
    "        comb_HLT_MuonEG = (HLT_MuonEG1 | HLT_MuonEG2)\n",
    "        \n",
    "\n",
    "    arrays = branches.loc[comb_HLT_SingleMuon | comb_HLT_DoubleMuon | comb_HLT_MuonEG | HLT_SingleElectron |  HLT_DoubleEG ,:].copy()\n",
    "    \n",
    "    if isbarrel == 1:\n",
    "        eta_cut = abs(arrays.loc[:,'photon_eta']) < 1.4442\n",
    "    elif isbarrel == 0:\n",
    "        eta_cut = abs((arrays.loc[:,'photon_eta']) > 1.566) & abs((arrays.loc[:,'photon_eta']) < 2.5)\n",
    "        \n",
    "    mask_mediumID_withoutsieie = (1<<1) | (1<<3) | (1<<5) | (1<<9) | (1<<11) | (1<<13)\n",
    "    arrays['mediumID'] = arrays['photon_vidNestedWPBitmap'] & mask_mediumID_withoutsieie\n",
    "    arrays = arrays.loc[arrays.loc[:,'mediumID'] == mask_mediumID_withoutsieie, :]\n",
    "    \n",
    "    \n",
    "    if ptrange[1] == -1:\n",
    "        pt_cut = (arrays.loc[:,'photon_pt'] >= ptrange[0])\n",
    "    else:\n",
    "        pt_cut = (arrays.loc[:,'photon_pt'] >= ptrange[0]) & (arrays.loc[:,'photon_pt'] < ptrange[1]) \n",
    "    gen_cut = arrays.loc[:,'photon_genPartFlav'] != 0\n",
    "    arrays = arrays.loc[pt_cut & eta_cut  & gen_cut,:]\n",
    "    \n",
    "    arrays['Generator_weight_sgn'] = arrays['Generator_weight'].apply(lambda x: 1 if x >= 0 else -1)\n",
    "    arrays['true_weight'] = lumi * xsec * 1000 * arrays['puWeight'] * arrays['Generator_weight_sgn'] / true_events\n",
    "    \n",
    "    for i in trange(0, len(arrays['photon_sieie']), desc=f'fill sigma ieta ieta for {file}'):\n",
    "        hist.Fill(float(arrays['photon_sieie'].values[i]), float(arrays['true_weight'].values[i]))\n",
    "        \n",
    "    \n",
    "def AddHist_dataFake(file, hist, ptrange, isbarrel,sb,closure=False,xsec=1,lumi=1):\n",
    "    \n",
    "    \n",
    "    if 'MuonEG_Run2016H' in file:\n",
    "        branches = uproot.open(file+':Events').arrays([\n",
    "                    'channel_mark'\n",
    "                    ,'HLT_Ele27_WPTight_Gsf'\n",
    "                    ,'HLT_IsoTkMu24'\n",
    "                    ,'HLT_IsoMu24'\n",
    "                    ,'HLT_Mu17_TrkIsoVVL_Mu8_TrkIsoVVL'\n",
    "                    ,'HLT_Mu17_TrkIsoVVL_TkMu8_TrkIsoVVL'\n",
    "                    ,'HLT_Mu17_TrkIsoVVL_Mu8_TrkIsoVVL_DZ'\n",
    "                    ,'HLT_Mu17_TrkIsoVVL_TkMu8_TrkIsoVVL_DZ'\n",
    "                    ,'HLT_Mu8_TrkIsoVVL_Ele23_CaloIdL_TrackIdL_IsoVL'\n",
    "                    ,'HLT_Mu23_TrkIsoVVL_Ele8_CaloIdL_TrackIdL_IsoVL'\n",
    "                    ,'HLT_Mu8_TrkIsoVVL_Ele23_CaloIdL_TrackIdL_IsoVL_DZ'\n",
    "                    ,'HLT_Mu23_TrkIsoVVL_Ele8_CaloIdL_TrackIdL_IsoVL_DZ'\n",
    "                    ,'HLT_Ele23_Ele12_CaloIdL_TrackIdL_IsoVL_DZ'\n",
    "                    ,'More_than_three_tight_lep'\n",
    "                    ,'photon_sieie'\n",
    "                    ,'photon_vidNestedWPBitmap'\n",
    "                    ,'photon_eta'\n",
    "                    ,'photon_pt'\n",
    "                    ,'photon_pfRelIso03_chg'], library='pd')\n",
    "    \n",
    "    else:\n",
    "        branches = uproot.open(file+':Events').arrays([\n",
    "                    'channel_mark'\n",
    "                    ,'HLT_Ele27_WPTight_Gsf'\n",
    "                    ,'HLT_IsoTkMu24'\n",
    "                    ,'HLT_IsoMu24'\n",
    "                    ,'HLT_Mu17_TrkIsoVVL_Mu8_TrkIsoVVL'\n",
    "                    ,'HLT_Mu17_TrkIsoVVL_TkMu8_TrkIsoVVL'\n",
    "                    ,'HLT_Mu17_TrkIsoVVL_Mu8_TrkIsoVVL_DZ'\n",
    "                    ,'HLT_Mu17_TrkIsoVVL_TkMu8_TrkIsoVVL_DZ'\n",
    "                    ,'HLT_Mu8_TrkIsoVVL_Ele23_CaloIdL_TrackIdL_IsoVL'\n",
    "                    ,'HLT_Mu23_TrkIsoVVL_Ele8_CaloIdL_TrackIdL_IsoVL'\n",
    "                    ,'HLT_Ele23_Ele12_CaloIdL_TrackIdL_IsoVL_DZ'\n",
    "                    ,'More_than_three_tight_lep'\n",
    "                    ,'photon_sieie'\n",
    "                    ,'photon_vidNestedWPBitmap'\n",
    "                    ,'photon_eta'\n",
    "                    ,'photon_pt'\n",
    "                    ,'photon_pfRelIso03_chg'], library='pd')      \n",
    "    \n",
    "     # Single Electron HLT\n",
    "    HLT_SingleElectron = branches.loc[:,'HLT_Ele27_WPTight_Gsf'] == True\n",
    "\n",
    "    # DoubleEG HLT\n",
    "    HLT_DoubleEG = branches.loc[:,'HLT_Ele23_Ele12_CaloIdL_TrackIdL_IsoVL_DZ'] == True\n",
    "\n",
    "    # Single MuonHLT\n",
    "    HLT_SingleMuon1 = branches.loc[:,'HLT_IsoTkMu24'] == True\n",
    "    HLT_SingleMuon2 = branches.loc[:,'HLT_IsoMu24'] == True\n",
    "    comb_HLT_SingleMuon  = (HLT_SingleMuon1 | HLT_SingleMuon2)\n",
    "\n",
    "    # Double Muon HLT\n",
    "    HLT_DoubleMuon1 = branches.loc[:,'HLT_Mu17_TrkIsoVVL_Mu8_TrkIsoVVL'] == True\n",
    "    HLT_DoubleMuon2 = branches.loc[:,'HLT_Mu17_TrkIsoVVL_TkMu8_TrkIsoVVL'] == True\n",
    "    HLT_DoubleMuon3 = branches.loc[:,'HLT_Mu17_TrkIsoVVL_Mu8_TrkIsoVVL_DZ'] == True\n",
    "    HLT_DoubleMuon4 = branches.loc[:,'HLT_Mu17_TrkIsoVVL_TkMu8_TrkIsoVVL_DZ'] == True\n",
    "    if 'DoubleMuon_Run2016H'in file:\n",
    "        comb_HLT_DoubleMuon = (HLT_DoubleMuon3 | HLT_DoubleMuon4)\n",
    "    elif 'DoubleMuon_Run2016' in file:\n",
    "        comb_HLT_DoubleMuon = (HLT_DoubleMuon1 | HLT_DoubleMuon2)\n",
    "    else:\n",
    "        comb_HLT_DoubleMuon = (HLT_DoubleMuon1 | HLT_DoubleMuon2) | (HLT_DoubleMuon3 | HLT_DoubleMuon4)\n",
    "\n",
    "    # MuonEG HLT\n",
    "    HLT_MuonEG1 = branches.loc[:,'HLT_Mu8_TrkIsoVVL_Ele23_CaloIdL_TrackIdL_IsoVL'] == True\n",
    "    HLT_MuonEG2 = branches.loc[:,'HLT_Mu23_TrkIsoVVL_Ele8_CaloIdL_TrackIdL_IsoVL'] == True\n",
    "\n",
    "\n",
    "    if 'MuonEG_Run2016H' in file:\n",
    "        HLT_MuonEG3 = branches.loc[:,'HLT_Mu8_TrkIsoVVL_Ele23_CaloIdL_TrackIdL_IsoVL_DZ'] == True\n",
    "        HLT_MuonEG4 = branches.loc[:,'HLT_Mu23_TrkIsoVVL_Ele8_CaloIdL_TrackIdL_IsoVL_DZ'] == True\n",
    "        comb_HLT_MuonEG = (HLT_MuonEG1 | HLT_MuonEG2) | (HLT_MuonEG3 | HLT_MuonEG4)\n",
    "    else:\n",
    "        comb_HLT_MuonEG = (HLT_MuonEG1 | HLT_MuonEG2)\n",
    "\n",
    "    \n",
    "    # Apply trigger\n",
    "    if 'SingleMuon' in file:\n",
    "        arrays = branches.loc[comb_HLT_SingleMuon , :].copy()\n",
    "    elif 'DoubleMuon' in file:\n",
    "        arrays = branches.loc[~comb_HLT_SingleMuon & comb_HLT_DoubleMuon, :].copy()\n",
    "    elif 'SingleElectron' in file:\n",
    "        arrays = branches.loc[~comb_HLT_SingleMuon & ~comb_HLT_DoubleMuon &   HLT_SingleElectron ,:].copy()\n",
    "    elif 'MuonEG' in file:\n",
    "        arrays = branches.loc[~comb_HLT_SingleMuon & ~comb_HLT_DoubleMuon &  ~HLT_SingleElectron & comb_HLT_MuonEG,:].copy()\n",
    "    elif 'DoubleEG' in file:\n",
    "        arrays = branches.loc[~comb_HLT_SingleMuon & ~comb_HLT_DoubleMuon &  ~HLT_SingleElectron & ~comb_HLT_MuonEG & HLT_DoubleEG,:].copy()\n",
    "    else:\n",
    "        arrays = branches.loc[comb_HLT_SingleMuon | comb_HLT_DoubleMuon | comb_HLT_MuonEG | HLT_SingleElectron |  HLT_DoubleEG ,:].copy()\n",
    "\n",
    "        \n",
    "    if isbarrel == 1:\n",
    "        eta_cut = abs(arrays.loc[:,'photon_eta']) < 1.4442\n",
    "    elif isbarrel == 0:\n",
    "        eta_cut = abs((arrays.loc[:,'photon_eta']) > 1.566) & abs((arrays.loc[:,'photon_eta']) < 2.5)\n",
    "        \n",
    "    chg_cut = ((arrays.loc[:,\"photon_pfRelIso03_chg\"]*arrays.loc[:,\"photon_pt\"]) > sb[0]) & ((arrays.loc[:,\"photon_pfRelIso03_chg\"]*arrays.loc[:,\"photon_pt\"]) < sb[1])\n",
    "    \n",
    "    if ptrange[1] == -1:\n",
    "        pt_cut = (arrays.loc[:,'photon_pt'] >= ptrange[0])        \n",
    "    else:\n",
    "        pt_cut = (arrays.loc[:,'photon_pt'] >= ptrange[0]) & (arrays.loc[:,'photon_pt'] < ptrange[1])\n",
    "            \n",
    "    arrays = arrays.loc[pt_cut & eta_cut & chg_cut ,:]\n",
    "    for i in trange(0, len(arrays['photon_sieie']), desc=f'fill sigma ieta ieta for {file}'):\n",
    "        hist.Fill(float(arrays['photon_sieie'].values[i]))\n",
    "        \n",
    "    "
   ]
  },
  {
   "cell_type": "markdown",
   "id": "8b6edcbc",
   "metadata": {},
   "source": [
    "## 2. Helper function"
   ]
  },
  {
   "cell_type": "code",
   "execution_count": 4,
   "id": "29dfe7b1",
   "metadata": {},
   "outputs": [],
   "source": [
    "def check_isbarrel(ptrange):\n",
    "    if ptrange[-1]  == 0:\n",
    "        return False\n",
    "    else:\n",
    "        return True\n",
    "\n",
    "    \n",
    "def set_xrange(isbarrel):\n",
    "    xleft=0\n",
    "    xright=0\n",
    "    \n",
    "    if isbarrel:\n",
    "        xleft  = 0.006\n",
    "        xright = 0.02\n",
    "    else:\n",
    "        xleft  = 0.01\n",
    "        xright = 0.06\n",
    "    return xleft,xright\n",
    "\n",
    "def set_sieie_limit(isbarrel):\n",
    "    isEB_sieie = 0.01015\n",
    "    isEE_sieie = 0.0326\n",
    "\n",
    "    if isbarrel:\n",
    "        return 0.01015\n",
    "    else:\n",
    "        return 0.0326"
   ]
  },
  {
   "cell_type": "markdown",
   "id": "d87f7784",
   "metadata": {},
   "source": [
    "## 3. Define input data"
   ]
  },
  {
   "cell_type": "code",
   "execution_count": 5,
   "id": "5fda1a64",
   "metadata": {},
   "outputs": [],
   "source": [
    "xbins =25\n",
    "\n",
    "\n",
    "closure_dict={\n",
    "    \"from_4_to_10\":[4,10]\n",
    "}\n",
    "\n",
    "filelist_data = [\n",
    "    \"/eos/home-j/jiwoong/WZG_DB/2016/pre_post_separated_220209/FakePhoton/CR/merged/DoubleEG_Run2016B.root\"\n",
    "    ,\"/eos/home-j/jiwoong/WZG_DB/2016/pre_post_separated_220209/FakePhoton/CR/merged/DoubleEG_Run2016C.root\"\n",
    "    ,\"/eos/home-j/jiwoong/WZG_DB/2016/pre_post_separated_220209/FakePhoton/CR/merged/DoubleEG_Run2016D.root\"\n",
    "    ,\"/eos/home-j/jiwoong/WZG_DB/2016/pre_post_separated_220209/FakePhoton/CR/merged/DoubleEG_Run2016E.root\"\n",
    "    ,\"/eos/home-j/jiwoong/WZG_DB/2016/pre_post_separated_220209/FakePhoton/CR/merged/DoubleEG_Run2016F.root\"\n",
    "    ,\"/eos/home-j/jiwoong/WZG_DB/2016/pre_post_separated_220209/FakePhoton/CR/merged/DoubleEG_Run2016G.root\"\n",
    "    ,\"/eos/home-j/jiwoong/WZG_DB/2016/pre_post_separated_220209/FakePhoton/CR/merged/DoubleEG_Run2016H.root\"\n",
    "    ,\"/eos/home-j/jiwoong/WZG_DB/2016/pre_post_separated_220209/FakePhoton/CR/merged/DoubleMuon_Run2016B.root\"\n",
    "    ,\"/eos/home-j/jiwoong/WZG_DB/2016/pre_post_separated_220209/FakePhoton/CR/merged/DoubleMuon_Run2016C.root\"\n",
    "    ,\"/eos/home-j/jiwoong/WZG_DB/2016/pre_post_separated_220209/FakePhoton/CR/merged/DoubleMuon_Run2016D.root\"\n",
    "    ,\"/eos/home-j/jiwoong/WZG_DB/2016/pre_post_separated_220209/FakePhoton/CR/merged/DoubleMuon_Run2016E.root\"\n",
    "    ,\"/eos/home-j/jiwoong/WZG_DB/2016/pre_post_separated_220209/FakePhoton/CR/merged/DoubleMuon_Run2016F.root\"\n",
    "    ,\"/eos/home-j/jiwoong/WZG_DB/2016/pre_post_separated_220209/FakePhoton/CR/merged/DoubleMuon_Run2016G.root\"\n",
    "    ,\"/eos/home-j/jiwoong/WZG_DB/2016/pre_post_separated_220209/FakePhoton/CR/merged/DoubleMuon_Run2016H.root\"\n",
    "    ,\"/eos/home-j/jiwoong/WZG_DB/2016/pre_post_separated_220209/FakePhoton/CR/merged/MuonEG_Run2016B.root\"\n",
    "    ,\"/eos/home-j/jiwoong/WZG_DB/2016/pre_post_separated_220209/FakePhoton/CR/merged/MuonEG_Run2016C.root\"\n",
    "    ,\"/eos/home-j/jiwoong/WZG_DB/2016/pre_post_separated_220209/FakePhoton/CR/merged/MuonEG_Run2016D.root\"\n",
    "    ,\"/eos/home-j/jiwoong/WZG_DB/2016/pre_post_separated_220209/FakePhoton/CR/merged/MuonEG_Run2016E.root\"\n",
    "    ,\"/eos/home-j/jiwoong/WZG_DB/2016/pre_post_separated_220209/FakePhoton/CR/merged/MuonEG_Run2016F.root\"\n",
    "    ,\"/eos/home-j/jiwoong/WZG_DB/2016/pre_post_separated_220209/FakePhoton/CR/merged/MuonEG_Run2016G.root\"\n",
    "    ,\"/eos/home-j/jiwoong/WZG_DB/2016/pre_post_separated_220209/FakePhoton/CR/merged/MuonEG_Run2016H.root\"\n",
    "    ,\"/eos/home-j/jiwoong/WZG_DB/2016/pre_post_separated_220209/FakePhoton/CR/merged/SingleElectron_Run2016B.root\"\n",
    "    ,\"/eos/home-j/jiwoong/WZG_DB/2016/pre_post_separated_220209/FakePhoton/CR/merged/SingleElectron_Run2016C.root\"\n",
    "    ,\"/eos/home-j/jiwoong/WZG_DB/2016/pre_post_separated_220209/FakePhoton/CR/merged/SingleElectron_Run2016D.root\"\n",
    "    ,\"/eos/home-j/jiwoong/WZG_DB/2016/pre_post_separated_220209/FakePhoton/CR/merged/SingleElectron_Run2016E.root\"\n",
    "    ,\"/eos/home-j/jiwoong/WZG_DB/2016/pre_post_separated_220209/FakePhoton/CR/merged/SingleElectron_Run2016F.root\"\n",
    "    ,\"/eos/home-j/jiwoong/WZG_DB/2016/pre_post_separated_220209/FakePhoton/CR/merged/SingleElectron_Run2016G.root\"\n",
    "    ,\"/eos/home-j/jiwoong/WZG_DB/2016/pre_post_separated_220209/FakePhoton/CR/merged/SingleElectron_Run2016H.root\"\n",
    "    ,\"/eos/home-j/jiwoong/WZG_DB/2016/pre_post_separated_220209/FakePhoton/CR/merged/SingleMuon_Run2016B.root\"\n",
    "    ,\"/eos/home-j/jiwoong/WZG_DB/2016/pre_post_separated_220209/FakePhoton/CR/merged/SingleMuon_Run2016C.root\"\n",
    "    ,\"/eos/home-j/jiwoong/WZG_DB/2016/pre_post_separated_220209/FakePhoton/CR/merged/SingleMuon_Run2016D.root\"\n",
    "    ,\"/eos/home-j/jiwoong/WZG_DB/2016/pre_post_separated_220209/FakePhoton/CR/merged/SingleMuon_Run2016E.root\"\n",
    "    ,\"/eos/home-j/jiwoong/WZG_DB/2016/pre_post_separated_220209/FakePhoton/CR/merged/SingleMuon_Run2016F.root\"\n",
    "    ,\"/eos/home-j/jiwoong/WZG_DB/2016/pre_post_separated_220209/FakePhoton/CR/merged/SingleMuon_Run2016G.root\"\n",
    "    ,\"/eos/home-j/jiwoong/WZG_DB/2016/pre_post_separated_220209/FakePhoton/CR/merged/SingleMuon_Run2016H.root\"\n",
    "]\n",
    "\n",
    "\n",
    "filelist_MC ={\n",
    "   \"ZGToLLG\":\n",
    "        {\"name\":\"ZGToLLG\",\n",
    "        \"path\":\"/eos/home-j/jiwoong/WZG_DB/2016/pre_post_separated_220209/FakePhoton/CR/merged/ZGToLLG_01J_5f_TuneCP5_13TeV-amcatnloFXFX-pythia8_2016.root\",\n",
    "        \"xsec\":55.48},\n",
    "    \"WZG\":\n",
    "        {\"name\":\"WZG\",\n",
    "        \"path\":\"/eos/home-j/jiwoong/WZG_DB/2016/pre_post_separated_220209/FakePhoton/CR/merged/wza_2016.root\",\n",
    "        \"xsec\":0.0384,\n",
    "        }\n",
    "}\n",
    "\n",
    "\n",
    "pt_dicts={\n",
    "    \"EB_PT1\": [20,30,1],\n",
    "    \"EB_PT2\": [30,50,1],\n",
    "    \"EB_PT3\": [50,80,1],\n",
    "    \"EB_PT4\": [80,120,1],\n",
    "    \"EB_PT5\": [120,-1,1],\n",
    "    \"EE_PT1\": [20,50,0],\n",
    "    \"EE_PT2\": [50,-1,0]\n",
    "}"
   ]
  },
  {
   "cell_type": "markdown",
   "id": "1b65868e",
   "metadata": {},
   "source": [
    "## 4. Feed  data to make template"
   ]
  },
  {
   "cell_type": "code",
   "execution_count": 12,
   "id": "c777b892",
   "metadata": {},
   "outputs": [],
   "source": [
    "def Make_HistDict(template='Fake',xbins=5,closure=False):\n",
    "    if template==\"Fake\":\n",
    "        \n",
    "        # SB loop\n",
    "        fake_hist_dict={}\n",
    "        for sb_name,sb in closure_dict.items():\n",
    "            print(\"start closure: {0}\".format(sb_name))\n",
    "            \n",
    "            # PT loop\n",
    "            pt_bin_hist_dict={}\n",
    "            true_fake_frac_dict = {}\n",
    "            for ptname,ptrange in pt_dicts.items():\n",
    "                print(\"start ptbins: {0}\".format(ptname))\n",
    "                \n",
    "                xleft,xright = set_xrange(ptrange[-1])\n",
    "            \n",
    "                # file loop\n",
    "                hist_datafake = ROOT.TH1F(\"\",\"\",xbins,xleft,xright)\n",
    "                hist_datafake.Sumw2()\n",
    "            \n",
    "                if closure:\n",
    "                    \n",
    "                    sum_prompt_photon = 0\n",
    "                    sum_non_prompt_photon  = 0\n",
    "                    for file in filelist_MC:\n",
    "                        AddHist_dataFake(filelist_MC[file]['path'], hist_datafake, ptrange, ptrange[-1],sb,closure,filelist_MC[file]['xsec'], 35.86)\n",
    "                        \n",
    "                        sieie_val_org = set_sieie_limit(ptrange[-1])\n",
    "                        \n",
    "                        if 'G' in file:\n",
    "                            print(\"Prompt photon sample: {0} weighted evt: {1}\".format(file,hist_datafake.Integral(1,hist_datafake.GetXaxis().FindFixBin(sieie_val_org))))\n",
    "                            sum_prompt_photon += hist_datafake.Integral(1,hist_datafake.GetXaxis().FindFixBin(sieie_val_org))\n",
    "                        else:\n",
    "                            print(\"Non-prompt photon sample: {0} weighted evt: {1}\".format(file,hist_datafake.Integral(1,hist_datafake.GetXaxis().FindFixBin(sieie_val_org))))\n",
    "                            sum_non_prompt_photon += hist_datafake.Integral(1,hist_datafake.GetXaxis().FindFixBin(sieie_val_org))\n",
    "                    \n",
    "                    total_photon             = sum_prompt_photon + sum_non_prompt_photon\n",
    "                    true_fake_fraction       = sum_non_prompt_photon / total_photon\n",
    "                    pt_bin_hist_dict[ptname] = hist_datafake\n",
    "                    true_fake_frac_dict[ptname] = true_fake_fraction\n",
    "                        \n",
    "                else:\n",
    "                    for file in filelist_data:\n",
    "                        AddHist_dataFake(file, hist_datafake, ptrange, ptrange[-1],sb,closure)\n",
    "                    pt_bin_hist_dict[ptname] = hist_datafake\n",
    "                    \n",
    "            if closure:  \n",
    "                fake_hist_dict[sb_name] = {'histo':pt_bin_hist_dict,'true_fake_fraction':true_fake_frac_dict}\n",
    "            else:\n",
    "                fake_hist_dict[sb_name] = pt_bin_hist_dict\n",
    "\n",
    "        return fake_hist_dict\n",
    "\n",
    "    elif template==\"Real\":\n",
    "        \n",
    "        real_hist_dict={}\n",
    "        for ptname,ptrange in pt_dicts.items():\n",
    "            print(\"start ptbins: {0}\".format(ptname))\n",
    "            \n",
    "            xleft,xright = set_xrange(ptrange[-1])\n",
    "            \n",
    "            # file loop\n",
    "            hist_mctruth = ROOT.TH1F(\"\",\"\",xbins,xleft,xright)\n",
    "            hist_mctruth.Sumw2()\n",
    "            for file in filelist_MC:\n",
    "                if (file != \"WZG\") and (file != \"ZGToLLG\"):\n",
    "                    continue\n",
    "                AddHist_mcTruth(filelist_MC[file]['path'], hist_mctruth, ptrange, ptrange[-1], filelist_MC[file]['xsec'], 35.86)\n",
    "            real_hist_dict[ptname] = hist_mctruth\n",
    "            print(\"Sucessfully created...total bins: \",hist_mctruth.GetNbinsX())\n",
    "            print(\"Sucessfully created...total bins: \",real_hist_dict[ptname].GetNbinsX())\n",
    "\n",
    "        return real_hist_dict\n",
    "            \n",
    "    elif template==\"Data\":\n",
    "        \n",
    "        data_hist_dict={}\n",
    "        for ptname,ptrange in pt_dicts.items():\n",
    "            print(\"start ptbins: {0}\".format(ptname))\n",
    "            \n",
    "            xleft,xright = set_xrange(ptrange[-1])\n",
    "            \n",
    "            # file loop\n",
    "            hist_data = ROOT.TH1F(\"\",\"\",xbins,xleft,xright)\n",
    "            hist_data.Sumw2()\n",
    "            if closure:\n",
    "                for file in filelist_MC:\n",
    "                    AddHist_data(filelist_MC[file]['path'], hist_data, ptrange, ptrange[-1],closure,filelist_MC[file]['xsec'], 35.86)\n",
    "            else:\n",
    "                for file in filelist_data:\n",
    "                    AddHist_data(file, hist_data, ptrange, ptrange[-1],closure)   \n",
    "                    \n",
    "            data_hist_dict[ptname] = hist_data\n",
    "        return data_hist_dict\n",
    "    else:\n",
    "        print(\"Wrong template\")"
   ]
  },
  {
   "cell_type": "code",
   "execution_count": 13,
   "id": "12fd4f4c",
   "metadata": {},
   "outputs": [],
   "source": [
    "#!rm *.pickle"
   ]
  },
  {
   "cell_type": "code",
   "execution_count": 14,
   "id": "743a3244",
   "metadata": {},
   "outputs": [
    {
     "name": "stdout",
     "output_type": "stream",
     "text": [
      "start ptbins: EB_PT1\n",
      "before trigger 21802\n",
      "DoubleEG trigger\n",
      "after trigger 2150\n"
     ]
    },
    {
     "name": "stderr",
     "output_type": "stream",
     "text": [
      "fill sigma ieta ieta for /eos/home-j/jiwoong/WZG_DB/2016/pre_post_separated_220209/FakePhoton/CR/merged/DoubleEG_Run2016B.root: 100%|██████████| 593/593 [00:00<00:00, 156863.16it/s]\n"
     ]
    },
    {
     "name": "stdout",
     "output_type": "stream",
     "text": [
      "before trigger 9001\n",
      "DoubleEG trigger\n",
      "after trigger 978\n"
     ]
    },
    {
     "name": "stderr",
     "output_type": "stream",
     "text": [
      "fill sigma ieta ieta for /eos/home-j/jiwoong/WZG_DB/2016/pre_post_separated_220209/FakePhoton/CR/merged/DoubleEG_Run2016C.root: 100%|██████████| 293/293 [00:00<00:00, 146475.69it/s]\n"
     ]
    },
    {
     "name": "stdout",
     "output_type": "stream",
     "text": [
      "before trigger 14543\n",
      "DoubleEG trigger\n",
      "after trigger 1533\n"
     ]
    },
    {
     "name": "stderr",
     "output_type": "stream",
     "text": [
      "fill sigma ieta ieta for /eos/home-j/jiwoong/WZG_DB/2016/pre_post_separated_220209/FakePhoton/CR/merged/DoubleEG_Run2016D.root: 100%|██████████| 418/418 [00:00<00:00, 89176.96it/s]\n"
     ]
    },
    {
     "name": "stdout",
     "output_type": "stream",
     "text": [
      "before trigger 12638\n",
      "DoubleEG trigger\n",
      "after trigger 1394\n"
     ]
    },
    {
     "name": "stderr",
     "output_type": "stream",
     "text": [
      "fill sigma ieta ieta for /eos/home-j/jiwoong/WZG_DB/2016/pre_post_separated_220209/FakePhoton/CR/merged/DoubleEG_Run2016E.root: 100%|██████████| 399/399 [00:00<00:00, 201290.27it/s]\n"
     ]
    },
    {
     "name": "stdout",
     "output_type": "stream",
     "text": [
      "before trigger 10132\n",
      "DoubleEG trigger\n",
      "after trigger 1194\n"
     ]
    },
    {
     "name": "stderr",
     "output_type": "stream",
     "text": [
      "fill sigma ieta ieta for /eos/home-j/jiwoong/WZG_DB/2016/pre_post_separated_220209/FakePhoton/CR/merged/DoubleEG_Run2016F.root: 100%|██████████| 320/320 [00:00<00:00, 192178.88it/s]\n"
     ]
    },
    {
     "name": "stdout",
     "output_type": "stream",
     "text": [
      "before trigger 28298\n",
      "DoubleEG trigger\n",
      "after trigger 3355\n"
     ]
    },
    {
     "name": "stderr",
     "output_type": "stream",
     "text": [
      "fill sigma ieta ieta for /eos/home-j/jiwoong/WZG_DB/2016/pre_post_separated_220209/FakePhoton/CR/merged/DoubleEG_Run2016G.root: 100%|██████████| 932/932 [00:00<00:00, 217232.08it/s]\n"
     ]
    },
    {
     "name": "stdout",
     "output_type": "stream",
     "text": [
      "before trigger 31208\n",
      "DoubleEG trigger\n",
      "after trigger 3626\n"
     ]
    },
    {
     "name": "stderr",
     "output_type": "stream",
     "text": [
      "fill sigma ieta ieta for /eos/home-j/jiwoong/WZG_DB/2016/pre_post_separated_220209/FakePhoton/CR/merged/DoubleEG_Run2016H.root: 100%|██████████| 1023/1023 [00:00<00:00, 229908.00it/s]\n"
     ]
    },
    {
     "name": "stdout",
     "output_type": "stream",
     "text": [
      "before trigger 28672\n",
      "DoubleMuon trigger\n",
      "after trigger 1617\n"
     ]
    },
    {
     "name": "stderr",
     "output_type": "stream",
     "text": [
      "fill sigma ieta ieta for /eos/home-j/jiwoong/WZG_DB/2016/pre_post_separated_220209/FakePhoton/CR/merged/DoubleMuon_Run2016B.root: 100%|██████████| 436/436 [00:00<00:00, 150190.25it/s]\n"
     ]
    },
    {
     "name": "stdout",
     "output_type": "stream",
     "text": [
      "before trigger 12373\n",
      "DoubleMuon trigger\n",
      "after trigger 708\n"
     ]
    },
    {
     "name": "stderr",
     "output_type": "stream",
     "text": [
      "fill sigma ieta ieta for /eos/home-j/jiwoong/WZG_DB/2016/pre_post_separated_220209/FakePhoton/CR/merged/DoubleMuon_Run2016C.root: 100%|██████████| 214/214 [00:00<00:00, 182695.11it/s]\n"
     ]
    },
    {
     "name": "stdout",
     "output_type": "stream",
     "text": [
      "before trigger 20431\n",
      "DoubleMuon trigger\n",
      "after trigger 1145\n"
     ]
    },
    {
     "name": "stderr",
     "output_type": "stream",
     "text": [
      "fill sigma ieta ieta for /eos/home-j/jiwoong/WZG_DB/2016/pre_post_separated_220209/FakePhoton/CR/merged/DoubleMuon_Run2016D.root: 100%|██████████| 307/307 [00:00<00:00, 195661.96it/s]\n"
     ]
    },
    {
     "name": "stdout",
     "output_type": "stream",
     "text": [
      "before trigger 18473\n",
      "DoubleMuon trigger\n",
      "after trigger 1120\n"
     ]
    },
    {
     "name": "stderr",
     "output_type": "stream",
     "text": [
      "fill sigma ieta ieta for /eos/home-j/jiwoong/WZG_DB/2016/pre_post_separated_220209/FakePhoton/CR/merged/DoubleMuon_Run2016E.root: 100%|██████████| 293/293 [00:00<00:00, 105279.80it/s]\n"
     ]
    },
    {
     "name": "stdout",
     "output_type": "stream",
     "text": [
      "before trigger 14648\n",
      "DoubleMuon trigger\n",
      "after trigger 912\n"
     ]
    },
    {
     "name": "stderr",
     "output_type": "stream",
     "text": [
      "fill sigma ieta ieta for /eos/home-j/jiwoong/WZG_DB/2016/pre_post_separated_220209/FakePhoton/CR/merged/DoubleMuon_Run2016F.root: 100%|██████████| 225/225 [00:00<00:00, 192085.98it/s]\n"
     ]
    },
    {
     "name": "stdout",
     "output_type": "stream",
     "text": [
      "before trigger 40759\n",
      "DoubleMuon trigger\n",
      "after trigger 2478\n"
     ]
    },
    {
     "name": "stderr",
     "output_type": "stream",
     "text": [
      "fill sigma ieta ieta for /eos/home-j/jiwoong/WZG_DB/2016/pre_post_separated_220209/FakePhoton/CR/merged/DoubleMuon_Run2016G.root: 100%|██████████| 621/621 [00:00<00:00, 208824.08it/s]\n"
     ]
    },
    {
     "name": "stdout",
     "output_type": "stream",
     "text": [
      "before trigger 45744\n",
      "DoubleMuon trigger\n",
      "after trigger 2712\n"
     ]
    },
    {
     "name": "stderr",
     "output_type": "stream",
     "text": [
      "fill sigma ieta ieta for /eos/home-j/jiwoong/WZG_DB/2016/pre_post_separated_220209/FakePhoton/CR/merged/DoubleMuon_Run2016H.root: 100%|██████████| 695/695 [00:00<00:00, 208544.95it/s]\n"
     ]
    },
    {
     "name": "stdout",
     "output_type": "stream",
     "text": [
      "before trigger 16997\n",
      "MuonEG Trigger\n",
      "after trigger 181\n"
     ]
    },
    {
     "name": "stderr",
     "output_type": "stream",
     "text": [
      "fill sigma ieta ieta for /eos/home-j/jiwoong/WZG_DB/2016/pre_post_separated_220209/FakePhoton/CR/merged/MuonEG_Run2016B.root: 100%|██████████| 16/16 [00:00<00:00, 50382.03it/s]\n"
     ]
    },
    {
     "name": "stdout",
     "output_type": "stream",
     "text": [
      "before trigger 7691\n",
      "MuonEG Trigger\n",
      "after trigger 76\n"
     ]
    },
    {
     "name": "stderr",
     "output_type": "stream",
     "text": [
      "fill sigma ieta ieta for /eos/home-j/jiwoong/WZG_DB/2016/pre_post_separated_220209/FakePhoton/CR/merged/MuonEG_Run2016C.root: 100%|██████████| 4/4 [00:00<00:00, 29589.45it/s]\n"
     ]
    },
    {
     "name": "stdout",
     "output_type": "stream",
     "text": [
      "before trigger 12462\n",
      "MuonEG Trigger\n",
      "after trigger 126\n"
     ]
    },
    {
     "name": "stderr",
     "output_type": "stream",
     "text": [
      "fill sigma ieta ieta for /eos/home-j/jiwoong/WZG_DB/2016/pre_post_separated_220209/FakePhoton/CR/merged/MuonEG_Run2016D.root: 100%|██████████| 11/11 [00:00<00:00, 73819.75it/s]\n"
     ]
    },
    {
     "name": "stdout",
     "output_type": "stream",
     "text": [
      "before trigger 11399\n",
      "MuonEG Trigger\n",
      "after trigger 133\n"
     ]
    },
    {
     "name": "stderr",
     "output_type": "stream",
     "text": [
      "fill sigma ieta ieta for /eos/home-j/jiwoong/WZG_DB/2016/pre_post_separated_220209/FakePhoton/CR/merged/MuonEG_Run2016E.root: 100%|██████████| 16/16 [00:00<00:00, 59652.32it/s]\n"
     ]
    },
    {
     "name": "stdout",
     "output_type": "stream",
     "text": [
      "before trigger 7254\n",
      "MuonEG Trigger\n",
      "after trigger 114\n"
     ]
    },
    {
     "name": "stderr",
     "output_type": "stream",
     "text": [
      "fill sigma ieta ieta for /eos/home-j/jiwoong/WZG_DB/2016/pre_post_separated_220209/FakePhoton/CR/merged/MuonEG_Run2016F.root: 100%|██████████| 16/16 [00:00<00:00, 89597.95it/s]\n"
     ]
    },
    {
     "name": "stdout",
     "output_type": "stream",
     "text": [
      "before trigger 16626\n",
      "MuonEG Trigger\n",
      "after trigger 280\n"
     ]
    },
    {
     "name": "stderr",
     "output_type": "stream",
     "text": [
      "fill sigma ieta ieta for /eos/home-j/jiwoong/WZG_DB/2016/pre_post_separated_220209/FakePhoton/CR/merged/MuonEG_Run2016G.root: 100%|██████████| 23/23 [00:00<00:00, 93116.79it/s]\n"
     ]
    },
    {
     "name": "stdout",
     "output_type": "stream",
     "text": [
      "before trigger 18589\n",
      "MuonEG Trigger\n",
      "after trigger 276\n"
     ]
    },
    {
     "name": "stderr",
     "output_type": "stream",
     "text": [
      "fill sigma ieta ieta for /eos/home-j/jiwoong/WZG_DB/2016/pre_post_separated_220209/FakePhoton/CR/merged/MuonEG_Run2016H.root: 100%|██████████| 29/29 [00:00<00:00, 86511.25it/s]\n"
     ]
    },
    {
     "name": "stdout",
     "output_type": "stream",
     "text": [
      "before trigger 20587\n",
      "SingleElectron trigger\n",
      "after trigger 17501\n"
     ]
    },
    {
     "name": "stderr",
     "output_type": "stream",
     "text": [
      "fill sigma ieta ieta for /eos/home-j/jiwoong/WZG_DB/2016/pre_post_separated_220209/FakePhoton/CR/merged/SingleElectron_Run2016B.root: 100%|██████████| 3490/3490 [00:00<00:00, 172077.55it/s]\n"
     ]
    },
    {
     "name": "stdout",
     "output_type": "stream",
     "text": [
      "before trigger 8509\n",
      "SingleElectron trigger\n",
      "after trigger 7197\n"
     ]
    },
    {
     "name": "stderr",
     "output_type": "stream",
     "text": [
      "fill sigma ieta ieta for /eos/home-j/jiwoong/WZG_DB/2016/pre_post_separated_220209/FakePhoton/CR/merged/SingleElectron_Run2016C.root: 100%|██████████| 1470/1470 [00:00<00:00, 169828.59it/s]\n"
     ]
    },
    {
     "name": "stdout",
     "output_type": "stream",
     "text": [
      "before trigger 14151\n",
      "SingleElectron trigger\n",
      "after trigger 12090\n"
     ]
    },
    {
     "name": "stderr",
     "output_type": "stream",
     "text": [
      "fill sigma ieta ieta for /eos/home-j/jiwoong/WZG_DB/2016/pre_post_separated_220209/FakePhoton/CR/merged/SingleElectron_Run2016D.root: 100%|██████████| 2404/2404 [00:00<00:00, 172390.27it/s]\n"
     ]
    },
    {
     "name": "stdout",
     "output_type": "stream",
     "text": [
      "before trigger 12116\n",
      "SingleElectron trigger\n",
      "after trigger 10390\n"
     ]
    },
    {
     "name": "stderr",
     "output_type": "stream",
     "text": [
      "fill sigma ieta ieta for /eos/home-j/jiwoong/WZG_DB/2016/pre_post_separated_220209/FakePhoton/CR/merged/SingleElectron_Run2016E.root: 100%|██████████| 2217/2217 [00:00<00:00, 165138.29it/s]\n"
     ]
    },
    {
     "name": "stdout",
     "output_type": "stream",
     "text": [
      "before trigger 9777\n",
      "SingleElectron trigger\n",
      "after trigger 8234\n"
     ]
    },
    {
     "name": "stderr",
     "output_type": "stream",
     "text": [
      "fill sigma ieta ieta for /eos/home-j/jiwoong/WZG_DB/2016/pre_post_separated_220209/FakePhoton/CR/merged/SingleElectron_Run2016F.root: 100%|██████████| 1719/1719 [00:00<00:00, 171336.44it/s]\n"
     ]
    },
    {
     "name": "stdout",
     "output_type": "stream",
     "text": [
      "before trigger 28049\n",
      "SingleElectron trigger\n",
      "after trigger 23451\n"
     ]
    },
    {
     "name": "stderr",
     "output_type": "stream",
     "text": [
      "fill sigma ieta ieta for /eos/home-j/jiwoong/WZG_DB/2016/pre_post_separated_220209/FakePhoton/CR/merged/SingleElectron_Run2016G.root: 100%|██████████| 4516/4516 [00:00<00:00, 168632.50it/s]\n"
     ]
    },
    {
     "name": "stdout",
     "output_type": "stream",
     "text": [
      "before trigger 30727\n",
      "SingleElectron trigger\n",
      "after trigger 26053\n"
     ]
    },
    {
     "name": "stderr",
     "output_type": "stream",
     "text": [
      "fill sigma ieta ieta for /eos/home-j/jiwoong/WZG_DB/2016/pre_post_separated_220209/FakePhoton/CR/merged/SingleElectron_Run2016H.root: 100%|██████████| 5038/5038 [00:00<00:00, 133413.12it/s]\n"
     ]
    },
    {
     "name": "stdout",
     "output_type": "stream",
     "text": [
      "before trigger 28747\n",
      "SingleMuon trigger\n",
      "after trigger 26828\n"
     ]
    },
    {
     "name": "stderr",
     "output_type": "stream",
     "text": [
      "fill sigma ieta ieta for /eos/home-j/jiwoong/WZG_DB/2016/pre_post_separated_220209/FakePhoton/CR/merged/SingleMuon_Run2016B.root: 100%|██████████| 5778/5778 [00:00<00:00, 164537.23it/s]\n"
     ]
    },
    {
     "name": "stdout",
     "output_type": "stream",
     "text": [
      "before trigger 13442\n",
      "SingleMuon trigger\n",
      "after trigger 12592\n"
     ]
    },
    {
     "name": "stderr",
     "output_type": "stream",
     "text": [
      "fill sigma ieta ieta for /eos/home-j/jiwoong/WZG_DB/2016/pre_post_separated_220209/FakePhoton/CR/merged/SingleMuon_Run2016C.root: 100%|██████████| 2753/2753 [00:00<00:00, 173549.15it/s]\n"
     ]
    },
    {
     "name": "stdout",
     "output_type": "stream",
     "text": [
      "before trigger 21967\n",
      "SingleMuon trigger\n",
      "after trigger 20697\n"
     ]
    },
    {
     "name": "stderr",
     "output_type": "stream",
     "text": [
      "fill sigma ieta ieta for /eos/home-j/jiwoong/WZG_DB/2016/pre_post_separated_220209/FakePhoton/CR/merged/SingleMuon_Run2016D.root: 100%|██████████| 4393/4393 [00:00<00:00, 171521.98it/s]\n"
     ]
    },
    {
     "name": "stdout",
     "output_type": "stream",
     "text": [
      "before trigger 19712\n",
      "SingleMuon trigger\n",
      "after trigger 18656\n"
     ]
    },
    {
     "name": "stderr",
     "output_type": "stream",
     "text": [
      "fill sigma ieta ieta for /eos/home-j/jiwoong/WZG_DB/2016/pre_post_separated_220209/FakePhoton/CR/merged/SingleMuon_Run2016E.root: 100%|██████████| 4065/4065 [00:00<00:00, 165736.84it/s]\n"
     ]
    },
    {
     "name": "stdout",
     "output_type": "stream",
     "text": [
      "before trigger 15619\n",
      "SingleMuon trigger\n",
      "after trigger 14784\n"
     ]
    },
    {
     "name": "stderr",
     "output_type": "stream",
     "text": [
      "fill sigma ieta ieta for /eos/home-j/jiwoong/WZG_DB/2016/pre_post_separated_220209/FakePhoton/CR/merged/SingleMuon_Run2016F.root: 100%|██████████| 3233/3233 [00:00<00:00, 191427.99it/s]\n"
     ]
    },
    {
     "name": "stdout",
     "output_type": "stream",
     "text": [
      "before trigger 43025\n",
      "SingleMuon trigger\n",
      "after trigger 40818\n"
     ]
    },
    {
     "name": "stderr",
     "output_type": "stream",
     "text": [
      "fill sigma ieta ieta for /eos/home-j/jiwoong/WZG_DB/2016/pre_post_separated_220209/FakePhoton/CR/merged/SingleMuon_Run2016G.root: 100%|██████████| 8543/8543 [00:00<00:00, 170646.97it/s]\n"
     ]
    },
    {
     "name": "stdout",
     "output_type": "stream",
     "text": [
      "before trigger 50311\n",
      "SingleMuon trigger\n",
      "after trigger 47810\n"
     ]
    },
    {
     "name": "stderr",
     "output_type": "stream",
     "text": [
      "fill sigma ieta ieta for /eos/home-j/jiwoong/WZG_DB/2016/pre_post_separated_220209/FakePhoton/CR/merged/SingleMuon_Run2016H.root: 100%|██████████| 9901/9901 [00:00<00:00, 167027.19it/s]"
     ]
    },
    {
     "name": "stdout",
     "output_type": "stream",
     "text": [
      "start ptbins: EB_PT2\n"
     ]
    },
    {
     "name": "stderr",
     "output_type": "stream",
     "text": [
      "\n"
     ]
    },
    {
     "name": "stdout",
     "output_type": "stream",
     "text": [
      "before trigger 21802\n",
      "DoubleEG trigger\n",
      "after trigger 2150\n"
     ]
    },
    {
     "name": "stderr",
     "output_type": "stream",
     "text": [
      "fill sigma ieta ieta for /eos/home-j/jiwoong/WZG_DB/2016/pre_post_separated_220209/FakePhoton/CR/merged/DoubleEG_Run2016B.root: 100%|██████████| 291/291 [00:00<00:00, 199761.45it/s]\n"
     ]
    },
    {
     "name": "stdout",
     "output_type": "stream",
     "text": [
      "before trigger 9001\n",
      "DoubleEG trigger\n",
      "after trigger 978\n"
     ]
    },
    {
     "name": "stderr",
     "output_type": "stream",
     "text": [
      "fill sigma ieta ieta for /eos/home-j/jiwoong/WZG_DB/2016/pre_post_separated_220209/FakePhoton/CR/merged/DoubleEG_Run2016C.root: 100%|██████████| 126/126 [00:00<00:00, 143375.56it/s]\n"
     ]
    },
    {
     "name": "stdout",
     "output_type": "stream",
     "text": [
      "before trigger 14543\n",
      "DoubleEG trigger\n",
      "after trigger 1533\n"
     ]
    },
    {
     "name": "stderr",
     "output_type": "stream",
     "text": [
      "fill sigma ieta ieta for /eos/home-j/jiwoong/WZG_DB/2016/pre_post_separated_220209/FakePhoton/CR/merged/DoubleEG_Run2016D.root: 100%|██████████| 205/205 [00:00<00:00, 177065.96it/s]\n"
     ]
    },
    {
     "name": "stdout",
     "output_type": "stream",
     "text": [
      "before trigger 12638\n",
      "DoubleEG trigger\n",
      "after trigger 1394\n"
     ]
    },
    {
     "name": "stderr",
     "output_type": "stream",
     "text": [
      "fill sigma ieta ieta for /eos/home-j/jiwoong/WZG_DB/2016/pre_post_separated_220209/FakePhoton/CR/merged/DoubleEG_Run2016E.root: 100%|██████████| 160/160 [00:00<00:00, 181866.84it/s]\n"
     ]
    },
    {
     "name": "stdout",
     "output_type": "stream",
     "text": [
      "before trigger 10132\n",
      "DoubleEG trigger\n",
      "after trigger 1194\n"
     ]
    },
    {
     "name": "stderr",
     "output_type": "stream",
     "text": [
      "fill sigma ieta ieta for /eos/home-j/jiwoong/WZG_DB/2016/pre_post_separated_220209/FakePhoton/CR/merged/DoubleEG_Run2016F.root: 100%|██████████| 165/165 [00:00<00:00, 190650.18it/s]\n"
     ]
    },
    {
     "name": "stdout",
     "output_type": "stream",
     "text": [
      "before trigger 28298\n",
      "DoubleEG trigger\n",
      "after trigger 3355\n"
     ]
    },
    {
     "name": "stderr",
     "output_type": "stream",
     "text": [
      "fill sigma ieta ieta for /eos/home-j/jiwoong/WZG_DB/2016/pre_post_separated_220209/FakePhoton/CR/merged/DoubleEG_Run2016G.root: 100%|██████████| 446/446 [00:00<00:00, 199750.09it/s]\n"
     ]
    },
    {
     "name": "stdout",
     "output_type": "stream",
     "text": [
      "before trigger 31208\n",
      "DoubleEG trigger\n",
      "after trigger 3626\n"
     ]
    },
    {
     "name": "stderr",
     "output_type": "stream",
     "text": [
      "fill sigma ieta ieta for /eos/home-j/jiwoong/WZG_DB/2016/pre_post_separated_220209/FakePhoton/CR/merged/DoubleEG_Run2016H.root: 100%|██████████| 416/416 [00:00<00:00, 205734.05it/s]\n"
     ]
    },
    {
     "name": "stdout",
     "output_type": "stream",
     "text": [
      "before trigger 28672\n",
      "DoubleMuon trigger\n",
      "after trigger 1617\n"
     ]
    },
    {
     "name": "stderr",
     "output_type": "stream",
     "text": [
      "fill sigma ieta ieta for /eos/home-j/jiwoong/WZG_DB/2016/pre_post_separated_220209/FakePhoton/CR/merged/DoubleMuon_Run2016B.root: 100%|██████████| 214/214 [00:00<00:00, 157194.58it/s]\n"
     ]
    },
    {
     "name": "stdout",
     "output_type": "stream",
     "text": [
      "before trigger 12373\n",
      "DoubleMuon trigger\n",
      "after trigger 708\n"
     ]
    },
    {
     "name": "stderr",
     "output_type": "stream",
     "text": [
      "fill sigma ieta ieta for /eos/home-j/jiwoong/WZG_DB/2016/pre_post_separated_220209/FakePhoton/CR/merged/DoubleMuon_Run2016C.root: 100%|██████████| 102/102 [00:00<00:00, 172995.96it/s]\n"
     ]
    },
    {
     "name": "stdout",
     "output_type": "stream",
     "text": [
      "before trigger 20431\n",
      "DoubleMuon trigger\n",
      "after trigger 1145\n"
     ]
    },
    {
     "name": "stderr",
     "output_type": "stream",
     "text": [
      "fill sigma ieta ieta for /eos/home-j/jiwoong/WZG_DB/2016/pre_post_separated_220209/FakePhoton/CR/merged/DoubleMuon_Run2016D.root: 100%|██████████| 180/180 [00:00<00:00, 196556.81it/s]\n"
     ]
    },
    {
     "name": "stdout",
     "output_type": "stream",
     "text": [
      "before trigger 18473\n",
      "DoubleMuon trigger\n",
      "after trigger 1120\n"
     ]
    },
    {
     "name": "stderr",
     "output_type": "stream",
     "text": [
      "fill sigma ieta ieta for /eos/home-j/jiwoong/WZG_DB/2016/pre_post_separated_220209/FakePhoton/CR/merged/DoubleMuon_Run2016E.root: 100%|██████████| 175/175 [00:00<00:00, 147627.35it/s]\n"
     ]
    },
    {
     "name": "stdout",
     "output_type": "stream",
     "text": [
      "before trigger 14648\n",
      "DoubleMuon trigger\n",
      "after trigger 912\n"
     ]
    },
    {
     "name": "stderr",
     "output_type": "stream",
     "text": [
      "fill sigma ieta ieta for /eos/home-j/jiwoong/WZG_DB/2016/pre_post_separated_220209/FakePhoton/CR/merged/DoubleMuon_Run2016F.root: 100%|██████████| 139/139 [00:00<00:00, 190463.33it/s]\n"
     ]
    },
    {
     "name": "stdout",
     "output_type": "stream",
     "text": [
      "before trigger 40759\n",
      "DoubleMuon trigger\n",
      "after trigger 2478\n"
     ]
    },
    {
     "name": "stderr",
     "output_type": "stream",
     "text": [
      "fill sigma ieta ieta for /eos/home-j/jiwoong/WZG_DB/2016/pre_post_separated_220209/FakePhoton/CR/merged/DoubleMuon_Run2016G.root: 100%|██████████| 311/311 [00:00<00:00, 195215.29it/s]\n"
     ]
    },
    {
     "name": "stdout",
     "output_type": "stream",
     "text": [
      "before trigger 45744\n",
      "DoubleMuon trigger\n",
      "after trigger 2712\n"
     ]
    },
    {
     "name": "stderr",
     "output_type": "stream",
     "text": [
      "fill sigma ieta ieta for /eos/home-j/jiwoong/WZG_DB/2016/pre_post_separated_220209/FakePhoton/CR/merged/DoubleMuon_Run2016H.root: 100%|██████████| 367/367 [00:00<00:00, 103434.32it/s]\n"
     ]
    },
    {
     "name": "stdout",
     "output_type": "stream",
     "text": [
      "before trigger 16997\n",
      "MuonEG Trigger\n",
      "after trigger 181\n"
     ]
    },
    {
     "name": "stderr",
     "output_type": "stream",
     "text": [
      "fill sigma ieta ieta for /eos/home-j/jiwoong/WZG_DB/2016/pre_post_separated_220209/FakePhoton/CR/merged/MuonEG_Run2016B.root: 100%|██████████| 14/14 [00:00<00:00, 49386.25it/s]\n"
     ]
    },
    {
     "name": "stdout",
     "output_type": "stream",
     "text": [
      "before trigger 7691\n",
      "MuonEG Trigger\n",
      "after trigger 76\n"
     ]
    },
    {
     "name": "stderr",
     "output_type": "stream",
     "text": [
      "fill sigma ieta ieta for /eos/home-j/jiwoong/WZG_DB/2016/pre_post_separated_220209/FakePhoton/CR/merged/MuonEG_Run2016C.root: 100%|██████████| 2/2 [00:00<00:00, 19328.59it/s]\n"
     ]
    },
    {
     "name": "stdout",
     "output_type": "stream",
     "text": [
      "before trigger 12462\n",
      "MuonEG Trigger\n",
      "after trigger 126\n"
     ]
    },
    {
     "name": "stderr",
     "output_type": "stream",
     "text": [
      "fill sigma ieta ieta for /eos/home-j/jiwoong/WZG_DB/2016/pre_post_separated_220209/FakePhoton/CR/merged/MuonEG_Run2016D.root: 100%|██████████| 7/7 [00:00<00:00, 22567.35it/s]\n"
     ]
    },
    {
     "name": "stdout",
     "output_type": "stream",
     "text": [
      "before trigger 11399\n",
      "MuonEG Trigger\n",
      "after trigger 133\n"
     ]
    },
    {
     "name": "stderr",
     "output_type": "stream",
     "text": [
      "fill sigma ieta ieta for /eos/home-j/jiwoong/WZG_DB/2016/pre_post_separated_220209/FakePhoton/CR/merged/MuonEG_Run2016E.root: 100%|██████████| 12/12 [00:00<00:00, 54589.64it/s]\n"
     ]
    },
    {
     "name": "stdout",
     "output_type": "stream",
     "text": [
      "before trigger 7254\n",
      "MuonEG Trigger\n",
      "after trigger 114\n"
     ]
    },
    {
     "name": "stderr",
     "output_type": "stream",
     "text": [
      "fill sigma ieta ieta for /eos/home-j/jiwoong/WZG_DB/2016/pre_post_separated_220209/FakePhoton/CR/merged/MuonEG_Run2016F.root: 100%|██████████| 6/6 [00:00<00:00, 50432.51it/s]\n"
     ]
    },
    {
     "name": "stdout",
     "output_type": "stream",
     "text": [
      "before trigger 16626\n",
      "MuonEG Trigger\n",
      "after trigger 280\n"
     ]
    },
    {
     "name": "stderr",
     "output_type": "stream",
     "text": [
      "fill sigma ieta ieta for /eos/home-j/jiwoong/WZG_DB/2016/pre_post_separated_220209/FakePhoton/CR/merged/MuonEG_Run2016G.root: 100%|██████████| 16/16 [00:00<00:00, 79891.50it/s]\n"
     ]
    },
    {
     "name": "stdout",
     "output_type": "stream",
     "text": [
      "before trigger 18589\n",
      "MuonEG Trigger\n",
      "after trigger 276\n"
     ]
    },
    {
     "name": "stderr",
     "output_type": "stream",
     "text": [
      "fill sigma ieta ieta for /eos/home-j/jiwoong/WZG_DB/2016/pre_post_separated_220209/FakePhoton/CR/merged/MuonEG_Run2016H.root: 100%|██████████| 20/20 [00:00<00:00, 89051.04it/s]\n"
     ]
    },
    {
     "name": "stdout",
     "output_type": "stream",
     "text": [
      "before trigger 20587\n",
      "SingleElectron trigger\n",
      "after trigger 17501\n"
     ]
    },
    {
     "name": "stderr",
     "output_type": "stream",
     "text": [
      "fill sigma ieta ieta for /eos/home-j/jiwoong/WZG_DB/2016/pre_post_separated_220209/FakePhoton/CR/merged/SingleElectron_Run2016B.root: 100%|██████████| 1471/1471 [00:00<00:00, 191229.27it/s]\n"
     ]
    },
    {
     "name": "stdout",
     "output_type": "stream",
     "text": [
      "before trigger 8509\n",
      "SingleElectron trigger\n",
      "after trigger 7197\n"
     ]
    },
    {
     "name": "stderr",
     "output_type": "stream",
     "text": [
      "fill sigma ieta ieta for /eos/home-j/jiwoong/WZG_DB/2016/pre_post_separated_220209/FakePhoton/CR/merged/SingleElectron_Run2016C.root: 100%|██████████| 628/628 [00:00<00:00, 209631.75it/s]\n"
     ]
    },
    {
     "name": "stdout",
     "output_type": "stream",
     "text": [
      "before trigger 14151\n",
      "SingleElectron trigger\n",
      "after trigger 12090\n"
     ]
    },
    {
     "name": "stderr",
     "output_type": "stream",
     "text": [
      "fill sigma ieta ieta for /eos/home-j/jiwoong/WZG_DB/2016/pre_post_separated_220209/FakePhoton/CR/merged/SingleElectron_Run2016D.root: 100%|██████████| 1059/1059 [00:00<00:00, 193693.00it/s]\n"
     ]
    },
    {
     "name": "stdout",
     "output_type": "stream",
     "text": [
      "before trigger 12116\n",
      "SingleElectron trigger\n",
      "after trigger 10390\n"
     ]
    },
    {
     "name": "stderr",
     "output_type": "stream",
     "text": [
      "fill sigma ieta ieta for /eos/home-j/jiwoong/WZG_DB/2016/pre_post_separated_220209/FakePhoton/CR/merged/SingleElectron_Run2016E.root: 100%|██████████| 906/906 [00:00<00:00, 218908.89it/s]\n"
     ]
    },
    {
     "name": "stdout",
     "output_type": "stream",
     "text": [
      "before trigger 9777\n",
      "SingleElectron trigger\n",
      "after trigger 8234\n"
     ]
    },
    {
     "name": "stderr",
     "output_type": "stream",
     "text": [
      "fill sigma ieta ieta for /eos/home-j/jiwoong/WZG_DB/2016/pre_post_separated_220209/FakePhoton/CR/merged/SingleElectron_Run2016F.root: 100%|██████████| 749/749 [00:00<00:00, 209729.20it/s]\n"
     ]
    },
    {
     "name": "stdout",
     "output_type": "stream",
     "text": [
      "before trigger 28049\n",
      "SingleElectron trigger\n",
      "after trigger 23451\n"
     ]
    },
    {
     "name": "stderr",
     "output_type": "stream",
     "text": [
      "fill sigma ieta ieta for /eos/home-j/jiwoong/WZG_DB/2016/pre_post_separated_220209/FakePhoton/CR/merged/SingleElectron_Run2016G.root: 100%|██████████| 1943/1943 [00:00<00:00, 209321.98it/s]\n"
     ]
    },
    {
     "name": "stdout",
     "output_type": "stream",
     "text": [
      "before trigger 30727\n",
      "SingleElectron trigger\n",
      "after trigger 26053\n"
     ]
    },
    {
     "name": "stderr",
     "output_type": "stream",
     "text": [
      "fill sigma ieta ieta for /eos/home-j/jiwoong/WZG_DB/2016/pre_post_separated_220209/FakePhoton/CR/merged/SingleElectron_Run2016H.root: 100%|██████████| 2133/2133 [00:00<00:00, 209219.86it/s]\n"
     ]
    },
    {
     "name": "stdout",
     "output_type": "stream",
     "text": [
      "before trigger 28747\n",
      "SingleMuon trigger\n",
      "after trigger 26828\n"
     ]
    },
    {
     "name": "stderr",
     "output_type": "stream",
     "text": [
      "fill sigma ieta ieta for /eos/home-j/jiwoong/WZG_DB/2016/pre_post_separated_220209/FakePhoton/CR/merged/SingleMuon_Run2016B.root: 100%|██████████| 2387/2387 [00:00<00:00, 207588.87it/s]\n"
     ]
    },
    {
     "name": "stdout",
     "output_type": "stream",
     "text": [
      "before trigger 13442\n",
      "SingleMuon trigger\n",
      "after trigger 12592\n"
     ]
    },
    {
     "name": "stderr",
     "output_type": "stream",
     "text": [
      "fill sigma ieta ieta for /eos/home-j/jiwoong/WZG_DB/2016/pre_post_separated_220209/FakePhoton/CR/merged/SingleMuon_Run2016C.root: 100%|██████████| 1119/1119 [00:00<00:00, 219103.97it/s]\n"
     ]
    },
    {
     "name": "stdout",
     "output_type": "stream",
     "text": [
      "before trigger 21967\n",
      "SingleMuon trigger\n",
      "after trigger 20697\n"
     ]
    },
    {
     "name": "stderr",
     "output_type": "stream",
     "text": [
      "fill sigma ieta ieta for /eos/home-j/jiwoong/WZG_DB/2016/pre_post_separated_220209/FakePhoton/CR/merged/SingleMuon_Run2016D.root: 100%|██████████| 1869/1869 [00:00<00:00, 212662.20it/s]\n"
     ]
    },
    {
     "name": "stdout",
     "output_type": "stream",
     "text": [
      "before trigger 19712\n",
      "SingleMuon trigger\n",
      "after trigger 18656\n"
     ]
    },
    {
     "name": "stderr",
     "output_type": "stream",
     "text": [
      "fill sigma ieta ieta for /eos/home-j/jiwoong/WZG_DB/2016/pre_post_separated_220209/FakePhoton/CR/merged/SingleMuon_Run2016E.root: 100%|██████████| 1739/1739 [00:00<00:00, 218779.65it/s]\n"
     ]
    },
    {
     "name": "stdout",
     "output_type": "stream",
     "text": [
      "before trigger 15619\n",
      "SingleMuon trigger\n",
      "after trigger 14784\n"
     ]
    },
    {
     "name": "stderr",
     "output_type": "stream",
     "text": [
      "fill sigma ieta ieta for /eos/home-j/jiwoong/WZG_DB/2016/pre_post_separated_220209/FakePhoton/CR/merged/SingleMuon_Run2016F.root: 100%|██████████| 1346/1346 [00:00<00:00, 215989.49it/s]\n"
     ]
    },
    {
     "name": "stdout",
     "output_type": "stream",
     "text": [
      "before trigger 43025\n",
      "SingleMuon trigger\n",
      "after trigger 40818\n"
     ]
    },
    {
     "name": "stderr",
     "output_type": "stream",
     "text": [
      "fill sigma ieta ieta for /eos/home-j/jiwoong/WZG_DB/2016/pre_post_separated_220209/FakePhoton/CR/merged/SingleMuon_Run2016G.root: 100%|██████████| 3608/3608 [00:00<00:00, 225267.93it/s]\n"
     ]
    },
    {
     "name": "stdout",
     "output_type": "stream",
     "text": [
      "before trigger 50311\n",
      "SingleMuon trigger\n",
      "after trigger 47810\n"
     ]
    },
    {
     "name": "stderr",
     "output_type": "stream",
     "text": [
      "fill sigma ieta ieta for /eos/home-j/jiwoong/WZG_DB/2016/pre_post_separated_220209/FakePhoton/CR/merged/SingleMuon_Run2016H.root: 100%|██████████| 4093/4093 [00:00<00:00, 219755.33it/s]"
     ]
    },
    {
     "name": "stdout",
     "output_type": "stream",
     "text": [
      "start ptbins: EB_PT3\n"
     ]
    },
    {
     "name": "stderr",
     "output_type": "stream",
     "text": [
      "\n"
     ]
    },
    {
     "name": "stdout",
     "output_type": "stream",
     "text": [
      "before trigger 21802\n",
      "DoubleEG trigger\n",
      "after trigger 2150\n"
     ]
    },
    {
     "name": "stderr",
     "output_type": "stream",
     "text": [
      "fill sigma ieta ieta for /eos/home-j/jiwoong/WZG_DB/2016/pre_post_separated_220209/FakePhoton/CR/merged/DoubleEG_Run2016B.root: 100%|██████████| 45/45 [00:00<00:00, 129542.68it/s]\n"
     ]
    },
    {
     "name": "stdout",
     "output_type": "stream",
     "text": [
      "before trigger 9001\n",
      "DoubleEG trigger\n",
      "after trigger 978\n"
     ]
    },
    {
     "name": "stderr",
     "output_type": "stream",
     "text": [
      "fill sigma ieta ieta for /eos/home-j/jiwoong/WZG_DB/2016/pre_post_separated_220209/FakePhoton/CR/merged/DoubleEG_Run2016C.root: 100%|██████████| 17/17 [00:00<00:00, 80386.89it/s]\n"
     ]
    },
    {
     "name": "stdout",
     "output_type": "stream",
     "text": [
      "before trigger 14543\n",
      "DoubleEG trigger\n",
      "after trigger 1533\n"
     ]
    },
    {
     "name": "stderr",
     "output_type": "stream",
     "text": [
      "fill sigma ieta ieta for /eos/home-j/jiwoong/WZG_DB/2016/pre_post_separated_220209/FakePhoton/CR/merged/DoubleEG_Run2016D.root: 100%|██████████| 38/38 [00:00<00:00, 116508.44it/s]\n"
     ]
    },
    {
     "name": "stdout",
     "output_type": "stream",
     "text": [
      "before trigger 12638\n",
      "DoubleEG trigger\n",
      "after trigger 1394\n"
     ]
    },
    {
     "name": "stderr",
     "output_type": "stream",
     "text": [
      "fill sigma ieta ieta for /eos/home-j/jiwoong/WZG_DB/2016/pre_post_separated_220209/FakePhoton/CR/merged/DoubleEG_Run2016E.root: 100%|██████████| 29/29 [00:00<00:00, 117069.12it/s]\n"
     ]
    },
    {
     "name": "stdout",
     "output_type": "stream",
     "text": [
      "before trigger 10132\n",
      "DoubleEG trigger\n",
      "after trigger 1194\n"
     ]
    },
    {
     "name": "stderr",
     "output_type": "stream",
     "text": [
      "fill sigma ieta ieta for /eos/home-j/jiwoong/WZG_DB/2016/pre_post_separated_220209/FakePhoton/CR/merged/DoubleEG_Run2016F.root: 100%|██████████| 32/32 [00:00<00:00, 130561.99it/s]\n"
     ]
    },
    {
     "name": "stdout",
     "output_type": "stream",
     "text": [
      "before trigger 28298\n",
      "DoubleEG trigger\n",
      "after trigger 3355\n"
     ]
    },
    {
     "name": "stderr",
     "output_type": "stream",
     "text": [
      "fill sigma ieta ieta for /eos/home-j/jiwoong/WZG_DB/2016/pre_post_separated_220209/FakePhoton/CR/merged/DoubleEG_Run2016G.root: 100%|██████████| 72/72 [00:00<00:00, 141182.74it/s]\n"
     ]
    },
    {
     "name": "stdout",
     "output_type": "stream",
     "text": [
      "before trigger 31208\n",
      "DoubleEG trigger\n",
      "after trigger 3626\n"
     ]
    },
    {
     "name": "stderr",
     "output_type": "stream",
     "text": [
      "fill sigma ieta ieta for /eos/home-j/jiwoong/WZG_DB/2016/pre_post_separated_220209/FakePhoton/CR/merged/DoubleEG_Run2016H.root: 100%|██████████| 74/74 [00:00<00:00, 155500.25it/s]\n"
     ]
    },
    {
     "name": "stdout",
     "output_type": "stream",
     "text": [
      "before trigger 28672\n",
      "DoubleMuon trigger\n",
      "after trigger 1617\n"
     ]
    },
    {
     "name": "stderr",
     "output_type": "stream",
     "text": [
      "fill sigma ieta ieta for /eos/home-j/jiwoong/WZG_DB/2016/pre_post_separated_220209/FakePhoton/CR/merged/DoubleMuon_Run2016B.root: 100%|██████████| 43/43 [00:00<00:00, 125420.77it/s]\n"
     ]
    },
    {
     "name": "stdout",
     "output_type": "stream",
     "text": [
      "before trigger 12373\n",
      "DoubleMuon trigger\n",
      "after trigger 708\n"
     ]
    },
    {
     "name": "stderr",
     "output_type": "stream",
     "text": [
      "fill sigma ieta ieta for /eos/home-j/jiwoong/WZG_DB/2016/pre_post_separated_220209/FakePhoton/CR/merged/DoubleMuon_Run2016C.root: 100%|██████████| 12/12 [00:00<00:00, 67198.46it/s]\n"
     ]
    },
    {
     "name": "stdout",
     "output_type": "stream",
     "text": [
      "before trigger 20431\n",
      "DoubleMuon trigger\n",
      "after trigger 1145\n"
     ]
    },
    {
     "name": "stderr",
     "output_type": "stream",
     "text": [
      "fill sigma ieta ieta for /eos/home-j/jiwoong/WZG_DB/2016/pre_post_separated_220209/FakePhoton/CR/merged/DoubleMuon_Run2016D.root: 100%|██████████| 34/34 [00:00<00:00, 121160.86it/s]\n"
     ]
    },
    {
     "name": "stdout",
     "output_type": "stream",
     "text": [
      "before trigger 18473\n",
      "DoubleMuon trigger\n",
      "after trigger 1120\n"
     ]
    },
    {
     "name": "stderr",
     "output_type": "stream",
     "text": [
      "fill sigma ieta ieta for /eos/home-j/jiwoong/WZG_DB/2016/pre_post_separated_220209/FakePhoton/CR/merged/DoubleMuon_Run2016E.root: 100%|██████████| 23/23 [00:00<00:00, 104178.18it/s]\n"
     ]
    },
    {
     "name": "stdout",
     "output_type": "stream",
     "text": [
      "before trigger 14648\n",
      "DoubleMuon trigger\n",
      "after trigger 912\n"
     ]
    },
    {
     "name": "stderr",
     "output_type": "stream",
     "text": [
      "fill sigma ieta ieta for /eos/home-j/jiwoong/WZG_DB/2016/pre_post_separated_220209/FakePhoton/CR/merged/DoubleMuon_Run2016F.root: 100%|██████████| 16/16 [00:00<00:00, 49784.02it/s]\n"
     ]
    },
    {
     "name": "stdout",
     "output_type": "stream",
     "text": [
      "before trigger 40759\n",
      "DoubleMuon trigger\n",
      "after trigger 2478\n"
     ]
    },
    {
     "name": "stderr",
     "output_type": "stream",
     "text": [
      "fill sigma ieta ieta for /eos/home-j/jiwoong/WZG_DB/2016/pre_post_separated_220209/FakePhoton/CR/merged/DoubleMuon_Run2016G.root: 100%|██████████| 47/47 [00:00<00:00, 145700.14it/s]\n"
     ]
    },
    {
     "name": "stdout",
     "output_type": "stream",
     "text": [
      "before trigger 45744\n",
      "DoubleMuon trigger\n",
      "after trigger 2712\n"
     ]
    },
    {
     "name": "stderr",
     "output_type": "stream",
     "text": [
      "fill sigma ieta ieta for /eos/home-j/jiwoong/WZG_DB/2016/pre_post_separated_220209/FakePhoton/CR/merged/DoubleMuon_Run2016H.root: 100%|██████████| 66/66 [00:00<00:00, 140093.15it/s]\n"
     ]
    },
    {
     "name": "stdout",
     "output_type": "stream",
     "text": [
      "before trigger 16997\n",
      "MuonEG Trigger\n",
      "after trigger 181\n"
     ]
    },
    {
     "name": "stderr",
     "output_type": "stream",
     "text": [
      "fill sigma ieta ieta for /eos/home-j/jiwoong/WZG_DB/2016/pre_post_separated_220209/FakePhoton/CR/merged/MuonEG_Run2016B.root: 100%|██████████| 7/7 [00:00<00:00, 47585.30it/s]\n"
     ]
    },
    {
     "name": "stdout",
     "output_type": "stream",
     "text": [
      "before trigger 7691\n",
      "MuonEG Trigger\n",
      "after trigger 76\n"
     ]
    },
    {
     "name": "stderr",
     "output_type": "stream",
     "text": [
      "fill sigma ieta ieta for /eos/home-j/jiwoong/WZG_DB/2016/pre_post_separated_220209/FakePhoton/CR/merged/MuonEG_Run2016C.root: 100%|██████████| 1/1 [00:00<00:00, 7989.15it/s]\n"
     ]
    },
    {
     "name": "stdout",
     "output_type": "stream",
     "text": [
      "before trigger 12462\n",
      "MuonEG Trigger\n",
      "after trigger 126\n"
     ]
    },
    {
     "name": "stderr",
     "output_type": "stream",
     "text": [
      "fill sigma ieta ieta for /eos/home-j/jiwoong/WZG_DB/2016/pre_post_separated_220209/FakePhoton/CR/merged/MuonEG_Run2016D.root: 100%|██████████| 3/3 [00:00<00:00, 22590.51it/s]\n"
     ]
    },
    {
     "name": "stdout",
     "output_type": "stream",
     "text": [
      "before trigger 11399\n",
      "MuonEG Trigger\n",
      "after trigger 133\n"
     ]
    },
    {
     "name": "stderr",
     "output_type": "stream",
     "text": [
      "fill sigma ieta ieta for /eos/home-j/jiwoong/WZG_DB/2016/pre_post_separated_220209/FakePhoton/CR/merged/MuonEG_Run2016E.root: 100%|██████████| 4/4 [00:00<00:00, 14134.13it/s]\n"
     ]
    },
    {
     "name": "stdout",
     "output_type": "stream",
     "text": [
      "before trigger 7254\n",
      "MuonEG Trigger\n",
      "after trigger 114\n"
     ]
    },
    {
     "name": "stderr",
     "output_type": "stream",
     "text": [
      "fill sigma ieta ieta for /eos/home-j/jiwoong/WZG_DB/2016/pre_post_separated_220209/FakePhoton/CR/merged/MuonEG_Run2016F.root: 100%|██████████| 2/2 [00:00<00:00, 16039.40it/s]\n"
     ]
    },
    {
     "name": "stdout",
     "output_type": "stream",
     "text": [
      "before trigger 16626\n",
      "MuonEG Trigger\n",
      "after trigger 280\n"
     ]
    },
    {
     "name": "stderr",
     "output_type": "stream",
     "text": [
      "fill sigma ieta ieta for /eos/home-j/jiwoong/WZG_DB/2016/pre_post_separated_220209/FakePhoton/CR/merged/MuonEG_Run2016G.root: 100%|██████████| 5/5 [00:00<00:00, 32164.91it/s]\n"
     ]
    },
    {
     "name": "stdout",
     "output_type": "stream",
     "text": [
      "before trigger 18589\n",
      "MuonEG Trigger\n",
      "after trigger 276\n"
     ]
    },
    {
     "name": "stderr",
     "output_type": "stream",
     "text": [
      "fill sigma ieta ieta for /eos/home-j/jiwoong/WZG_DB/2016/pre_post_separated_220209/FakePhoton/CR/merged/MuonEG_Run2016H.root: 100%|██████████| 9/9 [00:00<00:00, 27941.33it/s]\n"
     ]
    },
    {
     "name": "stdout",
     "output_type": "stream",
     "text": [
      "before trigger 20587\n",
      "SingleElectron trigger\n",
      "after trigger 17501\n"
     ]
    },
    {
     "name": "stderr",
     "output_type": "stream",
     "text": [
      "fill sigma ieta ieta for /eos/home-j/jiwoong/WZG_DB/2016/pre_post_separated_220209/FakePhoton/CR/merged/SingleElectron_Run2016B.root: 100%|██████████| 458/458 [00:00<00:00, 212734.36it/s]\n"
     ]
    },
    {
     "name": "stdout",
     "output_type": "stream",
     "text": [
      "before trigger 8509\n",
      "SingleElectron trigger\n",
      "after trigger 7197\n"
     ]
    },
    {
     "name": "stderr",
     "output_type": "stream",
     "text": [
      "fill sigma ieta ieta for /eos/home-j/jiwoong/WZG_DB/2016/pre_post_separated_220209/FakePhoton/CR/merged/SingleElectron_Run2016C.root: 100%|██████████| 184/184 [00:00<00:00, 180865.23it/s]\n"
     ]
    },
    {
     "name": "stdout",
     "output_type": "stream",
     "text": [
      "before trigger 14151\n",
      "SingleElectron trigger\n",
      "after trigger 12090\n"
     ]
    },
    {
     "name": "stderr",
     "output_type": "stream",
     "text": [
      "fill sigma ieta ieta for /eos/home-j/jiwoong/WZG_DB/2016/pre_post_separated_220209/FakePhoton/CR/merged/SingleElectron_Run2016D.root: 100%|██████████| 314/314 [00:00<00:00, 187822.51it/s]\n"
     ]
    },
    {
     "name": "stdout",
     "output_type": "stream",
     "text": [
      "before trigger 12116\n",
      "SingleElectron trigger\n",
      "after trigger 10390\n"
     ]
    },
    {
     "name": "stderr",
     "output_type": "stream",
     "text": [
      "fill sigma ieta ieta for /eos/home-j/jiwoong/WZG_DB/2016/pre_post_separated_220209/FakePhoton/CR/merged/SingleElectron_Run2016E.root: 100%|██████████| 293/293 [00:00<00:00, 215450.75it/s]\n"
     ]
    },
    {
     "name": "stdout",
     "output_type": "stream",
     "text": [
      "before trigger 9777\n",
      "SingleElectron trigger\n",
      "after trigger 8234\n"
     ]
    },
    {
     "name": "stderr",
     "output_type": "stream",
     "text": [
      "fill sigma ieta ieta for /eos/home-j/jiwoong/WZG_DB/2016/pre_post_separated_220209/FakePhoton/CR/merged/SingleElectron_Run2016F.root: 100%|██████████| 238/238 [00:00<00:00, 189600.07it/s]\n"
     ]
    },
    {
     "name": "stdout",
     "output_type": "stream",
     "text": [
      "before trigger 28049\n",
      "SingleElectron trigger\n",
      "after trigger 23451\n"
     ]
    },
    {
     "name": "stderr",
     "output_type": "stream",
     "text": [
      "fill sigma ieta ieta for /eos/home-j/jiwoong/WZG_DB/2016/pre_post_separated_220209/FakePhoton/CR/merged/SingleElectron_Run2016G.root: 100%|██████████| 571/571 [00:00<00:00, 192102.96it/s]\n"
     ]
    },
    {
     "name": "stdout",
     "output_type": "stream",
     "text": [
      "before trigger 30727\n",
      "SingleElectron trigger\n",
      "after trigger 26053\n"
     ]
    },
    {
     "name": "stderr",
     "output_type": "stream",
     "text": [
      "fill sigma ieta ieta for /eos/home-j/jiwoong/WZG_DB/2016/pre_post_separated_220209/FakePhoton/CR/merged/SingleElectron_Run2016H.root: 100%|██████████| 607/607 [00:00<00:00, 137685.50it/s]\n"
     ]
    },
    {
     "name": "stdout",
     "output_type": "stream",
     "text": [
      "before trigger 28747\n",
      "SingleMuon trigger\n",
      "after trigger 26828\n"
     ]
    },
    {
     "name": "stderr",
     "output_type": "stream",
     "text": [
      "fill sigma ieta ieta for /eos/home-j/jiwoong/WZG_DB/2016/pre_post_separated_220209/FakePhoton/CR/merged/SingleMuon_Run2016B.root: 100%|██████████| 684/684 [00:00<00:00, 200861.44it/s]\n"
     ]
    },
    {
     "name": "stdout",
     "output_type": "stream",
     "text": [
      "before trigger 13442\n",
      "SingleMuon trigger\n",
      "after trigger 12592\n"
     ]
    },
    {
     "name": "stderr",
     "output_type": "stream",
     "text": [
      "fill sigma ieta ieta for /eos/home-j/jiwoong/WZG_DB/2016/pre_post_separated_220209/FakePhoton/CR/merged/SingleMuon_Run2016C.root: 100%|██████████| 308/308 [00:00<00:00, 200131.00it/s]\n"
     ]
    },
    {
     "name": "stdout",
     "output_type": "stream",
     "text": [
      "before trigger 21967\n",
      "SingleMuon trigger\n",
      "after trigger 20697\n"
     ]
    },
    {
     "name": "stderr",
     "output_type": "stream",
     "text": [
      "fill sigma ieta ieta for /eos/home-j/jiwoong/WZG_DB/2016/pre_post_separated_220209/FakePhoton/CR/merged/SingleMuon_Run2016D.root: 100%|██████████| 539/539 [00:00<00:00, 211579.77it/s]\n"
     ]
    },
    {
     "name": "stdout",
     "output_type": "stream",
     "text": [
      "before trigger 19712\n",
      "SingleMuon trigger\n",
      "after trigger 18656\n"
     ]
    },
    {
     "name": "stderr",
     "output_type": "stream",
     "text": [
      "fill sigma ieta ieta for /eos/home-j/jiwoong/WZG_DB/2016/pre_post_separated_220209/FakePhoton/CR/merged/SingleMuon_Run2016E.root: 100%|██████████| 506/506 [00:00<00:00, 230011.69it/s]\n"
     ]
    },
    {
     "name": "stdout",
     "output_type": "stream",
     "text": [
      "before trigger 15619\n",
      "SingleMuon trigger\n",
      "after trigger 14784\n"
     ]
    },
    {
     "name": "stderr",
     "output_type": "stream",
     "text": [
      "fill sigma ieta ieta for /eos/home-j/jiwoong/WZG_DB/2016/pre_post_separated_220209/FakePhoton/CR/merged/SingleMuon_Run2016F.root: 100%|██████████| 394/394 [00:00<00:00, 179762.40it/s]\n"
     ]
    },
    {
     "name": "stdout",
     "output_type": "stream",
     "text": [
      "before trigger 43025\n",
      "SingleMuon trigger\n",
      "after trigger 40818\n"
     ]
    },
    {
     "name": "stderr",
     "output_type": "stream",
     "text": [
      "fill sigma ieta ieta for /eos/home-j/jiwoong/WZG_DB/2016/pre_post_separated_220209/FakePhoton/CR/merged/SingleMuon_Run2016G.root: 100%|██████████| 949/949 [00:00<00:00, 156277.76it/s]\n"
     ]
    },
    {
     "name": "stdout",
     "output_type": "stream",
     "text": [
      "before trigger 50311\n",
      "SingleMuon trigger\n",
      "after trigger 47810\n"
     ]
    },
    {
     "name": "stderr",
     "output_type": "stream",
     "text": [
      "fill sigma ieta ieta for /eos/home-j/jiwoong/WZG_DB/2016/pre_post_separated_220209/FakePhoton/CR/merged/SingleMuon_Run2016H.root: 100%|██████████| 1119/1119 [00:00<00:00, 208226.54it/s]"
     ]
    },
    {
     "name": "stdout",
     "output_type": "stream",
     "text": [
      "start ptbins: EB_PT4\n"
     ]
    },
    {
     "name": "stderr",
     "output_type": "stream",
     "text": [
      "\n"
     ]
    },
    {
     "name": "stdout",
     "output_type": "stream",
     "text": [
      "before trigger 21802\n",
      "DoubleEG trigger\n",
      "after trigger 2150\n"
     ]
    },
    {
     "name": "stderr",
     "output_type": "stream",
     "text": [
      "fill sigma ieta ieta for /eos/home-j/jiwoong/WZG_DB/2016/pre_post_separated_220209/FakePhoton/CR/merged/DoubleEG_Run2016B.root: 100%|██████████| 9/9 [00:00<00:00, 49344.75it/s]\n"
     ]
    },
    {
     "name": "stdout",
     "output_type": "stream",
     "text": [
      "before trigger 9001\n",
      "DoubleEG trigger\n",
      "after trigger 978\n"
     ]
    },
    {
     "name": "stderr",
     "output_type": "stream",
     "text": [
      "fill sigma ieta ieta for /eos/home-j/jiwoong/WZG_DB/2016/pre_post_separated_220209/FakePhoton/CR/merged/DoubleEG_Run2016C.root: 100%|██████████| 2/2 [00:00<00:00, 11814.94it/s]\n"
     ]
    },
    {
     "name": "stdout",
     "output_type": "stream",
     "text": [
      "before trigger 14543\n",
      "DoubleEG trigger\n",
      "after trigger 1533\n"
     ]
    },
    {
     "name": "stderr",
     "output_type": "stream",
     "text": [
      "fill sigma ieta ieta for /eos/home-j/jiwoong/WZG_DB/2016/pre_post_separated_220209/FakePhoton/CR/merged/DoubleEG_Run2016D.root: 100%|██████████| 10/10 [00:00<00:00, 33367.57it/s]\n"
     ]
    },
    {
     "name": "stdout",
     "output_type": "stream",
     "text": [
      "before trigger 12638\n",
      "DoubleEG trigger\n",
      "after trigger 1394\n"
     ]
    },
    {
     "name": "stderr",
     "output_type": "stream",
     "text": [
      "fill sigma ieta ieta for /eos/home-j/jiwoong/WZG_DB/2016/pre_post_separated_220209/FakePhoton/CR/merged/DoubleEG_Run2016E.root: 100%|██████████| 7/7 [00:00<00:00, 46529.52it/s]\n"
     ]
    },
    {
     "name": "stdout",
     "output_type": "stream",
     "text": [
      "before trigger 10132\n",
      "DoubleEG trigger\n",
      "after trigger 1194\n"
     ]
    },
    {
     "name": "stderr",
     "output_type": "stream",
     "text": [
      "fill sigma ieta ieta for /eos/home-j/jiwoong/WZG_DB/2016/pre_post_separated_220209/FakePhoton/CR/merged/DoubleEG_Run2016F.root: 100%|██████████| 7/7 [00:00<00:00, 14259.41it/s]\n"
     ]
    },
    {
     "name": "stdout",
     "output_type": "stream",
     "text": [
      "before trigger 28298\n",
      "DoubleEG trigger\n",
      "after trigger 3355\n"
     ]
    },
    {
     "name": "stderr",
     "output_type": "stream",
     "text": [
      "fill sigma ieta ieta for /eos/home-j/jiwoong/WZG_DB/2016/pre_post_separated_220209/FakePhoton/CR/merged/DoubleEG_Run2016G.root: 100%|██████████| 6/6 [00:00<00:00, 36366.80it/s]\n"
     ]
    },
    {
     "name": "stdout",
     "output_type": "stream",
     "text": [
      "before trigger 31208\n",
      "DoubleEG trigger\n",
      "after trigger 3626\n"
     ]
    },
    {
     "name": "stderr",
     "output_type": "stream",
     "text": [
      "fill sigma ieta ieta for /eos/home-j/jiwoong/WZG_DB/2016/pre_post_separated_220209/FakePhoton/CR/merged/DoubleEG_Run2016H.root: 100%|██████████| 24/24 [00:00<00:00, 60934.20it/s]\n"
     ]
    },
    {
     "name": "stdout",
     "output_type": "stream",
     "text": [
      "before trigger 28672\n",
      "DoubleMuon trigger\n",
      "after trigger 1617\n"
     ]
    },
    {
     "name": "stderr",
     "output_type": "stream",
     "text": [
      "fill sigma ieta ieta for /eos/home-j/jiwoong/WZG_DB/2016/pre_post_separated_220209/FakePhoton/CR/merged/DoubleMuon_Run2016B.root: 100%|██████████| 6/6 [00:00<00:00, 42726.36it/s]\n"
     ]
    },
    {
     "name": "stdout",
     "output_type": "stream",
     "text": [
      "before trigger 12373\n",
      "DoubleMuon trigger\n",
      "after trigger 708\n"
     ]
    },
    {
     "name": "stderr",
     "output_type": "stream",
     "text": [
      "fill sigma ieta ieta for /eos/home-j/jiwoong/WZG_DB/2016/pre_post_separated_220209/FakePhoton/CR/merged/DoubleMuon_Run2016C.root: 100%|██████████| 4/4 [00:00<00:00, 26011.19it/s]\n"
     ]
    },
    {
     "name": "stdout",
     "output_type": "stream",
     "text": [
      "before trigger 20431\n",
      "DoubleMuon trigger\n",
      "after trigger 1145\n"
     ]
    },
    {
     "name": "stderr",
     "output_type": "stream",
     "text": [
      "fill sigma ieta ieta for /eos/home-j/jiwoong/WZG_DB/2016/pre_post_separated_220209/FakePhoton/CR/merged/DoubleMuon_Run2016D.root: 100%|██████████| 5/5 [00:00<00:00, 17063.89it/s]\n"
     ]
    },
    {
     "name": "stdout",
     "output_type": "stream",
     "text": [
      "before trigger 18473\n",
      "DoubleMuon trigger\n",
      "after trigger 1120\n"
     ]
    },
    {
     "name": "stderr",
     "output_type": "stream",
     "text": [
      "fill sigma ieta ieta for /eos/home-j/jiwoong/WZG_DB/2016/pre_post_separated_220209/FakePhoton/CR/merged/DoubleMuon_Run2016E.root: 100%|██████████| 5/5 [00:00<00:00, 18331.75it/s]\n"
     ]
    },
    {
     "name": "stdout",
     "output_type": "stream",
     "text": [
      "before trigger 14648\n",
      "DoubleMuon trigger\n",
      "after trigger 912\n"
     ]
    },
    {
     "name": "stderr",
     "output_type": "stream",
     "text": [
      "fill sigma ieta ieta for /eos/home-j/jiwoong/WZG_DB/2016/pre_post_separated_220209/FakePhoton/CR/merged/DoubleMuon_Run2016F.root: 100%|██████████| 4/4 [00:00<00:00, 19463.13it/s]\n"
     ]
    },
    {
     "name": "stdout",
     "output_type": "stream",
     "text": [
      "before trigger 40759\n",
      "DoubleMuon trigger\n",
      "after trigger 2478\n"
     ]
    },
    {
     "name": "stderr",
     "output_type": "stream",
     "text": [
      "fill sigma ieta ieta for /eos/home-j/jiwoong/WZG_DB/2016/pre_post_separated_220209/FakePhoton/CR/merged/DoubleMuon_Run2016G.root: 100%|██████████| 18/18 [00:00<00:00, 97040.45it/s]\n"
     ]
    },
    {
     "name": "stdout",
     "output_type": "stream",
     "text": [
      "before trigger 45744\n",
      "DoubleMuon trigger\n",
      "after trigger 2712\n"
     ]
    },
    {
     "name": "stderr",
     "output_type": "stream",
     "text": [
      "fill sigma ieta ieta for /eos/home-j/jiwoong/WZG_DB/2016/pre_post_separated_220209/FakePhoton/CR/merged/DoubleMuon_Run2016H.root: 100%|██████████| 14/14 [00:00<00:00, 70407.98it/s]\n"
     ]
    },
    {
     "name": "stdout",
     "output_type": "stream",
     "text": [
      "before trigger 16997\n",
      "MuonEG Trigger\n",
      "after trigger 181\n"
     ]
    },
    {
     "name": "stderr",
     "output_type": "stream",
     "text": [
      "fill sigma ieta ieta for /eos/home-j/jiwoong/WZG_DB/2016/pre_post_separated_220209/FakePhoton/CR/merged/MuonEG_Run2016B.root: 100%|██████████| 2/2 [00:00<00:00, 7958.83it/s]\n"
     ]
    },
    {
     "name": "stdout",
     "output_type": "stream",
     "text": [
      "before trigger 7691\n",
      "MuonEG Trigger\n",
      "after trigger 76\n"
     ]
    },
    {
     "name": "stderr",
     "output_type": "stream",
     "text": [
      "fill sigma ieta ieta for /eos/home-j/jiwoong/WZG_DB/2016/pre_post_separated_220209/FakePhoton/CR/merged/MuonEG_Run2016C.root: 100%|██████████| 2/2 [00:00<00:00, 17296.10it/s]\n"
     ]
    },
    {
     "name": "stdout",
     "output_type": "stream",
     "text": [
      "before trigger 12462\n",
      "MuonEG Trigger\n",
      "after trigger 126\n"
     ]
    },
    {
     "name": "stderr",
     "output_type": "stream",
     "text": [
      "fill sigma ieta ieta for /eos/home-j/jiwoong/WZG_DB/2016/pre_post_separated_220209/FakePhoton/CR/merged/MuonEG_Run2016D.root: 100%|██████████| 1/1 [00:00<00:00, 8848.74it/s]\n"
     ]
    },
    {
     "name": "stdout",
     "output_type": "stream",
     "text": [
      "before trigger 11399\n",
      "MuonEG Trigger\n",
      "after trigger 133\n"
     ]
    },
    {
     "name": "stderr",
     "output_type": "stream",
     "text": [
      "fill sigma ieta ieta for /eos/home-j/jiwoong/WZG_DB/2016/pre_post_separated_220209/FakePhoton/CR/merged/MuonEG_Run2016E.root: 100%|██████████| 2/2 [00:00<00:00, 17734.90it/s]\n"
     ]
    },
    {
     "name": "stdout",
     "output_type": "stream",
     "text": [
      "before trigger 7254\n",
      "MuonEG Trigger\n",
      "after trigger 114\n"
     ]
    },
    {
     "name": "stderr",
     "output_type": "stream",
     "text": [
      "fill sigma ieta ieta for /eos/home-j/jiwoong/WZG_DB/2016/pre_post_separated_220209/FakePhoton/CR/merged/MuonEG_Run2016F.root: 100%|██████████| 1/1 [00:00<00:00, 10010.27it/s]\n"
     ]
    },
    {
     "name": "stdout",
     "output_type": "stream",
     "text": [
      "before trigger 16626\n",
      "MuonEG Trigger\n",
      "after trigger 280\n"
     ]
    },
    {
     "name": "stderr",
     "output_type": "stream",
     "text": [
      "fill sigma ieta ieta for /eos/home-j/jiwoong/WZG_DB/2016/pre_post_separated_220209/FakePhoton/CR/merged/MuonEG_Run2016G.root: 100%|██████████| 5/5 [00:00<00:00, 37183.55it/s]\n"
     ]
    },
    {
     "name": "stdout",
     "output_type": "stream",
     "text": [
      "before trigger 18589\n",
      "MuonEG Trigger\n",
      "after trigger 276\n"
     ]
    },
    {
     "name": "stderr",
     "output_type": "stream",
     "text": [
      "fill sigma ieta ieta for /eos/home-j/jiwoong/WZG_DB/2016/pre_post_separated_220209/FakePhoton/CR/merged/MuonEG_Run2016H.root: 100%|██████████| 3/3 [00:00<00:00, 19358.33it/s]\n"
     ]
    },
    {
     "name": "stdout",
     "output_type": "stream",
     "text": [
      "before trigger 20587\n",
      "SingleElectron trigger\n",
      "after trigger 17501\n"
     ]
    },
    {
     "name": "stderr",
     "output_type": "stream",
     "text": [
      "fill sigma ieta ieta for /eos/home-j/jiwoong/WZG_DB/2016/pre_post_separated_220209/FakePhoton/CR/merged/SingleElectron_Run2016B.root: 100%|██████████| 161/161 [00:00<00:00, 186903.67it/s]\n"
     ]
    },
    {
     "name": "stdout",
     "output_type": "stream",
     "text": [
      "before trigger 8509\n",
      "SingleElectron trigger\n",
      "after trigger 7197\n"
     ]
    },
    {
     "name": "stderr",
     "output_type": "stream",
     "text": [
      "fill sigma ieta ieta for /eos/home-j/jiwoong/WZG_DB/2016/pre_post_separated_220209/FakePhoton/CR/merged/SingleElectron_Run2016C.root: 100%|██████████| 61/61 [00:00<00:00, 167882.25it/s]\n"
     ]
    },
    {
     "name": "stdout",
     "output_type": "stream",
     "text": [
      "before trigger 14151\n",
      "SingleElectron trigger\n",
      "after trigger 12090\n"
     ]
    },
    {
     "name": "stderr",
     "output_type": "stream",
     "text": [
      "fill sigma ieta ieta for /eos/home-j/jiwoong/WZG_DB/2016/pre_post_separated_220209/FakePhoton/CR/merged/SingleElectron_Run2016D.root: 100%|██████████| 105/105 [00:00<00:00, 193243.49it/s]\n"
     ]
    },
    {
     "name": "stdout",
     "output_type": "stream",
     "text": [
      "before trigger 12116\n",
      "SingleElectron trigger\n",
      "after trigger 10390\n"
     ]
    },
    {
     "name": "stderr",
     "output_type": "stream",
     "text": [
      "fill sigma ieta ieta for /eos/home-j/jiwoong/WZG_DB/2016/pre_post_separated_220209/FakePhoton/CR/merged/SingleElectron_Run2016E.root: 100%|██████████| 88/88 [00:00<00:00, 151084.22it/s]\n"
     ]
    },
    {
     "name": "stdout",
     "output_type": "stream",
     "text": [
      "before trigger 9777\n",
      "SingleElectron trigger\n",
      "after trigger 8234\n"
     ]
    },
    {
     "name": "stderr",
     "output_type": "stream",
     "text": [
      "fill sigma ieta ieta for /eos/home-j/jiwoong/WZG_DB/2016/pre_post_separated_220209/FakePhoton/CR/merged/SingleElectron_Run2016F.root: 100%|██████████| 80/80 [00:00<00:00, 180886.43it/s]\n"
     ]
    },
    {
     "name": "stdout",
     "output_type": "stream",
     "text": [
      "before trigger 28049\n",
      "SingleElectron trigger\n",
      "after trigger 23451\n"
     ]
    },
    {
     "name": "stderr",
     "output_type": "stream",
     "text": [
      "fill sigma ieta ieta for /eos/home-j/jiwoong/WZG_DB/2016/pre_post_separated_220209/FakePhoton/CR/merged/SingleElectron_Run2016G.root: 100%|██████████| 215/215 [00:00<00:00, 200038.90it/s]\n"
     ]
    },
    {
     "name": "stdout",
     "output_type": "stream",
     "text": [
      "before trigger 30727\n",
      "SingleElectron trigger\n",
      "after trigger 26053\n"
     ]
    },
    {
     "name": "stderr",
     "output_type": "stream",
     "text": [
      "fill sigma ieta ieta for /eos/home-j/jiwoong/WZG_DB/2016/pre_post_separated_220209/FakePhoton/CR/merged/SingleElectron_Run2016H.root: 100%|██████████| 230/230 [00:00<00:00, 178679.37it/s]\n"
     ]
    },
    {
     "name": "stdout",
     "output_type": "stream",
     "text": [
      "before trigger 28747\n",
      "SingleMuon trigger\n",
      "after trigger 26828\n"
     ]
    },
    {
     "name": "stderr",
     "output_type": "stream",
     "text": [
      "fill sigma ieta ieta for /eos/home-j/jiwoong/WZG_DB/2016/pre_post_separated_220209/FakePhoton/CR/merged/SingleMuon_Run2016B.root: 100%|██████████| 231/231 [00:00<00:00, 210581.23it/s]\n"
     ]
    },
    {
     "name": "stdout",
     "output_type": "stream",
     "text": [
      "before trigger 13442\n",
      "SingleMuon trigger\n",
      "after trigger 12592\n"
     ]
    },
    {
     "name": "stderr",
     "output_type": "stream",
     "text": [
      "fill sigma ieta ieta for /eos/home-j/jiwoong/WZG_DB/2016/pre_post_separated_220209/FakePhoton/CR/merged/SingleMuon_Run2016C.root: 100%|██████████| 116/116 [00:00<00:00, 182978.29it/s]\n"
     ]
    },
    {
     "name": "stdout",
     "output_type": "stream",
     "text": [
      "before trigger 21967\n",
      "SingleMuon trigger\n",
      "after trigger 20697\n"
     ]
    },
    {
     "name": "stderr",
     "output_type": "stream",
     "text": [
      "fill sigma ieta ieta for /eos/home-j/jiwoong/WZG_DB/2016/pre_post_separated_220209/FakePhoton/CR/merged/SingleMuon_Run2016D.root: 100%|██████████| 196/196 [00:00<00:00, 183173.70it/s]\n"
     ]
    },
    {
     "name": "stdout",
     "output_type": "stream",
     "text": [
      "before trigger 19712\n",
      "SingleMuon trigger\n",
      "after trigger 18656\n"
     ]
    },
    {
     "name": "stderr",
     "output_type": "stream",
     "text": [
      "fill sigma ieta ieta for /eos/home-j/jiwoong/WZG_DB/2016/pre_post_separated_220209/FakePhoton/CR/merged/SingleMuon_Run2016E.root: 100%|██████████| 170/170 [00:00<00:00, 190091.09it/s]\n"
     ]
    },
    {
     "name": "stdout",
     "output_type": "stream",
     "text": [
      "before trigger 15619\n",
      "SingleMuon trigger\n",
      "after trigger 14784\n"
     ]
    },
    {
     "name": "stderr",
     "output_type": "stream",
     "text": [
      "fill sigma ieta ieta for /eos/home-j/jiwoong/WZG_DB/2016/pre_post_separated_220209/FakePhoton/CR/merged/SingleMuon_Run2016F.root: 100%|██████████| 124/124 [00:00<00:00, 188371.49it/s]\n"
     ]
    },
    {
     "name": "stdout",
     "output_type": "stream",
     "text": [
      "before trigger 43025\n",
      "SingleMuon trigger\n",
      "after trigger 40818\n"
     ]
    },
    {
     "name": "stderr",
     "output_type": "stream",
     "text": [
      "fill sigma ieta ieta for /eos/home-j/jiwoong/WZG_DB/2016/pre_post_separated_220209/FakePhoton/CR/merged/SingleMuon_Run2016G.root: 100%|██████████| 295/295 [00:00<00:00, 191328.23it/s]\n"
     ]
    },
    {
     "name": "stdout",
     "output_type": "stream",
     "text": [
      "before trigger 50311\n",
      "SingleMuon trigger\n",
      "after trigger 47810\n"
     ]
    },
    {
     "name": "stderr",
     "output_type": "stream",
     "text": [
      "fill sigma ieta ieta for /eos/home-j/jiwoong/WZG_DB/2016/pre_post_separated_220209/FakePhoton/CR/merged/SingleMuon_Run2016H.root: 100%|██████████| 393/393 [00:00<00:00, 201437.31it/s]"
     ]
    },
    {
     "name": "stdout",
     "output_type": "stream",
     "text": [
      "start ptbins: EB_PT5\n"
     ]
    },
    {
     "name": "stderr",
     "output_type": "stream",
     "text": [
      "\n"
     ]
    },
    {
     "name": "stdout",
     "output_type": "stream",
     "text": [
      "before trigger 21802\n",
      "DoubleEG trigger\n",
      "after trigger 2150\n"
     ]
    },
    {
     "name": "stderr",
     "output_type": "stream",
     "text": [
      "fill sigma ieta ieta for /eos/home-j/jiwoong/WZG_DB/2016/pre_post_separated_220209/FakePhoton/CR/merged/DoubleEG_Run2016B.root: 100%|██████████| 2/2 [00:00<00:00, 5667.98it/s]\n"
     ]
    },
    {
     "name": "stdout",
     "output_type": "stream",
     "text": [
      "before trigger 9001\n",
      "DoubleEG trigger\n",
      "after trigger 978\n"
     ]
    },
    {
     "name": "stderr",
     "output_type": "stream",
     "text": [
      "fill sigma ieta ieta for /eos/home-j/jiwoong/WZG_DB/2016/pre_post_separated_220209/FakePhoton/CR/merged/DoubleEG_Run2016C.root: 0it [00:00, ?it/s]\n"
     ]
    },
    {
     "name": "stdout",
     "output_type": "stream",
     "text": [
      "before trigger 14543\n",
      "DoubleEG trigger\n",
      "after trigger 1533\n"
     ]
    },
    {
     "name": "stderr",
     "output_type": "stream",
     "text": [
      "fill sigma ieta ieta for /eos/home-j/jiwoong/WZG_DB/2016/pre_post_separated_220209/FakePhoton/CR/merged/DoubleEG_Run2016D.root: 100%|██████████| 1/1 [00:00<00:00, 2559.06it/s]\n"
     ]
    },
    {
     "name": "stdout",
     "output_type": "stream",
     "text": [
      "before trigger 12638\n",
      "DoubleEG trigger\n",
      "after trigger 1394\n"
     ]
    },
    {
     "name": "stderr",
     "output_type": "stream",
     "text": [
      "fill sigma ieta ieta for /eos/home-j/jiwoong/WZG_DB/2016/pre_post_separated_220209/FakePhoton/CR/merged/DoubleEG_Run2016E.root: 100%|██████████| 3/3 [00:00<00:00, 25997.75it/s]\n"
     ]
    },
    {
     "name": "stdout",
     "output_type": "stream",
     "text": [
      "before trigger 10132\n",
      "DoubleEG trigger\n",
      "after trigger 1194\n"
     ]
    },
    {
     "name": "stderr",
     "output_type": "stream",
     "text": [
      "fill sigma ieta ieta for /eos/home-j/jiwoong/WZG_DB/2016/pre_post_separated_220209/FakePhoton/CR/merged/DoubleEG_Run2016F.root: 100%|██████████| 2/2 [00:00<00:00, 19553.86it/s]\n"
     ]
    },
    {
     "name": "stdout",
     "output_type": "stream",
     "text": [
      "before trigger 28298\n",
      "DoubleEG trigger\n",
      "after trigger 3355\n"
     ]
    },
    {
     "name": "stderr",
     "output_type": "stream",
     "text": [
      "fill sigma ieta ieta for /eos/home-j/jiwoong/WZG_DB/2016/pre_post_separated_220209/FakePhoton/CR/merged/DoubleEG_Run2016G.root: 100%|██████████| 7/7 [00:00<00:00, 55924.05it/s]\n"
     ]
    },
    {
     "name": "stdout",
     "output_type": "stream",
     "text": [
      "before trigger 31208\n",
      "DoubleEG trigger\n",
      "after trigger 3626\n"
     ]
    },
    {
     "name": "stderr",
     "output_type": "stream",
     "text": [
      "fill sigma ieta ieta for /eos/home-j/jiwoong/WZG_DB/2016/pre_post_separated_220209/FakePhoton/CR/merged/DoubleEG_Run2016H.root: 100%|██████████| 6/6 [00:00<00:00, 29026.33it/s]\n"
     ]
    },
    {
     "name": "stdout",
     "output_type": "stream",
     "text": [
      "before trigger 28672\n",
      "DoubleMuon trigger\n",
      "after trigger 1617\n"
     ]
    },
    {
     "name": "stderr",
     "output_type": "stream",
     "text": [
      "fill sigma ieta ieta for /eos/home-j/jiwoong/WZG_DB/2016/pre_post_separated_220209/FakePhoton/CR/merged/DoubleMuon_Run2016B.root: 100%|██████████| 1/1 [00:00<00:00, 9554.22it/s]\n"
     ]
    },
    {
     "name": "stdout",
     "output_type": "stream",
     "text": [
      "before trigger 12373\n",
      "DoubleMuon trigger\n",
      "after trigger 708\n"
     ]
    },
    {
     "name": "stderr",
     "output_type": "stream",
     "text": [
      "fill sigma ieta ieta for /eos/home-j/jiwoong/WZG_DB/2016/pre_post_separated_220209/FakePhoton/CR/merged/DoubleMuon_Run2016C.root: 100%|██████████| 1/1 [00:00<00:00, 10255.02it/s]\n"
     ]
    },
    {
     "name": "stdout",
     "output_type": "stream",
     "text": [
      "before trigger 20431\n",
      "DoubleMuon trigger\n",
      "after trigger 1145\n"
     ]
    },
    {
     "name": "stderr",
     "output_type": "stream",
     "text": [
      "fill sigma ieta ieta for /eos/home-j/jiwoong/WZG_DB/2016/pre_post_separated_220209/FakePhoton/CR/merged/DoubleMuon_Run2016D.root: 100%|██████████| 1/1 [00:00<00:00, 4888.47it/s]\n"
     ]
    },
    {
     "name": "stdout",
     "output_type": "stream",
     "text": [
      "before trigger 18473\n",
      "DoubleMuon trigger\n",
      "after trigger 1120\n"
     ]
    },
    {
     "name": "stderr",
     "output_type": "stream",
     "text": [
      "fill sigma ieta ieta for /eos/home-j/jiwoong/WZG_DB/2016/pre_post_separated_220209/FakePhoton/CR/merged/DoubleMuon_Run2016E.root: 100%|██████████| 2/2 [00:00<00:00, 20410.24it/s]\n"
     ]
    },
    {
     "name": "stdout",
     "output_type": "stream",
     "text": [
      "before trigger 14648\n",
      "DoubleMuon trigger\n",
      "after trigger 912\n"
     ]
    },
    {
     "name": "stderr",
     "output_type": "stream",
     "text": [
      "fill sigma ieta ieta for /eos/home-j/jiwoong/WZG_DB/2016/pre_post_separated_220209/FakePhoton/CR/merged/DoubleMuon_Run2016F.root: 100%|██████████| 1/1 [00:00<00:00, 7710.12it/s]\n"
     ]
    },
    {
     "name": "stdout",
     "output_type": "stream",
     "text": [
      "before trigger 40759\n",
      "DoubleMuon trigger\n",
      "after trigger 2478\n"
     ]
    },
    {
     "name": "stderr",
     "output_type": "stream",
     "text": [
      "fill sigma ieta ieta for /eos/home-j/jiwoong/WZG_DB/2016/pre_post_separated_220209/FakePhoton/CR/merged/DoubleMuon_Run2016G.root: 100%|██████████| 5/5 [00:00<00:00, 17360.53it/s]\n"
     ]
    },
    {
     "name": "stdout",
     "output_type": "stream",
     "text": [
      "before trigger 45744\n",
      "DoubleMuon trigger\n",
      "after trigger 2712\n"
     ]
    },
    {
     "name": "stderr",
     "output_type": "stream",
     "text": [
      "fill sigma ieta ieta for /eos/home-j/jiwoong/WZG_DB/2016/pre_post_separated_220209/FakePhoton/CR/merged/DoubleMuon_Run2016H.root: 100%|██████████| 3/3 [00:00<00:00, 12646.14it/s]\n"
     ]
    },
    {
     "name": "stdout",
     "output_type": "stream",
     "text": [
      "before trigger 16997\n",
      "MuonEG Trigger\n",
      "after trigger 181\n"
     ]
    },
    {
     "name": "stderr",
     "output_type": "stream",
     "text": [
      "fill sigma ieta ieta for /eos/home-j/jiwoong/WZG_DB/2016/pre_post_separated_220209/FakePhoton/CR/merged/MuonEG_Run2016B.root: 0it [00:00, ?it/s]\n"
     ]
    },
    {
     "name": "stdout",
     "output_type": "stream",
     "text": [
      "before trigger 7691\n",
      "MuonEG Trigger\n",
      "after trigger 76\n"
     ]
    },
    {
     "name": "stderr",
     "output_type": "stream",
     "text": [
      "fill sigma ieta ieta for /eos/home-j/jiwoong/WZG_DB/2016/pre_post_separated_220209/FakePhoton/CR/merged/MuonEG_Run2016C.root: 0it [00:00, ?it/s]\n"
     ]
    },
    {
     "name": "stdout",
     "output_type": "stream",
     "text": [
      "before trigger 12462\n",
      "MuonEG Trigger\n",
      "after trigger 126\n"
     ]
    },
    {
     "name": "stderr",
     "output_type": "stream",
     "text": [
      "fill sigma ieta ieta for /eos/home-j/jiwoong/WZG_DB/2016/pre_post_separated_220209/FakePhoton/CR/merged/MuonEG_Run2016D.root: 0it [00:00, ?it/s]\n"
     ]
    },
    {
     "name": "stdout",
     "output_type": "stream",
     "text": [
      "before trigger 11399\n",
      "MuonEG Trigger\n",
      "after trigger 133\n"
     ]
    },
    {
     "name": "stderr",
     "output_type": "stream",
     "text": [
      "fill sigma ieta ieta for /eos/home-j/jiwoong/WZG_DB/2016/pre_post_separated_220209/FakePhoton/CR/merged/MuonEG_Run2016E.root: 100%|██████████| 2/2 [00:00<00:00, 16039.40it/s]\n"
     ]
    },
    {
     "name": "stdout",
     "output_type": "stream",
     "text": [
      "before trigger 7254\n",
      "MuonEG Trigger\n",
      "after trigger 114\n"
     ]
    },
    {
     "name": "stderr",
     "output_type": "stream",
     "text": [
      "fill sigma ieta ieta for /eos/home-j/jiwoong/WZG_DB/2016/pre_post_separated_220209/FakePhoton/CR/merged/MuonEG_Run2016F.root: 0it [00:00, ?it/s]\n"
     ]
    },
    {
     "name": "stdout",
     "output_type": "stream",
     "text": [
      "before trigger 16626\n",
      "MuonEG Trigger\n",
      "after trigger 280\n"
     ]
    },
    {
     "name": "stderr",
     "output_type": "stream",
     "text": [
      "fill sigma ieta ieta for /eos/home-j/jiwoong/WZG_DB/2016/pre_post_separated_220209/FakePhoton/CR/merged/MuonEG_Run2016G.root: 100%|██████████| 1/1 [00:00<00:00, 8981.38it/s]\n"
     ]
    },
    {
     "name": "stdout",
     "output_type": "stream",
     "text": [
      "before trigger 18589\n",
      "MuonEG Trigger\n",
      "after trigger 276\n"
     ]
    },
    {
     "name": "stderr",
     "output_type": "stream",
     "text": [
      "fill sigma ieta ieta for /eos/home-j/jiwoong/WZG_DB/2016/pre_post_separated_220209/FakePhoton/CR/merged/MuonEG_Run2016H.root: 0it [00:00, ?it/s]\n"
     ]
    },
    {
     "name": "stdout",
     "output_type": "stream",
     "text": [
      "before trigger 20587\n",
      "SingleElectron trigger\n",
      "after trigger 17501\n"
     ]
    },
    {
     "name": "stderr",
     "output_type": "stream",
     "text": [
      "fill sigma ieta ieta for /eos/home-j/jiwoong/WZG_DB/2016/pre_post_separated_220209/FakePhoton/CR/merged/SingleElectron_Run2016B.root: 100%|██████████| 87/87 [00:00<00:00, 97646.36it/s]\n"
     ]
    },
    {
     "name": "stdout",
     "output_type": "stream",
     "text": [
      "before trigger 8509\n",
      "SingleElectron trigger\n",
      "after trigger 7197\n"
     ]
    },
    {
     "name": "stderr",
     "output_type": "stream",
     "text": [
      "fill sigma ieta ieta for /eos/home-j/jiwoong/WZG_DB/2016/pre_post_separated_220209/FakePhoton/CR/merged/SingleElectron_Run2016C.root: 100%|██████████| 31/31 [00:00<00:00, 127224.49it/s]\n"
     ]
    },
    {
     "name": "stdout",
     "output_type": "stream",
     "text": [
      "before trigger 14151\n",
      "SingleElectron trigger\n",
      "after trigger 12090\n"
     ]
    },
    {
     "name": "stderr",
     "output_type": "stream",
     "text": [
      "fill sigma ieta ieta for /eos/home-j/jiwoong/WZG_DB/2016/pre_post_separated_220209/FakePhoton/CR/merged/SingleElectron_Run2016D.root: 100%|██████████| 69/69 [00:00<00:00, 151126.36it/s]\n"
     ]
    },
    {
     "name": "stdout",
     "output_type": "stream",
     "text": [
      "before trigger 12116\n",
      "SingleElectron trigger\n",
      "after trigger 10390\n"
     ]
    },
    {
     "name": "stderr",
     "output_type": "stream",
     "text": [
      "fill sigma ieta ieta for /eos/home-j/jiwoong/WZG_DB/2016/pre_post_separated_220209/FakePhoton/CR/merged/SingleElectron_Run2016E.root: 100%|██████████| 63/63 [00:00<00:00, 155435.97it/s]\n"
     ]
    },
    {
     "name": "stdout",
     "output_type": "stream",
     "text": [
      "before trigger 9777\n",
      "SingleElectron trigger\n",
      "after trigger 8234\n"
     ]
    },
    {
     "name": "stderr",
     "output_type": "stream",
     "text": [
      "fill sigma ieta ieta for /eos/home-j/jiwoong/WZG_DB/2016/pre_post_separated_220209/FakePhoton/CR/merged/SingleElectron_Run2016F.root: 100%|██████████| 51/51 [00:00<00:00, 160713.38it/s]\n"
     ]
    },
    {
     "name": "stdout",
     "output_type": "stream",
     "text": [
      "before trigger 28049\n",
      "SingleElectron trigger\n",
      "after trigger 23451\n"
     ]
    },
    {
     "name": "stderr",
     "output_type": "stream",
     "text": [
      "fill sigma ieta ieta for /eos/home-j/jiwoong/WZG_DB/2016/pre_post_separated_220209/FakePhoton/CR/merged/SingleElectron_Run2016G.root: 100%|██████████| 136/136 [00:00<00:00, 194485.29it/s]\n"
     ]
    },
    {
     "name": "stdout",
     "output_type": "stream",
     "text": [
      "before trigger 30727\n",
      "SingleElectron trigger\n",
      "after trigger 26053\n"
     ]
    },
    {
     "name": "stderr",
     "output_type": "stream",
     "text": [
      "fill sigma ieta ieta for /eos/home-j/jiwoong/WZG_DB/2016/pre_post_separated_220209/FakePhoton/CR/merged/SingleElectron_Run2016H.root: 100%|██████████| 127/127 [00:00<00:00, 186055.40it/s]\n"
     ]
    },
    {
     "name": "stdout",
     "output_type": "stream",
     "text": [
      "before trigger 28747\n",
      "SingleMuon trigger\n",
      "after trigger 26828\n"
     ]
    },
    {
     "name": "stderr",
     "output_type": "stream",
     "text": [
      "fill sigma ieta ieta for /eos/home-j/jiwoong/WZG_DB/2016/pre_post_separated_220209/FakePhoton/CR/merged/SingleMuon_Run2016B.root: 100%|██████████| 124/124 [00:00<00:00, 197453.95it/s]\n"
     ]
    },
    {
     "name": "stdout",
     "output_type": "stream",
     "text": [
      "before trigger 13442\n",
      "SingleMuon trigger\n",
      "after trigger 12592\n"
     ]
    },
    {
     "name": "stderr",
     "output_type": "stream",
     "text": [
      "fill sigma ieta ieta for /eos/home-j/jiwoong/WZG_DB/2016/pre_post_separated_220209/FakePhoton/CR/merged/SingleMuon_Run2016C.root: 100%|██████████| 62/62 [00:00<00:00, 68886.58it/s]\n"
     ]
    },
    {
     "name": "stdout",
     "output_type": "stream",
     "text": [
      "before trigger 21967\n",
      "SingleMuon trigger\n",
      "after trigger 20697\n"
     ]
    },
    {
     "name": "stderr",
     "output_type": "stream",
     "text": [
      "fill sigma ieta ieta for /eos/home-j/jiwoong/WZG_DB/2016/pre_post_separated_220209/FakePhoton/CR/merged/SingleMuon_Run2016D.root: 100%|██████████| 108/108 [00:00<00:00, 168021.08it/s]\n"
     ]
    },
    {
     "name": "stdout",
     "output_type": "stream",
     "text": [
      "before trigger 19712\n",
      "SingleMuon trigger\n",
      "after trigger 18656\n"
     ]
    },
    {
     "name": "stderr",
     "output_type": "stream",
     "text": [
      "fill sigma ieta ieta for /eos/home-j/jiwoong/WZG_DB/2016/pre_post_separated_220209/FakePhoton/CR/merged/SingleMuon_Run2016E.root: 100%|██████████| 88/88 [00:00<00:00, 183539.91it/s]\n"
     ]
    },
    {
     "name": "stdout",
     "output_type": "stream",
     "text": [
      "before trigger 15619\n",
      "SingleMuon trigger\n",
      "after trigger 14784\n"
     ]
    },
    {
     "name": "stderr",
     "output_type": "stream",
     "text": [
      "fill sigma ieta ieta for /eos/home-j/jiwoong/WZG_DB/2016/pre_post_separated_220209/FakePhoton/CR/merged/SingleMuon_Run2016F.root: 100%|██████████| 65/65 [00:00<00:00, 170393.60it/s]\n"
     ]
    },
    {
     "name": "stdout",
     "output_type": "stream",
     "text": [
      "before trigger 43025\n",
      "SingleMuon trigger\n",
      "after trigger 40818\n"
     ]
    },
    {
     "name": "stderr",
     "output_type": "stream",
     "text": [
      "fill sigma ieta ieta for /eos/home-j/jiwoong/WZG_DB/2016/pre_post_separated_220209/FakePhoton/CR/merged/SingleMuon_Run2016G.root: 100%|██████████| 219/219 [00:00<00:00, 204213.56it/s]\n"
     ]
    },
    {
     "name": "stdout",
     "output_type": "stream",
     "text": [
      "before trigger 50311\n",
      "SingleMuon trigger\n",
      "after trigger 47810\n"
     ]
    },
    {
     "name": "stderr",
     "output_type": "stream",
     "text": [
      "fill sigma ieta ieta for /eos/home-j/jiwoong/WZG_DB/2016/pre_post_separated_220209/FakePhoton/CR/merged/SingleMuon_Run2016H.root: 100%|██████████| 208/208 [00:00<00:00, 211443.34it/s]"
     ]
    },
    {
     "name": "stdout",
     "output_type": "stream",
     "text": [
      "start ptbins: EE_PT1\n"
     ]
    },
    {
     "name": "stderr",
     "output_type": "stream",
     "text": [
      "\n"
     ]
    },
    {
     "name": "stdout",
     "output_type": "stream",
     "text": [
      "before trigger 21802\n",
      "DoubleEG trigger\n",
      "after trigger 2150\n"
     ]
    },
    {
     "name": "stderr",
     "output_type": "stream",
     "text": [
      "fill sigma ieta ieta for /eos/home-j/jiwoong/WZG_DB/2016/pre_post_separated_220209/FakePhoton/CR/merged/DoubleEG_Run2016B.root: 100%|██████████| 133/133 [00:00<00:00, 147149.15it/s]\n"
     ]
    },
    {
     "name": "stdout",
     "output_type": "stream",
     "text": [
      "before trigger 9001\n",
      "DoubleEG trigger\n",
      "after trigger 978\n"
     ]
    },
    {
     "name": "stderr",
     "output_type": "stream",
     "text": [
      "fill sigma ieta ieta for /eos/home-j/jiwoong/WZG_DB/2016/pre_post_separated_220209/FakePhoton/CR/merged/DoubleEG_Run2016C.root: 100%|██████████| 65/65 [00:00<00:00, 124091.83it/s]\n"
     ]
    },
    {
     "name": "stdout",
     "output_type": "stream",
     "text": [
      "before trigger 14543\n",
      "DoubleEG trigger\n",
      "after trigger 1533\n"
     ]
    },
    {
     "name": "stderr",
     "output_type": "stream",
     "text": [
      "fill sigma ieta ieta for /eos/home-j/jiwoong/WZG_DB/2016/pre_post_separated_220209/FakePhoton/CR/merged/DoubleEG_Run2016D.root: 100%|██████████| 113/113 [00:00<00:00, 192508.67it/s]\n"
     ]
    },
    {
     "name": "stdout",
     "output_type": "stream",
     "text": [
      "before trigger 12638\n",
      "DoubleEG trigger\n",
      "after trigger 1394\n"
     ]
    },
    {
     "name": "stderr",
     "output_type": "stream",
     "text": [
      "fill sigma ieta ieta for /eos/home-j/jiwoong/WZG_DB/2016/pre_post_separated_220209/FakePhoton/CR/merged/DoubleEG_Run2016E.root: 100%|██████████| 96/96 [00:00<00:00, 175295.25it/s]\n"
     ]
    },
    {
     "name": "stdout",
     "output_type": "stream",
     "text": [
      "before trigger 10132\n",
      "DoubleEG trigger\n",
      "after trigger 1194\n"
     ]
    },
    {
     "name": "stderr",
     "output_type": "stream",
     "text": [
      "fill sigma ieta ieta for /eos/home-j/jiwoong/WZG_DB/2016/pre_post_separated_220209/FakePhoton/CR/merged/DoubleEG_Run2016F.root: 100%|██████████| 79/79 [00:00<00:00, 173481.68it/s]\n"
     ]
    },
    {
     "name": "stdout",
     "output_type": "stream",
     "text": [
      "before trigger 28298\n",
      "DoubleEG trigger\n",
      "after trigger 3355\n"
     ]
    },
    {
     "name": "stderr",
     "output_type": "stream",
     "text": [
      "fill sigma ieta ieta for /eos/home-j/jiwoong/WZG_DB/2016/pre_post_separated_220209/FakePhoton/CR/merged/DoubleEG_Run2016G.root: 100%|██████████| 191/191 [00:00<00:00, 169763.10it/s]\n"
     ]
    },
    {
     "name": "stdout",
     "output_type": "stream",
     "text": [
      "before trigger 31208\n",
      "DoubleEG trigger\n",
      "after trigger 3626\n"
     ]
    },
    {
     "name": "stderr",
     "output_type": "stream",
     "text": [
      "fill sigma ieta ieta for /eos/home-j/jiwoong/WZG_DB/2016/pre_post_separated_220209/FakePhoton/CR/merged/DoubleEG_Run2016H.root: 100%|██████████| 220/220 [00:00<00:00, 210720.91it/s]\n"
     ]
    },
    {
     "name": "stdout",
     "output_type": "stream",
     "text": [
      "before trigger 28672\n",
      "DoubleMuon trigger\n",
      "after trigger 1617\n"
     ]
    },
    {
     "name": "stderr",
     "output_type": "stream",
     "text": [
      "fill sigma ieta ieta for /eos/home-j/jiwoong/WZG_DB/2016/pre_post_separated_220209/FakePhoton/CR/merged/DoubleMuon_Run2016B.root: 100%|██████████| 114/114 [00:00<00:00, 181049.09it/s]\n"
     ]
    },
    {
     "name": "stdout",
     "output_type": "stream",
     "text": [
      "before trigger 12373\n",
      "DoubleMuon trigger\n",
      "after trigger 708\n"
     ]
    },
    {
     "name": "stderr",
     "output_type": "stream",
     "text": [
      "fill sigma ieta ieta for /eos/home-j/jiwoong/WZG_DB/2016/pre_post_separated_220209/FakePhoton/CR/merged/DoubleMuon_Run2016C.root: 100%|██████████| 57/57 [00:00<00:00, 170524.49it/s]\n"
     ]
    },
    {
     "name": "stdout",
     "output_type": "stream",
     "text": [
      "before trigger 20431\n",
      "DoubleMuon trigger\n",
      "after trigger 1145\n"
     ]
    },
    {
     "name": "stderr",
     "output_type": "stream",
     "text": [
      "fill sigma ieta ieta for /eos/home-j/jiwoong/WZG_DB/2016/pre_post_separated_220209/FakePhoton/CR/merged/DoubleMuon_Run2016D.root: 100%|██████████| 73/73 [00:00<00:00, 151952.45it/s]\n"
     ]
    },
    {
     "name": "stdout",
     "output_type": "stream",
     "text": [
      "before trigger 18473\n",
      "DoubleMuon trigger\n",
      "after trigger 1120\n"
     ]
    },
    {
     "name": "stderr",
     "output_type": "stream",
     "text": [
      "fill sigma ieta ieta for /eos/home-j/jiwoong/WZG_DB/2016/pre_post_separated_220209/FakePhoton/CR/merged/DoubleMuon_Run2016E.root: 100%|██████████| 77/77 [00:00<00:00, 184338.70it/s]\n"
     ]
    },
    {
     "name": "stdout",
     "output_type": "stream",
     "text": [
      "before trigger 14648\n",
      "DoubleMuon trigger\n",
      "after trigger 912\n"
     ]
    },
    {
     "name": "stderr",
     "output_type": "stream",
     "text": [
      "fill sigma ieta ieta for /eos/home-j/jiwoong/WZG_DB/2016/pre_post_separated_220209/FakePhoton/CR/merged/DoubleMuon_Run2016F.root: 100%|██████████| 63/63 [00:00<00:00, 148700.70it/s]\n"
     ]
    },
    {
     "name": "stdout",
     "output_type": "stream",
     "text": [
      "before trigger 40759\n",
      "DoubleMuon trigger\n",
      "after trigger 2478\n"
     ]
    },
    {
     "name": "stderr",
     "output_type": "stream",
     "text": [
      "fill sigma ieta ieta for /eos/home-j/jiwoong/WZG_DB/2016/pre_post_separated_220209/FakePhoton/CR/merged/DoubleMuon_Run2016G.root: 100%|██████████| 159/159 [00:00<00:00, 204757.24it/s]\n"
     ]
    },
    {
     "name": "stdout",
     "output_type": "stream",
     "text": [
      "before trigger 45744\n",
      "DoubleMuon trigger\n",
      "after trigger 2712\n"
     ]
    },
    {
     "name": "stderr",
     "output_type": "stream",
     "text": [
      "fill sigma ieta ieta for /eos/home-j/jiwoong/WZG_DB/2016/pre_post_separated_220209/FakePhoton/CR/merged/DoubleMuon_Run2016H.root: 100%|██████████| 170/170 [00:00<00:00, 189082.92it/s]\n"
     ]
    },
    {
     "name": "stdout",
     "output_type": "stream",
     "text": [
      "before trigger 16997\n",
      "MuonEG Trigger\n",
      "after trigger 181\n"
     ]
    },
    {
     "name": "stderr",
     "output_type": "stream",
     "text": [
      "fill sigma ieta ieta for /eos/home-j/jiwoong/WZG_DB/2016/pre_post_separated_220209/FakePhoton/CR/merged/MuonEG_Run2016B.root: 100%|██████████| 10/10 [00:00<00:00, 33288.13it/s]\n"
     ]
    },
    {
     "name": "stdout",
     "output_type": "stream",
     "text": [
      "before trigger 7691\n",
      "MuonEG Trigger\n",
      "after trigger 76\n"
     ]
    },
    {
     "name": "stderr",
     "output_type": "stream",
     "text": [
      "fill sigma ieta ieta for /eos/home-j/jiwoong/WZG_DB/2016/pre_post_separated_220209/FakePhoton/CR/merged/MuonEG_Run2016C.root: 100%|██████████| 4/4 [00:00<00:00, 31655.12it/s]\n"
     ]
    },
    {
     "name": "stdout",
     "output_type": "stream",
     "text": [
      "before trigger 12462\n",
      "MuonEG Trigger\n",
      "after trigger 126\n"
     ]
    },
    {
     "name": "stderr",
     "output_type": "stream",
     "text": [
      "fill sigma ieta ieta for /eos/home-j/jiwoong/WZG_DB/2016/pre_post_separated_220209/FakePhoton/CR/merged/MuonEG_Run2016D.root: 100%|██████████| 11/11 [00:00<00:00, 36016.66it/s]\n"
     ]
    },
    {
     "name": "stdout",
     "output_type": "stream",
     "text": [
      "before trigger 11399\n",
      "MuonEG Trigger\n",
      "after trigger 133\n"
     ]
    },
    {
     "name": "stderr",
     "output_type": "stream",
     "text": [
      "fill sigma ieta ieta for /eos/home-j/jiwoong/WZG_DB/2016/pre_post_separated_220209/FakePhoton/CR/merged/MuonEG_Run2016E.root: 100%|██████████| 10/10 [00:00<00:00, 43509.38it/s]\n"
     ]
    },
    {
     "name": "stdout",
     "output_type": "stream",
     "text": [
      "before trigger 7254\n",
      "MuonEG Trigger\n",
      "after trigger 114\n"
     ]
    },
    {
     "name": "stderr",
     "output_type": "stream",
     "text": [
      "fill sigma ieta ieta for /eos/home-j/jiwoong/WZG_DB/2016/pre_post_separated_220209/FakePhoton/CR/merged/MuonEG_Run2016F.root: 100%|██████████| 10/10 [00:00<00:00, 57143.11it/s]\n"
     ]
    },
    {
     "name": "stdout",
     "output_type": "stream",
     "text": [
      "before trigger 16626\n",
      "MuonEG Trigger\n",
      "after trigger 280\n"
     ]
    },
    {
     "name": "stderr",
     "output_type": "stream",
     "text": [
      "fill sigma ieta ieta for /eos/home-j/jiwoong/WZG_DB/2016/pre_post_separated_220209/FakePhoton/CR/merged/MuonEG_Run2016G.root: 100%|██████████| 17/17 [00:00<00:00, 84985.90it/s]\n"
     ]
    },
    {
     "name": "stdout",
     "output_type": "stream",
     "text": [
      "before trigger 18589\n",
      "MuonEG Trigger\n",
      "after trigger 276\n"
     ]
    },
    {
     "name": "stderr",
     "output_type": "stream",
     "text": [
      "fill sigma ieta ieta for /eos/home-j/jiwoong/WZG_DB/2016/pre_post_separated_220209/FakePhoton/CR/merged/MuonEG_Run2016H.root: 100%|██████████| 14/14 [00:00<00:00, 72763.64it/s]\n"
     ]
    },
    {
     "name": "stdout",
     "output_type": "stream",
     "text": [
      "before trigger 20587\n",
      "SingleElectron trigger\n",
      "after trigger 17501\n"
     ]
    },
    {
     "name": "stderr",
     "output_type": "stream",
     "text": [
      "fill sigma ieta ieta for /eos/home-j/jiwoong/WZG_DB/2016/pre_post_separated_220209/FakePhoton/CR/merged/SingleElectron_Run2016B.root: 100%|██████████| 949/949 [00:00<00:00, 126193.47it/s]\n"
     ]
    },
    {
     "name": "stdout",
     "output_type": "stream",
     "text": [
      "before trigger 8509\n",
      "SingleElectron trigger\n",
      "after trigger 7197\n"
     ]
    },
    {
     "name": "stderr",
     "output_type": "stream",
     "text": [
      "fill sigma ieta ieta for /eos/home-j/jiwoong/WZG_DB/2016/pre_post_separated_220209/FakePhoton/CR/merged/SingleElectron_Run2016C.root: 100%|██████████| 369/369 [00:00<00:00, 207188.51it/s]\n"
     ]
    },
    {
     "name": "stdout",
     "output_type": "stream",
     "text": [
      "before trigger 14151\n",
      "SingleElectron trigger\n",
      "after trigger 12090\n"
     ]
    },
    {
     "name": "stderr",
     "output_type": "stream",
     "text": [
      "fill sigma ieta ieta for /eos/home-j/jiwoong/WZG_DB/2016/pre_post_separated_220209/FakePhoton/CR/merged/SingleElectron_Run2016D.root: 100%|██████████| 606/606 [00:00<00:00, 207642.20it/s]\n"
     ]
    },
    {
     "name": "stdout",
     "output_type": "stream",
     "text": [
      "before trigger 12116\n",
      "SingleElectron trigger\n",
      "after trigger 10390\n"
     ]
    },
    {
     "name": "stderr",
     "output_type": "stream",
     "text": [
      "fill sigma ieta ieta for /eos/home-j/jiwoong/WZG_DB/2016/pre_post_separated_220209/FakePhoton/CR/merged/SingleElectron_Run2016E.root: 100%|██████████| 549/549 [00:00<00:00, 216416.63it/s]\n"
     ]
    },
    {
     "name": "stdout",
     "output_type": "stream",
     "text": [
      "before trigger 9777\n",
      "SingleElectron trigger\n",
      "after trigger 8234\n"
     ]
    },
    {
     "name": "stderr",
     "output_type": "stream",
     "text": [
      "fill sigma ieta ieta for /eos/home-j/jiwoong/WZG_DB/2016/pre_post_separated_220209/FakePhoton/CR/merged/SingleElectron_Run2016F.root: 100%|██████████| 425/425 [00:00<00:00, 204611.94it/s]\n"
     ]
    },
    {
     "name": "stdout",
     "output_type": "stream",
     "text": [
      "before trigger 28049\n",
      "SingleElectron trigger\n",
      "after trigger 23451\n"
     ]
    },
    {
     "name": "stderr",
     "output_type": "stream",
     "text": [
      "fill sigma ieta ieta for /eos/home-j/jiwoong/WZG_DB/2016/pre_post_separated_220209/FakePhoton/CR/merged/SingleElectron_Run2016G.root: 100%|██████████| 1152/1152 [00:00<00:00, 163974.55it/s]\n"
     ]
    },
    {
     "name": "stdout",
     "output_type": "stream",
     "text": [
      "before trigger 30727\n",
      "SingleElectron trigger\n",
      "after trigger 26053\n"
     ]
    },
    {
     "name": "stderr",
     "output_type": "stream",
     "text": [
      "fill sigma ieta ieta for /eos/home-j/jiwoong/WZG_DB/2016/pre_post_separated_220209/FakePhoton/CR/merged/SingleElectron_Run2016H.root: 100%|██████████| 1221/1221 [00:00<00:00, 211063.52it/s]\n"
     ]
    },
    {
     "name": "stdout",
     "output_type": "stream",
     "text": [
      "before trigger 28747\n",
      "SingleMuon trigger\n",
      "after trigger 26828\n"
     ]
    },
    {
     "name": "stderr",
     "output_type": "stream",
     "text": [
      "fill sigma ieta ieta for /eos/home-j/jiwoong/WZG_DB/2016/pre_post_separated_220209/FakePhoton/CR/merged/SingleMuon_Run2016B.root: 100%|██████████| 1539/1539 [00:00<00:00, 211501.76it/s]\n"
     ]
    },
    {
     "name": "stdout",
     "output_type": "stream",
     "text": [
      "before trigger 13442\n",
      "SingleMuon trigger\n",
      "after trigger 12592\n"
     ]
    },
    {
     "name": "stderr",
     "output_type": "stream",
     "text": [
      "fill sigma ieta ieta for /eos/home-j/jiwoong/WZG_DB/2016/pre_post_separated_220209/FakePhoton/CR/merged/SingleMuon_Run2016C.root: 100%|██████████| 649/649 [00:00<00:00, 209941.64it/s]\n"
     ]
    },
    {
     "name": "stdout",
     "output_type": "stream",
     "text": [
      "before trigger 21967\n",
      "SingleMuon trigger\n",
      "after trigger 20697\n"
     ]
    },
    {
     "name": "stderr",
     "output_type": "stream",
     "text": [
      "fill sigma ieta ieta for /eos/home-j/jiwoong/WZG_DB/2016/pre_post_separated_220209/FakePhoton/CR/merged/SingleMuon_Run2016D.root: 100%|██████████| 1123/1123 [00:00<00:00, 220463.53it/s]\n"
     ]
    },
    {
     "name": "stdout",
     "output_type": "stream",
     "text": [
      "before trigger 19712\n",
      "SingleMuon trigger\n",
      "after trigger 18656\n"
     ]
    },
    {
     "name": "stderr",
     "output_type": "stream",
     "text": [
      "fill sigma ieta ieta for /eos/home-j/jiwoong/WZG_DB/2016/pre_post_separated_220209/FakePhoton/CR/merged/SingleMuon_Run2016E.root: 100%|██████████| 1044/1044 [00:00<00:00, 207567.95it/s]\n"
     ]
    },
    {
     "name": "stdout",
     "output_type": "stream",
     "text": [
      "before trigger 15619\n",
      "SingleMuon trigger\n",
      "after trigger 14784\n"
     ]
    },
    {
     "name": "stderr",
     "output_type": "stream",
     "text": [
      "fill sigma ieta ieta for /eos/home-j/jiwoong/WZG_DB/2016/pre_post_separated_220209/FakePhoton/CR/merged/SingleMuon_Run2016F.root: 100%|██████████| 858/858 [00:00<00:00, 220698.69it/s]\n"
     ]
    },
    {
     "name": "stdout",
     "output_type": "stream",
     "text": [
      "before trigger 43025\n",
      "SingleMuon trigger\n",
      "after trigger 40818\n"
     ]
    },
    {
     "name": "stderr",
     "output_type": "stream",
     "text": [
      "fill sigma ieta ieta for /eos/home-j/jiwoong/WZG_DB/2016/pre_post_separated_220209/FakePhoton/CR/merged/SingleMuon_Run2016G.root: 100%|██████████| 2080/2080 [00:00<00:00, 220034.61it/s]\n"
     ]
    },
    {
     "name": "stdout",
     "output_type": "stream",
     "text": [
      "before trigger 50311\n",
      "SingleMuon trigger\n",
      "after trigger 47810\n"
     ]
    },
    {
     "name": "stderr",
     "output_type": "stream",
     "text": [
      "fill sigma ieta ieta for /eos/home-j/jiwoong/WZG_DB/2016/pre_post_separated_220209/FakePhoton/CR/merged/SingleMuon_Run2016H.root: 100%|██████████| 2482/2482 [00:00<00:00, 219815.93it/s]"
     ]
    },
    {
     "name": "stdout",
     "output_type": "stream",
     "text": [
      "start ptbins: EE_PT2\n"
     ]
    },
    {
     "name": "stderr",
     "output_type": "stream",
     "text": [
      "\n"
     ]
    },
    {
     "name": "stdout",
     "output_type": "stream",
     "text": [
      "before trigger 21802\n",
      "DoubleEG trigger\n",
      "after trigger 2150\n"
     ]
    },
    {
     "name": "stderr",
     "output_type": "stream",
     "text": [
      "fill sigma ieta ieta for /eos/home-j/jiwoong/WZG_DB/2016/pre_post_separated_220209/FakePhoton/CR/merged/DoubleEG_Run2016B.root: 100%|██████████| 11/11 [00:00<00:00, 62347.76it/s]\n"
     ]
    },
    {
     "name": "stdout",
     "output_type": "stream",
     "text": [
      "before trigger 9001\n",
      "DoubleEG trigger\n",
      "after trigger 978\n"
     ]
    },
    {
     "name": "stderr",
     "output_type": "stream",
     "text": [
      "fill sigma ieta ieta for /eos/home-j/jiwoong/WZG_DB/2016/pre_post_separated_220209/FakePhoton/CR/merged/DoubleEG_Run2016C.root: 100%|██████████| 6/6 [00:00<00:00, 20936.63it/s]\n"
     ]
    },
    {
     "name": "stdout",
     "output_type": "stream",
     "text": [
      "before trigger 14543\n",
      "DoubleEG trigger\n",
      "after trigger 1533\n"
     ]
    },
    {
     "name": "stderr",
     "output_type": "stream",
     "text": [
      "fill sigma ieta ieta for /eos/home-j/jiwoong/WZG_DB/2016/pre_post_separated_220209/FakePhoton/CR/merged/DoubleEG_Run2016D.root: 100%|██████████| 6/6 [00:00<00:00, 19800.02it/s]\n"
     ]
    },
    {
     "name": "stdout",
     "output_type": "stream",
     "text": [
      "before trigger 12638\n",
      "DoubleEG trigger\n",
      "after trigger 1394\n"
     ]
    },
    {
     "name": "stderr",
     "output_type": "stream",
     "text": [
      "fill sigma ieta ieta for /eos/home-j/jiwoong/WZG_DB/2016/pre_post_separated_220209/FakePhoton/CR/merged/DoubleEG_Run2016E.root: 100%|██████████| 8/8 [00:00<00:00, 45160.74it/s]\n"
     ]
    },
    {
     "name": "stdout",
     "output_type": "stream",
     "text": [
      "before trigger 10132\n",
      "DoubleEG trigger\n",
      "after trigger 1194\n"
     ]
    },
    {
     "name": "stderr",
     "output_type": "stream",
     "text": [
      "fill sigma ieta ieta for /eos/home-j/jiwoong/WZG_DB/2016/pre_post_separated_220209/FakePhoton/CR/merged/DoubleEG_Run2016F.root: 100%|██████████| 6/6 [00:00<00:00, 48865.68it/s]\n"
     ]
    },
    {
     "name": "stdout",
     "output_type": "stream",
     "text": [
      "before trigger 28298\n",
      "DoubleEG trigger\n",
      "after trigger 3355\n"
     ]
    },
    {
     "name": "stderr",
     "output_type": "stream",
     "text": [
      "fill sigma ieta ieta for /eos/home-j/jiwoong/WZG_DB/2016/pre_post_separated_220209/FakePhoton/CR/merged/DoubleEG_Run2016G.root: 100%|██████████| 13/13 [00:00<00:00, 40092.61it/s]\n"
     ]
    },
    {
     "name": "stdout",
     "output_type": "stream",
     "text": [
      "before trigger 31208\n",
      "DoubleEG trigger\n",
      "after trigger 3626\n"
     ]
    },
    {
     "name": "stderr",
     "output_type": "stream",
     "text": [
      "fill sigma ieta ieta for /eos/home-j/jiwoong/WZG_DB/2016/pre_post_separated_220209/FakePhoton/CR/merged/DoubleEG_Run2016H.root: 100%|██████████| 19/19 [00:00<00:00, 90251.16it/s]\n"
     ]
    },
    {
     "name": "stdout",
     "output_type": "stream",
     "text": [
      "before trigger 28672\n",
      "DoubleMuon trigger\n",
      "after trigger 1617\n"
     ]
    },
    {
     "name": "stderr",
     "output_type": "stream",
     "text": [
      "fill sigma ieta ieta for /eos/home-j/jiwoong/WZG_DB/2016/pre_post_separated_220209/FakePhoton/CR/merged/DoubleMuon_Run2016B.root: 100%|██████████| 9/9 [00:00<00:00, 51150.05it/s]\n"
     ]
    },
    {
     "name": "stdout",
     "output_type": "stream",
     "text": [
      "before trigger 12373\n",
      "DoubleMuon trigger\n",
      "after trigger 708\n"
     ]
    },
    {
     "name": "stderr",
     "output_type": "stream",
     "text": [
      "fill sigma ieta ieta for /eos/home-j/jiwoong/WZG_DB/2016/pre_post_separated_220209/FakePhoton/CR/merged/DoubleMuon_Run2016C.root: 100%|██████████| 4/4 [00:00<00:00, 25381.57it/s]\n"
     ]
    },
    {
     "name": "stdout",
     "output_type": "stream",
     "text": [
      "before trigger 20431\n",
      "DoubleMuon trigger\n",
      "after trigger 1145\n"
     ]
    },
    {
     "name": "stderr",
     "output_type": "stream",
     "text": [
      "fill sigma ieta ieta for /eos/home-j/jiwoong/WZG_DB/2016/pre_post_separated_220209/FakePhoton/CR/merged/DoubleMuon_Run2016D.root: 100%|██████████| 15/15 [00:00<00:00, 49075.32it/s]\n"
     ]
    },
    {
     "name": "stdout",
     "output_type": "stream",
     "text": [
      "before trigger 18473\n",
      "DoubleMuon trigger\n",
      "after trigger 1120\n"
     ]
    },
    {
     "name": "stderr",
     "output_type": "stream",
     "text": [
      "fill sigma ieta ieta for /eos/home-j/jiwoong/WZG_DB/2016/pre_post_separated_220209/FakePhoton/CR/merged/DoubleMuon_Run2016E.root: 100%|██████████| 9/9 [00:00<00:00, 56007.03it/s]\n"
     ]
    },
    {
     "name": "stdout",
     "output_type": "stream",
     "text": [
      "before trigger 14648\n",
      "DoubleMuon trigger\n",
      "after trigger 912\n"
     ]
    },
    {
     "name": "stderr",
     "output_type": "stream",
     "text": [
      "fill sigma ieta ieta for /eos/home-j/jiwoong/WZG_DB/2016/pre_post_separated_220209/FakePhoton/CR/merged/DoubleMuon_Run2016F.root: 100%|██████████| 3/3 [00:00<00:00, 12972.07it/s]\n"
     ]
    },
    {
     "name": "stdout",
     "output_type": "stream",
     "text": [
      "before trigger 40759\n",
      "DoubleMuon trigger\n",
      "after trigger 2478\n"
     ]
    },
    {
     "name": "stderr",
     "output_type": "stream",
     "text": [
      "fill sigma ieta ieta for /eos/home-j/jiwoong/WZG_DB/2016/pre_post_separated_220209/FakePhoton/CR/merged/DoubleMuon_Run2016G.root: 100%|██████████| 9/9 [00:00<00:00, 46317.47it/s]\n"
     ]
    },
    {
     "name": "stdout",
     "output_type": "stream",
     "text": [
      "before trigger 45744\n",
      "DoubleMuon trigger\n",
      "after trigger 2712\n"
     ]
    },
    {
     "name": "stderr",
     "output_type": "stream",
     "text": [
      "fill sigma ieta ieta for /eos/home-j/jiwoong/WZG_DB/2016/pre_post_separated_220209/FakePhoton/CR/merged/DoubleMuon_Run2016H.root: 100%|██████████| 12/12 [00:00<00:00, 65365.78it/s]\n"
     ]
    },
    {
     "name": "stdout",
     "output_type": "stream",
     "text": [
      "before trigger 16997\n",
      "MuonEG Trigger\n",
      "after trigger 181\n"
     ]
    },
    {
     "name": "stderr",
     "output_type": "stream",
     "text": [
      "fill sigma ieta ieta for /eos/home-j/jiwoong/WZG_DB/2016/pre_post_separated_220209/FakePhoton/CR/merged/MuonEG_Run2016B.root: 100%|██████████| 4/4 [00:00<00:00, 17458.08it/s]\n"
     ]
    },
    {
     "name": "stdout",
     "output_type": "stream",
     "text": [
      "before trigger 7691\n",
      "MuonEG Trigger\n",
      "after trigger 76\n"
     ]
    },
    {
     "name": "stderr",
     "output_type": "stream",
     "text": [
      "fill sigma ieta ieta for /eos/home-j/jiwoong/WZG_DB/2016/pre_post_separated_220209/FakePhoton/CR/merged/MuonEG_Run2016C.root: 100%|██████████| 1/1 [00:00<00:00, 6512.89it/s]\n"
     ]
    },
    {
     "name": "stdout",
     "output_type": "stream",
     "text": [
      "before trigger 12462\n",
      "MuonEG Trigger\n",
      "after trigger 126\n"
     ]
    },
    {
     "name": "stderr",
     "output_type": "stream",
     "text": [
      "fill sigma ieta ieta for /eos/home-j/jiwoong/WZG_DB/2016/pre_post_separated_220209/FakePhoton/CR/merged/MuonEG_Run2016D.root: 100%|██████████| 5/5 [00:00<00:00, 21140.65it/s]\n"
     ]
    },
    {
     "name": "stdout",
     "output_type": "stream",
     "text": [
      "before trigger 11399\n",
      "MuonEG Trigger\n",
      "after trigger 133\n"
     ]
    },
    {
     "name": "stderr",
     "output_type": "stream",
     "text": [
      "fill sigma ieta ieta for /eos/home-j/jiwoong/WZG_DB/2016/pre_post_separated_220209/FakePhoton/CR/merged/MuonEG_Run2016E.root: 100%|██████████| 3/3 [00:00<00:00, 22270.64it/s]\n"
     ]
    },
    {
     "name": "stdout",
     "output_type": "stream",
     "text": [
      "before trigger 7254\n",
      "MuonEG Trigger\n",
      "after trigger 114\n"
     ]
    },
    {
     "name": "stderr",
     "output_type": "stream",
     "text": [
      "fill sigma ieta ieta for /eos/home-j/jiwoong/WZG_DB/2016/pre_post_separated_220209/FakePhoton/CR/merged/MuonEG_Run2016F.root: 100%|██████████| 3/3 [00:00<00:00, 17747.41it/s]\n"
     ]
    },
    {
     "name": "stdout",
     "output_type": "stream",
     "text": [
      "before trigger 16626\n",
      "MuonEG Trigger\n",
      "after trigger 280\n"
     ]
    },
    {
     "name": "stderr",
     "output_type": "stream",
     "text": [
      "fill sigma ieta ieta for /eos/home-j/jiwoong/WZG_DB/2016/pre_post_separated_220209/FakePhoton/CR/merged/MuonEG_Run2016G.root: 100%|██████████| 1/1 [00:00<00:00, 4279.90it/s]\n"
     ]
    },
    {
     "name": "stdout",
     "output_type": "stream",
     "text": [
      "before trigger 18589\n",
      "MuonEG Trigger\n",
      "after trigger 276\n"
     ]
    },
    {
     "name": "stderr",
     "output_type": "stream",
     "text": [
      "fill sigma ieta ieta for /eos/home-j/jiwoong/WZG_DB/2016/pre_post_separated_220209/FakePhoton/CR/merged/MuonEG_Run2016H.root: 100%|██████████| 1/1 [00:00<00:00, 8035.07it/s]\n"
     ]
    },
    {
     "name": "stdout",
     "output_type": "stream",
     "text": [
      "before trigger 20587\n",
      "SingleElectron trigger\n",
      "after trigger 17501\n"
     ]
    },
    {
     "name": "stderr",
     "output_type": "stream",
     "text": [
      "fill sigma ieta ieta for /eos/home-j/jiwoong/WZG_DB/2016/pre_post_separated_220209/FakePhoton/CR/merged/SingleElectron_Run2016B.root: 100%|██████████| 124/124 [00:00<00:00, 186213.28it/s]\n"
     ]
    },
    {
     "name": "stdout",
     "output_type": "stream",
     "text": [
      "before trigger 8509\n",
      "SingleElectron trigger\n",
      "after trigger 7197\n"
     ]
    },
    {
     "name": "stderr",
     "output_type": "stream",
     "text": [
      "fill sigma ieta ieta for /eos/home-j/jiwoong/WZG_DB/2016/pre_post_separated_220209/FakePhoton/CR/merged/SingleElectron_Run2016C.root: 100%|██████████| 50/50 [00:00<00:00, 136622.28it/s]\n"
     ]
    },
    {
     "name": "stdout",
     "output_type": "stream",
     "text": [
      "before trigger 14151\n",
      "SingleElectron trigger\n",
      "after trigger 12090\n"
     ]
    },
    {
     "name": "stderr",
     "output_type": "stream",
     "text": [
      "fill sigma ieta ieta for /eos/home-j/jiwoong/WZG_DB/2016/pre_post_separated_220209/FakePhoton/CR/merged/SingleElectron_Run2016D.root: 100%|██████████| 78/78 [00:00<00:00, 142427.39it/s]\n"
     ]
    },
    {
     "name": "stdout",
     "output_type": "stream",
     "text": [
      "before trigger 12116\n",
      "SingleElectron trigger\n",
      "after trigger 10390\n"
     ]
    },
    {
     "name": "stderr",
     "output_type": "stream",
     "text": [
      "fill sigma ieta ieta for /eos/home-j/jiwoong/WZG_DB/2016/pre_post_separated_220209/FakePhoton/CR/merged/SingleElectron_Run2016E.root: 100%|██████████| 66/66 [00:00<00:00, 135698.07it/s]\n"
     ]
    },
    {
     "name": "stdout",
     "output_type": "stream",
     "text": [
      "before trigger 9777\n",
      "SingleElectron trigger\n",
      "after trigger 8234\n"
     ]
    },
    {
     "name": "stderr",
     "output_type": "stream",
     "text": [
      "fill sigma ieta ieta for /eos/home-j/jiwoong/WZG_DB/2016/pre_post_separated_220209/FakePhoton/CR/merged/SingleElectron_Run2016F.root: 100%|██████████| 38/38 [00:00<00:00, 113279.00it/s]\n"
     ]
    },
    {
     "name": "stdout",
     "output_type": "stream",
     "text": [
      "before trigger 28049\n",
      "SingleElectron trigger\n",
      "after trigger 23451\n"
     ]
    },
    {
     "name": "stderr",
     "output_type": "stream",
     "text": [
      "fill sigma ieta ieta for /eos/home-j/jiwoong/WZG_DB/2016/pre_post_separated_220209/FakePhoton/CR/merged/SingleElectron_Run2016G.root: 100%|██████████| 126/126 [00:00<00:00, 81092.88it/s]\n"
     ]
    },
    {
     "name": "stdout",
     "output_type": "stream",
     "text": [
      "before trigger 30727\n",
      "SingleElectron trigger\n",
      "after trigger 26053\n"
     ]
    },
    {
     "name": "stderr",
     "output_type": "stream",
     "text": [
      "fill sigma ieta ieta for /eos/home-j/jiwoong/WZG_DB/2016/pre_post_separated_220209/FakePhoton/CR/merged/SingleElectron_Run2016H.root: 100%|██████████| 154/154 [00:00<00:00, 192525.43it/s]\n"
     ]
    },
    {
     "name": "stdout",
     "output_type": "stream",
     "text": [
      "before trigger 28747\n",
      "SingleMuon trigger\n",
      "after trigger 26828\n"
     ]
    },
    {
     "name": "stderr",
     "output_type": "stream",
     "text": [
      "fill sigma ieta ieta for /eos/home-j/jiwoong/WZG_DB/2016/pre_post_separated_220209/FakePhoton/CR/merged/SingleMuon_Run2016B.root: 100%|██████████| 161/161 [00:00<00:00, 180219.63it/s]\n"
     ]
    },
    {
     "name": "stdout",
     "output_type": "stream",
     "text": [
      "before trigger 13442\n",
      "SingleMuon trigger\n",
      "after trigger 12592\n"
     ]
    },
    {
     "name": "stderr",
     "output_type": "stream",
     "text": [
      "fill sigma ieta ieta for /eos/home-j/jiwoong/WZG_DB/2016/pre_post_separated_220209/FakePhoton/CR/merged/SingleMuon_Run2016C.root: 100%|██████████| 65/65 [00:00<00:00, 157771.85it/s]\n"
     ]
    },
    {
     "name": "stdout",
     "output_type": "stream",
     "text": [
      "before trigger 21967\n",
      "SingleMuon trigger\n",
      "after trigger 20697\n"
     ]
    },
    {
     "name": "stderr",
     "output_type": "stream",
     "text": [
      "fill sigma ieta ieta for /eos/home-j/jiwoong/WZG_DB/2016/pre_post_separated_220209/FakePhoton/CR/merged/SingleMuon_Run2016D.root: 100%|██████████| 134/134 [00:00<00:00, 180371.22it/s]\n"
     ]
    },
    {
     "name": "stdout",
     "output_type": "stream",
     "text": [
      "before trigger 19712\n",
      "SingleMuon trigger\n",
      "after trigger 18656\n"
     ]
    },
    {
     "name": "stderr",
     "output_type": "stream",
     "text": [
      "fill sigma ieta ieta for /eos/home-j/jiwoong/WZG_DB/2016/pre_post_separated_220209/FakePhoton/CR/merged/SingleMuon_Run2016E.root: 100%|██████████| 106/106 [00:00<00:00, 183036.73it/s]\n"
     ]
    },
    {
     "name": "stdout",
     "output_type": "stream",
     "text": [
      "before trigger 15619\n",
      "SingleMuon trigger\n",
      "after trigger 14784\n"
     ]
    },
    {
     "name": "stderr",
     "output_type": "stream",
     "text": [
      "fill sigma ieta ieta for /eos/home-j/jiwoong/WZG_DB/2016/pre_post_separated_220209/FakePhoton/CR/merged/SingleMuon_Run2016F.root: 100%|██████████| 106/106 [00:00<00:00, 167204.30it/s]\n"
     ]
    },
    {
     "name": "stdout",
     "output_type": "stream",
     "text": [
      "before trigger 43025\n",
      "SingleMuon trigger\n",
      "after trigger 40818\n"
     ]
    },
    {
     "name": "stderr",
     "output_type": "stream",
     "text": [
      "fill sigma ieta ieta for /eos/home-j/jiwoong/WZG_DB/2016/pre_post_separated_220209/FakePhoton/CR/merged/SingleMuon_Run2016G.root: 100%|██████████| 229/229 [00:00<00:00, 184924.07it/s]\n"
     ]
    },
    {
     "name": "stdout",
     "output_type": "stream",
     "text": [
      "before trigger 50311\n",
      "SingleMuon trigger\n",
      "after trigger 47810\n"
     ]
    },
    {
     "name": "stderr",
     "output_type": "stream",
     "text": [
      "fill sigma ieta ieta for /eos/home-j/jiwoong/WZG_DB/2016/pre_post_separated_220209/FakePhoton/CR/merged/SingleMuon_Run2016H.root: 100%|██████████| 272/272 [00:00<00:00, 197755.36it/s]"
     ]
    },
    {
     "name": "stdout",
     "output_type": "stream",
     "text": [
      "start ptbins: EB_PT1\n"
     ]
    },
    {
     "name": "stderr",
     "output_type": "stream",
     "text": [
      "\n",
      "fill sigma ieta ieta for /eos/home-j/jiwoong/WZG_DB/2016/pre_post_separated_220209/FakePhoton/CR/merged/ZGToLLG_01J_5f_TuneCP5_13TeV-amcatnloFXFX-pythia8_2016.root: 100%|██████████| 1634784/1634784 [00:14<00:00, 114766.98it/s]\n",
      "fill sigma ieta ieta for /eos/home-j/jiwoong/WZG_DB/2016/pre_post_separated_220209/FakePhoton/CR/merged/wza_2016.root: 100%|██████████| 6167/6167 [00:00<00:00, 95000.89it/s]\n"
     ]
    },
    {
     "name": "stdout",
     "output_type": "stream",
     "text": [
      "Sucessfully created...total bins:  25\n",
      "Sucessfully created...total bins:  25\n",
      "start ptbins: EB_PT2\n"
     ]
    },
    {
     "name": "stderr",
     "output_type": "stream",
     "text": [
      "fill sigma ieta ieta for /eos/home-j/jiwoong/WZG_DB/2016/pre_post_separated_220209/FakePhoton/CR/merged/ZGToLLG_01J_5f_TuneCP5_13TeV-amcatnloFXFX-pythia8_2016.root: 100%|██████████| 719890/719890 [00:06<00:00, 114916.62it/s]\n",
      "fill sigma ieta ieta for /eos/home-j/jiwoong/WZG_DB/2016/pre_post_separated_220209/FakePhoton/CR/merged/wza_2016.root: 100%|██████████| 5294/5294 [00:00<00:00, 124852.52it/s]\n"
     ]
    },
    {
     "name": "stdout",
     "output_type": "stream",
     "text": [
      "Sucessfully created...total bins:  25\n",
      "Sucessfully created...total bins:  25\n",
      "start ptbins: EB_PT3\n"
     ]
    },
    {
     "name": "stderr",
     "output_type": "stream",
     "text": [
      "fill sigma ieta ieta for /eos/home-j/jiwoong/WZG_DB/2016/pre_post_separated_220209/FakePhoton/CR/merged/ZGToLLG_01J_5f_TuneCP5_13TeV-amcatnloFXFX-pythia8_2016.root: 100%|██████████| 193174/193174 [00:01<00:00, 113570.44it/s]\n",
      "fill sigma ieta ieta for /eos/home-j/jiwoong/WZG_DB/2016/pre_post_separated_220209/FakePhoton/CR/merged/wza_2016.root: 100%|██████████| 2405/2405 [00:00<00:00, 122403.85it/s]\n"
     ]
    },
    {
     "name": "stdout",
     "output_type": "stream",
     "text": [
      "Sucessfully created...total bins:  25\n",
      "Sucessfully created...total bins:  25\n",
      "start ptbins: EB_PT4\n"
     ]
    },
    {
     "name": "stderr",
     "output_type": "stream",
     "text": [
      "fill sigma ieta ieta for /eos/home-j/jiwoong/WZG_DB/2016/pre_post_separated_220209/FakePhoton/CR/merged/ZGToLLG_01J_5f_TuneCP5_13TeV-amcatnloFXFX-pythia8_2016.root: 100%|██████████| 67276/67276 [00:00<00:00, 125683.81it/s]\n",
      "fill sigma ieta ieta for /eos/home-j/jiwoong/WZG_DB/2016/pre_post_separated_220209/FakePhoton/CR/merged/wza_2016.root: 100%|██████████| 990/990 [00:00<00:00, 123178.91it/s]\n"
     ]
    },
    {
     "name": "stdout",
     "output_type": "stream",
     "text": [
      "Sucessfully created...total bins:  25\n",
      "Sucessfully created...total bins:  25\n",
      "start ptbins: EB_PT5\n"
     ]
    },
    {
     "name": "stderr",
     "output_type": "stream",
     "text": [
      "fill sigma ieta ieta for /eos/home-j/jiwoong/WZG_DB/2016/pre_post_separated_220209/FakePhoton/CR/merged/ZGToLLG_01J_5f_TuneCP5_13TeV-amcatnloFXFX-pythia8_2016.root: 100%|██████████| 43124/43124 [00:00<00:00, 126568.53it/s]\n",
      "fill sigma ieta ieta for /eos/home-j/jiwoong/WZG_DB/2016/pre_post_separated_220209/FakePhoton/CR/merged/wza_2016.root: 100%|██████████| 849/849 [00:00<00:00, 111023.39it/s]\n"
     ]
    },
    {
     "name": "stdout",
     "output_type": "stream",
     "text": [
      "Sucessfully created...total bins:  25\n",
      "Sucessfully created...total bins:  25\n",
      "start ptbins: EE_PT1\n"
     ]
    },
    {
     "name": "stderr",
     "output_type": "stream",
     "text": [
      "fill sigma ieta ieta for /eos/home-j/jiwoong/WZG_DB/2016/pre_post_separated_220209/FakePhoton/CR/merged/ZGToLLG_01J_5f_TuneCP5_13TeV-amcatnloFXFX-pythia8_2016.root: 100%|██████████| 297984/297984 [00:02<00:00, 114321.93it/s]\n",
      "fill sigma ieta ieta for /eos/home-j/jiwoong/WZG_DB/2016/pre_post_separated_220209/FakePhoton/CR/merged/wza_2016.root: 100%|██████████| 1567/1567 [00:00<00:00, 124584.86it/s]\n"
     ]
    },
    {
     "name": "stdout",
     "output_type": "stream",
     "text": [
      "Sucessfully created...total bins:  25\n",
      "Sucessfully created...total bins:  25\n",
      "start ptbins: EE_PT2\n"
     ]
    },
    {
     "name": "stderr",
     "output_type": "stream",
     "text": [
      "fill sigma ieta ieta for /eos/home-j/jiwoong/WZG_DB/2016/pre_post_separated_220209/FakePhoton/CR/merged/ZGToLLG_01J_5f_TuneCP5_13TeV-amcatnloFXFX-pythia8_2016.root: 100%|██████████| 42868/42868 [00:00<00:00, 93446.93it/s]\n",
      "fill sigma ieta ieta for /eos/home-j/jiwoong/WZG_DB/2016/pre_post_separated_220209/FakePhoton/CR/merged/wza_2016.root: 100%|██████████| 571/571 [00:00<00:00, 117491.54it/s]\n"
     ]
    },
    {
     "name": "stdout",
     "output_type": "stream",
     "text": [
      "Sucessfully created...total bins:  25\n",
      "Sucessfully created...total bins:  25\n",
      "start closure: from_4_to_10\n",
      "start ptbins: EB_PT1\n"
     ]
    },
    {
     "name": "stderr",
     "output_type": "stream",
     "text": [
      "fill sigma ieta ieta for /eos/home-j/jiwoong/WZG_DB/2016/pre_post_separated_220209/FakePhoton/CR/merged/DoubleEG_Run2016B.root: 100%|██████████| 117/117 [00:00<00:00, 186448.92it/s]\n",
      "fill sigma ieta ieta for /eos/home-j/jiwoong/WZG_DB/2016/pre_post_separated_220209/FakePhoton/CR/merged/DoubleEG_Run2016C.root: 100%|██████████| 49/49 [00:00<00:00, 147432.49it/s]\n",
      "fill sigma ieta ieta for /eos/home-j/jiwoong/WZG_DB/2016/pre_post_separated_220209/FakePhoton/CR/merged/DoubleEG_Run2016D.root: 100%|██████████| 79/79 [00:00<00:00, 176343.81it/s]\n",
      "fill sigma ieta ieta for /eos/home-j/jiwoong/WZG_DB/2016/pre_post_separated_220209/FakePhoton/CR/merged/DoubleEG_Run2016E.root: 100%|██████████| 66/66 [00:00<00:00, 157107.87it/s]\n",
      "fill sigma ieta ieta for /eos/home-j/jiwoong/WZG_DB/2016/pre_post_separated_220209/FakePhoton/CR/merged/DoubleEG_Run2016F.root: 100%|██████████| 84/84 [00:00<00:00, 185237.40it/s]\n",
      "fill sigma ieta ieta for /eos/home-j/jiwoong/WZG_DB/2016/pre_post_separated_220209/FakePhoton/CR/merged/DoubleEG_Run2016G.root: 100%|██████████| 168/168 [00:00<00:00, 154459.24it/s]\n",
      "fill sigma ieta ieta for /eos/home-j/jiwoong/WZG_DB/2016/pre_post_separated_220209/FakePhoton/CR/merged/DoubleEG_Run2016H.root: 100%|██████████| 223/223 [00:00<00:00, 196745.85it/s]\n",
      "fill sigma ieta ieta for /eos/home-j/jiwoong/WZG_DB/2016/pre_post_separated_220209/FakePhoton/CR/merged/DoubleMuon_Run2016B.root: 100%|██████████| 101/101 [00:00<00:00, 169789.46it/s]\n",
      "fill sigma ieta ieta for /eos/home-j/jiwoong/WZG_DB/2016/pre_post_separated_220209/FakePhoton/CR/merged/DoubleMuon_Run2016C.root: 100%|██████████| 41/41 [00:00<00:00, 124253.23it/s]\n",
      "fill sigma ieta ieta for /eos/home-j/jiwoong/WZG_DB/2016/pre_post_separated_220209/FakePhoton/CR/merged/DoubleMuon_Run2016D.root: 100%|██████████| 56/56 [00:00<00:00, 100677.68it/s]\n",
      "fill sigma ieta ieta for /eos/home-j/jiwoong/WZG_DB/2016/pre_post_separated_220209/FakePhoton/CR/merged/DoubleMuon_Run2016E.root: 100%|██████████| 79/79 [00:00<00:00, 78537.57it/s]\n",
      "fill sigma ieta ieta for /eos/home-j/jiwoong/WZG_DB/2016/pre_post_separated_220209/FakePhoton/CR/merged/DoubleMuon_Run2016F.root: 100%|██████████| 58/58 [00:00<00:00, 106650.43it/s]\n",
      "fill sigma ieta ieta for /eos/home-j/jiwoong/WZG_DB/2016/pre_post_separated_220209/FakePhoton/CR/merged/DoubleMuon_Run2016G.root: 100%|██████████| 162/162 [00:00<00:00, 193143.05it/s]\n",
      "fill sigma ieta ieta for /eos/home-j/jiwoong/WZG_DB/2016/pre_post_separated_220209/FakePhoton/CR/merged/DoubleMuon_Run2016H.root: 100%|██████████| 159/159 [00:00<00:00, 197950.23it/s]\n",
      "fill sigma ieta ieta for /eos/home-j/jiwoong/WZG_DB/2016/pre_post_separated_220209/FakePhoton/CR/merged/MuonEG_Run2016B.root: 100%|██████████| 7/7 [00:00<00:00, 13592.65it/s]\n",
      "fill sigma ieta ieta for /eos/home-j/jiwoong/WZG_DB/2016/pre_post_separated_220209/FakePhoton/CR/merged/MuonEG_Run2016C.root: 100%|██████████| 5/5 [00:00<00:00, 39945.75it/s]\n",
      "fill sigma ieta ieta for /eos/home-j/jiwoong/WZG_DB/2016/pre_post_separated_220209/FakePhoton/CR/merged/MuonEG_Run2016D.root: 100%|██████████| 5/5 [00:00<00:00, 26955.68it/s]\n",
      "fill sigma ieta ieta for /eos/home-j/jiwoong/WZG_DB/2016/pre_post_separated_220209/FakePhoton/CR/merged/MuonEG_Run2016E.root: 100%|██████████| 8/8 [00:00<00:00, 48984.57it/s]\n",
      "fill sigma ieta ieta for /eos/home-j/jiwoong/WZG_DB/2016/pre_post_separated_220209/FakePhoton/CR/merged/MuonEG_Run2016F.root: 100%|██████████| 5/5 [00:00<00:00, 34044.68it/s]\n",
      "fill sigma ieta ieta for /eos/home-j/jiwoong/WZG_DB/2016/pre_post_separated_220209/FakePhoton/CR/merged/MuonEG_Run2016G.root: 100%|██████████| 9/9 [00:00<00:00, 53696.64it/s]\n",
      "fill sigma ieta ieta for /eos/home-j/jiwoong/WZG_DB/2016/pre_post_separated_220209/FakePhoton/CR/merged/MuonEG_Run2016H.root: 100%|██████████| 17/17 [00:00<00:00, 76505.55it/s]\n",
      "fill sigma ieta ieta for /eos/home-j/jiwoong/WZG_DB/2016/pre_post_separated_220209/FakePhoton/CR/merged/SingleElectron_Run2016B.root: 100%|██████████| 1078/1078 [00:00<00:00, 169858.36it/s]\n",
      "fill sigma ieta ieta for /eos/home-j/jiwoong/WZG_DB/2016/pre_post_separated_220209/FakePhoton/CR/merged/SingleElectron_Run2016C.root: 100%|██████████| 474/474 [00:00<00:00, 217254.96it/s]\n",
      "fill sigma ieta ieta for /eos/home-j/jiwoong/WZG_DB/2016/pre_post_separated_220209/FakePhoton/CR/merged/SingleElectron_Run2016D.root: 100%|██████████| 761/761 [00:00<00:00, 229300.67it/s]\n",
      "fill sigma ieta ieta for /eos/home-j/jiwoong/WZG_DB/2016/pre_post_separated_220209/FakePhoton/CR/merged/SingleElectron_Run2016E.root: 100%|██████████| 676/676 [00:00<00:00, 223291.03it/s]\n",
      "fill sigma ieta ieta for /eos/home-j/jiwoong/WZG_DB/2016/pre_post_separated_220209/FakePhoton/CR/merged/SingleElectron_Run2016F.root: 100%|██████████| 534/534 [00:00<00:00, 216611.06it/s]\n",
      "fill sigma ieta ieta for /eos/home-j/jiwoong/WZG_DB/2016/pre_post_separated_220209/FakePhoton/CR/merged/SingleElectron_Run2016G.root: 100%|██████████| 1485/1485 [00:00<00:00, 99437.11it/s]\n",
      "fill sigma ieta ieta for /eos/home-j/jiwoong/WZG_DB/2016/pre_post_separated_220209/FakePhoton/CR/merged/SingleElectron_Run2016H.root: 100%|██████████| 1715/1715 [00:00<00:00, 225112.08it/s]\n",
      "fill sigma ieta ieta for /eos/home-j/jiwoong/WZG_DB/2016/pre_post_separated_220209/FakePhoton/CR/merged/SingleMuon_Run2016B.root: 100%|██████████| 1649/1649 [00:00<00:00, 224201.99it/s]\n",
      "fill sigma ieta ieta for /eos/home-j/jiwoong/WZG_DB/2016/pre_post_separated_220209/FakePhoton/CR/merged/SingleMuon_Run2016C.root: 100%|██████████| 733/733 [00:00<00:00, 217258.49it/s]\n",
      "fill sigma ieta ieta for /eos/home-j/jiwoong/WZG_DB/2016/pre_post_separated_220209/FakePhoton/CR/merged/SingleMuon_Run2016D.root: 100%|██████████| 1281/1281 [00:00<00:00, 228245.68it/s]\n",
      "fill sigma ieta ieta for /eos/home-j/jiwoong/WZG_DB/2016/pre_post_separated_220209/FakePhoton/CR/merged/SingleMuon_Run2016E.root: 100%|██████████| 1208/1208 [00:00<00:00, 213209.87it/s]\n",
      "fill sigma ieta ieta for /eos/home-j/jiwoong/WZG_DB/2016/pre_post_separated_220209/FakePhoton/CR/merged/SingleMuon_Run2016F.root: 100%|██████████| 891/891 [00:00<00:00, 224223.01it/s]\n",
      "fill sigma ieta ieta for /eos/home-j/jiwoong/WZG_DB/2016/pre_post_separated_220209/FakePhoton/CR/merged/SingleMuon_Run2016G.root: 100%|██████████| 2530/2530 [00:00<00:00, 222595.84it/s]\n",
      "fill sigma ieta ieta for /eos/home-j/jiwoong/WZG_DB/2016/pre_post_separated_220209/FakePhoton/CR/merged/SingleMuon_Run2016H.root: 100%|██████████| 3036/3036 [00:00<00:00, 223499.90it/s]\n"
     ]
    },
    {
     "name": "stdout",
     "output_type": "stream",
     "text": [
      "start ptbins: EB_PT2\n"
     ]
    },
    {
     "name": "stderr",
     "output_type": "stream",
     "text": [
      "fill sigma ieta ieta for /eos/home-j/jiwoong/WZG_DB/2016/pre_post_separated_220209/FakePhoton/CR/merged/DoubleEG_Run2016B.root: 100%|██████████| 65/65 [00:00<00:00, 170606.86it/s]\n",
      "fill sigma ieta ieta for /eos/home-j/jiwoong/WZG_DB/2016/pre_post_separated_220209/FakePhoton/CR/merged/DoubleEG_Run2016C.root: 100%|██████████| 24/24 [00:00<00:00, 87003.71it/s]\n",
      "fill sigma ieta ieta for /eos/home-j/jiwoong/WZG_DB/2016/pre_post_separated_220209/FakePhoton/CR/merged/DoubleEG_Run2016D.root: 100%|██████████| 40/40 [00:00<00:00, 132521.45it/s]\n",
      "fill sigma ieta ieta for /eos/home-j/jiwoong/WZG_DB/2016/pre_post_separated_220209/FakePhoton/CR/merged/DoubleEG_Run2016E.root: 100%|██████████| 37/37 [00:00<00:00, 59642.29it/s]\n",
      "fill sigma ieta ieta for /eos/home-j/jiwoong/WZG_DB/2016/pre_post_separated_220209/FakePhoton/CR/merged/DoubleEG_Run2016F.root: 100%|██████████| 35/35 [00:00<00:00, 127210.26it/s]\n",
      "fill sigma ieta ieta for /eos/home-j/jiwoong/WZG_DB/2016/pre_post_separated_220209/FakePhoton/CR/merged/DoubleEG_Run2016G.root: 100%|██████████| 78/78 [00:00<00:00, 176745.39it/s]\n",
      "fill sigma ieta ieta for /eos/home-j/jiwoong/WZG_DB/2016/pre_post_separated_220209/FakePhoton/CR/merged/DoubleEG_Run2016H.root: 100%|██████████| 97/97 [00:00<00:00, 105812.09it/s]\n",
      "fill sigma ieta ieta for /eos/home-j/jiwoong/WZG_DB/2016/pre_post_separated_220209/FakePhoton/CR/merged/DoubleMuon_Run2016B.root: 100%|██████████| 30/30 [00:00<00:00, 105472.86it/s]\n",
      "fill sigma ieta ieta for /eos/home-j/jiwoong/WZG_DB/2016/pre_post_separated_220209/FakePhoton/CR/merged/DoubleMuon_Run2016C.root: 100%|██████████| 16/16 [00:00<00:00, 50006.61it/s]\n",
      "fill sigma ieta ieta for /eos/home-j/jiwoong/WZG_DB/2016/pre_post_separated_220209/FakePhoton/CR/merged/DoubleMuon_Run2016D.root: 100%|██████████| 24/24 [00:00<00:00, 107776.55it/s]\n",
      "fill sigma ieta ieta for /eos/home-j/jiwoong/WZG_DB/2016/pre_post_separated_220209/FakePhoton/CR/merged/DoubleMuon_Run2016E.root: 100%|██████████| 21/21 [00:00<00:00, 100091.35it/s]\n",
      "fill sigma ieta ieta for /eos/home-j/jiwoong/WZG_DB/2016/pre_post_separated_220209/FakePhoton/CR/merged/DoubleMuon_Run2016F.root: 100%|██████████| 25/25 [00:00<00:00, 104232.21it/s]\n",
      "fill sigma ieta ieta for /eos/home-j/jiwoong/WZG_DB/2016/pre_post_separated_220209/FakePhoton/CR/merged/DoubleMuon_Run2016G.root: 100%|██████████| 76/76 [00:00<00:00, 124762.08it/s]\n",
      "fill sigma ieta ieta for /eos/home-j/jiwoong/WZG_DB/2016/pre_post_separated_220209/FakePhoton/CR/merged/DoubleMuon_Run2016H.root: 100%|██████████| 75/75 [00:00<00:00, 170963.48it/s]\n",
      "fill sigma ieta ieta for /eos/home-j/jiwoong/WZG_DB/2016/pre_post_separated_220209/FakePhoton/CR/merged/MuonEG_Run2016B.root: 100%|██████████| 5/5 [00:00<00:00, 35848.75it/s]\n",
      "fill sigma ieta ieta for /eos/home-j/jiwoong/WZG_DB/2016/pre_post_separated_220209/FakePhoton/CR/merged/MuonEG_Run2016C.root: 100%|██████████| 3/3 [00:00<00:00, 20068.44it/s]\n",
      "fill sigma ieta ieta for /eos/home-j/jiwoong/WZG_DB/2016/pre_post_separated_220209/FakePhoton/CR/merged/MuonEG_Run2016D.root: 100%|██████████| 4/4 [00:00<00:00, 27594.11it/s]\n",
      "fill sigma ieta ieta for /eos/home-j/jiwoong/WZG_DB/2016/pre_post_separated_220209/FakePhoton/CR/merged/MuonEG_Run2016E.root: 100%|██████████| 4/4 [00:00<00:00, 25040.62it/s]\n",
      "fill sigma ieta ieta for /eos/home-j/jiwoong/WZG_DB/2016/pre_post_separated_220209/FakePhoton/CR/merged/MuonEG_Run2016F.root: 100%|██████████| 3/3 [00:00<00:00, 22429.43it/s]\n",
      "fill sigma ieta ieta for /eos/home-j/jiwoong/WZG_DB/2016/pre_post_separated_220209/FakePhoton/CR/merged/MuonEG_Run2016G.root: 100%|██████████| 17/17 [00:00<00:00, 85290.87it/s]\n",
      "fill sigma ieta ieta for /eos/home-j/jiwoong/WZG_DB/2016/pre_post_separated_220209/FakePhoton/CR/merged/MuonEG_Run2016H.root: 100%|██████████| 11/11 [00:00<00:00, 27743.44it/s]\n",
      "fill sigma ieta ieta for /eos/home-j/jiwoong/WZG_DB/2016/pre_post_separated_220209/FakePhoton/CR/merged/SingleElectron_Run2016B.root: 100%|██████████| 653/653 [00:00<00:00, 225218.36it/s]\n",
      "fill sigma ieta ieta for /eos/home-j/jiwoong/WZG_DB/2016/pre_post_separated_220209/FakePhoton/CR/merged/SingleElectron_Run2016C.root: 100%|██████████| 278/278 [00:00<00:00, 213987.25it/s]\n",
      "fill sigma ieta ieta for /eos/home-j/jiwoong/WZG_DB/2016/pre_post_separated_220209/FakePhoton/CR/merged/SingleElectron_Run2016D.root: 100%|██████████| 406/406 [00:00<00:00, 216047.63it/s]\n",
      "fill sigma ieta ieta for /eos/home-j/jiwoong/WZG_DB/2016/pre_post_separated_220209/FakePhoton/CR/merged/SingleElectron_Run2016E.root: 100%|██████████| 361/361 [00:00<00:00, 213349.83it/s]\n",
      "fill sigma ieta ieta for /eos/home-j/jiwoong/WZG_DB/2016/pre_post_separated_220209/FakePhoton/CR/merged/SingleElectron_Run2016F.root: 100%|██████████| 298/298 [00:00<00:00, 204032.42it/s]\n",
      "fill sigma ieta ieta for /eos/home-j/jiwoong/WZG_DB/2016/pre_post_separated_220209/FakePhoton/CR/merged/SingleElectron_Run2016G.root: 100%|██████████| 824/824 [00:00<00:00, 171843.00it/s]\n",
      "fill sigma ieta ieta for /eos/home-j/jiwoong/WZG_DB/2016/pre_post_separated_220209/FakePhoton/CR/merged/SingleElectron_Run2016H.root: 100%|██████████| 913/913 [00:00<00:00, 226176.81it/s]\n",
      "fill sigma ieta ieta for /eos/home-j/jiwoong/WZG_DB/2016/pre_post_separated_220209/FakePhoton/CR/merged/SingleMuon_Run2016B.root: 100%|██████████| 847/847 [00:00<00:00, 223558.96it/s]\n",
      "fill sigma ieta ieta for /eos/home-j/jiwoong/WZG_DB/2016/pre_post_separated_220209/FakePhoton/CR/merged/SingleMuon_Run2016C.root: 100%|██████████| 425/425 [00:00<00:00, 214252.31it/s]\n",
      "fill sigma ieta ieta for /eos/home-j/jiwoong/WZG_DB/2016/pre_post_separated_220209/FakePhoton/CR/merged/SingleMuon_Run2016D.root: 100%|██████████| 731/731 [00:00<00:00, 222935.81it/s]\n",
      "fill sigma ieta ieta for /eos/home-j/jiwoong/WZG_DB/2016/pre_post_separated_220209/FakePhoton/CR/merged/SingleMuon_Run2016E.root: 100%|██████████| 656/656 [00:00<00:00, 228888.06it/s]\n",
      "fill sigma ieta ieta for /eos/home-j/jiwoong/WZG_DB/2016/pre_post_separated_220209/FakePhoton/CR/merged/SingleMuon_Run2016F.root: 100%|██████████| 502/502 [00:00<00:00, 203080.69it/s]\n",
      "fill sigma ieta ieta for /eos/home-j/jiwoong/WZG_DB/2016/pre_post_separated_220209/FakePhoton/CR/merged/SingleMuon_Run2016G.root: 100%|██████████| 1395/1395 [00:00<00:00, 112663.27it/s]\n",
      "fill sigma ieta ieta for /eos/home-j/jiwoong/WZG_DB/2016/pre_post_separated_220209/FakePhoton/CR/merged/SingleMuon_Run2016H.root: 100%|██████████| 1682/1682 [00:00<00:00, 214308.43it/s]\n"
     ]
    },
    {
     "name": "stdout",
     "output_type": "stream",
     "text": [
      "start ptbins: EB_PT3\n"
     ]
    },
    {
     "name": "stderr",
     "output_type": "stream",
     "text": [
      "fill sigma ieta ieta for /eos/home-j/jiwoong/WZG_DB/2016/pre_post_separated_220209/FakePhoton/CR/merged/DoubleEG_Run2016B.root: 100%|██████████| 12/12 [00:00<00:00, 69327.34it/s]\n",
      "fill sigma ieta ieta for /eos/home-j/jiwoong/WZG_DB/2016/pre_post_separated_220209/FakePhoton/CR/merged/DoubleEG_Run2016C.root: 100%|██████████| 8/8 [00:00<00:00, 59283.45it/s]\n",
      "fill sigma ieta ieta for /eos/home-j/jiwoong/WZG_DB/2016/pre_post_separated_220209/FakePhoton/CR/merged/DoubleEG_Run2016D.root: 100%|██████████| 10/10 [00:00<00:00, 50171.10it/s]\n",
      "fill sigma ieta ieta for /eos/home-j/jiwoong/WZG_DB/2016/pre_post_separated_220209/FakePhoton/CR/merged/DoubleEG_Run2016E.root: 100%|██████████| 11/11 [00:00<00:00, 65350.35it/s]\n",
      "fill sigma ieta ieta for /eos/home-j/jiwoong/WZG_DB/2016/pre_post_separated_220209/FakePhoton/CR/merged/DoubleEG_Run2016F.root: 100%|██████████| 8/8 [00:00<00:00, 51228.14it/s]\n",
      "fill sigma ieta ieta for /eos/home-j/jiwoong/WZG_DB/2016/pre_post_separated_220209/FakePhoton/CR/merged/DoubleEG_Run2016G.root: 100%|██████████| 30/30 [00:00<00:00, 115439.56it/s]\n",
      "fill sigma ieta ieta for /eos/home-j/jiwoong/WZG_DB/2016/pre_post_separated_220209/FakePhoton/CR/merged/DoubleEG_Run2016H.root: 100%|██████████| 30/30 [00:00<00:00, 117050.34it/s]\n",
      "fill sigma ieta ieta for /eos/home-j/jiwoong/WZG_DB/2016/pre_post_separated_220209/FakePhoton/CR/merged/DoubleMuon_Run2016B.root: 100%|██████████| 9/9 [00:00<00:00, 43240.25it/s]\n",
      "fill sigma ieta ieta for /eos/home-j/jiwoong/WZG_DB/2016/pre_post_separated_220209/FakePhoton/CR/merged/DoubleMuon_Run2016C.root: 100%|██████████| 4/4 [00:00<00:00, 24564.01it/s]\n",
      "fill sigma ieta ieta for /eos/home-j/jiwoong/WZG_DB/2016/pre_post_separated_220209/FakePhoton/CR/merged/DoubleMuon_Run2016D.root: 100%|██████████| 10/10 [00:00<00:00, 52038.51it/s]\n",
      "fill sigma ieta ieta for /eos/home-j/jiwoong/WZG_DB/2016/pre_post_separated_220209/FakePhoton/CR/merged/DoubleMuon_Run2016E.root: 100%|██████████| 10/10 [00:00<00:00, 54684.54it/s]\n",
      "fill sigma ieta ieta for /eos/home-j/jiwoong/WZG_DB/2016/pre_post_separated_220209/FakePhoton/CR/merged/DoubleMuon_Run2016F.root: 100%|██████████| 7/7 [00:00<00:00, 24385.49it/s]\n",
      "fill sigma ieta ieta for /eos/home-j/jiwoong/WZG_DB/2016/pre_post_separated_220209/FakePhoton/CR/merged/DoubleMuon_Run2016G.root: 100%|██████████| 18/18 [00:00<00:00, 87179.53it/s]\n",
      "fill sigma ieta ieta for /eos/home-j/jiwoong/WZG_DB/2016/pre_post_separated_220209/FakePhoton/CR/merged/DoubleMuon_Run2016H.root: 100%|██████████| 17/17 [00:00<00:00, 73206.54it/s]\n",
      "fill sigma ieta ieta for /eos/home-j/jiwoong/WZG_DB/2016/pre_post_separated_220209/FakePhoton/CR/merged/MuonEG_Run2016B.root: 100%|██████████| 1/1 [00:00<00:00, 7825.19it/s]\n",
      "fill sigma ieta ieta for /eos/home-j/jiwoong/WZG_DB/2016/pre_post_separated_220209/FakePhoton/CR/merged/MuonEG_Run2016C.root: 0it [00:00, ?it/s]\n",
      "fill sigma ieta ieta for /eos/home-j/jiwoong/WZG_DB/2016/pre_post_separated_220209/FakePhoton/CR/merged/MuonEG_Run2016D.root: 0it [00:00, ?it/s]\n",
      "fill sigma ieta ieta for /eos/home-j/jiwoong/WZG_DB/2016/pre_post_separated_220209/FakePhoton/CR/merged/MuonEG_Run2016E.root: 100%|██████████| 1/1 [00:00<00:00, 8630.26it/s]\n",
      "fill sigma ieta ieta for /eos/home-j/jiwoong/WZG_DB/2016/pre_post_separated_220209/FakePhoton/CR/merged/MuonEG_Run2016F.root: 100%|██████████| 2/2 [00:00<00:00, 15335.66it/s]\n",
      "fill sigma ieta ieta for /eos/home-j/jiwoong/WZG_DB/2016/pre_post_separated_220209/FakePhoton/CR/merged/MuonEG_Run2016G.root: 100%|██████████| 7/7 [00:00<00:00, 42674.60it/s]\n",
      "fill sigma ieta ieta for /eos/home-j/jiwoong/WZG_DB/2016/pre_post_separated_220209/FakePhoton/CR/merged/MuonEG_Run2016H.root: 100%|██████████| 5/5 [00:00<00:00, 16844.59it/s]\n",
      "fill sigma ieta ieta for /eos/home-j/jiwoong/WZG_DB/2016/pre_post_separated_220209/FakePhoton/CR/merged/SingleElectron_Run2016B.root: 100%|██████████| 245/245 [00:00<00:00, 206139.31it/s]\n",
      "fill sigma ieta ieta for /eos/home-j/jiwoong/WZG_DB/2016/pre_post_separated_220209/FakePhoton/CR/merged/SingleElectron_Run2016C.root: 100%|██████████| 100/100 [00:00<00:00, 172392.27it/s]\n",
      "fill sigma ieta ieta for /eos/home-j/jiwoong/WZG_DB/2016/pre_post_separated_220209/FakePhoton/CR/merged/SingleElectron_Run2016D.root: 100%|██████████| 156/156 [00:00<00:00, 167343.08it/s]\n",
      "fill sigma ieta ieta for /eos/home-j/jiwoong/WZG_DB/2016/pre_post_separated_220209/FakePhoton/CR/merged/SingleElectron_Run2016E.root: 100%|██████████| 121/121 [00:00<00:00, 181189.14it/s]\n",
      "fill sigma ieta ieta for /eos/home-j/jiwoong/WZG_DB/2016/pre_post_separated_220209/FakePhoton/CR/merged/SingleElectron_Run2016F.root: 100%|██████████| 104/104 [00:00<00:00, 180400.17it/s]\n",
      "fill sigma ieta ieta for /eos/home-j/jiwoong/WZG_DB/2016/pre_post_separated_220209/FakePhoton/CR/merged/SingleElectron_Run2016G.root: 100%|██████████| 328/328 [00:00<00:00, 191686.18it/s]\n",
      "fill sigma ieta ieta for /eos/home-j/jiwoong/WZG_DB/2016/pre_post_separated_220209/FakePhoton/CR/merged/SingleElectron_Run2016H.root: 100%|██████████| 338/338 [00:00<00:00, 201259.90it/s]\n",
      "fill sigma ieta ieta for /eos/home-j/jiwoong/WZG_DB/2016/pre_post_separated_220209/FakePhoton/CR/merged/SingleMuon_Run2016B.root: 100%|██████████| 343/343 [00:00<00:00, 217186.94it/s]\n",
      "fill sigma ieta ieta for /eos/home-j/jiwoong/WZG_DB/2016/pre_post_separated_220209/FakePhoton/CR/merged/SingleMuon_Run2016C.root: 100%|██████████| 161/161 [00:00<00:00, 178551.81it/s]\n",
      "fill sigma ieta ieta for /eos/home-j/jiwoong/WZG_DB/2016/pre_post_separated_220209/FakePhoton/CR/merged/SingleMuon_Run2016D.root: 100%|██████████| 252/252 [00:00<00:00, 206721.03it/s]\n",
      "fill sigma ieta ieta for /eos/home-j/jiwoong/WZG_DB/2016/pre_post_separated_220209/FakePhoton/CR/merged/SingleMuon_Run2016E.root: 100%|██████████| 242/242 [00:00<00:00, 203656.01it/s]\n",
      "fill sigma ieta ieta for /eos/home-j/jiwoong/WZG_DB/2016/pre_post_separated_220209/FakePhoton/CR/merged/SingleMuon_Run2016F.root: 100%|██████████| 198/198 [00:00<00:00, 91381.18it/s]\n",
      "fill sigma ieta ieta for /eos/home-j/jiwoong/WZG_DB/2016/pre_post_separated_220209/FakePhoton/CR/merged/SingleMuon_Run2016G.root: 100%|██████████| 582/582 [00:00<00:00, 216523.41it/s]\n",
      "fill sigma ieta ieta for /eos/home-j/jiwoong/WZG_DB/2016/pre_post_separated_220209/FakePhoton/CR/merged/SingleMuon_Run2016H.root: 100%|██████████| 632/632 [00:00<00:00, 217993.43it/s]\n"
     ]
    },
    {
     "name": "stdout",
     "output_type": "stream",
     "text": [
      "start ptbins: EB_PT4\n"
     ]
    },
    {
     "name": "stderr",
     "output_type": "stream",
     "text": [
      "fill sigma ieta ieta for /eos/home-j/jiwoong/WZG_DB/2016/pre_post_separated_220209/FakePhoton/CR/merged/DoubleEG_Run2016B.root: 100%|██████████| 1/1 [00:00<00:00, 6898.53it/s]\n",
      "fill sigma ieta ieta for /eos/home-j/jiwoong/WZG_DB/2016/pre_post_separated_220209/FakePhoton/CR/merged/DoubleEG_Run2016C.root: 100%|██████████| 3/3 [00:00<00:00, 10098.65it/s]\n",
      "fill sigma ieta ieta for /eos/home-j/jiwoong/WZG_DB/2016/pre_post_separated_220209/FakePhoton/CR/merged/DoubleEG_Run2016D.root: 100%|██████████| 4/4 [00:00<00:00, 25614.07it/s]\n",
      "fill sigma ieta ieta for /eos/home-j/jiwoong/WZG_DB/2016/pre_post_separated_220209/FakePhoton/CR/merged/DoubleEG_Run2016E.root: 100%|██████████| 4/4 [00:00<00:00, 22733.36it/s]\n",
      "fill sigma ieta ieta for /eos/home-j/jiwoong/WZG_DB/2016/pre_post_separated_220209/FakePhoton/CR/merged/DoubleEG_Run2016F.root: 100%|██████████| 5/5 [00:00<00:00, 30349.52it/s]\n",
      "fill sigma ieta ieta for /eos/home-j/jiwoong/WZG_DB/2016/pre_post_separated_220209/FakePhoton/CR/merged/DoubleEG_Run2016G.root: 100%|██████████| 5/5 [00:00<00:00, 26445.80it/s]\n",
      "fill sigma ieta ieta for /eos/home-j/jiwoong/WZG_DB/2016/pre_post_separated_220209/FakePhoton/CR/merged/DoubleEG_Run2016H.root: 100%|██████████| 6/6 [00:00<00:00, 34007.87it/s]\n",
      "fill sigma ieta ieta for /eos/home-j/jiwoong/WZG_DB/2016/pre_post_separated_220209/FakePhoton/CR/merged/DoubleMuon_Run2016B.root: 100%|██████████| 4/4 [00:00<00:00, 29433.71it/s]\n",
      "fill sigma ieta ieta for /eos/home-j/jiwoong/WZG_DB/2016/pre_post_separated_220209/FakePhoton/CR/merged/DoubleMuon_Run2016C.root: 100%|██████████| 1/1 [00:00<00:00, 8065.97it/s]\n",
      "fill sigma ieta ieta for /eos/home-j/jiwoong/WZG_DB/2016/pre_post_separated_220209/FakePhoton/CR/merged/DoubleMuon_Run2016D.root: 100%|██████████| 1/1 [00:00<00:00, 7854.50it/s]\n",
      "fill sigma ieta ieta for /eos/home-j/jiwoong/WZG_DB/2016/pre_post_separated_220209/FakePhoton/CR/merged/DoubleMuon_Run2016E.root: 100%|██████████| 3/3 [00:00<00:00, 13203.48it/s]\n",
      "fill sigma ieta ieta for /eos/home-j/jiwoong/WZG_DB/2016/pre_post_separated_220209/FakePhoton/CR/merged/DoubleMuon_Run2016F.root: 100%|██████████| 1/1 [00:00<00:00, 7476.48it/s]\n",
      "fill sigma ieta ieta for /eos/home-j/jiwoong/WZG_DB/2016/pre_post_separated_220209/FakePhoton/CR/merged/DoubleMuon_Run2016G.root: 100%|██████████| 5/5 [00:00<00:00, 33825.03it/s]\n",
      "fill sigma ieta ieta for /eos/home-j/jiwoong/WZG_DB/2016/pre_post_separated_220209/FakePhoton/CR/merged/DoubleMuon_Run2016H.root: 100%|██████████| 13/13 [00:00<00:00, 63773.04it/s]\n",
      "fill sigma ieta ieta for /eos/home-j/jiwoong/WZG_DB/2016/pre_post_separated_220209/FakePhoton/CR/merged/MuonEG_Run2016B.root: 100%|██████████| 3/3 [00:00<00:00, 20560.31it/s]\n",
      "fill sigma ieta ieta for /eos/home-j/jiwoong/WZG_DB/2016/pre_post_separated_220209/FakePhoton/CR/merged/MuonEG_Run2016C.root: 0it [00:00, ?it/s]\n",
      "fill sigma ieta ieta for /eos/home-j/jiwoong/WZG_DB/2016/pre_post_separated_220209/FakePhoton/CR/merged/MuonEG_Run2016D.root: 100%|██████████| 2/2 [00:00<00:00, 14290.64it/s]\n",
      "fill sigma ieta ieta for /eos/home-j/jiwoong/WZG_DB/2016/pre_post_separated_220209/FakePhoton/CR/merged/MuonEG_Run2016E.root: 100%|██████████| 1/1 [00:00<00:00, 7025.63it/s]\n",
      "fill sigma ieta ieta for /eos/home-j/jiwoong/WZG_DB/2016/pre_post_separated_220209/FakePhoton/CR/merged/MuonEG_Run2016F.root: 0it [00:00, ?it/s]\n",
      "fill sigma ieta ieta for /eos/home-j/jiwoong/WZG_DB/2016/pre_post_separated_220209/FakePhoton/CR/merged/MuonEG_Run2016G.root: 100%|██████████| 2/2 [00:00<00:00, 14438.22it/s]\n",
      "fill sigma ieta ieta for /eos/home-j/jiwoong/WZG_DB/2016/pre_post_separated_220209/FakePhoton/CR/merged/MuonEG_Run2016H.root: 0it [00:00, ?it/s]\n",
      "fill sigma ieta ieta for /eos/home-j/jiwoong/WZG_DB/2016/pre_post_separated_220209/FakePhoton/CR/merged/SingleElectron_Run2016B.root: 100%|██████████| 69/69 [00:00<00:00, 157887.06it/s]\n",
      "fill sigma ieta ieta for /eos/home-j/jiwoong/WZG_DB/2016/pre_post_separated_220209/FakePhoton/CR/merged/SingleElectron_Run2016C.root: 100%|██████████| 26/26 [00:00<00:00, 108725.73it/s]\n",
      "fill sigma ieta ieta for /eos/home-j/jiwoong/WZG_DB/2016/pre_post_separated_220209/FakePhoton/CR/merged/SingleElectron_Run2016D.root: 100%|██████████| 61/61 [00:00<00:00, 162963.40it/s]\n",
      "fill sigma ieta ieta for /eos/home-j/jiwoong/WZG_DB/2016/pre_post_separated_220209/FakePhoton/CR/merged/SingleElectron_Run2016E.root: 100%|██████████| 58/58 [00:00<00:00, 145670.44it/s]\n",
      "fill sigma ieta ieta for /eos/home-j/jiwoong/WZG_DB/2016/pre_post_separated_220209/FakePhoton/CR/merged/SingleElectron_Run2016F.root: 100%|██████████| 31/31 [00:00<00:00, 115268.99it/s]\n",
      "fill sigma ieta ieta for /eos/home-j/jiwoong/WZG_DB/2016/pre_post_separated_220209/FakePhoton/CR/merged/SingleElectron_Run2016G.root: 100%|██████████| 102/102 [00:00<00:00, 172507.66it/s]\n",
      "fill sigma ieta ieta for /eos/home-j/jiwoong/WZG_DB/2016/pre_post_separated_220209/FakePhoton/CR/merged/SingleElectron_Run2016H.root: 100%|██████████| 115/115 [00:00<00:00, 184523.70it/s]\n",
      "fill sigma ieta ieta for /eos/home-j/jiwoong/WZG_DB/2016/pre_post_separated_220209/FakePhoton/CR/merged/SingleMuon_Run2016B.root: 100%|██████████| 97/97 [00:00<00:00, 86416.20it/s]\n",
      "fill sigma ieta ieta for /eos/home-j/jiwoong/WZG_DB/2016/pre_post_separated_220209/FakePhoton/CR/merged/SingleMuon_Run2016C.root: 100%|██████████| 40/40 [00:00<00:00, 62742.02it/s]\n",
      "fill sigma ieta ieta for /eos/home-j/jiwoong/WZG_DB/2016/pre_post_separated_220209/FakePhoton/CR/merged/SingleMuon_Run2016D.root: 100%|██████████| 82/82 [00:00<00:00, 116429.56it/s]\n",
      "fill sigma ieta ieta for /eos/home-j/jiwoong/WZG_DB/2016/pre_post_separated_220209/FakePhoton/CR/merged/SingleMuon_Run2016E.root: 100%|██████████| 92/92 [00:00<00:00, 154659.71it/s]\n",
      "fill sigma ieta ieta for /eos/home-j/jiwoong/WZG_DB/2016/pre_post_separated_220209/FakePhoton/CR/merged/SingleMuon_Run2016F.root: 100%|██████████| 69/69 [00:00<00:00, 164155.97it/s]\n",
      "fill sigma ieta ieta for /eos/home-j/jiwoong/WZG_DB/2016/pre_post_separated_220209/FakePhoton/CR/merged/SingleMuon_Run2016G.root: 100%|██████████| 145/145 [00:00<00:00, 203606.99it/s]\n",
      "fill sigma ieta ieta for /eos/home-j/jiwoong/WZG_DB/2016/pre_post_separated_220209/FakePhoton/CR/merged/SingleMuon_Run2016H.root: 100%|██████████| 188/188 [00:00<00:00, 204229.25it/s]\n"
     ]
    },
    {
     "name": "stdout",
     "output_type": "stream",
     "text": [
      "start ptbins: EB_PT5\n"
     ]
    },
    {
     "name": "stderr",
     "output_type": "stream",
     "text": [
      "fill sigma ieta ieta for /eos/home-j/jiwoong/WZG_DB/2016/pre_post_separated_220209/FakePhoton/CR/merged/DoubleEG_Run2016B.root: 100%|██████████| 2/2 [00:00<00:00, 18978.75it/s]\n",
      "fill sigma ieta ieta for /eos/home-j/jiwoong/WZG_DB/2016/pre_post_separated_220209/FakePhoton/CR/merged/DoubleEG_Run2016C.root: 100%|██████████| 2/2 [00:00<00:00, 17586.18it/s]\n",
      "fill sigma ieta ieta for /eos/home-j/jiwoong/WZG_DB/2016/pre_post_separated_220209/FakePhoton/CR/merged/DoubleEG_Run2016D.root: 0it [00:00, ?it/s]\n",
      "fill sigma ieta ieta for /eos/home-j/jiwoong/WZG_DB/2016/pre_post_separated_220209/FakePhoton/CR/merged/DoubleEG_Run2016E.root: 100%|██████████| 1/1 [00:00<00:00, 9467.95it/s]\n",
      "fill sigma ieta ieta for /eos/home-j/jiwoong/WZG_DB/2016/pre_post_separated_220209/FakePhoton/CR/merged/DoubleEG_Run2016F.root: 100%|██████████| 1/1 [00:00<00:00, 7307.15it/s]\n",
      "fill sigma ieta ieta for /eos/home-j/jiwoong/WZG_DB/2016/pre_post_separated_220209/FakePhoton/CR/merged/DoubleEG_Run2016G.root: 0it [00:00, ?it/s]\n",
      "fill sigma ieta ieta for /eos/home-j/jiwoong/WZG_DB/2016/pre_post_separated_220209/FakePhoton/CR/merged/DoubleEG_Run2016H.root: 100%|██████████| 3/3 [00:00<00:00, 12133.96it/s]\n",
      "fill sigma ieta ieta for /eos/home-j/jiwoong/WZG_DB/2016/pre_post_separated_220209/FakePhoton/CR/merged/DoubleMuon_Run2016B.root: 100%|██████████| 1/1 [00:00<00:00, 6978.88it/s]\n",
      "fill sigma ieta ieta for /eos/home-j/jiwoong/WZG_DB/2016/pre_post_separated_220209/FakePhoton/CR/merged/DoubleMuon_Run2016C.root: 0it [00:00, ?it/s]\n",
      "fill sigma ieta ieta for /eos/home-j/jiwoong/WZG_DB/2016/pre_post_separated_220209/FakePhoton/CR/merged/DoubleMuon_Run2016D.root: 100%|██████████| 1/1 [00:00<00:00, 8160.12it/s]\n",
      "fill sigma ieta ieta for /eos/home-j/jiwoong/WZG_DB/2016/pre_post_separated_220209/FakePhoton/CR/merged/DoubleMuon_Run2016E.root: 0it [00:00, ?it/s]\n",
      "fill sigma ieta ieta for /eos/home-j/jiwoong/WZG_DB/2016/pre_post_separated_220209/FakePhoton/CR/merged/DoubleMuon_Run2016F.root: 0it [00:00, ?it/s]\n",
      "fill sigma ieta ieta for /eos/home-j/jiwoong/WZG_DB/2016/pre_post_separated_220209/FakePhoton/CR/merged/DoubleMuon_Run2016G.root: 100%|██████████| 2/2 [00:00<00:00, 13086.75it/s]\n",
      "fill sigma ieta ieta for /eos/home-j/jiwoong/WZG_DB/2016/pre_post_separated_220209/FakePhoton/CR/merged/DoubleMuon_Run2016H.root: 100%|██████████| 3/3 [00:00<00:00, 21254.92it/s]\n",
      "fill sigma ieta ieta for /eos/home-j/jiwoong/WZG_DB/2016/pre_post_separated_220209/FakePhoton/CR/merged/MuonEG_Run2016B.root: 100%|██████████| 1/1 [00:00<00:00, 7695.97it/s]\n",
      "fill sigma ieta ieta for /eos/home-j/jiwoong/WZG_DB/2016/pre_post_separated_220209/FakePhoton/CR/merged/MuonEG_Run2016C.root: 0it [00:00, ?it/s]\n",
      "fill sigma ieta ieta for /eos/home-j/jiwoong/WZG_DB/2016/pre_post_separated_220209/FakePhoton/CR/merged/MuonEG_Run2016D.root: 100%|██████████| 2/2 [00:00<00:00, 17734.90it/s]\n",
      "fill sigma ieta ieta for /eos/home-j/jiwoong/WZG_DB/2016/pre_post_separated_220209/FakePhoton/CR/merged/MuonEG_Run2016E.root: 0it [00:00, ?it/s]\n",
      "fill sigma ieta ieta for /eos/home-j/jiwoong/WZG_DB/2016/pre_post_separated_220209/FakePhoton/CR/merged/MuonEG_Run2016F.root: 0it [00:00, ?it/s]\n",
      "fill sigma ieta ieta for /eos/home-j/jiwoong/WZG_DB/2016/pre_post_separated_220209/FakePhoton/CR/merged/MuonEG_Run2016G.root: 100%|██████████| 3/3 [00:00<00:00, 24385.49it/s]\n",
      "fill sigma ieta ieta for /eos/home-j/jiwoong/WZG_DB/2016/pre_post_separated_220209/FakePhoton/CR/merged/MuonEG_Run2016H.root: 0it [00:00, ?it/s]\n",
      "fill sigma ieta ieta for /eos/home-j/jiwoong/WZG_DB/2016/pre_post_separated_220209/FakePhoton/CR/merged/SingleElectron_Run2016B.root: 100%|██████████| 27/27 [00:00<00:00, 107240.73it/s]\n",
      "fill sigma ieta ieta for /eos/home-j/jiwoong/WZG_DB/2016/pre_post_separated_220209/FakePhoton/CR/merged/SingleElectron_Run2016C.root: 100%|██████████| 10/10 [00:00<00:00, 61052.46it/s]\n",
      "fill sigma ieta ieta for /eos/home-j/jiwoong/WZG_DB/2016/pre_post_separated_220209/FakePhoton/CR/merged/SingleElectron_Run2016D.root: 100%|██████████| 30/30 [00:00<00:00, 116832.98it/s]\n",
      "fill sigma ieta ieta for /eos/home-j/jiwoong/WZG_DB/2016/pre_post_separated_220209/FakePhoton/CR/merged/SingleElectron_Run2016E.root: 100%|██████████| 42/42 [00:00<00:00, 107088.61it/s]\n",
      "fill sigma ieta ieta for /eos/home-j/jiwoong/WZG_DB/2016/pre_post_separated_220209/FakePhoton/CR/merged/SingleElectron_Run2016F.root: 100%|██████████| 13/13 [00:00<00:00, 66739.23it/s]\n",
      "fill sigma ieta ieta for /eos/home-j/jiwoong/WZG_DB/2016/pre_post_separated_220209/FakePhoton/CR/merged/SingleElectron_Run2016G.root: 100%|██████████| 48/48 [00:00<00:00, 152404.69it/s]\n",
      "fill sigma ieta ieta for /eos/home-j/jiwoong/WZG_DB/2016/pre_post_separated_220209/FakePhoton/CR/merged/SingleElectron_Run2016H.root: 100%|██████████| 57/57 [00:00<00:00, 155546.73it/s]\n",
      "fill sigma ieta ieta for /eos/home-j/jiwoong/WZG_DB/2016/pre_post_separated_220209/FakePhoton/CR/merged/SingleMuon_Run2016B.root: 100%|██████████| 52/52 [00:00<00:00, 149796.57it/s]\n",
      "fill sigma ieta ieta for /eos/home-j/jiwoong/WZG_DB/2016/pre_post_separated_220209/FakePhoton/CR/merged/SingleMuon_Run2016C.root: 100%|██████████| 16/16 [00:00<00:00, 85163.53it/s]\n",
      "fill sigma ieta ieta for /eos/home-j/jiwoong/WZG_DB/2016/pre_post_separated_220209/FakePhoton/CR/merged/SingleMuon_Run2016D.root: 100%|██████████| 31/31 [00:00<00:00, 61857.00it/s]\n",
      "fill sigma ieta ieta for /eos/home-j/jiwoong/WZG_DB/2016/pre_post_separated_220209/FakePhoton/CR/merged/SingleMuon_Run2016E.root: 100%|██████████| 39/39 [00:00<00:00, 128598.94it/s]\n",
      "fill sigma ieta ieta for /eos/home-j/jiwoong/WZG_DB/2016/pre_post_separated_220209/FakePhoton/CR/merged/SingleMuon_Run2016F.root: 100%|██████████| 20/20 [00:00<00:00, 54506.87it/s]\n",
      "fill sigma ieta ieta for /eos/home-j/jiwoong/WZG_DB/2016/pre_post_separated_220209/FakePhoton/CR/merged/SingleMuon_Run2016G.root: 100%|██████████| 62/62 [00:00<00:00, 140565.86it/s]\n",
      "fill sigma ieta ieta for /eos/home-j/jiwoong/WZG_DB/2016/pre_post_separated_220209/FakePhoton/CR/merged/SingleMuon_Run2016H.root: 100%|██████████| 86/86 [00:00<00:00, 159465.14it/s]\n"
     ]
    },
    {
     "name": "stdout",
     "output_type": "stream",
     "text": [
      "start ptbins: EE_PT1\n"
     ]
    },
    {
     "name": "stderr",
     "output_type": "stream",
     "text": [
      "fill sigma ieta ieta for /eos/home-j/jiwoong/WZG_DB/2016/pre_post_separated_220209/FakePhoton/CR/merged/DoubleEG_Run2016B.root: 100%|██████████| 28/28 [00:00<00:00, 119471.53it/s]\n",
      "fill sigma ieta ieta for /eos/home-j/jiwoong/WZG_DB/2016/pre_post_separated_220209/FakePhoton/CR/merged/DoubleEG_Run2016C.root: 100%|██████████| 22/22 [00:00<00:00, 97029.11it/s]\n",
      "fill sigma ieta ieta for /eos/home-j/jiwoong/WZG_DB/2016/pre_post_separated_220209/FakePhoton/CR/merged/DoubleEG_Run2016D.root: 100%|██████████| 30/30 [00:00<00:00, 110765.07it/s]\n",
      "fill sigma ieta ieta for /eos/home-j/jiwoong/WZG_DB/2016/pre_post_separated_220209/FakePhoton/CR/merged/DoubleEG_Run2016E.root: 100%|██████████| 33/33 [00:00<00:00, 128516.28it/s]\n",
      "fill sigma ieta ieta for /eos/home-j/jiwoong/WZG_DB/2016/pre_post_separated_220209/FakePhoton/CR/merged/DoubleEG_Run2016F.root: 100%|██████████| 28/28 [00:00<00:00, 112598.77it/s]\n",
      "fill sigma ieta ieta for /eos/home-j/jiwoong/WZG_DB/2016/pre_post_separated_220209/FakePhoton/CR/merged/DoubleEG_Run2016G.root: 100%|██████████| 69/69 [00:00<00:00, 159277.37it/s]\n",
      "fill sigma ieta ieta for /eos/home-j/jiwoong/WZG_DB/2016/pre_post_separated_220209/FakePhoton/CR/merged/DoubleEG_Run2016H.root: 100%|██████████| 60/60 [00:00<00:00, 158975.51it/s]\n",
      "fill sigma ieta ieta for /eos/home-j/jiwoong/WZG_DB/2016/pre_post_separated_220209/FakePhoton/CR/merged/DoubleMuon_Run2016B.root: 100%|██████████| 33/33 [00:00<00:00, 105016.72it/s]\n",
      "fill sigma ieta ieta for /eos/home-j/jiwoong/WZG_DB/2016/pre_post_separated_220209/FakePhoton/CR/merged/DoubleMuon_Run2016C.root: 100%|██████████| 10/10 [00:00<00:00, 52958.38it/s]\n",
      "fill sigma ieta ieta for /eos/home-j/jiwoong/WZG_DB/2016/pre_post_separated_220209/FakePhoton/CR/merged/DoubleMuon_Run2016D.root: 100%|██████████| 22/22 [00:00<00:00, 92645.27it/s]\n",
      "fill sigma ieta ieta for /eos/home-j/jiwoong/WZG_DB/2016/pre_post_separated_220209/FakePhoton/CR/merged/DoubleMuon_Run2016E.root: 100%|██████████| 21/21 [00:00<00:00, 51031.51it/s]\n",
      "fill sigma ieta ieta for /eos/home-j/jiwoong/WZG_DB/2016/pre_post_separated_220209/FakePhoton/CR/merged/DoubleMuon_Run2016F.root: 100%|██████████| 18/18 [00:00<00:00, 76337.18it/s]\n",
      "fill sigma ieta ieta for /eos/home-j/jiwoong/WZG_DB/2016/pre_post_separated_220209/FakePhoton/CR/merged/DoubleMuon_Run2016G.root: 100%|██████████| 44/44 [00:00<00:00, 154693.53it/s]\n",
      "fill sigma ieta ieta for /eos/home-j/jiwoong/WZG_DB/2016/pre_post_separated_220209/FakePhoton/CR/merged/DoubleMuon_Run2016H.root: 100%|██████████| 62/62 [00:00<00:00, 75926.09it/s]\n",
      "fill sigma ieta ieta for /eos/home-j/jiwoong/WZG_DB/2016/pre_post_separated_220209/FakePhoton/CR/merged/MuonEG_Run2016B.root: 100%|██████████| 11/11 [00:00<00:00, 53710.53it/s]\n",
      "fill sigma ieta ieta for /eos/home-j/jiwoong/WZG_DB/2016/pre_post_separated_220209/FakePhoton/CR/merged/MuonEG_Run2016C.root: 100%|██████████| 4/4 [00:00<00:00, 28826.83it/s]\n",
      "fill sigma ieta ieta for /eos/home-j/jiwoong/WZG_DB/2016/pre_post_separated_220209/FakePhoton/CR/merged/MuonEG_Run2016D.root: 100%|██████████| 6/6 [00:00<00:00, 35295.69it/s]\n",
      "fill sigma ieta ieta for /eos/home-j/jiwoong/WZG_DB/2016/pre_post_separated_220209/FakePhoton/CR/merged/MuonEG_Run2016E.root: 100%|██████████| 2/2 [00:00<00:00, 14217.98it/s]\n",
      "fill sigma ieta ieta for /eos/home-j/jiwoong/WZG_DB/2016/pre_post_separated_220209/FakePhoton/CR/merged/MuonEG_Run2016F.root: 100%|██████████| 1/1 [00:00<00:00, 8144.28it/s]\n",
      "fill sigma ieta ieta for /eos/home-j/jiwoong/WZG_DB/2016/pre_post_separated_220209/FakePhoton/CR/merged/MuonEG_Run2016G.root: 100%|██████████| 14/14 [00:00<00:00, 70747.30it/s]\n",
      "fill sigma ieta ieta for /eos/home-j/jiwoong/WZG_DB/2016/pre_post_separated_220209/FakePhoton/CR/merged/MuonEG_Run2016H.root: 100%|██████████| 13/13 [00:00<00:00, 60787.01it/s]\n",
      "fill sigma ieta ieta for /eos/home-j/jiwoong/WZG_DB/2016/pre_post_separated_220209/FakePhoton/CR/merged/SingleElectron_Run2016B.root: 100%|██████████| 493/493 [00:00<00:00, 216545.38it/s]\n",
      "fill sigma ieta ieta for /eos/home-j/jiwoong/WZG_DB/2016/pre_post_separated_220209/FakePhoton/CR/merged/SingleElectron_Run2016C.root: 100%|██████████| 184/184 [00:00<00:00, 186323.50it/s]\n",
      "fill sigma ieta ieta for /eos/home-j/jiwoong/WZG_DB/2016/pre_post_separated_220209/FakePhoton/CR/merged/SingleElectron_Run2016D.root: 100%|██████████| 310/310 [00:00<00:00, 198842.98it/s]\n",
      "fill sigma ieta ieta for /eos/home-j/jiwoong/WZG_DB/2016/pre_post_separated_220209/FakePhoton/CR/merged/SingleElectron_Run2016E.root: 100%|██████████| 248/248 [00:00<00:00, 207249.93it/s]\n",
      "fill sigma ieta ieta for /eos/home-j/jiwoong/WZG_DB/2016/pre_post_separated_220209/FakePhoton/CR/merged/SingleElectron_Run2016F.root: 100%|██████████| 189/189 [00:00<00:00, 211055.23it/s]\n",
      "fill sigma ieta ieta for /eos/home-j/jiwoong/WZG_DB/2016/pre_post_separated_220209/FakePhoton/CR/merged/SingleElectron_Run2016G.root: 100%|██████████| 578/578 [00:00<00:00, 223273.87it/s]\n",
      "fill sigma ieta ieta for /eos/home-j/jiwoong/WZG_DB/2016/pre_post_separated_220209/FakePhoton/CR/merged/SingleElectron_Run2016H.root: 100%|██████████| 612/612 [00:00<00:00, 208404.16it/s]\n",
      "fill sigma ieta ieta for /eos/home-j/jiwoong/WZG_DB/2016/pre_post_separated_220209/FakePhoton/CR/merged/SingleMuon_Run2016B.root: 100%|██████████| 702/702 [00:00<00:00, 219126.40it/s]\n",
      "fill sigma ieta ieta for /eos/home-j/jiwoong/WZG_DB/2016/pre_post_separated_220209/FakePhoton/CR/merged/SingleMuon_Run2016C.root: 100%|██████████| 331/331 [00:00<00:00, 208518.27it/s]\n",
      "fill sigma ieta ieta for /eos/home-j/jiwoong/WZG_DB/2016/pre_post_separated_220209/FakePhoton/CR/merged/SingleMuon_Run2016D.root: 100%|██████████| 536/536 [00:00<00:00, 214211.24it/s]\n",
      "fill sigma ieta ieta for /eos/home-j/jiwoong/WZG_DB/2016/pre_post_separated_220209/FakePhoton/CR/merged/SingleMuon_Run2016E.root: 100%|██████████| 453/453 [00:00<00:00, 217617.65it/s]\n",
      "fill sigma ieta ieta for /eos/home-j/jiwoong/WZG_DB/2016/pre_post_separated_220209/FakePhoton/CR/merged/SingleMuon_Run2016F.root: 100%|██████████| 353/353 [00:00<00:00, 139231.64it/s]\n",
      "fill sigma ieta ieta for /eos/home-j/jiwoong/WZG_DB/2016/pre_post_separated_220209/FakePhoton/CR/merged/SingleMuon_Run2016G.root: 100%|██████████| 949/949 [00:00<00:00, 185635.41it/s]\n",
      "fill sigma ieta ieta for /eos/home-j/jiwoong/WZG_DB/2016/pre_post_separated_220209/FakePhoton/CR/merged/SingleMuon_Run2016H.root: 100%|██████████| 1163/1163 [00:00<00:00, 210638.90it/s]\n"
     ]
    },
    {
     "name": "stdout",
     "output_type": "stream",
     "text": [
      "start ptbins: EE_PT2\n"
     ]
    },
    {
     "name": "stderr",
     "output_type": "stream",
     "text": [
      "fill sigma ieta ieta for /eos/home-j/jiwoong/WZG_DB/2016/pre_post_separated_220209/FakePhoton/CR/merged/DoubleEG_Run2016B.root: 100%|██████████| 5/5 [00:00<00:00, 17317.52it/s]\n",
      "fill sigma ieta ieta for /eos/home-j/jiwoong/WZG_DB/2016/pre_post_separated_220209/FakePhoton/CR/merged/DoubleEG_Run2016C.root: 100%|██████████| 2/2 [00:00<00:00, 15087.42it/s]\n",
      "fill sigma ieta ieta for /eos/home-j/jiwoong/WZG_DB/2016/pre_post_separated_220209/FakePhoton/CR/merged/DoubleEG_Run2016D.root: 100%|██████████| 3/3 [00:00<00:00, 18724.57it/s]\n",
      "fill sigma ieta ieta for /eos/home-j/jiwoong/WZG_DB/2016/pre_post_separated_220209/FakePhoton/CR/merged/DoubleEG_Run2016E.root: 100%|██████████| 2/2 [00:00<00:00, 15477.14it/s]\n",
      "fill sigma ieta ieta for /eos/home-j/jiwoong/WZG_DB/2016/pre_post_separated_220209/FakePhoton/CR/merged/DoubleEG_Run2016F.root: 100%|██████████| 1/1 [00:00<00:00, 8867.45it/s]\n",
      "fill sigma ieta ieta for /eos/home-j/jiwoong/WZG_DB/2016/pre_post_separated_220209/FakePhoton/CR/merged/DoubleEG_Run2016G.root: 100%|██████████| 2/2 [00:00<00:00, 15224.33it/s]\n",
      "fill sigma ieta ieta for /eos/home-j/jiwoong/WZG_DB/2016/pre_post_separated_220209/FakePhoton/CR/merged/DoubleEG_Run2016H.root: 100%|██████████| 11/11 [00:00<00:00, 59918.63it/s]\n",
      "fill sigma ieta ieta for /eos/home-j/jiwoong/WZG_DB/2016/pre_post_separated_220209/FakePhoton/CR/merged/DoubleMuon_Run2016B.root: 100%|██████████| 4/4 [00:00<00:00, 16163.02it/s]\n",
      "fill sigma ieta ieta for /eos/home-j/jiwoong/WZG_DB/2016/pre_post_separated_220209/FakePhoton/CR/merged/DoubleMuon_Run2016C.root: 0it [00:00, ?it/s]\n",
      "fill sigma ieta ieta for /eos/home-j/jiwoong/WZG_DB/2016/pre_post_separated_220209/FakePhoton/CR/merged/DoubleMuon_Run2016D.root: 100%|██████████| 1/1 [00:00<00:00, 3682.44it/s]\n",
      "fill sigma ieta ieta for /eos/home-j/jiwoong/WZG_DB/2016/pre_post_separated_220209/FakePhoton/CR/merged/DoubleMuon_Run2016E.root: 100%|██████████| 4/4 [00:00<00:00, 27147.60it/s]\n",
      "fill sigma ieta ieta for /eos/home-j/jiwoong/WZG_DB/2016/pre_post_separated_220209/FakePhoton/CR/merged/DoubleMuon_Run2016F.root: 100%|██████████| 2/2 [00:00<00:00, 13774.40it/s]\n",
      "fill sigma ieta ieta for /eos/home-j/jiwoong/WZG_DB/2016/pre_post_separated_220209/FakePhoton/CR/merged/DoubleMuon_Run2016G.root: 100%|██████████| 8/8 [00:00<00:00, 45964.98it/s]\n",
      "fill sigma ieta ieta for /eos/home-j/jiwoong/WZG_DB/2016/pre_post_separated_220209/FakePhoton/CR/merged/DoubleMuon_Run2016H.root: 100%|██████████| 5/5 [00:00<00:00, 30570.73it/s]\n",
      "fill sigma ieta ieta for /eos/home-j/jiwoong/WZG_DB/2016/pre_post_separated_220209/FakePhoton/CR/merged/MuonEG_Run2016B.root: 100%|██████████| 2/2 [00:00<00:00, 11428.62it/s]\n",
      "fill sigma ieta ieta for /eos/home-j/jiwoong/WZG_DB/2016/pre_post_separated_220209/FakePhoton/CR/merged/MuonEG_Run2016C.root: 0it [00:00, ?it/s]\n",
      "fill sigma ieta ieta for /eos/home-j/jiwoong/WZG_DB/2016/pre_post_separated_220209/FakePhoton/CR/merged/MuonEG_Run2016D.root: 100%|██████████| 2/2 [00:00<00:00, 15621.24it/s]\n",
      "fill sigma ieta ieta for /eos/home-j/jiwoong/WZG_DB/2016/pre_post_separated_220209/FakePhoton/CR/merged/MuonEG_Run2016E.root: 0it [00:00, ?it/s]\n",
      "fill sigma ieta ieta for /eos/home-j/jiwoong/WZG_DB/2016/pre_post_separated_220209/FakePhoton/CR/merged/MuonEG_Run2016F.root: 0it [00:00, ?it/s]\n",
      "fill sigma ieta ieta for /eos/home-j/jiwoong/WZG_DB/2016/pre_post_separated_220209/FakePhoton/CR/merged/MuonEG_Run2016G.root: 0it [00:00, ?it/s]\n",
      "fill sigma ieta ieta for /eos/home-j/jiwoong/WZG_DB/2016/pre_post_separated_220209/FakePhoton/CR/merged/MuonEG_Run2016H.root: 0it [00:00, ?it/s]\n",
      "fill sigma ieta ieta for /eos/home-j/jiwoong/WZG_DB/2016/pre_post_separated_220209/FakePhoton/CR/merged/SingleElectron_Run2016B.root: 100%|██████████| 64/64 [00:00<00:00, 174535.41it/s]\n",
      "fill sigma ieta ieta for /eos/home-j/jiwoong/WZG_DB/2016/pre_post_separated_220209/FakePhoton/CR/merged/SingleElectron_Run2016C.root: 100%|██████████| 30/30 [00:00<00:00, 112548.41it/s]\n",
      "fill sigma ieta ieta for /eos/home-j/jiwoong/WZG_DB/2016/pre_post_separated_220209/FakePhoton/CR/merged/SingleElectron_Run2016D.root: 100%|██████████| 48/48 [00:00<00:00, 140886.35it/s]\n",
      "fill sigma ieta ieta for /eos/home-j/jiwoong/WZG_DB/2016/pre_post_separated_220209/FakePhoton/CR/merged/SingleElectron_Run2016E.root: 100%|██████████| 40/40 [00:00<00:00, 89765.74it/s]\n",
      "fill sigma ieta ieta for /eos/home-j/jiwoong/WZG_DB/2016/pre_post_separated_220209/FakePhoton/CR/merged/SingleElectron_Run2016F.root: 100%|██████████| 22/22 [00:00<00:00, 91542.35it/s]\n",
      "fill sigma ieta ieta for /eos/home-j/jiwoong/WZG_DB/2016/pre_post_separated_220209/FakePhoton/CR/merged/SingleElectron_Run2016G.root: 100%|██████████| 94/94 [00:00<00:00, 188193.12it/s]\n",
      "fill sigma ieta ieta for /eos/home-j/jiwoong/WZG_DB/2016/pre_post_separated_220209/FakePhoton/CR/merged/SingleElectron_Run2016H.root: 100%|██████████| 112/112 [00:00<00:00, 191505.12it/s]\n",
      "fill sigma ieta ieta for /eos/home-j/jiwoong/WZG_DB/2016/pre_post_separated_220209/FakePhoton/CR/merged/SingleMuon_Run2016B.root: 100%|██████████| 85/85 [00:00<00:00, 183204.44it/s]\n",
      "fill sigma ieta ieta for /eos/home-j/jiwoong/WZG_DB/2016/pre_post_separated_220209/FakePhoton/CR/merged/SingleMuon_Run2016C.root: 100%|██████████| 43/43 [00:00<00:00, 115983.97it/s]\n",
      "fill sigma ieta ieta for /eos/home-j/jiwoong/WZG_DB/2016/pre_post_separated_220209/FakePhoton/CR/merged/SingleMuon_Run2016D.root: 100%|██████████| 61/61 [00:00<00:00, 160812.41it/s]\n",
      "fill sigma ieta ieta for /eos/home-j/jiwoong/WZG_DB/2016/pre_post_separated_220209/FakePhoton/CR/merged/SingleMuon_Run2016E.root: 100%|██████████| 56/56 [00:00<00:00, 135534.35it/s]\n",
      "fill sigma ieta ieta for /eos/home-j/jiwoong/WZG_DB/2016/pre_post_separated_220209/FakePhoton/CR/merged/SingleMuon_Run2016F.root: 100%|██████████| 54/54 [00:00<00:00, 137184.99it/s]\n",
      "fill sigma ieta ieta for /eos/home-j/jiwoong/WZG_DB/2016/pre_post_separated_220209/FakePhoton/CR/merged/SingleMuon_Run2016G.root: 100%|██████████| 147/147 [00:00<00:00, 196045.37it/s]\n",
      "fill sigma ieta ieta for /eos/home-j/jiwoong/WZG_DB/2016/pre_post_separated_220209/FakePhoton/CR/merged/SingleMuon_Run2016H.root: 100%|██████████| 156/156 [00:00<00:00, 206472.52it/s]\n"
     ]
    }
   ],
   "source": [
    "hist_data_dict     = Make_HistDict(\"Data\",xbins,False)\n",
    "hist_mctruth_dict  = Make_HistDict(\"Real\",xbins)\n",
    "hist_datafake_dict = Make_HistDict(\"Fake\",xbins,False)\n",
    "\n",
    "\n",
    "with open('pickle_dict_sample/real_hist_dict.pickle','wb') as fw:\n",
    "    pickle.dump(hist_mctruth_dict,fw)\n",
    "    \n",
    "with open('pickle_dict_sample/fake_hist_dict.pickle','wb') as fw:\n",
    "    pickle.dump(hist_datafake_dict,fw)\n",
    "    \n",
    "with open('pickle_dict_sample/data_hist_dict.pickle','wb') as fw:\n",
    "    pickle.dump(hist_data_dict,fw)"
   ]
  },
  {
   "cell_type": "code",
   "execution_count": 15,
   "id": "9219e3a5",
   "metadata": {},
   "outputs": [
    {
     "name": "stdout",
     "output_type": "stream",
     "text": [
      "total 28K\r\n",
      "drwxr-xr-x. 2 jiwoong 1399 4.0K Feb 14 02:04 .\r\n",
      "drwxr-xr-x. 2 jiwoong 1399 4.0K Feb 14 02:03 ..\r\n",
      "-rw-r--r--. 1 jiwoong 1399 6.2K Feb 14 02:04 data_hist_dict.pickle\r\n",
      "-rw-r--r--. 1 jiwoong 1399 6.2K Feb 14 02:04 fake_hist_dict.pickle\r\n",
      "-rw-r--r--. 1 jiwoong 1399 6.2K Feb 14 02:03 real_hist_dict.pickle\r\n"
     ]
    }
   ],
   "source": [
    "!ls -alh pickle_dict_sample"
   ]
  },
  {
   "cell_type": "markdown",
   "id": "0741da88",
   "metadata": {},
   "source": [
    "---"
   ]
  },
  {
   "cell_type": "markdown",
   "id": "6fab6897",
   "metadata": {},
   "source": [
    "## Load and Fit"
   ]
  },
  {
   "cell_type": "markdown",
   "id": "ad81ffcd",
   "metadata": {},
   "source": [
    "Load hist"
   ]
  },
  {
   "cell_type": "code",
   "execution_count": 6,
   "id": "1f08ab25",
   "metadata": {},
   "outputs": [],
   "source": [
    "pt_dicts={\n",
    "    \"EB_PT1\": [20,30,1],\n",
    "    \"EB_PT2\": [30,50,1],\n",
    "    \"EB_PT3\": [50,80,1],\n",
    "    \"EB_PT4\": [80,120,1],\n",
    "    \"EB_PT5\": [120,-1,1],\n",
    "    \"EE_PT1\": [20,50,0],\n",
    "    \"EE_PT2\": [50,-1,0]\n",
    "}\n",
    "\n",
    "closure_dict={\n",
    "    \"from_4_to_10\":[4,10]\n",
    "}"
   ]
  },
  {
   "cell_type": "code",
   "execution_count": 7,
   "id": "eb669b25",
   "metadata": {},
   "outputs": [],
   "source": [
    "region = 'EE_PT2'\n",
    "\n",
    "with open('pickle_dict_sample/real_hist_dict.pickle','rb') as fr:\n",
    "    hist_mctruth_picke = pickle.load(fr)\n",
    "    \n",
    "with open('pickle_dict_sample/fake_hist_dict.pickle','rb') as fr:\n",
    "    hist_datafake_pickle = pickle.load(fr)\n",
    "    \n",
    "with open('pickle_dict_sample/data_hist_dict.pickle','rb') as fr:\n",
    "    hist_data_pickle = pickle.load(fr)\n",
    "\n",
    "\n",
    "\n",
    "hist_data     = hist_data_pickle[region]\n",
    "hist_mctruth  = hist_mctruth_picke[region]\n",
    "hist_datafake = hist_datafake_pickle['from_4_to_10'][region]"
   ]
  },
  {
   "cell_type": "code",
   "execution_count": 8,
   "id": "5ee5a7f6",
   "metadata": {},
   "outputs": [
    {
     "data": {
      "text/plain": [
       "25"
      ]
     },
     "execution_count": 8,
     "metadata": {},
     "output_type": "execute_result"
    }
   ],
   "source": [
    "hist_mctruth.GetNbinsX()"
   ]
  },
  {
   "cell_type": "code",
   "execution_count": 9,
   "id": "6556023d",
   "metadata": {},
   "outputs": [
    {
     "name": "stdout",
     "output_type": "stream",
     "text": [
      "1066.0\n",
      "1421.4936776384711\n",
      "1857.0\n"
     ]
    }
   ],
   "source": [
    "print(hist_datafake.Integral())\n",
    "print(hist_mctruth.Integral())\n",
    "print(hist_data.Integral())"
   ]
  },
  {
   "cell_type": "markdown",
   "id": "7a589393",
   "metadata": {},
   "source": [
    "### Start Fit"
   ]
  },
  {
   "cell_type": "code",
   "execution_count": 10,
   "id": "60000a6c",
   "metadata": {},
   "outputs": [],
   "source": [
    "ptrange      = pt_dicts[region]\n",
    "isbarrel     = check_isbarrel(ptrange)\n",
    "xleft,xright = set_xrange(isbarrel)"
   ]
  },
  {
   "cell_type": "code",
   "execution_count": 11,
   "id": "1d67da3a",
   "metadata": {},
   "outputs": [
    {
     "name": "stdout",
     "output_type": "stream",
     "text": [
      "bins : 25\n",
      "\n",
      "\u001b[1mRooFit v3.60 -- Developed by Wouter Verkerke and David Kirkby\u001b[0m \n",
      "                Copyright (C) 2000-2013 NIKHEF, University of California & Stanford University\n",
      "                All rights reserved, please read http://roofit.sourceforge.net/license.txt\n",
      "\n",
      "[#1] INFO:Minization -- RooMinimizer::optimizeConst: activating const optimization\n",
      "[#1] INFO:Minization --  The following expressions have been identified as constant and will be precalculated and cached: (true_pdf,fake_pdf)\n",
      "[#1] INFO:Minization --  The following expressions will be evaluated in cache-and-track mode: (ntrue,nfake)\n",
      " **********\n",
      " **    1 **SET PRINT           1\n",
      " **********\n",
      " **********\n",
      " **    2 **SET NOGRAD\n",
      " **********\n",
      " PARAMETER DEFINITIONS:\n",
      "    NO.   NAME         VALUE      STEP SIZE      LIMITS\n",
      "     1 fake number   9.28500e+02  1.85700e+02    0.00000e+00  1.85700e+03\n",
      "     2 true number   9.28500e+02  1.85700e+02    0.00000e+00  1.85700e+03\n",
      " **********\n",
      " **    3 **SET ERR         0.5\n",
      " **********\n",
      " **********\n",
      " **    4 **SET PRINT           1\n",
      " **********\n",
      " **********\n",
      " **    5 **SET STR           1\n",
      " **********\n",
      " NOW USING STRATEGY  1: TRY TO BALANCE SPEED AGAINST RELIABILITY\n",
      " **********\n",
      " **    6 **MIGRAD        1000           1\n",
      " **********\n",
      " FIRST CALL TO USER FUNCTION AT NEW START POINT, WITH IFLAG=4.\n",
      " START MIGRAD MINIMIZATION.  STRATEGY  1.  CONVERGENCE WHEN EDM .LT. 1.00e-03\n",
      " FCN=-20044.3 FROM MIGRAD    STATUS=INITIATE        8 CALLS           9 TOTAL\n",
      "                     EDM= unknown      STRATEGY= 1      NO ERROR MATRIX       \n",
      "  EXT PARAMETER               CURRENT GUESS       STEP         FIRST   \n",
      "  NO.   NAME      VALUE            ERROR          SIZE      DERIVATIVE \n",
      "   1  fake number   9.28500e+02   1.85700e+02   2.01358e-01   1.72883e+02\n",
      "   2  true number   9.28500e+02   1.85700e+02   2.01358e-01  -1.72888e+02\n",
      "                               ERR DEF= 0.5\n",
      " MIGRAD MINIMIZATION HAS CONVERGED.\n",
      " MIGRAD WILL VERIFY CONVERGENCE AND ERROR MATRIX.\n",
      " COVARIANCE MATRIX CALCULATED SUCCESSFULLY\n",
      " FCN=-20122.7 FROM MIGRAD    STATUS=CONVERGED      49 CALLS          50 TOTAL\n",
      "                     EDM=2.71862e-06    STRATEGY= 1      ERROR MATRIX ACCURATE \n",
      "  EXT PARAMETER                                   STEP         FIRST   \n",
      "  NO.   NAME      VALUE            ERROR          SIZE      DERIVATIVE \n",
      "   1  fake number   5.38715e+02   3.05153e+01   3.36922e-03   2.70912e-02\n",
      "   2  true number   1.31827e+03   4.13403e+01   4.54974e-03  -2.14995e-02\n",
      "                               ERR DEF= 0.5\n",
      " EXTERNAL ERROR MATRIX.    NDIM=  25    NPAR=  2    ERR DEF=0.5\n",
      "  9.316e+02 -3.918e+02 \n",
      " -3.918e+02  1.710e+03 \n",
      " PARAMETER  CORRELATION COEFFICIENTS  \n",
      "       NO.  GLOBAL      1      2\n",
      "        1  0.31039   1.000 -0.310\n",
      "        2  0.31039  -0.310  1.000\n",
      " **********\n",
      " **    7 **SET ERR         0.5\n",
      " **********\n",
      " **********\n",
      " **    8 **SET PRINT           1\n",
      " **********\n",
      " **********\n",
      " **    9 **HESSE        1000\n",
      " **********\n",
      " COVARIANCE MATRIX CALCULATED SUCCESSFULLY\n",
      " FCN=-20122.7 FROM HESSE     STATUS=OK             10 CALLS          60 TOTAL\n",
      "                     EDM=2.72252e-06    STRATEGY= 1      ERROR MATRIX ACCURATE \n",
      "  EXT PARAMETER                                INTERNAL      INTERNAL  \n",
      "  NO.   NAME      VALUE            ERROR       STEP SIZE       VALUE   \n",
      "   1  fake number   5.38715e+02   3.05270e+01   1.34769e-04  -4.33226e-01\n",
      "   2  true number   1.31827e+03   4.13563e+01   1.81990e-04   4.33207e-01\n",
      "                               ERR DEF= 0.5\n",
      " EXTERNAL ERROR MATRIX.    NDIM=  25    NPAR=  2    ERR DEF=0.5\n",
      "  9.323e+02 -3.935e+02 \n",
      " -3.935e+02  1.712e+03 \n",
      " PARAMETER  CORRELATION COEFFICIENTS  \n",
      "       NO.  GLOBAL      1      2\n",
      "        1  0.31150   1.000 -0.312\n",
      "        2  0.31150  -0.312  1.000\n",
      "[#1] INFO:Fitting -- RooAbsPdf::fitTo(fullpdf) Calculating sum-of-weights-squared correction matrix for covariance matrix\n",
      " **********\n",
      " **   10 **SET ERR         0.5\n",
      " **********\n",
      " **********\n",
      " **   11 **SET PRINT           1\n",
      " **********\n",
      " **********\n",
      " **   12 **HESSE        1000\n",
      " **********\n",
      " COVARIANCE MATRIX CALCULATED SUCCESSFULLY\n",
      " FCN=-20122.7 FROM HESSE     STATUS=OK             10 CALLS          70 TOTAL\n",
      "                     EDM=2.72268e-06    STRATEGY= 1      ERROR MATRIX ACCURATE \n",
      "  EXT PARAMETER                                INTERNAL      INTERNAL  \n",
      "  NO.   NAME      VALUE            ERROR       STEP SIZE       VALUE   \n",
      "   1  fake number   5.38715e+02   3.05274e+01   2.69538e-05  -4.33226e-01\n",
      "   2  true number   1.31827e+03   4.13569e+01   3.63979e-05   4.33207e-01\n",
      "                               ERR DEF= 0.5\n",
      " EXTERNAL ERROR MATRIX.    NDIM=  25    NPAR=  2    ERR DEF=0.5\n",
      "  9.323e+02 -3.936e+02 \n",
      " -3.936e+02  1.712e+03 \n",
      " PARAMETER  CORRELATION COEFFICIENTS  \n",
      "       NO.  GLOBAL      1      2\n",
      "        1  0.31154   1.000 -0.312\n",
      "        2  0.31154  -0.312  1.000\n",
      "[#1] INFO:Minization -- RooMinimizer::optimizeConst: deactivating const optimization\n"
     ]
    }
   ],
   "source": [
    "# Observable\n",
    "sieie = ROOT.RooRealVar(\"sieie\",\"sieie\",xleft,xright)\n",
    "\n",
    "\n",
    "# Import hist\n",
    "data_hist = ROOT.RooDataHist(\"data_hist\", \"data with x(sieie)\", ROOT.RooArgList(sieie), ROOT.RooFit.Import(hist_data))\n",
    "TruePhotons_hist = ROOT.RooDataHist(\"TruePhotons_hist\", \"true photons MC with x(sieie)\", ROOT.RooArgList(sieie), ROOT.RooFit.Import(hist_mctruth))\n",
    "FakePhotons_hist = ROOT.RooDataHist(\"FakePhotons_hist\", \"fake photons data with x(sieie)\", ROOT.RooArgList(sieie), ROOT.RooFit.Import(hist_datafake))\n",
    "\n",
    "\n",
    "xbins = hist_data.GetNbinsX()\n",
    "print(\"bins :\", xbins)\n",
    "\n",
    "ndata = hist_data.GetSumOfWeights()\n",
    "\n",
    "# Parameters\n",
    "# TrueFraction = ROOT.RooRealVar(\"TrueFraction\",\"fraction of true photons\", 0, 1)\n",
    "# FakeFraction = ROOT.RooRealVar(\"FakeFraction\",\"fraction of fake photons\", 0, 1)\n",
    "\n",
    "ntrue = ROOT.RooRealVar(\"true number\", \"true number\", 0.5*ndata, 0, ndata)\n",
    "nfake = ROOT.RooRealVar(\"fake number\", \"fake number\", 0.5*ndata, 0, ndata)\n",
    "\n",
    "# PDF\n",
    "true_pdf = ROOT.RooHistPdf(\"true_pdf\", \"truepdf\", sieie, TruePhotons_hist)\n",
    "fake_pdf = ROOT.RooHistPdf(\"fake_pdf\", \"fakepdf\", sieie, FakePhotons_hist)\n",
    "\n",
    "etrue_pdf = ROOT.RooExtendPdf(\"ntrue\", \"ntrue\", true_pdf, ntrue)\n",
    "efake_pdf = ROOT.RooExtendPdf(\"nfake\", \"nfake\", fake_pdf, nfake)\n",
    "\n",
    "fullpdf = ROOT.RooAddPdf(\"fullpdf\", \"true plus fake\", ROOT.RooArgList(etrue_pdf, efake_pdf))\n",
    "\n",
    "# Fit\n",
    "fullpdf.fitTo(data_hist, ROOT.RooFit.SumW2Error(True), ROOT.RooFit.Extended(True))\n",
    "\n",
    "chi2 = ROOT.RooChi2Var(\"chi2\", \"chi2\", fullpdf, data_hist)\n",
    "chi2ToNDF = chi2.getVal() / xbins\n"
   ]
  },
  {
   "cell_type": "markdown",
   "id": "9bddff47",
   "metadata": {},
   "source": [
    "### Plot1 : Berfore fit"
   ]
  },
  {
   "cell_type": "code",
   "execution_count": 12,
   "id": "4c68680e",
   "metadata": {},
   "outputs": [
    {
     "name": "stdout",
     "output_type": "stream",
     "text": [
      "bins : 25\n",
      "35.86 fb^{-1} (13 TeV)\n"
     ]
    },
    {
     "data": {
      "image/png": "[encoded data removed]",
      "text/plain": [
       "<IPython.core.display.Image object>"
      ]
     },
     "metadata": {},
     "output_type": "display_data"
    }
   ],
   "source": [
    "c1 = ROOT.TCanvas(\"\",\"\",1000,800)\n",
    "\n",
    "xbins = hist_data.GetNbinsX()\n",
    "print(\"bins :\", xbins)\n",
    "\n",
    "hist_data.SetStats(False)\n",
    "c1.Draw()\n",
    "hist_data.GetXaxis().SetTitle(\"#sigma_{i#etai#eta}\")\n",
    "hist_data.GetYaxis().SetTitle(\"events/bin\")\n",
    "hist_data.Draw(\"ep\")\n",
    "\n",
    "hist_mctruth.SetMarkerStyle(0)\n",
    "hist_mctruth.SetLineColor(4)\n",
    "hist_mctruth.SetLineWidth(3)\n",
    "hist_mctruth.Draw(\"HiST SAME e\")\n",
    "\n",
    "hist_datafake.SetMarkerStyle(0)\n",
    "hist_datafake.SetLineColor(2)\n",
    "hist_datafake.SetLineWidth(3)\n",
    "hist_datafake.Draw(\"HiST SAME e\")\n",
    "\n",
    "\n",
    "\n",
    "legend = ROOT.TLegend(0.65, 0.65, 0.80, 0.85)\n",
    "legend.SetBorderSize(0)\n",
    "legend.SetFillColor(0)\n",
    "legend.SetTextSize(0.020)\n",
    "legend.SetLineWidth(1)\n",
    "legend.SetLineStyle(0)\n",
    "legend.AddEntry(hist_data,'data template')\n",
    "legend.AddEntry(hist_mctruth,'True photons (from MC)')\n",
    "legend.AddEntry(hist_datafake,'Fake photons (from data)')\n",
    "legend.Draw(\"SAME\")\n",
    "\n",
    "# ROOT.gPad.SetLogy()\n",
    "# ROOT.gPad.SetGrid()\n",
    "CMS_lumi(c1, 0, 0)"
   ]
  },
  {
   "cell_type": "markdown",
   "id": "f27aecef",
   "metadata": {},
   "source": [
    "### Plot2 : After fit"
   ]
  },
  {
   "cell_type": "code",
   "execution_count": 33,
   "id": "e1d14e06",
   "metadata": {},
   "outputs": [
    {
     "name": "stdout",
     "output_type": "stream",
     "text": [
      "bins region : 25 Endcap\n",
      "35.86 fb^{-1} (13 TeV)\n",
      "[#1] INFO:Plotting -- RooAbsPdf::plotOn(fullpdf) directly selected PDF components: (ntrue)\n",
      "[#1] INFO:Plotting -- RooAbsPdf::plotOn(fullpdf) indirectly selected PDF components: (true_pdf)\n",
      "[#1] INFO:Plotting -- RooAbsPdf::plotOn(fullpdf) directly selected PDF components: (nfake)\n",
      "[#1] INFO:Plotting -- RooAbsPdf::plotOn(fullpdf) indirectly selected PDF components: (fake_pdf)\n"
     ]
    },
    {
     "data": {
      "image/png": "[encoded data removed]",
      "text/plain": [
       "<IPython.core.display.Image object>"
      ]
     },
     "metadata": {},
     "output_type": "display_data"
    },
    {
     "data": {
      "image/png": "[encoded data removed]",
      "text/plain": [
       "<IPython.core.display.Image object>"
      ]
     },
     "metadata": {},
     "output_type": "display_data"
    }
   ],
   "source": [
    "# Plot\n",
    "\n",
    "if isbarrel == 1:\n",
    "    region_mark = \"Barrel\"\n",
    "else:\n",
    "    region_mark = \"Endcap\"\n",
    "\n",
    "xbins = hist_data.GetNbinsX()\n",
    "print(\"bins region :\", xbins,region_mark)\n",
    "\n",
    "xframe = sieie.frame(ROOT.RooFit.Title(f\"{region_mark} region, {ptrange[0]} GeV < photon PT < {ptrange[1]}\"), ROOT.RooFit.Bins(xbins))\n",
    "xframe.GetXaxis().SetTitle(\"#sigma_{i#etai#eta}\")\n",
    "xframe.GetYaxis().SetTitle(\"events / bin\")\n",
    "data_hist.plotOn(xframe)\n",
    "fullpdf.plotOn(xframe, ROOT.RooFit.Name(\"sum\"), ROOT.RooFit.FillStyle(4100), ROOT.RooFit.FillColor(20), ROOT.RooFit.DrawOption(\"F\"))\n",
    "fullpdf.plotOn(xframe, ROOT.RooFit.Components(\"ntrue\"), ROOT.RooFit.Name(\"true\"), ROOT.RooFit.LineColor(4), ROOT.RooFit.LineStyle(9))\n",
    "fullpdf.plotOn(xframe, ROOT.RooFit.Components(\"nfake\"), ROOT.RooFit.Name(\"fake\"), ROOT.RooFit.LineColor(2), ROOT.RooFit.LineStyle(9))\n",
    "data_hist.plotOn(xframe)\n",
    "\n",
    "\n",
    "\n",
    "c1 = ROOT.TCanvas(\"\",\"\",1000,800)\n",
    "c1.Draw()\n",
    "xframe.Draw()\n",
    "\n",
    "legend = ROOT.TLegend(0.60, 0.60, 0.80, 0.85)\n",
    "legend.SetBorderSize(0)\n",
    "legend.SetFillColor(0)\n",
    "legend.SetTextSize(0.020)\n",
    "legend.SetLineWidth(1)\n",
    "legend.SetLineStyle(0)\n",
    "legend.AddEntry(hist_data,'data template')\n",
    "hist_fit_NaN = hist_data.Clone() # Just for plot\n",
    "hist_fit_NaN.SetLineColor(20)\n",
    "hist_fit_NaN.SetLineWidth(0)\n",
    "hist_fit_NaN.SetFillColor(20)\n",
    "hist_fit_NaN.SetMarkerStyle(0)\n",
    "legend.AddEntry(hist_fit_NaN,'Fit result', \"F\")\n",
    "legend.AddEntry(hist_mctruth,'True photons (from MC)')\n",
    "legend.AddEntry(hist_datafake,'Fake photons (from data)')\n",
    "legend.Draw(\"SAME\")\n",
    "\n",
    "textChi2 = ROOT.TLatex()\n",
    "textChi2.SetNDC()\n",
    "textChi2.SetTextSize(0.02)\n",
    "textChi2.DrawLatex(0.6, 0.55, \"#chi^{2}/n=\"+str(\"%.2f\" % chi2ToNDF))\n",
    "textChi2.DrawLatex(0.6, 0.50, str(ptrange[0])+\" GeV < #gamma P_{T} < \"+str(ptrange[1])+\" GeV\")\n",
    "result_nfake = nfake.getVal()\n",
    "result_nfake_err = nfake.getAsymErrorHi()\n",
    "result_ntrue = ntrue.getVal()\n",
    "result_ntrue_err = ntrue.getAsymErrorHi()\n",
    "fake_fraction = result_nfake/(result_ntrue+result_nfake)\n",
    "fake_fraction_err = numpy.sqrt(pow(result_nfake/pow(result_ntrue+result_nfake,2),2)*pow(result_ntrue_err,2) + pow(result_ntrue/pow(result_nfake+result_ntrue,2),2)*pow(result_nfake_err,2))\n",
    "textChi2.DrawLatex(0.6, 0.45, \"Fake Fraction: \"+ str(\"%.3f\" % fake_fraction) + \"#pm \" + str(\"%.3f\" % fake_fraction_err)) \n",
    "\n",
    "\n",
    "CMS_lumi(c1, 0, 0)\n",
    "\n",
    "# print (ntrue.getVal())\n",
    "# print (ntrue.getAsymErrorHi())\n",
    "# print (ntrue.getAsymErrorLo())"
   ]
  },
  {
   "cell_type": "code",
   "execution_count": 32,
   "id": "b036489b",
   "metadata": {},
   "outputs": [
    {
     "data": {
      "text/plain": [
       "599649.8050573984"
      ]
     },
     "execution_count": 32,
     "metadata": {},
     "output_type": "execute_result"
    }
   ],
   "source": [
    "ntrue.getVal() +nfake.getVal()\n"
   ]
  },
  {
   "cell_type": "code",
   "execution_count": null,
   "id": "fea0fbcf",
   "metadata": {},
   "outputs": [],
   "source": []
  }
 ],
 "metadata": {
  "kernelspec": {
   "display_name": "Python 3",
   "language": "python",
   "name": "python3"
  },
  "language_info": {
   "codemirror_mode": {
    "name": "ipython",
    "version": 3
   },
   "file_extension": ".py",
   "mimetype": "text/x-python",
   "name": "python",
   "nbconvert_exporter": "python",
   "pygments_lexer": "ipython3",
   "version": "3.9.6"
  }
 },
 "nbformat": 4,
 "nbformat_minor": 5
}
