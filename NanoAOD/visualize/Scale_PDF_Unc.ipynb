{
 "cells": [
  {
   "cell_type": "code",
   "execution_count": 1,
   "id": "7978d665",
   "metadata": {},
   "outputs": [
    {
     "name": "stdout",
     "output_type": "stream",
     "text": [
      "Welcome to JupyROOT 6.24/06\n"
     ]
    },
    {
     "name": "stderr",
     "output_type": "stream",
     "text": [
      "/cvmfs/sft.cern.ch/lcg/views/LCG_101swan/x86_64-centos7-gcc8-opt/lib/python3.9/site-packages/uproot3/__init__.py:127: FutureWarning: Consider switching from 'uproot3' to 'uproot', since the new interface became the default in 2020.\n",
      "\n",
      "    pip install -U uproot\n",
      "\n",
      "In Python:\n",
      "\n",
      "    >>> import uproot\n",
      "    >>> with uproot.open(...) as file:\n",
      "    ...\n",
      "\n",
      "  warnings.warn(\n",
      "/cvmfs/sft.cern.ch/lcg/views/LCG_101swan/x86_64-centos7-gcc8-opt/lib/python3.9/site-packages/awkward0/__init__.py:12: FutureWarning: Consider switching from 'awkward0' to 'awkward', since the new interface became the default in 2020.\n",
      "\n",
      "    pip install -U awkward\n",
      "\n",
      "In Python:\n",
      "\n",
      "    >>> import awkward as ak\n",
      "    >>> new_style_array = ak.from_awkward0(old_style_array)\n",
      "    >>> old_style_array = ak.to_awkward0(new_style_array)\n",
      "\n",
      "  warnings.warn(\n"
     ]
    }
   ],
   "source": [
    "import ROOT\n",
    "import matplotlib\n",
    "import uproot\n",
    "import numpy as np\n",
    "import matplotlib.pyplot as plt\n",
    "import pandas as pd\n",
    "from tqdm import trange\n",
    "import os,sys\n",
    "from array import array\n",
    "import time\n",
    "\n",
    "from Lumi import *\n",
    "from Ratio_Plot import *\n",
    "from TDR_Style import *"
   ]
  },
  {
   "cell_type": "markdown",
   "id": "c82a7d06",
   "metadata": {},
   "source": [
    "### 1. Selecte Branch and Channels"
   ]
  },
  {
   "cell_type": "code",
   "execution_count": 2,
   "id": "82296ec6",
   "metadata": {},
   "outputs": [],
   "source": [
    "branch = {\n",
    "\n",
    "    \"WZG_trileptonmass\":{\n",
    "        \"name\":\"WZG_trileptonmass\",\n",
    "        \"axis_name\":\"m_{WZ} [GeV]\",\n",
    "        \"xbins\":10,\n",
    "        \"xleft\":100,\n",
    "        \"xright\":500,\n",
    "    },\n",
    "    \"ttZ_dileptonmass\":{\n",
    "        \"name\":\"WZG_trileptonmass\",\n",
    "        \"axis_name\":\"m_{WZ} [GeV]\",\n",
    "        \"xbins\":10,\n",
    "        \"xleft\":100,\n",
    "        \"xright\":500,\n",
    "    },\n",
    "    \"ttG_dileptonmass\":{\n",
    "        \"name\":\"WZG_trileptonmass\",\n",
    "        \"axis_name\":\"m_{WZ} [GeV]\",\n",
    "        \"xbins\":10,\n",
    "        \"xleft\":100,\n",
    "        \"xright\":500,\n",
    "    },\n",
    "    \"ZZ_trileptonmass\":{\n",
    "        \"name\":\"WZG_trileptonmass\",\n",
    "        \"axis_name\":\"m_{WZ} [GeV]\",\n",
    "        \"xbins\":10,\n",
    "        \"xleft\":100,\n",
    "        \"xright\":500,\n",
    "    }\n",
    "}\n",
    "\n",
    "\n",
    "# 0: WZG\n",
    "# 1: WZG_emm\n",
    "# 2: WZG_mee\n",
    "# 3: WZG_eee\n",
    "# 4: WZG_mmm\n",
    "\n",
    "# 10: ttZ\n",
    "# 11: ttZ_emm\n",
    "# 12: ttZ_mee\n",
    "# 13: ttZ_eee\n",
    "# 14: ttZ_mmm\n",
    "\n",
    "\n",
    "# 20: ttG\n",
    "# 21: ttG_emm\n",
    "# 22: ttG_mee\n",
    "# 23: ttG_eee\n",
    "# 24: ttG_mmm\n",
    "\n",
    "\n",
    "# 9: ZZ\n",
    "# 5: ZZ_eemm\n",
    "# 6: ZZ_mmee\n",
    "# 7: ZZ_eeee\n",
    "# 8: ZZ_mmmm     \n",
    "\n",
    "year =2016\n",
    "channel = 0\n",
    "\n",
    "\n",
    "if channel ==0: \n",
    "    hist_name = 'WZG_trileptonmass'\n",
    "elif channel == 10:\n",
    "    hist_name = 'ttZ_dileptonmass'\n",
    "elif channel == 20:\n",
    "    hist_name = 'ttG_dileptonmass'\n",
    "elif channel ==9:\n",
    "    hist_name = 'ZZ_trileptonmass'\n",
    "else:\n",
    "    print('channel name error')\n",
    "\n",
    "if year == 2018:\n",
    "    lumi = 59.7\n",
    "elif year == 2017:\n",
    "    lumi = 41.5\n",
    "elif year == 2016:\n",
    "    lumi = 35.86\n",
    "else:\n",
    "    print('year name error')\n",
    "UpDown = 0\n",
    "# 0: nominal\n",
    "# 1: JESup \n",
    "# 2: JESdown\n",
    "# 3: JERup\n",
    "# 4: JERdown"
   ]
  },
  {
   "cell_type": "markdown",
   "id": "fdb6d5c4",
   "metadata": {},
   "source": [
    "### 2. Select samples"
   ]
  },
  {
   "cell_type": "code",
   "execution_count": 3,
   "id": "78ce391d",
   "metadata": {},
   "outputs": [],
   "source": [
    "# 2018\n",
    "if year == 2018:\n",
    "    filelist_MC = {\n",
    "        \"WZG\":\n",
    "            {\"name\":\"WZG\",\n",
    "            \"path\":\"/eos/home-j/jiwoong/SWAN_projects/Draw/WZG_sample/WZG_2018.root\",\n",
    "            \"xsec\":0.0384,\n",
    "            \"color\":46}\n",
    "    }\n",
    "\n",
    "# 2017\n",
    "elif year ==2017:\n",
    "    filelist_MC = {\n",
    "        \"WZG\":\n",
    "            {\"name\":\"WZG\",\n",
    "            \"path\":\"/eos/home-j/jiwoong/SWAN_projects/Draw/WZG_sample/WZG_2017.root\",\n",
    "            \"xsec\":0.0384,\n",
    "            \"color\":46}\n",
    "    }\n",
    "\n",
    "else:\n",
    "# 2016\n",
    "    filelist_MC = {\n",
    "        \"WZG\":\n",
    "            {\"name\":\"WZG\",\n",
    "            \"path\":\"/eos/home-j/jiwoong/SWAN_projects/Draw/WZG_sample/WZG_2016.root\",\n",
    "            \"xsec\":0.0384,\n",
    "            \"color\":46}\n",
    "    }"
   ]
  },
  {
   "cell_type": "markdown",
   "id": "11ac2562",
   "metadata": {},
   "source": [
    "## 3. Load branches and conver arrays"
   ]
  },
  {
   "cell_type": "code",
   "execution_count": 4,
   "id": "6bf2eaec",
   "metadata": {},
   "outputs": [],
   "source": [
    "file = filelist_MC['WZG']['path']\n",
    "init_branches = ['channel_mark','HLT_Ele23_Ele12_CaloIdL_TrackIdL_IsoVL','HLT_Mu23_TrkIsoVVL_Ele12_CaloIdL_TrackIdL_IsoVL','HLT_Mu8_TrkIsoVVL_Ele23_CaloIdL_TrackIdL_IsoVL_DZ',\n",
    "                 'HLT_Mu17_TrkIsoVVL_Mu8_TrkIsoVVL_DZ_Mass3p8','HLT_Ele32_WPTight_Gsf','HLT_IsoMu24']\n",
    "\n",
    "\n",
    "if year == 2018:\n",
    "    add_branches = ['Generator_weight','puWeight','LHEScaleWeight','LHEPdfWeight','Muon_ID_Weight','Electron_ID_Weight','Electron_RECO_Weight']\n",
    "    \n",
    "else:\n",
    "    add_branches = ['Generator_weight','puWeight','LHEScaleWeight','LHEPdfWeight', 'PrefireWeight', 'Muon_ID_Weight','Electron_ID_Weight','Electron_RECO_Weight']\n",
    "    \n",
    "    \n",
    "    \n",
    "met_branches = uproot.open(file+':Events').keys(filter_name='MET_T1Smear*')\n",
    "gen_lepton_branches = uproot.open(file+':Events').keys(filter_name='*_lepton*genPartFlav')\n",
    "gen_photon_branches= uproot.open(file+':Events').keys(filter_name='*_photon*genPartFlav')\n",
    "\n",
    "\n",
    "true_events = uproot.open(file)['nEventsGenWeighted'].values()[0]\n",
    "init_branches.extend(add_branches)\n",
    "init_branches.extend(gen_lepton_branches)\n",
    "init_branches.extend(gen_photon_branches)\n",
    "init_branches.extend(met_branches)\n",
    "for branch_name in branch:\n",
    "    if branch[branch_name][\"name\"] not in init_branches:\n",
    "        init_branches.append(branch[branch_name][\"name\"])\n",
    "        \n",
    "branches = uproot.open(file+':Events').arrays(init_branches)\n",
    "# 'LHEScaleWeight','LHEPdfWeight'"
   ]
  },
  {
   "cell_type": "code",
   "execution_count": 5,
   "id": "dedd1ab5",
   "metadata": {},
   "outputs": [
    {
     "data": {
      "text/plain": [
       "['channel_mark',\n",
       " 'HLT_Ele23_Ele12_CaloIdL_TrackIdL_IsoVL',\n",
       " 'HLT_Mu23_TrkIsoVVL_Ele12_CaloIdL_TrackIdL_IsoVL',\n",
       " 'HLT_Mu8_TrkIsoVVL_Ele23_CaloIdL_TrackIdL_IsoVL_DZ',\n",
       " 'HLT_Mu17_TrkIsoVVL_Mu8_TrkIsoVVL_DZ_Mass3p8',\n",
       " 'HLT_Ele32_WPTight_Gsf',\n",
       " 'HLT_IsoMu24',\n",
       " 'Generator_weight',\n",
       " 'puWeight',\n",
       " 'LHEScaleWeight',\n",
       " 'LHEPdfWeight',\n",
       " 'PrefireWeight',\n",
       " 'Muon_ID_Weight',\n",
       " 'Electron_ID_Weight',\n",
       " 'Electron_RECO_Weight',\n",
       " 'ZZ_lepton1_genPartFlav',\n",
       " 'ZZ_lepton2_genPartFlav',\n",
       " 'ZZ_lepton3_genPartFlav',\n",
       " 'ZZ_lepton4_genPartFlav',\n",
       " 'WZG_lepton1_genPartFlav',\n",
       " 'WZG_lepton2_genPartFlav',\n",
       " 'WZG_lepton3_genPartFlav',\n",
       " 'ttG_lepton1_genPartFlav',\n",
       " 'ttG_lepton2_genPartFlav',\n",
       " 'ttG_lepton3_genPartFlav',\n",
       " 'ttZ_lepton1_genPartFlav',\n",
       " 'ttZ_lepton2_genPartFlav',\n",
       " 'ttZ_lepton3_genPartFlav',\n",
       " 'WZG_photon_genPartFlav',\n",
       " 'ttG_photon_genPartFlav',\n",
       " 'MET_T1Smear_pt',\n",
       " 'MET_T1Smear_phi',\n",
       " 'MET_T1Smear_pt_jerUp',\n",
       " 'MET_T1Smear_phi_jerUp',\n",
       " 'MET_T1Smear_pt_jesTotalUp',\n",
       " 'MET_T1Smear_phi_jesTotalUp',\n",
       " 'MET_T1Smear_pt_unclustEnUp',\n",
       " 'MET_T1Smear_phi_unclustEnUp',\n",
       " 'MET_T1Smear_pt_jerDown',\n",
       " 'MET_T1Smear_phi_jerDown',\n",
       " 'MET_T1Smear_pt_jesTotalDown',\n",
       " 'MET_T1Smear_phi_jesTotalDown',\n",
       " 'MET_T1Smear_pt_unclustEnDown',\n",
       " 'MET_T1Smear_phi_unclustEnDown',\n",
       " 'WZG_trileptonmass']"
      ]
     },
     "execution_count": 5,
     "metadata": {},
     "output_type": "execute_result"
    }
   ],
   "source": [
    "branches.fields"
   ]
  },
  {
   "cell_type": "code",
   "execution_count": 6,
   "id": "d6afd04d",
   "metadata": {},
   "outputs": [
    {
     "data": {
      "text/plain": [
       "(array([1986.,  570.,  126.,   44.,    8.,    4.,    6.,    2.,    2.,\n",
       "           2.]),\n",
       " array([ 101.07165527,  273.94265137,  446.81364746,  619.68464355,\n",
       "         792.55563965,  965.42663574, 1138.29763184, 1311.16862793,\n",
       "        1484.03962402, 1656.91062012, 1829.78161621]),\n",
       " <BarContainer object of 10 artists>)"
      ]
     },
     "execution_count": 6,
     "metadata": {},
     "output_type": "execute_result"
    },
    {
     "data": {
      "image/png": "[encoded data removed]",
      "text/plain": [
       "<Figure size 432x288 with 1 Axes>"
      ]
     },
     "metadata": {
      "needs_background": "light"
     },
     "output_type": "display_data"
    }
   ],
   "source": [
    "plt.hist(branches[hist_name])"
   ]
  },
  {
   "cell_type": "markdown",
   "id": "0d4d16c5",
   "metadata": {},
   "source": [
    "## 4. Apply channel and some cuts"
   ]
  },
  {
   "cell_type": "code",
   "execution_count": 7,
   "id": "3a854878",
   "metadata": {},
   "outputs": [
    {
     "name": "stdout",
     "output_type": "stream",
     "text": [
      "Before after trgger: 2750->2746\n",
      "After Channels, Regions and some gen-related cuts:  2052\n"
     ]
    }
   ],
   "source": [
    "\n",
    "\n",
    "HLT_SingleMuon = branches['HLT_IsoMu24'] == True\n",
    "HLT_DoubleMuon = branches['HLT_Mu17_TrkIsoVVL_Mu8_TrkIsoVVL_DZ_Mass3p8'] == True\n",
    "HLT_EGamma = branches['HLT_Ele32_WPTight_Gsf'] == True\n",
    "HLT_DoubleEG = branches['HLT_Ele23_Ele12_CaloIdL_TrackIdL_IsoVL'] == True\n",
    "HLT_MuonEG1 = branches['HLT_Mu8_TrkIsoVVL_Ele23_CaloIdL_TrackIdL_IsoVL_DZ'] == True\n",
    "HLT_MuonEG2 = branches['HLT_Mu23_TrkIsoVVL_Ele12_CaloIdL_TrackIdL_IsoVL'] == True\n",
    "\n",
    "MC_Trigger_mask = (HLT_SingleMuon | HLT_DoubleMuon |  HLT_EGamma | HLT_DoubleEG | HLT_MuonEG1 | HLT_MuonEG2)\n",
    "arrays = branches[MC_Trigger_mask]\n",
    "\n",
    "print(\"Before after trgger: {0}->{1}\".format(len(branches),len(arrays)))\n",
    "\n",
    "\n",
    "if channel == 0:\n",
    "    channel_cut = (arrays['channel_mark'] >= 1) & (arrays['channel_mark'] <= 4)\n",
    "elif channel == 10:\n",
    "    channel_cut = (arrays['channel_mark'] >= 11) & (arrays['channel_mark'] <= 14)\n",
    "elif channel == 9:\n",
    "    channel_cut = (arrays['channel_mark'] >= 5) & (arrays['channel_mark'] <= 8)\n",
    "else:\n",
    "    channel_cut = arrays['channel_mark'] == channel\n",
    "\n",
    "lep_gen_cut_WZG = (arrays['WZG_lepton1_genPartFlav'] > 0) & (arrays['WZG_lepton2_genPartFlav'] > 0) & (arrays['WZG_lepton3_genPartFlav'] > 0)\n",
    "lep_gen_cut_ttZ = (arrays['ttZ_lepton1_genPartFlav'] > 0) & (arrays['ttZ_lepton2_genPartFlav'] > 0) & (arrays['ttZ_lepton3_genPartFlav'] > 0)\n",
    "lep_gen_cut_ZZ = (arrays['ZZ_lepton1_genPartFlav'] > 0) & (arrays['ZZ_lepton2_genPartFlav'] > 0) & (arrays['ZZ_lepton3_genPartFlav'] > 0)\n",
    "\n",
    "gen_cut_map = {\n",
    "                0:lep_gen_cut_WZG,\n",
    "                1:lep_gen_cut_WZG,\n",
    "                2:lep_gen_cut_WZG,\n",
    "                3:lep_gen_cut_WZG,\n",
    "                4:lep_gen_cut_WZG,\n",
    "                10:lep_gen_cut_ttZ,\n",
    "                11:lep_gen_cut_ttZ,\n",
    "                12:lep_gen_cut_ttZ,\n",
    "                13:lep_gen_cut_ttZ,\n",
    "                14:lep_gen_cut_ttZ,\n",
    "                5:lep_gen_cut_ZZ,\n",
    "                6:lep_gen_cut_ZZ,\n",
    "                7:lep_gen_cut_ZZ,\n",
    "                8:lep_gen_cut_ZZ,\n",
    "                9:lep_gen_cut_ZZ,\n",
    "}\n",
    "lep_gen_cut = gen_cut_map[channel]\n",
    "\n",
    "\n",
    "if ((channel >= 10) and (channel <= 14)) or ((channel >= 0) and (channel <= 4)):\n",
    "    MET_cut = (arrays[f'MET_T1Smear_pt'] > 30)\n",
    "    arrays = arrays[channel_cut & MET_cut & lep_gen_cut]\n",
    "else:\n",
    "    arrays = arrays[channel_cut & lep_gen_cut]\n",
    "print(\"After Channels, Regions and some gen-related cuts: \",len(arrays))"
   ]
  },
  {
   "cell_type": "markdown",
   "id": "499dce38",
   "metadata": {},
   "source": [
    "# Ch1. Scale Weight Calculation\n",
    "\n",
    "\"LHESclaeWeight\" event content in NanoAOD is used.  \n",
    "The reference page of this content: https://github.com/singh-ramanpreet/VBS-customNanoAODProduction/blob/7893c48636f6eeb91fec189d4a1050e469a4da21/README.md"
   ]
  },
  {
   "cell_type": "code",
   "execution_count": 8,
   "id": "8a554b9c",
   "metadata": {},
   "outputs": [
    {
     "name": "stdout",
     "output_type": "stream",
     "text": [
      "1.11444091796875\n",
      "1.107666015625\n",
      "1.092529296875\n",
      "1.00616455078125\n",
      "1.0\n",
      "0.986358642578125\n",
      "0.917449951171875\n",
      "0.911834716796875\n",
      "0.8994140625\n"
     ]
    }
   ],
   "source": [
    "import awkward as ak\n",
    "for i in arrays['LHEScaleWeight'][0]:\n",
    "    print(i)"
   ]
  },
  {
   "cell_type": "code",
   "execution_count": 9,
   "id": "cc9dfe08",
   "metadata": {},
   "outputs": [
    {
     "data": {
      "text/plain": [
       "101.071655"
      ]
     },
     "execution_count": 9,
     "metadata": {},
     "output_type": "execute_result"
    }
   ],
   "source": [
    "ak.max(arrays[hist_name])\n",
    "ak.min(arrays[hist_name])"
   ]
  },
  {
   "cell_type": "code",
   "execution_count": 10,
   "id": "bb59a91e",
   "metadata": {},
   "outputs": [],
   "source": [
    "\t\t\tdef zero_one(x):\n",
    "\t\t\t\tif x == 0:\n",
    "\t\t\t\t\tx = 1\n",
    "\t\t\t\treturn x\n",
    "vec_zero_one = np.vectorize(zero_one)"
   ]
  },
  {
   "cell_type": "code",
   "execution_count": 11,
   "id": "1c8a4e10",
   "metadata": {},
   "outputs": [],
   "source": [
    "arrays['Muon_ID_Weight'] = vec_zero_one(arrays['Muon_ID_Weight'])\n",
    "arrays['Electron_ID_Weight'] = vec_zero_one(arrays['Electron_ID_Weight'])\n",
    "arrays['Electron_ID_Weight'] = vec_zero_one(arrays['Electron_ID_Weight'])"
   ]
  },
  {
   "cell_type": "code",
   "execution_count": 12,
   "id": "b8a92072",
   "metadata": {},
   "outputs": [],
   "source": [
    "if year==2018:\n",
    "    Total_SF_weight = arrays['Muon_ID_Weight'] * arrays['Electron_ID_Weight'] * arrays['Electron_ID_Weight'] * arrays['puWeight']\n",
    "else:\n",
    "    Total_SF_weight = arrays['Muon_ID_Weight'] * arrays['Electron_ID_Weight'] * arrays['Electron_ID_Weight'] * arrays['puWeight'] * arrays['PrefireWeight']"
   ]
  },
  {
   "cell_type": "code",
   "execution_count": 13,
   "id": "1012159a",
   "metadata": {},
   "outputs": [
    {
     "data": {
      "text/plain": [
       "<matplotlib.legend.Legend at 0x7fa692bc8100>"
      ]
     },
     "execution_count": 13,
     "metadata": {},
     "output_type": "execute_result"
    },
    {
     "data": {
      "image/png": "[encoded data removed]",
      "text/plain": [
       "<Figure size 576x576 with 1 Axes>"
      ]
     },
     "metadata": {
      "needs_background": "light"
     },
     "output_type": "display_data"
    }
   ],
   "source": [
    "LHEscaleIdx = [0,1,3,4,5,7,8]\n",
    "LHEScalemap = {0:\"mur 0.5 muf 0.5\",\n",
    "               1:\"mur 0.5 muf 1.0\",\n",
    "               3:\"mur 1.0 muf 0.5\",\n",
    "               4:\"Normal\",\n",
    "               5:\"mur 1.0 muf 2.0\",\n",
    "               7:\"mur 2.0 muf 1.0\",\n",
    "               8:\"mur 2.0 muf 2.0\",\n",
    "              }\n",
    "\n",
    "LHEScaleCmap ={\n",
    "                0:\"gold\",\n",
    "                1:\"darkorange\",\n",
    "                3:\"red\",\n",
    "                4:\"lime\",\n",
    "                5:\"blue\",\n",
    "                7:\"dodgerblue\",\n",
    "                8:\"c\"\n",
    "}\n",
    "\n",
    "plt.close()\n",
    "plt.figure(figsize=(8, 8))  # Figure size\n",
    "bins = np.linspace(100,800,6) # divide start-end range with 'bin' number\n",
    "binwidth = (800 - 100) / 6  # width of one bin\n",
    "\n",
    "\n",
    "hist_list=[]\n",
    "for idx in LHEscaleIdx:\n",
    "    arrays['Generator_weight_sgn'] = arrays['Generator_weight']  / abs(arrays['Generator_weight'])\n",
    "    arrays['true_weight'] = arrays['LHEScaleWeight'][:,idx] * Total_SF_weight * lumi * filelist_MC['WZG']['xsec'] * 1000 * arrays['Generator_weight_sgn'] / true_events\n",
    "\n",
    "    x=plt.hist(np.clip(ak.to_numpy(arrays[hist_name]),100,800), weights=arrays['true_weight'],bins=bins, histtype='step',color=LHEScaleCmap[idx],label=LHEScalemap[idx])  # label is needed to draw legend\n",
    "\n",
    "    hist_list.append(x)\n",
    "    #lt.hist(arrays['WZG_dileptonmass'],bins=bins,histtype='step',label=LHEScalemap[idx])  # label is needed to draw legend\n",
    "    \n",
    "\n",
    "plt.xticks(fontsize=16)  # xtick size\n",
    "plt.xlabel('$M_{ll}$', fontsize=16)  # X-label    \n",
    "plt.ylabel(\"Number of Events/(%d GeV)\" % binwidth, fontsize=16)\n",
    "plt.yticks(fontsize=16) \n",
    "    \n",
    "plt.grid(alpha=0.5)\n",
    "plt.legend(prop={\"size\": 12}) "
   ]
  },
  {
   "cell_type": "markdown",
   "id": "540facef",
   "metadata": {},
   "source": [
    "## Make delta( normal , upper or lower )"
   ]
  },
  {
   "cell_type": "code",
   "execution_count": 14,
   "id": "92bac409",
   "metadata": {},
   "outputs": [
    {
     "name": "stdout",
     "output_type": "stream",
     "text": [
      "[-0.59316901 -0.23526719 -0.03875778  0.00635698 -0.02566706]\n",
      "[-0.53818524 -0.1453854  -0.03959857 -0.00215129 -0.01258497]\n",
      "[-0.03866394 -0.0807076  -0.00016217  0.00738949 -0.0125637 ]\n",
      "[0. 0. 0. 0. 0.]\n",
      "[ 0.06770557  0.07568593 -0.00351866 -0.00839527  0.01086957]\n",
      "[0.44068231 0.12032834 0.03274901 0.00183961 0.01060094]\n",
      "[ 0.49471381  0.18943349  0.03044774 -0.0055358   0.02109958]\n"
     ]
    },
    {
     "data": {
      "text/html": [
       "<div>\n",
       "<style scoped>\n",
       "    .dataframe tbody tr th:only-of-type {\n",
       "        vertical-align: middle;\n",
       "    }\n",
       "\n",
       "    .dataframe tbody tr th {\n",
       "        vertical-align: top;\n",
       "    }\n",
       "\n",
       "    .dataframe thead th {\n",
       "        text-align: right;\n",
       "    }\n",
       "</style>\n",
       "<table border=\"1\" class=\"dataframe\">\n",
       "  <thead>\n",
       "    <tr style=\"text-align: right;\">\n",
       "      <th></th>\n",
       "      <th>0</th>\n",
       "      <th>1</th>\n",
       "      <th>2</th>\n",
       "      <th>3</th>\n",
       "      <th>4</th>\n",
       "    </tr>\n",
       "  </thead>\n",
       "  <tbody>\n",
       "    <tr>\n",
       "      <th>0</th>\n",
       "      <td>-0.593169</td>\n",
       "      <td>-0.235267</td>\n",
       "      <td>-0.038758</td>\n",
       "      <td>0.006357</td>\n",
       "      <td>-0.025667</td>\n",
       "    </tr>\n",
       "    <tr>\n",
       "      <th>1</th>\n",
       "      <td>-0.538185</td>\n",
       "      <td>-0.145385</td>\n",
       "      <td>-0.039599</td>\n",
       "      <td>-0.002151</td>\n",
       "      <td>-0.012585</td>\n",
       "    </tr>\n",
       "    <tr>\n",
       "      <th>2</th>\n",
       "      <td>-0.038664</td>\n",
       "      <td>-0.080708</td>\n",
       "      <td>-0.000162</td>\n",
       "      <td>0.007389</td>\n",
       "      <td>-0.012564</td>\n",
       "    </tr>\n",
       "    <tr>\n",
       "      <th>3</th>\n",
       "      <td>0.000000</td>\n",
       "      <td>0.000000</td>\n",
       "      <td>0.000000</td>\n",
       "      <td>0.000000</td>\n",
       "      <td>0.000000</td>\n",
       "    </tr>\n",
       "    <tr>\n",
       "      <th>4</th>\n",
       "      <td>0.067706</td>\n",
       "      <td>0.075686</td>\n",
       "      <td>-0.003519</td>\n",
       "      <td>-0.008395</td>\n",
       "      <td>0.010870</td>\n",
       "    </tr>\n",
       "    <tr>\n",
       "      <th>5</th>\n",
       "      <td>0.440682</td>\n",
       "      <td>0.120328</td>\n",
       "      <td>0.032749</td>\n",
       "      <td>0.001840</td>\n",
       "      <td>0.010601</td>\n",
       "    </tr>\n",
       "    <tr>\n",
       "      <th>6</th>\n",
       "      <td>0.494714</td>\n",
       "      <td>0.189433</td>\n",
       "      <td>0.030448</td>\n",
       "      <td>-0.005536</td>\n",
       "      <td>0.021100</td>\n",
       "    </tr>\n",
       "  </tbody>\n",
       "</table>\n",
       "</div>"
      ],
      "text/plain": [
       "          0         1         2         3         4\n",
       "0 -0.593169 -0.235267 -0.038758  0.006357 -0.025667\n",
       "1 -0.538185 -0.145385 -0.039599 -0.002151 -0.012585\n",
       "2 -0.038664 -0.080708 -0.000162  0.007389 -0.012564\n",
       "3  0.000000  0.000000  0.000000  0.000000  0.000000\n",
       "4  0.067706  0.075686 -0.003519 -0.008395  0.010870\n",
       "5  0.440682  0.120328  0.032749  0.001840  0.010601\n",
       "6  0.494714  0.189433  0.030448 -0.005536  0.021100"
      ]
     },
     "execution_count": 14,
     "metadata": {},
     "output_type": "execute_result"
    }
   ],
   "source": [
    "rows=[]\n",
    "columns=[0,1,2,3,4]\n",
    "for w in hist_list:\n",
    "    print(hist_list[3][0] - w[0])\n",
    "    rows.append(hist_list[3][0] - w[0])\n",
    "error_df = pd.DataFrame(rows,columns=columns)\n",
    "error_df"
   ]
  },
  {
   "cell_type": "code",
   "execution_count": 15,
   "id": "6b9e34bc",
   "metadata": {},
   "outputs": [
    {
     "data": {
      "text/plain": [
       "0    0.593169\n",
       "1    0.235267\n",
       "2    0.039599\n",
       "3    0.007389\n",
       "4    0.025667\n",
       "dtype: float64"
      ]
     },
     "execution_count": 15,
     "metadata": {},
     "output_type": "execute_result"
    }
   ],
   "source": [
    "## upper\n",
    "error_df.loc[0:2].abs().max()"
   ]
  },
  {
   "cell_type": "code",
   "execution_count": 16,
   "id": "f11fadf5",
   "metadata": {},
   "outputs": [
    {
     "data": {
      "text/plain": [
       "0    0.075478\n",
       "1    0.085285\n",
       "2    0.041886\n",
       "3    0.049641\n",
       "4    0.107550\n",
       "dtype: float64"
      ]
     },
     "execution_count": 16,
     "metadata": {},
     "output_type": "execute_result"
    }
   ],
   "source": [
    "## Upper uncertainty\n",
    "error_df.loc[0:2].abs().max() / hist_list[3][0]"
   ]
  },
  {
   "cell_type": "code",
   "execution_count": 17,
   "id": "97793511",
   "metadata": {},
   "outputs": [
    {
     "data": {
      "text/plain": [
       "0    0.494714\n",
       "1    0.189433\n",
       "2    0.032749\n",
       "3    0.008395\n",
       "4    0.021100\n",
       "dtype: float64"
      ]
     },
     "execution_count": 17,
     "metadata": {},
     "output_type": "execute_result"
    }
   ],
   "source": [
    "## lower\n",
    "error_df.loc[4:7].abs().max()"
   ]
  },
  {
   "cell_type": "code",
   "execution_count": 18,
   "id": "701d7356",
   "metadata": {},
   "outputs": [
    {
     "data": {
      "text/plain": [
       "0    0.062950\n",
       "1    0.068670\n",
       "2    0.034641\n",
       "3    0.056397\n",
       "4    0.088411\n",
       "dtype: float64"
      ]
     },
     "execution_count": 18,
     "metadata": {},
     "output_type": "execute_result"
    }
   ],
   "source": [
    "# Lowe uncertainty\n",
    "error_df.loc[4:7].abs().max() / hist_list[3][0]"
   ]
  },
  {
   "cell_type": "code",
   "execution_count": 19,
   "id": "99e695cd",
   "metadata": {},
   "outputs": [
    {
     "data": {
      "text/html": [
       "<div>\n",
       "<style scoped>\n",
       "    .dataframe tbody tr th:only-of-type {\n",
       "        vertical-align: middle;\n",
       "    }\n",
       "\n",
       "    .dataframe tbody tr th {\n",
       "        vertical-align: top;\n",
       "    }\n",
       "\n",
       "    .dataframe thead th {\n",
       "        text-align: right;\n",
       "    }\n",
       "</style>\n",
       "<table border=\"1\" class=\"dataframe\">\n",
       "  <thead>\n",
       "    <tr style=\"text-align: right;\">\n",
       "      <th></th>\n",
       "      <th>ScaleUp</th>\n",
       "      <th>ScaleDown</th>\n",
       "    </tr>\n",
       "  </thead>\n",
       "  <tbody>\n",
       "    <tr>\n",
       "      <th>0</th>\n",
       "      <td>0.075478</td>\n",
       "      <td>0.062950</td>\n",
       "    </tr>\n",
       "    <tr>\n",
       "      <th>1</th>\n",
       "      <td>0.085285</td>\n",
       "      <td>0.068670</td>\n",
       "    </tr>\n",
       "    <tr>\n",
       "      <th>2</th>\n",
       "      <td>0.041886</td>\n",
       "      <td>0.034641</td>\n",
       "    </tr>\n",
       "    <tr>\n",
       "      <th>3</th>\n",
       "      <td>0.049641</td>\n",
       "      <td>0.056397</td>\n",
       "    </tr>\n",
       "    <tr>\n",
       "      <th>4</th>\n",
       "      <td>0.107550</td>\n",
       "      <td>0.088411</td>\n",
       "    </tr>\n",
       "  </tbody>\n",
       "</table>\n",
       "</div>"
      ],
      "text/plain": [
       "    ScaleUp  ScaleDown\n",
       "0  0.075478   0.062950\n",
       "1  0.085285   0.068670\n",
       "2  0.041886   0.034641\n",
       "3  0.049641   0.056397\n",
       "4  0.107550   0.088411"
      ]
     },
     "execution_count": 19,
     "metadata": {},
     "output_type": "execute_result"
    }
   ],
   "source": [
    "Unc_df = pd.DataFrame({'ScaleUp':error_df.loc[0:2].abs().max() / hist_list[3][0], 'ScaleDown':error_df.loc[4:7].abs().max() / hist_list[3][0]})\n",
    "Unc_df"
   ]
  },
  {
   "cell_type": "markdown",
   "id": "4341ac6b",
   "metadata": {},
   "source": [
    "## Draw Uncertainty plot"
   ]
  },
  {
   "cell_type": "code",
   "execution_count": 20,
   "id": "54a45c32",
   "metadata": {},
   "outputs": [
    {
     "name": "stdout",
     "output_type": "stream",
     "text": [
      "[170.0, 310.0, 450.0, 590.0, 730.0]\n"
     ]
    }
   ],
   "source": [
    "# Make middle point of histogram to build error plot\n",
    "middle_point_bin=[]\n",
    "for i in range(len(hist_list[0][1])-1):\n",
    "    middle_point_bin.append((hist_list[0][1][i+1] +  hist_list[0][1][i])/2)\n",
    "print(middle_point_bin)"
   ]
  },
  {
   "cell_type": "code",
   "execution_count": 21,
   "id": "2bb034c6",
   "metadata": {},
   "outputs": [
    {
     "data": {
      "text/plain": [
       "[]"
      ]
     },
     "execution_count": 21,
     "metadata": {},
     "output_type": "execute_result"
    },
    {
     "data": {
      "image/png": "[encoded data removed]",
      "text/plain": [
       "<Figure size 576x576 with 2 Axes>"
      ]
     },
     "metadata": {
      "needs_background": "light"
     },
     "output_type": "display_data"
    }
   ],
   "source": [
    "from matplotlib import gridspec\n",
    "arrays['Generator_weight_sgn'] = arrays['Generator_weight']  / abs(arrays['Generator_weight'])\n",
    "arrays['true_weight'] = arrays['LHEScaleWeight'][:,4] * Total_SF_weight * lumi * filelist_MC['WZG']['xsec'] * 1000 * arrays['Generator_weight_sgn'] / true_events\n",
    "plt.figure(figsize=(8, 8))\n",
    "gs = gridspec.GridSpec(2, 1, height_ratios=[2, 1]) \n",
    "ax0 = plt.subplot(gs[0])\n",
    "\n",
    "\n",
    "\n",
    "\n",
    "bins = np.linspace(100, 800, 6)  # divide start-end range with 'bin' number\n",
    "binwidth = (800 - 100) / 6  # width of one bin\n",
    "\n",
    "ax0.hist(np.clip(ak.to_numpy(arrays[hist_name]),100,800),weights=arrays['true_weight'],bins=bins, histtype='step',label=LHEScalemap[4])\n",
    "ax0.errorbar(middle_point_bin,hist_list[3][0],[error_df.loc[4:7].abs().max(),error_df.loc[0:2].abs().max()],fmt='o',linestyle='',capsize=2,label='error')\n",
    " \n",
    "\n",
    "    \n",
    "ax0.grid(alpha=0.5)\n",
    "ax0.legend(prop={\"size\": 15}) \n",
    "\n",
    "ax1 = plt.subplot(gs[1], sharex = ax0)\n",
    "ax1.errorbar(middle_point_bin,hist_list[3][0]/hist_list[3][0],[error_df.loc[4:7].abs().max()/hist_list[3][0],error_df.loc[0:2].abs().max()/hist_list[3][0]],fmt='o-',capsize=2,label='error')\n",
    "ax1.grid(alpha=0.5)\n",
    "plt.xlabel('$M_{ll}$')\n",
    "plt.setp(ax0.get_xticklabels(), visible=False)\n",
    "plt.subplots_adjust(hspace=.0)\n",
    "plt.plot()"
   ]
  },
  {
   "cell_type": "markdown",
   "id": "fdd2a134",
   "metadata": {},
   "source": [
    "# Ch2. Pdf Weight calculation"
   ]
  },
  {
   "cell_type": "code",
   "execution_count": 22,
   "id": "79c558b1",
   "metadata": {},
   "outputs": [
    {
     "data": {
      "text/plain": [
       "<Array [1, 1, 1, 1, 1, 1, ... 1, 1, 1, 1, 1, 1] type='2052 * float32'>"
      ]
     },
     "execution_count": 22,
     "metadata": {},
     "output_type": "execute_result"
    }
   ],
   "source": [
    "arrays['LHEPdfWeight'][:,0]"
   ]
  },
  {
   "cell_type": "code",
   "execution_count": 23,
   "id": "234f8a6c",
   "metadata": {},
   "outputs": [
    {
     "data": {
      "image/png": "[encoded data removed]",
      "text/plain": [
       "<Figure size 576x576 with 1 Axes>"
      ]
     },
     "metadata": {
      "needs_background": "light"
     },
     "output_type": "display_data"
    }
   ],
   "source": [
    "plt.close()\n",
    "plt.figure(figsize=(8, 8))  # Figure size\n",
    "bins = np.linspace(100, 800, 6)  # divide start-end range with 'bin' number\n",
    "binwidth = (100 - 800) / 6  # width of one bin\n",
    "\n",
    "\n",
    "hist_list=[]\n",
    "for idx in range(0,101):\n",
    "    arrays['Generator_weight_sgn'] = arrays['Generator_weight']  / abs(arrays['Generator_weight'])\n",
    "    arrays['true_weight'] = arrays['LHEPdfWeight'][:,idx] * Total_SF_weight* lumi * filelist_MC['WZG']['xsec'] * 1000 * arrays['Generator_weight_sgn'] / true_events\n",
    "    \n",
    "    x=plt.hist(np.clip(ak.to_numpy(arrays[hist_name]),100,800), weights=arrays['true_weight'],bins=bins, histtype='step')  # label is needed to draw legend\n",
    "    hist_list.append(x)\n",
    "    #lt.hist(arrays['WZG_dileptonmass'],bins=bins,histtype='step',label=LHEScalemap[idx])  # label is needed to draw legend\n",
    "    \n",
    "\n",
    "plt.xticks(fontsize=16)  # xtick size\n",
    "plt.xlabel('$M_{ll}$', fontsize=16)  # X-label    \n",
    "plt.ylabel(\"Number of Events/(%d GeV)\" % binwidth, fontsize=16)\n",
    "plt.yticks(fontsize=16) \n",
    "    \n",
    "plt.grid(alpha=0.5)"
   ]
  },
  {
   "cell_type": "code",
   "execution_count": 24,
   "id": "d001a719",
   "metadata": {},
   "outputs": [
    {
     "data": {
      "text/plain": [
       "101"
      ]
     },
     "execution_count": 24,
     "metadata": {},
     "output_type": "execute_result"
    }
   ],
   "source": [
    "len(hist_list)"
   ]
  },
  {
   "cell_type": "code",
   "execution_count": 25,
   "id": "ae12fea6",
   "metadata": {},
   "outputs": [
    {
     "data": {
      "text/plain": [
       "array([7.8588589 , 2.75858619, 0.94538478, 0.14885979, 0.23865314])"
      ]
     },
     "execution_count": 25,
     "metadata": {},
     "output_type": "execute_result"
    }
   ],
   "source": [
    "hist_list[0][0]"
   ]
  },
  {
   "cell_type": "code",
   "execution_count": 26,
   "id": "60c182bf",
   "metadata": {},
   "outputs": [
    {
     "data": {
      "text/html": [
       "<div>\n",
       "<style scoped>\n",
       "    .dataframe tbody tr th:only-of-type {\n",
       "        vertical-align: middle;\n",
       "    }\n",
       "\n",
       "    .dataframe tbody tr th {\n",
       "        vertical-align: top;\n",
       "    }\n",
       "\n",
       "    .dataframe thead th {\n",
       "        text-align: right;\n",
       "    }\n",
       "</style>\n",
       "<table border=\"1\" class=\"dataframe\">\n",
       "  <thead>\n",
       "    <tr style=\"text-align: right;\">\n",
       "      <th></th>\n",
       "      <th>0</th>\n",
       "      <th>1</th>\n",
       "      <th>2</th>\n",
       "      <th>3</th>\n",
       "      <th>4</th>\n",
       "    </tr>\n",
       "  </thead>\n",
       "  <tbody>\n",
       "    <tr>\n",
       "      <th>0</th>\n",
       "      <td>0.000000</td>\n",
       "      <td>0.000000</td>\n",
       "      <td>0.000000</td>\n",
       "      <td>0.000000e+00</td>\n",
       "      <td>0.000000e+00</td>\n",
       "    </tr>\n",
       "    <tr>\n",
       "      <th>1</th>\n",
       "      <td>-0.004564</td>\n",
       "      <td>0.001540</td>\n",
       "      <td>0.000395</td>\n",
       "      <td>-1.326462e-04</td>\n",
       "      <td>-1.766637e-04</td>\n",
       "    </tr>\n",
       "    <tr>\n",
       "      <th>2</th>\n",
       "      <td>0.005086</td>\n",
       "      <td>0.001901</td>\n",
       "      <td>0.000659</td>\n",
       "      <td>2.551753e-04</td>\n",
       "      <td>-8.450131e-05</td>\n",
       "    </tr>\n",
       "    <tr>\n",
       "      <th>3</th>\n",
       "      <td>0.003920</td>\n",
       "      <td>0.002661</td>\n",
       "      <td>-0.000851</td>\n",
       "      <td>-2.047142e-04</td>\n",
       "      <td>-1.597883e-03</td>\n",
       "    </tr>\n",
       "    <tr>\n",
       "      <th>4</th>\n",
       "      <td>-0.006538</td>\n",
       "      <td>-0.001637</td>\n",
       "      <td>-0.001211</td>\n",
       "      <td>-1.546512e-04</td>\n",
       "      <td>-2.476201e-03</td>\n",
       "    </tr>\n",
       "    <tr>\n",
       "      <th>...</th>\n",
       "      <td>...</td>\n",
       "      <td>...</td>\n",
       "      <td>...</td>\n",
       "      <td>...</td>\n",
       "      <td>...</td>\n",
       "    </tr>\n",
       "    <tr>\n",
       "      <th>96</th>\n",
       "      <td>0.001074</td>\n",
       "      <td>0.001006</td>\n",
       "      <td>0.000407</td>\n",
       "      <td>8.293020e-06</td>\n",
       "      <td>1.555162e-04</td>\n",
       "    </tr>\n",
       "    <tr>\n",
       "      <th>97</th>\n",
       "      <td>0.000137</td>\n",
       "      <td>0.000134</td>\n",
       "      <td>-0.000084</td>\n",
       "      <td>1.380805e-05</td>\n",
       "      <td>1.226156e-04</td>\n",
       "    </tr>\n",
       "    <tr>\n",
       "      <th>98</th>\n",
       "      <td>-0.001016</td>\n",
       "      <td>-0.001029</td>\n",
       "      <td>-0.000113</td>\n",
       "      <td>-8.127003e-05</td>\n",
       "      <td>-6.852487e-04</td>\n",
       "    </tr>\n",
       "    <tr>\n",
       "      <th>99</th>\n",
       "      <td>-0.000392</td>\n",
       "      <td>-0.000961</td>\n",
       "      <td>-0.000531</td>\n",
       "      <td>-5.769377e-05</td>\n",
       "      <td>-5.912341e-04</td>\n",
       "    </tr>\n",
       "    <tr>\n",
       "      <th>100</th>\n",
       "      <td>0.000040</td>\n",
       "      <td>0.000012</td>\n",
       "      <td>0.000004</td>\n",
       "      <td>2.209272e-07</td>\n",
       "      <td>1.895241e-07</td>\n",
       "    </tr>\n",
       "  </tbody>\n",
       "</table>\n",
       "<p>101 rows × 5 columns</p>\n",
       "</div>"
      ],
      "text/plain": [
       "            0         1         2             3             4\n",
       "0    0.000000  0.000000  0.000000  0.000000e+00  0.000000e+00\n",
       "1   -0.004564  0.001540  0.000395 -1.326462e-04 -1.766637e-04\n",
       "2    0.005086  0.001901  0.000659  2.551753e-04 -8.450131e-05\n",
       "3    0.003920  0.002661 -0.000851 -2.047142e-04 -1.597883e-03\n",
       "4   -0.006538 -0.001637 -0.001211 -1.546512e-04 -2.476201e-03\n",
       "..        ...       ...       ...           ...           ...\n",
       "96   0.001074  0.001006  0.000407  8.293020e-06  1.555162e-04\n",
       "97   0.000137  0.000134 -0.000084  1.380805e-05  1.226156e-04\n",
       "98  -0.001016 -0.001029 -0.000113 -8.127003e-05 -6.852487e-04\n",
       "99  -0.000392 -0.000961 -0.000531 -5.769377e-05 -5.912341e-04\n",
       "100  0.000040  0.000012  0.000004  2.209272e-07  1.895241e-07\n",
       "\n",
       "[101 rows x 5 columns]"
      ]
     },
     "execution_count": 26,
     "metadata": {},
     "output_type": "execute_result"
    }
   ],
   "source": [
    "rows=[]\n",
    "columns=[0,1,2,3,4]\n",
    "for w in hist_list:\n",
    "    rows.append(hist_list[0][0] - w[0])\n",
    "error_df = pd.DataFrame(rows,columns=columns)\n",
    "error_df"
   ]
  },
  {
   "cell_type": "code",
   "execution_count": 27,
   "id": "3fd8e4f0",
   "metadata": {},
   "outputs": [
    {
     "data": {
      "text/plain": [
       "0   -0.021572\n",
       "1   -0.016117\n",
       "2   -0.008408\n",
       "3   -0.001317\n",
       "4   -0.007780\n",
       "dtype: float64"
      ]
     },
     "execution_count": 27,
     "metadata": {},
     "output_type": "execute_result"
    }
   ],
   "source": [
    "error_df.min()"
   ]
  },
  {
   "cell_type": "code",
   "execution_count": 28,
   "id": "9c9d9f64",
   "metadata": {},
   "outputs": [
    {
     "data": {
      "text/plain": [
       "0   -0.002745\n",
       "1   -0.005842\n",
       "2   -0.008894\n",
       "3   -0.008845\n",
       "4   -0.032598\n",
       "dtype: float64"
      ]
     },
     "execution_count": 28,
     "metadata": {},
     "output_type": "execute_result"
    }
   ],
   "source": [
    "# lower unc\n",
    "error_df.min()/hist_list[0][0]"
   ]
  },
  {
   "cell_type": "code",
   "execution_count": 29,
   "id": "34bb0aed",
   "metadata": {},
   "outputs": [
    {
     "data": {
      "text/plain": [
       "0    0.012770\n",
       "1    0.011830\n",
       "2    0.005440\n",
       "3    0.000789\n",
       "4    0.003023\n",
       "dtype: float64"
      ]
     },
     "execution_count": 29,
     "metadata": {},
     "output_type": "execute_result"
    }
   ],
   "source": [
    "error_df.max()"
   ]
  },
  {
   "cell_type": "code",
   "execution_count": 30,
   "id": "3da91fa6",
   "metadata": {},
   "outputs": [
    {
     "data": {
      "text/plain": [
       "0    0.001625\n",
       "1    0.004288\n",
       "2    0.005754\n",
       "3    0.005301\n",
       "4    0.012667\n",
       "dtype: float64"
      ]
     },
     "execution_count": 30,
     "metadata": {},
     "output_type": "execute_result"
    }
   ],
   "source": [
    "#upper unc\n",
    "error_df.max()/hist_list[0][0]"
   ]
  },
  {
   "cell_type": "code",
   "execution_count": 31,
   "id": "e40c71c2",
   "metadata": {},
   "outputs": [],
   "source": [
    "Unc_df['PDFUp'] = error_df.max()/hist_list[0][0]\n",
    "Unc_df['PDFDown'] =  error_df.min()/hist_list[0][0]"
   ]
  },
  {
   "cell_type": "code",
   "execution_count": 32,
   "id": "6a3c4e4f",
   "metadata": {},
   "outputs": [
    {
     "name": "stdout",
     "output_type": "stream",
     "text": [
      "[170.0, 310.0, 450.0, 590.0, 730.0]\n"
     ]
    }
   ],
   "source": [
    "# Make middle point of histogram to build error plot\n",
    "middle_point_bin=[]\n",
    "for i in range(len(hist_list[0][1])-1):\n",
    "    middle_point_bin.append((hist_list[0][1][i+1] +  hist_list[0][1][i])/2)\n",
    "print(middle_point_bin)"
   ]
  },
  {
   "cell_type": "code",
   "execution_count": 33,
   "id": "f6a24ec7",
   "metadata": {},
   "outputs": [
    {
     "data": {
      "text/plain": [
       "[]"
      ]
     },
     "execution_count": 33,
     "metadata": {},
     "output_type": "execute_result"
    },
    {
     "data": {
      "image/png": "[encoded data removed]",
      "text/plain": [
       "<Figure size 576x576 with 2 Axes>"
      ]
     },
     "metadata": {
      "needs_background": "light"
     },
     "output_type": "display_data"
    }
   ],
   "source": [
    "from matplotlib import gridspec\n",
    "arrays['Generator_weight_sgn'] = arrays['Generator_weight']  / abs(arrays['Generator_weight'])\n",
    "arrays['true_weight'] = arrays['LHEPdfWeight'][:,0] * Total_SF_weight * lumi * filelist_MC['WZG']['xsec'] * 1000 * arrays['Generator_weight_sgn'] / true_events\n",
    "plt.figure(figsize=(8, 8))\n",
    "gs = gridspec.GridSpec(2, 1, height_ratios=[2, 1]) \n",
    "ax0 = plt.subplot(gs[0])\n",
    "\n",
    "\n",
    "\n",
    "\n",
    "bins = np.linspace(100, 800, 6)  # divide start-end range with 'bin' number\n",
    "binwidth = (100 - 800) / 6  # width of one bin\n",
    "\n",
    "ax0.hist(np.clip(ak.to_numpy(arrays[hist_name]),100,800),weights=arrays['true_weight'],bins=bins, histtype='step',label='Normal')\n",
    "ax0.errorbar(middle_point_bin,hist_list[0][0],[abs(error_df.min()),error_df.max()],fmt='o',linestyle='',capsize=2,label='error')\n",
    " \n",
    "\n",
    "    \n",
    "ax0.grid(alpha=0.5)\n",
    "ax0.legend(prop={\"size\": 15}) \n",
    "\n",
    "ax1 = plt.subplot(gs[1], sharex = ax0)\n",
    "ax1.errorbar(middle_point_bin,hist_list[0][0]/hist_list[0][0],[abs(error_df.min())/hist_list[0][0],error_df.max()/hist_list[0][0]],fmt='o-',capsize=2,label='error')\n",
    "ax1.grid(alpha=0.5)\n",
    "plt.xlabel('$M_{ll}$')\n",
    "plt.setp(ax0.get_xticklabels(), visible=False)\n",
    "plt.subplots_adjust(hspace=.0)\n",
    "plt.plot()"
   ]
  },
  {
   "cell_type": "code",
   "execution_count": 34,
   "id": "435cfe00",
   "metadata": {},
   "outputs": [
    {
     "data": {
      "text/html": [
       "<div>\n",
       "<style scoped>\n",
       "    .dataframe tbody tr th:only-of-type {\n",
       "        vertical-align: middle;\n",
       "    }\n",
       "\n",
       "    .dataframe tbody tr th {\n",
       "        vertical-align: top;\n",
       "    }\n",
       "\n",
       "    .dataframe thead th {\n",
       "        text-align: right;\n",
       "    }\n",
       "</style>\n",
       "<table border=\"1\" class=\"dataframe\">\n",
       "  <thead>\n",
       "    <tr style=\"text-align: right;\">\n",
       "      <th></th>\n",
       "      <th>ScaleUp</th>\n",
       "      <th>ScaleDown</th>\n",
       "      <th>PDFUp</th>\n",
       "      <th>PDFDown</th>\n",
       "    </tr>\n",
       "  </thead>\n",
       "  <tbody>\n",
       "    <tr>\n",
       "      <th>0</th>\n",
       "      <td>0.075478</td>\n",
       "      <td>0.062950</td>\n",
       "      <td>0.001625</td>\n",
       "      <td>-0.002745</td>\n",
       "    </tr>\n",
       "    <tr>\n",
       "      <th>1</th>\n",
       "      <td>0.085285</td>\n",
       "      <td>0.068670</td>\n",
       "      <td>0.004288</td>\n",
       "      <td>-0.005842</td>\n",
       "    </tr>\n",
       "    <tr>\n",
       "      <th>2</th>\n",
       "      <td>0.041886</td>\n",
       "      <td>0.034641</td>\n",
       "      <td>0.005754</td>\n",
       "      <td>-0.008894</td>\n",
       "    </tr>\n",
       "    <tr>\n",
       "      <th>3</th>\n",
       "      <td>0.049641</td>\n",
       "      <td>0.056397</td>\n",
       "      <td>0.005301</td>\n",
       "      <td>-0.008845</td>\n",
       "    </tr>\n",
       "    <tr>\n",
       "      <th>4</th>\n",
       "      <td>0.107550</td>\n",
       "      <td>0.088411</td>\n",
       "      <td>0.012667</td>\n",
       "      <td>-0.032598</td>\n",
       "    </tr>\n",
       "  </tbody>\n",
       "</table>\n",
       "</div>"
      ],
      "text/plain": [
       "    ScaleUp  ScaleDown     PDFUp   PDFDown\n",
       "0  0.075478   0.062950  0.001625 -0.002745\n",
       "1  0.085285   0.068670  0.004288 -0.005842\n",
       "2  0.041886   0.034641  0.005754 -0.008894\n",
       "3  0.049641   0.056397  0.005301 -0.008845\n",
       "4  0.107550   0.088411  0.012667 -0.032598"
      ]
     },
     "execution_count": 34,
     "metadata": {},
     "output_type": "execute_result"
    }
   ],
   "source": [
    "Unc_df"
   ]
  }
 ],
 "metadata": {
  "kernelspec": {
   "display_name": "Python 3",
   "language": "python",
   "name": "python3"
  },
  "language_info": {
   "codemirror_mode": {
    "name": "ipython",
    "version": 3
   },
   "file_extension": ".py",
   "mimetype": "text/x-python",
   "name": "python",
   "nbconvert_exporter": "python",
   "pygments_lexer": "ipython3",
   "version": "3.9.6"
  }
 },
 "nbformat": 4,
 "nbformat_minor": 5
}
