{
 "cells": [
  {
   "cell_type": "code",
   "execution_count": 1,
   "id": "b855777e",
   "metadata": {},
   "outputs": [
    {
     "name": "stderr",
     "output_type": "stream",
     "text": [
      "/cvmfs/sft.cern.ch/lcg/views/LCG_101swan/x86_64-centos7-gcc8-opt/lib/python3.9/site-packages/uproot3/__init__.py:127: FutureWarning: Consider switching from 'uproot3' to 'uproot', since the new interface became the default in 2020.\n",
      "\n",
      "    pip install -U uproot\n",
      "\n",
      "In Python:\n",
      "\n",
      "    >>> import uproot\n",
      "    >>> with uproot.open(...) as file:\n",
      "    ...\n",
      "\n",
      "  warnings.warn(\n",
      "/cvmfs/sft.cern.ch/lcg/views/LCG_101swan/x86_64-centos7-gcc8-opt/lib/python3.9/site-packages/awkward0/__init__.py:12: FutureWarning: Consider switching from 'awkward0' to 'awkward', since the new interface became the default in 2020.\n",
      "\n",
      "    pip install -U awkward\n",
      "\n",
      "In Python:\n",
      "\n",
      "    >>> import awkward as ak\n",
      "    >>> new_style_array = ak.from_awkward0(old_style_array)\n",
      "    >>> old_style_array = ak.to_awkward0(new_style_array)\n",
      "\n",
      "  warnings.warn(\n"
     ]
    },
    {
     "name": "stdout",
     "output_type": "stream",
     "text": [
      "Welcome to JupyROOT 6.24/06\n"
     ]
    }
   ],
   "source": [
    "import matplotlib\n",
    "import uproot, uproot3\n",
    "import numpy\n",
    "import awkward\n",
    "import numba\n",
    "import numpy as np\n",
    "import matplotlib.pyplot as plt\n",
    "import mplhep as hep\n",
    "import pandas as pd\n",
    "from tqdm import trange\n",
    "import ROOT\n",
    "import os,sys\n",
    "from array import array\n",
    "import pickle\n",
    "\n",
    "from Lumi import *\n",
    "from Ratio_Plot import *\n",
    "from TDR_Style import *"
   ]
  },
  {
   "cell_type": "code",
   "execution_count": 5,
   "id": "fa7fb7a8",
   "metadata": {},
   "outputs": [],
   "source": [
    "def AddHist_data(file, hist,isbarrel,isData=True, xsec=1, lumi=1):\n",
    "    \n",
    "    \n",
    "    # --read branches special case for MuonEG 2016H\n",
    "    if 'MuonEG_Run2016H' in file:\n",
    "        init_branches = [\n",
    "                    'channel_mark'\n",
    "                    ,'HLT_Ele27_WPTight_Gsf'\n",
    "                    ,'HLT_IsoTkMu24'\n",
    "                    ,'HLT_IsoMu24'\n",
    "                    ,'HLT_Mu17_TrkIsoVVL_Mu8_TrkIsoVVL'\n",
    "                    ,'HLT_Mu17_TrkIsoVVL_TkMu8_TrkIsoVVL'\n",
    "                    ,'HLT_Mu17_TrkIsoVVL_Mu8_TrkIsoVVL_DZ'\n",
    "                    ,'HLT_Mu17_TrkIsoVVL_TkMu8_TrkIsoVVL_DZ'\n",
    "                    ,'HLT_Mu8_TrkIsoVVL_Ele23_CaloIdL_TrackIdL_IsoVL'\n",
    "                    ,'HLT_Mu23_TrkIsoVVL_Ele8_CaloIdL_TrackIdL_IsoVL'\n",
    "                    ,'HLT_Mu8_TrkIsoVVL_Ele23_CaloIdL_TrackIdL_IsoVL_DZ'\n",
    "                    ,'HLT_Mu23_TrkIsoVVL_Ele8_CaloIdL_TrackIdL_IsoVL_DZ'\n",
    "                    ,'HLT_Ele23_Ele12_CaloIdL_TrackIdL_IsoVL_DZ'\n",
    "                    ,'photon_sieie'\n",
    "                    ,'photon_vidNestedWPBitmap'\n",
    "                    ,'photon_eta'\n",
    "                    ,'photon_pt'\n",
    "                    ,'photon_pfRelIso03_chg'\n",
    "                    ,'MET'\n",
    "                    ,\"z_lepton1_pt\"\n",
    "                    ,\"z_lepton2_pt\"\n",
    "                    ,\"dilepton_mass\"\n",
    "                    ,\"nJets\"\n",
    "        ]\n",
    "        \n",
    "    # --read branches \n",
    "    else:\n",
    "        init_branches =[\n",
    "                    'channel_mark'\n",
    "                    ,'HLT_Ele27_WPTight_Gsf'\n",
    "                    ,'HLT_IsoTkMu24'\n",
    "                    ,'HLT_IsoMu24'\n",
    "                    ,'HLT_Mu17_TrkIsoVVL_Mu8_TrkIsoVVL'\n",
    "                    ,'HLT_Mu17_TrkIsoVVL_TkMu8_TrkIsoVVL'\n",
    "                    ,'HLT_Mu17_TrkIsoVVL_Mu8_TrkIsoVVL_DZ'\n",
    "                    ,'HLT_Mu17_TrkIsoVVL_TkMu8_TrkIsoVVL_DZ'\n",
    "                    ,'HLT_Mu8_TrkIsoVVL_Ele23_CaloIdL_TrackIdL_IsoVL'\n",
    "                    ,'HLT_Mu23_TrkIsoVVL_Ele8_CaloIdL_TrackIdL_IsoVL'\n",
    "                    ,'HLT_Ele23_Ele12_CaloIdL_TrackIdL_IsoVL_DZ'\n",
    "                    ,'photon_sieie'\n",
    "                    ,'photon_vidNestedWPBitmap'\n",
    "                    ,'photon_eta'\n",
    "                    ,'photon_pt'\n",
    "                    ,'photon_pfRelIso03_chg'\n",
    "                    ,'MET'\n",
    "                    ,\"z_lepton1_pt\"\n",
    "                    ,\"z_lepton2_pt\"\n",
    "                    ,\"dilepton_mass\"\n",
    "                    ,\"nJets\"\n",
    "        ]  \n",
    "    \n",
    "    # --Complete branches (data) \n",
    "    if isData:\n",
    "        print('is Data')\n",
    " \n",
    "                \n",
    "    # --Complete branches (MC)\n",
    "    else:\n",
    "        print('is MC')\n",
    "        add_branches = ['Generator_weight','puWeight','PrefireWeight']\n",
    "        met_branches = uproot.open(file+':Events').keys(filter_name='MET_T1Smear*')\n",
    "        gen_lepton_branches = uproot.open(file+':Events').keys(filter_name='*_lepton*genPartFlav')\n",
    "        gen_photon_branches= uproot.open(file+':Events').keys(filter_name='*_photon*genPartFlav')\n",
    "        true_events = uproot.open(file)['nEventsGenWeighted'].values()[0]\n",
    "        init_branches.extend(add_branches)\n",
    "        init_branches.extend(gen_lepton_branches)\n",
    "        init_branches.extend(gen_photon_branches)\n",
    "        init_branches.extend(met_branches)\n",
    "\n",
    "                \n",
    "    # --Prepare main branches\n",
    "    branches = uproot.open(file+':Events').arrays(init_branches, library='pd')\n",
    "\n",
    "                \n",
    "                \n",
    "    # --Triggers\n",
    "    \n",
    "    # Single Electron HLT\n",
    "    HLT_SingleElectron = branches.loc[:,'HLT_Ele27_WPTight_Gsf'] == True\n",
    "\n",
    "    # DoubleEG HLT\n",
    "    HLT_DoubleEG = branches.loc[:,'HLT_Ele23_Ele12_CaloIdL_TrackIdL_IsoVL_DZ'] == True\n",
    "\n",
    "    # Single MuonHLT\n",
    "    HLT_SingleMuon1 = branches.loc[:,'HLT_IsoTkMu24'] == True\n",
    "    HLT_SingleMuon2 = branches.loc[:,'HLT_IsoMu24'] == True\n",
    "    comb_HLT_SingleMuon  = (HLT_SingleMuon1 | HLT_SingleMuon2)\n",
    "\n",
    "    # Double Muon HLT\n",
    "    HLT_DoubleMuon1 = branches.loc[:,'HLT_Mu17_TrkIsoVVL_Mu8_TrkIsoVVL'] == True\n",
    "    HLT_DoubleMuon2 = branches.loc[:,'HLT_Mu17_TrkIsoVVL_TkMu8_TrkIsoVVL'] == True\n",
    "    HLT_DoubleMuon3 = branches.loc[:,'HLT_Mu17_TrkIsoVVL_Mu8_TrkIsoVVL_DZ'] == True\n",
    "    HLT_DoubleMuon4 = branches.loc[:,'HLT_Mu17_TrkIsoVVL_TkMu8_TrkIsoVVL_DZ'] == True\n",
    "    if 'DoubleMuon_Run2016H'in file:\n",
    "        comb_HLT_DoubleMuon = (HLT_DoubleMuon3 | HLT_DoubleMuon4)\n",
    "    elif 'DoubleMuon_Run2016' in file:\n",
    "        comb_HLT_DoubleMuon = (HLT_DoubleMuon1 | HLT_DoubleMuon2)\n",
    "    else:\n",
    "        comb_HLT_DoubleMuon = (HLT_DoubleMuon1 | HLT_DoubleMuon2) | (HLT_DoubleMuon3 | HLT_DoubleMuon4)\n",
    "\n",
    "    # MuonEG HLT\n",
    "    HLT_MuonEG1 = branches.loc[:,'HLT_Mu8_TrkIsoVVL_Ele23_CaloIdL_TrackIdL_IsoVL'] == True\n",
    "    HLT_MuonEG2 = branches.loc[:,'HLT_Mu23_TrkIsoVVL_Ele8_CaloIdL_TrackIdL_IsoVL'] == True\n",
    "\n",
    "\n",
    "    if 'MuonEG_Run2016H' in file:\n",
    "        HLT_MuonEG3 = branches.loc[:,'HLT_Mu8_TrkIsoVVL_Ele23_CaloIdL_TrackIdL_IsoVL_DZ'] == True\n",
    "        HLT_MuonEG4 = branches.loc[:,'HLT_Mu23_TrkIsoVVL_Ele8_CaloIdL_TrackIdL_IsoVL_DZ'] == True\n",
    "        comb_HLT_MuonEG = (HLT_MuonEG1 | HLT_MuonEG2) | (HLT_MuonEG3 | HLT_MuonEG4)\n",
    "    else:\n",
    "        comb_HLT_MuonEG = (HLT_MuonEG1 | HLT_MuonEG2)\n",
    "\n",
    "\n",
    "    \n",
    "    # Apply trigger\n",
    "    if 'SingleMuon' in file:\n",
    "        print('SingleMuon trigger')\n",
    "        arrays = branches.loc[comb_HLT_SingleMuon , :].copy()\n",
    "    elif 'DoubleMuon' in file:\n",
    "        print('DoubleMuon trigger')\n",
    "        arrays = branches.loc[~comb_HLT_SingleMuon & comb_HLT_DoubleMuon, :].copy()\n",
    "    elif 'SingleElectron' in file:\n",
    "        print('SingleElectron trigger')\n",
    "        arrays = branches.loc[~comb_HLT_SingleMuon & ~comb_HLT_DoubleMuon &   HLT_SingleElectron ,:].copy()\n",
    "    elif 'MuonEG' in file:\n",
    "        print('MuonEG Trigger')\n",
    "        arrays = branches.loc[~comb_HLT_SingleMuon & ~comb_HLT_DoubleMuon &  ~HLT_SingleElectron & comb_HLT_MuonEG,:].copy()\n",
    "    elif 'DoubleEG' in file:\n",
    "        print('DoubleEG trigger')\n",
    "        arrays = branches.loc[~comb_HLT_SingleMuon & ~comb_HLT_DoubleMuon &  ~HLT_SingleElectron & ~comb_HLT_MuonEG & HLT_DoubleEG,:].copy()\n",
    "        \n",
    "    else:\n",
    "        print('isMC')\n",
    "        arrays = branches.loc[comb_HLT_SingleMuon | comb_HLT_DoubleMuon | comb_HLT_MuonEG | HLT_SingleElectron |  HLT_DoubleEG ,:].copy()\n",
    "\n",
    "    print('after trigger',len(arrays))    \n",
    "        \n",
    "    \n",
    "    # --cuts\n",
    "    \n",
    "    # MET \n",
    "    if isData:\n",
    "        MET_cut = (arrays.loc[:,'MET'] > 30)\n",
    "    else:\n",
    "        MET_cut = (arrays.loc[:,f'MET_T1Smear_pt'] > 30)\n",
    "    arrays = arrays.loc[MET_cut,:]\n",
    "    print('after MET',len(arrays))\n",
    "    \n",
    "    # lepton pt\n",
    "    lepton_pt_mask = (arrays.loc[:,\"z_lepton1_pt\"] > 25) & (arrays.loc[:,\"z_lepton2_pt\"] > 15)\n",
    "    arrays = arrays.loc[lepton_pt_mask,:]\n",
    "    print('after pt',len(arrays))\n",
    "    \n",
    "    # Zmass window\n",
    "    Zmass_mask     = abs(arrays.loc[:,\"dilepton_mass\"]-91.188) <= 15\n",
    "    arrays = arrays.loc[Zmass_mask,:]\n",
    "    print('after Zmass',len(arrays))\n",
    "    \n",
    "    # bjet veto\n",
    "    bjet_veto_mask = arrays.loc[:,\"nJets\"] == 0\n",
    "    arrays = arrays.loc[lepton_pt_mask & Zmass_mask & bjet_veto_mask,:]\n",
    "    arrays = arrays.loc[bjet_veto_mask,:]\n",
    "    print('after bjet_veto',len(arrays))\n",
    "\n",
    "    \n",
    "    # Photon Eta\n",
    "    if isbarrel == 1:\n",
    "        eta_cut = abs(arrays.loc[:,'photon_eta']) < 1.4442\n",
    "    elif isbarrel == 0:\n",
    "        eta_cut = abs((arrays.loc[:,'photon_eta']) > 1.566) & abs((arrays.loc[:,'photon_eta']) < 2.5)\n",
    "    \n",
    "    mask_mediumID = (1<<1) | (1<<3) | (1<<5) | (1<<7) | (1<<9) | (1<<11) | (1<<13)\n",
    "    \n",
    "    # Original Photon MediumID \n",
    "    arrays['mediumID'] = arrays['photon_vidNestedWPBitmap'] & mask_mediumID\n",
    "    arrays = arrays.loc[arrays.loc[:,'mediumID'] == mask_mediumID, :]\n",
    "    print('after Photon ID',len(arrays))\n",
    "        \n",
    "    # Photon PT\n",
    "    pt_cut = (arrays.loc[:,'photon_pt'] >= 20)\n",
    "    arrays = arrays.loc[pt_cut & eta_cut ,:]\n",
    "    print('after photon pt eta',len(arrays))\n",
    "    \n",
    "    # -- Fill hist\n",
    "    print(\"events: \",len(arrays))\n",
    "    # data\n",
    "    if isData:\n",
    "        for i in trange(0, len(arrays['photon_pt']), desc=f'fill photonPT for {file}'):\n",
    "            hist.Fill(float(arrays['photon_pt'].values[i]))\n",
    "    # MC\n",
    "    else:\n",
    "        arrays['Generator_weight_sgn'] = arrays['Generator_weight'].apply(lambda x: 1 if x >= 0 else -1)\n",
    "        arrays['true_weight'] = lumi * xsec * 1000 *  arrays['PrefireWeight'] * arrays['puWeight']*  arrays['Generator_weight_sgn'] / true_events   \n",
    "\n",
    "        for i in trange(len(arrays['photon_pt']), desc=f'fill photonPT for {file}'):\n",
    "            hist.Fill(float(arrays['photon_pt'].values[i]),float(arrays['true_weight'].values[i]))\n",
    "    \n",
    "def AddHist_dataFake(file, hist,isbarrel,isData=True,xsec=1,lumi=1):\n",
    "    \n",
    "    # --read branches special case for MuonEG 2016H\n",
    "    if 'MuonEG_Run2016H' in file:\n",
    "        init_branches = [\n",
    "                    'channel_mark'\n",
    "                    ,'HLT_Ele27_WPTight_Gsf'\n",
    "                    ,'HLT_IsoTkMu24'\n",
    "                    ,'HLT_IsoMu24'\n",
    "                    ,'HLT_Mu17_TrkIsoVVL_Mu8_TrkIsoVVL'\n",
    "                    ,'HLT_Mu17_TrkIsoVVL_TkMu8_TrkIsoVVL'\n",
    "                    ,'HLT_Mu17_TrkIsoVVL_Mu8_TrkIsoVVL_DZ'\n",
    "                    ,'HLT_Mu17_TrkIsoVVL_TkMu8_TrkIsoVVL_DZ'\n",
    "                    ,'HLT_Mu8_TrkIsoVVL_Ele23_CaloIdL_TrackIdL_IsoVL'\n",
    "                    ,'HLT_Mu23_TrkIsoVVL_Ele8_CaloIdL_TrackIdL_IsoVL'\n",
    "                    ,'HLT_Mu8_TrkIsoVVL_Ele23_CaloIdL_TrackIdL_IsoVL_DZ'\n",
    "                    ,'HLT_Mu23_TrkIsoVVL_Ele8_CaloIdL_TrackIdL_IsoVL_DZ'\n",
    "                    ,'HLT_Ele23_Ele12_CaloIdL_TrackIdL_IsoVL_DZ'\n",
    "                    ,'photon_sieie'\n",
    "                    ,'photon_vidNestedWPBitmap'\n",
    "                    ,'photon_eta'\n",
    "                    ,'photon_pt'\n",
    "                    ,'photon_pfRelIso03_chg'\n",
    "                    ,'MET'\n",
    "                    ,\"z_lepton1_pt\"\n",
    "                    ,\"z_lepton2_pt\"\n",
    "                    ,\"dilepton_mass\"\n",
    "                    ,\"nJets\"\n",
    "        ]\n",
    "        \n",
    "    # --read branches \n",
    "    else:\n",
    "        init_branches = [\n",
    "                    'channel_mark'\n",
    "                    ,'HLT_Ele27_WPTight_Gsf'\n",
    "                    ,'HLT_IsoTkMu24'\n",
    "                    ,'HLT_IsoMu24'\n",
    "                    ,'HLT_Mu17_TrkIsoVVL_Mu8_TrkIsoVVL'\n",
    "                    ,'HLT_Mu17_TrkIsoVVL_TkMu8_TrkIsoVVL'\n",
    "                    ,'HLT_Mu17_TrkIsoVVL_Mu8_TrkIsoVVL_DZ'\n",
    "                    ,'HLT_Mu17_TrkIsoVVL_TkMu8_TrkIsoVVL_DZ'\n",
    "                    ,'HLT_Mu8_TrkIsoVVL_Ele23_CaloIdL_TrackIdL_IsoVL'\n",
    "                    ,'HLT_Mu23_TrkIsoVVL_Ele8_CaloIdL_TrackIdL_IsoVL'\n",
    "                    ,'HLT_Ele23_Ele12_CaloIdL_TrackIdL_IsoVL_DZ'\n",
    "                    ,'photon_sieie'\n",
    "                    ,'photon_vidNestedWPBitmap'\n",
    "                    ,'photon_eta'\n",
    "                    ,'photon_pt'\n",
    "                    ,'photon_pfRelIso03_chg'\n",
    "                    ,'MET'\n",
    "                    ,\"z_lepton1_pt\"\n",
    "                    ,\"z_lepton2_pt\"\n",
    "                    ,\"dilepton_mass\"\n",
    "                    ,\"nJets\"\n",
    "        ] \n",
    "    \n",
    "    # --Complete branches (data) \n",
    "    if isData:\n",
    "        print('is Data')\n",
    "\n",
    "                \n",
    "    # --Complete branches (MC)\n",
    "    else:\n",
    "        add_branches = ['Generator_weight','puWeight','PrefireWeight']\n",
    "        met_branches = uproot.open(file+':Events').keys(filter_name='MET_T1Smear*')\n",
    "        gen_lepton_branches = uproot.open(file+':Events').keys(filter_name='*_lepton*genPartFlav')\n",
    "        gen_photon_branches= uproot.open(file+':Events').keys(filter_name='*_photon*genPartFlav')\n",
    "        true_events = uproot.open(file)['nEventsGenWeighted'].values()[0]\n",
    "        init_branches.extend(add_branches)\n",
    "        init_branches.extend(gen_lepton_branches)\n",
    "        init_branches.extend(gen_photon_branches)\n",
    "        init_branches.extend(met_branches)\n",
    "\n",
    "                \n",
    "    # --Prepare main branches\n",
    "    branches = uproot.open(file+':Events').arrays(init_branches, library='pd')\n",
    "    \n",
    "    # --Triggers\n",
    "    \n",
    "    # Single Electron HLT\n",
    "    HLT_SingleElectron = branches.loc[:,'HLT_Ele27_WPTight_Gsf'] == True\n",
    "\n",
    "    # DoubleEG HLT\n",
    "    HLT_DoubleEG = branches.loc[:,'HLT_Ele23_Ele12_CaloIdL_TrackIdL_IsoVL_DZ'] == True\n",
    "\n",
    "    # Single MuonHLT\n",
    "    HLT_SingleMuon1 = branches.loc[:,'HLT_IsoTkMu24'] == True\n",
    "    HLT_SingleMuon2 = branches.loc[:,'HLT_IsoMu24'] == True\n",
    "    comb_HLT_SingleMuon  = (HLT_SingleMuon1 | HLT_SingleMuon2)\n",
    "\n",
    "    # Double Muon HLT\n",
    "    HLT_DoubleMuon1 = branches.loc[:,'HLT_Mu17_TrkIsoVVL_Mu8_TrkIsoVVL'] == True\n",
    "    HLT_DoubleMuon2 = branches.loc[:,'HLT_Mu17_TrkIsoVVL_TkMu8_TrkIsoVVL'] == True\n",
    "    HLT_DoubleMuon3 = branches.loc[:,'HLT_Mu17_TrkIsoVVL_Mu8_TrkIsoVVL_DZ'] == True\n",
    "    HLT_DoubleMuon4 = branches.loc[:,'HLT_Mu17_TrkIsoVVL_TkMu8_TrkIsoVVL_DZ'] == True\n",
    "    if 'DoubleMuon_Run2016H'in file:\n",
    "        comb_HLT_DoubleMuon = (HLT_DoubleMuon3 | HLT_DoubleMuon4)\n",
    "    elif 'DoubleMuon_Run2016' in file:\n",
    "        comb_HLT_DoubleMuon = (HLT_DoubleMuon1 | HLT_DoubleMuon2)\n",
    "    else:\n",
    "        comb_HLT_DoubleMuon = (HLT_DoubleMuon1 | HLT_DoubleMuon2) | (HLT_DoubleMuon3 | HLT_DoubleMuon4)\n",
    "\n",
    "    # MuonEG HLT\n",
    "    HLT_MuonEG1 = branches.loc[:,'HLT_Mu8_TrkIsoVVL_Ele23_CaloIdL_TrackIdL_IsoVL'] == True\n",
    "    HLT_MuonEG2 = branches.loc[:,'HLT_Mu23_TrkIsoVVL_Ele8_CaloIdL_TrackIdL_IsoVL'] == True\n",
    "\n",
    "\n",
    "    if 'MuonEG_Run2016H' in file:\n",
    "        HLT_MuonEG3 = branches.loc[:,'HLT_Mu8_TrkIsoVVL_Ele23_CaloIdL_TrackIdL_IsoVL_DZ'] == True\n",
    "        HLT_MuonEG4 = branches.loc[:,'HLT_Mu23_TrkIsoVVL_Ele8_CaloIdL_TrackIdL_IsoVL_DZ'] == True\n",
    "        comb_HLT_MuonEG = (HLT_MuonEG1 | HLT_MuonEG2) | (HLT_MuonEG3 | HLT_MuonEG4)\n",
    "    else:\n",
    "        comb_HLT_MuonEG = (HLT_MuonEG1 | HLT_MuonEG2)\n",
    "\n",
    "\n",
    "    \n",
    "    # Apply trigger\n",
    "    if 'SingleMuon' in file:\n",
    "        arrays = branches.loc[comb_HLT_SingleMuon , :].copy()\n",
    "    elif 'DoubleMuon' in file:\n",
    "        arrays = branches.loc[~comb_HLT_SingleMuon & comb_HLT_DoubleMuon, :].copy()\n",
    "    elif 'SingleElectron' in file:\n",
    "        arrays = branches.loc[~comb_HLT_SingleMuon & ~comb_HLT_DoubleMuon &   HLT_SingleElectron ,:].copy()\n",
    "    elif 'MuonEG' in file:\n",
    "        arrays = branches.loc[~comb_HLT_SingleMuon & ~comb_HLT_DoubleMuon &  ~HLT_SingleElectron & comb_HLT_MuonEG,:].copy()\n",
    "    elif 'DoubleEG' in file:\n",
    "        arrays = branches.loc[~comb_HLT_SingleMuon & ~comb_HLT_DoubleMuon &  ~HLT_SingleElectron & ~comb_HLT_MuonEG & HLT_DoubleEG,:].copy()\n",
    "        \n",
    "    else:\n",
    "        arrays = branches.loc[comb_HLT_SingleMuon | comb_HLT_DoubleMuon | comb_HLT_MuonEG | HLT_SingleElectron |  HLT_DoubleEG ,:].copy()\n",
    "        \n",
    "    \n",
    "    # --cuts\n",
    "    # MET \n",
    "    if isData:\n",
    "        MET_cut = (arrays.loc[:,'MET'] > 30)\n",
    "    else:\n",
    "        MET_cut = (arrays.loc[:,f'MET_T1Smear_pt'] > 30)\n",
    "    arrays = arrays.loc[MET_cut,:]\n",
    "\n",
    "    # lepton pt\n",
    "    lepton_pt_mask = (arrays.loc[:,\"z_lepton1_pt\"] > 25) & (arrays.loc[:,\"z_lepton2_pt\"] > 15)\n",
    "    arrays = arrays.loc[lepton_pt_mask,:]\n",
    "    print('after pt',len(arrays))\n",
    "    \n",
    "    # Zmass window\n",
    "    Zmass_mask     = abs(arrays.loc[:,\"dilepton_mass\"]-91.188) <= 15\n",
    "    arrays = arrays.loc[Zmass_mask,:]\n",
    "    print('after Zmass',len(arrays))\n",
    "    \n",
    "    # bjet veto\n",
    "    bjet_veto_mask = arrays.loc[:,\"nJets\"] == 0\n",
    "    arrays = arrays.loc[lepton_pt_mask & Zmass_mask & bjet_veto_mask,:]\n",
    "    arrays = arrays.loc[bjet_veto_mask,:]\n",
    "    print('after bjet_veto',len(arrays))\n",
    "    \n",
    "    \n",
    "    # Photon Eta\n",
    "    if isbarrel == 1:\n",
    "        eta_cut = abs(arrays.loc[:,'photon_eta']) < 1.4442\n",
    "    elif isbarrel == 0:\n",
    "        eta_cut = abs((arrays.loc[:,'photon_eta']) > 1.566) & abs((arrays.loc[:,'photon_eta']) < 2.5)        \n",
    "        \n",
    "    # Photon IsoChg SB cut\n",
    "    sb = [4,10]\n",
    "\n",
    "    chg_cut = ((arrays.loc[:,\"photon_pfRelIso03_chg\"]*arrays.loc[:,\"photon_pt\"]) > sb[0]) & ((arrays.loc[:,\"photon_pfRelIso03_chg\"]*arrays.loc[:,\"photon_pt\"]) < sb[1])\n",
    "    pt_cut  = (arrays.loc[:,'photon_pt'] >= 20)        \n",
    "    \n",
    "    arrays = arrays.loc[pt_cut & eta_cut & chg_cut,:]\n",
    "    \n",
    "    \n",
    "    # -- Fill hist\n",
    "    \n",
    "    print(\"events: \",len(arrays))\n",
    "    # data\n",
    "    if isData:\n",
    "        for i in trange(0, len(arrays['photon_pt']), desc=f'fill photonPT for {file}'):\n",
    "            hist.Fill(float(arrays['photon_pt'].values[i]))\n",
    "    # MC\n",
    "    else:\n",
    "\n",
    "        arrays['Generator_weight_sgn'] = arrays['Generator_weight'].apply(lambda x: 1 if x >= 0 else -1)\n",
    "        arrays['true_weight'] = lumi * xsec * 1000 *  arrays['PrefireWeight'] * arrays['puWeight'] *  arrays['Generator_weight_sgn'] / true_events   \n",
    "\n",
    "        for i in trange(len(arrays['photon_pt']), desc=f'fill photonPT for {file}'):\n",
    "            hist.Fill(float(arrays['photon_pt'].values[i]),float(arrays['true_weight'].values[i]))"
   ]
  },
  {
   "cell_type": "code",
   "execution_count": 6,
   "id": "5fda1a64",
   "metadata": {},
   "outputs": [],
   "source": [
    "## 2016 CR\n",
    "\n",
    "filelist_data = [\n",
    "\"/eos/home-j/jiwoong/WZG_DB/2016/pre_post_separated_220209/FakePhoton/CR/merged/DoubleEG_Run2016B.root\"\n",
    ",\"/eos/home-j/jiwoong/WZG_DB/2016/pre_post_separated_220209/FakePhoton/CR/merged/DoubleEG_Run2016C.root\"\n",
    ",\"/eos/home-j/jiwoong/WZG_DB/2016/pre_post_separated_220209/FakePhoton/CR/merged/DoubleEG_Run2016D.root\"\n",
    ",\"/eos/home-j/jiwoong/WZG_DB/2016/pre_post_separated_220209/FakePhoton/CR/merged/DoubleEG_Run2016E.root\"\n",
    ",\"/eos/home-j/jiwoong/WZG_DB/2016/pre_post_separated_220209/FakePhoton/CR/merged/DoubleEG_Run2016F.root\"\n",
    ",\"/eos/home-j/jiwoong/WZG_DB/2016/pre_post_separated_220209/FakePhoton/CR/merged/DoubleEG_Run2016G.root\"\n",
    ",\"/eos/home-j/jiwoong/WZG_DB/2016/pre_post_separated_220209/FakePhoton/CR/merged/DoubleEG_Run2016H.root\"\n",
    ",\"/eos/home-j/jiwoong/WZG_DB/2016/pre_post_separated_220209/FakePhoton/CR/merged/DoubleMuon_Run2016B.root\"\n",
    ",\"/eos/home-j/jiwoong/WZG_DB/2016/pre_post_separated_220209/FakePhoton/CR/merged/DoubleMuon_Run2016C.root\"\n",
    ",\"/eos/home-j/jiwoong/WZG_DB/2016/pre_post_separated_220209/FakePhoton/CR/merged/DoubleMuon_Run2016D.root\"\n",
    ",\"/eos/home-j/jiwoong/WZG_DB/2016/pre_post_separated_220209/FakePhoton/CR/merged/DoubleMuon_Run2016E.root\"\n",
    ",\"/eos/home-j/jiwoong/WZG_DB/2016/pre_post_separated_220209/FakePhoton/CR/merged/DoubleMuon_Run2016F.root\"\n",
    ",\"/eos/home-j/jiwoong/WZG_DB/2016/pre_post_separated_220209/FakePhoton/CR/merged/DoubleMuon_Run2016G.root\"\n",
    ",\"/eos/home-j/jiwoong/WZG_DB/2016/pre_post_separated_220209/FakePhoton/CR/merged/DoubleMuon_Run2016H.root\"\n",
    ",\"/eos/home-j/jiwoong/WZG_DB/2016/pre_post_separated_220209/FakePhoton/CR/merged/MuonEG_Run2016B.root\"\n",
    ",\"/eos/home-j/jiwoong/WZG_DB/2016/pre_post_separated_220209/FakePhoton/CR/merged/MuonEG_Run2016C.root\"\n",
    ",\"/eos/home-j/jiwoong/WZG_DB/2016/pre_post_separated_220209/FakePhoton/CR/merged/MuonEG_Run2016D.root\"\n",
    ",\"/eos/home-j/jiwoong/WZG_DB/2016/pre_post_separated_220209/FakePhoton/CR/merged/MuonEG_Run2016E.root\"\n",
    ",\"/eos/home-j/jiwoong/WZG_DB/2016/pre_post_separated_220209/FakePhoton/CR/merged/MuonEG_Run2016F.root\"\n",
    ",\"/eos/home-j/jiwoong/WZG_DB/2016/pre_post_separated_220209/FakePhoton/CR/merged/MuonEG_Run2016G.root\"\n",
    ",\"/eos/home-j/jiwoong/WZG_DB/2016/pre_post_separated_220209/FakePhoton/CR/merged/MuonEG_Run2016H.root\"\n",
    ",\"/eos/home-j/jiwoong/WZG_DB/2016/pre_post_separated_220209/FakePhoton/CR/merged/SingleElectron_Run2016B.root\"\n",
    ",\"/eos/home-j/jiwoong/WZG_DB/2016/pre_post_separated_220209/FakePhoton/CR/merged/SingleElectron_Run2016C.root\"\n",
    ",\"/eos/home-j/jiwoong/WZG_DB/2016/pre_post_separated_220209/FakePhoton/CR/merged/SingleElectron_Run2016D.root\"\n",
    ",\"/eos/home-j/jiwoong/WZG_DB/2016/pre_post_separated_220209/FakePhoton/CR/merged/SingleElectron_Run2016E.root\"\n",
    ",\"/eos/home-j/jiwoong/WZG_DB/2016/pre_post_separated_220209/FakePhoton/CR/merged/SingleElectron_Run2016F.root\"\n",
    ",\"/eos/home-j/jiwoong/WZG_DB/2016/pre_post_separated_220209/FakePhoton/CR/merged/SingleElectron_Run2016G.root\"\n",
    ",\"/eos/home-j/jiwoong/WZG_DB/2016/pre_post_separated_220209/FakePhoton/CR/merged/SingleElectron_Run2016H.root\"\n",
    ",\"/eos/home-j/jiwoong/WZG_DB/2016/pre_post_separated_220209/FakePhoton/CR/merged/SingleMuon_Run2016B.root\"\n",
    ",\"/eos/home-j/jiwoong/WZG_DB/2016/pre_post_separated_220209/FakePhoton/CR/merged/SingleMuon_Run2016C.root\"\n",
    ",\"/eos/home-j/jiwoong/WZG_DB/2016/pre_post_separated_220209/FakePhoton/CR/merged/SingleMuon_Run2016D.root\"\n",
    ",\"/eos/home-j/jiwoong/WZG_DB/2016/pre_post_separated_220209/FakePhoton/CR/merged/SingleMuon_Run2016E.root\"\n",
    ",\"/eos/home-j/jiwoong/WZG_DB/2016/pre_post_separated_220209/FakePhoton/CR/merged/SingleMuon_Run2016F.root\"\n",
    ",\"/eos/home-j/jiwoong/WZG_DB/2016/pre_post_separated_220209/FakePhoton/CR/merged/SingleMuon_Run2016G.root\"\n",
    ",\"/eos/home-j/jiwoong/WZG_DB/2016/pre_post_separated_220209/FakePhoton/CR/merged/SingleMuon_Run2016H.root\"\n",
    "]"
   ]
  },
  {
   "cell_type": "code",
   "execution_count": 7,
   "id": "275ffaa0",
   "metadata": {},
   "outputs": [],
   "source": [
    "filelist_MC = {\n",
    "    \n",
    "   \"TTG\":\n",
    "        {\"name\":\"TTGJets\",\n",
    "        \"path\":\"/eos/home-j/jiwoong/WZG_DB/2016/pre_post_separated_220209/FakePhoton/CR/merged/TTGJets_TuneCP5_13TeV-amcatnloFXFX-madspin-pythia8_2016.root\",\n",
    "        \"xsec\":4.078,\n",
    "        },\n",
    "   \"TTZ\":\n",
    "        {\"name\":\"TTZToLLNuNu\",\n",
    "        \"path\":\"/eos/home-j/jiwoong/WZG_DB/2016/pre_post_separated_220209/FakePhoton/CR/merged/TTZToLLNuNu_M-10_TuneCP5_13TeV-amcatnlo-pythia8_2016.root\",\n",
    "        \"xsec\":0.2432,\n",
    "        },\n",
    "   \"TTW\":\n",
    "        {\"name\":\"TTWJetsToLNu\",\n",
    "        \"path\":\"/eos/home-j/jiwoong/WZG_DB/2016/pre_post_separated_220209/FakePhoton/CR/merged/TTWJetsToLNu_TuneCP5_13TeV-amcatnloFXFX-madspin-pythia8_2016.root\",\n",
    "        \"xsec\":0.2149,\n",
    "        },\n",
    "   \"tZq\":\n",
    "        {\"name\":\"tZq_ll\",\n",
    "        \"path\":\"/eos/home-j/jiwoong/WZG_DB/2016/pre_post_separated_220209/FakePhoton/CR/merged/tZq_ll_4f_ckm_NLO_TuneCP5_13TeV-amcatnlo-pythia8_2016.root\",\n",
    "        \"xsec\":0.07358,\n",
    "        },\n",
    "   \"WWW\":\n",
    "        {\"name\":\"WWW\",\n",
    "        \"path\":\"/eos/home-j/jiwoong/WZG_DB/2016/pre_post_separated_220209/FakePhoton/CR/merged/WWW_4F_TuneCP5_13TeV-amcatnlo-pythia8_2016.root\",\n",
    "        \"xsec\":0.2086,\n",
    "        },\n",
    "   \"ZGToLLG\":\n",
    "        {\"name\":\"ZGToLLG\",\n",
    "        \"path\":\"/eos/home-j/jiwoong/WZG_DB/2016/pre_post_separated_220209/FakePhoton/CR/merged/ZGToLLG_01J_5f_TuneCP5_13TeV-amcatnloFXFX-pythia8_2016.root\",\n",
    "        \"xsec\":55.48,\n",
    "        },\n",
    "    \"ZZ\":\n",
    "        {\"name\":\"ZZ\",\n",
    "        \"path\":\"/eos/home-j/jiwoong/WZG_DB/2016/pre_post_separated_220209/FakePhoton/CR/merged/ZZ_TuneCP5_13TeV-pythia8_2016.root\",\n",
    "        \"xsec\":16.523, # NLO\n",
    "        },\n",
    "    \"WZG\":\n",
    "        {\"name\":\"WZG\",\n",
    "        \"path\":\"/eos/home-j/jiwoong/WZG_DB/2016/pre_post_separated_220209/FakePhoton/CR/merged/wza_2016.root\",\n",
    "        \"xsec\":0.0384,\n",
    "        },\n",
    "   \"WWZ\":\n",
    "        {\"name\":\"WWZ\",\n",
    "        \"path\":\"/eos/home-j/jiwoong/WZG_DB/2016/pre_post_separated_220209/FakePhoton/CR/merged/WWZ_4F_TuneCP5_13TeV-amcatnlo-pythia8_2016.root\",\n",
    "        \"xsec\":0.1707,\n",
    "        },\n",
    "   \"ggZZ_2e2mu\":\n",
    "        {\"name\":\"ggZZ2e2mu\",\n",
    "        \"path\":\"/eos/home-j/jiwoong/WZG_DB/2016/pre_post_separated_220209/FakePhoton/CR/merged/GluGluToContinToZZTo2e2mu_TuneCP5_13TeV-mcfm701-pythia8_2016.root\",\n",
    "        \"xsec\":0.00319,\n",
    "        },\n",
    "#   \"ggZZ_2e2nu\":\n",
    "#        {\"name\":\"ggZZ2e2nu\",\n",
    "#        \"path\":\"/eos/home-j/jiwoong/SWAN_projects/Draw/2017/GluGluToContinToZZTo2e2nu_TuneCP5_13TeV-mcfm701-pythia8_2017_0000.root\",\n",
    "#        \"xsec\":0.00319,\n",
    "#        },\n",
    "   \"ggZZ_2e2tau\":\n",
    "        {\"name\":\"ggZZ2e2tau\",\n",
    "        \"path\":\"/eos/home-j/jiwoong/WZG_DB/2016/pre_post_separated_220209/FakePhoton/CR/merged/GluGluToContinToZZTo2e2tau_TuneCP5_13TeV-mcfm701-pythia8_2016.root\",\n",
    "        \"xsec\":0.00319,\n",
    "        },\n",
    "#   \"ggZZ_2mu2nu\":\n",
    "#        {\"name\":\"ggZZ2mu2nu\",\n",
    "#        \"path\":\"/eos/home-j/jiwoong/SWAN_projects/Draw/2017/GluGluToContinToZZTo2mu2nu_TuneCP5_13TeV-mcfm701-pythia8_2017_0000.root\",\n",
    "#        \"xsec\":0.00319,\n",
    "#        },\n",
    "   \"ggZZ_2mu2tau\":\n",
    "        {\"name\":\"ggZZ2mu2tau\",\n",
    "        \"path\":\"/eos/home-j/jiwoong/WZG_DB/2016/pre_post_separated_220209/FakePhoton/CR/merged/GluGluToContinToZZTo2mu2tau_TuneCP5_13TeV-mcfm701-pythia8_2016.root\",\n",
    "        \"xsec\":0.00319,\n",
    "        },\n",
    "   \"ggZZ_4e\":\n",
    "        {\"name\":\"ggZZ4e\",\n",
    "        \"path\":\"/eos/home-j/jiwoong/WZG_DB/2016/pre_post_separated_220209/FakePhoton/CR/merged/GluGluToContinToZZTo4e_TuneCP5_13TeV-mcfm701-pythia8_2016.root\",\n",
    "        \"xsec\":0.00159,\n",
    "        },\n",
    "   \"ggZZ_4mu\":\n",
    "        {\"name\":\"ggZZ4mu\",\n",
    "        \"path\":\"/eos/home-j/jiwoong/WZG_DB/2016/pre_post_separated_220209/FakePhoton/CR/merged/GluGluToContinToZZTo4mu_TuneCP5_13TeV-mcfm701-pythia8_2016.root\",\n",
    "        \"xsec\":0.00159,\n",
    "        },\n",
    "   \"ggZZ_4tau\":\n",
    "        {\"name\":\"ggZZ4tau\",\n",
    "        \"path\":\"/eos/home-j/jiwoong/WZG_DB/2016/pre_post_separated_220209/FakePhoton/CR/merged/GluGluToContinToZZTo4tau_TuneCP5_13TeV-mcfm701-pythia8_2016.root\",\n",
    "        \"xsec\":0.00159,\n",
    "        }    \n",
    "}"
   ]
  },
  {
   "cell_type": "code",
   "execution_count": 8,
   "id": "30bef53a",
   "metadata": {},
   "outputs": [
    {
     "name": "stdout",
     "output_type": "stream",
     "text": [
      "is Data\n",
      "DoubleEG trigger\n",
      "after trigger 2150\n",
      "after MET 666\n",
      "after pt 124\n",
      "after Zmass 36\n",
      "after bjet_veto 34\n",
      "after Photon ID 10\n",
      "after photon pt eta 6\n",
      "events:  6\n"
     ]
    },
    {
     "name": "stderr",
     "output_type": "stream",
     "text": [
      "fill photonPT for /eos/home-j/jiwoong/WZG_DB/2016/pre_post_separated_220209/FakePhoton/CR/merged/DoubleEG_Run2016B.root: 100%|██████████| 6/6 [00:00<00:00, 1494.50it/s]"
     ]
    },
    {
     "name": "stdout",
     "output_type": "stream",
     "text": [
      "is Data\n"
     ]
    },
    {
     "name": "stderr",
     "output_type": "stream",
     "text": [
      "\n"
     ]
    },
    {
     "name": "stdout",
     "output_type": "stream",
     "text": [
      "DoubleEG trigger\n",
      "after trigger 978\n",
      "after MET 325\n",
      "after pt 55\n",
      "after Zmass 21\n",
      "after bjet_veto 21\n",
      "after Photon ID 8\n",
      "after photon pt eta 5\n",
      "events:  5\n"
     ]
    },
    {
     "name": "stderr",
     "output_type": "stream",
     "text": [
      "fill photonPT for /eos/home-j/jiwoong/WZG_DB/2016/pre_post_separated_220209/FakePhoton/CR/merged/DoubleEG_Run2016C.root: 100%|██████████| 5/5 [00:00<00:00, 38836.15it/s]"
     ]
    },
    {
     "name": "stdout",
     "output_type": "stream",
     "text": [
      "is Data\n"
     ]
    },
    {
     "name": "stderr",
     "output_type": "stream",
     "text": [
      "\n"
     ]
    },
    {
     "name": "stdout",
     "output_type": "stream",
     "text": [
      "DoubleEG trigger\n",
      "after trigger 1533\n",
      "after MET 559\n",
      "after pt 111\n",
      "after Zmass 41\n",
      "after bjet_veto 39\n",
      "after Photon ID 7\n",
      "after photon pt eta 6\n",
      "events:  6\n"
     ]
    },
    {
     "name": "stderr",
     "output_type": "stream",
     "text": [
      "fill photonPT for /eos/home-j/jiwoong/WZG_DB/2016/pre_post_separated_220209/FakePhoton/CR/merged/DoubleEG_Run2016D.root: 100%|██████████| 6/6 [00:00<00:00, 26973.02it/s]"
     ]
    },
    {
     "name": "stdout",
     "output_type": "stream",
     "text": [
      "is Data\n"
     ]
    },
    {
     "name": "stderr",
     "output_type": "stream",
     "text": [
      "\n"
     ]
    },
    {
     "name": "stdout",
     "output_type": "stream",
     "text": [
      "DoubleEG trigger\n",
      "after trigger 1394\n",
      "after MET 540\n",
      "after pt 136\n",
      "after Zmass 55\n",
      "after bjet_veto 51\n",
      "after Photon ID 15\n",
      "after photon pt eta 10\n",
      "events:  10\n"
     ]
    },
    {
     "name": "stderr",
     "output_type": "stream",
     "text": [
      "fill photonPT for /eos/home-j/jiwoong/WZG_DB/2016/pre_post_separated_220209/FakePhoton/CR/merged/DoubleEG_Run2016E.root: 100%|██████████| 10/10 [00:00<00:00, 26346.13it/s]"
     ]
    },
    {
     "name": "stdout",
     "output_type": "stream",
     "text": [
      "is Data\n"
     ]
    },
    {
     "name": "stderr",
     "output_type": "stream",
     "text": [
      "\n"
     ]
    },
    {
     "name": "stdout",
     "output_type": "stream",
     "text": [
      "DoubleEG trigger\n",
      "after trigger 1194\n",
      "after MET 461\n",
      "after pt 62\n",
      "after Zmass 16\n",
      "after bjet_veto 15\n",
      "after Photon ID 4\n",
      "after photon pt eta 4\n",
      "events:  4\n"
     ]
    },
    {
     "name": "stderr",
     "output_type": "stream",
     "text": [
      "fill photonPT for /eos/home-j/jiwoong/WZG_DB/2016/pre_post_separated_220209/FakePhoton/CR/merged/DoubleEG_Run2016F.root: 100%|██████████| 4/4 [00:00<00:00, 15238.16it/s]"
     ]
    },
    {
     "name": "stdout",
     "output_type": "stream",
     "text": [
      "is Data\n"
     ]
    },
    {
     "name": "stderr",
     "output_type": "stream",
     "text": [
      "\n"
     ]
    },
    {
     "name": "stdout",
     "output_type": "stream",
     "text": [
      "DoubleEG trigger\n",
      "after trigger 3355\n",
      "after MET 1376\n",
      "after pt 371\n",
      "after Zmass 150\n",
      "after bjet_veto 141\n",
      "after Photon ID 37\n",
      "after photon pt eta 28\n",
      "events:  28\n"
     ]
    },
    {
     "name": "stderr",
     "output_type": "stream",
     "text": [
      "fill photonPT for /eos/home-j/jiwoong/WZG_DB/2016/pre_post_separated_220209/FakePhoton/CR/merged/DoubleEG_Run2016G.root: 100%|██████████| 28/28 [00:00<00:00, 85974.02it/s]"
     ]
    },
    {
     "name": "stdout",
     "output_type": "stream",
     "text": [
      "is Data\n"
     ]
    },
    {
     "name": "stderr",
     "output_type": "stream",
     "text": [
      "\n"
     ]
    },
    {
     "name": "stdout",
     "output_type": "stream",
     "text": [
      "DoubleEG trigger\n",
      "after trigger 3626\n",
      "after MET 1570\n",
      "after pt 372\n",
      "after Zmass 156\n",
      "after bjet_veto 151\n",
      "after Photon ID 34\n",
      "after photon pt eta 25\n",
      "events:  25\n"
     ]
    },
    {
     "name": "stderr",
     "output_type": "stream",
     "text": [
      "fill photonPT for /eos/home-j/jiwoong/WZG_DB/2016/pre_post_separated_220209/FakePhoton/CR/merged/DoubleEG_Run2016H.root: 100%|██████████| 25/25 [00:00<00:00, 93790.34it/s]"
     ]
    },
    {
     "name": "stdout",
     "output_type": "stream",
     "text": [
      "is Data\n"
     ]
    },
    {
     "name": "stderr",
     "output_type": "stream",
     "text": [
      "\n"
     ]
    },
    {
     "name": "stdout",
     "output_type": "stream",
     "text": [
      "DoubleMuon trigger\n",
      "after trigger 1617\n",
      "after MET 560\n",
      "after pt 108\n",
      "after Zmass 24\n",
      "after bjet_veto 23\n",
      "after Photon ID 5\n",
      "after photon pt eta 3\n",
      "events:  3\n"
     ]
    },
    {
     "name": "stderr",
     "output_type": "stream",
     "text": [
      "fill photonPT for /eos/home-j/jiwoong/WZG_DB/2016/pre_post_separated_220209/FakePhoton/CR/merged/DoubleMuon_Run2016B.root: 100%|██████████| 3/3 [00:00<00:00, 20627.72it/s]"
     ]
    },
    {
     "name": "stdout",
     "output_type": "stream",
     "text": [
      "is Data\n"
     ]
    },
    {
     "name": "stderr",
     "output_type": "stream",
     "text": [
      "\n"
     ]
    },
    {
     "name": "stdout",
     "output_type": "stream",
     "text": [
      "DoubleMuon trigger\n",
      "after trigger 708\n",
      "after MET 256\n",
      "after pt 103\n",
      "after Zmass 16\n",
      "after bjet_veto 14\n",
      "after Photon ID 4\n",
      "after photon pt eta 1\n",
      "events:  1\n"
     ]
    },
    {
     "name": "stderr",
     "output_type": "stream",
     "text": [
      "fill photonPT for /eos/home-j/jiwoong/WZG_DB/2016/pre_post_separated_220209/FakePhoton/CR/merged/DoubleMuon_Run2016C.root: 100%|██████████| 1/1 [00:00<00:00, 8405.42it/s]"
     ]
    },
    {
     "name": "stdout",
     "output_type": "stream",
     "text": [
      "is Data\n"
     ]
    },
    {
     "name": "stderr",
     "output_type": "stream",
     "text": [
      "\n"
     ]
    },
    {
     "name": "stdout",
     "output_type": "stream",
     "text": [
      "DoubleMuon trigger\n",
      "after trigger 1145\n",
      "after MET 385\n",
      "after pt 117\n",
      "after Zmass 19\n",
      "after bjet_veto 17\n",
      "after Photon ID 4\n",
      "after photon pt eta 3\n",
      "events:  3\n"
     ]
    },
    {
     "name": "stderr",
     "output_type": "stream",
     "text": [
      "fill photonPT for /eos/home-j/jiwoong/WZG_DB/2016/pre_post_separated_220209/FakePhoton/CR/merged/DoubleMuon_Run2016D.root: 100%|██████████| 3/3 [00:00<00:00, 10263.39it/s]"
     ]
    },
    {
     "name": "stdout",
     "output_type": "stream",
     "text": [
      "is Data\n"
     ]
    },
    {
     "name": "stderr",
     "output_type": "stream",
     "text": [
      "\n"
     ]
    },
    {
     "name": "stdout",
     "output_type": "stream",
     "text": [
      "DoubleMuon trigger\n",
      "after trigger 1120\n",
      "after MET 436\n",
      "after pt 179\n",
      "after Zmass 34\n",
      "after bjet_veto 34\n",
      "after Photon ID 10\n",
      "after photon pt eta 6\n",
      "events:  6\n"
     ]
    },
    {
     "name": "stderr",
     "output_type": "stream",
     "text": [
      "fill photonPT for /eos/home-j/jiwoong/WZG_DB/2016/pre_post_separated_220209/FakePhoton/CR/merged/DoubleMuon_Run2016E.root: 100%|██████████| 6/6 [00:00<00:00, 26630.50it/s]"
     ]
    },
    {
     "name": "stdout",
     "output_type": "stream",
     "text": [
      "is Data\n"
     ]
    },
    {
     "name": "stderr",
     "output_type": "stream",
     "text": [
      "\n"
     ]
    },
    {
     "name": "stdout",
     "output_type": "stream",
     "text": [
      "DoubleMuon trigger\n",
      "after trigger 912\n",
      "after MET 360\n",
      "after pt 143\n",
      "after Zmass 26\n",
      "after bjet_veto 25\n",
      "after Photon ID 4\n",
      "after photon pt eta 4\n",
      "events:  4\n"
     ]
    },
    {
     "name": "stderr",
     "output_type": "stream",
     "text": [
      "fill photonPT for /eos/home-j/jiwoong/WZG_DB/2016/pre_post_separated_220209/FakePhoton/CR/merged/DoubleMuon_Run2016F.root: 100%|██████████| 4/4 [00:00<00:00, 28484.24it/s]"
     ]
    },
    {
     "name": "stdout",
     "output_type": "stream",
     "text": [
      "is Data\n"
     ]
    },
    {
     "name": "stderr",
     "output_type": "stream",
     "text": [
      "\n"
     ]
    },
    {
     "name": "stdout",
     "output_type": "stream",
     "text": [
      "DoubleMuon trigger\n",
      "after trigger 2478\n",
      "after MET 1057\n",
      "after pt 545\n",
      "after Zmass 123\n",
      "after bjet_veto 112\n",
      "after Photon ID 28\n",
      "after photon pt eta 22\n",
      "events:  22\n"
     ]
    },
    {
     "name": "stderr",
     "output_type": "stream",
     "text": [
      "fill photonPT for /eos/home-j/jiwoong/WZG_DB/2016/pre_post_separated_220209/FakePhoton/CR/merged/DoubleMuon_Run2016G.root: 100%|██████████| 22/22 [00:00<00:00, 97233.60it/s]"
     ]
    },
    {
     "name": "stdout",
     "output_type": "stream",
     "text": [
      "is Data\n"
     ]
    },
    {
     "name": "stderr",
     "output_type": "stream",
     "text": [
      "\n"
     ]
    },
    {
     "name": "stdout",
     "output_type": "stream",
     "text": [
      "DoubleMuon trigger\n",
      "after trigger 2712\n",
      "after MET 1146\n",
      "after pt 519\n",
      "after Zmass 117\n",
      "after bjet_veto 109\n",
      "after Photon ID 26\n",
      "after photon pt eta 18\n",
      "events:  18\n"
     ]
    },
    {
     "name": "stderr",
     "output_type": "stream",
     "text": [
      "fill photonPT for /eos/home-j/jiwoong/WZG_DB/2016/pre_post_separated_220209/FakePhoton/CR/merged/DoubleMuon_Run2016H.root: 100%|██████████| 18/18 [00:00<00:00, 57065.36it/s]"
     ]
    },
    {
     "name": "stdout",
     "output_type": "stream",
     "text": [
      "is Data\n"
     ]
    },
    {
     "name": "stderr",
     "output_type": "stream",
     "text": [
      "\n"
     ]
    },
    {
     "name": "stdout",
     "output_type": "stream",
     "text": [
      "MuonEG Trigger\n",
      "after trigger 181\n",
      "after MET 122\n",
      "after pt 63\n",
      "after Zmass 10\n",
      "after bjet_veto 6\n",
      "after Photon ID 3\n",
      "after photon pt eta 1\n",
      "events:  1\n"
     ]
    },
    {
     "name": "stderr",
     "output_type": "stream",
     "text": [
      "fill photonPT for /eos/home-j/jiwoong/WZG_DB/2016/pre_post_separated_220209/FakePhoton/CR/merged/MuonEG_Run2016B.root: 100%|██████████| 1/1 [00:00<00:00, 3923.58it/s]"
     ]
    },
    {
     "name": "stdout",
     "output_type": "stream",
     "text": [
      "is Data\n"
     ]
    },
    {
     "name": "stderr",
     "output_type": "stream",
     "text": [
      "\n"
     ]
    },
    {
     "name": "stdout",
     "output_type": "stream",
     "text": [
      "MuonEG Trigger\n",
      "after trigger 76\n",
      "after MET 58\n",
      "after pt 26\n",
      "after Zmass 7\n",
      "after bjet_veto 3\n",
      "after Photon ID 0\n",
      "after photon pt eta 0\n",
      "events:  0\n"
     ]
    },
    {
     "name": "stderr",
     "output_type": "stream",
     "text": [
      "fill photonPT for /eos/home-j/jiwoong/WZG_DB/2016/pre_post_separated_220209/FakePhoton/CR/merged/MuonEG_Run2016C.root: 0it [00:00, ?it/s]"
     ]
    },
    {
     "name": "stdout",
     "output_type": "stream",
     "text": [
      "is Data\n"
     ]
    },
    {
     "name": "stderr",
     "output_type": "stream",
     "text": [
      "\n"
     ]
    },
    {
     "name": "stdout",
     "output_type": "stream",
     "text": [
      "MuonEG Trigger\n",
      "after trigger 126\n",
      "after MET 87\n",
      "after pt 40\n",
      "after Zmass 4\n",
      "after bjet_veto 2\n",
      "after Photon ID 2\n",
      "after photon pt eta 1\n",
      "events:  1\n"
     ]
    },
    {
     "name": "stderr",
     "output_type": "stream",
     "text": [
      "fill photonPT for /eos/home-j/jiwoong/WZG_DB/2016/pre_post_separated_220209/FakePhoton/CR/merged/MuonEG_Run2016D.root: 100%|██████████| 1/1 [00:00<00:00, 4429.04it/s]"
     ]
    },
    {
     "name": "stdout",
     "output_type": "stream",
     "text": [
      "is Data\n"
     ]
    },
    {
     "name": "stderr",
     "output_type": "stream",
     "text": [
      "\n"
     ]
    },
    {
     "name": "stdout",
     "output_type": "stream",
     "text": [
      "MuonEG Trigger\n",
      "after trigger 133\n",
      "after MET 90\n",
      "after pt 39\n",
      "after Zmass 5\n",
      "after bjet_veto 3\n",
      "after Photon ID 2\n",
      "after photon pt eta 1\n",
      "events:  1\n"
     ]
    },
    {
     "name": "stderr",
     "output_type": "stream",
     "text": [
      "fill photonPT for /eos/home-j/jiwoong/WZG_DB/2016/pre_post_separated_220209/FakePhoton/CR/merged/MuonEG_Run2016E.root: 100%|██████████| 1/1 [00:00<00:00, 3123.09it/s]"
     ]
    },
    {
     "name": "stdout",
     "output_type": "stream",
     "text": [
      "is Data\n"
     ]
    },
    {
     "name": "stderr",
     "output_type": "stream",
     "text": [
      "\n"
     ]
    },
    {
     "name": "stdout",
     "output_type": "stream",
     "text": [
      "MuonEG Trigger\n",
      "after trigger 114\n",
      "after MET 63\n",
      "after pt 25\n",
      "after Zmass 4\n",
      "after bjet_veto 4\n",
      "after Photon ID 0\n",
      "after photon pt eta 0\n",
      "events:  0\n"
     ]
    },
    {
     "name": "stderr",
     "output_type": "stream",
     "text": [
      "fill photonPT for /eos/home-j/jiwoong/WZG_DB/2016/pre_post_separated_220209/FakePhoton/CR/merged/MuonEG_Run2016F.root: 0it [00:00, ?it/s]"
     ]
    },
    {
     "name": "stdout",
     "output_type": "stream",
     "text": [
      "is Data\n"
     ]
    },
    {
     "name": "stderr",
     "output_type": "stream",
     "text": [
      "\n"
     ]
    },
    {
     "name": "stdout",
     "output_type": "stream",
     "text": [
      "MuonEG Trigger\n",
      "after trigger 280\n",
      "after MET 206\n",
      "after pt 118\n",
      "after Zmass 14\n",
      "after bjet_veto 8\n",
      "after Photon ID 3\n",
      "after photon pt eta 2\n",
      "events:  2\n"
     ]
    },
    {
     "name": "stderr",
     "output_type": "stream",
     "text": [
      "fill photonPT for /eos/home-j/jiwoong/WZG_DB/2016/pre_post_separated_220209/FakePhoton/CR/merged/MuonEG_Run2016G.root: 100%|██████████| 2/2 [00:00<00:00, 8042.77it/s]"
     ]
    },
    {
     "name": "stdout",
     "output_type": "stream",
     "text": [
      "is Data\n"
     ]
    },
    {
     "name": "stderr",
     "output_type": "stream",
     "text": [
      "\n"
     ]
    },
    {
     "name": "stdout",
     "output_type": "stream",
     "text": [
      "MuonEG Trigger\n",
      "after trigger 276\n",
      "after MET 196\n",
      "after pt 78\n",
      "after Zmass 12\n",
      "after bjet_veto 8\n",
      "after Photon ID 3\n",
      "after photon pt eta 3\n",
      "events:  3\n"
     ]
    },
    {
     "name": "stderr",
     "output_type": "stream",
     "text": [
      "fill photonPT for /eos/home-j/jiwoong/WZG_DB/2016/pre_post_separated_220209/FakePhoton/CR/merged/MuonEG_Run2016H.root: 100%|██████████| 3/3 [00:00<00:00, 8689.86it/s]"
     ]
    },
    {
     "name": "stdout",
     "output_type": "stream",
     "text": [
      "is Data\n"
     ]
    },
    {
     "name": "stderr",
     "output_type": "stream",
     "text": [
      "\n"
     ]
    },
    {
     "name": "stdout",
     "output_type": "stream",
     "text": [
      "SingleElectron trigger\n",
      "after trigger 17501\n",
      "after MET 6138\n",
      "after pt 803\n",
      "after Zmass 519\n",
      "after bjet_veto 499\n",
      "after Photon ID 120\n",
      "after photon pt eta 90\n",
      "events:  90\n"
     ]
    },
    {
     "name": "stderr",
     "output_type": "stream",
     "text": [
      "fill photonPT for /eos/home-j/jiwoong/WZG_DB/2016/pre_post_separated_220209/FakePhoton/CR/merged/SingleElectron_Run2016B.root: 100%|██████████| 90/90 [00:00<00:00, 135397.19it/s]"
     ]
    },
    {
     "name": "stdout",
     "output_type": "stream",
     "text": [
      "is Data\n"
     ]
    },
    {
     "name": "stderr",
     "output_type": "stream",
     "text": [
      "\n"
     ]
    },
    {
     "name": "stdout",
     "output_type": "stream",
     "text": [
      "SingleElectron trigger\n",
      "after trigger 7197\n",
      "after MET 2776\n",
      "after pt 293\n",
      "after Zmass 214\n",
      "after bjet_veto 195\n",
      "after Photon ID 44\n",
      "after photon pt eta 29\n",
      "events:  29\n"
     ]
    },
    {
     "name": "stderr",
     "output_type": "stream",
     "text": [
      "fill photonPT for /eos/home-j/jiwoong/WZG_DB/2016/pre_post_separated_220209/FakePhoton/CR/merged/SingleElectron_Run2016C.root: 100%|██████████| 29/29 [00:00<00:00, 112002.59it/s]"
     ]
    },
    {
     "name": "stdout",
     "output_type": "stream",
     "text": [
      "is Data\n"
     ]
    },
    {
     "name": "stderr",
     "output_type": "stream",
     "text": [
      "\n"
     ]
    },
    {
     "name": "stdout",
     "output_type": "stream",
     "text": [
      "SingleElectron trigger\n",
      "after trigger 12090\n",
      "after MET 4559\n",
      "after pt 749\n",
      "after Zmass 470\n",
      "after bjet_veto 439\n",
      "after Photon ID 97\n",
      "after photon pt eta 70\n",
      "events:  70\n"
     ]
    },
    {
     "name": "stderr",
     "output_type": "stream",
     "text": [
      "fill photonPT for /eos/home-j/jiwoong/WZG_DB/2016/pre_post_separated_220209/FakePhoton/CR/merged/SingleElectron_Run2016D.root: 100%|██████████| 70/70 [00:00<00:00, 152361.85it/s]"
     ]
    },
    {
     "name": "stdout",
     "output_type": "stream",
     "text": [
      "is Data\n"
     ]
    },
    {
     "name": "stderr",
     "output_type": "stream",
     "text": [
      "\n"
     ]
    },
    {
     "name": "stdout",
     "output_type": "stream",
     "text": [
      "SingleElectron trigger\n",
      "after trigger 10390\n",
      "after MET 4194\n",
      "after pt 700\n",
      "after Zmass 464\n",
      "after bjet_veto 446\n",
      "after Photon ID 92\n",
      "after photon pt eta 67\n",
      "events:  67\n"
     ]
    },
    {
     "name": "stderr",
     "output_type": "stream",
     "text": [
      "fill photonPT for /eos/home-j/jiwoong/WZG_DB/2016/pre_post_separated_220209/FakePhoton/CR/merged/SingleElectron_Run2016E.root: 100%|██████████| 67/67 [00:00<00:00, 163477.82it/s]"
     ]
    },
    {
     "name": "stdout",
     "output_type": "stream",
     "text": [
      "is Data\n"
     ]
    },
    {
     "name": "stderr",
     "output_type": "stream",
     "text": [
      "\n"
     ]
    },
    {
     "name": "stdout",
     "output_type": "stream",
     "text": [
      "SingleElectron trigger\n",
      "after trigger 8234\n",
      "after MET 3456\n",
      "after pt 617\n",
      "after Zmass 429\n",
      "after bjet_veto 413\n",
      "after Photon ID 103\n",
      "after photon pt eta 78\n",
      "events:  78\n"
     ]
    },
    {
     "name": "stderr",
     "output_type": "stream",
     "text": [
      "fill photonPT for /eos/home-j/jiwoong/WZG_DB/2016/pre_post_separated_220209/FakePhoton/CR/merged/SingleElectron_Run2016F.root: 100%|██████████| 78/78 [00:00<00:00, 166491.46it/s]"
     ]
    },
    {
     "name": "stdout",
     "output_type": "stream",
     "text": [
      "is Data\n"
     ]
    },
    {
     "name": "stderr",
     "output_type": "stream",
     "text": [
      "\n"
     ]
    },
    {
     "name": "stdout",
     "output_type": "stream",
     "text": [
      "SingleElectron trigger\n",
      "after trigger 23451\n",
      "after MET 9886\n",
      "after pt 2116\n",
      "after Zmass 1445\n",
      "after bjet_veto 1372\n",
      "after Photon ID 308\n",
      "after photon pt eta 228\n",
      "events:  228\n"
     ]
    },
    {
     "name": "stderr",
     "output_type": "stream",
     "text": [
      "fill photonPT for /eos/home-j/jiwoong/WZG_DB/2016/pre_post_separated_220209/FakePhoton/CR/merged/SingleElectron_Run2016G.root: 100%|██████████| 228/228 [00:00<00:00, 143481.07it/s]"
     ]
    },
    {
     "name": "stdout",
     "output_type": "stream",
     "text": [
      "is Data\n"
     ]
    },
    {
     "name": "stderr",
     "output_type": "stream",
     "text": [
      "\n"
     ]
    },
    {
     "name": "stdout",
     "output_type": "stream",
     "text": [
      "SingleElectron trigger\n",
      "after trigger 26053\n",
      "after MET 11373\n",
      "after pt 2627\n",
      "after Zmass 1797\n",
      "after bjet_veto 1684\n",
      "after Photon ID 331\n",
      "after photon pt eta 242\n",
      "events:  242\n"
     ]
    },
    {
     "name": "stderr",
     "output_type": "stream",
     "text": [
      "fill photonPT for /eos/home-j/jiwoong/WZG_DB/2016/pre_post_separated_220209/FakePhoton/CR/merged/SingleElectron_Run2016H.root: 100%|██████████| 242/242 [00:00<00:00, 169142.07it/s]"
     ]
    },
    {
     "name": "stdout",
     "output_type": "stream",
     "text": [
      "is Data\n"
     ]
    },
    {
     "name": "stderr",
     "output_type": "stream",
     "text": [
      "\n"
     ]
    },
    {
     "name": "stdout",
     "output_type": "stream",
     "text": [
      "SingleMuon trigger\n",
      "after trigger 26828\n",
      "after MET 9448\n",
      "after pt 1782\n",
      "after Zmass 1069\n",
      "after bjet_veto 986\n",
      "after Photon ID 257\n",
      "after photon pt eta 192\n",
      "events:  192\n"
     ]
    },
    {
     "name": "stderr",
     "output_type": "stream",
     "text": [
      "fill photonPT for /eos/home-j/jiwoong/WZG_DB/2016/pre_post_separated_220209/FakePhoton/CR/merged/SingleMuon_Run2016B.root: 100%|██████████| 192/192 [00:00<00:00, 210813.19it/s]"
     ]
    },
    {
     "name": "stdout",
     "output_type": "stream",
     "text": [
      "is Data\n"
     ]
    },
    {
     "name": "stderr",
     "output_type": "stream",
     "text": [
      "\n"
     ]
    },
    {
     "name": "stdout",
     "output_type": "stream",
     "text": [
      "SingleMuon trigger\n",
      "after trigger 12592\n",
      "after MET 4912\n",
      "after pt 1359\n",
      "after Zmass 788\n",
      "after bjet_veto 733\n",
      "after Photon ID 213\n",
      "after photon pt eta 169\n",
      "events:  169\n"
     ]
    },
    {
     "name": "stderr",
     "output_type": "stream",
     "text": [
      "fill photonPT for /eos/home-j/jiwoong/WZG_DB/2016/pre_post_separated_220209/FakePhoton/CR/merged/SingleMuon_Run2016C.root: 100%|██████████| 169/169 [00:00<00:00, 210337.50it/s]"
     ]
    },
    {
     "name": "stdout",
     "output_type": "stream",
     "text": [
      "is Data\n"
     ]
    },
    {
     "name": "stderr",
     "output_type": "stream",
     "text": [
      "\n"
     ]
    },
    {
     "name": "stdout",
     "output_type": "stream",
     "text": [
      "SingleMuon trigger\n",
      "after trigger 20697\n",
      "after MET 7969\n",
      "after pt 1919\n",
      "after Zmass 1111\n",
      "after bjet_veto 1035\n",
      "after Photon ID 241\n",
      "after photon pt eta 177\n",
      "events:  177\n"
     ]
    },
    {
     "name": "stderr",
     "output_type": "stream",
     "text": [
      "fill photonPT for /eos/home-j/jiwoong/WZG_DB/2016/pre_post_separated_220209/FakePhoton/CR/merged/SingleMuon_Run2016D.root: 100%|██████████| 177/177 [00:00<00:00, 179365.02it/s]"
     ]
    },
    {
     "name": "stdout",
     "output_type": "stream",
     "text": [
      "is Data\n"
     ]
    },
    {
     "name": "stderr",
     "output_type": "stream",
     "text": [
      "\n"
     ]
    },
    {
     "name": "stdout",
     "output_type": "stream",
     "text": [
      "SingleMuon trigger\n",
      "after trigger 18656\n",
      "after MET 7760\n",
      "after pt 1568\n",
      "after Zmass 901\n",
      "after bjet_veto 843\n",
      "after Photon ID 203\n",
      "after photon pt eta 156\n",
      "events:  156\n"
     ]
    },
    {
     "name": "stderr",
     "output_type": "stream",
     "text": [
      "fill photonPT for /eos/home-j/jiwoong/WZG_DB/2016/pre_post_separated_220209/FakePhoton/CR/merged/SingleMuon_Run2016E.root: 100%|██████████| 156/156 [00:00<00:00, 178969.21it/s]"
     ]
    },
    {
     "name": "stdout",
     "output_type": "stream",
     "text": [
      "is Data\n"
     ]
    },
    {
     "name": "stderr",
     "output_type": "stream",
     "text": [
      "\n"
     ]
    },
    {
     "name": "stdout",
     "output_type": "stream",
     "text": [
      "SingleMuon trigger\n",
      "after trigger 14784\n",
      "after MET 6263\n",
      "after pt 1296\n",
      "after Zmass 777\n",
      "after bjet_veto 728\n",
      "after Photon ID 191\n",
      "after photon pt eta 133\n",
      "events:  133\n"
     ]
    },
    {
     "name": "stderr",
     "output_type": "stream",
     "text": [
      "fill photonPT for /eos/home-j/jiwoong/WZG_DB/2016/pre_post_separated_220209/FakePhoton/CR/merged/SingleMuon_Run2016F.root: 100%|██████████| 133/133 [00:00<00:00, 141369.09it/s]"
     ]
    },
    {
     "name": "stdout",
     "output_type": "stream",
     "text": [
      "is Data\n"
     ]
    },
    {
     "name": "stderr",
     "output_type": "stream",
     "text": [
      "\n"
     ]
    },
    {
     "name": "stdout",
     "output_type": "stream",
     "text": [
      "SingleMuon trigger\n",
      "after trigger 40818\n",
      "after MET 17351\n",
      "after pt 4978\n",
      "after Zmass 2951\n",
      "after bjet_veto 2746\n",
      "after Photon ID 612\n",
      "after photon pt eta 459\n",
      "events:  459\n"
     ]
    },
    {
     "name": "stderr",
     "output_type": "stream",
     "text": [
      "fill photonPT for /eos/home-j/jiwoong/WZG_DB/2016/pre_post_separated_220209/FakePhoton/CR/merged/SingleMuon_Run2016G.root: 100%|██████████| 459/459 [00:00<00:00, 127217.71it/s]"
     ]
    },
    {
     "name": "stdout",
     "output_type": "stream",
     "text": [
      "is Data\n"
     ]
    },
    {
     "name": "stderr",
     "output_type": "stream",
     "text": [
      "\n"
     ]
    },
    {
     "name": "stdout",
     "output_type": "stream",
     "text": [
      "SingleMuon trigger\n",
      "after trigger 47810\n",
      "after MET 21097\n",
      "after pt 5866\n",
      "after Zmass 3533\n",
      "after bjet_veto 3282\n",
      "after Photon ID 748\n",
      "after photon pt eta 544\n",
      "events:  544\n"
     ]
    },
    {
     "name": "stderr",
     "output_type": "stream",
     "text": [
      "fill photonPT for /eos/home-j/jiwoong/WZG_DB/2016/pre_post_separated_220209/FakePhoton/CR/merged/SingleMuon_Run2016H.root: 100%|██████████| 544/544 [00:00<00:00, 170798.82it/s]"
     ]
    },
    {
     "name": "stdout",
     "output_type": "stream",
     "text": [
      "is MC\n"
     ]
    },
    {
     "name": "stderr",
     "output_type": "stream",
     "text": [
      "\n"
     ]
    },
    {
     "name": "stdout",
     "output_type": "stream",
     "text": [
      "isMC\n",
      "after trigger 32620\n",
      "after MET 29233\n",
      "after pt 25874\n",
      "after Zmass 4818\n",
      "after bjet_veto 1623\n",
      "after Photon ID 1243\n",
      "after photon pt eta 1010\n",
      "events:  1010\n"
     ]
    },
    {
     "name": "stderr",
     "output_type": "stream",
     "text": [
      "fill photonPT for /eos/home-j/jiwoong/WZG_DB/2016/pre_post_separated_220209/FakePhoton/CR/merged/TTGJets_TuneCP5_13TeV-amcatnloFXFX-madspin-pythia8_2016.root: 100%|██████████| 1010/1010 [00:00<00:00, 73417.22it/s]"
     ]
    },
    {
     "name": "stdout",
     "output_type": "stream",
     "text": [
      "is MC\n"
     ]
    },
    {
     "name": "stderr",
     "output_type": "stream",
     "text": [
      "\n"
     ]
    },
    {
     "name": "stdout",
     "output_type": "stream",
     "text": [
      "isMC\n",
      "after trigger 170133\n",
      "after MET 139256\n",
      "after pt 138880\n",
      "after Zmass 82450\n",
      "after bjet_veto 26878\n",
      "after Photon ID 6398\n",
      "after photon pt eta 4748\n",
      "events:  4748\n"
     ]
    },
    {
     "name": "stderr",
     "output_type": "stream",
     "text": [
      "fill photonPT for /eos/home-j/jiwoong/WZG_DB/2016/pre_post_separated_220209/FakePhoton/CR/merged/TTZToLLNuNu_M-10_TuneCP5_13TeV-amcatnlo-pythia8_2016.root: 100%|██████████| 4748/4748 [00:00<00:00, 112307.30it/s]"
     ]
    },
    {
     "name": "stdout",
     "output_type": "stream",
     "text": [
      "is MC\n"
     ]
    },
    {
     "name": "stderr",
     "output_type": "stream",
     "text": [
      "\n"
     ]
    },
    {
     "name": "stdout",
     "output_type": "stream",
     "text": [
      "isMC\n",
      "after trigger 45760\n",
      "after MET 41845\n",
      "after pt 40997\n",
      "after Zmass 7542\n",
      "after bjet_veto 2525\n",
      "after Photon ID 728\n",
      "after photon pt eta 533\n",
      "events:  533\n"
     ]
    },
    {
     "name": "stderr",
     "output_type": "stream",
     "text": [
      "fill photonPT for /eos/home-j/jiwoong/WZG_DB/2016/pre_post_separated_220209/FakePhoton/CR/merged/TTWJetsToLNu_TuneCP5_13TeV-amcatnloFXFX-madspin-pythia8_2016.root: 100%|██████████| 533/533 [00:00<00:00, 93350.76it/s]"
     ]
    },
    {
     "name": "stdout",
     "output_type": "stream",
     "text": [
      "is MC\n"
     ]
    },
    {
     "name": "stderr",
     "output_type": "stream",
     "text": [
      "\n"
     ]
    },
    {
     "name": "stdout",
     "output_type": "stream",
     "text": [
      "isMC\n",
      "after trigger 129340\n",
      "after MET 86420\n",
      "after pt 85754\n",
      "after Zmass 60320\n",
      "after bjet_veto 27413\n",
      "after Photon ID 6106\n",
      "after photon pt eta 4490\n",
      "events:  4490\n"
     ]
    },
    {
     "name": "stderr",
     "output_type": "stream",
     "text": [
      "fill photonPT for /eos/home-j/jiwoong/WZG_DB/2016/pre_post_separated_220209/FakePhoton/CR/merged/tZq_ll_4f_ckm_NLO_TuneCP5_13TeV-amcatnlo-pythia8_2016.root: 100%|██████████| 4490/4490 [00:00<00:00, 127996.80it/s]\n"
     ]
    },
    {
     "name": "stdout",
     "output_type": "stream",
     "text": [
      "is MC\n",
      "isMC\n",
      "after trigger 148\n",
      "after MET 134\n",
      "after pt 29\n",
      "after Zmass 2\n",
      "after bjet_veto 2\n",
      "after Photon ID 0\n",
      "after photon pt eta 0\n",
      "events:  0\n"
     ]
    },
    {
     "name": "stderr",
     "output_type": "stream",
     "text": [
      "fill photonPT for /eos/home-j/jiwoong/WZG_DB/2016/pre_post_separated_220209/FakePhoton/CR/merged/WWW_4F_TuneCP5_13TeV-amcatnlo-pythia8_2016.root: 0it [00:00, ?it/s]"
     ]
    },
    {
     "name": "stdout",
     "output_type": "stream",
     "text": [
      "is MC\n"
     ]
    },
    {
     "name": "stderr",
     "output_type": "stream",
     "text": [
      "\n"
     ]
    },
    {
     "name": "stdout",
     "output_type": "stream",
     "text": [
      "isMC\n",
      "after trigger 3877650\n",
      "after MET 1194133\n",
      "after pt 1171627\n",
      "after Zmass 432020\n",
      "after bjet_veto 424289\n",
      "after Photon ID 329358\n",
      "after photon pt eta 255597\n",
      "events:  255597\n"
     ]
    },
    {
     "name": "stderr",
     "output_type": "stream",
     "text": [
      "fill photonPT for /eos/home-j/jiwoong/WZG_DB/2016/pre_post_separated_220209/FakePhoton/CR/merged/ZGToLLG_01J_5f_TuneCP5_13TeV-amcatnloFXFX-pythia8_2016.root: 100%|██████████| 255597/255597 [00:02<00:00, 108546.12it/s]\n"
     ]
    },
    {
     "name": "stdout",
     "output_type": "stream",
     "text": [
      "is MC\n",
      "isMC\n",
      "after trigger 5896\n",
      "after MET 2329\n",
      "after pt 2027\n",
      "after Zmass 1548\n",
      "after bjet_veto 1431\n",
      "after Photon ID 357\n",
      "after photon pt eta 257\n",
      "events:  257\n"
     ]
    },
    {
     "name": "stderr",
     "output_type": "stream",
     "text": [
      "fill photonPT for /eos/home-j/jiwoong/WZG_DB/2016/pre_post_separated_220209/FakePhoton/CR/merged/ZZ_TuneCP5_13TeV-pythia8_2016.root: 100%|██████████| 257/257 [00:00<00:00, 104623.52it/s]"
     ]
    },
    {
     "name": "stdout",
     "output_type": "stream",
     "text": [
      "is MC\n"
     ]
    },
    {
     "name": "stderr",
     "output_type": "stream",
     "text": [
      "\n"
     ]
    },
    {
     "name": "stdout",
     "output_type": "stream",
     "text": [
      "isMC\n",
      "after trigger 23791\n",
      "after MET 18780\n",
      "after pt 18767\n",
      "after Zmass 6395\n",
      "after bjet_veto 6321\n",
      "after Photon ID 5003\n",
      "after photon pt eta 3917\n",
      "events:  3917\n"
     ]
    },
    {
     "name": "stderr",
     "output_type": "stream",
     "text": [
      "fill photonPT for /eos/home-j/jiwoong/WZG_DB/2016/pre_post_separated_220209/FakePhoton/CR/merged/wza_2016.root: 100%|██████████| 3917/3917 [00:00<00:00, 93769.59it/s]"
     ]
    },
    {
     "name": "stdout",
     "output_type": "stream",
     "text": [
      "is MC\n"
     ]
    },
    {
     "name": "stderr",
     "output_type": "stream",
     "text": [
      "\n"
     ]
    },
    {
     "name": "stdout",
     "output_type": "stream",
     "text": [
      "isMC\n",
      "after trigger 572\n",
      "after MET 457\n",
      "after pt 351\n",
      "after Zmass 192\n",
      "after bjet_veto 188\n",
      "after Photon ID 64\n",
      "after photon pt eta 47\n",
      "events:  47\n"
     ]
    },
    {
     "name": "stderr",
     "output_type": "stream",
     "text": [
      "fill photonPT for /eos/home-j/jiwoong/WZG_DB/2016/pre_post_separated_220209/FakePhoton/CR/merged/WWZ_4F_TuneCP5_13TeV-amcatnlo-pythia8_2016.root: 100%|██████████| 47/47 [00:00<00:00, 74983.75it/s]"
     ]
    },
    {
     "name": "stdout",
     "output_type": "stream",
     "text": [
      "is MC\n"
     ]
    },
    {
     "name": "stderr",
     "output_type": "stream",
     "text": [
      "\n"
     ]
    },
    {
     "name": "stdout",
     "output_type": "stream",
     "text": [
      "isMC\n",
      "after trigger 287912\n",
      "after MET 94017\n",
      "after pt 93906\n",
      "after Zmass 62940\n",
      "after bjet_veto 62243\n",
      "after Photon ID 44499\n",
      "after photon pt eta 34074\n",
      "events:  34074\n"
     ]
    },
    {
     "name": "stderr",
     "output_type": "stream",
     "text": [
      "fill photonPT for /eos/home-j/jiwoong/WZG_DB/2016/pre_post_separated_220209/FakePhoton/CR/merged/GluGluToContinToZZTo2e2mu_TuneCP5_13TeV-mcfm701-pythia8_2016.root: 100%|██████████| 34074/34074 [00:00<00:00, 114662.22it/s]\n"
     ]
    },
    {
     "name": "stdout",
     "output_type": "stream",
     "text": [
      "is MC\n",
      "isMC\n",
      "after trigger 36880\n",
      "after MET 22389\n",
      "after pt 22040\n",
      "after Zmass 16321\n",
      "after bjet_veto 16029\n",
      "after Photon ID 4046\n",
      "after photon pt eta 3208\n",
      "events:  3208\n"
     ]
    },
    {
     "name": "stderr",
     "output_type": "stream",
     "text": [
      "fill photonPT for /eos/home-j/jiwoong/WZG_DB/2016/pre_post_separated_220209/FakePhoton/CR/merged/GluGluToContinToZZTo2e2tau_TuneCP5_13TeV-mcfm701-pythia8_2016.root: 100%|██████████| 3208/3208 [00:00<00:00, 97407.79it/s]"
     ]
    },
    {
     "name": "stdout",
     "output_type": "stream",
     "text": [
      "is MC\n"
     ]
    },
    {
     "name": "stderr",
     "output_type": "stream",
     "text": [
      "\n"
     ]
    },
    {
     "name": "stdout",
     "output_type": "stream",
     "text": [
      "isMC\n",
      "after trigger 46554\n",
      "after MET 27426\n",
      "after pt 27076\n",
      "after Zmass 22469\n",
      "after bjet_veto 22094\n",
      "after Photon ID 5027\n",
      "after photon pt eta 3991\n",
      "events:  3991\n"
     ]
    },
    {
     "name": "stderr",
     "output_type": "stream",
     "text": [
      "fill photonPT for /eos/home-j/jiwoong/WZG_DB/2016/pre_post_separated_220209/FakePhoton/CR/merged/GluGluToContinToZZTo2mu2tau_TuneCP5_13TeV-mcfm701-pythia8_2016.root: 100%|██████████| 3991/3991 [00:00<00:00, 113319.66it/s]"
     ]
    },
    {
     "name": "stdout",
     "output_type": "stream",
     "text": [
      "is MC\n"
     ]
    },
    {
     "name": "stderr",
     "output_type": "stream",
     "text": [
      "\n"
     ]
    },
    {
     "name": "stdout",
     "output_type": "stream",
     "text": [
      "isMC\n",
      "after trigger 448806\n",
      "after MET 149564\n",
      "after pt 149529\n",
      "after Zmass 92167\n",
      "after bjet_veto 91240\n",
      "after Photon ID 65633\n",
      "after photon pt eta 48968\n",
      "events:  48968\n"
     ]
    },
    {
     "name": "stderr",
     "output_type": "stream",
     "text": [
      "fill photonPT for /eos/home-j/jiwoong/WZG_DB/2016/pre_post_separated_220209/FakePhoton/CR/merged/GluGluToContinToZZTo4e_TuneCP5_13TeV-mcfm701-pythia8_2016.root: 100%|██████████| 48968/48968 [00:00<00:00, 109151.39it/s]\n"
     ]
    },
    {
     "name": "stdout",
     "output_type": "stream",
     "text": [
      "is MC\n",
      "isMC\n",
      "after trigger 723069\n",
      "after MET 229703\n",
      "after pt 229263\n",
      "after Zmass 154925\n",
      "after bjet_veto 153190\n",
      "after Photon ID 108751\n",
      "after photon pt eta 92831\n",
      "events:  92831\n"
     ]
    },
    {
     "name": "stderr",
     "output_type": "stream",
     "text": [
      "fill photonPT for /eos/home-j/jiwoong/WZG_DB/2016/pre_post_separated_220209/FakePhoton/CR/merged/GluGluToContinToZZTo4mu_TuneCP5_13TeV-mcfm701-pythia8_2016.root: 100%|██████████| 92831/92831 [00:00<00:00, 116187.44it/s]\n"
     ]
    },
    {
     "name": "stdout",
     "output_type": "stream",
     "text": [
      "is MC\n",
      "isMC\n",
      "after trigger 3672\n",
      "after MET 2433\n",
      "after pt 1715\n",
      "after Zmass 271\n",
      "after bjet_veto 268\n",
      "after Photon ID 67\n",
      "after photon pt eta 53\n",
      "events:  53\n"
     ]
    },
    {
     "name": "stderr",
     "output_type": "stream",
     "text": [
      "fill photonPT for /eos/home-j/jiwoong/WZG_DB/2016/pre_post_separated_220209/FakePhoton/CR/merged/GluGluToContinToZZTo4tau_TuneCP5_13TeV-mcfm701-pythia8_2016.root: 100%|██████████| 53/53 [00:00<00:00, 81012.43it/s]"
     ]
    },
    {
     "name": "stdout",
     "output_type": "stream",
     "text": [
      "is Data\n"
     ]
    },
    {
     "name": "stderr",
     "output_type": "stream",
     "text": [
      "\n"
     ]
    },
    {
     "name": "stdout",
     "output_type": "stream",
     "text": [
      "after pt 124\n",
      "after Zmass 36\n",
      "after bjet_veto 34\n",
      "events:  5\n"
     ]
    },
    {
     "name": "stderr",
     "output_type": "stream",
     "text": [
      "fill photonPT for /eos/home-j/jiwoong/WZG_DB/2016/pre_post_separated_220209/FakePhoton/CR/merged/DoubleEG_Run2016B.root: 100%|██████████| 5/5 [00:00<00:00, 35305.59it/s]"
     ]
    },
    {
     "name": "stdout",
     "output_type": "stream",
     "text": [
      "is Data\n"
     ]
    },
    {
     "name": "stderr",
     "output_type": "stream",
     "text": [
      "\n"
     ]
    },
    {
     "name": "stdout",
     "output_type": "stream",
     "text": [
      "after pt 55\n",
      "after Zmass 21\n",
      "after bjet_veto 21\n",
      "events:  3\n"
     ]
    },
    {
     "name": "stderr",
     "output_type": "stream",
     "text": [
      "fill photonPT for /eos/home-j/jiwoong/WZG_DB/2016/pre_post_separated_220209/FakePhoton/CR/merged/DoubleEG_Run2016C.root: 100%|██████████| 3/3 [00:00<00:00, 26105.63it/s]"
     ]
    },
    {
     "name": "stdout",
     "output_type": "stream",
     "text": [
      "is Data\n"
     ]
    },
    {
     "name": "stderr",
     "output_type": "stream",
     "text": [
      "\n"
     ]
    },
    {
     "name": "stdout",
     "output_type": "stream",
     "text": [
      "after pt 111\n",
      "after Zmass 41\n",
      "after bjet_veto 39\n",
      "events:  5\n"
     ]
    },
    {
     "name": "stderr",
     "output_type": "stream",
     "text": [
      "fill photonPT for /eos/home-j/jiwoong/WZG_DB/2016/pre_post_separated_220209/FakePhoton/CR/merged/DoubleEG_Run2016D.root: 100%|██████████| 5/5 [00:00<00:00, 32513.98it/s]"
     ]
    },
    {
     "name": "stdout",
     "output_type": "stream",
     "text": [
      "is Data\n"
     ]
    },
    {
     "name": "stderr",
     "output_type": "stream",
     "text": [
      "\n"
     ]
    },
    {
     "name": "stdout",
     "output_type": "stream",
     "text": [
      "after pt 136\n",
      "after Zmass 55\n",
      "after bjet_veto 51\n",
      "events:  8\n"
     ]
    },
    {
     "name": "stderr",
     "output_type": "stream",
     "text": [
      "fill photonPT for /eos/home-j/jiwoong/WZG_DB/2016/pre_post_separated_220209/FakePhoton/CR/merged/DoubleEG_Run2016E.root: 100%|██████████| 8/8 [00:00<00:00, 49636.73it/s]"
     ]
    },
    {
     "name": "stdout",
     "output_type": "stream",
     "text": [
      "is Data\n"
     ]
    },
    {
     "name": "stderr",
     "output_type": "stream",
     "text": [
      "\n"
     ]
    },
    {
     "name": "stdout",
     "output_type": "stream",
     "text": [
      "after pt 62\n",
      "after Zmass 16\n",
      "after bjet_veto 15\n",
      "events:  4\n"
     ]
    },
    {
     "name": "stderr",
     "output_type": "stream",
     "text": [
      "fill photonPT for /eos/home-j/jiwoong/WZG_DB/2016/pre_post_separated_220209/FakePhoton/CR/merged/DoubleEG_Run2016F.root: 100%|██████████| 4/4 [00:00<00:00, 21816.93it/s]"
     ]
    },
    {
     "name": "stdout",
     "output_type": "stream",
     "text": [
      "is Data\n"
     ]
    },
    {
     "name": "stderr",
     "output_type": "stream",
     "text": [
      "\n"
     ]
    },
    {
     "name": "stdout",
     "output_type": "stream",
     "text": [
      "after pt 371\n",
      "after Zmass 150\n",
      "after bjet_veto 141\n",
      "events:  12\n"
     ]
    },
    {
     "name": "stderr",
     "output_type": "stream",
     "text": [
      "fill photonPT for /eos/home-j/jiwoong/WZG_DB/2016/pre_post_separated_220209/FakePhoton/CR/merged/DoubleEG_Run2016G.root: 100%|██████████| 12/12 [00:00<00:00, 70393.91it/s]"
     ]
    },
    {
     "name": "stdout",
     "output_type": "stream",
     "text": [
      "is Data\n"
     ]
    },
    {
     "name": "stderr",
     "output_type": "stream",
     "text": [
      "\n"
     ]
    },
    {
     "name": "stdout",
     "output_type": "stream",
     "text": [
      "after pt 372\n",
      "after Zmass 156\n",
      "after bjet_veto 151\n",
      "events:  30\n"
     ]
    },
    {
     "name": "stderr",
     "output_type": "stream",
     "text": [
      "fill photonPT for /eos/home-j/jiwoong/WZG_DB/2016/pre_post_separated_220209/FakePhoton/CR/merged/DoubleEG_Run2016H.root: 100%|██████████| 30/30 [00:00<00:00, 43240.25it/s]"
     ]
    },
    {
     "name": "stdout",
     "output_type": "stream",
     "text": [
      "is Data\n"
     ]
    },
    {
     "name": "stderr",
     "output_type": "stream",
     "text": [
      "\n"
     ]
    },
    {
     "name": "stdout",
     "output_type": "stream",
     "text": [
      "after pt 108\n",
      "after Zmass 24\n",
      "after bjet_veto 23\n",
      "events:  0\n"
     ]
    },
    {
     "name": "stderr",
     "output_type": "stream",
     "text": [
      "fill photonPT for /eos/home-j/jiwoong/WZG_DB/2016/pre_post_separated_220209/FakePhoton/CR/merged/DoubleMuon_Run2016B.root: 0it [00:00, ?it/s]"
     ]
    },
    {
     "name": "stdout",
     "output_type": "stream",
     "text": [
      "is Data\n"
     ]
    },
    {
     "name": "stderr",
     "output_type": "stream",
     "text": [
      "\n"
     ]
    },
    {
     "name": "stdout",
     "output_type": "stream",
     "text": [
      "after pt 103\n",
      "after Zmass 16\n",
      "after bjet_veto 14\n",
      "events:  2\n"
     ]
    },
    {
     "name": "stderr",
     "output_type": "stream",
     "text": [
      "fill photonPT for /eos/home-j/jiwoong/WZG_DB/2016/pre_post_separated_220209/FakePhoton/CR/merged/DoubleMuon_Run2016C.root: 100%|██████████| 2/2 [00:00<00:00, 18641.35it/s]"
     ]
    },
    {
     "name": "stdout",
     "output_type": "stream",
     "text": [
      "is Data\n"
     ]
    },
    {
     "name": "stderr",
     "output_type": "stream",
     "text": [
      "\n"
     ]
    },
    {
     "name": "stdout",
     "output_type": "stream",
     "text": [
      "after pt 117\n",
      "after Zmass 19\n",
      "after bjet_veto 17\n",
      "events:  3\n"
     ]
    },
    {
     "name": "stderr",
     "output_type": "stream",
     "text": [
      "fill photonPT for /eos/home-j/jiwoong/WZG_DB/2016/pre_post_separated_220209/FakePhoton/CR/merged/DoubleMuon_Run2016D.root: 100%|██████████| 3/3 [00:00<00:00, 27235.74it/s]"
     ]
    },
    {
     "name": "stdout",
     "output_type": "stream",
     "text": [
      "is Data\n"
     ]
    },
    {
     "name": "stderr",
     "output_type": "stream",
     "text": [
      "\n"
     ]
    },
    {
     "name": "stdout",
     "output_type": "stream",
     "text": [
      "after pt 179\n",
      "after Zmass 34\n",
      "after bjet_veto 34\n",
      "events:  7\n"
     ]
    },
    {
     "name": "stderr",
     "output_type": "stream",
     "text": [
      "fill photonPT for /eos/home-j/jiwoong/WZG_DB/2016/pre_post_separated_220209/FakePhoton/CR/merged/DoubleMuon_Run2016E.root: 100%|██████████| 7/7 [00:00<00:00, 43432.14it/s]"
     ]
    },
    {
     "name": "stdout",
     "output_type": "stream",
     "text": [
      "is Data\n"
     ]
    },
    {
     "name": "stderr",
     "output_type": "stream",
     "text": [
      "\n"
     ]
    },
    {
     "name": "stdout",
     "output_type": "stream",
     "text": [
      "after pt 143\n",
      "after Zmass 26\n",
      "after bjet_veto 25\n",
      "events:  2\n"
     ]
    },
    {
     "name": "stderr",
     "output_type": "stream",
     "text": [
      "fill photonPT for /eos/home-j/jiwoong/WZG_DB/2016/pre_post_separated_220209/FakePhoton/CR/merged/DoubleMuon_Run2016F.root: 100%|██████████| 2/2 [00:00<00:00, 19284.16it/s]"
     ]
    },
    {
     "name": "stdout",
     "output_type": "stream",
     "text": [
      "is Data\n"
     ]
    },
    {
     "name": "stderr",
     "output_type": "stream",
     "text": [
      "\n"
     ]
    },
    {
     "name": "stdout",
     "output_type": "stream",
     "text": [
      "after pt 545\n",
      "after Zmass 123\n",
      "after bjet_veto 112\n",
      "events:  14\n"
     ]
    },
    {
     "name": "stderr",
     "output_type": "stream",
     "text": [
      "fill photonPT for /eos/home-j/jiwoong/WZG_DB/2016/pre_post_separated_220209/FakePhoton/CR/merged/DoubleMuon_Run2016G.root: 100%|██████████| 14/14 [00:00<00:00, 87904.57it/s]"
     ]
    },
    {
     "name": "stdout",
     "output_type": "stream",
     "text": [
      "is Data\n"
     ]
    },
    {
     "name": "stderr",
     "output_type": "stream",
     "text": [
      "\n"
     ]
    },
    {
     "name": "stdout",
     "output_type": "stream",
     "text": [
      "after pt 519\n",
      "after Zmass 117\n",
      "after bjet_veto 109\n",
      "events:  14\n"
     ]
    },
    {
     "name": "stderr",
     "output_type": "stream",
     "text": [
      "fill photonPT for /eos/home-j/jiwoong/WZG_DB/2016/pre_post_separated_220209/FakePhoton/CR/merged/DoubleMuon_Run2016H.root: 100%|██████████| 14/14 [00:00<00:00, 87642.17it/s]"
     ]
    },
    {
     "name": "stdout",
     "output_type": "stream",
     "text": [
      "is Data\n"
     ]
    },
    {
     "name": "stderr",
     "output_type": "stream",
     "text": [
      "\n"
     ]
    },
    {
     "name": "stdout",
     "output_type": "stream",
     "text": [
      "after pt 63\n",
      "after Zmass 10\n",
      "after bjet_veto 6\n",
      "events:  0\n"
     ]
    },
    {
     "name": "stderr",
     "output_type": "stream",
     "text": [
      "fill photonPT for /eos/home-j/jiwoong/WZG_DB/2016/pre_post_separated_220209/FakePhoton/CR/merged/MuonEG_Run2016B.root: 0it [00:00, ?it/s]"
     ]
    },
    {
     "name": "stdout",
     "output_type": "stream",
     "text": [
      "is Data\n"
     ]
    },
    {
     "name": "stderr",
     "output_type": "stream",
     "text": [
      "\n"
     ]
    },
    {
     "name": "stdout",
     "output_type": "stream",
     "text": [
      "after pt 26\n",
      "after Zmass 7\n",
      "after bjet_veto 3\n",
      "events:  0\n"
     ]
    },
    {
     "name": "stderr",
     "output_type": "stream",
     "text": [
      "fill photonPT for /eos/home-j/jiwoong/WZG_DB/2016/pre_post_separated_220209/FakePhoton/CR/merged/MuonEG_Run2016C.root: 0it [00:00, ?it/s]"
     ]
    },
    {
     "name": "stdout",
     "output_type": "stream",
     "text": [
      "is Data\n"
     ]
    },
    {
     "name": "stderr",
     "output_type": "stream",
     "text": [
      "\n"
     ]
    },
    {
     "name": "stdout",
     "output_type": "stream",
     "text": [
      "after pt 40\n",
      "after Zmass 4\n",
      "after bjet_veto 2\n",
      "events:  0\n"
     ]
    },
    {
     "name": "stderr",
     "output_type": "stream",
     "text": [
      "fill photonPT for /eos/home-j/jiwoong/WZG_DB/2016/pre_post_separated_220209/FakePhoton/CR/merged/MuonEG_Run2016D.root: 0it [00:00, ?it/s]"
     ]
    },
    {
     "name": "stdout",
     "output_type": "stream",
     "text": [
      "is Data\n"
     ]
    },
    {
     "name": "stderr",
     "output_type": "stream",
     "text": [
      "\n"
     ]
    },
    {
     "name": "stdout",
     "output_type": "stream",
     "text": [
      "after pt 39\n",
      "after Zmass 5\n",
      "after bjet_veto 3\n",
      "events:  0\n"
     ]
    },
    {
     "name": "stderr",
     "output_type": "stream",
     "text": [
      "fill photonPT for /eos/home-j/jiwoong/WZG_DB/2016/pre_post_separated_220209/FakePhoton/CR/merged/MuonEG_Run2016E.root: 0it [00:00, ?it/s]"
     ]
    },
    {
     "name": "stdout",
     "output_type": "stream",
     "text": [
      "is Data\n"
     ]
    },
    {
     "name": "stderr",
     "output_type": "stream",
     "text": [
      "\n"
     ]
    },
    {
     "name": "stdout",
     "output_type": "stream",
     "text": [
      "after pt 25\n",
      "after Zmass 4\n",
      "after bjet_veto 4\n",
      "events:  2\n"
     ]
    },
    {
     "name": "stderr",
     "output_type": "stream",
     "text": [
      "fill photonPT for /eos/home-j/jiwoong/WZG_DB/2016/pre_post_separated_220209/FakePhoton/CR/merged/MuonEG_Run2016F.root: 100%|██████████| 2/2 [00:00<00:00, 9208.13it/s]"
     ]
    },
    {
     "name": "stdout",
     "output_type": "stream",
     "text": [
      "is Data\n"
     ]
    },
    {
     "name": "stderr",
     "output_type": "stream",
     "text": [
      "\n"
     ]
    },
    {
     "name": "stdout",
     "output_type": "stream",
     "text": [
      "after pt 118\n",
      "after Zmass 14\n",
      "after bjet_veto 8\n",
      "events:  1\n"
     ]
    },
    {
     "name": "stderr",
     "output_type": "stream",
     "text": [
      "fill photonPT for /eos/home-j/jiwoong/WZG_DB/2016/pre_post_separated_220209/FakePhoton/CR/merged/MuonEG_Run2016G.root: 100%|██████████| 1/1 [00:00<00:00, 10433.59it/s]"
     ]
    },
    {
     "name": "stdout",
     "output_type": "stream",
     "text": [
      "is Data\n"
     ]
    },
    {
     "name": "stderr",
     "output_type": "stream",
     "text": [
      "\n"
     ]
    },
    {
     "name": "stdout",
     "output_type": "stream",
     "text": [
      "after pt 78\n",
      "after Zmass 12\n",
      "after bjet_veto 8\n",
      "events:  0\n"
     ]
    },
    {
     "name": "stderr",
     "output_type": "stream",
     "text": [
      "fill photonPT for /eos/home-j/jiwoong/WZG_DB/2016/pre_post_separated_220209/FakePhoton/CR/merged/MuonEG_Run2016H.root: 0it [00:00, ?it/s]"
     ]
    },
    {
     "name": "stdout",
     "output_type": "stream",
     "text": [
      "is Data\n"
     ]
    },
    {
     "name": "stderr",
     "output_type": "stream",
     "text": [
      "\n"
     ]
    },
    {
     "name": "stdout",
     "output_type": "stream",
     "text": [
      "after pt 803\n",
      "after Zmass 519\n",
      "after bjet_veto 499\n",
      "events:  69\n"
     ]
    },
    {
     "name": "stderr",
     "output_type": "stream",
     "text": [
      "fill photonPT for /eos/home-j/jiwoong/WZG_DB/2016/pre_post_separated_220209/FakePhoton/CR/merged/SingleElectron_Run2016B.root: 100%|██████████| 69/69 [00:00<00:00, 142917.03it/s]"
     ]
    },
    {
     "name": "stdout",
     "output_type": "stream",
     "text": [
      "is Data\n"
     ]
    },
    {
     "name": "stderr",
     "output_type": "stream",
     "text": [
      "\n"
     ]
    },
    {
     "name": "stdout",
     "output_type": "stream",
     "text": [
      "after pt 293\n",
      "after Zmass 214\n",
      "after bjet_veto 195\n",
      "events:  25\n"
     ]
    },
    {
     "name": "stderr",
     "output_type": "stream",
     "text": [
      "fill photonPT for /eos/home-j/jiwoong/WZG_DB/2016/pre_post_separated_220209/FakePhoton/CR/merged/SingleElectron_Run2016C.root: 100%|██████████| 25/25 [00:00<00:00, 109569.07it/s]"
     ]
    },
    {
     "name": "stdout",
     "output_type": "stream",
     "text": [
      "is Data\n"
     ]
    },
    {
     "name": "stderr",
     "output_type": "stream",
     "text": [
      "\n"
     ]
    },
    {
     "name": "stdout",
     "output_type": "stream",
     "text": [
      "after pt 749\n",
      "after Zmass 470\n",
      "after bjet_veto 439\n",
      "events:  54\n"
     ]
    },
    {
     "name": "stderr",
     "output_type": "stream",
     "text": [
      "fill photonPT for /eos/home-j/jiwoong/WZG_DB/2016/pre_post_separated_220209/FakePhoton/CR/merged/SingleElectron_Run2016D.root: 100%|██████████| 54/54 [00:00<00:00, 148617.07it/s]"
     ]
    },
    {
     "name": "stdout",
     "output_type": "stream",
     "text": [
      "is Data\n"
     ]
    },
    {
     "name": "stderr",
     "output_type": "stream",
     "text": [
      "\n"
     ]
    },
    {
     "name": "stdout",
     "output_type": "stream",
     "text": [
      "after pt 700\n",
      "after Zmass 464\n",
      "after bjet_veto 446\n",
      "events:  62\n"
     ]
    },
    {
     "name": "stderr",
     "output_type": "stream",
     "text": [
      "fill photonPT for /eos/home-j/jiwoong/WZG_DB/2016/pre_post_separated_220209/FakePhoton/CR/merged/SingleElectron_Run2016E.root: 100%|██████████| 62/62 [00:00<00:00, 158468.52it/s]"
     ]
    },
    {
     "name": "stdout",
     "output_type": "stream",
     "text": [
      "is Data\n"
     ]
    },
    {
     "name": "stderr",
     "output_type": "stream",
     "text": [
      "\n"
     ]
    },
    {
     "name": "stdout",
     "output_type": "stream",
     "text": [
      "after pt 617\n",
      "after Zmass 429\n",
      "after bjet_veto 413\n",
      "events:  66\n"
     ]
    },
    {
     "name": "stderr",
     "output_type": "stream",
     "text": [
      "fill photonPT for /eos/home-j/jiwoong/WZG_DB/2016/pre_post_separated_220209/FakePhoton/CR/merged/SingleElectron_Run2016F.root: 100%|██████████| 66/66 [00:00<00:00, 153195.39it/s]"
     ]
    },
    {
     "name": "stdout",
     "output_type": "stream",
     "text": [
      "is Data\n"
     ]
    },
    {
     "name": "stderr",
     "output_type": "stream",
     "text": [
      "\n"
     ]
    },
    {
     "name": "stdout",
     "output_type": "stream",
     "text": [
      "after pt 2116\n",
      "after Zmass 1445\n",
      "after bjet_veto 1372\n",
      "events:  200\n"
     ]
    },
    {
     "name": "stderr",
     "output_type": "stream",
     "text": [
      "fill photonPT for /eos/home-j/jiwoong/WZG_DB/2016/pre_post_separated_220209/FakePhoton/CR/merged/SingleElectron_Run2016G.root: 100%|██████████| 200/200 [00:00<00:00, 164611.62it/s]"
     ]
    },
    {
     "name": "stdout",
     "output_type": "stream",
     "text": [
      "is Data\n"
     ]
    },
    {
     "name": "stderr",
     "output_type": "stream",
     "text": [
      "\n"
     ]
    },
    {
     "name": "stdout",
     "output_type": "stream",
     "text": [
      "after pt 2627\n",
      "after Zmass 1797\n",
      "after bjet_veto 1684\n",
      "events:  232\n"
     ]
    },
    {
     "name": "stderr",
     "output_type": "stream",
     "text": [
      "fill photonPT for /eos/home-j/jiwoong/WZG_DB/2016/pre_post_separated_220209/FakePhoton/CR/merged/SingleElectron_Run2016H.root: 100%|██████████| 232/232 [00:00<00:00, 183253.96it/s]"
     ]
    },
    {
     "name": "stdout",
     "output_type": "stream",
     "text": [
      "is Data\n"
     ]
    },
    {
     "name": "stderr",
     "output_type": "stream",
     "text": [
      "\n"
     ]
    },
    {
     "name": "stdout",
     "output_type": "stream",
     "text": [
      "after pt 1782\n",
      "after Zmass 1069\n",
      "after bjet_veto 986\n",
      "events:  139\n"
     ]
    },
    {
     "name": "stderr",
     "output_type": "stream",
     "text": [
      "fill photonPT for /eos/home-j/jiwoong/WZG_DB/2016/pre_post_separated_220209/FakePhoton/CR/merged/SingleMuon_Run2016B.root: 100%|██████████| 139/139 [00:00<00:00, 166859.83it/s]"
     ]
    },
    {
     "name": "stdout",
     "output_type": "stream",
     "text": [
      "is Data\n"
     ]
    },
    {
     "name": "stderr",
     "output_type": "stream",
     "text": [
      "\n"
     ]
    },
    {
     "name": "stdout",
     "output_type": "stream",
     "text": [
      "after pt 1359\n",
      "after Zmass 788\n",
      "after bjet_veto 733\n",
      "events:  110\n"
     ]
    },
    {
     "name": "stderr",
     "output_type": "stream",
     "text": [
      "fill photonPT for /eos/home-j/jiwoong/WZG_DB/2016/pre_post_separated_220209/FakePhoton/CR/merged/SingleMuon_Run2016C.root: 100%|██████████| 110/110 [00:00<00:00, 172540.55it/s]"
     ]
    },
    {
     "name": "stdout",
     "output_type": "stream",
     "text": [
      "is Data\n"
     ]
    },
    {
     "name": "stderr",
     "output_type": "stream",
     "text": [
      "\n"
     ]
    },
    {
     "name": "stdout",
     "output_type": "stream",
     "text": [
      "after pt 1919\n",
      "after Zmass 1111\n",
      "after bjet_veto 1035\n",
      "events:  147\n"
     ]
    },
    {
     "name": "stderr",
     "output_type": "stream",
     "text": [
      "fill photonPT for /eos/home-j/jiwoong/WZG_DB/2016/pre_post_separated_220209/FakePhoton/CR/merged/SingleMuon_Run2016D.root: 100%|██████████| 147/147 [00:00<00:00, 152955.27it/s]"
     ]
    },
    {
     "name": "stdout",
     "output_type": "stream",
     "text": [
      "is Data\n"
     ]
    },
    {
     "name": "stderr",
     "output_type": "stream",
     "text": [
      "\n"
     ]
    },
    {
     "name": "stdout",
     "output_type": "stream",
     "text": [
      "after pt 1568\n",
      "after Zmass 901\n",
      "after bjet_veto 843\n",
      "events:  111\n"
     ]
    },
    {
     "name": "stderr",
     "output_type": "stream",
     "text": [
      "fill photonPT for /eos/home-j/jiwoong/WZG_DB/2016/pre_post_separated_220209/FakePhoton/CR/merged/SingleMuon_Run2016E.root: 100%|██████████| 111/111 [00:00<00:00, 141941.39it/s]"
     ]
    },
    {
     "name": "stdout",
     "output_type": "stream",
     "text": [
      "is Data\n"
     ]
    },
    {
     "name": "stderr",
     "output_type": "stream",
     "text": [
      "\n"
     ]
    },
    {
     "name": "stdout",
     "output_type": "stream",
     "text": [
      "after pt 1296\n",
      "after Zmass 777\n",
      "after bjet_veto 728\n",
      "events:  83\n"
     ]
    },
    {
     "name": "stderr",
     "output_type": "stream",
     "text": [
      "fill photonPT for /eos/home-j/jiwoong/WZG_DB/2016/pre_post_separated_220209/FakePhoton/CR/merged/SingleMuon_Run2016F.root: 100%|██████████| 83/83 [00:00<00:00, 137654.11it/s]"
     ]
    },
    {
     "name": "stdout",
     "output_type": "stream",
     "text": [
      "is Data\n"
     ]
    },
    {
     "name": "stderr",
     "output_type": "stream",
     "text": [
      "\n"
     ]
    },
    {
     "name": "stdout",
     "output_type": "stream",
     "text": [
      "after pt 4978\n",
      "after Zmass 2951\n",
      "after bjet_veto 2746\n",
      "events:  388\n"
     ]
    },
    {
     "name": "stderr",
     "output_type": "stream",
     "text": [
      "fill photonPT for /eos/home-j/jiwoong/WZG_DB/2016/pre_post_separated_220209/FakePhoton/CR/merged/SingleMuon_Run2016G.root: 100%|██████████| 388/388 [00:00<00:00, 102075.52it/s]"
     ]
    },
    {
     "name": "stdout",
     "output_type": "stream",
     "text": [
      "is Data\n"
     ]
    },
    {
     "name": "stderr",
     "output_type": "stream",
     "text": [
      "\n"
     ]
    },
    {
     "name": "stdout",
     "output_type": "stream",
     "text": [
      "after pt 5866\n",
      "after Zmass 3533\n",
      "after bjet_veto 3282\n",
      "events:  479\n"
     ]
    },
    {
     "name": "stderr",
     "output_type": "stream",
     "text": [
      "fill photonPT for /eos/home-j/jiwoong/WZG_DB/2016/pre_post_separated_220209/FakePhoton/CR/merged/SingleMuon_Run2016H.root: 100%|██████████| 479/479 [00:00<00:00, 198898.29it/s]\n"
     ]
    },
    {
     "name": "stdout",
     "output_type": "stream",
     "text": [
      "after pt 25874\n",
      "after Zmass 4818\n",
      "after bjet_veto 1623\n",
      "events:  50\n"
     ]
    },
    {
     "name": "stderr",
     "output_type": "stream",
     "text": [
      "fill photonPT for /eos/home-j/jiwoong/WZG_DB/2016/pre_post_separated_220209/FakePhoton/CR/merged/TTGJets_TuneCP5_13TeV-amcatnloFXFX-madspin-pythia8_2016.root: 100%|██████████| 50/50 [00:00<00:00, 73843.38it/s]\n"
     ]
    },
    {
     "name": "stdout",
     "output_type": "stream",
     "text": [
      "after pt 138880\n",
      "after Zmass 82450\n",
      "after bjet_veto 26878\n",
      "events:  3643\n"
     ]
    },
    {
     "name": "stderr",
     "output_type": "stream",
     "text": [
      "fill photonPT for /eos/home-j/jiwoong/WZG_DB/2016/pre_post_separated_220209/FakePhoton/CR/merged/TTZToLLNuNu_M-10_TuneCP5_13TeV-amcatnlo-pythia8_2016.root: 100%|██████████| 3643/3643 [00:00<00:00, 118882.50it/s]\n"
     ]
    },
    {
     "name": "stdout",
     "output_type": "stream",
     "text": [
      "after pt 40997\n",
      "after Zmass 7542\n",
      "after bjet_veto 2525\n",
      "events:  303\n"
     ]
    },
    {
     "name": "stderr",
     "output_type": "stream",
     "text": [
      "fill photonPT for /eos/home-j/jiwoong/WZG_DB/2016/pre_post_separated_220209/FakePhoton/CR/merged/TTWJetsToLNu_TuneCP5_13TeV-amcatnloFXFX-madspin-pythia8_2016.root: 100%|██████████| 303/303 [00:00<00:00, 101483.20it/s]\n"
     ]
    },
    {
     "name": "stdout",
     "output_type": "stream",
     "text": [
      "after pt 85754\n",
      "after Zmass 60320\n",
      "after bjet_veto 27413\n",
      "events:  3356\n"
     ]
    },
    {
     "name": "stderr",
     "output_type": "stream",
     "text": [
      "fill photonPT for /eos/home-j/jiwoong/WZG_DB/2016/pre_post_separated_220209/FakePhoton/CR/merged/tZq_ll_4f_ckm_NLO_TuneCP5_13TeV-amcatnlo-pythia8_2016.root: 100%|██████████| 3356/3356 [00:00<00:00, 116152.73it/s]\n"
     ]
    },
    {
     "name": "stdout",
     "output_type": "stream",
     "text": [
      "after pt 29\n",
      "after Zmass 2\n",
      "after bjet_veto 2\n",
      "events:  0\n"
     ]
    },
    {
     "name": "stderr",
     "output_type": "stream",
     "text": [
      "fill photonPT for /eos/home-j/jiwoong/WZG_DB/2016/pre_post_separated_220209/FakePhoton/CR/merged/WWW_4F_TuneCP5_13TeV-amcatnlo-pythia8_2016.root: 0it [00:00, ?it/s]\n"
     ]
    },
    {
     "name": "stdout",
     "output_type": "stream",
     "text": [
      "after pt 1171627\n",
      "after Zmass 432020\n",
      "after bjet_veto 424289\n",
      "events:  10085\n"
     ]
    },
    {
     "name": "stderr",
     "output_type": "stream",
     "text": [
      "fill photonPT for /eos/home-j/jiwoong/WZG_DB/2016/pre_post_separated_220209/FakePhoton/CR/merged/ZGToLLG_01J_5f_TuneCP5_13TeV-amcatnloFXFX-pythia8_2016.root: 100%|██████████| 10085/10085 [00:00<00:00, 116825.40it/s]\n"
     ]
    },
    {
     "name": "stdout",
     "output_type": "stream",
     "text": [
      "after pt 2027\n",
      "after Zmass 1548\n",
      "after bjet_veto 1431\n",
      "events:  191\n"
     ]
    },
    {
     "name": "stderr",
     "output_type": "stream",
     "text": [
      "fill photonPT for /eos/home-j/jiwoong/WZG_DB/2016/pre_post_separated_220209/FakePhoton/CR/merged/ZZ_TuneCP5_13TeV-pythia8_2016.root: 100%|██████████| 191/191 [00:00<00:00, 70408.86it/s]\n"
     ]
    },
    {
     "name": "stdout",
     "output_type": "stream",
     "text": [
      "after pt 18767\n",
      "after Zmass 6395\n",
      "after bjet_veto 6321\n",
      "events:  114\n"
     ]
    },
    {
     "name": "stderr",
     "output_type": "stream",
     "text": [
      "fill photonPT for /eos/home-j/jiwoong/WZG_DB/2016/pre_post_separated_220209/FakePhoton/CR/merged/wza_2016.root: 100%|██████████| 114/114 [00:00<00:00, 90593.15it/s]\n"
     ]
    },
    {
     "name": "stdout",
     "output_type": "stream",
     "text": [
      "after pt 351\n",
      "after Zmass 192\n",
      "after bjet_veto 188\n",
      "events:  24\n"
     ]
    },
    {
     "name": "stderr",
     "output_type": "stream",
     "text": [
      "fill photonPT for /eos/home-j/jiwoong/WZG_DB/2016/pre_post_separated_220209/FakePhoton/CR/merged/WWZ_4F_TuneCP5_13TeV-amcatnlo-pythia8_2016.root: 100%|██████████| 24/24 [00:00<00:00, 63111.78it/s]\n"
     ]
    },
    {
     "name": "stdout",
     "output_type": "stream",
     "text": [
      "after pt 93906\n",
      "after Zmass 62940\n",
      "after bjet_veto 62243\n",
      "events:  1514\n"
     ]
    },
    {
     "name": "stderr",
     "output_type": "stream",
     "text": [
      "fill photonPT for /eos/home-j/jiwoong/WZG_DB/2016/pre_post_separated_220209/FakePhoton/CR/merged/GluGluToContinToZZTo2e2mu_TuneCP5_13TeV-mcfm701-pythia8_2016.root: 100%|██████████| 1514/1514 [00:00<00:00, 112354.72it/s]\n"
     ]
    },
    {
     "name": "stdout",
     "output_type": "stream",
     "text": [
      "after pt 22040\n",
      "after Zmass 16321\n",
      "after bjet_veto 16029\n",
      "events:  3286\n"
     ]
    },
    {
     "name": "stderr",
     "output_type": "stream",
     "text": [
      "fill photonPT for /eos/home-j/jiwoong/WZG_DB/2016/pre_post_separated_220209/FakePhoton/CR/merged/GluGluToContinToZZTo2e2tau_TuneCP5_13TeV-mcfm701-pythia8_2016.root: 100%|██████████| 3286/3286 [00:00<00:00, 118385.87it/s]\n"
     ]
    },
    {
     "name": "stdout",
     "output_type": "stream",
     "text": [
      "after pt 27076\n",
      "after Zmass 22469\n",
      "after bjet_veto 22094\n",
      "events:  4865\n"
     ]
    },
    {
     "name": "stderr",
     "output_type": "stream",
     "text": [
      "fill photonPT for /eos/home-j/jiwoong/WZG_DB/2016/pre_post_separated_220209/FakePhoton/CR/merged/GluGluToContinToZZTo2mu2tau_TuneCP5_13TeV-mcfm701-pythia8_2016.root: 100%|██████████| 4865/4865 [00:00<00:00, 99719.44it/s]\n"
     ]
    },
    {
     "name": "stdout",
     "output_type": "stream",
     "text": [
      "after pt 149529\n",
      "after Zmass 92167\n",
      "after bjet_veto 91240\n",
      "events:  1827\n"
     ]
    },
    {
     "name": "stderr",
     "output_type": "stream",
     "text": [
      "fill photonPT for /eos/home-j/jiwoong/WZG_DB/2016/pre_post_separated_220209/FakePhoton/CR/merged/GluGluToContinToZZTo4e_TuneCP5_13TeV-mcfm701-pythia8_2016.root: 100%|██████████| 1827/1827 [00:00<00:00, 93978.33it/s]\n"
     ]
    },
    {
     "name": "stdout",
     "output_type": "stream",
     "text": [
      "after pt 229263\n",
      "after Zmass 154925\n",
      "after bjet_veto 153190\n",
      "events:  4393\n"
     ]
    },
    {
     "name": "stderr",
     "output_type": "stream",
     "text": [
      "fill photonPT for /eos/home-j/jiwoong/WZG_DB/2016/pre_post_separated_220209/FakePhoton/CR/merged/GluGluToContinToZZTo4mu_TuneCP5_13TeV-mcfm701-pythia8_2016.root: 100%|██████████| 4393/4393 [00:00<00:00, 111227.95it/s]\n"
     ]
    },
    {
     "name": "stdout",
     "output_type": "stream",
     "text": [
      "after pt 1715\n",
      "after Zmass 271\n",
      "after bjet_veto 268\n",
      "events:  54\n"
     ]
    },
    {
     "name": "stderr",
     "output_type": "stream",
     "text": [
      "fill photonPT for /eos/home-j/jiwoong/WZG_DB/2016/pre_post_separated_220209/FakePhoton/CR/merged/GluGluToContinToZZTo4tau_TuneCP5_13TeV-mcfm701-pythia8_2016.root: 100%|██████████| 54/54 [00:00<00:00, 49066.81it/s]\n"
     ]
    }
   ],
   "source": [
    "from array import array\n",
    "\n",
    "\n",
    "\n",
    "# Origin\n",
    "xbins_EB = [20,30,50,80,120,180]\n",
    "xbins_EE = [20,50,180]\n",
    "\n",
    "# Tunning\n",
    "#xbins_EB = [20,35,400]\n",
    "#xbins_EE = [20,400]\n",
    "\n",
    "\n",
    "\n",
    "isbarrel = 1 # barrel\n",
    "#isbarrel = 0 # endcap\n",
    "\n",
    "\n",
    "nbins=-1\n",
    "if isbarrel == 1:\n",
    "    xbins = xbins_EB\n",
    "    nbins = len(xbins_EB) - 1\n",
    "elif isbarrel ==0:\n",
    "    xbins = xbins_EE\n",
    "    nbins = len(xbins_EE) - 1\n",
    "else:\n",
    "    print(\"wrong!\")\n",
    "    \n",
    "# Data template\n",
    "hist_data = ROOT.TH1F(\"\",\"\",nbins,array('d',xbins))\n",
    "hist_data.Sumw2()\n",
    "# data\n",
    "for file in filelist_data:\n",
    "    AddHist_data(file, hist_data, isbarrel)   \n",
    "# MC\n",
    "for file in filelist_MC:\n",
    "    AddHist_data(filelist_MC[file]['path'], hist_data,isbarrel,False,filelist_MC[file]['xsec'],35.86)                    \n",
    "\n",
    "    \n",
    "    \n",
    "# --Fake template\n",
    "hist_datafake = ROOT.TH1F(\"\",\"\",nbins,array('d',xbins))\n",
    "hist_datafake.Sumw2()\n",
    "# data\n",
    "for file in filelist_data:\n",
    "    AddHist_dataFake(file, hist_datafake,isbarrel,True)\n",
    "# MC\n",
    "for file in filelist_MC:\n",
    "    AddHist_dataFake(filelist_MC[file]['path'], hist_datafake,isbarrel,False,filelist_MC[file]['xsec'],35.86)\n",
    "    \n",
    "    \n"
   ]
  },
  {
   "cell_type": "code",
   "execution_count": 9,
   "id": "4c7cfcab",
   "metadata": {},
   "outputs": [
    {
     "name": "stdout",
     "output_type": "stream",
     "text": [
      "35.86 fb^{-1} (13 TeV)\n"
     ]
    },
    {
     "data": {
      "image/png": "[encoded data removed]",
      "text/plain": [
       "<IPython.core.display.Image object>"
      ]
     },
     "metadata": {},
     "output_type": "display_data"
    }
   ],
   "source": [
    "c1 = ROOT.TCanvas(\"\",\"\",1000,800)\n",
    "c1.Draw()\n",
    "\n",
    "hist_data.GetXaxis().SetTitle(\"photon P_{T} [GeV]\")\n",
    "hist_data.GetYaxis().SetTitle(\"Events/bin\")\n",
    "hist_data.SetMarkerStyle(0)\n",
    "hist_data.SetLineColor(4)\n",
    "hist_data.SetLineWidth(3)\n",
    "hist_data.Draw(\"HIST e\")\n",
    "\n",
    "\n",
    "\n",
    "hist_datafake.SetMarkerStyle(0)\n",
    "hist_datafake.SetLineColor(2)\n",
    "hist_datafake.SetLineWidth(3)\n",
    "hist_datafake.Draw(\"HIST SAME e\")\n",
    "\n",
    "legend = ROOT.TLegend(0.65, 0.65, 0.80, 0.85)\n",
    "legend.SetBorderSize(0)\n",
    "legend.SetFillColor(0)\n",
    "legend.SetTextSize(0.020)\n",
    "legend.SetLineWidth(1)\n",
    "legend.SetLineStyle(0)\n",
    "legend.AddEntry(hist_data,'data template with full selection')\n",
    "legend.AddEntry(hist_datafake,'fake template with full selection')\n",
    "legend.Draw(\"SAME\")\n",
    "\n",
    "\n",
    "\n",
    "\n",
    "ROOT.gPad.SetLogx()\n",
    "ROOT.gPad.SetGrid()\n",
    "\n",
    "CMS_lumi(c1,0,0)"
   ]
  },
  {
   "cell_type": "markdown",
   "id": "fe251d0d",
   "metadata": {},
   "source": [
    "### Calculate FakeWeight"
   ]
  },
  {
   "cell_type": "code",
   "execution_count": 10,
   "id": "1f8c44ce",
   "metadata": {},
   "outputs": [
    {
     "name": "stdout",
     "output_type": "stream",
     "text": [
      "2016\t\t\t\t    images\r\n",
      "2017\t\t\t\t    log.csv\r\n",
      "2018\t\t\t\t    Lumi.py\r\n",
      "a\t\t\t\t    MagicDraw\r\n",
      "Combined_plot_2016.ipynb\t    Merged_file\r\n",
      "Combined_plot_FakeLepton2016.ipynb  Merged_file_211028\r\n",
      "Combined_plot.ipynb\t\t    Merged_file_FakePhoton_211128\r\n",
      "Combined_plot_SR2016.ipynb\t    Mu_Fake_Rate_2D_2016.root\r\n",
      "Combined_plot_ZZ2016.ipynb\t    npy_dict\r\n",
      "DataTemplate_EB_data.root\t    pickle_dict\r\n",
      "DataTemplate_EE_data.root\t    pickle_dict_sample\r\n",
      "Electron_channel\t\t    __pycache__\r\n",
      "Ele_Fake_Rate_2D_2016.root\t    Ratio_Plot.py\r\n",
      "fakefraction_real.csv\t\t    results_2016\r\n",
      "FakeLepton2016_Ele.ipynb\t    Scale_PDF_Unc.ipynb\r\n",
      "FakeLepton2016_Mu.ipynb\t\t    TDR_Style.py\r\n",
      "FakeLepton2017_Ele.ipynb\t    Template_Fit_2016.ipynb\r\n",
      "FakeLepton2018_Ele.ipynb\t    Template_Fit_AR_2017.ipynb\r\n",
      "FakeLepton_SingleEle_check.ipynb    Template_Fit_AR_2018.ipynb\r\n",
      "FakePhoton_2017-2018_hist_ref\t    Template_Fit.ipynb\r\n",
      "FakeTemplate_EB_fake.root\t    Test_Fit.ipynb\r\n",
      "FakeTemplate_EE_fake.root\t    WZG_sample\r\n",
      "FakeWeight_2016.ipynb\t\t    Yeop_test.ipynb\r\n"
     ]
    }
   ],
   "source": [
    "file1 = ROOT.TFile(\"DataTemplate_EB_data.root\",\"recreate\")\n",
    "file1.cd()\n",
    "hist_data.Write()\n",
    "file1.Close()\n",
    "\n",
    "file2 = ROOT.TFile(\"FakeTemplate_EB_fake.root\",\"recreate\")\n",
    "file2.cd()\n",
    "hist_datafake.Write()\n",
    "file2.Close()\n",
    "\n",
    "!ls"
   ]
  },
  {
   "cell_type": "code",
   "execution_count": 11,
   "id": "3a4a172f",
   "metadata": {},
   "outputs": [],
   "source": [
    "fake_fraction_2016 = {\"Barrel\":[0.293,0.228,0.233,0.175,0.152],\n",
    "                    \"Endcap\":[0.434,0.29]}"
   ]
  },
  {
   "cell_type": "code",
   "execution_count": 12,
   "id": "3d961fa3",
   "metadata": {},
   "outputs": [
    {
     "name": "stdout",
     "output_type": "stream",
     "text": [
      "1th  ydata: 5490.61962890625 yfake:  1361.936279296875 ydata/yfake: 4.03 fake fraction: 0.293 fake weight: 1.18\n",
      "2th  ydata: 3796.360107421875 yfake:  787.2744140625 ydata/yfake: 4.82 fake fraction: 0.228 fake weight: 1.10\n",
      "3th  ydata: 1621.7794189453125 yfake:  332.2588806152344 ydata/yfake: 4.88 fake fraction: 0.233 fake weight: 1.14\n",
      "4th  ydata: 626.3883056640625 yfake:  120.78445434570312 ydata/yfake: 5.19 fake fraction: 0.175 fake weight: 0.91\n",
      "5th  ydata: 292.6216125488281 yfake:  44.704856872558594 ydata/yfake: 6.55 fake fraction: 0.152 fake weight: 0.99\n"
     ]
    }
   ],
   "source": [
    "for i in range(1,hist_data.GetNbinsX()+1):\n",
    "    \n",
    "    ydata= hist_data.GetBinContent(i)\n",
    "    yfake= hist_datafake.GetBinContent(i)\n",
    "    \n",
    "    j = i-1\n",
    "\n",
    "    if isbarrel == 1:\n",
    "        fake_fraction = fake_fraction_2016['Barrel'][j]\n",
    "    elif isbarrel ==0:\n",
    "        fake_fraction = fake_fraction_2016['Endcap'][j]\n",
    "    \n",
    "    \n",
    "    if (ydata == 0) or (yfake == 0):\n",
    "        ratio = 0\n",
    "    else:\n",
    "        ratio = ydata / yfake\n",
    "    \n",
    "    fake_weight = ratio * fake_fraction\n",
    "    print(\"{0}th  ydata: {1} yfake:  {2} ydata/yfake: {3:.2f} fake fraction: {4} fake weight: {5:.2f}\".format(i,ydata,yfake,ratio,fake_fraction,fake_weight))"
   ]
  },
  {
   "cell_type": "markdown",
   "id": "58f6dd6c",
   "metadata": {},
   "source": [
    "---"
   ]
  },
  {
   "cell_type": "markdown",
   "id": "0741da88",
   "metadata": {},
   "source": [
    "---"
   ]
  }
 ],
 "metadata": {
  "kernelspec": {
   "display_name": "Python 3",
   "language": "python",
   "name": "python3"
  },
  "language_info": {
   "codemirror_mode": {
    "name": "ipython",
    "version": 3
   },
   "file_extension": ".py",
   "mimetype": "text/x-python",
   "name": "python",
   "nbconvert_exporter": "python",
   "pygments_lexer": "ipython3",
   "version": "3.9.6"
  }
 },
 "nbformat": 4,
 "nbformat_minor": 5
}
