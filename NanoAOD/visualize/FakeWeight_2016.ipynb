{
 "cells": [
  {
   "cell_type": "code",
   "execution_count": 1,
   "id": "b855777e",
   "metadata": {},
   "outputs": [
    {
     "name": "stderr",
     "output_type": "stream",
     "text": [
      "/cvmfs/sft.cern.ch/lcg/views/LCG_101swan/x86_64-centos7-gcc8-opt/lib/python3.9/site-packages/uproot3/__init__.py:127: FutureWarning: Consider switching from 'uproot3' to 'uproot', since the new interface became the default in 2020.\n",
      "\n",
      "    pip install -U uproot\n",
      "\n",
      "In Python:\n",
      "\n",
      "    >>> import uproot\n",
      "    >>> with uproot.open(...) as file:\n",
      "    ...\n",
      "\n",
      "  warnings.warn(\n",
      "/cvmfs/sft.cern.ch/lcg/views/LCG_101swan/x86_64-centos7-gcc8-opt/lib/python3.9/site-packages/awkward0/__init__.py:12: FutureWarning: Consider switching from 'awkward0' to 'awkward', since the new interface became the default in 2020.\n",
      "\n",
      "    pip install -U awkward\n",
      "\n",
      "In Python:\n",
      "\n",
      "    >>> import awkward as ak\n",
      "    >>> new_style_array = ak.from_awkward0(old_style_array)\n",
      "    >>> old_style_array = ak.to_awkward0(new_style_array)\n",
      "\n",
      "  warnings.warn(\n"
     ]
    },
    {
     "name": "stdout",
     "output_type": "stream",
     "text": [
      "Welcome to JupyROOT 6.24/06\n"
     ]
    }
   ],
   "source": [
    "import matplotlib\n",
    "import uproot, uproot3\n",
    "import numpy\n",
    "import awkward\n",
    "import numba\n",
    "import numpy as np\n",
    "import matplotlib.pyplot as plt\n",
    "import mplhep as hep\n",
    "import pandas as pd\n",
    "from tqdm import trange\n",
    "import ROOT\n",
    "import os,sys\n",
    "from array import array\n",
    "import pickle\n",
    "\n",
    "from Lumi import *\n",
    "from Ratio_Plot import *\n",
    "from TDR_Style import *"
   ]
  },
  {
   "cell_type": "code",
   "execution_count": 2,
   "id": "fa7fb7a8",
   "metadata": {},
   "outputs": [],
   "source": [
    "def AddHist_data(file, hist,isbarrel,isData=True, xsec=1, lumi=1):\n",
    "    \n",
    "    \n",
    "    # --read branches special case for MuonEG 2016H\n",
    "    if 'MuonEG_Run2016H' in file:\n",
    "        init_branches = [\n",
    "                    'channel_mark'\n",
    "                    ,'HLT_Ele27_WPTight_Gsf'\n",
    "                    ,'HLT_IsoTkMu24'\n",
    "                    ,'HLT_IsoMu24'\n",
    "                    ,'HLT_Mu17_TrkIsoVVL_Mu8_TrkIsoVVL'\n",
    "                    ,'HLT_Mu17_TrkIsoVVL_TkMu8_TrkIsoVVL'\n",
    "                    ,'HLT_Mu17_TrkIsoVVL_Mu8_TrkIsoVVL_DZ'\n",
    "                    ,'HLT_Mu17_TrkIsoVVL_TkMu8_TrkIsoVVL_DZ'\n",
    "                    ,'HLT_Mu8_TrkIsoVVL_Ele23_CaloIdL_TrackIdL_IsoVL'\n",
    "                    ,'HLT_Mu23_TrkIsoVVL_Ele8_CaloIdL_TrackIdL_IsoVL'\n",
    "                    ,'HLT_Mu8_TrkIsoVVL_Ele23_CaloIdL_TrackIdL_IsoVL_DZ'\n",
    "                    ,'HLT_Mu23_TrkIsoVVL_Ele8_CaloIdL_TrackIdL_IsoVL_DZ'\n",
    "                    ,'HLT_Ele23_Ele12_CaloIdL_TrackIdL_IsoVL_DZ'\n",
    "                    ,'photon_sieie'\n",
    "                    ,'photon_vidNestedWPBitmap'\n",
    "                    ,'photon_eta'\n",
    "                    ,'photon_pt'\n",
    "                    ,'photon_pfRelIso03_chg'\n",
    "                    ,'MET'\n",
    "                    ,\"z_lepton1_pt\"\n",
    "                    ,\"z_lepton2_pt\"\n",
    "                    ,\"dilepton_mass\"\n",
    "                    ,\"nJets\"\n",
    "        ]\n",
    "        \n",
    "    # --read branches \n",
    "    else:\n",
    "        init_branches =[\n",
    "                    'channel_mark'\n",
    "                    ,'HLT_Ele27_WPTight_Gsf'\n",
    "                    ,'HLT_IsoTkMu24'\n",
    "                    ,'HLT_IsoMu24'\n",
    "                    ,'HLT_Mu17_TrkIsoVVL_Mu8_TrkIsoVVL'\n",
    "                    ,'HLT_Mu17_TrkIsoVVL_TkMu8_TrkIsoVVL'\n",
    "                    ,'HLT_Mu17_TrkIsoVVL_Mu8_TrkIsoVVL_DZ'\n",
    "                    ,'HLT_Mu17_TrkIsoVVL_TkMu8_TrkIsoVVL_DZ'\n",
    "                    ,'HLT_Mu8_TrkIsoVVL_Ele23_CaloIdL_TrackIdL_IsoVL'\n",
    "                    ,'HLT_Mu23_TrkIsoVVL_Ele8_CaloIdL_TrackIdL_IsoVL'\n",
    "                    ,'HLT_Ele23_Ele12_CaloIdL_TrackIdL_IsoVL_DZ'\n",
    "                    ,'photon_sieie'\n",
    "                    ,'photon_vidNestedWPBitmap'\n",
    "                    ,'photon_eta'\n",
    "                    ,'photon_pt'\n",
    "                    ,'photon_pfRelIso03_chg'\n",
    "                    ,'MET'\n",
    "                    ,\"z_lepton1_pt\"\n",
    "                    ,\"z_lepton2_pt\"\n",
    "                    ,\"dilepton_mass\"\n",
    "                    ,\"nJets\"\n",
    "        ]  \n",
    "    \n",
    "    # --Complete branches (data) \n",
    "    if isData:\n",
    "        print('is Data')\n",
    " \n",
    "                \n",
    "    # --Complete branches (MC)\n",
    "    else:\n",
    "        print('is MC')\n",
    "        add_branches = ['Generator_weight','puWeight','PrefireWeight']\n",
    "        met_branches = uproot.open(file+':Events').keys(filter_name='MET_T1Smear*')\n",
    "        gen_lepton_branches = uproot.open(file+':Events').keys(filter_name='*_lepton*genPartFlav')\n",
    "        gen_photon_branches= uproot.open(file+':Events').keys(filter_name='*_photon*genPartFlav')\n",
    "        true_events = uproot.open(file)['nEventsGenWeighted'].values()[0]\n",
    "        init_branches.extend(add_branches)\n",
    "        init_branches.extend(gen_lepton_branches)\n",
    "        init_branches.extend(gen_photon_branches)\n",
    "        init_branches.extend(met_branches)\n",
    "\n",
    "                \n",
    "    # --Prepare main branches\n",
    "    branches = uproot.open(file+':Events').arrays(init_branches, library='pd')\n",
    "\n",
    "                \n",
    "                \n",
    "    # --Triggers\n",
    "    \n",
    "    # Single Electron HLT\n",
    "    HLT_SingleElectron = branches.loc[:,'HLT_Ele27_WPTight_Gsf'] == True\n",
    "\n",
    "    # DoubleEG HLT\n",
    "    HLT_DoubleEG = branches.loc[:,'HLT_Ele23_Ele12_CaloIdL_TrackIdL_IsoVL_DZ'] == True\n",
    "\n",
    "    # Single MuonHLT\n",
    "    HLT_SingleMuon1 = branches.loc[:,'HLT_IsoTkMu24'] == True\n",
    "    HLT_SingleMuon2 = branches.loc[:,'HLT_IsoMu24'] == True\n",
    "    comb_HLT_SingleMuon  = (HLT_SingleMuon1 | HLT_SingleMuon2)\n",
    "\n",
    "    # Double Muon HLT\n",
    "    HLT_DoubleMuon1 = branches.loc[:,'HLT_Mu17_TrkIsoVVL_Mu8_TrkIsoVVL'] == True\n",
    "    HLT_DoubleMuon2 = branches.loc[:,'HLT_Mu17_TrkIsoVVL_TkMu8_TrkIsoVVL'] == True\n",
    "    HLT_DoubleMuon3 = branches.loc[:,'HLT_Mu17_TrkIsoVVL_Mu8_TrkIsoVVL_DZ'] == True\n",
    "    HLT_DoubleMuon4 = branches.loc[:,'HLT_Mu17_TrkIsoVVL_TkMu8_TrkIsoVVL_DZ'] == True\n",
    "    if 'DoubleMuon_Run2016H'in file:\n",
    "        comb_HLT_DoubleMuon = (HLT_DoubleMuon3 | HLT_DoubleMuon4)\n",
    "    elif 'DoubleMuon_Run2016' in file:\n",
    "        comb_HLT_DoubleMuon = (HLT_DoubleMuon1 | HLT_DoubleMuon2)\n",
    "    else:\n",
    "        comb_HLT_DoubleMuon = (HLT_DoubleMuon1 | HLT_DoubleMuon2) | (HLT_DoubleMuon3 | HLT_DoubleMuon4)\n",
    "\n",
    "    # MuonEG HLT\n",
    "    HLT_MuonEG1 = branches.loc[:,'HLT_Mu8_TrkIsoVVL_Ele23_CaloIdL_TrackIdL_IsoVL'] == True\n",
    "    HLT_MuonEG2 = branches.loc[:,'HLT_Mu23_TrkIsoVVL_Ele8_CaloIdL_TrackIdL_IsoVL'] == True\n",
    "\n",
    "\n",
    "    if 'MuonEG_Run2016H' in file:\n",
    "        HLT_MuonEG3 = branches.loc[:,'HLT_Mu8_TrkIsoVVL_Ele23_CaloIdL_TrackIdL_IsoVL_DZ'] == True\n",
    "        HLT_MuonEG4 = branches.loc[:,'HLT_Mu23_TrkIsoVVL_Ele8_CaloIdL_TrackIdL_IsoVL_DZ'] == True\n",
    "        comb_HLT_MuonEG = (HLT_MuonEG1 | HLT_MuonEG2) | (HLT_MuonEG3 | HLT_MuonEG4)\n",
    "    else:\n",
    "        comb_HLT_MuonEG = (HLT_MuonEG1 | HLT_MuonEG2)\n",
    "\n",
    "\n",
    "    \n",
    "    # Apply trigger\n",
    "    if 'SingleMuon' in file:\n",
    "        print('SingleMuon trigger')\n",
    "        arrays = branches.loc[comb_HLT_SingleMuon , :].copy()\n",
    "    elif 'DoubleMuon' in file:\n",
    "        print('DoubleMuon trigger')\n",
    "        arrays = branches.loc[~comb_HLT_SingleMuon & comb_HLT_DoubleMuon, :].copy()\n",
    "    elif 'SingleElectron' in file:\n",
    "        print('SingleElectron trigger')\n",
    "        arrays = branches.loc[~comb_HLT_SingleMuon & ~comb_HLT_DoubleMuon &   HLT_SingleElectron ,:].copy()\n",
    "    elif 'MuonEG' in file:\n",
    "        print('MuonEG Trigger')\n",
    "        arrays = branches.loc[~comb_HLT_SingleMuon & ~comb_HLT_DoubleMuon &  ~HLT_SingleElectron & comb_HLT_MuonEG,:].copy()\n",
    "    elif 'DoubleEG' in file:\n",
    "        print('DoubleEG trigger')\n",
    "        arrays = branches.loc[~comb_HLT_SingleMuon & ~comb_HLT_DoubleMuon &  ~HLT_SingleElectron & ~comb_HLT_MuonEG & HLT_DoubleEG,:].copy()\n",
    "        \n",
    "    else:\n",
    "        print('isMC')\n",
    "        arrays = branches.loc[comb_HLT_SingleMuon | comb_HLT_DoubleMuon | comb_HLT_MuonEG | HLT_SingleElectron |  HLT_DoubleEG ,:].copy()\n",
    "\n",
    "    print('after trigger',len(arrays))    \n",
    "        \n",
    "    \n",
    "    # --cuts\n",
    "    \n",
    "    # MET \n",
    "    if isData:\n",
    "        MET_cut = (arrays.loc[:,'MET'] > 30)\n",
    "    else:\n",
    "        MET_cut = (arrays.loc[:,f'MET_T1Smear_pt'] > 30)\n",
    "    arrays = arrays.loc[MET_cut,:]\n",
    "    print('after MET',len(arrays))\n",
    "    \n",
    "    # lepton pt\n",
    "    lepton_pt_mask = (arrays.loc[:,\"z_lepton1_pt\"] > 25) & (arrays.loc[:,\"z_lepton2_pt\"] > 20)\n",
    "    arrays = arrays.loc[lepton_pt_mask,:]\n",
    "    print('after pt',len(arrays))\n",
    "    \n",
    "    # Zmass window\n",
    "    Zmass_mask     = abs(arrays.loc[:,\"dilepton_mass\"]-91.188) <= 15\n",
    "    arrays = arrays.loc[Zmass_mask,:]\n",
    "    print('after Zmass',len(arrays))\n",
    "    \n",
    "    # bjet veto\n",
    "    bjet_veto_mask = arrays.loc[:,\"nJets\"] == 0\n",
    "    arrays = arrays.loc[lepton_pt_mask & Zmass_mask & bjet_veto_mask,:]\n",
    "    arrays = arrays.loc[bjet_veto_mask,:]\n",
    "    print('after bjet_veto',len(arrays))\n",
    "\n",
    "    \n",
    "    # Photon Eta\n",
    "    if isbarrel == 1:\n",
    "        eta_cut = abs(arrays.loc[:,'photon_eta']) < 1.4442\n",
    "    elif isbarrel == 0:\n",
    "        eta_cut = abs((arrays.loc[:,'photon_eta']) > 1.566) & abs((arrays.loc[:,'photon_eta']) < 2.5)\n",
    "    \n",
    "    mask_mediumID = (1<<1) | (1<<3) | (1<<5) | (1<<7) | (1<<9) | (1<<11) | (1<<13)\n",
    "    \n",
    "    # Original Photon MediumID \n",
    "    arrays['mediumID'] = arrays['photon_vidNestedWPBitmap'] & mask_mediumID\n",
    "    arrays = arrays.loc[arrays.loc[:,'mediumID'] == mask_mediumID, :]\n",
    "    print('after Photon ID',len(arrays))\n",
    "        \n",
    "    # Photon PT\n",
    "    pt_cut = (arrays.loc[:,'photon_pt'] >= 20)\n",
    "    arrays = arrays.loc[pt_cut & eta_cut ,:]\n",
    "    print('after photon pt eta',len(arrays))\n",
    "    \n",
    "    # -- Fill hist\n",
    "    print(\"events: \",len(arrays))\n",
    "    # data\n",
    "    if isData:\n",
    "        for i in trange(0, len(arrays['photon_pt']), desc=f'fill photonPT for {file}'):\n",
    "            hist.Fill(float(arrays['photon_pt'].values[i]))\n",
    "    # MC\n",
    "    else:\n",
    "        arrays['Generator_weight_sgn'] = arrays['Generator_weight'].apply(lambda x: 1 if x >= 0 else -1)\n",
    "        arrays['true_weight'] = lumi * xsec * 1000 *  arrays['PrefireWeight'] * arrays['puWeight']*  arrays['Generator_weight_sgn'] / true_events   \n",
    "\n",
    "        for i in trange(len(arrays['photon_pt']), desc=f'fill photonPT for {file}'):\n",
    "            hist.Fill(float(arrays['photon_pt'].values[i]),float(arrays['true_weight'].values[i]))\n",
    "    \n",
    "def AddHist_dataFake(file, hist,isbarrel,isData=True,xsec=1,lumi=1):\n",
    "    \n",
    "    # --read branches special case for MuonEG 2016H\n",
    "    if 'MuonEG_Run2016H' in file:\n",
    "        init_branches = [\n",
    "                    'channel_mark'\n",
    "                    ,'HLT_Ele27_WPTight_Gsf'\n",
    "                    ,'HLT_IsoTkMu24'\n",
    "                    ,'HLT_IsoMu24'\n",
    "                    ,'HLT_Mu17_TrkIsoVVL_Mu8_TrkIsoVVL'\n",
    "                    ,'HLT_Mu17_TrkIsoVVL_TkMu8_TrkIsoVVL'\n",
    "                    ,'HLT_Mu17_TrkIsoVVL_Mu8_TrkIsoVVL_DZ'\n",
    "                    ,'HLT_Mu17_TrkIsoVVL_TkMu8_TrkIsoVVL_DZ'\n",
    "                    ,'HLT_Mu8_TrkIsoVVL_Ele23_CaloIdL_TrackIdL_IsoVL'\n",
    "                    ,'HLT_Mu23_TrkIsoVVL_Ele8_CaloIdL_TrackIdL_IsoVL'\n",
    "                    ,'HLT_Mu8_TrkIsoVVL_Ele23_CaloIdL_TrackIdL_IsoVL_DZ'\n",
    "                    ,'HLT_Mu23_TrkIsoVVL_Ele8_CaloIdL_TrackIdL_IsoVL_DZ'\n",
    "                    ,'HLT_Ele23_Ele12_CaloIdL_TrackIdL_IsoVL_DZ'\n",
    "                    ,'photon_sieie'\n",
    "                    ,'photon_vidNestedWPBitmap'\n",
    "                    ,'photon_eta'\n",
    "                    ,'photon_pt'\n",
    "                    ,'photon_pfRelIso03_chg'\n",
    "                    ,'MET'\n",
    "                    ,\"z_lepton1_pt\"\n",
    "                    ,\"z_lepton2_pt\"\n",
    "                    ,\"dilepton_mass\"\n",
    "                    ,\"nJets\"\n",
    "        ]\n",
    "        \n",
    "    # --read branches \n",
    "    else:\n",
    "        init_branches = [\n",
    "                    'channel_mark'\n",
    "                    ,'HLT_Ele27_WPTight_Gsf'\n",
    "                    ,'HLT_IsoTkMu24'\n",
    "                    ,'HLT_IsoMu24'\n",
    "                    ,'HLT_Mu17_TrkIsoVVL_Mu8_TrkIsoVVL'\n",
    "                    ,'HLT_Mu17_TrkIsoVVL_TkMu8_TrkIsoVVL'\n",
    "                    ,'HLT_Mu17_TrkIsoVVL_Mu8_TrkIsoVVL_DZ'\n",
    "                    ,'HLT_Mu17_TrkIsoVVL_TkMu8_TrkIsoVVL_DZ'\n",
    "                    ,'HLT_Mu8_TrkIsoVVL_Ele23_CaloIdL_TrackIdL_IsoVL'\n",
    "                    ,'HLT_Mu23_TrkIsoVVL_Ele8_CaloIdL_TrackIdL_IsoVL'\n",
    "                    ,'HLT_Ele23_Ele12_CaloIdL_TrackIdL_IsoVL_DZ'\n",
    "                    ,'photon_sieie'\n",
    "                    ,'photon_vidNestedWPBitmap'\n",
    "                    ,'photon_eta'\n",
    "                    ,'photon_pt'\n",
    "                    ,'photon_pfRelIso03_chg'\n",
    "                    ,'MET'\n",
    "                    ,\"z_lepton1_pt\"\n",
    "                    ,\"z_lepton2_pt\"\n",
    "                    ,\"dilepton_mass\"\n",
    "                    ,\"nJets\"\n",
    "        ] \n",
    "    \n",
    "    # --Complete branches (data) \n",
    "    if isData:\n",
    "        print('is Data')\n",
    "\n",
    "                \n",
    "    # --Complete branches (MC)\n",
    "    else:\n",
    "        add_branches = ['Generator_weight','puWeight','PrefireWeight']\n",
    "        met_branches = uproot.open(file+':Events').keys(filter_name='MET_T1Smear*')\n",
    "        gen_lepton_branches = uproot.open(file+':Events').keys(filter_name='*_lepton*genPartFlav')\n",
    "        gen_photon_branches= uproot.open(file+':Events').keys(filter_name='*_photon*genPartFlav')\n",
    "        true_events = uproot.open(file)['nEventsGenWeighted'].values()[0]\n",
    "        init_branches.extend(add_branches)\n",
    "        init_branches.extend(gen_lepton_branches)\n",
    "        init_branches.extend(gen_photon_branches)\n",
    "        init_branches.extend(met_branches)\n",
    "\n",
    "                \n",
    "    # --Prepare main branches\n",
    "    branches = uproot.open(file+':Events').arrays(init_branches, library='pd')\n",
    "    \n",
    "    # --Triggers\n",
    "    \n",
    "    # Single Electron HLT\n",
    "    HLT_SingleElectron = branches.loc[:,'HLT_Ele27_WPTight_Gsf'] == True\n",
    "\n",
    "    # DoubleEG HLT\n",
    "    HLT_DoubleEG = branches.loc[:,'HLT_Ele23_Ele12_CaloIdL_TrackIdL_IsoVL_DZ'] == True\n",
    "\n",
    "    # Single MuonHLT\n",
    "    HLT_SingleMuon1 = branches.loc[:,'HLT_IsoTkMu24'] == True\n",
    "    HLT_SingleMuon2 = branches.loc[:,'HLT_IsoMu24'] == True\n",
    "    comb_HLT_SingleMuon  = (HLT_SingleMuon1 | HLT_SingleMuon2)\n",
    "\n",
    "    # Double Muon HLT\n",
    "    HLT_DoubleMuon1 = branches.loc[:,'HLT_Mu17_TrkIsoVVL_Mu8_TrkIsoVVL'] == True\n",
    "    HLT_DoubleMuon2 = branches.loc[:,'HLT_Mu17_TrkIsoVVL_TkMu8_TrkIsoVVL'] == True\n",
    "    HLT_DoubleMuon3 = branches.loc[:,'HLT_Mu17_TrkIsoVVL_Mu8_TrkIsoVVL_DZ'] == True\n",
    "    HLT_DoubleMuon4 = branches.loc[:,'HLT_Mu17_TrkIsoVVL_TkMu8_TrkIsoVVL_DZ'] == True\n",
    "    if 'DoubleMuon_Run2016H'in file:\n",
    "        comb_HLT_DoubleMuon = (HLT_DoubleMuon3 | HLT_DoubleMuon4)\n",
    "    elif 'DoubleMuon_Run2016' in file:\n",
    "        comb_HLT_DoubleMuon = (HLT_DoubleMuon1 | HLT_DoubleMuon2)\n",
    "    else:\n",
    "        comb_HLT_DoubleMuon = (HLT_DoubleMuon1 | HLT_DoubleMuon2) | (HLT_DoubleMuon3 | HLT_DoubleMuon4)\n",
    "\n",
    "    # MuonEG HLT\n",
    "    HLT_MuonEG1 = branches.loc[:,'HLT_Mu8_TrkIsoVVL_Ele23_CaloIdL_TrackIdL_IsoVL'] == True\n",
    "    HLT_MuonEG2 = branches.loc[:,'HLT_Mu23_TrkIsoVVL_Ele8_CaloIdL_TrackIdL_IsoVL'] == True\n",
    "\n",
    "\n",
    "    if 'MuonEG_Run2016H' in file:\n",
    "        HLT_MuonEG3 = branches.loc[:,'HLT_Mu8_TrkIsoVVL_Ele23_CaloIdL_TrackIdL_IsoVL_DZ'] == True\n",
    "        HLT_MuonEG4 = branches.loc[:,'HLT_Mu23_TrkIsoVVL_Ele8_CaloIdL_TrackIdL_IsoVL_DZ'] == True\n",
    "        comb_HLT_MuonEG = (HLT_MuonEG1 | HLT_MuonEG2) | (HLT_MuonEG3 | HLT_MuonEG4)\n",
    "    else:\n",
    "        comb_HLT_MuonEG = (HLT_MuonEG1 | HLT_MuonEG2)\n",
    "\n",
    "\n",
    "    \n",
    "    # Apply trigger\n",
    "    if 'SingleMuon' in file:\n",
    "        arrays = branches.loc[comb_HLT_SingleMuon , :].copy()\n",
    "    elif 'DoubleMuon' in file:\n",
    "        arrays = branches.loc[~comb_HLT_SingleMuon & comb_HLT_DoubleMuon, :].copy()\n",
    "    elif 'SingleElectron' in file:\n",
    "        arrays = branches.loc[~comb_HLT_SingleMuon & ~comb_HLT_DoubleMuon &   HLT_SingleElectron ,:].copy()\n",
    "    elif 'MuonEG' in file:\n",
    "        arrays = branches.loc[~comb_HLT_SingleMuon & ~comb_HLT_DoubleMuon &  ~HLT_SingleElectron & comb_HLT_MuonEG,:].copy()\n",
    "    elif 'DoubleEG' in file:\n",
    "        arrays = branches.loc[~comb_HLT_SingleMuon & ~comb_HLT_DoubleMuon &  ~HLT_SingleElectron & ~comb_HLT_MuonEG & HLT_DoubleEG,:].copy()\n",
    "        \n",
    "    else:\n",
    "        arrays = branches.loc[comb_HLT_SingleMuon | comb_HLT_DoubleMuon | comb_HLT_MuonEG | HLT_SingleElectron |  HLT_DoubleEG ,:].copy()\n",
    "\n",
    "    \n",
    "    # --cuts\n",
    "    # MET \n",
    "    if isData:\n",
    "        MET_cut = (arrays.loc[:,'MET'] > 30)\n",
    "    else:\n",
    "        MET_cut = (arrays.loc[:,f'MET_T1Smear_pt'] > 30)\n",
    "    arrays = arrays.loc[MET_cut,:]\n",
    "\n",
    "    # lepton pt\n",
    "    lepton_pt_mask = (arrays.loc[:,\"z_lepton1_pt\"] > 25) & (arrays.loc[:,\"z_lepton2_pt\"] > )\n",
    "    arrays = arrays.loc[lepton_pt_mask,:]\n",
    "    print('after pt',len(arrays))\n",
    "    \n",
    "    # Zmass window\n",
    "    Zmass_mask     = abs(arrays.loc[:,\"dilepton_mass\"]-91.188) <= 15\n",
    "    arrays = arrays.loc[Zmass_mask,:]\n",
    "    print('after Zmass',len(arrays))\n",
    "    \n",
    "    # bjet veto\n",
    "    bjet_veto_mask = arrays.loc[:,\"nJets\"] == 0\n",
    "    arrays = arrays.loc[lepton_pt_mask & Zmass_mask & bjet_veto_mask,:]\n",
    "    arrays = arrays.loc[bjet_veto_mask,:]\n",
    "    print('after bjet_veto',len(arrays))\n",
    "    \n",
    "    \n",
    "    # Photon Eta\n",
    "    if isbarrel == 1:\n",
    "        eta_cut = abs(arrays.loc[:,'photon_eta']) < 1.4442\n",
    "    elif isbarrel == 0:\n",
    "        eta_cut = abs((arrays.loc[:,'photon_eta']) > 1.566) & abs((arrays.loc[:,'photon_eta']) < 2.5)        \n",
    "        \n",
    "    # Photon IsoChg SB cut\n",
    "    sb = [4,10]\n",
    "\n",
    "    chg_cut = ((arrays.loc[:,\"photon_pfRelIso03_chg\"]*arrays.loc[:,\"photon_pt\"]) > sb[0]) & ((arrays.loc[:,\"photon_pfRelIso03_chg\"]*arrays.loc[:,\"photon_pt\"]) < sb[1])\n",
    "    pt_cut  = (arrays.loc[:,'photon_pt'] >= 20)        \n",
    "    \n",
    "    arrays = arrays.loc[pt_cut & eta_cut & chg_cut,:]\n",
    "    \n",
    "    \n",
    "    # -- Fill hist\n",
    "    \n",
    "    print(\"events: \",len(arrays))\n",
    "    # data\n",
    "    if isData:\n",
    "        for i in trange(0, len(arrays['photon_pt']), desc=f'fill photonPT for {file}'):\n",
    "            hist.Fill(float(arrays['photon_pt'].values[i]))\n",
    "    # MC\n",
    "    else:\n",
    "\n",
    "        arrays['Generator_weight_sgn'] = arrays['Generator_weight'].apply(lambda x: 1 if x >= 0 else -1)\n",
    "        arrays['true_weight'] = lumi * xsec * 1000 *  arrays['PrefireWeight'] * arrays['puWeight'] *  arrays['Generator_weight_sgn'] / true_events   \n",
    "\n",
    "        for i in trange(len(arrays['photon_pt']), desc=f'fill photonPT for {file}'):\n",
    "            hist.Fill(float(arrays['photon_pt'].values[i]),float(arrays['true_weight'].values[i]))"
   ]
  },
  {
   "cell_type": "code",
   "execution_count": 3,
   "id": "5fda1a64",
   "metadata": {},
   "outputs": [],
   "source": [
    "## 2016 CR\n",
    "\n",
    "filelist_data = [\n",
    "\"/eos/home-j/jiwoong/WZG_DB/2016/pre_post_separated_220209/FakePhoton/CR/merged/DoubleEG_Run2016B.root\"\n",
    ",\"/eos/home-j/jiwoong/WZG_DB/2016/pre_post_separated_220209/FakePhoton/CR/merged/DoubleEG_Run2016C.root\"\n",
    ",\"/eos/home-j/jiwoong/WZG_DB/2016/pre_post_separated_220209/FakePhoton/CR/merged/DoubleEG_Run2016D.root\"\n",
    ",\"/eos/home-j/jiwoong/WZG_DB/2016/pre_post_separated_220209/FakePhoton/CR/merged/DoubleEG_Run2016E.root\"\n",
    ",\"/eos/home-j/jiwoong/WZG_DB/2016/pre_post_separated_220209/FakePhoton/CR/merged/DoubleEG_Run2016F.root\"\n",
    ",\"/eos/home-j/jiwoong/WZG_DB/2016/pre_post_separated_220209/FakePhoton/CR/merged/DoubleEG_Run2016G.root\"\n",
    ",\"/eos/home-j/jiwoong/WZG_DB/2016/pre_post_separated_220209/FakePhoton/CR/merged/DoubleEG_Run2016H.root\"\n",
    ",\"/eos/home-j/jiwoong/WZG_DB/2016/pre_post_separated_220209/FakePhoton/CR/merged/DoubleMuon_Run2016B.root\"\n",
    ",\"/eos/home-j/jiwoong/WZG_DB/2016/pre_post_separated_220209/FakePhoton/CR/merged/DoubleMuon_Run2016C.root\"\n",
    ",\"/eos/home-j/jiwoong/WZG_DB/2016/pre_post_separated_220209/FakePhoton/CR/merged/DoubleMuon_Run2016D.root\"\n",
    ",\"/eos/home-j/jiwoong/WZG_DB/2016/pre_post_separated_220209/FakePhoton/CR/merged/DoubleMuon_Run2016E.root\"\n",
    ",\"/eos/home-j/jiwoong/WZG_DB/2016/pre_post_separated_220209/FakePhoton/CR/merged/DoubleMuon_Run2016F.root\"\n",
    ",\"/eos/home-j/jiwoong/WZG_DB/2016/pre_post_separated_220209/FakePhoton/CR/merged/DoubleMuon_Run2016G.root\"\n",
    ",\"/eos/home-j/jiwoong/WZG_DB/2016/pre_post_separated_220209/FakePhoton/CR/merged/DoubleMuon_Run2016H.root\"\n",
    ",\"/eos/home-j/jiwoong/WZG_DB/2016/pre_post_separated_220209/FakePhoton/CR/merged/MuonEG_Run2016B.root\"\n",
    ",\"/eos/home-j/jiwoong/WZG_DB/2016/pre_post_separated_220209/FakePhoton/CR/merged/MuonEG_Run2016C.root\"\n",
    ",\"/eos/home-j/jiwoong/WZG_DB/2016/pre_post_separated_220209/FakePhoton/CR/merged/MuonEG_Run2016D.root\"\n",
    ",\"/eos/home-j/jiwoong/WZG_DB/2016/pre_post_separated_220209/FakePhoton/CR/merged/MuonEG_Run2016E.root\"\n",
    ",\"/eos/home-j/jiwoong/WZG_DB/2016/pre_post_separated_220209/FakePhoton/CR/merged/MuonEG_Run2016F.root\"\n",
    ",\"/eos/home-j/jiwoong/WZG_DB/2016/pre_post_separated_220209/FakePhoton/CR/merged/MuonEG_Run2016G.root\"\n",
    ",\"/eos/home-j/jiwoong/WZG_DB/2016/pre_post_separated_220209/FakePhoton/CR/merged/MuonEG_Run2016H.root\"\n",
    ",\"/eos/home-j/jiwoong/WZG_DB/2016/pre_post_separated_220209/FakePhoton/CR/merged/SingleElectron_Run2016B.root\"\n",
    ",\"/eos/home-j/jiwoong/WZG_DB/2016/pre_post_separated_220209/FakePhoton/CR/merged/SingleElectron_Run2016C.root\"\n",
    ",\"/eos/home-j/jiwoong/WZG_DB/2016/pre_post_separated_220209/FakePhoton/CR/merged/SingleElectron_Run2016D.root\"\n",
    ",\"/eos/home-j/jiwoong/WZG_DB/2016/pre_post_separated_220209/FakePhoton/CR/merged/SingleElectron_Run2016E.root\"\n",
    ",\"/eos/home-j/jiwoong/WZG_DB/2016/pre_post_separated_220209/FakePhoton/CR/merged/SingleElectron_Run2016F.root\"\n",
    ",\"/eos/home-j/jiwoong/WZG_DB/2016/pre_post_separated_220209/FakePhoton/CR/merged/SingleElectron_Run2016G.root\"\n",
    ",\"/eos/home-j/jiwoong/WZG_DB/2016/pre_post_separated_220209/FakePhoton/CR/merged/SingleElectron_Run2016H.root\"\n",
    ",\"/eos/home-j/jiwoong/WZG_DB/2016/pre_post_separated_220209/FakePhoton/CR/merged/SingleMuon_Run2016B.root\"\n",
    ",\"/eos/home-j/jiwoong/WZG_DB/2016/pre_post_separated_220209/FakePhoton/CR/merged/SingleMuon_Run2016C.root\"\n",
    ",\"/eos/home-j/jiwoong/WZG_DB/2016/pre_post_separated_220209/FakePhoton/CR/merged/SingleMuon_Run2016D.root\"\n",
    ",\"/eos/home-j/jiwoong/WZG_DB/2016/pre_post_separated_220209/FakePhoton/CR/merged/SingleMuon_Run2016E.root\"\n",
    ",\"/eos/home-j/jiwoong/WZG_DB/2016/pre_post_separated_220209/FakePhoton/CR/merged/SingleMuon_Run2016F.root\"\n",
    ",\"/eos/home-j/jiwoong/WZG_DB/2016/pre_post_separated_220209/FakePhoton/CR/merged/SingleMuon_Run2016G.root\"\n",
    ",\"/eos/home-j/jiwoong/WZG_DB/2016/pre_post_separated_220209/FakePhoton/CR/merged/SingleMuon_Run2016H.root\"\n",
    "]"
   ]
  },
  {
   "cell_type": "code",
   "execution_count": 4,
   "id": "275ffaa0",
   "metadata": {},
   "outputs": [],
   "source": [
    "filelist_MC = {\n",
    "    \n",
    "   \"TTG\":\n",
    "        {\"name\":\"TTGJets\",\n",
    "        \"path\":\"/eos/home-j/jiwoong/WZG_DB/2016/pre_post_separated_220209/FakePhoton/CR/merged/TTGJets_TuneCP5_13TeV-amcatnloFXFX-madspin-pythia8_2016.root\",\n",
    "        \"xsec\":4.078,\n",
    "        },\n",
    "   \"TTZ\":\n",
    "        {\"name\":\"TTZToLLNuNu\",\n",
    "        \"path\":\"/eos/home-j/jiwoong/WZG_DB/2016/pre_post_separated_220209/FakePhoton/CR/merged/TTZToLLNuNu_M-10_TuneCP5_13TeV-amcatnlo-pythia8_2016.root\",\n",
    "        \"xsec\":0.2432,\n",
    "        },\n",
    "   \"TTW\":\n",
    "        {\"name\":\"TTWJetsToLNu\",\n",
    "        \"path\":\"/eos/home-j/jiwoong/WZG_DB/2016/pre_post_separated_220209/FakePhoton/CR/merged/TTWJetsToLNu_TuneCP5_13TeV-amcatnloFXFX-madspin-pythia8_2016.root\",\n",
    "        \"xsec\":0.2149,\n",
    "        },\n",
    "   \"tZq\":\n",
    "        {\"name\":\"tZq_ll\",\n",
    "        \"path\":\"/eos/home-j/jiwoong/WZG_DB/2016/pre_post_separated_220209/FakePhoton/CR/merged/tZq_ll_4f_ckm_NLO_TuneCP5_13TeV-amcatnlo-pythia8_2016.root\",\n",
    "        \"xsec\":0.07358,\n",
    "        },\n",
    "   \"WWW\":\n",
    "        {\"name\":\"WWW\",\n",
    "        \"path\":\"/eos/home-j/jiwoong/WZG_DB/2016/pre_post_separated_220209/FakePhoton/CR/merged/WWW_4F_TuneCP5_13TeV-amcatnlo-pythia8_2016.root\",\n",
    "        \"xsec\":0.2086,\n",
    "        },\n",
    "   \"ZGToLLG\":\n",
    "        {\"name\":\"ZGToLLG\",\n",
    "        \"path\":\"/eos/home-j/jiwoong/WZG_DB/2016/pre_post_separated_220209/FakePhoton/CR/merged/ZGToLLG_01J_5f_TuneCP5_13TeV-amcatnloFXFX-pythia8_2016.root\",\n",
    "        \"xsec\":55.48,\n",
    "        },\n",
    "    \"ZZ\":\n",
    "        {\"name\":\"ZZ\",\n",
    "        \"path\":\"/eos/home-j/jiwoong/WZG_DB/2016/pre_post_separated_220209/FakePhoton/CR/merged/ZZ_TuneCP5_13TeV-pythia8_2016.root\",\n",
    "        \"xsec\":16.523, # NLO\n",
    "        },\n",
    "    \"WZG\":\n",
    "        {\"name\":\"WZG\",\n",
    "        \"path\":\"/eos/home-j/jiwoong/WZG_DB/2016/pre_post_separated_220209/FakePhoton/CR/merged/wza_2016.root\",\n",
    "        \"xsec\":0.0384,\n",
    "        },\n",
    "   \"WWZ\":\n",
    "        {\"name\":\"WWZ\",\n",
    "        \"path\":\"/eos/home-j/jiwoong/WZG_DB/2016/pre_post_separated_220209/FakePhoton/CR/merged/WWZ_4F_TuneCP5_13TeV-amcatnlo-pythia8_2016.root\",\n",
    "        \"xsec\":0.1707,\n",
    "        },\n",
    "   \"ggZZ_2e2mu\":\n",
    "        {\"name\":\"ggZZ2e2mu\",\n",
    "        \"path\":\"/eos/home-j/jiwoong/WZG_DB/2016/pre_post_separated_220209/FakePhoton/CR/merged/GluGluToContinToZZTo2e2mu_TuneCP5_13TeV-mcfm701-pythia8_2016.root\",\n",
    "        \"xsec\":0.00319,\n",
    "        },\n",
    "#   \"ggZZ_2e2nu\":\n",
    "#        {\"name\":\"ggZZ2e2nu\",\n",
    "#        \"path\":\"/eos/home-j/jiwoong/SWAN_projects/Draw/2017/GluGluToContinToZZTo2e2nu_TuneCP5_13TeV-mcfm701-pythia8_2017_0000.root\",\n",
    "#        \"xsec\":0.00319,\n",
    "#        },\n",
    "   \"ggZZ_2e2tau\":\n",
    "        {\"name\":\"ggZZ2e2tau\",\n",
    "        \"path\":\"/eos/home-j/jiwoong/WZG_DB/2016/pre_post_separated_220209/FakePhoton/CR/merged/GluGluToContinToZZTo2e2tau_TuneCP5_13TeV-mcfm701-pythia8_2016.root\",\n",
    "        \"xsec\":0.00319,\n",
    "        },\n",
    "#   \"ggZZ_2mu2nu\":\n",
    "#        {\"name\":\"ggZZ2mu2nu\",\n",
    "#        \"path\":\"/eos/home-j/jiwoong/SWAN_projects/Draw/2017/GluGluToContinToZZTo2mu2nu_TuneCP5_13TeV-mcfm701-pythia8_2017_0000.root\",\n",
    "#        \"xsec\":0.00319,\n",
    "#        },\n",
    "   \"ggZZ_2mu2tau\":\n",
    "        {\"name\":\"ggZZ2mu2tau\",\n",
    "        \"path\":\"/eos/home-j/jiwoong/WZG_DB/2016/pre_post_separated_220209/FakePhoton/CR/merged/GluGluToContinToZZTo2mu2tau_TuneCP5_13TeV-mcfm701-pythia8_2016.root\",\n",
    "        \"xsec\":0.00319,\n",
    "        },\n",
    "   \"ggZZ_4e\":\n",
    "        {\"name\":\"ggZZ4e\",\n",
    "        \"path\":\"/eos/home-j/jiwoong/WZG_DB/2016/pre_post_separated_220209/FakePhoton/CR/merged/GluGluToContinToZZTo4e_TuneCP5_13TeV-mcfm701-pythia8_2016.root\",\n",
    "        \"xsec\":0.00159,\n",
    "        },\n",
    "   \"ggZZ_4mu\":\n",
    "        {\"name\":\"ggZZ4mu\",\n",
    "        \"path\":\"/eos/home-j/jiwoong/WZG_DB/2016/pre_post_separated_220209/FakePhoton/CR/merged/GluGluToContinToZZTo4mu_TuneCP5_13TeV-mcfm701-pythia8_2016.root\",\n",
    "        \"xsec\":0.00159,\n",
    "        },\n",
    "   \"ggZZ_4tau\":\n",
    "        {\"name\":\"ggZZ4tau\",\n",
    "        \"path\":\"/eos/home-j/jiwoong/WZG_DB/2016/pre_post_separated_220209/FakePhoton/CR/merged/GluGluToContinToZZTo4tau_TuneCP5_13TeV-mcfm701-pythia8_2016.root\",\n",
    "        \"xsec\":0.00159,\n",
    "        }    \n",
    "}"
   ]
  },
  {
   "cell_type": "code",
   "execution_count": 5,
   "id": "30bef53a",
   "metadata": {},
   "outputs": [
    {
     "name": "stdout",
     "output_type": "stream",
     "text": [
      "is Data\n",
      "DoubleEG trigger\n",
      "after trigger 2150\n",
      "after MET 666\n",
      "after pt 100\n",
      "after Zmass 30\n",
      "after bjet_veto 28\n",
      "after Photon ID 7\n",
      "after photon pt eta 6\n",
      "events:  6\n"
     ]
    },
    {
     "name": "stderr",
     "output_type": "stream",
     "text": [
      "fill photonPT for /eos/home-j/jiwoong/WZG_DB/2016/pre_post_separated_220209/FakePhoton/CR/merged/DoubleEG_Run2016B.root: 100%|██████████| 6/6 [00:00<00:00, 1026.21it/s]"
     ]
    },
    {
     "name": "stdout",
     "output_type": "stream",
     "text": [
      "is Data\n"
     ]
    },
    {
     "name": "stderr",
     "output_type": "stream",
     "text": [
      "\n"
     ]
    },
    {
     "name": "stdout",
     "output_type": "stream",
     "text": [
      "DoubleEG trigger\n",
      "after trigger 978\n",
      "after MET 325\n",
      "after pt 55\n",
      "after Zmass 21\n",
      "after bjet_veto 21\n",
      "after Photon ID 8\n",
      "after photon pt eta 5\n",
      "events:  5\n"
     ]
    },
    {
     "name": "stderr",
     "output_type": "stream",
     "text": [
      "fill photonPT for /eos/home-j/jiwoong/WZG_DB/2016/pre_post_separated_220209/FakePhoton/CR/merged/DoubleEG_Run2016C.root: 100%|██████████| 5/5 [00:00<00:00, 27850.62it/s]"
     ]
    },
    {
     "name": "stdout",
     "output_type": "stream",
     "text": [
      "is Data\n"
     ]
    },
    {
     "name": "stderr",
     "output_type": "stream",
     "text": [
      "\n"
     ]
    },
    {
     "name": "stdout",
     "output_type": "stream",
     "text": [
      "DoubleEG trigger\n",
      "after trigger 1533\n",
      "after MET 559\n",
      "after pt 92\n",
      "after Zmass 33\n",
      "after bjet_veto 33\n",
      "after Photon ID 6\n",
      "after photon pt eta 5\n",
      "events:  5\n"
     ]
    },
    {
     "name": "stderr",
     "output_type": "stream",
     "text": [
      "fill photonPT for /eos/home-j/jiwoong/WZG_DB/2016/pre_post_separated_220209/FakePhoton/CR/merged/DoubleEG_Run2016D.root: 100%|██████████| 5/5 [00:00<00:00, 33235.37it/s]"
     ]
    },
    {
     "name": "stdout",
     "output_type": "stream",
     "text": [
      "is Data\n"
     ]
    },
    {
     "name": "stderr",
     "output_type": "stream",
     "text": [
      "\n"
     ]
    },
    {
     "name": "stdout",
     "output_type": "stream",
     "text": [
      "DoubleEG trigger\n",
      "after trigger 1394\n",
      "after MET 540\n",
      "after pt 127\n",
      "after Zmass 52\n",
      "after bjet_veto 49\n",
      "after Photon ID 14\n",
      "after photon pt eta 9\n",
      "events:  9\n"
     ]
    },
    {
     "name": "stderr",
     "output_type": "stream",
     "text": [
      "fill photonPT for /eos/home-j/jiwoong/WZG_DB/2016/pre_post_separated_220209/FakePhoton/CR/merged/DoubleEG_Run2016E.root: 100%|██████████| 9/9 [00:00<00:00, 60983.42it/s]"
     ]
    },
    {
     "name": "stdout",
     "output_type": "stream",
     "text": [
      "is Data\n"
     ]
    },
    {
     "name": "stderr",
     "output_type": "stream",
     "text": [
      "\n"
     ]
    },
    {
     "name": "stdout",
     "output_type": "stream",
     "text": [
      "DoubleEG trigger\n",
      "after trigger 1194\n",
      "after MET 461\n",
      "after pt 39\n",
      "after Zmass 12\n",
      "after bjet_veto 12\n",
      "after Photon ID 2\n",
      "after photon pt eta 2\n",
      "events:  2\n"
     ]
    },
    {
     "name": "stderr",
     "output_type": "stream",
     "text": [
      "fill photonPT for /eos/home-j/jiwoong/WZG_DB/2016/pre_post_separated_220209/FakePhoton/CR/merged/DoubleEG_Run2016F.root: 100%|██████████| 2/2 [00:00<00:00, 20068.44it/s]"
     ]
    },
    {
     "name": "stdout",
     "output_type": "stream",
     "text": [
      "is Data\n"
     ]
    },
    {
     "name": "stderr",
     "output_type": "stream",
     "text": [
      "\n"
     ]
    },
    {
     "name": "stdout",
     "output_type": "stream",
     "text": [
      "DoubleEG trigger\n",
      "after trigger 3355\n",
      "after MET 1376\n",
      "after pt 369\n",
      "after Zmass 150\n",
      "after bjet_veto 141\n",
      "after Photon ID 37\n",
      "after photon pt eta 28\n",
      "events:  28\n"
     ]
    },
    {
     "name": "stderr",
     "output_type": "stream",
     "text": [
      "fill photonPT for /eos/home-j/jiwoong/WZG_DB/2016/pre_post_separated_220209/FakePhoton/CR/merged/DoubleEG_Run2016G.root: 100%|██████████| 28/28 [00:00<00:00, 45572.57it/s]"
     ]
    },
    {
     "name": "stdout",
     "output_type": "stream",
     "text": [
      "is Data\n"
     ]
    },
    {
     "name": "stderr",
     "output_type": "stream",
     "text": [
      "\n"
     ]
    },
    {
     "name": "stdout",
     "output_type": "stream",
     "text": [
      "DoubleEG trigger\n",
      "after trigger 3626\n",
      "after MET 1570\n",
      "after pt 341\n",
      "after Zmass 146\n",
      "after bjet_veto 141\n",
      "after Photon ID 32\n",
      "after photon pt eta 24\n",
      "events:  24\n"
     ]
    },
    {
     "name": "stderr",
     "output_type": "stream",
     "text": [
      "fill photonPT for /eos/home-j/jiwoong/WZG_DB/2016/pre_post_separated_220209/FakePhoton/CR/merged/DoubleEG_Run2016H.root: 100%|██████████| 24/24 [00:00<00:00, 57819.24it/s]"
     ]
    },
    {
     "name": "stdout",
     "output_type": "stream",
     "text": [
      "is Data\n"
     ]
    },
    {
     "name": "stderr",
     "output_type": "stream",
     "text": [
      "\n"
     ]
    },
    {
     "name": "stdout",
     "output_type": "stream",
     "text": [
      "DoubleMuon trigger\n",
      "after trigger 1617\n",
      "after MET 560\n",
      "after pt 91\n",
      "after Zmass 20\n",
      "after bjet_veto 20\n",
      "after Photon ID 4\n",
      "after photon pt eta 2\n",
      "events:  2\n"
     ]
    },
    {
     "name": "stderr",
     "output_type": "stream",
     "text": [
      "fill photonPT for /eos/home-j/jiwoong/WZG_DB/2016/pre_post_separated_220209/FakePhoton/CR/merged/DoubleMuon_Run2016B.root: 100%|██████████| 2/2 [00:00<00:00, 8612.53it/s]"
     ]
    },
    {
     "name": "stdout",
     "output_type": "stream",
     "text": [
      "is Data\n"
     ]
    },
    {
     "name": "stderr",
     "output_type": "stream",
     "text": [
      "\n"
     ]
    },
    {
     "name": "stdout",
     "output_type": "stream",
     "text": [
      "DoubleMuon trigger\n",
      "after trigger 708\n",
      "after MET 256\n",
      "after pt 73\n",
      "after Zmass 8\n",
      "after bjet_veto 8\n",
      "after Photon ID 3\n",
      "after photon pt eta 0\n",
      "events:  0\n"
     ]
    },
    {
     "name": "stderr",
     "output_type": "stream",
     "text": [
      "fill photonPT for /eos/home-j/jiwoong/WZG_DB/2016/pre_post_separated_220209/FakePhoton/CR/merged/DoubleMuon_Run2016C.root: 0it [00:00, ?it/s]"
     ]
    },
    {
     "name": "stdout",
     "output_type": "stream",
     "text": [
      "is Data\n"
     ]
    },
    {
     "name": "stderr",
     "output_type": "stream",
     "text": [
      "\n"
     ]
    },
    {
     "name": "stdout",
     "output_type": "stream",
     "text": [
      "DoubleMuon trigger\n",
      "after trigger 1145\n",
      "after MET 385\n",
      "after pt 99\n",
      "after Zmass 14\n",
      "after bjet_veto 12\n",
      "after Photon ID 2\n",
      "after photon pt eta 1\n",
      "events:  1\n"
     ]
    },
    {
     "name": "stderr",
     "output_type": "stream",
     "text": [
      "fill photonPT for /eos/home-j/jiwoong/WZG_DB/2016/pre_post_separated_220209/FakePhoton/CR/merged/DoubleMuon_Run2016D.root: 100%|██████████| 1/1 [00:00<00:00, 7463.17it/s]"
     ]
    },
    {
     "name": "stdout",
     "output_type": "stream",
     "text": [
      "is Data\n"
     ]
    },
    {
     "name": "stderr",
     "output_type": "stream",
     "text": [
      "\n"
     ]
    },
    {
     "name": "stdout",
     "output_type": "stream",
     "text": [
      "DoubleMuon trigger\n",
      "after trigger 1120\n",
      "after MET 436\n",
      "after pt 145\n",
      "after Zmass 28\n",
      "after bjet_veto 28\n",
      "after Photon ID 10\n",
      "after photon pt eta 6\n",
      "events:  6\n"
     ]
    },
    {
     "name": "stderr",
     "output_type": "stream",
     "text": [
      "fill photonPT for /eos/home-j/jiwoong/WZG_DB/2016/pre_post_separated_220209/FakePhoton/CR/merged/DoubleMuon_Run2016E.root: 100%|██████████| 6/6 [00:00<00:00, 24745.16it/s]"
     ]
    },
    {
     "name": "stdout",
     "output_type": "stream",
     "text": [
      "is Data\n"
     ]
    },
    {
     "name": "stderr",
     "output_type": "stream",
     "text": [
      "\n"
     ]
    },
    {
     "name": "stdout",
     "output_type": "stream",
     "text": [
      "DoubleMuon trigger\n",
      "after trigger 912\n",
      "after MET 360\n",
      "after pt 143\n",
      "after Zmass 26\n",
      "after bjet_veto 25\n",
      "after Photon ID 4\n",
      "after photon pt eta 4\n",
      "events:  4\n"
     ]
    },
    {
     "name": "stderr",
     "output_type": "stream",
     "text": [
      "fill photonPT for /eos/home-j/jiwoong/WZG_DB/2016/pre_post_separated_220209/FakePhoton/CR/merged/DoubleMuon_Run2016F.root: 100%|██████████| 4/4 [00:00<00:00, 36954.22it/s]"
     ]
    },
    {
     "name": "stdout",
     "output_type": "stream",
     "text": [
      "is Data\n"
     ]
    },
    {
     "name": "stderr",
     "output_type": "stream",
     "text": [
      "\n"
     ]
    },
    {
     "name": "stdout",
     "output_type": "stream",
     "text": [
      "DoubleMuon trigger\n",
      "after trigger 2478\n",
      "after MET 1057\n",
      "after pt 504\n",
      "after Zmass 117\n",
      "after bjet_veto 106\n",
      "after Photon ID 25\n",
      "after photon pt eta 21\n",
      "events:  21\n"
     ]
    },
    {
     "name": "stderr",
     "output_type": "stream",
     "text": [
      "fill photonPT for /eos/home-j/jiwoong/WZG_DB/2016/pre_post_separated_220209/FakePhoton/CR/merged/DoubleMuon_Run2016G.root: 100%|██████████| 21/21 [00:00<00:00, 61680.94it/s]"
     ]
    },
    {
     "name": "stdout",
     "output_type": "stream",
     "text": [
      "is Data\n"
     ]
    },
    {
     "name": "stderr",
     "output_type": "stream",
     "text": [
      "\n"
     ]
    },
    {
     "name": "stdout",
     "output_type": "stream",
     "text": [
      "DoubleMuon trigger\n",
      "after trigger 2712\n",
      "after MET 1146\n",
      "after pt 418\n",
      "after Zmass 101\n",
      "after bjet_veto 93\n",
      "after Photon ID 22\n",
      "after photon pt eta 14\n",
      "events:  14\n"
     ]
    },
    {
     "name": "stderr",
     "output_type": "stream",
     "text": [
      "fill photonPT for /eos/home-j/jiwoong/WZG_DB/2016/pre_post_separated_220209/FakePhoton/CR/merged/DoubleMuon_Run2016H.root: 100%|██████████| 14/14 [00:00<00:00, 89376.34it/s]"
     ]
    },
    {
     "name": "stdout",
     "output_type": "stream",
     "text": [
      "is Data\n"
     ]
    },
    {
     "name": "stderr",
     "output_type": "stream",
     "text": [
      "\n"
     ]
    },
    {
     "name": "stdout",
     "output_type": "stream",
     "text": [
      "MuonEG Trigger\n",
      "after trigger 181\n",
      "after MET 122\n",
      "after pt 58\n",
      "after Zmass 8\n",
      "after bjet_veto 6\n",
      "after Photon ID 3\n",
      "after photon pt eta 1\n",
      "events:  1\n"
     ]
    },
    {
     "name": "stderr",
     "output_type": "stream",
     "text": [
      "fill photonPT for /eos/home-j/jiwoong/WZG_DB/2016/pre_post_separated_220209/FakePhoton/CR/merged/MuonEG_Run2016B.root: 100%|██████████| 1/1 [00:00<00:00, 6797.90it/s]"
     ]
    },
    {
     "name": "stdout",
     "output_type": "stream",
     "text": [
      "is Data\n"
     ]
    },
    {
     "name": "stderr",
     "output_type": "stream",
     "text": [
      "\n"
     ]
    },
    {
     "name": "stdout",
     "output_type": "stream",
     "text": [
      "MuonEG Trigger\n",
      "after trigger 76\n",
      "after MET 58\n",
      "after pt 15\n",
      "after Zmass 5\n",
      "after bjet_veto 2\n",
      "after Photon ID 0\n",
      "after photon pt eta 0\n",
      "events:  0\n"
     ]
    },
    {
     "name": "stderr",
     "output_type": "stream",
     "text": [
      "fill photonPT for /eos/home-j/jiwoong/WZG_DB/2016/pre_post_separated_220209/FakePhoton/CR/merged/MuonEG_Run2016C.root: 0it [00:00, ?it/s]"
     ]
    },
    {
     "name": "stdout",
     "output_type": "stream",
     "text": [
      "is Data\n"
     ]
    },
    {
     "name": "stderr",
     "output_type": "stream",
     "text": [
      "\n"
     ]
    },
    {
     "name": "stdout",
     "output_type": "stream",
     "text": [
      "MuonEG Trigger\n",
      "after trigger 126\n",
      "after MET 87\n",
      "after pt 33\n",
      "after Zmass 3\n",
      "after bjet_veto 2\n",
      "after Photon ID 2\n",
      "after photon pt eta 1\n",
      "events:  1\n"
     ]
    },
    {
     "name": "stderr",
     "output_type": "stream",
     "text": [
      "fill photonPT for /eos/home-j/jiwoong/WZG_DB/2016/pre_post_separated_220209/FakePhoton/CR/merged/MuonEG_Run2016D.root: 100%|██████████| 1/1 [00:00<00:00, 3148.88it/s]"
     ]
    },
    {
     "name": "stdout",
     "output_type": "stream",
     "text": [
      "is Data\n"
     ]
    },
    {
     "name": "stderr",
     "output_type": "stream",
     "text": [
      "\n"
     ]
    },
    {
     "name": "stdout",
     "output_type": "stream",
     "text": [
      "MuonEG Trigger\n",
      "after trigger 133\n",
      "after MET 90\n",
      "after pt 38\n",
      "after Zmass 5\n",
      "after bjet_veto 3\n",
      "after Photon ID 2\n",
      "after photon pt eta 1\n",
      "events:  1\n"
     ]
    },
    {
     "name": "stderr",
     "output_type": "stream",
     "text": [
      "fill photonPT for /eos/home-j/jiwoong/WZG_DB/2016/pre_post_separated_220209/FakePhoton/CR/merged/MuonEG_Run2016E.root: 100%|██████████| 1/1 [00:00<00:00, 9098.27it/s]"
     ]
    },
    {
     "name": "stdout",
     "output_type": "stream",
     "text": [
      "is Data\n"
     ]
    },
    {
     "name": "stderr",
     "output_type": "stream",
     "text": [
      "\n"
     ]
    },
    {
     "name": "stdout",
     "output_type": "stream",
     "text": [
      "MuonEG Trigger\n",
      "after trigger 114\n",
      "after MET 63\n",
      "after pt 25\n",
      "after Zmass 4\n",
      "after bjet_veto 4\n",
      "after Photon ID 0\n",
      "after photon pt eta 0\n",
      "events:  0\n"
     ]
    },
    {
     "name": "stderr",
     "output_type": "stream",
     "text": [
      "fill photonPT for /eos/home-j/jiwoong/WZG_DB/2016/pre_post_separated_220209/FakePhoton/CR/merged/MuonEG_Run2016F.root: 0it [00:00, ?it/s]"
     ]
    },
    {
     "name": "stdout",
     "output_type": "stream",
     "text": [
      "is Data\n"
     ]
    },
    {
     "name": "stderr",
     "output_type": "stream",
     "text": [
      "\n"
     ]
    },
    {
     "name": "stdout",
     "output_type": "stream",
     "text": [
      "MuonEG Trigger\n",
      "after trigger 280\n",
      "after MET 206\n",
      "after pt 111\n",
      "after Zmass 13\n",
      "after bjet_veto 7\n",
      "after Photon ID 3\n",
      "after photon pt eta 2\n",
      "events:  2\n"
     ]
    },
    {
     "name": "stderr",
     "output_type": "stream",
     "text": [
      "fill photonPT for /eos/home-j/jiwoong/WZG_DB/2016/pre_post_separated_220209/FakePhoton/CR/merged/MuonEG_Run2016G.root: 100%|██████████| 2/2 [00:00<00:00, 13168.93it/s]"
     ]
    },
    {
     "name": "stdout",
     "output_type": "stream",
     "text": [
      "is Data\n"
     ]
    },
    {
     "name": "stderr",
     "output_type": "stream",
     "text": [
      "\n"
     ]
    },
    {
     "name": "stdout",
     "output_type": "stream",
     "text": [
      "MuonEG Trigger\n",
      "after trigger 276\n",
      "after MET 196\n",
      "after pt 71\n",
      "after Zmass 12\n",
      "after bjet_veto 8\n",
      "after Photon ID 3\n",
      "after photon pt eta 3\n",
      "events:  3\n"
     ]
    },
    {
     "name": "stderr",
     "output_type": "stream",
     "text": [
      "fill photonPT for /eos/home-j/jiwoong/WZG_DB/2016/pre_post_separated_220209/FakePhoton/CR/merged/MuonEG_Run2016H.root: 100%|██████████| 3/3 [00:00<00:00, 11008.67it/s]"
     ]
    },
    {
     "name": "stdout",
     "output_type": "stream",
     "text": [
      "is Data\n"
     ]
    },
    {
     "name": "stderr",
     "output_type": "stream",
     "text": [
      "\n"
     ]
    },
    {
     "name": "stdout",
     "output_type": "stream",
     "text": [
      "SingleElectron trigger\n",
      "after trigger 17501\n",
      "after MET 6138\n",
      "after pt 761\n",
      "after Zmass 492\n",
      "after bjet_veto 473\n",
      "after Photon ID 113\n",
      "after photon pt eta 84\n",
      "events:  84\n"
     ]
    },
    {
     "name": "stderr",
     "output_type": "stream",
     "text": [
      "fill photonPT for /eos/home-j/jiwoong/WZG_DB/2016/pre_post_separated_220209/FakePhoton/CR/merged/SingleElectron_Run2016B.root: 100%|██████████| 84/84 [00:00<00:00, 165409.17it/s]"
     ]
    },
    {
     "name": "stdout",
     "output_type": "stream",
     "text": [
      "is Data\n"
     ]
    },
    {
     "name": "stderr",
     "output_type": "stream",
     "text": [
      "\n"
     ]
    },
    {
     "name": "stdout",
     "output_type": "stream",
     "text": [
      "SingleElectron trigger\n",
      "after trigger 7197\n",
      "after MET 2776\n",
      "after pt 291\n",
      "after Zmass 213\n",
      "after bjet_veto 194\n",
      "after Photon ID 44\n",
      "after photon pt eta 29\n",
      "events:  29\n"
     ]
    },
    {
     "name": "stderr",
     "output_type": "stream",
     "text": [
      "fill photonPT for /eos/home-j/jiwoong/WZG_DB/2016/pre_post_separated_220209/FakePhoton/CR/merged/SingleElectron_Run2016C.root: 100%|██████████| 29/29 [00:00<00:00, 127499.81it/s]"
     ]
    },
    {
     "name": "stdout",
     "output_type": "stream",
     "text": [
      "is Data\n"
     ]
    },
    {
     "name": "stderr",
     "output_type": "stream",
     "text": [
      "\n"
     ]
    },
    {
     "name": "stdout",
     "output_type": "stream",
     "text": [
      "SingleElectron trigger\n",
      "after trigger 12090\n",
      "after MET 4559\n",
      "after pt 629\n",
      "after Zmass 388\n",
      "after bjet_veto 366\n",
      "after Photon ID 82\n",
      "after photon pt eta 61\n",
      "events:  61\n"
     ]
    },
    {
     "name": "stderr",
     "output_type": "stream",
     "text": [
      "fill photonPT for /eos/home-j/jiwoong/WZG_DB/2016/pre_post_separated_220209/FakePhoton/CR/merged/SingleElectron_Run2016D.root: 100%|██████████| 61/61 [00:00<00:00, 149796.57it/s]"
     ]
    },
    {
     "name": "stdout",
     "output_type": "stream",
     "text": [
      "is Data\n"
     ]
    },
    {
     "name": "stderr",
     "output_type": "stream",
     "text": [
      "\n"
     ]
    },
    {
     "name": "stdout",
     "output_type": "stream",
     "text": [
      "SingleElectron trigger\n",
      "after trigger 10390\n",
      "after MET 4194\n",
      "after pt 692\n",
      "after Zmass 458\n",
      "after bjet_veto 440\n",
      "after Photon ID 91\n",
      "after photon pt eta 66\n",
      "events:  66\n"
     ]
    },
    {
     "name": "stderr",
     "output_type": "stream",
     "text": [
      "fill photonPT for /eos/home-j/jiwoong/WZG_DB/2016/pre_post_separated_220209/FakePhoton/CR/merged/SingleElectron_Run2016E.root: 100%|██████████| 66/66 [00:00<00:00, 65660.36it/s]"
     ]
    },
    {
     "name": "stdout",
     "output_type": "stream",
     "text": [
      "is Data\n"
     ]
    },
    {
     "name": "stderr",
     "output_type": "stream",
     "text": [
      "\n"
     ]
    },
    {
     "name": "stdout",
     "output_type": "stream",
     "text": [
      "SingleElectron trigger\n",
      "after trigger 8234\n",
      "after MET 3456\n",
      "after pt 579\n",
      "after Zmass 407\n",
      "after bjet_veto 393\n",
      "after Photon ID 97\n",
      "after photon pt eta 74\n",
      "events:  74\n"
     ]
    },
    {
     "name": "stderr",
     "output_type": "stream",
     "text": [
      "fill photonPT for /eos/home-j/jiwoong/WZG_DB/2016/pre_post_separated_220209/FakePhoton/CR/merged/SingleElectron_Run2016F.root: 100%|██████████| 74/74 [00:00<00:00, 170350.44it/s]"
     ]
    },
    {
     "name": "stdout",
     "output_type": "stream",
     "text": [
      "is Data\n"
     ]
    },
    {
     "name": "stderr",
     "output_type": "stream",
     "text": [
      "\n"
     ]
    },
    {
     "name": "stdout",
     "output_type": "stream",
     "text": [
      "SingleElectron trigger\n",
      "after trigger 23451\n",
      "after MET 9886\n",
      "after pt 2021\n",
      "after Zmass 1383\n",
      "after bjet_veto 1312\n",
      "after Photon ID 293\n",
      "after photon pt eta 219\n",
      "events:  219\n"
     ]
    },
    {
     "name": "stderr",
     "output_type": "stream",
     "text": [
      "fill photonPT for /eos/home-j/jiwoong/WZG_DB/2016/pre_post_separated_220209/FakePhoton/CR/merged/SingleElectron_Run2016G.root: 100%|██████████| 219/219 [00:00<00:00, 208194.15it/s]"
     ]
    },
    {
     "name": "stdout",
     "output_type": "stream",
     "text": [
      "is Data\n"
     ]
    },
    {
     "name": "stderr",
     "output_type": "stream",
     "text": [
      "\n"
     ]
    },
    {
     "name": "stdout",
     "output_type": "stream",
     "text": [
      "SingleElectron trigger\n",
      "after trigger 26053\n",
      "after MET 11373\n",
      "after pt 2199\n",
      "after Zmass 1522\n",
      "after bjet_veto 1421\n",
      "after Photon ID 289\n",
      "after photon pt eta 206\n",
      "events:  206\n"
     ]
    },
    {
     "name": "stderr",
     "output_type": "stream",
     "text": [
      "fill photonPT for /eos/home-j/jiwoong/WZG_DB/2016/pre_post_separated_220209/FakePhoton/CR/merged/SingleElectron_Run2016H.root: 100%|██████████| 206/206 [00:00<00:00, 88355.31it/s]"
     ]
    },
    {
     "name": "stdout",
     "output_type": "stream",
     "text": [
      "is Data\n"
     ]
    },
    {
     "name": "stderr",
     "output_type": "stream",
     "text": [
      "\n"
     ]
    },
    {
     "name": "stdout",
     "output_type": "stream",
     "text": [
      "SingleMuon trigger\n",
      "after trigger 26828\n",
      "after MET 9448\n",
      "after pt 1465\n",
      "after Zmass 888\n",
      "after bjet_veto 825\n",
      "after Photon ID 214\n",
      "after photon pt eta 162\n",
      "events:  162\n"
     ]
    },
    {
     "name": "stderr",
     "output_type": "stream",
     "text": [
      "fill photonPT for /eos/home-j/jiwoong/WZG_DB/2016/pre_post_separated_220209/FakePhoton/CR/merged/SingleMuon_Run2016B.root: 100%|██████████| 162/162 [00:00<00:00, 214210.99it/s]"
     ]
    },
    {
     "name": "stdout",
     "output_type": "stream",
     "text": [
      "is Data\n"
     ]
    },
    {
     "name": "stderr",
     "output_type": "stream",
     "text": [
      "\n"
     ]
    },
    {
     "name": "stdout",
     "output_type": "stream",
     "text": [
      "SingleMuon trigger\n",
      "after trigger 12592\n",
      "after MET 4912\n",
      "after pt 1081\n",
      "after Zmass 621\n",
      "after bjet_veto 576\n",
      "after Photon ID 173\n",
      "after photon pt eta 142\n",
      "events:  142\n"
     ]
    },
    {
     "name": "stderr",
     "output_type": "stream",
     "text": [
      "fill photonPT for /eos/home-j/jiwoong/WZG_DB/2016/pre_post_separated_220209/FakePhoton/CR/merged/SingleMuon_Run2016C.root: 100%|██████████| 142/142 [00:00<00:00, 185715.99it/s]"
     ]
    },
    {
     "name": "stdout",
     "output_type": "stream",
     "text": [
      "is Data\n"
     ]
    },
    {
     "name": "stderr",
     "output_type": "stream",
     "text": [
      "\n"
     ]
    },
    {
     "name": "stdout",
     "output_type": "stream",
     "text": [
      "SingleMuon trigger\n",
      "after trigger 20697\n",
      "after MET 7969\n",
      "after pt 1335\n",
      "after Zmass 784\n",
      "after bjet_veto 727\n",
      "after Photon ID 167\n",
      "after photon pt eta 123\n",
      "events:  123\n"
     ]
    },
    {
     "name": "stderr",
     "output_type": "stream",
     "text": [
      "fill photonPT for /eos/home-j/jiwoong/WZG_DB/2016/pre_post_separated_220209/FakePhoton/CR/merged/SingleMuon_Run2016D.root: 100%|██████████| 123/123 [00:00<00:00, 118081.80it/s]"
     ]
    },
    {
     "name": "stdout",
     "output_type": "stream",
     "text": [
      "is Data\n"
     ]
    },
    {
     "name": "stderr",
     "output_type": "stream",
     "text": [
      "\n"
     ]
    },
    {
     "name": "stdout",
     "output_type": "stream",
     "text": [
      "SingleMuon trigger\n",
      "after trigger 18656\n",
      "after MET 7760\n",
      "after pt 1402\n",
      "after Zmass 810\n",
      "after bjet_veto 760\n",
      "after Photon ID 188\n",
      "after photon pt eta 145\n",
      "events:  145\n"
     ]
    },
    {
     "name": "stderr",
     "output_type": "stream",
     "text": [
      "fill photonPT for /eos/home-j/jiwoong/WZG_DB/2016/pre_post_separated_220209/FakePhoton/CR/merged/SingleMuon_Run2016E.root: 100%|██████████| 145/145 [00:00<00:00, 204910.40it/s]"
     ]
    },
    {
     "name": "stdout",
     "output_type": "stream",
     "text": [
      "is Data\n"
     ]
    },
    {
     "name": "stderr",
     "output_type": "stream",
     "text": [
      "\n"
     ]
    },
    {
     "name": "stdout",
     "output_type": "stream",
     "text": [
      "SingleMuon trigger\n",
      "after trigger 14784\n",
      "after MET 6263\n",
      "after pt 1263\n",
      "after Zmass 755\n",
      "after bjet_veto 709\n",
      "after Photon ID 185\n",
      "after photon pt eta 130\n",
      "events:  130\n"
     ]
    },
    {
     "name": "stderr",
     "output_type": "stream",
     "text": [
      "fill photonPT for /eos/home-j/jiwoong/WZG_DB/2016/pre_post_separated_220209/FakePhoton/CR/merged/SingleMuon_Run2016F.root: 100%|██████████| 130/130 [00:00<00:00, 192263.58it/s]"
     ]
    },
    {
     "name": "stdout",
     "output_type": "stream",
     "text": [
      "is Data\n"
     ]
    },
    {
     "name": "stderr",
     "output_type": "stream",
     "text": [
      "\n"
     ]
    },
    {
     "name": "stdout",
     "output_type": "stream",
     "text": [
      "SingleMuon trigger\n",
      "after trigger 40818\n",
      "after MET 17351\n",
      "after pt 4592\n",
      "after Zmass 2709\n",
      "after bjet_veto 2522\n",
      "after Photon ID 566\n",
      "after photon pt eta 423\n",
      "events:  423\n"
     ]
    },
    {
     "name": "stderr",
     "output_type": "stream",
     "text": [
      "fill photonPT for /eos/home-j/jiwoong/WZG_DB/2016/pre_post_separated_220209/FakePhoton/CR/merged/SingleMuon_Run2016G.root: 100%|██████████| 423/423 [00:00<00:00, 213757.90it/s]"
     ]
    },
    {
     "name": "stdout",
     "output_type": "stream",
     "text": [
      "is Data\n"
     ]
    },
    {
     "name": "stderr",
     "output_type": "stream",
     "text": [
      "\n"
     ]
    },
    {
     "name": "stdout",
     "output_type": "stream",
     "text": [
      "SingleMuon trigger\n",
      "after trigger 47810\n",
      "after MET 21097\n",
      "after pt 5074\n",
      "after Zmass 3043\n",
      "after bjet_veto 2823\n",
      "after Photon ID 632\n",
      "after photon pt eta 462\n",
      "events:  462\n"
     ]
    },
    {
     "name": "stderr",
     "output_type": "stream",
     "text": [
      "fill photonPT for /eos/home-j/jiwoong/WZG_DB/2016/pre_post_separated_220209/FakePhoton/CR/merged/SingleMuon_Run2016H.root: 100%|██████████| 462/462 [00:00<00:00, 214378.63it/s]"
     ]
    },
    {
     "name": "stdout",
     "output_type": "stream",
     "text": [
      "is MC\n"
     ]
    },
    {
     "name": "stderr",
     "output_type": "stream",
     "text": [
      "\n"
     ]
    },
    {
     "name": "stdout",
     "output_type": "stream",
     "text": [
      "isMC\n",
      "after trigger 32620\n",
      "after MET 29233\n",
      "after pt 17349\n",
      "after Zmass 3224\n",
      "after bjet_veto 1090\n",
      "after Photon ID 835\n",
      "after photon pt eta 689\n",
      "events:  689\n"
     ]
    },
    {
     "name": "stderr",
     "output_type": "stream",
     "text": [
      "fill photonPT for /eos/home-j/jiwoong/WZG_DB/2016/pre_post_separated_220209/FakePhoton/CR/merged/TTGJets_TuneCP5_13TeV-amcatnloFXFX-madspin-pythia8_2016.root: 100%|██████████| 689/689 [00:00<00:00, 48092.45it/s]"
     ]
    },
    {
     "name": "stdout",
     "output_type": "stream",
     "text": [
      "is MC\n"
     ]
    },
    {
     "name": "stderr",
     "output_type": "stream",
     "text": [
      "\n"
     ]
    },
    {
     "name": "stdout",
     "output_type": "stream",
     "text": [
      "isMC\n",
      "after trigger 170133\n",
      "after MET 139256\n",
      "after pt 127840\n",
      "after Zmass 76130\n",
      "after bjet_veto 24851\n",
      "after Photon ID 5922\n",
      "after photon pt eta 4388\n",
      "events:  4388\n"
     ]
    },
    {
     "name": "stderr",
     "output_type": "stream",
     "text": [
      "fill photonPT for /eos/home-j/jiwoong/WZG_DB/2016/pre_post_separated_220209/FakePhoton/CR/merged/TTZToLLNuNu_M-10_TuneCP5_13TeV-amcatnlo-pythia8_2016.root: 100%|██████████| 4388/4388 [00:00<00:00, 99300.25it/s]"
     ]
    },
    {
     "name": "stdout",
     "output_type": "stream",
     "text": [
      "is MC\n"
     ]
    },
    {
     "name": "stderr",
     "output_type": "stream",
     "text": [
      "\n"
     ]
    },
    {
     "name": "stdout",
     "output_type": "stream",
     "text": [
      "isMC\n",
      "after trigger 45760\n",
      "after MET 41845\n",
      "after pt 36463\n",
      "after Zmass 6703\n",
      "after bjet_veto 2256\n",
      "after Photon ID 658\n",
      "after photon pt eta 478\n",
      "events:  478\n"
     ]
    },
    {
     "name": "stderr",
     "output_type": "stream",
     "text": [
      "fill photonPT for /eos/home-j/jiwoong/WZG_DB/2016/pre_post_separated_220209/FakePhoton/CR/merged/TTWJetsToLNu_TuneCP5_13TeV-amcatnloFXFX-madspin-pythia8_2016.root: 100%|██████████| 478/478 [00:00<00:00, 127164.61it/s]"
     ]
    },
    {
     "name": "stdout",
     "output_type": "stream",
     "text": [
      "is MC\n"
     ]
    },
    {
     "name": "stderr",
     "output_type": "stream",
     "text": [
      "\n"
     ]
    },
    {
     "name": "stdout",
     "output_type": "stream",
     "text": [
      "isMC\n",
      "after trigger 129340\n",
      "after MET 86420\n",
      "after pt 77846\n",
      "after Zmass 54819\n",
      "after bjet_veto 24939\n",
      "after Photon ID 5535\n",
      "after photon pt eta 4055\n",
      "events:  4055\n"
     ]
    },
    {
     "name": "stderr",
     "output_type": "stream",
     "text": [
      "fill photonPT for /eos/home-j/jiwoong/WZG_DB/2016/pre_post_separated_220209/FakePhoton/CR/merged/tZq_ll_4f_ckm_NLO_TuneCP5_13TeV-amcatnlo-pythia8_2016.root: 100%|██████████| 4055/4055 [00:00<00:00, 99800.51it/s]"
     ]
    },
    {
     "name": "stdout",
     "output_type": "stream",
     "text": [
      "is MC\n"
     ]
    },
    {
     "name": "stderr",
     "output_type": "stream",
     "text": [
      "\n"
     ]
    },
    {
     "name": "stdout",
     "output_type": "stream",
     "text": [
      "isMC\n",
      "after trigger 148\n",
      "after MET 134\n",
      "after pt 29\n",
      "after Zmass 2\n",
      "after bjet_veto 2\n",
      "after Photon ID 0\n",
      "after photon pt eta 0\n",
      "events:  0\n"
     ]
    },
    {
     "name": "stderr",
     "output_type": "stream",
     "text": [
      "fill photonPT for /eos/home-j/jiwoong/WZG_DB/2016/pre_post_separated_220209/FakePhoton/CR/merged/WWW_4F_TuneCP5_13TeV-amcatnlo-pythia8_2016.root: 0it [00:00, ?it/s]"
     ]
    },
    {
     "name": "stdout",
     "output_type": "stream",
     "text": [
      "is MC\n"
     ]
    },
    {
     "name": "stderr",
     "output_type": "stream",
     "text": [
      "\n"
     ]
    },
    {
     "name": "stdout",
     "output_type": "stream",
     "text": [
      "isMC\n",
      "after trigger 3877650\n",
      "after MET 1194133\n",
      "after pt 973545\n",
      "after Zmass 359179\n",
      "after bjet_veto 352789\n",
      "after Photon ID 273861\n",
      "after photon pt eta 212609\n",
      "events:  212609\n"
     ]
    },
    {
     "name": "stderr",
     "output_type": "stream",
     "text": [
      "fill photonPT for /eos/home-j/jiwoong/WZG_DB/2016/pre_post_separated_220209/FakePhoton/CR/merged/ZGToLLG_01J_5f_TuneCP5_13TeV-amcatnloFXFX-pythia8_2016.root: 100%|██████████| 212609/212609 [00:02<00:00, 99449.85it/s] \n"
     ]
    },
    {
     "name": "stdout",
     "output_type": "stream",
     "text": [
      "is MC\n",
      "isMC\n",
      "after trigger 5896\n",
      "after MET 2329\n",
      "after pt 1851\n",
      "after Zmass 1408\n",
      "after bjet_veto 1297\n",
      "after Photon ID 324\n",
      "after photon pt eta 235\n",
      "events:  235\n"
     ]
    },
    {
     "name": "stderr",
     "output_type": "stream",
     "text": [
      "fill photonPT for /eos/home-j/jiwoong/WZG_DB/2016/pre_post_separated_220209/FakePhoton/CR/merged/ZZ_TuneCP5_13TeV-pythia8_2016.root: 100%|██████████| 235/235 [00:00<00:00, 123253.90it/s]"
     ]
    },
    {
     "name": "stdout",
     "output_type": "stream",
     "text": [
      "is MC\n"
     ]
    },
    {
     "name": "stderr",
     "output_type": "stream",
     "text": [
      "\n"
     ]
    },
    {
     "name": "stdout",
     "output_type": "stream",
     "text": [
      "isMC\n",
      "after trigger 23791\n",
      "after MET 18780\n",
      "after pt 16029\n",
      "after Zmass 5533\n",
      "after bjet_veto 5469\n",
      "after Photon ID 4319\n",
      "after photon pt eta 3394\n",
      "events:  3394\n"
     ]
    },
    {
     "name": "stderr",
     "output_type": "stream",
     "text": [
      "fill photonPT for /eos/home-j/jiwoong/WZG_DB/2016/pre_post_separated_220209/FakePhoton/CR/merged/wza_2016.root: 100%|██████████| 3394/3394 [00:00<00:00, 130098.13it/s]"
     ]
    },
    {
     "name": "stdout",
     "output_type": "stream",
     "text": [
      "is MC\n"
     ]
    },
    {
     "name": "stderr",
     "output_type": "stream",
     "text": [
      "\n"
     ]
    },
    {
     "name": "stdout",
     "output_type": "stream",
     "text": [
      "isMC\n",
      "after trigger 572\n",
      "after MET 457\n",
      "after pt 322\n",
      "after Zmass 176\n",
      "after bjet_veto 172\n",
      "after Photon ID 59\n",
      "after photon pt eta 44\n",
      "events:  44\n"
     ]
    },
    {
     "name": "stderr",
     "output_type": "stream",
     "text": [
      "fill photonPT for /eos/home-j/jiwoong/WZG_DB/2016/pre_post_separated_220209/FakePhoton/CR/merged/WWZ_4F_TuneCP5_13TeV-amcatnlo-pythia8_2016.root: 100%|██████████| 44/44 [00:00<00:00, 55856.35it/s]"
     ]
    },
    {
     "name": "stdout",
     "output_type": "stream",
     "text": [
      "is MC\n"
     ]
    },
    {
     "name": "stderr",
     "output_type": "stream",
     "text": [
      "\n"
     ]
    },
    {
     "name": "stdout",
     "output_type": "stream",
     "text": [
      "isMC\n",
      "after trigger 287912\n",
      "after MET 94017\n",
      "after pt 85068\n",
      "after Zmass 57414\n",
      "after bjet_veto 56765\n",
      "after Photon ID 40573\n",
      "after photon pt eta 31002\n",
      "events:  31002\n"
     ]
    },
    {
     "name": "stderr",
     "output_type": "stream",
     "text": [
      "fill photonPT for /eos/home-j/jiwoong/WZG_DB/2016/pre_post_separated_220209/FakePhoton/CR/merged/GluGluToContinToZZTo2e2mu_TuneCP5_13TeV-mcfm701-pythia8_2016.root: 100%|██████████| 31002/31002 [00:00<00:00, 131030.26it/s]\n"
     ]
    },
    {
     "name": "stdout",
     "output_type": "stream",
     "text": [
      "is MC\n",
      "isMC\n",
      "after trigger 36880\n",
      "after MET 22389\n",
      "after pt 19531\n",
      "after Zmass 14498\n",
      "after bjet_veto 14236\n",
      "after Photon ID 3547\n",
      "after photon pt eta 2808\n",
      "events:  2808\n"
     ]
    },
    {
     "name": "stderr",
     "output_type": "stream",
     "text": [
      "fill photonPT for /eos/home-j/jiwoong/WZG_DB/2016/pre_post_separated_220209/FakePhoton/CR/merged/GluGluToContinToZZTo2e2tau_TuneCP5_13TeV-mcfm701-pythia8_2016.root: 100%|██████████| 2808/2808 [00:00<00:00, 96026.14it/s]"
     ]
    },
    {
     "name": "stdout",
     "output_type": "stream",
     "text": [
      "is MC\n"
     ]
    },
    {
     "name": "stderr",
     "output_type": "stream",
     "text": [
      "\n"
     ]
    },
    {
     "name": "stdout",
     "output_type": "stream",
     "text": [
      "isMC\n",
      "after trigger 46554\n",
      "after MET 27426\n",
      "after pt 24023\n",
      "after Zmass 19959\n",
      "after bjet_veto 19627\n",
      "after Photon ID 4461\n",
      "after photon pt eta 3535\n",
      "events:  3535\n"
     ]
    },
    {
     "name": "stderr",
     "output_type": "stream",
     "text": [
      "fill photonPT for /eos/home-j/jiwoong/WZG_DB/2016/pre_post_separated_220209/FakePhoton/CR/merged/GluGluToContinToZZTo2mu2tau_TuneCP5_13TeV-mcfm701-pythia8_2016.root: 100%|██████████| 3535/3535 [00:00<00:00, 130303.68it/s]"
     ]
    },
    {
     "name": "stdout",
     "output_type": "stream",
     "text": [
      "is MC\n"
     ]
    },
    {
     "name": "stderr",
     "output_type": "stream",
     "text": [
      "\n"
     ]
    },
    {
     "name": "stdout",
     "output_type": "stream",
     "text": [
      "isMC\n",
      "after trigger 448806\n",
      "after MET 149564\n",
      "after pt 136357\n",
      "after Zmass 84327\n",
      "after bjet_veto 83448\n",
      "after Photon ID 59991\n",
      "after photon pt eta 44683\n",
      "events:  44683\n"
     ]
    },
    {
     "name": "stderr",
     "output_type": "stream",
     "text": [
      "fill photonPT for /eos/home-j/jiwoong/WZG_DB/2016/pre_post_separated_220209/FakePhoton/CR/merged/GluGluToContinToZZTo4e_TuneCP5_13TeV-mcfm701-pythia8_2016.root: 100%|██████████| 44683/44683 [00:00<00:00, 99294.91it/s]\n"
     ]
    },
    {
     "name": "stdout",
     "output_type": "stream",
     "text": [
      "is MC\n",
      "isMC\n",
      "after trigger 723069\n",
      "after MET 229703\n",
      "after pt 206429\n",
      "after Zmass 140389\n",
      "after bjet_veto 138896\n",
      "after Photon ID 98807\n",
      "after photon pt eta 84241\n",
      "events:  84241\n"
     ]
    },
    {
     "name": "stderr",
     "output_type": "stream",
     "text": [
      "fill photonPT for /eos/home-j/jiwoong/WZG_DB/2016/pre_post_separated_220209/FakePhoton/CR/merged/GluGluToContinToZZTo4mu_TuneCP5_13TeV-mcfm701-pythia8_2016.root: 100%|██████████| 84241/84241 [00:00<00:00, 131008.48it/s]\n"
     ]
    },
    {
     "name": "stdout",
     "output_type": "stream",
     "text": [
      "is MC\n",
      "isMC\n",
      "after trigger 3672\n",
      "after MET 2433\n",
      "after pt 1111\n",
      "after Zmass 191\n",
      "after bjet_veto 188\n",
      "after Photon ID 53\n",
      "after photon pt eta 41\n",
      "events:  41\n"
     ]
    },
    {
     "name": "stderr",
     "output_type": "stream",
     "text": [
      "fill photonPT for /eos/home-j/jiwoong/WZG_DB/2016/pre_post_separated_220209/FakePhoton/CR/merged/GluGluToContinToZZTo4tau_TuneCP5_13TeV-mcfm701-pythia8_2016.root: 100%|██████████| 41/41 [00:00<00:00, 82955.36it/s]"
     ]
    },
    {
     "name": "stdout",
     "output_type": "stream",
     "text": [
      "is Data\n"
     ]
    },
    {
     "name": "stderr",
     "output_type": "stream",
     "text": [
      "\n"
     ]
    },
    {
     "name": "stdout",
     "output_type": "stream",
     "text": [
      "after pt 100\n",
      "after Zmass 30\n",
      "after bjet_veto 28\n",
      "events:  5\n"
     ]
    },
    {
     "name": "stderr",
     "output_type": "stream",
     "text": [
      "fill photonPT for /eos/home-j/jiwoong/WZG_DB/2016/pre_post_separated_220209/FakePhoton/CR/merged/DoubleEG_Run2016B.root: 100%|██████████| 5/5 [00:00<00:00, 41692.88it/s]"
     ]
    },
    {
     "name": "stdout",
     "output_type": "stream",
     "text": [
      "is Data\n"
     ]
    },
    {
     "name": "stderr",
     "output_type": "stream",
     "text": [
      "\n"
     ]
    },
    {
     "name": "stdout",
     "output_type": "stream",
     "text": [
      "after pt 55\n",
      "after Zmass 21\n",
      "after bjet_veto 21\n",
      "events:  3\n"
     ]
    },
    {
     "name": "stderr",
     "output_type": "stream",
     "text": [
      "fill photonPT for /eos/home-j/jiwoong/WZG_DB/2016/pre_post_separated_220209/FakePhoton/CR/merged/DoubleEG_Run2016C.root: 100%|██████████| 3/3 [00:00<00:00, 12998.88it/s]"
     ]
    },
    {
     "name": "stdout",
     "output_type": "stream",
     "text": [
      "is Data\n"
     ]
    },
    {
     "name": "stderr",
     "output_type": "stream",
     "text": [
      "\n"
     ]
    },
    {
     "name": "stdout",
     "output_type": "stream",
     "text": [
      "after pt 92\n",
      "after Zmass 33\n",
      "after bjet_veto 33\n",
      "events:  5\n"
     ]
    },
    {
     "name": "stderr",
     "output_type": "stream",
     "text": [
      "fill photonPT for /eos/home-j/jiwoong/WZG_DB/2016/pre_post_separated_220209/FakePhoton/CR/merged/DoubleEG_Run2016D.root: 100%|██████████| 5/5 [00:00<00:00, 32017.59it/s]"
     ]
    },
    {
     "name": "stdout",
     "output_type": "stream",
     "text": [
      "is Data\n"
     ]
    },
    {
     "name": "stderr",
     "output_type": "stream",
     "text": [
      "\n"
     ]
    },
    {
     "name": "stdout",
     "output_type": "stream",
     "text": [
      "after pt 127\n",
      "after Zmass 52\n",
      "after bjet_veto 49\n",
      "events:  8\n"
     ]
    },
    {
     "name": "stderr",
     "output_type": "stream",
     "text": [
      "fill photonPT for /eos/home-j/jiwoong/WZG_DB/2016/pre_post_separated_220209/FakePhoton/CR/merged/DoubleEG_Run2016E.root: 100%|██████████| 8/8 [00:00<00:00, 64157.61it/s]"
     ]
    },
    {
     "name": "stdout",
     "output_type": "stream",
     "text": [
      "is Data\n"
     ]
    },
    {
     "name": "stderr",
     "output_type": "stream",
     "text": [
      "\n"
     ]
    },
    {
     "name": "stdout",
     "output_type": "stream",
     "text": [
      "after pt 39\n",
      "after Zmass 12\n",
      "after bjet_veto 12\n",
      "events:  3\n"
     ]
    },
    {
     "name": "stderr",
     "output_type": "stream",
     "text": [
      "fill photonPT for /eos/home-j/jiwoong/WZG_DB/2016/pre_post_separated_220209/FakePhoton/CR/merged/DoubleEG_Run2016F.root: 100%|██████████| 3/3 [00:00<00:00, 24291.34it/s]"
     ]
    },
    {
     "name": "stdout",
     "output_type": "stream",
     "text": [
      "is Data\n"
     ]
    },
    {
     "name": "stderr",
     "output_type": "stream",
     "text": [
      "\n"
     ]
    },
    {
     "name": "stdout",
     "output_type": "stream",
     "text": [
      "after pt 369\n",
      "after Zmass 150\n",
      "after bjet_veto 141\n",
      "events:  12\n"
     ]
    },
    {
     "name": "stderr",
     "output_type": "stream",
     "text": [
      "fill photonPT for /eos/home-j/jiwoong/WZG_DB/2016/pre_post_separated_220209/FakePhoton/CR/merged/DoubleEG_Run2016G.root: 100%|██████████| 12/12 [00:00<00:00, 70393.91it/s]"
     ]
    },
    {
     "name": "stdout",
     "output_type": "stream",
     "text": [
      "is Data\n"
     ]
    },
    {
     "name": "stderr",
     "output_type": "stream",
     "text": [
      "\n"
     ]
    },
    {
     "name": "stdout",
     "output_type": "stream",
     "text": [
      "after pt 341\n",
      "after Zmass 146\n",
      "after bjet_veto 141\n",
      "events:  27\n"
     ]
    },
    {
     "name": "stderr",
     "output_type": "stream",
     "text": [
      "fill photonPT for /eos/home-j/jiwoong/WZG_DB/2016/pre_post_separated_220209/FakePhoton/CR/merged/DoubleEG_Run2016H.root: 100%|██████████| 27/27 [00:00<00:00, 136936.16it/s]"
     ]
    },
    {
     "name": "stdout",
     "output_type": "stream",
     "text": [
      "is Data\n"
     ]
    },
    {
     "name": "stderr",
     "output_type": "stream",
     "text": [
      "\n"
     ]
    },
    {
     "name": "stdout",
     "output_type": "stream",
     "text": [
      "after pt 91\n",
      "after Zmass 20\n",
      "after bjet_veto 20\n",
      "events:  0\n"
     ]
    },
    {
     "name": "stderr",
     "output_type": "stream",
     "text": [
      "fill photonPT for /eos/home-j/jiwoong/WZG_DB/2016/pre_post_separated_220209/FakePhoton/CR/merged/DoubleMuon_Run2016B.root: 0it [00:00, ?it/s]"
     ]
    },
    {
     "name": "stdout",
     "output_type": "stream",
     "text": [
      "is Data\n"
     ]
    },
    {
     "name": "stderr",
     "output_type": "stream",
     "text": [
      "\n"
     ]
    },
    {
     "name": "stdout",
     "output_type": "stream",
     "text": [
      "after pt 73\n",
      "after Zmass 8\n",
      "after bjet_veto 8\n",
      "events:  0\n"
     ]
    },
    {
     "name": "stderr",
     "output_type": "stream",
     "text": [
      "fill photonPT for /eos/home-j/jiwoong/WZG_DB/2016/pre_post_separated_220209/FakePhoton/CR/merged/DoubleMuon_Run2016C.root: 0it [00:00, ?it/s]"
     ]
    },
    {
     "name": "stdout",
     "output_type": "stream",
     "text": [
      "is Data\n"
     ]
    },
    {
     "name": "stderr",
     "output_type": "stream",
     "text": [
      "\n"
     ]
    },
    {
     "name": "stdout",
     "output_type": "stream",
     "text": [
      "after pt 99\n",
      "after Zmass 14\n",
      "after bjet_veto 12\n",
      "events:  2\n"
     ]
    },
    {
     "name": "stderr",
     "output_type": "stream",
     "text": [
      "fill photonPT for /eos/home-j/jiwoong/WZG_DB/2016/pre_post_separated_220209/FakePhoton/CR/merged/DoubleMuon_Run2016D.root: 100%|██████████| 2/2 [00:00<00:00, 9709.04it/s]"
     ]
    },
    {
     "name": "stdout",
     "output_type": "stream",
     "text": [
      "is Data\n"
     ]
    },
    {
     "name": "stderr",
     "output_type": "stream",
     "text": [
      "\n"
     ]
    },
    {
     "name": "stdout",
     "output_type": "stream",
     "text": [
      "after pt 145\n",
      "after Zmass 28\n",
      "after bjet_veto 28\n",
      "events:  5\n"
     ]
    },
    {
     "name": "stderr",
     "output_type": "stream",
     "text": [
      "fill photonPT for /eos/home-j/jiwoong/WZG_DB/2016/pre_post_separated_220209/FakePhoton/CR/merged/DoubleMuon_Run2016E.root: 100%|██████████| 5/5 [00:00<00:00, 20661.60it/s]"
     ]
    },
    {
     "name": "stdout",
     "output_type": "stream",
     "text": [
      "is Data\n"
     ]
    },
    {
     "name": "stderr",
     "output_type": "stream",
     "text": [
      "\n"
     ]
    },
    {
     "name": "stdout",
     "output_type": "stream",
     "text": [
      "after pt 143\n",
      "after Zmass 26\n",
      "after bjet_veto 25\n",
      "events:  2\n"
     ]
    },
    {
     "name": "stderr",
     "output_type": "stream",
     "text": [
      "fill photonPT for /eos/home-j/jiwoong/WZG_DB/2016/pre_post_separated_220209/FakePhoton/CR/merged/DoubleMuon_Run2016F.root: 100%|██████████| 2/2 [00:00<00:00, 15827.56it/s]"
     ]
    },
    {
     "name": "stdout",
     "output_type": "stream",
     "text": [
      "is Data\n"
     ]
    },
    {
     "name": "stderr",
     "output_type": "stream",
     "text": [
      "\n"
     ]
    },
    {
     "name": "stdout",
     "output_type": "stream",
     "text": [
      "after pt 504\n",
      "after Zmass 117\n",
      "after bjet_veto 106\n",
      "events:  14\n"
     ]
    },
    {
     "name": "stderr",
     "output_type": "stream",
     "text": [
      "fill photonPT for /eos/home-j/jiwoong/WZG_DB/2016/pre_post_separated_220209/FakePhoton/CR/merged/DoubleMuon_Run2016G.root: 100%|██████████| 14/14 [00:00<00:00, 46272.86it/s]"
     ]
    },
    {
     "name": "stdout",
     "output_type": "stream",
     "text": [
      "is Data\n"
     ]
    },
    {
     "name": "stderr",
     "output_type": "stream",
     "text": [
      "\n"
     ]
    },
    {
     "name": "stdout",
     "output_type": "stream",
     "text": [
      "after pt 418\n",
      "after Zmass 101\n",
      "after bjet_veto 93\n",
      "events:  11\n"
     ]
    },
    {
     "name": "stderr",
     "output_type": "stream",
     "text": [
      "fill photonPT for /eos/home-j/jiwoong/WZG_DB/2016/pre_post_separated_220209/FakePhoton/CR/merged/DoubleMuon_Run2016H.root: 100%|██████████| 11/11 [00:00<00:00, 27332.55it/s]"
     ]
    },
    {
     "name": "stdout",
     "output_type": "stream",
     "text": [
      "is Data\n"
     ]
    },
    {
     "name": "stderr",
     "output_type": "stream",
     "text": [
      "\n"
     ]
    },
    {
     "name": "stdout",
     "output_type": "stream",
     "text": [
      "after pt 58\n",
      "after Zmass 8\n",
      "after bjet_veto 6\n",
      "events:  0\n"
     ]
    },
    {
     "name": "stderr",
     "output_type": "stream",
     "text": [
      "fill photonPT for /eos/home-j/jiwoong/WZG_DB/2016/pre_post_separated_220209/FakePhoton/CR/merged/MuonEG_Run2016B.root: 0it [00:00, ?it/s]"
     ]
    },
    {
     "name": "stdout",
     "output_type": "stream",
     "text": [
      "is Data\n"
     ]
    },
    {
     "name": "stderr",
     "output_type": "stream",
     "text": [
      "\n"
     ]
    },
    {
     "name": "stdout",
     "output_type": "stream",
     "text": [
      "after pt 15\n",
      "after Zmass 5\n",
      "after bjet_veto 2\n",
      "events:  0\n"
     ]
    },
    {
     "name": "stderr",
     "output_type": "stream",
     "text": [
      "fill photonPT for /eos/home-j/jiwoong/WZG_DB/2016/pre_post_separated_220209/FakePhoton/CR/merged/MuonEG_Run2016C.root: 0it [00:00, ?it/s]"
     ]
    },
    {
     "name": "stdout",
     "output_type": "stream",
     "text": [
      "is Data\n"
     ]
    },
    {
     "name": "stderr",
     "output_type": "stream",
     "text": [
      "\n"
     ]
    },
    {
     "name": "stdout",
     "output_type": "stream",
     "text": [
      "after pt 33\n",
      "after Zmass 3\n",
      "after bjet_veto 2\n",
      "events:  0\n"
     ]
    },
    {
     "name": "stderr",
     "output_type": "stream",
     "text": [
      "fill photonPT for /eos/home-j/jiwoong/WZG_DB/2016/pre_post_separated_220209/FakePhoton/CR/merged/MuonEG_Run2016D.root: 0it [00:00, ?it/s]"
     ]
    },
    {
     "name": "stdout",
     "output_type": "stream",
     "text": [
      "is Data\n"
     ]
    },
    {
     "name": "stderr",
     "output_type": "stream",
     "text": [
      "\n"
     ]
    },
    {
     "name": "stdout",
     "output_type": "stream",
     "text": [
      "after pt 38\n",
      "after Zmass 5\n",
      "after bjet_veto 3\n",
      "events:  0\n"
     ]
    },
    {
     "name": "stderr",
     "output_type": "stream",
     "text": [
      "fill photonPT for /eos/home-j/jiwoong/WZG_DB/2016/pre_post_separated_220209/FakePhoton/CR/merged/MuonEG_Run2016E.root: 0it [00:00, ?it/s]"
     ]
    },
    {
     "name": "stdout",
     "output_type": "stream",
     "text": [
      "is Data\n"
     ]
    },
    {
     "name": "stderr",
     "output_type": "stream",
     "text": [
      "\n"
     ]
    },
    {
     "name": "stdout",
     "output_type": "stream",
     "text": [
      "after pt 25\n",
      "after Zmass 4\n",
      "after bjet_veto 4\n",
      "events:  2\n"
     ]
    },
    {
     "name": "stderr",
     "output_type": "stream",
     "text": [
      "fill photonPT for /eos/home-j/jiwoong/WZG_DB/2016/pre_post_separated_220209/FakePhoton/CR/merged/MuonEG_Run2016F.root: 100%|██████████| 2/2 [00:00<00:00, 20971.52it/s]"
     ]
    },
    {
     "name": "stdout",
     "output_type": "stream",
     "text": [
      "is Data\n"
     ]
    },
    {
     "name": "stderr",
     "output_type": "stream",
     "text": [
      "\n"
     ]
    },
    {
     "name": "stdout",
     "output_type": "stream",
     "text": [
      "after pt 111\n",
      "after Zmass 13\n",
      "after bjet_veto 7\n",
      "events:  1\n"
     ]
    },
    {
     "name": "stderr",
     "output_type": "stream",
     "text": [
      "fill photonPT for /eos/home-j/jiwoong/WZG_DB/2016/pre_post_separated_220209/FakePhoton/CR/merged/MuonEG_Run2016G.root: 100%|██████████| 1/1 [00:00<00:00, 7423.55it/s]"
     ]
    },
    {
     "name": "stdout",
     "output_type": "stream",
     "text": [
      "is Data\n"
     ]
    },
    {
     "name": "stderr",
     "output_type": "stream",
     "text": [
      "\n"
     ]
    },
    {
     "name": "stdout",
     "output_type": "stream",
     "text": [
      "after pt 71\n",
      "after Zmass 12\n",
      "after bjet_veto 8\n",
      "events:  0\n"
     ]
    },
    {
     "name": "stderr",
     "output_type": "stream",
     "text": [
      "fill photonPT for /eos/home-j/jiwoong/WZG_DB/2016/pre_post_separated_220209/FakePhoton/CR/merged/MuonEG_Run2016H.root: 0it [00:00, ?it/s]"
     ]
    },
    {
     "name": "stdout",
     "output_type": "stream",
     "text": [
      "is Data\n"
     ]
    },
    {
     "name": "stderr",
     "output_type": "stream",
     "text": [
      "\n"
     ]
    },
    {
     "name": "stdout",
     "output_type": "stream",
     "text": [
      "after pt 761\n",
      "after Zmass 492\n",
      "after bjet_veto 473\n",
      "events:  64\n"
     ]
    },
    {
     "name": "stderr",
     "output_type": "stream",
     "text": [
      "fill photonPT for /eos/home-j/jiwoong/WZG_DB/2016/pre_post_separated_220209/FakePhoton/CR/merged/SingleElectron_Run2016B.root: 100%|██████████| 64/64 [00:00<00:00, 178718.68it/s]"
     ]
    },
    {
     "name": "stdout",
     "output_type": "stream",
     "text": [
      "is Data\n"
     ]
    },
    {
     "name": "stderr",
     "output_type": "stream",
     "text": [
      "\n"
     ]
    },
    {
     "name": "stdout",
     "output_type": "stream",
     "text": [
      "after pt 291\n",
      "after Zmass 213\n",
      "after bjet_veto 194\n",
      "events:  25\n"
     ]
    },
    {
     "name": "stderr",
     "output_type": "stream",
     "text": [
      "fill photonPT for /eos/home-j/jiwoong/WZG_DB/2016/pre_post_separated_220209/FakePhoton/CR/merged/SingleElectron_Run2016C.root: 100%|██████████| 25/25 [00:00<00:00, 76818.75it/s]"
     ]
    },
    {
     "name": "stdout",
     "output_type": "stream",
     "text": [
      "is Data\n"
     ]
    },
    {
     "name": "stderr",
     "output_type": "stream",
     "text": [
      "\n"
     ]
    },
    {
     "name": "stdout",
     "output_type": "stream",
     "text": [
      "after pt 629\n",
      "after Zmass 388\n",
      "after bjet_veto 366\n",
      "events:  45\n"
     ]
    },
    {
     "name": "stderr",
     "output_type": "stream",
     "text": [
      "fill photonPT for /eos/home-j/jiwoong/WZG_DB/2016/pre_post_separated_220209/FakePhoton/CR/merged/SingleElectron_Run2016D.root: 100%|██████████| 45/45 [00:00<00:00, 95518.06it/s]"
     ]
    },
    {
     "name": "stdout",
     "output_type": "stream",
     "text": [
      "is Data\n"
     ]
    },
    {
     "name": "stderr",
     "output_type": "stream",
     "text": [
      "\n"
     ]
    },
    {
     "name": "stdout",
     "output_type": "stream",
     "text": [
      "after pt 692\n",
      "after Zmass 458\n",
      "after bjet_veto 440\n",
      "events:  61\n"
     ]
    },
    {
     "name": "stderr",
     "output_type": "stream",
     "text": [
      "fill photonPT for /eos/home-j/jiwoong/WZG_DB/2016/pre_post_separated_220209/FakePhoton/CR/merged/SingleElectron_Run2016E.root: 100%|██████████| 61/61 [00:00<00:00, 91115.58it/s]"
     ]
    },
    {
     "name": "stdout",
     "output_type": "stream",
     "text": [
      "is Data\n"
     ]
    },
    {
     "name": "stderr",
     "output_type": "stream",
     "text": [
      "\n"
     ]
    },
    {
     "name": "stdout",
     "output_type": "stream",
     "text": [
      "after pt 579\n",
      "after Zmass 407\n",
      "after bjet_veto 393\n",
      "events:  66\n"
     ]
    },
    {
     "name": "stderr",
     "output_type": "stream",
     "text": [
      "fill photonPT for /eos/home-j/jiwoong/WZG_DB/2016/pre_post_separated_220209/FakePhoton/CR/merged/SingleElectron_Run2016F.root: 100%|██████████| 66/66 [00:00<00:00, 169830.71it/s]"
     ]
    },
    {
     "name": "stdout",
     "output_type": "stream",
     "text": [
      "is Data\n"
     ]
    },
    {
     "name": "stderr",
     "output_type": "stream",
     "text": [
      "\n"
     ]
    },
    {
     "name": "stdout",
     "output_type": "stream",
     "text": [
      "after pt 2021\n",
      "after Zmass 1383\n",
      "after bjet_veto 1312\n",
      "events:  193\n"
     ]
    },
    {
     "name": "stderr",
     "output_type": "stream",
     "text": [
      "fill photonPT for /eos/home-j/jiwoong/WZG_DB/2016/pre_post_separated_220209/FakePhoton/CR/merged/SingleElectron_Run2016G.root: 100%|██████████| 193/193 [00:00<00:00, 212523.15it/s]"
     ]
    },
    {
     "name": "stdout",
     "output_type": "stream",
     "text": [
      "is Data\n"
     ]
    },
    {
     "name": "stderr",
     "output_type": "stream",
     "text": [
      "\n"
     ]
    },
    {
     "name": "stdout",
     "output_type": "stream",
     "text": [
      "after pt 2199\n",
      "after Zmass 1522\n",
      "after bjet_veto 1421\n",
      "events:  193\n"
     ]
    },
    {
     "name": "stderr",
     "output_type": "stream",
     "text": [
      "fill photonPT for /eos/home-j/jiwoong/WZG_DB/2016/pre_post_separated_220209/FakePhoton/CR/merged/SingleElectron_Run2016H.root: 100%|██████████| 193/193 [00:00<00:00, 194404.58it/s]"
     ]
    },
    {
     "name": "stdout",
     "output_type": "stream",
     "text": [
      "is Data\n"
     ]
    },
    {
     "name": "stderr",
     "output_type": "stream",
     "text": [
      "\n"
     ]
    },
    {
     "name": "stdout",
     "output_type": "stream",
     "text": [
      "after pt 1465\n",
      "after Zmass 888\n",
      "after bjet_veto 825\n",
      "events:  119\n"
     ]
    },
    {
     "name": "stderr",
     "output_type": "stream",
     "text": [
      "fill photonPT for /eos/home-j/jiwoong/WZG_DB/2016/pre_post_separated_220209/FakePhoton/CR/merged/SingleMuon_Run2016B.root: 100%|██████████| 119/119 [00:00<00:00, 121322.84it/s]"
     ]
    },
    {
     "name": "stdout",
     "output_type": "stream",
     "text": [
      "is Data\n"
     ]
    },
    {
     "name": "stderr",
     "output_type": "stream",
     "text": [
      "\n"
     ]
    },
    {
     "name": "stdout",
     "output_type": "stream",
     "text": [
      "after pt 1081\n",
      "after Zmass 621\n",
      "after bjet_veto 576\n",
      "events:  88\n"
     ]
    },
    {
     "name": "stderr",
     "output_type": "stream",
     "text": [
      "fill photonPT for /eos/home-j/jiwoong/WZG_DB/2016/pre_post_separated_220209/FakePhoton/CR/merged/SingleMuon_Run2016C.root: 100%|██████████| 88/88 [00:00<00:00, 157936.99it/s]"
     ]
    },
    {
     "name": "stdout",
     "output_type": "stream",
     "text": [
      "is Data\n"
     ]
    },
    {
     "name": "stderr",
     "output_type": "stream",
     "text": [
      "\n"
     ]
    },
    {
     "name": "stdout",
     "output_type": "stream",
     "text": [
      "after pt 1335\n",
      "after Zmass 784\n",
      "after bjet_veto 727\n",
      "events:  96\n"
     ]
    },
    {
     "name": "stderr",
     "output_type": "stream",
     "text": [
      "fill photonPT for /eos/home-j/jiwoong/WZG_DB/2016/pre_post_separated_220209/FakePhoton/CR/merged/SingleMuon_Run2016D.root: 100%|██████████| 96/96 [00:00<00:00, 199927.10it/s]"
     ]
    },
    {
     "name": "stdout",
     "output_type": "stream",
     "text": [
      "is Data\n"
     ]
    },
    {
     "name": "stderr",
     "output_type": "stream",
     "text": [
      "\n"
     ]
    },
    {
     "name": "stdout",
     "output_type": "stream",
     "text": [
      "after pt 1402\n",
      "after Zmass 810\n",
      "after bjet_veto 760\n",
      "events:  93\n"
     ]
    },
    {
     "name": "stderr",
     "output_type": "stream",
     "text": [
      "fill photonPT for /eos/home-j/jiwoong/WZG_DB/2016/pre_post_separated_220209/FakePhoton/CR/merged/SingleMuon_Run2016E.root: 100%|██████████| 93/93 [00:00<00:00, 186102.23it/s]"
     ]
    },
    {
     "name": "stdout",
     "output_type": "stream",
     "text": [
      "is Data\n"
     ]
    },
    {
     "name": "stderr",
     "output_type": "stream",
     "text": [
      "\n"
     ]
    },
    {
     "name": "stdout",
     "output_type": "stream",
     "text": [
      "after pt 1263\n",
      "after Zmass 755\n",
      "after bjet_veto 709\n",
      "events:  80\n"
     ]
    },
    {
     "name": "stderr",
     "output_type": "stream",
     "text": [
      "fill photonPT for /eos/home-j/jiwoong/WZG_DB/2016/pre_post_separated_220209/FakePhoton/CR/merged/SingleMuon_Run2016F.root: 100%|██████████| 80/80 [00:00<00:00, 173587.34it/s]"
     ]
    },
    {
     "name": "stdout",
     "output_type": "stream",
     "text": [
      "is Data\n"
     ]
    },
    {
     "name": "stderr",
     "output_type": "stream",
     "text": [
      "\n"
     ]
    },
    {
     "name": "stdout",
     "output_type": "stream",
     "text": [
      "after pt 4592\n",
      "after Zmass 2709\n",
      "after bjet_veto 2522\n",
      "events:  354\n"
     ]
    },
    {
     "name": "stderr",
     "output_type": "stream",
     "text": [
      "fill photonPT for /eos/home-j/jiwoong/WZG_DB/2016/pre_post_separated_220209/FakePhoton/CR/merged/SingleMuon_Run2016G.root: 100%|██████████| 354/354 [00:00<00:00, 222040.32it/s]"
     ]
    },
    {
     "name": "stdout",
     "output_type": "stream",
     "text": [
      "is Data\n"
     ]
    },
    {
     "name": "stderr",
     "output_type": "stream",
     "text": [
      "\n"
     ]
    },
    {
     "name": "stdout",
     "output_type": "stream",
     "text": [
      "after pt 5074\n",
      "after Zmass 3043\n",
      "after bjet_veto 2823\n",
      "events:  421\n"
     ]
    },
    {
     "name": "stderr",
     "output_type": "stream",
     "text": [
      "fill photonPT for /eos/home-j/jiwoong/WZG_DB/2016/pre_post_separated_220209/FakePhoton/CR/merged/SingleMuon_Run2016H.root: 100%|██████████| 421/421 [00:00<00:00, 214088.50it/s]\n"
     ]
    },
    {
     "name": "stdout",
     "output_type": "stream",
     "text": [
      "after pt 17349\n",
      "after Zmass 3224\n",
      "after bjet_veto 1090\n",
      "events:  36\n"
     ]
    },
    {
     "name": "stderr",
     "output_type": "stream",
     "text": [
      "fill photonPT for /eos/home-j/jiwoong/WZG_DB/2016/pre_post_separated_220209/FakePhoton/CR/merged/TTGJets_TuneCP5_13TeV-amcatnloFXFX-madspin-pythia8_2016.root: 100%|██████████| 36/36 [00:00<00:00, 75234.15it/s]\n"
     ]
    },
    {
     "name": "stdout",
     "output_type": "stream",
     "text": [
      "after pt 127840\n",
      "after Zmass 76130\n",
      "after bjet_veto 24851\n",
      "events:  3321\n"
     ]
    },
    {
     "name": "stderr",
     "output_type": "stream",
     "text": [
      "fill photonPT for /eos/home-j/jiwoong/WZG_DB/2016/pre_post_separated_220209/FakePhoton/CR/merged/TTZToLLNuNu_M-10_TuneCP5_13TeV-amcatnlo-pythia8_2016.root: 100%|██████████| 3321/3321 [00:00<00:00, 99643.64it/s]\n"
     ]
    },
    {
     "name": "stdout",
     "output_type": "stream",
     "text": [
      "after pt 36463\n",
      "after Zmass 6703\n",
      "after bjet_veto 2256\n",
      "events:  274\n"
     ]
    },
    {
     "name": "stderr",
     "output_type": "stream",
     "text": [
      "fill photonPT for /eos/home-j/jiwoong/WZG_DB/2016/pre_post_separated_220209/FakePhoton/CR/merged/TTWJetsToLNu_TuneCP5_13TeV-amcatnloFXFX-madspin-pythia8_2016.root: 100%|██████████| 274/274 [00:00<00:00, 93297.56it/s]\n"
     ]
    },
    {
     "name": "stdout",
     "output_type": "stream",
     "text": [
      "after pt 77846\n",
      "after Zmass 54819\n",
      "after bjet_veto 24939\n",
      "events:  3070\n"
     ]
    },
    {
     "name": "stderr",
     "output_type": "stream",
     "text": [
      "fill photonPT for /eos/home-j/jiwoong/WZG_DB/2016/pre_post_separated_220209/FakePhoton/CR/merged/tZq_ll_4f_ckm_NLO_TuneCP5_13TeV-amcatnlo-pythia8_2016.root: 100%|██████████| 3070/3070 [00:00<00:00, 73439.07it/s]\n"
     ]
    },
    {
     "name": "stdout",
     "output_type": "stream",
     "text": [
      "after pt 29\n",
      "after Zmass 2\n",
      "after bjet_veto 2\n",
      "events:  0\n"
     ]
    },
    {
     "name": "stderr",
     "output_type": "stream",
     "text": [
      "fill photonPT for /eos/home-j/jiwoong/WZG_DB/2016/pre_post_separated_220209/FakePhoton/CR/merged/WWW_4F_TuneCP5_13TeV-amcatnlo-pythia8_2016.root: 0it [00:00, ?it/s]\n"
     ]
    },
    {
     "name": "stdout",
     "output_type": "stream",
     "text": [
      "after pt 973545\n",
      "after Zmass 359179\n",
      "after bjet_veto 352789\n",
      "events:  8303\n"
     ]
    },
    {
     "name": "stderr",
     "output_type": "stream",
     "text": [
      "fill photonPT for /eos/home-j/jiwoong/WZG_DB/2016/pre_post_separated_220209/FakePhoton/CR/merged/ZGToLLG_01J_5f_TuneCP5_13TeV-amcatnloFXFX-pythia8_2016.root: 100%|██████████| 8303/8303 [00:00<00:00, 130197.31it/s]\n"
     ]
    },
    {
     "name": "stdout",
     "output_type": "stream",
     "text": [
      "after pt 1851\n",
      "after Zmass 1408\n",
      "after bjet_veto 1297\n",
      "events:  172\n"
     ]
    },
    {
     "name": "stderr",
     "output_type": "stream",
     "text": [
      "fill photonPT for /eos/home-j/jiwoong/WZG_DB/2016/pre_post_separated_220209/FakePhoton/CR/merged/ZZ_TuneCP5_13TeV-pythia8_2016.root: 100%|██████████| 172/172 [00:00<00:00, 119381.15it/s]\n"
     ]
    },
    {
     "name": "stdout",
     "output_type": "stream",
     "text": [
      "after pt 16029\n",
      "after Zmass 5533\n",
      "after bjet_veto 5469\n",
      "events:  96\n"
     ]
    },
    {
     "name": "stderr",
     "output_type": "stream",
     "text": [
      "fill photonPT for /eos/home-j/jiwoong/WZG_DB/2016/pre_post_separated_220209/FakePhoton/CR/merged/wza_2016.root: 100%|██████████| 96/96 [00:00<00:00, 110497.58it/s]\n"
     ]
    },
    {
     "name": "stdout",
     "output_type": "stream",
     "text": [
      "after pt 322\n",
      "after Zmass 176\n",
      "after bjet_veto 172\n",
      "events:  24\n"
     ]
    },
    {
     "name": "stderr",
     "output_type": "stream",
     "text": [
      "fill photonPT for /eos/home-j/jiwoong/WZG_DB/2016/pre_post_separated_220209/FakePhoton/CR/merged/WWZ_4F_TuneCP5_13TeV-amcatnlo-pythia8_2016.root: 100%|██████████| 24/24 [00:00<00:00, 70246.54it/s]\n"
     ]
    },
    {
     "name": "stdout",
     "output_type": "stream",
     "text": [
      "after pt 85068\n",
      "after Zmass 57414\n",
      "after bjet_veto 56765\n",
      "events:  1404\n"
     ]
    },
    {
     "name": "stderr",
     "output_type": "stream",
     "text": [
      "fill photonPT for /eos/home-j/jiwoong/WZG_DB/2016/pre_post_separated_220209/FakePhoton/CR/merged/GluGluToContinToZZTo2e2mu_TuneCP5_13TeV-mcfm701-pythia8_2016.root: 100%|██████████| 1404/1404 [00:00<00:00, 128469.89it/s]\n"
     ]
    },
    {
     "name": "stdout",
     "output_type": "stream",
     "text": [
      "after pt 19531\n",
      "after Zmass 14498\n",
      "after bjet_veto 14236\n",
      "events:  2934\n"
     ]
    },
    {
     "name": "stderr",
     "output_type": "stream",
     "text": [
      "fill photonPT for /eos/home-j/jiwoong/WZG_DB/2016/pre_post_separated_220209/FakePhoton/CR/merged/GluGluToContinToZZTo2e2tau_TuneCP5_13TeV-mcfm701-pythia8_2016.root: 100%|██████████| 2934/2934 [00:00<00:00, 123724.04it/s]\n"
     ]
    },
    {
     "name": "stdout",
     "output_type": "stream",
     "text": [
      "after pt 24023\n",
      "after Zmass 19959\n",
      "after bjet_veto 19627\n",
      "events:  4329\n"
     ]
    },
    {
     "name": "stderr",
     "output_type": "stream",
     "text": [
      "fill photonPT for /eos/home-j/jiwoong/WZG_DB/2016/pre_post_separated_220209/FakePhoton/CR/merged/GluGluToContinToZZTo2mu2tau_TuneCP5_13TeV-mcfm701-pythia8_2016.root: 100%|██████████| 4329/4329 [00:00<00:00, 126508.57it/s]\n"
     ]
    },
    {
     "name": "stdout",
     "output_type": "stream",
     "text": [
      "after pt 136357\n",
      "after Zmass 84327\n",
      "after bjet_veto 83448\n",
      "events:  1633\n"
     ]
    },
    {
     "name": "stderr",
     "output_type": "stream",
     "text": [
      "fill photonPT for /eos/home-j/jiwoong/WZG_DB/2016/pre_post_separated_220209/FakePhoton/CR/merged/GluGluToContinToZZTo4e_TuneCP5_13TeV-mcfm701-pythia8_2016.root: 100%|██████████| 1633/1633 [00:00<00:00, 97132.50it/s]\n"
     ]
    },
    {
     "name": "stdout",
     "output_type": "stream",
     "text": [
      "after pt 206429\n",
      "after Zmass 140389\n",
      "after bjet_veto 138896\n",
      "events:  3988\n"
     ]
    },
    {
     "name": "stderr",
     "output_type": "stream",
     "text": [
      "fill photonPT for /eos/home-j/jiwoong/WZG_DB/2016/pre_post_separated_220209/FakePhoton/CR/merged/GluGluToContinToZZTo4mu_TuneCP5_13TeV-mcfm701-pythia8_2016.root: 100%|██████████| 3988/3988 [00:00<00:00, 68665.65it/s]\n"
     ]
    },
    {
     "name": "stdout",
     "output_type": "stream",
     "text": [
      "after pt 1111\n",
      "after Zmass 191\n",
      "after bjet_veto 188\n",
      "events:  38\n"
     ]
    },
    {
     "name": "stderr",
     "output_type": "stream",
     "text": [
      "fill photonPT for /eos/home-j/jiwoong/WZG_DB/2016/pre_post_separated_220209/FakePhoton/CR/merged/GluGluToContinToZZTo4tau_TuneCP5_13TeV-mcfm701-pythia8_2016.root: 100%|██████████| 38/38 [00:00<00:00, 84374.56it/s]\n"
     ]
    }
   ],
   "source": [
    "from array import array\n",
    "\n",
    "\n",
    "\n",
    "# Origin\n",
    "xbins_EB = [20,30,50,80,120,180]\n",
    "xbins_EE = [20,50,180]\n",
    "\n",
    "# Tunning\n",
    "#xbins_EB = [20,35,400]\n",
    "#xbins_EE = [20,400]\n",
    "\n",
    "\n",
    "\n",
    "isbarrel = 1 # barrel\n",
    "#isbarrel = 0 # endcap\n",
    "\n",
    "\n",
    "nbins=-1\n",
    "if isbarrel == 1:\n",
    "    xbins = xbins_EB\n",
    "    nbins = len(xbins_EB) - 1\n",
    "elif isbarrel ==0:\n",
    "    xbins = xbins_EE\n",
    "    nbins = len(xbins_EE) - 1\n",
    "else:\n",
    "    print(\"wrong!\")\n",
    "    \n",
    "# Data template\n",
    "hist_data = ROOT.TH1F(\"\",\"\",nbins,array('d',xbins))\n",
    "hist_data.Sumw2()\n",
    "# data\n",
    "for file in filelist_data:\n",
    "    AddHist_data(file, hist_data, isbarrel)   \n",
    "# MC\n",
    "for file in filelist_MC:\n",
    "    AddHist_data(filelist_MC[file]['path'], hist_data,isbarrel,False,filelist_MC[file]['xsec'],35.86)                    \n",
    "\n",
    "    \n",
    "    \n",
    "# --Fake template\n",
    "hist_datafake = ROOT.TH1F(\"\",\"\",nbins,array('d',xbins))\n",
    "hist_datafake.Sumw2()\n",
    "# data\n",
    "for file in filelist_data:\n",
    "    AddHist_dataFake(file, hist_datafake,isbarrel,True)\n",
    "# MC\n",
    "for file in filelist_MC:\n",
    "    AddHist_dataFake(filelist_MC[file]['path'], hist_datafake,isbarrel,False,filelist_MC[file]['xsec'],35.86)\n",
    "    \n",
    "    \n"
   ]
  },
  {
   "cell_type": "code",
   "execution_count": 6,
   "id": "4c7cfcab",
   "metadata": {},
   "outputs": [
    {
     "name": "stdout",
     "output_type": "stream",
     "text": [
      "35.86 fb^{-1} (13 TeV)\n"
     ]
    },
    {
     "data": {
      "image/png": "[encoded data removed]",
      "text/plain": [
       "<IPython.core.display.Image object>"
      ]
     },
     "metadata": {},
     "output_type": "display_data"
    }
   ],
   "source": [
    "c1 = ROOT.TCanvas(\"\",\"\",1000,800)\n",
    "c1.Draw()\n",
    "\n",
    "hist_data.GetXaxis().SetTitle(\"photon P_{T} [GeV]\")\n",
    "hist_data.GetYaxis().SetTitle(\"Events/bin\")\n",
    "hist_data.SetMarkerStyle(0)\n",
    "hist_data.SetLineColor(4)\n",
    "hist_data.SetLineWidth(3)\n",
    "hist_data.Draw(\"HIST e\")\n",
    "\n",
    "\n",
    "\n",
    "hist_datafake.SetMarkerStyle(0)\n",
    "hist_datafake.SetLineColor(2)\n",
    "hist_datafake.SetLineWidth(3)\n",
    "hist_datafake.Draw(\"HIST SAME e\")\n",
    "\n",
    "legend = ROOT.TLegend(0.65, 0.65, 0.80, 0.85)\n",
    "legend.SetBorderSize(0)\n",
    "legend.SetFillColor(0)\n",
    "legend.SetTextSize(0.020)\n",
    "legend.SetLineWidth(1)\n",
    "legend.SetLineStyle(0)\n",
    "legend.AddEntry(hist_data,'data template with full selection')\n",
    "legend.AddEntry(hist_datafake,'fake template with full selection')\n",
    "legend.Draw(\"SAME\")\n",
    "\n",
    "\n",
    "\n",
    "\n",
    "ROOT.gPad.SetLogx()\n",
    "ROOT.gPad.SetGrid()\n",
    "\n",
    "CMS_lumi(c1,0,0)"
   ]
  },
  {
   "cell_type": "markdown",
   "id": "fe251d0d",
   "metadata": {},
   "source": [
    "### Calculate FakeWeight"
   ]
  },
  {
   "cell_type": "code",
   "execution_count": 7,
   "id": "1f8c44ce",
   "metadata": {},
   "outputs": [
    {
     "name": "stdout",
     "output_type": "stream",
     "text": [
      "2016\t\t\t\t    images\r\n",
      "2017\t\t\t\t    log.csv\r\n",
      "2018\t\t\t\t    Lumi.py\r\n",
      "a\t\t\t\t    MagicDraw\r\n",
      "Combined_plot_2016.ipynb\t    Merged_file\r\n",
      "Combined_plot_FakeLepton2016.ipynb  Merged_file_211028\r\n",
      "Combined_plot.ipynb\t\t    Merged_file_FakePhoton_211128\r\n",
      "Combined_plot_SR2016.ipynb\t    Mu_Fake_Rate_2D_2016.root\r\n",
      "Combined_plot_ZZ2016.ipynb\t    npy_dict\r\n",
      "DataTemplate_EB_data.root\t    pickle_dict\r\n",
      "DataTemplate_EE_data.root\t    pickle_dict_sample\r\n",
      "Electron_channel\t\t    __pycache__\r\n",
      "Ele_Fake_Rate_2D_2016.root\t    Ratio_Plot.py\r\n",
      "fakefraction_real.csv\t\t    results_2016\r\n",
      "FakeLepton2016_Ele.ipynb\t    Scale_PDF_Unc.ipynb\r\n",
      "FakeLepton2016_Mu.ipynb\t\t    TDR_Style.py\r\n",
      "FakeLepton2017_Ele.ipynb\t    Template_Fit_2016.ipynb\r\n",
      "FakeLepton2018_Ele.ipynb\t    Template_Fit_AR_2017.ipynb\r\n",
      "FakeLepton_SingleEle_check.ipynb    Template_Fit_AR_2018.ipynb\r\n",
      "FakePhoton_2017-2018_hist_ref\t    Template_Fit.ipynb\r\n",
      "FakeTemplate_EB_fake.root\t    Test_Fit.ipynb\r\n",
      "FakeTemplate_EE_fake.root\t    WZG_sample\r\n",
      "FakeWeight_2016.ipynb\t\t    Yeop_test.ipynb\r\n"
     ]
    }
   ],
   "source": [
    "file1 = ROOT.TFile(\"DataTemplate_EB_data.root\",\"recreate\")\n",
    "file1.cd()\n",
    "hist_data.Write()\n",
    "file1.Close()\n",
    "\n",
    "file2 = ROOT.TFile(\"FakeTemplate_EB_fake.root\",\"recreate\")\n",
    "file2.cd()\n",
    "hist_datafake.Write()\n",
    "file2.Close()\n",
    "\n",
    "!ls"
   ]
  },
  {
   "cell_type": "code",
   "execution_count": 8,
   "id": "3a4a172f",
   "metadata": {},
   "outputs": [],
   "source": [
    "fake_fraction_2016 = {\"Barrel\":[0.293,0.228,0.233,0.175,0.152],\n",
    "                    \"Endcap\":[0.434,0.29]}"
   ]
  },
  {
   "cell_type": "code",
   "execution_count": 9,
   "id": "3d961fa3",
   "metadata": {},
   "outputs": [
    {
     "name": "stdout",
     "output_type": "stream",
     "text": [
      "1th  ydata: 4635.25634765625 yfake:  1192.313232421875 ydata/yfake: 3.89 fake fraction: 0.293 fake weight: 1.14\n",
      "2th  ydata: 3209.9169921875 yfake:  677.8638916015625 ydata/yfake: 4.74 fake fraction: 0.228 fake weight: 1.08\n",
      "3th  ydata: 1372.58935546875 yfake:  287.61834716796875 ydata/yfake: 4.77 fake fraction: 0.233 fake weight: 1.11\n",
      "4th  ydata: 529.63037109375 yfake:  106.73734283447266 ydata/yfake: 4.96 fake fraction: 0.175 fake weight: 0.87\n",
      "5th  ydata: 249.5681915283203 yfake:  37.1396369934082 ydata/yfake: 6.72 fake fraction: 0.152 fake weight: 1.02\n"
     ]
    }
   ],
   "source": [
    "for i in range(1,hist_data.GetNbinsX()+1):\n",
    "    \n",
    "    ydata= hist_data.GetBinContent(i)\n",
    "    yfake= hist_datafake.GetBinContent(i)\n",
    "    \n",
    "    j = i-1\n",
    "\n",
    "    if isbarrel == 1:\n",
    "        fake_fraction = fake_fraction_2016['Barrel'][j]\n",
    "    elif isbarrel ==0:\n",
    "        fake_fraction = fake_fraction_2016['Endcap'][j]\n",
    "    \n",
    "    \n",
    "    if (ydata == 0) or (yfake == 0):\n",
    "        ratio = 0\n",
    "    else:\n",
    "        ratio = ydata / yfake\n",
    "    \n",
    "    fake_weight = ratio * fake_fraction\n",
    "    print(\"{0}th  ydata: {1} yfake:  {2} ydata/yfake: {3:.2f} fake fraction: {4} fake weight: {5:.2f}\".format(i,ydata,yfake,ratio,fake_fraction,fake_weight))"
   ]
  },
  {
   "cell_type": "markdown",
   "id": "58f6dd6c",
   "metadata": {},
   "source": [
    "---"
   ]
  },
  {
   "cell_type": "markdown",
   "id": "0741da88",
   "metadata": {},
   "source": [
    "---"
   ]
  }
 ],
 "metadata": {
  "kernelspec": {
   "display_name": "Python 3",
   "language": "python",
   "name": "python3"
  },
  "language_info": {
   "codemirror_mode": {
    "name": "ipython",
    "version": 3
   },
   "file_extension": ".py",
   "mimetype": "text/x-python",
   "name": "python",
   "nbconvert_exporter": "python",
   "pygments_lexer": "ipython3",
   "version": "3.9.6"
  }
 },
 "nbformat": 4,
 "nbformat_minor": 5
}
