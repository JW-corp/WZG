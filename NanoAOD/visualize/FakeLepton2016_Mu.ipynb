{
 "cells": [
  {
   "cell_type": "code",
   "execution_count": 1,
   "id": "f868eabe",
   "metadata": {},
   "outputs": [
    {
     "name": "stderr",
     "output_type": "stream",
     "text": [
      "/cvmfs/sft.cern.ch/lcg/views/LCG_101swan/x86_64-centos7-gcc8-opt/lib/python3.9/site-packages/uproot3/__init__.py:127: FutureWarning: Consider switching from 'uproot3' to 'uproot', since the new interface became the default in 2020.\n",
      "\n",
      "    pip install -U uproot\n",
      "\n",
      "In Python:\n",
      "\n",
      "    >>> import uproot\n",
      "    >>> with uproot.open(...) as file:\n",
      "    ...\n",
      "\n",
      "  warnings.warn(\n",
      "/cvmfs/sft.cern.ch/lcg/views/LCG_101swan/x86_64-centos7-gcc8-opt/lib/python3.9/site-packages/awkward0/__init__.py:12: FutureWarning: Consider switching from 'awkward0' to 'awkward', since the new interface became the default in 2020.\n",
      "\n",
      "    pip install -U awkward\n",
      "\n",
      "In Python:\n",
      "\n",
      "    >>> import awkward as ak\n",
      "    >>> new_style_array = ak.from_awkward0(old_style_array)\n",
      "    >>> old_style_array = ak.to_awkward0(new_style_array)\n",
      "\n",
      "  warnings.warn(\n"
     ]
    },
    {
     "name": "stdout",
     "output_type": "stream",
     "text": [
      "Welcome to JupyROOT 6.24/06\n"
     ]
    }
   ],
   "source": [
    "import matplotlib\n",
    "import uproot, uproot3\n",
    "import numpy\n",
    "import numba\n",
    "import numpy as np\n",
    "import matplotlib.pyplot as plt\n",
    "import pandas as pd\n",
    "from tqdm import trange\n",
    "import ROOT\n",
    "import os,sys\n",
    "from array import array\n",
    "\n",
    "from Lumi import *\n",
    "from TDR_Style import *\n",
    "from Ratio_Plot import *"
   ]
  },
  {
   "cell_type": "code",
   "execution_count": 2,
   "id": "7526cde1",
   "metadata": {},
   "outputs": [],
   "source": [
    "@numba.njit\n",
    "def sgn(num):\n",
    "    if (num >= 0):\n",
    "        return 1\n",
    "    else:\n",
    "        return -1"
   ]
  },
  {
   "cell_type": "markdown",
   "id": "08495c6d",
   "metadata": {},
   "source": [
    "### 1. Template Distribution"
   ]
  },
  {
   "cell_type": "code",
   "execution_count": 3,
   "id": "a505a4ac",
   "metadata": {},
   "outputs": [],
   "source": [
    "def AddHist_FTdist(file, branch, hist_pre1, hist_pre2, isData, xsec):\n",
    "    \n",
    "    if isData:\n",
    "        print('is Data')\n",
    "        init_branches = ['is_lepton_tight','jet_pt','mt','met','lepton_pt','lepton_eta','lepton_pdgid','lepton_pfRelIso04_all',\n",
    "                                                       'HLT_IsoMu24','HLT_Mu8_TrkIsoVVL','HLT_Mu17_TrkIsoVVL','hlt',\n",
    "                                                      'HLT_Ele8_CaloIdL_TrackIdL_IsoVL_PFJet30','HLT_Ele12_CaloIdL_TrackIdL_IsoVL_PFJet30','HLT_Ele23_CaloIdL_TrackIdL_IsoVL_PFJet30']\n",
    "        if not (branch in init_branches):\n",
    "            init_branches.append(branch)\n",
    "        branches = uproot.open(file+':Events').arrays(init_branches, library='pd')\n",
    "\n",
    "    else:\n",
    "        print('is MC')\n",
    "        init_branches = ['is_lepton_tight','jet_pt','mt','met','lepton_pt','lepton_eta','lepton_pdgid','lepton_pfRelIso04_all','lepton_gen_matching','gen_weight',\n",
    "                                                       'HLT_IsoMu24','HLT_Mu8_TrkIsoVVL','HLT_Mu17_TrkIsoVVL','hlt',\n",
    "                                                      'HLT_Ele8_CaloIdL_TrackIdL_IsoVL_PFJet30','HLT_Ele12_CaloIdL_TrackIdL_IsoVL_PFJet30','HLT_Ele23_CaloIdL_TrackIdL_IsoVL_PFJet30']\n",
    "        if not (branch in init_branches):\n",
    "            init_branches.append(branch)\n",
    "        branches = uproot.open(file+':Events').arrays(init_branches, library='pd')\n",
    "        true_events = uproot.open(file)['nEventsGenWeighted'].values()[0]\n",
    "\n",
    "        weight_lowpt = (1000*xsec*0.00780) / true_events\n",
    "        weight_highpt = (1000*xsec*0.21675) / true_events\n",
    "        lepton_gen_cut1 = branches.loc[:,'lepton_gen_matching'] == 1\n",
    "        lepton_gen_cut2 = branches.loc[:,'lepton_gen_matching'] == 15\n",
    "        \n",
    "    HLT_cut1 = branches.loc[:,'HLT_Mu8_TrkIsoVVL'] == True\n",
    "    HLT_cut2 = branches.loc[:,'HLT_Mu17_TrkIsoVVL'] == True\n",
    "    \n",
    "    met_cut = branches.loc[:,'met'] < 2000\n",
    "    mt_cut = branches.loc[:,'mt'] < 20\n",
    "    lepton_cut = abs(branches.loc[:,'lepton_pdgid']) == 13\n",
    " #   pf_cut = branches.loc[:,'lepton_pfRelIso04_all'] < 0.4\n",
    "    pf_cut = branches.loc[:,'is_lepton_tight'] == 1\n",
    "    pt_edge = branches.loc[:,'lepton_pt'] < 20\n",
    "    jet_pt = branches.loc[:,'jet_pt'] > 35\n",
    "    \n",
    "    if isData:\n",
    "        arrays_0_20 = branches.loc[HLT_cut1 & lepton_cut & pf_cut & pt_edge & met_cut & mt_cut & jet_pt,:] \n",
    "        arrays_20_Inf = branches.loc[HLT_cut2 & lepton_cut & pf_cut & ~pt_edge & met_cut & mt_cut & jet_pt,:] \n",
    "        for i in trange(0, len(arrays_0_20[branch]), desc=f'fill pt<20 part for {file}'):\n",
    "            hist_pre1.Fill(float(arrays_0_20[branch].values[i]))\n",
    "        for i in trange(0, len(arrays_20_Inf[branch]), desc=f'fill pt>20 part for {file}'):\n",
    "            hist_pre2.Fill(float(arrays_20_Inf[branch].values[i]))\n",
    "    \n",
    "    else:\n",
    "        if ('TTbar' in file) or ('QCD' in file):\n",
    "            print (\"QCD process\\n\")\n",
    "            arrays_0_20 = branches.loc[HLT_cut1 & lepton_cut & pf_cut & pt_edge & met_cut & mt_cut & jet_pt,:] \n",
    "            arrays_20_Inf = branches.loc[HLT_cut2 & lepton_cut & pf_cut & ~pt_edge & met_cut & mt_cut & jet_pt,:] \n",
    "        else:\n",
    "            arrays_0_20 = branches.loc[HLT_cut1 & lepton_cut & pf_cut & pt_edge & met_cut & mt_cut & (lepton_gen_cut1 | lepton_gen_cut2) & jet_pt,:] \n",
    "            arrays_20_Inf = branches.loc[HLT_cut2 & lepton_cut & pf_cut & ~pt_edge & met_cut & mt_cut & (lepton_gen_cut1 | lepton_gen_cut2) & jet_pt,:] \n",
    "        for i in trange(0, len(arrays_0_20[branch]), desc=f'fill pt<20 part for {file}'):\n",
    "            hist_pre1.Fill(float(arrays_0_20[branch].values[i]), weight_lowpt*sgn(arrays_0_20['gen_weight'].values[i]))\n",
    "        for i in trange(0, len(arrays_20_Inf[branch]), desc=f'fill pt>20 part for {file}'):\n",
    "            hist_pre2.Fill(float(arrays_20_Inf[branch].values[i]), weight_highpt*sgn(arrays_20_Inf['gen_weight'].values[i]))\n",
    "        \n",
    "    print(\"DONE\")\n",
    "    return True"
   ]
  },
  {
   "cell_type": "markdown",
   "id": "11858231",
   "metadata": {},
   "source": [
    "### MET dist"
   ]
  },
  {
   "cell_type": "code",
   "execution_count": 4,
   "id": "0008388a",
   "metadata": {},
   "outputs": [
    {
     "name": "stdout",
     "output_type": "stream",
     "text": [
      "is Data\n"
     ]
    },
    {
     "name": "stderr",
     "output_type": "stream",
     "text": [
      "fill pt<20 part for /eos/home-j/jiwoong/WZG_DB/2016/pre_post_separated_220209/FakeLepton/FR/merged/DoubleMuon_Run2016B.root: 100%|██████████| 21228/21228 [00:00<00:00, 203779.32it/s]\n",
      "fill pt>20 part for /eos/home-j/jiwoong/WZG_DB/2016/pre_post_separated_220209/FakeLepton/FR/merged/DoubleMuon_Run2016B.root: 100%|██████████| 399062/399062 [00:02<00:00, 181074.15it/s]\n"
     ]
    },
    {
     "name": "stdout",
     "output_type": "stream",
     "text": [
      "DONE\n",
      "is Data\n"
     ]
    },
    {
     "name": "stderr",
     "output_type": "stream",
     "text": [
      "fill pt<20 part for /eos/home-j/jiwoong/WZG_DB/2016/pre_post_separated_220209/FakeLepton/FR/merged/DoubleMuon_Run2016C.root: 100%|██████████| 2576/2576 [00:00<00:00, 192176.14it/s]\n",
      "fill pt>20 part for /eos/home-j/jiwoong/WZG_DB/2016/pre_post_separated_220209/FakeLepton/FR/merged/DoubleMuon_Run2016C.root: 100%|██████████| 31987/31987 [00:00<00:00, 225220.54it/s]\n"
     ]
    },
    {
     "name": "stdout",
     "output_type": "stream",
     "text": [
      "DONE\n",
      "is Data\n"
     ]
    },
    {
     "name": "stderr",
     "output_type": "stream",
     "text": [
      "fill pt<20 part for /eos/home-j/jiwoong/WZG_DB/2016/pre_post_separated_220209/FakeLepton/FR/merged/DoubleMuon_Run2016D.root: 100%|██████████| 4261/4261 [00:00<00:00, 224423.05it/s]\n",
      "fill pt>20 part for /eos/home-j/jiwoong/WZG_DB/2016/pre_post_separated_220209/FakeLepton/FR/merged/DoubleMuon_Run2016D.root: 100%|██████████| 54119/54119 [00:00<00:00, 201103.66it/s]\n"
     ]
    },
    {
     "name": "stdout",
     "output_type": "stream",
     "text": [
      "DONE\n",
      "is Data\n"
     ]
    },
    {
     "name": "stderr",
     "output_type": "stream",
     "text": [
      "fill pt<20 part for /eos/home-j/jiwoong/WZG_DB/2016/pre_post_separated_220209/FakeLepton/FR/merged/DoubleMuon_Run2016E.root: 100%|██████████| 3395/3395 [00:00<00:00, 125682.15it/s]\n",
      "fill pt>20 part for /eos/home-j/jiwoong/WZG_DB/2016/pre_post_separated_220209/FakeLepton/FR/merged/DoubleMuon_Run2016E.root: 100%|██████████| 62862/62862 [00:00<00:00, 201597.36it/s]\n"
     ]
    },
    {
     "name": "stdout",
     "output_type": "stream",
     "text": [
      "DONE\n",
      "is Data\n"
     ]
    },
    {
     "name": "stderr",
     "output_type": "stream",
     "text": [
      "fill pt<20 part for /eos/home-j/jiwoong/WZG_DB/2016/pre_post_separated_220209/FakeLepton/FR/merged/DoubleMuon_Run2016F.root: 100%|██████████| 1522/1522 [00:00<00:00, 176824.85it/s]\n",
      "fill pt>20 part for /eos/home-j/jiwoong/WZG_DB/2016/pre_post_separated_220209/FakeLepton/FR/merged/DoubleMuon_Run2016F.root: 100%|██████████| 26710/26710 [00:00<00:00, 150211.12it/s]\n"
     ]
    },
    {
     "name": "stdout",
     "output_type": "stream",
     "text": [
      "DONE\n",
      "is Data\n"
     ]
    },
    {
     "name": "stderr",
     "output_type": "stream",
     "text": [
      "fill pt<20 part for /eos/home-j/jiwoong/WZG_DB/2016/pre_post_separated_220209/FakeLepton/FR/merged/DoubleMuon_Run2016G.root: 100%|██████████| 2697/2697 [00:00<00:00, 145974.96it/s]\n",
      "fill pt>20 part for /eos/home-j/jiwoong/WZG_DB/2016/pre_post_separated_220209/FakeLepton/FR/merged/DoubleMuon_Run2016G.root: 100%|██████████| 38665/38665 [00:00<00:00, 150159.55it/s]\n"
     ]
    },
    {
     "name": "stdout",
     "output_type": "stream",
     "text": [
      "DONE\n",
      "is Data\n"
     ]
    },
    {
     "name": "stderr",
     "output_type": "stream",
     "text": [
      "fill pt<20 part for /eos/home-j/jiwoong/WZG_DB/2016/pre_post_separated_220209/FakeLepton/FR/merged/DoubleMuon_Run2016H.root: 100%|██████████| 2751/2751 [00:00<00:00, 145585.57it/s]\n",
      "fill pt>20 part for /eos/home-j/jiwoong/WZG_DB/2016/pre_post_separated_220209/FakeLepton/FR/merged/DoubleMuon_Run2016H.root: 100%|██████████| 38511/38511 [00:00<00:00, 188962.05it/s]\n"
     ]
    },
    {
     "name": "stdout",
     "output_type": "stream",
     "text": [
      "DONE\n",
      "is MC\n"
     ]
    },
    {
     "name": "stderr",
     "output_type": "stream",
     "text": [
      "fill pt<20 part for /eos/home-j/jiwoong/WZG_DB/2016/pre_post_separated_220209/FakeLepton/FR/merged/WJetsToLNu_TuneCP5_13TeV-madgraphMLM-pythia8_2016.root: 100%|██████████| 47432/47432 [00:02<00:00, 17503.41it/s]\n",
      "fill pt>20 part for /eos/home-j/jiwoong/WZG_DB/2016/pre_post_separated_220209/FakeLepton/FR/merged/WJetsToLNu_TuneCP5_13TeV-madgraphMLM-pythia8_2016.root: 100%|██████████| 286362/286362 [00:02<00:00, 111060.66it/s]\n"
     ]
    },
    {
     "name": "stdout",
     "output_type": "stream",
     "text": [
      "DONE\n",
      "is MC\n"
     ]
    },
    {
     "name": "stderr",
     "output_type": "stream",
     "text": [
      "fill pt<20 part for /eos/home-j/jiwoong/WZG_DB/2016/pre_post_separated_220209/FakeLepton/FR/merged/DYJetsToLL_M-50_TuneCP5_13TeV-madgraphMLM-pythia8_2016.root: 100%|██████████| 301402/301402 [00:03<00:00, 91758.70it/s] \n",
      "fill pt>20 part for /eos/home-j/jiwoong/WZG_DB/2016/pre_post_separated_220209/FakeLepton/FR/merged/DYJetsToLL_M-50_TuneCP5_13TeV-madgraphMLM-pythia8_2016.root: 100%|██████████| 937082/937082 [00:10<00:00, 86546.32it/s] \n"
     ]
    },
    {
     "name": "stdout",
     "output_type": "stream",
     "text": [
      "DONE\n",
      "is MC\n"
     ]
    },
    {
     "name": "stderr",
     "output_type": "stream",
     "text": [
      "fill pt<20 part for /eos/home-j/jiwoong/WZG_DB/2016/pre_post_separated_220209/FakeLepton/FR/merged/DYJetsToLL_M-10to50_TuneCP5_13TeV-madgraphMLM-pythia8_2016.root: 100%|██████████| 11112/11112 [00:00<00:00, 76969.49it/s]\n",
      "fill pt>20 part for /eos/home-j/jiwoong/WZG_DB/2016/pre_post_separated_220209/FakeLepton/FR/merged/DYJetsToLL_M-10to50_TuneCP5_13TeV-madgraphMLM-pythia8_2016.root: 100%|██████████| 24117/24117 [00:00<00:00, 76237.31it/s]\n"
     ]
    },
    {
     "name": "stdout",
     "output_type": "stream",
     "text": [
      "DONE\n",
      "is MC\n",
      "QCD process\n",
      "\n"
     ]
    },
    {
     "name": "stderr",
     "output_type": "stream",
     "text": [
      "fill pt<20 part for /eos/home-j/jiwoong/WZG_DB/2016/pre_post_separated_220209/FakeLepton/FR/merged/QCD_Pt-1000toInf_MuEnrichedPt5_TuneCP5_13TeV_pythia8_2016.root: 100%|██████████| 6372/6372 [00:00<00:00, 85091.14it/s]\n",
      "fill pt>20 part for /eos/home-j/jiwoong/WZG_DB/2016/pre_post_separated_220209/FakeLepton/FR/merged/QCD_Pt-1000toInf_MuEnrichedPt5_TuneCP5_13TeV_pythia8_2016.root: 100%|██████████| 35685/35685 [00:00<00:00, 79364.75it/s]\n"
     ]
    },
    {
     "name": "stdout",
     "output_type": "stream",
     "text": [
      "DONE\n",
      "is MC\n",
      "QCD process\n",
      "\n"
     ]
    },
    {
     "name": "stderr",
     "output_type": "stream",
     "text": [
      "fill pt<20 part for /eos/home-j/jiwoong/WZG_DB/2016/pre_post_separated_220209/FakeLepton/FR/merged/QCD_Pt-120to170_MuEnrichedPt5_TuneCP5_13TeV_pythia8_2016.root: 100%|██████████| 47634/47634 [00:00<00:00, 90060.34it/s]\n",
      "fill pt>20 part for /eos/home-j/jiwoong/WZG_DB/2016/pre_post_separated_220209/FakeLepton/FR/merged/QCD_Pt-120to170_MuEnrichedPt5_TuneCP5_13TeV_pythia8_2016.root: 100%|██████████| 177219/177219 [00:01<00:00, 92415.71it/s] \n"
     ]
    },
    {
     "name": "stdout",
     "output_type": "stream",
     "text": [
      "DONE\n",
      "is MC\n",
      "QCD process\n",
      "\n"
     ]
    },
    {
     "name": "stderr",
     "output_type": "stream",
     "text": [
      "fill pt<20 part for /eos/home-j/jiwoong/WZG_DB/2016/pre_post_separated_220209/FakeLepton/FR/merged/QCD_Pt-15to20_MuEnrichedPt5_TuneCP5_13TeV_pythia8_2016.root: 100%|██████████| 126/126 [00:00<00:00, 91973.95it/s]\n",
      "fill pt>20 part for /eos/home-j/jiwoong/WZG_DB/2016/pre_post_separated_220209/FakeLepton/FR/merged/QCD_Pt-15to20_MuEnrichedPt5_TuneCP5_13TeV_pythia8_2016.root: 100%|██████████| 23/23 [00:00<00:00, 56880.30it/s]"
     ]
    },
    {
     "name": "stdout",
     "output_type": "stream",
     "text": [
      "DONE\n",
      "is MC\n"
     ]
    },
    {
     "name": "stderr",
     "output_type": "stream",
     "text": [
      "\n"
     ]
    },
    {
     "name": "stdout",
     "output_type": "stream",
     "text": [
      "QCD process\n",
      "\n"
     ]
    },
    {
     "name": "stderr",
     "output_type": "stream",
     "text": [
      "fill pt<20 part for /eos/home-j/jiwoong/WZG_DB/2016/pre_post_separated_220209/FakeLepton/FR/merged/QCD_Pt-170to300_MuEnrichedPt5_TuneCP5_13TeV_pythia8_2016.root: 100%|██████████| 57296/57296 [00:00<00:00, 81586.02it/s] \n",
      "fill pt>20 part for /eos/home-j/jiwoong/WZG_DB/2016/pre_post_separated_220209/FakeLepton/FR/merged/QCD_Pt-170to300_MuEnrichedPt5_TuneCP5_13TeV_pythia8_2016.root: 100%|██████████| 242428/242428 [00:02<00:00, 81160.53it/s]\n"
     ]
    },
    {
     "name": "stdout",
     "output_type": "stream",
     "text": [
      "DONE\n",
      "is MC\n",
      "QCD process\n",
      "\n"
     ]
    },
    {
     "name": "stderr",
     "output_type": "stream",
     "text": [
      "fill pt<20 part for /eos/home-j/jiwoong/WZG_DB/2016/pre_post_separated_220209/FakeLepton/FR/merged/QCD_Pt-20to30_MuEnrichedPt5_TuneCP5_13TeV_pythia8_2016.root: 100%|██████████| 14625/14625 [00:00<00:00, 89176.42it/s]\n",
      "fill pt>20 part for /eos/home-j/jiwoong/WZG_DB/2016/pre_post_separated_220209/FakeLepton/FR/merged/QCD_Pt-20to30_MuEnrichedPt5_TuneCP5_13TeV_pythia8_2016.root: 100%|██████████| 2875/2875 [00:00<00:00, 87375.00it/s]\n"
     ]
    },
    {
     "name": "stdout",
     "output_type": "stream",
     "text": [
      "DONE\n",
      "is MC\n",
      "QCD process\n",
      "\n"
     ]
    },
    {
     "name": "stderr",
     "output_type": "stream",
     "text": [
      "fill pt<20 part for /eos/home-j/jiwoong/WZG_DB/2016/pre_post_separated_220209/FakeLepton/FR/merged/QCD_Pt-300to470_MuEnrichedPt5_TuneCP5_13TeV_pythia8_2016.root: 100%|██████████| 50904/50904 [00:00<00:00, 77154.47it/s]\n",
      "fill pt>20 part for /eos/home-j/jiwoong/WZG_DB/2016/pre_post_separated_220209/FakeLepton/FR/merged/QCD_Pt-300to470_MuEnrichedPt5_TuneCP5_13TeV_pythia8_2016.root: 100%|██████████| 241243/241243 [00:02<00:00, 90277.84it/s]\n"
     ]
    },
    {
     "name": "stdout",
     "output_type": "stream",
     "text": [
      "DONE\n",
      "is MC\n",
      "QCD process\n",
      "\n"
     ]
    },
    {
     "name": "stderr",
     "output_type": "stream",
     "text": [
      "fill pt<20 part for /eos/home-j/jiwoong/WZG_DB/2016/pre_post_separated_220209/FakeLepton/FR/merged/QCD_Pt-30to50_MuEnrichedPt5_TuneCP5_13TeV_pythia8_2016.root: 100%|██████████| 117783/117783 [00:01<00:00, 114472.49it/s]\n",
      "fill pt>20 part for /eos/home-j/jiwoong/WZG_DB/2016/pre_post_separated_220209/FakeLepton/FR/merged/QCD_Pt-30to50_MuEnrichedPt5_TuneCP5_13TeV_pythia8_2016.root: 100%|██████████| 73041/73041 [00:00<00:00, 117107.46it/s]\n"
     ]
    },
    {
     "name": "stdout",
     "output_type": "stream",
     "text": [
      "DONE\n",
      "is MC\n",
      "QCD process\n",
      "\n"
     ]
    },
    {
     "name": "stderr",
     "output_type": "stream",
     "text": [
      "fill pt<20 part for /eos/home-j/jiwoong/WZG_DB/2016/pre_post_separated_220209/FakeLepton/FR/merged/QCD_Pt-470to600_MuEnrichedPt5_TuneCP5_13TeV_pythia8_2016.root: 100%|██████████| 16005/16005 [00:00<00:00, 62020.52it/s]\n",
      "fill pt>20 part for /eos/home-j/jiwoong/WZG_DB/2016/pre_post_separated_220209/FakeLepton/FR/merged/QCD_Pt-470to600_MuEnrichedPt5_TuneCP5_13TeV_pythia8_2016.root: 100%|██████████| 81849/81849 [00:01<00:00, 75356.01it/s]\n"
     ]
    },
    {
     "name": "stdout",
     "output_type": "stream",
     "text": [
      "DONE\n",
      "is MC\n",
      "QCD process\n",
      "\n"
     ]
    },
    {
     "name": "stderr",
     "output_type": "stream",
     "text": [
      "fill pt<20 part for /eos/home-j/jiwoong/WZG_DB/2016/pre_post_separated_220209/FakeLepton/FR/merged/QCD_Pt-50to80_MuEnrichedPt5_TuneCP5_13TeV_pythia8_2016.root: 100%|██████████| 109131/109131 [00:01<00:00, 93218.01it/s]\n",
      "fill pt>20 part for /eos/home-j/jiwoong/WZG_DB/2016/pre_post_separated_220209/FakeLepton/FR/merged/QCD_Pt-50to80_MuEnrichedPt5_TuneCP5_13TeV_pythia8_2016.root: 100%|██████████| 176892/176892 [00:02<00:00, 73626.84it/s]\n"
     ]
    },
    {
     "name": "stdout",
     "output_type": "stream",
     "text": [
      "DONE\n",
      "is MC\n",
      "QCD process\n",
      "\n"
     ]
    },
    {
     "name": "stderr",
     "output_type": "stream",
     "text": [
      "fill pt<20 part for /eos/home-j/jiwoong/WZG_DB/2016/pre_post_separated_220209/FakeLepton/FR/merged/QCD_Pt-600to800_MuEnrichedPt5_TuneCP5_13TeV_pythia8_2016.root: 100%|██████████| 11176/11176 [00:00<00:00, 76313.46it/s]\n",
      "fill pt>20 part for /eos/home-j/jiwoong/WZG_DB/2016/pre_post_separated_220209/FakeLepton/FR/merged/QCD_Pt-600to800_MuEnrichedPt5_TuneCP5_13TeV_pythia8_2016.root: 100%|██████████| 60424/60424 [00:00<00:00, 74731.08it/s]\n"
     ]
    },
    {
     "name": "stdout",
     "output_type": "stream",
     "text": [
      "DONE\n",
      "is MC\n",
      "QCD process\n",
      "\n"
     ]
    },
    {
     "name": "stderr",
     "output_type": "stream",
     "text": [
      "fill pt<20 part for /eos/home-j/jiwoong/WZG_DB/2016/pre_post_separated_220209/FakeLepton/FR/merged/QCD_Pt-800to1000_MuEnrichedPt5_TuneCP5_13TeV_pythia8_2016.root: 100%|██████████| 8806/8806 [00:00<00:00, 71743.60it/s]\n",
      "fill pt>20 part for /eos/home-j/jiwoong/WZG_DB/2016/pre_post_separated_220209/FakeLepton/FR/merged/QCD_Pt-800to1000_MuEnrichedPt5_TuneCP5_13TeV_pythia8_2016.root: 100%|██████████| 49524/49524 [00:00<00:00, 85302.69it/s]\n"
     ]
    },
    {
     "name": "stdout",
     "output_type": "stream",
     "text": [
      "DONE\n",
      "is MC\n",
      "QCD process\n",
      "\n"
     ]
    },
    {
     "name": "stderr",
     "output_type": "stream",
     "text": [
      "fill pt<20 part for /eos/home-j/jiwoong/WZG_DB/2016/pre_post_separated_220209/FakeLepton/FR/merged/QCD_Pt-80to120_MuEnrichedPt5_TuneCP5_13TeV_pythia8_2016.root: 100%|██████████| 85009/85009 [00:01<00:00, 82147.18it/s]\n",
      "fill pt>20 part for /eos/home-j/jiwoong/WZG_DB/2016/pre_post_separated_220209/FakeLepton/FR/merged/QCD_Pt-80to120_MuEnrichedPt5_TuneCP5_13TeV_pythia8_2016.root: 100%|██████████| 243809/243809 [00:02<00:00, 90975.54it/s] \n"
     ]
    },
    {
     "name": "stdout",
     "output_type": "stream",
     "text": [
      "DONE\n"
     ]
    }
   ],
   "source": [
    "xbins = 20\n",
    "xlow = 0\n",
    "xup = 200\n",
    "branch = 'met'\n",
    "\n",
    "ptbins = [10, 13, 16, 20, 24, 28, 35, 45, 200]\n",
    "\n",
    "hist_dist1_DATA = ROOT.TH1D(\"\",\"\",xbins, xlow, xup)\n",
    "hist_dist2_DATA = ROOT.TH1D(\"\",\"\",xbins, xlow, xup)\n",
    "\n",
    "hist_dist1_DATA.Sumw2()\n",
    "hist_dist2_DATA.Sumw2()\n",
    "\n",
    "file_list = [\n",
    "    \"/eos/home-j/jiwoong/WZG_DB/2016/pre_post_separated_220209/FakeLepton/FR/merged/DoubleMuon_Run2016B.root\"\n",
    "    ,\"/eos/home-j/jiwoong/WZG_DB/2016/pre_post_separated_220209/FakeLepton/FR/merged/DoubleMuon_Run2016C.root\"\n",
    "    ,\"/eos/home-j/jiwoong/WZG_DB/2016/pre_post_separated_220209/FakeLepton/FR/merged/DoubleMuon_Run2016D.root\"\n",
    "    ,\"/eos/home-j/jiwoong/WZG_DB/2016/pre_post_separated_220209/FakeLepton/FR/merged/DoubleMuon_Run2016E.root\"\n",
    "    ,\"/eos/home-j/jiwoong/WZG_DB/2016/pre_post_separated_220209/FakeLepton/FR/merged/DoubleMuon_Run2016F.root\"\n",
    "    ,\"/eos/home-j/jiwoong/WZG_DB/2016/pre_post_separated_220209/FakeLepton/FR/merged/DoubleMuon_Run2016G.root\"\n",
    "    ,\"/eos/home-j/jiwoong/WZG_DB/2016/pre_post_separated_220209/FakeLepton/FR/merged/DoubleMuon_Run2016H.root\"\n",
    "]\n",
    "\n",
    "for file in file_list:\n",
    "    AddHist_FTdist(file, branch, hist_dist1_DATA, hist_dist2_DATA, 1, 1)\n",
    "\n",
    "hist_dist1_WJets = ROOT.TH1D(\"\",\"\",xbins, xlow, xup)\n",
    "hist_dist2_WJets = ROOT.TH1D(\"\",\"\",xbins, xlow, xup)\n",
    "hist_dist1_ZJets = ROOT.TH1D(\"\",\"\",xbins, xlow, xup)\n",
    "hist_dist2_ZJets = ROOT.TH1D(\"\",\"\",xbins, xlow, xup)\n",
    "\n",
    "hist_dist1_WJets.Sumw2()\n",
    "hist_dist2_WJets.Sumw2()\n",
    "hist_dist1_ZJets.Sumw2()\n",
    "hist_dist2_ZJets.Sumw2()\n",
    "\n",
    "file_WJets = '/eos/home-j/jiwoong/WZG_DB/2016/pre_post_separated_220209/FakeLepton/FR/merged/WJetsToLNu_TuneCP5_13TeV-madgraphMLM-pythia8_2016.root'\n",
    "file_ZJets = '/eos/home-j/jiwoong/WZG_DB/2016/pre_post_separated_220209/FakeLepton/FR/merged/DYJetsToLL_M-50_TuneCP5_13TeV-madgraphMLM-pythia8_2016.root'\n",
    "file_ZJets2 = '/eos/home-j/jiwoong/WZG_DB/2016/pre_post_separated_220209/FakeLepton/FR/merged/DYJetsToLL_M-10to50_TuneCP5_13TeV-madgraphMLM-pythia8_2016.root'\n",
    "\n",
    "AddHist_FTdist(file_WJets, branch, hist_dist1_WJets, hist_dist2_WJets, 0, 61526.7)\n",
    "AddHist_FTdist(file_ZJets, branch, hist_dist1_ZJets, hist_dist2_ZJets, 0, 6077.22)\n",
    "AddHist_FTdist(file_ZJets2, branch, hist_dist1_ZJets, hist_dist2_ZJets, 0, 18610)\n",
    "\n",
    "hist_dist1_ttbar = ROOT.TH1D(\"\",\"\",xbins, xlow, xup)\n",
    "hist_dist2_ttbar = ROOT.TH1D(\"\",\"\",xbins, xlow, xup)\n",
    "\n",
    "hist_dist1_ttbar.Sumw2()\n",
    "hist_dist2_ttbar.Sumw2()\n",
    "\n",
    "# -- Muon channel\n",
    "file_list_QCD = [\n",
    "\"/eos/home-j/jiwoong/WZG_DB/2016/pre_post_separated_220209/FakeLepton/FR/merged/QCD_Pt-1000toInf_MuEnrichedPt5_TuneCP5_13TeV_pythia8_2016.root\"\n",
    ",\"/eos/home-j/jiwoong/WZG_DB/2016/pre_post_separated_220209/FakeLepton/FR/merged/QCD_Pt-120to170_MuEnrichedPt5_TuneCP5_13TeV_pythia8_2016.root\"\n",
    ",\"/eos/home-j/jiwoong/WZG_DB/2016/pre_post_separated_220209/FakeLepton/FR/merged/QCD_Pt-15to20_MuEnrichedPt5_TuneCP5_13TeV_pythia8_2016.root\"\n",
    ",\"/eos/home-j/jiwoong/WZG_DB/2016/pre_post_separated_220209/FakeLepton/FR/merged/QCD_Pt-170to300_MuEnrichedPt5_TuneCP5_13TeV_pythia8_2016.root\"\n",
    ",\"/eos/home-j/jiwoong/WZG_DB/2016/pre_post_separated_220209/FakeLepton/FR/merged/QCD_Pt-20to30_MuEnrichedPt5_TuneCP5_13TeV_pythia8_2016.root\"\n",
    ",\"/eos/home-j/jiwoong/WZG_DB/2016/pre_post_separated_220209/FakeLepton/FR/merged/QCD_Pt-300to470_MuEnrichedPt5_TuneCP5_13TeV_pythia8_2016.root\"\n",
    ",\"/eos/home-j/jiwoong/WZG_DB/2016/pre_post_separated_220209/FakeLepton/FR/merged/QCD_Pt-30to50_MuEnrichedPt5_TuneCP5_13TeV_pythia8_2016.root\"\n",
    ",\"/eos/home-j/jiwoong/WZG_DB/2016/pre_post_separated_220209/FakeLepton/FR/merged/QCD_Pt-470to600_MuEnrichedPt5_TuneCP5_13TeV_pythia8_2016.root\"\n",
    ",\"/eos/home-j/jiwoong/WZG_DB/2016/pre_post_separated_220209/FakeLepton/FR/merged/QCD_Pt-50to80_MuEnrichedPt5_TuneCP5_13TeV_pythia8_2016.root\"\n",
    ",\"/eos/home-j/jiwoong/WZG_DB/2016/pre_post_separated_220209/FakeLepton/FR/merged/QCD_Pt-600to800_MuEnrichedPt5_TuneCP5_13TeV_pythia8_2016.root\"\n",
    ",\"/eos/home-j/jiwoong/WZG_DB/2016/pre_post_separated_220209/FakeLepton/FR/merged/QCD_Pt-800to1000_MuEnrichedPt5_TuneCP5_13TeV_pythia8_2016.root\"\n",
    ",\"/eos/home-j/jiwoong/WZG_DB/2016/pre_post_separated_220209/FakeLepton/FR/merged/QCD_Pt-80to120_MuEnrichedPt5_TuneCP5_13TeV_pythia8_2016.root\"\n",
    "]\n",
    "\n",
    "\n",
    "\n",
    "xsec_list_QCD = [\n",
    "    1.078,\n",
    "    21230,\n",
    "    2799000,\n",
    "    7055,\n",
    "    2526000,\n",
    "    619.3,\n",
    "    1362000,\n",
    "    59.24,\n",
    "    376600,\n",
    "    18.21,\n",
    "    3.275,\n",
    "    88930\n",
    "]\n",
    "\n",
    "for i in range(len(file_list_QCD)):\n",
    "    AddHist_FTdist(file_list_QCD[i], branch, hist_dist1_ttbar, hist_dist2_ttbar, 0, xsec_list_QCD[i])"
   ]
  },
  {
   "cell_type": "code",
   "execution_count": 5,
   "id": "944a64e1",
   "metadata": {},
   "outputs": [
    {
     "name": "stdout",
     "output_type": "stream",
     "text": [
      "35.86 fb^{-1} (13 TeV)\n"
     ]
    },
    {
     "name": "stderr",
     "output_type": "stream",
     "text": [
      "Warning in <TH1D::Sumw2>: Sum of squares of weights structure already created\n",
      "Warning in <TH1D::Sumw2>: Sum of squares of weights structure already created\n"
     ]
    },
    {
     "data": {
      "image/png": "[encoded data removed]",
      "text/plain": [
       "<IPython.core.display.Image object>"
      ]
     },
     "metadata": {},
     "output_type": "display_data"
    }
   ],
   "source": [
    "c1 = ROOT.TCanvas(\"\",\"\",1000,800)\n",
    "\n",
    "def SetHistStyle_dist(hist, color, isData):\n",
    "    if isData:\n",
    "        hist.SetMarkerStyle(20)\n",
    "        hist.SetMarkerColor(color)\n",
    "    else:\n",
    "        hist.SetFillColor(color)\n",
    "        hist.SetFillStyle(4100)\n",
    "        hist.SetLineColor(color)\n",
    "        hist.SetLineStyle(0)\n",
    "        hist.SetLineWidth(0)\n",
    "    hist.SetYTitle('events/bin')\n",
    "    hist.SetXTitle('MET [GeV]')\n",
    "    # Adjust y-axis settings\n",
    "    # hist.GetYaxis().SetNdivisions(105)\n",
    "    hist.GetYaxis().SetTitleSize(25)\n",
    "    hist.GetYaxis().SetTitleFont(43)\n",
    "    hist.GetYaxis().SetTitleOffset(1.40)\n",
    "    hist.GetYaxis().SetLabelFont(43)\n",
    "    hist.GetYaxis().SetLabelSize(25)\n",
    "\n",
    "    # Adjust x-axis settings\n",
    "    hist.GetXaxis().SetTitleSize(25)\n",
    "    hist.GetXaxis().SetTitleFont(43)\n",
    "    hist.GetXaxis().SetTitleOffset(5.0)\n",
    "    hist.GetXaxis().SetLabelFont(43)\n",
    "    hist.GetXaxis().SetLabelSize(25)\n",
    "    hist.SetStats(0)\n",
    "\n",
    "\n",
    "SetHistStyle_dist(hist_dist1_WJets, 22, 0)\n",
    "SetHistStyle_dist(hist_dist2_WJets, 22, 0)\n",
    "SetHistStyle_dist(hist_dist1_ZJets, 27, 0)\n",
    "SetHistStyle_dist(hist_dist2_ZJets, 27, 0)\n",
    "SetHistStyle_dist(hist_dist1_ttbar, 32, 0)\n",
    "SetHistStyle_dist(hist_dist2_ttbar, 32, 0)\n",
    "SetHistStyle_dist(hist_dist1_DATA, 1, 1)\n",
    "SetHistStyle_dist(hist_dist2_DATA, 1, 1)\n",
    "\n",
    "hist_dist_WJets = hist_dist1_WJets.Clone()\n",
    "hist_dist_WJets.Add(hist_dist2_WJets)\n",
    "SetHistStyle_dist(hist_dist_WJets, 22, 0)\n",
    "hist_dist_ZJets = hist_dist1_ZJets.Clone()\n",
    "hist_dist_ZJets.Add(hist_dist2_ZJets)\n",
    "SetHistStyle_dist(hist_dist_ZJets, 27, 0)\n",
    "hist_dist_ttbar = hist_dist1_ttbar.Clone()\n",
    "hist_dist_ttbar.Add(hist_dist2_ttbar)\n",
    "SetHistStyle_dist(hist_dist_ttbar, 32, 0)\n",
    "\n",
    "hs_dist = ROOT.THStack(\"\",\";M_{T,e} [GeV];events/bin\")\n",
    "hs_dist.Add(hist_dist_ZJets)\n",
    "hs_dist.Add(hist_dist_WJets)\n",
    "hs_dist.Add(hist_dist_ttbar)\n",
    "\n",
    "MC_err = ROOT.TH1D(\"\",\"\",xbins,xlow,xup)\n",
    "# MC_err = ROOT.TH1D(\"\",\"\",8,array('d',ptbins))\n",
    "MC_err.Sumw2()\n",
    "MC_err.Add(hist_dist1_WJets)\n",
    "MC_err.Add(hist_dist2_WJets)\n",
    "MC_err.Add(hist_dist1_ZJets)\n",
    "MC_err.Add(hist_dist2_ZJets)\n",
    "MC_err.Add(hist_dist1_ttbar)\n",
    "MC_err.Add(hist_dist2_ttbar)\n",
    "MC_err.SetFillColor(ROOT.kGray+2)\n",
    "MC_err.SetFillStyle(3345)\n",
    "MC_err.SetMarkerSize(0.)\n",
    "MC_err.SetMarkerColor(ROOT.kGray+2)\n",
    "MC_err.SetLineWidth(2)\n",
    "MC_err.SetLineColor(0)\n",
    "MC_err.SetStats(0)\n",
    "\n",
    "hs_data = ROOT.TH1D(\"\",\"\",xbins,xlow,xup)\n",
    "# hs_data = ROOT.TH1D(\"\",\"\",8,array('d',ptbins))\n",
    "hs_data.Add(hist_dist1_DATA)\n",
    "hs_data.Add(hist_dist2_DATA)\n",
    "SetHistStyle_dist(hs_data, 1, 1)\n",
    "\n",
    "legend = ROOT.TLegend(0.55, 0.45, 0.70, 0.75)\n",
    "legend.SetBorderSize(0)\n",
    "legend.SetFillColor(0)\n",
    "legend.SetTextSize(0.035)\n",
    "legend.SetLineWidth(1)\n",
    "legend.SetLineStyle(0)\n",
    "# legend.AddEntry(hist_dist1_DATA,'Double Muon 2018')\n",
    "legend.AddEntry(hist_dist1_DATA,f'DobuleMuon 2016: {format(hs_data.GetSumOfWeights(), \".2f\")}')\n",
    "legend.AddEntry(hist_dist1_WJets,f'WJetsToLNu: {format(hist_dist_WJets.GetSumOfWeights(), \".2f\")}','F')\n",
    "legend.AddEntry(hist_dist1_ZJets,f'DYToLNu: {format(hist_dist_ZJets.GetSumOfWeights(), \".2f\")}','F')\n",
    "legend.AddEntry(hist_dist1_ttbar,f'QCD-EMEnriched: {format(hist_dist_ttbar.GetSumOfWeights(), \".2f\")}','F')\n",
    "\n",
    "c1.Draw()\n",
    "pad1 = ROOT.TPad(\"pad1\", \"pad1\", 0, 0.3, 1, 1.0)\n",
    "pad1.SetBottomMargin(0.015)  # joins upper and lower plot\n",
    "# pad1.SetGridx()\n",
    "pad1.Draw()\n",
    "# Lower ratio plot is pad2\n",
    "c1.cd()  # returns to main canvas before defining pad2\n",
    "pad2 = ROOT.TPad(\"pad2\", \"pad2\", 0, 0.05, 1, 0.3)\n",
    "pad2.SetTopMargin(0)  # joins upper and lower plot\n",
    "pad2.SetBottomMargin(0.3)\n",
    "pad2.SetGridy()\n",
    "pad2.Draw()\n",
    "\n",
    "# draw everything\n",
    "pad1.cd()\n",
    "# hs_data.GetYaxis().SetMaxDigits(3)\n",
    "hs_dist.Draw(\"HIST\")\n",
    "hs_dist.SetMaximum(10000000)\n",
    "hs_dist.SetMinimum(1)\n",
    "# hs_dist.GetXaxis().SetRangeUser(10,60)\n",
    "hs_dist.GetXaxis().SetLabelSize(0)\n",
    "hs_data.Draw(\"ep SAME\")\n",
    "MC_err.Draw(\"e2 SAME\")\n",
    "legend.Draw(\"SAME\")\n",
    "ROOT.gPad.SetLogy()\n",
    "ROOT.gPad.RedrawAxis()\n",
    "\n",
    "\n",
    "# h1.GetXaxis().SetLabelSize(0)\n",
    "pad2.cd()\n",
    "h3 = createRatio(hs_data, MC_err)\n",
    "h4 = createRatio(MC_err, MC_err)\n",
    "h3.Draw(\"ep\")\n",
    "# h3.GetXaxis().SetRangeUser(10,60)\n",
    "h4.Draw(\"e2 SAME\")\n",
    "ROOT.gPad.RedrawAxis()\n",
    "\n",
    "CMS_lumi(pad1, 0, 0)\n",
    "# c1.SaveAs('Fake_Lepton/2017/eta_TightElectron_dist_MR_2017_new.pdf')\n",
    "# c1.SaveAs('Fake_Lepton/2017/eta_TightElectron_dist_MR_2017_new.png')\n",
    "#c1.SaveAs('Fake_Lepton/2017/MET_FakeElectron_dist_MR_2017_new.pdf')\n",
    "#c1.SaveAs('Fake_Lepton/2017/MET_FakeElectron_dist_MR_2017_new.png')"
   ]
  },
  {
   "cell_type": "markdown",
   "id": "d5082b72",
   "metadata": {},
   "source": [
    "## SF"
   ]
  },
  {
   "cell_type": "code",
   "execution_count": 6,
   "id": "eb26a27b",
   "metadata": {},
   "outputs": [
    {
     "name": "stdout",
     "output_type": "stream",
     "text": [
      "1 3\n",
      "WJets yields in EWK CR: 12960.491768661701\n",
      "ZJets yields in EWK CR: 4895.061694657108\n",
      "QCD yields in EWK CR: 516446.94416249276\n",
      "data yields in EWK CR: 417564.0\n",
      "SF = 417564.0 / 534302.4976258116  = 0.7815123490072713\n"
     ]
    }
   ],
   "source": [
    "bin_left = hist_dist1_WJets.FindBin(0)\n",
    "bin_right = hist_dist1_WJets.FindBin(20)\n",
    "\n",
    "WJets_yields = hist_dist1_WJets.Integral(bin_left,bin_right) + hist_dist2_WJets.Integral(bin_left,bin_right)\n",
    "ZJets_yields = hist_dist1_ZJets.Integral(bin_left,bin_right) + hist_dist2_ZJets.Integral(bin_left,bin_right)\n",
    "ttbar_yields = hist_dist1_ttbar.Integral(bin_left,bin_right) + hist_dist2_ttbar.Integral(bin_left,bin_right)\n",
    "data_yields = hist_dist1_DATA.Integral(bin_left,bin_right) + hist_dist2_DATA.Integral(bin_left,bin_right)\n",
    "\n",
    "print (hist_dist1_WJets.FindBin(0),hist_dist1_WJets.FindBin(20))\n",
    "print (f\"WJets yields in EWK CR: {WJets_yields}\")\n",
    "print (f\"ZJets yields in EWK CR: {ZJets_yields}\")\n",
    "print (f\"QCD yields in EWK CR: {ttbar_yields}\")\n",
    "print (f\"data yields in EWK CR: {data_yields}\")\n",
    "print (f\"SF = {data_yields} / {WJets_yields + ZJets_yields + ttbar_yields}  = {data_yields/(WJets_yields+ZJets_yields+ttbar_yields)}\")\n",
    "SF = data_yields/(WJets_yields+ZJets_yields+ttbar_yields)"
   ]
  },
  {
   "cell_type": "code",
   "execution_count": 7,
   "id": "f691b785",
   "metadata": {},
   "outputs": [
    {
     "name": "stdout",
     "output_type": "stream",
     "text": [
      "35.86 fb^{-1} (13 TeV)\n"
     ]
    },
    {
     "name": "stderr",
     "output_type": "stream",
     "text": [
      "Warning in <TH1D::Sumw2>: Sum of squares of weights structure already created\n",
      "Warning in <TH1D::Sumw2>: Sum of squares of weights structure already created\n"
     ]
    },
    {
     "data": {
      "image/png": "[encoded data removed]",
      "text/plain": [
       "<IPython.core.display.Image object>"
      ]
     },
     "metadata": {},
     "output_type": "display_data"
    }
   ],
   "source": [
    "c1 = ROOT.TCanvas(\"\",\"\",1000,800)\n",
    "\n",
    "SetHistStyle_dist(hist_dist1_WJets, 22, 0)\n",
    "SetHistStyle_dist(hist_dist2_WJets, 22, 0)\n",
    "SetHistStyle_dist(hist_dist1_ZJets, 27, 0)\n",
    "SetHistStyle_dist(hist_dist2_ZJets, 27, 0)\n",
    "SetHistStyle_dist(hist_dist1_ttbar, 32, 0)\n",
    "SetHistStyle_dist(hist_dist2_ttbar, 32, 0)\n",
    "SetHistStyle_dist(hist_dist1_DATA, 1, 1)\n",
    "SetHistStyle_dist(hist_dist2_DATA, 1, 1)\n",
    "\n",
    "hist_dist_WJets = hist_dist1_WJets.Clone()\n",
    "hist_dist_WJets.Add(hist_dist2_WJets)\n",
    "SetHistStyle_dist(hist_dist_WJets, 22, 0)\n",
    "hist_dist_ZJets = hist_dist1_ZJets.Clone()\n",
    "hist_dist_ZJets.Add(hist_dist2_ZJets)\n",
    "SetHistStyle_dist(hist_dist_ZJets, 27, 0)\n",
    "hist_dist_ttbar = hist_dist1_ttbar.Clone()\n",
    "hist_dist_ttbar.Add(hist_dist2_ttbar)\n",
    "SetHistStyle_dist(hist_dist_ttbar, 32, 0)\n",
    "\n",
    "\n",
    "hist_dist_ZJets.Scale(SF)\n",
    "hist_dist_WJets.Scale(SF)\n",
    "hist_dist_ttbar.Scale(SF)\n",
    "\n",
    "hs_dist = ROOT.THStack(\"\",\";M_{T,e} [GeV];events/bin\")\n",
    "hs_dist.Add(hist_dist_ZJets)\n",
    "hs_dist.Add(hist_dist_WJets)\n",
    "hs_dist.Add(hist_dist_ttbar)\n",
    "\n",
    "\n",
    "\n",
    "MC_err = ROOT.TH1D(\"\",\"\",xbins,xlow,xup)\n",
    "# MC_err = ROOT.TH1D(\"\",\"\",8,array('d',ptbins))\n",
    "MC_err.Sumw2()\n",
    "MC_err.Add(hist_dist1_WJets)\n",
    "MC_err.Add(hist_dist2_WJets)\n",
    "MC_err.Add(hist_dist1_ZJets)\n",
    "MC_err.Add(hist_dist2_ZJets)\n",
    "MC_err.Add(hist_dist1_ttbar)\n",
    "MC_err.Add(hist_dist2_ttbar)\n",
    "MC_err.SetFillColor(ROOT.kGray+2)\n",
    "MC_err.SetFillStyle(3345)\n",
    "MC_err.SetMarkerSize(0.)\n",
    "MC_err.SetMarkerColor(ROOT.kGray+2)\n",
    "MC_err.SetLineWidth(2)\n",
    "MC_err.SetLineColor(0)\n",
    "MC_err.SetStats(0)\n",
    "\n",
    "MC_err.Scale(SF)\n",
    "\n",
    "\n",
    "hs_data = ROOT.TH1D(\"\",\"\",xbins,xlow,xup)\n",
    "# hs_data = ROOT.TH1D(\"\",\"\",8,array('d',ptbins))\n",
    "hs_data.Add(hist_dist1_DATA)\n",
    "hs_data.Add(hist_dist2_DATA)\n",
    "SetHistStyle_dist(hs_data, 1, 1)\n",
    "\n",
    "legend = ROOT.TLegend(0.55, 0.45, 0.70, 0.75)\n",
    "legend.SetBorderSize(0)\n",
    "legend.SetFillColor(0)\n",
    "legend.SetTextSize(0.035)\n",
    "legend.SetLineWidth(1)\n",
    "legend.SetLineStyle(0)\n",
    "# legend.AddEntry(hist_dist1_DATA,'Double Muon 2018')\n",
    "legend.AddEntry(hist_dist1_DATA,f'DoubleMuon 2016: {format(hs_data.GetSumOfWeights(), \".2f\")}')\n",
    "legend.AddEntry(hist_dist1_WJets,f'WJetsToLNu: {format(hist_dist_WJets.GetSumOfWeights(), \".2f\")}','F')\n",
    "legend.AddEntry(hist_dist1_ZJets,f'DYToLNu: {format(hist_dist_ZJets.GetSumOfWeights(), \".2f\")}','F')\n",
    "legend.AddEntry(hist_dist1_ttbar,f'QCD-MuEnriched: {format(hist_dist_ttbar.GetSumOfWeights(), \".2f\")}','F')\n",
    "\n",
    "c1.Draw()\n",
    "pad1 = ROOT.TPad(\"pad1\", \"pad1\", 0, 0.3, 1, 1.0)\n",
    "pad1.SetBottomMargin(0.015)  # joins upper and lower plot\n",
    "# pad1.SetGridx()\n",
    "pad1.Draw()\n",
    "# Lower ratio plot is pad2\n",
    "c1.cd()  # returns to main canvas before defining pad2\n",
    "pad2 = ROOT.TPad(\"pad2\", \"pad2\", 0, 0.05, 1, 0.3)\n",
    "pad2.SetTopMargin(0)  # joins upper and lower plot\n",
    "pad2.SetBottomMargin(0.3)\n",
    "pad2.SetGridy()\n",
    "pad2.Draw()\n",
    "\n",
    "# draw everything\n",
    "pad1.cd()\n",
    "# hs_data.GetYaxis().SetMaxDigits(3)\n",
    "hs_dist.Draw(\"HIST\")\n",
    "hs_dist.SetMaximum(10000000)\n",
    "hs_dist.SetMinimum(10)\n",
    "# hs_dist.GetXaxis().SetRangeUser(10,60)\n",
    "hs_dist.GetXaxis().SetLabelSize(0)\n",
    "hs_data.Draw(\"ep SAME\")\n",
    "MC_err.Draw(\"e2 SAME\")\n",
    "legend.Draw(\"SAME\")\n",
    "ROOT.gPad.SetLogy()\n",
    "ROOT.gPad.RedrawAxis()\n",
    "\n",
    "\n",
    "# h1.GetXaxis().SetLabelSize(0)\n",
    "pad2.cd()\n",
    "h3 = createRatio(hs_data, MC_err)\n",
    "h4 = createRatio(MC_err, MC_err)\n",
    "h3.Draw(\"ep\")\n",
    "# h3.GetXaxis().SetRangeUser(10,60)\n",
    "h4.Draw(\"e2 SAME\")\n",
    "ROOT.gPad.RedrawAxis()\n",
    "\n",
    "CMS_lumi(pad1, 0, 0)\n",
    "# c1.SaveAs('Fake_Lepton/2017/eta_TightElectron_dist_MR_2017_new.pdf')\n",
    "# c1.SaveAs('Fake_Lepton/2017/eta_TightElectron_dist_MR_2017_new.png')\n",
    "#c1.SaveAs('Fake_Lepton/2017/MET_FakeElectron_dist_MR_2017_new.pdf')\n",
    "#c1.SaveAs('Fake_Lepton/2017/MET_FakeElectron_dist_MR_2017_new.png')"
   ]
  },
  {
   "cell_type": "code",
   "execution_count": 8,
   "id": "0acc4c88",
   "metadata": {},
   "outputs": [
    {
     "name": "stdout",
     "output_type": "stream",
     "text": [
      "0.9331898406915552\n",
      "0.011458329535733199\n",
      "0.9370192948111288\n",
      "0.015399501928716636\n"
     ]
    },
    {
     "data": {
      "image/png": "[encoded data removed]",
      "text/plain": [
       "<IPython.core.display.Image object>"
      ]
     },
     "metadata": {},
     "output_type": "display_data"
    }
   ],
   "source": [
    "c1 = ROOT.TCanvas(\"\",\"\",1000,800)\n",
    "c1.Draw()\n",
    "\n",
    "\n",
    "h3.Draw('ep')\n",
    "h3.SetXTitle('P_{T,#mu} [GeV]')\n",
    "h3.GetXaxis().SetTitleOffset(1.6)\n",
    "h3.GetXaxis().SetRangeUser(0,60)\n",
    "h3.SetMaximum(1.4)\n",
    "#h3.SetMinimum(0)\n",
    "ROOT.gPad.SetGridy()\n",
    "ROOT.gPad.SetGridx()\n",
    "\n",
    "print(h3.GetBinContent(7))\n",
    "print(h3.GetBinError(7))\n",
    "print(h3.GetBinContent(8))\n",
    "print(h3.GetBinError(8))"
   ]
  },
  {
   "cell_type": "markdown",
   "id": "99221130",
   "metadata": {},
   "source": [
    "## Muon Fake Rate"
   ]
  },
  {
   "cell_type": "code",
   "execution_count": 9,
   "id": "4d7768f3",
   "metadata": {},
   "outputs": [],
   "source": [
    "def AddHist_FR_Ele(file, h_nume_e, h_deno_e, isAdd, isData, lumi_Ele12, lumi_Ele23, xsec):\n",
    "    \n",
    "    if isData:\n",
    "        print('is Data')\n",
    "        branches = uproot.open(file+':Events').arrays(['jet_pt','is_lepton_tight','mt','met','lepton_pt','lepton_eta','lepton_pdgid','lepton_pfRelIso04_all',\n",
    "                                                       'HLT_Ele12_CaloIdL_TrackIdL_IsoVL_PFJet30','HLT_Ele23_CaloIdL_TrackIdL_IsoVL_PFJet30',\n",
    "                                                       'HLT_Mu8_TrkIsoVVL','HLT_Mu17_TrkIsoVVL','hlt'], library='pd')\n",
    "    else:\n",
    "        print('is MC')\n",
    "        branches = uproot.open(file+':Events').arrays(['jet_pt','is_lepton_tight','mt','met','lepton_pt','lepton_eta','lepton_pdgid','lepton_pfRelIso04_all',\n",
    "                                                       'lepton_gen_matching','HLT_Ele12_CaloIdL_TrackIdL_IsoVL_PFJet30','HLT_Ele23_CaloIdL_TrackIdL_IsoVL_PFJet30',\n",
    "                                                       'HLT_Mu8_TrkIsoVVL','HLT_Mu17_TrkIsoVVL','hlt','gen_weight'], library='pd')\n",
    "        true_events = uproot.open(file)['nEventsGenWeighted'].values()[0]\n",
    "        weight_lowpt = (1000*lumi_Mu8*xsec*isAdd) / true_events\n",
    "        weight_highpt = (1000*lumi_Mu17*xsec*isAdd) / true_events\n",
    "        lepton_gen_cut1 = branches.loc[:,'lepton_gen_matching'] == 1\n",
    "        lepton_gen_cut2 = branches.loc[:,'lepton_gen_matching'] == 15\n",
    "        \n",
    "    HLT_cut1 = branches.loc[:,'HLT_Mu8_TrkIsoVVL'] == True\n",
    "    HLT_cut2 = branches.loc[:,'HLT_Mu17_TrkIsoVVL'] == True\n",
    "    met_cut = branches.loc[:,'met'] < 20\n",
    "    mt_cut = branches.loc[:,'mt'] < 20\n",
    "    Muon_cut = abs(branches.loc[:,'lepton_pdgid']) == 13\n",
    "    pf_cut = branches.loc[:,'lepton_pfRelIso04_all'] < 0.15\n",
    "    pt_edge = branches.loc[:,'lepton_pt'] < 20\n",
    "    jet_pt = branches.loc[:,'jet_pt'] > 35\n",
    "\n",
    "    \n",
    "    overflow_Y = h_deno_m.GetYaxis().GetBinUpEdge(h_deno_m.GetNbinsY())\n",
    "    center_upper_Y = h_deno_m.GetYaxis().GetBinCenter(h_deno_m.GetNbinsY())\n",
    "    \n",
    "    if isData:\n",
    "        deno_m_lowpt = branches.loc[HLT_cut1 & pt_edge & Muon_cut & met_cut & mt_cut & jet_pt,:]\n",
    "        deno_m_highpt = branches.loc[HLT_cut2 & ~pt_edge & Muon_cut & met_cut & mt_cut & jet_pt,:]\n",
    "        \n",
    "        \n",
    "        for i in trange(0, len(deno_m_lowpt['lepton_pt']), desc=f'fill pt < 20 GeV for {file}'):\n",
    "            if float(deno_m_lowpt['lepton_pt'].values[i]) < overflow_Y:\n",
    "                h_deno_m.Fill(abs(float(deno_m_lowpt['lepton_eta'].values[i])), float(deno_m_lowpt['lepton_pt'].values[i]))\n",
    "                if deno_m_lowpt['lepton_pfRelIso04_all'].values[i] < 0.15:\n",
    "                    h_nume_m.Fill(abs(float(deno_m_lowpt['lepton_eta'].values[i])), float(deno_m_lowpt['lepton_pt'].values[i]))\n",
    "            else:\n",
    "                h_deno_m.Fill(abs(float(deno_m_lowpt['lepton_eta'].values[i])), center_upper_Y)\n",
    "                if deno_m_lowpt['lepton_pfRelIso04_all'].values[i] < 0.15:\n",
    "                    h_nume_m.Fill(abs(float(deno_m_lowpt['lepton_eta'].values[i])), center_upper_Y)\n",
    "                \n",
    "        for i in trange(0, len(deno_m_highpt['lepton_pt']), desc=f'fill pt > 20 GeV for {file}'):\n",
    "            if float(deno_m_highpt['lepton_pt'].values[i]) < overflow_Y:\n",
    "                h_deno_m.Fill(abs(float(deno_m_highpt['lepton_eta'].values[i])), float(deno_m_highpt['lepton_pt'].values[i]))\n",
    "                if deno_m_highpt['lepton_pfRelIso04_all'].values[i] < 0.15 :\n",
    "                    h_nume_m.Fill(abs(float(deno_m_highpt['lepton_eta'].values[i])), float(deno_m_highpt['lepton_pt'].values[i]))\n",
    "            else:\n",
    "                h_deno_m.Fill(abs(float(deno_m_highpt['lepton_eta'].values[i])), center_upper_Y)\n",
    "                if deno_m_highpt['lepton_pfRelIso04_all'].values[i] < 0.15:\n",
    "                    h_nume_m.Fill(abs(float(deno_m_highpt['lepton_eta'].values[i])), center_upper_Y)\n",
    "                    \n",
    "                \n",
    "    else:\n",
    "        deno_m_lowpt = branches.loc[HLT_cut1 & pt_edge & Muon_cut & met_cut & mt_cut & (lepton_gen_cut1 | lepton_gen_cut2) & jet_pt,:].copy()\n",
    "        deno_m_highpt = branches.loc[HLT_cut2 & ~pt_edge & Muon_cut & met_cut & mt_cut & (lepton_gen_cut1 | lepton_gen_cut2) & jet_pt,:].copy()\n",
    "        \n",
    "        # Add SF\n",
    "        deno_m_highpt.loc[:,'SF'] = 1\n",
    "        deno_m_highpt.loc[(deno_m_highpt['lepton_pt'] >= 35) & (deno_m_highpt['lepton_pt'] < 45), 'SF'] = 1\n",
    "        deno_m_highpt.loc[deno_m_highpt['lepton_pt'] >= 45 , 'SF'] = 1\n",
    "        \n",
    "        \n",
    "        for i in trange(0, len(deno_m_lowpt['lepton_pt']), desc=f'fill pt < 20 GeV for {file}'):\n",
    "            if float(deno_m_lowpt['lepton_pt'].values[i]) < overflow_Y:\n",
    "                h_deno_m.Fill(abs(float(deno_m_lowpt['lepton_eta'].values[i])), float(deno_m_lowpt['lepton_pt'].values[i]), weight_lowpt*sgn(deno_m_lowpt['gen_weight'].values[i]))\n",
    "                if deno_m_lowpt['lepton_pfRelIso04_all'].values[i] < 0.15:                   \n",
    "                    h_nume_m.Fill(abs(float(deno_m_lowpt['lepton_eta'].values[i])), float(deno_m_lowpt['lepton_pt'].values[i]), weight_lowpt*sgn(deno_m_lowpt['gen_weight'].values[i]))\n",
    "            else:\n",
    "                h_deno_m.Fill(abs(float(deno_m_lowpt['lepton_eta'].values[i])), center_upper_Y, weight_lowpt*sgn(deno_m_lowpt['gen_weight'].values[i]))\n",
    "                if deno_m_lowpt['lepton_pfRelIso04_all'].values[i] < 0.15:\n",
    "                    h_nume_m.Fill(abs(float(deno_m_lowpt['lepton_eta'].values[i])), center_upper_Y, weight_lowpt*sgn(deno_m_lowpt['gen_weight'].values[i]))\n",
    "                \n",
    "        for i in trange(0, len(deno_m_highpt['lepton_pt']), desc=f'fill pt > 20 GeV for {file}'):\n",
    "            if float(deno_m_highpt['lepton_pt'].values[i]) < overflow_Y:\n",
    "                h_deno_m.Fill(abs(float(deno_m_highpt['lepton_eta'].values[i])), float(deno_m_highpt['lepton_pt'].values[i]), deno_m_highpt['SF'].values[i]*weight_highpt*sgn(deno_m_highpt['gen_weight'].values[i]))\n",
    "                if deno_m_highpt['lepton_pfRelIso04_all'].values[i] < 0.15:\n",
    "                    h_nume_m.Fill(abs(float(deno_m_highpt['lepton_eta'].values[i])), float(deno_m_highpt['lepton_pt'].values[i]), deno_m_highpt['SF'].values[i]*weight_highpt*sgn(deno_m_highpt['gen_weight'].values[i]))\n",
    "            else:\n",
    "                h_deno_m.Fill(abs(float(deno_m_highpt['lepton_eta'].values[i])), center_upper_Y, deno_m_highpt['SF'].values[i]*weight_highpt*sgn(deno_m_highpt['gen_weight'].values[i]))\n",
    "                if deno_m_highpt['lepton_pfRelIso04_all'].values[i] < 0.15:\n",
    "                    h_nume_m.Fill(abs(float(deno_m_highpt['lepton_eta'].values[i])), center_upper_Y, deno_m_highpt['SF'].values[i]*weight_highpt*sgn(deno_m_highpt['gen_weight'].values[i]))\n",
    "\n",
    "\n",
    "    deno_counts = 0\n",
    "    for i in range(h_deno_m.GetNbinsX()):\n",
    "        for j in range(h_deno_m.GetNbinsY()):\n",
    "            deno_counts += h_deno_m.GetBinContent(i+1,j+1) \n",
    "\n",
    "    nume_counts = 0\n",
    "    for i in range(h_nume_m.GetNbinsX()):\n",
    "        for j in range(h_nume_m.GetNbinsY()):\n",
    "            nume_counts += h_nume_m.GetBinContent(i+1,j+1) \n",
    "\n",
    "    print (f\"normalized deno :{deno_counts}\")\n",
    "    print (f\"normalized nume :{nume_counts}\")"
   ]
  },
  {
   "cell_type": "markdown",
   "id": "85ee7c6c",
   "metadata": {},
   "source": [
    "Data processing"
   ]
  },
  {
   "cell_type": "code",
   "execution_count": 17,
   "id": "5c21ae43",
   "metadata": {},
   "outputs": [
    {
     "name": "stdout",
     "output_type": "stream",
     "text": [
      "is Data\n"
     ]
    },
    {
     "name": "stderr",
     "output_type": "stream",
     "text": [
      "fill pt < 20 GeV for /eos/home-j/jiwoong/WZG_DB/2016/pre_post_separated_220209/FakeLepton/FR/merged/DoubleMuon_Run2016B.root: 100%|██████████| 8750/8750 [00:00<00:00, 38404.43it/s]\n",
      "fill pt > 20 GeV for /eos/home-j/jiwoong/WZG_DB/2016/pre_post_separated_220209/FakeLepton/FR/merged/DoubleMuon_Run2016B.root: 100%|██████████| 153542/153542 [00:03<00:00, 42166.10it/s]\n"
     ]
    },
    {
     "name": "stdout",
     "output_type": "stream",
     "text": [
      "normalized deno :162206.0\n",
      "normalized nume :51908.0\n",
      "is Data\n"
     ]
    },
    {
     "name": "stderr",
     "output_type": "stream",
     "text": [
      "fill pt < 20 GeV for /eos/home-j/jiwoong/WZG_DB/2016/pre_post_separated_220209/FakeLepton/FR/merged/DoubleMuon_Run2016C.root: 100%|██████████| 1046/1046 [00:00<00:00, 45455.17it/s]\n",
      "fill pt > 20 GeV for /eos/home-j/jiwoong/WZG_DB/2016/pre_post_separated_220209/FakeLepton/FR/merged/DoubleMuon_Run2016C.root: 100%|██████████| 11534/11534 [00:00<00:00, 42030.83it/s]\n"
     ]
    },
    {
     "name": "stdout",
     "output_type": "stream",
     "text": [
      "normalized deno :174771.0\n",
      "normalized nume :56126.0\n",
      "is Data\n"
     ]
    },
    {
     "name": "stderr",
     "output_type": "stream",
     "text": [
      "fill pt < 20 GeV for /eos/home-j/jiwoong/WZG_DB/2016/pre_post_separated_220209/FakeLepton/FR/merged/DoubleMuon_Run2016D.root: 100%|██████████| 1650/1650 [00:00<00:00, 44340.94it/s]\n",
      "fill pt > 20 GeV for /eos/home-j/jiwoong/WZG_DB/2016/pre_post_separated_220209/FakeLepton/FR/merged/DoubleMuon_Run2016D.root: 100%|██████████| 19643/19643 [00:00<00:00, 45207.34it/s]\n"
     ]
    },
    {
     "name": "stdout",
     "output_type": "stream",
     "text": [
      "normalized deno :196044.0\n",
      "normalized nume :63097.0\n",
      "is Data\n"
     ]
    },
    {
     "name": "stderr",
     "output_type": "stream",
     "text": [
      "fill pt < 20 GeV for /eos/home-j/jiwoong/WZG_DB/2016/pre_post_separated_220209/FakeLepton/FR/merged/DoubleMuon_Run2016E.root: 100%|██████████| 1314/1314 [00:00<00:00, 48166.99it/s]\n",
      "fill pt > 20 GeV for /eos/home-j/jiwoong/WZG_DB/2016/pre_post_separated_220209/FakeLepton/FR/merged/DoubleMuon_Run2016E.root: 100%|██████████| 22156/22156 [00:00<00:00, 47218.15it/s]\n"
     ]
    },
    {
     "name": "stdout",
     "output_type": "stream",
     "text": [
      "normalized deno :219500.0\n",
      "normalized nume :70987.0\n",
      "is Data\n"
     ]
    },
    {
     "name": "stderr",
     "output_type": "stream",
     "text": [
      "fill pt < 20 GeV for /eos/home-j/jiwoong/WZG_DB/2016/pre_post_separated_220209/FakeLepton/FR/merged/DoubleMuon_Run2016F.root: 100%|██████████| 541/541 [00:00<00:00, 46092.19it/s]\n",
      "fill pt > 20 GeV for /eos/home-j/jiwoong/WZG_DB/2016/pre_post_separated_220209/FakeLepton/FR/merged/DoubleMuon_Run2016F.root: 100%|██████████| 9164/9164 [00:00<00:00, 32794.64it/s]\n"
     ]
    },
    {
     "name": "stdout",
     "output_type": "stream",
     "text": [
      "normalized deno :229196.0\n",
      "normalized nume :74411.0\n",
      "is Data\n"
     ]
    },
    {
     "name": "stderr",
     "output_type": "stream",
     "text": [
      "fill pt < 20 GeV for /eos/home-j/jiwoong/WZG_DB/2016/pre_post_separated_220209/FakeLepton/FR/merged/DoubleMuon_Run2016G.root: 100%|██████████| 963/963 [00:00<00:00, 34056.04it/s]\n",
      "fill pt > 20 GeV for /eos/home-j/jiwoong/WZG_DB/2016/pre_post_separated_220209/FakeLepton/FR/merged/DoubleMuon_Run2016G.root: 100%|██████████| 13541/13541 [00:00<00:00, 32264.30it/s]\n"
     ]
    },
    {
     "name": "stdout",
     "output_type": "stream",
     "text": [
      "normalized deno :243689.0\n",
      "normalized nume :79419.0\n",
      "is Data\n"
     ]
    },
    {
     "name": "stderr",
     "output_type": "stream",
     "text": [
      "fill pt < 20 GeV for /eos/home-j/jiwoong/WZG_DB/2016/pre_post_separated_220209/FakeLepton/FR/merged/DoubleMuon_Run2016H.root: 100%|██████████| 984/984 [00:00<00:00, 27270.29it/s]\n",
      "fill pt > 20 GeV for /eos/home-j/jiwoong/WZG_DB/2016/pre_post_separated_220209/FakeLepton/FR/merged/DoubleMuon_Run2016H.root: 100%|██████████| 13294/13294 [00:00<00:00, 37941.98it/s]\n"
     ]
    },
    {
     "name": "stdout",
     "output_type": "stream",
     "text": [
      "normalized deno :257962.0\n",
      "normalized nume :84231.0\n"
     ]
    }
   ],
   "source": [
    "ybins = [15, 20, 24, 28, 35, 45, 60]\n",
    "xbins = [.0, 0.5, 1.0, 1.5, 2.0, 2.5]\n",
    "\n",
    "from array import array\n",
    "h_deno_m = ROOT.TH2D(\"\",\"\", len(xbins)-1, array('d',xbins), len(ybins)-1, array('d',ybins))\n",
    "h_deno_m.StatOverflows(1)\n",
    "h_deno_m.Sumw2()\n",
    "h_nume_m = ROOT.TH2D(\"\",\"\", len(xbins)-1, array('d',xbins), len(ybins)-1, array('d',ybins))\n",
    "h_nume_m.StatOverflows(1)\n",
    "h_nume_m.Sumw2()\n",
    "\n",
    "\n",
    "\n",
    "file_list_M = [\n",
    "    \"/eos/home-j/jiwoong/WZG_DB/2016/pre_post_separated_220209/FakeLepton/FR/merged/DoubleMuon_Run2016B.root\"\n",
    "    ,\"/eos/home-j/jiwoong/WZG_DB/2016/pre_post_separated_220209/FakeLepton/FR/merged/DoubleMuon_Run2016C.root\"\n",
    "    ,\"/eos/home-j/jiwoong/WZG_DB/2016/pre_post_separated_220209/FakeLepton/FR/merged/DoubleMuon_Run2016D.root\"\n",
    "    ,\"/eos/home-j/jiwoong/WZG_DB/2016/pre_post_separated_220209/FakeLepton/FR/merged/DoubleMuon_Run2016E.root\"\n",
    "    ,\"/eos/home-j/jiwoong/WZG_DB/2016/pre_post_separated_220209/FakeLepton/FR/merged/DoubleMuon_Run2016F.root\"\n",
    "    ,\"/eos/home-j/jiwoong/WZG_DB/2016/pre_post_separated_220209/FakeLepton/FR/merged/DoubleMuon_Run2016G.root\"\n",
    "    ,\"/eos/home-j/jiwoong/WZG_DB/2016/pre_post_separated_220209/FakeLepton/FR/merged/DoubleMuon_Run2016H.root\"\n",
    "]\n",
    "for file_DATA in file_list_M:\n",
    "    AddHist_FR_Ele(file_DATA, h_nume_m, h_deno_m, 1, 1, 0, 0, 0)"
   ]
  },
  {
   "cell_type": "markdown",
   "id": "39e38c4e",
   "metadata": {},
   "source": [
    "MC processing"
   ]
  },
  {
   "cell_type": "code",
   "execution_count": 18,
   "id": "56669363",
   "metadata": {},
   "outputs": [
    {
     "name": "stdout",
     "output_type": "stream",
     "text": [
      "is MC\n"
     ]
    },
    {
     "name": "stderr",
     "output_type": "stream",
     "text": [
      "fill pt < 20 GeV for /eos/home-j/jiwoong/WZG_DB/2016/pre_post_separated_220209/FakeLepton/FR/merged/WJetsToLNu_TuneCP5_13TeV-madgraphMLM-pythia8_2016.root: 100%|██████████| 11441/11441 [00:00<00:00, 25560.73it/s]\n",
      "fill pt > 20 GeV for /eos/home-j/jiwoong/WZG_DB/2016/pre_post_separated_220209/FakeLepton/FR/merged/WJetsToLNu_TuneCP5_13TeV-madgraphMLM-pythia8_2016.root: 100%|██████████| 100835/100835 [00:05<00:00, 17502.80it/s]\n"
     ]
    },
    {
     "name": "stdout",
     "output_type": "stream",
     "text": [
      "normalized deno :249312.42356484488\n",
      "normalized nume :76014.15148333427\n",
      "is MC\n"
     ]
    },
    {
     "name": "stderr",
     "output_type": "stream",
     "text": [
      "fill pt < 20 GeV for /eos/home-j/jiwoong/WZG_DB/2016/pre_post_separated_220209/FakeLepton/FR/merged/DYJetsToLL_M-50_TuneCP5_13TeV-madgraphMLM-pythia8_2016.root: 100%|██████████| 75273/75273 [00:03<00:00, 24779.08it/s]\n",
      "fill pt > 20 GeV for /eos/home-j/jiwoong/WZG_DB/2016/pre_post_separated_220209/FakeLepton/FR/merged/DYJetsToLL_M-50_TuneCP5_13TeV-madgraphMLM-pythia8_2016.root: 100%|██████████| 354281/354281 [00:21<00:00, 16496.55it/s]\n"
     ]
    },
    {
     "name": "stdout",
     "output_type": "stream",
     "text": [
      "normalized deno :246924.56641708416\n",
      "normalized nume :73767.77738942341\n",
      "is MC\n"
     ]
    },
    {
     "name": "stderr",
     "output_type": "stream",
     "text": [
      "fill pt < 20 GeV for /eos/home-j/jiwoong/WZG_DB/2016/pre_post_separated_220209/FakeLepton/FR/merged/DYJetsToLL_M-10to50_TuneCP5_13TeV-madgraphMLM-pythia8_2016.root: 100%|██████████| 5127/5127 [00:00<00:00, 22711.93it/s]\n",
      "fill pt > 20 GeV for /eos/home-j/jiwoong/WZG_DB/2016/pre_post_separated_220209/FakeLepton/FR/merged/DYJetsToLL_M-10to50_TuneCP5_13TeV-madgraphMLM-pythia8_2016.root: 100%|██████████| 11683/11683 [00:00<00:00, 16983.55it/s]\n"
     ]
    },
    {
     "name": "stdout",
     "output_type": "stream",
     "text": [
      "normalized deno :246116.42995017\n",
      "normalized nume :73022.454145014\n",
      "0.0078 0.21675 61526.7\n",
      "0.0078 0.21675 6077.22\n",
      "0.0078 0.21675 18610\n"
     ]
    }
   ],
   "source": [
    "file_WJets = '/eos/home-j/jiwoong/WZG_DB/2016/pre_post_separated_220209/FakeLepton/FR/merged/WJetsToLNu_TuneCP5_13TeV-madgraphMLM-pythia8_2016.root'\n",
    "file_ZJets = '/eos/home-j/jiwoong/WZG_DB/2016/pre_post_separated_220209/FakeLepton/FR/merged/DYJetsToLL_M-50_TuneCP5_13TeV-madgraphMLM-pythia8_2016.root'\n",
    "file_ZJets2 = '/eos/home-j/jiwoong/WZG_DB/2016/pre_post_separated_220209/FakeLepton/FR/merged/DYJetsToLL_M-10to50_TuneCP5_13TeV-madgraphMLM-pythia8_2016.root'\n",
    "\n",
    "\n",
    "xsec_WJets = 61526.7  \n",
    "xsec_ZJets = 6077.22 \n",
    "xsec_ZJets2 = 18610\n",
    "\n",
    "lumi_Mu8 = 0.00780 # HLT_Ele8_CaloIdL_TrackIdL_IsoVL_PFJet30 2018 lumi\n",
    "lumi_Mu17 = 0.21675 # HLT_Ele23_CaloIdL_TrackIdL_IsoVL_PFJet30 2018 lumi\n",
    "\n",
    "AddHist_FR_Ele(file_WJets, h_nume_m, h_deno_m, -1, 0, lumi_Mu8, lumi_Mu17, xsec_WJets)\n",
    "AddHist_FR_Ele(file_ZJets, h_nume_m, h_deno_m, -1, 0, lumi_Mu8, lumi_Mu17, xsec_ZJets)\n",
    "AddHist_FR_Ele(file_ZJets2, h_nume_m, h_deno_m, -1, 0, lumi_Mu8, lumi_Mu17, xsec_ZJets2)\n",
    "print (lumi_Mu8, lumi_Mu17, xsec_WJets)\n",
    "print (lumi_Mu8, lumi_Mu17, xsec_ZJets)\n",
    "print (lumi_Mu8, lumi_Mu17, xsec_ZJets2)"
   ]
  },
  {
   "cell_type": "code",
   "execution_count": 19,
   "id": "cb510a43",
   "metadata": {},
   "outputs": [
    {
     "name": "stdout",
     "output_type": "stream",
     "text": [
      "35.86 fb^{-1} (13 TeV)\n"
     ]
    },
    {
     "data": {
      "image/png": "[encoded data removed]",
      "text/plain": [
       "<IPython.core.display.Image object>"
      ]
     },
     "metadata": {},
     "output_type": "display_data"
    }
   ],
   "source": [
    "fake_rate_m = h_nume_m.Clone(\"fake_rate_m\")\n",
    "fake_rate_m.Divide(h_deno_m)\n",
    "\n",
    "fake_rate_m.SetDirectory(0)\n",
    "c1 = ROOT.TCanvas(\"\",\"\",1200,800)\n",
    "fake_rate_m.SetStats(0)\n",
    "fake_rate_m.SetXTitle(\"|#eta|\")\n",
    "fake_rate_m.SetYTitle(\"P_{T} [GeV]\")\n",
    "fake_rate_m.SetMarkerSize(1.3)\n",
    "ROOT.gStyle.SetPaintTextFormat('4.2f')\n",
    "fake_rate_m.Draw(\"COLZe TEXT\")\n",
    "c1.Draw()\n",
    "CMS_lumi(c1,0,0)\n",
    "# c1.SaveAs('Fake_Lepton/2017/FR_Electron_data_2017_new.pdf')\n",
    "# c1.SaveAs('Fake_Lepton/2017/FR_Electron_data_2017_new.png')\n",
    "\n",
    "file1 = ROOT.TFile(\"mu.root\",\"recreate\")\n",
    "file1.cd()\n",
    "fake_rate_m.Write()\n",
    "file1.Close()"
   ]
  },
  {
   "cell_type": "code",
   "execution_count": 21,
   "id": "807ae511",
   "metadata": {},
   "outputs": [
    {
     "name": "stdout",
     "output_type": "stream",
     "text": [
      "mu.root\r\n"
     ]
    }
   ],
   "source": [
    "!ls mu.root"
   ]
  },
  {
   "cell_type": "code",
   "execution_count": null,
   "id": "68460898",
   "metadata": {},
   "outputs": [],
   "source": []
  }
 ],
 "metadata": {
  "kernelspec": {
   "display_name": "Python 3",
   "language": "python",
   "name": "python3"
  },
  "language_info": {
   "codemirror_mode": {
    "name": "ipython",
    "version": 3
   },
   "file_extension": ".py",
   "mimetype": "text/x-python",
   "name": "python",
   "nbconvert_exporter": "python",
   "pygments_lexer": "ipython3",
   "version": "3.9.6"
  }
 },
 "nbformat": 4,
 "nbformat_minor": 5
}
