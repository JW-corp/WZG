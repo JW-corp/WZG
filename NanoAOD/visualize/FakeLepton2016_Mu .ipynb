{
 "cells": [
  {
   "cell_type": "code",
   "execution_count": 2,
   "id": "f868eabe",
   "metadata": {},
   "outputs": [
    {
     "name": "stdout",
     "output_type": "stream",
     "text": [
      "Welcome to JupyROOT 6.24/06\n"
     ]
    }
   ],
   "source": [
    "import matplotlib\n",
    "import uproot, uproot3\n",
    "import numpy\n",
    "import numba\n",
    "import numpy as np\n",
    "import matplotlib.pyplot as plt\n",
    "import pandas as pd\n",
    "from tqdm import trange\n",
    "import ROOT\n",
    "import os,sys\n",
    "from array import array\n",
    "\n",
    "from Lumi import *\n",
    "from TDR_Style import *\n",
    "from Ratio_Plot import *"
   ]
  },
  {
   "cell_type": "code",
   "execution_count": 3,
   "id": "7526cde1",
   "metadata": {},
   "outputs": [],
   "source": [
    "@numba.njit\n",
    "def sgn(num):\n",
    "    if (num >= 0):\n",
    "        return 1\n",
    "    else:\n",
    "        return -1"
   ]
  },
  {
   "cell_type": "markdown",
   "id": "08495c6d",
   "metadata": {},
   "source": [
    "### 1. Template Distribution"
   ]
  },
  {
   "cell_type": "code",
   "execution_count": 8,
   "id": "a505a4ac",
   "metadata": {},
   "outputs": [],
   "source": [
    "def AddHist_FTdist(file, branch, hist_pre1, hist_pre2, isData, xsec):\n",
    "    \n",
    "    if isData:\n",
    "        print('is Data')\n",
    "        init_branches = ['is_lepton_tight','jet_pt','mt','met','lepton_pt','lepton_eta','lepton_pdgid','lepton_pfRelIso04_all',\n",
    "                                                       'HLT_IsoMu24','HLT_Mu8_TrkIsoVVL','HLT_Mu17_TrkIsoVVL','hlt',\n",
    "                                                      'HLT_Ele8_CaloIdL_TrackIdL_IsoVL_PFJet30','HLT_Ele12_CaloIdL_TrackIdL_IsoVL_PFJet30','HLT_Ele23_CaloIdL_TrackIdL_IsoVL_PFJet30']\n",
    "        if not (branch in init_branches):\n",
    "            init_branches.append(branch)\n",
    "        branches = uproot.open(file+':Events').arrays(init_branches, library='pd')\n",
    "\n",
    "    else:\n",
    "        print('is MC')\n",
    "        init_branches = ['is_lepton_tight','jet_pt','mt','met','lepton_pt','lepton_eta','lepton_pdgid','lepton_pfRelIso04_all','lepton_gen_matching','gen_weight',\n",
    "                                                       'HLT_IsoMu24','HLT_Mu8_TrkIsoVVL','HLT_Mu17_TrkIsoVVL','hlt',\n",
    "                                                      'HLT_Ele8_CaloIdL_TrackIdL_IsoVL_PFJet30','HLT_Ele12_CaloIdL_TrackIdL_IsoVL_PFJet30','HLT_Ele23_CaloIdL_TrackIdL_IsoVL_PFJet30']\n",
    "        if not (branch in init_branches):\n",
    "            init_branches.append(branch)\n",
    "        branches = uproot.open(file+':Events').arrays(init_branches, library='pd')\n",
    "        true_events = uproot.open(file)['nEventsGenWeighted'].values()[0]\n",
    "\n",
    "        weight_lowpt = (1000*xsec*0.00780) / true_events\n",
    "        weight_highpt = (1000*xsec*0.21675) / true_events\n",
    "        lepton_gen_cut1 = branches.loc[:,'lepton_gen_matching'] == 1\n",
    "        lepton_gen_cut2 = branches.loc[:,'lepton_gen_matching'] == 15\n",
    "        \n",
    "    HLT_cut1 = branches.loc[:,'HLT_Mu8_TrkIsoVVL'] == True\n",
    "    HLT_cut2 = branches.loc[:,'HLT_Mu17_TrkIsoVVL'] == True\n",
    "    \n",
    "    met_cut = branches.loc[:,'met'] < 2000\n",
    "    mt_cut = branches.loc[:,'mt'] < 20\n",
    "    lepton_cut = abs(branches.loc[:,'lepton_pdgid']) == 13\n",
    " #   pf_cut = branches.loc[:,'lepton_pfRelIso04_all'] < 0.4\n",
    "    pf_cut = branches.loc[:,'is_lepton_tight'] == 1\n",
    "    pt_edge = branches.loc[:,'lepton_pt'] < 20\n",
    "    jet_pt = branches.loc[:,'jet_pt'] > 35\n",
    "    \n",
    "    if isData:\n",
    "        arrays_0_20 = branches.loc[HLT_cut1 & lepton_cut & pf_cut & pt_edge & met_cut & mt_cut & jet_pt,:] \n",
    "        arrays_20_Inf = branches.loc[HLT_cut2 & lepton_cut & pf_cut & ~pt_edge & met_cut & mt_cut & jet_pt,:] \n",
    "        for i in trange(0, len(arrays_0_20[branch]), desc=f'fill pt<20 part for {file}'):\n",
    "            hist_pre1.Fill(float(arrays_0_20[branch].values[i]))\n",
    "        for i in trange(0, len(arrays_20_Inf[branch]), desc=f'fill pt>20 part for {file}'):\n",
    "            hist_pre2.Fill(float(arrays_20_Inf[branch].values[i]))\n",
    "    \n",
    "    else:\n",
    "        if ('TTbar' in file) or ('QCD' in file):\n",
    "            print (\"QCD process\\n\")\n",
    "            arrays_0_20 = branches.loc[HLT_cut1 & lepton_cut & pf_cut & pt_edge & met_cut & mt_cut & jet_pt,:] \n",
    "            arrays_20_Inf = branches.loc[HLT_cut2 & lepton_cut & pf_cut & ~pt_edge & met_cut & mt_cut & jet_pt,:] \n",
    "        else:\n",
    "            arrays_0_20 = branches.loc[HLT_cut1 & lepton_cut & pf_cut & pt_edge & met_cut & mt_cut & (lepton_gen_cut1 | lepton_gen_cut2) & jet_pt,:] \n",
    "            arrays_20_Inf = branches.loc[HLT_cut2 & lepton_cut & pf_cut & ~pt_edge & met_cut & mt_cut & (lepton_gen_cut1 | lepton_gen_cut2) & jet_pt,:] \n",
    "        for i in trange(0, len(arrays_0_20[branch]), desc=f'fill pt<20 part for {file}'):\n",
    "            hist_pre1.Fill(float(arrays_0_20[branch].values[i]), weight_lowpt*sgn(arrays_0_20['gen_weight'].values[i]))\n",
    "        for i in trange(0, len(arrays_20_Inf[branch]), desc=f'fill pt>20 part for {file}'):\n",
    "            hist_pre2.Fill(float(arrays_20_Inf[branch].values[i]), weight_highpt*sgn(arrays_20_Inf['gen_weight'].values[i]))\n",
    "        \n",
    "    print(\"DONE\")\n",
    "    return True"
   ]
  },
  {
   "cell_type": "markdown",
   "id": "11858231",
   "metadata": {},
   "source": [
    "### MET dist"
   ]
  },
  {
   "cell_type": "code",
   "execution_count": 9,
   "id": "0008388a",
   "metadata": {},
   "outputs": [
    {
     "name": "stdout",
     "output_type": "stream",
     "text": [
      "is Data\n"
     ]
    },
    {
     "name": "stderr",
     "output_type": "stream",
     "text": [
      "fill pt<20 part for /eos/home-j/jiwoong/WZG_DB/2016/merged_FakeLepton_FR/DoubleMuon_Run2016B.root: 100%|██████████| 99679/99679 [00:00<00:00, 212721.46it/s]\n",
      "fill pt>20 part for /eos/home-j/jiwoong/WZG_DB/2016/merged_FakeLepton_FR/DoubleMuon_Run2016B.root: 100%|██████████| 485408/485408 [00:02<00:00, 206484.85it/s]\n"
     ]
    },
    {
     "name": "stdout",
     "output_type": "stream",
     "text": [
      "DONE\n",
      "is Data\n"
     ]
    },
    {
     "name": "stderr",
     "output_type": "stream",
     "text": [
      "fill pt<20 part for /eos/home-j/jiwoong/WZG_DB/2016/merged_FakeLepton_FR/DoubleMuon_Run2016C.root: 100%|██████████| 10076/10076 [00:00<00:00, 133753.44it/s]\n",
      "fill pt>20 part for /eos/home-j/jiwoong/WZG_DB/2016/merged_FakeLepton_FR/DoubleMuon_Run2016C.root: 100%|██████████| 32909/32909 [00:00<00:00, 173885.55it/s]\n"
     ]
    },
    {
     "name": "stdout",
     "output_type": "stream",
     "text": [
      "DONE\n",
      "is Data\n"
     ]
    },
    {
     "name": "stderr",
     "output_type": "stream",
     "text": [
      "fill pt<20 part for /eos/home-j/jiwoong/WZG_DB/2016/merged_FakeLepton_FR/DoubleMuon_Run2016E.root: 100%|██████████| 13666/13666 [00:00<00:00, 152272.18it/s]\n",
      "fill pt>20 part for /eos/home-j/jiwoong/WZG_DB/2016/merged_FakeLepton_FR/DoubleMuon_Run2016E.root: 100%|██████████| 65243/65243 [00:00<00:00, 179692.11it/s]\n"
     ]
    },
    {
     "name": "stdout",
     "output_type": "stream",
     "text": [
      "DONE\n",
      "is Data\n"
     ]
    },
    {
     "name": "stderr",
     "output_type": "stream",
     "text": [
      "fill pt<20 part for /eos/home-j/jiwoong/WZG_DB/2016/merged_FakeLepton_FR/DoubleMuon_Run2016F.root: 100%|██████████| 5849/5849 [00:00<00:00, 120989.74it/s]\n",
      "fill pt>20 part for /eos/home-j/jiwoong/WZG_DB/2016/merged_FakeLepton_FR/DoubleMuon_Run2016F.root: 100%|██████████| 26841/26841 [00:00<00:00, 172341.22it/s]\n"
     ]
    },
    {
     "name": "stdout",
     "output_type": "stream",
     "text": [
      "DONE\n",
      "is Data\n"
     ]
    },
    {
     "name": "stderr",
     "output_type": "stream",
     "text": [
      "fill pt<20 part for /eos/home-j/jiwoong/WZG_DB/2016/merged_FakeLepton_FR/DoubleMuon_Run2016G.root: 100%|██████████| 10562/10562 [00:00<00:00, 221773.98it/s]\n",
      "fill pt>20 part for /eos/home-j/jiwoong/WZG_DB/2016/merged_FakeLepton_FR/DoubleMuon_Run2016G.root: 100%|██████████| 38958/38958 [00:00<00:00, 222006.24it/s]\n"
     ]
    },
    {
     "name": "stdout",
     "output_type": "stream",
     "text": [
      "DONE\n",
      "is Data\n"
     ]
    },
    {
     "name": "stderr",
     "output_type": "stream",
     "text": [
      "fill pt<20 part for /eos/home-j/jiwoong/WZG_DB/2016/merged_FakeLepton_FR/DoubleMuon_Run2016H.root: 100%|██████████| 10453/10453 [00:00<00:00, 222694.91it/s]\n",
      "fill pt>20 part for /eos/home-j/jiwoong/WZG_DB/2016/merged_FakeLepton_FR/DoubleMuon_Run2016H.root: 100%|██████████| 39159/39159 [00:00<00:00, 215704.80it/s]\n"
     ]
    },
    {
     "name": "stdout",
     "output_type": "stream",
     "text": [
      "DONE\n",
      "is MC\n"
     ]
    },
    {
     "name": "stderr",
     "output_type": "stream",
     "text": [
      "fill pt<20 part for /eos/home-j/jiwoong/WZG_DB/2016/merged_FakeLepton_FR/merged_FakeLepFR_ZW/WJetsToLNu_TuneCP5_13TeV-madgraphMLM-pythia8_2016.root: 100%|██████████| 100134/100134 [00:01<00:00, 88528.75it/s]\n",
      "fill pt>20 part for /eos/home-j/jiwoong/WZG_DB/2016/merged_FakeLepton_FR/merged_FakeLepFR_ZW/WJetsToLNu_TuneCP5_13TeV-madgraphMLM-pythia8_2016.root: 100%|██████████| 286361/286361 [00:02<00:00, 111377.26it/s]\n"
     ]
    },
    {
     "name": "stdout",
     "output_type": "stream",
     "text": [
      "DONE\n",
      "is MC\n"
     ]
    },
    {
     "name": "stderr",
     "output_type": "stream",
     "text": [
      "fill pt<20 part for /eos/home-j/jiwoong/WZG_DB/2016/merged_FakeLepton_FR/merged_FakeLepFR_ZW/DYJetsToLL_M-50_TuneCP5_13TeV-madgraphMLM-pythia8_2016.root: 100%|██████████| 677666/677666 [00:06<00:00, 100108.39it/s]\n",
      "fill pt>20 part for /eos/home-j/jiwoong/WZG_DB/2016/merged_FakeLepton_FR/merged_FakeLepFR_ZW/DYJetsToLL_M-50_TuneCP5_13TeV-madgraphMLM-pythia8_2016.root: 100%|██████████| 937082/937082 [00:09<00:00, 99332.00it/s] \n"
     ]
    },
    {
     "name": "stdout",
     "output_type": "stream",
     "text": [
      "DONE\n",
      "is MC\n"
     ]
    },
    {
     "name": "stderr",
     "output_type": "stream",
     "text": [
      "fill pt<20 part for /eos/home-j/jiwoong/WZG_DB/2016/merged_FakeLepton_FR/merged_FakeLepFR_ZW/DYJetsToLL_M-10to50_TuneCP5_13TeV-madgraphMLM-pythia8_2016.root: 100%|██████████| 30274/30274 [00:00<00:00, 75888.94it/s]\n",
      "fill pt>20 part for /eos/home-j/jiwoong/WZG_DB/2016/merged_FakeLepton_FR/merged_FakeLepFR_ZW/DYJetsToLL_M-10to50_TuneCP5_13TeV-madgraphMLM-pythia8_2016.root: 100%|██████████| 24116/24116 [00:00<00:00, 94237.69it/s]\n"
     ]
    },
    {
     "name": "stdout",
     "output_type": "stream",
     "text": [
      "DONE\n",
      "is MC\n",
      "QCD process\n",
      "\n"
     ]
    },
    {
     "name": "stderr",
     "output_type": "stream",
     "text": [
      "fill pt<20 part for /eos/home-j/jiwoong/WZG_DB/2016/merged_FakeLepton_FR/merged_FakeLepFR_QCD/QCD_Pt-1000toInf_MuEnrichedPt5_TuneCP5_13TeV_pythia8_2016.root: 100%|██████████| 21140/21140 [00:00<00:00, 79502.32it/s]\n",
      "fill pt>20 part for /eos/home-j/jiwoong/WZG_DB/2016/merged_FakeLepton_FR/merged_FakeLepFR_QCD/QCD_Pt-1000toInf_MuEnrichedPt5_TuneCP5_13TeV_pythia8_2016.root: 100%|██████████| 35687/35687 [00:00<00:00, 89749.43it/s]\n"
     ]
    },
    {
     "name": "stdout",
     "output_type": "stream",
     "text": [
      "DONE\n",
      "is MC\n",
      "QCD process\n",
      "\n"
     ]
    },
    {
     "name": "stderr",
     "output_type": "stream",
     "text": [
      "fill pt<20 part for /eos/home-j/jiwoong/WZG_DB/2016/merged_FakeLepton_FR/merged_FakeLepFR_QCD/QCD_Pt-120to170_MuEnrichedPt5_TuneCP5_13TeV_pythia8_2016.root: 100%|██████████| 148690/148690 [00:01<00:00, 101338.34it/s]\n",
      "fill pt>20 part for /eos/home-j/jiwoong/WZG_DB/2016/merged_FakeLepton_FR/merged_FakeLepFR_QCD/QCD_Pt-120to170_MuEnrichedPt5_TuneCP5_13TeV_pythia8_2016.root: 100%|██████████| 177217/177217 [00:02<00:00, 87919.72it/s]\n"
     ]
    },
    {
     "name": "stdout",
     "output_type": "stream",
     "text": [
      "DONE\n",
      "is MC\n",
      "QCD process\n",
      "\n"
     ]
    },
    {
     "name": "stderr",
     "output_type": "stream",
     "text": [
      "fill pt<20 part for /eos/home-j/jiwoong/WZG_DB/2016/merged_FakeLepton_FR/merged_FakeLepFR_QCD/QCD_Pt-15to20_MuEnrichedPt5_TuneCP5_13TeV_pythia8_2016.root: 100%|██████████| 1260/1260 [00:00<00:00, 52847.70it/s]\n",
      "fill pt>20 part for /eos/home-j/jiwoong/WZG_DB/2016/merged_FakeLepton_FR/merged_FakeLepFR_QCD/QCD_Pt-15to20_MuEnrichedPt5_TuneCP5_13TeV_pythia8_2016.root: 100%|██████████| 23/23 [00:00<00:00, 31199.54it/s]"
     ]
    },
    {
     "name": "stdout",
     "output_type": "stream",
     "text": [
      "DONE\n",
      "is MC\n"
     ]
    },
    {
     "name": "stderr",
     "output_type": "stream",
     "text": [
      "\n"
     ]
    },
    {
     "name": "stdout",
     "output_type": "stream",
     "text": [
      "QCD process\n",
      "\n"
     ]
    },
    {
     "name": "stderr",
     "output_type": "stream",
     "text": [
      "fill pt<20 part for /eos/home-j/jiwoong/WZG_DB/2016/merged_FakeLepton_FR/merged_FakeLepFR_QCD/QCD_Pt-170to300_MuEnrichedPt5_TuneCP5_13TeV_pythia8_2016.root: 100%|██████████| 183140/183140 [00:01<00:00, 97997.02it/s]\n",
      "fill pt>20 part for /eos/home-j/jiwoong/WZG_DB/2016/merged_FakeLepton_FR/merged_FakeLepFR_QCD/QCD_Pt-170to300_MuEnrichedPt5_TuneCP5_13TeV_pythia8_2016.root: 100%|██████████| 242429/242429 [00:02<00:00, 86101.85it/s]\n"
     ]
    },
    {
     "name": "stdout",
     "output_type": "stream",
     "text": [
      "DONE\n",
      "is MC\n",
      "QCD process\n",
      "\n"
     ]
    },
    {
     "name": "stderr",
     "output_type": "stream",
     "text": [
      "fill pt<20 part for /eos/home-j/jiwoong/WZG_DB/2016/merged_FakeLepton_FR/merged_FakeLepFR_QCD/QCD_Pt-20to30_MuEnrichedPt5_TuneCP5_13TeV_pythia8_2016.root: 100%|██████████| 92735/92735 [00:00<00:00, 95284.22it/s] \n",
      "fill pt>20 part for /eos/home-j/jiwoong/WZG_DB/2016/merged_FakeLepton_FR/merged_FakeLepFR_QCD/QCD_Pt-20to30_MuEnrichedPt5_TuneCP5_13TeV_pythia8_2016.root: 100%|██████████| 2875/2875 [00:00<00:00, 105226.35it/s]\n"
     ]
    },
    {
     "name": "stdout",
     "output_type": "stream",
     "text": [
      "DONE\n",
      "is MC\n",
      "QCD process\n",
      "\n"
     ]
    },
    {
     "name": "stderr",
     "output_type": "stream",
     "text": [
      "fill pt<20 part for /eos/home-j/jiwoong/WZG_DB/2016/merged_FakeLepton_FR/merged_FakeLepFR_QCD/QCD_Pt-300to470_MuEnrichedPt5_TuneCP5_13TeV_pythia8_2016.root: 100%|██████████| 164318/164318 [00:01<00:00, 99726.31it/s] \n",
      "fill pt>20 part for /eos/home-j/jiwoong/WZG_DB/2016/merged_FakeLepton_FR/merged_FakeLepFR_QCD/QCD_Pt-300to470_MuEnrichedPt5_TuneCP5_13TeV_pythia8_2016.root: 100%|██████████| 241246/241246 [00:02<00:00, 101945.49it/s]\n"
     ]
    },
    {
     "name": "stdout",
     "output_type": "stream",
     "text": [
      "DONE\n",
      "is MC\n",
      "QCD process\n",
      "\n"
     ]
    },
    {
     "name": "stderr",
     "output_type": "stream",
     "text": [
      "fill pt<20 part for /eos/home-j/jiwoong/WZG_DB/2016/merged_FakeLepton_FR/merged_FakeLepFR_QCD/QCD_Pt-30to50_MuEnrichedPt5_TuneCP5_13TeV_pythia8_2016.root: 100%|██████████| 398300/398300 [00:03<00:00, 111134.18it/s]\n",
      "fill pt>20 part for /eos/home-j/jiwoong/WZG_DB/2016/merged_FakeLepton_FR/merged_FakeLepFR_QCD/QCD_Pt-30to50_MuEnrichedPt5_TuneCP5_13TeV_pythia8_2016.root: 100%|██████████| 73042/73042 [00:00<00:00, 88950.11it/s]\n"
     ]
    },
    {
     "name": "stdout",
     "output_type": "stream",
     "text": [
      "DONE\n",
      "is MC\n",
      "QCD process\n",
      "\n"
     ]
    },
    {
     "name": "stderr",
     "output_type": "stream",
     "text": [
      "fill pt<20 part for /eos/home-j/jiwoong/WZG_DB/2016/merged_FakeLepton_FR/merged_FakeLepFR_QCD/QCD_Pt-470to600_MuEnrichedPt5_TuneCP5_13TeV_pythia8_2016.root: 100%|██████████| 51742/51742 [00:00<00:00, 115410.60it/s]\n",
      "fill pt>20 part for /eos/home-j/jiwoong/WZG_DB/2016/merged_FakeLepton_FR/merged_FakeLepFR_QCD/QCD_Pt-470to600_MuEnrichedPt5_TuneCP5_13TeV_pythia8_2016.root: 100%|██████████| 81850/81850 [00:00<00:00, 114672.12it/s]\n"
     ]
    },
    {
     "name": "stdout",
     "output_type": "stream",
     "text": [
      "DONE\n",
      "is MC\n",
      "QCD process\n",
      "\n"
     ]
    },
    {
     "name": "stderr",
     "output_type": "stream",
     "text": [
      "fill pt<20 part for /eos/home-j/jiwoong/WZG_DB/2016/merged_FakeLepton_FR/merged_FakeLepFR_QCD/QCD_Pt-50to80_MuEnrichedPt5_TuneCP5_13TeV_pythia8_2016.root: 100%|██████████| 313348/313348 [00:02<00:00, 106308.47it/s]\n",
      "fill pt>20 part for /eos/home-j/jiwoong/WZG_DB/2016/merged_FakeLepton_FR/merged_FakeLepFR_QCD/QCD_Pt-50to80_MuEnrichedPt5_TuneCP5_13TeV_pythia8_2016.root: 100%|██████████| 176891/176891 [00:01<00:00, 112956.82it/s]\n"
     ]
    },
    {
     "name": "stdout",
     "output_type": "stream",
     "text": [
      "DONE\n",
      "is MC\n",
      "QCD process\n",
      "\n"
     ]
    },
    {
     "name": "stderr",
     "output_type": "stream",
     "text": [
      "fill pt<20 part for /eos/home-j/jiwoong/WZG_DB/2016/merged_FakeLepton_FR/merged_FakeLepFR_QCD/QCD_Pt-600to800_MuEnrichedPt5_TuneCP5_13TeV_pythia8_2016.root: 100%|██████████| 36349/36349 [00:00<00:00, 88678.15it/s]\n",
      "fill pt>20 part for /eos/home-j/jiwoong/WZG_DB/2016/merged_FakeLepton_FR/merged_FakeLepFR_QCD/QCD_Pt-600to800_MuEnrichedPt5_TuneCP5_13TeV_pythia8_2016.root: 100%|██████████| 60423/60423 [00:00<00:00, 108385.38it/s]\n"
     ]
    },
    {
     "name": "stdout",
     "output_type": "stream",
     "text": [
      "DONE\n",
      "is MC\n",
      "QCD process\n",
      "\n"
     ]
    },
    {
     "name": "stderr",
     "output_type": "stream",
     "text": [
      "fill pt<20 part for /eos/home-j/jiwoong/WZG_DB/2016/merged_FakeLepton_FR/merged_FakeLepFR_QCD/QCD_Pt-800to1000_MuEnrichedPt5_TuneCP5_13TeV_pythia8_2016.root: 100%|██████████| 28540/28540 [00:00<00:00, 114628.87it/s]\n",
      "fill pt>20 part for /eos/home-j/jiwoong/WZG_DB/2016/merged_FakeLepton_FR/merged_FakeLepFR_QCD/QCD_Pt-800to1000_MuEnrichedPt5_TuneCP5_13TeV_pythia8_2016.root: 100%|██████████| 49525/49525 [00:00<00:00, 114472.73it/s]\n"
     ]
    },
    {
     "name": "stdout",
     "output_type": "stream",
     "text": [
      "DONE\n",
      "is MC\n",
      "QCD process\n",
      "\n"
     ]
    },
    {
     "name": "stderr",
     "output_type": "stream",
     "text": [
      "fill pt<20 part for /eos/home-j/jiwoong/WZG_DB/2016/merged_FakeLepton_FR/merged_FakeLepFR_QCD/QCD_Pt-80to120_MuEnrichedPt5_TuneCP5_13TeV_pythia8_2016.root: 100%|██████████| 255103/255103 [00:02<00:00, 112331.79it/s]\n",
      "fill pt>20 part for /eos/home-j/jiwoong/WZG_DB/2016/merged_FakeLepton_FR/merged_FakeLepFR_QCD/QCD_Pt-80to120_MuEnrichedPt5_TuneCP5_13TeV_pythia8_2016.root: 100%|██████████| 243809/243809 [00:02<00:00, 105547.56it/s]\n"
     ]
    },
    {
     "name": "stdout",
     "output_type": "stream",
     "text": [
      "DONE\n"
     ]
    }
   ],
   "source": [
    "xbins = 20\n",
    "xlow = 0\n",
    "xup = 200\n",
    "branch = 'met'\n",
    "\n",
    "ptbins = [10, 13, 16, 20, 24, 28, 35, 45, 200]\n",
    "\n",
    "hist_dist1_DATA = ROOT.TH1D(\"\",\"\",xbins, xlow, xup)\n",
    "hist_dist2_DATA = ROOT.TH1D(\"\",\"\",xbins, xlow, xup)\n",
    "\n",
    "hist_dist1_DATA.Sumw2()\n",
    "hist_dist2_DATA.Sumw2()\n",
    "\n",
    "file_list = [\n",
    "    '/eos/home-j/jiwoong/WZG_DB/2016/merged_FakeLepton_FR/DoubleMuon_Run2016B.root',\n",
    "    '/eos/home-j/jiwoong/WZG_DB/2016/merged_FakeLepton_FR/DoubleMuon_Run2016C.root',\n",
    "    '/eos/home-j/jiwoong/WZG_DB/2016/merged_FakeLepton_FR/DoubleMuon_Run2016E.root',\n",
    "    '/eos/home-j/jiwoong/WZG_DB/2016/merged_FakeLepton_FR/DoubleMuon_Run2016F.root',\n",
    "    '/eos/home-j/jiwoong/WZG_DB/2016/merged_FakeLepton_FR/DoubleMuon_Run2016G.root',\n",
    "    '/eos/home-j/jiwoong/WZG_DB/2016/merged_FakeLepton_FR/DoubleMuon_Run2016H.root'\n",
    "]\n",
    "\n",
    "for file in file_list:\n",
    "    AddHist_FTdist(file, branch, hist_dist1_DATA, hist_dist2_DATA, 1, 1)\n",
    "\n",
    "hist_dist1_WJets = ROOT.TH1D(\"\",\"\",xbins, xlow, xup)\n",
    "hist_dist2_WJets = ROOT.TH1D(\"\",\"\",xbins, xlow, xup)\n",
    "hist_dist1_ZJets = ROOT.TH1D(\"\",\"\",xbins, xlow, xup)\n",
    "hist_dist2_ZJets = ROOT.TH1D(\"\",\"\",xbins, xlow, xup)\n",
    "\n",
    "hist_dist1_WJets.Sumw2()\n",
    "hist_dist2_WJets.Sumw2()\n",
    "hist_dist1_ZJets.Sumw2()\n",
    "hist_dist2_ZJets.Sumw2()\n",
    "\n",
    "file_WJets = '/eos/home-j/jiwoong/WZG_DB/2016/merged_FakeLepton_FR/merged_FakeLepFR_ZW/WJetsToLNu_TuneCP5_13TeV-madgraphMLM-pythia8_2016.root'\n",
    "file_ZJets = '/eos/home-j/jiwoong/WZG_DB/2016/merged_FakeLepton_FR/merged_FakeLepFR_ZW/DYJetsToLL_M-50_TuneCP5_13TeV-madgraphMLM-pythia8_2016.root'\n",
    "file_ZJets2 = '/eos/home-j/jiwoong/WZG_DB/2016/merged_FakeLepton_FR/merged_FakeLepFR_ZW/DYJetsToLL_M-10to50_TuneCP5_13TeV-madgraphMLM-pythia8_2016.root'\n",
    "\n",
    "AddHist_FTdist(file_WJets, branch, hist_dist1_WJets, hist_dist2_WJets, 0, 61526.7)\n",
    "AddHist_FTdist(file_ZJets, branch, hist_dist1_ZJets, hist_dist2_ZJets, 0, 6077.22)\n",
    "AddHist_FTdist(file_ZJets2, branch, hist_dist1_ZJets, hist_dist2_ZJets, 0, 18610)\n",
    "\n",
    "hist_dist1_ttbar = ROOT.TH1D(\"\",\"\",xbins, xlow, xup)\n",
    "hist_dist2_ttbar = ROOT.TH1D(\"\",\"\",xbins, xlow, xup)\n",
    "\n",
    "hist_dist1_ttbar.Sumw2()\n",
    "hist_dist2_ttbar.Sumw2()\n",
    "\n",
    "# -- Muon channel\n",
    "file_list_QCD = [\n",
    "    \"/eos/home-j/jiwoong/WZG_DB/2016/merged_FakeLepton_FR/merged_FakeLepFR_QCD/QCD_Pt-1000toInf_MuEnrichedPt5_TuneCP5_13TeV_pythia8_2016.root\",\n",
    "    \"/eos/home-j/jiwoong/WZG_DB/2016/merged_FakeLepton_FR/merged_FakeLepFR_QCD/QCD_Pt-120to170_MuEnrichedPt5_TuneCP5_13TeV_pythia8_2016.root\",\n",
    "    \"/eos/home-j/jiwoong/WZG_DB/2016/merged_FakeLepton_FR/merged_FakeLepFR_QCD/QCD_Pt-15to20_MuEnrichedPt5_TuneCP5_13TeV_pythia8_2016.root\",\n",
    "    \"/eos/home-j/jiwoong/WZG_DB/2016/merged_FakeLepton_FR/merged_FakeLepFR_QCD/QCD_Pt-170to300_MuEnrichedPt5_TuneCP5_13TeV_pythia8_2016.root\",\n",
    "    \"/eos/home-j/jiwoong/WZG_DB/2016/merged_FakeLepton_FR/merged_FakeLepFR_QCD/QCD_Pt-20to30_MuEnrichedPt5_TuneCP5_13TeV_pythia8_2016.root\",\n",
    "    \"/eos/home-j/jiwoong/WZG_DB/2016/merged_FakeLepton_FR/merged_FakeLepFR_QCD/QCD_Pt-300to470_MuEnrichedPt5_TuneCP5_13TeV_pythia8_2016.root\",\n",
    "    \"/eos/home-j/jiwoong/WZG_DB/2016/merged_FakeLepton_FR/merged_FakeLepFR_QCD/QCD_Pt-30to50_MuEnrichedPt5_TuneCP5_13TeV_pythia8_2016.root\",\n",
    "    \"/eos/home-j/jiwoong/WZG_DB/2016/merged_FakeLepton_FR/merged_FakeLepFR_QCD/QCD_Pt-470to600_MuEnrichedPt5_TuneCP5_13TeV_pythia8_2016.root\",\n",
    "    \"/eos/home-j/jiwoong/WZG_DB/2016/merged_FakeLepton_FR/merged_FakeLepFR_QCD/QCD_Pt-50to80_MuEnrichedPt5_TuneCP5_13TeV_pythia8_2016.root\",\n",
    "    \"/eos/home-j/jiwoong/WZG_DB/2016/merged_FakeLepton_FR/merged_FakeLepFR_QCD/QCD_Pt-600to800_MuEnrichedPt5_TuneCP5_13TeV_pythia8_2016.root\",\n",
    "    \"/eos/home-j/jiwoong/WZG_DB/2016/merged_FakeLepton_FR/merged_FakeLepFR_QCD/QCD_Pt-800to1000_MuEnrichedPt5_TuneCP5_13TeV_pythia8_2016.root\",\n",
    "    \"/eos/home-j/jiwoong/WZG_DB/2016/merged_FakeLepton_FR/merged_FakeLepFR_QCD/QCD_Pt-80to120_MuEnrichedPt5_TuneCP5_13TeV_pythia8_2016.root\"\n",
    "]\n",
    "\n",
    "xsec_list_QCD = [\n",
    "    1.078,\n",
    "    21230,\n",
    "    2799000,\n",
    "    7055,\n",
    "    2526000,\n",
    "    619.3,\n",
    "    1362000,\n",
    "    59.24,\n",
    "    376600,\n",
    "    18.21,\n",
    "    3.275,\n",
    "    88930\n",
    "]\n",
    "\n",
    "for i in range(len(file_list_QCD)):\n",
    "    AddHist_FTdist(file_list_QCD[i], branch, hist_dist1_ttbar, hist_dist2_ttbar, 0, xsec_list_QCD[i])"
   ]
  },
  {
   "cell_type": "code",
   "execution_count": 12,
   "id": "944a64e1",
   "metadata": {},
   "outputs": [
    {
     "name": "stdout",
     "output_type": "stream",
     "text": [
      "35.86 fb^{-1} (13 TeV)\n"
     ]
    },
    {
     "name": "stderr",
     "output_type": "stream",
     "text": [
      "Warning in <TH1D::Sumw2>: Sum of squares of weights structure already created\n",
      "Warning in <TH1D::Sumw2>: Sum of squares of weights structure already created\n"
     ]
    },
    {
     "data": {
      "image/png": "[encoded data removed]",
      "text/plain": [
       "<IPython.core.display.Image object>"
      ]
     },
     "metadata": {},
     "output_type": "display_data"
    },
    {
     "data": {
      "image/png": "[encoded data removed]",
      "text/plain": [
       "<IPython.core.display.Image object>"
      ]
     },
     "metadata": {},
     "output_type": "display_data"
    }
   ],
   "source": [
    "c1 = ROOT.TCanvas(\"\",\"\",1000,800)\n",
    "\n",
    "def SetHistStyle_dist(hist, color, isData):\n",
    "    if isData:\n",
    "        hist.SetMarkerStyle(20)\n",
    "        hist.SetMarkerColor(color)\n",
    "    else:\n",
    "        hist.SetFillColor(color)\n",
    "        hist.SetFillStyle(4100)\n",
    "        hist.SetLineColor(color)\n",
    "        hist.SetLineStyle(0)\n",
    "        hist.SetLineWidth(0)\n",
    "    hist.SetYTitle('events/bin')\n",
    "    hist.SetXTitle('MET [GeV]')\n",
    "    # Adjust y-axis settings\n",
    "    # hist.GetYaxis().SetNdivisions(105)\n",
    "    hist.GetYaxis().SetTitleSize(25)\n",
    "    hist.GetYaxis().SetTitleFont(43)\n",
    "    hist.GetYaxis().SetTitleOffset(1.40)\n",
    "    hist.GetYaxis().SetLabelFont(43)\n",
    "    hist.GetYaxis().SetLabelSize(25)\n",
    "\n",
    "    # Adjust x-axis settings\n",
    "    hist.GetXaxis().SetTitleSize(25)\n",
    "    hist.GetXaxis().SetTitleFont(43)\n",
    "    hist.GetXaxis().SetTitleOffset(5.0)\n",
    "    hist.GetXaxis().SetLabelFont(43)\n",
    "    hist.GetXaxis().SetLabelSize(25)\n",
    "    hist.SetStats(0)\n",
    "\n",
    "\n",
    "SetHistStyle_dist(hist_dist1_WJets, 22, 0)\n",
    "SetHistStyle_dist(hist_dist2_WJets, 22, 0)\n",
    "SetHistStyle_dist(hist_dist1_ZJets, 27, 0)\n",
    "SetHistStyle_dist(hist_dist2_ZJets, 27, 0)\n",
    "SetHistStyle_dist(hist_dist1_ttbar, 32, 0)\n",
    "SetHistStyle_dist(hist_dist2_ttbar, 32, 0)\n",
    "SetHistStyle_dist(hist_dist1_DATA, 1, 1)\n",
    "SetHistStyle_dist(hist_dist2_DATA, 1, 1)\n",
    "\n",
    "hist_dist_WJets = hist_dist1_WJets.Clone()\n",
    "hist_dist_WJets.Add(hist_dist2_WJets)\n",
    "SetHistStyle_dist(hist_dist_WJets, 22, 0)\n",
    "hist_dist_ZJets = hist_dist1_ZJets.Clone()\n",
    "hist_dist_ZJets.Add(hist_dist2_ZJets)\n",
    "SetHistStyle_dist(hist_dist_ZJets, 27, 0)\n",
    "hist_dist_ttbar = hist_dist1_ttbar.Clone()\n",
    "hist_dist_ttbar.Add(hist_dist2_ttbar)\n",
    "SetHistStyle_dist(hist_dist_ttbar, 32, 0)\n",
    "\n",
    "hs_dist = ROOT.THStack(\"\",\";M_{T,e} [GeV];events/bin\")\n",
    "hs_dist.Add(hist_dist_ZJets)\n",
    "hs_dist.Add(hist_dist_WJets)\n",
    "hs_dist.Add(hist_dist_ttbar)\n",
    "\n",
    "MC_err = ROOT.TH1D(\"\",\"\",xbins,xlow,xup)\n",
    "# MC_err = ROOT.TH1D(\"\",\"\",8,array('d',ptbins))\n",
    "MC_err.Sumw2()\n",
    "MC_err.Add(hist_dist1_WJets)\n",
    "MC_err.Add(hist_dist2_WJets)\n",
    "MC_err.Add(hist_dist1_ZJets)\n",
    "MC_err.Add(hist_dist2_ZJets)\n",
    "MC_err.Add(hist_dist1_ttbar)\n",
    "MC_err.Add(hist_dist2_ttbar)\n",
    "MC_err.SetFillColor(ROOT.kGray+2)\n",
    "MC_err.SetFillStyle(3345)\n",
    "MC_err.SetMarkerSize(0.)\n",
    "MC_err.SetMarkerColor(ROOT.kGray+2)\n",
    "MC_err.SetLineWidth(2)\n",
    "MC_err.SetLineColor(0)\n",
    "MC_err.SetStats(0)\n",
    "\n",
    "hs_data = ROOT.TH1D(\"\",\"\",xbins,xlow,xup)\n",
    "# hs_data = ROOT.TH1D(\"\",\"\",8,array('d',ptbins))\n",
    "hs_data.Add(hist_dist1_DATA)\n",
    "hs_data.Add(hist_dist2_DATA)\n",
    "SetHistStyle_dist(hs_data, 1, 1)\n",
    "\n",
    "legend = ROOT.TLegend(0.55, 0.45, 0.70, 0.75)\n",
    "legend.SetBorderSize(0)\n",
    "legend.SetFillColor(0)\n",
    "legend.SetTextSize(0.035)\n",
    "legend.SetLineWidth(1)\n",
    "legend.SetLineStyle(0)\n",
    "# legend.AddEntry(hist_dist1_DATA,'Double Muon 2018')\n",
    "legend.AddEntry(hist_dist1_DATA,f'DobuleMuon 2016: {format(hs_data.GetSumOfWeights(), \".2f\")}')\n",
    "legend.AddEntry(hist_dist1_WJets,f'WJetsToLNu: {format(hist_dist_WJets.GetSumOfWeights(), \".2f\")}','F')\n",
    "legend.AddEntry(hist_dist1_ZJets,f'DYToLNu: {format(hist_dist_ZJets.GetSumOfWeights(), \".2f\")}','F')\n",
    "legend.AddEntry(hist_dist1_ttbar,f'QCD-EMEnriched: {format(hist_dist_ttbar.GetSumOfWeights(), \".2f\")}','F')\n",
    "\n",
    "c1.Draw()\n",
    "pad1 = ROOT.TPad(\"pad1\", \"pad1\", 0, 0.3, 1, 1.0)\n",
    "pad1.SetBottomMargin(0.015)  # joins upper and lower plot\n",
    "# pad1.SetGridx()\n",
    "pad1.Draw()\n",
    "# Lower ratio plot is pad2\n",
    "c1.cd()  # returns to main canvas before defining pad2\n",
    "pad2 = ROOT.TPad(\"pad2\", \"pad2\", 0, 0.05, 1, 0.3)\n",
    "pad2.SetTopMargin(0)  # joins upper and lower plot\n",
    "pad2.SetBottomMargin(0.3)\n",
    "pad2.SetGridy()\n",
    "pad2.Draw()\n",
    "\n",
    "# draw everything\n",
    "pad1.cd()\n",
    "# hs_data.GetYaxis().SetMaxDigits(3)\n",
    "hs_dist.Draw(\"HIST\")\n",
    "hs_dist.SetMaximum(10000000)\n",
    "hs_dist.SetMinimum(1)\n",
    "# hs_dist.GetXaxis().SetRangeUser(10,60)\n",
    "hs_dist.GetXaxis().SetLabelSize(0)\n",
    "hs_data.Draw(\"ep SAME\")\n",
    "MC_err.Draw(\"e2 SAME\")\n",
    "legend.Draw(\"SAME\")\n",
    "ROOT.gPad.SetLogy()\n",
    "ROOT.gPad.RedrawAxis()\n",
    "\n",
    "\n",
    "# h1.GetXaxis().SetLabelSize(0)\n",
    "pad2.cd()\n",
    "h3 = createRatio(hs_data, MC_err)\n",
    "h4 = createRatio(MC_err, MC_err)\n",
    "h3.Draw(\"ep\")\n",
    "# h3.GetXaxis().SetRangeUser(10,60)\n",
    "h4.Draw(\"e2 SAME\")\n",
    "ROOT.gPad.RedrawAxis()\n",
    "\n",
    "CMS_lumi(pad1, 0, 0)\n",
    "# c1.SaveAs('Fake_Lepton/2017/eta_TightElectron_dist_MR_2017_new.pdf')\n",
    "# c1.SaveAs('Fake_Lepton/2017/eta_TightElectron_dist_MR_2017_new.png')\n",
    "#c1.SaveAs('Fake_Lepton/2017/MET_FakeElectron_dist_MR_2017_new.pdf')\n",
    "#c1.SaveAs('Fake_Lepton/2017/MET_FakeElectron_dist_MR_2017_new.png')"
   ]
  },
  {
   "cell_type": "markdown",
   "id": "d5082b72",
   "metadata": {},
   "source": [
    "## SF"
   ]
  },
  {
   "cell_type": "code",
   "execution_count": 9,
   "id": "eb26a27b",
   "metadata": {},
   "outputs": [
    {
     "name": "stdout",
     "output_type": "stream",
     "text": [
      "1 3\n",
      "WJets yields in EWK CR: 13018.547909254921\n",
      "ZJets yields in EWK CR: 4963.663594576219\n",
      "QCD yields in EWK CR: 575500.6361998776\n",
      "data yields in EWK CR: 511077.0\n",
      "SF = 511077.0 / 593482.8477037087  = 0.861148729028056\n"
     ]
    }
   ],
   "source": [
    "bin_left = hist_dist1_WJets.FindBin(0)\n",
    "bin_right = hist_dist1_WJets.FindBin(20)\n",
    "\n",
    "WJets_yields = hist_dist1_WJets.Integral(bin_left,bin_right) + hist_dist2_WJets.Integral(bin_left,bin_right)\n",
    "ZJets_yields = hist_dist1_ZJets.Integral(bin_left,bin_right) + hist_dist2_ZJets.Integral(bin_left,bin_right)\n",
    "ttbar_yields = hist_dist1_ttbar.Integral(bin_left,bin_right) + hist_dist2_ttbar.Integral(bin_left,bin_right)\n",
    "data_yields = hist_dist1_DATA.Integral(bin_left,bin_right) + hist_dist2_DATA.Integral(bin_left,bin_right)\n",
    "\n",
    "print (hist_dist1_WJets.FindBin(0),hist_dist1_WJets.FindBin(20))\n",
    "print (f\"WJets yields in EWK CR: {WJets_yields}\")\n",
    "print (f\"ZJets yields in EWK CR: {ZJets_yields}\")\n",
    "print (f\"QCD yields in EWK CR: {ttbar_yields}\")\n",
    "print (f\"data yields in EWK CR: {data_yields}\")\n",
    "print (f\"SF = {data_yields} / {WJets_yields + ZJets_yields + ttbar_yields}  = {data_yields/(WJets_yields+ZJets_yields+ttbar_yields)}\")\n",
    "SF = data_yields/(WJets_yields+ZJets_yields+ttbar_yields)"
   ]
  },
  {
   "cell_type": "code",
   "execution_count": 10,
   "id": "f691b785",
   "metadata": {},
   "outputs": [
    {
     "name": "stdout",
     "output_type": "stream",
     "text": [
      "35.86 fb^{-1} (13 TeV)\n"
     ]
    },
    {
     "name": "stderr",
     "output_type": "stream",
     "text": [
      "Warning in <TH1D::Sumw2>: Sum of squares of weights structure already created\n",
      "Warning in <TH1D::Sumw2>: Sum of squares of weights structure already created\n"
     ]
    },
    {
     "data": {
      "image/png": "[encoded data removed]",
      "text/plain": [
       "<IPython.core.display.Image object>"
      ]
     },
     "metadata": {},
     "output_type": "display_data"
    }
   ],
   "source": [
    "c1 = ROOT.TCanvas(\"\",\"\",1000,800)\n",
    "\n",
    "SetHistStyle_dist(hist_dist1_WJets, 22, 0)\n",
    "SetHistStyle_dist(hist_dist2_WJets, 22, 0)\n",
    "SetHistStyle_dist(hist_dist1_ZJets, 27, 0)\n",
    "SetHistStyle_dist(hist_dist2_ZJets, 27, 0)\n",
    "SetHistStyle_dist(hist_dist1_ttbar, 32, 0)\n",
    "SetHistStyle_dist(hist_dist2_ttbar, 32, 0)\n",
    "SetHistStyle_dist(hist_dist1_DATA, 1, 1)\n",
    "SetHistStyle_dist(hist_dist2_DATA, 1, 1)\n",
    "\n",
    "hist_dist_WJets = hist_dist1_WJets.Clone()\n",
    "hist_dist_WJets.Add(hist_dist2_WJets)\n",
    "SetHistStyle_dist(hist_dist_WJets, 22, 0)\n",
    "hist_dist_ZJets = hist_dist1_ZJets.Clone()\n",
    "hist_dist_ZJets.Add(hist_dist2_ZJets)\n",
    "SetHistStyle_dist(hist_dist_ZJets, 27, 0)\n",
    "hist_dist_ttbar = hist_dist1_ttbar.Clone()\n",
    "hist_dist_ttbar.Add(hist_dist2_ttbar)\n",
    "SetHistStyle_dist(hist_dist_ttbar, 32, 0)\n",
    "\n",
    "\n",
    "hist_dist_ZJets.Scale(SF)\n",
    "hist_dist_WJets.Scale(SF)\n",
    "hist_dist_ttbar.Scale(SF)\n",
    "\n",
    "hs_dist = ROOT.THStack(\"\",\";M_{T,e} [GeV];events/bin\")\n",
    "hs_dist.Add(hist_dist_ZJets)\n",
    "hs_dist.Add(hist_dist_WJets)\n",
    "hs_dist.Add(hist_dist_ttbar)\n",
    "\n",
    "\n",
    "\n",
    "MC_err = ROOT.TH1D(\"\",\"\",xbins,xlow,xup)\n",
    "# MC_err = ROOT.TH1D(\"\",\"\",8,array('d',ptbins))\n",
    "MC_err.Sumw2()\n",
    "MC_err.Add(hist_dist1_WJets)\n",
    "MC_err.Add(hist_dist2_WJets)\n",
    "MC_err.Add(hist_dist1_ZJets)\n",
    "MC_err.Add(hist_dist2_ZJets)\n",
    "MC_err.Add(hist_dist1_ttbar)\n",
    "MC_err.Add(hist_dist2_ttbar)\n",
    "MC_err.SetFillColor(ROOT.kGray+2)\n",
    "MC_err.SetFillStyle(3345)\n",
    "MC_err.SetMarkerSize(0.)\n",
    "MC_err.SetMarkerColor(ROOT.kGray+2)\n",
    "MC_err.SetLineWidth(2)\n",
    "MC_err.SetLineColor(0)\n",
    "MC_err.SetStats(0)\n",
    "\n",
    "MC_err.Scale(SF)\n",
    "\n",
    "\n",
    "hs_data = ROOT.TH1D(\"\",\"\",xbins,xlow,xup)\n",
    "# hs_data = ROOT.TH1D(\"\",\"\",8,array('d',ptbins))\n",
    "hs_data.Add(hist_dist1_DATA)\n",
    "hs_data.Add(hist_dist2_DATA)\n",
    "SetHistStyle_dist(hs_data, 1, 1)\n",
    "\n",
    "legend = ROOT.TLegend(0.55, 0.45, 0.70, 0.75)\n",
    "legend.SetBorderSize(0)\n",
    "legend.SetFillColor(0)\n",
    "legend.SetTextSize(0.035)\n",
    "legend.SetLineWidth(1)\n",
    "legend.SetLineStyle(0)\n",
    "# legend.AddEntry(hist_dist1_DATA,'Double Muon 2018')\n",
    "legend.AddEntry(hist_dist1_DATA,f'DoubleMuon 2016: {format(hs_data.GetSumOfWeights(), \".2f\")}')\n",
    "legend.AddEntry(hist_dist1_WJets,f'WJetsToLNu: {format(hist_dist_WJets.GetSumOfWeights(), \".2f\")}','F')\n",
    "legend.AddEntry(hist_dist1_ZJets,f'DYToLNu: {format(hist_dist_ZJets.GetSumOfWeights(), \".2f\")}','F')\n",
    "legend.AddEntry(hist_dist1_ttbar,f'QCD-MuEnriched: {format(hist_dist_ttbar.GetSumOfWeights(), \".2f\")}','F')\n",
    "\n",
    "c1.Draw()\n",
    "pad1 = ROOT.TPad(\"pad1\", \"pad1\", 0, 0.3, 1, 1.0)\n",
    "pad1.SetBottomMargin(0.015)  # joins upper and lower plot\n",
    "# pad1.SetGridx()\n",
    "pad1.Draw()\n",
    "# Lower ratio plot is pad2\n",
    "c1.cd()  # returns to main canvas before defining pad2\n",
    "pad2 = ROOT.TPad(\"pad2\", \"pad2\", 0, 0.05, 1, 0.3)\n",
    "pad2.SetTopMargin(0)  # joins upper and lower plot\n",
    "pad2.SetBottomMargin(0.3)\n",
    "pad2.SetGridy()\n",
    "pad2.Draw()\n",
    "\n",
    "# draw everything\n",
    "pad1.cd()\n",
    "# hs_data.GetYaxis().SetMaxDigits(3)\n",
    "hs_dist.Draw(\"HIST\")\n",
    "hs_dist.SetMaximum(10000000)\n",
    "hs_dist.SetMinimum(10)\n",
    "# hs_dist.GetXaxis().SetRangeUser(10,60)\n",
    "hs_dist.GetXaxis().SetLabelSize(0)\n",
    "hs_data.Draw(\"ep SAME\")\n",
    "MC_err.Draw(\"e2 SAME\")\n",
    "legend.Draw(\"SAME\")\n",
    "ROOT.gPad.SetLogy()\n",
    "ROOT.gPad.RedrawAxis()\n",
    "\n",
    "\n",
    "# h1.GetXaxis().SetLabelSize(0)\n",
    "pad2.cd()\n",
    "h3 = createRatio(hs_data, MC_err)\n",
    "h4 = createRatio(MC_err, MC_err)\n",
    "h3.Draw(\"ep\")\n",
    "# h3.GetXaxis().SetRangeUser(10,60)\n",
    "h4.Draw(\"e2 SAME\")\n",
    "ROOT.gPad.RedrawAxis()\n",
    "\n",
    "CMS_lumi(pad1, 0, 0)\n",
    "# c1.SaveAs('Fake_Lepton/2017/eta_TightElectron_dist_MR_2017_new.pdf')\n",
    "# c1.SaveAs('Fake_Lepton/2017/eta_TightElectron_dist_MR_2017_new.png')\n",
    "#c1.SaveAs('Fake_Lepton/2017/MET_FakeElectron_dist_MR_2017_new.pdf')\n",
    "#c1.SaveAs('Fake_Lepton/2017/MET_FakeElectron_dist_MR_2017_new.png')"
   ]
  },
  {
   "cell_type": "code",
   "execution_count": 11,
   "id": "0acc4c88",
   "metadata": {},
   "outputs": [
    {
     "name": "stdout",
     "output_type": "stream",
     "text": [
      "0.9353511930232628\n",
      "0.010716670842543354\n",
      "0.930787275739107\n",
      "0.014418886736063978\n"
     ]
    },
    {
     "data": {
      "image/png": "[encoded data removed]",
      "text/plain": [
       "<IPython.core.display.Image object>"
      ]
     },
     "metadata": {},
     "output_type": "display_data"
    }
   ],
   "source": [
    "c1 = ROOT.TCanvas(\"\",\"\",1000,800)\n",
    "c1.Draw()\n",
    "\n",
    "\n",
    "h3.Draw('ep')\n",
    "h3.SetXTitle('P_{T,#mu} [GeV]')\n",
    "h3.GetXaxis().SetTitleOffset(1.6)\n",
    "h3.GetXaxis().SetRangeUser(0,60)\n",
    "h3.SetMaximum(1.4)\n",
    "#h3.SetMinimum(0)\n",
    "ROOT.gPad.SetGridy()\n",
    "ROOT.gPad.SetGridx()\n",
    "\n",
    "print(h3.GetBinContent(7))\n",
    "print(h3.GetBinError(7))\n",
    "print(h3.GetBinContent(8))\n",
    "print(h3.GetBinError(8))"
   ]
  },
  {
   "cell_type": "markdown",
   "id": "99221130",
   "metadata": {},
   "source": [
    "## Muon Fake Rate"
   ]
  },
  {
   "cell_type": "code",
   "execution_count": 12,
   "id": "4d7768f3",
   "metadata": {},
   "outputs": [],
   "source": [
    "def AddHist_FR_Ele(file, h_nume_e, h_deno_e, isAdd, isData, lumi_Ele12, lumi_Ele23, xsec):\n",
    "    \n",
    "    if isData:\n",
    "        print('is Data')\n",
    "        branches = uproot.open(file+':Events').arrays(['jet_pt','is_lepton_tight','mt','met','lepton_pt','lepton_eta','lepton_pdgid','lepton_pfRelIso04_all',\n",
    "                                                       'HLT_Ele12_CaloIdL_TrackIdL_IsoVL_PFJet30','HLT_Ele23_CaloIdL_TrackIdL_IsoVL_PFJet30',\n",
    "                                                       'HLT_Mu8_TrkIsoVVL','HLT_Mu17_TrkIsoVVL','hlt'], library='pd')\n",
    "    else:\n",
    "        print('is MC')\n",
    "        branches = uproot.open(file+':Events').arrays(['jet_pt','is_lepton_tight','mt','met','lepton_pt','lepton_eta','lepton_pdgid','lepton_pfRelIso04_all',\n",
    "                                                       'lepton_gen_matching','HLT_Ele12_CaloIdL_TrackIdL_IsoVL_PFJet30','HLT_Ele23_CaloIdL_TrackIdL_IsoVL_PFJet30',\n",
    "                                                       'HLT_Mu8_TrkIsoVVL','HLT_Mu17_TrkIsoVVL','hlt','gen_weight'], library='pd')\n",
    "        true_events = uproot.open(file)['nEventsGenWeighted'].values()[0]\n",
    "        weight_lowpt = (1000*lumi_Mu8*xsec*isAdd) / true_events\n",
    "        weight_highpt = (1000*lumi_Mu17*xsec*isAdd) / true_events\n",
    "        lepton_gen_cut1 = branches.loc[:,'lepton_gen_matching'] == 1\n",
    "        lepton_gen_cut2 = branches.loc[:,'lepton_gen_matching'] == 15\n",
    "        \n",
    "    HLT_cut1 = branches.loc[:,'HLT_Mu8_TrkIsoVVL'] == True\n",
    "    HLT_cut2 = branches.loc[:,'HLT_Mu17_TrkIsoVVL'] == True\n",
    "    met_cut = branches.loc[:,'met'] < 20\n",
    "    mt_cut = branches.loc[:,'mt'] < 20\n",
    "    Muon_cut = abs(branches.loc[:,'lepton_pdgid']) == 13\n",
    "    pf_cut = branches.loc[:,'lepton_pfRelIso04_all'] < 0.15\n",
    "    pt_edge = branches.loc[:,'lepton_pt'] < 20\n",
    "    jet_pt = branches.loc[:,'jet_pt'] > 35\n",
    "\n",
    "    \n",
    "    overflow_Y = h_deno_m.GetYaxis().GetBinUpEdge(h_deno_m.GetNbinsY())\n",
    "    center_upper_Y = h_deno_m.GetYaxis().GetBinCenter(h_deno_m.GetNbinsY())\n",
    "    \n",
    "    if isData:\n",
    "        deno_m_lowpt = branches.loc[HLT_cut1 & pt_edge & Muon_cut & met_cut & mt_cut & jet_pt,:]\n",
    "        deno_m_highpt = branches.loc[HLT_cut2 & ~pt_edge & Muon_cut & met_cut & mt_cut & jet_pt,:]\n",
    "        \n",
    "        \n",
    "        for i in trange(0, len(deno_m_lowpt['lepton_pt']), desc=f'fill pt < 20 GeV for {file}'):\n",
    "            if float(deno_m_lowpt['lepton_pt'].values[i]) < overflow_Y:\n",
    "                h_deno_m.Fill(abs(float(deno_m_lowpt['lepton_eta'].values[i])), float(deno_m_lowpt['lepton_pt'].values[i]))\n",
    "                if deno_m_lowpt['lepton_pfRelIso04_all'].values[i] < 0.15:\n",
    "                    h_nume_m.Fill(abs(float(deno_m_lowpt['lepton_eta'].values[i])), float(deno_m_lowpt['lepton_pt'].values[i]))\n",
    "            else:\n",
    "                h_deno_m.Fill(abs(float(deno_m_lowpt['lepton_eta'].values[i])), center_upper_Y)\n",
    "                if deno_m_lowpt['lepton_pfRelIso04_all'].values[i] < 0.15:\n",
    "                    h_nume_m.Fill(abs(float(deno_m_lowpt['lepton_eta'].values[i])), center_upper_Y)\n",
    "                \n",
    "        for i in trange(0, len(deno_m_highpt['lepton_pt']), desc=f'fill pt > 20 GeV for {file}'):\n",
    "            if float(deno_m_highpt['lepton_pt'].values[i]) < overflow_Y:\n",
    "                h_deno_m.Fill(abs(float(deno_m_highpt['lepton_eta'].values[i])), float(deno_m_highpt['lepton_pt'].values[i]))\n",
    "                if deno_m_highpt['lepton_pfRelIso04_all'].values[i] < 0.15 :\n",
    "                    h_nume_m.Fill(abs(float(deno_m_highpt['lepton_eta'].values[i])), float(deno_m_highpt['lepton_pt'].values[i]))\n",
    "            else:\n",
    "                h_deno_m.Fill(abs(float(deno_m_highpt['lepton_eta'].values[i])), center_upper_Y)\n",
    "                if deno_m_highpt['lepton_pfRelIso04_all'].values[i] < 0.15:\n",
    "                    h_nume_m.Fill(abs(float(deno_m_highpt['lepton_eta'].values[i])), center_upper_Y)\n",
    "                    \n",
    "                \n",
    "    else:\n",
    "        deno_m_lowpt = branches.loc[HLT_cut1 & pt_edge & Muon_cut & met_cut & mt_cut & (lepton_gen_cut1 | lepton_gen_cut2) & jet_pt,:].copy()\n",
    "        deno_m_highpt = branches.loc[HLT_cut2 & ~pt_edge & Muon_cut & met_cut & mt_cut & (lepton_gen_cut1 | lepton_gen_cut2) & jet_pt,:].copy()\n",
    "        \n",
    "        # Add SF\n",
    "        deno_m_highpt.loc[:,'SF'] = 1\n",
    "        deno_m_highpt.loc[(deno_m_highpt['lepton_pt'] >= 35) & (deno_m_highpt['lepton_pt'] < 45), 'SF'] = 1\n",
    "        deno_m_highpt.loc[deno_m_highpt['lepton_pt'] >= 45 , 'SF'] = 1\n",
    "        \n",
    "        \n",
    "        for i in trange(0, len(deno_m_lowpt['lepton_pt']), desc=f'fill pt < 20 GeV for {file}'):\n",
    "            if float(deno_m_lowpt['lepton_pt'].values[i]) < overflow_Y:\n",
    "                h_deno_m.Fill(abs(float(deno_m_lowpt['lepton_eta'].values[i])), float(deno_m_lowpt['lepton_pt'].values[i]), weight_lowpt*sgn(deno_m_lowpt['gen_weight'].values[i]))\n",
    "                if deno_m_lowpt['lepton_pfRelIso04_all'].values[i] < 0.15:                   \n",
    "                    h_nume_m.Fill(abs(float(deno_m_lowpt['lepton_eta'].values[i])), float(deno_m_lowpt['lepton_pt'].values[i]), weight_lowpt*sgn(deno_m_lowpt['gen_weight'].values[i]))\n",
    "            else:\n",
    "                h_deno_m.Fill(abs(float(deno_m_lowpt['lepton_eta'].values[i])), center_upper_Y, weight_lowpt*sgn(deno_m_lowpt['gen_weight'].values[i]))\n",
    "                if deno_m_lowpt['lepton_pfRelIso04_all'].values[i] < 0.15:\n",
    "                    h_nume_m.Fill(abs(float(deno_m_lowpt['lepton_eta'].values[i])), center_upper_Y, weight_lowpt*sgn(deno_m_lowpt['gen_weight'].values[i]))\n",
    "                \n",
    "        for i in trange(0, len(deno_m_highpt['lepton_pt']), desc=f'fill pt > 20 GeV for {file}'):\n",
    "            if float(deno_m_highpt['lepton_pt'].values[i]) < overflow_Y:\n",
    "                h_deno_m.Fill(abs(float(deno_m_highpt['lepton_eta'].values[i])), float(deno_m_highpt['lepton_pt'].values[i]), deno_m_highpt['SF'].values[i]*weight_highpt*sgn(deno_m_highpt['gen_weight'].values[i]))\n",
    "                if deno_m_highpt['lepton_pfRelIso04_all'].values[i] < 0.15:\n",
    "                    h_nume_m.Fill(abs(float(deno_m_highpt['lepton_eta'].values[i])), float(deno_m_highpt['lepton_pt'].values[i]), deno_m_highpt['SF'].values[i]*weight_highpt*sgn(deno_m_highpt['gen_weight'].values[i]))\n",
    "            else:\n",
    "                h_deno_m.Fill(abs(float(deno_m_highpt['lepton_eta'].values[i])), center_upper_Y, deno_m_highpt['SF'].values[i]*weight_highpt*sgn(deno_m_highpt['gen_weight'].values[i]))\n",
    "                if deno_m_highpt['lepton_pfRelIso04_all'].values[i] < 0.15:\n",
    "                    h_nume_m.Fill(abs(float(deno_m_highpt['lepton_eta'].values[i])), center_upper_Y, deno_m_highpt['SF'].values[i]*weight_highpt*sgn(deno_m_highpt['gen_weight'].values[i]))\n",
    "\n",
    "\n",
    "    deno_counts = 0\n",
    "    for i in range(h_deno_m.GetNbinsX()):\n",
    "        for j in range(h_deno_m.GetNbinsY()):\n",
    "            deno_counts += h_deno_m.GetBinContent(i+1,j+1) \n",
    "\n",
    "    nume_counts = 0\n",
    "    for i in range(h_nume_m.GetNbinsX()):\n",
    "        for j in range(h_nume_m.GetNbinsY()):\n",
    "            nume_counts += h_nume_m.GetBinContent(i+1,j+1) \n",
    "\n",
    "    print (f\"normalized deno :{deno_counts}\")\n",
    "    print (f\"normalized nume :{nume_counts}\")"
   ]
  },
  {
   "cell_type": "markdown",
   "id": "85ee7c6c",
   "metadata": {},
   "source": [
    "Data processing"
   ]
  },
  {
   "cell_type": "code",
   "execution_count": 13,
   "id": "5c21ae43",
   "metadata": {},
   "outputs": [
    {
     "name": "stdout",
     "output_type": "stream",
     "text": [
      "is Data\n"
     ]
    },
    {
     "name": "stderr",
     "output_type": "stream",
     "text": [
      "fill pt < 20 GeV for /eos/home-j/jiwoong/WZG_DB/2016/merged_FakeLepton_FR/DoubleMuon_Run2016B.root: 100%|██████████| 42112/42112 [00:01<00:00, 32574.82it/s]\n",
      "fill pt > 20 GeV for /eos/home-j/jiwoong/WZG_DB/2016/merged_FakeLepton_FR/DoubleMuon_Run2016B.root: 100%|██████████| 183496/183496 [00:03<00:00, 49764.40it/s]\n"
     ]
    },
    {
     "name": "stdout",
     "output_type": "stream",
     "text": [
      "normalized deno :225338.0\n",
      "normalized nume :73949.0\n",
      "is Data\n"
     ]
    },
    {
     "name": "stderr",
     "output_type": "stream",
     "text": [
      "fill pt < 20 GeV for /eos/home-j/jiwoong/WZG_DB/2016/merged_FakeLepton_FR/DoubleMuon_Run2016C.root: 100%|██████████| 4098/4098 [00:00<00:00, 49271.91it/s]\n",
      "fill pt > 20 GeV for /eos/home-j/jiwoong/WZG_DB/2016/merged_FakeLepton_FR/DoubleMuon_Run2016C.root: 100%|██████████| 11850/11850 [00:00<00:00, 49888.99it/s]\n"
     ]
    },
    {
     "name": "stdout",
     "output_type": "stream",
     "text": [
      "normalized deno :241263.0\n",
      "normalized nume :79368.0\n",
      "is Data\n"
     ]
    },
    {
     "name": "stderr",
     "output_type": "stream",
     "text": [
      "fill pt < 20 GeV for /eos/home-j/jiwoong/WZG_DB/2016/merged_FakeLepton_FR/DoubleMuon_Run2016E.root: 100%|██████████| 5425/5425 [00:00<00:00, 49001.73it/s]\n",
      "fill pt > 20 GeV for /eos/home-j/jiwoong/WZG_DB/2016/merged_FakeLepton_FR/DoubleMuon_Run2016E.root: 100%|██████████| 23000/23000 [00:00<00:00, 49479.35it/s]\n"
     ]
    },
    {
     "name": "stdout",
     "output_type": "stream",
     "text": [
      "normalized deno :269651.0\n",
      "normalized nume :89140.0\n",
      "is Data\n"
     ]
    },
    {
     "name": "stderr",
     "output_type": "stream",
     "text": [
      "fill pt < 20 GeV for /eos/home-j/jiwoong/WZG_DB/2016/merged_FakeLepton_FR/DoubleMuon_Run2016F.root: 100%|██████████| 2208/2208 [00:00<00:00, 27629.26it/s]\n",
      "fill pt > 20 GeV for /eos/home-j/jiwoong/WZG_DB/2016/merged_FakeLepton_FR/DoubleMuon_Run2016F.root: 100%|██████████| 9212/9212 [00:00<00:00, 31986.76it/s]\n"
     ]
    },
    {
     "name": "stdout",
     "output_type": "stream",
     "text": [
      "normalized deno :281059.0\n",
      "normalized nume :93214.0\n",
      "is Data\n"
     ]
    },
    {
     "name": "stderr",
     "output_type": "stream",
     "text": [
      "fill pt < 20 GeV for /eos/home-j/jiwoong/WZG_DB/2016/merged_FakeLepton_FR/DoubleMuon_Run2016G.root: 100%|██████████| 4018/4018 [00:00<00:00, 33389.96it/s]\n",
      "fill pt > 20 GeV for /eos/home-j/jiwoong/WZG_DB/2016/merged_FakeLepton_FR/DoubleMuon_Run2016G.root: 100%|██████████| 13637/13637 [00:00<00:00, 37976.11it/s]\n"
     ]
    },
    {
     "name": "stdout",
     "output_type": "stream",
     "text": [
      "normalized deno :298691.0\n",
      "normalized nume :99405.0\n",
      "is Data\n"
     ]
    },
    {
     "name": "stderr",
     "output_type": "stream",
     "text": [
      "fill pt < 20 GeV for /eos/home-j/jiwoong/WZG_DB/2016/merged_FakeLepton_FR/DoubleMuon_Run2016H.root: 100%|██████████| 3949/3949 [00:00<00:00, 49941.98it/s]\n",
      "fill pt > 20 GeV for /eos/home-j/jiwoong/WZG_DB/2016/merged_FakeLepton_FR/DoubleMuon_Run2016H.root: 100%|██████████| 13517/13517 [00:00<00:00, 49472.03it/s]\n"
     ]
    },
    {
     "name": "stdout",
     "output_type": "stream",
     "text": [
      "normalized deno :316136.0\n",
      "normalized nume :105379.0\n"
     ]
    }
   ],
   "source": [
    "ybins = [10, 13, 16, 20, 24, 28, 35, 45, 60]\n",
    "xbins = [.0, 0.5, 1.0, 1.5, 2.0, 2.5]\n",
    "\n",
    "from array import array\n",
    "h_deno_m = ROOT.TH2D(\"\",\"\", 5, array('d',xbins), 8, array('d',ybins))\n",
    "h_deno_m.StatOverflows(1)\n",
    "h_deno_m.Sumw2()\n",
    "h_nume_m = ROOT.TH2D(\"\",\"\", 5, array('d',xbins), 8, array('d',ybins))\n",
    "h_nume_m.StatOverflows(1)\n",
    "h_nume_m.Sumw2()\n",
    "\n",
    "\n",
    "\n",
    "file_list_M = [\n",
    "    '/eos/home-j/jiwoong/WZG_DB/2016/merged_FakeLepton_FR/DoubleMuon_Run2016B.root',\n",
    "    '/eos/home-j/jiwoong/WZG_DB/2016/merged_FakeLepton_FR/DoubleMuon_Run2016C.root',\n",
    "    '/eos/home-j/jiwoong/WZG_DB/2016/merged_FakeLepton_FR/DoubleMuon_Run2016E.root',\n",
    "    '/eos/home-j/jiwoong/WZG_DB/2016/merged_FakeLepton_FR/DoubleMuon_Run2016F.root',\n",
    "    '/eos/home-j/jiwoong/WZG_DB/2016/merged_FakeLepton_FR/DoubleMuon_Run2016G.root',\n",
    "    '/eos/home-j/jiwoong/WZG_DB/2016/merged_FakeLepton_FR/DoubleMuon_Run2016H.root'\n",
    "]\n",
    "for file_DATA in file_list_M:\n",
    "    AddHist_FR_Ele(file_DATA, h_nume_m, h_deno_m, 1, 1, 0, 0, 0)"
   ]
  },
  {
   "cell_type": "markdown",
   "id": "39e38c4e",
   "metadata": {},
   "source": [
    "MC processing"
   ]
  },
  {
   "cell_type": "code",
   "execution_count": 14,
   "id": "56669363",
   "metadata": {},
   "outputs": [
    {
     "name": "stdout",
     "output_type": "stream",
     "text": [
      "is MC\n"
     ]
    },
    {
     "name": "stderr",
     "output_type": "stream",
     "text": [
      "fill pt < 20 GeV for /eos/home-j/jiwoong/WZG_DB/2016/merged_FakeLepton_FR/merged_FakeLepFR_ZW/WJetsToLNu_TuneCP5_13TeV-madgraphMLM-pythia8_2016.root: 100%|██████████| 22667/22667 [00:00<00:00, 31748.24it/s]\n",
      "fill pt > 20 GeV for /eos/home-j/jiwoong/WZG_DB/2016/merged_FakeLepton_FR/merged_FakeLepFR_ZW/WJetsToLNu_TuneCP5_13TeV-madgraphMLM-pythia8_2016.root: 100%|██████████| 100836/100836 [00:04<00:00, 20885.03it/s]\n"
     ]
    },
    {
     "name": "stdout",
     "output_type": "stream",
     "text": [
      "normalized deno :307451.81618857046\n",
      "normalized nume :97135.77723269569\n",
      "is MC\n"
     ]
    },
    {
     "name": "stderr",
     "output_type": "stream",
     "text": [
      "fill pt < 20 GeV for /eos/home-j/jiwoong/WZG_DB/2016/merged_FakeLepton_FR/merged_FakeLepFR_ZW/DYJetsToLL_M-50_TuneCP5_13TeV-madgraphMLM-pythia8_2016.root: 100%|██████████| 154336/154336 [00:06<00:00, 25006.15it/s]\n",
      "fill pt > 20 GeV for /eos/home-j/jiwoong/WZG_DB/2016/merged_FakeLepton_FR/merged_FakeLepFR_ZW/DYJetsToLL_M-50_TuneCP5_13TeV-madgraphMLM-pythia8_2016.root: 100%|██████████| 354278/354278 [00:17<00:00, 19827.76it/s]\n"
     ]
    },
    {
     "name": "stdout",
     "output_type": "stream",
     "text": [
      "normalized deno :305044.9384787049\n",
      "normalized nume :94874.77047616686\n",
      "is MC\n"
     ]
    },
    {
     "name": "stderr",
     "output_type": "stream",
     "text": [
      "fill pt < 20 GeV for /eos/home-j/jiwoong/WZG_DB/2016/merged_FakeLepton_FR/merged_FakeLepFR_ZW/DYJetsToLL_M-10to50_TuneCP5_13TeV-madgraphMLM-pythia8_2016.root: 100%|██████████| 14234/14234 [00:00<00:00, 31793.24it/s]\n",
      "fill pt > 20 GeV for /eos/home-j/jiwoong/WZG_DB/2016/merged_FakeLepton_FR/merged_FakeLepFR_ZW/DYJetsToLL_M-10to50_TuneCP5_13TeV-madgraphMLM-pythia8_2016.root: 100%|██████████| 11683/11683 [00:00<00:00, 20302.94it/s]\n"
     ]
    },
    {
     "name": "stdout",
     "output_type": "stream",
     "text": [
      "normalized deno :304214.52093613736\n",
      "normalized nume :94112.56733194645\n",
      "0.0078 0.21675 61526.7\n",
      "0.0078 0.21675 6077.22\n",
      "0.0078 0.21675 18610\n"
     ]
    }
   ],
   "source": [
    "file_WJets = '/eos/home-j/jiwoong/WZG_DB/2016/merged_FakeLepton_FR/merged_FakeLepFR_ZW/WJetsToLNu_TuneCP5_13TeV-madgraphMLM-pythia8_2016.root'\n",
    "file_ZJets = '/eos/home-j/jiwoong/WZG_DB/2016/merged_FakeLepton_FR/merged_FakeLepFR_ZW/DYJetsToLL_M-50_TuneCP5_13TeV-madgraphMLM-pythia8_2016.root'\n",
    "file_ZJets2 = '/eos/home-j/jiwoong/WZG_DB/2016/merged_FakeLepton_FR/merged_FakeLepFR_ZW/DYJetsToLL_M-10to50_TuneCP5_13TeV-madgraphMLM-pythia8_2016.root'\n",
    "\n",
    "xsec_WJets = 61526.7  \n",
    "xsec_ZJets = 6077.22 \n",
    "xsec_ZJets2 = 18610\n",
    "\n",
    "lumi_Mu8 = 0.00780 # HLT_Ele8_CaloIdL_TrackIdL_IsoVL_PFJet30 2018 lumi\n",
    "lumi_Mu17 = 0.21675 # HLT_Ele23_CaloIdL_TrackIdL_IsoVL_PFJet30 2018 lumi\n",
    "\n",
    "AddHist_FR_Ele(file_WJets, h_nume_m, h_deno_m, -1, 0, lumi_Mu8, lumi_Mu17, xsec_WJets)\n",
    "AddHist_FR_Ele(file_ZJets, h_nume_m, h_deno_m, -1, 0, lumi_Mu8, lumi_Mu17, xsec_ZJets)\n",
    "AddHist_FR_Ele(file_ZJets2, h_nume_m, h_deno_m, -1, 0, lumi_Mu8, lumi_Mu17, xsec_ZJets2)\n",
    "print (lumi_Mu8, lumi_Mu17, xsec_WJets)\n",
    "print (lumi_Mu8, lumi_Mu17, xsec_ZJets)\n",
    "print (lumi_Mu8, lumi_Mu17, xsec_ZJets2)"
   ]
  },
  {
   "cell_type": "code",
   "execution_count": 15,
   "id": "cb510a43",
   "metadata": {},
   "outputs": [
    {
     "name": "stdout",
     "output_type": "stream",
     "text": [
      "35.86 fb^{-1} (13 TeV)\n"
     ]
    },
    {
     "data": {
      "image/png": "[encoded data removed]",
      "text/plain": [
       "<IPython.core.display.Image object>"
      ]
     },
     "metadata": {},
     "output_type": "display_data"
    }
   ],
   "source": [
    "fake_rate_m = h_nume_m.Clone(\"fake_rate_m\")\n",
    "fake_rate_m.Divide(h_deno_m)\n",
    "\n",
    "fake_rate_m.SetDirectory(0)\n",
    "c1 = ROOT.TCanvas(\"\",\"\",1200,800)\n",
    "fake_rate_m.SetStats(0)\n",
    "fake_rate_m.SetXTitle(\"|#eta|\")\n",
    "fake_rate_m.SetYTitle(\"P_{T} [GeV]\")\n",
    "fake_rate_m.SetMarkerSize(1.3)\n",
    "ROOT.gStyle.SetPaintTextFormat('4.2f')\n",
    "fake_rate_m.Draw(\"COLZe TEXT\")\n",
    "c1.Draw()\n",
    "CMS_lumi(c1,0,0)\n",
    "# c1.SaveAs('Fake_Lepton/2017/FR_Electron_data_2017_new.pdf')\n",
    "# c1.SaveAs('Fake_Lepton/2017/FR_Electron_data_2017_new.png')\n",
    "\n",
    "file1 = ROOT.TFile(\"mu.root\",\"recreate\")\n",
    "file1.cd()\n",
    "fake_rate_m.Write()\n",
    "file1.Close()"
   ]
  },
  {
   "cell_type": "code",
   "execution_count": null,
   "id": "807ae511",
   "metadata": {},
   "outputs": [],
   "source": []
  }
 ],
 "metadata": {
  "kernelspec": {
   "display_name": "Python 3",
   "language": "python",
   "name": "python3"
  },
  "language_info": {
   "codemirror_mode": {
    "name": "ipython",
    "version": 3
   },
   "file_extension": ".py",
   "mimetype": "text/x-python",
   "name": "python",
   "nbconvert_exporter": "python",
   "pygments_lexer": "ipython3",
   "version": "3.9.6"
  }
 },
 "nbformat": 4,
 "nbformat_minor": 5
}
