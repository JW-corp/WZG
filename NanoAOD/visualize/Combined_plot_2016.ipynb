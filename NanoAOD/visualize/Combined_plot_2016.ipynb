{
 "cells": [
  {
   "cell_type": "code",
   "execution_count": 1,
   "id": "03cb6fc1",
   "metadata": {},
   "outputs": [
    {
     "name": "stdout",
     "output_type": "stream",
     "text": [
      "Welcome to JupyROOT 6.24/06\n"
     ]
    },
    {
     "name": "stderr",
     "output_type": "stream",
     "text": [
      "/cvmfs/sft.cern.ch/lcg/views/LCG_101swan/x86_64-centos7-gcc8-opt/lib/python3.9/site-packages/uproot3/__init__.py:127: FutureWarning: Consider switching from 'uproot3' to 'uproot', since the new interface became the default in 2020.\n",
      "\n",
      "    pip install -U uproot\n",
      "\n",
      "In Python:\n",
      "\n",
      "    >>> import uproot\n",
      "    >>> with uproot.open(...) as file:\n",
      "    ...\n",
      "\n",
      "  warnings.warn(\n",
      "/cvmfs/sft.cern.ch/lcg/views/LCG_101swan/x86_64-centos7-gcc8-opt/lib/python3.9/site-packages/awkward0/__init__.py:12: FutureWarning: Consider switching from 'awkward0' to 'awkward', since the new interface became the default in 2020.\n",
      "\n",
      "    pip install -U awkward\n",
      "\n",
      "In Python:\n",
      "\n",
      "    >>> import awkward as ak\n",
      "    >>> new_style_array = ak.from_awkward0(old_style_array)\n",
      "    >>> old_style_array = ak.to_awkward0(new_style_array)\n",
      "\n",
      "  warnings.warn(\n"
     ]
    }
   ],
   "source": [
    "import ROOT\n",
    "import matplotlib\n",
    "import uproot\n",
    "import numpy as np\n",
    "import matplotlib.pyplot as plt\n",
    "import pandas as pd\n",
    "from tqdm import trange\n",
    "import os,sys\n",
    "from array import array\n",
    "import time\n",
    "\n",
    "from Lumi import *\n",
    "from Ratio_Plot import *\n",
    "from TDR_Style import *"
   ]
  },
  {
   "cell_type": "markdown",
   "id": "d6f9fae3",
   "metadata": {},
   "source": [
    "## Control Pad"
   ]
  },
  {
   "cell_type": "code",
   "execution_count": 2,
   "id": "99d66b65",
   "metadata": {},
   "outputs": [],
   "source": [
    "# 0: WZG\n",
    "# 1: WZG_emm\n",
    "# 2: WZG_mee\n",
    "# 3: WZG_eee\n",
    "# 4: WZG_mmm\n",
    "\n",
    "# 10: ttZ\n",
    "# 11: ttZ_emm\n",
    "# 12: ttZ_mee\n",
    "# 13: ttZ_eee\n",
    "# 14: ttZ_mmm\n",
    "\n",
    "# 20: ttG\n",
    "# 21: ttG_emm\n",
    "# 22: ttG_mee\n",
    "# 23: ttG_eee\n",
    "# 24: ttG_mmm\n",
    "\n",
    "# 9: ZZ\n",
    "# 5: ZZ_eemm\n",
    "# 6: ZZ_mmee\n",
    "# 7: ZZ_eeee\n",
    "# 8: ZZ_mmmm     \n",
    "\n",
    "\n",
    "branch = {\n",
    "    \"WZG_dileptonmass\":{\n",
    "        \"name\":\"WZG_dileptonmass\",\n",
    "        \"axis_name\":\"m_{Z} [GeV]\",\n",
    "        \"xbins\":5,\n",
    "        \"xleft\":75,\n",
    "        \"xright\":105,\n",
    "    },\n",
    "    \"WZG_trileptonmass\":{\n",
    "        \"name\":\"WZG_trileptonmass\",\n",
    "        \"axis_name\":\"m_{WZ} [GeV]\",\n",
    "        \"xbins\":10,\n",
    "        \"xleft\":100,\n",
    "        \"xright\":500,\n",
    "    },\n",
    "\n",
    "    \"ZZ_dileptonmass\":{\n",
    "       \"name\":\"ZZ_mllz1\",\n",
    "        \"axis_name\":\"ZZ m_{l_{Z1}l_{Z2}} [GeV]\",\n",
    "        \"xbins\":20,\n",
    "        \"xleft\":75,\n",
    "        \"xright\":105,  \n",
    "    },\n",
    "    \n",
    "    \"ZZ_trileptonmass\":{\n",
    "       \"name\":\"ZZ_trileptonmass\",\n",
    "        \"axis_name\":\"ZZ m_{lll} [GeV]\",\n",
    "        \"xbins\":20,\n",
    "        \"xleft\":100,\n",
    "        \"xright\":500,  \n",
    "    },  \n",
    "    \n",
    "    \"ZZ_MET\":{\n",
    "       \"name\":\"ZZ_MET\",\n",
    "        \"axis_name\":\"MET [GeV]\",\n",
    "        \"xbins\":20,\n",
    "        \"xleft\":30,\n",
    "        \"xright\":120,        \n",
    "    },\n",
    "    \n",
    "    \n",
    "    \n",
    "    \"ttZ_dileptonmass\":{\n",
    "        \"name\":\"ttZ_dileptonmass\",\n",
    "        \"axis_name\":\"m_{Z} [GeV]\",\n",
    "        \"xbins\":10,\n",
    "        \"xleft\":75,\n",
    "        \"xright\":105,\n",
    "    },\n",
    "     \"ttZ_trileptonmass\":{\n",
    "         \"name\":\"ttZ_trileptonmass\",\n",
    "         \"axis_name\":\"m_{lll} [GeV]\",\n",
    "         \"xbins\":10,\n",
    "         \"xleft\":100,\n",
    "         \"xright\":500,\n",
    "     },\n",
    "    \n",
    "    \"ttG_trileptonmass\":{\n",
    "         \"name\":\"ttG_trileptonmass\",\n",
    "         \"axis_name\":\"m_{WZ} [GeV]\",\n",
    "         \"xbins\":10,\n",
    "         \"xleft\":100,\n",
    "         \"xright\":500,\n",
    "     },    \n",
    "    \n",
    "    \n",
    "#     \"ttZ_lepton1_pt\":{\n",
    "#         \"name\":\"ttZ_lepton1_pt\",\n",
    "#         \"axis_name\":\"Leading Lep P_{T} [GeV]\",\n",
    "#         \"xbins\":20,\n",
    "#         \"xleft\":0,\n",
    "#         \"xright\":200,\n",
    "#     },\n",
    "#     \"ttZ_lepton1_eta\":{\n",
    "#         \"name\":\"ttZ_lepton1_eta\",\n",
    "#         \"axis_name\":\"Leading Lep #eta\",\n",
    "#         \"xbins\":10,\n",
    "#         \"xleft\":-3,\n",
    "#         \"xright\":3,\n",
    "#     },\n",
    "#     \"ttZ_lepton1_phi\":{\n",
    "#         \"name\":\"ttZ_lepton1_phi\",\n",
    "#         \"axis_name\":\"Leading Lep #phi\",\n",
    "#         \"xbins\":8,\n",
    "#         \"xleft\":-4,\n",
    "#         \"xright\":4,\n",
    "#     },\n",
    "#     \"ttZ_lepton2_pt\":{\n",
    "#         \"name\":\"ttZ_lepton2_pt\",\n",
    "#         \"axis_name\":\"Sub Leading Lep P_{T} [GeV]\",\n",
    "#         \"xbins\":20,\n",
    "#         \"xleft\":0,\n",
    "#         \"xright\":200,\n",
    "#     },\n",
    "#     \"ttZ_lepton2_eta\":{\n",
    "#         \"name\":\"ttZ_lepton2_eta\",\n",
    "#         \"axis_name\":\"Sub Leading Lep #eta\",\n",
    "#         \"xbins\":10,\n",
    "#         \"xleft\":-3,\n",
    "#         \"xright\":3,\n",
    "#     },\n",
    "#     \"ttZ_lepton2_phi\":{\n",
    "#         \"name\":\"ttZ_lepton2_phi\",\n",
    "#         \"axis_name\":\"Sub Leading Lep #phi\",\n",
    "#         \"xbins\":8,\n",
    "#         \"xleft\":-4,\n",
    "#         \"xright\":4,\n",
    "#     },\n",
    "    \"MET\":{\n",
    "        \"name\":\"MET\",\n",
    "        \"axis_name\":\"MET [GeV]\",\n",
    "        \"xbins\":20,\n",
    "        \"xleft\":30,\n",
    "        \"xright\":120,\n",
    "    },\n",
    "    \"nJets\":{\n",
    "        \"name\":\"nJets\",\n",
    "        \"axis_name\":\"nJets\",\n",
    "        \"xbins\":8,\n",
    "        \"xleft\":0,\n",
    "        \"xright\":8,\n",
    "    },\n",
    "    \"nbJets\":{\n",
    "        \"name\":\"nbJets\",\n",
    "        \"axis_name\":\"nbJets\",\n",
    "        \"xbins\":8,\n",
    "        \"xleft\":0,\n",
    "        \"xright\":8,\n",
    "    },\n",
    "}\n",
    "\n",
    "channel = 9\n",
    "lumi = 35.86\n",
    "UpDown = 0\n",
    "# 0: nominal\n",
    "# 1: JESup \n",
    "# 2: JESdown\n",
    "# 3: JERup\n",
    "# 4: JERdown\n",
    "time_total_init = time.time()"
   ]
  },
  {
   "cell_type": "markdown",
   "id": "56386bb4",
   "metadata": {},
   "source": [
    "### Add Hist"
   ]
  },
  {
   "cell_type": "code",
   "execution_count": 30,
   "id": "ae9505b4",
   "metadata": {},
   "outputs": [],
   "source": [
    "def AddHist(file, hist, isData, xsec, lumi, channel, branch, UpDown):\n",
    "    \n",
    "    UpDown_map={\n",
    "        0:None,\n",
    "        1:\"jesTotalUp\",\n",
    "        2:\"jesTotalDown\",\n",
    "        3:\"jerUp\",\n",
    "        4:\"jerDown\"\n",
    "    }\n",
    "\n",
    "    init_time = time.time()\n",
    "    \n",
    "    init_branches = ['channel_mark']\n",
    "    if not \"wzg_2016.root\" in file:\n",
    "        if ('MuonEG_Run2016H.root'in file) or (not isData):\n",
    "\n",
    "            init_branches = ['channel_mark'\n",
    "                        ,'HLT_Ele27_WPTight_Gsf'\n",
    "                        ,'HLT_IsoTkMu24'\n",
    "                        ,'HLT_IsoMu24'\n",
    "                        ,'HLT_Mu17_TrkIsoVVL_Mu8_TrkIsoVVL'\n",
    "                        ,'HLT_Mu17_TrkIsoVVL_TkMu8_TrkIsoVVL'\n",
    "                        ,'HLT_Mu17_TrkIsoVVL_Mu8_TrkIsoVVL_DZ'\n",
    "                        ,'HLT_Mu17_TrkIsoVVL_TkMu8_TrkIsoVVL_DZ'\n",
    "                        ,'HLT_Mu8_TrkIsoVVL_Ele23_CaloIdL_TrackIdL_IsoVL'\n",
    "                        ,'HLT_Mu23_TrkIsoVVL_Ele8_CaloIdL_TrackIdL_IsoVL'\n",
    "                        ,'HLT_Mu8_TrkIsoVVL_Ele23_CaloIdL_TrackIdL_IsoVL_DZ'\n",
    "                        ,'HLT_Mu23_TrkIsoVVL_Ele8_CaloIdL_TrackIdL_IsoVL_DZ'\n",
    "                        ,'HLT_Ele23_Ele12_CaloIdL_TrackIdL_IsoVL_DZ']\n",
    "        else:\n",
    "            init_branches = ['channel_mark'\n",
    "                        ,'HLT_Ele27_WPTight_Gsf'\n",
    "                        ,'HLT_IsoTkMu24'\n",
    "                        ,'HLT_IsoMu24'\n",
    "                        ,'HLT_Mu17_TrkIsoVVL_Mu8_TrkIsoVVL'\n",
    "                        ,'HLT_Mu17_TrkIsoVVL_TkMu8_TrkIsoVVL'\n",
    "                        ,'HLT_Mu17_TrkIsoVVL_Mu8_TrkIsoVVL_DZ'\n",
    "                        ,'HLT_Mu17_TrkIsoVVL_TkMu8_TrkIsoVVL_DZ'\n",
    "                        ,'HLT_Mu8_TrkIsoVVL_Ele23_CaloIdL_TrackIdL_IsoVL'\n",
    "                        ,'HLT_Mu23_TrkIsoVVL_Ele8_CaloIdL_TrackIdL_IsoVL'\n",
    "                        ,'HLT_Ele23_Ele12_CaloIdL_TrackIdL_IsoVL_DZ']        \n",
    "\n",
    "\n",
    "\n",
    "        if isData:\n",
    "            print('is Data')\n",
    "            for branch_name in branch:\n",
    "                if branch[branch_name][\"name\"] not in init_branches:\n",
    "                    init_branches.append(branch[branch_name][\"name\"])\n",
    "        else:\n",
    "            print('is MC')\n",
    "            add_branches = ['Generator_weight','puWeight','PrefireWeight','Muon_ID_Weight','Electron_ID_Weight','Electron_RECO_Weight']\n",
    "            met_branches = uproot.open(file+':Events').keys(filter_name='MET_T1Smear*')\n",
    "            gen_lepton_branches = uproot.open(file+':Events').keys(filter_name='*_lepton*genPartFlav')\n",
    "            gen_photon_branches= uproot.open(file+':Events').keys(filter_name='*_photon*genPartFlav')\n",
    "            true_events = uproot.open(file)['nEventsGenWeighted'].values()[0]\n",
    "            init_branches.extend(add_branches)\n",
    "            init_branches.extend(gen_lepton_branches)\n",
    "            init_branches.extend(gen_photon_branches)\n",
    "            init_branches.extend(met_branches)\n",
    "            for branch_name in branch:\n",
    "                if branch[branch_name][\"name\"] not in init_branches:\n",
    "                    init_branches.append(branch[branch_name][\"name\"])\n",
    "\n",
    "        branches = uproot.open(file+':Events').arrays(init_branches, library='pd')\n",
    "\n",
    "        HLT_SingleMuon1 = branches.loc[:,'HLT_IsoTkMu24'] == True\n",
    "        HLT_SingleMuon2 = branches.loc[:,'HLT_IsoMu24'] == True\n",
    "\n",
    "        HLT_DoubleMuon1 = branches.loc[:,'HLT_Mu17_TrkIsoVVL_Mu8_TrkIsoVVL'] == True\n",
    "        HLT_DoubleMuon2 = branches.loc[:,'HLT_Mu17_TrkIsoVVL_TkMu8_TrkIsoVVL'] == True\n",
    "        HLT_DoubleMuon3 = branches.loc[:,'HLT_Mu17_TrkIsoVVL_Mu8_TrkIsoVVL_DZ'] == True\n",
    "        HLT_DoubleMuon4 = branches.loc[:,'HLT_Mu17_TrkIsoVVL_TkMu8_TrkIsoVVL_DZ'] == True\n",
    "\n",
    "        HLT_SingleElectron = branches.loc[:,'HLT_Ele27_WPTight_Gsf'] == True\n",
    "\n",
    "        HLT_DoubleEG = branches.loc[:,'HLT_Ele23_Ele12_CaloIdL_TrackIdL_IsoVL_DZ'] == True\n",
    "\n",
    "        HLT_MuonEG1 = branches.loc[:,'HLT_Mu8_TrkIsoVVL_Ele23_CaloIdL_TrackIdL_IsoVL'] == True\n",
    "        HLT_MuonEG2 = branches.loc[:,'HLT_Mu23_TrkIsoVVL_Ele8_CaloIdL_TrackIdL_IsoVL'] == True\n",
    "\n",
    "\n",
    "        comb_HLT_SingleMuon     = (HLT_SingleMuon1 | HLT_SingleMuon2)\n",
    "\n",
    "        if 'DoubleMuon_Run2016H'in file:\n",
    "            comb_HLT_DoubleMuon = (HLT_DoubleMuon1 | HLT_DoubleMuon2)\n",
    "        elif 'DoubleMuon_Run2016' in file:\n",
    "            comb_HLT_DoubleMuon = (HLT_DoubleMuon3 | HLT_DoubleMuon4)\n",
    "        else:\n",
    "            comb_HLT_DoubleMuon = (HLT_DoubleMuon1 | HLT_DoubleMuon2) | (HLT_DoubleMuon3 | HLT_DoubleMuon4)\n",
    "\n",
    "        if 'MuonEG_Run2016H' in file:\n",
    "            HLT_MuonEG3 = branches.loc[:,'HLT_Mu8_TrkIsoVVL_Ele23_CaloIdL_TrackIdL_IsoVL_DZ'] == True\n",
    "            HLT_MuonEG4 = branches.loc[:,'HLT_Mu23_TrkIsoVVL_Ele8_CaloIdL_TrackIdL_IsoVL_DZ'] == True\n",
    "            comb_HLT_MuonEG = (HLT_MuonEG1 | HLT_MuonEG2) | (HLT_MuonEG3 | HLT_MuonEG4)\n",
    "        elif 'MuonEG_Run2016' in file:\n",
    "            comb_HLT_MuonEG = (HLT_MuonEG1 | HLT_MuonEG2)\n",
    "            \n",
    "        else:\n",
    "            comb_HLT_MuonEG = (HLT_MuonEG1 | HLT_MuonEG2)\n",
    "\n",
    "\n",
    "\n",
    "        if 'SingleMuon' in file:\n",
    "            arrays = branches.loc[comb_HLT_SingleMuon , :].copy()\n",
    "        elif 'DoubleMuon' in file:\n",
    "            arrays = branches.loc[~comb_HLT_SingleMuon & comb_HLT_DoubleMuon, :].copy()\n",
    "        elif 'SingleElectron' in file:\n",
    "            arrays = branches.loc[~comb_HLT_SingleMuon & ~comb_HLT_DoubleMuon &   HLT_SingleElectron ,:].copy()\n",
    "        elif 'MuonEG' in file:\n",
    "            arrays = branches.loc[~comb_HLT_SingleMuon & ~comb_HLT_DoubleMuon &  ~HLT_SingleElectron & comb_HLT_MuonEG,:].copy()\n",
    "        elif 'DoubleEG' in file:\n",
    "            arrays = branches.loc[~comb_HLT_SingleMuon & ~comb_HLT_DoubleMuon &  ~HLT_SingleElectron & ~comb_HLT_MuonEG & HLT_DoubleEG,:].copy()\n",
    "        else:\n",
    "            arrays = branches.loc[comb_HLT_SingleMuon | comb_HLT_DoubleMuon | comb_HLT_MuonEG | HLT_SingleElectron |  HLT_DoubleEG ,:].copy()\n",
    "            \n",
    "    else:\n",
    "        print('is MC')\n",
    "        add_branches = ['Generator_weight','puWeight','PrefireWeight','Muon_ID_Weight','Electron_ID_Weight','Electron_RECO_Weight']\n",
    "        met_branches = uproot.open(file+':Events').keys(filter_name='MET_T1Smear*')\n",
    "        gen_lepton_branches = uproot.open(file+':Events').keys(filter_name='*_lepton*genPartFlav')\n",
    "        gen_photon_branches= uproot.open(file+':Events').keys(filter_name='*_photon*genPartFlav')\n",
    "        true_events = uproot.open(file)['nEventsGenWeighted'].values()[0]\n",
    "        init_branches.extend(add_branches)\n",
    "        init_branches.extend(gen_lepton_branches)\n",
    "        init_branches.extend(gen_photon_branches)\n",
    "        init_branches.extend(met_branches)\n",
    "        for branch_name in branch:\n",
    "            if branch[branch_name][\"name\"] not in init_branches:\n",
    "                init_branches.append(branch[branch_name][\"name\"])\n",
    "\n",
    "        branches = uproot.open(file+':Events').arrays(init_branches, library='pd')\n",
    "        arrays = branches[:].copy()    \n",
    "    \n",
    "    if channel == 0: \n",
    "        channel_cut = (arrays.loc[:,'channel_mark'] >= 1) & (arrays.loc[:,'channel_mark'] <= 4)\n",
    "    elif channel == 10:\n",
    "        channel_cut = (arrays.loc[:,'channel_mark'] >= 11) & (arrays.loc[:,'channel_mark'] <= 14)\n",
    "    elif channel == 20:\n",
    "        channel_cut = (arrays.loc[:,'channel_mark'] >= 21) & (arrays.loc[:,'channel_mark'] <= 24)\n",
    "    elif channel == 9:\n",
    "        channel_cut = (arrays.loc[:,'channel_mark'] >= 5) & (arrays.loc[:,'channel_mark'] <= 8)\n",
    "    else:\n",
    "        channel_cut = arrays.loc[:,'channel_mark'] == channel\n",
    "    \n",
    "    if isData:\n",
    "        if ((channel >= 10) and (channel <= 14)) or ((channel >= 0) and (channel <= 4)):\n",
    "            MET_cut = (arrays.loc[:,'MET'] > 30)\n",
    "            arrays = arrays.loc[channel_cut & MET_cut,:]\n",
    "        else:\n",
    "            arrays = arrays.loc[channel_cut,:]\n",
    "    else:\n",
    "        lep_gen_cut_WZG = (arrays.loc[:,'WZG_lepton1_genPartFlav'] > 0) & (arrays.loc[:,'WZG_lepton2_genPartFlav'] > 0) & (arrays.loc[:,'WZG_lepton3_genPartFlav'] > 0)\n",
    "        lep_gen_cut_ttZ = (arrays.loc[:,'ttZ_lepton1_genPartFlav'] > 0) & (arrays.loc[:,'ttZ_lepton2_genPartFlav'] > 0) & (arrays.loc[:,'ttZ_lepton3_genPartFlav'] > 0)\n",
    "        lep_gen_cut_ttG = (arrays.loc[:,'ttG_lepton1_genPartFlav'] > 0) & (arrays.loc[:,'ttG_lepton2_genPartFlav'] > 0) & (arrays.loc[:,'ttG_lepton3_genPartFlav'] > 0)\n",
    "        lep_gen_cut_ZZ = (arrays.loc[:,'ZZ_lepton1_genPartFlav'] > 0) & (arrays.loc[:,'ZZ_lepton2_genPartFlav'] > 0) & (arrays.loc[:,'ZZ_lepton3_genPartFlav'] > 0)\n",
    "#         MET_cut = (arrays.loc[:,'MET_T1Smear_pt_jerDown'] > 30)\n",
    "#         MET_cut = (arrays.loc[:,'MET_T1Smear_pt_jerUp'] > 30)\n",
    "#         MET_cut = (arrays.loc[:,'MET_T1Smear_pt_jesTotalUp'] > 30)\n",
    "#         MET_cut = (arrays.loc[:,'MET_T1Smear_pt_jesTotalDown'] > 30)\n",
    "        gen_cut_map = {\n",
    "                        0:lep_gen_cut_WZG, \n",
    "                        1:lep_gen_cut_WZG,\n",
    "                        2:lep_gen_cut_WZG,\n",
    "                        3:lep_gen_cut_WZG,\n",
    "                        4:lep_gen_cut_WZG,\n",
    "                        10:lep_gen_cut_ttZ,\n",
    "                        11:lep_gen_cut_ttZ,\n",
    "                        12:lep_gen_cut_ttZ,\n",
    "                        13:lep_gen_cut_ttZ,\n",
    "                        14:lep_gen_cut_ttZ,\n",
    "                        20:lep_gen_cut_ttG,\n",
    "                        21:lep_gen_cut_ttG,\n",
    "                        22:lep_gen_cut_ttG,\n",
    "                        23:lep_gen_cut_ttG,\n",
    "                        24:lep_gen_cut_ttG,\n",
    "                        5:lep_gen_cut_ZZ,\n",
    "                        6:lep_gen_cut_ZZ,\n",
    "                        7:lep_gen_cut_ZZ,\n",
    "                        8:lep_gen_cut_ZZ,\n",
    "                        9:lep_gen_cut_ZZ,\n",
    "        }\n",
    "        lep_gen_cut = gen_cut_map[channel]\n",
    "        if ((channel >= 10) and (channel <= 14)) or ((channel >= 0) and (channel <= 4)):\n",
    "            if UpDown_map[UpDown]:\n",
    "                MET_cut = (arrays.loc[:,f'MET_T1Smear_pt_{UpDown_map[UpDown]}'] > 30)\n",
    "            else:\n",
    "                MET_cut = (arrays.loc[:,f'MET_T1Smear_pt'] > 30)\n",
    "            arrays = arrays.loc[channel_cut & MET_cut & lep_gen_cut,:]\n",
    "        else:\n",
    "            arrays = arrays.loc[channel_cut & lep_gen_cut,:]    \n",
    "    \n",
    "    if isData:\n",
    "        for branch_name in branch:\n",
    "            for i in trange(0, len(arrays[branch[branch_name][\"name\"]]), desc=f'fill {branch[branch_name][\"name\"]} for {file}'):\n",
    "                hist[branch_name].Fill(float(arrays[branch[branch_name][\"name\"]].values[i]))\n",
    "            print (f\"SumOfWeights for {branch_name}: \", hist[branch_name].GetSumOfWeights())\n",
    "    else:\n",
    "        \n",
    "        arrays['Muon_ID_Weight']       = arrays['Muon_ID_Weight'].apply(lambda x: 1 if x==0 else x)\n",
    "        arrays['Electron_ID_Weight']   = arrays['Electron_ID_Weight'].apply(lambda x: 1 if x==0 else x)\n",
    "        arrays['Electron_RECO_Weight'] = arrays['Electron_RECO_Weight'].apply(lambda x: 1 if x==0 else x)\n",
    "        \n",
    "        arrays['Generator_weight_sgn'] = arrays['Generator_weight'].apply(lambda x: 1 if x >= 0 else -1)\n",
    "        arrays['true_weight'] = lumi * xsec * 1000 *  arrays['PrefireWeight'] * arrays['puWeight']* arrays['Muon_ID_Weight'] * arrays['Electron_ID_Weight'] * arrays['Electron_RECO_Weight'] *  arrays['Generator_weight_sgn'] / true_events\n",
    "        for branch_name in branch:\n",
    "            for i in trange(0, len(arrays[branch[branch_name][\"name\"]]), desc=f'fill {branch[branch_name][\"name\"]} for {file}'):\n",
    "                hist[branch_name].Fill(float(arrays[branch[branch_name][\"name\"]].values[i]), float(arrays['true_weight'].values[i]))\n",
    "            print (f\"SumOfWeights for {branch_name}: \", hist[branch_name].GetSumOfWeights())\n",
    "    \n",
    "    end_time = time.time()\n",
    "    print ('Time cost: %.2f\\n' %(end_time-init_time))"
   ]
  },
  {
   "cell_type": "markdown",
   "id": "1d68b868",
   "metadata": {},
   "source": [
    "## Add Data"
   ]
  },
  {
   "cell_type": "code",
   "execution_count": 4,
   "id": "9d84d61b",
   "metadata": {},
   "outputs": [],
   "source": [
    "filelist_data = [\n",
    "\"/eos/home-j/jiwoong/WZG_DB/2016/merged_data/SingleMuon_Run2016B.root\"\n",
    ",\"/eos/home-j/jiwoong/WZG_DB/2016/merged_data/SingleMuon_Run2016C.root\"\n",
    ",\"/eos/home-j/jiwoong/WZG_DB/2016/merged_data/SingleMuon_Run2016D.root\"\n",
    ",\"/eos/home-j/jiwoong/WZG_DB/2016/merged_data/SingleMuon_Run2016E.root\"\n",
    ",\"/eos/home-j/jiwoong/WZG_DB/2016/merged_data/SingleMuon_Run2016F.root\"\n",
    ",\"/eos/home-j/jiwoong/WZG_DB/2016/merged_data/SingleMuon_Run2016G.root\"\n",
    ",\"/eos/home-j/jiwoong/WZG_DB/2016/merged_data/SingleMuon_Run2016H.root\"\n",
    ",\"/eos/home-j/jiwoong/WZG_DB/2016/merged_data/DoubleMuon_Run2016B.root\"\n",
    ",\"/eos/home-j/jiwoong/WZG_DB/2016/merged_data/DoubleMuon_Run2016C.root\"\n",
    ",\"/eos/home-j/jiwoong/WZG_DB/2016/merged_data/DoubleMuon_Run2016D.root\"\n",
    ",\"/eos/home-j/jiwoong/WZG_DB/2016/merged_data/DoubleMuon_Run2016E.root\"\n",
    ",\"/eos/home-j/jiwoong/WZG_DB/2016/merged_data/DoubleMuon_Run2016F.root\"\n",
    ",\"/eos/home-j/jiwoong/WZG_DB/2016/merged_data/DoubleMuon_Run2016G.root\"\n",
    ",\"/eos/home-j/jiwoong/WZG_DB/2016/merged_data/DoubleMuon_Run2016H.root\"\n",
    ",\"/eos/home-j/jiwoong/WZG_DB/2016/merged_data/SingleElectron_Run2016B.root\"\n",
    ",\"/eos/home-j/jiwoong/WZG_DB/2016/merged_data/SingleElectron_Run2016C.root\"\n",
    ",\"/eos/home-j/jiwoong/WZG_DB/2016/merged_data/SingleElectron_Run2016D.root\"\n",
    ",\"/eos/home-j/jiwoong/WZG_DB/2016/merged_data/SingleElectron_Run2016E.root\"\n",
    ",\"/eos/home-j/jiwoong/WZG_DB/2016/merged_data/SingleElectron_Run2016F.root\"\n",
    ",\"/eos/home-j/jiwoong/WZG_DB/2016/merged_data/SingleElectron_Run2016G.root\"\n",
    ",\"/eos/home-j/jiwoong/WZG_DB/2016/merged_data/SingleElectron_Run2016H.root\"\n",
    ",\"/eos/home-j/jiwoong/WZG_DB/2016/merged_data/MuonEG_Run2016B.root\"\n",
    ",\"/eos/home-j/jiwoong/WZG_DB/2016/merged_data/MuonEG_Run2016C.root\"\n",
    ",\"/eos/home-j/jiwoong/WZG_DB/2016/merged_data/MuonEG_Run2016D.root\"\n",
    ",\"/eos/home-j/jiwoong/WZG_DB/2016/merged_data/MuonEG_Run2016E.root\"\n",
    ",\"/eos/home-j/jiwoong/WZG_DB/2016/merged_data/MuonEG_Run2016F.root\"\n",
    ",\"/eos/home-j/jiwoong/WZG_DB/2016/merged_data/MuonEG_Run2016G.root\"\n",
    ",\"/eos/home-j/jiwoong/WZG_DB/2016/merged_data/MuonEG_Run2016H.root\"\n",
    ",\"/eos/home-j/jiwoong/WZG_DB/2016/merged_data/DoubleEG_Run2016B.root\"\n",
    ",\"/eos/home-j/jiwoong/WZG_DB/2016/merged_data/DoubleEG_Run2016C.root\"\n",
    ",\"/eos/home-j/jiwoong/WZG_DB/2016/merged_data/DoubleEG_Run2016D.root\"\n",
    ",\"/eos/home-j/jiwoong/WZG_DB/2016/merged_data/DoubleEG_Run2016E.root\"\n",
    ",\"/eos/home-j/jiwoong/WZG_DB/2016/merged_data/DoubleEG_Run2016F.root\"\n",
    ",\"/eos/home-j/jiwoong/WZG_DB/2016/merged_data/DoubleEG_Run2016G.root\"\n",
    ",\"/eos/home-j/jiwoong/WZG_DB/2016/merged_data/DoubleEG_Run2016H.root\"\n",
    "]\n",
    "\n",
    "hist_data = {}\n",
    "\n",
    "for branch_name in branch:\n",
    "    hist_data_temp = ROOT.TH1F(\"\", \"\", branch[branch_name][\"xbins\"], branch[branch_name][\"xleft\"], branch[branch_name][\"xright\"])\n",
    "    hist_data_temp.SetXTitle(f'{branch[branch_name][\"axis_name\"]}')\n",
    "    hist_data_temp.SetYTitle(f'events / bin')\n",
    "    hist_data_temp.Sumw2()\n",
    "    hist_data[branch_name] = hist_data_temp"
   ]
  },
  {
   "cell_type": "code",
   "execution_count": 5,
   "id": "359aa88a",
   "metadata": {
    "scrolled": true
   },
   "outputs": [
    {
     "name": "stdout",
     "output_type": "stream",
     "text": [
      "is Data\n"
     ]
    },
    {
     "name": "stderr",
     "output_type": "stream",
     "text": [
      "fill WZG_dileptonmass for /eos/home-j/jiwoong/WZG_DB/2016/merged_data/SingleMuon_Run2016B.root: 100%|██████████| 106/106 [00:00<00:00, 25800.62it/s]\n"
     ]
    },
    {
     "name": "stdout",
     "output_type": "stream",
     "text": [
      "SumOfWeights for WZG_dileptonmass:  1.0\n"
     ]
    },
    {
     "name": "stderr",
     "output_type": "stream",
     "text": [
      "fill WZG_trileptonmass for /eos/home-j/jiwoong/WZG_DB/2016/merged_data/SingleMuon_Run2016B.root: 100%|██████████| 106/106 [00:00<00:00, 166765.28it/s]\n"
     ]
    },
    {
     "name": "stdout",
     "output_type": "stream",
     "text": [
      "SumOfWeights for WZG_trileptonmass:  1.0\n"
     ]
    },
    {
     "name": "stderr",
     "output_type": "stream",
     "text": [
      "fill ZZ_mllz1 for /eos/home-j/jiwoong/WZG_DB/2016/merged_data/SingleMuon_Run2016B.root: 100%|██████████| 106/106 [00:00<00:00, 162498.62it/s]\n"
     ]
    },
    {
     "name": "stdout",
     "output_type": "stream",
     "text": [
      "SumOfWeights for ZZ_dileptonmass:  106.0\n"
     ]
    },
    {
     "name": "stderr",
     "output_type": "stream",
     "text": [
      "fill ZZ_trileptonmass for /eos/home-j/jiwoong/WZG_DB/2016/merged_data/SingleMuon_Run2016B.root: 100%|██████████| 106/106 [00:00<00:00, 159410.62it/s]\n"
     ]
    },
    {
     "name": "stdout",
     "output_type": "stream",
     "text": [
      "SumOfWeights for ZZ_trileptonmass:  101.0\n"
     ]
    },
    {
     "name": "stderr",
     "output_type": "stream",
     "text": [
      "fill ZZ_MET for /eos/home-j/jiwoong/WZG_DB/2016/merged_data/SingleMuon_Run2016B.root: 100%|██████████| 106/106 [00:00<00:00, 83933.59it/s]\n"
     ]
    },
    {
     "name": "stdout",
     "output_type": "stream",
     "text": [
      "SumOfWeights for ZZ_MET:  29.0\n"
     ]
    },
    {
     "name": "stderr",
     "output_type": "stream",
     "text": [
      "fill ttZ_dileptonmass for /eos/home-j/jiwoong/WZG_DB/2016/merged_data/SingleMuon_Run2016B.root: 100%|██████████| 106/106 [00:00<00:00, 86767.41it/s]\n"
     ]
    },
    {
     "name": "stdout",
     "output_type": "stream",
     "text": [
      "SumOfWeights for ttZ_dileptonmass:  1.0\n"
     ]
    },
    {
     "name": "stderr",
     "output_type": "stream",
     "text": [
      "fill ttZ_trileptonmass for /eos/home-j/jiwoong/WZG_DB/2016/merged_data/SingleMuon_Run2016B.root: 100%|██████████| 106/106 [00:00<00:00, 99284.55it/s]\n"
     ]
    },
    {
     "name": "stdout",
     "output_type": "stream",
     "text": [
      "SumOfWeights for ttZ_trileptonmass:  32.0\n"
     ]
    },
    {
     "name": "stderr",
     "output_type": "stream",
     "text": [
      "fill ttG_trileptonmass for /eos/home-j/jiwoong/WZG_DB/2016/merged_data/SingleMuon_Run2016B.root: 100%|██████████| 106/106 [00:00<00:00, 92470.10it/s]\n"
     ]
    },
    {
     "name": "stdout",
     "output_type": "stream",
     "text": [
      "SumOfWeights for ttG_trileptonmass:  0.0\n"
     ]
    },
    {
     "name": "stderr",
     "output_type": "stream",
     "text": [
      "fill MET for /eos/home-j/jiwoong/WZG_DB/2016/merged_data/SingleMuon_Run2016B.root: 100%|██████████| 106/106 [00:00<00:00, 100861.21it/s]\n"
     ]
    },
    {
     "name": "stdout",
     "output_type": "stream",
     "text": [
      "SumOfWeights for MET:  29.0\n"
     ]
    },
    {
     "name": "stderr",
     "output_type": "stream",
     "text": [
      "fill nJets for /eos/home-j/jiwoong/WZG_DB/2016/merged_data/SingleMuon_Run2016B.root: 100%|██████████| 106/106 [00:00<00:00, 98536.40it/s]\n"
     ]
    },
    {
     "name": "stdout",
     "output_type": "stream",
     "text": [
      "SumOfWeights for nJets:  106.0\n"
     ]
    },
    {
     "name": "stderr",
     "output_type": "stream",
     "text": [
      "fill nbJets for /eos/home-j/jiwoong/WZG_DB/2016/merged_data/SingleMuon_Run2016B.root: 100%|██████████| 106/106 [00:00<00:00, 105180.09it/s]\n"
     ]
    },
    {
     "name": "stdout",
     "output_type": "stream",
     "text": [
      "SumOfWeights for nbJets:  106.0\n",
      "Time cost: 2.75\n",
      "\n",
      "is Data\n"
     ]
    },
    {
     "name": "stderr",
     "output_type": "stream",
     "text": [
      "fill WZG_dileptonmass for /eos/home-j/jiwoong/WZG_DB/2016/merged_data/SingleMuon_Run2016C.root: 100%|██████████| 29/29 [00:00<00:00, 72531.20it/s]\n"
     ]
    },
    {
     "name": "stdout",
     "output_type": "stream",
     "text": [
      "SumOfWeights for WZG_dileptonmass:  3.0\n"
     ]
    },
    {
     "name": "stderr",
     "output_type": "stream",
     "text": [
      "fill WZG_trileptonmass for /eos/home-j/jiwoong/WZG_DB/2016/merged_data/SingleMuon_Run2016C.root: 100%|██████████| 29/29 [00:00<00:00, 94071.78it/s]\n"
     ]
    },
    {
     "name": "stdout",
     "output_type": "stream",
     "text": [
      "SumOfWeights for WZG_trileptonmass:  3.0\n"
     ]
    },
    {
     "name": "stderr",
     "output_type": "stream",
     "text": [
      "fill ZZ_mllz1 for /eos/home-j/jiwoong/WZG_DB/2016/merged_data/SingleMuon_Run2016C.root: 100%|██████████| 29/29 [00:00<00:00, 98970.56it/s]\n"
     ]
    },
    {
     "name": "stdout",
     "output_type": "stream",
     "text": [
      "SumOfWeights for ZZ_dileptonmass:  135.0\n"
     ]
    },
    {
     "name": "stderr",
     "output_type": "stream",
     "text": [
      "fill ZZ_trileptonmass for /eos/home-j/jiwoong/WZG_DB/2016/merged_data/SingleMuon_Run2016C.root: 100%|██████████| 29/29 [00:00<00:00, 103255.36it/s]\n"
     ]
    },
    {
     "name": "stdout",
     "output_type": "stream",
     "text": [
      "SumOfWeights for ZZ_trileptonmass:  128.0\n"
     ]
    },
    {
     "name": "stderr",
     "output_type": "stream",
     "text": [
      "fill ZZ_MET for /eos/home-j/jiwoong/WZG_DB/2016/merged_data/SingleMuon_Run2016C.root: 100%|██████████| 29/29 [00:00<00:00, 95624.86it/s]\n"
     ]
    },
    {
     "name": "stdout",
     "output_type": "stream",
     "text": [
      "SumOfWeights for ZZ_MET:  43.0\n"
     ]
    },
    {
     "name": "stderr",
     "output_type": "stream",
     "text": [
      "fill ttZ_dileptonmass for /eos/home-j/jiwoong/WZG_DB/2016/merged_data/SingleMuon_Run2016C.root: 100%|██████████| 29/29 [00:00<00:00, 98809.76it/s]\n"
     ]
    },
    {
     "name": "stdout",
     "output_type": "stream",
     "text": [
      "SumOfWeights for ttZ_dileptonmass:  2.0\n"
     ]
    },
    {
     "name": "stderr",
     "output_type": "stream",
     "text": [
      "fill ttZ_trileptonmass for /eos/home-j/jiwoong/WZG_DB/2016/merged_data/SingleMuon_Run2016C.root: 100%|██████████| 29/29 [00:00<00:00, 87318.60it/s]\n"
     ]
    },
    {
     "name": "stdout",
     "output_type": "stream",
     "text": [
      "SumOfWeights for ttZ_trileptonmass:  43.0\n"
     ]
    },
    {
     "name": "stderr",
     "output_type": "stream",
     "text": [
      "fill ttG_trileptonmass for /eos/home-j/jiwoong/WZG_DB/2016/merged_data/SingleMuon_Run2016C.root: 100%|██████████| 29/29 [00:00<00:00, 102300.10it/s]\n"
     ]
    },
    {
     "name": "stdout",
     "output_type": "stream",
     "text": [
      "SumOfWeights for ttG_trileptonmass:  0.0\n"
     ]
    },
    {
     "name": "stderr",
     "output_type": "stream",
     "text": [
      "fill MET for /eos/home-j/jiwoong/WZG_DB/2016/merged_data/SingleMuon_Run2016C.root: 100%|██████████| 29/29 [00:00<00:00, 98569.54it/s]\n"
     ]
    },
    {
     "name": "stdout",
     "output_type": "stream",
     "text": [
      "SumOfWeights for MET:  43.0\n"
     ]
    },
    {
     "name": "stderr",
     "output_type": "stream",
     "text": [
      "fill nJets for /eos/home-j/jiwoong/WZG_DB/2016/merged_data/SingleMuon_Run2016C.root: 100%|██████████| 29/29 [00:00<00:00, 90033.17it/s]\n"
     ]
    },
    {
     "name": "stdout",
     "output_type": "stream",
     "text": [
      "SumOfWeights for nJets:  135.0\n"
     ]
    },
    {
     "name": "stderr",
     "output_type": "stream",
     "text": [
      "fill nbJets for /eos/home-j/jiwoong/WZG_DB/2016/merged_data/SingleMuon_Run2016C.root: 100%|██████████| 29/29 [00:00<00:00, 97620.24it/s]\n"
     ]
    },
    {
     "name": "stdout",
     "output_type": "stream",
     "text": [
      "SumOfWeights for nbJets:  135.0\n",
      "Time cost: 2.18\n",
      "\n",
      "is Data\n"
     ]
    },
    {
     "name": "stderr",
     "output_type": "stream",
     "text": [
      "fill WZG_dileptonmass for /eos/home-j/jiwoong/WZG_DB/2016/merged_data/SingleMuon_Run2016D.root: 100%|██████████| 53/53 [00:00<00:00, 111204.66it/s]\n"
     ]
    },
    {
     "name": "stdout",
     "output_type": "stream",
     "text": [
      "SumOfWeights for WZG_dileptonmass:  8.0\n"
     ]
    },
    {
     "name": "stderr",
     "output_type": "stream",
     "text": [
      "fill WZG_trileptonmass for /eos/home-j/jiwoong/WZG_DB/2016/merged_data/SingleMuon_Run2016D.root: 100%|██████████| 53/53 [00:00<00:00, 51854.00it/s]\n"
     ]
    },
    {
     "name": "stdout",
     "output_type": "stream",
     "text": [
      "SumOfWeights for WZG_trileptonmass:  8.0\n"
     ]
    },
    {
     "name": "stderr",
     "output_type": "stream",
     "text": [
      "fill ZZ_mllz1 for /eos/home-j/jiwoong/WZG_DB/2016/merged_data/SingleMuon_Run2016D.root: 100%|██████████| 53/53 [00:00<00:00, 63495.60it/s]\n"
     ]
    },
    {
     "name": "stdout",
     "output_type": "stream",
     "text": [
      "SumOfWeights for ZZ_dileptonmass:  188.0\n"
     ]
    },
    {
     "name": "stderr",
     "output_type": "stream",
     "text": [
      "fill ZZ_trileptonmass for /eos/home-j/jiwoong/WZG_DB/2016/merged_data/SingleMuon_Run2016D.root: 100%|██████████| 53/53 [00:00<00:00, 69359.79it/s]\n"
     ]
    },
    {
     "name": "stdout",
     "output_type": "stream",
     "text": [
      "SumOfWeights for ZZ_trileptonmass:  181.0\n"
     ]
    },
    {
     "name": "stderr",
     "output_type": "stream",
     "text": [
      "fill ZZ_MET for /eos/home-j/jiwoong/WZG_DB/2016/merged_data/SingleMuon_Run2016D.root: 100%|██████████| 53/53 [00:00<00:00, 61663.83it/s]\n"
     ]
    },
    {
     "name": "stdout",
     "output_type": "stream",
     "text": [
      "SumOfWeights for ZZ_MET:  58.0\n"
     ]
    },
    {
     "name": "stderr",
     "output_type": "stream",
     "text": [
      "fill ttZ_dileptonmass for /eos/home-j/jiwoong/WZG_DB/2016/merged_data/SingleMuon_Run2016D.root: 100%|██████████| 53/53 [00:00<00:00, 57146.04it/s]\n"
     ]
    },
    {
     "name": "stdout",
     "output_type": "stream",
     "text": [
      "SumOfWeights for ttZ_dileptonmass:  5.0\n"
     ]
    },
    {
     "name": "stderr",
     "output_type": "stream",
     "text": [
      "fill ttZ_trileptonmass for /eos/home-j/jiwoong/WZG_DB/2016/merged_data/SingleMuon_Run2016D.root: 100%|██████████| 53/53 [00:00<00:00, 63897.13it/s]\n"
     ]
    },
    {
     "name": "stdout",
     "output_type": "stream",
     "text": [
      "SumOfWeights for ttZ_trileptonmass:  61.0\n"
     ]
    },
    {
     "name": "stderr",
     "output_type": "stream",
     "text": [
      "fill ttG_trileptonmass for /eos/home-j/jiwoong/WZG_DB/2016/merged_data/SingleMuon_Run2016D.root: 100%|██████████| 53/53 [00:00<00:00, 61578.42it/s]\n"
     ]
    },
    {
     "name": "stdout",
     "output_type": "stream",
     "text": [
      "SumOfWeights for ttG_trileptonmass:  0.0\n"
     ]
    },
    {
     "name": "stderr",
     "output_type": "stream",
     "text": [
      "fill MET for /eos/home-j/jiwoong/WZG_DB/2016/merged_data/SingleMuon_Run2016D.root: 100%|██████████| 53/53 [00:00<00:00, 69729.65it/s]\n"
     ]
    },
    {
     "name": "stdout",
     "output_type": "stream",
     "text": [
      "SumOfWeights for MET:  58.0\n"
     ]
    },
    {
     "name": "stderr",
     "output_type": "stream",
     "text": [
      "fill nJets for /eos/home-j/jiwoong/WZG_DB/2016/merged_data/SingleMuon_Run2016D.root: 100%|██████████| 53/53 [00:00<00:00, 70436.66it/s]\n"
     ]
    },
    {
     "name": "stdout",
     "output_type": "stream",
     "text": [
      "SumOfWeights for nJets:  188.0\n"
     ]
    },
    {
     "name": "stderr",
     "output_type": "stream",
     "text": [
      "fill nbJets for /eos/home-j/jiwoong/WZG_DB/2016/merged_data/SingleMuon_Run2016D.root: 100%|██████████| 53/53 [00:00<00:00, 74696.95it/s]\n"
     ]
    },
    {
     "name": "stdout",
     "output_type": "stream",
     "text": [
      "SumOfWeights for nbJets:  188.0\n",
      "Time cost: 2.08\n",
      "\n",
      "is Data\n"
     ]
    },
    {
     "name": "stderr",
     "output_type": "stream",
     "text": [
      "fill WZG_dileptonmass for /eos/home-j/jiwoong/WZG_DB/2016/merged_data/SingleMuon_Run2016E.root: 100%|██████████| 61/61 [00:00<00:00, 123600.26it/s]\n"
     ]
    },
    {
     "name": "stdout",
     "output_type": "stream",
     "text": [
      "SumOfWeights for WZG_dileptonmass:  11.0\n"
     ]
    },
    {
     "name": "stderr",
     "output_type": "stream",
     "text": [
      "fill WZG_trileptonmass for /eos/home-j/jiwoong/WZG_DB/2016/merged_data/SingleMuon_Run2016E.root: 100%|██████████| 61/61 [00:00<00:00, 65754.96it/s]\n"
     ]
    },
    {
     "name": "stdout",
     "output_type": "stream",
     "text": [
      "SumOfWeights for WZG_trileptonmass:  11.0\n"
     ]
    },
    {
     "name": "stderr",
     "output_type": "stream",
     "text": [
      "fill ZZ_mllz1 for /eos/home-j/jiwoong/WZG_DB/2016/merged_data/SingleMuon_Run2016E.root: 100%|██████████| 61/61 [00:00<00:00, 65251.86it/s]\n"
     ]
    },
    {
     "name": "stdout",
     "output_type": "stream",
     "text": [
      "SumOfWeights for ZZ_dileptonmass:  249.0\n"
     ]
    },
    {
     "name": "stderr",
     "output_type": "stream",
     "text": [
      "fill ZZ_trileptonmass for /eos/home-j/jiwoong/WZG_DB/2016/merged_data/SingleMuon_Run2016E.root: 100%|██████████| 61/61 [00:00<00:00, 62601.55it/s]\n"
     ]
    },
    {
     "name": "stdout",
     "output_type": "stream",
     "text": [
      "SumOfWeights for ZZ_trileptonmass:  239.0\n"
     ]
    },
    {
     "name": "stderr",
     "output_type": "stream",
     "text": [
      "fill ZZ_MET for /eos/home-j/jiwoong/WZG_DB/2016/merged_data/SingleMuon_Run2016E.root: 100%|██████████| 61/61 [00:00<00:00, 62708.96it/s]\n"
     ]
    },
    {
     "name": "stdout",
     "output_type": "stream",
     "text": [
      "SumOfWeights for ZZ_MET:  81.0\n"
     ]
    },
    {
     "name": "stderr",
     "output_type": "stream",
     "text": [
      "fill ttZ_dileptonmass for /eos/home-j/jiwoong/WZG_DB/2016/merged_data/SingleMuon_Run2016E.root: 100%|██████████| 61/61 [00:00<00:00, 60115.73it/s]\n"
     ]
    },
    {
     "name": "stdout",
     "output_type": "stream",
     "text": [
      "SumOfWeights for ttZ_dileptonmass:  5.0\n"
     ]
    },
    {
     "name": "stderr",
     "output_type": "stream",
     "text": [
      "fill ttZ_trileptonmass for /eos/home-j/jiwoong/WZG_DB/2016/merged_data/SingleMuon_Run2016E.root: 100%|██████████| 61/61 [00:00<00:00, 78242.37it/s]\n"
     ]
    },
    {
     "name": "stdout",
     "output_type": "stream",
     "text": [
      "SumOfWeights for ttZ_trileptonmass:  75.0\n"
     ]
    },
    {
     "name": "stderr",
     "output_type": "stream",
     "text": [
      "fill ttG_trileptonmass for /eos/home-j/jiwoong/WZG_DB/2016/merged_data/SingleMuon_Run2016E.root: 100%|██████████| 61/61 [00:00<00:00, 72934.02it/s]\n"
     ]
    },
    {
     "name": "stdout",
     "output_type": "stream",
     "text": [
      "SumOfWeights for ttG_trileptonmass:  0.0\n"
     ]
    },
    {
     "name": "stderr",
     "output_type": "stream",
     "text": [
      "fill MET for /eos/home-j/jiwoong/WZG_DB/2016/merged_data/SingleMuon_Run2016E.root: 100%|██████████| 61/61 [00:00<00:00, 74031.41it/s]\n"
     ]
    },
    {
     "name": "stdout",
     "output_type": "stream",
     "text": [
      "SumOfWeights for MET:  81.0\n"
     ]
    },
    {
     "name": "stderr",
     "output_type": "stream",
     "text": [
      "fill nJets for /eos/home-j/jiwoong/WZG_DB/2016/merged_data/SingleMuon_Run2016E.root: 100%|██████████| 61/61 [00:00<00:00, 76305.56it/s]\n"
     ]
    },
    {
     "name": "stdout",
     "output_type": "stream",
     "text": [
      "SumOfWeights for nJets:  249.0\n"
     ]
    },
    {
     "name": "stderr",
     "output_type": "stream",
     "text": [
      "fill nbJets for /eos/home-j/jiwoong/WZG_DB/2016/merged_data/SingleMuon_Run2016E.root: 100%|██████████| 61/61 [00:00<00:00, 79729.68it/s]\n"
     ]
    },
    {
     "name": "stdout",
     "output_type": "stream",
     "text": [
      "SumOfWeights for nbJets:  249.0\n",
      "Time cost: 2.72\n",
      "\n",
      "is Data\n"
     ]
    },
    {
     "name": "stderr",
     "output_type": "stream",
     "text": [
      "fill WZG_dileptonmass for /eos/home-j/jiwoong/WZG_DB/2016/merged_data/SingleMuon_Run2016F.root: 100%|██████████| 62/62 [00:00<00:00, 121290.51it/s]\n"
     ]
    },
    {
     "name": "stdout",
     "output_type": "stream",
     "text": [
      "SumOfWeights for WZG_dileptonmass:  11.0\n"
     ]
    },
    {
     "name": "stderr",
     "output_type": "stream",
     "text": [
      "fill WZG_trileptonmass for /eos/home-j/jiwoong/WZG_DB/2016/merged_data/SingleMuon_Run2016F.root: 100%|██████████| 62/62 [00:00<00:00, 121177.47it/s]\n"
     ]
    },
    {
     "name": "stdout",
     "output_type": "stream",
     "text": [
      "SumOfWeights for WZG_trileptonmass:  11.0\n"
     ]
    },
    {
     "name": "stderr",
     "output_type": "stream",
     "text": [
      "fill ZZ_mllz1 for /eos/home-j/jiwoong/WZG_DB/2016/merged_data/SingleMuon_Run2016F.root: 100%|██████████| 62/62 [00:00<00:00, 124364.82it/s]\n"
     ]
    },
    {
     "name": "stdout",
     "output_type": "stream",
     "text": [
      "SumOfWeights for ZZ_dileptonmass:  311.0\n"
     ]
    },
    {
     "name": "stderr",
     "output_type": "stream",
     "text": [
      "fill ZZ_trileptonmass for /eos/home-j/jiwoong/WZG_DB/2016/merged_data/SingleMuon_Run2016F.root: 100%|██████████| 62/62 [00:00<00:00, 115371.27it/s]\n"
     ]
    },
    {
     "name": "stdout",
     "output_type": "stream",
     "text": [
      "SumOfWeights for ZZ_trileptonmass:  301.0\n"
     ]
    },
    {
     "name": "stderr",
     "output_type": "stream",
     "text": [
      "fill ZZ_MET for /eos/home-j/jiwoong/WZG_DB/2016/merged_data/SingleMuon_Run2016F.root: 100%|██████████| 62/62 [00:00<00:00, 132003.48it/s]\n"
     ]
    },
    {
     "name": "stdout",
     "output_type": "stream",
     "text": [
      "SumOfWeights for ZZ_MET:  106.0\n"
     ]
    },
    {
     "name": "stderr",
     "output_type": "stream",
     "text": [
      "fill ttZ_dileptonmass for /eos/home-j/jiwoong/WZG_DB/2016/merged_data/SingleMuon_Run2016F.root: 100%|██████████| 62/62 [00:00<00:00, 122374.99it/s]\n"
     ]
    },
    {
     "name": "stdout",
     "output_type": "stream",
     "text": [
      "SumOfWeights for ttZ_dileptonmass:  6.0\n"
     ]
    },
    {
     "name": "stderr",
     "output_type": "stream",
     "text": [
      "fill ttZ_trileptonmass for /eos/home-j/jiwoong/WZG_DB/2016/merged_data/SingleMuon_Run2016F.root: 100%|██████████| 62/62 [00:00<00:00, 126914.03it/s]\n"
     ]
    },
    {
     "name": "stdout",
     "output_type": "stream",
     "text": [
      "SumOfWeights for ttZ_trileptonmass:  92.0\n"
     ]
    },
    {
     "name": "stderr",
     "output_type": "stream",
     "text": [
      "fill ttG_trileptonmass for /eos/home-j/jiwoong/WZG_DB/2016/merged_data/SingleMuon_Run2016F.root: 100%|██████████| 62/62 [00:00<00:00, 121744.78it/s]\n"
     ]
    },
    {
     "name": "stdout",
     "output_type": "stream",
     "text": [
      "SumOfWeights for ttG_trileptonmass:  0.0\n"
     ]
    },
    {
     "name": "stderr",
     "output_type": "stream",
     "text": [
      "fill MET for /eos/home-j/jiwoong/WZG_DB/2016/merged_data/SingleMuon_Run2016F.root: 100%|██████████| 62/62 [00:00<00:00, 124305.38it/s]\n"
     ]
    },
    {
     "name": "stdout",
     "output_type": "stream",
     "text": [
      "SumOfWeights for MET:  106.0\n"
     ]
    },
    {
     "name": "stderr",
     "output_type": "stream",
     "text": [
      "fill nJets for /eos/home-j/jiwoong/WZG_DB/2016/merged_data/SingleMuon_Run2016F.root: 100%|██████████| 62/62 [00:00<00:00, 124305.38it/s]\n"
     ]
    },
    {
     "name": "stdout",
     "output_type": "stream",
     "text": [
      "SumOfWeights for nJets:  311.0\n"
     ]
    },
    {
     "name": "stderr",
     "output_type": "stream",
     "text": [
      "fill nbJets for /eos/home-j/jiwoong/WZG_DB/2016/merged_data/SingleMuon_Run2016F.root: 100%|██████████| 62/62 [00:00<00:00, 132474.20it/s]\n"
     ]
    },
    {
     "name": "stdout",
     "output_type": "stream",
     "text": [
      "SumOfWeights for nbJets:  311.0\n",
      "Time cost: 2.30\n",
      "\n",
      "is Data\n"
     ]
    },
    {
     "name": "stderr",
     "output_type": "stream",
     "text": [
      "fill WZG_dileptonmass for /eos/home-j/jiwoong/WZG_DB/2016/merged_data/SingleMuon_Run2016G.root: 100%|██████████| 122/122 [00:00<00:00, 106583.02it/s]\n"
     ]
    },
    {
     "name": "stdout",
     "output_type": "stream",
     "text": [
      "SumOfWeights for WZG_dileptonmass:  16.0\n"
     ]
    },
    {
     "name": "stderr",
     "output_type": "stream",
     "text": [
      "fill WZG_trileptonmass for /eos/home-j/jiwoong/WZG_DB/2016/merged_data/SingleMuon_Run2016G.root: 100%|██████████| 122/122 [00:00<00:00, 102095.99it/s]\n"
     ]
    },
    {
     "name": "stdout",
     "output_type": "stream",
     "text": [
      "SumOfWeights for WZG_trileptonmass:  16.0\n"
     ]
    },
    {
     "name": "stderr",
     "output_type": "stream",
     "text": [
      "fill ZZ_mllz1 for /eos/home-j/jiwoong/WZG_DB/2016/merged_data/SingleMuon_Run2016G.root: 100%|██████████| 122/122 [00:00<00:00, 114016.29it/s]\n"
     ]
    },
    {
     "name": "stdout",
     "output_type": "stream",
     "text": [
      "SumOfWeights for ZZ_dileptonmass:  433.0\n"
     ]
    },
    {
     "name": "stderr",
     "output_type": "stream",
     "text": [
      "fill ZZ_trileptonmass for /eos/home-j/jiwoong/WZG_DB/2016/merged_data/SingleMuon_Run2016G.root: 100%|██████████| 122/122 [00:00<00:00, 103249.61it/s]\n"
     ]
    },
    {
     "name": "stdout",
     "output_type": "stream",
     "text": [
      "SumOfWeights for ZZ_trileptonmass:  421.0\n"
     ]
    },
    {
     "name": "stderr",
     "output_type": "stream",
     "text": [
      "fill ZZ_MET for /eos/home-j/jiwoong/WZG_DB/2016/merged_data/SingleMuon_Run2016G.root: 100%|██████████| 122/122 [00:00<00:00, 85483.64it/s]\n"
     ]
    },
    {
     "name": "stdout",
     "output_type": "stream",
     "text": [
      "SumOfWeights for ZZ_MET:  157.0\n"
     ]
    },
    {
     "name": "stderr",
     "output_type": "stream",
     "text": [
      "fill ttZ_dileptonmass for /eos/home-j/jiwoong/WZG_DB/2016/merged_data/SingleMuon_Run2016G.root: 100%|██████████| 122/122 [00:00<00:00, 118094.87it/s]\n"
     ]
    },
    {
     "name": "stdout",
     "output_type": "stream",
     "text": [
      "SumOfWeights for ttZ_dileptonmass:  10.0\n"
     ]
    },
    {
     "name": "stderr",
     "output_type": "stream",
     "text": [
      "fill ttZ_trileptonmass for /eos/home-j/jiwoong/WZG_DB/2016/merged_data/SingleMuon_Run2016G.root: 100%|██████████| 122/122 [00:00<00:00, 121228.40it/s]\n"
     ]
    },
    {
     "name": "stdout",
     "output_type": "stream",
     "text": [
      "SumOfWeights for ttZ_trileptonmass:  133.0\n"
     ]
    },
    {
     "name": "stderr",
     "output_type": "stream",
     "text": [
      "fill ttG_trileptonmass for /eos/home-j/jiwoong/WZG_DB/2016/merged_data/SingleMuon_Run2016G.root: 100%|██████████| 122/122 [00:00<00:00, 124684.48it/s]\n"
     ]
    },
    {
     "name": "stdout",
     "output_type": "stream",
     "text": [
      "SumOfWeights for ttG_trileptonmass:  0.0\n"
     ]
    },
    {
     "name": "stderr",
     "output_type": "stream",
     "text": [
      "fill MET for /eos/home-j/jiwoong/WZG_DB/2016/merged_data/SingleMuon_Run2016G.root: 100%|██████████| 122/122 [00:00<00:00, 114398.63it/s]\n"
     ]
    },
    {
     "name": "stdout",
     "output_type": "stream",
     "text": [
      "SumOfWeights for MET:  157.0\n"
     ]
    },
    {
     "name": "stderr",
     "output_type": "stream",
     "text": [
      "fill nJets for /eos/home-j/jiwoong/WZG_DB/2016/merged_data/SingleMuon_Run2016G.root: 100%|██████████| 122/122 [00:00<00:00, 112685.55it/s]\n"
     ]
    },
    {
     "name": "stdout",
     "output_type": "stream",
     "text": [
      "SumOfWeights for nJets:  433.0\n"
     ]
    },
    {
     "name": "stderr",
     "output_type": "stream",
     "text": [
      "fill nbJets for /eos/home-j/jiwoong/WZG_DB/2016/merged_data/SingleMuon_Run2016G.root: 100%|██████████| 122/122 [00:00<00:00, 124897.51it/s]\n"
     ]
    },
    {
     "name": "stdout",
     "output_type": "stream",
     "text": [
      "SumOfWeights for nbJets:  433.0\n",
      "Time cost: 2.81\n",
      "\n",
      "is Data\n"
     ]
    },
    {
     "name": "stderr",
     "output_type": "stream",
     "text": [
      "fill WZG_dileptonmass for /eos/home-j/jiwoong/WZG_DB/2016/merged_data/SingleMuon_Run2016H.root: 100%|██████████| 141/141 [00:00<00:00, 112862.00it/s]\n"
     ]
    },
    {
     "name": "stdout",
     "output_type": "stream",
     "text": [
      "SumOfWeights for WZG_dileptonmass:  25.0\n"
     ]
    },
    {
     "name": "stderr",
     "output_type": "stream",
     "text": [
      "fill WZG_trileptonmass for /eos/home-j/jiwoong/WZG_DB/2016/merged_data/SingleMuon_Run2016H.root: 100%|██████████| 141/141 [00:00<00:00, 112262.12it/s]\n"
     ]
    },
    {
     "name": "stdout",
     "output_type": "stream",
     "text": [
      "SumOfWeights for WZG_trileptonmass:  25.0\n"
     ]
    },
    {
     "name": "stderr",
     "output_type": "stream",
     "text": [
      "fill ZZ_mllz1 for /eos/home-j/jiwoong/WZG_DB/2016/merged_data/SingleMuon_Run2016H.root: 100%|██████████| 141/141 [00:00<00:00, 115417.03it/s]\n"
     ]
    },
    {
     "name": "stdout",
     "output_type": "stream",
     "text": [
      "SumOfWeights for ZZ_dileptonmass:  574.0\n"
     ]
    },
    {
     "name": "stderr",
     "output_type": "stream",
     "text": [
      "fill ZZ_trileptonmass for /eos/home-j/jiwoong/WZG_DB/2016/merged_data/SingleMuon_Run2016H.root: 100%|██████████| 141/141 [00:00<00:00, 119522.41it/s]\n"
     ]
    },
    {
     "name": "stdout",
     "output_type": "stream",
     "text": [
      "SumOfWeights for ZZ_trileptonmass:  561.0\n"
     ]
    },
    {
     "name": "stderr",
     "output_type": "stream",
     "text": [
      "fill ZZ_MET for /eos/home-j/jiwoong/WZG_DB/2016/merged_data/SingleMuon_Run2016H.root: 100%|██████████| 141/141 [00:00<00:00, 119885.84it/s]\n"
     ]
    },
    {
     "name": "stdout",
     "output_type": "stream",
     "text": [
      "SumOfWeights for ZZ_MET:  211.0\n"
     ]
    },
    {
     "name": "stderr",
     "output_type": "stream",
     "text": [
      "fill ttZ_dileptonmass for /eos/home-j/jiwoong/WZG_DB/2016/merged_data/SingleMuon_Run2016H.root: 100%|██████████| 141/141 [00:00<00:00, 118945.47it/s]\n"
     ]
    },
    {
     "name": "stdout",
     "output_type": "stream",
     "text": [
      "SumOfWeights for ttZ_dileptonmass:  10.0\n"
     ]
    },
    {
     "name": "stderr",
     "output_type": "stream",
     "text": [
      "fill ttZ_trileptonmass for /eos/home-j/jiwoong/WZG_DB/2016/merged_data/SingleMuon_Run2016H.root: 100%|██████████| 141/141 [00:00<00:00, 70295.60it/s]\n"
     ]
    },
    {
     "name": "stdout",
     "output_type": "stream",
     "text": [
      "SumOfWeights for ttZ_trileptonmass:  170.0\n"
     ]
    },
    {
     "name": "stderr",
     "output_type": "stream",
     "text": [
      "fill ttG_trileptonmass for /eos/home-j/jiwoong/WZG_DB/2016/merged_data/SingleMuon_Run2016H.root: 100%|██████████| 141/141 [00:00<00:00, 77014.83it/s]\n"
     ]
    },
    {
     "name": "stdout",
     "output_type": "stream",
     "text": [
      "SumOfWeights for ttG_trileptonmass:  1.0\n"
     ]
    },
    {
     "name": "stderr",
     "output_type": "stream",
     "text": [
      "fill MET for /eos/home-j/jiwoong/WZG_DB/2016/merged_data/SingleMuon_Run2016H.root: 100%|██████████| 141/141 [00:00<00:00, 79875.32it/s]\n"
     ]
    },
    {
     "name": "stdout",
     "output_type": "stream",
     "text": [
      "SumOfWeights for MET:  211.0\n"
     ]
    },
    {
     "name": "stderr",
     "output_type": "stream",
     "text": [
      "fill nJets for /eos/home-j/jiwoong/WZG_DB/2016/merged_data/SingleMuon_Run2016H.root: 100%|██████████| 141/141 [00:00<00:00, 81628.28it/s]\n"
     ]
    },
    {
     "name": "stdout",
     "output_type": "stream",
     "text": [
      "SumOfWeights for nJets:  573.0\n"
     ]
    },
    {
     "name": "stderr",
     "output_type": "stream",
     "text": [
      "fill nbJets for /eos/home-j/jiwoong/WZG_DB/2016/merged_data/SingleMuon_Run2016H.root: 100%|██████████| 141/141 [00:00<00:00, 85598.04it/s]\n"
     ]
    },
    {
     "name": "stdout",
     "output_type": "stream",
     "text": [
      "SumOfWeights for nbJets:  574.0\n",
      "Time cost: 2.60\n",
      "\n",
      "is Data\n"
     ]
    },
    {
     "name": "stderr",
     "output_type": "stream",
     "text": [
      "fill WZG_dileptonmass for /eos/home-j/jiwoong/WZG_DB/2016/merged_data/DoubleMuon_Run2016B.root: 100%|██████████| 2/2 [00:00<00:00, 12409.18it/s]\n"
     ]
    },
    {
     "name": "stdout",
     "output_type": "stream",
     "text": [
      "SumOfWeights for WZG_dileptonmass:  25.0\n"
     ]
    },
    {
     "name": "stderr",
     "output_type": "stream",
     "text": [
      "fill WZG_trileptonmass for /eos/home-j/jiwoong/WZG_DB/2016/merged_data/DoubleMuon_Run2016B.root: 100%|██████████| 2/2 [00:00<00:00, 18641.35it/s]\n"
     ]
    },
    {
     "name": "stdout",
     "output_type": "stream",
     "text": [
      "SumOfWeights for WZG_trileptonmass:  25.0\n"
     ]
    },
    {
     "name": "stderr",
     "output_type": "stream",
     "text": [
      "fill ZZ_mllz1 for /eos/home-j/jiwoong/WZG_DB/2016/merged_data/DoubleMuon_Run2016B.root: 100%|██████████| 2/2 [00:00<00:00, 13640.01it/s]\n"
     ]
    },
    {
     "name": "stdout",
     "output_type": "stream",
     "text": [
      "SumOfWeights for ZZ_dileptonmass:  576.0\n"
     ]
    },
    {
     "name": "stderr",
     "output_type": "stream",
     "text": [
      "fill ZZ_trileptonmass for /eos/home-j/jiwoong/WZG_DB/2016/merged_data/DoubleMuon_Run2016B.root: 100%|██████████| 2/2 [00:00<00:00, 14339.50it/s]\n"
     ]
    },
    {
     "name": "stdout",
     "output_type": "stream",
     "text": [
      "SumOfWeights for ZZ_trileptonmass:  563.0\n"
     ]
    },
    {
     "name": "stderr",
     "output_type": "stream",
     "text": [
      "fill ZZ_MET for /eos/home-j/jiwoong/WZG_DB/2016/merged_data/DoubleMuon_Run2016B.root: 100%|██████████| 2/2 [00:00<00:00, 14217.98it/s]\n"
     ]
    },
    {
     "name": "stdout",
     "output_type": "stream",
     "text": [
      "SumOfWeights for ZZ_MET:  211.0\n"
     ]
    },
    {
     "name": "stderr",
     "output_type": "stream",
     "text": [
      "fill ttZ_dileptonmass for /eos/home-j/jiwoong/WZG_DB/2016/merged_data/DoubleMuon_Run2016B.root: 100%|██████████| 2/2 [00:00<00:00, 13934.56it/s]\n"
     ]
    },
    {
     "name": "stdout",
     "output_type": "stream",
     "text": [
      "SumOfWeights for ttZ_dileptonmass:  10.0\n"
     ]
    },
    {
     "name": "stderr",
     "output_type": "stream",
     "text": [
      "fill ttZ_trileptonmass for /eos/home-j/jiwoong/WZG_DB/2016/merged_data/DoubleMuon_Run2016B.root: 100%|██████████| 2/2 [00:00<00:00, 14146.05it/s]\n"
     ]
    },
    {
     "name": "stdout",
     "output_type": "stream",
     "text": [
      "SumOfWeights for ttZ_trileptonmass:  170.0\n"
     ]
    },
    {
     "name": "stderr",
     "output_type": "stream",
     "text": [
      "fill ttG_trileptonmass for /eos/home-j/jiwoong/WZG_DB/2016/merged_data/DoubleMuon_Run2016B.root: 100%|██████████| 2/2 [00:00<00:00, 13378.96it/s]\n"
     ]
    },
    {
     "name": "stdout",
     "output_type": "stream",
     "text": [
      "SumOfWeights for ttG_trileptonmass:  1.0\n"
     ]
    },
    {
     "name": "stderr",
     "output_type": "stream",
     "text": [
      "fill MET for /eos/home-j/jiwoong/WZG_DB/2016/merged_data/DoubleMuon_Run2016B.root: 100%|██████████| 2/2 [00:00<00:00, 14463.12it/s]\n"
     ]
    },
    {
     "name": "stdout",
     "output_type": "stream",
     "text": [
      "SumOfWeights for MET:  211.0\n"
     ]
    },
    {
     "name": "stderr",
     "output_type": "stream",
     "text": [
      "fill nJets for /eos/home-j/jiwoong/WZG_DB/2016/merged_data/DoubleMuon_Run2016B.root: 100%|██████████| 2/2 [00:00<00:00, 14315.03it/s]\n"
     ]
    },
    {
     "name": "stdout",
     "output_type": "stream",
     "text": [
      "SumOfWeights for nJets:  575.0\n"
     ]
    },
    {
     "name": "stderr",
     "output_type": "stream",
     "text": [
      "fill nbJets for /eos/home-j/jiwoong/WZG_DB/2016/merged_data/DoubleMuon_Run2016B.root: 100%|██████████| 2/2 [00:00<00:00, 15196.75it/s]\n"
     ]
    },
    {
     "name": "stdout",
     "output_type": "stream",
     "text": [
      "SumOfWeights for nbJets:  576.0\n",
      "Time cost: 2.63\n",
      "\n",
      "is Data\n"
     ]
    },
    {
     "name": "stderr",
     "output_type": "stream",
     "text": [
      "fill WZG_dileptonmass for /eos/home-j/jiwoong/WZG_DB/2016/merged_data/DoubleMuon_Run2016C.root: 100%|██████████| 2/2 [00:00<00:00, 10837.99it/s]\n"
     ]
    },
    {
     "name": "stdout",
     "output_type": "stream",
     "text": [
      "SumOfWeights for WZG_dileptonmass:  26.0\n"
     ]
    },
    {
     "name": "stderr",
     "output_type": "stream",
     "text": [
      "fill WZG_trileptonmass for /eos/home-j/jiwoong/WZG_DB/2016/merged_data/DoubleMuon_Run2016C.root: 100%|██████████| 2/2 [00:00<00:00, 13662.23it/s]\n"
     ]
    },
    {
     "name": "stdout",
     "output_type": "stream",
     "text": [
      "SumOfWeights for WZG_trileptonmass:  26.0\n"
     ]
    },
    {
     "name": "stderr",
     "output_type": "stream",
     "text": [
      "fill ZZ_mllz1 for /eos/home-j/jiwoong/WZG_DB/2016/merged_data/DoubleMuon_Run2016C.root: 100%|██████████| 2/2 [00:00<00:00, 13378.96it/s]\n"
     ]
    },
    {
     "name": "stdout",
     "output_type": "stream",
     "text": [
      "SumOfWeights for ZZ_dileptonmass:  578.0\n"
     ]
    },
    {
     "name": "stderr",
     "output_type": "stream",
     "text": [
      "fill ZZ_trileptonmass for /eos/home-j/jiwoong/WZG_DB/2016/merged_data/DoubleMuon_Run2016C.root: 100%|██████████| 2/2 [00:00<00:00, 11491.24it/s]\n"
     ]
    },
    {
     "name": "stdout",
     "output_type": "stream",
     "text": [
      "SumOfWeights for ZZ_trileptonmass:  565.0\n"
     ]
    },
    {
     "name": "stderr",
     "output_type": "stream",
     "text": [
      "fill ZZ_MET for /eos/home-j/jiwoong/WZG_DB/2016/merged_data/DoubleMuon_Run2016C.root: 100%|██████████| 2/2 [00:00<00:00, 15827.56it/s]\n"
     ]
    },
    {
     "name": "stdout",
     "output_type": "stream",
     "text": [
      "SumOfWeights for ZZ_MET:  212.0\n"
     ]
    },
    {
     "name": "stderr",
     "output_type": "stream",
     "text": [
      "fill ttZ_dileptonmass for /eos/home-j/jiwoong/WZG_DB/2016/merged_data/DoubleMuon_Run2016C.root: 100%|██████████| 2/2 [00:00<00:00, 13911.46it/s]\n"
     ]
    },
    {
     "name": "stdout",
     "output_type": "stream",
     "text": [
      "SumOfWeights for ttZ_dileptonmass:  10.0\n"
     ]
    },
    {
     "name": "stderr",
     "output_type": "stream",
     "text": [
      "fill ttZ_trileptonmass for /eos/home-j/jiwoong/WZG_DB/2016/merged_data/DoubleMuon_Run2016C.root: 100%|██████████| 2/2 [00:00<00:00, 14051.27it/s]\n"
     ]
    },
    {
     "name": "stdout",
     "output_type": "stream",
     "text": [
      "SumOfWeights for ttZ_trileptonmass:  172.0\n"
     ]
    },
    {
     "name": "stderr",
     "output_type": "stream",
     "text": [
      "fill ttG_trileptonmass for /eos/home-j/jiwoong/WZG_DB/2016/merged_data/DoubleMuon_Run2016C.root: 100%|██████████| 2/2 [00:00<00:00, 16416.06it/s]\n"
     ]
    },
    {
     "name": "stdout",
     "output_type": "stream",
     "text": [
      "SumOfWeights for ttG_trileptonmass:  1.0\n"
     ]
    },
    {
     "name": "stderr",
     "output_type": "stream",
     "text": [
      "fill MET for /eos/home-j/jiwoong/WZG_DB/2016/merged_data/DoubleMuon_Run2016C.root: 100%|██████████| 2/2 [00:00<00:00, 16288.56it/s]\n"
     ]
    },
    {
     "name": "stdout",
     "output_type": "stream",
     "text": [
      "SumOfWeights for MET:  212.0\n"
     ]
    },
    {
     "name": "stderr",
     "output_type": "stream",
     "text": [
      "fill nJets for /eos/home-j/jiwoong/WZG_DB/2016/merged_data/DoubleMuon_Run2016C.root: 100%|██████████| 2/2 [00:00<00:00, 14742.72it/s]\n"
     ]
    },
    {
     "name": "stdout",
     "output_type": "stream",
     "text": [
      "SumOfWeights for nJets:  577.0\n"
     ]
    },
    {
     "name": "stderr",
     "output_type": "stream",
     "text": [
      "fill nbJets for /eos/home-j/jiwoong/WZG_DB/2016/merged_data/DoubleMuon_Run2016C.root: 100%|██████████| 2/2 [00:00<00:00, 15033.35it/s]\n"
     ]
    },
    {
     "name": "stdout",
     "output_type": "stream",
     "text": [
      "SumOfWeights for nbJets:  578.0\n",
      "Time cost: 2.02\n",
      "\n",
      "is Data\n"
     ]
    },
    {
     "name": "stderr",
     "output_type": "stream",
     "text": [
      "fill WZG_dileptonmass for /eos/home-j/jiwoong/WZG_DB/2016/merged_data/DoubleMuon_Run2016D.root: 100%|██████████| 1/1 [00:00<00:00, 3872.86it/s]\n"
     ]
    },
    {
     "name": "stdout",
     "output_type": "stream",
     "text": [
      "SumOfWeights for WZG_dileptonmass:  26.0\n"
     ]
    },
    {
     "name": "stderr",
     "output_type": "stream",
     "text": [
      "fill WZG_trileptonmass for /eos/home-j/jiwoong/WZG_DB/2016/merged_data/DoubleMuon_Run2016D.root: 100%|██████████| 1/1 [00:00<00:00, 3194.44it/s]\n"
     ]
    },
    {
     "name": "stdout",
     "output_type": "stream",
     "text": [
      "SumOfWeights for WZG_trileptonmass:  26.0\n"
     ]
    },
    {
     "name": "stderr",
     "output_type": "stream",
     "text": [
      "fill ZZ_mllz1 for /eos/home-j/jiwoong/WZG_DB/2016/merged_data/DoubleMuon_Run2016D.root: 100%|██████████| 1/1 [00:00<00:00, 6502.80it/s]\n"
     ]
    },
    {
     "name": "stdout",
     "output_type": "stream",
     "text": [
      "SumOfWeights for ZZ_dileptonmass:  579.0\n"
     ]
    },
    {
     "name": "stderr",
     "output_type": "stream",
     "text": [
      "fill ZZ_trileptonmass for /eos/home-j/jiwoong/WZG_DB/2016/merged_data/DoubleMuon_Run2016D.root: 100%|██████████| 1/1 [00:00<00:00, 7013.89it/s]\n"
     ]
    },
    {
     "name": "stdout",
     "output_type": "stream",
     "text": [
      "SumOfWeights for ZZ_trileptonmass:  566.0\n"
     ]
    },
    {
     "name": "stderr",
     "output_type": "stream",
     "text": [
      "fill ZZ_MET for /eos/home-j/jiwoong/WZG_DB/2016/merged_data/DoubleMuon_Run2016D.root: 100%|██████████| 1/1 [00:00<00:00, 3483.64it/s]\n"
     ]
    },
    {
     "name": "stdout",
     "output_type": "stream",
     "text": [
      "SumOfWeights for ZZ_MET:  212.0\n"
     ]
    },
    {
     "name": "stderr",
     "output_type": "stream",
     "text": [
      "fill ttZ_dileptonmass for /eos/home-j/jiwoong/WZG_DB/2016/merged_data/DoubleMuon_Run2016D.root: 100%|██████████| 1/1 [00:00<00:00, 6978.88it/s]\n"
     ]
    },
    {
     "name": "stdout",
     "output_type": "stream",
     "text": [
      "SumOfWeights for ttZ_dileptonmass:  10.0\n"
     ]
    },
    {
     "name": "stderr",
     "output_type": "stream",
     "text": [
      "fill ttZ_trileptonmass for /eos/home-j/jiwoong/WZG_DB/2016/merged_data/DoubleMuon_Run2016D.root: 100%|██████████| 1/1 [00:00<00:00, 8371.86it/s]\n"
     ]
    },
    {
     "name": "stdout",
     "output_type": "stream",
     "text": [
      "SumOfWeights for ttZ_trileptonmass:  173.0\n"
     ]
    },
    {
     "name": "stderr",
     "output_type": "stream",
     "text": [
      "fill ttG_trileptonmass for /eos/home-j/jiwoong/WZG_DB/2016/merged_data/DoubleMuon_Run2016D.root: 100%|██████████| 1/1 [00:00<00:00, 6743.25it/s]\n"
     ]
    },
    {
     "name": "stdout",
     "output_type": "stream",
     "text": [
      "SumOfWeights for ttG_trileptonmass:  1.0\n"
     ]
    },
    {
     "name": "stderr",
     "output_type": "stream",
     "text": [
      "fill MET for /eos/home-j/jiwoong/WZG_DB/2016/merged_data/DoubleMuon_Run2016D.root: 100%|██████████| 1/1 [00:00<00:00, 8683.86it/s]\n"
     ]
    },
    {
     "name": "stdout",
     "output_type": "stream",
     "text": [
      "SumOfWeights for MET:  212.0\n"
     ]
    },
    {
     "name": "stderr",
     "output_type": "stream",
     "text": [
      "fill nJets for /eos/home-j/jiwoong/WZG_DB/2016/merged_data/DoubleMuon_Run2016D.root: 100%|██████████| 1/1 [00:00<00:00, 7639.90it/s]\n"
     ]
    },
    {
     "name": "stdout",
     "output_type": "stream",
     "text": [
      "SumOfWeights for nJets:  578.0\n"
     ]
    },
    {
     "name": "stderr",
     "output_type": "stream",
     "text": [
      "fill nbJets for /eos/home-j/jiwoong/WZG_DB/2016/merged_data/DoubleMuon_Run2016D.root: 100%|██████████| 1/1 [00:00<00:00, 8830.11it/s]\n"
     ]
    },
    {
     "name": "stdout",
     "output_type": "stream",
     "text": [
      "SumOfWeights for nbJets:  579.0\n",
      "Time cost: 1.91\n",
      "\n",
      "is Data\n"
     ]
    },
    {
     "name": "stderr",
     "output_type": "stream",
     "text": [
      "fill WZG_dileptonmass for /eos/home-j/jiwoong/WZG_DB/2016/merged_data/DoubleMuon_Run2016E.root: 100%|██████████| 4/4 [00:00<00:00, 18137.53it/s]\n"
     ]
    },
    {
     "name": "stdout",
     "output_type": "stream",
     "text": [
      "SumOfWeights for WZG_dileptonmass:  27.0\n"
     ]
    },
    {
     "name": "stderr",
     "output_type": "stream",
     "text": [
      "fill WZG_trileptonmass for /eos/home-j/jiwoong/WZG_DB/2016/merged_data/DoubleMuon_Run2016E.root: 100%|██████████| 4/4 [00:00<00:00, 12009.46it/s]\n"
     ]
    },
    {
     "name": "stdout",
     "output_type": "stream",
     "text": [
      "SumOfWeights for WZG_trileptonmass:  27.0\n"
     ]
    },
    {
     "name": "stderr",
     "output_type": "stream",
     "text": [
      "fill ZZ_mllz1 for /eos/home-j/jiwoong/WZG_DB/2016/merged_data/DoubleMuon_Run2016E.root: 100%|██████████| 4/4 [00:00<00:00, 16352.06it/s]\n"
     ]
    },
    {
     "name": "stdout",
     "output_type": "stream",
     "text": [
      "SumOfWeights for ZZ_dileptonmass:  583.0\n"
     ]
    },
    {
     "name": "stderr",
     "output_type": "stream",
     "text": [
      "fill ZZ_trileptonmass for /eos/home-j/jiwoong/WZG_DB/2016/merged_data/DoubleMuon_Run2016E.root: 100%|██████████| 4/4 [00:00<00:00, 17549.39it/s]\n"
     ]
    },
    {
     "name": "stdout",
     "output_type": "stream",
     "text": [
      "SumOfWeights for ZZ_trileptonmass:  570.0\n"
     ]
    },
    {
     "name": "stderr",
     "output_type": "stream",
     "text": [
      "fill ZZ_MET for /eos/home-j/jiwoong/WZG_DB/2016/merged_data/DoubleMuon_Run2016E.root: 100%|██████████| 4/4 [00:00<00:00, 17678.84it/s]\n"
     ]
    },
    {
     "name": "stdout",
     "output_type": "stream",
     "text": [
      "SumOfWeights for ZZ_MET:  215.0\n"
     ]
    },
    {
     "name": "stderr",
     "output_type": "stream",
     "text": [
      "fill ttZ_dileptonmass for /eos/home-j/jiwoong/WZG_DB/2016/merged_data/DoubleMuon_Run2016E.root: 100%|██████████| 4/4 [00:00<00:00, 17403.75it/s]\n"
     ]
    },
    {
     "name": "stdout",
     "output_type": "stream",
     "text": [
      "SumOfWeights for ttZ_dileptonmass:  10.0\n"
     ]
    },
    {
     "name": "stderr",
     "output_type": "stream",
     "text": [
      "fill ttZ_trileptonmass for /eos/home-j/jiwoong/WZG_DB/2016/merged_data/DoubleMuon_Run2016E.root: 100%|██████████| 4/4 [00:00<00:00, 12633.45it/s]\n"
     ]
    },
    {
     "name": "stdout",
     "output_type": "stream",
     "text": [
      "SumOfWeights for ttZ_trileptonmass:  173.0\n"
     ]
    },
    {
     "name": "stderr",
     "output_type": "stream",
     "text": [
      "fill ttG_trileptonmass for /eos/home-j/jiwoong/WZG_DB/2016/merged_data/DoubleMuon_Run2016E.root: 100%|██████████| 4/4 [00:00<00:00, 19217.89it/s]\n"
     ]
    },
    {
     "name": "stdout",
     "output_type": "stream",
     "text": [
      "SumOfWeights for ttG_trileptonmass:  1.0\n"
     ]
    },
    {
     "name": "stderr",
     "output_type": "stream",
     "text": [
      "fill MET for /eos/home-j/jiwoong/WZG_DB/2016/merged_data/DoubleMuon_Run2016E.root: 100%|██████████| 4/4 [00:00<00:00, 10518.63it/s]\n"
     ]
    },
    {
     "name": "stdout",
     "output_type": "stream",
     "text": [
      "SumOfWeights for MET:  215.0\n"
     ]
    },
    {
     "name": "stderr",
     "output_type": "stream",
     "text": [
      "fill nJets for /eos/home-j/jiwoong/WZG_DB/2016/merged_data/DoubleMuon_Run2016E.root: 100%|██████████| 4/4 [00:00<00:00, 20116.57it/s]\n"
     ]
    },
    {
     "name": "stdout",
     "output_type": "stream",
     "text": [
      "SumOfWeights for nJets:  582.0\n"
     ]
    },
    {
     "name": "stderr",
     "output_type": "stream",
     "text": [
      "fill nbJets for /eos/home-j/jiwoong/WZG_DB/2016/merged_data/DoubleMuon_Run2016E.root: 100%|██████████| 4/4 [00:00<00:00, 21050.46it/s]\n"
     ]
    },
    {
     "name": "stdout",
     "output_type": "stream",
     "text": [
      "SumOfWeights for nbJets:  583.0\n",
      "Time cost: 2.18\n",
      "\n",
      "is Data\n"
     ]
    },
    {
     "name": "stderr",
     "output_type": "stream",
     "text": [
      "fill WZG_dileptonmass for /eos/home-j/jiwoong/WZG_DB/2016/merged_data/DoubleMuon_Run2016F.root: 100%|██████████| 2/2 [00:00<00:00, 8594.89it/s]\n"
     ]
    },
    {
     "name": "stdout",
     "output_type": "stream",
     "text": [
      "SumOfWeights for WZG_dileptonmass:  27.0\n"
     ]
    },
    {
     "name": "stderr",
     "output_type": "stream",
     "text": [
      "fill WZG_trileptonmass for /eos/home-j/jiwoong/WZG_DB/2016/merged_data/DoubleMuon_Run2016F.root: 100%|██████████| 2/2 [00:00<00:00, 11397.57it/s]\n"
     ]
    },
    {
     "name": "stdout",
     "output_type": "stream",
     "text": [
      "SumOfWeights for WZG_trileptonmass:  27.0\n"
     ]
    },
    {
     "name": "stderr",
     "output_type": "stream",
     "text": [
      "fill ZZ_mllz1 for /eos/home-j/jiwoong/WZG_DB/2016/merged_data/DoubleMuon_Run2016F.root: 100%|██████████| 2/2 [00:00<00:00, 13486.51it/s]\n"
     ]
    },
    {
     "name": "stdout",
     "output_type": "stream",
     "text": [
      "SumOfWeights for ZZ_dileptonmass:  585.0\n"
     ]
    },
    {
     "name": "stderr",
     "output_type": "stream",
     "text": [
      "fill ZZ_trileptonmass for /eos/home-j/jiwoong/WZG_DB/2016/merged_data/DoubleMuon_Run2016F.root: 100%|██████████| 2/2 [00:00<00:00, 13662.23it/s]\n"
     ]
    },
    {
     "name": "stdout",
     "output_type": "stream",
     "text": [
      "SumOfWeights for ZZ_trileptonmass:  572.0\n"
     ]
    },
    {
     "name": "stderr",
     "output_type": "stream",
     "text": [
      "fill ZZ_MET for /eos/home-j/jiwoong/WZG_DB/2016/merged_data/DoubleMuon_Run2016F.root: 100%|██████████| 2/2 [00:00<00:00, 13025.79it/s]\n"
     ]
    },
    {
     "name": "stdout",
     "output_type": "stream",
     "text": [
      "SumOfWeights for ZZ_MET:  216.0\n"
     ]
    },
    {
     "name": "stderr",
     "output_type": "stream",
     "text": [
      "fill ttZ_dileptonmass for /eos/home-j/jiwoong/WZG_DB/2016/merged_data/DoubleMuon_Run2016F.root: 100%|██████████| 2/2 [00:00<00:00, 13842.59it/s]\n"
     ]
    },
    {
     "name": "stdout",
     "output_type": "stream",
     "text": [
      "SumOfWeights for ttZ_dileptonmass:  10.0\n"
     ]
    },
    {
     "name": "stderr",
     "output_type": "stream",
     "text": [
      "fill ttZ_trileptonmass for /eos/home-j/jiwoong/WZG_DB/2016/merged_data/DoubleMuon_Run2016F.root: 100%|██████████| 2/2 [00:00<00:00, 12671.61it/s]\n"
     ]
    },
    {
     "name": "stdout",
     "output_type": "stream",
     "text": [
      "SumOfWeights for ttZ_trileptonmass:  174.0\n"
     ]
    },
    {
     "name": "stderr",
     "output_type": "stream",
     "text": [
      "fill ttG_trileptonmass for /eos/home-j/jiwoong/WZG_DB/2016/merged_data/DoubleMuon_Run2016F.root: 100%|██████████| 2/2 [00:00<00:00, 13464.86it/s]\n"
     ]
    },
    {
     "name": "stdout",
     "output_type": "stream",
     "text": [
      "SumOfWeights for ttG_trileptonmass:  1.0\n"
     ]
    },
    {
     "name": "stderr",
     "output_type": "stream",
     "text": [
      "fill MET for /eos/home-j/jiwoong/WZG_DB/2016/merged_data/DoubleMuon_Run2016F.root: 100%|██████████| 2/2 [00:00<00:00, 14847.09it/s]\n"
     ]
    },
    {
     "name": "stdout",
     "output_type": "stream",
     "text": [
      "SumOfWeights for MET:  216.0\n"
     ]
    },
    {
     "name": "stderr",
     "output_type": "stream",
     "text": [
      "fill nJets for /eos/home-j/jiwoong/WZG_DB/2016/merged_data/DoubleMuon_Run2016F.root: 100%|██████████| 2/2 [00:00<00:00, 14122.24it/s]\n"
     ]
    },
    {
     "name": "stdout",
     "output_type": "stream",
     "text": [
      "SumOfWeights for nJets:  584.0\n"
     ]
    },
    {
     "name": "stderr",
     "output_type": "stream",
     "text": [
      "fill nbJets for /eos/home-j/jiwoong/WZG_DB/2016/merged_data/DoubleMuon_Run2016F.root: 100%|██████████| 2/2 [00:00<00:00, 15917.66it/s]\n"
     ]
    },
    {
     "name": "stdout",
     "output_type": "stream",
     "text": [
      "SumOfWeights for nbJets:  585.0\n",
      "Time cost: 1.95\n",
      "\n",
      "is Data\n"
     ]
    },
    {
     "name": "stderr",
     "output_type": "stream",
     "text": [
      "fill WZG_dileptonmass for /eos/home-j/jiwoong/WZG_DB/2016/merged_data/DoubleMuon_Run2016G.root: 100%|██████████| 1/1 [00:00<00:00, 4707.41it/s]\n"
     ]
    },
    {
     "name": "stdout",
     "output_type": "stream",
     "text": [
      "SumOfWeights for WZG_dileptonmass:  27.0\n"
     ]
    },
    {
     "name": "stderr",
     "output_type": "stream",
     "text": [
      "fill WZG_trileptonmass for /eos/home-j/jiwoong/WZG_DB/2016/merged_data/DoubleMuon_Run2016G.root: 100%|██████████| 1/1 [00:00<00:00, 6574.14it/s]\n"
     ]
    },
    {
     "name": "stdout",
     "output_type": "stream",
     "text": [
      "SumOfWeights for WZG_trileptonmass:  27.0\n"
     ]
    },
    {
     "name": "stderr",
     "output_type": "stream",
     "text": [
      "fill ZZ_mllz1 for /eos/home-j/jiwoong/WZG_DB/2016/merged_data/DoubleMuon_Run2016G.root: 100%|██████████| 1/1 [00:00<00:00, 6232.25it/s]\n"
     ]
    },
    {
     "name": "stdout",
     "output_type": "stream",
     "text": [
      "SumOfWeights for ZZ_dileptonmass:  586.0\n"
     ]
    },
    {
     "name": "stderr",
     "output_type": "stream",
     "text": [
      "fill ZZ_trileptonmass for /eos/home-j/jiwoong/WZG_DB/2016/merged_data/DoubleMuon_Run2016G.root: 100%|██████████| 1/1 [00:00<00:00, 6657.63it/s]\n"
     ]
    },
    {
     "name": "stdout",
     "output_type": "stream",
     "text": [
      "SumOfWeights for ZZ_trileptonmass:  573.0\n"
     ]
    },
    {
     "name": "stderr",
     "output_type": "stream",
     "text": [
      "fill ZZ_MET for /eos/home-j/jiwoong/WZG_DB/2016/merged_data/DoubleMuon_Run2016G.root: 100%|██████████| 1/1 [00:00<00:00, 7503.23it/s]\n"
     ]
    },
    {
     "name": "stdout",
     "output_type": "stream",
     "text": [
      "SumOfWeights for ZZ_MET:  216.0\n"
     ]
    },
    {
     "name": "stderr",
     "output_type": "stream",
     "text": [
      "fill ttZ_dileptonmass for /eos/home-j/jiwoong/WZG_DB/2016/merged_data/DoubleMuon_Run2016G.root: 100%|██████████| 1/1 [00:00<00:00, 7667.83it/s]\n"
     ]
    },
    {
     "name": "stdout",
     "output_type": "stream",
     "text": [
      "SumOfWeights for ttZ_dileptonmass:  10.0\n"
     ]
    },
    {
     "name": "stderr",
     "output_type": "stream",
     "text": [
      "fill ttZ_trileptonmass for /eos/home-j/jiwoong/WZG_DB/2016/merged_data/DoubleMuon_Run2016G.root: 100%|██████████| 1/1 [00:00<00:00, 5504.34it/s]\n"
     ]
    },
    {
     "name": "stdout",
     "output_type": "stream",
     "text": [
      "SumOfWeights for ttZ_trileptonmass:  174.0\n"
     ]
    },
    {
     "name": "stderr",
     "output_type": "stream",
     "text": [
      "fill ttG_trileptonmass for /eos/home-j/jiwoong/WZG_DB/2016/merged_data/DoubleMuon_Run2016G.root: 100%|██████████| 1/1 [00:00<00:00, 6177.18it/s]\n"
     ]
    },
    {
     "name": "stdout",
     "output_type": "stream",
     "text": [
      "SumOfWeights for ttG_trileptonmass:  1.0\n"
     ]
    },
    {
     "name": "stderr",
     "output_type": "stream",
     "text": [
      "fill MET for /eos/home-j/jiwoong/WZG_DB/2016/merged_data/DoubleMuon_Run2016G.root: 100%|██████████| 1/1 [00:00<00:00, 3530.56it/s]\n"
     ]
    },
    {
     "name": "stdout",
     "output_type": "stream",
     "text": [
      "SumOfWeights for MET:  216.0\n"
     ]
    },
    {
     "name": "stderr",
     "output_type": "stream",
     "text": [
      "fill nJets for /eos/home-j/jiwoong/WZG_DB/2016/merged_data/DoubleMuon_Run2016G.root: 100%|██████████| 1/1 [00:00<00:00, 3398.95it/s]\n"
     ]
    },
    {
     "name": "stdout",
     "output_type": "stream",
     "text": [
      "SumOfWeights for nJets:  585.0\n"
     ]
    },
    {
     "name": "stderr",
     "output_type": "stream",
     "text": [
      "fill nbJets for /eos/home-j/jiwoong/WZG_DB/2016/merged_data/DoubleMuon_Run2016G.root: 100%|██████████| 1/1 [00:00<00:00, 3986.98it/s]\n"
     ]
    },
    {
     "name": "stdout",
     "output_type": "stream",
     "text": [
      "SumOfWeights for nbJets:  586.0\n",
      "Time cost: 2.34\n",
      "\n",
      "is Data\n"
     ]
    },
    {
     "name": "stderr",
     "output_type": "stream",
     "text": [
      "fill WZG_dileptonmass for /eos/home-j/jiwoong/WZG_DB/2016/merged_data/DoubleMuon_Run2016H.root: 0it [00:00, ?it/s]\n"
     ]
    },
    {
     "name": "stdout",
     "output_type": "stream",
     "text": [
      "SumOfWeights for WZG_dileptonmass:  27.0\n"
     ]
    },
    {
     "name": "stderr",
     "output_type": "stream",
     "text": [
      "fill WZG_trileptonmass for /eos/home-j/jiwoong/WZG_DB/2016/merged_data/DoubleMuon_Run2016H.root: 0it [00:00, ?it/s]\n"
     ]
    },
    {
     "name": "stdout",
     "output_type": "stream",
     "text": [
      "SumOfWeights for WZG_trileptonmass:  27.0\n"
     ]
    },
    {
     "name": "stderr",
     "output_type": "stream",
     "text": [
      "fill ZZ_mllz1 for /eos/home-j/jiwoong/WZG_DB/2016/merged_data/DoubleMuon_Run2016H.root: 0it [00:00, ?it/s]\n"
     ]
    },
    {
     "name": "stdout",
     "output_type": "stream",
     "text": [
      "SumOfWeights for ZZ_dileptonmass:  586.0\n"
     ]
    },
    {
     "name": "stderr",
     "output_type": "stream",
     "text": [
      "fill ZZ_trileptonmass for /eos/home-j/jiwoong/WZG_DB/2016/merged_data/DoubleMuon_Run2016H.root: 0it [00:00, ?it/s]\n"
     ]
    },
    {
     "name": "stdout",
     "output_type": "stream",
     "text": [
      "SumOfWeights for ZZ_trileptonmass:  573.0\n"
     ]
    },
    {
     "name": "stderr",
     "output_type": "stream",
     "text": [
      "fill ZZ_MET for /eos/home-j/jiwoong/WZG_DB/2016/merged_data/DoubleMuon_Run2016H.root: 0it [00:00, ?it/s]\n"
     ]
    },
    {
     "name": "stdout",
     "output_type": "stream",
     "text": [
      "SumOfWeights for ZZ_MET:  216.0\n"
     ]
    },
    {
     "name": "stderr",
     "output_type": "stream",
     "text": [
      "fill ttZ_dileptonmass for /eos/home-j/jiwoong/WZG_DB/2016/merged_data/DoubleMuon_Run2016H.root: 0it [00:00, ?it/s]\n"
     ]
    },
    {
     "name": "stdout",
     "output_type": "stream",
     "text": [
      "SumOfWeights for ttZ_dileptonmass:  10.0\n"
     ]
    },
    {
     "name": "stderr",
     "output_type": "stream",
     "text": [
      "fill ttZ_trileptonmass for /eos/home-j/jiwoong/WZG_DB/2016/merged_data/DoubleMuon_Run2016H.root: 0it [00:00, ?it/s]\n"
     ]
    },
    {
     "name": "stdout",
     "output_type": "stream",
     "text": [
      "SumOfWeights for ttZ_trileptonmass:  174.0\n"
     ]
    },
    {
     "name": "stderr",
     "output_type": "stream",
     "text": [
      "fill ttG_trileptonmass for /eos/home-j/jiwoong/WZG_DB/2016/merged_data/DoubleMuon_Run2016H.root: 0it [00:00, ?it/s]\n"
     ]
    },
    {
     "name": "stdout",
     "output_type": "stream",
     "text": [
      "SumOfWeights for ttG_trileptonmass:  1.0\n"
     ]
    },
    {
     "name": "stderr",
     "output_type": "stream",
     "text": [
      "fill MET for /eos/home-j/jiwoong/WZG_DB/2016/merged_data/DoubleMuon_Run2016H.root: 0it [00:00, ?it/s]\n"
     ]
    },
    {
     "name": "stdout",
     "output_type": "stream",
     "text": [
      "SumOfWeights for MET:  216.0\n"
     ]
    },
    {
     "name": "stderr",
     "output_type": "stream",
     "text": [
      "fill nJets for /eos/home-j/jiwoong/WZG_DB/2016/merged_data/DoubleMuon_Run2016H.root: 0it [00:00, ?it/s]\n"
     ]
    },
    {
     "name": "stdout",
     "output_type": "stream",
     "text": [
      "SumOfWeights for nJets:  585.0\n"
     ]
    },
    {
     "name": "stderr",
     "output_type": "stream",
     "text": [
      "fill nbJets for /eos/home-j/jiwoong/WZG_DB/2016/merged_data/DoubleMuon_Run2016H.root: 0it [00:00, ?it/s]\n"
     ]
    },
    {
     "name": "stdout",
     "output_type": "stream",
     "text": [
      "SumOfWeights for nbJets:  586.0\n",
      "Time cost: 2.64\n",
      "\n",
      "is Data\n"
     ]
    },
    {
     "name": "stderr",
     "output_type": "stream",
     "text": [
      "fill WZG_dileptonmass for /eos/home-j/jiwoong/WZG_DB/2016/merged_data/SingleElectron_Run2016B.root: 100%|██████████| 40/40 [00:00<00:00, 123725.78it/s]\n"
     ]
    },
    {
     "name": "stdout",
     "output_type": "stream",
     "text": [
      "SumOfWeights for WZG_dileptonmass:  30.0\n"
     ]
    },
    {
     "name": "stderr",
     "output_type": "stream",
     "text": [
      "fill WZG_trileptonmass for /eos/home-j/jiwoong/WZG_DB/2016/merged_data/SingleElectron_Run2016B.root: 100%|██████████| 40/40 [00:00<00:00, 127292.99it/s]\n"
     ]
    },
    {
     "name": "stdout",
     "output_type": "stream",
     "text": [
      "SumOfWeights for WZG_trileptonmass:  30.0\n"
     ]
    },
    {
     "name": "stderr",
     "output_type": "stream",
     "text": [
      "fill ZZ_mllz1 for /eos/home-j/jiwoong/WZG_DB/2016/merged_data/SingleElectron_Run2016B.root: 100%|██████████| 40/40 [00:00<00:00, 140277.73it/s]\n"
     ]
    },
    {
     "name": "stdout",
     "output_type": "stream",
     "text": [
      "SumOfWeights for ZZ_dileptonmass:  626.0\n"
     ]
    },
    {
     "name": "stderr",
     "output_type": "stream",
     "text": [
      "fill ZZ_trileptonmass for /eos/home-j/jiwoong/WZG_DB/2016/merged_data/SingleElectron_Run2016B.root: 100%|██████████| 40/40 [00:00<00:00, 120873.31it/s]\n"
     ]
    },
    {
     "name": "stdout",
     "output_type": "stream",
     "text": [
      "SumOfWeights for ZZ_trileptonmass:  612.0\n"
     ]
    },
    {
     "name": "stderr",
     "output_type": "stream",
     "text": [
      "fill ZZ_MET for /eos/home-j/jiwoong/WZG_DB/2016/merged_data/SingleElectron_Run2016B.root: 100%|██████████| 40/40 [00:00<00:00, 117652.29it/s]\n"
     ]
    },
    {
     "name": "stdout",
     "output_type": "stream",
     "text": [
      "SumOfWeights for ZZ_MET:  229.0\n"
     ]
    },
    {
     "name": "stderr",
     "output_type": "stream",
     "text": [
      "fill ttZ_dileptonmass for /eos/home-j/jiwoong/WZG_DB/2016/merged_data/SingleElectron_Run2016B.root: 100%|██████████| 40/40 [00:00<00:00, 134217.73it/s]\n"
     ]
    },
    {
     "name": "stdout",
     "output_type": "stream",
     "text": [
      "SumOfWeights for ttZ_dileptonmass:  11.0\n"
     ]
    },
    {
     "name": "stderr",
     "output_type": "stream",
     "text": [
      "fill ttZ_trileptonmass for /eos/home-j/jiwoong/WZG_DB/2016/merged_data/SingleElectron_Run2016B.root: 100%|██████████| 40/40 [00:00<00:00, 116751.68it/s]\n"
     ]
    },
    {
     "name": "stdout",
     "output_type": "stream",
     "text": [
      "SumOfWeights for ttZ_trileptonmass:  184.0\n"
     ]
    },
    {
     "name": "stderr",
     "output_type": "stream",
     "text": [
      "fill ttG_trileptonmass for /eos/home-j/jiwoong/WZG_DB/2016/merged_data/SingleElectron_Run2016B.root: 100%|██████████| 40/40 [00:00<00:00, 112372.51it/s]\n"
     ]
    },
    {
     "name": "stdout",
     "output_type": "stream",
     "text": [
      "SumOfWeights for ttG_trileptonmass:  1.0\n"
     ]
    },
    {
     "name": "stderr",
     "output_type": "stream",
     "text": [
      "fill MET for /eos/home-j/jiwoong/WZG_DB/2016/merged_data/SingleElectron_Run2016B.root: 100%|██████████| 40/40 [00:00<00:00, 115944.82it/s]\n"
     ]
    },
    {
     "name": "stdout",
     "output_type": "stream",
     "text": [
      "SumOfWeights for MET:  229.0\n"
     ]
    },
    {
     "name": "stderr",
     "output_type": "stream",
     "text": [
      "fill nJets for /eos/home-j/jiwoong/WZG_DB/2016/merged_data/SingleElectron_Run2016B.root: 100%|██████████| 40/40 [00:00<00:00, 127875.12it/s]\n"
     ]
    },
    {
     "name": "stdout",
     "output_type": "stream",
     "text": [
      "SumOfWeights for nJets:  625.0\n"
     ]
    },
    {
     "name": "stderr",
     "output_type": "stream",
     "text": [
      "fill nbJets for /eos/home-j/jiwoong/WZG_DB/2016/merged_data/SingleElectron_Run2016B.root: 100%|██████████| 40/40 [00:00<00:00, 129354.02it/s]\n"
     ]
    },
    {
     "name": "stdout",
     "output_type": "stream",
     "text": [
      "SumOfWeights for nbJets:  626.0\n",
      "Time cost: 2.87\n",
      "\n",
      "is Data\n"
     ]
    },
    {
     "name": "stderr",
     "output_type": "stream",
     "text": [
      "fill WZG_dileptonmass for /eos/home-j/jiwoong/WZG_DB/2016/merged_data/SingleElectron_Run2016C.root: 100%|██████████| 7/7 [00:00<00:00, 28149.69it/s]\n"
     ]
    },
    {
     "name": "stdout",
     "output_type": "stream",
     "text": [
      "SumOfWeights for WZG_dileptonmass:  30.0\n"
     ]
    },
    {
     "name": "stderr",
     "output_type": "stream",
     "text": [
      "fill WZG_trileptonmass for /eos/home-j/jiwoong/WZG_DB/2016/merged_data/SingleElectron_Run2016C.root: 100%|██████████| 7/7 [00:00<00:00, 33825.03it/s]\n"
     ]
    },
    {
     "name": "stdout",
     "output_type": "stream",
     "text": [
      "SumOfWeights for WZG_trileptonmass:  30.0\n"
     ]
    },
    {
     "name": "stderr",
     "output_type": "stream",
     "text": [
      "fill ZZ_mllz1 for /eos/home-j/jiwoong/WZG_DB/2016/merged_data/SingleElectron_Run2016C.root: 100%|██████████| 7/7 [00:00<00:00, 20690.72it/s]\n"
     ]
    },
    {
     "name": "stdout",
     "output_type": "stream",
     "text": [
      "SumOfWeights for ZZ_dileptonmass:  633.0\n"
     ]
    },
    {
     "name": "stderr",
     "output_type": "stream",
     "text": [
      "fill ZZ_trileptonmass for /eos/home-j/jiwoong/WZG_DB/2016/merged_data/SingleElectron_Run2016C.root: 100%|██████████| 7/7 [00:00<00:00, 32513.98it/s]\n"
     ]
    },
    {
     "name": "stdout",
     "output_type": "stream",
     "text": [
      "SumOfWeights for ZZ_trileptonmass:  619.0\n"
     ]
    },
    {
     "name": "stderr",
     "output_type": "stream",
     "text": [
      "fill ZZ_MET for /eos/home-j/jiwoong/WZG_DB/2016/merged_data/SingleElectron_Run2016C.root: 100%|██████████| 7/7 [00:00<00:00, 34179.43it/s]\n"
     ]
    },
    {
     "name": "stdout",
     "output_type": "stream",
     "text": [
      "SumOfWeights for ZZ_MET:  231.0\n"
     ]
    },
    {
     "name": "stderr",
     "output_type": "stream",
     "text": [
      "fill ttZ_dileptonmass for /eos/home-j/jiwoong/WZG_DB/2016/merged_data/SingleElectron_Run2016C.root: 100%|██████████| 7/7 [00:00<00:00, 21748.24it/s]\n"
     ]
    },
    {
     "name": "stdout",
     "output_type": "stream",
     "text": [
      "SumOfWeights for ttZ_dileptonmass:  11.0\n"
     ]
    },
    {
     "name": "stderr",
     "output_type": "stream",
     "text": [
      "fill ttZ_trileptonmass for /eos/home-j/jiwoong/WZG_DB/2016/merged_data/SingleElectron_Run2016C.root: 100%|██████████| 7/7 [00:00<00:00, 39891.48it/s]\n"
     ]
    },
    {
     "name": "stdout",
     "output_type": "stream",
     "text": [
      "SumOfWeights for ttZ_trileptonmass:  184.0\n"
     ]
    },
    {
     "name": "stderr",
     "output_type": "stream",
     "text": [
      "fill ttG_trileptonmass for /eos/home-j/jiwoong/WZG_DB/2016/merged_data/SingleElectron_Run2016C.root: 100%|██████████| 7/7 [00:00<00:00, 40891.54it/s]\n"
     ]
    },
    {
     "name": "stdout",
     "output_type": "stream",
     "text": [
      "SumOfWeights for ttG_trileptonmass:  1.0\n"
     ]
    },
    {
     "name": "stderr",
     "output_type": "stream",
     "text": [
      "fill MET for /eos/home-j/jiwoong/WZG_DB/2016/merged_data/SingleElectron_Run2016C.root: 100%|██████████| 7/7 [00:00<00:00, 25288.65it/s]\n"
     ]
    },
    {
     "name": "stdout",
     "output_type": "stream",
     "text": [
      "SumOfWeights for MET:  231.0\n"
     ]
    },
    {
     "name": "stderr",
     "output_type": "stream",
     "text": [
      "fill nJets for /eos/home-j/jiwoong/WZG_DB/2016/merged_data/SingleElectron_Run2016C.root: 100%|██████████| 7/7 [00:00<00:00, 41236.13it/s]\n"
     ]
    },
    {
     "name": "stdout",
     "output_type": "stream",
     "text": [
      "SumOfWeights for nJets:  632.0\n"
     ]
    },
    {
     "name": "stderr",
     "output_type": "stream",
     "text": [
      "fill nbJets for /eos/home-j/jiwoong/WZG_DB/2016/merged_data/SingleElectron_Run2016C.root: 100%|██████████| 7/7 [00:00<00:00, 42489.33it/s]\n"
     ]
    },
    {
     "name": "stdout",
     "output_type": "stream",
     "text": [
      "SumOfWeights for nbJets:  633.0\n",
      "Time cost: 2.36\n",
      "\n",
      "is Data\n"
     ]
    },
    {
     "name": "stderr",
     "output_type": "stream",
     "text": [
      "fill WZG_dileptonmass for /eos/home-j/jiwoong/WZG_DB/2016/merged_data/SingleElectron_Run2016D.root: 100%|██████████| 21/21 [00:00<00:00, 82472.27it/s]\n"
     ]
    },
    {
     "name": "stdout",
     "output_type": "stream",
     "text": [
      "SumOfWeights for WZG_dileptonmass:  32.0\n"
     ]
    },
    {
     "name": "stderr",
     "output_type": "stream",
     "text": [
      "fill WZG_trileptonmass for /eos/home-j/jiwoong/WZG_DB/2016/merged_data/SingleElectron_Run2016D.root: 100%|██████████| 21/21 [00:00<00:00, 80956.24it/s]\n"
     ]
    },
    {
     "name": "stdout",
     "output_type": "stream",
     "text": [
      "SumOfWeights for WZG_trileptonmass:  32.0\n"
     ]
    },
    {
     "name": "stderr",
     "output_type": "stream",
     "text": [
      "fill ZZ_mllz1 for /eos/home-j/jiwoong/WZG_DB/2016/merged_data/SingleElectron_Run2016D.root: 100%|██████████| 21/21 [00:00<00:00, 89603.65it/s]\n"
     ]
    },
    {
     "name": "stdout",
     "output_type": "stream",
     "text": [
      "SumOfWeights for ZZ_dileptonmass:  654.0\n"
     ]
    },
    {
     "name": "stderr",
     "output_type": "stream",
     "text": [
      "fill ZZ_trileptonmass for /eos/home-j/jiwoong/WZG_DB/2016/merged_data/SingleElectron_Run2016D.root: 100%|██████████| 21/21 [00:00<00:00, 96685.38it/s]\n"
     ]
    },
    {
     "name": "stdout",
     "output_type": "stream",
     "text": [
      "SumOfWeights for ZZ_trileptonmass:  640.0\n"
     ]
    },
    {
     "name": "stderr",
     "output_type": "stream",
     "text": [
      "fill ZZ_MET for /eos/home-j/jiwoong/WZG_DB/2016/merged_data/SingleElectron_Run2016D.root: 100%|██████████| 21/21 [00:00<00:00, 82938.21it/s]\n"
     ]
    },
    {
     "name": "stdout",
     "output_type": "stream",
     "text": [
      "SumOfWeights for ZZ_MET:  241.0\n"
     ]
    },
    {
     "name": "stderr",
     "output_type": "stream",
     "text": [
      "fill ttZ_dileptonmass for /eos/home-j/jiwoong/WZG_DB/2016/merged_data/SingleElectron_Run2016D.root: 100%|██████████| 21/21 [00:00<00:00, 83173.17it/s]\n"
     ]
    },
    {
     "name": "stdout",
     "output_type": "stream",
     "text": [
      "SumOfWeights for ttZ_dileptonmass:  11.0\n"
     ]
    },
    {
     "name": "stderr",
     "output_type": "stream",
     "text": [
      "fill ttZ_trileptonmass for /eos/home-j/jiwoong/WZG_DB/2016/merged_data/SingleElectron_Run2016D.root: 100%|██████████| 21/21 [00:00<00:00, 85848.33it/s]\n"
     ]
    },
    {
     "name": "stdout",
     "output_type": "stream",
     "text": [
      "SumOfWeights for ttZ_trileptonmass:  188.0\n"
     ]
    },
    {
     "name": "stderr",
     "output_type": "stream",
     "text": [
      "fill ttG_trileptonmass for /eos/home-j/jiwoong/WZG_DB/2016/merged_data/SingleElectron_Run2016D.root: 100%|██████████| 21/21 [00:00<00:00, 77399.28it/s]\n"
     ]
    },
    {
     "name": "stdout",
     "output_type": "stream",
     "text": [
      "SumOfWeights for ttG_trileptonmass:  1.0\n"
     ]
    },
    {
     "name": "stderr",
     "output_type": "stream",
     "text": [
      "fill MET for /eos/home-j/jiwoong/WZG_DB/2016/merged_data/SingleElectron_Run2016D.root: 100%|██████████| 21/21 [00:00<00:00, 90431.61it/s]\n"
     ]
    },
    {
     "name": "stdout",
     "output_type": "stream",
     "text": [
      "SumOfWeights for MET:  241.0\n"
     ]
    },
    {
     "name": "stderr",
     "output_type": "stream",
     "text": [
      "fill nJets for /eos/home-j/jiwoong/WZG_DB/2016/merged_data/SingleElectron_Run2016D.root: 100%|██████████| 21/21 [00:00<00:00, 83409.45it/s]\n"
     ]
    },
    {
     "name": "stdout",
     "output_type": "stream",
     "text": [
      "SumOfWeights for nJets:  653.0\n"
     ]
    },
    {
     "name": "stderr",
     "output_type": "stream",
     "text": [
      "fill nbJets for /eos/home-j/jiwoong/WZG_DB/2016/merged_data/SingleElectron_Run2016D.root: 100%|██████████| 21/21 [00:00<00:00, 84449.07it/s]\n"
     ]
    },
    {
     "name": "stdout",
     "output_type": "stream",
     "text": [
      "SumOfWeights for nbJets:  654.0\n",
      "Time cost: 2.30\n",
      "\n",
      "is Data\n"
     ]
    },
    {
     "name": "stderr",
     "output_type": "stream",
     "text": [
      "fill WZG_dileptonmass for /eos/home-j/jiwoong/WZG_DB/2016/merged_data/SingleElectron_Run2016E.root: 100%|██████████| 16/16 [00:00<00:00, 44590.61it/s]\n"
     ]
    },
    {
     "name": "stdout",
     "output_type": "stream",
     "text": [
      "SumOfWeights for WZG_dileptonmass:  32.0\n"
     ]
    },
    {
     "name": "stderr",
     "output_type": "stream",
     "text": [
      "fill WZG_trileptonmass for /eos/home-j/jiwoong/WZG_DB/2016/merged_data/SingleElectron_Run2016E.root: 100%|██████████| 16/16 [00:00<00:00, 61342.65it/s]\n"
     ]
    },
    {
     "name": "stdout",
     "output_type": "stream",
     "text": [
      "SumOfWeights for WZG_trileptonmass:  32.0\n"
     ]
    },
    {
     "name": "stderr",
     "output_type": "stream",
     "text": [
      "fill ZZ_mllz1 for /eos/home-j/jiwoong/WZG_DB/2016/merged_data/SingleElectron_Run2016E.root: 100%|██████████| 16/16 [00:00<00:00, 65344.56it/s]\n"
     ]
    },
    {
     "name": "stdout",
     "output_type": "stream",
     "text": [
      "SumOfWeights for ZZ_dileptonmass:  670.0\n"
     ]
    },
    {
     "name": "stderr",
     "output_type": "stream",
     "text": [
      "fill ZZ_trileptonmass for /eos/home-j/jiwoong/WZG_DB/2016/merged_data/SingleElectron_Run2016E.root: 100%|██████████| 16/16 [00:00<00:00, 69832.32it/s]\n"
     ]
    },
    {
     "name": "stdout",
     "output_type": "stream",
     "text": [
      "SumOfWeights for ZZ_trileptonmass:  656.0\n"
     ]
    },
    {
     "name": "stderr",
     "output_type": "stream",
     "text": [
      "fill ZZ_MET for /eos/home-j/jiwoong/WZG_DB/2016/merged_data/SingleElectron_Run2016E.root: 100%|██████████| 16/16 [00:00<00:00, 60295.48it/s]\n"
     ]
    },
    {
     "name": "stdout",
     "output_type": "stream",
     "text": [
      "SumOfWeights for ZZ_MET:  246.0\n"
     ]
    },
    {
     "name": "stderr",
     "output_type": "stream",
     "text": [
      "fill ttZ_dileptonmass for /eos/home-j/jiwoong/WZG_DB/2016/merged_data/SingleElectron_Run2016E.root: 100%|██████████| 16/16 [00:00<00:00, 66247.64it/s]\n"
     ]
    },
    {
     "name": "stdout",
     "output_type": "stream",
     "text": [
      "SumOfWeights for ttZ_dileptonmass:  11.0\n"
     ]
    },
    {
     "name": "stderr",
     "output_type": "stream",
     "text": [
      "fill ttZ_trileptonmass for /eos/home-j/jiwoong/WZG_DB/2016/merged_data/SingleElectron_Run2016E.root: 100%|██████████| 16/16 [00:00<00:00, 68200.07it/s]\n"
     ]
    },
    {
     "name": "stdout",
     "output_type": "stream",
     "text": [
      "SumOfWeights for ttZ_trileptonmass:  191.0\n"
     ]
    },
    {
     "name": "stderr",
     "output_type": "stream",
     "text": [
      "fill ttG_trileptonmass for /eos/home-j/jiwoong/WZG_DB/2016/merged_data/SingleElectron_Run2016E.root: 100%|██████████| 16/16 [00:00<00:00, 48279.76it/s]\n"
     ]
    },
    {
     "name": "stdout",
     "output_type": "stream",
     "text": [
      "SumOfWeights for ttG_trileptonmass:  1.0\n"
     ]
    },
    {
     "name": "stderr",
     "output_type": "stream",
     "text": [
      "fill MET for /eos/home-j/jiwoong/WZG_DB/2016/merged_data/SingleElectron_Run2016E.root: 100%|██████████| 16/16 [00:00<00:00, 69977.96it/s]\n"
     ]
    },
    {
     "name": "stdout",
     "output_type": "stream",
     "text": [
      "SumOfWeights for MET:  246.0\n"
     ]
    },
    {
     "name": "stderr",
     "output_type": "stream",
     "text": [
      "fill nJets for /eos/home-j/jiwoong/WZG_DB/2016/merged_data/SingleElectron_Run2016E.root: 100%|██████████| 16/16 [00:00<00:00, 73584.28it/s]\n"
     ]
    },
    {
     "name": "stdout",
     "output_type": "stream",
     "text": [
      "SumOfWeights for nJets:  669.0\n"
     ]
    },
    {
     "name": "stderr",
     "output_type": "stream",
     "text": [
      "fill nbJets for /eos/home-j/jiwoong/WZG_DB/2016/merged_data/SingleElectron_Run2016E.root: 100%|██████████| 16/16 [00:00<00:00, 73908.44it/s]\n"
     ]
    },
    {
     "name": "stdout",
     "output_type": "stream",
     "text": [
      "SumOfWeights for nbJets:  670.0\n",
      "Time cost: 2.33\n",
      "\n",
      "is Data\n"
     ]
    },
    {
     "name": "stderr",
     "output_type": "stream",
     "text": [
      "fill WZG_dileptonmass for /eos/home-j/jiwoong/WZG_DB/2016/merged_data/SingleElectron_Run2016F.root: 100%|██████████| 6/6 [00:00<00:00, 30954.27it/s]\n"
     ]
    },
    {
     "name": "stdout",
     "output_type": "stream",
     "text": [
      "SumOfWeights for WZG_dileptonmass:  32.0\n"
     ]
    },
    {
     "name": "stderr",
     "output_type": "stream",
     "text": [
      "fill WZG_trileptonmass for /eos/home-j/jiwoong/WZG_DB/2016/merged_data/SingleElectron_Run2016F.root: 100%|██████████| 6/6 [00:00<00:00, 34759.43it/s]\n"
     ]
    },
    {
     "name": "stdout",
     "output_type": "stream",
     "text": [
      "SumOfWeights for WZG_trileptonmass:  32.0\n"
     ]
    },
    {
     "name": "stderr",
     "output_type": "stream",
     "text": [
      "fill ZZ_mllz1 for /eos/home-j/jiwoong/WZG_DB/2016/merged_data/SingleElectron_Run2016F.root: 100%|██████████| 6/6 [00:00<00:00, 33916.20it/s]\n"
     ]
    },
    {
     "name": "stdout",
     "output_type": "stream",
     "text": [
      "SumOfWeights for ZZ_dileptonmass:  676.0\n"
     ]
    },
    {
     "name": "stderr",
     "output_type": "stream",
     "text": [
      "fill ZZ_trileptonmass for /eos/home-j/jiwoong/WZG_DB/2016/merged_data/SingleElectron_Run2016F.root: 100%|██████████| 6/6 [00:00<00:00, 34053.89it/s]\n"
     ]
    },
    {
     "name": "stdout",
     "output_type": "stream",
     "text": [
      "SumOfWeights for ZZ_trileptonmass:  662.0\n"
     ]
    },
    {
     "name": "stderr",
     "output_type": "stream",
     "text": [
      "fill ZZ_MET for /eos/home-j/jiwoong/WZG_DB/2016/merged_data/SingleElectron_Run2016F.root: 100%|██████████| 6/6 [00:00<00:00, 36054.19it/s]\n"
     ]
    },
    {
     "name": "stdout",
     "output_type": "stream",
     "text": [
      "SumOfWeights for ZZ_MET:  248.0\n"
     ]
    },
    {
     "name": "stderr",
     "output_type": "stream",
     "text": [
      "fill ttZ_dileptonmass for /eos/home-j/jiwoong/WZG_DB/2016/merged_data/SingleElectron_Run2016F.root: 100%|██████████| 6/6 [00:00<00:00, 36419.43it/s]\n"
     ]
    },
    {
     "name": "stdout",
     "output_type": "stream",
     "text": [
      "SumOfWeights for ttZ_dileptonmass:  11.0\n"
     ]
    },
    {
     "name": "stderr",
     "output_type": "stream",
     "text": [
      "fill ttZ_trileptonmass for /eos/home-j/jiwoong/WZG_DB/2016/merged_data/SingleElectron_Run2016F.root: 100%|██████████| 6/6 [00:00<00:00, 39138.14it/s]\n"
     ]
    },
    {
     "name": "stdout",
     "output_type": "stream",
     "text": [
      "SumOfWeights for ttZ_trileptonmass:  191.0\n"
     ]
    },
    {
     "name": "stderr",
     "output_type": "stream",
     "text": [
      "fill ttG_trileptonmass for /eos/home-j/jiwoong/WZG_DB/2016/merged_data/SingleElectron_Run2016F.root: 100%|██████████| 6/6 [00:00<00:00, 39016.78it/s]\n"
     ]
    },
    {
     "name": "stdout",
     "output_type": "stream",
     "text": [
      "SumOfWeights for ttG_trileptonmass:  1.0\n"
     ]
    },
    {
     "name": "stderr",
     "output_type": "stream",
     "text": [
      "fill MET for /eos/home-j/jiwoong/WZG_DB/2016/merged_data/SingleElectron_Run2016F.root: 100%|██████████| 6/6 [00:00<00:00, 38896.17it/s]\n"
     ]
    },
    {
     "name": "stdout",
     "output_type": "stream",
     "text": [
      "SumOfWeights for MET:  248.0\n"
     ]
    },
    {
     "name": "stderr",
     "output_type": "stream",
     "text": [
      "fill nJets for /eos/home-j/jiwoong/WZG_DB/2016/merged_data/SingleElectron_Run2016F.root: 100%|██████████| 6/6 [00:00<00:00, 38245.93it/s]\n"
     ]
    },
    {
     "name": "stdout",
     "output_type": "stream",
     "text": [
      "SumOfWeights for nJets:  675.0\n"
     ]
    },
    {
     "name": "stderr",
     "output_type": "stream",
     "text": [
      "fill nbJets for /eos/home-j/jiwoong/WZG_DB/2016/merged_data/SingleElectron_Run2016F.root: 100%|██████████| 6/6 [00:00<00:00, 35196.96it/s]\n"
     ]
    },
    {
     "name": "stdout",
     "output_type": "stream",
     "text": [
      "SumOfWeights for nbJets:  676.0\n",
      "Time cost: 2.37\n",
      "\n",
      "is Data\n"
     ]
    },
    {
     "name": "stderr",
     "output_type": "stream",
     "text": [
      "fill WZG_dileptonmass for /eos/home-j/jiwoong/WZG_DB/2016/merged_data/SingleElectron_Run2016G.root: 100%|██████████| 21/21 [00:00<00:00, 87642.17it/s]\n"
     ]
    },
    {
     "name": "stdout",
     "output_type": "stream",
     "text": [
      "SumOfWeights for WZG_dileptonmass:  34.0\n"
     ]
    },
    {
     "name": "stderr",
     "output_type": "stream",
     "text": [
      "fill WZG_trileptonmass for /eos/home-j/jiwoong/WZG_DB/2016/merged_data/SingleElectron_Run2016G.root: 100%|██████████| 21/21 [00:00<00:00, 45613.87it/s]\n"
     ]
    },
    {
     "name": "stdout",
     "output_type": "stream",
     "text": [
      "SumOfWeights for WZG_trileptonmass:  34.0\n"
     ]
    },
    {
     "name": "stderr",
     "output_type": "stream",
     "text": [
      "fill ZZ_mllz1 for /eos/home-j/jiwoong/WZG_DB/2016/merged_data/SingleElectron_Run2016G.root: 100%|██████████| 21/21 [00:00<00:00, 51328.90it/s]\n"
     ]
    },
    {
     "name": "stdout",
     "output_type": "stream",
     "text": [
      "SumOfWeights for ZZ_dileptonmass:  697.0\n"
     ]
    },
    {
     "name": "stderr",
     "output_type": "stream",
     "text": [
      "fill ZZ_trileptonmass for /eos/home-j/jiwoong/WZG_DB/2016/merged_data/SingleElectron_Run2016G.root: 100%|██████████| 21/21 [00:00<00:00, 52996.62it/s]\n"
     ]
    },
    {
     "name": "stdout",
     "output_type": "stream",
     "text": [
      "SumOfWeights for ZZ_trileptonmass:  682.0\n"
     ]
    },
    {
     "name": "stderr",
     "output_type": "stream",
     "text": [
      "fill ZZ_MET for /eos/home-j/jiwoong/WZG_DB/2016/merged_data/SingleElectron_Run2016G.root: 100%|██████████| 21/21 [00:00<00:00, 56498.00it/s]\n"
     ]
    },
    {
     "name": "stdout",
     "output_type": "stream",
     "text": [
      "SumOfWeights for ZZ_MET:  256.0\n"
     ]
    },
    {
     "name": "stderr",
     "output_type": "stream",
     "text": [
      "fill ttZ_dileptonmass for /eos/home-j/jiwoong/WZG_DB/2016/merged_data/SingleElectron_Run2016G.root: 100%|██████████| 21/21 [00:00<00:00, 44306.03it/s]\n"
     ]
    },
    {
     "name": "stdout",
     "output_type": "stream",
     "text": [
      "SumOfWeights for ttZ_dileptonmass:  11.0\n"
     ]
    },
    {
     "name": "stderr",
     "output_type": "stream",
     "text": [
      "fill ttZ_trileptonmass for /eos/home-j/jiwoong/WZG_DB/2016/merged_data/SingleElectron_Run2016G.root: 100%|██████████| 21/21 [00:00<00:00, 42633.29it/s]\n"
     ]
    },
    {
     "name": "stdout",
     "output_type": "stream",
     "text": [
      "SumOfWeights for ttZ_trileptonmass:  200.0\n"
     ]
    },
    {
     "name": "stderr",
     "output_type": "stream",
     "text": [
      "fill ttG_trileptonmass for /eos/home-j/jiwoong/WZG_DB/2016/merged_data/SingleElectron_Run2016G.root: 100%|██████████| 21/21 [00:00<00:00, 46826.36it/s]\n"
     ]
    },
    {
     "name": "stdout",
     "output_type": "stream",
     "text": [
      "SumOfWeights for ttG_trileptonmass:  1.0\n"
     ]
    },
    {
     "name": "stderr",
     "output_type": "stream",
     "text": [
      "fill MET for /eos/home-j/jiwoong/WZG_DB/2016/merged_data/SingleElectron_Run2016G.root: 100%|██████████| 21/21 [00:00<00:00, 57046.88it/s]\n"
     ]
    },
    {
     "name": "stdout",
     "output_type": "stream",
     "text": [
      "SumOfWeights for MET:  256.0\n"
     ]
    },
    {
     "name": "stderr",
     "output_type": "stream",
     "text": [
      "fill nJets for /eos/home-j/jiwoong/WZG_DB/2016/merged_data/SingleElectron_Run2016G.root: 100%|██████████| 21/21 [00:00<00:00, 62424.09it/s]\n"
     ]
    },
    {
     "name": "stdout",
     "output_type": "stream",
     "text": [
      "SumOfWeights for nJets:  696.0\n"
     ]
    },
    {
     "name": "stderr",
     "output_type": "stream",
     "text": [
      "fill nbJets for /eos/home-j/jiwoong/WZG_DB/2016/merged_data/SingleElectron_Run2016G.root: 100%|██████████| 21/21 [00:00<00:00, 62601.55it/s]\n"
     ]
    },
    {
     "name": "stdout",
     "output_type": "stream",
     "text": [
      "SumOfWeights for nbJets:  697.0\n",
      "Time cost: 2.94\n",
      "\n",
      "is Data\n"
     ]
    },
    {
     "name": "stderr",
     "output_type": "stream",
     "text": [
      "fill WZG_dileptonmass for /eos/home-j/jiwoong/WZG_DB/2016/merged_data/SingleElectron_Run2016H.root: 100%|██████████| 24/24 [00:00<00:00, 47127.01it/s]\n"
     ]
    },
    {
     "name": "stdout",
     "output_type": "stream",
     "text": [
      "SumOfWeights for WZG_dileptonmass:  34.0\n"
     ]
    },
    {
     "name": "stderr",
     "output_type": "stream",
     "text": [
      "fill WZG_trileptonmass for /eos/home-j/jiwoong/WZG_DB/2016/merged_data/SingleElectron_Run2016H.root: 100%|██████████| 24/24 [00:00<00:00, 82646.38it/s]\n"
     ]
    },
    {
     "name": "stdout",
     "output_type": "stream",
     "text": [
      "SumOfWeights for WZG_trileptonmass:  34.0\n"
     ]
    },
    {
     "name": "stderr",
     "output_type": "stream",
     "text": [
      "fill ZZ_mllz1 for /eos/home-j/jiwoong/WZG_DB/2016/merged_data/SingleElectron_Run2016H.root: 100%|██████████| 24/24 [00:00<00:00, 84733.41it/s]\n"
     ]
    },
    {
     "name": "stdout",
     "output_type": "stream",
     "text": [
      "SumOfWeights for ZZ_dileptonmass:  721.0\n"
     ]
    },
    {
     "name": "stderr",
     "output_type": "stream",
     "text": [
      "fill ZZ_trileptonmass for /eos/home-j/jiwoong/WZG_DB/2016/merged_data/SingleElectron_Run2016H.root: 100%|██████████| 24/24 [00:00<00:00, 89161.47it/s]\n"
     ]
    },
    {
     "name": "stdout",
     "output_type": "stream",
     "text": [
      "SumOfWeights for ZZ_trileptonmass:  706.0\n"
     ]
    },
    {
     "name": "stderr",
     "output_type": "stream",
     "text": [
      "fill ZZ_MET for /eos/home-j/jiwoong/WZG_DB/2016/merged_data/SingleElectron_Run2016H.root: 100%|██████████| 24/24 [00:00<00:00, 93120.53it/s]\n"
     ]
    },
    {
     "name": "stdout",
     "output_type": "stream",
     "text": [
      "SumOfWeights for ZZ_MET:  265.0\n"
     ]
    },
    {
     "name": "stderr",
     "output_type": "stream",
     "text": [
      "fill ttZ_dileptonmass for /eos/home-j/jiwoong/WZG_DB/2016/merged_data/SingleElectron_Run2016H.root: 100%|██████████| 24/24 [00:00<00:00, 97353.28it/s]\n"
     ]
    },
    {
     "name": "stdout",
     "output_type": "stream",
     "text": [
      "SumOfWeights for ttZ_dileptonmass:  11.0\n"
     ]
    },
    {
     "name": "stderr",
     "output_type": "stream",
     "text": [
      "fill ttZ_trileptonmass for /eos/home-j/jiwoong/WZG_DB/2016/merged_data/SingleElectron_Run2016H.root: 100%|██████████| 24/24 [00:00<00:00, 63389.98it/s]\n"
     ]
    },
    {
     "name": "stdout",
     "output_type": "stream",
     "text": [
      "SumOfWeights for ttZ_trileptonmass:  209.0\n"
     ]
    },
    {
     "name": "stderr",
     "output_type": "stream",
     "text": [
      "fill ttG_trileptonmass for /eos/home-j/jiwoong/WZG_DB/2016/merged_data/SingleElectron_Run2016H.root: 100%|██████████| 24/24 [00:00<00:00, 67695.56it/s]\n"
     ]
    },
    {
     "name": "stdout",
     "output_type": "stream",
     "text": [
      "SumOfWeights for ttG_trileptonmass:  1.0\n"
     ]
    },
    {
     "name": "stderr",
     "output_type": "stream",
     "text": [
      "fill MET for /eos/home-j/jiwoong/WZG_DB/2016/merged_data/SingleElectron_Run2016H.root: 100%|██████████| 24/24 [00:00<00:00, 67513.95it/s]\n"
     ]
    },
    {
     "name": "stdout",
     "output_type": "stream",
     "text": [
      "SumOfWeights for MET:  265.0\n"
     ]
    },
    {
     "name": "stderr",
     "output_type": "stream",
     "text": [
      "fill nJets for /eos/home-j/jiwoong/WZG_DB/2016/merged_data/SingleElectron_Run2016H.root: 100%|██████████| 24/24 [00:00<00:00, 70839.76it/s]\n"
     ]
    },
    {
     "name": "stdout",
     "output_type": "stream",
     "text": [
      "SumOfWeights for nJets:  720.0\n"
     ]
    },
    {
     "name": "stderr",
     "output_type": "stream",
     "text": [
      "fill nbJets for /eos/home-j/jiwoong/WZG_DB/2016/merged_data/SingleElectron_Run2016H.root: 100%|██████████| 24/24 [00:00<00:00, 69711.42it/s]\n"
     ]
    },
    {
     "name": "stdout",
     "output_type": "stream",
     "text": [
      "SumOfWeights for nbJets:  721.0\n",
      "Time cost: 2.59\n",
      "\n",
      "is Data\n"
     ]
    },
    {
     "name": "stderr",
     "output_type": "stream",
     "text": [
      "fill WZG_dileptonmass for /eos/home-j/jiwoong/WZG_DB/2016/merged_data/MuonEG_Run2016B.root: 0it [00:00, ?it/s]\n"
     ]
    },
    {
     "name": "stdout",
     "output_type": "stream",
     "text": [
      "SumOfWeights for WZG_dileptonmass:  34.0\n"
     ]
    },
    {
     "name": "stderr",
     "output_type": "stream",
     "text": [
      "fill WZG_trileptonmass for /eos/home-j/jiwoong/WZG_DB/2016/merged_data/MuonEG_Run2016B.root: 0it [00:00, ?it/s]\n"
     ]
    },
    {
     "name": "stdout",
     "output_type": "stream",
     "text": [
      "SumOfWeights for WZG_trileptonmass:  34.0\n"
     ]
    },
    {
     "name": "stderr",
     "output_type": "stream",
     "text": [
      "fill ZZ_mllz1 for /eos/home-j/jiwoong/WZG_DB/2016/merged_data/MuonEG_Run2016B.root: 0it [00:00, ?it/s]\n"
     ]
    },
    {
     "name": "stdout",
     "output_type": "stream",
     "text": [
      "SumOfWeights for ZZ_dileptonmass:  721.0\n"
     ]
    },
    {
     "name": "stderr",
     "output_type": "stream",
     "text": [
      "fill ZZ_trileptonmass for /eos/home-j/jiwoong/WZG_DB/2016/merged_data/MuonEG_Run2016B.root: 0it [00:00, ?it/s]\n"
     ]
    },
    {
     "name": "stdout",
     "output_type": "stream",
     "text": [
      "SumOfWeights for ZZ_trileptonmass:  706.0\n"
     ]
    },
    {
     "name": "stderr",
     "output_type": "stream",
     "text": [
      "fill ZZ_MET for /eos/home-j/jiwoong/WZG_DB/2016/merged_data/MuonEG_Run2016B.root: 0it [00:00, ?it/s]\n"
     ]
    },
    {
     "name": "stdout",
     "output_type": "stream",
     "text": [
      "SumOfWeights for ZZ_MET:  265.0\n"
     ]
    },
    {
     "name": "stderr",
     "output_type": "stream",
     "text": [
      "fill ttZ_dileptonmass for /eos/home-j/jiwoong/WZG_DB/2016/merged_data/MuonEG_Run2016B.root: 0it [00:00, ?it/s]\n"
     ]
    },
    {
     "name": "stdout",
     "output_type": "stream",
     "text": [
      "SumOfWeights for ttZ_dileptonmass:  11.0\n"
     ]
    },
    {
     "name": "stderr",
     "output_type": "stream",
     "text": [
      "fill ttZ_trileptonmass for /eos/home-j/jiwoong/WZG_DB/2016/merged_data/MuonEG_Run2016B.root: 0it [00:00, ?it/s]\n"
     ]
    },
    {
     "name": "stdout",
     "output_type": "stream",
     "text": [
      "SumOfWeights for ttZ_trileptonmass:  209.0\n"
     ]
    },
    {
     "name": "stderr",
     "output_type": "stream",
     "text": [
      "fill ttG_trileptonmass for /eos/home-j/jiwoong/WZG_DB/2016/merged_data/MuonEG_Run2016B.root: 0it [00:00, ?it/s]\n"
     ]
    },
    {
     "name": "stdout",
     "output_type": "stream",
     "text": [
      "SumOfWeights for ttG_trileptonmass:  1.0\n"
     ]
    },
    {
     "name": "stderr",
     "output_type": "stream",
     "text": [
      "fill MET for /eos/home-j/jiwoong/WZG_DB/2016/merged_data/MuonEG_Run2016B.root: 0it [00:00, ?it/s]\n"
     ]
    },
    {
     "name": "stdout",
     "output_type": "stream",
     "text": [
      "SumOfWeights for MET:  265.0\n"
     ]
    },
    {
     "name": "stderr",
     "output_type": "stream",
     "text": [
      "fill nJets for /eos/home-j/jiwoong/WZG_DB/2016/merged_data/MuonEG_Run2016B.root: 0it [00:00, ?it/s]\n"
     ]
    },
    {
     "name": "stdout",
     "output_type": "stream",
     "text": [
      "SumOfWeights for nJets:  720.0\n"
     ]
    },
    {
     "name": "stderr",
     "output_type": "stream",
     "text": [
      "fill nbJets for /eos/home-j/jiwoong/WZG_DB/2016/merged_data/MuonEG_Run2016B.root: 0it [00:00, ?it/s]\n"
     ]
    },
    {
     "name": "stdout",
     "output_type": "stream",
     "text": [
      "SumOfWeights for nbJets:  721.0\n",
      "Time cost: 2.11\n",
      "\n",
      "is Data\n"
     ]
    },
    {
     "name": "stderr",
     "output_type": "stream",
     "text": [
      "fill WZG_dileptonmass for /eos/home-j/jiwoong/WZG_DB/2016/merged_data/MuonEG_Run2016C.root: 0it [00:00, ?it/s]\n"
     ]
    },
    {
     "name": "stdout",
     "output_type": "stream",
     "text": [
      "SumOfWeights for WZG_dileptonmass:  34.0\n"
     ]
    },
    {
     "name": "stderr",
     "output_type": "stream",
     "text": [
      "fill WZG_trileptonmass for /eos/home-j/jiwoong/WZG_DB/2016/merged_data/MuonEG_Run2016C.root: 0it [00:00, ?it/s]\n"
     ]
    },
    {
     "name": "stdout",
     "output_type": "stream",
     "text": [
      "SumOfWeights for WZG_trileptonmass:  34.0\n"
     ]
    },
    {
     "name": "stderr",
     "output_type": "stream",
     "text": [
      "fill ZZ_mllz1 for /eos/home-j/jiwoong/WZG_DB/2016/merged_data/MuonEG_Run2016C.root: 0it [00:00, ?it/s]\n"
     ]
    },
    {
     "name": "stdout",
     "output_type": "stream",
     "text": [
      "SumOfWeights for ZZ_dileptonmass:  721.0\n"
     ]
    },
    {
     "name": "stderr",
     "output_type": "stream",
     "text": [
      "fill ZZ_trileptonmass for /eos/home-j/jiwoong/WZG_DB/2016/merged_data/MuonEG_Run2016C.root: 0it [00:00, ?it/s]\n"
     ]
    },
    {
     "name": "stdout",
     "output_type": "stream",
     "text": [
      "SumOfWeights for ZZ_trileptonmass:  706.0\n"
     ]
    },
    {
     "name": "stderr",
     "output_type": "stream",
     "text": [
      "fill ZZ_MET for /eos/home-j/jiwoong/WZG_DB/2016/merged_data/MuonEG_Run2016C.root: 0it [00:00, ?it/s]\n"
     ]
    },
    {
     "name": "stdout",
     "output_type": "stream",
     "text": [
      "SumOfWeights for ZZ_MET:  265.0\n"
     ]
    },
    {
     "name": "stderr",
     "output_type": "stream",
     "text": [
      "fill ttZ_dileptonmass for /eos/home-j/jiwoong/WZG_DB/2016/merged_data/MuonEG_Run2016C.root: 0it [00:00, ?it/s]\n"
     ]
    },
    {
     "name": "stdout",
     "output_type": "stream",
     "text": [
      "SumOfWeights for ttZ_dileptonmass:  11.0\n"
     ]
    },
    {
     "name": "stderr",
     "output_type": "stream",
     "text": [
      "fill ttZ_trileptonmass for /eos/home-j/jiwoong/WZG_DB/2016/merged_data/MuonEG_Run2016C.root: 0it [00:00, ?it/s]\n"
     ]
    },
    {
     "name": "stdout",
     "output_type": "stream",
     "text": [
      "SumOfWeights for ttZ_trileptonmass:  209.0\n"
     ]
    },
    {
     "name": "stderr",
     "output_type": "stream",
     "text": [
      "fill ttG_trileptonmass for /eos/home-j/jiwoong/WZG_DB/2016/merged_data/MuonEG_Run2016C.root: 0it [00:00, ?it/s]\n"
     ]
    },
    {
     "name": "stdout",
     "output_type": "stream",
     "text": [
      "SumOfWeights for ttG_trileptonmass:  1.0\n"
     ]
    },
    {
     "name": "stderr",
     "output_type": "stream",
     "text": [
      "fill MET for /eos/home-j/jiwoong/WZG_DB/2016/merged_data/MuonEG_Run2016C.root: 0it [00:00, ?it/s]\n"
     ]
    },
    {
     "name": "stdout",
     "output_type": "stream",
     "text": [
      "SumOfWeights for MET:  265.0\n"
     ]
    },
    {
     "name": "stderr",
     "output_type": "stream",
     "text": [
      "fill nJets for /eos/home-j/jiwoong/WZG_DB/2016/merged_data/MuonEG_Run2016C.root: 0it [00:00, ?it/s]\n"
     ]
    },
    {
     "name": "stdout",
     "output_type": "stream",
     "text": [
      "SumOfWeights for nJets:  720.0\n"
     ]
    },
    {
     "name": "stderr",
     "output_type": "stream",
     "text": [
      "fill nbJets for /eos/home-j/jiwoong/WZG_DB/2016/merged_data/MuonEG_Run2016C.root: 0it [00:00, ?it/s]\n"
     ]
    },
    {
     "name": "stdout",
     "output_type": "stream",
     "text": [
      "SumOfWeights for nbJets:  721.0\n",
      "Time cost: 2.08\n",
      "\n",
      "is Data\n"
     ]
    },
    {
     "name": "stderr",
     "output_type": "stream",
     "text": [
      "fill WZG_dileptonmass for /eos/home-j/jiwoong/WZG_DB/2016/merged_data/MuonEG_Run2016D.root: 0it [00:00, ?it/s]\n"
     ]
    },
    {
     "name": "stdout",
     "output_type": "stream",
     "text": [
      "SumOfWeights for WZG_dileptonmass:  34.0\n"
     ]
    },
    {
     "name": "stderr",
     "output_type": "stream",
     "text": [
      "fill WZG_trileptonmass for /eos/home-j/jiwoong/WZG_DB/2016/merged_data/MuonEG_Run2016D.root: 0it [00:00, ?it/s]\n"
     ]
    },
    {
     "name": "stdout",
     "output_type": "stream",
     "text": [
      "SumOfWeights for WZG_trileptonmass:  34.0\n"
     ]
    },
    {
     "name": "stderr",
     "output_type": "stream",
     "text": [
      "fill ZZ_mllz1 for /eos/home-j/jiwoong/WZG_DB/2016/merged_data/MuonEG_Run2016D.root: 0it [00:00, ?it/s]\n"
     ]
    },
    {
     "name": "stdout",
     "output_type": "stream",
     "text": [
      "SumOfWeights for ZZ_dileptonmass:  721.0\n"
     ]
    },
    {
     "name": "stderr",
     "output_type": "stream",
     "text": [
      "fill ZZ_trileptonmass for /eos/home-j/jiwoong/WZG_DB/2016/merged_data/MuonEG_Run2016D.root: 0it [00:00, ?it/s]\n"
     ]
    },
    {
     "name": "stdout",
     "output_type": "stream",
     "text": [
      "SumOfWeights for ZZ_trileptonmass:  706.0\n"
     ]
    },
    {
     "name": "stderr",
     "output_type": "stream",
     "text": [
      "fill ZZ_MET for /eos/home-j/jiwoong/WZG_DB/2016/merged_data/MuonEG_Run2016D.root: 0it [00:00, ?it/s]\n"
     ]
    },
    {
     "name": "stdout",
     "output_type": "stream",
     "text": [
      "SumOfWeights for ZZ_MET:  265.0\n"
     ]
    },
    {
     "name": "stderr",
     "output_type": "stream",
     "text": [
      "fill ttZ_dileptonmass for /eos/home-j/jiwoong/WZG_DB/2016/merged_data/MuonEG_Run2016D.root: 0it [00:00, ?it/s]\n"
     ]
    },
    {
     "name": "stdout",
     "output_type": "stream",
     "text": [
      "SumOfWeights for ttZ_dileptonmass:  11.0\n"
     ]
    },
    {
     "name": "stderr",
     "output_type": "stream",
     "text": [
      "fill ttZ_trileptonmass for /eos/home-j/jiwoong/WZG_DB/2016/merged_data/MuonEG_Run2016D.root: 0it [00:00, ?it/s]\n"
     ]
    },
    {
     "name": "stdout",
     "output_type": "stream",
     "text": [
      "SumOfWeights for ttZ_trileptonmass:  209.0\n"
     ]
    },
    {
     "name": "stderr",
     "output_type": "stream",
     "text": [
      "fill ttG_trileptonmass for /eos/home-j/jiwoong/WZG_DB/2016/merged_data/MuonEG_Run2016D.root: 0it [00:00, ?it/s]\n"
     ]
    },
    {
     "name": "stdout",
     "output_type": "stream",
     "text": [
      "SumOfWeights for ttG_trileptonmass:  1.0\n"
     ]
    },
    {
     "name": "stderr",
     "output_type": "stream",
     "text": [
      "fill MET for /eos/home-j/jiwoong/WZG_DB/2016/merged_data/MuonEG_Run2016D.root: 0it [00:00, ?it/s]\n"
     ]
    },
    {
     "name": "stdout",
     "output_type": "stream",
     "text": [
      "SumOfWeights for MET:  265.0\n"
     ]
    },
    {
     "name": "stderr",
     "output_type": "stream",
     "text": [
      "fill nJets for /eos/home-j/jiwoong/WZG_DB/2016/merged_data/MuonEG_Run2016D.root: 0it [00:00, ?it/s]\n"
     ]
    },
    {
     "name": "stdout",
     "output_type": "stream",
     "text": [
      "SumOfWeights for nJets:  720.0\n"
     ]
    },
    {
     "name": "stderr",
     "output_type": "stream",
     "text": [
      "fill nbJets for /eos/home-j/jiwoong/WZG_DB/2016/merged_data/MuonEG_Run2016D.root: 0it [00:00, ?it/s]\n"
     ]
    },
    {
     "name": "stdout",
     "output_type": "stream",
     "text": [
      "SumOfWeights for nbJets:  721.0\n",
      "Time cost: 2.09\n",
      "\n",
      "is Data\n"
     ]
    },
    {
     "name": "stderr",
     "output_type": "stream",
     "text": [
      "fill WZG_dileptonmass for /eos/home-j/jiwoong/WZG_DB/2016/merged_data/MuonEG_Run2016E.root: 0it [00:00, ?it/s]\n"
     ]
    },
    {
     "name": "stdout",
     "output_type": "stream",
     "text": [
      "SumOfWeights for WZG_dileptonmass:  34.0\n"
     ]
    },
    {
     "name": "stderr",
     "output_type": "stream",
     "text": [
      "fill WZG_trileptonmass for /eos/home-j/jiwoong/WZG_DB/2016/merged_data/MuonEG_Run2016E.root: 0it [00:00, ?it/s]\n"
     ]
    },
    {
     "name": "stdout",
     "output_type": "stream",
     "text": [
      "SumOfWeights for WZG_trileptonmass:  34.0\n"
     ]
    },
    {
     "name": "stderr",
     "output_type": "stream",
     "text": [
      "fill ZZ_mllz1 for /eos/home-j/jiwoong/WZG_DB/2016/merged_data/MuonEG_Run2016E.root: 0it [00:00, ?it/s]\n"
     ]
    },
    {
     "name": "stdout",
     "output_type": "stream",
     "text": [
      "SumOfWeights for ZZ_dileptonmass:  721.0\n"
     ]
    },
    {
     "name": "stderr",
     "output_type": "stream",
     "text": [
      "fill ZZ_trileptonmass for /eos/home-j/jiwoong/WZG_DB/2016/merged_data/MuonEG_Run2016E.root: 0it [00:00, ?it/s]\n"
     ]
    },
    {
     "name": "stdout",
     "output_type": "stream",
     "text": [
      "SumOfWeights for ZZ_trileptonmass:  706.0\n"
     ]
    },
    {
     "name": "stderr",
     "output_type": "stream",
     "text": [
      "fill ZZ_MET for /eos/home-j/jiwoong/WZG_DB/2016/merged_data/MuonEG_Run2016E.root: 0it [00:00, ?it/s]\n"
     ]
    },
    {
     "name": "stdout",
     "output_type": "stream",
     "text": [
      "SumOfWeights for ZZ_MET:  265.0\n"
     ]
    },
    {
     "name": "stderr",
     "output_type": "stream",
     "text": [
      "fill ttZ_dileptonmass for /eos/home-j/jiwoong/WZG_DB/2016/merged_data/MuonEG_Run2016E.root: 0it [00:00, ?it/s]\n"
     ]
    },
    {
     "name": "stdout",
     "output_type": "stream",
     "text": [
      "SumOfWeights for ttZ_dileptonmass:  11.0\n"
     ]
    },
    {
     "name": "stderr",
     "output_type": "stream",
     "text": [
      "fill ttZ_trileptonmass for /eos/home-j/jiwoong/WZG_DB/2016/merged_data/MuonEG_Run2016E.root: 0it [00:00, ?it/s]\n"
     ]
    },
    {
     "name": "stdout",
     "output_type": "stream",
     "text": [
      "SumOfWeights for ttZ_trileptonmass:  209.0\n"
     ]
    },
    {
     "name": "stderr",
     "output_type": "stream",
     "text": [
      "fill ttG_trileptonmass for /eos/home-j/jiwoong/WZG_DB/2016/merged_data/MuonEG_Run2016E.root: 0it [00:00, ?it/s]\n"
     ]
    },
    {
     "name": "stdout",
     "output_type": "stream",
     "text": [
      "SumOfWeights for ttG_trileptonmass:  1.0\n"
     ]
    },
    {
     "name": "stderr",
     "output_type": "stream",
     "text": [
      "fill MET for /eos/home-j/jiwoong/WZG_DB/2016/merged_data/MuonEG_Run2016E.root: 0it [00:00, ?it/s]\n"
     ]
    },
    {
     "name": "stdout",
     "output_type": "stream",
     "text": [
      "SumOfWeights for MET:  265.0\n"
     ]
    },
    {
     "name": "stderr",
     "output_type": "stream",
     "text": [
      "fill nJets for /eos/home-j/jiwoong/WZG_DB/2016/merged_data/MuonEG_Run2016E.root: 0it [00:00, ?it/s]\n"
     ]
    },
    {
     "name": "stdout",
     "output_type": "stream",
     "text": [
      "SumOfWeights for nJets:  720.0\n"
     ]
    },
    {
     "name": "stderr",
     "output_type": "stream",
     "text": [
      "fill nbJets for /eos/home-j/jiwoong/WZG_DB/2016/merged_data/MuonEG_Run2016E.root: 0it [00:00, ?it/s]\n"
     ]
    },
    {
     "name": "stdout",
     "output_type": "stream",
     "text": [
      "SumOfWeights for nbJets:  721.0\n",
      "Time cost: 2.92\n",
      "\n",
      "is Data\n"
     ]
    },
    {
     "name": "stderr",
     "output_type": "stream",
     "text": [
      "fill WZG_dileptonmass for /eos/home-j/jiwoong/WZG_DB/2016/merged_data/MuonEG_Run2016F.root: 0it [00:00, ?it/s]\n"
     ]
    },
    {
     "name": "stdout",
     "output_type": "stream",
     "text": [
      "SumOfWeights for WZG_dileptonmass:  34.0\n"
     ]
    },
    {
     "name": "stderr",
     "output_type": "stream",
     "text": [
      "fill WZG_trileptonmass for /eos/home-j/jiwoong/WZG_DB/2016/merged_data/MuonEG_Run2016F.root: 0it [00:00, ?it/s]\n"
     ]
    },
    {
     "name": "stdout",
     "output_type": "stream",
     "text": [
      "SumOfWeights for WZG_trileptonmass:  34.0\n"
     ]
    },
    {
     "name": "stderr",
     "output_type": "stream",
     "text": [
      "fill ZZ_mllz1 for /eos/home-j/jiwoong/WZG_DB/2016/merged_data/MuonEG_Run2016F.root: 0it [00:00, ?it/s]\n"
     ]
    },
    {
     "name": "stdout",
     "output_type": "stream",
     "text": [
      "SumOfWeights for ZZ_dileptonmass:  721.0\n"
     ]
    },
    {
     "name": "stderr",
     "output_type": "stream",
     "text": [
      "fill ZZ_trileptonmass for /eos/home-j/jiwoong/WZG_DB/2016/merged_data/MuonEG_Run2016F.root: 0it [00:00, ?it/s]\n"
     ]
    },
    {
     "name": "stdout",
     "output_type": "stream",
     "text": [
      "SumOfWeights for ZZ_trileptonmass:  706.0\n"
     ]
    },
    {
     "name": "stderr",
     "output_type": "stream",
     "text": [
      "fill ZZ_MET for /eos/home-j/jiwoong/WZG_DB/2016/merged_data/MuonEG_Run2016F.root: 0it [00:00, ?it/s]\n"
     ]
    },
    {
     "name": "stdout",
     "output_type": "stream",
     "text": [
      "SumOfWeights for ZZ_MET:  265.0\n"
     ]
    },
    {
     "name": "stderr",
     "output_type": "stream",
     "text": [
      "fill ttZ_dileptonmass for /eos/home-j/jiwoong/WZG_DB/2016/merged_data/MuonEG_Run2016F.root: 0it [00:00, ?it/s]\n"
     ]
    },
    {
     "name": "stdout",
     "output_type": "stream",
     "text": [
      "SumOfWeights for ttZ_dileptonmass:  11.0\n"
     ]
    },
    {
     "name": "stderr",
     "output_type": "stream",
     "text": [
      "fill ttZ_trileptonmass for /eos/home-j/jiwoong/WZG_DB/2016/merged_data/MuonEG_Run2016F.root: 0it [00:00, ?it/s]\n"
     ]
    },
    {
     "name": "stdout",
     "output_type": "stream",
     "text": [
      "SumOfWeights for ttZ_trileptonmass:  209.0\n"
     ]
    },
    {
     "name": "stderr",
     "output_type": "stream",
     "text": [
      "fill ttG_trileptonmass for /eos/home-j/jiwoong/WZG_DB/2016/merged_data/MuonEG_Run2016F.root: 0it [00:00, ?it/s]\n"
     ]
    },
    {
     "name": "stdout",
     "output_type": "stream",
     "text": [
      "SumOfWeights for ttG_trileptonmass:  1.0\n"
     ]
    },
    {
     "name": "stderr",
     "output_type": "stream",
     "text": [
      "fill MET for /eos/home-j/jiwoong/WZG_DB/2016/merged_data/MuonEG_Run2016F.root: 0it [00:00, ?it/s]\n"
     ]
    },
    {
     "name": "stdout",
     "output_type": "stream",
     "text": [
      "SumOfWeights for MET:  265.0\n"
     ]
    },
    {
     "name": "stderr",
     "output_type": "stream",
     "text": [
      "fill nJets for /eos/home-j/jiwoong/WZG_DB/2016/merged_data/MuonEG_Run2016F.root: 0it [00:00, ?it/s]\n"
     ]
    },
    {
     "name": "stdout",
     "output_type": "stream",
     "text": [
      "SumOfWeights for nJets:  720.0\n"
     ]
    },
    {
     "name": "stderr",
     "output_type": "stream",
     "text": [
      "fill nbJets for /eos/home-j/jiwoong/WZG_DB/2016/merged_data/MuonEG_Run2016F.root: 0it [00:00, ?it/s]\n"
     ]
    },
    {
     "name": "stdout",
     "output_type": "stream",
     "text": [
      "SumOfWeights for nbJets:  721.0\n",
      "Time cost: 2.00\n",
      "\n",
      "is Data\n"
     ]
    },
    {
     "name": "stderr",
     "output_type": "stream",
     "text": [
      "fill WZG_dileptonmass for /eos/home-j/jiwoong/WZG_DB/2016/merged_data/MuonEG_Run2016G.root: 0it [00:00, ?it/s]\n"
     ]
    },
    {
     "name": "stdout",
     "output_type": "stream",
     "text": [
      "SumOfWeights for WZG_dileptonmass:  34.0\n"
     ]
    },
    {
     "name": "stderr",
     "output_type": "stream",
     "text": [
      "fill WZG_trileptonmass for /eos/home-j/jiwoong/WZG_DB/2016/merged_data/MuonEG_Run2016G.root: 0it [00:00, ?it/s]\n"
     ]
    },
    {
     "name": "stdout",
     "output_type": "stream",
     "text": [
      "SumOfWeights for WZG_trileptonmass:  34.0\n"
     ]
    },
    {
     "name": "stderr",
     "output_type": "stream",
     "text": [
      "fill ZZ_mllz1 for /eos/home-j/jiwoong/WZG_DB/2016/merged_data/MuonEG_Run2016G.root: 0it [00:00, ?it/s]\n"
     ]
    },
    {
     "name": "stdout",
     "output_type": "stream",
     "text": [
      "SumOfWeights for ZZ_dileptonmass:  721.0\n"
     ]
    },
    {
     "name": "stderr",
     "output_type": "stream",
     "text": [
      "fill ZZ_trileptonmass for /eos/home-j/jiwoong/WZG_DB/2016/merged_data/MuonEG_Run2016G.root: 0it [00:00, ?it/s]\n"
     ]
    },
    {
     "name": "stdout",
     "output_type": "stream",
     "text": [
      "SumOfWeights for ZZ_trileptonmass:  706.0\n"
     ]
    },
    {
     "name": "stderr",
     "output_type": "stream",
     "text": [
      "fill ZZ_MET for /eos/home-j/jiwoong/WZG_DB/2016/merged_data/MuonEG_Run2016G.root: 0it [00:00, ?it/s]\n"
     ]
    },
    {
     "name": "stdout",
     "output_type": "stream",
     "text": [
      "SumOfWeights for ZZ_MET:  265.0\n"
     ]
    },
    {
     "name": "stderr",
     "output_type": "stream",
     "text": [
      "fill ttZ_dileptonmass for /eos/home-j/jiwoong/WZG_DB/2016/merged_data/MuonEG_Run2016G.root: 0it [00:00, ?it/s]\n"
     ]
    },
    {
     "name": "stdout",
     "output_type": "stream",
     "text": [
      "SumOfWeights for ttZ_dileptonmass:  11.0\n"
     ]
    },
    {
     "name": "stderr",
     "output_type": "stream",
     "text": [
      "fill ttZ_trileptonmass for /eos/home-j/jiwoong/WZG_DB/2016/merged_data/MuonEG_Run2016G.root: 0it [00:00, ?it/s]\n"
     ]
    },
    {
     "name": "stdout",
     "output_type": "stream",
     "text": [
      "SumOfWeights for ttZ_trileptonmass:  209.0\n"
     ]
    },
    {
     "name": "stderr",
     "output_type": "stream",
     "text": [
      "fill ttG_trileptonmass for /eos/home-j/jiwoong/WZG_DB/2016/merged_data/MuonEG_Run2016G.root: 0it [00:00, ?it/s]\n"
     ]
    },
    {
     "name": "stdout",
     "output_type": "stream",
     "text": [
      "SumOfWeights for ttG_trileptonmass:  1.0\n"
     ]
    },
    {
     "name": "stderr",
     "output_type": "stream",
     "text": [
      "fill MET for /eos/home-j/jiwoong/WZG_DB/2016/merged_data/MuonEG_Run2016G.root: 0it [00:00, ?it/s]\n"
     ]
    },
    {
     "name": "stdout",
     "output_type": "stream",
     "text": [
      "SumOfWeights for MET:  265.0\n"
     ]
    },
    {
     "name": "stderr",
     "output_type": "stream",
     "text": [
      "fill nJets for /eos/home-j/jiwoong/WZG_DB/2016/merged_data/MuonEG_Run2016G.root: 0it [00:00, ?it/s]\n"
     ]
    },
    {
     "name": "stdout",
     "output_type": "stream",
     "text": [
      "SumOfWeights for nJets:  720.0\n"
     ]
    },
    {
     "name": "stderr",
     "output_type": "stream",
     "text": [
      "fill nbJets for /eos/home-j/jiwoong/WZG_DB/2016/merged_data/MuonEG_Run2016G.root: 0it [00:00, ?it/s]\n"
     ]
    },
    {
     "name": "stdout",
     "output_type": "stream",
     "text": [
      "SumOfWeights for nbJets:  721.0\n",
      "Time cost: 2.22\n",
      "\n",
      "is Data\n"
     ]
    },
    {
     "name": "stderr",
     "output_type": "stream",
     "text": [
      "fill WZG_dileptonmass for /eos/home-j/jiwoong/WZG_DB/2016/merged_data/MuonEG_Run2016H.root: 0it [00:00, ?it/s]\n"
     ]
    },
    {
     "name": "stdout",
     "output_type": "stream",
     "text": [
      "SumOfWeights for WZG_dileptonmass:  34.0\n"
     ]
    },
    {
     "name": "stderr",
     "output_type": "stream",
     "text": [
      "fill WZG_trileptonmass for /eos/home-j/jiwoong/WZG_DB/2016/merged_data/MuonEG_Run2016H.root: 0it [00:00, ?it/s]\n"
     ]
    },
    {
     "name": "stdout",
     "output_type": "stream",
     "text": [
      "SumOfWeights for WZG_trileptonmass:  34.0\n"
     ]
    },
    {
     "name": "stderr",
     "output_type": "stream",
     "text": [
      "fill ZZ_mllz1 for /eos/home-j/jiwoong/WZG_DB/2016/merged_data/MuonEG_Run2016H.root: 0it [00:00, ?it/s]\n"
     ]
    },
    {
     "name": "stdout",
     "output_type": "stream",
     "text": [
      "SumOfWeights for ZZ_dileptonmass:  721.0\n"
     ]
    },
    {
     "name": "stderr",
     "output_type": "stream",
     "text": [
      "fill ZZ_trileptonmass for /eos/home-j/jiwoong/WZG_DB/2016/merged_data/MuonEG_Run2016H.root: 0it [00:00, ?it/s]\n"
     ]
    },
    {
     "name": "stdout",
     "output_type": "stream",
     "text": [
      "SumOfWeights for ZZ_trileptonmass:  706.0\n"
     ]
    },
    {
     "name": "stderr",
     "output_type": "stream",
     "text": [
      "fill ZZ_MET for /eos/home-j/jiwoong/WZG_DB/2016/merged_data/MuonEG_Run2016H.root: 0it [00:00, ?it/s]\n"
     ]
    },
    {
     "name": "stdout",
     "output_type": "stream",
     "text": [
      "SumOfWeights for ZZ_MET:  265.0\n"
     ]
    },
    {
     "name": "stderr",
     "output_type": "stream",
     "text": [
      "fill ttZ_dileptonmass for /eos/home-j/jiwoong/WZG_DB/2016/merged_data/MuonEG_Run2016H.root: 0it [00:00, ?it/s]\n"
     ]
    },
    {
     "name": "stdout",
     "output_type": "stream",
     "text": [
      "SumOfWeights for ttZ_dileptonmass:  11.0\n"
     ]
    },
    {
     "name": "stderr",
     "output_type": "stream",
     "text": [
      "fill ttZ_trileptonmass for /eos/home-j/jiwoong/WZG_DB/2016/merged_data/MuonEG_Run2016H.root: 0it [00:00, ?it/s]\n"
     ]
    },
    {
     "name": "stdout",
     "output_type": "stream",
     "text": [
      "SumOfWeights for ttZ_trileptonmass:  209.0\n"
     ]
    },
    {
     "name": "stderr",
     "output_type": "stream",
     "text": [
      "fill ttG_trileptonmass for /eos/home-j/jiwoong/WZG_DB/2016/merged_data/MuonEG_Run2016H.root: 0it [00:00, ?it/s]\n"
     ]
    },
    {
     "name": "stdout",
     "output_type": "stream",
     "text": [
      "SumOfWeights for ttG_trileptonmass:  1.0\n"
     ]
    },
    {
     "name": "stderr",
     "output_type": "stream",
     "text": [
      "fill MET for /eos/home-j/jiwoong/WZG_DB/2016/merged_data/MuonEG_Run2016H.root: 0it [00:00, ?it/s]\n"
     ]
    },
    {
     "name": "stdout",
     "output_type": "stream",
     "text": [
      "SumOfWeights for MET:  265.0\n"
     ]
    },
    {
     "name": "stderr",
     "output_type": "stream",
     "text": [
      "fill nJets for /eos/home-j/jiwoong/WZG_DB/2016/merged_data/MuonEG_Run2016H.root: 0it [00:00, ?it/s]\n"
     ]
    },
    {
     "name": "stdout",
     "output_type": "stream",
     "text": [
      "SumOfWeights for nJets:  720.0\n"
     ]
    },
    {
     "name": "stderr",
     "output_type": "stream",
     "text": [
      "fill nbJets for /eos/home-j/jiwoong/WZG_DB/2016/merged_data/MuonEG_Run2016H.root: 0it [00:00, ?it/s]\n"
     ]
    },
    {
     "name": "stdout",
     "output_type": "stream",
     "text": [
      "SumOfWeights for nbJets:  721.0\n",
      "Time cost: 2.23\n",
      "\n",
      "is Data\n"
     ]
    },
    {
     "name": "stderr",
     "output_type": "stream",
     "text": [
      "fill WZG_dileptonmass for /eos/home-j/jiwoong/WZG_DB/2016/merged_data/DoubleEG_Run2016B.root: 100%|██████████| 1/1 [00:00<00:00, 4609.13it/s]\n"
     ]
    },
    {
     "name": "stdout",
     "output_type": "stream",
     "text": [
      "SumOfWeights for WZG_dileptonmass:  34.0\n"
     ]
    },
    {
     "name": "stderr",
     "output_type": "stream",
     "text": [
      "fill WZG_trileptonmass for /eos/home-j/jiwoong/WZG_DB/2016/merged_data/DoubleEG_Run2016B.root: 100%|██████████| 1/1 [00:00<00:00, 6797.90it/s]\n"
     ]
    },
    {
     "name": "stdout",
     "output_type": "stream",
     "text": [
      "SumOfWeights for WZG_trileptonmass:  34.0\n"
     ]
    },
    {
     "name": "stderr",
     "output_type": "stream",
     "text": [
      "fill ZZ_mllz1 for /eos/home-j/jiwoong/WZG_DB/2016/merged_data/DoubleEG_Run2016B.root: 100%|██████████| 1/1 [00:00<00:00, 9986.44it/s]\n"
     ]
    },
    {
     "name": "stdout",
     "output_type": "stream",
     "text": [
      "SumOfWeights for ZZ_dileptonmass:  722.0\n"
     ]
    },
    {
     "name": "stderr",
     "output_type": "stream",
     "text": [
      "fill ZZ_trileptonmass for /eos/home-j/jiwoong/WZG_DB/2016/merged_data/DoubleEG_Run2016B.root: 100%|██████████| 1/1 [00:00<00:00, 4462.03it/s]\n"
     ]
    },
    {
     "name": "stdout",
     "output_type": "stream",
     "text": [
      "SumOfWeights for ZZ_trileptonmass:  707.0\n"
     ]
    },
    {
     "name": "stderr",
     "output_type": "stream",
     "text": [
      "fill ZZ_MET for /eos/home-j/jiwoong/WZG_DB/2016/merged_data/DoubleEG_Run2016B.root: 100%|██████████| 1/1 [00:00<00:00, 4707.41it/s]\n"
     ]
    },
    {
     "name": "stdout",
     "output_type": "stream",
     "text": [
      "SumOfWeights for ZZ_MET:  265.0\n"
     ]
    },
    {
     "name": "stderr",
     "output_type": "stream",
     "text": [
      "fill ttZ_dileptonmass for /eos/home-j/jiwoong/WZG_DB/2016/merged_data/DoubleEG_Run2016B.root: 100%|██████████| 1/1 [00:00<00:00, 9776.93it/s]\n"
     ]
    },
    {
     "name": "stdout",
     "output_type": "stream",
     "text": [
      "SumOfWeights for ttZ_dileptonmass:  11.0\n"
     ]
    },
    {
     "name": "stderr",
     "output_type": "stream",
     "text": [
      "fill ttZ_trileptonmass for /eos/home-j/jiwoong/WZG_DB/2016/merged_data/DoubleEG_Run2016B.root: 100%|██████████| 1/1 [00:00<00:00, 8830.11it/s]\n"
     ]
    },
    {
     "name": "stdout",
     "output_type": "stream",
     "text": [
      "SumOfWeights for ttZ_trileptonmass:  209.0\n"
     ]
    },
    {
     "name": "stderr",
     "output_type": "stream",
     "text": [
      "fill ttG_trileptonmass for /eos/home-j/jiwoong/WZG_DB/2016/merged_data/DoubleEG_Run2016B.root: 100%|██████████| 1/1 [00:00<00:00, 8019.70it/s]\n"
     ]
    },
    {
     "name": "stdout",
     "output_type": "stream",
     "text": [
      "SumOfWeights for ttG_trileptonmass:  1.0\n"
     ]
    },
    {
     "name": "stderr",
     "output_type": "stream",
     "text": [
      "fill MET for /eos/home-j/jiwoong/WZG_DB/2016/merged_data/DoubleEG_Run2016B.root: 100%|██████████| 1/1 [00:00<00:00, 8943.08it/s]\n"
     ]
    },
    {
     "name": "stdout",
     "output_type": "stream",
     "text": [
      "SumOfWeights for MET:  265.0\n"
     ]
    },
    {
     "name": "stderr",
     "output_type": "stream",
     "text": [
      "fill nJets for /eos/home-j/jiwoong/WZG_DB/2016/merged_data/DoubleEG_Run2016B.root: 100%|██████████| 1/1 [00:00<00:00, 8738.13it/s]\n"
     ]
    },
    {
     "name": "stdout",
     "output_type": "stream",
     "text": [
      "SumOfWeights for nJets:  721.0\n"
     ]
    },
    {
     "name": "stderr",
     "output_type": "stream",
     "text": [
      "fill nbJets for /eos/home-j/jiwoong/WZG_DB/2016/merged_data/DoubleEG_Run2016B.root: 100%|██████████| 1/1 [00:00<00:00, 8473.34it/s]\n"
     ]
    },
    {
     "name": "stdout",
     "output_type": "stream",
     "text": [
      "SumOfWeights for nbJets:  722.0\n",
      "Time cost: 2.33\n",
      "\n",
      "is Data\n"
     ]
    },
    {
     "name": "stderr",
     "output_type": "stream",
     "text": [
      "fill WZG_dileptonmass for /eos/home-j/jiwoong/WZG_DB/2016/merged_data/DoubleEG_Run2016C.root: 0it [00:00, ?it/s]\n"
     ]
    },
    {
     "name": "stdout",
     "output_type": "stream",
     "text": [
      "SumOfWeights for WZG_dileptonmass:  34.0\n"
     ]
    },
    {
     "name": "stderr",
     "output_type": "stream",
     "text": [
      "fill WZG_trileptonmass for /eos/home-j/jiwoong/WZG_DB/2016/merged_data/DoubleEG_Run2016C.root: 0it [00:00, ?it/s]\n"
     ]
    },
    {
     "name": "stdout",
     "output_type": "stream",
     "text": [
      "SumOfWeights for WZG_trileptonmass:  34.0\n"
     ]
    },
    {
     "name": "stderr",
     "output_type": "stream",
     "text": [
      "fill ZZ_mllz1 for /eos/home-j/jiwoong/WZG_DB/2016/merged_data/DoubleEG_Run2016C.root: 0it [00:00, ?it/s]\n"
     ]
    },
    {
     "name": "stdout",
     "output_type": "stream",
     "text": [
      "SumOfWeights for ZZ_dileptonmass:  722.0\n"
     ]
    },
    {
     "name": "stderr",
     "output_type": "stream",
     "text": [
      "fill ZZ_trileptonmass for /eos/home-j/jiwoong/WZG_DB/2016/merged_data/DoubleEG_Run2016C.root: 0it [00:00, ?it/s]\n"
     ]
    },
    {
     "name": "stdout",
     "output_type": "stream",
     "text": [
      "SumOfWeights for ZZ_trileptonmass:  707.0\n"
     ]
    },
    {
     "name": "stderr",
     "output_type": "stream",
     "text": [
      "fill ZZ_MET for /eos/home-j/jiwoong/WZG_DB/2016/merged_data/DoubleEG_Run2016C.root: 0it [00:00, ?it/s]\n"
     ]
    },
    {
     "name": "stdout",
     "output_type": "stream",
     "text": [
      "SumOfWeights for ZZ_MET:  265.0\n"
     ]
    },
    {
     "name": "stderr",
     "output_type": "stream",
     "text": [
      "fill ttZ_dileptonmass for /eos/home-j/jiwoong/WZG_DB/2016/merged_data/DoubleEG_Run2016C.root: 0it [00:00, ?it/s]\n"
     ]
    },
    {
     "name": "stdout",
     "output_type": "stream",
     "text": [
      "SumOfWeights for ttZ_dileptonmass:  11.0\n"
     ]
    },
    {
     "name": "stderr",
     "output_type": "stream",
     "text": [
      "fill ttZ_trileptonmass for /eos/home-j/jiwoong/WZG_DB/2016/merged_data/DoubleEG_Run2016C.root: 0it [00:00, ?it/s]\n"
     ]
    },
    {
     "name": "stdout",
     "output_type": "stream",
     "text": [
      "SumOfWeights for ttZ_trileptonmass:  209.0\n"
     ]
    },
    {
     "name": "stderr",
     "output_type": "stream",
     "text": [
      "fill ttG_trileptonmass for /eos/home-j/jiwoong/WZG_DB/2016/merged_data/DoubleEG_Run2016C.root: 0it [00:00, ?it/s]\n"
     ]
    },
    {
     "name": "stdout",
     "output_type": "stream",
     "text": [
      "SumOfWeights for ttG_trileptonmass:  1.0\n"
     ]
    },
    {
     "name": "stderr",
     "output_type": "stream",
     "text": [
      "fill MET for /eos/home-j/jiwoong/WZG_DB/2016/merged_data/DoubleEG_Run2016C.root: 0it [00:00, ?it/s]\n"
     ]
    },
    {
     "name": "stdout",
     "output_type": "stream",
     "text": [
      "SumOfWeights for MET:  265.0\n"
     ]
    },
    {
     "name": "stderr",
     "output_type": "stream",
     "text": [
      "fill nJets for /eos/home-j/jiwoong/WZG_DB/2016/merged_data/DoubleEG_Run2016C.root: 0it [00:00, ?it/s]\n"
     ]
    },
    {
     "name": "stdout",
     "output_type": "stream",
     "text": [
      "SumOfWeights for nJets:  721.0\n"
     ]
    },
    {
     "name": "stderr",
     "output_type": "stream",
     "text": [
      "fill nbJets for /eos/home-j/jiwoong/WZG_DB/2016/merged_data/DoubleEG_Run2016C.root: 0it [00:00, ?it/s]\n"
     ]
    },
    {
     "name": "stdout",
     "output_type": "stream",
     "text": [
      "SumOfWeights for nbJets:  722.0\n",
      "Time cost: 2.28\n",
      "\n",
      "is Data\n"
     ]
    },
    {
     "name": "stderr",
     "output_type": "stream",
     "text": [
      "fill WZG_dileptonmass for /eos/home-j/jiwoong/WZG_DB/2016/merged_data/DoubleEG_Run2016D.root: 100%|██████████| 1/1 [00:00<00:00, 5729.92it/s]\n"
     ]
    },
    {
     "name": "stdout",
     "output_type": "stream",
     "text": [
      "SumOfWeights for WZG_dileptonmass:  34.0\n"
     ]
    },
    {
     "name": "stderr",
     "output_type": "stream",
     "text": [
      "fill WZG_trileptonmass for /eos/home-j/jiwoong/WZG_DB/2016/merged_data/DoubleEG_Run2016D.root: 100%|██████████| 1/1 [00:00<00:00, 7157.52it/s]\n"
     ]
    },
    {
     "name": "stdout",
     "output_type": "stream",
     "text": [
      "SumOfWeights for WZG_trileptonmass:  34.0\n"
     ]
    },
    {
     "name": "stderr",
     "output_type": "stream",
     "text": [
      "fill ZZ_mllz1 for /eos/home-j/jiwoong/WZG_DB/2016/merged_data/DoubleEG_Run2016D.root: 100%|██████████| 1/1 [00:00<00:00, 7796.10it/s]\n"
     ]
    },
    {
     "name": "stdout",
     "output_type": "stream",
     "text": [
      "SumOfWeights for ZZ_dileptonmass:  723.0\n"
     ]
    },
    {
     "name": "stderr",
     "output_type": "stream",
     "text": [
      "fill ZZ_trileptonmass for /eos/home-j/jiwoong/WZG_DB/2016/merged_data/DoubleEG_Run2016D.root: 100%|██████████| 1/1 [00:00<00:00, 9510.89it/s]\n"
     ]
    },
    {
     "name": "stdout",
     "output_type": "stream",
     "text": [
      "SumOfWeights for ZZ_trileptonmass:  708.0\n"
     ]
    },
    {
     "name": "stderr",
     "output_type": "stream",
     "text": [
      "fill ZZ_MET for /eos/home-j/jiwoong/WZG_DB/2016/merged_data/DoubleEG_Run2016D.root: 100%|██████████| 1/1 [00:00<00:00, 7724.32it/s]\n"
     ]
    },
    {
     "name": "stdout",
     "output_type": "stream",
     "text": [
      "SumOfWeights for ZZ_MET:  266.0\n"
     ]
    },
    {
     "name": "stderr",
     "output_type": "stream",
     "text": [
      "fill ttZ_dileptonmass for /eos/home-j/jiwoong/WZG_DB/2016/merged_data/DoubleEG_Run2016D.root: 100%|██████████| 1/1 [00:00<00:00, 8793.09it/s]\n"
     ]
    },
    {
     "name": "stdout",
     "output_type": "stream",
     "text": [
      "SumOfWeights for ttZ_dileptonmass:  11.0\n"
     ]
    },
    {
     "name": "stderr",
     "output_type": "stream",
     "text": [
      "fill ttZ_trileptonmass for /eos/home-j/jiwoong/WZG_DB/2016/merged_data/DoubleEG_Run2016D.root: 100%|██████████| 1/1 [00:00<00:00, 8456.26it/s]\n"
     ]
    },
    {
     "name": "stdout",
     "output_type": "stream",
     "text": [
      "SumOfWeights for ttZ_trileptonmass:  209.0\n"
     ]
    },
    {
     "name": "stderr",
     "output_type": "stream",
     "text": [
      "fill ttG_trileptonmass for /eos/home-j/jiwoong/WZG_DB/2016/merged_data/DoubleEG_Run2016D.root: 100%|██████████| 1/1 [00:00<00:00, 8867.45it/s]\n"
     ]
    },
    {
     "name": "stdout",
     "output_type": "stream",
     "text": [
      "SumOfWeights for ttG_trileptonmass:  1.0\n"
     ]
    },
    {
     "name": "stderr",
     "output_type": "stream",
     "text": [
      "fill MET for /eos/home-j/jiwoong/WZG_DB/2016/merged_data/DoubleEG_Run2016D.root: 100%|██████████| 1/1 [00:00<00:00, 8240.28it/s]\n"
     ]
    },
    {
     "name": "stdout",
     "output_type": "stream",
     "text": [
      "SumOfWeights for MET:  266.0\n"
     ]
    },
    {
     "name": "stderr",
     "output_type": "stream",
     "text": [
      "fill nJets for /eos/home-j/jiwoong/WZG_DB/2016/merged_data/DoubleEG_Run2016D.root: 100%|██████████| 1/1 [00:00<00:00, 5035.18it/s]\n"
     ]
    },
    {
     "name": "stdout",
     "output_type": "stream",
     "text": [
      "SumOfWeights for nJets:  722.0\n"
     ]
    },
    {
     "name": "stderr",
     "output_type": "stream",
     "text": [
      "fill nbJets for /eos/home-j/jiwoong/WZG_DB/2016/merged_data/DoubleEG_Run2016D.root: 100%|██████████| 1/1 [00:00<00:00, 9962.72it/s]\n"
     ]
    },
    {
     "name": "stdout",
     "output_type": "stream",
     "text": [
      "SumOfWeights for nbJets:  723.0\n",
      "Time cost: 2.88\n",
      "\n",
      "is Data\n"
     ]
    },
    {
     "name": "stderr",
     "output_type": "stream",
     "text": [
      "fill WZG_dileptonmass for /eos/home-j/jiwoong/WZG_DB/2016/merged_data/DoubleEG_Run2016E.root: 0it [00:00, ?it/s]\n"
     ]
    },
    {
     "name": "stdout",
     "output_type": "stream",
     "text": [
      "SumOfWeights for WZG_dileptonmass:  34.0\n"
     ]
    },
    {
     "name": "stderr",
     "output_type": "stream",
     "text": [
      "fill WZG_trileptonmass for /eos/home-j/jiwoong/WZG_DB/2016/merged_data/DoubleEG_Run2016E.root: 0it [00:00, ?it/s]\n"
     ]
    },
    {
     "name": "stdout",
     "output_type": "stream",
     "text": [
      "SumOfWeights for WZG_trileptonmass:  34.0\n"
     ]
    },
    {
     "name": "stderr",
     "output_type": "stream",
     "text": [
      "fill ZZ_mllz1 for /eos/home-j/jiwoong/WZG_DB/2016/merged_data/DoubleEG_Run2016E.root: 0it [00:00, ?it/s]\n"
     ]
    },
    {
     "name": "stdout",
     "output_type": "stream",
     "text": [
      "SumOfWeights for ZZ_dileptonmass:  723.0\n"
     ]
    },
    {
     "name": "stderr",
     "output_type": "stream",
     "text": [
      "fill ZZ_trileptonmass for /eos/home-j/jiwoong/WZG_DB/2016/merged_data/DoubleEG_Run2016E.root: 0it [00:00, ?it/s]\n"
     ]
    },
    {
     "name": "stdout",
     "output_type": "stream",
     "text": [
      "SumOfWeights for ZZ_trileptonmass:  708.0\n"
     ]
    },
    {
     "name": "stderr",
     "output_type": "stream",
     "text": [
      "fill ZZ_MET for /eos/home-j/jiwoong/WZG_DB/2016/merged_data/DoubleEG_Run2016E.root: 0it [00:00, ?it/s]\n"
     ]
    },
    {
     "name": "stdout",
     "output_type": "stream",
     "text": [
      "SumOfWeights for ZZ_MET:  266.0\n"
     ]
    },
    {
     "name": "stderr",
     "output_type": "stream",
     "text": [
      "fill ttZ_dileptonmass for /eos/home-j/jiwoong/WZG_DB/2016/merged_data/DoubleEG_Run2016E.root: 0it [00:00, ?it/s]\n"
     ]
    },
    {
     "name": "stdout",
     "output_type": "stream",
     "text": [
      "SumOfWeights for ttZ_dileptonmass:  11.0\n"
     ]
    },
    {
     "name": "stderr",
     "output_type": "stream",
     "text": [
      "fill ttZ_trileptonmass for /eos/home-j/jiwoong/WZG_DB/2016/merged_data/DoubleEG_Run2016E.root: 0it [00:00, ?it/s]\n"
     ]
    },
    {
     "name": "stdout",
     "output_type": "stream",
     "text": [
      "SumOfWeights for ttZ_trileptonmass:  209.0\n"
     ]
    },
    {
     "name": "stderr",
     "output_type": "stream",
     "text": [
      "fill ttG_trileptonmass for /eos/home-j/jiwoong/WZG_DB/2016/merged_data/DoubleEG_Run2016E.root: 0it [00:00, ?it/s]\n"
     ]
    },
    {
     "name": "stdout",
     "output_type": "stream",
     "text": [
      "SumOfWeights for ttG_trileptonmass:  1.0\n"
     ]
    },
    {
     "name": "stderr",
     "output_type": "stream",
     "text": [
      "fill MET for /eos/home-j/jiwoong/WZG_DB/2016/merged_data/DoubleEG_Run2016E.root: 0it [00:00, ?it/s]\n"
     ]
    },
    {
     "name": "stdout",
     "output_type": "stream",
     "text": [
      "SumOfWeights for MET:  266.0\n"
     ]
    },
    {
     "name": "stderr",
     "output_type": "stream",
     "text": [
      "fill nJets for /eos/home-j/jiwoong/WZG_DB/2016/merged_data/DoubleEG_Run2016E.root: 0it [00:00, ?it/s]\n"
     ]
    },
    {
     "name": "stdout",
     "output_type": "stream",
     "text": [
      "SumOfWeights for nJets:  722.0\n"
     ]
    },
    {
     "name": "stderr",
     "output_type": "stream",
     "text": [
      "fill nbJets for /eos/home-j/jiwoong/WZG_DB/2016/merged_data/DoubleEG_Run2016E.root: 0it [00:00, ?it/s]\n"
     ]
    },
    {
     "name": "stdout",
     "output_type": "stream",
     "text": [
      "SumOfWeights for nbJets:  723.0\n",
      "Time cost: 2.20\n",
      "\n",
      "is Data\n"
     ]
    },
    {
     "name": "stderr",
     "output_type": "stream",
     "text": [
      "fill WZG_dileptonmass for /eos/home-j/jiwoong/WZG_DB/2016/merged_data/DoubleEG_Run2016F.root: 0it [00:00, ?it/s]\n"
     ]
    },
    {
     "name": "stdout",
     "output_type": "stream",
     "text": [
      "SumOfWeights for WZG_dileptonmass:  34.0\n"
     ]
    },
    {
     "name": "stderr",
     "output_type": "stream",
     "text": [
      "fill WZG_trileptonmass for /eos/home-j/jiwoong/WZG_DB/2016/merged_data/DoubleEG_Run2016F.root: 0it [00:00, ?it/s]\n"
     ]
    },
    {
     "name": "stdout",
     "output_type": "stream",
     "text": [
      "SumOfWeights for WZG_trileptonmass:  34.0\n"
     ]
    },
    {
     "name": "stderr",
     "output_type": "stream",
     "text": [
      "fill ZZ_mllz1 for /eos/home-j/jiwoong/WZG_DB/2016/merged_data/DoubleEG_Run2016F.root: 0it [00:00, ?it/s]\n"
     ]
    },
    {
     "name": "stdout",
     "output_type": "stream",
     "text": [
      "SumOfWeights for ZZ_dileptonmass:  723.0\n"
     ]
    },
    {
     "name": "stderr",
     "output_type": "stream",
     "text": [
      "fill ZZ_trileptonmass for /eos/home-j/jiwoong/WZG_DB/2016/merged_data/DoubleEG_Run2016F.root: 0it [00:00, ?it/s]\n"
     ]
    },
    {
     "name": "stdout",
     "output_type": "stream",
     "text": [
      "SumOfWeights for ZZ_trileptonmass:  708.0\n"
     ]
    },
    {
     "name": "stderr",
     "output_type": "stream",
     "text": [
      "fill ZZ_MET for /eos/home-j/jiwoong/WZG_DB/2016/merged_data/DoubleEG_Run2016F.root: 0it [00:00, ?it/s]\n"
     ]
    },
    {
     "name": "stdout",
     "output_type": "stream",
     "text": [
      "SumOfWeights for ZZ_MET:  266.0\n"
     ]
    },
    {
     "name": "stderr",
     "output_type": "stream",
     "text": [
      "fill ttZ_dileptonmass for /eos/home-j/jiwoong/WZG_DB/2016/merged_data/DoubleEG_Run2016F.root: 0it [00:00, ?it/s]\n"
     ]
    },
    {
     "name": "stdout",
     "output_type": "stream",
     "text": [
      "SumOfWeights for ttZ_dileptonmass:  11.0\n"
     ]
    },
    {
     "name": "stderr",
     "output_type": "stream",
     "text": [
      "fill ttZ_trileptonmass for /eos/home-j/jiwoong/WZG_DB/2016/merged_data/DoubleEG_Run2016F.root: 0it [00:00, ?it/s]\n"
     ]
    },
    {
     "name": "stdout",
     "output_type": "stream",
     "text": [
      "SumOfWeights for ttZ_trileptonmass:  209.0\n"
     ]
    },
    {
     "name": "stderr",
     "output_type": "stream",
     "text": [
      "fill ttG_trileptonmass for /eos/home-j/jiwoong/WZG_DB/2016/merged_data/DoubleEG_Run2016F.root: 0it [00:00, ?it/s]\n"
     ]
    },
    {
     "name": "stdout",
     "output_type": "stream",
     "text": [
      "SumOfWeights for ttG_trileptonmass:  1.0\n"
     ]
    },
    {
     "name": "stderr",
     "output_type": "stream",
     "text": [
      "fill MET for /eos/home-j/jiwoong/WZG_DB/2016/merged_data/DoubleEG_Run2016F.root: 0it [00:00, ?it/s]\n"
     ]
    },
    {
     "name": "stdout",
     "output_type": "stream",
     "text": [
      "SumOfWeights for MET:  266.0\n"
     ]
    },
    {
     "name": "stderr",
     "output_type": "stream",
     "text": [
      "fill nJets for /eos/home-j/jiwoong/WZG_DB/2016/merged_data/DoubleEG_Run2016F.root: 0it [00:00, ?it/s]\n"
     ]
    },
    {
     "name": "stdout",
     "output_type": "stream",
     "text": [
      "SumOfWeights for nJets:  722.0\n"
     ]
    },
    {
     "name": "stderr",
     "output_type": "stream",
     "text": [
      "fill nbJets for /eos/home-j/jiwoong/WZG_DB/2016/merged_data/DoubleEG_Run2016F.root: 0it [00:00, ?it/s]\n"
     ]
    },
    {
     "name": "stdout",
     "output_type": "stream",
     "text": [
      "SumOfWeights for nbJets:  723.0\n",
      "Time cost: 2.17\n",
      "\n",
      "is Data\n"
     ]
    },
    {
     "name": "stderr",
     "output_type": "stream",
     "text": [
      "fill WZG_dileptonmass for /eos/home-j/jiwoong/WZG_DB/2016/merged_data/DoubleEG_Run2016G.root: 100%|██████████| 1/1 [00:00<00:00, 6017.65it/s]\n"
     ]
    },
    {
     "name": "stdout",
     "output_type": "stream",
     "text": [
      "SumOfWeights for WZG_dileptonmass:  34.0\n"
     ]
    },
    {
     "name": "stderr",
     "output_type": "stream",
     "text": [
      "fill WZG_trileptonmass for /eos/home-j/jiwoong/WZG_DB/2016/merged_data/DoubleEG_Run2016G.root: 100%|██████████| 1/1 [00:00<00:00, 3837.42it/s]\n"
     ]
    },
    {
     "name": "stdout",
     "output_type": "stream",
     "text": [
      "SumOfWeights for WZG_trileptonmass:  34.0\n"
     ]
    },
    {
     "name": "stderr",
     "output_type": "stream",
     "text": [
      "fill ZZ_mllz1 for /eos/home-j/jiwoong/WZG_DB/2016/merged_data/DoubleEG_Run2016G.root: 100%|██████████| 1/1 [00:00<00:00, 7898.88it/s]\n"
     ]
    },
    {
     "name": "stdout",
     "output_type": "stream",
     "text": [
      "SumOfWeights for ZZ_dileptonmass:  724.0\n"
     ]
    },
    {
     "name": "stderr",
     "output_type": "stream",
     "text": [
      "fill ZZ_trileptonmass for /eos/home-j/jiwoong/WZG_DB/2016/merged_data/DoubleEG_Run2016G.root: 100%|██████████| 1/1 [00:00<00:00, 8924.05it/s]\n"
     ]
    },
    {
     "name": "stdout",
     "output_type": "stream",
     "text": [
      "SumOfWeights for ZZ_trileptonmass:  708.0\n"
     ]
    },
    {
     "name": "stderr",
     "output_type": "stream",
     "text": [
      "fill ZZ_MET for /eos/home-j/jiwoong/WZG_DB/2016/merged_data/DoubleEG_Run2016G.root: 100%|██████████| 1/1 [00:00<00:00, 5761.41it/s]\n"
     ]
    },
    {
     "name": "stdout",
     "output_type": "stream",
     "text": [
      "SumOfWeights for ZZ_MET:  267.0\n"
     ]
    },
    {
     "name": "stderr",
     "output_type": "stream",
     "text": [
      "fill ttZ_dileptonmass for /eos/home-j/jiwoong/WZG_DB/2016/merged_data/DoubleEG_Run2016G.root: 100%|██████████| 1/1 [00:00<00:00, 8422.30it/s]\n"
     ]
    },
    {
     "name": "stdout",
     "output_type": "stream",
     "text": [
      "SumOfWeights for ttZ_dileptonmass:  11.0\n"
     ]
    },
    {
     "name": "stderr",
     "output_type": "stream",
     "text": [
      "fill ttZ_trileptonmass for /eos/home-j/jiwoong/WZG_DB/2016/merged_data/DoubleEG_Run2016G.root: 100%|██████████| 1/1 [00:00<00:00, 3545.48it/s]\n"
     ]
    },
    {
     "name": "stdout",
     "output_type": "stream",
     "text": [
      "SumOfWeights for ttZ_trileptonmass:  210.0\n"
     ]
    },
    {
     "name": "stderr",
     "output_type": "stream",
     "text": [
      "fill ttG_trileptonmass for /eos/home-j/jiwoong/WZG_DB/2016/merged_data/DoubleEG_Run2016G.root: 100%|██████████| 1/1 [00:00<00:00, 3675.99it/s]\n"
     ]
    },
    {
     "name": "stdout",
     "output_type": "stream",
     "text": [
      "SumOfWeights for ttG_trileptonmass:  1.0\n"
     ]
    },
    {
     "name": "stderr",
     "output_type": "stream",
     "text": [
      "fill MET for /eos/home-j/jiwoong/WZG_DB/2016/merged_data/DoubleEG_Run2016G.root: 100%|██████████| 1/1 [00:00<00:00, 4161.02it/s]\n"
     ]
    },
    {
     "name": "stdout",
     "output_type": "stream",
     "text": [
      "SumOfWeights for MET:  267.0\n"
     ]
    },
    {
     "name": "stderr",
     "output_type": "stream",
     "text": [
      "fill nJets for /eos/home-j/jiwoong/WZG_DB/2016/merged_data/DoubleEG_Run2016G.root: 100%|██████████| 1/1 [00:00<00:00, 5761.41it/s]\n"
     ]
    },
    {
     "name": "stdout",
     "output_type": "stream",
     "text": [
      "SumOfWeights for nJets:  723.0\n"
     ]
    },
    {
     "name": "stderr",
     "output_type": "stream",
     "text": [
      "fill nbJets for /eos/home-j/jiwoong/WZG_DB/2016/merged_data/DoubleEG_Run2016G.root: 100%|██████████| 1/1 [00:00<00:00, 6543.38it/s]\n"
     ]
    },
    {
     "name": "stdout",
     "output_type": "stream",
     "text": [
      "SumOfWeights for nbJets:  724.0\n",
      "Time cost: 2.44\n",
      "\n",
      "is Data\n"
     ]
    },
    {
     "name": "stderr",
     "output_type": "stream",
     "text": [
      "fill WZG_dileptonmass for /eos/home-j/jiwoong/WZG_DB/2016/merged_data/DoubleEG_Run2016H.root: 0it [00:00, ?it/s]\n"
     ]
    },
    {
     "name": "stdout",
     "output_type": "stream",
     "text": [
      "SumOfWeights for WZG_dileptonmass:  34.0\n"
     ]
    },
    {
     "name": "stderr",
     "output_type": "stream",
     "text": [
      "fill WZG_trileptonmass for /eos/home-j/jiwoong/WZG_DB/2016/merged_data/DoubleEG_Run2016H.root: 0it [00:00, ?it/s]\n"
     ]
    },
    {
     "name": "stdout",
     "output_type": "stream",
     "text": [
      "SumOfWeights for WZG_trileptonmass:  34.0\n"
     ]
    },
    {
     "name": "stderr",
     "output_type": "stream",
     "text": [
      "fill ZZ_mllz1 for /eos/home-j/jiwoong/WZG_DB/2016/merged_data/DoubleEG_Run2016H.root: 0it [00:00, ?it/s]\n"
     ]
    },
    {
     "name": "stdout",
     "output_type": "stream",
     "text": [
      "SumOfWeights for ZZ_dileptonmass:  724.0\n"
     ]
    },
    {
     "name": "stderr",
     "output_type": "stream",
     "text": [
      "fill ZZ_trileptonmass for /eos/home-j/jiwoong/WZG_DB/2016/merged_data/DoubleEG_Run2016H.root: 0it [00:00, ?it/s]\n"
     ]
    },
    {
     "name": "stdout",
     "output_type": "stream",
     "text": [
      "SumOfWeights for ZZ_trileptonmass:  708.0\n"
     ]
    },
    {
     "name": "stderr",
     "output_type": "stream",
     "text": [
      "fill ZZ_MET for /eos/home-j/jiwoong/WZG_DB/2016/merged_data/DoubleEG_Run2016H.root: 0it [00:00, ?it/s]\n"
     ]
    },
    {
     "name": "stdout",
     "output_type": "stream",
     "text": [
      "SumOfWeights for ZZ_MET:  267.0\n"
     ]
    },
    {
     "name": "stderr",
     "output_type": "stream",
     "text": [
      "fill ttZ_dileptonmass for /eos/home-j/jiwoong/WZG_DB/2016/merged_data/DoubleEG_Run2016H.root: 0it [00:00, ?it/s]\n"
     ]
    },
    {
     "name": "stdout",
     "output_type": "stream",
     "text": [
      "SumOfWeights for ttZ_dileptonmass:  11.0\n"
     ]
    },
    {
     "name": "stderr",
     "output_type": "stream",
     "text": [
      "fill ttZ_trileptonmass for /eos/home-j/jiwoong/WZG_DB/2016/merged_data/DoubleEG_Run2016H.root: 0it [00:00, ?it/s]\n"
     ]
    },
    {
     "name": "stdout",
     "output_type": "stream",
     "text": [
      "SumOfWeights for ttZ_trileptonmass:  210.0\n"
     ]
    },
    {
     "name": "stderr",
     "output_type": "stream",
     "text": [
      "fill ttG_trileptonmass for /eos/home-j/jiwoong/WZG_DB/2016/merged_data/DoubleEG_Run2016H.root: 0it [00:00, ?it/s]\n"
     ]
    },
    {
     "name": "stdout",
     "output_type": "stream",
     "text": [
      "SumOfWeights for ttG_trileptonmass:  1.0\n"
     ]
    },
    {
     "name": "stderr",
     "output_type": "stream",
     "text": [
      "fill MET for /eos/home-j/jiwoong/WZG_DB/2016/merged_data/DoubleEG_Run2016H.root: 0it [00:00, ?it/s]\n"
     ]
    },
    {
     "name": "stdout",
     "output_type": "stream",
     "text": [
      "SumOfWeights for MET:  267.0\n"
     ]
    },
    {
     "name": "stderr",
     "output_type": "stream",
     "text": [
      "fill nJets for /eos/home-j/jiwoong/WZG_DB/2016/merged_data/DoubleEG_Run2016H.root: 0it [00:00, ?it/s]\n"
     ]
    },
    {
     "name": "stdout",
     "output_type": "stream",
     "text": [
      "SumOfWeights for nJets:  723.0\n"
     ]
    },
    {
     "name": "stderr",
     "output_type": "stream",
     "text": [
      "fill nbJets for /eos/home-j/jiwoong/WZG_DB/2016/merged_data/DoubleEG_Run2016H.root: 0it [00:00, ?it/s]"
     ]
    },
    {
     "name": "stdout",
     "output_type": "stream",
     "text": [
      "SumOfWeights for nbJets:  724.0\n",
      "Time cost: 2.47\n",
      "\n"
     ]
    },
    {
     "name": "stderr",
     "output_type": "stream",
     "text": [
      "\n"
     ]
    }
   ],
   "source": [
    "for file in filelist_data:\n",
    "    AddHist(file, hist_data, 1, 0, 0, channel, branch, UpDown)"
   ]
  },
  {
   "cell_type": "markdown",
   "id": "4617c72e",
   "metadata": {},
   "source": [
    "### Add MC"
   ]
  },
  {
   "cell_type": "code",
   "execution_count": 31,
   "id": "d6591ed3",
   "metadata": {},
   "outputs": [],
   "source": [
    "filelist_MC = {\n",
    "   \"TTG\":\n",
    "        {\"name\":\"TTGJets\", \n",
    "        \"path\":\"/eos/home-j/jiwoong/WZG_DB/2016/merged_mc/TTGJets_2016.root\", \n",
    "        \"xsec\":4.078,\n",
    "        \"color\":42},\n",
    "   \"TTZ\":\n",
    "        {\"name\":\"TTZToLLNuNu\", \n",
    "        \"path\":\"/eos/home-j/jiwoong/WZG_DB/2016/merged_mc/TTZToLLNuNu_2016.root\", \n",
    "        \"xsec\":0.2432,\n",
    "        \"color\":42},\n",
    "   \"TTW\":\n",
    "        {\"name\":\"TTWJetsToLNu\", \n",
    "        \"path\":\"/eos/home-j/jiwoong/WZG_DB/2016/merged_mc/TTWJetsToLNu_2016.root\", \n",
    "        \"xsec\":0.2149,\n",
    "        \"color\":42},\n",
    "   \"tZq\":\n",
    "        {\"name\":\"tZq_ll\", \n",
    "        \"path\":\"/eos/home-j/jiwoong/WZG_DB/2016/merged_mc/tZq_2016.root\", \n",
    "        \"xsec\":0.07358,\n",
    "        \"color\":42},\n",
    "   \"WWW\":\n",
    "        {\"name\":\"WWW\", \n",
    "        \"path\":\"/eos/home-j/jiwoong/WZG_DB/2016/merged_mc/WWW_2016.root\", \n",
    "        \"xsec\":0.2086,\n",
    "        \"color\":41},\n",
    "   \"ZGToLLG\":\n",
    "        {\"name\":\"ZGToLLG\",\n",
    "        \"path\":\"/eos/home-j/jiwoong/WZG_DB/2016/merged_mc/ZGToLLG_2016.root\", \n",
    "        \"xsec\":55.48,\n",
    "        \"color\":48},\n",
    "    \"ZZ\":\n",
    "        {\"name\":\"ZZ\",\n",
    "        \"path\":\"/eos/home-j/jiwoong/WZG_DB/2016/merged_mc/ZZ_2016.root\",\n",
    "        \"xsec\":16.523, # NLO\n",
    "        \"color\":12},\n",
    "    \"WZG\":\n",
    "        {\"name\":\"WZG\",\n",
    "        \"path\":\"/eos/home-j/jiwoong/WZG_DB/2016/merged_mc/wzg_2016.root\",\n",
    "        \"xsec\":0.0384,\n",
    "        \"color\":46},\n",
    "   \"WWZ\":\n",
    "        {\"name\":\"WWZ\", \n",
    "        \"path\":\"/eos/home-j/jiwoong/WZG_DB/2016/merged_mc/WWZ_2016.root\", \n",
    "        \"xsec\":0.1707,\n",
    "        \"color\":41},\n",
    "    \"ttH\":\n",
    "        {\"name\":\"ttH\", \n",
    "        \"path\":\"/eos/home-j/jiwoong/WZG_DB/2016/merged_mc/ttHToNonbb_2016.root\", \n",
    "        \"xsec\":0.5638,\n",
    "        \"color\":42},   \n",
    "    \n",
    "    \"WZZ\":\n",
    "        {\"name\":\"WZZ\", \n",
    "        \"path\":\"/eos/home-j/jiwoong/WZG_DB/2016/merged_mc/WZZ_2016.root\", \n",
    "        \"xsec\":0.05709,\n",
    "        \"color\":41},    \n",
    "    \n",
    "   \"ZZZ\":\n",
    "        {\"name\":\"ZZZ\", \n",
    "        \"path\":\"/eos/home-j/jiwoong/WZG_DB/2016/merged_mc/ZZZ_2016.root\", \n",
    "        \"xsec\":0.01476,\n",
    "        \"color\":41},     \n",
    "   \"TTWW\":\n",
    "        {\"name\":\"TTWW\", \n",
    "        \"path\":\"/eos/home-j/jiwoong/WZG_DB/2016/merged_mc/TTWW_2016.root\", \n",
    "        \"xsec\":0.007003,\n",
    "        \"color\":42},    \n",
    "   \"TTWZ\":\n",
    "        {\"name\":\"TTWZ\", \n",
    "        \"path\":\"/eos/home-j/jiwoong/WZG_DB/2016/merged_mc/TTWZ_2016.root\", \n",
    "        \"xsec\":0.002453,\n",
    "        \"color\":42}, \n",
    "   \"TTZZ\":\n",
    "        {\"name\":\"TTZZ\", \n",
    "        \"path\":\"/eos/home-j/jiwoong/WZG_DB/2016/merged_mc/TTZZ_2016.root\", \n",
    "        \"xsec\":0.001386,\n",
    "        \"color\":42}, \n",
    "   \"ggZZ_2e2mu\":\n",
    "        {\"name\":\"ggZZ2e2mu\",\n",
    "        \"path\":\"/eos/home-j/jiwoong/WZG_DB/2016/merged_mc/GluGluToContinToZZTo2e2mu_2016.root\",\n",
    "        \"xsec\":0.00319,\n",
    "        \"color\":45},\n",
    "   \"ggZZ_2e2nu\":\n",
    "        {\"name\":\"ggZZ2e2nu\",\n",
    "        \"path\":\"/eos/home-j/jiwoong/WZG_DB/2016/merged_mc/GluGluToContinToZZTo2e2nu_2016.root\",\n",
    "        \"xsec\":0.00319,\n",
    "        \"color\":45},\n",
    "   \"ggZZ_2e2tau\":\n",
    "        {\"name\":\"ggZZ2e2tau\",\n",
    "        \"path\":\"/eos/home-j/jiwoong/WZG_DB/2016/merged_mc/GluGluToContinToZZTo2e2tau_2016.root\",\n",
    "        \"xsec\":0.00319,\n",
    "        \"color\":45},\n",
    "   \"ggZZ_2mu2nu\":\n",
    "        {\"name\":\"ggZZ2mu2nu\",\n",
    "        \"path\":\"/eos/home-j/jiwoong/WZG_DB/2016/merged_mc/GluGluToContinToZZTo2mu2nu_2016.root\",\n",
    "        \"xsec\":0.00319,\n",
    "        \"color\":45},\n",
    "   \"ggZZ_2mu2tau\":\n",
    "        {\"name\":\"ggZZ2mu2tau\",\n",
    "        \"path\":\"/eos/home-j/jiwoong/WZG_DB/2016/merged_mc/GluGluToContinToZZTo2mu2tau_2016.root\",\n",
    "        \"xsec\":0.00319,\n",
    "        \"color\":45},\n",
    "   \"ggZZ_4e\":\n",
    "        {\"name\":\"ggZZ4e\",\n",
    "        \"path\":\"/eos/home-j/jiwoong/WZG_DB/2016/merged_mc/GluGluToContinToZZTo4e_2016.root\",\n",
    "        \"xsec\":0.00159,\n",
    "        \"color\":45},\n",
    "   \"ggZZ_4mu\":\n",
    "        {\"name\":\"ggZZ4mu\",\n",
    "        \"path\":\"/eos/home-j/jiwoong/WZG_DB/2016/merged_mc/GluGluToContinToZZTo4mu_2016.root\",\n",
    "        \"xsec\":0.00159,\n",
    "        \"color\":45},\n",
    "   \"ggZZ_4tau\":\n",
    "        {\"name\":\"ggZZ4tau\",\n",
    "        \"path\":\"/eos/home-j/jiwoong/WZG_DB/2016/merged_mc/GluGluToContinToZZTo4tau_2016.root\",\n",
    "        \"xsec\":0.00159,\n",
    "        \"color\":45},\n",
    "\n",
    "\n",
    "}"
   ]
  },
  {
   "cell_type": "code",
   "execution_count": 32,
   "id": "ba124274",
   "metadata": {
    "scrolled": false
   },
   "outputs": [
    {
     "name": "stdout",
     "output_type": "stream",
     "text": [
      "is MC\n"
     ]
    },
    {
     "name": "stderr",
     "output_type": "stream",
     "text": [
      "fill WZG_dileptonmass for /eos/home-j/jiwoong/WZG_DB/2016/merged_mc/TTGJets_2016.root: 100%|██████████| 3/3 [00:00<00:00, 14496.44it/s]\n"
     ]
    },
    {
     "name": "stdout",
     "output_type": "stream",
     "text": [
      "SumOfWeights for WZG_dileptonmass:  0.04721011221408844\n"
     ]
    },
    {
     "name": "stderr",
     "output_type": "stream",
     "text": [
      "fill WZG_trileptonmass for /eos/home-j/jiwoong/WZG_DB/2016/merged_mc/TTGJets_2016.root: 100%|██████████| 3/3 [00:00<00:00, 13827.38it/s]\n"
     ]
    },
    {
     "name": "stdout",
     "output_type": "stream",
     "text": [
      "SumOfWeights for WZG_trileptonmass:  0.04721011221408844\n"
     ]
    },
    {
     "name": "stderr",
     "output_type": "stream",
     "text": [
      "fill ZZ_mllz1 for /eos/home-j/jiwoong/WZG_DB/2016/merged_mc/TTGJets_2016.root: 100%|██████████| 3/3 [00:00<00:00, 23607.71it/s]\n"
     ]
    },
    {
     "name": "stdout",
     "output_type": "stream",
     "text": [
      "SumOfWeights for ZZ_dileptonmass:  0.18979565799236298\n"
     ]
    },
    {
     "name": "stderr",
     "output_type": "stream",
     "text": [
      "fill ZZ_trileptonmass for /eos/home-j/jiwoong/WZG_DB/2016/merged_mc/TTGJets_2016.root: 100%|██████████| 3/3 [00:00<00:00, 27176.92it/s]\n"
     ]
    },
    {
     "name": "stdout",
     "output_type": "stream",
     "text": [
      "SumOfWeights for ZZ_trileptonmass:  0.18979565799236298\n"
     ]
    },
    {
     "name": "stderr",
     "output_type": "stream",
     "text": [
      "fill ZZ_MET for /eos/home-j/jiwoong/WZG_DB/2016/merged_mc/TTGJets_2016.root: 100%|██████████| 3/3 [00:00<00:00, 26944.14it/s]\n"
     ]
    },
    {
     "name": "stdout",
     "output_type": "stream",
     "text": [
      "SumOfWeights for ZZ_MET:  0.0518375039100647\n"
     ]
    },
    {
     "name": "stderr",
     "output_type": "stream",
     "text": [
      "fill ttZ_dileptonmass for /eos/home-j/jiwoong/WZG_DB/2016/merged_mc/TTGJets_2016.root: 100%|██████████| 3/3 [00:00<00:00, 23786.22it/s]\n"
     ]
    },
    {
     "name": "stdout",
     "output_type": "stream",
     "text": [
      "SumOfWeights for ttZ_dileptonmass:  0.0\n"
     ]
    },
    {
     "name": "stderr",
     "output_type": "stream",
     "text": [
      "fill ttZ_trileptonmass for /eos/home-j/jiwoong/WZG_DB/2016/merged_mc/TTGJets_2016.root: 100%|██████████| 3/3 [00:00<00:00, 22036.62it/s]\n"
     ]
    },
    {
     "name": "stdout",
     "output_type": "stream",
     "text": [
      "SumOfWeights for ttZ_trileptonmass:  0.04721011221408844\n"
     ]
    },
    {
     "name": "stderr",
     "output_type": "stream",
     "text": [
      "fill ttG_trileptonmass for /eos/home-j/jiwoong/WZG_DB/2016/merged_mc/TTGJets_2016.root: 100%|██████████| 3/3 [00:00<00:00, 19388.15it/s]\n"
     ]
    },
    {
     "name": "stdout",
     "output_type": "stream",
     "text": [
      "SumOfWeights for ttG_trileptonmass:  0.18979565799236298\n"
     ]
    },
    {
     "name": "stderr",
     "output_type": "stream",
     "text": [
      "fill MET for /eos/home-j/jiwoong/WZG_DB/2016/merged_mc/TTGJets_2016.root: 100%|██████████| 3/3 [00:00<00:00, 20763.88it/s]\n"
     ]
    },
    {
     "name": "stdout",
     "output_type": "stream",
     "text": [
      "SumOfWeights for MET:  0.0518375039100647\n"
     ]
    },
    {
     "name": "stderr",
     "output_type": "stream",
     "text": [
      "fill nJets for /eos/home-j/jiwoong/WZG_DB/2016/merged_mc/TTGJets_2016.root: 100%|██████████| 3/3 [00:00<00:00, 25015.73it/s]\n"
     ]
    },
    {
     "name": "stdout",
     "output_type": "stream",
     "text": [
      "SumOfWeights for nJets:  0.0518375039100647\n"
     ]
    },
    {
     "name": "stderr",
     "output_type": "stream",
     "text": [
      "fill nbJets for /eos/home-j/jiwoong/WZG_DB/2016/merged_mc/TTGJets_2016.root: 100%|██████████| 3/3 [00:00<00:00, 21006.53it/s]\n"
     ]
    },
    {
     "name": "stdout",
     "output_type": "stream",
     "text": [
      "SumOfWeights for nbJets:  0.18979564309120178\n",
      "Time cost: 7.07\n",
      "\n",
      "is MC\n"
     ]
    },
    {
     "name": "stderr",
     "output_type": "stream",
     "text": [
      "fill WZG_dileptonmass for /eos/home-j/jiwoong/WZG_DB/2016/merged_mc/TTZToLLNuNu_2016.root: 100%|██████████| 7227/7227 [00:00<00:00, 125197.16it/s]\n"
     ]
    },
    {
     "name": "stdout",
     "output_type": "stream",
     "text": [
      "SumOfWeights for WZG_dileptonmass:  5.146554201841354\n"
     ]
    },
    {
     "name": "stderr",
     "output_type": "stream",
     "text": [
      "fill WZG_trileptonmass for /eos/home-j/jiwoong/WZG_DB/2016/merged_mc/TTZToLLNuNu_2016.root: 100%|██████████| 7227/7227 [00:00<00:00, 124729.90it/s]\n"
     ]
    },
    {
     "name": "stdout",
     "output_type": "stream",
     "text": [
      "SumOfWeights for WZG_trileptonmass:  4.967410355806351\n"
     ]
    },
    {
     "name": "stderr",
     "output_type": "stream",
     "text": [
      "fill ZZ_mllz1 for /eos/home-j/jiwoong/WZG_DB/2016/merged_mc/TTZToLLNuNu_2016.root: 100%|██████████| 7227/7227 [00:00<00:00, 123327.25it/s]\n"
     ]
    },
    {
     "name": "stdout",
     "output_type": "stream",
     "text": [
      "SumOfWeights for ZZ_dileptonmass:  5.30243331938982\n"
     ]
    },
    {
     "name": "stderr",
     "output_type": "stream",
     "text": [
      "fill ZZ_trileptonmass for /eos/home-j/jiwoong/WZG_DB/2016/merged_mc/TTZToLLNuNu_2016.root: 100%|██████████| 7227/7227 [00:00<00:00, 123461.37it/s]\n"
     ]
    },
    {
     "name": "stdout",
     "output_type": "stream",
     "text": [
      "SumOfWeights for ZZ_trileptonmass:  5.030798822641373\n"
     ]
    },
    {
     "name": "stderr",
     "output_type": "stream",
     "text": [
      "fill ZZ_MET for /eos/home-j/jiwoong/WZG_DB/2016/merged_mc/TTZToLLNuNu_2016.root: 100%|██████████| 7227/7227 [00:00<00:00, 123596.78it/s]\n"
     ]
    },
    {
     "name": "stdout",
     "output_type": "stream",
     "text": [
      "SumOfWeights for ZZ_MET:  3.3434098064899445\n"
     ]
    },
    {
     "name": "stderr",
     "output_type": "stream",
     "text": [
      "fill ttZ_dileptonmass for /eos/home-j/jiwoong/WZG_DB/2016/merged_mc/TTZToLLNuNu_2016.root: 100%|██████████| 7227/7227 [00:00<00:00, 123145.88it/s]\n"
     ]
    },
    {
     "name": "stdout",
     "output_type": "stream",
     "text": [
      "SumOfWeights for ttZ_dileptonmass:  0.11822016537189484\n"
     ]
    },
    {
     "name": "stderr",
     "output_type": "stream",
     "text": [
      "fill ttZ_trileptonmass for /eos/home-j/jiwoong/WZG_DB/2016/merged_mc/TTZToLLNuNu_2016.root: 100%|██████████| 7227/7227 [00:00<00:00, 122564.80it/s]\n"
     ]
    },
    {
     "name": "stdout",
     "output_type": "stream",
     "text": [
      "SumOfWeights for ttZ_trileptonmass:  4.113701216876507\n"
     ]
    },
    {
     "name": "stderr",
     "output_type": "stream",
     "text": [
      "fill ttG_trileptonmass for /eos/home-j/jiwoong/WZG_DB/2016/merged_mc/TTZToLLNuNu_2016.root: 100%|██████████| 7227/7227 [00:00<00:00, 123940.94it/s]\n"
     ]
    },
    {
     "name": "stdout",
     "output_type": "stream",
     "text": [
      "SumOfWeights for ttG_trileptonmass:  4.954189609736204\n"
     ]
    },
    {
     "name": "stderr",
     "output_type": "stream",
     "text": [
      "fill MET for /eos/home-j/jiwoong/WZG_DB/2016/merged_mc/TTZToLLNuNu_2016.root: 100%|██████████| 7227/7227 [00:00<00:00, 123965.27it/s]\n"
     ]
    },
    {
     "name": "stdout",
     "output_type": "stream",
     "text": [
      "SumOfWeights for MET:  3.3434098064899445\n"
     ]
    },
    {
     "name": "stderr",
     "output_type": "stream",
     "text": [
      "fill nJets for /eos/home-j/jiwoong/WZG_DB/2016/merged_mc/TTZToLLNuNu_2016.root: 100%|██████████| 7227/7227 [00:00<00:00, 124053.54it/s]\n"
     ]
    },
    {
     "name": "stdout",
     "output_type": "stream",
     "text": [
      "SumOfWeights for nJets:  5.261565342545509\n"
     ]
    },
    {
     "name": "stderr",
     "output_type": "stream",
     "text": [
      "fill nbJets for /eos/home-j/jiwoong/WZG_DB/2016/merged_mc/TTZToLLNuNu_2016.root: 100%|██████████| 7227/7227 [00:00<00:00, 122326.88it/s]\n"
     ]
    },
    {
     "name": "stdout",
     "output_type": "stream",
     "text": [
      "SumOfWeights for nbJets:  5.319090843200684\n",
      "Time cost: 8.48\n",
      "\n",
      "is MC\n"
     ]
    },
    {
     "name": "stderr",
     "output_type": "stream",
     "text": [
      "fill WZG_dileptonmass for /eos/home-j/jiwoong/WZG_DB/2016/merged_mc/TTWJetsToLNu_2016.root: 100%|██████████| 17/17 [00:00<00:00, 52084.13it/s]\n"
     ]
    },
    {
     "name": "stdout",
     "output_type": "stream",
     "text": [
      "SumOfWeights for WZG_dileptonmass:  0.01032968983054161\n"
     ]
    },
    {
     "name": "stderr",
     "output_type": "stream",
     "text": [
      "fill WZG_trileptonmass for /eos/home-j/jiwoong/WZG_DB/2016/merged_mc/TTWJetsToLNu_2016.root: 100%|██████████| 17/17 [00:00<00:00, 41820.04it/s]\n"
     ]
    },
    {
     "name": "stdout",
     "output_type": "stream",
     "text": [
      "SumOfWeights for WZG_trileptonmass:  0.010329690296202898\n"
     ]
    },
    {
     "name": "stderr",
     "output_type": "stream",
     "text": [
      "fill ZZ_mllz1 for /eos/home-j/jiwoong/WZG_DB/2016/merged_mc/TTWJetsToLNu_2016.root: 100%|██████████| 17/17 [00:00<00:00, 70457.68it/s]\n"
     ]
    },
    {
     "name": "stdout",
     "output_type": "stream",
     "text": [
      "SumOfWeights for ZZ_dileptonmass:  0.01277085137553513\n"
     ]
    },
    {
     "name": "stderr",
     "output_type": "stream",
     "text": [
      "fill ZZ_trileptonmass for /eos/home-j/jiwoong/WZG_DB/2016/merged_mc/TTWJetsToLNu_2016.root: 100%|██████████| 17/17 [00:00<00:00, 70042.40it/s]\n"
     ]
    },
    {
     "name": "stdout",
     "output_type": "stream",
     "text": [
      "SumOfWeights for ZZ_trileptonmass:  0.012718601385131478\n"
     ]
    },
    {
     "name": "stderr",
     "output_type": "stream",
     "text": [
      "fill ZZ_MET for /eos/home-j/jiwoong/WZG_DB/2016/merged_mc/TTWJetsToLNu_2016.root: 100%|██████████| 17/17 [00:00<00:00, 46603.38it/s]\n"
     ]
    },
    {
     "name": "stdout",
     "output_type": "stream",
     "text": [
      "SumOfWeights for ZZ_MET:  0.006344255292788148\n"
     ]
    },
    {
     "name": "stderr",
     "output_type": "stream",
     "text": [
      "fill ttZ_dileptonmass for /eos/home-j/jiwoong/WZG_DB/2016/merged_mc/TTWJetsToLNu_2016.root: 100%|██████████| 17/17 [00:00<00:00, 50894.48it/s]\n"
     ]
    },
    {
     "name": "stdout",
     "output_type": "stream",
     "text": [
      "SumOfWeights for ttZ_dileptonmass:  0.0\n"
     ]
    },
    {
     "name": "stderr",
     "output_type": "stream",
     "text": [
      "fill ttZ_trileptonmass for /eos/home-j/jiwoong/WZG_DB/2016/merged_mc/TTWJetsToLNu_2016.root: 100%|██████████| 17/17 [00:00<00:00, 75693.38it/s]\n"
     ]
    },
    {
     "name": "stdout",
     "output_type": "stream",
     "text": [
      "SumOfWeights for ttZ_trileptonmass:  0.0014794033486396074\n"
     ]
    },
    {
     "name": "stderr",
     "output_type": "stream",
     "text": [
      "fill ttG_trileptonmass for /eos/home-j/jiwoong/WZG_DB/2016/merged_mc/TTWJetsToLNu_2016.root: 100%|██████████| 17/17 [00:00<00:00, 73357.17it/s]\n"
     ]
    },
    {
     "name": "stdout",
     "output_type": "stream",
     "text": [
      "SumOfWeights for ttG_trileptonmass:  0.007601554971188307\n"
     ]
    },
    {
     "name": "stderr",
     "output_type": "stream",
     "text": [
      "fill MET for /eos/home-j/jiwoong/WZG_DB/2016/merged_mc/TTWJetsToLNu_2016.root: 100%|██████████| 17/17 [00:00<00:00, 50497.99it/s]\n"
     ]
    },
    {
     "name": "stdout",
     "output_type": "stream",
     "text": [
      "SumOfWeights for MET:  0.006344255292788148\n"
     ]
    },
    {
     "name": "stderr",
     "output_type": "stream",
     "text": [
      "fill nJets for /eos/home-j/jiwoong/WZG_DB/2016/merged_mc/TTWJetsToLNu_2016.root: 100%|██████████| 17/17 [00:00<00:00, 69700.07it/s]\n"
     ]
    },
    {
     "name": "stdout",
     "output_type": "stream",
     "text": [
      "SumOfWeights for nJets:  0.014893249608576298\n"
     ]
    },
    {
     "name": "stderr",
     "output_type": "stream",
     "text": [
      "fill nbJets for /eos/home-j/jiwoong/WZG_DB/2016/merged_mc/TTWJetsToLNu_2016.root: 100%|██████████| 17/17 [00:00<00:00, 67714.31it/s]\n"
     ]
    },
    {
     "name": "stdout",
     "output_type": "stream",
     "text": [
      "SumOfWeights for nbJets:  0.014893248677253723\n",
      "Time cost: 7.43\n",
      "\n",
      "is MC\n"
     ]
    },
    {
     "name": "stderr",
     "output_type": "stream",
     "text": [
      "fill WZG_dileptonmass for /eos/home-j/jiwoong/WZG_DB/2016/merged_mc/tZq_2016.root: 100%|██████████| 456/456 [00:00<00:00, 105244.19it/s]\n"
     ]
    },
    {
     "name": "stdout",
     "output_type": "stream",
     "text": [
      "SumOfWeights for WZG_dileptonmass:  0.12323082168586552\n"
     ]
    },
    {
     "name": "stderr",
     "output_type": "stream",
     "text": [
      "fill WZG_trileptonmass for /eos/home-j/jiwoong/WZG_DB/2016/merged_mc/tZq_2016.root: 100%|██████████| 456/456 [00:00<00:00, 95812.17it/s]\n"
     ]
    },
    {
     "name": "stdout",
     "output_type": "stream",
     "text": [
      "SumOfWeights for WZG_trileptonmass:  0.11624479934107512\n"
     ]
    },
    {
     "name": "stderr",
     "output_type": "stream",
     "text": [
      "fill ZZ_mllz1 for /eos/home-j/jiwoong/WZG_DB/2016/merged_mc/tZq_2016.root: 100%|██████████| 456/456 [00:00<00:00, 102872.34it/s]\n"
     ]
    },
    {
     "name": "stdout",
     "output_type": "stream",
     "text": [
      "SumOfWeights for ZZ_dileptonmass:  0.14164843881735578\n"
     ]
    },
    {
     "name": "stderr",
     "output_type": "stream",
     "text": [
      "fill ZZ_trileptonmass for /eos/home-j/jiwoong/WZG_DB/2016/merged_mc/tZq_2016.root: 100%|██████████| 456/456 [00:00<00:00, 107861.64it/s]\n"
     ]
    },
    {
     "name": "stdout",
     "output_type": "stream",
     "text": [
      "SumOfWeights for ZZ_trileptonmass:  0.1408862950047478\n"
     ]
    },
    {
     "name": "stderr",
     "output_type": "stream",
     "text": [
      "fill ZZ_MET for /eos/home-j/jiwoong/WZG_DB/2016/merged_mc/tZq_2016.root: 100%|██████████| 456/456 [00:00<00:00, 103016.41it/s]\n"
     ]
    },
    {
     "name": "stdout",
     "output_type": "stream",
     "text": [
      "SumOfWeights for ZZ_MET:  0.10857563372701406\n"
     ]
    },
    {
     "name": "stderr",
     "output_type": "stream",
     "text": [
      "fill ttZ_dileptonmass for /eos/home-j/jiwoong/WZG_DB/2016/merged_mc/tZq_2016.root: 100%|██████████| 456/456 [00:00<00:00, 101110.31it/s]\n"
     ]
    },
    {
     "name": "stdout",
     "output_type": "stream",
     "text": [
      "SumOfWeights for ttZ_dileptonmass:  -0.005716377403587103\n"
     ]
    },
    {
     "name": "stderr",
     "output_type": "stream",
     "text": [
      "fill ttZ_trileptonmass for /eos/home-j/jiwoong/WZG_DB/2016/merged_mc/tZq_2016.root: 100%|██████████| 456/456 [00:00<00:00, 102988.67it/s]\n"
     ]
    },
    {
     "name": "stdout",
     "output_type": "stream",
     "text": [
      "SumOfWeights for ttZ_trileptonmass:  0.10912963876035064\n"
     ]
    },
    {
     "name": "stderr",
     "output_type": "stream",
     "text": [
      "fill ttG_trileptonmass for /eos/home-j/jiwoong/WZG_DB/2016/merged_mc/tZq_2016.root: 100%|██████████| 456/456 [00:00<00:00, 102734.20it/s]\n"
     ]
    },
    {
     "name": "stdout",
     "output_type": "stream",
     "text": [
      "SumOfWeights for ttG_trileptonmass:  0.13337072101421654\n"
     ]
    },
    {
     "name": "stderr",
     "output_type": "stream",
     "text": [
      "fill MET for /eos/home-j/jiwoong/WZG_DB/2016/merged_mc/tZq_2016.root: 100%|██████████| 456/456 [00:00<00:00, 103568.67it/s]\n"
     ]
    },
    {
     "name": "stdout",
     "output_type": "stream",
     "text": [
      "SumOfWeights for MET:  0.10857563372701406\n"
     ]
    },
    {
     "name": "stderr",
     "output_type": "stream",
     "text": [
      "fill nJets for /eos/home-j/jiwoong/WZG_DB/2016/merged_mc/tZq_2016.root: 100%|██████████| 456/456 [00:00<00:00, 104565.23it/s]\n"
     ]
    },
    {
     "name": "stdout",
     "output_type": "stream",
     "text": [
      "SumOfWeights for nJets:  0.13762829289771616\n"
     ]
    },
    {
     "name": "stderr",
     "output_type": "stream",
     "text": [
      "fill nbJets for /eos/home-j/jiwoong/WZG_DB/2016/merged_mc/tZq_2016.root: 100%|██████████| 456/456 [00:00<00:00, 103529.43it/s]\n"
     ]
    },
    {
     "name": "stdout",
     "output_type": "stream",
     "text": [
      "SumOfWeights for nbJets:  0.14164851605892181\n",
      "Time cost: 8.26\n",
      "\n",
      "is MC\n"
     ]
    },
    {
     "name": "stderr",
     "output_type": "stream",
     "text": [
      "fill WZG_dileptonmass for /eos/home-j/jiwoong/WZG_DB/2016/merged_mc/WWW_2016.root: 0it [00:00, ?it/s]\n"
     ]
    },
    {
     "name": "stdout",
     "output_type": "stream",
     "text": [
      "SumOfWeights for WZG_dileptonmass:  0.0\n"
     ]
    },
    {
     "name": "stderr",
     "output_type": "stream",
     "text": [
      "fill WZG_trileptonmass for /eos/home-j/jiwoong/WZG_DB/2016/merged_mc/WWW_2016.root: 0it [00:00, ?it/s]\n"
     ]
    },
    {
     "name": "stdout",
     "output_type": "stream",
     "text": [
      "SumOfWeights for WZG_trileptonmass:  0.0\n"
     ]
    },
    {
     "name": "stderr",
     "output_type": "stream",
     "text": [
      "fill ZZ_mllz1 for /eos/home-j/jiwoong/WZG_DB/2016/merged_mc/WWW_2016.root: 0it [00:00, ?it/s]\n"
     ]
    },
    {
     "name": "stdout",
     "output_type": "stream",
     "text": [
      "SumOfWeights for ZZ_dileptonmass:  0.0\n"
     ]
    },
    {
     "name": "stderr",
     "output_type": "stream",
     "text": [
      "fill ZZ_trileptonmass for /eos/home-j/jiwoong/WZG_DB/2016/merged_mc/WWW_2016.root: 0it [00:00, ?it/s]\n"
     ]
    },
    {
     "name": "stdout",
     "output_type": "stream",
     "text": [
      "SumOfWeights for ZZ_trileptonmass:  0.0\n"
     ]
    },
    {
     "name": "stderr",
     "output_type": "stream",
     "text": [
      "fill ZZ_MET for /eos/home-j/jiwoong/WZG_DB/2016/merged_mc/WWW_2016.root: 0it [00:00, ?it/s]\n"
     ]
    },
    {
     "name": "stdout",
     "output_type": "stream",
     "text": [
      "SumOfWeights for ZZ_MET:  0.0\n"
     ]
    },
    {
     "name": "stderr",
     "output_type": "stream",
     "text": [
      "fill ttZ_dileptonmass for /eos/home-j/jiwoong/WZG_DB/2016/merged_mc/WWW_2016.root: 0it [00:00, ?it/s]\n"
     ]
    },
    {
     "name": "stdout",
     "output_type": "stream",
     "text": [
      "SumOfWeights for ttZ_dileptonmass:  0.0\n"
     ]
    },
    {
     "name": "stderr",
     "output_type": "stream",
     "text": [
      "fill ttZ_trileptonmass for /eos/home-j/jiwoong/WZG_DB/2016/merged_mc/WWW_2016.root: 0it [00:00, ?it/s]\n"
     ]
    },
    {
     "name": "stdout",
     "output_type": "stream",
     "text": [
      "SumOfWeights for ttZ_trileptonmass:  0.0\n"
     ]
    },
    {
     "name": "stderr",
     "output_type": "stream",
     "text": [
      "fill ttG_trileptonmass for /eos/home-j/jiwoong/WZG_DB/2016/merged_mc/WWW_2016.root: 0it [00:00, ?it/s]\n"
     ]
    },
    {
     "name": "stdout",
     "output_type": "stream",
     "text": [
      "SumOfWeights for ttG_trileptonmass:  0.0\n"
     ]
    },
    {
     "name": "stderr",
     "output_type": "stream",
     "text": [
      "fill MET for /eos/home-j/jiwoong/WZG_DB/2016/merged_mc/WWW_2016.root: 0it [00:00, ?it/s]\n"
     ]
    },
    {
     "name": "stdout",
     "output_type": "stream",
     "text": [
      "SumOfWeights for MET:  0.0\n"
     ]
    },
    {
     "name": "stderr",
     "output_type": "stream",
     "text": [
      "fill nJets for /eos/home-j/jiwoong/WZG_DB/2016/merged_mc/WWW_2016.root: 0it [00:00, ?it/s]\n"
     ]
    },
    {
     "name": "stdout",
     "output_type": "stream",
     "text": [
      "SumOfWeights for nJets:  0.0\n"
     ]
    },
    {
     "name": "stderr",
     "output_type": "stream",
     "text": [
      "fill nbJets for /eos/home-j/jiwoong/WZG_DB/2016/merged_mc/WWW_2016.root: 0it [00:00, ?it/s]\n"
     ]
    },
    {
     "name": "stdout",
     "output_type": "stream",
     "text": [
      "SumOfWeights for nbJets:  0.0\n",
      "Time cost: 7.74\n",
      "\n",
      "is MC\n"
     ]
    },
    {
     "name": "stderr",
     "output_type": "stream",
     "text": [
      "fill WZG_dileptonmass for /eos/home-j/jiwoong/WZG_DB/2016/merged_mc/ZGToLLG_2016.root: 100%|██████████| 20/20 [00:00<00:00, 60262.99it/s]\n"
     ]
    },
    {
     "name": "stdout",
     "output_type": "stream",
     "text": [
      "SumOfWeights for WZG_dileptonmass:  0.5745861530303955\n"
     ]
    },
    {
     "name": "stderr",
     "output_type": "stream",
     "text": [
      "fill WZG_trileptonmass for /eos/home-j/jiwoong/WZG_DB/2016/merged_mc/ZGToLLG_2016.root: 100%|██████████| 20/20 [00:00<00:00, 63888.87it/s]\n"
     ]
    },
    {
     "name": "stdout",
     "output_type": "stream",
     "text": [
      "SumOfWeights for WZG_trileptonmass:  0.6297030821442604\n"
     ]
    },
    {
     "name": "stderr",
     "output_type": "stream",
     "text": [
      "fill ZZ_mllz1 for /eos/home-j/jiwoong/WZG_DB/2016/merged_mc/ZGToLLG_2016.root: 100%|██████████| 20/20 [00:00<00:00, 62045.92it/s]\n"
     ]
    },
    {
     "name": "stdout",
     "output_type": "stream",
     "text": [
      "SumOfWeights for ZZ_dileptonmass:  0.6762796863913536\n"
     ]
    },
    {
     "name": "stderr",
     "output_type": "stream",
     "text": [
      "fill ZZ_trileptonmass for /eos/home-j/jiwoong/WZG_DB/2016/merged_mc/ZGToLLG_2016.root: 100%|██████████| 20/20 [00:00<00:00, 61862.89it/s]\n"
     ]
    },
    {
     "name": "stdout",
     "output_type": "stream",
     "text": [
      "SumOfWeights for ZZ_trileptonmass:  0.617996834218502\n"
     ]
    },
    {
     "name": "stderr",
     "output_type": "stream",
     "text": [
      "fill ZZ_MET for /eos/home-j/jiwoong/WZG_DB/2016/merged_mc/ZGToLLG_2016.root: 100%|██████████| 20/20 [00:00<00:00, 64527.75it/s]\n"
     ]
    },
    {
     "name": "stdout",
     "output_type": "stream",
     "text": [
      "SumOfWeights for ZZ_MET:  0.15833500772714615\n"
     ]
    },
    {
     "name": "stderr",
     "output_type": "stream",
     "text": [
      "fill ttZ_dileptonmass for /eos/home-j/jiwoong/WZG_DB/2016/merged_mc/ZGToLLG_2016.root: 100%|██████████| 20/20 [00:00<00:00, 71943.46it/s]\n"
     ]
    },
    {
     "name": "stdout",
     "output_type": "stream",
     "text": [
      "SumOfWeights for ttZ_dileptonmass:  0.037316106259822845\n"
     ]
    },
    {
     "name": "stderr",
     "output_type": "stream",
     "text": [
      "fill ttZ_trileptonmass for /eos/home-j/jiwoong/WZG_DB/2016/merged_mc/ZGToLLG_2016.root: 100%|██████████| 20/20 [00:00<00:00, 66841.50it/s]\n"
     ]
    },
    {
     "name": "stdout",
     "output_type": "stream",
     "text": [
      "SumOfWeights for ttZ_trileptonmass:  0.3050466291606426\n"
     ]
    },
    {
     "name": "stderr",
     "output_type": "stream",
     "text": [
      "fill ttG_trileptonmass for /eos/home-j/jiwoong/WZG_DB/2016/merged_mc/ZGToLLG_2016.root: 100%|██████████| 20/20 [00:00<00:00, 60567.57it/s]\n"
     ]
    },
    {
     "name": "stdout",
     "output_type": "stream",
     "text": [
      "SumOfWeights for ttG_trileptonmass:  0.04644424095749855\n"
     ]
    },
    {
     "name": "stderr",
     "output_type": "stream",
     "text": [
      "fill MET for /eos/home-j/jiwoong/WZG_DB/2016/merged_mc/ZGToLLG_2016.root: 100%|██████████| 20/20 [00:00<00:00, 64527.75it/s]\n"
     ]
    },
    {
     "name": "stdout",
     "output_type": "stream",
     "text": [
      "SumOfWeights for MET:  0.15833500772714615\n"
     ]
    },
    {
     "name": "stderr",
     "output_type": "stream",
     "text": [
      "fill nJets for /eos/home-j/jiwoong/WZG_DB/2016/merged_mc/ZGToLLG_2016.root: 100%|██████████| 20/20 [00:00<00:00, 68646.55it/s]\n"
     ]
    },
    {
     "name": "stdout",
     "output_type": "stream",
     "text": [
      "SumOfWeights for nJets:  0.6762796714901924\n"
     ]
    },
    {
     "name": "stderr",
     "output_type": "stream",
     "text": [
      "fill nbJets for /eos/home-j/jiwoong/WZG_DB/2016/merged_mc/ZGToLLG_2016.root: 100%|██████████| 20/20 [00:00<00:00, 51150.05it/s]\n"
     ]
    },
    {
     "name": "stdout",
     "output_type": "stream",
     "text": [
      "SumOfWeights for nbJets:  0.6762796640396118\n",
      "Time cost: 7.75\n",
      "\n",
      "is MC\n"
     ]
    },
    {
     "name": "stderr",
     "output_type": "stream",
     "text": [
      "fill WZG_dileptonmass for /eos/home-j/jiwoong/WZG_DB/2016/merged_mc/ZZ_2016.root: 100%|██████████| 2546/2546 [00:00<00:00, 110899.12it/s]\n"
     ]
    },
    {
     "name": "stdout",
     "output_type": "stream",
     "text": [
      "SumOfWeights for WZG_dileptonmass:  464.2833619117737\n"
     ]
    },
    {
     "name": "stderr",
     "output_type": "stream",
     "text": [
      "fill WZG_trileptonmass for /eos/home-j/jiwoong/WZG_DB/2016/merged_mc/ZZ_2016.root: 100%|██████████| 2546/2546 [00:00<00:00, 108116.82it/s]\n"
     ]
    },
    {
     "name": "stdout",
     "output_type": "stream",
     "text": [
      "SumOfWeights for WZG_trileptonmass:  464.283376455307\n"
     ]
    },
    {
     "name": "stderr",
     "output_type": "stream",
     "text": [
      "fill ZZ_mllz1 for /eos/home-j/jiwoong/WZG_DB/2016/merged_mc/ZZ_2016.root: 100%|██████████| 2546/2546 [00:00<00:00, 107233.07it/s]\n"
     ]
    },
    {
     "name": "stdout",
     "output_type": "stream",
     "text": [
      "SumOfWeights for ZZ_dileptonmass:  581.1457682847977\n"
     ]
    },
    {
     "name": "stderr",
     "output_type": "stream",
     "text": [
      "fill ZZ_trileptonmass for /eos/home-j/jiwoong/WZG_DB/2016/merged_mc/ZZ_2016.root: 100%|██████████| 2546/2546 [00:00<00:00, 105597.95it/s]\n"
     ]
    },
    {
     "name": "stdout",
     "output_type": "stream",
     "text": [
      "SumOfWeights for ZZ_trileptonmass:  564.704003572464\n"
     ]
    },
    {
     "name": "stderr",
     "output_type": "stream",
     "text": [
      "fill ZZ_MET for /eos/home-j/jiwoong/WZG_DB/2016/merged_mc/ZZ_2016.root: 100%|██████████| 2546/2546 [00:00<00:00, 110793.26it/s]\n"
     ]
    },
    {
     "name": "stdout",
     "output_type": "stream",
     "text": [
      "SumOfWeights for ZZ_MET:  189.91140139102936\n"
     ]
    },
    {
     "name": "stderr",
     "output_type": "stream",
     "text": [
      "fill ttZ_dileptonmass for /eos/home-j/jiwoong/WZG_DB/2016/merged_mc/ZZ_2016.root: 100%|██████████| 2546/2546 [00:00<00:00, 105292.87it/s]\n"
     ]
    },
    {
     "name": "stdout",
     "output_type": "stream",
     "text": [
      "SumOfWeights for ttZ_dileptonmass:  0.0\n"
     ]
    },
    {
     "name": "stderr",
     "output_type": "stream",
     "text": [
      "fill ttZ_trileptonmass for /eos/home-j/jiwoong/WZG_DB/2016/merged_mc/ZZ_2016.root: 100%|██████████| 2546/2546 [00:00<00:00, 110234.00it/s]\n"
     ]
    },
    {
     "name": "stdout",
     "output_type": "stream",
     "text": [
      "SumOfWeights for ttZ_trileptonmass:  0.0\n"
     ]
    },
    {
     "name": "stderr",
     "output_type": "stream",
     "text": [
      "fill ttG_trileptonmass for /eos/home-j/jiwoong/WZG_DB/2016/merged_mc/ZZ_2016.root: 100%|██████████| 2546/2546 [00:00<00:00, 109069.81it/s]\n"
     ]
    },
    {
     "name": "stdout",
     "output_type": "stream",
     "text": [
      "SumOfWeights for ttG_trileptonmass:  0.0\n"
     ]
    },
    {
     "name": "stderr",
     "output_type": "stream",
     "text": [
      "fill MET for /eos/home-j/jiwoong/WZG_DB/2016/merged_mc/ZZ_2016.root: 100%|██████████| 2546/2546 [00:00<00:00, 109672.46it/s]\n"
     ]
    },
    {
     "name": "stdout",
     "output_type": "stream",
     "text": [
      "SumOfWeights for MET:  189.91140139102936\n"
     ]
    },
    {
     "name": "stderr",
     "output_type": "stream",
     "text": [
      "fill nJets for /eos/home-j/jiwoong/WZG_DB/2016/merged_mc/ZZ_2016.root: 100%|██████████| 2546/2546 [00:00<00:00, 110393.54it/s]\n"
     ]
    },
    {
     "name": "stdout",
     "output_type": "stream",
     "text": [
      "SumOfWeights for nJets:  581.1028361916542\n"
     ]
    },
    {
     "name": "stderr",
     "output_type": "stream",
     "text": [
      "fill nbJets for /eos/home-j/jiwoong/WZG_DB/2016/merged_mc/ZZ_2016.root: 100%|██████████| 2546/2546 [00:00<00:00, 109500.40it/s]\n"
     ]
    },
    {
     "name": "stdout",
     "output_type": "stream",
     "text": [
      "SumOfWeights for nbJets:  581.367919921875\n",
      "Time cost: 8.19\n",
      "\n",
      "is MC\n"
     ]
    },
    {
     "name": "stderr",
     "output_type": "stream",
     "text": [
      "fill WZG_dileptonmass for /eos/home-j/jiwoong/WZG_DB/2016/merged_mc/wzg_2016.root: 100%|██████████| 74/74 [00:00<00:00, 62842.38it/s]\n"
     ]
    },
    {
     "name": "stdout",
     "output_type": "stream",
     "text": [
      "SumOfWeights for WZG_dileptonmass:  0.43867210565076675\n"
     ]
    },
    {
     "name": "stderr",
     "output_type": "stream",
     "text": [
      "fill WZG_trileptonmass for /eos/home-j/jiwoong/WZG_DB/2016/merged_mc/wzg_2016.root: 100%|██████████| 74/74 [00:00<00:00, 71318.59it/s]\n"
     ]
    },
    {
     "name": "stdout",
     "output_type": "stream",
     "text": [
      "SumOfWeights for WZG_trileptonmass:  0.382142442278564\n"
     ]
    },
    {
     "name": "stderr",
     "output_type": "stream",
     "text": [
      "fill ZZ_mllz1 for /eos/home-j/jiwoong/WZG_DB/2016/merged_mc/wzg_2016.root: 100%|██████████| 74/74 [00:00<00:00, 72620.14it/s]\n"
     ]
    },
    {
     "name": "stdout",
     "output_type": "stream",
     "text": [
      "SumOfWeights for ZZ_dileptonmass:  0.43867203169111235\n"
     ]
    },
    {
     "name": "stderr",
     "output_type": "stream",
     "text": [
      "fill ZZ_trileptonmass for /eos/home-j/jiwoong/WZG_DB/2016/merged_mc/wzg_2016.root: 100%|██████████| 74/74 [00:00<00:00, 90780.49it/s]\n"
     ]
    },
    {
     "name": "stdout",
     "output_type": "stream",
     "text": [
      "SumOfWeights for ZZ_trileptonmass:  0.43351683240325656\n"
     ]
    },
    {
     "name": "stderr",
     "output_type": "stream",
     "text": [
      "fill ZZ_MET for /eos/home-j/jiwoong/WZG_DB/2016/merged_mc/wzg_2016.root: 100%|██████████| 74/74 [00:00<00:00, 93826.63it/s]\n"
     ]
    },
    {
     "name": "stdout",
     "output_type": "stream",
     "text": [
      "SumOfWeights for ZZ_MET:  0.26646975306402965\n"
     ]
    },
    {
     "name": "stderr",
     "output_type": "stream",
     "text": [
      "fill ttZ_dileptonmass for /eos/home-j/jiwoong/WZG_DB/2016/merged_mc/wzg_2016.root: 100%|██████████| 74/74 [00:00<00:00, 94426.07it/s]\n"
     ]
    },
    {
     "name": "stdout",
     "output_type": "stream",
     "text": [
      "SumOfWeights for ttZ_dileptonmass:  0.0695776641368866\n"
     ]
    },
    {
     "name": "stderr",
     "output_type": "stream",
     "text": [
      "fill ttZ_trileptonmass for /eos/home-j/jiwoong/WZG_DB/2016/merged_mc/wzg_2016.root: 100%|██████████| 74/74 [00:00<00:00, 94196.81it/s]\n"
     ]
    },
    {
     "name": "stdout",
     "output_type": "stream",
     "text": [
      "SumOfWeights for ttZ_trileptonmass:  0.38661066722124815\n"
     ]
    },
    {
     "name": "stderr",
     "output_type": "stream",
     "text": [
      "fill ttG_trileptonmass for /eos/home-j/jiwoong/WZG_DB/2016/merged_mc/wzg_2016.root: 100%|██████████| 74/74 [00:00<00:00, 83908.76it/s]\n"
     ]
    },
    {
     "name": "stdout",
     "output_type": "stream",
     "text": [
      "SumOfWeights for ttG_trileptonmass:  0.2928192615509033\n"
     ]
    },
    {
     "name": "stderr",
     "output_type": "stream",
     "text": [
      "fill MET for /eos/home-j/jiwoong/WZG_DB/2016/merged_mc/wzg_2016.root: 100%|██████████| 74/74 [00:00<00:00, 94282.65it/s]\n"
     ]
    },
    {
     "name": "stdout",
     "output_type": "stream",
     "text": [
      "SumOfWeights for MET:  0.26646975306402965\n"
     ]
    },
    {
     "name": "stderr",
     "output_type": "stream",
     "text": [
      "fill nJets for /eos/home-j/jiwoong/WZG_DB/2016/merged_mc/wzg_2016.root: 100%|██████████| 74/74 [00:00<00:00, 94454.81it/s]\n"
     ]
    },
    {
     "name": "stdout",
     "output_type": "stream",
     "text": [
      "SumOfWeights for nJets:  0.43867206992581487\n"
     ]
    },
    {
     "name": "stderr",
     "output_type": "stream",
     "text": [
      "fill nbJets for /eos/home-j/jiwoong/WZG_DB/2016/merged_mc/wzg_2016.root: 100%|██████████| 74/74 [00:00<00:00, 92484.65it/s]\n"
     ]
    },
    {
     "name": "stdout",
     "output_type": "stream",
     "text": [
      "SumOfWeights for nbJets:  0.4386720359325409\n",
      "Time cost: 8.51\n",
      "\n",
      "is MC\n"
     ]
    },
    {
     "name": "stderr",
     "output_type": "stream",
     "text": [
      "fill WZG_dileptonmass for /eos/home-j/jiwoong/WZG_DB/2016/merged_mc/WWZ_2016.root: 100%|██████████| 67/67 [00:00<00:00, 85338.10it/s]\n"
     ]
    },
    {
     "name": "stdout",
     "output_type": "stream",
     "text": [
      "SumOfWeights for WZG_dileptonmass:  1.3277751207351685\n"
     ]
    },
    {
     "name": "stderr",
     "output_type": "stream",
     "text": [
      "fill WZG_trileptonmass for /eos/home-j/jiwoong/WZG_DB/2016/merged_mc/WWZ_2016.root: 100%|██████████| 67/67 [00:00<00:00, 88733.30it/s]\n"
     ]
    },
    {
     "name": "stdout",
     "output_type": "stream",
     "text": [
      "SumOfWeights for WZG_trileptonmass:  1.327775202691555\n"
     ]
    },
    {
     "name": "stderr",
     "output_type": "stream",
     "text": [
      "fill ZZ_mllz1 for /eos/home-j/jiwoong/WZG_DB/2016/merged_mc/WWZ_2016.root: 100%|██████████| 67/67 [00:00<00:00, 87763.39it/s]\n"
     ]
    },
    {
     "name": "stdout",
     "output_type": "stream",
     "text": [
      "SumOfWeights for ZZ_dileptonmass:  2.5532850697636604\n"
     ]
    },
    {
     "name": "stderr",
     "output_type": "stream",
     "text": [
      "fill ZZ_trileptonmass for /eos/home-j/jiwoong/WZG_DB/2016/merged_mc/WWZ_2016.root: 100%|██████████| 67/67 [00:00<00:00, 84516.80it/s]\n"
     ]
    },
    {
     "name": "stdout",
     "output_type": "stream",
     "text": [
      "SumOfWeights for ZZ_trileptonmass:  2.1671110689640045\n"
     ]
    },
    {
     "name": "stderr",
     "output_type": "stream",
     "text": [
      "fill ZZ_MET for /eos/home-j/jiwoong/WZG_DB/2016/merged_mc/WWZ_2016.root: 100%|██████████| 67/67 [00:00<00:00, 81715.14it/s]\n"
     ]
    },
    {
     "name": "stdout",
     "output_type": "stream",
     "text": [
      "SumOfWeights for ZZ_MET:  1.3833401873707771\n"
     ]
    },
    {
     "name": "stderr",
     "output_type": "stream",
     "text": [
      "fill ttZ_dileptonmass for /eos/home-j/jiwoong/WZG_DB/2016/merged_mc/WWZ_2016.root: 100%|██████████| 67/67 [00:00<00:00, 74719.06it/s]\n"
     ]
    },
    {
     "name": "stdout",
     "output_type": "stream",
     "text": [
      "SumOfWeights for ttZ_dileptonmass:  0.0\n"
     ]
    },
    {
     "name": "stderr",
     "output_type": "stream",
     "text": [
      "fill ttZ_trileptonmass for /eos/home-j/jiwoong/WZG_DB/2016/merged_mc/WWZ_2016.root: 100%|██████████| 67/67 [00:00<00:00, 92562.04it/s]\n"
     ]
    },
    {
     "name": "stdout",
     "output_type": "stream",
     "text": [
      "SumOfWeights for ttZ_trileptonmass:  0.0\n"
     ]
    },
    {
     "name": "stderr",
     "output_type": "stream",
     "text": [
      "fill ttG_trileptonmass for /eos/home-j/jiwoong/WZG_DB/2016/merged_mc/WWZ_2016.root: 100%|██████████| 67/67 [00:00<00:00, 91269.36it/s]\n"
     ]
    },
    {
     "name": "stdout",
     "output_type": "stream",
     "text": [
      "SumOfWeights for ttG_trileptonmass:  0.0\n"
     ]
    },
    {
     "name": "stderr",
     "output_type": "stream",
     "text": [
      "fill MET for /eos/home-j/jiwoong/WZG_DB/2016/merged_mc/WWZ_2016.root: 100%|██████████| 67/67 [00:00<00:00, 91417.82it/s]\n"
     ]
    },
    {
     "name": "stdout",
     "output_type": "stream",
     "text": [
      "SumOfWeights for MET:  1.3833401873707771\n"
     ]
    },
    {
     "name": "stderr",
     "output_type": "stream",
     "text": [
      "fill nJets for /eos/home-j/jiwoong/WZG_DB/2016/merged_mc/WWZ_2016.root: 100%|██████████| 67/67 [00:00<00:00, 92288.46it/s]\n"
     ]
    },
    {
     "name": "stdout",
     "output_type": "stream",
     "text": [
      "SumOfWeights for nJets:  2.5532851964235306\n"
     ]
    },
    {
     "name": "stderr",
     "output_type": "stream",
     "text": [
      "fill nbJets for /eos/home-j/jiwoong/WZG_DB/2016/merged_mc/WWZ_2016.root: 100%|██████████| 67/67 [00:00<00:00, 86201.95it/s]\n"
     ]
    },
    {
     "name": "stdout",
     "output_type": "stream",
     "text": [
      "SumOfWeights for nbJets:  2.5532851219177246\n",
      "Time cost: 7.56\n",
      "\n",
      "is MC\n"
     ]
    },
    {
     "name": "stderr",
     "output_type": "stream",
     "text": [
      "fill WZG_dileptonmass for /eos/home-j/jiwoong/WZG_DB/2016/merged_mc/ttHToNonbb_2016.root: 100%|██████████| 142/142 [00:00<00:00, 102002.26it/s]\n"
     ]
    },
    {
     "name": "stdout",
     "output_type": "stream",
     "text": [
      "SumOfWeights for WZG_dileptonmass:  0.3579084984958172\n"
     ]
    },
    {
     "name": "stderr",
     "output_type": "stream",
     "text": [
      "fill WZG_trileptonmass for /eos/home-j/jiwoong/WZG_DB/2016/merged_mc/ttHToNonbb_2016.root: 100%|██████████| 142/142 [00:00<00:00, 88814.67it/s]\n"
     ]
    },
    {
     "name": "stdout",
     "output_type": "stream",
     "text": [
      "SumOfWeights for WZG_trileptonmass:  0.3579085133969784\n"
     ]
    },
    {
     "name": "stderr",
     "output_type": "stream",
     "text": [
      "fill ZZ_mllz1 for /eos/home-j/jiwoong/WZG_DB/2016/merged_mc/ttHToNonbb_2016.root: 100%|██████████| 142/142 [00:00<00:00, 95754.21it/s]\n"
     ]
    },
    {
     "name": "stdout",
     "output_type": "stream",
     "text": [
      "SumOfWeights for ZZ_dileptonmass:  0.6382278176024556\n"
     ]
    },
    {
     "name": "stderr",
     "output_type": "stream",
     "text": [
      "fill ZZ_trileptonmass for /eos/home-j/jiwoong/WZG_DB/2016/merged_mc/ttHToNonbb_2016.root: 100%|██████████| 142/142 [00:00<00:00, 101067.57it/s]\n"
     ]
    },
    {
     "name": "stdout",
     "output_type": "stream",
     "text": [
      "SumOfWeights for ZZ_trileptonmass:  0.6386066004633904\n"
     ]
    },
    {
     "name": "stderr",
     "output_type": "stream",
     "text": [
      "fill ZZ_MET for /eos/home-j/jiwoong/WZG_DB/2016/merged_mc/ttHToNonbb_2016.root: 100%|██████████| 142/142 [00:00<00:00, 60398.66it/s]\n"
     ]
    },
    {
     "name": "stdout",
     "output_type": "stream",
     "text": [
      "SumOfWeights for ZZ_MET:  0.3763326620683074\n"
     ]
    },
    {
     "name": "stderr",
     "output_type": "stream",
     "text": [
      "fill ttZ_dileptonmass for /eos/home-j/jiwoong/WZG_DB/2016/merged_mc/ttHToNonbb_2016.root: 100%|██████████| 142/142 [00:00<00:00, 62958.90it/s]\n"
     ]
    },
    {
     "name": "stdout",
     "output_type": "stream",
     "text": [
      "SumOfWeights for ttZ_dileptonmass:  0.009535809978842735\n"
     ]
    },
    {
     "name": "stderr",
     "output_type": "stream",
     "text": [
      "fill ttZ_trileptonmass for /eos/home-j/jiwoong/WZG_DB/2016/merged_mc/ttHToNonbb_2016.root: 100%|██████████| 142/142 [00:00<00:00, 70020.12it/s]\n"
     ]
    },
    {
     "name": "stdout",
     "output_type": "stream",
     "text": [
      "SumOfWeights for ttZ_trileptonmass:  0.34815231803804636\n"
     ]
    },
    {
     "name": "stderr",
     "output_type": "stream",
     "text": [
      "fill ttG_trileptonmass for /eos/home-j/jiwoong/WZG_DB/2016/merged_mc/ttHToNonbb_2016.root: 100%|██████████| 142/142 [00:00<00:00, 70777.32it/s]\n"
     ]
    },
    {
     "name": "stdout",
     "output_type": "stream",
     "text": [
      "SumOfWeights for ttG_trileptonmass:  0.46151186153292656\n"
     ]
    },
    {
     "name": "stderr",
     "output_type": "stream",
     "text": [
      "fill MET for /eos/home-j/jiwoong/WZG_DB/2016/merged_mc/ttHToNonbb_2016.root: 100%|██████████| 142/142 [00:00<00:00, 69765.86it/s]\n"
     ]
    },
    {
     "name": "stdout",
     "output_type": "stream",
     "text": [
      "SumOfWeights for MET:  0.3763326620683074\n"
     ]
    },
    {
     "name": "stderr",
     "output_type": "stream",
     "text": [
      "fill nJets for /eos/home-j/jiwoong/WZG_DB/2016/merged_mc/ttHToNonbb_2016.root: 100%|██████████| 142/142 [00:00<00:00, 74560.74it/s]\n"
     ]
    },
    {
     "name": "stdout",
     "output_type": "stream",
     "text": [
      "SumOfWeights for nJets:  0.6241544652730227\n"
     ]
    },
    {
     "name": "stderr",
     "output_type": "stream",
     "text": [
      "fill nbJets for /eos/home-j/jiwoong/WZG_DB/2016/merged_mc/ttHToNonbb_2016.root: 100%|██████████| 142/142 [00:00<00:00, 71353.92it/s]\n"
     ]
    },
    {
     "name": "stdout",
     "output_type": "stream",
     "text": [
      "SumOfWeights for nbJets:  0.6432758569717407\n",
      "Time cost: 7.74\n",
      "\n",
      "is MC\n"
     ]
    },
    {
     "name": "stderr",
     "output_type": "stream",
     "text": [
      "fill WZG_dileptonmass for /eos/home-j/jiwoong/WZG_DB/2016/merged_mc/WZZ_2016.root: 100%|██████████| 331/331 [00:00<00:00, 116635.69it/s]\n"
     ]
    },
    {
     "name": "stdout",
     "output_type": "stream",
     "text": [
      "SumOfWeights for WZG_dileptonmass:  1.29202317353338\n"
     ]
    },
    {
     "name": "stderr",
     "output_type": "stream",
     "text": [
      "fill WZG_trileptonmass for /eos/home-j/jiwoong/WZG_DB/2016/merged_mc/WZZ_2016.root: 100%|██████████| 331/331 [00:00<00:00, 118104.18it/s]\n"
     ]
    },
    {
     "name": "stdout",
     "output_type": "stream",
     "text": [
      "SumOfWeights for WZG_trileptonmass:  1.2627510875463486\n"
     ]
    },
    {
     "name": "stderr",
     "output_type": "stream",
     "text": [
      "fill ZZ_mllz1 for /eos/home-j/jiwoong/WZG_DB/2016/merged_mc/WZZ_2016.root: 100%|██████████| 331/331 [00:00<00:00, 119148.18it/s]\n"
     ]
    },
    {
     "name": "stdout",
     "output_type": "stream",
     "text": [
      "SumOfWeights for ZZ_dileptonmass:  2.1180038009770215\n"
     ]
    },
    {
     "name": "stderr",
     "output_type": "stream",
     "text": [
      "fill ZZ_trileptonmass for /eos/home-j/jiwoong/WZG_DB/2016/merged_mc/WZZ_2016.root: 100%|██████████| 331/331 [00:00<00:00, 121398.62it/s]\n"
     ]
    },
    {
     "name": "stdout",
     "output_type": "stream",
     "text": [
      "SumOfWeights for ZZ_trileptonmass:  1.9110888517461717\n"
     ]
    },
    {
     "name": "stderr",
     "output_type": "stream",
     "text": [
      "fill ZZ_MET for /eos/home-j/jiwoong/WZG_DB/2016/merged_mc/WZZ_2016.root: 100%|██████████| 331/331 [00:00<00:00, 118436.67it/s]\n"
     ]
    },
    {
     "name": "stdout",
     "output_type": "stream",
     "text": [
      "SumOfWeights for ZZ_MET:  1.080712929368019\n"
     ]
    },
    {
     "name": "stderr",
     "output_type": "stream",
     "text": [
      "fill ttZ_dileptonmass for /eos/home-j/jiwoong/WZG_DB/2016/merged_mc/WZZ_2016.root: 100%|██████████| 331/331 [00:00<00:00, 112496.12it/s]\n"
     ]
    },
    {
     "name": "stdout",
     "output_type": "stream",
     "text": [
      "SumOfWeights for ttZ_dileptonmass:  0.0\n"
     ]
    },
    {
     "name": "stderr",
     "output_type": "stream",
     "text": [
      "fill ttZ_trileptonmass for /eos/home-j/jiwoong/WZG_DB/2016/merged_mc/WZZ_2016.root: 100%|██████████| 331/331 [00:00<00:00, 106107.81it/s]\n"
     ]
    },
    {
     "name": "stdout",
     "output_type": "stream",
     "text": [
      "SumOfWeights for ttZ_trileptonmass:  0.6365651357918978\n"
     ]
    },
    {
     "name": "stderr",
     "output_type": "stream",
     "text": [
      "fill ttG_trileptonmass for /eos/home-j/jiwoong/WZG_DB/2016/merged_mc/WZZ_2016.root: 100%|██████████| 331/331 [00:00<00:00, 119353.05it/s]\n"
     ]
    },
    {
     "name": "stdout",
     "output_type": "stream",
     "text": [
      "SumOfWeights for ttG_trileptonmass:  0.7083784118294716\n"
     ]
    },
    {
     "name": "stderr",
     "output_type": "stream",
     "text": [
      "fill MET for /eos/home-j/jiwoong/WZG_DB/2016/merged_mc/WZZ_2016.root: 100%|██████████| 331/331 [00:00<00:00, 118043.93it/s]\n"
     ]
    },
    {
     "name": "stdout",
     "output_type": "stream",
     "text": [
      "SumOfWeights for MET:  1.080712929368019\n"
     ]
    },
    {
     "name": "stderr",
     "output_type": "stream",
     "text": [
      "fill nJets for /eos/home-j/jiwoong/WZG_DB/2016/merged_mc/WZZ_2016.root: 100%|██████████| 331/331 [00:00<00:00, 116284.00it/s]\n"
     ]
    },
    {
     "name": "stdout",
     "output_type": "stream",
     "text": [
      "SumOfWeights for nJets:  2.1072904467582703\n"
     ]
    },
    {
     "name": "stderr",
     "output_type": "stream",
     "text": [
      "fill nbJets for /eos/home-j/jiwoong/WZG_DB/2016/merged_mc/WZZ_2016.root: 100%|██████████| 331/331 [00:00<00:00, 114907.68it/s]\n"
     ]
    },
    {
     "name": "stdout",
     "output_type": "stream",
     "text": [
      "SumOfWeights for nbJets:  2.1260323524475098\n",
      "Time cost: 7.26\n",
      "\n",
      "is MC\n"
     ]
    },
    {
     "name": "stderr",
     "output_type": "stream",
     "text": [
      "fill WZG_dileptonmass for /eos/home-j/jiwoong/WZG_DB/2016/merged_mc/ZZZ_2016.root: 100%|██████████| 411/411 [00:00<00:00, 108541.68it/s]\n"
     ]
    },
    {
     "name": "stdout",
     "output_type": "stream",
     "text": [
      "SumOfWeights for WZG_dileptonmass:  0.704633479937911\n"
     ]
    },
    {
     "name": "stderr",
     "output_type": "stream",
     "text": [
      "fill WZG_trileptonmass for /eos/home-j/jiwoong/WZG_DB/2016/merged_mc/ZZZ_2016.root: 100%|██████████| 411/411 [00:00<00:00, 103460.51it/s]\n"
     ]
    },
    {
     "name": "stdout",
     "output_type": "stream",
     "text": [
      "SumOfWeights for WZG_trileptonmass:  0.7046335581690073\n"
     ]
    },
    {
     "name": "stderr",
     "output_type": "stream",
     "text": [
      "fill ZZ_mllz1 for /eos/home-j/jiwoong/WZG_DB/2016/merged_mc/ZZZ_2016.root: 100%|██████████| 411/411 [00:00<00:00, 98596.37it/s]\n"
     ]
    },
    {
     "name": "stdout",
     "output_type": "stream",
     "text": [
      "SumOfWeights for ZZ_dileptonmass:  1.3804604022298008\n"
     ]
    },
    {
     "name": "stderr",
     "output_type": "stream",
     "text": [
      "fill ZZ_trileptonmass for /eos/home-j/jiwoong/WZG_DB/2016/merged_mc/ZZZ_2016.root: 100%|██████████| 411/411 [00:00<00:00, 105531.62it/s]\n"
     ]
    },
    {
     "name": "stdout",
     "output_type": "stream",
     "text": [
      "SumOfWeights for ZZ_trileptonmass:  1.3082119189202785\n"
     ]
    },
    {
     "name": "stderr",
     "output_type": "stream",
     "text": [
      "fill ZZ_MET for /eos/home-j/jiwoong/WZG_DB/2016/merged_mc/ZZZ_2016.root: 100%|██████████| 411/411 [00:00<00:00, 97228.37it/s]\n"
     ]
    },
    {
     "name": "stdout",
     "output_type": "stream",
     "text": [
      "SumOfWeights for ZZ_MET:  0.6122883902862668\n"
     ]
    },
    {
     "name": "stderr",
     "output_type": "stream",
     "text": [
      "fill ttZ_dileptonmass for /eos/home-j/jiwoong/WZG_DB/2016/merged_mc/ZZZ_2016.root: 100%|██████████| 411/411 [00:00<00:00, 96780.76it/s]\n"
     ]
    },
    {
     "name": "stdout",
     "output_type": "stream",
     "text": [
      "SumOfWeights for ttZ_dileptonmass:  0.0\n"
     ]
    },
    {
     "name": "stderr",
     "output_type": "stream",
     "text": [
      "fill ttZ_trileptonmass for /eos/home-j/jiwoong/WZG_DB/2016/merged_mc/ZZZ_2016.root: 100%|██████████| 411/411 [00:00<00:00, 101714.59it/s]\n"
     ]
    },
    {
     "name": "stdout",
     "output_type": "stream",
     "text": [
      "SumOfWeights for ttZ_trileptonmass:  0.04406414553523064\n"
     ]
    },
    {
     "name": "stderr",
     "output_type": "stream",
     "text": [
      "fill ttG_trileptonmass for /eos/home-j/jiwoong/WZG_DB/2016/merged_mc/ZZZ_2016.root: 100%|██████████| 411/411 [00:00<00:00, 98337.65it/s]\n"
     ]
    },
    {
     "name": "stdout",
     "output_type": "stream",
     "text": [
      "SumOfWeights for ttG_trileptonmass:  0.0\n"
     ]
    },
    {
     "name": "stderr",
     "output_type": "stream",
     "text": [
      "fill MET for /eos/home-j/jiwoong/WZG_DB/2016/merged_mc/ZZZ_2016.root: 100%|██████████| 411/411 [00:00<00:00, 98500.60it/s]\n"
     ]
    },
    {
     "name": "stdout",
     "output_type": "stream",
     "text": [
      "SumOfWeights for MET:  0.6122883902862668\n"
     ]
    },
    {
     "name": "stderr",
     "output_type": "stream",
     "text": [
      "fill nJets for /eos/home-j/jiwoong/WZG_DB/2016/merged_mc/ZZZ_2016.root: 100%|██████████| 411/411 [00:00<00:00, 104653.89it/s]\n"
     ]
    },
    {
     "name": "stdout",
     "output_type": "stream",
     "text": [
      "SumOfWeights for nJets:  1.372722977772355\n"
     ]
    },
    {
     "name": "stderr",
     "output_type": "stream",
     "text": [
      "fill nbJets for /eos/home-j/jiwoong/WZG_DB/2016/merged_mc/ZZZ_2016.root: 100%|██████████| 411/411 [00:00<00:00, 100551.73it/s]\n"
     ]
    },
    {
     "name": "stdout",
     "output_type": "stream",
     "text": [
      "SumOfWeights for nbJets:  1.3804601430892944\n",
      "Time cost: 7.25\n",
      "\n",
      "is MC\n"
     ]
    },
    {
     "name": "stderr",
     "output_type": "stream",
     "text": [
      "fill WZG_dileptonmass for /eos/home-j/jiwoong/WZG_DB/2016/merged_mc/TTWW_2016.root: 100%|██████████| 24/24 [00:00<00:00, 65238.69it/s]\n"
     ]
    },
    {
     "name": "stdout",
     "output_type": "stream",
     "text": [
      "SumOfWeights for WZG_dileptonmass:  0.002480361028574407\n"
     ]
    },
    {
     "name": "stderr",
     "output_type": "stream",
     "text": [
      "fill WZG_trileptonmass for /eos/home-j/jiwoong/WZG_DB/2016/merged_mc/TTWW_2016.root: 100%|██████████| 24/24 [00:00<00:00, 75290.42it/s]\n"
     ]
    },
    {
     "name": "stdout",
     "output_type": "stream",
     "text": [
      "SumOfWeights for WZG_trileptonmass:  0.0024803610576782376\n"
     ]
    },
    {
     "name": "stderr",
     "output_type": "stream",
     "text": [
      "fill ZZ_mllz1 for /eos/home-j/jiwoong/WZG_DB/2016/merged_mc/TTWW_2016.root: 100%|██████████| 24/24 [00:00<00:00, 72838.85it/s]\n"
     ]
    },
    {
     "name": "stdout",
     "output_type": "stream",
     "text": [
      "SumOfWeights for ZZ_dileptonmass:  0.009456617437535897\n"
     ]
    },
    {
     "name": "stderr",
     "output_type": "stream",
     "text": [
      "fill ZZ_trileptonmass for /eos/home-j/jiwoong/WZG_DB/2016/merged_mc/TTWW_2016.root: 100%|██████████| 24/24 [00:00<00:00, 71953.75it/s]\n"
     ]
    },
    {
     "name": "stdout",
     "output_type": "stream",
     "text": [
      "SumOfWeights for ZZ_trileptonmass:  0.009760132117662579\n"
     ]
    },
    {
     "name": "stderr",
     "output_type": "stream",
     "text": [
      "fill ZZ_MET for /eos/home-j/jiwoong/WZG_DB/2016/merged_mc/TTWW_2016.root: 100%|██████████| 24/24 [00:00<00:00, 46345.90it/s]\n"
     ]
    },
    {
     "name": "stdout",
     "output_type": "stream",
     "text": [
      "SumOfWeights for ZZ_MET:  0.004659086931496859\n"
     ]
    },
    {
     "name": "stderr",
     "output_type": "stream",
     "text": [
      "fill ttZ_dileptonmass for /eos/home-j/jiwoong/WZG_DB/2016/merged_mc/TTWW_2016.root: 100%|██████████| 24/24 [00:00<00:00, 73369.75it/s]\n"
     ]
    },
    {
     "name": "stdout",
     "output_type": "stream",
     "text": [
      "SumOfWeights for ttZ_dileptonmass:  0.0\n"
     ]
    },
    {
     "name": "stderr",
     "output_type": "stream",
     "text": [
      "fill ttZ_trileptonmass for /eos/home-j/jiwoong/WZG_DB/2016/merged_mc/TTWW_2016.root: 100%|██████████| 24/24 [00:00<00:00, 56048.61it/s]\n"
     ]
    },
    {
     "name": "stdout",
     "output_type": "stream",
     "text": [
      "SumOfWeights for ttZ_trileptonmass:  0.0070873419172130525\n"
     ]
    },
    {
     "name": "stderr",
     "output_type": "stream",
     "text": [
      "fill ttG_trileptonmass for /eos/home-j/jiwoong/WZG_DB/2016/merged_mc/TTWW_2016.root: 100%|██████████| 24/24 [00:00<00:00, 73908.44it/s]\n"
     ]
    },
    {
     "name": "stdout",
     "output_type": "stream",
     "text": [
      "SumOfWeights for ttG_trileptonmass:  0.0024792856711428612\n"
     ]
    },
    {
     "name": "stderr",
     "output_type": "stream",
     "text": [
      "fill MET for /eos/home-j/jiwoong/WZG_DB/2016/merged_mc/TTWW_2016.root: 100%|██████████| 24/24 [00:00<00:00, 76550.03it/s]\n"
     ]
    },
    {
     "name": "stdout",
     "output_type": "stream",
     "text": [
      "SumOfWeights for MET:  0.004659086931496859\n"
     ]
    },
    {
     "name": "stderr",
     "output_type": "stream",
     "text": [
      "fill nJets for /eos/home-j/jiwoong/WZG_DB/2016/merged_mc/TTWW_2016.root: 100%|██████████| 24/24 [00:00<00:00, 52157.15it/s]\n"
     ]
    },
    {
     "name": "stdout",
     "output_type": "stream",
     "text": [
      "SumOfWeights for nJets:  0.009760131884831935\n"
     ]
    },
    {
     "name": "stderr",
     "output_type": "stream",
     "text": [
      "fill nbJets for /eos/home-j/jiwoong/WZG_DB/2016/merged_mc/TTWW_2016.root: 100%|██████████| 24/24 [00:00<00:00, 67378.38it/s]\n"
     ]
    },
    {
     "name": "stdout",
     "output_type": "stream",
     "text": [
      "SumOfWeights for nbJets:  0.009760132059454918\n",
      "Time cost: 7.52\n",
      "\n",
      "is MC\n"
     ]
    },
    {
     "name": "stderr",
     "output_type": "stream",
     "text": [
      "fill WZG_dileptonmass for /eos/home-j/jiwoong/WZG_DB/2016/merged_mc/TTWZ_2016.root: 100%|██████████| 83/83 [00:00<00:00, 100180.50it/s]\n"
     ]
    },
    {
     "name": "stdout",
     "output_type": "stream",
     "text": [
      "SumOfWeights for WZG_dileptonmass:  0.017064811661839485\n"
     ]
    },
    {
     "name": "stderr",
     "output_type": "stream",
     "text": [
      "fill WZG_trileptonmass for /eos/home-j/jiwoong/WZG_DB/2016/merged_mc/TTWZ_2016.root: 100%|██████████| 83/83 [00:00<00:00, 101494.82it/s]\n"
     ]
    },
    {
     "name": "stdout",
     "output_type": "stream",
     "text": [
      "SumOfWeights for WZG_trileptonmass:  0.014447414585447405\n"
     ]
    },
    {
     "name": "stderr",
     "output_type": "stream",
     "text": [
      "fill ZZ_mllz1 for /eos/home-j/jiwoong/WZG_DB/2016/merged_mc/TTWZ_2016.root: 100%|██████████| 83/83 [00:00<00:00, 98871.69it/s]\n"
     ]
    },
    {
     "name": "stdout",
     "output_type": "stream",
     "text": [
      "SumOfWeights for ZZ_dileptonmass:  0.022678438457660377\n"
     ]
    },
    {
     "name": "stderr",
     "output_type": "stream",
     "text": [
      "fill ZZ_trileptonmass for /eos/home-j/jiwoong/WZG_DB/2016/merged_mc/TTWZ_2016.root: 100%|██████████| 83/83 [00:00<00:00, 109233.52it/s]\n"
     ]
    },
    {
     "name": "stdout",
     "output_type": "stream",
     "text": [
      "SumOfWeights for ZZ_trileptonmass:  0.020000100339530036\n"
     ]
    },
    {
     "name": "stderr",
     "output_type": "stream",
     "text": [
      "fill ZZ_MET for /eos/home-j/jiwoong/WZG_DB/2016/merged_mc/TTWZ_2016.root: 100%|██████████| 83/83 [00:00<00:00, 105206.17it/s]\n"
     ]
    },
    {
     "name": "stdout",
     "output_type": "stream",
     "text": [
      "SumOfWeights for ZZ_MET:  0.010493241541553289\n"
     ]
    },
    {
     "name": "stderr",
     "output_type": "stream",
     "text": [
      "fill ttZ_dileptonmass for /eos/home-j/jiwoong/WZG_DB/2016/merged_mc/TTWZ_2016.root: 100%|██████████| 83/83 [00:00<00:00, 105301.64it/s]\n"
     ]
    },
    {
     "name": "stdout",
     "output_type": "stream",
     "text": [
      "SumOfWeights for ttZ_dileptonmass:  0.0\n"
     ]
    },
    {
     "name": "stderr",
     "output_type": "stream",
     "text": [
      "fill ttZ_trileptonmass for /eos/home-j/jiwoong/WZG_DB/2016/merged_mc/TTWZ_2016.root: 100%|██████████| 83/83 [00:00<00:00, 104011.72it/s]\n"
     ]
    },
    {
     "name": "stdout",
     "output_type": "stream",
     "text": [
      "SumOfWeights for ttZ_trileptonmass:  0.012354017933830619\n"
     ]
    },
    {
     "name": "stderr",
     "output_type": "stream",
     "text": [
      "fill ttG_trileptonmass for /eos/home-j/jiwoong/WZG_DB/2016/merged_mc/TTWZ_2016.root: 100%|██████████| 83/83 [00:00<00:00, 105910.32it/s]\n"
     ]
    },
    {
     "name": "stdout",
     "output_type": "stream",
     "text": [
      "SumOfWeights for ttG_trileptonmass:  0.01832944853231311\n"
     ]
    },
    {
     "name": "stderr",
     "output_type": "stream",
     "text": [
      "fill MET for /eos/home-j/jiwoong/WZG_DB/2016/merged_mc/TTWZ_2016.root: 100%|██████████| 83/83 [00:00<00:00, 91300.09it/s]\n"
     ]
    },
    {
     "name": "stdout",
     "output_type": "stream",
     "text": [
      "SumOfWeights for MET:  0.010493241541553289\n"
     ]
    },
    {
     "name": "stderr",
     "output_type": "stream",
     "text": [
      "fill nJets for /eos/home-j/jiwoong/WZG_DB/2016/merged_mc/TTWZ_2016.root: 100%|██████████| 83/83 [00:00<00:00, 107215.04it/s]\n"
     ]
    },
    {
     "name": "stdout",
     "output_type": "stream",
     "text": [
      "SumOfWeights for nJets:  0.021569460397586226\n"
     ]
    },
    {
     "name": "stderr",
     "output_type": "stream",
     "text": [
      "fill nbJets for /eos/home-j/jiwoong/WZG_DB/2016/merged_mc/TTWZ_2016.root: 100%|██████████| 83/83 [00:00<00:00, 106007.07it/s]\n"
     ]
    },
    {
     "name": "stdout",
     "output_type": "stream",
     "text": [
      "SumOfWeights for nbJets:  0.022678440436720848\n",
      "Time cost: 7.26\n",
      "\n",
      "is MC\n"
     ]
    },
    {
     "name": "stderr",
     "output_type": "stream",
     "text": [
      "fill WZG_dileptonmass for /eos/home-j/jiwoong/WZG_DB/2016/merged_mc/TTZZ_2016.root: 100%|██████████| 180/180 [00:00<00:00, 112935.64it/s]\n"
     ]
    },
    {
     "name": "stdout",
     "output_type": "stream",
     "text": [
      "SumOfWeights for WZG_dileptonmass:  0.01748775679152459\n"
     ]
    },
    {
     "name": "stderr",
     "output_type": "stream",
     "text": [
      "fill WZG_trileptonmass for /eos/home-j/jiwoong/WZG_DB/2016/merged_mc/TTZZ_2016.root: 100%|██████████| 180/180 [00:00<00:00, 109990.49it/s]\n"
     ]
    },
    {
     "name": "stdout",
     "output_type": "stream",
     "text": [
      "SumOfWeights for WZG_trileptonmass:  0.015514701401116326\n"
     ]
    },
    {
     "name": "stderr",
     "output_type": "stream",
     "text": [
      "fill ZZ_mllz1 for /eos/home-j/jiwoong/WZG_DB/2016/merged_mc/TTZZ_2016.root: 100%|██████████| 180/180 [00:00<00:00, 115900.33it/s]\n"
     ]
    },
    {
     "name": "stdout",
     "output_type": "stream",
     "text": [
      "SumOfWeights for ZZ_dileptonmass:  0.028680652947514318\n"
     ]
    },
    {
     "name": "stderr",
     "output_type": "stream",
     "text": [
      "fill ZZ_trileptonmass for /eos/home-j/jiwoong/WZG_DB/2016/merged_mc/TTZZ_2016.root: 100%|██████████| 180/180 [00:00<00:00, 113735.27it/s]\n"
     ]
    },
    {
     "name": "stdout",
     "output_type": "stream",
     "text": [
      "SumOfWeights for ZZ_trileptonmass:  0.027251240360783413\n"
     ]
    },
    {
     "name": "stderr",
     "output_type": "stream",
     "text": [
      "fill ZZ_MET for /eos/home-j/jiwoong/WZG_DB/2016/merged_mc/TTZZ_2016.root: 100%|██████████| 180/180 [00:00<00:00, 116580.41it/s]\n"
     ]
    },
    {
     "name": "stdout",
     "output_type": "stream",
     "text": [
      "SumOfWeights for ZZ_MET:  0.017136026290245354\n"
     ]
    },
    {
     "name": "stderr",
     "output_type": "stream",
     "text": [
      "fill ttZ_dileptonmass for /eos/home-j/jiwoong/WZG_DB/2016/merged_mc/TTZZ_2016.root: 100%|██████████| 180/180 [00:00<00:00, 110457.16it/s]\n"
     ]
    },
    {
     "name": "stdout",
     "output_type": "stream",
     "text": [
      "SumOfWeights for ttZ_dileptonmass:  0.000689326785504818\n"
     ]
    },
    {
     "name": "stderr",
     "output_type": "stream",
     "text": [
      "fill ttZ_trileptonmass for /eos/home-j/jiwoong/WZG_DB/2016/merged_mc/TTZZ_2016.root: 100%|██████████| 180/180 [00:00<00:00, 114442.13it/s]\n"
     ]
    },
    {
     "name": "stdout",
     "output_type": "stream",
     "text": [
      "SumOfWeights for ttZ_trileptonmass:  0.015101540855539497\n"
     ]
    },
    {
     "name": "stderr",
     "output_type": "stream",
     "text": [
      "fill ttG_trileptonmass for /eos/home-j/jiwoong/WZG_DB/2016/merged_mc/TTZZ_2016.root: 100%|██████████| 180/180 [00:00<00:00, 112935.64it/s]\n"
     ]
    },
    {
     "name": "stdout",
     "output_type": "stream",
     "text": [
      "SumOfWeights for ttG_trileptonmass:  0.02205494606459979\n"
     ]
    },
    {
     "name": "stderr",
     "output_type": "stream",
     "text": [
      "fill MET for /eos/home-j/jiwoong/WZG_DB/2016/merged_mc/TTZZ_2016.root: 100%|██████████| 180/180 [00:00<00:00, 110554.21it/s]\n"
     ]
    },
    {
     "name": "stdout",
     "output_type": "stream",
     "text": [
      "SumOfWeights for MET:  0.017136026290245354\n"
     ]
    },
    {
     "name": "stderr",
     "output_type": "stream",
     "text": [
      "fill nJets for /eos/home-j/jiwoong/WZG_DB/2016/merged_mc/TTZZ_2016.root: 100%|██████████| 180/180 [00:00<00:00, 105887.06it/s]\n"
     ]
    },
    {
     "name": "stdout",
     "output_type": "stream",
     "text": [
      "SumOfWeights for nJets:  0.024734312610235065\n"
     ]
    },
    {
     "name": "stderr",
     "output_type": "stream",
     "text": [
      "fill nbJets for /eos/home-j/jiwoong/WZG_DB/2016/merged_mc/TTZZ_2016.root: 100%|██████████| 180/180 [00:00<00:00, 114894.95it/s]\n"
     ]
    },
    {
     "name": "stdout",
     "output_type": "stream",
     "text": [
      "SumOfWeights for nbJets:  0.028680646792054176\n",
      "Time cost: 6.93\n",
      "\n",
      "is MC\n"
     ]
    },
    {
     "name": "stderr",
     "output_type": "stream",
     "text": [
      "fill WZG_dileptonmass for /eos/home-j/jiwoong/WZG_DB/2016/merged_mc/GluGluToContinToZZTo2e2mu_2016.root: 100%|██████████| 271680/271680 [00:02<00:00, 114570.74it/s]\n"
     ]
    },
    {
     "name": "stdout",
     "output_type": "stream",
     "text": [
      "SumOfWeights for WZG_dileptonmass:  28.947770297527313\n"
     ]
    },
    {
     "name": "stderr",
     "output_type": "stream",
     "text": [
      "fill WZG_trileptonmass for /eos/home-j/jiwoong/WZG_DB/2016/merged_mc/GluGluToContinToZZTo2e2mu_2016.root: 100%|██████████| 271680/271680 [00:02<00:00, 127879.60it/s]\n"
     ]
    },
    {
     "name": "stdout",
     "output_type": "stream",
     "text": [
      "SumOfWeights for WZG_trileptonmass:  28.73066670447588\n"
     ]
    },
    {
     "name": "stderr",
     "output_type": "stream",
     "text": [
      "fill ZZ_mllz1 for /eos/home-j/jiwoong/WZG_DB/2016/merged_mc/GluGluToContinToZZTo2e2mu_2016.root: 100%|██████████| 271680/271680 [00:02<00:00, 113334.27it/s]\n"
     ]
    },
    {
     "name": "stdout",
     "output_type": "stream",
     "text": [
      "SumOfWeights for ZZ_dileptonmass:  29.077362201176584\n"
     ]
    },
    {
     "name": "stderr",
     "output_type": "stream",
     "text": [
      "fill ZZ_trileptonmass for /eos/home-j/jiwoong/WZG_DB/2016/merged_mc/GluGluToContinToZZTo2e2mu_2016.root: 100%|██████████| 271680/271680 [00:02<00:00, 104959.81it/s]\n"
     ]
    },
    {
     "name": "stdout",
     "output_type": "stream",
     "text": [
      "SumOfWeights for ZZ_trileptonmass:  28.54095420241356\n"
     ]
    },
    {
     "name": "stderr",
     "output_type": "stream",
     "text": [
      "fill ZZ_MET for /eos/home-j/jiwoong/WZG_DB/2016/merged_mc/GluGluToContinToZZTo2e2mu_2016.root: 100%|██████████| 271680/271680 [00:02<00:00, 108851.52it/s]\n"
     ]
    },
    {
     "name": "stdout",
     "output_type": "stream",
     "text": [
      "SumOfWeights for ZZ_MET:  9.598613094072789\n"
     ]
    },
    {
     "name": "stderr",
     "output_type": "stream",
     "text": [
      "fill ttZ_dileptonmass for /eos/home-j/jiwoong/WZG_DB/2016/merged_mc/GluGluToContinToZZTo2e2mu_2016.root: 100%|██████████| 271680/271680 [00:02<00:00, 114787.43it/s]\n"
     ]
    },
    {
     "name": "stdout",
     "output_type": "stream",
     "text": [
      "SumOfWeights for ttZ_dileptonmass:  0.41154637932777405\n"
     ]
    },
    {
     "name": "stderr",
     "output_type": "stream",
     "text": [
      "fill ttZ_trileptonmass for /eos/home-j/jiwoong/WZG_DB/2016/merged_mc/GluGluToContinToZZTo2e2mu_2016.root: 100%|██████████| 271680/271680 [00:02<00:00, 121580.49it/s]\n"
     ]
    },
    {
     "name": "stdout",
     "output_type": "stream",
     "text": [
      "SumOfWeights for ttZ_trileptonmass:  23.815221399068832\n"
     ]
    },
    {
     "name": "stderr",
     "output_type": "stream",
     "text": [
      "fill ttG_trileptonmass for /eos/home-j/jiwoong/WZG_DB/2016/merged_mc/GluGluToContinToZZTo2e2mu_2016.root: 100%|██████████| 271680/271680 [00:02<00:00, 126726.17it/s]\n"
     ]
    },
    {
     "name": "stdout",
     "output_type": "stream",
     "text": [
      "SumOfWeights for ttG_trileptonmass:  22.6792923361063\n"
     ]
    },
    {
     "name": "stderr",
     "output_type": "stream",
     "text": [
      "fill MET for /eos/home-j/jiwoong/WZG_DB/2016/merged_mc/GluGluToContinToZZTo2e2mu_2016.root: 100%|██████████| 271680/271680 [00:02<00:00, 127910.85it/s]\n"
     ]
    },
    {
     "name": "stdout",
     "output_type": "stream",
     "text": [
      "SumOfWeights for MET:  9.598613094072789\n"
     ]
    },
    {
     "name": "stderr",
     "output_type": "stream",
     "text": [
      "fill nJets for /eos/home-j/jiwoong/WZG_DB/2016/merged_mc/GluGluToContinToZZTo2e2mu_2016.root: 100%|██████████| 271680/271680 [00:02<00:00, 117466.02it/s]\n"
     ]
    },
    {
     "name": "stdout",
     "output_type": "stream",
     "text": [
      "SumOfWeights for nJets:  29.069770134985447\n"
     ]
    },
    {
     "name": "stderr",
     "output_type": "stream",
     "text": [
      "fill nbJets for /eos/home-j/jiwoong/WZG_DB/2016/merged_mc/GluGluToContinToZZTo2e2mu_2016.root: 100%|██████████| 271680/271680 [00:02<00:00, 127060.06it/s]\n"
     ]
    },
    {
     "name": "stdout",
     "output_type": "stream",
     "text": [
      "SumOfWeights for nbJets:  29.089204788208008\n",
      "Time cost: 36.61\n",
      "\n",
      "is MC\n"
     ]
    },
    {
     "name": "stderr",
     "output_type": "stream",
     "text": [
      "fill WZG_dileptonmass for /eos/home-j/jiwoong/WZG_DB/2016/merged_mc/GluGluToContinToZZTo2e2nu_2016.root: 100%|██████████| 1/1 [00:00<00:00, 3890.82it/s]\n"
     ]
    },
    {
     "name": "stdout",
     "output_type": "stream",
     "text": [
      "SumOfWeights for WZG_dileptonmass:  0.0\n"
     ]
    },
    {
     "name": "stderr",
     "output_type": "stream",
     "text": [
      "fill WZG_trileptonmass for /eos/home-j/jiwoong/WZG_DB/2016/merged_mc/GluGluToContinToZZTo2e2nu_2016.root: 100%|██████████| 1/1 [00:00<00:00, 9446.63it/s]\n"
     ]
    },
    {
     "name": "stdout",
     "output_type": "stream",
     "text": [
      "SumOfWeights for WZG_trileptonmass:  0.0\n"
     ]
    },
    {
     "name": "stderr",
     "output_type": "stream",
     "text": [
      "fill ZZ_mllz1 for /eos/home-j/jiwoong/WZG_DB/2016/merged_mc/GluGluToContinToZZTo2e2nu_2016.root: 100%|██████████| 1/1 [00:00<00:00, 8422.30it/s]\n"
     ]
    },
    {
     "name": "stdout",
     "output_type": "stream",
     "text": [
      "SumOfWeights for ZZ_dileptonmass:  0.0002158565039280802\n"
     ]
    },
    {
     "name": "stderr",
     "output_type": "stream",
     "text": [
      "fill ZZ_trileptonmass for /eos/home-j/jiwoong/WZG_DB/2016/merged_mc/GluGluToContinToZZTo2e2nu_2016.root: 100%|██████████| 1/1 [00:00<00:00, 5440.08it/s]\n"
     ]
    },
    {
     "name": "stdout",
     "output_type": "stream",
     "text": [
      "SumOfWeights for ZZ_trileptonmass:  0.0002158565039280802\n"
     ]
    },
    {
     "name": "stderr",
     "output_type": "stream",
     "text": [
      "fill ZZ_MET for /eos/home-j/jiwoong/WZG_DB/2016/merged_mc/GluGluToContinToZZTo2e2nu_2016.root: 100%|██████████| 1/1 [00:00<00:00, 5249.44it/s]\n"
     ]
    },
    {
     "name": "stdout",
     "output_type": "stream",
     "text": [
      "SumOfWeights for ZZ_MET:  0.0\n"
     ]
    },
    {
     "name": "stderr",
     "output_type": "stream",
     "text": [
      "fill ttZ_dileptonmass for /eos/home-j/jiwoong/WZG_DB/2016/merged_mc/GluGluToContinToZZTo2e2nu_2016.root: 100%|██████████| 1/1 [00:00<00:00, 3840.94it/s]\n"
     ]
    },
    {
     "name": "stdout",
     "output_type": "stream",
     "text": [
      "SumOfWeights for ttZ_dileptonmass:  0.0\n"
     ]
    },
    {
     "name": "stderr",
     "output_type": "stream",
     "text": [
      "fill ttZ_trileptonmass for /eos/home-j/jiwoong/WZG_DB/2016/merged_mc/GluGluToContinToZZTo2e2nu_2016.root: 100%|██████████| 1/1 [00:00<00:00, 5540.69it/s]\n"
     ]
    },
    {
     "name": "stdout",
     "output_type": "stream",
     "text": [
      "SumOfWeights for ttZ_trileptonmass:  0.0\n"
     ]
    },
    {
     "name": "stderr",
     "output_type": "stream",
     "text": [
      "fill ttG_trileptonmass for /eos/home-j/jiwoong/WZG_DB/2016/merged_mc/GluGluToContinToZZTo2e2nu_2016.root: 100%|██████████| 1/1 [00:00<00:00, 5698.78it/s]\n"
     ]
    },
    {
     "name": "stdout",
     "output_type": "stream",
     "text": [
      "SumOfWeights for ttG_trileptonmass:  0.0\n"
     ]
    },
    {
     "name": "stderr",
     "output_type": "stream",
     "text": [
      "fill MET for /eos/home-j/jiwoong/WZG_DB/2016/merged_mc/GluGluToContinToZZTo2e2nu_2016.root: 100%|██████████| 1/1 [00:00<00:00, 5349.88it/s]\n"
     ]
    },
    {
     "name": "stdout",
     "output_type": "stream",
     "text": [
      "SumOfWeights for MET:  0.0\n"
     ]
    },
    {
     "name": "stderr",
     "output_type": "stream",
     "text": [
      "fill nJets for /eos/home-j/jiwoong/WZG_DB/2016/merged_mc/GluGluToContinToZZTo2e2nu_2016.root: 100%|██████████| 1/1 [00:00<00:00, 3287.07it/s]\n"
     ]
    },
    {
     "name": "stdout",
     "output_type": "stream",
     "text": [
      "SumOfWeights for nJets:  0.0002158565039280802\n"
     ]
    },
    {
     "name": "stderr",
     "output_type": "stream",
     "text": [
      "fill nbJets for /eos/home-j/jiwoong/WZG_DB/2016/merged_mc/GluGluToContinToZZTo2e2nu_2016.root: 100%|██████████| 1/1 [00:00<00:00, 3454.95it/s]\n"
     ]
    },
    {
     "name": "stdout",
     "output_type": "stream",
     "text": [
      "SumOfWeights for nbJets:  0.0002158565039280802\n",
      "Time cost: 7.34\n",
      "\n",
      "is MC\n"
     ]
    },
    {
     "name": "stderr",
     "output_type": "stream",
     "text": [
      "fill WZG_dileptonmass for /eos/home-j/jiwoong/WZG_DB/2016/merged_mc/GluGluToContinToZZTo2e2tau_2016.root: 100%|██████████| 3836/3836 [00:00<00:00, 110991.65it/s]\n"
     ]
    },
    {
     "name": "stdout",
     "output_type": "stream",
     "text": [
      "SumOfWeights for WZG_dileptonmass:  0.3777194879949093\n"
     ]
    },
    {
     "name": "stderr",
     "output_type": "stream",
     "text": [
      "fill WZG_trileptonmass for /eos/home-j/jiwoong/WZG_DB/2016/merged_mc/GluGluToContinToZZTo2e2tau_2016.root: 100%|██████████| 3836/3836 [00:00<00:00, 109010.87it/s]\n"
     ]
    },
    {
     "name": "stdout",
     "output_type": "stream",
     "text": [
      "SumOfWeights for WZG_trileptonmass:  0.37721821176819503\n"
     ]
    },
    {
     "name": "stderr",
     "output_type": "stream",
     "text": [
      "fill ZZ_mllz1 for /eos/home-j/jiwoong/WZG_DB/2016/merged_mc/GluGluToContinToZZTo2e2tau_2016.root: 100%|██████████| 3836/3836 [00:00<00:00, 109630.35it/s]\n"
     ]
    },
    {
     "name": "stdout",
     "output_type": "stream",
     "text": [
      "SumOfWeights for ZZ_dileptonmass:  0.41367061936762184\n"
     ]
    },
    {
     "name": "stderr",
     "output_type": "stream",
     "text": [
      "fill ZZ_trileptonmass for /eos/home-j/jiwoong/WZG_DB/2016/merged_mc/GluGluToContinToZZTo2e2tau_2016.root: 100%|██████████| 3836/3836 [00:00<00:00, 110167.83it/s]\n"
     ]
    },
    {
     "name": "stdout",
     "output_type": "stream",
     "text": [
      "SumOfWeights for ZZ_trileptonmass:  0.40599561703857034\n"
     ]
    },
    {
     "name": "stderr",
     "output_type": "stream",
     "text": [
      "fill ZZ_MET for /eos/home-j/jiwoong/WZG_DB/2016/merged_mc/GluGluToContinToZZTo2e2tau_2016.root: 100%|██████████| 3836/3836 [00:00<00:00, 110868.52it/s]\n"
     ]
    },
    {
     "name": "stdout",
     "output_type": "stream",
     "text": [
      "SumOfWeights for ZZ_MET:  0.24915580288507044\n"
     ]
    },
    {
     "name": "stderr",
     "output_type": "stream",
     "text": [
      "fill ttZ_dileptonmass for /eos/home-j/jiwoong/WZG_DB/2016/merged_mc/GluGluToContinToZZTo2e2tau_2016.root: 100%|██████████| 3836/3836 [00:00<00:00, 111866.77it/s]\n"
     ]
    },
    {
     "name": "stdout",
     "output_type": "stream",
     "text": [
      "SumOfWeights for ttZ_dileptonmass:  0.0\n"
     ]
    },
    {
     "name": "stderr",
     "output_type": "stream",
     "text": [
      "fill ttZ_trileptonmass for /eos/home-j/jiwoong/WZG_DB/2016/merged_mc/GluGluToContinToZZTo2e2tau_2016.root: 100%|██████████| 3836/3836 [00:00<00:00, 109821.17it/s]\n"
     ]
    },
    {
     "name": "stdout",
     "output_type": "stream",
     "text": [
      "SumOfWeights for ttZ_trileptonmass:  0.184414021554403\n"
     ]
    },
    {
     "name": "stderr",
     "output_type": "stream",
     "text": [
      "fill ttG_trileptonmass for /eos/home-j/jiwoong/WZG_DB/2016/merged_mc/GluGluToContinToZZTo2e2tau_2016.root: 100%|██████████| 3836/3836 [00:00<00:00, 109319.73it/s]\n"
     ]
    },
    {
     "name": "stdout",
     "output_type": "stream",
     "text": [
      "SumOfWeights for ttG_trileptonmass:  0.10748300142586231\n"
     ]
    },
    {
     "name": "stderr",
     "output_type": "stream",
     "text": [
      "fill MET for /eos/home-j/jiwoong/WZG_DB/2016/merged_mc/GluGluToContinToZZTo2e2tau_2016.root: 100%|██████████| 3836/3836 [00:00<00:00, 111066.74it/s]\n"
     ]
    },
    {
     "name": "stdout",
     "output_type": "stream",
     "text": [
      "SumOfWeights for MET:  0.24915580288507044\n"
     ]
    },
    {
     "name": "stderr",
     "output_type": "stream",
     "text": [
      "fill nJets for /eos/home-j/jiwoong/WZG_DB/2016/merged_mc/GluGluToContinToZZTo2e2tau_2016.root: 100%|██████████| 3836/3836 [00:00<00:00, 112079.51it/s]\n"
     ]
    },
    {
     "name": "stdout",
     "output_type": "stream",
     "text": [
      "SumOfWeights for nJets:  0.4141043529380113\n"
     ]
    },
    {
     "name": "stderr",
     "output_type": "stream",
     "text": [
      "fill nbJets for /eos/home-j/jiwoong/WZG_DB/2016/merged_mc/GluGluToContinToZZTo2e2tau_2016.root: 100%|██████████| 3836/3836 [00:00<00:00, 109940.48it/s]\n"
     ]
    },
    {
     "name": "stdout",
     "output_type": "stream",
     "text": [
      "SumOfWeights for nbJets:  0.41421544551849365\n",
      "Time cost: 8.67\n",
      "\n",
      "is MC\n"
     ]
    },
    {
     "name": "stderr",
     "output_type": "stream",
     "text": [
      "fill WZG_dileptonmass for /eos/home-j/jiwoong/WZG_DB/2016/merged_mc/GluGluToContinToZZTo2mu2nu_2016.root: 0it [00:00, ?it/s]\n"
     ]
    },
    {
     "name": "stdout",
     "output_type": "stream",
     "text": [
      "SumOfWeights for WZG_dileptonmass:  0.0\n"
     ]
    },
    {
     "name": "stderr",
     "output_type": "stream",
     "text": [
      "fill WZG_trileptonmass for /eos/home-j/jiwoong/WZG_DB/2016/merged_mc/GluGluToContinToZZTo2mu2nu_2016.root: 0it [00:00, ?it/s]\n"
     ]
    },
    {
     "name": "stdout",
     "output_type": "stream",
     "text": [
      "SumOfWeights for WZG_trileptonmass:  0.0\n"
     ]
    },
    {
     "name": "stderr",
     "output_type": "stream",
     "text": [
      "fill ZZ_mllz1 for /eos/home-j/jiwoong/WZG_DB/2016/merged_mc/GluGluToContinToZZTo2mu2nu_2016.root: 0it [00:00, ?it/s]\n"
     ]
    },
    {
     "name": "stdout",
     "output_type": "stream",
     "text": [
      "SumOfWeights for ZZ_dileptonmass:  0.0\n"
     ]
    },
    {
     "name": "stderr",
     "output_type": "stream",
     "text": [
      "fill ZZ_trileptonmass for /eos/home-j/jiwoong/WZG_DB/2016/merged_mc/GluGluToContinToZZTo2mu2nu_2016.root: 0it [00:00, ?it/s]\n"
     ]
    },
    {
     "name": "stdout",
     "output_type": "stream",
     "text": [
      "SumOfWeights for ZZ_trileptonmass:  0.0\n"
     ]
    },
    {
     "name": "stderr",
     "output_type": "stream",
     "text": [
      "fill ZZ_MET for /eos/home-j/jiwoong/WZG_DB/2016/merged_mc/GluGluToContinToZZTo2mu2nu_2016.root: 0it [00:00, ?it/s]\n"
     ]
    },
    {
     "name": "stdout",
     "output_type": "stream",
     "text": [
      "SumOfWeights for ZZ_MET:  0.0\n"
     ]
    },
    {
     "name": "stderr",
     "output_type": "stream",
     "text": [
      "fill ttZ_dileptonmass for /eos/home-j/jiwoong/WZG_DB/2016/merged_mc/GluGluToContinToZZTo2mu2nu_2016.root: 0it [00:00, ?it/s]\n"
     ]
    },
    {
     "name": "stdout",
     "output_type": "stream",
     "text": [
      "SumOfWeights for ttZ_dileptonmass:  0.0\n"
     ]
    },
    {
     "name": "stderr",
     "output_type": "stream",
     "text": [
      "fill ttZ_trileptonmass for /eos/home-j/jiwoong/WZG_DB/2016/merged_mc/GluGluToContinToZZTo2mu2nu_2016.root: 0it [00:00, ?it/s]\n"
     ]
    },
    {
     "name": "stdout",
     "output_type": "stream",
     "text": [
      "SumOfWeights for ttZ_trileptonmass:  0.0\n"
     ]
    },
    {
     "name": "stderr",
     "output_type": "stream",
     "text": [
      "fill ttG_trileptonmass for /eos/home-j/jiwoong/WZG_DB/2016/merged_mc/GluGluToContinToZZTo2mu2nu_2016.root: 0it [00:00, ?it/s]\n"
     ]
    },
    {
     "name": "stdout",
     "output_type": "stream",
     "text": [
      "SumOfWeights for ttG_trileptonmass:  0.0\n"
     ]
    },
    {
     "name": "stderr",
     "output_type": "stream",
     "text": [
      "fill MET for /eos/home-j/jiwoong/WZG_DB/2016/merged_mc/GluGluToContinToZZTo2mu2nu_2016.root: 0it [00:00, ?it/s]\n"
     ]
    },
    {
     "name": "stdout",
     "output_type": "stream",
     "text": [
      "SumOfWeights for MET:  0.0\n"
     ]
    },
    {
     "name": "stderr",
     "output_type": "stream",
     "text": [
      "fill nJets for /eos/home-j/jiwoong/WZG_DB/2016/merged_mc/GluGluToContinToZZTo2mu2nu_2016.root: 0it [00:00, ?it/s]\n"
     ]
    },
    {
     "name": "stdout",
     "output_type": "stream",
     "text": [
      "SumOfWeights for nJets:  0.0\n"
     ]
    },
    {
     "name": "stderr",
     "output_type": "stream",
     "text": [
      "fill nbJets for /eos/home-j/jiwoong/WZG_DB/2016/merged_mc/GluGluToContinToZZTo2mu2nu_2016.root: 0it [00:00, ?it/s]\n"
     ]
    },
    {
     "name": "stdout",
     "output_type": "stream",
     "text": [
      "SumOfWeights for nbJets:  0.0\n",
      "Time cost: 7.36\n",
      "\n",
      "is MC\n"
     ]
    },
    {
     "name": "stderr",
     "output_type": "stream",
     "text": [
      "fill WZG_dileptonmass for /eos/home-j/jiwoong/WZG_DB/2016/merged_mc/GluGluToContinToZZTo2mu2tau_2016.root: 100%|██████████| 5663/5663 [00:00<00:00, 112554.35it/s]\n"
     ]
    },
    {
     "name": "stdout",
     "output_type": "stream",
     "text": [
      "SumOfWeights for WZG_dileptonmass:  0.5730217508971691\n"
     ]
    },
    {
     "name": "stderr",
     "output_type": "stream",
     "text": [
      "fill WZG_trileptonmass for /eos/home-j/jiwoong/WZG_DB/2016/merged_mc/GluGluToContinToZZTo2mu2tau_2016.root: 100%|██████████| 5663/5663 [00:00<00:00, 111403.52it/s]\n"
     ]
    },
    {
     "name": "stdout",
     "output_type": "stream",
     "text": [
      "SumOfWeights for WZG_trileptonmass:  0.5768428803421557\n"
     ]
    },
    {
     "name": "stderr",
     "output_type": "stream",
     "text": [
      "fill ZZ_mllz1 for /eos/home-j/jiwoong/WZG_DB/2016/merged_mc/GluGluToContinToZZTo2mu2tau_2016.root: 100%|██████████| 5663/5663 [00:00<00:00, 110539.77it/s]\n"
     ]
    },
    {
     "name": "stdout",
     "output_type": "stream",
     "text": [
      "SumOfWeights for ZZ_dileptonmass:  0.614508694736287\n"
     ]
    },
    {
     "name": "stderr",
     "output_type": "stream",
     "text": [
      "fill ZZ_trileptonmass for /eos/home-j/jiwoong/WZG_DB/2016/merged_mc/GluGluToContinToZZTo2mu2tau_2016.root: 100%|██████████| 5663/5663 [00:00<00:00, 109584.56it/s]\n"
     ]
    },
    {
     "name": "stdout",
     "output_type": "stream",
     "text": [
      "SumOfWeights for ZZ_trileptonmass:  0.6088322979630902\n"
     ]
    },
    {
     "name": "stderr",
     "output_type": "stream",
     "text": [
      "fill ZZ_MET for /eos/home-j/jiwoong/WZG_DB/2016/merged_mc/GluGluToContinToZZTo2mu2tau_2016.root: 100%|██████████| 5663/5663 [00:00<00:00, 111940.62it/s]\n"
     ]
    },
    {
     "name": "stdout",
     "output_type": "stream",
     "text": [
      "SumOfWeights for ZZ_MET:  0.3726668895687908\n"
     ]
    },
    {
     "name": "stderr",
     "output_type": "stream",
     "text": [
      "fill ttZ_dileptonmass for /eos/home-j/jiwoong/WZG_DB/2016/merged_mc/GluGluToContinToZZTo2mu2tau_2016.root: 100%|██████████| 5663/5663 [00:00<00:00, 111180.33it/s]\n"
     ]
    },
    {
     "name": "stdout",
     "output_type": "stream",
     "text": [
      "SumOfWeights for ttZ_dileptonmass:  0.008314751088619232\n"
     ]
    },
    {
     "name": "stderr",
     "output_type": "stream",
     "text": [
      "fill ttZ_trileptonmass for /eos/home-j/jiwoong/WZG_DB/2016/merged_mc/GluGluToContinToZZTo2mu2tau_2016.root: 100%|██████████| 5663/5663 [00:00<00:00, 110288.27it/s]\n"
     ]
    },
    {
     "name": "stdout",
     "output_type": "stream",
     "text": [
      "SumOfWeights for ttZ_trileptonmass:  0.3553209640085697\n"
     ]
    },
    {
     "name": "stderr",
     "output_type": "stream",
     "text": [
      "fill ttG_trileptonmass for /eos/home-j/jiwoong/WZG_DB/2016/merged_mc/GluGluToContinToZZTo2mu2tau_2016.root: 100%|██████████| 5663/5663 [00:00<00:00, 107064.88it/s]\n"
     ]
    },
    {
     "name": "stdout",
     "output_type": "stream",
     "text": [
      "SumOfWeights for ttG_trileptonmass:  0.26124226674437523\n"
     ]
    },
    {
     "name": "stderr",
     "output_type": "stream",
     "text": [
      "fill MET for /eos/home-j/jiwoong/WZG_DB/2016/merged_mc/GluGluToContinToZZTo2mu2tau_2016.root: 100%|██████████| 5663/5663 [00:00<00:00, 111054.01it/s]\n"
     ]
    },
    {
     "name": "stdout",
     "output_type": "stream",
     "text": [
      "SumOfWeights for MET:  0.3726668895687908\n"
     ]
    },
    {
     "name": "stderr",
     "output_type": "stream",
     "text": [
      "fill nJets for /eos/home-j/jiwoong/WZG_DB/2016/merged_mc/GluGluToContinToZZTo2mu2tau_2016.root: 100%|██████████| 5663/5663 [00:00<00:00, 110412.85it/s]\n"
     ]
    },
    {
     "name": "stdout",
     "output_type": "stream",
     "text": [
      "SumOfWeights for nJets:  0.6157683708006516\n"
     ]
    },
    {
     "name": "stderr",
     "output_type": "stream",
     "text": [
      "fill nbJets for /eos/home-j/jiwoong/WZG_DB/2016/merged_mc/GluGluToContinToZZTo2mu2tau_2016.root: 100%|██████████| 5663/5663 [00:00<00:00, 107813.77it/s]\n"
     ]
    },
    {
     "name": "stdout",
     "output_type": "stream",
     "text": [
      "SumOfWeights for nbJets:  0.6161413192749023\n",
      "Time cost: 8.35\n",
      "\n",
      "is MC\n"
     ]
    },
    {
     "name": "stderr",
     "output_type": "stream",
     "text": [
      "fill WZG_dileptonmass for /eos/home-j/jiwoong/WZG_DB/2016/merged_mc/GluGluToContinToZZTo4e_2016.root: 100%|██████████| 372956/372956 [00:03<00:00, 113819.76it/s]\n"
     ]
    },
    {
     "name": "stdout",
     "output_type": "stream",
     "text": [
      "SumOfWeights for WZG_dileptonmass:  10.048440396785736\n"
     ]
    },
    {
     "name": "stderr",
     "output_type": "stream",
     "text": [
      "fill WZG_trileptonmass for /eos/home-j/jiwoong/WZG_DB/2016/merged_mc/GluGluToContinToZZTo4e_2016.root: 100%|██████████| 372956/372956 [00:03<00:00, 113572.71it/s]\n"
     ]
    },
    {
     "name": "stdout",
     "output_type": "stream",
     "text": [
      "SumOfWeights for WZG_trileptonmass:  9.987704414874315\n"
     ]
    },
    {
     "name": "stderr",
     "output_type": "stream",
     "text": [
      "fill ZZ_mllz1 for /eos/home-j/jiwoong/WZG_DB/2016/merged_mc/GluGluToContinToZZTo4e_2016.root: 100%|██████████| 372956/372956 [00:03<00:00, 112612.35it/s]\n"
     ]
    },
    {
     "name": "stdout",
     "output_type": "stream",
     "text": [
      "SumOfWeights for ZZ_dileptonmass:  10.074684224557132\n"
     ]
    },
    {
     "name": "stderr",
     "output_type": "stream",
     "text": [
      "fill ZZ_trileptonmass for /eos/home-j/jiwoong/WZG_DB/2016/merged_mc/GluGluToContinToZZTo4e_2016.root: 100%|██████████| 372956/372956 [00:03<00:00, 114364.55it/s]\n"
     ]
    },
    {
     "name": "stdout",
     "output_type": "stream",
     "text": [
      "SumOfWeights for ZZ_trileptonmass:  9.924498699605465\n"
     ]
    },
    {
     "name": "stderr",
     "output_type": "stream",
     "text": [
      "fill ZZ_MET for /eos/home-j/jiwoong/WZG_DB/2016/merged_mc/GluGluToContinToZZTo4e_2016.root: 100%|██████████| 372956/372956 [00:03<00:00, 112820.09it/s]\n"
     ]
    },
    {
     "name": "stdout",
     "output_type": "stream",
     "text": [
      "SumOfWeights for ZZ_MET:  3.332958883693209\n"
     ]
    },
    {
     "name": "stderr",
     "output_type": "stream",
     "text": [
      "fill ttZ_dileptonmass for /eos/home-j/jiwoong/WZG_DB/2016/merged_mc/GluGluToContinToZZTo4e_2016.root: 100%|██████████| 372956/372956 [00:03<00:00, 110531.14it/s]\n"
     ]
    },
    {
     "name": "stdout",
     "output_type": "stream",
     "text": [
      "SumOfWeights for ttZ_dileptonmass:  0.7318569421768188\n"
     ]
    },
    {
     "name": "stderr",
     "output_type": "stream",
     "text": [
      "fill ttZ_trileptonmass for /eos/home-j/jiwoong/WZG_DB/2016/merged_mc/GluGluToContinToZZTo4e_2016.root: 100%|██████████| 372956/372956 [00:02<00:00, 126676.99it/s]\n"
     ]
    },
    {
     "name": "stdout",
     "output_type": "stream",
     "text": [
      "SumOfWeights for ttZ_trileptonmass:  9.137125231325626\n"
     ]
    },
    {
     "name": "stderr",
     "output_type": "stream",
     "text": [
      "fill ttG_trileptonmass for /eos/home-j/jiwoong/WZG_DB/2016/merged_mc/GluGluToContinToZZTo4e_2016.root: 100%|██████████| 372956/372956 [00:02<00:00, 125164.23it/s]\n"
     ]
    },
    {
     "name": "stdout",
     "output_type": "stream",
     "text": [
      "SumOfWeights for ttG_trileptonmass:  8.523759662173688\n"
     ]
    },
    {
     "name": "stderr",
     "output_type": "stream",
     "text": [
      "fill MET for /eos/home-j/jiwoong/WZG_DB/2016/merged_mc/GluGluToContinToZZTo4e_2016.root: 100%|██████████| 372956/372956 [00:02<00:00, 125284.21it/s]\n"
     ]
    },
    {
     "name": "stdout",
     "output_type": "stream",
     "text": [
      "SumOfWeights for MET:  3.332958883693209\n"
     ]
    },
    {
     "name": "stderr",
     "output_type": "stream",
     "text": [
      "fill nJets for /eos/home-j/jiwoong/WZG_DB/2016/merged_mc/GluGluToContinToZZTo4e_2016.root: 100%|██████████| 372956/372956 [00:02<00:00, 125666.22it/s]\n"
     ]
    },
    {
     "name": "stdout",
     "output_type": "stream",
     "text": [
      "SumOfWeights for nJets:  10.083235297352076\n"
     ]
    },
    {
     "name": "stderr",
     "output_type": "stream",
     "text": [
      "fill nbJets for /eos/home-j/jiwoong/WZG_DB/2016/merged_mc/GluGluToContinToZZTo4e_2016.root: 100%|██████████| 372956/372956 [00:02<00:00, 125393.01it/s]\n"
     ]
    },
    {
     "name": "stdout",
     "output_type": "stream",
     "text": [
      "SumOfWeights for nbJets:  10.089261054992676\n",
      "Time cost: 46.69\n",
      "\n",
      "is MC\n"
     ]
    },
    {
     "name": "stderr",
     "output_type": "stream",
     "text": [
      "fill WZG_dileptonmass for /eos/home-j/jiwoong/WZG_DB/2016/merged_mc/GluGluToContinToZZTo4mu_2016.root: 100%|██████████| 747373/747373 [00:05<00:00, 126638.75it/s]\n"
     ]
    },
    {
     "name": "stdout",
     "output_type": "stream",
     "text": [
      "SumOfWeights for WZG_dileptonmass:  20.683385372161865\n"
     ]
    },
    {
     "name": "stderr",
     "output_type": "stream",
     "text": [
      "fill WZG_trileptonmass for /eos/home-j/jiwoong/WZG_DB/2016/merged_mc/GluGluToContinToZZTo4mu_2016.root: 100%|██████████| 747373/747373 [00:06<00:00, 122381.06it/s]\n"
     ]
    },
    {
     "name": "stdout",
     "output_type": "stream",
     "text": [
      "SumOfWeights for WZG_trileptonmass:  20.599434062838554\n"
     ]
    },
    {
     "name": "stderr",
     "output_type": "stream",
     "text": [
      "fill ZZ_mllz1 for /eos/home-j/jiwoong/WZG_DB/2016/merged_mc/GluGluToContinToZZTo4mu_2016.root: 100%|██████████| 747373/747373 [00:05<00:00, 125965.80it/s]\n"
     ]
    },
    {
     "name": "stdout",
     "output_type": "stream",
     "text": [
      "SumOfWeights for ZZ_dileptonmass:  20.825933287851512\n"
     ]
    },
    {
     "name": "stderr",
     "output_type": "stream",
     "text": [
      "fill ZZ_trileptonmass for /eos/home-j/jiwoong/WZG_DB/2016/merged_mc/GluGluToContinToZZTo4mu_2016.root: 100%|██████████| 747373/747373 [00:06<00:00, 123365.82it/s]\n"
     ]
    },
    {
     "name": "stdout",
     "output_type": "stream",
     "text": [
      "SumOfWeights for ZZ_trileptonmass:  20.56790006533265\n"
     ]
    },
    {
     "name": "stderr",
     "output_type": "stream",
     "text": [
      "fill ZZ_MET for /eos/home-j/jiwoong/WZG_DB/2016/merged_mc/GluGluToContinToZZTo4mu_2016.root: 100%|██████████| 747373/747373 [00:05<00:00, 126512.55it/s]\n"
     ]
    },
    {
     "name": "stdout",
     "output_type": "stream",
     "text": [
      "SumOfWeights for ZZ_MET:  6.764058959088288\n"
     ]
    },
    {
     "name": "stderr",
     "output_type": "stream",
     "text": [
      "fill ttZ_dileptonmass for /eos/home-j/jiwoong/WZG_DB/2016/merged_mc/GluGluToContinToZZTo4mu_2016.root: 100%|██████████| 747373/747373 [00:06<00:00, 118389.46it/s]\n"
     ]
    },
    {
     "name": "stdout",
     "output_type": "stream",
     "text": [
      "SumOfWeights for ttZ_dileptonmass:  0.6729130744934082\n"
     ]
    },
    {
     "name": "stderr",
     "output_type": "stream",
     "text": [
      "fill ttZ_trileptonmass for /eos/home-j/jiwoong/WZG_DB/2016/merged_mc/GluGluToContinToZZTo4mu_2016.root: 100%|██████████| 747373/747373 [00:05<00:00, 127625.97it/s]\n"
     ]
    },
    {
     "name": "stdout",
     "output_type": "stream",
     "text": [
      "SumOfWeights for ttZ_trileptonmass:  17.275037199258804\n"
     ]
    },
    {
     "name": "stderr",
     "output_type": "stream",
     "text": [
      "fill ttG_trileptonmass for /eos/home-j/jiwoong/WZG_DB/2016/merged_mc/GluGluToContinToZZTo4mu_2016.root: 100%|██████████| 747373/747373 [00:06<00:00, 116680.87it/s]\n"
     ]
    },
    {
     "name": "stdout",
     "output_type": "stream",
     "text": [
      "SumOfWeights for ttG_trileptonmass:  14.338204737752676\n"
     ]
    },
    {
     "name": "stderr",
     "output_type": "stream",
     "text": [
      "fill MET for /eos/home-j/jiwoong/WZG_DB/2016/merged_mc/GluGluToContinToZZTo4mu_2016.root: 100%|██████████| 747373/747373 [00:06<00:00, 113487.26it/s]\n"
     ]
    },
    {
     "name": "stdout",
     "output_type": "stream",
     "text": [
      "SumOfWeights for MET:  6.764058959088288\n"
     ]
    },
    {
     "name": "stderr",
     "output_type": "stream",
     "text": [
      "fill nJets for /eos/home-j/jiwoong/WZG_DB/2016/merged_mc/GluGluToContinToZZTo4mu_2016.root: 100%|██████████| 747373/747373 [00:05<00:00, 127868.45it/s]\n"
     ]
    },
    {
     "name": "stdout",
     "output_type": "stream",
     "text": [
      "SumOfWeights for nJets:  20.851652018725872\n"
     ]
    },
    {
     "name": "stderr",
     "output_type": "stream",
     "text": [
      "fill nbJets for /eos/home-j/jiwoong/WZG_DB/2016/merged_mc/GluGluToContinToZZTo4mu_2016.root: 100%|██████████| 747373/747373 [00:05<00:00, 125851.69it/s]\n"
     ]
    },
    {
     "name": "stdout",
     "output_type": "stream",
     "text": [
      "SumOfWeights for nbJets:  20.85930824279785\n",
      "Time cost: 82.21\n",
      "\n",
      "is MC\n"
     ]
    },
    {
     "name": "stderr",
     "output_type": "stream",
     "text": [
      "fill WZG_dileptonmass for /eos/home-j/jiwoong/WZG_DB/2016/merged_mc/GluGluToContinToZZTo4tau_2016.root: 100%|██████████| 15/15 [00:00<00:00, 52958.38it/s]\n"
     ]
    },
    {
     "name": "stdout",
     "output_type": "stream",
     "text": [
      "SumOfWeights for WZG_dileptonmass:  0.00023277156651602127\n"
     ]
    },
    {
     "name": "stderr",
     "output_type": "stream",
     "text": [
      "fill WZG_trileptonmass for /eos/home-j/jiwoong/WZG_DB/2016/merged_mc/GluGluToContinToZZTo4tau_2016.root: 100%|██████████| 15/15 [00:00<00:00, 61560.23it/s]\n"
     ]
    },
    {
     "name": "stdout",
     "output_type": "stream",
     "text": [
      "SumOfWeights for WZG_trileptonmass:  0.00023277156287804246\n"
     ]
    },
    {
     "name": "stderr",
     "output_type": "stream",
     "text": [
      "fill ZZ_mllz1 for /eos/home-j/jiwoong/WZG_DB/2016/merged_mc/GluGluToContinToZZTo4tau_2016.root: 100%|██████████| 15/15 [00:00<00:00, 55285.20it/s]\n"
     ]
    },
    {
     "name": "stdout",
     "output_type": "stream",
     "text": [
      "SumOfWeights for ZZ_dileptonmass:  0.0007924572091724258\n"
     ]
    },
    {
     "name": "stderr",
     "output_type": "stream",
     "text": [
      "fill ZZ_trileptonmass for /eos/home-j/jiwoong/WZG_DB/2016/merged_mc/GluGluToContinToZZTo4tau_2016.root: 100%|██████████| 15/15 [00:00<00:00, 61680.94it/s]\n"
     ]
    },
    {
     "name": "stdout",
     "output_type": "stream",
     "text": [
      "SumOfWeights for ZZ_trileptonmass:  0.0007249718219100032\n"
     ]
    },
    {
     "name": "stderr",
     "output_type": "stream",
     "text": [
      "fill ZZ_MET for /eos/home-j/jiwoong/WZG_DB/2016/merged_mc/GluGluToContinToZZTo4tau_2016.root: 100%|██████████| 15/15 [00:00<00:00, 64594.00it/s]\n"
     ]
    },
    {
     "name": "stdout",
     "output_type": "stream",
     "text": [
      "SumOfWeights for ZZ_MET:  0.0004910424358968157\n"
     ]
    },
    {
     "name": "stderr",
     "output_type": "stream",
     "text": [
      "fill ttZ_dileptonmass for /eos/home-j/jiwoong/WZG_DB/2016/merged_mc/GluGluToContinToZZTo4tau_2016.root: 100%|██████████| 15/15 [00:00<00:00, 58525.17it/s]\n"
     ]
    },
    {
     "name": "stdout",
     "output_type": "stream",
     "text": [
      "SumOfWeights for ttZ_dileptonmass:  0.0\n"
     ]
    },
    {
     "name": "stderr",
     "output_type": "stream",
     "text": [
      "fill ttZ_trileptonmass for /eos/home-j/jiwoong/WZG_DB/2016/merged_mc/GluGluToContinToZZTo4tau_2016.root: 100%|██████████| 15/15 [00:00<00:00, 65604.34it/s]\n"
     ]
    },
    {
     "name": "stdout",
     "output_type": "stream",
     "text": [
      "SumOfWeights for ttZ_trileptonmass:  0.00012413009244482964\n"
     ]
    },
    {
     "name": "stderr",
     "output_type": "stream",
     "text": [
      "fill ttG_trileptonmass for /eos/home-j/jiwoong/WZG_DB/2016/merged_mc/GluGluToContinToZZTo4tau_2016.root: 100%|██████████| 15/15 [00:00<00:00, 65467.80it/s]\n"
     ]
    },
    {
     "name": "stdout",
     "output_type": "stream",
     "text": [
      "SumOfWeights for ttG_trileptonmass:  0.0\n"
     ]
    },
    {
     "name": "stderr",
     "output_type": "stream",
     "text": [
      "fill MET for /eos/home-j/jiwoong/WZG_DB/2016/merged_mc/GluGluToContinToZZTo4tau_2016.root: 100%|██████████| 15/15 [00:00<00:00, 58039.26it/s]\n"
     ]
    },
    {
     "name": "stdout",
     "output_type": "stream",
     "text": [
      "SumOfWeights for MET:  0.0004910424358968157\n"
     ]
    },
    {
     "name": "stderr",
     "output_type": "stream",
     "text": [
      "fill nJets for /eos/home-j/jiwoong/WZG_DB/2016/merged_mc/GluGluToContinToZZTo4tau_2016.root: 100%|██████████| 15/15 [00:00<00:00, 67795.86it/s]\n"
     ]
    },
    {
     "name": "stdout",
     "output_type": "stream",
     "text": [
      "SumOfWeights for nJets:  0.0008478426825604402\n"
     ]
    },
    {
     "name": "stderr",
     "output_type": "stream",
     "text": [
      "fill nbJets for /eos/home-j/jiwoong/WZG_DB/2016/merged_mc/GluGluToContinToZZTo4tau_2016.root: 100%|██████████| 15/15 [00:00<00:00, 61082.10it/s]"
     ]
    },
    {
     "name": "stdout",
     "output_type": "stream",
     "text": [
      "SumOfWeights for nbJets:  0.0008478427771478891\n",
      "Time cost: 7.29\n",
      "\n"
     ]
    },
    {
     "name": "stderr",
     "output_type": "stream",
     "text": [
      "\n"
     ]
    }
   ],
   "source": [
    "def SetHistStyle(hist, color):\n",
    "    hist.SetMarkerStyle(20)\n",
    "    hist.SetMarkerColor(color)\n",
    "    hist.SetFillColor(color)\n",
    "    hist.SetYTitle('events/bin')\n",
    "    hist.SetStats(0)\n",
    "    hist.Sumw2()\n",
    "    \n",
    "    \n",
    "for file in filelist_MC:\n",
    "    hist_MC = {}\n",
    "    for branch_name in branch:\n",
    "        hist_MC_temp = ROOT.TH1F(\"\", \"\", branch[branch_name][\"xbins\"], branch[branch_name][\"xleft\"], branch[branch_name][\"xright\"])\n",
    "        SetHistStyle(hist_MC_temp, filelist_MC[file][\"color\"])\n",
    "        hist_MC_temp.SetXTitle(f'{branch[branch_name][\"axis_name\"]}')\n",
    "        hist_MC[branch_name] = hist_MC_temp\n",
    "        \n",
    "    AddHist(filelist_MC[file][\"path\"], hist_MC, 0, filelist_MC[file][\"xsec\"], lumi, channel, branch,UpDown)\n",
    "    filelist_MC[file][\"hist\"] = hist_MC"
   ]
  },
  {
   "cell_type": "code",
   "execution_count": 15,
   "id": "6314a80f",
   "metadata": {},
   "outputs": [
    {
     "data": {
      "text/plain": [
       "{'WZG_dileptonmass': <cppyy.gbl.TH1F object at 0xcc44db0>,\n",
       " 'WZG_trileptonmass': <cppyy.gbl.TH1F object at 0xcc411a0>,\n",
       " 'ZZ_dileptonmass': <cppyy.gbl.TH1F object at 0x1f368c0>,\n",
       " 'ZZ_trileptonmass': <cppyy.gbl.TH1F object at 0xd5b0b50>,\n",
       " 'ZZ_MET': <cppyy.gbl.TH1F object at 0xb8f30e0>,\n",
       " 'ttZ_dileptonmass': <cppyy.gbl.TH1F object at 0xb03e890>,\n",
       " 'ttZ_trileptonmass': <cppyy.gbl.TH1F object at 0xd48e440>,\n",
       " 'ttG_trileptonmass': <cppyy.gbl.TH1F object at 0xd4893d0>,\n",
       " 'MET': <cppyy.gbl.TH1F object at 0x9f5b750>,\n",
       " 'nJets': <cppyy.gbl.TH1F object at 0xd3baaf0>,\n",
       " 'nbJets': <cppyy.gbl.TH1F object at 0x9e44bd0>}"
      ]
     },
     "execution_count": 15,
     "metadata": {},
     "output_type": "execute_result"
    }
   ],
   "source": [
    "hist_MC"
   ]
  },
  {
   "cell_type": "code",
   "execution_count": 8,
   "id": "d02d9688",
   "metadata": {},
   "outputs": [],
   "source": [
    "def AddHist_FakeLepton(file, hist, isData, xsec, lumi, channel, branch):\n",
    "    \n",
    "    init_time = time.time()\n",
    "    init_branches = ['fake_lepton_weight','channel_mark','HLT_Ele23_Ele12_CaloIdL_TrackIdL_IsoVL','HLT_Mu23_TrkIsoVVL_Ele12_CaloIdL_TrackIdL_IsoVL','HLT_Mu8_TrkIsoVVL_Ele23_CaloIdL_TrackIdL_IsoVL_DZ','HLT_Mu17_TrkIsoVVL_Mu8_TrkIsoVVL_DZ_Mass3p8','HLT_Ele32_WPTight_Gsf','HLT_IsoMu24']\n",
    "    \n",
    "    if isData:\n",
    "        print('is Data')\n",
    "        for branch_name in branch:\n",
    "            if branch[branch_name][\"name\"] not in init_branches:\n",
    "                init_branches.append(branch[branch_name][\"name\"])\n",
    "    else:\n",
    "        print('is MC')\n",
    "        add_branches = ['Generator_weight']\n",
    "        gen_branches = uproot.open(file+':Events').keys(filter_name='*_lepton*genPartFlav')\n",
    "        true_events = uproot.open(file)['nEventsGenWeighted'].values()[0]\n",
    "        init_branches.extend(add_branches)\n",
    "        init_branches.extend(gen_branches)\n",
    "        for branch_name in branch:\n",
    "            if branch[branch_name][\"name\"] not in init_branches:\n",
    "                init_branches.append(branch[branch_name][\"name\"])\n",
    "        \n",
    "    branches = uproot.open(file+':Events').arrays(init_branches, library='pd')\n",
    "    \n",
    "    HLT_SingleMuon = branches.loc[:,'HLT_IsoMu24'] == True\n",
    "    HLT_DoubleMuon = branches.loc[:,'HLT_Mu17_TrkIsoVVL_Mu8_TrkIsoVVL_DZ_Mass3p8'] == True\n",
    "    HLT_EGamma = branches.loc[:,'HLT_Ele32_WPTight_Gsf'] == True\n",
    "    HLT_DoubleEG = branches.loc[:,'HLT_Ele23_Ele12_CaloIdL_TrackIdL_IsoVL'] == True\n",
    "    HLT_MuonEG1 = branches.loc[:,'HLT_Mu8_TrkIsoVVL_Ele23_CaloIdL_TrackIdL_IsoVL_DZ'] == True\n",
    "    HLT_MuonEG2 = branches.loc[:,'HLT_Mu23_TrkIsoVVL_Ele12_CaloIdL_TrackIdL_IsoVL'] == True\n",
    "    if 'SingleMuon' in file:\n",
    "        arrays = branches.loc[HLT_SingleMuon, :].copy()\n",
    "    elif 'DoubleMuon' in file:\n",
    "        arrays = branches.loc[~HLT_SingleMuon & HLT_DoubleMuon, :].copy()\n",
    "#         2018 is special\n",
    "    elif 'EGamma' in file:\n",
    "        arrays = branches.loc[~HLT_SingleMuon & ~HLT_DoubleMuon &   (HLT_EGamma | HLT_DoubleEG) ,:].copy()\n",
    "    elif 'MuonEG' in file:\n",
    "        arrays = branches.loc[~HLT_SingleMuon & ~HLT_DoubleMuon &  ~(HLT_EGamma | HLT_DoubleEG) & (HLT_MuonEG1 | HLT_MuonEG2),:].copy()\n",
    "    else:\n",
    "        arrays = branches.loc[HLT_SingleMuon | HLT_DoubleMuon |  HLT_EGamma | HLT_DoubleEG | HLT_MuonEG1 | HLT_MuonEG2,:].copy()\n",
    "    \n",
    "    if channel == 0: \n",
    "        channel_cut = (arrays.loc[:,'channel_mark'] >= 1) & (arrays.loc[:,'channel_mark'] <= 4)\n",
    "    elif channel == 10:\n",
    "        channel_cut = (arrays.loc[:,'channel_mark'] >= 11) & (arrays.loc[:,'channel_mark'] <= 14)\n",
    "    elif channel == 9:\n",
    "        channel_cut = (arrays.loc[:,'channel_mark'] >= 5) & (arrays.loc[:,'channel_mark'] <= 8)\n",
    "    else:\n",
    "        channel_cut = arrays.loc[:,'channel_mark'] == channel\n",
    "    \n",
    "    if isData:\n",
    "        arrays = arrays.loc[channel_cut,:]\n",
    "    else:\n",
    "        lep_gen_cut_WZG = (arrays.loc[:,'WZG_lepton1_genPartFlav'] > 0) & (arrays.loc[:,'WZG_lepton2_genPartFlav'] > 0) & (arrays.loc[:,'WZG_lepton3_genPartFlav'] > 0)\n",
    "        lep_gen_cut_ttZ = (arrays.loc[:,'ttZ_lepton1_genPartFlav'] > 0) & (arrays.loc[:,'ttZ_lepton2_genPartFlav'] > 0) & (arrays.loc[:,'ttZ_lepton3_genPartFlav'] > 0)\n",
    "        lep_gen_cut_ZZ = (arrays.loc[:,'ZZ_lepton1_genPartFlav'] > 0) & (arrays.loc[:,'ZZ_lepton2_genPartFlav'] > 0) & (arrays.loc[:,'ZZ_lepton3_genPartFlav'] > 0)\n",
    "        gen_cut_map = {\n",
    "                        0:lep_gen_cut_WZG, \n",
    "                        1:lep_gen_cut_WZG,\n",
    "                        2:lep_gen_cut_WZG,\n",
    "                        3:lep_gen_cut_WZG,\n",
    "                        4:lep_gen_cut_WZG,\n",
    "                        10:lep_gen_cut_ttZ,\n",
    "                        11:lep_gen_cut_ttZ,\n",
    "                        12:lep_gen_cut_ttZ,\n",
    "                        13:lep_gen_cut_ttZ,\n",
    "                        14:lep_gen_cut_ttZ,\n",
    "                        5:lep_gen_cut_ZZ,\n",
    "                        6:lep_gen_cut_ZZ,\n",
    "                        7:lep_gen_cut_ZZ,\n",
    "                        8:lep_gen_cut_ZZ,\n",
    "                        9:lep_gen_cut_ZZ,\n",
    "        }\n",
    "        lep_gen_cut = gen_cut_map[channel]\n",
    "        arrays = arrays.loc[channel_cut & lep_gen_cut,:]\n",
    "    \n",
    "    if isData:\n",
    "        for branch_name in branch:\n",
    "            for i in trange(0, len(arrays[branch[branch_name][\"name\"]]), desc=f'fill {branch[branch_name][\"name\"]} for {file}'):\n",
    "                hist[branch_name].Fill(float(arrays[branch[branch_name][\"name\"]].values[i]), float(arrays['fake_lepton_weight'].values[i]))\n",
    "            print (f\"SumOfWeights for {branch_name}: \", hist[branch_name].GetSumOfWeights())\n",
    "    else:\n",
    "        arrays['Generator_weight_sgn'] = arrays['Generator_weight'].apply(lambda x: 1 if x >= 0 else -1)\n",
    "        arrays['true_weight'] = lumi * xsec * 1000 * arrays['Generator_weight_sgn'] / true_events\n",
    "        for branch_name in branch:\n",
    "            for i in trange(0, len(arrays[branch[branch_name][\"name\"]]), desc=f'fill {branch[branch_name][\"name\"]} for {file}'):\n",
    "                hist[branch_name].Fill(float(arrays[branch[branch_name][\"name\"]].values[i]), -1 * float(arrays['fake_lepton_weight'].values[i]) * float(arrays['true_weight'].values[i]))\n",
    "            print (f\"SumOfWeights for {branch_name}: \", hist[branch_name].GetSumOfWeights())\n",
    "    \n",
    "    end_time = time.time()\n",
    "    print ('Time cost: %.2f\\n' %(end_time-init_time))"
   ]
  },
  {
   "cell_type": "markdown",
   "id": "9150ec29",
   "metadata": {},
   "source": [
    "### FakeLepton - data (not yet)"
   ]
  },
  {
   "cell_type": "code",
   "execution_count": 9,
   "id": "57f7e516",
   "metadata": {},
   "outputs": [],
   "source": [
    "filelist_data_FakeLep = [\n",
    "\"/eos/home-j/jiwoong/SWAN_projects/Draw/Merged_file_211028/Fakelepton/DoubleMuon_Run2018A_0000_Skim.root\"\n",
    ",\"/eos/home-j/jiwoong/SWAN_projects/Draw/Merged_file_211028/Fakelepton/DoubleMuon_Run2018B_0000_Skim.root\"\n",
    ",\"/eos/home-j/jiwoong/SWAN_projects/Draw/Merged_file_211028/Fakelepton/DoubleMuon_Run2018C_0000_Skim.root\"\n",
    ",\"/eos/home-j/jiwoong/SWAN_projects/Draw/Merged_file_211028/Fakelepton/DoubleMuon_Run2018D_0000_Skim.root\"\n",
    ",\"/eos/home-j/jiwoong/SWAN_projects/Draw/Merged_file_211028/Fakelepton/DoubleMuon_Run2018D_0001_Skim.root\"\n",
    ",\"/eos/home-j/jiwoong/SWAN_projects/Draw/Merged_file_211028/Fakelepton/EGamma_Run2018A_0000_Skim.root\"\n",
    ",\"/eos/home-j/jiwoong/SWAN_projects/Draw/Merged_file_211028/Fakelepton/EGamma_Run2018B_0000_Skim.root\"\n",
    ",\"/eos/home-j/jiwoong/SWAN_projects/Draw/Merged_file_211028/Fakelepton/EGamma_Run2018C_0000_Skim.root\"\n",
    ",\"/eos/home-j/jiwoong/SWAN_projects/Draw/Merged_file_211028/Fakelepton/EGamma_Run2018D_0000_Skim.root\"\n",
    ",\"/eos/home-j/jiwoong/SWAN_projects/Draw/Merged_file_211028/Fakelepton/EGamma_Run2018D_0001_Skim.root\"\n",
    ",\"/eos/home-j/jiwoong/SWAN_projects/Draw/Merged_file_211028/Fakelepton/MuonEG_Run2018A_0000_Skim.root\"\n",
    ",\"/eos/home-j/jiwoong/SWAN_projects/Draw/Merged_file_211028/Fakelepton/MuonEG_Run2018B_0000_Skim.root\"\n",
    ",\"/eos/home-j/jiwoong/SWAN_projects/Draw/Merged_file_211028/Fakelepton/MuonEG_Run2018C_0000_Skim.root\"\n",
    ",\"/eos/home-j/jiwoong/SWAN_projects/Draw/Merged_file_211028/Fakelepton/MuonEG_Run2018D_0000_Skim.root\"\n",
    ",\"/eos/home-j/jiwoong/SWAN_projects/Draw/Merged_file_211028/Fakelepton/SingleMuon_Run2018A_0000_Skim.root\"\n",
    ",\"/eos/home-j/jiwoong/SWAN_projects/Draw/Merged_file_211028/Fakelepton/SingleMuon_Run2018B_0000_Skim.root\"\n",
    ",\"/eos/home-j/jiwoong/SWAN_projects/Draw/Merged_file_211028/Fakelepton/SingleMuon_Run2018C_0000_Skim.root\"\n",
    ",\"/eos/home-j/jiwoong/SWAN_projects/Draw/Merged_file_211028/Fakelepton/SingleMuon_Run2018D_0000_Skim.root\"\n",
    ",\"/eos/home-j/jiwoong/SWAN_projects/Draw/Merged_file_211028/Fakelepton/SingleMuon_Run2018D_0001_Skim.root\"\n",
    "]\n",
    "\n",
    "hist_FakeLep = {}\n",
    "\n",
    "for branch_name in branch:\n",
    "    hist_FakeLep_temp = ROOT.TH1F(\"\", \"\", branch[branch_name][\"xbins\"], branch[branch_name][\"xleft\"], branch[branch_name][\"xright\"])\n",
    "    hist_FakeLep_temp.SetXTitle(f'{branch[branch_name][\"axis_name\"]}')\n",
    "    hist_FakeLep_temp.SetYTitle(f'events / bin')\n",
    "    hist_FakeLep_temp.SetFillColor(23) \n",
    "    hist_FakeLep_temp.SetMarkerStyle(20)\n",
    "    hist_FakeLep_temp.SetMarkerColor(23)\n",
    "    hist_FakeLep_temp.SetStats(0)\n",
    "    hist_FakeLep_temp.Sumw2()\n",
    "    hist_FakeLep[branch_name] = hist_FakeLep_temp"
   ]
  },
  {
   "cell_type": "code",
   "execution_count": 10,
   "id": "6f36cb9a",
   "metadata": {},
   "outputs": [
    {
     "name": "stdout",
     "output_type": "stream",
     "text": [
      "is Data\n"
     ]
    },
    {
     "name": "stderr",
     "output_type": "stream",
     "text": [
      "fill WZG_dileptonmass for /eos/home-j/jiwoong/SWAN_projects/Draw/Merged_file_211028/Fakelepton/DoubleMuon_Run2018A_0000_Skim.root: 100%|██████████| 33/33 [00:00<00:00, 61190.11it/s]\n"
     ]
    },
    {
     "name": "stdout",
     "output_type": "stream",
     "text": [
      "SumOfWeights for WZG_dileptonmass:  0.0\n"
     ]
    },
    {
     "name": "stderr",
     "output_type": "stream",
     "text": [
      "fill WZG_trileptonmass for /eos/home-j/jiwoong/SWAN_projects/Draw/Merged_file_211028/Fakelepton/DoubleMuon_Run2018A_0000_Skim.root: 100%|██████████| 33/33 [00:00<00:00, 85598.04it/s]\n"
     ]
    },
    {
     "name": "stdout",
     "output_type": "stream",
     "text": [
      "SumOfWeights for WZG_trileptonmass:  0.0\n"
     ]
    },
    {
     "name": "stderr",
     "output_type": "stream",
     "text": [
      "fill ZZ_mllz1 for /eos/home-j/jiwoong/SWAN_projects/Draw/Merged_file_211028/Fakelepton/DoubleMuon_Run2018A_0000_Skim.root: 100%|██████████| 33/33 [00:00<00:00, 73233.88it/s]\n"
     ]
    },
    {
     "name": "stdout",
     "output_type": "stream",
     "text": [
      "SumOfWeights for ZZ_mllz1:  -0.7001579999923706\n"
     ]
    },
    {
     "name": "stderr",
     "output_type": "stream",
     "text": [
      "fill ttZ_dileptonmass for /eos/home-j/jiwoong/SWAN_projects/Draw/Merged_file_211028/Fakelepton/DoubleMuon_Run2018A_0000_Skim.root: 100%|██████████| 33/33 [00:00<00:00, 80006.95it/s]\n"
     ]
    },
    {
     "name": "stdout",
     "output_type": "stream",
     "text": [
      "SumOfWeights for ttZ_dileptonmass:  6.005165606737137\n"
     ]
    },
    {
     "name": "stderr",
     "output_type": "stream",
     "text": [
      "fill MET for /eos/home-j/jiwoong/SWAN_projects/Draw/Merged_file_211028/Fakelepton/DoubleMuon_Run2018A_0000_Skim.root: 100%|██████████| 33/33 [00:00<00:00, 75387.82it/s]\n"
     ]
    },
    {
     "name": "stdout",
     "output_type": "stream",
     "text": [
      "SumOfWeights for MET:  5.798658907413483\n"
     ]
    },
    {
     "name": "stderr",
     "output_type": "stream",
     "text": [
      "fill nJets for /eos/home-j/jiwoong/SWAN_projects/Draw/Merged_file_211028/Fakelepton/DoubleMuon_Run2018A_0000_Skim.root: 100%|██████████| 33/33 [00:00<00:00, 62123.89it/s]\n"
     ]
    },
    {
     "name": "stdout",
     "output_type": "stream",
     "text": [
      "SumOfWeights for nJets:  6.005166158080101\n"
     ]
    },
    {
     "name": "stderr",
     "output_type": "stream",
     "text": [
      "fill nbJets for /eos/home-j/jiwoong/SWAN_projects/Draw/Merged_file_211028/Fakelepton/DoubleMuon_Run2018A_0000_Skim.root: 100%|██████████| 33/33 [00:00<00:00, 36309.56it/s]\n"
     ]
    },
    {
     "name": "stdout",
     "output_type": "stream",
     "text": [
      "SumOfWeights for nbJets:  6.005165696144104\n",
      "Time cost: 2.31\n",
      "\n",
      "is Data\n"
     ]
    },
    {
     "name": "stderr",
     "output_type": "stream",
     "text": [
      "fill WZG_dileptonmass for /eos/home-j/jiwoong/SWAN_projects/Draw/Merged_file_211028/Fakelepton/DoubleMuon_Run2018B_0000_Skim.root: 100%|██████████| 11/11 [00:00<00:00, 38967.35it/s]\n"
     ]
    },
    {
     "name": "stdout",
     "output_type": "stream",
     "text": [
      "SumOfWeights for WZG_dileptonmass:  0.0\n"
     ]
    },
    {
     "name": "stderr",
     "output_type": "stream",
     "text": [
      "fill WZG_trileptonmass for /eos/home-j/jiwoong/SWAN_projects/Draw/Merged_file_211028/Fakelepton/DoubleMuon_Run2018B_0000_Skim.root: 100%|██████████| 11/11 [00:00<00:00, 66962.76it/s]\n"
     ]
    },
    {
     "name": "stdout",
     "output_type": "stream",
     "text": [
      "SumOfWeights for WZG_trileptonmass:  0.0\n"
     ]
    },
    {
     "name": "stderr",
     "output_type": "stream",
     "text": [
      "fill ZZ_mllz1 for /eos/home-j/jiwoong/SWAN_projects/Draw/Merged_file_211028/Fakelepton/DoubleMuon_Run2018B_0000_Skim.root: 100%|██████████| 11/11 [00:00<00:00, 55856.35it/s]\n"
     ]
    },
    {
     "name": "stdout",
     "output_type": "stream",
     "text": [
      "SumOfWeights for ZZ_mllz1:  -0.9794317334890366\n"
     ]
    },
    {
     "name": "stderr",
     "output_type": "stream",
     "text": [
      "fill ttZ_dileptonmass for /eos/home-j/jiwoong/SWAN_projects/Draw/Merged_file_211028/Fakelepton/DoubleMuon_Run2018B_0000_Skim.root: 100%|██████████| 11/11 [00:00<00:00, 50533.78it/s]\n"
     ]
    },
    {
     "name": "stdout",
     "output_type": "stream",
     "text": [
      "SumOfWeights for ttZ_dileptonmass:  3.552213042974472\n"
     ]
    },
    {
     "name": "stderr",
     "output_type": "stream",
     "text": [
      "fill MET for /eos/home-j/jiwoong/SWAN_projects/Draw/Merged_file_211028/Fakelepton/DoubleMuon_Run2018B_0000_Skim.root: 100%|██████████| 11/11 [00:00<00:00, 53898.77it/s]\n"
     ]
    },
    {
     "name": "stdout",
     "output_type": "stream",
     "text": [
      "SumOfWeights for MET:  4.015585005283356\n"
     ]
    },
    {
     "name": "stderr",
     "output_type": "stream",
     "text": [
      "fill nJets for /eos/home-j/jiwoong/SWAN_projects/Draw/Merged_file_211028/Fakelepton/DoubleMuon_Run2018B_0000_Skim.root: 100%|██████████| 11/11 [00:00<00:00, 36675.15it/s]\n"
     ]
    },
    {
     "name": "stdout",
     "output_type": "stream",
     "text": [
      "SumOfWeights for nJets:  3.552213653922081\n"
     ]
    },
    {
     "name": "stderr",
     "output_type": "stream",
     "text": [
      "fill nbJets for /eos/home-j/jiwoong/SWAN_projects/Draw/Merged_file_211028/Fakelepton/DoubleMuon_Run2018B_0000_Skim.root: 100%|██████████| 11/11 [00:00<00:00, 57671.68it/s]\n"
     ]
    },
    {
     "name": "stdout",
     "output_type": "stream",
     "text": [
      "SumOfWeights for nbJets:  3.552213191986084\n",
      "Time cost: 2.04\n",
      "\n",
      "is Data\n"
     ]
    },
    {
     "name": "stderr",
     "output_type": "stream",
     "text": [
      "fill WZG_dileptonmass for /eos/home-j/jiwoong/SWAN_projects/Draw/Merged_file_211028/Fakelepton/DoubleMuon_Run2018C_0000_Skim.root: 100%|██████████| 9/9 [00:00<00:00, 35679.33it/s]\n"
     ]
    },
    {
     "name": "stdout",
     "output_type": "stream",
     "text": [
      "SumOfWeights for WZG_dileptonmass:  0.0\n"
     ]
    },
    {
     "name": "stderr",
     "output_type": "stream",
     "text": [
      "fill WZG_trileptonmass for /eos/home-j/jiwoong/SWAN_projects/Draw/Merged_file_211028/Fakelepton/DoubleMuon_Run2018C_0000_Skim.root: 100%|██████████| 9/9 [00:00<00:00, 49734.83it/s]\n"
     ]
    },
    {
     "name": "stdout",
     "output_type": "stream",
     "text": [
      "SumOfWeights for WZG_trileptonmass:  0.0\n"
     ]
    },
    {
     "name": "stderr",
     "output_type": "stream",
     "text": [
      "fill ZZ_mllz1 for /eos/home-j/jiwoong/SWAN_projects/Draw/Merged_file_211028/Fakelepton/DoubleMuon_Run2018C_0000_Skim.root: 100%|██████████| 9/9 [00:00<00:00, 35814.74it/s]\n"
     ]
    },
    {
     "name": "stdout",
     "output_type": "stream",
     "text": [
      "SumOfWeights for ZZ_mllz1:  -0.9839950650930405\n"
     ]
    },
    {
     "name": "stderr",
     "output_type": "stream",
     "text": [
      "fill ttZ_dileptonmass for /eos/home-j/jiwoong/SWAN_projects/Draw/Merged_file_211028/Fakelepton/DoubleMuon_Run2018C_0000_Skim.root: 100%|██████████| 9/9 [00:00<00:00, 62705.54it/s]\n"
     ]
    },
    {
     "name": "stdout",
     "output_type": "stream",
     "text": [
      "SumOfWeights for ttZ_dileptonmass:  2.75705486536026\n"
     ]
    },
    {
     "name": "stderr",
     "output_type": "stream",
     "text": [
      "fill MET for /eos/home-j/jiwoong/SWAN_projects/Draw/Merged_file_211028/Fakelepton/DoubleMuon_Run2018C_0000_Skim.root: 100%|██████████| 9/9 [00:00<00:00, 35679.33it/s]\n"
     ]
    },
    {
     "name": "stdout",
     "output_type": "stream",
     "text": [
      "SumOfWeights for MET:  3.6009023040533066\n"
     ]
    },
    {
     "name": "stderr",
     "output_type": "stream",
     "text": [
      "fill nJets for /eos/home-j/jiwoong/SWAN_projects/Draw/Merged_file_211028/Fakelepton/DoubleMuon_Run2018C_0000_Skim.root: 100%|██████████| 9/9 [00:00<00:00, 54787.72it/s]\n"
     ]
    },
    {
     "name": "stdout",
     "output_type": "stream",
     "text": [
      "SumOfWeights for nJets:  2.757055550813675\n"
     ]
    },
    {
     "name": "stderr",
     "output_type": "stream",
     "text": [
      "fill nbJets for /eos/home-j/jiwoong/SWAN_projects/Draw/Merged_file_211028/Fakelepton/DoubleMuon_Run2018C_0000_Skim.root: 100%|██████████| 9/9 [00:00<00:00, 56007.03it/s]\n"
     ]
    },
    {
     "name": "stdout",
     "output_type": "stream",
     "text": [
      "SumOfWeights for nbJets:  2.7570548057556152\n",
      "Time cost: 1.91\n",
      "\n",
      "is Data\n"
     ]
    },
    {
     "name": "stderr",
     "output_type": "stream",
     "text": [
      "fill WZG_dileptonmass for /eos/home-j/jiwoong/SWAN_projects/Draw/Merged_file_211028/Fakelepton/DoubleMuon_Run2018D_0000_Skim.root: 100%|██████████| 32/32 [00:00<00:00, 80129.99it/s]\n"
     ]
    },
    {
     "name": "stdout",
     "output_type": "stream",
     "text": [
      "SumOfWeights for WZG_dileptonmass:  0.0\n"
     ]
    },
    {
     "name": "stderr",
     "output_type": "stream",
     "text": [
      "fill WZG_trileptonmass for /eos/home-j/jiwoong/SWAN_projects/Draw/Merged_file_211028/Fakelepton/DoubleMuon_Run2018D_0000_Skim.root: 100%|██████████| 32/32 [00:00<00:00, 89359.34it/s]\n"
     ]
    },
    {
     "name": "stdout",
     "output_type": "stream",
     "text": [
      "SumOfWeights for WZG_trileptonmass:  0.0\n"
     ]
    },
    {
     "name": "stderr",
     "output_type": "stream",
     "text": [
      "fill ZZ_mllz1 for /eos/home-j/jiwoong/SWAN_projects/Draw/Merged_file_211028/Fakelepton/DoubleMuon_Run2018D_0000_Skim.root: 100%|██████████| 32/32 [00:00<00:00, 96838.19it/s]\n"
     ]
    },
    {
     "name": "stdout",
     "output_type": "stream",
     "text": [
      "SumOfWeights for ZZ_mllz1:  -1.6729498356580734\n"
     ]
    },
    {
     "name": "stderr",
     "output_type": "stream",
     "text": [
      "fill ttZ_dileptonmass for /eos/home-j/jiwoong/SWAN_projects/Draw/Merged_file_211028/Fakelepton/DoubleMuon_Run2018D_0000_Skim.root: 100%|██████████| 32/32 [00:00<00:00, 94786.53it/s]\n"
     ]
    },
    {
     "name": "stdout",
     "output_type": "stream",
     "text": [
      "SumOfWeights for ttZ_dileptonmass:  6.566298574209213\n"
     ]
    },
    {
     "name": "stderr",
     "output_type": "stream",
     "text": [
      "fill MET for /eos/home-j/jiwoong/SWAN_projects/Draw/Merged_file_211028/Fakelepton/DoubleMuon_Run2018D_0000_Skim.root: 100%|██████████| 32/32 [00:00<00:00, 94453.01it/s]\n"
     ]
    },
    {
     "name": "stdout",
     "output_type": "stream",
     "text": [
      "SumOfWeights for MET:  8.644749209284782\n"
     ]
    },
    {
     "name": "stderr",
     "output_type": "stream",
     "text": [
      "fill nJets for /eos/home-j/jiwoong/SWAN_projects/Draw/Merged_file_211028/Fakelepton/DoubleMuon_Run2018D_0000_Skim.root: 100%|██████████| 32/32 [00:00<00:00, 88709.67it/s]\n"
     ]
    },
    {
     "name": "stdout",
     "output_type": "stream",
     "text": [
      "SumOfWeights for nJets:  6.248872756958008\n"
     ]
    },
    {
     "name": "stderr",
     "output_type": "stream",
     "text": [
      "fill nbJets for /eos/home-j/jiwoong/SWAN_projects/Draw/Merged_file_211028/Fakelepton/DoubleMuon_Run2018D_0000_Skim.root: 100%|██████████| 32/32 [00:00<00:00, 96838.19it/s]\n"
     ]
    },
    {
     "name": "stdout",
     "output_type": "stream",
     "text": [
      "SumOfWeights for nbJets:  6.566297769546509\n",
      "Time cost: 1.97\n",
      "\n",
      "is Data\n"
     ]
    },
    {
     "name": "stderr",
     "output_type": "stream",
     "text": [
      "fill WZG_dileptonmass for /eos/home-j/jiwoong/SWAN_projects/Draw/Merged_file_211028/Fakelepton/DoubleMuon_Run2018D_0001_Skim.root: 100%|██████████| 8/8 [00:00<00:00, 29563.38it/s]\n"
     ]
    },
    {
     "name": "stdout",
     "output_type": "stream",
     "text": [
      "SumOfWeights for WZG_dileptonmass:  0.0\n"
     ]
    },
    {
     "name": "stderr",
     "output_type": "stream",
     "text": [
      "fill WZG_trileptonmass for /eos/home-j/jiwoong/SWAN_projects/Draw/Merged_file_211028/Fakelepton/DoubleMuon_Run2018D_0001_Skim.root: 100%|██████████| 8/8 [00:00<00:00, 45528.40it/s]\n"
     ]
    },
    {
     "name": "stdout",
     "output_type": "stream",
     "text": [
      "SumOfWeights for WZG_trileptonmass:  0.0\n"
     ]
    },
    {
     "name": "stderr",
     "output_type": "stream",
     "text": [
      "fill ZZ_mllz1 for /eos/home-j/jiwoong/SWAN_projects/Draw/Merged_file_211028/Fakelepton/DoubleMuon_Run2018D_0001_Skim.root: 100%|██████████| 8/8 [00:00<00:00, 43919.41it/s]\n"
     ]
    },
    {
     "name": "stdout",
     "output_type": "stream",
     "text": [
      "SumOfWeights for ZZ_mllz1:  -1.6729498356580734\n"
     ]
    },
    {
     "name": "stderr",
     "output_type": "stream",
     "text": [
      "fill ttZ_dileptonmass for /eos/home-j/jiwoong/SWAN_projects/Draw/Merged_file_211028/Fakelepton/DoubleMuon_Run2018D_0001_Skim.root: 100%|██████████| 8/8 [00:00<00:00, 44267.06it/s]\n"
     ]
    },
    {
     "name": "stdout",
     "output_type": "stream",
     "text": [
      "SumOfWeights for ttZ_dileptonmass:  6.089615613222122\n"
     ]
    },
    {
     "name": "stderr",
     "output_type": "stream",
     "text": [
      "fill MET for /eos/home-j/jiwoong/SWAN_projects/Draw/Merged_file_211028/Fakelepton/DoubleMuon_Run2018D_0001_Skim.root: 100%|██████████| 8/8 [00:00<00:00, 30311.14it/s]\n"
     ]
    },
    {
     "name": "stdout",
     "output_type": "stream",
     "text": [
      "SumOfWeights for MET:  7.875904127955437\n"
     ]
    },
    {
     "name": "stderr",
     "output_type": "stream",
     "text": [
      "fill nJets for /eos/home-j/jiwoong/SWAN_projects/Draw/Merged_file_211028/Fakelepton/DoubleMuon_Run2018D_0001_Skim.root: 100%|██████████| 8/8 [00:00<00:00, 43577.18it/s]\n"
     ]
    },
    {
     "name": "stdout",
     "output_type": "stream",
     "text": [
      "SumOfWeights for nJets:  5.772189944982529\n"
     ]
    },
    {
     "name": "stderr",
     "output_type": "stream",
     "text": [
      "fill nbJets for /eos/home-j/jiwoong/SWAN_projects/Draw/Merged_file_211028/Fakelepton/DoubleMuon_Run2018D_0001_Skim.root: 100%|██████████| 8/8 [00:00<00:00, 27346.73it/s]\n"
     ]
    },
    {
     "name": "stdout",
     "output_type": "stream",
     "text": [
      "SumOfWeights for nbJets:  6.089614629745483\n",
      "Time cost: 2.09\n",
      "\n",
      "is Data\n"
     ]
    },
    {
     "name": "stderr",
     "output_type": "stream",
     "text": [
      "fill WZG_dileptonmass for /eos/home-j/jiwoong/SWAN_projects/Draw/Merged_file_211028/Fakelepton/EGamma_Run2018A_0000_Skim.root: 100%|██████████| 199/199 [00:00<00:00, 98637.02it/s]\n"
     ]
    },
    {
     "name": "stdout",
     "output_type": "stream",
     "text": [
      "SumOfWeights for WZG_dileptonmass:  1.0956172943115234\n"
     ]
    },
    {
     "name": "stderr",
     "output_type": "stream",
     "text": [
      "fill WZG_trileptonmass for /eos/home-j/jiwoong/SWAN_projects/Draw/Merged_file_211028/Fakelepton/EGamma_Run2018A_0000_Skim.root: 100%|██████████| 199/199 [00:00<00:00, 108384.17it/s]\n"
     ]
    },
    {
     "name": "stdout",
     "output_type": "stream",
     "text": [
      "SumOfWeights for WZG_trileptonmass:  1.0956172943115234\n"
     ]
    },
    {
     "name": "stderr",
     "output_type": "stream",
     "text": [
      "fill ZZ_mllz1 for /eos/home-j/jiwoong/SWAN_projects/Draw/Merged_file_211028/Fakelepton/EGamma_Run2018A_0000_Skim.root: 100%|██████████| 199/199 [00:00<00:00, 106448.99it/s]\n"
     ]
    },
    {
     "name": "stdout",
     "output_type": "stream",
     "text": [
      "SumOfWeights for ZZ_mllz1:  4.641536310315132\n"
     ]
    },
    {
     "name": "stderr",
     "output_type": "stream",
     "text": [
      "fill ttZ_dileptonmass for /eos/home-j/jiwoong/SWAN_projects/Draw/Merged_file_211028/Fakelepton/EGamma_Run2018A_0000_Skim.root: 100%|██████████| 199/199 [00:00<00:00, 94280.64it/s]\n"
     ]
    },
    {
     "name": "stdout",
     "output_type": "stream",
     "text": [
      "SumOfWeights for ttZ_dileptonmass:  67.32957148551941\n"
     ]
    },
    {
     "name": "stderr",
     "output_type": "stream",
     "text": [
      "fill MET for /eos/home-j/jiwoong/SWAN_projects/Draw/Merged_file_211028/Fakelepton/EGamma_Run2018A_0000_Skim.root: 100%|██████████| 199/199 [00:00<00:00, 106056.73it/s]\n"
     ]
    },
    {
     "name": "stdout",
     "output_type": "stream",
     "text": [
      "SumOfWeights for MET:  61.82115587592125\n"
     ]
    },
    {
     "name": "stderr",
     "output_type": "stream",
     "text": [
      "fill nJets for /eos/home-j/jiwoong/SWAN_projects/Draw/Merged_file_211028/Fakelepton/EGamma_Run2018A_0000_Skim.root: 100%|██████████| 199/199 [00:00<00:00, 94902.39it/s]\n"
     ]
    },
    {
     "name": "stdout",
     "output_type": "stream",
     "text": [
      "SumOfWeights for nJets:  65.97309648990631\n"
     ]
    },
    {
     "name": "stderr",
     "output_type": "stream",
     "text": [
      "fill nbJets for /eos/home-j/jiwoong/SWAN_projects/Draw/Merged_file_211028/Fakelepton/EGamma_Run2018A_0000_Skim.root: 100%|██████████| 199/199 [00:00<00:00, 101417.56it/s]\n"
     ]
    },
    {
     "name": "stdout",
     "output_type": "stream",
     "text": [
      "SumOfWeights for nbJets:  68.30592751502991\n",
      "Time cost: 2.26\n",
      "\n",
      "is Data\n"
     ]
    },
    {
     "name": "stderr",
     "output_type": "stream",
     "text": [
      "fill WZG_dileptonmass for /eos/home-j/jiwoong/SWAN_projects/Draw/Merged_file_211028/Fakelepton/EGamma_Run2018B_0000_Skim.root: 100%|██████████| 100/100 [00:00<00:00, 93289.68it/s]\n"
     ]
    },
    {
     "name": "stdout",
     "output_type": "stream",
     "text": [
      "SumOfWeights for WZG_dileptonmass:  1.0956172943115234\n"
     ]
    },
    {
     "name": "stderr",
     "output_type": "stream",
     "text": [
      "fill WZG_trileptonmass for /eos/home-j/jiwoong/SWAN_projects/Draw/Merged_file_211028/Fakelepton/EGamma_Run2018B_0000_Skim.root: 100%|██████████| 100/100 [00:00<00:00, 94893.76it/s]\n"
     ]
    },
    {
     "name": "stdout",
     "output_type": "stream",
     "text": [
      "SumOfWeights for WZG_trileptonmass:  1.0956172943115234\n"
     ]
    },
    {
     "name": "stderr",
     "output_type": "stream",
     "text": [
      "fill ZZ_mllz1 for /eos/home-j/jiwoong/SWAN_projects/Draw/Merged_file_211028/Fakelepton/EGamma_Run2018B_0000_Skim.root: 100%|██████████| 100/100 [00:00<00:00, 96199.63it/s]\n"
     ]
    },
    {
     "name": "stdout",
     "output_type": "stream",
     "text": [
      "SumOfWeights for ZZ_mllz1:  6.667451336979866\n"
     ]
    },
    {
     "name": "stderr",
     "output_type": "stream",
     "text": [
      "fill ttZ_dileptonmass for /eos/home-j/jiwoong/SWAN_projects/Draw/Merged_file_211028/Fakelepton/EGamma_Run2018B_0000_Skim.root: 100%|██████████| 100/100 [00:00<00:00, 94445.03it/s]\n"
     ]
    },
    {
     "name": "stdout",
     "output_type": "stream",
     "text": [
      "SumOfWeights for ttZ_dileptonmass:  99.82632160186768\n"
     ]
    },
    {
     "name": "stderr",
     "output_type": "stream",
     "text": [
      "fill MET for /eos/home-j/jiwoong/SWAN_projects/Draw/Merged_file_211028/Fakelepton/EGamma_Run2018B_0000_Skim.root: 100%|██████████| 100/100 [00:00<00:00, 100222.32it/s]\n"
     ]
    },
    {
     "name": "stdout",
     "output_type": "stream",
     "text": [
      "SumOfWeights for MET:  89.55117267370224\n"
     ]
    },
    {
     "name": "stderr",
     "output_type": "stream",
     "text": [
      "fill nJets for /eos/home-j/jiwoong/SWAN_projects/Draw/Merged_file_211028/Fakelepton/EGamma_Run2018B_0000_Skim.root: 100%|██████████| 100/100 [00:00<00:00, 87710.25it/s]\n"
     ]
    },
    {
     "name": "stdout",
     "output_type": "stream",
     "text": [
      "SumOfWeights for nJets:  100.10508918762207\n"
     ]
    },
    {
     "name": "stderr",
     "output_type": "stream",
     "text": [
      "fill nbJets for /eos/home-j/jiwoong/SWAN_projects/Draw/Merged_file_211028/Fakelepton/EGamma_Run2018B_0000_Skim.root: 100%|██████████| 100/100 [00:00<00:00, 86964.63it/s]\n"
     ]
    },
    {
     "name": "stdout",
     "output_type": "stream",
     "text": [
      "SumOfWeights for nbJets:  101.35144519805908\n",
      "Time cost: 1.93\n",
      "\n",
      "is Data\n"
     ]
    },
    {
     "name": "stderr",
     "output_type": "stream",
     "text": [
      "fill WZG_dileptonmass for /eos/home-j/jiwoong/SWAN_projects/Draw/Merged_file_211028/Fakelepton/EGamma_Run2018C_0000_Skim.root: 100%|██████████| 109/109 [00:00<00:00, 95844.68it/s]\n"
     ]
    },
    {
     "name": "stdout",
     "output_type": "stream",
     "text": [
      "SumOfWeights for WZG_dileptonmass:  1.545073390007019\n"
     ]
    },
    {
     "name": "stderr",
     "output_type": "stream",
     "text": [
      "fill WZG_trileptonmass for /eos/home-j/jiwoong/SWAN_projects/Draw/Merged_file_211028/Fakelepton/EGamma_Run2018C_0000_Skim.root: 100%|██████████| 109/109 [00:00<00:00, 101617.95it/s]\n"
     ]
    },
    {
     "name": "stdout",
     "output_type": "stream",
     "text": [
      "SumOfWeights for WZG_trileptonmass:  1.5450734198093414\n"
     ]
    },
    {
     "name": "stderr",
     "output_type": "stream",
     "text": [
      "fill ZZ_mllz1 for /eos/home-j/jiwoong/SWAN_projects/Draw/Merged_file_211028/Fakelepton/EGamma_Run2018C_0000_Skim.root: 100%|██████████| 109/109 [00:00<00:00, 94399.99it/s]\n"
     ]
    },
    {
     "name": "stdout",
     "output_type": "stream",
     "text": [
      "SumOfWeights for ZZ_mllz1:  8.028199031949043\n"
     ]
    },
    {
     "name": "stderr",
     "output_type": "stream",
     "text": [
      "fill ttZ_dileptonmass for /eos/home-j/jiwoong/SWAN_projects/Draw/Merged_file_211028/Fakelepton/EGamma_Run2018C_0000_Skim.root: 100%|██████████| 109/109 [00:00<00:00, 98508.76it/s]\n"
     ]
    },
    {
     "name": "stdout",
     "output_type": "stream",
     "text": [
      "SumOfWeights for ttZ_dileptonmass:  132.3137035369873\n"
     ]
    },
    {
     "name": "stderr",
     "output_type": "stream",
     "text": [
      "fill MET for /eos/home-j/jiwoong/SWAN_projects/Draw/Merged_file_211028/Fakelepton/EGamma_Run2018C_0000_Skim.root: 100%|██████████| 109/109 [00:00<00:00, 91839.92it/s]\n"
     ]
    },
    {
     "name": "stdout",
     "output_type": "stream",
     "text": [
      "SumOfWeights for MET:  117.67543914541602\n"
     ]
    },
    {
     "name": "stderr",
     "output_type": "stream",
     "text": [
      "fill nJets for /eos/home-j/jiwoong/SWAN_projects/Draw/Merged_file_211028/Fakelepton/EGamma_Run2018C_0000_Skim.root: 100%|██████████| 109/109 [00:00<00:00, 98191.40it/s]\n"
     ]
    },
    {
     "name": "stdout",
     "output_type": "stream",
     "text": [
      "SumOfWeights for nJets:  132.1764259338379\n"
     ]
    },
    {
     "name": "stderr",
     "output_type": "stream",
     "text": [
      "fill nbJets for /eos/home-j/jiwoong/SWAN_projects/Draw/Merged_file_211028/Fakelepton/EGamma_Run2018C_0000_Skim.root: 100%|██████████| 109/109 [00:00<00:00, 95364.86it/s]\n"
     ]
    },
    {
     "name": "stdout",
     "output_type": "stream",
     "text": [
      "SumOfWeights for nbJets:  133.79117465019226\n",
      "Time cost: 1.90\n",
      "\n",
      "is Data\n"
     ]
    },
    {
     "name": "stderr",
     "output_type": "stream",
     "text": [
      "fill WZG_dileptonmass for /eos/home-j/jiwoong/SWAN_projects/Draw/Merged_file_211028/Fakelepton/EGamma_Run2018D_0000_Skim.root: 100%|██████████| 312/312 [00:00<00:00, 99160.63it/s]\n"
     ]
    },
    {
     "name": "stdout",
     "output_type": "stream",
     "text": [
      "SumOfWeights for WZG_dileptonmass:  1.326282799243927\n"
     ]
    },
    {
     "name": "stderr",
     "output_type": "stream",
     "text": [
      "fill WZG_trileptonmass for /eos/home-j/jiwoong/SWAN_projects/Draw/Merged_file_211028/Fakelepton/EGamma_Run2018D_0000_Skim.root: 100%|██████████| 312/312 [00:00<00:00, 105287.86it/s]\n"
     ]
    },
    {
     "name": "stdout",
     "output_type": "stream",
     "text": [
      "SumOfWeights for WZG_trileptonmass:  1.3262828141450882\n"
     ]
    },
    {
     "name": "stderr",
     "output_type": "stream",
     "text": [
      "fill ZZ_mllz1 for /eos/home-j/jiwoong/SWAN_projects/Draw/Merged_file_211028/Fakelepton/EGamma_Run2018D_0000_Skim.root: 100%|██████████| 312/312 [00:00<00:00, 107998.91it/s]\n"
     ]
    },
    {
     "name": "stdout",
     "output_type": "stream",
     "text": [
      "SumOfWeights for ZZ_mllz1:  16.29764223098755\n"
     ]
    },
    {
     "name": "stderr",
     "output_type": "stream",
     "text": [
      "fill ttZ_dileptonmass for /eos/home-j/jiwoong/SWAN_projects/Draw/Merged_file_211028/Fakelepton/EGamma_Run2018D_0000_Skim.root: 100%|██████████| 312/312 [00:00<00:00, 103677.93it/s]\n"
     ]
    },
    {
     "name": "stdout",
     "output_type": "stream",
     "text": [
      "SumOfWeights for ttZ_dileptonmass:  217.9196071624756\n"
     ]
    },
    {
     "name": "stderr",
     "output_type": "stream",
     "text": [
      "fill MET for /eos/home-j/jiwoong/SWAN_projects/Draw/Merged_file_211028/Fakelepton/EGamma_Run2018D_0000_Skim.root: 100%|██████████| 312/312 [00:00<00:00, 106966.07it/s]\n"
     ]
    },
    {
     "name": "stdout",
     "output_type": "stream",
     "text": [
      "SumOfWeights for MET:  195.07757484912872\n"
     ]
    },
    {
     "name": "stderr",
     "output_type": "stream",
     "text": [
      "fill nJets for /eos/home-j/jiwoong/SWAN_projects/Draw/Merged_file_211028/Fakelepton/EGamma_Run2018D_0000_Skim.root: 100%|██████████| 312/312 [00:00<00:00, 101247.42it/s]\n"
     ]
    },
    {
     "name": "stdout",
     "output_type": "stream",
     "text": [
      "SumOfWeights for nJets:  219.59409284591675\n"
     ]
    },
    {
     "name": "stderr",
     "output_type": "stream",
     "text": [
      "fill nbJets for /eos/home-j/jiwoong/SWAN_projects/Draw/Merged_file_211028/Fakelepton/EGamma_Run2018D_0000_Skim.root: 100%|██████████| 312/312 [00:00<00:00, 108518.36it/s]\n"
     ]
    },
    {
     "name": "stdout",
     "output_type": "stream",
     "text": [
      "SumOfWeights for nbJets:  222.6726746559143\n",
      "Time cost: 2.13\n",
      "\n",
      "is Data\n"
     ]
    },
    {
     "name": "stderr",
     "output_type": "stream",
     "text": [
      "fill WZG_dileptonmass for /eos/home-j/jiwoong/SWAN_projects/Draw/Merged_file_211028/Fakelepton/EGamma_Run2018D_0001_Skim.root: 100%|██████████| 152/152 [00:00<00:00, 98187.93it/s]\n"
     ]
    },
    {
     "name": "stdout",
     "output_type": "stream",
     "text": [
      "SumOfWeights for WZG_dileptonmass:  1.326282799243927\n"
     ]
    },
    {
     "name": "stderr",
     "output_type": "stream",
     "text": [
      "fill WZG_trileptonmass for /eos/home-j/jiwoong/SWAN_projects/Draw/Merged_file_211028/Fakelepton/EGamma_Run2018D_0001_Skim.root: 100%|██████████| 152/152 [00:00<00:00, 106539.81it/s]\n"
     ]
    },
    {
     "name": "stdout",
     "output_type": "stream",
     "text": [
      "SumOfWeights for WZG_trileptonmass:  1.3262828141450882\n"
     ]
    },
    {
     "name": "stderr",
     "output_type": "stream",
     "text": [
      "fill ZZ_mllz1 for /eos/home-j/jiwoong/SWAN_projects/Draw/Merged_file_211028/Fakelepton/EGamma_Run2018D_0001_Skim.root: 100%|██████████| 152/152 [00:00<00:00, 94744.27it/s]\n"
     ]
    },
    {
     "name": "stdout",
     "output_type": "stream",
     "text": [
      "SumOfWeights for ZZ_mllz1:  22.04726655781269\n"
     ]
    },
    {
     "name": "stderr",
     "output_type": "stream",
     "text": [
      "fill ttZ_dileptonmass for /eos/home-j/jiwoong/SWAN_projects/Draw/Merged_file_211028/Fakelepton/EGamma_Run2018D_0001_Skim.root: 100%|██████████| 152/152 [00:00<00:00, 99042.13it/s]\n"
     ]
    },
    {
     "name": "stdout",
     "output_type": "stream",
     "text": [
      "SumOfWeights for ttZ_dileptonmass:  263.2026710510254\n"
     ]
    },
    {
     "name": "stderr",
     "output_type": "stream",
     "text": [
      "fill MET for /eos/home-j/jiwoong/SWAN_projects/Draw/Merged_file_211028/Fakelepton/EGamma_Run2018D_0001_Skim.root: 100%|██████████| 152/152 [00:00<00:00, 104308.61it/s]\n"
     ]
    },
    {
     "name": "stdout",
     "output_type": "stream",
     "text": [
      "SumOfWeights for MET:  236.31180930137634\n"
     ]
    },
    {
     "name": "stderr",
     "output_type": "stream",
     "text": [
      "fill nJets for /eos/home-j/jiwoong/SWAN_projects/Draw/Merged_file_211028/Fakelepton/EGamma_Run2018D_0001_Skim.root: 100%|██████████| 152/152 [00:00<00:00, 101810.00it/s]\n"
     ]
    },
    {
     "name": "stdout",
     "output_type": "stream",
     "text": [
      "SumOfWeights for nJets:  264.2287964820862\n"
     ]
    },
    {
     "name": "stderr",
     "output_type": "stream",
     "text": [
      "fill nbJets for /eos/home-j/jiwoong/SWAN_projects/Draw/Merged_file_211028/Fakelepton/EGamma_Run2018D_0001_Skim.root: 100%|██████████| 152/152 [00:00<00:00, 102563.42it/s]\n"
     ]
    },
    {
     "name": "stdout",
     "output_type": "stream",
     "text": [
      "SumOfWeights for nbJets:  268.02615785598755\n",
      "Time cost: 2.08\n",
      "\n",
      "is Data\n"
     ]
    },
    {
     "name": "stderr",
     "output_type": "stream",
     "text": [
      "fill WZG_dileptonmass for /eos/home-j/jiwoong/SWAN_projects/Draw/Merged_file_211028/Fakelepton/MuonEG_Run2018A_0000_Skim.root: 100%|██████████| 9/9 [00:00<00:00, 33524.63it/s]\n"
     ]
    },
    {
     "name": "stdout",
     "output_type": "stream",
     "text": [
      "SumOfWeights for WZG_dileptonmass:  1.3908250406384468\n"
     ]
    },
    {
     "name": "stderr",
     "output_type": "stream",
     "text": [
      "fill WZG_trileptonmass for /eos/home-j/jiwoong/SWAN_projects/Draw/Merged_file_211028/Fakelepton/MuonEG_Run2018A_0000_Skim.root: 100%|██████████| 9/9 [00:00<00:00, 48272.04it/s]\n"
     ]
    },
    {
     "name": "stdout",
     "output_type": "stream",
     "text": [
      "SumOfWeights for WZG_trileptonmass:  1.3908251076936722\n"
     ]
    },
    {
     "name": "stderr",
     "output_type": "stream",
     "text": [
      "fill ZZ_mllz1 for /eos/home-j/jiwoong/SWAN_projects/Draw/Merged_file_211028/Fakelepton/MuonEG_Run2018A_0000_Skim.root: 100%|██████████| 9/9 [00:00<00:00, 43792.04it/s]\n"
     ]
    },
    {
     "name": "stdout",
     "output_type": "stream",
     "text": [
      "SumOfWeights for ZZ_mllz1:  22.04726655781269\n"
     ]
    },
    {
     "name": "stderr",
     "output_type": "stream",
     "text": [
      "fill ttZ_dileptonmass for /eos/home-j/jiwoong/SWAN_projects/Draw/Merged_file_211028/Fakelepton/MuonEG_Run2018A_0000_Skim.root: 100%|██████████| 9/9 [00:00<00:00, 48210.39it/s]\n"
     ]
    },
    {
     "name": "stdout",
     "output_type": "stream",
     "text": [
      "SumOfWeights for ttZ_dileptonmass:  265.85841369628906\n"
     ]
    },
    {
     "name": "stderr",
     "output_type": "stream",
     "text": [
      "fill MET for /eos/home-j/jiwoong/SWAN_projects/Draw/Merged_file_211028/Fakelepton/MuonEG_Run2018A_0000_Skim.root: 100%|██████████| 9/9 [00:00<00:00, 30369.06it/s]\n"
     ]
    },
    {
     "name": "stdout",
     "output_type": "stream",
     "text": [
      "SumOfWeights for MET:  238.96755146980286\n"
     ]
    },
    {
     "name": "stderr",
     "output_type": "stream",
     "text": [
      "fill nJets for /eos/home-j/jiwoong/SWAN_projects/Draw/Merged_file_211028/Fakelepton/MuonEG_Run2018A_0000_Skim.root: 100%|██████████| 9/9 [00:00<00:00, 31801.80it/s]\n"
     ]
    },
    {
     "name": "stdout",
     "output_type": "stream",
     "text": [
      "SumOfWeights for nJets:  266.8845353126526\n"
     ]
    },
    {
     "name": "stderr",
     "output_type": "stream",
     "text": [
      "fill nbJets for /eos/home-j/jiwoong/SWAN_projects/Draw/Merged_file_211028/Fakelepton/MuonEG_Run2018A_0000_Skim.root: 100%|██████████| 9/9 [00:00<00:00, 49932.19it/s]\n"
     ]
    },
    {
     "name": "stdout",
     "output_type": "stream",
     "text": [
      "SumOfWeights for nbJets:  270.6819176673889\n",
      "Time cost: 2.14\n",
      "\n",
      "is Data\n"
     ]
    },
    {
     "name": "stderr",
     "output_type": "stream",
     "text": [
      "fill WZG_dileptonmass for /eos/home-j/jiwoong/SWAN_projects/Draw/Merged_file_211028/Fakelepton/MuonEG_Run2018B_0000_Skim.root: 100%|██████████| 3/3 [00:00<00:00, 14513.16it/s]\n"
     ]
    },
    {
     "name": "stdout",
     "output_type": "stream",
     "text": [
      "SumOfWeights for WZG_dileptonmass:  1.3908250406384468\n"
     ]
    },
    {
     "name": "stderr",
     "output_type": "stream",
     "text": [
      "fill WZG_trileptonmass for /eos/home-j/jiwoong/SWAN_projects/Draw/Merged_file_211028/Fakelepton/MuonEG_Run2018B_0000_Skim.root: 100%|██████████| 3/3 [00:00<00:00, 27654.75it/s]\n"
     ]
    },
    {
     "name": "stdout",
     "output_type": "stream",
     "text": [
      "SumOfWeights for WZG_trileptonmass:  1.3908251076936722\n"
     ]
    },
    {
     "name": "stderr",
     "output_type": "stream",
     "text": [
      "fill ZZ_mllz1 for /eos/home-j/jiwoong/SWAN_projects/Draw/Merged_file_211028/Fakelepton/MuonEG_Run2018B_0000_Skim.root: 100%|██████████| 3/3 [00:00<00:00, 26715.31it/s]\n"
     ]
    },
    {
     "name": "stdout",
     "output_type": "stream",
     "text": [
      "SumOfWeights for ZZ_mllz1:  22.04726655781269\n"
     ]
    },
    {
     "name": "stderr",
     "output_type": "stream",
     "text": [
      "fill ttZ_dileptonmass for /eos/home-j/jiwoong/SWAN_projects/Draw/Merged_file_211028/Fakelepton/MuonEG_Run2018B_0000_Skim.root: 100%|██████████| 3/3 [00:00<00:00, 15887.52it/s]\n"
     ]
    },
    {
     "name": "stdout",
     "output_type": "stream",
     "text": [
      "SumOfWeights for ttZ_dileptonmass:  267.2324028015137\n"
     ]
    },
    {
     "name": "stderr",
     "output_type": "stream",
     "text": [
      "fill MET for /eos/home-j/jiwoong/SWAN_projects/Draw/Merged_file_211028/Fakelepton/MuonEG_Run2018B_0000_Skim.root: 100%|██████████| 3/3 [00:00<00:00, 23344.92it/s]\n"
     ]
    },
    {
     "name": "stdout",
     "output_type": "stream",
     "text": [
      "SumOfWeights for MET:  240.34154343605042\n"
     ]
    },
    {
     "name": "stderr",
     "output_type": "stream",
     "text": [
      "fill nJets for /eos/home-j/jiwoong/SWAN_projects/Draw/Merged_file_211028/Fakelepton/MuonEG_Run2018B_0000_Skim.root: 100%|██████████| 3/3 [00:00<00:00, 23258.62it/s]\n"
     ]
    },
    {
     "name": "stdout",
     "output_type": "stream",
     "text": [
      "SumOfWeights for nJets:  268.25852823257446\n"
     ]
    },
    {
     "name": "stderr",
     "output_type": "stream",
     "text": [
      "fill nbJets for /eos/home-j/jiwoong/SWAN_projects/Draw/Merged_file_211028/Fakelepton/MuonEG_Run2018B_0000_Skim.root: 100%|██████████| 3/3 [00:00<00:00, 23831.27it/s]\n"
     ]
    },
    {
     "name": "stdout",
     "output_type": "stream",
     "text": [
      "SumOfWeights for nbJets:  272.0559105873108\n",
      "Time cost: 1.87\n",
      "\n",
      "is Data\n"
     ]
    },
    {
     "name": "stderr",
     "output_type": "stream",
     "text": [
      "fill WZG_dileptonmass for /eos/home-j/jiwoong/SWAN_projects/Draw/Merged_file_211028/Fakelepton/MuonEG_Run2018C_0000_Skim.root: 100%|██████████| 3/3 [00:00<00:00, 14597.35it/s]\n"
     ]
    },
    {
     "name": "stdout",
     "output_type": "stream",
     "text": [
      "SumOfWeights for WZG_dileptonmass:  1.3908250406384468\n"
     ]
    },
    {
     "name": "stderr",
     "output_type": "stream",
     "text": [
      "fill WZG_trileptonmass for /eos/home-j/jiwoong/SWAN_projects/Draw/Merged_file_211028/Fakelepton/MuonEG_Run2018C_0000_Skim.root: 100%|██████████| 3/3 [00:00<00:00, 22671.91it/s]\n"
     ]
    },
    {
     "name": "stdout",
     "output_type": "stream",
     "text": [
      "SumOfWeights for WZG_trileptonmass:  1.3908251076936722\n"
     ]
    },
    {
     "name": "stderr",
     "output_type": "stream",
     "text": [
      "fill ZZ_mllz1 for /eos/home-j/jiwoong/SWAN_projects/Draw/Merged_file_211028/Fakelepton/MuonEG_Run2018C_0000_Skim.root: 100%|██████████| 3/3 [00:00<00:00, 29746.84it/s]\n"
     ]
    },
    {
     "name": "stdout",
     "output_type": "stream",
     "text": [
      "SumOfWeights for ZZ_mllz1:  22.04726655781269\n"
     ]
    },
    {
     "name": "stderr",
     "output_type": "stream",
     "text": [
      "fill ttZ_dileptonmass for /eos/home-j/jiwoong/SWAN_projects/Draw/Merged_file_211028/Fakelepton/MuonEG_Run2018C_0000_Skim.root: 100%|██████████| 3/3 [00:00<00:00, 22836.50it/s]\n"
     ]
    },
    {
     "name": "stdout",
     "output_type": "stream",
     "text": [
      "SumOfWeights for ttZ_dileptonmass:  268.66435050964355\n"
     ]
    },
    {
     "name": "stderr",
     "output_type": "stream",
     "text": [
      "fill MET for /eos/home-j/jiwoong/SWAN_projects/Draw/Merged_file_211028/Fakelepton/MuonEG_Run2018C_0000_Skim.root: 100%|██████████| 3/3 [00:00<00:00, 21657.34it/s]\n"
     ]
    },
    {
     "name": "stdout",
     "output_type": "stream",
     "text": [
      "SumOfWeights for MET:  241.77349305152893\n"
     ]
    },
    {
     "name": "stderr",
     "output_type": "stream",
     "text": [
      "fill nJets for /eos/home-j/jiwoong/SWAN_projects/Draw/Merged_file_211028/Fakelepton/MuonEG_Run2018C_0000_Skim.root: 100%|██████████| 3/3 [00:00<00:00, 13134.56it/s]\n"
     ]
    },
    {
     "name": "stdout",
     "output_type": "stream",
     "text": [
      "SumOfWeights for nJets:  269.690477848053\n"
     ]
    },
    {
     "name": "stderr",
     "output_type": "stream",
     "text": [
      "fill nbJets for /eos/home-j/jiwoong/SWAN_projects/Draw/Merged_file_211028/Fakelepton/MuonEG_Run2018C_0000_Skim.root: 100%|██████████| 3/3 [00:00<00:00, 24720.85it/s]\n"
     ]
    },
    {
     "name": "stdout",
     "output_type": "stream",
     "text": [
      "SumOfWeights for nbJets:  273.48785638809204\n",
      "Time cost: 1.92\n",
      "\n",
      "is Data\n"
     ]
    },
    {
     "name": "stderr",
     "output_type": "stream",
     "text": [
      "fill WZG_dileptonmass for /eos/home-j/jiwoong/SWAN_projects/Draw/Merged_file_211028/Fakelepton/MuonEG_Run2018D_0000_Skim.root: 100%|██████████| 14/14 [00:00<00:00, 41294.13it/s]\n"
     ]
    },
    {
     "name": "stdout",
     "output_type": "stream",
     "text": [
      "SumOfWeights for WZG_dileptonmass:  1.3908250406384468\n"
     ]
    },
    {
     "name": "stderr",
     "output_type": "stream",
     "text": [
      "fill WZG_trileptonmass for /eos/home-j/jiwoong/SWAN_projects/Draw/Merged_file_211028/Fakelepton/MuonEG_Run2018D_0000_Skim.root: 100%|██████████| 14/14 [00:00<00:00, 37884.04it/s]\n"
     ]
    },
    {
     "name": "stdout",
     "output_type": "stream",
     "text": [
      "SumOfWeights for WZG_trileptonmass:  1.3908251076936722\n"
     ]
    },
    {
     "name": "stderr",
     "output_type": "stream",
     "text": [
      "fill ZZ_mllz1 for /eos/home-j/jiwoong/SWAN_projects/Draw/Merged_file_211028/Fakelepton/MuonEG_Run2018D_0000_Skim.root: 100%|██████████| 14/14 [00:00<00:00, 54020.47it/s]\n"
     ]
    },
    {
     "name": "stdout",
     "output_type": "stream",
     "text": [
      "SumOfWeights for ZZ_mllz1:  24.73024107515812\n"
     ]
    },
    {
     "name": "stderr",
     "output_type": "stream",
     "text": [
      "fill ttZ_dileptonmass for /eos/home-j/jiwoong/SWAN_projects/Draw/Merged_file_211028/Fakelepton/MuonEG_Run2018D_0000_Skim.root: 100%|██████████| 14/14 [00:00<00:00, 60102.62it/s]\n"
     ]
    },
    {
     "name": "stdout",
     "output_type": "stream",
     "text": [
      "SumOfWeights for ttZ_dileptonmass:  271.33220863342285\n"
     ]
    },
    {
     "name": "stderr",
     "output_type": "stream",
     "text": [
      "fill MET for /eos/home-j/jiwoong/SWAN_projects/Draw/Merged_file_211028/Fakelepton/MuonEG_Run2018D_0000_Skim.root: 100%|██████████| 14/14 [00:00<00:00, 57009.96it/s]\n"
     ]
    },
    {
     "name": "stdout",
     "output_type": "stream",
     "text": [
      "SumOfWeights for MET:  244.67071413993835\n"
     ]
    },
    {
     "name": "stderr",
     "output_type": "stream",
     "text": [
      "fill nJets for /eos/home-j/jiwoong/SWAN_projects/Draw/Merged_file_211028/Fakelepton/MuonEG_Run2018D_0000_Skim.root: 100%|██████████| 14/14 [00:00<00:00, 39918.60it/s]\n"
     ]
    },
    {
     "name": "stdout",
     "output_type": "stream",
     "text": [
      "SumOfWeights for nJets:  272.35833263397217\n"
     ]
    },
    {
     "name": "stderr",
     "output_type": "stream",
     "text": [
      "fill nbJets for /eos/home-j/jiwoong/SWAN_projects/Draw/Merged_file_211028/Fakelepton/MuonEG_Run2018D_0000_Skim.root: 100%|██████████| 14/14 [00:00<00:00, 59373.36it/s]\n"
     ]
    },
    {
     "name": "stdout",
     "output_type": "stream",
     "text": [
      "SumOfWeights for nbJets:  276.155788898468\n",
      "Time cost: 2.10\n",
      "\n",
      "is Data\n"
     ]
    },
    {
     "name": "stderr",
     "output_type": "stream",
     "text": [
      "fill WZG_dileptonmass for /eos/home-j/jiwoong/SWAN_projects/Draw/Merged_file_211028/Fakelepton/SingleMuon_Run2018A_0000_Skim.root: 100%|██████████| 563/563 [00:00<00:00, 99193.19it/s]\n"
     ]
    },
    {
     "name": "stdout",
     "output_type": "stream",
     "text": [
      "SumOfWeights for WZG_dileptonmass:  5.671443581581116\n"
     ]
    },
    {
     "name": "stderr",
     "output_type": "stream",
     "text": [
      "fill WZG_trileptonmass for /eos/home-j/jiwoong/SWAN_projects/Draw/Merged_file_211028/Fakelepton/SingleMuon_Run2018A_0000_Skim.root: 100%|██████████| 563/563 [00:00<00:00, 103679.01it/s]\n"
     ]
    },
    {
     "name": "stdout",
     "output_type": "stream",
     "text": [
      "SumOfWeights for WZG_trileptonmass:  5.6714437156915665\n"
     ]
    },
    {
     "name": "stderr",
     "output_type": "stream",
     "text": [
      "fill ZZ_mllz1 for /eos/home-j/jiwoong/SWAN_projects/Draw/Merged_file_211028/Fakelepton/SingleMuon_Run2018A_0000_Skim.root: 100%|██████████| 563/563 [00:00<00:00, 100211.90it/s]\n"
     ]
    },
    {
     "name": "stdout",
     "output_type": "stream",
     "text": [
      "SumOfWeights for ZZ_mllz1:  47.19918395578861\n"
     ]
    },
    {
     "name": "stderr",
     "output_type": "stream",
     "text": [
      "fill ttZ_dileptonmass for /eos/home-j/jiwoong/SWAN_projects/Draw/Merged_file_211028/Fakelepton/SingleMuon_Run2018A_0000_Skim.root: 100%|██████████| 563/563 [00:00<00:00, 100029.36it/s]\n"
     ]
    },
    {
     "name": "stdout",
     "output_type": "stream",
     "text": [
      "SumOfWeights for ttZ_dileptonmass:  396.1036682128906\n"
     ]
    },
    {
     "name": "stderr",
     "output_type": "stream",
     "text": [
      "fill MET for /eos/home-j/jiwoong/SWAN_projects/Draw/Merged_file_211028/Fakelepton/SingleMuon_Run2018A_0000_Skim.root: 100%|██████████| 563/563 [00:00<00:00, 100909.92it/s]\n"
     ]
    },
    {
     "name": "stdout",
     "output_type": "stream",
     "text": [
      "SumOfWeights for MET:  357.1091220378876\n"
     ]
    },
    {
     "name": "stderr",
     "output_type": "stream",
     "text": [
      "fill nJets for /eos/home-j/jiwoong/SWAN_projects/Draw/Merged_file_211028/Fakelepton/SingleMuon_Run2018A_0000_Skim.root: 100%|██████████| 563/563 [00:00<00:00, 101208.35it/s]\n"
     ]
    },
    {
     "name": "stdout",
     "output_type": "stream",
     "text": [
      "SumOfWeights for nJets:  402.3636312484741\n"
     ]
    },
    {
     "name": "stderr",
     "output_type": "stream",
     "text": [
      "fill nbJets for /eos/home-j/jiwoong/SWAN_projects/Draw/Merged_file_211028/Fakelepton/SingleMuon_Run2018A_0000_Skim.root: 100%|██████████| 563/563 [00:00<00:00, 99746.27it/s]\n"
     ]
    },
    {
     "name": "stdout",
     "output_type": "stream",
     "text": [
      "SumOfWeights for nbJets:  403.4974274635315\n",
      "Time cost: 2.25\n",
      "\n",
      "is Data\n"
     ]
    },
    {
     "name": "stderr",
     "output_type": "stream",
     "text": [
      "fill WZG_dileptonmass for /eos/home-j/jiwoong/SWAN_projects/Draw/Merged_file_211028/Fakelepton/SingleMuon_Run2018B_0000_Skim.root: 100%|██████████| 262/262 [00:00<00:00, 103319.64it/s]\n"
     ]
    },
    {
     "name": "stdout",
     "output_type": "stream",
     "text": [
      "SumOfWeights for WZG_dileptonmass:  8.545657873153687\n"
     ]
    },
    {
     "name": "stderr",
     "output_type": "stream",
     "text": [
      "fill WZG_trileptonmass for /eos/home-j/jiwoong/SWAN_projects/Draw/Merged_file_211028/Fakelepton/SingleMuon_Run2018B_0000_Skim.root: 100%|██████████| 262/262 [00:00<00:00, 104508.57it/s]\n"
     ]
    },
    {
     "name": "stdout",
     "output_type": "stream",
     "text": [
      "SumOfWeights for WZG_trileptonmass:  8.545657888054848\n"
     ]
    },
    {
     "name": "stderr",
     "output_type": "stream",
     "text": [
      "fill ZZ_mllz1 for /eos/home-j/jiwoong/SWAN_projects/Draw/Merged_file_211028/Fakelepton/SingleMuon_Run2018B_0000_Skim.root: 100%|██████████| 262/262 [00:00<00:00, 102663.27it/s]\n"
     ]
    },
    {
     "name": "stdout",
     "output_type": "stream",
     "text": [
      "SumOfWeights for ZZ_mllz1:  62.85599114000797\n"
     ]
    },
    {
     "name": "stderr",
     "output_type": "stream",
     "text": [
      "fill ttZ_dileptonmass for /eos/home-j/jiwoong/SWAN_projects/Draw/Merged_file_211028/Fakelepton/SingleMuon_Run2018B_0000_Skim.root: 100%|██████████| 262/262 [00:00<00:00, 102138.46it/s]\n"
     ]
    },
    {
     "name": "stdout",
     "output_type": "stream",
     "text": [
      "SumOfWeights for ttZ_dileptonmass:  475.25100326538086\n"
     ]
    },
    {
     "name": "stderr",
     "output_type": "stream",
     "text": [
      "fill MET for /eos/home-j/jiwoong/SWAN_projects/Draw/Merged_file_211028/Fakelepton/SingleMuon_Run2018B_0000_Skim.root: 100%|██████████| 262/262 [00:00<00:00, 106154.14it/s]\n"
     ]
    },
    {
     "name": "stdout",
     "output_type": "stream",
     "text": [
      "SumOfWeights for MET:  419.4198246002197\n"
     ]
    },
    {
     "name": "stderr",
     "output_type": "stream",
     "text": [
      "fill nJets for /eos/home-j/jiwoong/SWAN_projects/Draw/Merged_file_211028/Fakelepton/SingleMuon_Run2018B_0000_Skim.root: 100%|██████████| 262/262 [00:00<00:00, 105410.81it/s]\n"
     ]
    },
    {
     "name": "stdout",
     "output_type": "stream",
     "text": [
      "SumOfWeights for nJets:  481.2627716064453\n"
     ]
    },
    {
     "name": "stderr",
     "output_type": "stream",
     "text": [
      "fill nbJets for /eos/home-j/jiwoong/SWAN_projects/Draw/Merged_file_211028/Fakelepton/SingleMuon_Run2018B_0000_Skim.root: 100%|██████████| 262/262 [00:00<00:00, 102942.17it/s]\n"
     ]
    },
    {
     "name": "stdout",
     "output_type": "stream",
     "text": [
      "SumOfWeights for nbJets:  483.8276753425598\n",
      "Time cost: 1.94\n",
      "\n",
      "is Data\n"
     ]
    },
    {
     "name": "stderr",
     "output_type": "stream",
     "text": [
      "fill WZG_dileptonmass for /eos/home-j/jiwoong/SWAN_projects/Draw/Merged_file_211028/Fakelepton/SingleMuon_Run2018C_0000_Skim.root: 100%|██████████| 279/279 [00:00<00:00, 102993.38it/s]\n"
     ]
    },
    {
     "name": "stdout",
     "output_type": "stream",
     "text": [
      "SumOfWeights for WZG_dileptonmass:  9.386894226074219\n"
     ]
    },
    {
     "name": "stderr",
     "output_type": "stream",
     "text": [
      "fill WZG_trileptonmass for /eos/home-j/jiwoong/SWAN_projects/Draw/Merged_file_211028/Fakelepton/SingleMuon_Run2018C_0000_Skim.root: 100%|██████████| 279/279 [00:00<00:00, 107358.79it/s]\n"
     ]
    },
    {
     "name": "stdout",
     "output_type": "stream",
     "text": [
      "SumOfWeights for WZG_trileptonmass:  9.386894509196281\n"
     ]
    },
    {
     "name": "stderr",
     "output_type": "stream",
     "text": [
      "fill ZZ_mllz1 for /eos/home-j/jiwoong/SWAN_projects/Draw/Merged_file_211028/Fakelepton/SingleMuon_Run2018C_0000_Skim.root: 100%|██████████| 279/279 [00:00<00:00, 107201.43it/s]\n"
     ]
    },
    {
     "name": "stdout",
     "output_type": "stream",
     "text": [
      "SumOfWeights for ZZ_mllz1:  67.29534317553043\n"
     ]
    },
    {
     "name": "stderr",
     "output_type": "stream",
     "text": [
      "fill ttZ_dileptonmass for /eos/home-j/jiwoong/SWAN_projects/Draw/Merged_file_211028/Fakelepton/SingleMuon_Run2018C_0000_Skim.root: 100%|██████████| 279/279 [00:00<00:00, 108413.08it/s]\n"
     ]
    },
    {
     "name": "stdout",
     "output_type": "stream",
     "text": [
      "SumOfWeights for ttZ_dileptonmass:  558.4893798828125\n"
     ]
    },
    {
     "name": "stderr",
     "output_type": "stream",
     "text": [
      "fill MET for /eos/home-j/jiwoong/SWAN_projects/Draw/Merged_file_211028/Fakelepton/SingleMuon_Run2018C_0000_Skim.root: 100%|██████████| 279/279 [00:00<00:00, 106936.93it/s]\n"
     ]
    },
    {
     "name": "stdout",
     "output_type": "stream",
     "text": [
      "SumOfWeights for MET:  492.17835092544556\n"
     ]
    },
    {
     "name": "stderr",
     "output_type": "stream",
     "text": [
      "fill nJets for /eos/home-j/jiwoong/SWAN_projects/Draw/Merged_file_211028/Fakelepton/SingleMuon_Run2018C_0000_Skim.root: 100%|██████████| 279/279 [00:00<00:00, 102758.24it/s]\n"
     ]
    },
    {
     "name": "stdout",
     "output_type": "stream",
     "text": [
      "SumOfWeights for nJets:  564.0812692642212\n"
     ]
    },
    {
     "name": "stderr",
     "output_type": "stream",
     "text": [
      "fill nbJets for /eos/home-j/jiwoong/SWAN_projects/Draw/Merged_file_211028/Fakelepton/SingleMuon_Run2018C_0000_Skim.root: 100%|██████████| 279/279 [00:00<00:00, 107447.51it/s]\n"
     ]
    },
    {
     "name": "stdout",
     "output_type": "stream",
     "text": [
      "SumOfWeights for nbJets:  569.5193531513214\n",
      "Time cost: 1.83\n",
      "\n",
      "is Data\n"
     ]
    },
    {
     "name": "stderr",
     "output_type": "stream",
     "text": [
      "fill WZG_dileptonmass for /eos/home-j/jiwoong/SWAN_projects/Draw/Merged_file_211028/Fakelepton/SingleMuon_Run2018D_0000_Skim.root: 100%|██████████| 690/690 [00:00<00:00, 102227.83it/s]\n"
     ]
    },
    {
     "name": "stdout",
     "output_type": "stream",
     "text": [
      "SumOfWeights for WZG_dileptonmass:  12.924250423908234\n"
     ]
    },
    {
     "name": "stderr",
     "output_type": "stream",
     "text": [
      "fill WZG_trileptonmass for /eos/home-j/jiwoong/SWAN_projects/Draw/Merged_file_211028/Fakelepton/SingleMuon_Run2018D_0000_Skim.root: 100%|██████████| 690/690 [00:00<00:00, 106376.16it/s]\n"
     ]
    },
    {
     "name": "stdout",
     "output_type": "stream",
     "text": [
      "SumOfWeights for WZG_trileptonmass:  12.924250662326813\n"
     ]
    },
    {
     "name": "stderr",
     "output_type": "stream",
     "text": [
      "fill ZZ_mllz1 for /eos/home-j/jiwoong/SWAN_projects/Draw/Merged_file_211028/Fakelepton/SingleMuon_Run2018D_0000_Skim.root: 100%|██████████| 690/690 [00:00<00:00, 107907.15it/s]\n"
     ]
    },
    {
     "name": "stdout",
     "output_type": "stream",
     "text": [
      "SumOfWeights for ZZ_mllz1:  98.49278050661087\n"
     ]
    },
    {
     "name": "stderr",
     "output_type": "stream",
     "text": [
      "fill ttZ_dileptonmass for /eos/home-j/jiwoong/SWAN_projects/Draw/Merged_file_211028/Fakelepton/SingleMuon_Run2018D_0000_Skim.root: 100%|██████████| 690/690 [00:00<00:00, 104717.22it/s]\n"
     ]
    },
    {
     "name": "stdout",
     "output_type": "stream",
     "text": [
      "SumOfWeights for ttZ_dileptonmass:  753.6929016113281\n"
     ]
    },
    {
     "name": "stderr",
     "output_type": "stream",
     "text": [
      "fill MET for /eos/home-j/jiwoong/SWAN_projects/Draw/Merged_file_211028/Fakelepton/SingleMuon_Run2018D_0000_Skim.root: 100%|██████████| 690/690 [00:00<00:00, 106274.59it/s]\n"
     ]
    },
    {
     "name": "stdout",
     "output_type": "stream",
     "text": [
      "SumOfWeights for MET:  677.2555017471313\n"
     ]
    },
    {
     "name": "stderr",
     "output_type": "stream",
     "text": [
      "fill nJets for /eos/home-j/jiwoong/SWAN_projects/Draw/Merged_file_211028/Fakelepton/SingleMuon_Run2018D_0000_Skim.root: 100%|██████████| 690/690 [00:00<00:00, 108238.08it/s]\n"
     ]
    },
    {
     "name": "stdout",
     "output_type": "stream",
     "text": [
      "SumOfWeights for nJets:  762.2567844390869\n"
     ]
    },
    {
     "name": "stderr",
     "output_type": "stream",
     "text": [
      "fill nbJets for /eos/home-j/jiwoong/SWAN_projects/Draw/Merged_file_211028/Fakelepton/SingleMuon_Run2018D_0000_Skim.root: 100%|██████████| 690/690 [00:00<00:00, 109420.76it/s]\n"
     ]
    },
    {
     "name": "stdout",
     "output_type": "stream",
     "text": [
      "SumOfWeights for nbJets:  770.7326855659485\n",
      "Time cost: 2.60\n",
      "\n",
      "is Data\n"
     ]
    },
    {
     "name": "stderr",
     "output_type": "stream",
     "text": [
      "fill WZG_dileptonmass for /eos/home-j/jiwoong/SWAN_projects/Draw/Merged_file_211028/Fakelepton/SingleMuon_Run2018D_0001_Skim.root: 100%|██████████| 428/428 [00:00<00:00, 105928.02it/s]\n"
     ]
    },
    {
     "name": "stdout",
     "output_type": "stream",
     "text": [
      "SumOfWeights for WZG_dileptonmass:  15.229132950305939\n"
     ]
    },
    {
     "name": "stderr",
     "output_type": "stream",
     "text": [
      "fill WZG_trileptonmass for /eos/home-j/jiwoong/SWAN_projects/Draw/Merged_file_211028/Fakelepton/SingleMuon_Run2018D_0001_Skim.root: 100%|██████████| 428/428 [00:00<00:00, 110315.38it/s]\n"
     ]
    },
    {
     "name": "stdout",
     "output_type": "stream",
     "text": [
      "SumOfWeights for WZG_trileptonmass:  15.229133784770966\n"
     ]
    },
    {
     "name": "stderr",
     "output_type": "stream",
     "text": [
      "fill ZZ_mllz1 for /eos/home-j/jiwoong/SWAN_projects/Draw/Merged_file_211028/Fakelepton/SingleMuon_Run2018D_0001_Skim.root: 100%|██████████| 428/428 [00:00<00:00, 109234.64it/s]\n"
     ]
    },
    {
     "name": "stdout",
     "output_type": "stream",
     "text": [
      "SumOfWeights for ZZ_mllz1:  124.76849538087845\n"
     ]
    },
    {
     "name": "stderr",
     "output_type": "stream",
     "text": [
      "fill ttZ_dileptonmass for /eos/home-j/jiwoong/SWAN_projects/Draw/Merged_file_211028/Fakelepton/SingleMuon_Run2018D_0001_Skim.root: 100%|██████████| 428/428 [00:00<00:00, 103700.66it/s]\n"
     ]
    },
    {
     "name": "stdout",
     "output_type": "stream",
     "text": [
      "SumOfWeights for ttZ_dileptonmass:  903.783088684082\n"
     ]
    },
    {
     "name": "stderr",
     "output_type": "stream",
     "text": [
      "fill MET for /eos/home-j/jiwoong/SWAN_projects/Draw/Merged_file_211028/Fakelepton/SingleMuon_Run2018D_0001_Skim.root: 100%|██████████| 428/428 [00:00<00:00, 108725.22it/s]\n"
     ]
    },
    {
     "name": "stdout",
     "output_type": "stream",
     "text": [
      "SumOfWeights for MET:  807.6768665313721\n"
     ]
    },
    {
     "name": "stderr",
     "output_type": "stream",
     "text": [
      "fill nJets for /eos/home-j/jiwoong/SWAN_projects/Draw/Merged_file_211028/Fakelepton/SingleMuon_Run2018D_0001_Skim.root: 100%|██████████| 428/428 [00:00<00:00, 106222.61it/s]\n"
     ]
    },
    {
     "name": "stdout",
     "output_type": "stream",
     "text": [
      "SumOfWeights for nJets:  911.6213512420654\n"
     ]
    },
    {
     "name": "stderr",
     "output_type": "stream",
     "text": [
      "fill nbJets for /eos/home-j/jiwoong/SWAN_projects/Draw/Merged_file_211028/Fakelepton/SingleMuon_Run2018D_0001_Skim.root: 100%|██████████| 428/428 [00:00<00:00, 102656.95it/s]"
     ]
    },
    {
     "name": "stdout",
     "output_type": "stream",
     "text": [
      "SumOfWeights for nbJets:  922.7728800773621\n",
      "Time cost: 2.07\n",
      "\n"
     ]
    },
    {
     "name": "stderr",
     "output_type": "stream",
     "text": [
      "\n"
     ]
    }
   ],
   "source": [
    "for file in filelist_data_FakeLep:\n",
    "    AddHist_FakeLepton(file, hist_FakeLep, 1, 0, 0, channel, branch)"
   ]
  },
  {
   "cell_type": "markdown",
   "id": "1d073d46",
   "metadata": {},
   "source": [
    "### Add FakeLepton MC (not yet)"
   ]
  },
  {
   "cell_type": "code",
   "execution_count": 11,
   "id": "3a9de8db",
   "metadata": {},
   "outputs": [],
   "source": [
    "filelist_MC_FakeLep = {\n",
    "   \"TTG\":\n",
    "        {\"name\":\"TTGJets\", \n",
    "        \"path\":\"/eos/user/s/sdeng/WZG_analysis/fake_lepton_template/AR/2018/final/TTGJets_TuneCP5_13TeV-amcatnloFXFX-madspin-pythia8_2018_0000_Skim.root\", \n",
    "        \"xsec\":3.697,\n",
    "        \"color\":3},\n",
    "   \"TTZ\":\n",
    "        {\"name\":\"TTZToLLNuNu\", \n",
    "        \"path\":\"/eos/user/s/sdeng/WZG_analysis/fake_lepton_template/AR/2018/final/TTZToLLNuNu_M-10_TuneCP5_13TeV-amcatnlo-pythia8_2018_0000_Skim.root\", \n",
    "        \"xsec\":0.2529,\n",
    "        \"color\":4},\n",
    "   \"TTW\":\n",
    "        {\"name\":\"TTWJetsToLNu\", \n",
    "        \"path\":\"/eos/user/s/sdeng/WZG_analysis/fake_lepton_template/AR/2018/final/TTWJetsToLNu_TuneCP5_13TeV-amcatnloFXFX-madspin-pythia8_2018_0000_Skim.root\", \n",
    "        \"xsec\":0.2043,\n",
    "        \"color\":5},\n",
    "   \"tZq\":\n",
    "        {\"name\":\"tZq_ll\", \n",
    "        \"path\":\"/eos/user/s/sdeng/WZG_analysis/fake_lepton_template/AR/2018/final/tZq_ll_4f_ckm_NLO_TuneCP5_13TeV-amcatnlo-pythia8_2018_0000_Skim.root\", \n",
    "        \"xsec\":0.0758,\n",
    "        \"color\":6},\n",
    "   \"WWW\":\n",
    "        {\"name\":\"WWW\", \n",
    "        \"path\":\"/eos/user/s/sdeng/WZG_analysis/fake_lepton_template/AR/2018/final/WWW_4F_TuneCP5_13TeV-amcatnlo-pythia8_2018_0000_Skim.root\", \n",
    "        \"xsec\":0.2086,\n",
    "        \"color\":7},\n",
    "#    \"WZ\":\n",
    "#         {\"name\":\"WZ\", \n",
    "#         \"path\":\"/eos/user/s/sdeng/WZG_analysis/fake_lepton_template/AR/2018/final/WZ_TuneCP5_13TeV-pythia8_2018_0000_Skim.root\", \n",
    "#         \"xsec\":47.13,\n",
    "#         \"color\":8},\n",
    "   \"ZGToLLG\":\n",
    "        {\"name\":\"ZGToLLG\",\n",
    "        \"path\":\"/eos/user/s/sdeng/WZG_analysis/fake_lepton_template/AR/2018/final/ZGToLLG_01J_5f_TuneCP5_13TeV-amcatnloFXFX-pythia8_2018_0000_Skim.root\", \n",
    "        \"xsec\":55.48,\n",
    "        \"color\":9},\n",
    "    \"qqZZ\":\n",
    "        {\"name\":\"qqZZ\",\n",
    "        \"path\":\"/eos/user/s/sdeng/WZG_analysis/fake_lepton_template/AR/2018/final/ZZ_TuneCP5_13TeV-pythia8_2018_0000_Skim.root\", \n",
    "        \"xsec\":16.523,\n",
    "        \"color\":12},\n",
    "    \"ggZZ_2e2mu\":\n",
    "        {\"name\":\"ggZZ\",\n",
    "        \"path\":\"/eos/user/s/sdeng/WZG_analysis/fake_lepton_template/AR/2018/final/GluGluToContinToZZTo2e2mu_TuneCP5_13TeV-mcfm701-pythia8_2018_0000_Skim.root\",\n",
    "        \"xsec\":0.00319,\n",
    "        \"color\":13},\n",
    "    \"ggZZ_2e2nu\":\n",
    "        {\"name\":\"ggZZ\",\n",
    "        \"path\":\"/eos/user/s/sdeng/WZG_analysis/fake_lepton_template/AR/2018/final/GluGluToContinToZZTo2e2nu_TuneCP5_13TeV-mcfm701-pythia8_2018_0000_Skim.root\",\n",
    "        \"xsec\":0.00319,\n",
    "        \"color\":13},\n",
    "    \"ggZZ_2e2tau\":\n",
    "        {\"name\":\"ggZZ\",\n",
    "        \"path\":\"/eos/user/s/sdeng/WZG_analysis/fake_lepton_template/AR/2018/final/GluGluToContinToZZTo2e2tau_TuneCP5_13TeV-mcfm701-pythia8_2018_0000_Skim.root\",\n",
    "        \"xsec\":0.00319,\n",
    "        \"color\":13},\n",
    "    \"ggZZ_2mu2nu\":\n",
    "        {\"name\":\"ggZZ\",\n",
    "        \"path\":\"/eos/user/s/sdeng/WZG_analysis/fake_lepton_template/AR/2018/final/GluGluToContinToZZTo2mu2nu_TuneCP5_13TeV-mcfm701-pythia8_2018_0000_Skim.root\",\n",
    "        \"xsec\":0.00319,\n",
    "        \"color\":13},\n",
    "    \"ggZZ_2mu2tau\":\n",
    "        {\"name\":\"ggZZ\",\n",
    "        \"path\":\"/eos/user/s/sdeng/WZG_analysis/fake_lepton_template/AR/2018/final/GluGluToContinToZZTo2mu2tau_TuneCP5_13TeV-mcfm701-pythia8_2018_0000_Skim.root\",\n",
    "        \"xsec\":0.00319,\n",
    "        \"color\":13},\n",
    "    \"ggZZ_4e\":\n",
    "        {\"name\":\"ggZZ\",\n",
    "        \"path\":\"/eos/user/s/sdeng/WZG_analysis/fake_lepton_template/AR/2018/final/GluGluToContinToZZTo4e_TuneCP5_13TeV-mcfm701-pythia8_2018_0000_Skim.root\",\n",
    "        \"xsec\":0.00159,\n",
    "        \"color\":13},\n",
    "    \"ggZZ_4mu\":\n",
    "        {\"name\":\"ggZZ\",\n",
    "        \"path\":\"/eos/user/s/sdeng/WZG_analysis/fake_lepton_template/AR/2018/final/GluGluToContinToZZTo4mu_TuneCP5_13TeV-mcfm701-pythia8_2018_0000_Skim.root\",\n",
    "        \"xsec\":0.00159,\n",
    "        \"color\":13},\n",
    "    \"ggZZ_4tau\":\n",
    "        {\"name\":\"ggZZ\",\n",
    "        \"path\":\"/eos/user/s/sdeng/WZG_analysis/fake_lepton_template/AR/2018/final/GluGluToContinToZZTo4tau_TuneCP5_13TeV-mcfm701-pythia8_2018_0000_Skim.root\",\n",
    "        \"xsec\":0.00159,\n",
    "        \"color\":13},\n",
    "    \"WZG\":\n",
    "        {\"name\":\"signal\",\n",
    "        \"path\":\"/eos/user/s/sdeng/WZG_analysis/fake_lepton_template/AR/2018/final/wza_UL18_sum_Skim_Skim.root\", \n",
    "        \"xsec\":0.0384,\n",
    "        \"color\":21}\n",
    "}"
   ]
  },
  {
   "cell_type": "code",
   "execution_count": 12,
   "id": "b0a9e7e3",
   "metadata": {},
   "outputs": [
    {
     "name": "stdout",
     "output_type": "stream",
     "text": [
      "is MC\n"
     ]
    },
    {
     "name": "stderr",
     "output_type": "stream",
     "text": [
      "fill WZG_dileptonmass for /eos/user/s/sdeng/WZG_analysis/fake_lepton_template/AR/2018/final/TTGJets_TuneCP5_13TeV-amcatnloFXFX-madspin-pythia8_2018_0000_Skim.root: 100%|██████████| 316/316 [00:00<00:00, 73929.05it/s]\n"
     ]
    },
    {
     "name": "stdout",
     "output_type": "stream",
     "text": [
      "SumOfWeights for WZG_dileptonmass:  12.114568650722504\n"
     ]
    },
    {
     "name": "stderr",
     "output_type": "stream",
     "text": [
      "fill WZG_trileptonmass for /eos/user/s/sdeng/WZG_analysis/fake_lepton_template/AR/2018/final/TTGJets_TuneCP5_13TeV-amcatnloFXFX-madspin-pythia8_2018_0000_Skim.root: 100%|██████████| 316/316 [00:00<00:00, 73307.53it/s]\n"
     ]
    },
    {
     "name": "stdout",
     "output_type": "stream",
     "text": [
      "SumOfWeights for WZG_trileptonmass:  12.144309643656015\n"
     ]
    },
    {
     "name": "stderr",
     "output_type": "stream",
     "text": [
      "fill ZZ_mllz1 for /eos/user/s/sdeng/WZG_analysis/fake_lepton_template/AR/2018/final/TTGJets_TuneCP5_13TeV-amcatnloFXFX-madspin-pythia8_2018_0000_Skim.root: 100%|██████████| 316/316 [00:00<00:00, 67778.07it/s]\n"
     ]
    },
    {
     "name": "stdout",
     "output_type": "stream",
     "text": [
      "SumOfWeights for ZZ_mllz1:  122.56811189651489\n"
     ]
    },
    {
     "name": "stderr",
     "output_type": "stream",
     "text": [
      "fill ttZ_dileptonmass for /eos/user/s/sdeng/WZG_analysis/fake_lepton_template/AR/2018/final/TTGJets_TuneCP5_13TeV-amcatnloFXFX-madspin-pythia8_2018_0000_Skim.root: 100%|██████████| 316/316 [00:00<00:00, 75353.92it/s]\n"
     ]
    },
    {
     "name": "stdout",
     "output_type": "stream",
     "text": [
      "SumOfWeights for ttZ_dileptonmass:  900.5085678100586\n"
     ]
    },
    {
     "name": "stderr",
     "output_type": "stream",
     "text": [
      "fill MET for /eos/user/s/sdeng/WZG_analysis/fake_lepton_template/AR/2018/final/TTGJets_TuneCP5_13TeV-amcatnloFXFX-madspin-pythia8_2018_0000_Skim.root: 100%|██████████| 316/316 [00:00<00:00, 76369.93it/s]\n"
     ]
    },
    {
     "name": "stdout",
     "output_type": "stream",
     "text": [
      "SumOfWeights for MET:  804.8654928207397\n"
     ]
    },
    {
     "name": "stderr",
     "output_type": "stream",
     "text": [
      "fill nJets for /eos/user/s/sdeng/WZG_analysis/fake_lepton_template/AR/2018/final/TTGJets_TuneCP5_13TeV-amcatnloFXFX-madspin-pythia8_2018_0000_Skim.root: 100%|██████████| 316/316 [00:00<00:00, 72205.28it/s]\n"
     ]
    },
    {
     "name": "stdout",
     "output_type": "stream",
     "text": [
      "SumOfWeights for nJets:  908.6151599884033\n"
     ]
    },
    {
     "name": "stderr",
     "output_type": "stream",
     "text": [
      "fill nbJets for /eos/user/s/sdeng/WZG_analysis/fake_lepton_template/AR/2018/final/TTGJets_TuneCP5_13TeV-amcatnloFXFX-madspin-pythia8_2018_0000_Skim.root: 100%|██████████| 316/316 [00:00<00:00, 73657.89it/s]\n"
     ]
    },
    {
     "name": "stdout",
     "output_type": "stream",
     "text": [
      "SumOfWeights for nbJets:  919.5634932518005\n",
      "Time cost: 4.73\n",
      "\n",
      "is MC\n"
     ]
    },
    {
     "name": "stderr",
     "output_type": "stream",
     "text": [
      "fill WZG_dileptonmass for /eos/user/s/sdeng/WZG_analysis/fake_lepton_template/AR/2018/final/TTZToLLNuNu_M-10_TuneCP5_13TeV-amcatnlo-pythia8_2018_0000_Skim.root: 100%|██████████| 81416/81416 [00:01<00:00, 77516.40it/s]\n"
     ]
    },
    {
     "name": "stdout",
     "output_type": "stream",
     "text": [
      "SumOfWeights for WZG_dileptonmass:  -18.658570557832718\n"
     ]
    },
    {
     "name": "stderr",
     "output_type": "stream",
     "text": [
      "fill WZG_trileptonmass for /eos/user/s/sdeng/WZG_analysis/fake_lepton_template/AR/2018/final/TTZToLLNuNu_M-10_TuneCP5_13TeV-amcatnlo-pythia8_2018_0000_Skim.root: 100%|██████████| 81416/81416 [00:00<00:00, 84705.86it/s]\n"
     ]
    },
    {
     "name": "stdout",
     "output_type": "stream",
     "text": [
      "SumOfWeights for WZG_trileptonmass:  -18.07580465078354\n"
     ]
    },
    {
     "name": "stderr",
     "output_type": "stream",
     "text": [
      "fill ZZ_mllz1 for /eos/user/s/sdeng/WZG_analysis/fake_lepton_template/AR/2018/final/TTZToLLNuNu_M-10_TuneCP5_13TeV-amcatnlo-pythia8_2018_0000_Skim.root: 100%|██████████| 81416/81416 [00:00<00:00, 84489.34it/s]\n"
     ]
    },
    {
     "name": "stdout",
     "output_type": "stream",
     "text": [
      "SumOfWeights for ZZ_mllz1:  90.61146783828735\n"
     ]
    },
    {
     "name": "stderr",
     "output_type": "stream",
     "text": [
      "fill ttZ_dileptonmass for /eos/user/s/sdeng/WZG_analysis/fake_lepton_template/AR/2018/final/TTZToLLNuNu_M-10_TuneCP5_13TeV-amcatnlo-pythia8_2018_0000_Skim.root: 100%|██████████| 81416/81416 [00:00<00:00, 84124.66it/s]\n"
     ]
    },
    {
     "name": "stdout",
     "output_type": "stream",
     "text": [
      "SumOfWeights for ttZ_dileptonmass:  868.5669403076172\n"
     ]
    },
    {
     "name": "stderr",
     "output_type": "stream",
     "text": [
      "fill MET for /eos/user/s/sdeng/WZG_analysis/fake_lepton_template/AR/2018/final/TTZToLLNuNu_M-10_TuneCP5_13TeV-amcatnlo-pythia8_2018_0000_Skim.root: 100%|██████████| 81416/81416 [00:00<00:00, 84584.36it/s]\n"
     ]
    },
    {
     "name": "stdout",
     "output_type": "stream",
     "text": [
      "SumOfWeights for MET:  779.8820705413818\n"
     ]
    },
    {
     "name": "stderr",
     "output_type": "stream",
     "text": [
      "fill nJets for /eos/user/s/sdeng/WZG_analysis/fake_lepton_template/AR/2018/final/TTZToLLNuNu_M-10_TuneCP5_13TeV-amcatnlo-pythia8_2018_0000_Skim.root: 100%|██████████| 81416/81416 [00:00<00:00, 82997.10it/s]\n"
     ]
    },
    {
     "name": "stdout",
     "output_type": "stream",
     "text": [
      "SumOfWeights for nJets:  878.8376274108887\n"
     ]
    },
    {
     "name": "stderr",
     "output_type": "stream",
     "text": [
      "fill nbJets for /eos/user/s/sdeng/WZG_analysis/fake_lepton_template/AR/2018/final/TTZToLLNuNu_M-10_TuneCP5_13TeV-amcatnlo-pythia8_2018_0000_Skim.root: 100%|██████████| 81416/81416 [00:00<00:00, 84988.71it/s]\n"
     ]
    },
    {
     "name": "stdout",
     "output_type": "stream",
     "text": [
      "SumOfWeights for nbJets:  887.3683171831071\n",
      "Time cost: 16.21\n",
      "\n",
      "is MC\n"
     ]
    },
    {
     "name": "stderr",
     "output_type": "stream",
     "text": [
      "fill WZG_dileptonmass for /eos/user/s/sdeng/WZG_analysis/fake_lepton_template/AR/2018/final/TTWJetsToLNu_TuneCP5_13TeV-amcatnloFXFX-madspin-pythia8_2018_0000_Skim.root: 100%|██████████| 3132/3132 [00:00<00:00, 84805.07it/s]\n"
     ]
    },
    {
     "name": "stdout",
     "output_type": "stream",
     "text": [
      "SumOfWeights for WZG_dileptonmass:  -21.041896641254425\n"
     ]
    },
    {
     "name": "stderr",
     "output_type": "stream",
     "text": [
      "fill WZG_trileptonmass for /eos/user/s/sdeng/WZG_analysis/fake_lepton_template/AR/2018/final/TTWJetsToLNu_TuneCP5_13TeV-amcatnloFXFX-madspin-pythia8_2018_0000_Skim.root: 100%|██████████| 3132/3132 [00:00<00:00, 84877.40it/s]\n"
     ]
    },
    {
     "name": "stdout",
     "output_type": "stream",
     "text": [
      "SumOfWeights for WZG_trileptonmass:  -20.4913432598114\n"
     ]
    },
    {
     "name": "stderr",
     "output_type": "stream",
     "text": [
      "fill ZZ_mllz1 for /eos/user/s/sdeng/WZG_analysis/fake_lepton_template/AR/2018/final/TTWJetsToLNu_TuneCP5_13TeV-amcatnloFXFX-madspin-pythia8_2018_0000_Skim.root: 100%|██████████| 3132/3132 [00:00<00:00, 84038.49it/s]\n"
     ]
    },
    {
     "name": "stdout",
     "output_type": "stream",
     "text": [
      "SumOfWeights for ZZ_mllz1:  88.15429401397705\n"
     ]
    },
    {
     "name": "stderr",
     "output_type": "stream",
     "text": [
      "fill ttZ_dileptonmass for /eos/user/s/sdeng/WZG_analysis/fake_lepton_template/AR/2018/final/TTWJetsToLNu_TuneCP5_13TeV-amcatnloFXFX-madspin-pythia8_2018_0000_Skim.root: 100%|██████████| 3132/3132 [00:00<00:00, 85250.30it/s]\n"
     ]
    },
    {
     "name": "stdout",
     "output_type": "stream",
     "text": [
      "SumOfWeights for ttZ_dileptonmass:  865.7691421508789\n"
     ]
    },
    {
     "name": "stderr",
     "output_type": "stream",
     "text": [
      "fill MET for /eos/user/s/sdeng/WZG_analysis/fake_lepton_template/AR/2018/final/TTWJetsToLNu_TuneCP5_13TeV-amcatnloFXFX-madspin-pythia8_2018_0000_Skim.root: 100%|██████████| 3132/3132 [00:00<00:00, 82870.57it/s]\n"
     ]
    },
    {
     "name": "stdout",
     "output_type": "stream",
     "text": [
      "SumOfWeights for MET:  778.0329160690308\n"
     ]
    },
    {
     "name": "stderr",
     "output_type": "stream",
     "text": [
      "fill nJets for /eos/user/s/sdeng/WZG_analysis/fake_lepton_template/AR/2018/final/TTWJetsToLNu_TuneCP5_13TeV-amcatnloFXFX-madspin-pythia8_2018_0000_Skim.root: 100%|██████████| 3132/3132 [00:00<00:00, 82642.22it/s]\n"
     ]
    },
    {
     "name": "stdout",
     "output_type": "stream",
     "text": [
      "SumOfWeights for nJets:  876.0680561065674\n"
     ]
    },
    {
     "name": "stderr",
     "output_type": "stream",
     "text": [
      "fill nbJets for /eos/user/s/sdeng/WZG_analysis/fake_lepton_template/AR/2018/final/TTWJetsToLNu_TuneCP5_13TeV-amcatnloFXFX-madspin-pythia8_2018_0000_Skim.root: 100%|██████████| 3132/3132 [00:00<00:00, 82920.79it/s]\n"
     ]
    },
    {
     "name": "stdout",
     "output_type": "stream",
     "text": [
      "SumOfWeights for nbJets:  884.525728603825\n",
      "Time cost: 6.31\n",
      "\n",
      "is MC\n"
     ]
    },
    {
     "name": "stderr",
     "output_type": "stream",
     "text": [
      "fill WZG_dileptonmass for /eos/user/s/sdeng/WZG_analysis/fake_lepton_template/AR/2018/final/tZq_ll_4f_ckm_NLO_TuneCP5_13TeV-amcatnlo-pythia8_2018_0000_Skim.root: 100%|██████████| 58513/58513 [00:00<00:00, 74422.66it/s]\n"
     ]
    },
    {
     "name": "stdout",
     "output_type": "stream",
     "text": [
      "SumOfWeights for WZG_dileptonmass:  -31.378815412521362\n"
     ]
    },
    {
     "name": "stderr",
     "output_type": "stream",
     "text": [
      "fill WZG_trileptonmass for /eos/user/s/sdeng/WZG_analysis/fake_lepton_template/AR/2018/final/tZq_ll_4f_ckm_NLO_TuneCP5_13TeV-amcatnlo-pythia8_2018_0000_Skim.root: 100%|██████████| 58513/58513 [00:00<00:00, 66243.47it/s]\n"
     ]
    },
    {
     "name": "stdout",
     "output_type": "stream",
     "text": [
      "SumOfWeights for WZG_trileptonmass:  -30.661706805229187\n"
     ]
    },
    {
     "name": "stderr",
     "output_type": "stream",
     "text": [
      "fill ZZ_mllz1 for /eos/user/s/sdeng/WZG_analysis/fake_lepton_template/AR/2018/final/tZq_ll_4f_ckm_NLO_TuneCP5_13TeV-amcatnlo-pythia8_2018_0000_Skim.root: 100%|██████████| 58513/58513 [00:00<00:00, 58947.73it/s]\n"
     ]
    },
    {
     "name": "stdout",
     "output_type": "stream",
     "text": [
      "SumOfWeights for ZZ_mllz1:  77.4365713596344\n"
     ]
    },
    {
     "name": "stderr",
     "output_type": "stream",
     "text": [
      "fill ttZ_dileptonmass for /eos/user/s/sdeng/WZG_analysis/fake_lepton_template/AR/2018/final/tZq_ll_4f_ckm_NLO_TuneCP5_13TeV-amcatnlo-pythia8_2018_0000_Skim.root: 100%|██████████| 58513/58513 [00:00<00:00, 74691.15it/s]\n"
     ]
    },
    {
     "name": "stdout",
     "output_type": "stream",
     "text": [
      "SumOfWeights for ttZ_dileptonmass:  855.074333190918\n"
     ]
    },
    {
     "name": "stderr",
     "output_type": "stream",
     "text": [
      "fill MET for /eos/user/s/sdeng/WZG_analysis/fake_lepton_template/AR/2018/final/tZq_ll_4f_ckm_NLO_TuneCP5_13TeV-amcatnlo-pythia8_2018_0000_Skim.root: 100%|██████████| 58513/58513 [00:00<00:00, 75357.02it/s]\n"
     ]
    },
    {
     "name": "stdout",
     "output_type": "stream",
     "text": [
      "SumOfWeights for MET:  768.8238229751587\n"
     ]
    },
    {
     "name": "stderr",
     "output_type": "stream",
     "text": [
      "fill nJets for /eos/user/s/sdeng/WZG_analysis/fake_lepton_template/AR/2018/final/tZq_ll_4f_ckm_NLO_TuneCP5_13TeV-amcatnlo-pythia8_2018_0000_Skim.root: 100%|██████████| 58513/58513 [00:00<00:00, 74778.54it/s]\n"
     ]
    },
    {
     "name": "stdout",
     "output_type": "stream",
     "text": [
      "SumOfWeights for nJets:  865.4580307006836\n"
     ]
    },
    {
     "name": "stderr",
     "output_type": "stream",
     "text": [
      "fill nbJets for /eos/user/s/sdeng/WZG_analysis/fake_lepton_template/AR/2018/final/tZq_ll_4f_ckm_NLO_TuneCP5_13TeV-amcatnlo-pythia8_2018_0000_Skim.root: 100%|██████████| 58513/58513 [00:00<00:00, 74309.07it/s]\n"
     ]
    },
    {
     "name": "stdout",
     "output_type": "stream",
     "text": [
      "SumOfWeights for nbJets:  873.7737466581166\n",
      "Time cost: 52.81\n",
      "\n",
      "is MC\n"
     ]
    },
    {
     "name": "stderr",
     "output_type": "stream",
     "text": [
      "fill WZG_dileptonmass for /eos/user/s/sdeng/WZG_analysis/fake_lepton_template/AR/2018/final/WWW_4F_TuneCP5_13TeV-amcatnlo-pythia8_2018_0000_Skim.root: 100%|██████████| 1/1 [00:00<00:00, 4275.54it/s]\n"
     ]
    },
    {
     "name": "stdout",
     "output_type": "stream",
     "text": [
      "SumOfWeights for WZG_dileptonmass:  -31.378815412521362\n"
     ]
    },
    {
     "name": "stderr",
     "output_type": "stream",
     "text": [
      "fill WZG_trileptonmass for /eos/user/s/sdeng/WZG_analysis/fake_lepton_template/AR/2018/final/WWW_4F_TuneCP5_13TeV-amcatnlo-pythia8_2018_0000_Skim.root: 100%|██████████| 1/1 [00:00<00:00, 10512.04it/s]\n"
     ]
    },
    {
     "name": "stdout",
     "output_type": "stream",
     "text": [
      "SumOfWeights for WZG_trileptonmass:  -30.661706805229187\n"
     ]
    },
    {
     "name": "stderr",
     "output_type": "stream",
     "text": [
      "fill ZZ_mllz1 for /eos/user/s/sdeng/WZG_analysis/fake_lepton_template/AR/2018/final/WWW_4F_TuneCP5_13TeV-amcatnlo-pythia8_2018_0000_Skim.root: 100%|██████████| 1/1 [00:00<00:00, 8322.03it/s]\n"
     ]
    },
    {
     "name": "stdout",
     "output_type": "stream",
     "text": [
      "SumOfWeights for ZZ_mllz1:  77.4365713596344\n"
     ]
    },
    {
     "name": "stderr",
     "output_type": "stream",
     "text": [
      "fill ttZ_dileptonmass for /eos/user/s/sdeng/WZG_analysis/fake_lepton_template/AR/2018/final/WWW_4F_TuneCP5_13TeV-amcatnlo-pythia8_2018_0000_Skim.root: 100%|██████████| 1/1 [00:00<00:00, 4928.68it/s]\n"
     ]
    },
    {
     "name": "stdout",
     "output_type": "stream",
     "text": [
      "SumOfWeights for ttZ_dileptonmass:  855.0933074951172\n"
     ]
    },
    {
     "name": "stderr",
     "output_type": "stream",
     "text": [
      "fill MET for /eos/user/s/sdeng/WZG_analysis/fake_lepton_template/AR/2018/final/WWW_4F_TuneCP5_13TeV-amcatnlo-pythia8_2018_0000_Skim.root: 100%|██████████| 1/1 [00:00<00:00, 12372.58it/s]\n"
     ]
    },
    {
     "name": "stdout",
     "output_type": "stream",
     "text": [
      "SumOfWeights for MET:  768.8427934646606\n"
     ]
    },
    {
     "name": "stderr",
     "output_type": "stream",
     "text": [
      "fill nJets for /eos/user/s/sdeng/WZG_analysis/fake_lepton_template/AR/2018/final/WWW_4F_TuneCP5_13TeV-amcatnlo-pythia8_2018_0000_Skim.root: 100%|██████████| 1/1 [00:00<00:00, 8542.37it/s]\n"
     ]
    },
    {
     "name": "stdout",
     "output_type": "stream",
     "text": [
      "SumOfWeights for nJets:  865.4770011901855\n"
     ]
    },
    {
     "name": "stderr",
     "output_type": "stream",
     "text": [
      "fill nbJets for /eos/user/s/sdeng/WZG_analysis/fake_lepton_template/AR/2018/final/WWW_4F_TuneCP5_13TeV-amcatnlo-pythia8_2018_0000_Skim.root: 100%|██████████| 1/1 [00:00<00:00, 8943.08it/s]\n"
     ]
    },
    {
     "name": "stdout",
     "output_type": "stream",
     "text": [
      "SumOfWeights for nbJets:  873.7927285917103\n",
      "Time cost: 4.32\n",
      "\n",
      "is MC\n"
     ]
    },
    {
     "name": "stderr",
     "output_type": "stream",
     "text": [
      "fill WZG_dileptonmass for /eos/user/s/sdeng/WZG_analysis/fake_lepton_template/AR/2018/final/ZGToLLG_01J_5f_TuneCP5_13TeV-amcatnloFXFX-pythia8_2018_0000_Skim.root: 100%|██████████| 48/48 [00:00<00:00, 63330.16it/s]\n"
     ]
    },
    {
     "name": "stdout",
     "output_type": "stream",
     "text": [
      "SumOfWeights for WZG_dileptonmass:  -32.885242342948914\n"
     ]
    },
    {
     "name": "stderr",
     "output_type": "stream",
     "text": [
      "fill WZG_trileptonmass for /eos/user/s/sdeng/WZG_analysis/fake_lepton_template/AR/2018/final/ZGToLLG_01J_5f_TuneCP5_13TeV-amcatnloFXFX-pythia8_2018_0000_Skim.root: 100%|██████████| 48/48 [00:00<00:00, 75459.74it/s]\n"
     ]
    },
    {
     "name": "stdout",
     "output_type": "stream",
     "text": [
      "SumOfWeights for WZG_trileptonmass:  -32.295872271060944\n"
     ]
    },
    {
     "name": "stderr",
     "output_type": "stream",
     "text": [
      "fill ZZ_mllz1 for /eos/user/s/sdeng/WZG_analysis/fake_lepton_template/AR/2018/final/ZGToLLG_01J_5f_TuneCP5_13TeV-amcatnloFXFX-pythia8_2018_0000_Skim.root: 100%|██████████| 48/48 [00:00<00:00, 76029.68it/s]\n"
     ]
    },
    {
     "name": "stdout",
     "output_type": "stream",
     "text": [
      "SumOfWeights for ZZ_mllz1:  75.75373125076294\n"
     ]
    },
    {
     "name": "stderr",
     "output_type": "stream",
     "text": [
      "fill ttZ_dileptonmass for /eos/user/s/sdeng/WZG_analysis/fake_lepton_template/AR/2018/final/ZGToLLG_01J_5f_TuneCP5_13TeV-amcatnloFXFX-pythia8_2018_0000_Skim.root: 100%|██████████| 48/48 [00:00<00:00, 74954.06it/s]\n"
     ]
    },
    {
     "name": "stdout",
     "output_type": "stream",
     "text": [
      "SumOfWeights for ttZ_dileptonmass:  853.4174270629883\n"
     ]
    },
    {
     "name": "stderr",
     "output_type": "stream",
     "text": [
      "fill MET for /eos/user/s/sdeng/WZG_analysis/fake_lepton_template/AR/2018/final/ZGToLLG_01J_5f_TuneCP5_13TeV-amcatnloFXFX-pythia8_2018_0000_Skim.root: 100%|██████████| 48/48 [00:00<00:00, 58712.92it/s]\n"
     ]
    },
    {
     "name": "stdout",
     "output_type": "stream",
     "text": [
      "SumOfWeights for MET:  767.215744972229\n"
     ]
    },
    {
     "name": "stderr",
     "output_type": "stream",
     "text": [
      "fill nJets for /eos/user/s/sdeng/WZG_analysis/fake_lepton_template/AR/2018/final/ZGToLLG_01J_5f_TuneCP5_13TeV-amcatnloFXFX-pythia8_2018_0000_Skim.root: 100%|██████████| 48/48 [00:00<00:00, 74842.60it/s]\n"
     ]
    },
    {
     "name": "stdout",
     "output_type": "stream",
     "text": [
      "SumOfWeights for nJets:  863.8009815216064\n"
     ]
    },
    {
     "name": "stderr",
     "output_type": "stream",
     "text": [
      "fill nbJets for /eos/user/s/sdeng/WZG_analysis/fake_lepton_template/AR/2018/final/ZGToLLG_01J_5f_TuneCP5_13TeV-amcatnloFXFX-pythia8_2018_0000_Skim.root: 100%|██████████| 48/48 [00:00<00:00, 76375.79it/s]\n"
     ]
    },
    {
     "name": "stdout",
     "output_type": "stream",
     "text": [
      "SumOfWeights for nbJets:  872.1170503385365\n",
      "Time cost: 4.12\n",
      "\n",
      "is MC\n"
     ]
    },
    {
     "name": "stderr",
     "output_type": "stream",
     "text": [
      "fill WZG_dileptonmass for /eos/user/s/sdeng/WZG_analysis/fake_lepton_template/AR/2018/final/ZZ_TuneCP5_13TeV-pythia8_2018_0000_Skim.root: 100%|██████████| 19/19 [00:00<00:00, 42075.91it/s]\n"
     ]
    },
    {
     "name": "stdout",
     "output_type": "stream",
     "text": [
      "SumOfWeights for WZG_dileptonmass:  -36.435826659202576\n"
     ]
    },
    {
     "name": "stderr",
     "output_type": "stream",
     "text": [
      "fill WZG_trileptonmass for /eos/user/s/sdeng/WZG_analysis/fake_lepton_template/AR/2018/final/ZZ_TuneCP5_13TeV-pythia8_2018_0000_Skim.root: 100%|██████████| 19/19 [00:00<00:00, 65321.13it/s]\n"
     ]
    },
    {
     "name": "stdout",
     "output_type": "stream",
     "text": [
      "SumOfWeights for WZG_trileptonmass:  -35.846455514431\n"
     ]
    },
    {
     "name": "stderr",
     "output_type": "stream",
     "text": [
      "fill ZZ_mllz1 for /eos/user/s/sdeng/WZG_analysis/fake_lepton_template/AR/2018/final/ZZ_TuneCP5_13TeV-pythia8_2018_0000_Skim.root: 100%|██████████| 19/19 [00:00<00:00, 47492.12it/s]\n"
     ]
    },
    {
     "name": "stdout",
     "output_type": "stream",
     "text": [
      "SumOfWeights for ZZ_mllz1:  70.90950751304626\n"
     ]
    },
    {
     "name": "stderr",
     "output_type": "stream",
     "text": [
      "fill ttZ_dileptonmass for /eos/user/s/sdeng/WZG_analysis/fake_lepton_template/AR/2018/final/ZZ_TuneCP5_13TeV-pythia8_2018_0000_Skim.root: 100%|██████████| 19/19 [00:00<00:00, 20329.53it/s]\n"
     ]
    },
    {
     "name": "stdout",
     "output_type": "stream",
     "text": [
      "SumOfWeights for ttZ_dileptonmass:  848.5732345581055\n"
     ]
    },
    {
     "name": "stderr",
     "output_type": "stream",
     "text": [
      "fill MET for /eos/user/s/sdeng/WZG_analysis/fake_lepton_template/AR/2018/final/ZZ_TuneCP5_13TeV-pythia8_2018_0000_Skim.root: 100%|██████████| 19/19 [00:00<00:00, 26484.47it/s]\n"
     ]
    },
    {
     "name": "stdout",
     "output_type": "stream",
     "text": [
      "SumOfWeights for MET:  762.3715257644653\n"
     ]
    },
    {
     "name": "stderr",
     "output_type": "stream",
     "text": [
      "fill nJets for /eos/user/s/sdeng/WZG_analysis/fake_lepton_template/AR/2018/final/ZZ_TuneCP5_13TeV-pythia8_2018_0000_Skim.root: 100%|██████████| 19/19 [00:00<00:00, 22223.03it/s]\n"
     ]
    },
    {
     "name": "stdout",
     "output_type": "stream",
     "text": [
      "SumOfWeights for nJets:  858.9567470550537\n"
     ]
    },
    {
     "name": "stderr",
     "output_type": "stream",
     "text": [
      "fill nbJets for /eos/user/s/sdeng/WZG_analysis/fake_lepton_template/AR/2018/final/ZZ_TuneCP5_13TeV-pythia8_2018_0000_Skim.root: 100%|██████████| 19/19 [00:00<00:00, 26608.27it/s]\n"
     ]
    },
    {
     "name": "stdout",
     "output_type": "stream",
     "text": [
      "SumOfWeights for nbJets:  867.2729532010853\n",
      "Time cost: 4.20\n",
      "\n",
      "is MC\n"
     ]
    },
    {
     "name": "stderr",
     "output_type": "stream",
     "text": [
      "fill WZG_dileptonmass for /eos/user/s/sdeng/WZG_analysis/fake_lepton_template/AR/2018/final/GluGluToContinToZZTo2e2mu_TuneCP5_13TeV-mcfm701-pythia8_2018_0000_Skim.root: 100%|██████████| 154/154 [00:00<00:00, 58050.04it/s]\n"
     ]
    },
    {
     "name": "stdout",
     "output_type": "stream",
     "text": [
      "SumOfWeights for WZG_dileptonmass:  -36.457833766937256\n"
     ]
    },
    {
     "name": "stderr",
     "output_type": "stream",
     "text": [
      "fill WZG_trileptonmass for /eos/user/s/sdeng/WZG_analysis/fake_lepton_template/AR/2018/final/GluGluToContinToZZTo2e2mu_TuneCP5_13TeV-mcfm701-pythia8_2018_0000_Skim.root: 100%|██████████| 154/154 [00:00<00:00, 61057.08it/s]\n"
     ]
    },
    {
     "name": "stdout",
     "output_type": "stream",
     "text": [
      "SumOfWeights for WZG_trileptonmass:  -35.86889889836311\n"
     ]
    },
    {
     "name": "stderr",
     "output_type": "stream",
     "text": [
      "fill ZZ_mllz1 for /eos/user/s/sdeng/WZG_analysis/fake_lepton_template/AR/2018/final/GluGluToContinToZZTo2e2mu_TuneCP5_13TeV-mcfm701-pythia8_2018_0000_Skim.root: 100%|██████████| 154/154 [00:00<00:00, 62227.63it/s]\n"
     ]
    },
    {
     "name": "stdout",
     "output_type": "stream",
     "text": [
      "SumOfWeights for ZZ_mllz1:  70.8868055343628\n"
     ]
    },
    {
     "name": "stderr",
     "output_type": "stream",
     "text": [
      "fill ttZ_dileptonmass for /eos/user/s/sdeng/WZG_analysis/fake_lepton_template/AR/2018/final/GluGluToContinToZZTo2e2mu_TuneCP5_13TeV-mcfm701-pythia8_2018_0000_Skim.root: 100%|██████████| 154/154 [00:00<00:00, 37782.10it/s]\n"
     ]
    },
    {
     "name": "stdout",
     "output_type": "stream",
     "text": [
      "SumOfWeights for ttZ_dileptonmass:  848.5508117675781\n"
     ]
    },
    {
     "name": "stderr",
     "output_type": "stream",
     "text": [
      "fill MET for /eos/user/s/sdeng/WZG_analysis/fake_lepton_template/AR/2018/final/GluGluToContinToZZTo2e2mu_TuneCP5_13TeV-mcfm701-pythia8_2018_0000_Skim.root: 100%|██████████| 154/154 [00:00<00:00, 41413.27it/s]\n"
     ]
    },
    {
     "name": "stdout",
     "output_type": "stream",
     "text": [
      "SumOfWeights for MET:  762.3488168716431\n"
     ]
    },
    {
     "name": "stderr",
     "output_type": "stream",
     "text": [
      "fill nJets for /eos/user/s/sdeng/WZG_analysis/fake_lepton_template/AR/2018/final/GluGluToContinToZZTo2e2mu_TuneCP5_13TeV-mcfm701-pythia8_2018_0000_Skim.root: 100%|██████████| 154/154 [00:00<00:00, 44796.64it/s]\n"
     ]
    },
    {
     "name": "stdout",
     "output_type": "stream",
     "text": [
      "SumOfWeights for nJets:  858.9344615936279\n"
     ]
    },
    {
     "name": "stderr",
     "output_type": "stream",
     "text": [
      "fill nbJets for /eos/user/s/sdeng/WZG_analysis/fake_lepton_template/AR/2018/final/GluGluToContinToZZTo2e2mu_TuneCP5_13TeV-mcfm701-pythia8_2018_0000_Skim.root: 100%|██████████| 154/154 [00:00<00:00, 47127.01it/s]\n"
     ]
    },
    {
     "name": "stdout",
     "output_type": "stream",
     "text": [
      "SumOfWeights for nbJets:  867.2507707364857\n",
      "Time cost: 7.09\n",
      "\n",
      "is MC\n"
     ]
    },
    {
     "name": "stderr",
     "output_type": "stream",
     "text": [
      "fill WZG_dileptonmass for /eos/user/s/sdeng/WZG_analysis/fake_lepton_template/AR/2018/final/GluGluToContinToZZTo2e2nu_TuneCP5_13TeV-mcfm701-pythia8_2018_0000_Skim.root: 100%|██████████| 1/1 [00:00<00:00, 3855.06it/s]\n"
     ]
    },
    {
     "name": "stdout",
     "output_type": "stream",
     "text": [
      "SumOfWeights for WZG_dileptonmass:  -36.457833766937256\n"
     ]
    },
    {
     "name": "stderr",
     "output_type": "stream",
     "text": [
      "fill WZG_trileptonmass for /eos/user/s/sdeng/WZG_analysis/fake_lepton_template/AR/2018/final/GluGluToContinToZZTo2e2nu_TuneCP5_13TeV-mcfm701-pythia8_2018_0000_Skim.root: 100%|██████████| 1/1 [00:00<00:00, 11335.96it/s]\n"
     ]
    },
    {
     "name": "stdout",
     "output_type": "stream",
     "text": [
      "SumOfWeights for WZG_trileptonmass:  -35.86889889836311\n"
     ]
    },
    {
     "name": "stderr",
     "output_type": "stream",
     "text": [
      "fill ZZ_mllz1 for /eos/user/s/sdeng/WZG_analysis/fake_lepton_template/AR/2018/final/GluGluToContinToZZTo2e2nu_TuneCP5_13TeV-mcfm701-pythia8_2018_0000_Skim.root: 100%|██████████| 1/1 [00:00<00:00, 3271.69it/s]\n"
     ]
    },
    {
     "name": "stdout",
     "output_type": "stream",
     "text": [
      "SumOfWeights for ZZ_mllz1:  70.88672018051147\n"
     ]
    },
    {
     "name": "stderr",
     "output_type": "stream",
     "text": [
      "fill ttZ_dileptonmass for /eos/user/s/sdeng/WZG_analysis/fake_lepton_template/AR/2018/final/GluGluToContinToZZTo2e2nu_TuneCP5_13TeV-mcfm701-pythia8_2018_0000_Skim.root: 100%|██████████| 1/1 [00:00<00:00, 11650.84it/s]\n"
     ]
    },
    {
     "name": "stdout",
     "output_type": "stream",
     "text": [
      "SumOfWeights for ttZ_dileptonmass:  848.5507202148438\n"
     ]
    },
    {
     "name": "stderr",
     "output_type": "stream",
     "text": [
      "fill MET for /eos/user/s/sdeng/WZG_analysis/fake_lepton_template/AR/2018/final/GluGluToContinToZZTo2e2nu_TuneCP5_13TeV-mcfm701-pythia8_2018_0000_Skim.root: 100%|██████████| 1/1 [00:00<00:00, 4821.04it/s]\n"
     ]
    },
    {
     "name": "stdout",
     "output_type": "stream",
     "text": [
      "SumOfWeights for MET:  762.3488168716431\n"
     ]
    },
    {
     "name": "stderr",
     "output_type": "stream",
     "text": [
      "fill nJets for /eos/user/s/sdeng/WZG_analysis/fake_lepton_template/AR/2018/final/GluGluToContinToZZTo2e2nu_TuneCP5_13TeV-mcfm701-pythia8_2018_0000_Skim.root: 100%|██████████| 1/1 [00:00<00:00, 9258.95it/s]\n"
     ]
    },
    {
     "name": "stdout",
     "output_type": "stream",
     "text": [
      "SumOfWeights for nJets:  858.9343700408936\n"
     ]
    },
    {
     "name": "stderr",
     "output_type": "stream",
     "text": [
      "fill nbJets for /eos/user/s/sdeng/WZG_analysis/fake_lepton_template/AR/2018/final/GluGluToContinToZZTo2e2nu_TuneCP5_13TeV-mcfm701-pythia8_2018_0000_Skim.root: 100%|██████████| 1/1 [00:00<00:00, 9822.73it/s]\n"
     ]
    },
    {
     "name": "stdout",
     "output_type": "stream",
     "text": [
      "SumOfWeights for nbJets:  867.2507097013295\n",
      "Time cost: 3.85\n",
      "\n",
      "is MC\n"
     ]
    },
    {
     "name": "stderr",
     "output_type": "stream",
     "text": [
      "fill WZG_dileptonmass for /eos/user/s/sdeng/WZG_analysis/fake_lepton_template/AR/2018/final/GluGluToContinToZZTo2e2tau_TuneCP5_13TeV-mcfm701-pythia8_2018_0000_Skim.root: 100%|██████████| 83/83 [00:00<00:00, 40673.82it/s]\n"
     ]
    },
    {
     "name": "stdout",
     "output_type": "stream",
     "text": [
      "SumOfWeights for WZG_dileptonmass:  -36.46560090780258\n"
     ]
    },
    {
     "name": "stderr",
     "output_type": "stream",
     "text": [
      "fill WZG_trileptonmass for /eos/user/s/sdeng/WZG_analysis/fake_lepton_template/AR/2018/final/GluGluToContinToZZTo2e2tau_TuneCP5_13TeV-mcfm701-pythia8_2018_0000_Skim.root: 100%|██████████| 83/83 [00:00<00:00, 40836.04it/s]\n"
     ]
    },
    {
     "name": "stdout",
     "output_type": "stream",
     "text": [
      "SumOfWeights for WZG_trileptonmass:  -35.87667039036751\n"
     ]
    },
    {
     "name": "stderr",
     "output_type": "stream",
     "text": [
      "fill ZZ_mllz1 for /eos/user/s/sdeng/WZG_analysis/fake_lepton_template/AR/2018/final/GluGluToContinToZZTo2e2tau_TuneCP5_13TeV-mcfm701-pythia8_2018_0000_Skim.root: 100%|██████████| 83/83 [00:00<00:00, 47545.37it/s]\n"
     ]
    },
    {
     "name": "stdout",
     "output_type": "stream",
     "text": [
      "SumOfWeights for ZZ_mllz1:  70.87876343727112\n"
     ]
    },
    {
     "name": "stderr",
     "output_type": "stream",
     "text": [
      "fill ttZ_dileptonmass for /eos/user/s/sdeng/WZG_analysis/fake_lepton_template/AR/2018/final/GluGluToContinToZZTo2e2tau_TuneCP5_13TeV-mcfm701-pythia8_2018_0000_Skim.root: 100%|██████████| 83/83 [00:00<00:00, 49428.83it/s]\n"
     ]
    },
    {
     "name": "stdout",
     "output_type": "stream",
     "text": [
      "SumOfWeights for ttZ_dileptonmass:  848.5426406860352\n"
     ]
    },
    {
     "name": "stderr",
     "output_type": "stream",
     "text": [
      "fill MET for /eos/user/s/sdeng/WZG_analysis/fake_lepton_template/AR/2018/final/GluGluToContinToZZTo2e2tau_TuneCP5_13TeV-mcfm701-pythia8_2018_0000_Skim.root: 100%|██████████| 83/83 [00:00<00:00, 49233.10it/s]\n"
     ]
    },
    {
     "name": "stdout",
     "output_type": "stream",
     "text": [
      "SumOfWeights for MET:  762.3417863845825\n"
     ]
    },
    {
     "name": "stderr",
     "output_type": "stream",
     "text": [
      "fill nJets for /eos/user/s/sdeng/WZG_analysis/fake_lepton_template/AR/2018/final/GluGluToContinToZZTo2e2tau_TuneCP5_13TeV-mcfm701-pythia8_2018_0000_Skim.root: 100%|██████████| 83/83 [00:00<00:00, 50806.66it/s]\n"
     ]
    },
    {
     "name": "stdout",
     "output_type": "stream",
     "text": [
      "SumOfWeights for nJets:  858.9262638092041\n"
     ]
    },
    {
     "name": "stderr",
     "output_type": "stream",
     "text": [
      "fill nbJets for /eos/user/s/sdeng/WZG_analysis/fake_lepton_template/AR/2018/final/GluGluToContinToZZTo2e2tau_TuneCP5_13TeV-mcfm701-pythia8_2018_0000_Skim.root: 100%|██████████| 83/83 [00:00<00:00, 50992.71it/s]\n"
     ]
    },
    {
     "name": "stdout",
     "output_type": "stream",
     "text": [
      "SumOfWeights for nbJets:  867.2426869161427\n",
      "Time cost: 4.03\n",
      "\n",
      "is MC\n"
     ]
    },
    {
     "name": "stderr",
     "output_type": "stream",
     "text": [
      "fill WZG_dileptonmass for /eos/user/s/sdeng/WZG_analysis/fake_lepton_template/AR/2018/final/GluGluToContinToZZTo2mu2nu_TuneCP5_13TeV-mcfm701-pythia8_2018_0000_Skim.root: 100%|██████████| 3/3 [00:00<00:00, 8780.82it/s]\n"
     ]
    },
    {
     "name": "stdout",
     "output_type": "stream",
     "text": [
      "SumOfWeights for WZG_dileptonmass:  -36.46605437994003\n"
     ]
    },
    {
     "name": "stderr",
     "output_type": "stream",
     "text": [
      "fill WZG_trileptonmass for /eos/user/s/sdeng/WZG_analysis/fake_lepton_template/AR/2018/final/GluGluToContinToZZTo2mu2nu_TuneCP5_13TeV-mcfm701-pythia8_2018_0000_Skim.root: 100%|██████████| 3/3 [00:00<00:00, 26944.14it/s]\n"
     ]
    },
    {
     "name": "stdout",
     "output_type": "stream",
     "text": [
      "SumOfWeights for WZG_trileptonmass:  -35.87712386250496\n"
     ]
    },
    {
     "name": "stderr",
     "output_type": "stream",
     "text": [
      "fill ZZ_mllz1 for /eos/user/s/sdeng/WZG_analysis/fake_lepton_template/AR/2018/final/GluGluToContinToZZTo2mu2nu_TuneCP5_13TeV-mcfm701-pythia8_2018_0000_Skim.root: 100%|██████████| 3/3 [00:00<00:00, 21769.74it/s]\n"
     ]
    },
    {
     "name": "stdout",
     "output_type": "stream",
     "text": [
      "SumOfWeights for ZZ_mllz1:  70.87830948829651\n"
     ]
    },
    {
     "name": "stderr",
     "output_type": "stream",
     "text": [
      "fill ttZ_dileptonmass for /eos/user/s/sdeng/WZG_analysis/fake_lepton_template/AR/2018/final/GluGluToContinToZZTo2mu2nu_TuneCP5_13TeV-mcfm701-pythia8_2018_0000_Skim.root: 100%|██████████| 3/3 [00:00<00:00, 21769.74it/s]\n"
     ]
    },
    {
     "name": "stdout",
     "output_type": "stream",
     "text": [
      "SumOfWeights for ttZ_dileptonmass:  848.5421981811523\n"
     ]
    },
    {
     "name": "stderr",
     "output_type": "stream",
     "text": [
      "fill MET for /eos/user/s/sdeng/WZG_analysis/fake_lepton_template/AR/2018/final/GluGluToContinToZZTo2mu2nu_TuneCP5_13TeV-mcfm701-pythia8_2018_0000_Skim.root: 100%|██████████| 3/3 [00:00<00:00, 20360.70it/s]\n"
     ]
    },
    {
     "name": "stdout",
     "output_type": "stream",
     "text": [
      "SumOfWeights for MET:  762.3413686752319\n"
     ]
    },
    {
     "name": "stderr",
     "output_type": "stream",
     "text": [
      "fill nJets for /eos/user/s/sdeng/WZG_analysis/fake_lepton_template/AR/2018/final/GluGluToContinToZZTo2mu2nu_TuneCP5_13TeV-mcfm701-pythia8_2018_0000_Skim.root: 100%|██████████| 3/3 [00:00<00:00, 20560.31it/s]\n"
     ]
    },
    {
     "name": "stdout",
     "output_type": "stream",
     "text": [
      "SumOfWeights for nJets:  858.9258136749268\n"
     ]
    },
    {
     "name": "stderr",
     "output_type": "stream",
     "text": [
      "fill nbJets for /eos/user/s/sdeng/WZG_analysis/fake_lepton_template/AR/2018/final/GluGluToContinToZZTo2mu2nu_TuneCP5_13TeV-mcfm701-pythia8_2018_0000_Skim.root: 100%|██████████| 3/3 [00:00<00:00, 20100.50it/s]\n"
     ]
    },
    {
     "name": "stdout",
     "output_type": "stream",
     "text": [
      "SumOfWeights for nbJets:  867.242259670049\n",
      "Time cost: 3.85\n",
      "\n",
      "is MC\n"
     ]
    },
    {
     "name": "stderr",
     "output_type": "stream",
     "text": [
      "fill WZG_dileptonmass for /eos/user/s/sdeng/WZG_analysis/fake_lepton_template/AR/2018/final/GluGluToContinToZZTo2mu2tau_TuneCP5_13TeV-mcfm701-pythia8_2018_0000_Skim.root: 100%|██████████| 74/74 [00:00<00:00, 39710.66it/s]\n"
     ]
    },
    {
     "name": "stdout",
     "output_type": "stream",
     "text": [
      "SumOfWeights for WZG_dileptonmass:  -36.47721964120865\n"
     ]
    },
    {
     "name": "stderr",
     "output_type": "stream",
     "text": [
      "fill WZG_trileptonmass for /eos/user/s/sdeng/WZG_analysis/fake_lepton_template/AR/2018/final/GluGluToContinToZZTo2mu2tau_TuneCP5_13TeV-mcfm701-pythia8_2018_0000_Skim.root: 100%|██████████| 74/74 [00:00<00:00, 44581.80it/s]\n"
     ]
    },
    {
     "name": "stdout",
     "output_type": "stream",
     "text": [
      "SumOfWeights for WZG_trileptonmass:  -35.88802544772625\n"
     ]
    },
    {
     "name": "stderr",
     "output_type": "stream",
     "text": [
      "fill ZZ_mllz1 for /eos/user/s/sdeng/WZG_analysis/fake_lepton_template/AR/2018/final/GluGluToContinToZZTo2mu2tau_TuneCP5_13TeV-mcfm701-pythia8_2018_0000_Skim.root: 100%|██████████| 74/74 [00:00<00:00, 46666.44it/s]\n"
     ]
    },
    {
     "name": "stdout",
     "output_type": "stream",
     "text": [
      "SumOfWeights for ZZ_mllz1:  70.86557912826538\n"
     ]
    },
    {
     "name": "stderr",
     "output_type": "stream",
     "text": [
      "fill ttZ_dileptonmass for /eos/user/s/sdeng/WZG_analysis/fake_lepton_template/AR/2018/final/GluGluToContinToZZTo2mu2tau_TuneCP5_13TeV-mcfm701-pythia8_2018_0000_Skim.root: 100%|██████████| 74/74 [00:00<00:00, 45630.48it/s]\n"
     ]
    },
    {
     "name": "stdout",
     "output_type": "stream",
     "text": [
      "SumOfWeights for ttZ_dileptonmass:  848.5290222167969\n"
     ]
    },
    {
     "name": "stderr",
     "output_type": "stream",
     "text": [
      "fill MET for /eos/user/s/sdeng/WZG_analysis/fake_lepton_template/AR/2018/final/GluGluToContinToZZTo2mu2tau_TuneCP5_13TeV-mcfm701-pythia8_2018_0000_Skim.root: 100%|██████████| 74/74 [00:00<00:00, 49297.73it/s]\n"
     ]
    },
    {
     "name": "stdout",
     "output_type": "stream",
     "text": [
      "SumOfWeights for MET:  762.3307876586914\n"
     ]
    },
    {
     "name": "stderr",
     "output_type": "stream",
     "text": [
      "fill nJets for /eos/user/s/sdeng/WZG_analysis/fake_lepton_template/AR/2018/final/GluGluToContinToZZTo2mu2tau_TuneCP5_13TeV-mcfm701-pythia8_2018_0000_Skim.root: 100%|██████████| 74/74 [00:00<00:00, 47027.04it/s]\n"
     ]
    },
    {
     "name": "stdout",
     "output_type": "stream",
     "text": [
      "SumOfWeights for nJets:  858.91286277771\n"
     ]
    },
    {
     "name": "stderr",
     "output_type": "stream",
     "text": [
      "fill nbJets for /eos/user/s/sdeng/WZG_analysis/fake_lepton_template/AR/2018/final/GluGluToContinToZZTo2mu2tau_TuneCP5_13TeV-mcfm701-pythia8_2018_0000_Skim.root: 100%|██████████| 74/74 [00:00<00:00, 50723.73it/s]\n"
     ]
    },
    {
     "name": "stdout",
     "output_type": "stream",
     "text": [
      "SumOfWeights for nbJets:  867.2298313863575\n",
      "Time cost: 3.93\n",
      "\n",
      "is MC\n"
     ]
    },
    {
     "name": "stderr",
     "output_type": "stream",
     "text": [
      "fill WZG_dileptonmass for /eos/user/s/sdeng/WZG_analysis/fake_lepton_template/AR/2018/final/GluGluToContinToZZTo4e_TuneCP5_13TeV-mcfm701-pythia8_2018_0000_Skim.root: 100%|██████████| 349/349 [00:00<00:00, 59545.71it/s]\n"
     ]
    },
    {
     "name": "stdout",
     "output_type": "stream",
     "text": [
      "SumOfWeights for WZG_dileptonmass:  -36.48533970117569\n"
     ]
    },
    {
     "name": "stderr",
     "output_type": "stream",
     "text": [
      "fill WZG_trileptonmass for /eos/user/s/sdeng/WZG_analysis/fake_lepton_template/AR/2018/final/GluGluToContinToZZTo4e_TuneCP5_13TeV-mcfm701-pythia8_2018_0000_Skim.root: 100%|██████████| 349/349 [00:00<00:00, 61491.79it/s]\n"
     ]
    },
    {
     "name": "stdout",
     "output_type": "stream",
     "text": [
      "SumOfWeights for WZG_trileptonmass:  -35.8961538374424\n"
     ]
    },
    {
     "name": "stderr",
     "output_type": "stream",
     "text": [
      "fill ZZ_mllz1 for /eos/user/s/sdeng/WZG_analysis/fake_lepton_template/AR/2018/final/GluGluToContinToZZTo4e_TuneCP5_13TeV-mcfm701-pythia8_2018_0000_Skim.root: 100%|██████████| 349/349 [00:00<00:00, 62311.09it/s]\n"
     ]
    },
    {
     "name": "stdout",
     "output_type": "stream",
     "text": [
      "SumOfWeights for ZZ_mllz1:  70.85731101036072\n"
     ]
    },
    {
     "name": "stderr",
     "output_type": "stream",
     "text": [
      "fill ttZ_dileptonmass for /eos/user/s/sdeng/WZG_analysis/fake_lepton_template/AR/2018/final/GluGluToContinToZZTo4e_TuneCP5_13TeV-mcfm701-pythia8_2018_0000_Skim.root: 100%|██████████| 349/349 [00:00<00:00, 61738.17it/s]\n"
     ]
    },
    {
     "name": "stdout",
     "output_type": "stream",
     "text": [
      "SumOfWeights for ttZ_dileptonmass:  848.5201644897461\n"
     ]
    },
    {
     "name": "stderr",
     "output_type": "stream",
     "text": [
      "fill MET for /eos/user/s/sdeng/WZG_analysis/fake_lepton_template/AR/2018/final/GluGluToContinToZZTo4e_TuneCP5_13TeV-mcfm701-pythia8_2018_0000_Skim.root: 100%|██████████| 349/349 [00:00<00:00, 61404.09it/s]\n"
     ]
    },
    {
     "name": "stdout",
     "output_type": "stream",
     "text": [
      "SumOfWeights for MET:  762.3224973678589\n"
     ]
    },
    {
     "name": "stderr",
     "output_type": "stream",
     "text": [
      "fill nJets for /eos/user/s/sdeng/WZG_analysis/fake_lepton_template/AR/2018/final/GluGluToContinToZZTo4e_TuneCP5_13TeV-mcfm701-pythia8_2018_0000_Skim.root: 100%|██████████| 349/349 [00:00<00:00, 60590.76it/s]\n"
     ]
    },
    {
     "name": "stdout",
     "output_type": "stream",
     "text": [
      "SumOfWeights for nJets:  858.9046974182129\n"
     ]
    },
    {
     "name": "stderr",
     "output_type": "stream",
     "text": [
      "fill nbJets for /eos/user/s/sdeng/WZG_analysis/fake_lepton_template/AR/2018/final/GluGluToContinToZZTo4e_TuneCP5_13TeV-mcfm701-pythia8_2018_0000_Skim.root: 100%|██████████| 349/349 [00:00<00:00, 44682.91it/s]\n"
     ]
    },
    {
     "name": "stdout",
     "output_type": "stream",
     "text": [
      "SumOfWeights for nbJets:  867.225658107549\n",
      "Time cost: 11.50\n",
      "\n",
      "is MC\n"
     ]
    },
    {
     "name": "stderr",
     "output_type": "stream",
     "text": [
      "fill WZG_dileptonmass for /eos/user/s/sdeng/WZG_analysis/fake_lepton_template/AR/2018/final/GluGluToContinToZZTo4mu_TuneCP5_13TeV-mcfm701-pythia8_2018_0000_Skim.root: 100%|██████████| 169/169 [00:00<00:00, 53655.09it/s]\n"
     ]
    },
    {
     "name": "stdout",
     "output_type": "stream",
     "text": [
      "SumOfWeights for WZG_dileptonmass:  -36.49476099014282\n"
     ]
    },
    {
     "name": "stderr",
     "output_type": "stream",
     "text": [
      "fill WZG_trileptonmass for /eos/user/s/sdeng/WZG_analysis/fake_lepton_template/AR/2018/final/GluGluToContinToZZTo4mu_TuneCP5_13TeV-mcfm701-pythia8_2018_0000_Skim.root: 100%|██████████| 169/169 [00:00<00:00, 56216.78it/s]\n"
     ]
    },
    {
     "name": "stdout",
     "output_type": "stream",
     "text": [
      "SumOfWeights for WZG_trileptonmass:  -35.90555764734745\n"
     ]
    },
    {
     "name": "stderr",
     "output_type": "stream",
     "text": [
      "fill ZZ_mllz1 for /eos/user/s/sdeng/WZG_analysis/fake_lepton_template/AR/2018/final/GluGluToContinToZZTo4mu_TuneCP5_13TeV-mcfm701-pythia8_2018_0000_Skim.root: 100%|██████████| 169/169 [00:00<00:00, 56127.75it/s]\n"
     ]
    },
    {
     "name": "stdout",
     "output_type": "stream",
     "text": [
      "SumOfWeights for ZZ_mllz1:  70.84771704673767\n"
     ]
    },
    {
     "name": "stderr",
     "output_type": "stream",
     "text": [
      "fill ttZ_dileptonmass for /eos/user/s/sdeng/WZG_analysis/fake_lepton_template/AR/2018/final/GluGluToContinToZZTo4mu_TuneCP5_13TeV-mcfm701-pythia8_2018_0000_Skim.root: 100%|██████████| 169/169 [00:00<00:00, 57423.64it/s]\n"
     ]
    },
    {
     "name": "stdout",
     "output_type": "stream",
     "text": [
      "SumOfWeights for ttZ_dileptonmass:  848.5108261108398\n"
     ]
    },
    {
     "name": "stderr",
     "output_type": "stream",
     "text": [
      "fill MET for /eos/user/s/sdeng/WZG_analysis/fake_lepton_template/AR/2018/final/GluGluToContinToZZTo4mu_TuneCP5_13TeV-mcfm701-pythia8_2018_0000_Skim.root: 100%|██████████| 169/169 [00:00<00:00, 56043.44it/s]\n"
     ]
    },
    {
     "name": "stdout",
     "output_type": "stream",
     "text": [
      "SumOfWeights for MET:  762.3129968643188\n"
     ]
    },
    {
     "name": "stderr",
     "output_type": "stream",
     "text": [
      "fill nJets for /eos/user/s/sdeng/WZG_analysis/fake_lepton_template/AR/2018/final/GluGluToContinToZZTo4mu_TuneCP5_13TeV-mcfm701-pythia8_2018_0000_Skim.root: 100%|██████████| 169/169 [00:00<00:00, 55529.76it/s]\n"
     ]
    },
    {
     "name": "stdout",
     "output_type": "stream",
     "text": [
      "SumOfWeights for nJets:  858.8953151702881\n"
     ]
    },
    {
     "name": "stderr",
     "output_type": "stream",
     "text": [
      "fill nbJets for /eos/user/s/sdeng/WZG_analysis/fake_lepton_template/AR/2018/final/GluGluToContinToZZTo4mu_TuneCP5_13TeV-mcfm701-pythia8_2018_0000_Skim.root: 100%|██████████| 169/169 [00:00<00:00, 55555.87it/s]\n"
     ]
    },
    {
     "name": "stdout",
     "output_type": "stream",
     "text": [
      "SumOfWeights for nbJets:  867.2152473218739\n",
      "Time cost: 9.24\n",
      "\n",
      "is MC\n"
     ]
    },
    {
     "name": "stderr",
     "output_type": "stream",
     "text": [
      "fill WZG_dileptonmass for /eos/user/s/sdeng/WZG_analysis/fake_lepton_template/AR/2018/final/GluGluToContinToZZTo4tau_TuneCP5_13TeV-mcfm701-pythia8_2018_0000_Skim.root: 100%|██████████| 1/1 [00:00<00:00, 4723.32it/s]\n"
     ]
    },
    {
     "name": "stdout",
     "output_type": "stream",
     "text": [
      "SumOfWeights for WZG_dileptonmass:  -36.49481225013733\n"
     ]
    },
    {
     "name": "stderr",
     "output_type": "stream",
     "text": [
      "fill WZG_trileptonmass for /eos/user/s/sdeng/WZG_analysis/fake_lepton_template/AR/2018/final/GluGluToContinToZZTo4tau_TuneCP5_13TeV-mcfm701-pythia8_2018_0000_Skim.root: 100%|██████████| 1/1 [00:00<00:00, 12228.29it/s]\n"
     ]
    },
    {
     "name": "stdout",
     "output_type": "stream",
     "text": [
      "SumOfWeights for WZG_trileptonmass:  -35.90560890734196\n"
     ]
    },
    {
     "name": "stderr",
     "output_type": "stream",
     "text": [
      "fill ZZ_mllz1 for /eos/user/s/sdeng/WZG_analysis/fake_lepton_template/AR/2018/final/GluGluToContinToZZTo4tau_TuneCP5_13TeV-mcfm701-pythia8_2018_0000_Skim.root: 100%|██████████| 1/1 [00:00<00:00, 11459.85it/s]\n"
     ]
    },
    {
     "name": "stdout",
     "output_type": "stream",
     "text": [
      "SumOfWeights for ZZ_mllz1:  70.84771704673767\n"
     ]
    },
    {
     "name": "stderr",
     "output_type": "stream",
     "text": [
      "fill ttZ_dileptonmass for /eos/user/s/sdeng/WZG_analysis/fake_lepton_template/AR/2018/final/GluGluToContinToZZTo4tau_TuneCP5_13TeV-mcfm701-pythia8_2018_0000_Skim.root: 100%|██████████| 1/1 [00:00<00:00, 9218.25it/s]\n"
     ]
    },
    {
     "name": "stdout",
     "output_type": "stream",
     "text": [
      "SumOfWeights for ttZ_dileptonmass:  848.5107803344727\n"
     ]
    },
    {
     "name": "stderr",
     "output_type": "stream",
     "text": [
      "fill MET for /eos/user/s/sdeng/WZG_analysis/fake_lepton_template/AR/2018/final/GluGluToContinToZZTo4tau_TuneCP5_13TeV-mcfm701-pythia8_2018_0000_Skim.root: 100%|██████████| 1/1 [00:00<00:00, 12300.01it/s]\n"
     ]
    },
    {
     "name": "stdout",
     "output_type": "stream",
     "text": [
      "SumOfWeights for MET:  762.3129434585571\n"
     ]
    },
    {
     "name": "stderr",
     "output_type": "stream",
     "text": [
      "fill nJets for /eos/user/s/sdeng/WZG_analysis/fake_lepton_template/AR/2018/final/GluGluToContinToZZTo4tau_TuneCP5_13TeV-mcfm701-pythia8_2018_0000_Skim.root: 100%|██████████| 1/1 [00:00<00:00, 9554.22it/s]\n"
     ]
    },
    {
     "name": "stdout",
     "output_type": "stream",
     "text": [
      "SumOfWeights for nJets:  858.8952693939209\n"
     ]
    },
    {
     "name": "stderr",
     "output_type": "stream",
     "text": [
      "fill nbJets for /eos/user/s/sdeng/WZG_analysis/fake_lepton_template/AR/2018/final/GluGluToContinToZZTo4tau_TuneCP5_13TeV-mcfm701-pythia8_2018_0000_Skim.root: 100%|██████████| 1/1 [00:00<00:00, 8507.72it/s]\n"
     ]
    },
    {
     "name": "stdout",
     "output_type": "stream",
     "text": [
      "SumOfWeights for nbJets:  867.2151862867177\n",
      "Time cost: 4.17\n",
      "\n",
      "is MC\n"
     ]
    },
    {
     "name": "stderr",
     "output_type": "stream",
     "text": [
      "fill WZG_dileptonmass for /eos/user/s/sdeng/WZG_analysis/fake_lepton_template/AR/2018/final/wza_UL18_sum_Skim_Skim.root: 100%|██████████| 14/14 [00:00<00:00, 39436.03it/s]\n"
     ]
    },
    {
     "name": "stdout",
     "output_type": "stream",
     "text": [
      "SumOfWeights for WZG_dileptonmass:  -36.579629361629486\n"
     ]
    },
    {
     "name": "stderr",
     "output_type": "stream",
     "text": [
      "fill WZG_trileptonmass for /eos/user/s/sdeng/WZG_analysis/fake_lepton_template/AR/2018/final/wza_UL18_sum_Skim_Skim.root: 100%|██████████| 14/14 [00:00<00:00, 56516.13it/s]\n"
     ]
    },
    {
     "name": "stdout",
     "output_type": "stream",
     "text": [
      "SumOfWeights for WZG_trileptonmass:  -35.984256356954575\n"
     ]
    },
    {
     "name": "stderr",
     "output_type": "stream",
     "text": [
      "fill ZZ_mllz1 for /eos/user/s/sdeng/WZG_analysis/fake_lepton_template/AR/2018/final/wza_UL18_sum_Skim_Skim.root: 100%|██████████| 14/14 [00:00<00:00, 32317.15it/s]\n"
     ]
    },
    {
     "name": "stdout",
     "output_type": "stream",
     "text": [
      "SumOfWeights for ZZ_mllz1:  70.7629005908966\n"
     ]
    },
    {
     "name": "stderr",
     "output_type": "stream",
     "text": [
      "fill ttZ_dileptonmass for /eos/user/s/sdeng/WZG_analysis/fake_lepton_template/AR/2018/final/wza_UL18_sum_Skim_Skim.root: 100%|██████████| 14/14 [00:00<00:00, 52288.74it/s]\n"
     ]
    },
    {
     "name": "stdout",
     "output_type": "stream",
     "text": [
      "SumOfWeights for ttZ_dileptonmass:  848.4259719848633\n"
     ]
    },
    {
     "name": "stderr",
     "output_type": "stream",
     "text": [
      "fill MET for /eos/user/s/sdeng/WZG_analysis/fake_lepton_template/AR/2018/final/wza_UL18_sum_Skim_Skim.root: 100%|██████████| 14/14 [00:00<00:00, 52288.74it/s]\n"
     ]
    },
    {
     "name": "stdout",
     "output_type": "stream",
     "text": [
      "SumOfWeights for MET:  762.2370529174805\n"
     ]
    },
    {
     "name": "stderr",
     "output_type": "stream",
     "text": [
      "fill nJets for /eos/user/s/sdeng/WZG_analysis/fake_lepton_template/AR/2018/final/wza_UL18_sum_Skim_Skim.root: 100%|██████████| 14/14 [00:00<00:00, 52853.52it/s]\n"
     ]
    },
    {
     "name": "stdout",
     "output_type": "stream",
     "text": [
      "SumOfWeights for nJets:  858.810453414917\n"
     ]
    },
    {
     "name": "stderr",
     "output_type": "stream",
     "text": [
      "fill nbJets for /eos/user/s/sdeng/WZG_analysis/fake_lepton_template/AR/2018/final/wza_UL18_sum_Skim_Skim.root: 100%|██████████| 14/14 [00:00<00:00, 44927.51it/s]"
     ]
    },
    {
     "name": "stdout",
     "output_type": "stream",
     "text": [
      "SumOfWeights for nbJets:  867.1303474195302\n",
      "Time cost: 4.26\n",
      "\n"
     ]
    },
    {
     "name": "stderr",
     "output_type": "stream",
     "text": [
      "\n"
     ]
    }
   ],
   "source": [
    "for file in filelist_MC_FakeLep:\n",
    "    AddHist_FakeLepton(filelist_MC_FakeLep[file][\"path\"], hist_FakeLep, 0, filelist_MC_FakeLep[file][\"xsec\"], lumi, channel, branch)"
   ]
  },
  {
   "cell_type": "markdown",
   "id": "3f797b6a",
   "metadata": {},
   "source": [
    "## Add FakePhoton (not yet)"
   ]
  },
  {
   "cell_type": "code",
   "execution_count": 13,
   "id": "23a43321",
   "metadata": {},
   "outputs": [
    {
     "data": {
      "text/plain": [
       "{'WZG_dileptonmass': <cppyy.gbl.TH1F object at 0xa28b140>,\n",
       " 'WZG_trileptonmass': <cppyy.gbl.TH1F object at 0x768d5f0>,\n",
       " 'ZZ_mllz1': <cppyy.gbl.TH1F object at 0xa2915d0>,\n",
       " 'ttZ_dileptonmass': <cppyy.gbl.TH1F object at 0xa289a40>,\n",
       " 'MET': <cppyy.gbl.TH1F object at 0x8f7f2e0>,\n",
       " 'nJets': <cppyy.gbl.TH1F object at 0x9353ba0>,\n",
       " 'nbJets': <cppyy.gbl.TH1F object at 0xa2905c0>}"
      ]
     },
     "execution_count": 13,
     "metadata": {},
     "output_type": "execute_result"
    }
   ],
   "source": [
    "filelist_MC[\"WZG\"][\"hist\"]"
   ]
  },
  {
   "cell_type": "code",
   "execution_count": 14,
   "id": "8b9eff3e",
   "metadata": {},
   "outputs": [],
   "source": [
    "def AddHist_FakePhoton(file, hist, isData, xsec, lumi, channel, branch):\n",
    "    \n",
    "    init_time = time.time()\n",
    "    init_branches = ['WZG_photon_genPartFlav','WZG_photon_pt','WZG_photon_pfRelIso03_chg','fake_photon_weight','channel_mark','HLT_Ele23_Ele12_CaloIdL_TrackIdL_IsoVL','HLT_Mu23_TrkIsoVVL_Ele12_CaloIdL_TrackIdL_IsoVL','HLT_Mu8_TrkIsoVVL_Ele23_CaloIdL_TrackIdL_IsoVL_DZ','HLT_Mu17_TrkIsoVVL_Mu8_TrkIsoVVL_DZ_Mass3p8','HLT_Ele32_WPTight_Gsf','HLT_IsoMu24']\n",
    "    \n",
    "    if isData:\n",
    "        print('is Data')\n",
    "        for branch_name in branch:\n",
    "            if branch[branch_name][\"name\"] not in init_branches:\n",
    "                init_branches.append(branch[branch_name][\"name\"])\n",
    "    else:\n",
    "        print('is MC')\n",
    "        add_branches = ['Generator_weight']\n",
    "        gen_branches = uproot.open(file+':Events').keys(filter_name='*_lepton*genPartFlav')\n",
    "        true_events = uproot.open(file)['nEventsGenWeighted'].values()[0]\n",
    "        init_branches.extend(add_branches)\n",
    "        init_branches.extend(gen_branches)\n",
    "        for branch_name in branch:\n",
    "            if branch[branch_name][\"name\"] not in init_branches:\n",
    "                init_branches.append(branch[branch_name][\"name\"])\n",
    "        \n",
    "    branches = uproot.open(file+':Events').arrays(init_branches, library='pd')\n",
    "    \n",
    "    HLT_SingleMuon = branches.loc[:,'HLT_IsoMu24'] == True\n",
    "    HLT_DoubleMuon = branches.loc[:,'HLT_Mu17_TrkIsoVVL_Mu8_TrkIsoVVL_DZ_Mass3p8'] == True\n",
    "    HLT_EGamma = branches.loc[:,'HLT_Ele32_WPTight_Gsf'] == True\n",
    "    HLT_DoubleEG = branches.loc[:,'HLT_Ele23_Ele12_CaloIdL_TrackIdL_IsoVL'] == True\n",
    "    HLT_MuonEG1 = branches.loc[:,'HLT_Mu8_TrkIsoVVL_Ele23_CaloIdL_TrackIdL_IsoVL_DZ'] == True\n",
    "    HLT_MuonEG2 = branches.loc[:,'HLT_Mu23_TrkIsoVVL_Ele12_CaloIdL_TrackIdL_IsoVL'] == True\n",
    "    if 'SingleMuon' in file:\n",
    "        arrays = branches.loc[HLT_SingleMuon, :].copy()\n",
    "    elif 'DoubleMuon' in file:\n",
    "        arrays = branches.loc[~HLT_SingleMuon & HLT_DoubleMuon, :].copy()\n",
    "#         2018 is special\n",
    "    elif 'EGamma' in file:\n",
    "        arrays = branches.loc[~HLT_SingleMuon & ~HLT_DoubleMuon &   (HLT_EGamma | HLT_DoubleEG) ,:].copy()\n",
    "    elif 'MuonEG' in file:\n",
    "        arrays = branches.loc[~HLT_SingleMuon & ~HLT_DoubleMuon &  ~(HLT_EGamma | HLT_DoubleEG) & (HLT_MuonEG1 | HLT_MuonEG2),:].copy()\n",
    "    else:\n",
    "        arrays = branches.loc[HLT_SingleMuon | HLT_DoubleMuon |  HLT_EGamma | HLT_DoubleEG | HLT_MuonEG1 | HLT_MuonEG2,:].copy()\n",
    "    \n",
    "    if channel == 0: \n",
    "        channel_cut = (arrays.loc[:,'channel_mark'] >= 1) & (arrays.loc[:,'channel_mark'] <= 4)\n",
    "    elif channel == 10:\n",
    "        channel_cut = (arrays.loc[:,'channel_mark'] >= 11) & (arrays.loc[:,'channel_mark'] <= 14)\n",
    "    elif channel == 9:\n",
    "        channel_cut = (arrays.loc[:,'channel_mark'] >= 5) & (arrays.loc[:,'channel_mark'] <= 8)\n",
    "    else:\n",
    "        channel_cut = arrays.loc[:,'channel_mark'] == channel\n",
    "    \n",
    "    chg_cut = ((arrays.loc[:,\"WZG_photon_pfRelIso03_chg\"]*arrays.loc[:,\"WZG_photon_pt\"]) > 4) & ((arrays.loc[:,\"WZG_photon_pfRelIso03_chg\"]*arrays.loc[:,\"WZG_photon_pt\"]) < 10)\n",
    "    if isData:\n",
    "        arrays = arrays.loc[channel_cut & chg_cut,:]\n",
    "    else:\n",
    "        lep_gen_cut_WZG = (arrays.loc[:,'WZG_lepton1_genPartFlav'] > 0) & (arrays.loc[:,'WZG_lepton2_genPartFlav'] > 0) & (arrays.loc[:,'WZG_lepton3_genPartFlav'] > 0)\n",
    "        lep_pho_cut_WZG = (arrays.loc[:,'WZG_photon_genPartFlav'] > 0)\n",
    "        gen_cut_map = {\n",
    "                        0:lep_gen_cut_WZG, \n",
    "                        1:lep_gen_cut_WZG,\n",
    "                        2:lep_gen_cut_WZG,\n",
    "                        3:lep_gen_cut_WZG,\n",
    "                        4:lep_gen_cut_WZG,\n",
    "        }\n",
    "        lep_gen_cut = gen_cut_map[channel]\n",
    "        arrays = arrays.loc[channel_cut & chg_cut & lep_gen_cut & lep_pho_cut_WZG,:]\n",
    "    \n",
    "    if isData:\n",
    "        for branch_name in branch:\n",
    "            for i in trange(0, len(arrays[branch[branch_name][\"name\"]]), desc=f'fill {branch[branch_name][\"name\"]} for {file}'):\n",
    "                hist[branch_name].Fill(float(arrays[branch[branch_name][\"name\"]].values[i]), float(arrays['fake_photon_weight'].values[i]))\n",
    "            print (f\"SumOfWeights for {branch_name}: \", hist[branch_name].GetSumOfWeights())\n",
    "    else:\n",
    "        arrays['Generator_weight_sgn'] = arrays['Generator_weight'].apply(lambda x: 1 if x >= 0 else -1)\n",
    "        arrays['true_weight'] = lumi * xsec * 1000 * arrays['Generator_weight_sgn'] / true_events\n",
    "        for branch_name in branch:\n",
    "            for i in trange(0, len(arrays[branch[branch_name][\"name\"]]), desc=f'fill {branch[branch_name][\"name\"]} for {file}'):\n",
    "                hist[branch_name].Fill(float(arrays[branch[branch_name][\"name\"]].values[i]), -1 * float(arrays['fake_photon_weight'].values[i]) * float(arrays['true_weight'].values[i]))\n",
    "            print (f\"SumOfWeights for {branch_name}: \", hist[branch_name].GetSumOfWeights())\n",
    "    \n",
    "    end_time = time.time()\n",
    "    print ('Time cost: %.2f\\n' %(end_time-init_time))"
   ]
  },
  {
   "cell_type": "code",
   "execution_count": 15,
   "id": "a17b2b0b",
   "metadata": {},
   "outputs": [],
   "source": [
    "filelist_data_FakePho= [\n",
    "    \"/eos/user/s/sdeng/WZG_analysis/fake_photon_template/AR/2018/final/SingleMuon_Run2018A_0000_Skim.root\",\n",
    "    \"/eos/user/s/sdeng/WZG_analysis/fake_photon_template/AR/2018/final/SingleMuon_Run2018B_0000_Skim.root\",\n",
    "    \"/eos/user/s/sdeng/WZG_analysis/fake_photon_template/AR/2018/final/SingleMuon_Run2018C_0000_Skim.root\",\n",
    "    \"/eos/user/s/sdeng/WZG_analysis/fake_photon_template/AR/2018/final/SingleMuon_Run2018D_0000_Skim.root\",\n",
    "    \"/eos/user/s/sdeng/WZG_analysis/fake_photon_template/AR/2018/final/SingleMuon_Run2018D_0001_Skim.root\",\n",
    "    \"/eos/user/s/sdeng/WZG_analysis/fake_photon_template/AR/2018/final/DoubleMuon_Run2018A_0000_Skim.root\",\n",
    "    \"/eos/user/s/sdeng/WZG_analysis/fake_photon_template/AR/2018/final/DoubleMuon_Run2018B_0000_Skim.root\",\n",
    "    \"/eos/user/s/sdeng/WZG_analysis/fake_photon_template/AR/2018/final/DoubleMuon_Run2018C_0000_Skim.root\",\n",
    "    \"/eos/user/s/sdeng/WZG_analysis/fake_photon_template/AR/2018/final/DoubleMuon_Run2018D_0000_Skim.root\",\n",
    "    \"/eos/user/s/sdeng/WZG_analysis/fake_photon_template/AR/2018/final/DoubleMuon_Run2018D_0001_Skim.root\",\n",
    "    \"/eos/user/s/sdeng/WZG_analysis/fake_photon_template/AR/2018/final/EGamma_Run2018A_0000_Skim.root\",\n",
    "    \"/eos/user/s/sdeng/WZG_analysis/fake_photon_template/AR/2018/final/EGamma_Run2018B_0000_Skim.root\",\n",
    "    \"/eos/user/s/sdeng/WZG_analysis/fake_photon_template/AR/2018/final/EGamma_Run2018C_0000_Skim.root\",\n",
    "    \"/eos/user/s/sdeng/WZG_analysis/fake_photon_template/AR/2018/final/EGamma_Run2018D_0000_Skim.root\",\n",
    "    \"/eos/user/s/sdeng/WZG_analysis/fake_photon_template/AR/2018/final/EGamma_Run2018D_0001_Skim.root\",\n",
    "    \"/eos/user/s/sdeng/WZG_analysis/fake_photon_template/AR/2018/final/MuonEG_Run2018A_0000_Skim.root\",\n",
    "    \"/eos/user/s/sdeng/WZG_analysis/fake_photon_template/AR/2018/final/MuonEG_Run2018B_0000_Skim.root\",\n",
    "    \"/eos/user/s/sdeng/WZG_analysis/fake_photon_template/AR/2018/final/MuonEG_Run2018C_0000_Skim.root\",\n",
    "    \"/eos/user/s/sdeng/WZG_analysis/fake_photon_template/AR/2018/final/MuonEG_Run2018D_0000_Skim.root\",\n",
    "]\n",
    "\n",
    "hist_FakePho= {}\n",
    "\n",
    "for branch_name in branch:\n",
    "    hist_FakePho_temp = ROOT.TH1F(\"\", \"\", branch[branch_name][\"xbins\"], branch[branch_name][\"xleft\"], branch[branch_name][\"xright\"])\n",
    "    hist_FakePho_temp.SetXTitle(f'{branch[branch_name][\"axis_name\"]}')\n",
    "    hist_FakePho_temp.SetYTitle(f'events / bin')\n",
    "    hist_FakePho_temp.SetFillColor(30) \n",
    "    hist_FakePho_temp.SetMarkerStyle(20)\n",
    "    hist_FakePho_temp.SetMarkerColor(30)\n",
    "    hist_FakePho_temp.SetStats(0)\n",
    "    hist_FakePho_temp.Sumw2()\n",
    "    hist_FakePho[branch_name] = hist_FakePho_temp"
   ]
  },
  {
   "cell_type": "code",
   "execution_count": 16,
   "id": "1fb9466b",
   "metadata": {},
   "outputs": [],
   "source": [
    "if channel in [0,1,2,3,4]:\n",
    "    for file in filelist_data_FakePho:\n",
    "        AddHist_FakePhoton(file, hist_FakePho, 1, 0, 0, channel, branch)\n",
    "else:\n",
    "    pass"
   ]
  },
  {
   "cell_type": "code",
   "execution_count": 17,
   "id": "0847fdfa",
   "metadata": {},
   "outputs": [],
   "source": [
    "filelist_MC_FakePho = {\n",
    "   \"TTG\":\n",
    "        {\"name\":\"TTGJets\", \n",
    "        \"path\":\"/eos/user/s/sdeng/WZG_analysis/fake_photon_template/AR/2018/final/TTGJets_TuneCP5_13TeV-amcatnloFXFX-madspin-pythia8_2018_0000_Skim.root\", \n",
    "        \"xsec\":3.697,\n",
    "        \"color\":3},\n",
    "   \"TTZ\":\n",
    "        {\"name\":\"TTZToLLNuNu\", \n",
    "        \"path\":\"/eos/user/s/sdeng/WZG_analysis/fake_photon_template/AR/2018/final/TTZToLLNuNu_M-10_TuneCP5_13TeV-amcatnlo-pythia8_2018_0000_Skim.root\", \n",
    "        \"xsec\":0.2529,\n",
    "        \"color\":4},\n",
    "   \"TTW\":\n",
    "        {\"name\":\"TTWJetsToLNu\", \n",
    "        \"path\":\"/eos/user/s/sdeng/WZG_analysis/fake_photon_template/AR/2018/final/TTWJetsToLNu_TuneCP5_13TeV-amcatnloFXFX-madspin-pythia8_2018_0000_Skim.root\", \n",
    "        \"xsec\":0.2043,\n",
    "        \"color\":5},\n",
    "   \"tZq\":\n",
    "        {\"name\":\"tZq_ll\", \n",
    "        \"path\":\"/eos/user/s/sdeng/WZG_analysis/fake_photon_template/AR/2018/final/tZq_ll_4f_ckm_NLO_TuneCP5_13TeV-amcatnlo-pythia8_2018_0000_Skim.root\", \n",
    "        \"xsec\":0.0758,\n",
    "        \"color\":6},\n",
    "   \"WWW\":\n",
    "        {\"name\":\"WWW\", \n",
    "        \"path\":\"/eos/user/s/sdeng/WZG_analysis/fake_photon_template/AR/2018/final/WWW_4F_TuneCP5_13TeV-amcatnlo-pythia8_2018_0000_Skim.root\", \n",
    "        \"xsec\":0.2086,\n",
    "        \"color\":7},\n",
    "#    \"WZ\":\n",
    "#         {\"name\":\"WZ\", \n",
    "#         \"path\":\"/eos/user/s/sdeng/WZG_analysis/fake_photon_template/AR/2018/final/WZ_TuneCP5_13TeV-pythia8_2018_0000_Skim.root\", \n",
    "#         \"xsec\":47.13,\n",
    "#         \"color\":8},\n",
    "   \"ZGToLLG\":\n",
    "        {\"name\":\"ZGToLLG\",\n",
    "        \"path\":\"/eos/user/s/sdeng/WZG_analysis/fake_photon_template/AR/2018/final/ZGToLLG_01J_5f_TuneCP5_13TeV-amcatnloFXFX-pythia8_2018_0000_Skim.root\", \n",
    "        \"xsec\":55.48,\n",
    "        \"color\":9},\n",
    "    \"qqZZ\":\n",
    "        {\"name\":\"qqZZ\",\n",
    "        \"path\":\"/eos/user/s/sdeng/WZG_analysis/fake_photon_template/AR/2018/final/ZZ_TuneCP5_13TeV-pythia8_2018_0000_Skim.root\", \n",
    "        \"xsec\":16.523,\n",
    "        \"color\":12},\n",
    "#     \"ggZZ_2e2mu\":\n",
    "#         {\"name\":\"ggZZ\",\n",
    "#         \"path\":\"/eos/user/s/sdeng/WZG_analysis/fake_photon_template/AR/2018/final/GluGluToContinToZZTo2e2mu_TuneCP5_13TeV-mcfm701-pythia8_2018_0000_Skim.root\",\n",
    "#         \"xsec\":0.00319,\n",
    "#         \"color\":13},\n",
    "#     \"ggZZ_2e2nu\":\n",
    "#         {\"name\":\"ggZZ\",\n",
    "#         \"path\":\"/eos/user/s/sdeng/WZG_analysis/fake_photon_template/AR/2018/final/GluGluToContinToZZTo2e2nu_TuneCP5_13TeV-mcfm701-pythia8_2018_0000_Skim.root\",\n",
    "#         \"xsec\":0.00319,\n",
    "#         \"color\":13},\n",
    "#     \"ggZZ_2e2tau\":\n",
    "#         {\"name\":\"ggZZ\",\n",
    "#         \"path\":\"/eos/user/s/sdeng/WZG_analysis/fake_photon_template/AR/2018/final/GluGluToContinToZZTo2e2tau_TuneCP5_13TeV-mcfm701-pythia8_2018_0000_Skim.root\",\n",
    "#         \"xsec\":0.00319,\n",
    "#         \"color\":13},\n",
    "#     \"ggZZ_2mu2nu\":\n",
    "#         {\"name\":\"ggZZ\",\n",
    "#         \"path\":\"/eos/user/s/sdeng/WZG_analysis/fake_photon_template/AR/2018/final/GluGluToContinToZZTo2mu2nu_TuneCP5_13TeV-mcfm701-pythia8_2018_0000_Skim.root\",\n",
    "#         \"xsec\":0.00319,\n",
    "#         \"color\":13},\n",
    "#     \"ggZZ_2mu2tau\":\n",
    "#         {\"name\":\"ggZZ\",\n",
    "#         \"path\":\"/eos/user/s/sdeng/WZG_analysis/fake_photon_template/AR/2018/final/GluGluToContinToZZTo2mu2tau_TuneCP5_13TeV-mcfm701-pythia8_2018_0000_Skim.root\",\n",
    "#         \"xsec\":0.00319,\n",
    "#         \"color\":13},\n",
    "#     \"ggZZ_4e\":\n",
    "#         {\"name\":\"ggZZ\",\n",
    "#         \"path\":\"/eos/user/s/sdeng/WZG_analysis/fake_photon_template/AR/2018/final/GluGluToContinToZZTo4e_TuneCP5_13TeV-mcfm701-pythia8_2018_0000_Skim.root\",\n",
    "#         \"xsec\":0.00159,\n",
    "#         \"color\":13},\n",
    "#     \"ggZZ_4mu\":\n",
    "#         {\"name\":\"ggZZ\",\n",
    "#         \"path\":\"/eos/user/s/sdeng/WZG_analysis/fake_photon_template/AR/2018/final/GluGluToContinToZZTo4mu_TuneCP5_13TeV-mcfm701-pythia8_2018_0000_Skim.root\",\n",
    "#         \"xsec\":0.00159,\n",
    "#         \"color\":13},\n",
    "#     \"ggZZ_4tau\":\n",
    "#         {\"name\":\"ggZZ\",\n",
    "#         \"path\":\"/eos/user/s/sdeng/WZG_analysis/fake_photon_template/AR/2018/final/GluGluToContinToZZTo4tau_TuneCP5_13TeV-mcfm701-pythia8_2018_0000_Skim.root\",\n",
    "#         \"xsec\":0.00159,\n",
    "#         \"color\":13},\n",
    "    \"WZG\":\n",
    "        {\"name\":\"signal\",\n",
    "        \"path\":\"/eos/user/s/sdeng/WZG_analysis/fake_photon_template/AR/2018/final/wza_UL18_sum_Skim_Skim.root\", \n",
    "        \"xsec\":0.0384,\n",
    "        \"color\":21}\n",
    "}"
   ]
  },
  {
   "cell_type": "code",
   "execution_count": 18,
   "id": "4d43b5b5",
   "metadata": {},
   "outputs": [],
   "source": [
    "if channel in [0,1,2,3,4]:\n",
    "    for file in filelist_MC_FakePho:\n",
    "        AddHist_FakePhoton(filelist_MC_FakePho[file][\"path\"], hist_FakePho, 0, filelist_MC_FakePho[file][\"xsec\"], lumi, channel, branch)\n",
    "else:\n",
    "    pass"
   ]
  },
  {
   "cell_type": "code",
   "execution_count": 61,
   "id": "c9603e62",
   "metadata": {},
   "outputs": [
    {
     "data": {
      "text/plain": [
       "0.0"
      ]
     },
     "execution_count": 61,
     "metadata": {},
     "output_type": "execute_result"
    }
   ],
   "source": [
    "hist_data['MET'].Integral()"
   ]
  },
  {
   "cell_type": "code",
   "execution_count": 34,
   "id": "6001dbcf",
   "metadata": {},
   "outputs": [],
   "source": [
    "#ZZ_dileptonmass\n",
    "#ZZ_trileptonmass\n",
    "#ZZ_MET\n",
    "#nJets\n",
    "#nbJets\n",
    "\n",
    "plot_branch = \"ZZ_dileptonmass\"\n",
    "MAXY = 2 * hist_data[plot_branch].GetBinContent(hist_data[plot_branch].GetMaximumBin())"
   ]
  },
  {
   "cell_type": "markdown",
   "id": "3f184a58",
   "metadata": {},
   "source": [
    "---\n",
    "## Plot"
   ]
  },
  {
   "cell_type": "code",
   "execution_count": 37,
   "id": "e803d1c5",
   "metadata": {},
   "outputs": [
    {
     "name": "stdout",
     "output_type": "stream",
     "text": [
      "35.86 fb^{-1} (13 TeV)\n",
      "6422.399401664734\n"
     ]
    },
    {
     "name": "stderr",
     "output_type": "stream",
     "text": [
      "Warning in <TH1F::Sumw2>: Sum of squares of weights structure already created\n",
      "Warning in <TH1D::Sumw2>: Sum of squares of weights structure already created\n"
     ]
    },
    {
     "data": {
      "image/png": "[encoded data removed]",
      "text/plain": [
       "<IPython.core.display.Image object>"
      ]
     },
     "metadata": {},
     "output_type": "display_data"
    }
   ],
   "source": [
    "c1 = ROOT.TCanvas(\"\",\"\",1000,800)\n",
    "MC_err = ROOT.TH1D(\"\",\"\",branch[plot_branch][\"xbins\"],branch[plot_branch][\"xleft\"],branch[plot_branch][\"xright\"])\n",
    "ggZZ_sum = ROOT.TH1D(\"\",\"\",branch[plot_branch][\"xbins\"],branch[plot_branch][\"xleft\"],branch[plot_branch][\"xright\"])\n",
    "VVV_sum  = ROOT.TH1D(\"\",\"\",branch[plot_branch][\"xbins\"],branch[plot_branch][\"xleft\"],branch[plot_branch][\"xright\"])\n",
    "TT_sum   = ROOT.TH1D(\"\",\"\",branch[plot_branch][\"xbins\"],branch[plot_branch][\"xleft\"],branch[plot_branch][\"xright\"])\n",
    "\n",
    "SetHistStyle(ggZZ_sum, filelist_MC[\"ggZZ_4e\"][\"color\"])\n",
    "SetHistStyle(VVV_sum, filelist_MC[\"WWW\"][\"color\"])\n",
    "SetHistStyle(TT_sum, filelist_MC[\"TTZ\"][\"color\"])\n",
    "\n",
    "MC_err.Sumw2()\n",
    "MC_err.SetFillColor(ROOT.kGray+2)\n",
    "MC_err.SetFillStyle(3345)\n",
    "MC_err.SetMarkerSize(0.)\n",
    "MC_err.SetMarkerColor(ROOT.kGray+2)\n",
    "MC_err.SetLineWidth(2)\n",
    "MC_err.SetLineColor(0)\n",
    "MC_err.SetStats(0)\n",
    "MC_err.SetXTitle(f'{branch[plot_branch][\"axis_name\"]}')\n",
    "MC_err.SetYTitle(f'events / bin')\n",
    "\n",
    "stack_mc = ROOT.THStack(\"\",\"\")\n",
    "#MC_err.Add(hist_FakeLep[plot_branch])\n",
    "#stack_mc.Add(hist_FakeLep[plot_branch])\n",
    "#MC_err.Add(hist_FakePho[plot_branch])\n",
    "#stack_mc.Add(hist_FakePho[plot_branch])\n",
    "for file in filelist_MC:\n",
    "    if 'ggZZ' in file:\n",
    "        ggZZ_sum.Add(filelist_MC[file][\"hist\"][plot_branch])\n",
    "        continue\n",
    "    \n",
    "    if 'WZG' in file:\n",
    "        continue\n",
    "    \n",
    "    if file in ['WWW','WWZ','WZZ','ZZZ']:\n",
    "        VVV_sum.Add(filelist_MC[file][\"hist\"][plot_branch])\n",
    "        continue\n",
    "    \n",
    "    if ('TT' in file) or ('tZq' in file) or ('ttH' in file):\n",
    "        TT_sum.Add(filelist_MC[file][\"hist\"][plot_branch])\n",
    "        continue\n",
    "        \n",
    "    stack_mc.Add(filelist_MC[file][\"hist\"][plot_branch])\n",
    "    MC_err.Add(filelist_MC[file][\"hist\"][plot_branch])\n",
    "    \n",
    "\n",
    "\n",
    "\n",
    "\n",
    "#stack_mc.Add(filelist_MC['WZG'][\"hist\"][plot_branch])\n",
    "#MC_err.Add(filelist_MC['WZG'][\"hist\"][plot_branch])\n",
    "\n",
    "\n",
    "\n",
    "\n",
    "stack_mc.Add(ggZZ_sum)\n",
    "MC_err.Add(ggZZ_sum)\n",
    "\n",
    "stack_mc.Add(VVV_sum)\n",
    "MC_err.Add(VVV_sum)\n",
    "\n",
    "stack_mc.Add(TT_sum)\n",
    "MC_err.Add(TT_sum)\n",
    "\n",
    "\n",
    "\n",
    "legend = ROOT.TLegend(0.15, 0.65, 0.85, 0.85)\n",
    "legend.SetNColumns(4)\n",
    "legend.SetBorderSize(0)\n",
    "legend.SetFillColor(0)\n",
    "legend.SetTextSize(0.025)\n",
    "legend.SetLineWidth(1)\n",
    "legend.SetLineStyle(0)\n",
    "for file in filelist_MC:\n",
    "    if 'ggZZ' in file:\n",
    "        continue\n",
    "    if 'WZG' in file:\n",
    "        continue\n",
    "    if file in ['WWW','WWZ','WZZ','ZZZ']:\n",
    "        continue    \n",
    "    if ('TT' in file) or ('tZq' in file) or ('ttH' in file):\n",
    "        continue\n",
    "    legend.AddEntry(filelist_MC[file][\"hist\"][plot_branch], f'{filelist_MC[file][\"name\"]}: {format(filelist_MC[file][\"hist\"][plot_branch].GetSumOfWeights(), \".2f\")}','F')\n",
    "    \n",
    "#legend.AddEntry(filelist_MC[\"WZG\"][\"hist\"][plot_branch], f'{filelist_MC[\"WZG\"][\"name\"]}: {format(filelist_MC[file][\"hist\"][plot_branch].GetSumOfWeights(), \".2f\")}','F')\n",
    "legend.AddEntry(ggZZ_sum,f'ggZZ: {format(ggZZ_sum.GetSumOfWeights(), \".2f\")}', 'F')\n",
    "legend.AddEntry(VVV_sum,f'VVV: {format(VVV_sum.GetSumOfWeights(), \".2f\")}', 'F')\n",
    "legend.AddEntry(TT_sum,f'TTX: {format(TT_sum.GetSumOfWeights(), \".2f\")}', 'F')\n",
    "\n",
    "#legend.AddEntry(hist_FakeLep[plot_branch],f'Nonprompt Lepton: {format(hist_FakeLep[plot_branch].GetSumOfWeights(), \".2f\")}', 'F')\n",
    "#legend.AddEntry(hist_FakePho[plot_branch],f'Nonprompt Photon: {format(hist_FakePho[plot_branch].GetSumOfWeights(), \".2f\")}', 'F')\n",
    "legend.AddEntry(MC_err, 'Stat Unc.', 'F')\n",
    "legend.AddEntry(hist_data[plot_branch], f'data: {format(hist_data[plot_branch].GetSumOfWeights(), \".2f\")}')\n",
    "\n",
    "\n",
    "\n",
    "c1.Draw()\n",
    "pad1 = ROOT.TPad(\"pad1\", \"pad1\", 0, 0.3, 1, 1.0)\n",
    "pad1.SetBottomMargin(0.015)  # joins upper and lower plot\n",
    "# pad1.SetGridx()\n",
    "pad1.Draw()\n",
    "# Lower ratio plot is pad2\n",
    "c1.cd()  # returns to main canvas before defining pad2\n",
    "pad2 = ROOT.TPad(\"pad2\", \"pad2\", 0, 0.05, 1, 0.3)\n",
    "pad2.SetTopMargin(0)  # joins upper and lower plot\n",
    "pad2.SetBottomMargin(0.3)\n",
    "pad2.SetGridy()\n",
    "pad2.Draw()\n",
    "\n",
    "# draw everything\n",
    "pad1.cd()\n",
    "hist_data[plot_branch].Draw(\"ep\")\n",
    "\n",
    "hist_data[plot_branch].SetMaximum(MAXY)\n",
    "\n",
    "hist_data[plot_branch].GetXaxis().SetLabelSize(0)\n",
    "\n",
    "MC_err.SetMaximum(2.0 * MC_err.GetMaximum())\n",
    "stack_mc.Draw(\"HIST SAME\")\n",
    "MC_err.Draw(\"e2 SAME\")\n",
    "hist_data[plot_branch].Draw(\"ep SAME\")\n",
    "legend.Draw(\"SAME\")\n",
    "# ROOT.gPad.SetLogy()\n",
    "ROOT.gPad.RedrawAxis()\n",
    "\n",
    "\n",
    "# h1.GetXaxis().SetLabelSize(0)\n",
    "pad2.cd()\n",
    "h3 = createRatio(hist_data[plot_branch], MC_err)\n",
    "h4 = createRatio(MC_err, MC_err)\n",
    "h3.Draw(\"ep\")\n",
    "h3.GetXaxis().SetRangeUser(10,60)\n",
    "# h4.Draw(\"e2\")\n",
    "h4.Draw(\"e2 SAME\")\n",
    "ROOT.gPad.RedrawAxis()\n",
    "\n",
    "CMS_lumi(pad1, 0, 0)\n",
    "# c1.SaveAs('Fake_Lepton/MT_LooseMuon_dist_MR_2018.pdf')\n",
    "print (time.time()-time_total_init)\n"
   ]
  },
  {
   "cell_type": "code",
   "execution_count": null,
   "id": "94ee15b4",
   "metadata": {},
   "outputs": [],
   "source": []
  }
 ],
 "metadata": {
  "kernelspec": {
   "display_name": "Python 3",
   "language": "python",
   "name": "python3"
  },
  "language_info": {
   "codemirror_mode": {
    "name": "ipython",
    "version": 3
   },
   "file_extension": ".py",
   "mimetype": "text/x-python",
   "name": "python",
   "nbconvert_exporter": "python",
   "pygments_lexer": "ipython3",
   "version": "3.9.6"
  }
 },
 "nbformat": 4,
 "nbformat_minor": 5
}
