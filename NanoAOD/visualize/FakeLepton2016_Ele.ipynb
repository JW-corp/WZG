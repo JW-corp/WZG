{
 "cells": [
  {
   "cell_type": "code",
   "execution_count": 1,
   "id": "f868eabe",
   "metadata": {},
   "outputs": [
    {
     "name": "stderr",
     "output_type": "stream",
     "text": [
      "/cvmfs/sft.cern.ch/lcg/views/LCG_101swan/x86_64-centos7-gcc8-opt/lib/python3.9/site-packages/uproot3/__init__.py:127: FutureWarning: Consider switching from 'uproot3' to 'uproot', since the new interface became the default in 2020.\n",
      "\n",
      "    pip install -U uproot\n",
      "\n",
      "In Python:\n",
      "\n",
      "    >>> import uproot\n",
      "    >>> with uproot.open(...) as file:\n",
      "    ...\n",
      "\n",
      "  warnings.warn(\n",
      "/cvmfs/sft.cern.ch/lcg/views/LCG_101swan/x86_64-centos7-gcc8-opt/lib/python3.9/site-packages/awkward0/__init__.py:12: FutureWarning: Consider switching from 'awkward0' to 'awkward', since the new interface became the default in 2020.\n",
      "\n",
      "    pip install -U awkward\n",
      "\n",
      "In Python:\n",
      "\n",
      "    >>> import awkward as ak\n",
      "    >>> new_style_array = ak.from_awkward0(old_style_array)\n",
      "    >>> old_style_array = ak.to_awkward0(new_style_array)\n",
      "\n",
      "  warnings.warn(\n"
     ]
    },
    {
     "name": "stdout",
     "output_type": "stream",
     "text": [
      "Welcome to JupyROOT 6.24/06\n"
     ]
    }
   ],
   "source": [
    "import matplotlib\n",
    "import uproot, uproot3\n",
    "import numpy\n",
    "import awkward\n",
    "import numba\n",
    "import numpy as np\n",
    "import matplotlib.pyplot as plt\n",
    "import mplhep as hep\n",
    "import pandas as pd\n",
    "from tqdm import trange\n",
    "import ROOT\n",
    "import os,sys\n",
    "from array import array\n",
    "\n",
    "from Lumi import *\n",
    "from TDR_Style import *\n",
    "from Ratio_Plot import *"
   ]
  },
  {
   "cell_type": "code",
   "execution_count": 2,
   "id": "7526cde1",
   "metadata": {},
   "outputs": [],
   "source": [
    "@numba.njit\n",
    "def sgn(num):\n",
    "    if (num >= 0):\n",
    "        return 1\n",
    "    else:\n",
    "        return -1"
   ]
  },
  {
   "cell_type": "markdown",
   "id": "08495c6d",
   "metadata": {},
   "source": [
    "### 1. Template Distribution"
   ]
  },
  {
   "cell_type": "code",
   "execution_count": 4,
   "id": "4434d8f6",
   "metadata": {},
   "outputs": [],
   "source": [
    "def AddHist_FTdist(file, branch, hist_pre1, hist_pre2, isData, xsec):\n",
    "    \n",
    "    if isData:\n",
    "        print('is Data')\n",
    "        init_branches = ['is_lepton_tight','jet_pt','mt','met','lepton_pt','lepton_eta','lepton_pdgid','lepton_pfRelIso04_all',\n",
    "                                                       'HLT_IsoMu24','HLT_Mu8_TrkIsoVVL','HLT_Mu17_TrkIsoVVL','hlt',\n",
    "                                                      'HLT_Ele8_CaloIdL_TrackIdL_IsoVL_PFJet30','HLT_Ele12_CaloIdL_TrackIdL_IsoVL_PFJet30','HLT_Ele23_CaloIdL_TrackIdL_IsoVL_PFJet30']\n",
    "        if not (branch in init_branches):\n",
    "            init_branches.append(branch)\n",
    "        branches = uproot.open(file+':Events').arrays(init_branches, library='pd')\n",
    "\n",
    "    else:\n",
    "        print('is MC')\n",
    "        init_branches = ['is_lepton_tight','jet_pt','mt','met','lepton_pt','lepton_eta','lepton_pdgid','lepton_pfRelIso04_all','lepton_gen_matching','gen_weight',\n",
    "                                                       'HLT_IsoMu24','HLT_Mu8_TrkIsoVVL','HLT_Mu17_TrkIsoVVL','hlt',\n",
    "                                                      'HLT_Ele8_CaloIdL_TrackIdL_IsoVL_PFJet30','HLT_Ele12_CaloIdL_TrackIdL_IsoVL_PFJet30','HLT_Ele23_CaloIdL_TrackIdL_IsoVL_PFJet30']\n",
    "        if not (branch in init_branches):\n",
    "            init_branches.append(branch)\n",
    "        branches = uproot.open(file+':Events').arrays(init_branches, library='pd')\n",
    "        true_events = uproot.open(file)['nEventsGenWeighted'].values()[0]\n",
    "\n",
    "        weight_lowpt = (1000*xsec*0.01485) / true_events\n",
    "        weight_highpt = (1000*xsec*0.06281) / true_events\n",
    "        lepton_gen_cut1 = branches.loc[:,'lepton_gen_matching'] == 1\n",
    "        lepton_gen_cut2 = branches.loc[:,'lepton_gen_matching'] == 15\n",
    "        \n",
    "    HLT_cut1 = branches.loc[:,'HLT_Ele12_CaloIdL_TrackIdL_IsoVL_PFJet30'] == True\n",
    "    HLT_cut2 = branches.loc[:,'HLT_Ele23_CaloIdL_TrackIdL_IsoVL_PFJet30'] == True\n",
    "    \n",
    "    met_cut = branches.loc[:,'met'] < 2000\n",
    "    mt_cut = branches.loc[:,'mt'] < 20\n",
    "    lepton_cut = abs(branches.loc[:,'lepton_pdgid']) == 11\n",
    "#    pf_cut = branches.loc[:,'lepton_pfRelIso04_all'] < 0.4\n",
    "    pf_cut = branches.loc[:,'is_lepton_tight'] == 0\n",
    "    pt_edge = branches.loc[:,'lepton_pt'] < 25\n",
    "    jet_pt = branches.loc[:,'jet_pt'] > 35\n",
    "    \n",
    "    if isData:\n",
    "        arrays_0_25 = branches.loc[HLT_cut1 & lepton_cut & pf_cut & pt_edge & met_cut & mt_cut & jet_pt,:] \n",
    "        arrays_25_Inf = branches.loc[HLT_cut2 & lepton_cut & pf_cut & ~pt_edge & met_cut & mt_cut & jet_pt,:] \n",
    "        for i in trange(0, len(arrays_0_25[branch]), desc=f'fill pt<25 part for {file}'):\n",
    "            hist_pre1.Fill(float(arrays_0_25[branch].values[i]))\n",
    "        for i in trange(0, len(arrays_25_Inf[branch]), desc=f'fill pt>25 part for {file}'):\n",
    "            hist_pre2.Fill(float(arrays_25_Inf[branch].values[i]))\n",
    "    \n",
    "    else:\n",
    "        if ('TTbar' in file) or ('QCD' in file):\n",
    "            print (\"QCD process\\n\")\n",
    "            arrays_0_25 = branches.loc[HLT_cut1 & lepton_cut & pf_cut & pt_edge & met_cut & mt_cut & jet_pt,:] \n",
    "            arrays_25_Inf = branches.loc[HLT_cut2 & lepton_cut & pf_cut & ~pt_edge & met_cut & mt_cut & jet_pt,:] \n",
    "        else:\n",
    "            arrays_0_25 = branches.loc[HLT_cut1 & lepton_cut & pf_cut & pt_edge & met_cut & mt_cut & (lepton_gen_cut1 | lepton_gen_cut2) & jet_pt,:] \n",
    "            arrays_25_Inf = branches.loc[HLT_cut2 & lepton_cut & pf_cut & ~pt_edge & met_cut & mt_cut & (lepton_gen_cut1 | lepton_gen_cut2) & jet_pt,:] \n",
    "        for i in trange(0, len(arrays_0_25[branch]), desc=f'fill pt<25 part for {file}'):\n",
    "            hist_pre1.Fill(float(arrays_0_25[branch].values[i]), weight_lowpt*sgn(arrays_0_25['gen_weight'].values[i]))\n",
    "        for i in trange(0, len(arrays_25_Inf[branch]), desc=f'fill pt>25 part for {file}'):\n",
    "            hist_pre2.Fill(float(arrays_25_Inf[branch].values[i]), weight_highpt*sgn(arrays_25_Inf['gen_weight'].values[i]))\n",
    "        \n",
    "    print(\"DONE\")\n",
    "\n",
    "    return True"
   ]
  },
  {
   "cell_type": "code",
   "execution_count": 8,
   "id": "e5575219",
   "metadata": {},
   "outputs": [
    {
     "data": {
      "text/plain": [
       "21487"
      ]
     },
     "execution_count": 8,
     "metadata": {},
     "output_type": "execute_result"
    }
   ],
   "source": [
    "uproot.open('/eos/home-j/jiwoong/WZG_DB/2016/merged_FakeLepton_FR/SingleElectron_Run2016H.root')['Events'].num_entries"
   ]
  },
  {
   "cell_type": "markdown",
   "id": "11858231",
   "metadata": {},
   "source": [
    "### MET dist"
   ]
  },
  {
   "cell_type": "code",
   "execution_count": 5,
   "id": "0008388a",
   "metadata": {},
   "outputs": [
    {
     "name": "stdout",
     "output_type": "stream",
     "text": [
      "is Data\n"
     ]
    },
    {
     "name": "stderr",
     "output_type": "stream",
     "text": [
      "fill pt<25 part for /eos/home-j/jiwoong/WZG_DB/2016/merged_FakeLepton_FR/SingleElectron_Run2016B.root: 100%|██████████| 237/237 [00:00<00:00, 61589.22it/s]\n",
      "fill pt>25 part for /eos/home-j/jiwoong/WZG_DB/2016/merged_FakeLepton_FR/SingleElectron_Run2016B.root: 100%|██████████| 7627/7627 [00:00<00:00, 240289.31it/s]\n"
     ]
    },
    {
     "name": "stdout",
     "output_type": "stream",
     "text": [
      "DONE\n",
      "is Data\n"
     ]
    },
    {
     "name": "stderr",
     "output_type": "stream",
     "text": [
      "fill pt<25 part for /eos/home-j/jiwoong/WZG_DB/2016/merged_FakeLepton_FR/SingleElectron_Run2016C.root: 100%|██████████| 39/39 [00:00<00:00, 134410.73it/s]\n",
      "fill pt>25 part for /eos/home-j/jiwoong/WZG_DB/2016/merged_FakeLepton_FR/SingleElectron_Run2016C.root: 100%|██████████| 1345/1345 [00:00<00:00, 238463.83it/s]\n"
     ]
    },
    {
     "name": "stdout",
     "output_type": "stream",
     "text": [
      "DONE\n",
      "is Data\n"
     ]
    },
    {
     "name": "stderr",
     "output_type": "stream",
     "text": [
      "fill pt<25 part for /eos/home-j/jiwoong/WZG_DB/2016/merged_FakeLepton_FR/SingleElectron_Run2016D.root: 100%|██████████| 42/42 [00:00<00:00, 145707.83it/s]\n",
      "fill pt>25 part for /eos/home-j/jiwoong/WZG_DB/2016/merged_FakeLepton_FR/SingleElectron_Run2016D.root: 100%|██████████| 2139/2139 [00:00<00:00, 242863.38it/s]\n"
     ]
    },
    {
     "name": "stdout",
     "output_type": "stream",
     "text": [
      "DONE\n",
      "is Data\n"
     ]
    },
    {
     "name": "stderr",
     "output_type": "stream",
     "text": [
      "fill pt<25 part for /eos/home-j/jiwoong/WZG_DB/2016/merged_FakeLepton_FR/SingleElectron_Run2016E.root: 100%|██████████| 30/30 [00:00<00:00, 124460.06it/s]\n",
      "fill pt>25 part for /eos/home-j/jiwoong/WZG_DB/2016/merged_FakeLepton_FR/SingleElectron_Run2016E.root: 100%|██████████| 1576/1576 [00:00<00:00, 240590.47it/s]\n"
     ]
    },
    {
     "name": "stdout",
     "output_type": "stream",
     "text": [
      "DONE\n",
      "is Data\n"
     ]
    },
    {
     "name": "stderr",
     "output_type": "stream",
     "text": [
      "fill pt<25 part for /eos/home-j/jiwoong/WZG_DB/2016/merged_FakeLepton_FR/SingleElectron_Run2016F.root: 100%|██████████| 14/14 [00:00<00:00, 81669.34it/s]\n",
      "fill pt>25 part for /eos/home-j/jiwoong/WZG_DB/2016/merged_FakeLepton_FR/SingleElectron_Run2016F.root: 100%|██████████| 488/488 [00:00<00:00, 232566.79it/s]\n"
     ]
    },
    {
     "name": "stdout",
     "output_type": "stream",
     "text": [
      "DONE\n",
      "is Data\n"
     ]
    },
    {
     "name": "stderr",
     "output_type": "stream",
     "text": [
      "fill pt<25 part for /eos/home-j/jiwoong/WZG_DB/2016/merged_FakeLepton_FR/SingleElectron_Run2016G.root: 100%|██████████| 22/22 [00:00<00:00, 73059.93it/s]\n",
      "fill pt>25 part for /eos/home-j/jiwoong/WZG_DB/2016/merged_FakeLepton_FR/SingleElectron_Run2016G.root: 100%|██████████| 521/521 [00:00<00:00, 152249.17it/s]\n"
     ]
    },
    {
     "name": "stdout",
     "output_type": "stream",
     "text": [
      "DONE\n",
      "is Data\n"
     ]
    },
    {
     "name": "stderr",
     "output_type": "stream",
     "text": [
      "fill pt<25 part for /eos/home-j/jiwoong/WZG_DB/2016/merged_FakeLepton_FR/SingleElectron_Run2016H.root: 100%|██████████| 13/13 [00:00<00:00, 67067.59it/s]\n",
      "fill pt>25 part for /eos/home-j/jiwoong/WZG_DB/2016/merged_FakeLepton_FR/SingleElectron_Run2016H.root: 100%|██████████| 313/313 [00:00<00:00, 197713.43it/s]\n"
     ]
    },
    {
     "name": "stdout",
     "output_type": "stream",
     "text": [
      "DONE\n",
      "is MC\n"
     ]
    },
    {
     "name": "stderr",
     "output_type": "stream",
     "text": [
      "fill pt<25 part for /eos/home-j/jiwoong/WZG_DB/2016/merged_FakeLepton_FR/merged_FakeLepFR_ZW/WJetsToLNu_TuneCP5_13TeV-madgraphMLM-pythia8_2016.root: 100%|██████████| 6490/6490 [00:00<00:00, 8655.68it/s]\n",
      "fill pt>25 part for /eos/home-j/jiwoong/WZG_DB/2016/merged_FakeLepton_FR/merged_FakeLepFR_ZW/WJetsToLNu_TuneCP5_13TeV-madgraphMLM-pythia8_2016.root: 100%|██████████| 5506/5506 [00:00<00:00, 90397.10it/s]\n"
     ]
    },
    {
     "name": "stdout",
     "output_type": "stream",
     "text": [
      "DONE\n",
      "is MC\n"
     ]
    },
    {
     "name": "stderr",
     "output_type": "stream",
     "text": [
      "fill pt<25 part for /eos/home-j/jiwoong/WZG_DB/2016/merged_FakeLepton_FR/merged_FakeLepFR_ZW/DYJetsToLL_M-50_TuneCP5_13TeV-madgraphMLM-pythia8_2016.root: 100%|██████████| 51874/51874 [00:00<00:00, 121681.59it/s]\n",
      "fill pt>25 part for /eos/home-j/jiwoong/WZG_DB/2016/merged_FakeLepton_FR/merged_FakeLepFR_ZW/DYJetsToLL_M-50_TuneCP5_13TeV-madgraphMLM-pythia8_2016.root: 100%|██████████| 49493/49493 [00:00<00:00, 121101.93it/s]\n"
     ]
    },
    {
     "name": "stdout",
     "output_type": "stream",
     "text": [
      "DONE\n",
      "is MC\n"
     ]
    },
    {
     "name": "stderr",
     "output_type": "stream",
     "text": [
      "fill pt<25 part for /eos/home-j/jiwoong/WZG_DB/2016/merged_FakeLepton_FR/merged_FakeLepFR_ZW/DYJetsToLL_M-10to50_TuneCP5_13TeV-madgraphMLM-pythia8_2016.root: 100%|██████████| 1724/1724 [00:00<00:00, 64074.33it/s]\n",
      "fill pt>25 part for /eos/home-j/jiwoong/WZG_DB/2016/merged_FakeLepton_FR/merged_FakeLepFR_ZW/DYJetsToLL_M-10to50_TuneCP5_13TeV-madgraphMLM-pythia8_2016.root: 100%|██████████| 466/466 [00:00<00:00, 69180.11it/s]\n"
     ]
    },
    {
     "name": "stdout",
     "output_type": "stream",
     "text": [
      "DONE\n",
      "is MC\n",
      "QCD process\n",
      "\n"
     ]
    },
    {
     "name": "stderr",
     "output_type": "stream",
     "text": [
      "fill pt<25 part for /eos/home-j/jiwoong/WZG_DB/2016/merged_FakeLepton_FR/merged_FakeLepFR_QCD/QCD_Pt-15to20_EMEnriched_TuneCP5_13TeV_pythia8_2016.root: 100%|██████████| 391/391 [00:00<00:00, 115385.41it/s]\n",
      "fill pt>25 part for /eos/home-j/jiwoong/WZG_DB/2016/merged_FakeLepton_FR/merged_FakeLepFR_QCD/QCD_Pt-15to20_EMEnriched_TuneCP5_13TeV_pythia8_2016.root: 100%|██████████| 24/24 [00:00<00:00, 71291.29it/s]"
     ]
    },
    {
     "name": "stdout",
     "output_type": "stream",
     "text": [
      "DONE\n",
      "is MC\n"
     ]
    },
    {
     "name": "stderr",
     "output_type": "stream",
     "text": [
      "\n"
     ]
    },
    {
     "name": "stdout",
     "output_type": "stream",
     "text": [
      "QCD process\n",
      "\n"
     ]
    },
    {
     "name": "stderr",
     "output_type": "stream",
     "text": [
      "fill pt<25 part for /eos/home-j/jiwoong/WZG_DB/2016/merged_FakeLepton_FR/merged_FakeLepFR_QCD/QCD_Pt-20to30_EMEnriched_TuneCP5_13TeV_pythia8_2016.root: 100%|██████████| 2018/2018 [00:00<00:00, 117601.12it/s]\n",
      "fill pt>25 part for /eos/home-j/jiwoong/WZG_DB/2016/merged_FakeLepton_FR/merged_FakeLepFR_QCD/QCD_Pt-20to30_EMEnriched_TuneCP5_13TeV_pythia8_2016.root: 100%|██████████| 211/211 [00:00<00:00, 104424.56it/s]"
     ]
    },
    {
     "name": "stdout",
     "output_type": "stream",
     "text": [
      "DONE\n",
      "is MC\n"
     ]
    },
    {
     "name": "stderr",
     "output_type": "stream",
     "text": [
      "\n"
     ]
    },
    {
     "name": "stdout",
     "output_type": "stream",
     "text": [
      "QCD process\n",
      "\n"
     ]
    },
    {
     "name": "stderr",
     "output_type": "stream",
     "text": [
      "fill pt<25 part for /eos/home-j/jiwoong/WZG_DB/2016/merged_FakeLepton_FR/merged_FakeLepFR_QCD/QCD_Pt-30to50_EMEnriched_TuneCP5_13TeV_pythia8_2016.root: 100%|██████████| 6032/6032 [00:00<00:00, 117677.90it/s]\n",
      "fill pt>25 part for /eos/home-j/jiwoong/WZG_DB/2016/merged_FakeLepton_FR/merged_FakeLepFR_QCD/QCD_Pt-30to50_EMEnriched_TuneCP5_13TeV_pythia8_2016.root: 100%|██████████| 2891/2891 [00:00<00:00, 117966.08it/s]"
     ]
    },
    {
     "name": "stdout",
     "output_type": "stream",
     "text": [
      "DONE\n",
      "is MC\n"
     ]
    },
    {
     "name": "stderr",
     "output_type": "stream",
     "text": [
      "\n"
     ]
    },
    {
     "name": "stdout",
     "output_type": "stream",
     "text": [
      "QCD process\n",
      "\n"
     ]
    },
    {
     "name": "stderr",
     "output_type": "stream",
     "text": [
      "fill pt<25 part for /eos/home-j/jiwoong/WZG_DB/2016/merged_FakeLepton_FR/merged_FakeLepFR_QCD/QCD_Pt-50to80_EMEnriched_TuneCP5_13TeV_pythia8_2016.root: 100%|██████████| 3389/3389 [00:00<00:00, 116591.58it/s]\n",
      "fill pt>25 part for /eos/home-j/jiwoong/WZG_DB/2016/merged_FakeLepton_FR/merged_FakeLepFR_QCD/QCD_Pt-50to80_EMEnriched_TuneCP5_13TeV_pythia8_2016.root: 100%|██████████| 6388/6388 [00:00<00:00, 118036.46it/s]"
     ]
    },
    {
     "name": "stdout",
     "output_type": "stream",
     "text": [
      "DONE\n",
      "is MC\n"
     ]
    },
    {
     "name": "stderr",
     "output_type": "stream",
     "text": [
      "\n"
     ]
    },
    {
     "name": "stdout",
     "output_type": "stream",
     "text": [
      "QCD process\n",
      "\n"
     ]
    },
    {
     "name": "stderr",
     "output_type": "stream",
     "text": [
      "fill pt<25 part for /eos/home-j/jiwoong/WZG_DB/2016/merged_FakeLepton_FR/merged_FakeLepFR_QCD/QCD_Pt-80to120_EMEnriched_TuneCP5_13TeV_pythia8_2016.root: 100%|██████████| 2251/2251 [00:00<00:00, 119706.59it/s]\n",
      "fill pt>25 part for /eos/home-j/jiwoong/WZG_DB/2016/merged_FakeLepton_FR/merged_FakeLepFR_QCD/QCD_Pt-80to120_EMEnriched_TuneCP5_13TeV_pythia8_2016.root: 100%|██████████| 7054/7054 [00:00<00:00, 117174.27it/s]"
     ]
    },
    {
     "name": "stdout",
     "output_type": "stream",
     "text": [
      "DONE\n",
      "is MC\n"
     ]
    },
    {
     "name": "stderr",
     "output_type": "stream",
     "text": [
      "\n"
     ]
    },
    {
     "name": "stdout",
     "output_type": "stream",
     "text": [
      "QCD process\n",
      "\n"
     ]
    },
    {
     "name": "stderr",
     "output_type": "stream",
     "text": [
      "fill pt<25 part for /eos/home-j/jiwoong/WZG_DB/2016/merged_FakeLepton_FR/merged_FakeLepFR_QCD/QCD_Pt-120to170_EMEnriched_TuneCP5_13TeV_pythia8_2016.root: 100%|██████████| 1994/1994 [00:00<00:00, 114926.65it/s]\n",
      "fill pt>25 part for /eos/home-j/jiwoong/WZG_DB/2016/merged_FakeLepton_FR/merged_FakeLepFR_QCD/QCD_Pt-120to170_EMEnriched_TuneCP5_13TeV_pythia8_2016.root: 100%|██████████| 7322/7322 [00:00<00:00, 116983.76it/s]"
     ]
    },
    {
     "name": "stdout",
     "output_type": "stream",
     "text": [
      "DONE\n",
      "is MC\n"
     ]
    },
    {
     "name": "stderr",
     "output_type": "stream",
     "text": [
      "\n"
     ]
    },
    {
     "name": "stdout",
     "output_type": "stream",
     "text": [
      "QCD process\n",
      "\n"
     ]
    },
    {
     "name": "stderr",
     "output_type": "stream",
     "text": [
      "fill pt<25 part for /eos/home-j/jiwoong/WZG_DB/2016/merged_FakeLepton_FR/merged_FakeLepFR_QCD/QCD_Pt-170to300_EMEnriched_TuneCP5_13TeV_pythia8_2016.root: 100%|██████████| 685/685 [00:00<00:00, 114111.46it/s]\n",
      "fill pt>25 part for /eos/home-j/jiwoong/WZG_DB/2016/merged_FakeLepton_FR/merged_FakeLepFR_QCD/QCD_Pt-170to300_EMEnriched_TuneCP5_13TeV_pythia8_2016.root: 100%|██████████| 2574/2574 [00:00<00:00, 118815.15it/s]"
     ]
    },
    {
     "name": "stdout",
     "output_type": "stream",
     "text": [
      "DONE\n",
      "is MC\n"
     ]
    },
    {
     "name": "stderr",
     "output_type": "stream",
     "text": [
      "\n"
     ]
    },
    {
     "name": "stdout",
     "output_type": "stream",
     "text": [
      "QCD process\n",
      "\n"
     ]
    },
    {
     "name": "stderr",
     "output_type": "stream",
     "text": [
      "fill pt<25 part for /eos/home-j/jiwoong/WZG_DB/2016/merged_FakeLepton_FR/merged_FakeLepFR_QCD/QCD_Pt-300toInf_EMEnriched_TuneCP5_13TeV_pythia8_2016.root: 100%|██████████| 490/490 [00:00<00:00, 46557.98it/s]\n",
      "fill pt>25 part for /eos/home-j/jiwoong/WZG_DB/2016/merged_FakeLepton_FR/merged_FakeLepFR_QCD/QCD_Pt-300toInf_EMEnriched_TuneCP5_13TeV_pythia8_2016.root: 100%|██████████| 1722/1722 [00:00<00:00, 58169.77it/s]"
     ]
    },
    {
     "name": "stdout",
     "output_type": "stream",
     "text": [
      "DONE\n"
     ]
    },
    {
     "name": "stderr",
     "output_type": "stream",
     "text": [
      "\n"
     ]
    }
   ],
   "source": [
    "xbins = 20\n",
    "xlow = 0\n",
    "xup = 200\n",
    "branch = 'met'\n",
    "\n",
    "ptbins = [10, 13, 16, 20, 24, 28, 35, 45, 200]\n",
    "\n",
    "hist_dist1_DATA = ROOT.TH1D(\"\",\"\",xbins, xlow, xup)\n",
    "hist_dist2_DATA = ROOT.TH1D(\"\",\"\",xbins, xlow, xup)\n",
    "\n",
    "hist_dist1_DATA.Sumw2()\n",
    "hist_dist2_DATA.Sumw2()\n",
    "\n",
    "file_list = [\n",
    "    '/eos/home-j/jiwoong/WZG_DB/2016/merged_FakeLepton_FR/SingleElectron_Run2016B.root',\n",
    "    '/eos/home-j/jiwoong/WZG_DB/2016/merged_FakeLepton_FR/SingleElectron_Run2016C.root',\n",
    "    '/eos/home-j/jiwoong/WZG_DB/2016/merged_FakeLepton_FR/SingleElectron_Run2016D.root',\n",
    "    '/eos/home-j/jiwoong/WZG_DB/2016/merged_FakeLepton_FR/SingleElectron_Run2016E.root',\n",
    "    '/eos/home-j/jiwoong/WZG_DB/2016/merged_FakeLepton_FR/SingleElectron_Run2016F.root',\n",
    "    '/eos/home-j/jiwoong/WZG_DB/2016/merged_FakeLepton_FR/SingleElectron_Run2016G.root',\n",
    "    '/eos/home-j/jiwoong/WZG_DB/2016/merged_FakeLepton_FR/SingleElectron_Run2016H.root'\n",
    "]\n",
    "\n",
    "for file in file_list:\n",
    "    AddHist_FTdist(file, branch, hist_dist1_DATA, hist_dist2_DATA, 1, 1)\n",
    "\n",
    "hist_dist1_WJets = ROOT.TH1D(\"\",\"\",xbins, xlow, xup)\n",
    "hist_dist2_WJets = ROOT.TH1D(\"\",\"\",xbins, xlow, xup)\n",
    "hist_dist1_ZJets = ROOT.TH1D(\"\",\"\",xbins, xlow, xup)\n",
    "hist_dist2_ZJets = ROOT.TH1D(\"\",\"\",xbins, xlow, xup)\n",
    "\n",
    "hist_dist1_WJets.Sumw2()\n",
    "hist_dist2_WJets.Sumw2()\n",
    "hist_dist1_ZJets.Sumw2()\n",
    "hist_dist2_ZJets.Sumw2()\n",
    "\n",
    "file_WJets = '/eos/home-j/jiwoong/WZG_DB/2016/merged_FakeLepton_FR/merged_FakeLepFR_ZW/WJetsToLNu_TuneCP5_13TeV-madgraphMLM-pythia8_2016.root'\n",
    "file_ZJets = '/eos/home-j/jiwoong/WZG_DB/2016/merged_FakeLepton_FR/merged_FakeLepFR_ZW/DYJetsToLL_M-50_TuneCP5_13TeV-madgraphMLM-pythia8_2016.root'\n",
    "file_ZJets2 = '/eos/home-j/jiwoong/WZG_DB/2016/merged_FakeLepton_FR/merged_FakeLepFR_ZW/DYJetsToLL_M-10to50_TuneCP5_13TeV-madgraphMLM-pythia8_2016.root'\n",
    "\n",
    "AddHist_FTdist(file_WJets, branch, hist_dist1_WJets, hist_dist2_WJets, 0, 61526.7)\n",
    "AddHist_FTdist(file_ZJets, branch, hist_dist1_ZJets, hist_dist2_ZJets, 0, 6077.22)\n",
    "AddHist_FTdist(file_ZJets2, branch, hist_dist1_ZJets, hist_dist2_ZJets, 0, 18610)\n",
    "\n",
    "hist_dist1_ttbar = ROOT.TH1D(\"\",\"\",xbins, xlow, xup)\n",
    "hist_dist2_ttbar = ROOT.TH1D(\"\",\"\",xbins, xlow, xup)\n",
    "\n",
    "hist_dist1_ttbar.Sumw2()\n",
    "hist_dist2_ttbar.Sumw2()\n",
    "\n",
    "# -- Electron channel\n",
    "file_list_QCD = [\n",
    "    \"/eos/home-j/jiwoong/WZG_DB/2016/merged_FakeLepton_FR/merged_FakeLepFR_QCD/QCD_Pt-15to20_EMEnriched_TuneCP5_13TeV_pythia8_2016.root\",\n",
    "    \"/eos/home-j/jiwoong/WZG_DB/2016/merged_FakeLepton_FR/merged_FakeLepFR_QCD/QCD_Pt-20to30_EMEnriched_TuneCP5_13TeV_pythia8_2016.root\",\n",
    "    \"/eos/home-j/jiwoong/WZG_DB/2016/merged_FakeLepton_FR/merged_FakeLepFR_QCD/QCD_Pt-30to50_EMEnriched_TuneCP5_13TeV_pythia8_2016.root\",\n",
    "    \"/eos/home-j/jiwoong/WZG_DB/2016/merged_FakeLepton_FR/merged_FakeLepFR_QCD/QCD_Pt-50to80_EMEnriched_TuneCP5_13TeV_pythia8_2016.root\",\n",
    "    \"/eos/home-j/jiwoong/WZG_DB/2016/merged_FakeLepton_FR/merged_FakeLepFR_QCD/QCD_Pt-80to120_EMEnriched_TuneCP5_13TeV_pythia8_2016.root\",\n",
    "    \"/eos/home-j/jiwoong/WZG_DB/2016/merged_FakeLepton_FR/merged_FakeLepFR_QCD/QCD_Pt-120to170_EMEnriched_TuneCP5_13TeV_pythia8_2016.root\",\n",
    "    \"/eos/home-j/jiwoong/WZG_DB/2016/merged_FakeLepton_FR/merged_FakeLepFR_QCD/QCD_Pt-170to300_EMEnriched_TuneCP5_13TeV_pythia8_2016.root\",\n",
    "    \"/eos/home-j/jiwoong/WZG_DB/2016/merged_FakeLepton_FR/merged_FakeLepFR_QCD/QCD_Pt-300toInf_EMEnriched_TuneCP5_13TeV_pythia8_2016.root\"\n",
    "]\n",
    "\n",
    "\n",
    "xsec_list_QCD = [\n",
    "    1327000,\n",
    "    4908000,\n",
    "    6396000,\n",
    "    1989000,\n",
    "    366500,\n",
    "    66490,\n",
    "    16480,\n",
    "    1097\n",
    "]\n",
    "\n",
    "\n",
    "\n",
    "for i in range(len(file_list_QCD)):\n",
    "    AddHist_FTdist(file_list_QCD[i], branch, hist_dist1_ttbar, hist_dist2_ttbar, 0, xsec_list_QCD[i])"
   ]
  },
  {
   "cell_type": "code",
   "execution_count": 9,
   "id": "944a64e1",
   "metadata": {},
   "outputs": [
    {
     "name": "stderr",
     "output_type": "stream",
     "text": [
      "Warning in <TH1D::Sumw2>: Sum of squares of weights structure already created\n",
      "Warning in <TH1D::Sumw2>: Sum of squares of weights structure already created\n"
     ]
    },
    {
     "data": {
      "image/png": "[encoded data removed]",
      "text/plain": [
       "<IPython.core.display.Image object>"
      ]
     },
     "metadata": {},
     "output_type": "display_data"
    }
   ],
   "source": [
    "c1 = ROOT.TCanvas(\"\",\"\",1000,800)\n",
    "\n",
    "def SetHistStyle_dist(hist, color, isData):\n",
    "    if isData:\n",
    "        hist.SetMarkerStyle(20)\n",
    "        hist.SetMarkerColor(color)\n",
    "    else:\n",
    "        hist.SetFillColor(color)\n",
    "        hist.SetFillStyle(4100)\n",
    "        hist.SetLineColor(color)\n",
    "        hist.SetLineStyle(0)\n",
    "        hist.SetLineWidth(0)\n",
    "    hist.SetYTitle('events/bin')\n",
    "    hist.SetXTitle('MET [GeV]')\n",
    "    # Adjust y-axis settings\n",
    "    # hist.GetYaxis().SetNdivisions(105)\n",
    "    hist.GetYaxis().SetTitleSize(25)\n",
    "    hist.GetYaxis().SetTitleFont(43)\n",
    "    hist.GetYaxis().SetTitleOffset(1.40)\n",
    "    hist.GetYaxis().SetLabelFont(43)\n",
    "    hist.GetYaxis().SetLabelSize(25)\n",
    "\n",
    "    # Adjust x-axis settings\n",
    "    hist.GetXaxis().SetTitleSize(25)\n",
    "    hist.GetXaxis().SetTitleFont(43)\n",
    "    hist.GetXaxis().SetTitleOffset(5.0)\n",
    "    hist.GetXaxis().SetLabelFont(43)\n",
    "    hist.GetXaxis().SetLabelSize(25)\n",
    "    hist.SetStats(0)\n",
    "\n",
    "\n",
    "SetHistStyle_dist(hist_dist1_WJets, 22, 0)\n",
    "SetHistStyle_dist(hist_dist2_WJets, 22, 0)\n",
    "SetHistStyle_dist(hist_dist1_ZJets, 27, 0)\n",
    "SetHistStyle_dist(hist_dist2_ZJets, 27, 0)\n",
    "SetHistStyle_dist(hist_dist1_ttbar, 32, 0)\n",
    "SetHistStyle_dist(hist_dist2_ttbar, 32, 0)\n",
    "SetHistStyle_dist(hist_dist1_DATA, 1, 1)\n",
    "SetHistStyle_dist(hist_dist2_DATA, 1, 1)\n",
    "\n",
    "hist_dist_WJets = hist_dist1_WJets.Clone()\n",
    "hist_dist_WJets.Add(hist_dist2_WJets)\n",
    "SetHistStyle_dist(hist_dist_WJets, 22, 0)\n",
    "hist_dist_ZJets = hist_dist1_ZJets.Clone()\n",
    "hist_dist_ZJets.Add(hist_dist2_ZJets)\n",
    "SetHistStyle_dist(hist_dist_ZJets, 27, 0)\n",
    "hist_dist_ttbar = hist_dist1_ttbar.Clone()\n",
    "hist_dist_ttbar.Add(hist_dist2_ttbar)\n",
    "SetHistStyle_dist(hist_dist_ttbar, 32, 0)\n",
    "\n",
    "hs_dist = ROOT.THStack(\"\",\";M_{T,e} [GeV];events/bin\")\n",
    "hs_dist.Add(hist_dist_ZJets)\n",
    "hs_dist.Add(hist_dist_WJets)\n",
    "hs_dist.Add(hist_dist_ttbar)\n",
    "\n",
    "MC_err = ROOT.TH1D(\"\",\"\",xbins,xlow,xup)\n",
    "# MC_err = ROOT.TH1D(\"\",\"\",8,array('d',ptbins))\n",
    "MC_err.Sumw2()\n",
    "MC_err.Add(hist_dist1_WJets)\n",
    "MC_err.Add(hist_dist2_WJets)\n",
    "MC_err.Add(hist_dist1_ZJets)\n",
    "MC_err.Add(hist_dist2_ZJets)\n",
    "MC_err.Add(hist_dist1_ttbar)\n",
    "MC_err.Add(hist_dist2_ttbar)\n",
    "MC_err.SetFillColor(ROOT.kGray+2)\n",
    "MC_err.SetFillStyle(3345)\n",
    "MC_err.SetMarkerSize(0.)\n",
    "MC_err.SetMarkerColor(ROOT.kGray+2)\n",
    "MC_err.SetLineWidth(2)\n",
    "MC_err.SetLineColor(0)\n",
    "MC_err.SetStats(0)\n",
    "\n",
    "hs_data = ROOT.TH1D(\"\",\"\",xbins,xlow,xup)\n",
    "# hs_data = ROOT.TH1D(\"\",\"\",8,array('d',ptbins))\n",
    "hs_data.Add(hist_dist1_DATA)\n",
    "hs_data.Add(hist_dist2_DATA)\n",
    "SetHistStyle_dist(hs_data, 1, 1)\n",
    "\n",
    "legend = ROOT.TLegend(0.55, 0.45, 0.70, 0.75)\n",
    "legend.SetBorderSize(0)\n",
    "legend.SetFillColor(0)\n",
    "legend.SetTextSize(0.035)\n",
    "legend.SetLineWidth(1)\n",
    "legend.SetLineStyle(0)\n",
    "# legend.AddEntry(hist_dist1_DATA,'Double Muon 2018')\n",
    "legend.AddEntry(hist_dist1_DATA,f'SingleElectron 2017: {format(hs_data.GetSumOfWeights(), \".2f\")}')\n",
    "legend.AddEntry(hist_dist1_WJets,f'WJetsToLNu: {format(hist_dist_WJets.GetSumOfWeights(), \".2f\")}','F')\n",
    "legend.AddEntry(hist_dist1_ZJets,f'DYToLNu: {format(hist_dist_ZJets.GetSumOfWeights(), \".2f\")}','F')\n",
    "legend.AddEntry(hist_dist1_ttbar,f'QCD-EMEnriched: {format(hist_dist_ttbar.GetSumOfWeights(), \".2f\")}','F')\n",
    "\n",
    "c1.Draw()\n",
    "pad1 = ROOT.TPad(\"pad1\", \"pad1\", 0, 0.3, 1, 1.0)\n",
    "pad1.SetBottomMargin(0.015)  # joins upper and lower plot\n",
    "# pad1.SetGridx()\n",
    "pad1.Draw()\n",
    "# Lower ratio plot is pad2\n",
    "c1.cd()  # returns to main canvas before defining pad2\n",
    "pad2 = ROOT.TPad(\"pad2\", \"pad2\", 0, 0.05, 1, 0.3)\n",
    "pad2.SetTopMargin(0)  # joins upper and lower plot\n",
    "pad2.SetBottomMargin(0.3)\n",
    "pad2.SetGridy()\n",
    "pad2.Draw()\n",
    "\n",
    "# draw everything\n",
    "pad1.cd()\n",
    "# hs_data.GetYaxis().SetMaxDigits(3)\n",
    "hs_dist.Draw(\"HIST\")\n",
    "hs_dist.SetMaximum(10000000)\n",
    "hs_dist.SetMinimum(1)\n",
    "# hs_dist.GetXaxis().SetRangeUser(10,60)\n",
    "hs_dist.GetXaxis().SetLabelSize(0)\n",
    "hs_data.Draw(\"ep SAME\")\n",
    "MC_err.Draw(\"e2 SAME\")\n",
    "legend.Draw(\"SAME\")\n",
    "ROOT.gPad.SetLogy()\n",
    "ROOT.gPad.RedrawAxis()\n",
    "\n",
    "\n",
    "# h1.GetXaxis().SetLabelSize(0)\n",
    "pad2.cd()\n",
    "h3 = createRatio(hs_data, MC_err)\n",
    "h4 = createRatio(MC_err, MC_err)\n",
    "h3.Draw(\"ep\")\n",
    "# h3.GetXaxis().SetRangeUser(10,60)\n",
    "h4.Draw(\"e2 SAME\")\n",
    "ROOT.gPad.RedrawAxis()\n",
    "\n",
    "#CMS_lumi(pad1, 0, 0)\n",
    "# c1.SaveAs('Fake_Lepton/2017/eta_TightElectron_dist_MR_2017_new.pdf')\n",
    "# c1.SaveAs('Fake_Lepton/2017/eta_TightElectron_dist_MR_2017_new.png')\n",
    "#c1.SaveAs('Fake_Lepton/2017/MET_FakeElectron_dist_MR_2017_new.pdf')\n",
    "#c1.SaveAs('Fake_Lepton/2017/MET_FakeElectron_dist_MR_2017_new.png')"
   ]
  },
  {
   "cell_type": "markdown",
   "id": "d5082b72",
   "metadata": {},
   "source": [
    "## SF"
   ]
  },
  {
   "cell_type": "code",
   "execution_count": 10,
   "id": "eb26a27b",
   "metadata": {},
   "outputs": [
    {
     "name": "stdout",
     "output_type": "stream",
     "text": [
      "1 3\n",
      "WJets yields in EWK CR: 87.52484494857197\n",
      "ZJets yields in EWK CR: 92.60105181038294\n",
      "QCD yields in EWK CR: 92199.65580657686\n",
      "data yields in EWK CR: 10728.0\n",
      "SF = 10728.0 / 92379.78170333582  = 0.11612930667504072\n"
     ]
    }
   ],
   "source": [
    "bin_left = hist_dist1_WJets.FindBin(0)\n",
    "bin_right = hist_dist1_WJets.FindBin(20)\n",
    "\n",
    "WJets_yields = hist_dist1_WJets.Integral(bin_left,bin_right) + hist_dist2_WJets.Integral(bin_left,bin_right)\n",
    "ZJets_yields = hist_dist1_ZJets.Integral(bin_left,bin_right) + hist_dist2_ZJets.Integral(bin_left,bin_right)\n",
    "ttbar_yields = hist_dist1_ttbar.Integral(bin_left,bin_right) + hist_dist2_ttbar.Integral(bin_left,bin_right)\n",
    "data_yields = hist_dist1_DATA.Integral(bin_left,bin_right) + hist_dist2_DATA.Integral(bin_left,bin_right)\n",
    "\n",
    "print (hist_dist1_WJets.FindBin(0),hist_dist1_WJets.FindBin(20))\n",
    "print (f\"WJets yields in EWK CR: {WJets_yields}\")\n",
    "print (f\"ZJets yields in EWK CR: {ZJets_yields}\")\n",
    "print (f\"QCD yields in EWK CR: {ttbar_yields}\")\n",
    "print (f\"data yields in EWK CR: {data_yields}\")\n",
    "print (f\"SF = {data_yields} / {WJets_yields + ZJets_yields + ttbar_yields}  = {data_yields/(WJets_yields+ZJets_yields+ttbar_yields)}\")\n",
    "SF = data_yields/(WJets_yields+ZJets_yields+ttbar_yields)"
   ]
  },
  {
   "cell_type": "code",
   "execution_count": 12,
   "id": "f691b785",
   "metadata": {},
   "outputs": [
    {
     "name": "stdout",
     "output_type": "stream",
     "text": [
      "35.86 fb^{-1} (13 TeV)\n"
     ]
    },
    {
     "name": "stderr",
     "output_type": "stream",
     "text": [
      "Warning in <TH1D::Sumw2>: Sum of squares of weights structure already created\n",
      "Warning in <TH1D::Sumw2>: Sum of squares of weights structure already created\n"
     ]
    },
    {
     "data": {
      "image/png": "[encoded data removed]",
      "text/plain": [
       "<IPython.core.display.Image object>"
      ]
     },
     "metadata": {},
     "output_type": "display_data"
    }
   ],
   "source": [
    "c1 = ROOT.TCanvas(\"\",\"\",1000,800)\n",
    "\n",
    "SetHistStyle_dist(hist_dist1_WJets, 22, 0)\n",
    "SetHistStyle_dist(hist_dist2_WJets, 22, 0)\n",
    "SetHistStyle_dist(hist_dist1_ZJets, 27, 0)\n",
    "SetHistStyle_dist(hist_dist2_ZJets, 27, 0)\n",
    "SetHistStyle_dist(hist_dist1_ttbar, 32, 0)\n",
    "SetHistStyle_dist(hist_dist2_ttbar, 32, 0)\n",
    "SetHistStyle_dist(hist_dist1_DATA, 1, 1)\n",
    "SetHistStyle_dist(hist_dist2_DATA, 1, 1)\n",
    "\n",
    "hist_dist_WJets = hist_dist1_WJets.Clone()\n",
    "hist_dist_WJets.Add(hist_dist2_WJets)\n",
    "SetHistStyle_dist(hist_dist_WJets, 22, 0)\n",
    "hist_dist_ZJets = hist_dist1_ZJets.Clone()\n",
    "hist_dist_ZJets.Add(hist_dist2_ZJets)\n",
    "SetHistStyle_dist(hist_dist_ZJets, 27, 0)\n",
    "hist_dist_ttbar = hist_dist1_ttbar.Clone()\n",
    "hist_dist_ttbar.Add(hist_dist2_ttbar)\n",
    "SetHistStyle_dist(hist_dist_ttbar, 32, 0)\n",
    "\n",
    "\n",
    "hist_dist_ZJets.Scale(SF)\n",
    "hist_dist_WJets.Scale(SF)\n",
    "hist_dist_ttbar.Scale(SF)\n",
    "\n",
    "hs_dist = ROOT.THStack(\"\",\";M_{T,e} [GeV];events/bin\")\n",
    "hs_dist.Add(hist_dist_ZJets)\n",
    "hs_dist.Add(hist_dist_WJets)\n",
    "hs_dist.Add(hist_dist_ttbar)\n",
    "\n",
    "\n",
    "\n",
    "MC_err = ROOT.TH1D(\"\",\"\",xbins,xlow,xup)\n",
    "# MC_err = ROOT.TH1D(\"\",\"\",8,array('d',ptbins))\n",
    "MC_err.Sumw2()\n",
    "MC_err.Add(hist_dist1_WJets)\n",
    "MC_err.Add(hist_dist2_WJets)\n",
    "MC_err.Add(hist_dist1_ZJets)\n",
    "MC_err.Add(hist_dist2_ZJets)\n",
    "MC_err.Add(hist_dist1_ttbar)\n",
    "MC_err.Add(hist_dist2_ttbar)\n",
    "MC_err.SetFillColor(ROOT.kGray+2)\n",
    "MC_err.SetFillStyle(3345)\n",
    "MC_err.SetMarkerSize(0.)\n",
    "MC_err.SetMarkerColor(ROOT.kGray+2)\n",
    "MC_err.SetLineWidth(2)\n",
    "MC_err.SetLineColor(0)\n",
    "MC_err.SetStats(0)\n",
    "\n",
    "MC_err.Scale(SF)\n",
    "\n",
    "\n",
    "hs_data = ROOT.TH1D(\"\",\"\",xbins,xlow,xup)\n",
    "# hs_data = ROOT.TH1D(\"\",\"\",8,array('d',ptbins))\n",
    "hs_data.Add(hist_dist1_DATA)\n",
    "hs_data.Add(hist_dist2_DATA)\n",
    "SetHistStyle_dist(hs_data, 1, 1)\n",
    "\n",
    "legend = ROOT.TLegend(0.55, 0.45, 0.70, 0.75)\n",
    "legend.SetBorderSize(0)\n",
    "legend.SetFillColor(0)\n",
    "legend.SetTextSize(0.035)\n",
    "legend.SetLineWidth(1)\n",
    "legend.SetLineStyle(0)\n",
    "# legend.AddEntry(hist_dist1_DATA,'Double Muon 2018')\n",
    "legend.AddEntry(hist_dist1_DATA,f'DoubleMuon 2016: {format(hs_data.GetSumOfWeights(), \".2f\")}')\n",
    "legend.AddEntry(hist_dist1_WJets,f'WJetsToLNu: {format(hist_dist_WJets.GetSumOfWeights(), \".2f\")}','F')\n",
    "legend.AddEntry(hist_dist1_ZJets,f'DYToLNu: {format(hist_dist_ZJets.GetSumOfWeights(), \".2f\")}','F')\n",
    "legend.AddEntry(hist_dist1_ttbar,f'QCD-MuEnriched: {format(hist_dist_ttbar.GetSumOfWeights(), \".2f\")}','F')\n",
    "\n",
    "c1.Draw()\n",
    "pad1 = ROOT.TPad(\"pad1\", \"pad1\", 0, 0.3, 1, 1.0)\n",
    "pad1.SetBottomMargin(0.015)  # joins upper and lower plot\n",
    "# pad1.SetGridx()\n",
    "pad1.Draw()\n",
    "# Lower ratio plot is pad2\n",
    "c1.cd()  # returns to main canvas before defining pad2\n",
    "pad2 = ROOT.TPad(\"pad2\", \"pad2\", 0, 0.05, 1, 0.3)\n",
    "pad2.SetTopMargin(0)  # joins upper and lower plot\n",
    "pad2.SetBottomMargin(0.3)\n",
    "pad2.SetGridy()\n",
    "pad2.Draw()\n",
    "\n",
    "# draw everything\n",
    "pad1.cd()\n",
    "# hs_data.GetYaxis().SetMaxDigits(3)\n",
    "hs_dist.Draw(\"HIST\")\n",
    "hs_dist.SetMaximum(10000000)\n",
    "hs_dist.SetMinimum(10)\n",
    "# hs_dist.GetXaxis().SetRangeUser(10,60)\n",
    "hs_dist.GetXaxis().SetLabelSize(0)\n",
    "hs_data.Draw(\"ep SAME\")\n",
    "MC_err.Draw(\"e2 SAME\")\n",
    "legend.Draw(\"SAME\")\n",
    "ROOT.gPad.SetLogy()\n",
    "ROOT.gPad.RedrawAxis()\n",
    "\n",
    "\n",
    "# h1.GetXaxis().SetLabelSize(0)\n",
    "pad2.cd()\n",
    "h3 = createRatio(hs_data, MC_err)\n",
    "h4 = createRatio(MC_err, MC_err)\n",
    "h3.Draw(\"ep\")\n",
    "# h3.GetXaxis().SetRangeUser(10,60)\n",
    "h4.Draw(\"e2 SAME\")\n",
    "ROOT.gPad.RedrawAxis()\n",
    "\n",
    "CMS_lumi(pad1, 0, 0)\n",
    "# c1.SaveAs('Fake_Lepton/2017/eta_TightElectron_dist_MR_2017_new.pdf')\n",
    "# c1.SaveAs('Fake_Lepton/2017/eta_TightElectron_dist_MR_2017_new.png')\n",
    "#c1.SaveAs('Fake_Lepton/2017/MET_FakeElectron_dist_MR_2017_new.pdf')\n",
    "#c1.SaveAs('Fake_Lepton/2017/MET_FakeElectron_dist_MR_2017_new.png')"
   ]
  },
  {
   "cell_type": "code",
   "execution_count": 13,
   "id": "0acc4c88",
   "metadata": {},
   "outputs": [
    {
     "name": "stdout",
     "output_type": "stream",
     "text": [
      "1.4134454435751804\n",
      "0.14568906467409368\n",
      "1.7283275709741075\n",
      "0.2643649988215039\n"
     ]
    },
    {
     "data": {
      "image/png": "[encoded data removed]",
      "text/plain": [
       "<IPython.core.display.Image object>"
      ]
     },
     "metadata": {},
     "output_type": "display_data"
    }
   ],
   "source": [
    "c1 = ROOT.TCanvas(\"\",\"\",1000,800)\n",
    "c1.Draw()\n",
    "\n",
    "\n",
    "h3.Draw('ep')\n",
    "h3.SetXTitle('P_{T,#mu} [GeV]')\n",
    "h3.GetXaxis().SetTitleOffset(1.6)\n",
    "h3.GetXaxis().SetRangeUser(0,60)\n",
    "h3.SetMaximum(1.4)\n",
    "#h3.SetMinimum(0)\n",
    "ROOT.gPad.SetGridy()\n",
    "ROOT.gPad.SetGridx()\n",
    "\n",
    "print(h3.GetBinContent(7))\n",
    "print(h3.GetBinError(7))\n",
    "print(h3.GetBinContent(8))\n",
    "print(h3.GetBinError(8))"
   ]
  },
  {
   "cell_type": "markdown",
   "id": "99221130",
   "metadata": {},
   "source": [
    "## Electron Fake Rate"
   ]
  },
  {
   "cell_type": "code",
   "execution_count": 14,
   "id": "4d7768f3",
   "metadata": {},
   "outputs": [],
   "source": [
    "def AddHist_FR_Ele(file, h_nume_e, h_deno_e, isAdd, isData, lumi_Ele12, lumi_Ele23, xsec):\n",
    "    \n",
    "    if isData:\n",
    "        print('is Data')\n",
    "        branches = uproot.open(file+':Events').arrays(['jet_pt','is_lepton_tight','mt','met','lepton_pt','lepton_eta','lepton_pdgid','HLT_Ele12_CaloIdL_TrackIdL_IsoVL_PFJet30','HLT_Ele23_CaloIdL_TrackIdL_IsoVL_PFJet30','hlt'], library='pd')\n",
    "    else:\n",
    "        print('is MC')\n",
    "        branches = uproot.open(file+':Events').arrays(['jet_pt','is_lepton_tight','mt','met','lepton_pt','lepton_eta','lepton_pdgid',\n",
    "                                                       'lepton_gen_matching','HLT_Ele12_CaloIdL_TrackIdL_IsoVL_PFJet30','HLT_Ele23_CaloIdL_TrackIdL_IsoVL_PFJet30','hlt','gen_weight'], library='pd')\n",
    "        true_events = uproot.open(file)['nEventsGenWeighted'].values()[0]\n",
    "        weight_lowpt = (1000*lumi_Ele12*xsec*isAdd) / true_events\n",
    "        weight_highpt = (1000*lumi_Ele23*xsec*isAdd) / true_events\n",
    "        lepton_gen_cut1 = branches.loc[:,'lepton_gen_matching'] == 1\n",
    "        lepton_gen_cut2 = branches.loc[:,'lepton_gen_matching'] == 15\n",
    "        \n",
    "    HLT_cut1 = branches.loc[:,'HLT_Ele12_CaloIdL_TrackIdL_IsoVL_PFJet30'] == True\n",
    "    HLT_cut2 = branches.loc[:,'HLT_Ele23_CaloIdL_TrackIdL_IsoVL_PFJet30'] == True\n",
    "    met_cut = branches.loc[:,'met'] < 20\n",
    "    mt_cut = branches.loc[:,'mt'] < 20\n",
    "    Electron_cut = abs(branches.loc[:,'lepton_pdgid']) == 11\n",
    "    pt_edge = branches.loc[:,'lepton_pt'] < 25\n",
    "    jet_pt = branches.loc[:,'jet_pt'] >35\n",
    "\n",
    "    \n",
    "    overflow_Y = h_deno_e.GetYaxis().GetBinUpEdge(h_deno_e.GetNbinsY())\n",
    "    center_upper_Y = h_deno_e.GetYaxis().GetBinCenter(h_deno_e.GetNbinsY())\n",
    "    \n",
    "    if isData:\n",
    "        deno_e_lowpt = branches.loc[HLT_cut1 & pt_edge & Electron_cut & met_cut & mt_cut & jet_pt,:]\n",
    "        deno_e_highpt = branches.loc[HLT_cut2 & ~pt_edge & Electron_cut & met_cut & mt_cut & jet_pt,:]\n",
    "        \n",
    "        \n",
    "        for i in trange(0, len(deno_e_lowpt['lepton_pt']), desc=f'fill pt < 25 GeV for {file}'):\n",
    "            if float(deno_e_lowpt['lepton_pt'].values[i]) < overflow_Y:\n",
    "                h_deno_e.Fill(abs(float(deno_e_lowpt['lepton_eta'].values[i])), float(deno_e_lowpt['lepton_pt'].values[i]))\n",
    "                if deno_e_lowpt['is_lepton_tight'].values[i] == 1:\n",
    "                    h_nume_e.Fill(abs(float(deno_e_lowpt['lepton_eta'].values[i])), float(deno_e_lowpt['lepton_pt'].values[i]))\n",
    "            else:\n",
    "                h_deno_e.Fill(abs(float(deno_e_lowpt['lepton_eta'].values[i])), center_upper_Y)\n",
    "                if deno_e_lowpt['is_lepton_tight'].values[i] == 1:\n",
    "                    h_nume_e.Fill(abs(float(deno_e_lowpt['lepton_eta'].values[i])), center_upper_Y)\n",
    "                \n",
    "        for i in trange(0, len(deno_e_highpt['lepton_pt']), desc=f'fill pt > 25 GeV for {file}'):\n",
    "            if float(deno_e_highpt['lepton_pt'].values[i]) < overflow_Y:\n",
    "                h_deno_e.Fill(abs(float(deno_e_highpt['lepton_eta'].values[i])), float(deno_e_highpt['lepton_pt'].values[i]))\n",
    "                if deno_e_highpt['is_lepton_tight'].values[i] == 1:\n",
    "                    h_nume_e.Fill(abs(float(deno_e_highpt['lepton_eta'].values[i])), float(deno_e_highpt['lepton_pt'].values[i]))\n",
    "            else:\n",
    "                h_deno_e.Fill(abs(float(deno_e_highpt['lepton_eta'].values[i])), center_upper_Y)\n",
    "                if deno_e_highpt['is_lepton_tight'].values[i] == 1:\n",
    "                    h_nume_e.Fill(abs(float(deno_e_highpt['lepton_eta'].values[i])), center_upper_Y)\n",
    "                    \n",
    "                \n",
    "    else:\n",
    "        deno_e_lowpt = branches.loc[HLT_cut1 & pt_edge & Electron_cut & met_cut & mt_cut & (lepton_gen_cut1 | lepton_gen_cut2) & jet_pt,:].copy()\n",
    "        deno_e_highpt = branches.loc[HLT_cut2 & ~pt_edge & Electron_cut & met_cut & mt_cut & (lepton_gen_cut1 | lepton_gen_cut2) & jet_pt,:].copy()\n",
    "        \n",
    "        # Add SF\n",
    "        deno_e_highpt.loc[:,'SF'] = 1\n",
    "        deno_e_highpt.loc[(deno_e_highpt['lepton_pt'] >= 35) & (deno_e_highpt['lepton_pt'] < 45), 'SF'] = 1\n",
    "        deno_e_highpt.loc[deno_e_highpt['lepton_pt'] >= 45 , 'SF'] = 1\n",
    "        \n",
    "        \n",
    "        for i in trange(0, len(deno_e_lowpt['lepton_pt']), desc=f'fill pt < 25 GeV for {file}'):\n",
    "            if float(deno_e_lowpt['lepton_pt'].values[i]) < overflow_Y:\n",
    "                h_deno_e.Fill(abs(float(deno_e_lowpt['lepton_eta'].values[i])), float(deno_e_lowpt['lepton_pt'].values[i]), weight_lowpt*sgn(deno_e_lowpt['gen_weight'].values[i]))\n",
    "                if deno_e_lowpt['is_lepton_tight'].values[i] == 1:\n",
    "                    h_nume_e.Fill(abs(float(deno_e_lowpt['lepton_eta'].values[i])), float(deno_e_lowpt['lepton_pt'].values[i]), weight_lowpt*sgn(deno_e_lowpt['gen_weight'].values[i]))\n",
    "            else:\n",
    "                h_deno_e.Fill(abs(float(deno_e_lowpt['lepton_eta'].values[i])), center_upper_Y, weight_lowpt*sgn(deno_e_lowpt['gen_weight'].values[i]))\n",
    "                if deno_e_lowpt['is_lepton_tight'].values[i] == 1:\n",
    "                    h_nume_e.Fill(abs(float(deno_e_lowpt['lepton_eta'].values[i])), center_upper_Y, weight_lowpt*sgn(deno_e_lowpt['gen_weight'].values[i]))\n",
    "                \n",
    "        for i in trange(0, len(deno_e_highpt['lepton_pt']), desc=f'fill pt > 25 GeV for {file}'):\n",
    "            if float(deno_e_highpt['lepton_pt'].values[i]) < overflow_Y:\n",
    "                h_deno_e.Fill(abs(float(deno_e_highpt['lepton_eta'].values[i])), float(deno_e_highpt['lepton_pt'].values[i]), deno_e_highpt['SF'].values[i]*weight_highpt*sgn(deno_e_highpt['gen_weight'].values[i]))\n",
    "                if deno_e_highpt['is_lepton_tight'].values[i] == 1:\n",
    "                    h_nume_e.Fill(abs(float(deno_e_highpt['lepton_eta'].values[i])), float(deno_e_highpt['lepton_pt'].values[i]), deno_e_highpt['SF'].values[i]*weight_highpt*sgn(deno_e_highpt['gen_weight'].values[i]))\n",
    "            else:\n",
    "                h_deno_e.Fill(abs(float(deno_e_highpt['lepton_eta'].values[i])), center_upper_Y, deno_e_highpt['SF'].values[i]*weight_highpt*sgn(deno_e_highpt['gen_weight'].values[i]))\n",
    "                if deno_e_highpt['is_lepton_tight'].values[i] == 1:\n",
    "                    h_nume_e.Fill(abs(float(deno_e_highpt['lepton_eta'].values[i])), center_upper_Y, deno_e_highpt['SF'].values[i]*weight_highpt*sgn(deno_e_highpt['gen_weight'].values[i]))\n",
    "\n",
    "\n",
    "    deno_counts = 0\n",
    "    for i in range(h_deno_e.GetNbinsX()):\n",
    "        for j in range(h_deno_e.GetNbinsY()):\n",
    "            deno_counts += h_deno_e.GetBinContent(i+1,j+1) \n",
    "\n",
    "    nume_counts = 0\n",
    "    for i in range(h_nume_e.GetNbinsX()):\n",
    "        for j in range(h_nume_e.GetNbinsY()):\n",
    "            nume_counts += h_nume_e.GetBinContent(i+1,j+1) \n",
    "\n",
    "    print (f\"normalized deno :{deno_counts}\")\n",
    "    print (f\"normalized nume :{nume_counts}\")"
   ]
  },
  {
   "cell_type": "markdown",
   "id": "85ee7c6c",
   "metadata": {},
   "source": [
    "Data processing"
   ]
  },
  {
   "cell_type": "code",
   "execution_count": 15,
   "id": "5c21ae43",
   "metadata": {},
   "outputs": [
    {
     "name": "stdout",
     "output_type": "stream",
     "text": [
      "is Data\n"
     ]
    },
    {
     "name": "stderr",
     "output_type": "stream",
     "text": [
      "fill pt < 25 GeV for /eos/home-j/jiwoong/WZG_DB/2016/merged_FakeLepton_FR/SingleElectron_Run2016B.root: 100%|██████████| 322/322 [00:00<00:00, 20575.98it/s]\n",
      "fill pt > 25 GeV for /eos/home-j/jiwoong/WZG_DB/2016/merged_FakeLepton_FR/SingleElectron_Run2016B.root: 100%|██████████| 12608/12608 [00:00<00:00, 30538.56it/s]\n"
     ]
    },
    {
     "name": "stdout",
     "output_type": "stream",
     "text": [
      "normalized deno :12900.0\n",
      "normalized nume :8717.0\n",
      "is Data\n"
     ]
    },
    {
     "name": "stderr",
     "output_type": "stream",
     "text": [
      "fill pt < 25 GeV for /eos/home-j/jiwoong/WZG_DB/2016/merged_FakeLepton_FR/SingleElectron_Run2016C.root: 100%|██████████| 39/39 [00:00<00:00, 17547.51it/s]\n",
      "fill pt > 25 GeV for /eos/home-j/jiwoong/WZG_DB/2016/merged_FakeLepton_FR/SingleElectron_Run2016C.root: 100%|██████████| 2154/2154 [00:00<00:00, 26059.69it/s]\n"
     ]
    },
    {
     "name": "stdout",
     "output_type": "stream",
     "text": [
      "normalized deno :15091.0\n",
      "normalized nume :10189.0\n",
      "is Data\n"
     ]
    },
    {
     "name": "stderr",
     "output_type": "stream",
     "text": [
      "fill pt < 25 GeV for /eos/home-j/jiwoong/WZG_DB/2016/merged_FakeLepton_FR/SingleElectron_Run2016D.root: 100%|██████████| 51/51 [00:00<00:00, 23641.63it/s]\n",
      "fill pt > 25 GeV for /eos/home-j/jiwoong/WZG_DB/2016/merged_FakeLepton_FR/SingleElectron_Run2016D.root: 100%|██████████| 3578/3578 [00:00<00:00, 33904.43it/s]\n"
     ]
    },
    {
     "name": "stdout",
     "output_type": "stream",
     "text": [
      "normalized deno :18713.0\n",
      "normalized nume :12667.0\n",
      "is Data\n"
     ]
    },
    {
     "name": "stderr",
     "output_type": "stream",
     "text": [
      "fill pt < 25 GeV for /eos/home-j/jiwoong/WZG_DB/2016/merged_FakeLepton_FR/SingleElectron_Run2016E.root: 100%|██████████| 28/28 [00:00<00:00, 33081.83it/s]\n",
      "fill pt > 25 GeV for /eos/home-j/jiwoong/WZG_DB/2016/merged_FakeLepton_FR/SingleElectron_Run2016E.root: 100%|██████████| 2588/2588 [00:00<00:00, 45652.96it/s]\n"
     ]
    },
    {
     "name": "stdout",
     "output_type": "stream",
     "text": [
      "normalized deno :21323.0\n",
      "normalized nume :14438.0\n",
      "is Data\n"
     ]
    },
    {
     "name": "stderr",
     "output_type": "stream",
     "text": [
      "fill pt < 25 GeV for /eos/home-j/jiwoong/WZG_DB/2016/merged_FakeLepton_FR/SingleElectron_Run2016F.root: 100%|██████████| 21/21 [00:00<00:00, 30425.00it/s]\n",
      "fill pt > 25 GeV for /eos/home-j/jiwoong/WZG_DB/2016/merged_FakeLepton_FR/SingleElectron_Run2016F.root: 100%|██████████| 828/828 [00:00<00:00, 43722.57it/s]\n"
     ]
    },
    {
     "name": "stdout",
     "output_type": "stream",
     "text": [
      "normalized deno :22169.0\n",
      "normalized nume :15064.0\n",
      "is Data\n"
     ]
    },
    {
     "name": "stderr",
     "output_type": "stream",
     "text": [
      "fill pt < 25 GeV for /eos/home-j/jiwoong/WZG_DB/2016/merged_FakeLepton_FR/SingleElectron_Run2016G.root: 100%|██████████| 29/29 [00:00<00:00, 33815.63it/s]\n",
      "fill pt > 25 GeV for /eos/home-j/jiwoong/WZG_DB/2016/merged_FakeLepton_FR/SingleElectron_Run2016G.root: 100%|██████████| 1112/1112 [00:00<00:00, 43554.80it/s]\n"
     ]
    },
    {
     "name": "stdout",
     "output_type": "stream",
     "text": [
      "normalized deno :23310.0\n",
      "normalized nume :15949.0\n",
      "is Data\n"
     ]
    },
    {
     "name": "stderr",
     "output_type": "stream",
     "text": [
      "fill pt < 25 GeV for /eos/home-j/jiwoong/WZG_DB/2016/merged_FakeLepton_FR/SingleElectron_Run2016H.root: 100%|██████████| 16/16 [00:00<00:00, 19124.78it/s]\n",
      "fill pt > 25 GeV for /eos/home-j/jiwoong/WZG_DB/2016/merged_FakeLepton_FR/SingleElectron_Run2016H.root: 100%|██████████| 845/845 [00:00<00:00, 29369.69it/s]"
     ]
    },
    {
     "name": "stdout",
     "output_type": "stream",
     "text": [
      "normalized deno :24168.0\n",
      "normalized nume :16662.0\n"
     ]
    },
    {
     "name": "stderr",
     "output_type": "stream",
     "text": [
      "\n"
     ]
    }
   ],
   "source": [
    "ybins = [10, 13, 16, 20, 24, 28, 35, 45, 60]\n",
    "xbins = [.0, 0.5, 1.0, 1.5, 2.0, 2.5]\n",
    "\n",
    "from array import array\n",
    "h_deno_e = ROOT.TH2D(\"\",\"\", 5, array('d',xbins), 8, array('d',ybins))\n",
    "h_deno_e.StatOverflows(1)\n",
    "h_deno_e.Sumw2()\n",
    "h_nume_e = ROOT.TH2D(\"\",\"\", 5, array('d',xbins), 8, array('d',ybins))\n",
    "h_nume_e.StatOverflows(1)\n",
    "h_nume_e.Sumw2()\n",
    "\n",
    "\n",
    "\n",
    "file_list_E = [\n",
    "    '/eos/home-j/jiwoong/WZG_DB/2016/merged_FakeLepton_FR/SingleElectron_Run2016B.root',\n",
    "    '/eos/home-j/jiwoong/WZG_DB/2016/merged_FakeLepton_FR/SingleElectron_Run2016C.root',\n",
    "    '/eos/home-j/jiwoong/WZG_DB/2016/merged_FakeLepton_FR/SingleElectron_Run2016D.root',\n",
    "    '/eos/home-j/jiwoong/WZG_DB/2016/merged_FakeLepton_FR/SingleElectron_Run2016E.root',\n",
    "    '/eos/home-j/jiwoong/WZG_DB/2016/merged_FakeLepton_FR/SingleElectron_Run2016F.root',\n",
    "    '/eos/home-j/jiwoong/WZG_DB/2016/merged_FakeLepton_FR/SingleElectron_Run2016G.root',\n",
    "    '/eos/home-j/jiwoong/WZG_DB/2016/merged_FakeLepton_FR/SingleElectron_Run2016H.root'\n",
    "]\n",
    "for file_DATA in file_list_E:\n",
    "    AddHist_FR_Ele(file_DATA, h_nume_e, h_deno_e, 1, 1, 0, 0, 0)"
   ]
  },
  {
   "cell_type": "markdown",
   "id": "39e38c4e",
   "metadata": {},
   "source": [
    "MC processing"
   ]
  },
  {
   "cell_type": "code",
   "execution_count": 16,
   "id": "56669363",
   "metadata": {},
   "outputs": [
    {
     "name": "stdout",
     "output_type": "stream",
     "text": [
      "is MC\n"
     ]
    },
    {
     "name": "stderr",
     "output_type": "stream",
     "text": [
      "fill pt < 25 GeV for /eos/home-j/jiwoong/WZG_DB/2016/merged_FakeLepton_FR/merged_FakeLepFR_ZW/WJetsToLNu_TuneCP5_13TeV-madgraphMLM-pythia8_2016.root: 100%|██████████| 17507/17507 [00:00<00:00, 26130.47it/s]\n",
      "fill pt > 25 GeV for /eos/home-j/jiwoong/WZG_DB/2016/merged_FakeLepton_FR/merged_FakeLepFR_ZW/WJetsToLNu_TuneCP5_13TeV-madgraphMLM-pythia8_2016.root: 100%|██████████| 69470/69470 [00:04<00:00, 16636.23it/s]\n"
     ]
    },
    {
     "name": "stdout",
     "output_type": "stream",
     "text": [
      "normalized deno :22347.132394526212\n",
      "normalized nume :14898.502323075392\n",
      "is MC\n"
     ]
    },
    {
     "name": "stderr",
     "output_type": "stream",
     "text": [
      "fill pt < 25 GeV for /eos/home-j/jiwoong/WZG_DB/2016/merged_FakeLepton_FR/merged_FakeLepFR_ZW/DYJetsToLL_M-50_TuneCP5_13TeV-madgraphMLM-pythia8_2016.root: 100%|██████████| 195555/195555 [00:07<00:00, 26433.24it/s]\n",
      "fill pt > 25 GeV for /eos/home-j/jiwoong/WZG_DB/2016/merged_FakeLepton_FR/merged_FakeLepFR_ZW/DYJetsToLL_M-50_TuneCP5_13TeV-madgraphMLM-pythia8_2016.root: 100%|██████████| 729955/729955 [00:39<00:00, 18417.97it/s]\n"
     ]
    },
    {
     "name": "stdout",
     "output_type": "stream",
     "text": [
      "normalized deno :20844.05982207643\n",
      "normalized nume :13449.312208226705\n",
      "is MC\n"
     ]
    },
    {
     "name": "stderr",
     "output_type": "stream",
     "text": [
      "fill pt < 25 GeV for /eos/home-j/jiwoong/WZG_DB/2016/merged_FakeLepton_FR/merged_FakeLepFR_ZW/DYJetsToLL_M-10to50_TuneCP5_13TeV-madgraphMLM-pythia8_2016.root: 100%|██████████| 9469/9469 [00:00<00:00, 30828.36it/s]\n",
      "fill pt > 25 GeV for /eos/home-j/jiwoong/WZG_DB/2016/merged_FakeLepton_FR/merged_FakeLepFR_ZW/DYJetsToLL_M-10to50_TuneCP5_13TeV-madgraphMLM-pythia8_2016.root: 100%|██████████| 6857/6857 [00:00<00:00, 20554.54it/s]\n"
     ]
    },
    {
     "name": "stdout",
     "output_type": "stream",
     "text": [
      "normalized deno :20664.722146884786\n",
      "normalized nume :13278.773703611443\n",
      "0.01485 0.06281 61526.7\n",
      "0.01485 0.06281 6077.22\n",
      "0.01485 0.06281 18610\n"
     ]
    }
   ],
   "source": [
    "file_WJets = '/eos/home-j/jiwoong/WZG_DB/2016/merged_FakeLepton_FR/merged_FakeLepFR_ZW/WJetsToLNu_TuneCP5_13TeV-madgraphMLM-pythia8_2016.root'\n",
    "file_ZJets = '/eos/home-j/jiwoong/WZG_DB/2016/merged_FakeLepton_FR/merged_FakeLepFR_ZW/DYJetsToLL_M-50_TuneCP5_13TeV-madgraphMLM-pythia8_2016.root'\n",
    "file_ZJets2 = '/eos/home-j/jiwoong/WZG_DB/2016/merged_FakeLepton_FR/merged_FakeLepFR_ZW/DYJetsToLL_M-10to50_TuneCP5_13TeV-madgraphMLM-pythia8_2016.root'\n",
    "\n",
    "xsec_WJets = 61526.7  \n",
    "xsec_ZJets = 6077.22 \n",
    "xsec_ZJets2 = 18610\n",
    "\n",
    "lumi_Ele12 = 0.01485 # HLT_Ele8_CaloIdL_TrackIdL_IsoVL_PFJet30 2018 lumi\n",
    "lumi_Ele23 = 0.06281 # HLT_Ele23_CaloIdL_TrackIdL_IsoVL_PFJet30 2018 lumi\n",
    "\n",
    "AddHist_FR_Ele(file_WJets, h_nume_e, h_deno_e, -1, 0, lumi_Ele12, lumi_Ele23, xsec_WJets)\n",
    "AddHist_FR_Ele(file_ZJets, h_nume_e, h_deno_e, -1, 0, lumi_Ele12, lumi_Ele23, xsec_ZJets)\n",
    "AddHist_FR_Ele(file_ZJets2, h_nume_e, h_deno_e, -1, 0, lumi_Ele12, lumi_Ele23, xsec_ZJets2)\n",
    "print (lumi_Ele12, lumi_Ele23, xsec_WJets)\n",
    "print (lumi_Ele12, lumi_Ele23, xsec_ZJets)\n",
    "print (lumi_Ele12, lumi_Ele23, xsec_ZJets2)"
   ]
  },
  {
   "cell_type": "code",
   "execution_count": 17,
   "id": "cb510a43",
   "metadata": {},
   "outputs": [
    {
     "name": "stdout",
     "output_type": "stream",
     "text": [
      "35.86 fb^{-1} (13 TeV)\n"
     ]
    },
    {
     "data": {
      "image/png": "[encoded data removed]",
      "text/plain": [
       "<IPython.core.display.Image object>"
      ]
     },
     "metadata": {},
     "output_type": "display_data"
    }
   ],
   "source": [
    "fake_rate_e = h_nume_e.Clone(\"fake_rate_e\")\n",
    "fake_rate_e.Divide(h_deno_e)\n",
    "\n",
    "fake_rate_e.SetDirectory(0)\n",
    "c1 = ROOT.TCanvas(\"\",\"\",1200,800)\n",
    "fake_rate_e.SetStats(0)\n",
    "fake_rate_e.SetXTitle(\"|#eta|\")\n",
    "fake_rate_e.SetYTitle(\"P_{T} [GeV]\")\n",
    "fake_rate_e.SetMarkerSize(1.3)\n",
    "ROOT.gStyle.SetPaintTextFormat('4.2f')\n",
    "fake_rate_e.Draw(\"COLZe TEXT\")\n",
    "c1.Draw()\n",
    "CMS_lumi(c1,0,0)\n",
    "# c1.SaveAs('Fake_Lepton/2017/FR_Electron_data_2017_new.pdf')\n",
    "# c1.SaveAs('Fake_Lepton/2017/FR_Electron_data_2017_new.png')"
   ]
  },
  {
   "cell_type": "code",
   "execution_count": null,
   "id": "807ae511",
   "metadata": {},
   "outputs": [],
   "source": []
  }
 ],
 "metadata": {
  "kernelspec": {
   "display_name": "Python 3",
   "language": "python",
   "name": "python3"
  },
  "language_info": {
   "codemirror_mode": {
    "name": "ipython",
    "version": 3
   },
   "file_extension": ".py",
   "mimetype": "text/x-python",
   "name": "python",
   "nbconvert_exporter": "python",
   "pygments_lexer": "ipython3",
   "version": "3.9.6"
  }
 },
 "nbformat": 4,
 "nbformat_minor": 5
}
