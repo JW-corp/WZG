{
 "cells": [
  {
   "cell_type": "code",
   "execution_count": 6,
   "id": "f868eabe",
   "metadata": {},
   "outputs": [],
   "source": [
    "import matplotlib\n",
    "import uproot, uproot3\n",
    "import numpy\n",
    "import numba\n",
    "import numpy as np\n",
    "import matplotlib.pyplot as plt\n",
    "import pandas as pd\n",
    "from tqdm import trange\n",
    "import ROOT\n",
    "import os,sys\n",
    "from array import array\n",
    "\n",
    "from Lumi import *\n",
    "from TDR_Style import *\n",
    "from Ratio_Plot import *"
   ]
  },
  {
   "cell_type": "code",
   "execution_count": 7,
   "id": "7526cde1",
   "metadata": {},
   "outputs": [],
   "source": [
    "@numba.njit\n",
    "def sgn(num):\n",
    "    if (num >= 0):\n",
    "        return 1\n",
    "    else:\n",
    "        return -1"
   ]
  },
  {
   "cell_type": "markdown",
   "id": "08495c6d",
   "metadata": {},
   "source": [
    "### 1. Template Distribution"
   ]
  },
  {
   "cell_type": "code",
   "execution_count": 8,
   "id": "56eafebd",
   "metadata": {},
   "outputs": [],
   "source": [
    "def AddHist_FTdist(file, branch, hist_pre1, hist_pre2, isData, xsec):\n",
    "    \n",
    "    if isData:\n",
    "        print('is Data')\n",
    "        init_branches = ['is_lepton_tight','jet_pt','mt','met','lepton_pt','lepton_eta','lepton_pdgid','lepton_pfRelIso04_all',\n",
    "                                                       'HLT_IsoMu24','HLT_Mu8_TrkIsoVVL','HLT_Mu17_TrkIsoVVL','hlt',\n",
    "                                                      'HLT_Ele8_CaloIdL_TrackIdL_IsoVL_PFJet30','HLT_Ele12_CaloIdL_TrackIdL_IsoVL_PFJet30','HLT_Ele23_CaloIdL_TrackIdL_IsoVL_PFJet30']\n",
    "        if not (branch in init_branches):\n",
    "            init_branches.append(branch)\n",
    "        branches = uproot.open(file+':Events').arrays(init_branches, library='pd')\n",
    "\n",
    "    else:\n",
    "        print('is MC')\n",
    "        init_branches = ['is_lepton_tight','jet_pt','mt','met','lepton_pt','lepton_eta','lepton_pdgid','lepton_pfRelIso04_all','lepton_gen_matching','gen_weight',\n",
    "                                                       'HLT_IsoMu24','HLT_Mu8_TrkIsoVVL','HLT_Mu17_TrkIsoVVL','hlt',\n",
    "                                                      'HLT_Ele8_CaloIdL_TrackIdL_IsoVL_PFJet30','HLT_Ele12_CaloIdL_TrackIdL_IsoVL_PFJet30','HLT_Ele23_CaloIdL_TrackIdL_IsoVL_PFJet30']\n",
    "        if not (branch in init_branches):\n",
    "            init_branches.append(branch)\n",
    "        branches = uproot.open(file+':Events').arrays(init_branches, library='pd')\n",
    "        true_events = uproot.open(file)['nEventsGenWeighted'].values()[0]\n",
    "\n",
    "        weight_lowpt = (1000*xsec*0.01485) / true_events\n",
    "        weight_highpt = (1000*xsec*0.06281) / true_events\n",
    "        lepton_gen_cut1 = branches.loc[:,'lepton_gen_matching'] == 1\n",
    "        lepton_gen_cut2 = branches.loc[:,'lepton_gen_matching'] == 15\n",
    "        \n",
    "    HLT_cut1 = branches.loc[:,'HLT_Ele12_CaloIdL_TrackIdL_IsoVL_PFJet30'] == True\n",
    "    HLT_cut2 = branches.loc[:,'HLT_Ele23_CaloIdL_TrackIdL_IsoVL_PFJet30'] == True\n",
    "    \n",
    "    met_cut = branches.loc[:,'met'] < 2000\n",
    "    mt_cut = branches.loc[:,'mt'] < 20\n",
    "    lepton_cut = abs(branches.loc[:,'lepton_pdgid']) == 11\n",
    "#    pf_cut = branches.loc[:,'lepton_pfRelIso04_all'] < 0.4\n",
    "    pf_cut = branches.loc[:,'is_lepton_tight'] == 0\n",
    "    pt_edge = branches.loc[:,'lepton_pt'] < 25\n",
    "    jet_pt = branches.loc[:,'jet_pt'] > 35\n",
    "    \n",
    "    if isData:\n",
    "        arrays_0_25 = branches.loc[HLT_cut1 & lepton_cut & pf_cut & pt_edge & met_cut & mt_cut & jet_pt,:] \n",
    "        arrays_25_Inf = branches.loc[HLT_cut2 & lepton_cut & pf_cut & ~pt_edge & met_cut & mt_cut & jet_pt,:] \n",
    "        for i in trange(0, len(arrays_0_25[branch]), desc=f'fill pt<25 part for {file}'):\n",
    "            hist_pre1.Fill(float(arrays_0_25[branch].values[i]))\n",
    "        for i in trange(0, len(arrays_25_Inf[branch]), desc=f'fill pt>25 part for {file}'):\n",
    "            hist_pre2.Fill(float(arrays_25_Inf[branch].values[i]))\n",
    "    \n",
    "    else:\n",
    "        if ('TTbar' in file) or ('QCD' in file):\n",
    "            print (\"QCD process\\n\")\n",
    "            arrays_0_25 = branches.loc[HLT_cut1 & lepton_cut & pf_cut & pt_edge & met_cut & mt_cut & jet_pt,:] \n",
    "            arrays_25_Inf = branches.loc[HLT_cut2 & lepton_cut & pf_cut & ~pt_edge & met_cut & mt_cut & jet_pt,:] \n",
    "        else:\n",
    "            arrays_0_25 = branches.loc[HLT_cut1 & lepton_cut & pf_cut & pt_edge & met_cut & mt_cut & (lepton_gen_cut1 | lepton_gen_cut2) & jet_pt,:] \n",
    "            arrays_25_Inf = branches.loc[HLT_cut2 & lepton_cut & pf_cut & ~pt_edge & met_cut & mt_cut & (lepton_gen_cut1 | lepton_gen_cut2) & jet_pt,:] \n",
    "        for i in trange(0, len(arrays_0_25[branch]), desc=f'fill pt<25 part for {file}'):\n",
    "            hist_pre1.Fill(float(arrays_0_25[branch].values[i]), weight_lowpt*sgn(arrays_0_25['gen_weight'].values[i]))\n",
    "        for i in trange(0, len(arrays_25_Inf[branch]), desc=f'fill pt>25 part for {file}'):\n",
    "            hist_pre2.Fill(float(arrays_25_Inf[branch].values[i]), weight_highpt*sgn(arrays_25_Inf['gen_weight'].values[i]))\n",
    "        \n",
    "    print(\"DONE\")\n",
    "\n",
    "    return True"
   ]
  },
  {
   "cell_type": "markdown",
   "id": "11858231",
   "metadata": {},
   "source": [
    "### PT dist"
   ]
  },
  {
   "cell_type": "code",
   "execution_count": 9,
   "id": "dda2f664",
   "metadata": {},
   "outputs": [
    {
     "name": "stdout",
     "output_type": "stream",
     "text": [
      "is Data\n"
     ]
    },
    {
     "name": "stderr",
     "output_type": "stream",
     "text": [
      "fill pt<25 part for /eos/home-j/jiwoong/WZG_DB/2016/pre_post_separated_220209/FakeLepton/FR/merged/DoubleEG_Run2016B.root: 100%|██████████| 16070/16070 [00:00<00:00, 164104.87it/s]\n",
      "fill pt>25 part for /eos/home-j/jiwoong/WZG_DB/2016/pre_post_separated_220209/FakeLepton/FR/merged/DoubleEG_Run2016B.root: 100%|██████████| 52691/52691 [00:00<00:00, 178245.88it/s]\n"
     ]
    },
    {
     "name": "stdout",
     "output_type": "stream",
     "text": [
      "DONE\n",
      "is Data\n"
     ]
    },
    {
     "name": "stderr",
     "output_type": "stream",
     "text": [
      "fill pt<25 part for /eos/home-j/jiwoong/WZG_DB/2016/pre_post_separated_220209/FakeLepton/FR/merged/DoubleEG_Run2016C.root: 100%|██████████| 3998/3998 [00:00<00:00, 145623.41it/s]\n",
      "fill pt>25 part for /eos/home-j/jiwoong/WZG_DB/2016/pre_post_separated_220209/FakeLepton/FR/merged/DoubleEG_Run2016C.root: 100%|██████████| 11540/11540 [00:00<00:00, 145336.44it/s]\n"
     ]
    },
    {
     "name": "stdout",
     "output_type": "stream",
     "text": [
      "DONE\n",
      "is Data\n"
     ]
    },
    {
     "name": "stderr",
     "output_type": "stream",
     "text": [
      "fill pt<25 part for /eos/home-j/jiwoong/WZG_DB/2016/pre_post_separated_220209/FakeLepton/FR/merged/DoubleEG_Run2016D.root: 100%|██████████| 6546/6546 [00:00<00:00, 169888.89it/s]\n",
      "fill pt>25 part for /eos/home-j/jiwoong/WZG_DB/2016/pre_post_separated_220209/FakeLepton/FR/merged/DoubleEG_Run2016D.root: 100%|██████████| 19271/19271 [00:00<00:00, 165549.26it/s]\n"
     ]
    },
    {
     "name": "stdout",
     "output_type": "stream",
     "text": [
      "DONE\n",
      "is Data\n"
     ]
    },
    {
     "name": "stderr",
     "output_type": "stream",
     "text": [
      "fill pt<25 part for /eos/home-j/jiwoong/WZG_DB/2016/pre_post_separated_220209/FakeLepton/FR/merged/DoubleEG_Run2016E.root: 100%|██████████| 5217/5217 [00:00<00:00, 134858.18it/s]\n",
      "fill pt>25 part for /eos/home-j/jiwoong/WZG_DB/2016/pre_post_separated_220209/FakeLepton/FR/merged/DoubleEG_Run2016E.root: 100%|██████████| 14932/14932 [00:00<00:00, 134691.40it/s]\n"
     ]
    },
    {
     "name": "stdout",
     "output_type": "stream",
     "text": [
      "DONE\n",
      "is Data\n"
     ]
    },
    {
     "name": "stderr",
     "output_type": "stream",
     "text": [
      "fill pt<25 part for /eos/home-j/jiwoong/WZG_DB/2016/pre_post_separated_220209/FakeLepton/FR/merged/DoubleEG_Run2016F.root: 100%|██████████| 2767/2767 [00:00<00:00, 175643.42it/s]\n",
      "fill pt>25 part for /eos/home-j/jiwoong/WZG_DB/2016/pre_post_separated_220209/FakeLepton/FR/merged/DoubleEG_Run2016F.root: 100%|██████████| 6056/6056 [00:00<00:00, 174214.89it/s]\n"
     ]
    },
    {
     "name": "stdout",
     "output_type": "stream",
     "text": [
      "DONE\n",
      "is Data\n"
     ]
    },
    {
     "name": "stderr",
     "output_type": "stream",
     "text": [
      "fill pt<25 part for /eos/home-j/jiwoong/WZG_DB/2016/pre_post_separated_220209/FakeLepton/FR/merged/DoubleEG_Run2016G.root: 100%|██████████| 6188/6188 [00:00<00:00, 144475.79it/s]\n",
      "fill pt>25 part for /eos/home-j/jiwoong/WZG_DB/2016/pre_post_separated_220209/FakeLepton/FR/merged/DoubleEG_Run2016G.root: 100%|██████████| 9576/9576 [00:00<00:00, 173491.43it/s]\n"
     ]
    },
    {
     "name": "stdout",
     "output_type": "stream",
     "text": [
      "DONE\n",
      "is Data\n"
     ]
    },
    {
     "name": "stderr",
     "output_type": "stream",
     "text": [
      "fill pt<25 part for /eos/home-j/jiwoong/WZG_DB/2016/pre_post_separated_220209/FakeLepton/FR/merged/DoubleEG_Run2016H.root: 100%|██████████| 5895/5895 [00:00<00:00, 132961.69it/s]\n",
      "fill pt>25 part for /eos/home-j/jiwoong/WZG_DB/2016/pre_post_separated_220209/FakeLepton/FR/merged/DoubleEG_Run2016H.root: 100%|██████████| 9003/9003 [00:00<00:00, 167257.18it/s]\n"
     ]
    },
    {
     "name": "stdout",
     "output_type": "stream",
     "text": [
      "DONE\n",
      "is MC\n"
     ]
    },
    {
     "name": "stderr",
     "output_type": "stream",
     "text": [
      "fill pt<25 part for /eos/home-j/jiwoong/WZG_DB/2016/pre_post_separated_220209/FakeLepton/FR/merged/WJetsToLNu_TuneCP5_13TeV-madgraphMLM-pythia8_2016.root: 100%|██████████| 4568/4568 [00:00<00:00, 8792.51it/s]\n",
      "fill pt>25 part for /eos/home-j/jiwoong/WZG_DB/2016/pre_post_separated_220209/FakeLepton/FR/merged/WJetsToLNu_TuneCP5_13TeV-madgraphMLM-pythia8_2016.root: 100%|██████████| 5506/5506 [00:00<00:00, 113298.39it/s]\n"
     ]
    },
    {
     "name": "stdout",
     "output_type": "stream",
     "text": [
      "DONE\n",
      "is MC\n"
     ]
    },
    {
     "name": "stderr",
     "output_type": "stream",
     "text": [
      "fill pt<25 part for /eos/home-j/jiwoong/WZG_DB/2016/pre_post_separated_220209/FakeLepton/FR/merged/DYJetsToLL_M-50_TuneCP5_13TeV-madgraphMLM-pythia8_2016.root: 100%|██████████| 35776/35776 [00:00<00:00, 68873.61it/s]\n",
      "fill pt>25 part for /eos/home-j/jiwoong/WZG_DB/2016/pre_post_separated_220209/FakeLepton/FR/merged/DYJetsToLL_M-50_TuneCP5_13TeV-madgraphMLM-pythia8_2016.root: 100%|██████████| 49496/49496 [00:00<00:00, 98017.92it/s] \n"
     ]
    },
    {
     "name": "stdout",
     "output_type": "stream",
     "text": [
      "DONE\n",
      "is MC\n"
     ]
    },
    {
     "name": "stderr",
     "output_type": "stream",
     "text": [
      "fill pt<25 part for /eos/home-j/jiwoong/WZG_DB/2016/pre_post_separated_220209/FakeLepton/FR/merged/DYJetsToLL_M-10to50_TuneCP5_13TeV-madgraphMLM-pythia8_2016.root: 100%|██████████| 1008/1008 [00:00<00:00, 99977.73it/s]\n",
      "fill pt>25 part for /eos/home-j/jiwoong/WZG_DB/2016/pre_post_separated_220209/FakeLepton/FR/merged/DYJetsToLL_M-10to50_TuneCP5_13TeV-madgraphMLM-pythia8_2016.root: 100%|██████████| 466/466 [00:00<00:00, 106514.75it/s]\n"
     ]
    },
    {
     "name": "stdout",
     "output_type": "stream",
     "text": [
      "DONE\n",
      "is MC\n",
      "QCD process\n",
      "\n"
     ]
    },
    {
     "name": "stderr",
     "output_type": "stream",
     "text": [
      "fill pt<25 part for /eos/home-j/jiwoong/WZG_DB/2016/pre_post_separated_220209/FakeLepton/FR/merged/QCD_Pt-15to20_EMEnriched_TuneCP5_13TeV_pythia8_2016.root: 100%|██████████| 277/277 [00:00<00:00, 101451.47it/s]\n",
      "fill pt>25 part for /eos/home-j/jiwoong/WZG_DB/2016/pre_post_separated_220209/FakeLepton/FR/merged/QCD_Pt-15to20_EMEnriched_TuneCP5_13TeV_pythia8_2016.root: 100%|██████████| 24/24 [00:00<00:00, 59670.00it/s]"
     ]
    },
    {
     "name": "stdout",
     "output_type": "stream",
     "text": [
      "DONE\n",
      "is MC\n"
     ]
    },
    {
     "name": "stderr",
     "output_type": "stream",
     "text": [
      "\n"
     ]
    },
    {
     "name": "stdout",
     "output_type": "stream",
     "text": [
      "QCD process\n",
      "\n"
     ]
    },
    {
     "name": "stderr",
     "output_type": "stream",
     "text": [
      "fill pt<25 part for /eos/home-j/jiwoong/WZG_DB/2016/pre_post_separated_220209/FakeLepton/FR/merged/QCD_Pt-20to30_EMEnriched_TuneCP5_13TeV_pythia8_2016.root: 100%|██████████| 1562/1562 [00:00<00:00, 110657.93it/s]\n",
      "fill pt>25 part for /eos/home-j/jiwoong/WZG_DB/2016/pre_post_separated_220209/FakeLepton/FR/merged/QCD_Pt-20to30_EMEnriched_TuneCP5_13TeV_pythia8_2016.root: 100%|██████████| 211/211 [00:00<00:00, 99226.16it/s]"
     ]
    },
    {
     "name": "stdout",
     "output_type": "stream",
     "text": [
      "DONE\n",
      "is MC\n"
     ]
    },
    {
     "name": "stderr",
     "output_type": "stream",
     "text": [
      "\n"
     ]
    },
    {
     "name": "stdout",
     "output_type": "stream",
     "text": [
      "QCD process\n",
      "\n"
     ]
    },
    {
     "name": "stderr",
     "output_type": "stream",
     "text": [
      "fill pt<25 part for /eos/home-j/jiwoong/WZG_DB/2016/pre_post_separated_220209/FakeLepton/FR/merged/QCD_Pt-30to50_EMEnriched_TuneCP5_13TeV_pythia8_2016.root: 100%|██████████| 5095/5095 [00:00<00:00, 82368.37it/s]\n",
      "fill pt>25 part for /eos/home-j/jiwoong/WZG_DB/2016/pre_post_separated_220209/FakeLepton/FR/merged/QCD_Pt-30to50_EMEnriched_TuneCP5_13TeV_pythia8_2016.root: 100%|██████████| 2891/2891 [00:00<00:00, 70767.12it/s]"
     ]
    },
    {
     "name": "stdout",
     "output_type": "stream",
     "text": [
      "DONE\n",
      "is MC\n"
     ]
    },
    {
     "name": "stderr",
     "output_type": "stream",
     "text": [
      "\n"
     ]
    },
    {
     "name": "stdout",
     "output_type": "stream",
     "text": [
      "QCD process\n",
      "\n"
     ]
    },
    {
     "name": "stderr",
     "output_type": "stream",
     "text": [
      "fill pt<25 part for /eos/home-j/jiwoong/WZG_DB/2016/pre_post_separated_220209/FakeLepton/FR/merged/QCD_Pt-50to80_EMEnriched_TuneCP5_13TeV_pythia8_2016.root: 100%|██████████| 2756/2756 [00:00<00:00, 71162.11it/s]\n",
      "fill pt>25 part for /eos/home-j/jiwoong/WZG_DB/2016/pre_post_separated_220209/FakeLepton/FR/merged/QCD_Pt-50to80_EMEnriched_TuneCP5_13TeV_pythia8_2016.root: 100%|██████████| 6388/6388 [00:00<00:00, 74865.01it/s]"
     ]
    },
    {
     "name": "stdout",
     "output_type": "stream",
     "text": [
      "DONE\n",
      "is MC\n"
     ]
    },
    {
     "name": "stderr",
     "output_type": "stream",
     "text": [
      "\n"
     ]
    },
    {
     "name": "stdout",
     "output_type": "stream",
     "text": [
      "QCD process\n",
      "\n"
     ]
    },
    {
     "name": "stderr",
     "output_type": "stream",
     "text": [
      "fill pt<25 part for /eos/home-j/jiwoong/WZG_DB/2016/pre_post_separated_220209/FakeLepton/FR/merged/QCD_Pt-80to120_EMEnriched_TuneCP5_13TeV_pythia8_2016.root: 100%|██████████| 1738/1738 [00:00<00:00, 87973.99it/s]\n",
      "fill pt>25 part for /eos/home-j/jiwoong/WZG_DB/2016/pre_post_separated_220209/FakeLepton/FR/merged/QCD_Pt-80to120_EMEnriched_TuneCP5_13TeV_pythia8_2016.root: 100%|██████████| 7055/7055 [00:00<00:00, 86400.83it/s]"
     ]
    },
    {
     "name": "stdout",
     "output_type": "stream",
     "text": [
      "DONE\n",
      "is MC\n"
     ]
    },
    {
     "name": "stderr",
     "output_type": "stream",
     "text": [
      "\n"
     ]
    },
    {
     "name": "stdout",
     "output_type": "stream",
     "text": [
      "QCD process\n",
      "\n"
     ]
    },
    {
     "name": "stderr",
     "output_type": "stream",
     "text": [
      "fill pt<25 part for /eos/home-j/jiwoong/WZG_DB/2016/pre_post_separated_220209/FakeLepton/FR/merged/QCD_Pt-120to170_EMEnriched_TuneCP5_13TeV_pythia8_2016.root: 100%|██████████| 1557/1557 [00:00<00:00, 84361.80it/s]\n",
      "fill pt>25 part for /eos/home-j/jiwoong/WZG_DB/2016/pre_post_separated_220209/FakeLepton/FR/merged/QCD_Pt-120to170_EMEnriched_TuneCP5_13TeV_pythia8_2016.root: 100%|██████████| 7322/7322 [00:00<00:00, 84494.69it/s]"
     ]
    },
    {
     "name": "stdout",
     "output_type": "stream",
     "text": [
      "DONE\n",
      "is MC\n"
     ]
    },
    {
     "name": "stderr",
     "output_type": "stream",
     "text": [
      "\n"
     ]
    },
    {
     "name": "stdout",
     "output_type": "stream",
     "text": [
      "QCD process\n",
      "\n"
     ]
    },
    {
     "name": "stderr",
     "output_type": "stream",
     "text": [
      "fill pt<25 part for /eos/home-j/jiwoong/WZG_DB/2016/pre_post_separated_220209/FakeLepton/FR/merged/QCD_Pt-170to300_EMEnriched_TuneCP5_13TeV_pythia8_2016.root: 100%|██████████| 514/514 [00:00<00:00, 84319.16it/s]\n",
      "fill pt>25 part for /eos/home-j/jiwoong/WZG_DB/2016/pre_post_separated_220209/FakeLepton/FR/merged/QCD_Pt-170to300_EMEnriched_TuneCP5_13TeV_pythia8_2016.root: 100%|██████████| 2574/2574 [00:00<00:00, 84029.07it/s]"
     ]
    },
    {
     "name": "stdout",
     "output_type": "stream",
     "text": [
      "DONE\n",
      "is MC\n"
     ]
    },
    {
     "name": "stderr",
     "output_type": "stream",
     "text": [
      "\n"
     ]
    },
    {
     "name": "stdout",
     "output_type": "stream",
     "text": [
      "QCD process\n",
      "\n"
     ]
    },
    {
     "name": "stderr",
     "output_type": "stream",
     "text": [
      "fill pt<25 part for /eos/home-j/jiwoong/WZG_DB/2016/pre_post_separated_220209/FakeLepton/FR/merged/QCD_Pt-300toInf_EMEnriched_TuneCP5_13TeV_pythia8_2016.root: 100%|██████████| 365/365 [00:00<00:00, 72073.86it/s]\n",
      "fill pt>25 part for /eos/home-j/jiwoong/WZG_DB/2016/pre_post_separated_220209/FakeLepton/FR/merged/QCD_Pt-300toInf_EMEnriched_TuneCP5_13TeV_pythia8_2016.root: 100%|██████████| 1722/1722 [00:00<00:00, 75262.77it/s]"
     ]
    },
    {
     "name": "stdout",
     "output_type": "stream",
     "text": [
      "DONE\n"
     ]
    },
    {
     "name": "stderr",
     "output_type": "stream",
     "text": [
      "\n"
     ]
    }
   ],
   "source": [
    "xbins = 20\n",
    "xlow = 0\n",
    "xup = 200\n",
    "branch = 'lepton_pt'\n",
    "\n",
    "ptbins = [10, 13, 16, 20, 24, 28, 35, 45, 200]\n",
    "\n",
    "# --original\n",
    "hist_dist1_DATA = ROOT.TH1D(\"\",\"\",xbins, xlow, xup)\n",
    "hist_dist2_DATA = ROOT.TH1D(\"\",\"\",xbins, xlow, xup)\n",
    "\n",
    "# --for pt distribution\n",
    "#hist_dist1_DATA = ROOT.TH1D(\"\",\"\",8, array('d',ptbins))\n",
    "#hist_dist2_DATA = ROOT.TH1D(\"\",\"\",8, array('d',ptbins))\n",
    "\n",
    "hist_dist1_DATA.Sumw2()\n",
    "hist_dist2_DATA.Sumw2()\n",
    "\n",
    "file_list = [\n",
    "\"/eos/home-j/jiwoong/WZG_DB/2016/pre_post_separated_220209/FakeLepton/FR/merged/DoubleEG_Run2016B.root\"\n",
    ",\"/eos/home-j/jiwoong/WZG_DB/2016/pre_post_separated_220209/FakeLepton/FR/merged/DoubleEG_Run2016C.root\"\n",
    ",\"/eos/home-j/jiwoong/WZG_DB/2016/pre_post_separated_220209/FakeLepton/FR/merged/DoubleEG_Run2016D.root\"\n",
    ",\"/eos/home-j/jiwoong/WZG_DB/2016/pre_post_separated_220209/FakeLepton/FR/merged/DoubleEG_Run2016E.root\"\n",
    ",\"/eos/home-j/jiwoong/WZG_DB/2016/pre_post_separated_220209/FakeLepton/FR/merged/DoubleEG_Run2016F.root\"\n",
    ",\"/eos/home-j/jiwoong/WZG_DB/2016/pre_post_separated_220209/FakeLepton/FR/merged/DoubleEG_Run2016G.root\"\n",
    ",\"/eos/home-j/jiwoong/WZG_DB/2016/pre_post_separated_220209/FakeLepton/FR/merged/DoubleEG_Run2016H.root\"\n",
    "]\n",
    "\n",
    "for file in file_list:\n",
    "    AddHist_FTdist(file, branch, hist_dist1_DATA, hist_dist2_DATA, 1, 1)\n",
    "\n",
    "# --original\n",
    "hist_dist1_WJets = ROOT.TH1D(\"\",\"\",xbins, xlow, xup)\n",
    "hist_dist2_WJets = ROOT.TH1D(\"\",\"\",xbins, xlow, xup)\n",
    "hist_dist1_ZJets = ROOT.TH1D(\"\",\"\",xbins, xlow, xup)\n",
    "hist_dist2_ZJets = ROOT.TH1D(\"\",\"\",xbins, xlow, xup)\n",
    "\n",
    "# --for pt \n",
    "#hist_dist1_WJets = ROOT.TH1D(\"\",\"\",8, array('d',ptbins))\n",
    "#hist_dist2_WJets = ROOT.TH1D(\"\",\"\",8, array('d',ptbins))\n",
    "#hist_dist1_ZJets = ROOT.TH1D(\"\",\"\",8, array('d',ptbins))\n",
    "#hist_dist2_ZJets = ROOT.TH1D(\"\",\"\",8, array('d',ptbins))\n",
    "\n",
    "hist_dist1_WJets.Sumw2()\n",
    "hist_dist2_WJets.Sumw2()\n",
    "hist_dist1_ZJets.Sumw2()\n",
    "hist_dist2_ZJets.Sumw2()\n",
    "\n",
    "file_WJets = \"/eos/home-j/jiwoong/WZG_DB/2016/pre_post_separated_220209/FakeLepton/FR/merged/WJetsToLNu_TuneCP5_13TeV-madgraphMLM-pythia8_2016.root\"\n",
    "file_ZJets = \"/eos/home-j/jiwoong/WZG_DB/2016/pre_post_separated_220209/FakeLepton/FR/merged/DYJetsToLL_M-50_TuneCP5_13TeV-madgraphMLM-pythia8_2016.root\"\n",
    "file_ZJets2 = \"/eos/home-j/jiwoong/WZG_DB/2016/pre_post_separated_220209/FakeLepton/FR/merged/DYJetsToLL_M-10to50_TuneCP5_13TeV-madgraphMLM-pythia8_2016.root\"\n",
    "\n",
    "\n",
    "AddHist_FTdist(file_WJets, branch, hist_dist1_WJets, hist_dist2_WJets, 0, 61526.7)\n",
    "AddHist_FTdist(file_ZJets, branch, hist_dist1_ZJets, hist_dist2_ZJets, 0, 6077.22)\n",
    "AddHist_FTdist(file_ZJets2, branch, hist_dist1_ZJets, hist_dist2_ZJets, 0, 18610)\n",
    "\n",
    "# --original\n",
    "hist_dist1_ttbar = ROOT.TH1D(\"\",\"\",xbins, xlow, xup)\n",
    "hist_dist2_ttbar = ROOT.TH1D(\"\",\"\",xbins, xlow, xup)\n",
    "\n",
    "# --for pt\n",
    "#hist_dist1_ttbar = ROOT.TH1D(\"\",\"\",8, array('d',ptbins))\n",
    "#hist_dist2_ttbar = ROOT.TH1D(\"\",\"\",8, array('d',ptbins))\n",
    "\n",
    "hist_dist1_ttbar.Sumw2()\n",
    "hist_dist2_ttbar.Sumw2()\n",
    "\n",
    "# -- Electron channel\n",
    "file_list_QCD = [\n",
    "\"/eos/home-j/jiwoong/WZG_DB/2016/pre_post_separated_220209/FakeLepton/FR/merged/QCD_Pt-15to20_EMEnriched_TuneCP5_13TeV_pythia8_2016.root\"\n",
    ",\"/eos/home-j/jiwoong/WZG_DB/2016/pre_post_separated_220209/FakeLepton/FR/merged/QCD_Pt-20to30_EMEnriched_TuneCP5_13TeV_pythia8_2016.root\"\n",
    ",\"/eos/home-j/jiwoong/WZG_DB/2016/pre_post_separated_220209/FakeLepton/FR/merged/QCD_Pt-30to50_EMEnriched_TuneCP5_13TeV_pythia8_2016.root\"\n",
    ",\"/eos/home-j/jiwoong/WZG_DB/2016/pre_post_separated_220209/FakeLepton/FR/merged/QCD_Pt-50to80_EMEnriched_TuneCP5_13TeV_pythia8_2016.root\"\n",
    ",\"/eos/home-j/jiwoong/WZG_DB/2016/pre_post_separated_220209/FakeLepton/FR/merged/QCD_Pt-80to120_EMEnriched_TuneCP5_13TeV_pythia8_2016.root\"\n",
    ",\"/eos/home-j/jiwoong/WZG_DB/2016/pre_post_separated_220209/FakeLepton/FR/merged/QCD_Pt-120to170_EMEnriched_TuneCP5_13TeV_pythia8_2016.root\"\n",
    ",\"/eos/home-j/jiwoong/WZG_DB/2016/pre_post_separated_220209/FakeLepton/FR/merged/QCD_Pt-170to300_EMEnriched_TuneCP5_13TeV_pythia8_2016.root\"\n",
    ",\"/eos/home-j/jiwoong/WZG_DB/2016/pre_post_separated_220209/FakeLepton/FR/merged/QCD_Pt-300toInf_EMEnriched_TuneCP5_13TeV_pythia8_2016.root\"\n",
    "]\n",
    "\n",
    "\n",
    "\n",
    "\n",
    "\n",
    "\n",
    "xsec_list_QCD = [\n",
    "    1327000,\n",
    "    4908000,\n",
    "    6396000,\n",
    "    1989000,\n",
    "    366500,\n",
    "    66490,\n",
    "    16480,\n",
    "    1097\n",
    "]\n",
    "\n",
    "\n",
    "\n",
    "for i in range(len(file_list_QCD)):\n",
    "    AddHist_FTdist(file_list_QCD[i], branch, hist_dist1_ttbar, hist_dist2_ttbar, 0, xsec_list_QCD[i])"
   ]
  },
  {
   "cell_type": "code",
   "execution_count": 10,
   "id": "944a64e1",
   "metadata": {},
   "outputs": [
    {
     "name": "stderr",
     "output_type": "stream",
     "text": [
      "Warning in <TH1D::Sumw2>: Sum of squares of weights structure already created\n",
      "Warning in <TH1D::Sumw2>: Sum of squares of weights structure already created\n"
     ]
    },
    {
     "data": {
      "image/png": "[encoded data removed]",
      "text/plain": [
       "<IPython.core.display.Image object>"
      ]
     },
     "metadata": {},
     "output_type": "display_data"
    }
   ],
   "source": [
    "c1 = ROOT.TCanvas(\"\",\"\",1000,800)\n",
    "\n",
    "def SetHistStyle_dist(hist, color, isData):\n",
    "    if isData:\n",
    "        hist.SetMarkerStyle(20)\n",
    "        hist.SetMarkerColor(color)\n",
    "    else:\n",
    "        hist.SetFillColor(color)\n",
    "        hist.SetFillStyle(4100)\n",
    "        hist.SetLineColor(color)\n",
    "        hist.SetLineStyle(0)\n",
    "        hist.SetLineWidth(0)\n",
    "    hist.SetYTitle('events/bin')\n",
    "    hist.SetXTitle('MET [GeV]')\n",
    "    # Adjust y-axis settings\n",
    "    # hist.GetYaxis().SetNdivisions(105)\n",
    "    hist.GetYaxis().SetTitleSize(25)\n",
    "    hist.GetYaxis().SetTitleFont(43)\n",
    "    hist.GetYaxis().SetTitleOffset(1.40)\n",
    "    hist.GetYaxis().SetLabelFont(43)\n",
    "    hist.GetYaxis().SetLabelSize(25)\n",
    "\n",
    "    # Adjust x-axis settings\n",
    "    hist.GetXaxis().SetTitleSize(25)\n",
    "    hist.GetXaxis().SetTitleFont(43)\n",
    "    hist.GetXaxis().SetTitleOffset(5.0)\n",
    "    hist.GetXaxis().SetLabelFont(43)\n",
    "    hist.GetXaxis().SetLabelSize(25)\n",
    "    hist.SetStats(0)\n",
    "\n",
    "\n",
    "SetHistStyle_dist(hist_dist1_WJets, 22, 0)\n",
    "SetHistStyle_dist(hist_dist2_WJets, 22, 0)\n",
    "SetHistStyle_dist(hist_dist1_ZJets, 27, 0)\n",
    "SetHistStyle_dist(hist_dist2_ZJets, 27, 0)\n",
    "SetHistStyle_dist(hist_dist1_ttbar, 32, 0)\n",
    "SetHistStyle_dist(hist_dist2_ttbar, 32, 0)\n",
    "SetHistStyle_dist(hist_dist1_DATA, 1, 1)\n",
    "SetHistStyle_dist(hist_dist2_DATA, 1, 1)\n",
    "\n",
    "hist_dist_WJets = hist_dist1_WJets.Clone()\n",
    "hist_dist_WJets.Add(hist_dist2_WJets)\n",
    "SetHistStyle_dist(hist_dist_WJets, 22, 0)\n",
    "hist_dist_ZJets = hist_dist1_ZJets.Clone()\n",
    "hist_dist_ZJets.Add(hist_dist2_ZJets)\n",
    "SetHistStyle_dist(hist_dist_ZJets, 27, 0)\n",
    "hist_dist_ttbar = hist_dist1_ttbar.Clone()\n",
    "hist_dist_ttbar.Add(hist_dist2_ttbar)\n",
    "SetHistStyle_dist(hist_dist_ttbar, 32, 0)\n",
    "\n",
    "hs_dist = ROOT.THStack(\"\",\";M_{T,e} [GeV];events/bin\")\n",
    "hs_dist.Add(hist_dist_ZJets)\n",
    "hs_dist.Add(hist_dist_WJets)\n",
    "hs_dist.Add(hist_dist_ttbar)\n",
    "\n",
    "# --original\n",
    "MC_err = ROOT.TH1D(\"\",\"\",xbins,xlow,xup)\n",
    "# --for PT\n",
    "#MC_err = ROOT.TH1D(\"\",\"\",8,array('d',ptbins))\n",
    "MC_err.Sumw2()\n",
    "MC_err.Add(hist_dist1_WJets)\n",
    "MC_err.Add(hist_dist2_WJets)\n",
    "MC_err.Add(hist_dist1_ZJets)\n",
    "MC_err.Add(hist_dist2_ZJets)\n",
    "MC_err.Add(hist_dist1_ttbar)\n",
    "MC_err.Add(hist_dist2_ttbar)\n",
    "MC_err.SetFillColor(ROOT.kGray+2)\n",
    "MC_err.SetFillStyle(3345)\n",
    "MC_err.SetMarkerSize(0.)\n",
    "MC_err.SetMarkerColor(ROOT.kGray+2)\n",
    "MC_err.SetLineWidth(2)\n",
    "MC_err.SetLineColor(0)\n",
    "MC_err.SetStats(0)\n",
    "\n",
    "# --originral\n",
    "hs_data = ROOT.TH1D(\"\",\"\",xbins,xlow,xup)\n",
    "# --for PT\n",
    "#hs_data = ROOT.TH1D(\"\",\"\",8,array('d',ptbins))\n",
    "\n",
    "hs_data.Add(hist_dist1_DATA)\n",
    "hs_data.Add(hist_dist2_DATA)\n",
    "SetHistStyle_dist(hs_data, 1, 1)\n",
    "\n",
    "legend = ROOT.TLegend(0.55, 0.45, 0.70, 0.75)\n",
    "legend.SetBorderSize(0)\n",
    "legend.SetFillColor(0)\n",
    "legend.SetTextSize(0.035)\n",
    "legend.SetLineWidth(1)\n",
    "legend.SetLineStyle(0)\n",
    "# legend.AddEntry(hist_dist1_DATA,'Double Muon 2018')\n",
    "legend.AddEntry(hist_dist1_DATA,f'DoubleEG 2016: {format(hs_data.GetSumOfWeights(), \".2f\")}')\n",
    "legend.AddEntry(hist_dist1_WJets,f'WJetsToLNu: {format(hist_dist_WJets.GetSumOfWeights(), \".2f\")}','F')\n",
    "legend.AddEntry(hist_dist1_ZJets,f'DYToLNu: {format(hist_dist_ZJets.GetSumOfWeights(), \".2f\")}','F')\n",
    "legend.AddEntry(hist_dist1_ttbar,f'QCD-EMEnriched: {format(hist_dist_ttbar.GetSumOfWeights(), \".2f\")}','F')\n",
    "\n",
    "c1.Draw()\n",
    "pad1 = ROOT.TPad(\"pad1\", \"pad1\", 0, 0.3, 1, 1.0)\n",
    "pad1.SetBottomMargin(0.015)  # joins upper and lower plot\n",
    "# pad1.SetGridx()\n",
    "pad1.Draw()\n",
    "# Lower ratio plot is pad2\n",
    "c1.cd()  # returns to main canvas before defining pad2\n",
    "pad2 = ROOT.TPad(\"pad2\", \"pad2\", 0, 0.05, 1, 0.3)\n",
    "pad2.SetTopMargin(0)  # joins upper and lower plot\n",
    "pad2.SetBottomMargin(0.3)\n",
    "pad2.SetGridy()\n",
    "pad2.Draw()\n",
    "\n",
    "# draw everything\n",
    "pad1.cd()\n",
    "# hs_data.GetYaxis().SetMaxDigits(3)\n",
    "hs_dist.Draw(\"HIST\")\n",
    "hs_dist.SetMaximum(10000000)\n",
    "hs_dist.SetMinimum(1)\n",
    "# hs_dist.GetXaxis().SetRangeUser(10,60)\n",
    "hs_dist.GetXaxis().SetLabelSize(0)\n",
    "hs_data.Draw(\"ep SAME\")\n",
    "MC_err.Draw(\"e2 SAME\")\n",
    "legend.Draw(\"SAME\")\n",
    "ROOT.gPad.SetLogy()\n",
    "ROOT.gPad.RedrawAxis()\n",
    "\n",
    "\n",
    "# h1.GetXaxis().SetLabelSize(0)\n",
    "pad2.cd()\n",
    "h3 = createRatio(hs_data, MC_err)\n",
    "h4 = createRatio(MC_err, MC_err)\n",
    "h3.Draw(\"ep\")\n",
    "# h3.GetXaxis().SetRangeUser(10,60)\n",
    "h4.Draw(\"e2 SAME\")\n",
    "ROOT.gPad.RedrawAxis()\n",
    "\n",
    "#CMS_lumi(pad1, 0, 0)\n",
    "# c1.SaveAs('Fake_Lepton/2017/eta_TightElectron_dist_MR_2017_new.pdf')\n",
    "# c1.SaveAs('Fake_Lepton/2017/eta_TightElectron_dist_MR_2017_new.png')\n",
    "#c1.SaveAs('Fake_Lepton/2017/MET_FakeElectron_dist_MR_2017_new.pdf')\n",
    "#c1.SaveAs('Fake_Lepton/2017/MET_FakeElectron_dist_MR_2017_new.png')"
   ]
  },
  {
   "cell_type": "markdown",
   "id": "d5082b72",
   "metadata": {},
   "source": [
    "## SF"
   ]
  },
  {
   "cell_type": "markdown",
   "id": "c5c6333a",
   "metadata": {},
   "source": [
    "SF from MT"
   ]
  },
  {
   "cell_type": "code",
   "execution_count": 11,
   "id": "eb26a27b",
   "metadata": {},
   "outputs": [
    {
     "name": "stdout",
     "output_type": "stream",
     "text": [
      "1 3\n",
      "WJets yields in EWK CR: 58.87083707674219\n",
      "ZJets yields in EWK CR: 47.761675513467665\n",
      "QCD yields in EWK CR: 54132.75121905787\n",
      "data yields in EWK CR: 88372.0\n",
      "SF = 88372.0 / 54239.38373164808  = 1.6292957979984555\n"
     ]
    }
   ],
   "source": [
    "bin_left = hist_dist1_WJets.FindBin(0)\n",
    "bin_right = hist_dist1_WJets.FindBin(20)\n",
    "\n",
    "WJets_yields = hist_dist1_WJets.Integral(bin_left,bin_right) + hist_dist2_WJets.Integral(bin_left,bin_right)\n",
    "ZJets_yields = hist_dist1_ZJets.Integral(bin_left,bin_right) + hist_dist2_ZJets.Integral(bin_left,bin_right)\n",
    "ttbar_yields = hist_dist1_ttbar.Integral(bin_left,bin_right) + hist_dist2_ttbar.Integral(bin_left,bin_right)\n",
    "data_yields = hist_dist1_DATA.Integral(bin_left,bin_right) + hist_dist2_DATA.Integral(bin_left,bin_right)\n",
    "\n",
    "print (hist_dist1_WJets.FindBin(0),hist_dist1_WJets.FindBin(20))\n",
    "print (f\"WJets yields in EWK CR: {WJets_yields}\")\n",
    "print (f\"ZJets yields in EWK CR: {ZJets_yields}\")\n",
    "print (f\"QCD yields in EWK CR: {ttbar_yields}\")\n",
    "print (f\"data yields in EWK CR: {data_yields}\")\n",
    "print (f\"SF = {data_yields} / {WJets_yields + ZJets_yields + ttbar_yields}  = {data_yields/(WJets_yields+ZJets_yields+ttbar_yields)}\")\n",
    "SF = data_yields/(WJets_yields+ZJets_yields+ttbar_yields)"
   ]
  },
  {
   "cell_type": "markdown",
   "id": "52c15fac",
   "metadata": {},
   "source": [
    "sf from lepton PT"
   ]
  },
  {
   "cell_type": "code",
   "execution_count": 12,
   "id": "0acc4c88",
   "metadata": {},
   "outputs": [
    {
     "name": "stdout",
     "output_type": "stream",
     "text": [
      "SF : 35-45 1.4075984808852136\n",
      "SF Err: 35-45 0.05492079416249972\n",
      "SF : 45-Inf 1.4860414815013736\n",
      "SF Err: 45-Inf 0.06727541765079931\n"
     ]
    },
    {
     "data": {
      "image/png": "[encoded data removed]",
      "text/plain": [
       "<IPython.core.display.Image object>"
      ]
     },
     "metadata": {},
     "output_type": "display_data"
    }
   ],
   "source": [
    "c1 = ROOT.TCanvas(\"\",\"\",1000,800)\n",
    "c1.Draw()\n",
    "\n",
    "\n",
    "h3.Draw('ep')\n",
    "h3.SetXTitle('P_{T,#mu} [GeV]')\n",
    "h3.GetXaxis().SetTitleOffset(1.6)\n",
    "h3.GetXaxis().SetRangeUser(10,200)\n",
    "h3.SetMaximum(1)\n",
    "h3.SetMinimum(0)\n",
    "ROOT.gPad.SetGridy()\n",
    "ROOT.gPad.SetGridx()\n",
    "\n",
    "print(\"SF : 35-45\",h3.GetBinContent(7))\n",
    "print(\"SF Err: 35-45\",h3.GetBinError(7))\n",
    "print(\"SF : 45-Inf\",h3.GetBinContent(8))\n",
    "print(\"SF Err: 45-Inf\",h3.GetBinError(8))"
   ]
  },
  {
   "cell_type": "markdown",
   "id": "99221130",
   "metadata": {},
   "source": [
    "## Electron Fake Rate"
   ]
  },
  {
   "cell_type": "code",
   "execution_count": 13,
   "id": "4d7768f3",
   "metadata": {},
   "outputs": [],
   "source": [
    "def AddHist_FR_Ele(file, h_nume_e, h_deno_e, isAdd, isData, lumi_Ele12, lumi_Ele23, xsec):\n",
    "    \n",
    "    if isData:\n",
    "        print('is Data')\n",
    "        branches = uproot.open(file+':Events').arrays(['jet_pt','is_lepton_tight','mt','met','lepton_pt','lepton_eta','lepton_pdgid','HLT_Ele12_CaloIdL_TrackIdL_IsoVL_PFJet30','HLT_Ele23_CaloIdL_TrackIdL_IsoVL_PFJet30','hlt'], library='pd')\n",
    "    else:\n",
    "        print('is MC')\n",
    "        branches = uproot.open(file+':Events').arrays(['jet_pt','is_lepton_tight','mt','met','lepton_pt','lepton_eta','lepton_pdgid',\n",
    "                                                       'lepton_gen_matching','HLT_Ele12_CaloIdL_TrackIdL_IsoVL_PFJet30','HLT_Ele23_CaloIdL_TrackIdL_IsoVL_PFJet30','hlt','gen_weight'], library='pd')\n",
    "        true_events = uproot.open(file)['nEventsGenWeighted'].values()[0]\n",
    "        weight_lowpt = (1000*lumi_Ele12*xsec*isAdd) / true_events\n",
    "        weight_highpt = (1000*lumi_Ele23*xsec*isAdd) / true_events\n",
    "        lepton_gen_cut1 = branches.loc[:,'lepton_gen_matching'] == 1\n",
    "        lepton_gen_cut2 = branches.loc[:,'lepton_gen_matching'] == 15\n",
    "        \n",
    "    HLT_cut1 = branches.loc[:,'HLT_Ele12_CaloIdL_TrackIdL_IsoVL_PFJet30'] == True\n",
    "    HLT_cut2 = branches.loc[:,'HLT_Ele23_CaloIdL_TrackIdL_IsoVL_PFJet30'] == True\n",
    "    met_cut = branches.loc[:,'met'] < 20\n",
    "    mt_cut = branches.loc[:,'mt'] < 20\n",
    "    Electron_cut = abs(branches.loc[:,'lepton_pdgid']) == 11\n",
    "    pt_edge = branches.loc[:,'lepton_pt'] < 25\n",
    "    jet_pt = branches.loc[:,'jet_pt'] >35\n",
    "\n",
    "    \n",
    "    overflow_Y = h_deno_e.GetYaxis().GetBinUpEdge(h_deno_e.GetNbinsY())\n",
    "    center_upper_Y = h_deno_e.GetYaxis().GetBinCenter(h_deno_e.GetNbinsY())\n",
    "    \n",
    "    if isData:\n",
    "        deno_e_lowpt = branches.loc[HLT_cut1 & pt_edge & Electron_cut & met_cut & mt_cut & jet_pt,:]\n",
    "        deno_e_highpt = branches.loc[HLT_cut2 & ~pt_edge & Electron_cut & met_cut & mt_cut & jet_pt,:]\n",
    "        \n",
    "        \n",
    "        for i in trange(0, len(deno_e_lowpt['lepton_pt']), desc=f'fill pt < 25 GeV for {file}'):\n",
    "            if float(deno_e_lowpt['lepton_pt'].values[i]) < overflow_Y:\n",
    "                h_deno_e.Fill(abs(float(deno_e_lowpt['lepton_eta'].values[i])), float(deno_e_lowpt['lepton_pt'].values[i]))\n",
    "                if deno_e_lowpt['is_lepton_tight'].values[i] == 1:\n",
    "                    h_nume_e.Fill(abs(float(deno_e_lowpt['lepton_eta'].values[i])), float(deno_e_lowpt['lepton_pt'].values[i]))\n",
    "            else:\n",
    "                h_deno_e.Fill(abs(float(deno_e_lowpt['lepton_eta'].values[i])), center_upper_Y)\n",
    "                if deno_e_lowpt['is_lepton_tight'].values[i] == 1:\n",
    "                    h_nume_e.Fill(abs(float(deno_e_lowpt['lepton_eta'].values[i])), center_upper_Y)\n",
    "                \n",
    "        for i in trange(0, len(deno_e_highpt['lepton_pt']), desc=f'fill pt > 25 GeV for {file}'):\n",
    "            if float(deno_e_highpt['lepton_pt'].values[i]) < overflow_Y:\n",
    "                h_deno_e.Fill(abs(float(deno_e_highpt['lepton_eta'].values[i])), float(deno_e_highpt['lepton_pt'].values[i]))\n",
    "                if deno_e_highpt['is_lepton_tight'].values[i] == 1:\n",
    "                    h_nume_e.Fill(abs(float(deno_e_highpt['lepton_eta'].values[i])), float(deno_e_highpt['lepton_pt'].values[i]))\n",
    "            else:\n",
    "                h_deno_e.Fill(abs(float(deno_e_highpt['lepton_eta'].values[i])), center_upper_Y)\n",
    "                if deno_e_highpt['is_lepton_tight'].values[i] == 1:\n",
    "                    h_nume_e.Fill(abs(float(deno_e_highpt['lepton_eta'].values[i])), center_upper_Y)\n",
    "                    \n",
    "                \n",
    "    else:\n",
    "        deno_e_lowpt = branches.loc[HLT_cut1 & pt_edge & Electron_cut & met_cut & mt_cut & (lepton_gen_cut1 | lepton_gen_cut2) & jet_pt,:].copy()\n",
    "        deno_e_highpt = branches.loc[HLT_cut2 & ~pt_edge & Electron_cut & met_cut & mt_cut & (lepton_gen_cut1 | lepton_gen_cut2) & jet_pt,:].copy()\n",
    "        \n",
    "        # Add SF\n",
    "        deno_e_highpt.loc[:,'SF'] = 1\n",
    "        deno_e_highpt.loc[(deno_e_highpt['lepton_pt'] >= 35) & (deno_e_highpt['lepton_pt'] < 45), 'SF'] = 1\n",
    "        deno_e_highpt.loc[deno_e_highpt['lepton_pt'] >= 45 , 'SF'] = 1\n",
    "        \n",
    "        \n",
    "        for i in trange(0, len(deno_e_lowpt['lepton_pt']), desc=f'fill pt < 25 GeV for {file}'):\n",
    "            if float(deno_e_lowpt['lepton_pt'].values[i]) < overflow_Y:\n",
    "                h_deno_e.Fill(abs(float(deno_e_lowpt['lepton_eta'].values[i])), float(deno_e_lowpt['lepton_pt'].values[i]), weight_lowpt*sgn(deno_e_lowpt['gen_weight'].values[i]))\n",
    "                if deno_e_lowpt['is_lepton_tight'].values[i] == 1:\n",
    "                    h_nume_e.Fill(abs(float(deno_e_lowpt['lepton_eta'].values[i])), float(deno_e_lowpt['lepton_pt'].values[i]), weight_lowpt*sgn(deno_e_lowpt['gen_weight'].values[i]))\n",
    "            else:\n",
    "                h_deno_e.Fill(abs(float(deno_e_lowpt['lepton_eta'].values[i])), center_upper_Y, weight_lowpt*sgn(deno_e_lowpt['gen_weight'].values[i]))\n",
    "                if deno_e_lowpt['is_lepton_tight'].values[i] == 1:\n",
    "                    h_nume_e.Fill(abs(float(deno_e_lowpt['lepton_eta'].values[i])), center_upper_Y, weight_lowpt*sgn(deno_e_lowpt['gen_weight'].values[i]))\n",
    "                \n",
    "        for i in trange(0, len(deno_e_highpt['lepton_pt']), desc=f'fill pt > 25 GeV for {file}'):\n",
    "            if float(deno_e_highpt['lepton_pt'].values[i]) < overflow_Y:\n",
    "                h_deno_e.Fill(abs(float(deno_e_highpt['lepton_eta'].values[i])), float(deno_e_highpt['lepton_pt'].values[i]), deno_e_highpt['SF'].values[i]*weight_highpt*sgn(deno_e_highpt['gen_weight'].values[i]))\n",
    "                if deno_e_highpt['is_lepton_tight'].values[i] == 1:\n",
    "                    h_nume_e.Fill(abs(float(deno_e_highpt['lepton_eta'].values[i])), float(deno_e_highpt['lepton_pt'].values[i]), deno_e_highpt['SF'].values[i]*weight_highpt*sgn(deno_e_highpt['gen_weight'].values[i]))\n",
    "            else:\n",
    "                h_deno_e.Fill(abs(float(deno_e_highpt['lepton_eta'].values[i])), center_upper_Y, deno_e_highpt['SF'].values[i]*weight_highpt*sgn(deno_e_highpt['gen_weight'].values[i]))\n",
    "                if deno_e_highpt['is_lepton_tight'].values[i] == 1:\n",
    "                    h_nume_e.Fill(abs(float(deno_e_highpt['lepton_eta'].values[i])), center_upper_Y, deno_e_highpt['SF'].values[i]*weight_highpt*sgn(deno_e_highpt['gen_weight'].values[i]))\n",
    "\n",
    "\n",
    "    deno_counts = 0\n",
    "    for i in range(h_deno_e.GetNbinsX()):\n",
    "        for j in range(h_deno_e.GetNbinsY()):\n",
    "            deno_counts += h_deno_e.GetBinContent(i+1,j+1) \n",
    "\n",
    "    nume_counts = 0\n",
    "    for i in range(h_nume_e.GetNbinsX()):\n",
    "        for j in range(h_nume_e.GetNbinsY()):\n",
    "            nume_counts += h_nume_e.GetBinContent(i+1,j+1) \n",
    "\n",
    "    print (f\"normalized deno :{deno_counts}\")\n",
    "    print (f\"normalized nume :{nume_counts}\")"
   ]
  },
  {
   "cell_type": "markdown",
   "id": "85ee7c6c",
   "metadata": {},
   "source": [
    "Data processing"
   ]
  },
  {
   "cell_type": "code",
   "execution_count": 14,
   "id": "5c21ae43",
   "metadata": {},
   "outputs": [
    {
     "name": "stdout",
     "output_type": "stream",
     "text": [
      "is Data\n"
     ]
    },
    {
     "name": "stderr",
     "output_type": "stream",
     "text": [
      "fill pt < 25 GeV for /eos/home-j/jiwoong/WZG_DB/2016/pre_post_separated_220209/FakeLepton/FR/merged/DoubleEG_Run2016B.root: 100%|██████████| 13545/13545 [00:00<00:00, 38740.18it/s]\n",
      "fill pt > 25 GeV for /eos/home-j/jiwoong/WZG_DB/2016/pre_post_separated_220209/FakeLepton/FR/merged/DoubleEG_Run2016B.root: 100%|██████████| 44182/44182 [00:01<00:00, 36063.96it/s]\n"
     ]
    },
    {
     "name": "stdout",
     "output_type": "stream",
     "text": [
      "normalized deno :57612.0\n",
      "normalized nume :19950.0\n",
      "is Data\n"
     ]
    },
    {
     "name": "stderr",
     "output_type": "stream",
     "text": [
      "fill pt < 25 GeV for /eos/home-j/jiwoong/WZG_DB/2016/pre_post_separated_220209/FakeLepton/FR/merged/DoubleEG_Run2016C.root: 100%|██████████| 3212/3212 [00:00<00:00, 46324.86it/s]\n",
      "fill pt > 25 GeV for /eos/home-j/jiwoong/WZG_DB/2016/pre_post_separated_220209/FakeLepton/FR/merged/DoubleEG_Run2016C.root: 100%|██████████| 9149/9149 [00:00<00:00, 47649.70it/s]\n"
     ]
    },
    {
     "name": "stdout",
     "output_type": "stream",
     "text": [
      "normalized deno :69956.0\n",
      "normalized nume :24255.0\n",
      "is Data\n"
     ]
    },
    {
     "name": "stderr",
     "output_type": "stream",
     "text": [
      "fill pt < 25 GeV for /eos/home-j/jiwoong/WZG_DB/2016/pre_post_separated_220209/FakeLepton/FR/merged/DoubleEG_Run2016D.root: 100%|██████████| 5123/5123 [00:00<00:00, 42725.58it/s]\n",
      "fill pt > 25 GeV for /eos/home-j/jiwoong/WZG_DB/2016/pre_post_separated_220209/FakeLepton/FR/merged/DoubleEG_Run2016D.root: 100%|██████████| 15402/15402 [00:00<00:00, 41383.23it/s]\n"
     ]
    },
    {
     "name": "stdout",
     "output_type": "stream",
     "text": [
      "normalized deno :90454.0\n",
      "normalized nume :31333.0\n",
      "is Data\n"
     ]
    },
    {
     "name": "stderr",
     "output_type": "stream",
     "text": [
      "fill pt < 25 GeV for /eos/home-j/jiwoong/WZG_DB/2016/pre_post_separated_220209/FakeLepton/FR/merged/DoubleEG_Run2016E.root: 100%|██████████| 3931/3931 [00:00<00:00, 37439.45it/s]\n",
      "fill pt > 25 GeV for /eos/home-j/jiwoong/WZG_DB/2016/pre_post_separated_220209/FakeLepton/FR/merged/DoubleEG_Run2016E.root: 100%|██████████| 11753/11753 [00:00<00:00, 37708.05it/s]\n"
     ]
    },
    {
     "name": "stdout",
     "output_type": "stream",
     "text": [
      "normalized deno :106115.0\n",
      "normalized nume :36683.0\n",
      "is Data\n"
     ]
    },
    {
     "name": "stderr",
     "output_type": "stream",
     "text": [
      "fill pt < 25 GeV for /eos/home-j/jiwoong/WZG_DB/2016/pre_post_separated_220209/FakeLepton/FR/merged/DoubleEG_Run2016F.root: 100%|██████████| 2072/2072 [00:00<00:00, 32215.44it/s]\n",
      "fill pt > 25 GeV for /eos/home-j/jiwoong/WZG_DB/2016/pre_post_separated_220209/FakeLepton/FR/merged/DoubleEG_Run2016F.root: 100%|██████████| 4557/4557 [00:00<00:00, 33353.19it/s]\n"
     ]
    },
    {
     "name": "stdout",
     "output_type": "stream",
     "text": [
      "normalized deno :112730.0\n",
      "normalized nume :38969.0\n",
      "is Data\n"
     ]
    },
    {
     "name": "stderr",
     "output_type": "stream",
     "text": [
      "fill pt < 25 GeV for /eos/home-j/jiwoong/WZG_DB/2016/pre_post_separated_220209/FakeLepton/FR/merged/DoubleEG_Run2016G.root: 100%|██████████| 4594/4594 [00:00<00:00, 32277.88it/s]\n",
      "fill pt > 25 GeV for /eos/home-j/jiwoong/WZG_DB/2016/pre_post_separated_220209/FakeLepton/FR/merged/DoubleEG_Run2016G.root: 100%|██████████| 6992/6992 [00:00<00:00, 35714.55it/s]\n"
     ]
    },
    {
     "name": "stdout",
     "output_type": "stream",
     "text": [
      "normalized deno :124298.0\n",
      "normalized nume :42934.0\n",
      "is Data\n"
     ]
    },
    {
     "name": "stderr",
     "output_type": "stream",
     "text": [
      "fill pt < 25 GeV for /eos/home-j/jiwoong/WZG_DB/2016/pre_post_separated_220209/FakeLepton/FR/merged/DoubleEG_Run2016H.root: 100%|██████████| 4301/4301 [00:00<00:00, 28935.70it/s]\n",
      "fill pt > 25 GeV for /eos/home-j/jiwoong/WZG_DB/2016/pre_post_separated_220209/FakeLepton/FR/merged/DoubleEG_Run2016H.root: 100%|██████████| 6728/6728 [00:00<00:00, 44466.14it/s]\n"
     ]
    },
    {
     "name": "stdout",
     "output_type": "stream",
     "text": [
      "normalized deno :135304.0\n",
      "normalized nume :46885.0\n"
     ]
    }
   ],
   "source": [
    "ybins = [15, 20, 24, 28, 35, 45, 60]\n",
    "xbins = [.0, 0.5, 1.0, 1.5, 2.0, 2.5]\n",
    "\n",
    "from array import array\n",
    "h_deno_e = ROOT.TH2D(\"\",\"\", len(xbins)-1, array('d',xbins), len(ybins)-1, array('d',ybins))\n",
    "h_deno_e.StatOverflows(1)\n",
    "h_deno_e.Sumw2()\n",
    "h_nume_e = ROOT.TH2D(\"\",\"\", len(xbins)-1, array('d',xbins), len(ybins)-1, array('d',ybins))\n",
    "h_nume_e.StatOverflows(1)\n",
    "h_nume_e.Sumw2()\n",
    "\n",
    "\n",
    "\n",
    "file_list_E = [\n",
    "\"/eos/home-j/jiwoong/WZG_DB/2016/pre_post_separated_220209/FakeLepton/FR/merged/DoubleEG_Run2016B.root\"\n",
    ",\"/eos/home-j/jiwoong/WZG_DB/2016/pre_post_separated_220209/FakeLepton/FR/merged/DoubleEG_Run2016C.root\"\n",
    ",\"/eos/home-j/jiwoong/WZG_DB/2016/pre_post_separated_220209/FakeLepton/FR/merged/DoubleEG_Run2016D.root\"\n",
    ",\"/eos/home-j/jiwoong/WZG_DB/2016/pre_post_separated_220209/FakeLepton/FR/merged/DoubleEG_Run2016E.root\"\n",
    ",\"/eos/home-j/jiwoong/WZG_DB/2016/pre_post_separated_220209/FakeLepton/FR/merged/DoubleEG_Run2016F.root\"\n",
    ",\"/eos/home-j/jiwoong/WZG_DB/2016/pre_post_separated_220209/FakeLepton/FR/merged/DoubleEG_Run2016G.root\"\n",
    ",\"/eos/home-j/jiwoong/WZG_DB/2016/pre_post_separated_220209/FakeLepton/FR/merged/DoubleEG_Run2016H.root\"\n",
    "]\n",
    "for file_DATA in file_list_E:\n",
    "    AddHist_FR_Ele(file_DATA, h_nume_e, h_deno_e, 1, 1, 0, 0, 0)"
   ]
  },
  {
   "cell_type": "markdown",
   "id": "39e38c4e",
   "metadata": {},
   "source": [
    "MC processing"
   ]
  },
  {
   "cell_type": "code",
   "execution_count": 15,
   "id": "56669363",
   "metadata": {},
   "outputs": [
    {
     "name": "stdout",
     "output_type": "stream",
     "text": [
      "is MC\n"
     ]
    },
    {
     "name": "stderr",
     "output_type": "stream",
     "text": [
      "fill pt < 25 GeV for /eos/home-j/jiwoong/WZG_DB/2016/pre_post_separated_220209/FakeLepton/FR/merged/WJetsToLNu_TuneCP5_13TeV-madgraphMLM-pythia8_2016.root: 100%|██████████| 14272/14272 [00:00<00:00, 22372.07it/s]\n",
      "fill pt > 25 GeV for /eos/home-j/jiwoong/WZG_DB/2016/pre_post_separated_220209/FakeLepton/FR/merged/WJetsToLNu_TuneCP5_13TeV-madgraphMLM-pythia8_2016.root: 100%|██████████| 69470/69470 [00:04<00:00, 14686.51it/s]\n"
     ]
    },
    {
     "name": "stdout",
     "output_type": "stream",
     "text": [
      "normalized deno :133502.0613232823\n",
      "normalized nume :45138.10171761075\n",
      "is MC\n"
     ]
    },
    {
     "name": "stderr",
     "output_type": "stream",
     "text": [
      "fill pt < 25 GeV for /eos/home-j/jiwoong/WZG_DB/2016/pre_post_separated_220209/FakeLepton/FR/merged/DYJetsToLL_M-50_TuneCP5_13TeV-madgraphMLM-pythia8_2016.root: 100%|██████████| 159306/159306 [00:07<00:00, 20665.30it/s]\n",
      "fill pt > 25 GeV for /eos/home-j/jiwoong/WZG_DB/2016/pre_post_separated_220209/FakeLepton/FR/merged/DYJetsToLL_M-50_TuneCP5_13TeV-madgraphMLM-pythia8_2016.root: 100%|██████████| 729952/729952 [00:48<00:00, 15136.53it/s]\n"
     ]
    },
    {
     "name": "stdout",
     "output_type": "stream",
     "text": [
      "normalized deno :132015.59785036757\n",
      "normalized nume :43703.304945143296\n",
      "is MC\n"
     ]
    },
    {
     "name": "stderr",
     "output_type": "stream",
     "text": [
      "fill pt < 25 GeV for /eos/home-j/jiwoong/WZG_DB/2016/pre_post_separated_220209/FakeLepton/FR/merged/DYJetsToLL_M-10to50_TuneCP5_13TeV-madgraphMLM-pythia8_2016.root: 100%|██████████| 6596/6596 [00:00<00:00, 24592.54it/s]\n",
      "fill pt > 25 GeV for /eos/home-j/jiwoong/WZG_DB/2016/pre_post_separated_220209/FakeLepton/FR/merged/DYJetsToLL_M-10to50_TuneCP5_13TeV-madgraphMLM-pythia8_2016.root: 100%|██████████| 6857/6857 [00:00<00:00, 15599.46it/s]\n"
     ]
    },
    {
     "name": "stdout",
     "output_type": "stream",
     "text": [
      "normalized deno :131849.65981153844\n",
      "normalized nume :43544.40247572601\n",
      "0.01485 0.06281 61526.7\n",
      "0.01485 0.06281 6077.22\n",
      "0.01485 0.06281 18610\n"
     ]
    }
   ],
   "source": [
    "file_WJets = \"/eos/home-j/jiwoong/WZG_DB/2016/pre_post_separated_220209/FakeLepton/FR/merged/WJetsToLNu_TuneCP5_13TeV-madgraphMLM-pythia8_2016.root\"\n",
    "file_ZJets = \"/eos/home-j/jiwoong/WZG_DB/2016/pre_post_separated_220209/FakeLepton/FR/merged/DYJetsToLL_M-50_TuneCP5_13TeV-madgraphMLM-pythia8_2016.root\"\n",
    "file_ZJets2 = \"/eos/home-j/jiwoong/WZG_DB/2016/pre_post_separated_220209/FakeLepton/FR/merged/DYJetsToLL_M-10to50_TuneCP5_13TeV-madgraphMLM-pythia8_2016.root\"\n",
    "\n",
    "\n",
    "xsec_WJets = 61526.7  \n",
    "xsec_ZJets = 6077.22 \n",
    "xsec_ZJets2 = 18610\n",
    "\n",
    "lumi_Ele12 = 0.01485 # HLT_Ele8_CaloIdL_TrackIdL_IsoVL_PFJet30 2018 lumi\n",
    "lumi_Ele23 = 0.06281 # HLT_Ele23_CaloIdL_TrackIdL_IsoVL_PFJet30 2018 lumi\n",
    "\n",
    "AddHist_FR_Ele(file_WJets, h_nume_e, h_deno_e, -1, 0, lumi_Ele12, lumi_Ele23, xsec_WJets)\n",
    "AddHist_FR_Ele(file_ZJets, h_nume_e, h_deno_e, -1, 0, lumi_Ele12, lumi_Ele23, xsec_ZJets)\n",
    "AddHist_FR_Ele(file_ZJets2, h_nume_e, h_deno_e, -1, 0, lumi_Ele12, lumi_Ele23, xsec_ZJets2)\n",
    "print (lumi_Ele12, lumi_Ele23, xsec_WJets)\n",
    "print (lumi_Ele12, lumi_Ele23, xsec_ZJets)\n",
    "print (lumi_Ele12, lumi_Ele23, xsec_ZJets2)"
   ]
  },
  {
   "cell_type": "code",
   "execution_count": 16,
   "id": "cb510a43",
   "metadata": {},
   "outputs": [
    {
     "name": "stdout",
     "output_type": "stream",
     "text": [
      "35.86 fb^{-1} (13 TeV)\n"
     ]
    },
    {
     "data": {
      "image/png": "[encoded data removed]",
      "text/plain": [
       "<IPython.core.display.Image object>"
      ]
     },
     "metadata": {},
     "output_type": "display_data"
    }
   ],
   "source": [
    "fake_rate_e = h_nume_e.Clone(\"fake_rate_e\")\n",
    "fake_rate_e.Divide(h_deno_e)\n",
    "\n",
    "fake_rate_e.SetDirectory(0)\n",
    "c1 = ROOT.TCanvas(\"\",\"\",1200,800)\n",
    "fake_rate_e.SetStats(0)\n",
    "fake_rate_e.SetXTitle(\"|#eta|\")\n",
    "fake_rate_e.SetYTitle(\"P_{T} [GeV]\")\n",
    "fake_rate_e.SetMarkerSize(1.3)\n",
    "ROOT.gStyle.SetPaintTextFormat('4.2f')\n",
    "fake_rate_e.Draw(\"COLZe TEXT\")\n",
    "c1.Draw()\n",
    "CMS_lumi(c1,0,0)\n",
    "# c1.SaveAs('Fake_Lepton/2017/FR_Electron_data_2017_new.pdf')\n",
    "# c1.SaveAs('Fake_Lepton/2017/FR_Electron_data_2017_new.png')"
   ]
  },
  {
   "cell_type": "code",
   "execution_count": 17,
   "id": "807ae511",
   "metadata": {},
   "outputs": [],
   "source": [
    "file1 = ROOT.TFile(\"Ele_Fake_Rate_2D_2016.root\",\"recreate\")\n",
    "file1.cd()\n",
    "fake_rate_e.Write()\n",
    "file1.Close()"
   ]
  },
  {
   "cell_type": "code",
   "execution_count": 18,
   "id": "75aa3b6b",
   "metadata": {},
   "outputs": [
    {
     "name": "stdout",
     "output_type": "stream",
     "text": [
      "Ele_Fake_Rate_2D_2016.root\r\n"
     ]
    }
   ],
   "source": [
    "!ls Ele_Fake_Rate_2D_2016.root"
   ]
  },
  {
   "cell_type": "code",
   "execution_count": null,
   "id": "a3bba0cc",
   "metadata": {},
   "outputs": [],
   "source": []
  }
 ],
 "metadata": {
  "kernelspec": {
   "display_name": "Python 3",
   "language": "python",
   "name": "python3"
  },
  "language_info": {
   "codemirror_mode": {
    "name": "ipython",
    "version": 3
   },
   "file_extension": ".py",
   "mimetype": "text/x-python",
   "name": "python",
   "nbconvert_exporter": "python",
   "pygments_lexer": "ipython3",
   "version": "3.9.6"
  }
 },
 "nbformat": 4,
 "nbformat_minor": 5
}
