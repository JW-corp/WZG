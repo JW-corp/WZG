{
 "cells": [
  {
   "cell_type": "code",
   "execution_count": 1,
   "id": "b855777e",
   "metadata": {},
   "outputs": [
    {
     "name": "stderr",
     "output_type": "stream",
     "text": [
      "/cvmfs/sft.cern.ch/lcg/views/LCG_101swan/x86_64-centos7-gcc8-opt/lib/python3.9/site-packages/uproot3/__init__.py:127: FutureWarning: Consider switching from 'uproot3' to 'uproot', since the new interface became the default in 2020.\n",
      "\n",
      "    pip install -U uproot\n",
      "\n",
      "In Python:\n",
      "\n",
      "    >>> import uproot\n",
      "    >>> with uproot.open(...) as file:\n",
      "    ...\n",
      "\n",
      "  warnings.warn(\n",
      "/cvmfs/sft.cern.ch/lcg/views/LCG_101swan/x86_64-centos7-gcc8-opt/lib/python3.9/site-packages/awkward0/__init__.py:12: FutureWarning: Consider switching from 'awkward0' to 'awkward', since the new interface became the default in 2020.\n",
      "\n",
      "    pip install -U awkward\n",
      "\n",
      "In Python:\n",
      "\n",
      "    >>> import awkward as ak\n",
      "    >>> new_style_array = ak.from_awkward0(old_style_array)\n",
      "    >>> old_style_array = ak.to_awkward0(new_style_array)\n",
      "\n",
      "  warnings.warn(\n"
     ]
    },
    {
     "name": "stdout",
     "output_type": "stream",
     "text": [
      "Welcome to JupyROOT 6.24/06\n"
     ]
    }
   ],
   "source": [
    "import matplotlib\n",
    "import uproot, uproot3\n",
    "import numpy\n",
    "import awkward\n",
    "import numba\n",
    "import numpy as np\n",
    "import matplotlib.pyplot as plt\n",
    "import mplhep as hep\n",
    "import pandas as pd\n",
    "from tqdm import trange\n",
    "import ROOT\n",
    "import os,sys\n",
    "from array import array\n",
    "import pickle\n",
    "\n",
    "from Lumi import *\n",
    "from Ratio_Plot import *\n",
    "from TDR_Style import *"
   ]
  },
  {
   "cell_type": "code",
   "execution_count": 45,
   "id": "fa7fb7a8",
   "metadata": {},
   "outputs": [],
   "source": [
    "def AddHist_data(file, hist,isbarrel,isData=True, xsec=1, lumi=1):\n",
    "    \n",
    "    \n",
    "    # --read branches special case for MuonEG 2016H\n",
    "    if 'MuonEG_Run2016H' in file:\n",
    "        init_branches = [\n",
    "                    'channel_mark'\n",
    "                    ,'HLT_Ele27_WPTight_Gsf'\n",
    "                    ,'HLT_IsoTkMu24'\n",
    "                    ,'HLT_IsoMu24'\n",
    "                    ,'HLT_Mu17_TrkIsoVVL_Mu8_TrkIsoVVL'\n",
    "                    ,'HLT_Mu17_TrkIsoVVL_TkMu8_TrkIsoVVL'\n",
    "                    ,'HLT_Mu17_TrkIsoVVL_Mu8_TrkIsoVVL_DZ'\n",
    "                    ,'HLT_Mu17_TrkIsoVVL_TkMu8_TrkIsoVVL_DZ'\n",
    "                    ,'HLT_Mu8_TrkIsoVVL_Ele23_CaloIdL_TrackIdL_IsoVL'\n",
    "                    ,'HLT_Mu23_TrkIsoVVL_Ele8_CaloIdL_TrackIdL_IsoVL'\n",
    "                    ,'HLT_Mu8_TrkIsoVVL_Ele23_CaloIdL_TrackIdL_IsoVL_DZ'\n",
    "                    ,'HLT_Mu23_TrkIsoVVL_Ele8_CaloIdL_TrackIdL_IsoVL_DZ'\n",
    "                    ,'HLT_Ele23_Ele12_CaloIdL_TrackIdL_IsoVL_DZ'\n",
    "                    ,'photon_sieie'\n",
    "                    ,'photon_vidNestedWPBitmap'\n",
    "                    ,'photon_eta'\n",
    "                    ,'photon_pt'\n",
    "                    ,'photon_pfRelIso03_chg'\n",
    "                    ,'MET'\n",
    "                    ,\"z_lepton1_pt\"\n",
    "                    ,\"z_lepton2_pt\"\n",
    "                    ,\"dilepton_mass\"\n",
    "                    ,\"nJets\"\n",
    "        ]\n",
    "        \n",
    "    # --read branches \n",
    "    else:\n",
    "        init_branches =[\n",
    "                    'channel_mark'\n",
    "                    ,'HLT_Ele27_WPTight_Gsf'\n",
    "                    ,'HLT_IsoTkMu24'\n",
    "                    ,'HLT_IsoMu24'\n",
    "                    ,'HLT_Mu17_TrkIsoVVL_Mu8_TrkIsoVVL'\n",
    "                    ,'HLT_Mu17_TrkIsoVVL_TkMu8_TrkIsoVVL'\n",
    "                    ,'HLT_Mu17_TrkIsoVVL_Mu8_TrkIsoVVL_DZ'\n",
    "                    ,'HLT_Mu17_TrkIsoVVL_TkMu8_TrkIsoVVL_DZ'\n",
    "                    ,'HLT_Mu8_TrkIsoVVL_Ele23_CaloIdL_TrackIdL_IsoVL'\n",
    "                    ,'HLT_Mu23_TrkIsoVVL_Ele8_CaloIdL_TrackIdL_IsoVL'\n",
    "                    ,'HLT_Ele23_Ele12_CaloIdL_TrackIdL_IsoVL_DZ'\n",
    "                    ,'photon_sieie'\n",
    "                    ,'photon_vidNestedWPBitmap'\n",
    "                    ,'photon_eta'\n",
    "                    ,'photon_pt'\n",
    "                    ,'photon_pfRelIso03_chg'\n",
    "                    ,'MET'\n",
    "                    ,\"z_lepton1_pt\"\n",
    "                    ,\"z_lepton2_pt\"\n",
    "                    ,\"dilepton_mass\"\n",
    "                    ,\"nJets\"\n",
    "        ]  \n",
    "    \n",
    "    # --Complete branches (data) \n",
    "    if isData:\n",
    "        print('is Data')\n",
    " \n",
    "                \n",
    "    # --Complete branches (MC)\n",
    "    else:\n",
    "        print('is MC')\n",
    "        add_branches = ['Generator_weight','puWeight','PrefireWeight']\n",
    "        met_branches = uproot.open(file+':Events').keys(filter_name='MET_T1Smear*')\n",
    "        gen_lepton_branches = uproot.open(file+':Events').keys(filter_name='*_lepton*genPartFlav')\n",
    "        gen_photon_branches= uproot.open(file+':Events').keys(filter_name='*_photon*genPartFlav')\n",
    "        true_events = uproot.open(file)['nEventsGenWeighted'].values()[0]\n",
    "        init_branches.extend(add_branches)\n",
    "        init_branches.extend(gen_lepton_branches)\n",
    "        init_branches.extend(gen_photon_branches)\n",
    "        init_branches.extend(met_branches)\n",
    "\n",
    "                \n",
    "    # --Prepare main branches\n",
    "    branches = uproot.open(file+':Events').arrays(init_branches, library='pd')\n",
    "\n",
    "                \n",
    "                \n",
    "    # --Triggers\n",
    "    \n",
    "    # Single Electron HLT\n",
    "    HLT_SingleElectron = branches.loc[:,'HLT_Ele27_WPTight_Gsf'] == True\n",
    "\n",
    "    # DoubleEG HLT\n",
    "    HLT_DoubleEG = branches.loc[:,'HLT_Ele23_Ele12_CaloIdL_TrackIdL_IsoVL_DZ'] == True\n",
    "\n",
    "    # Single MuonHLT\n",
    "    HLT_SingleMuon1 = branches.loc[:,'HLT_IsoTkMu24'] == True\n",
    "    HLT_SingleMuon2 = branches.loc[:,'HLT_IsoMu24'] == True\n",
    "    comb_HLT_SingleMuon  = (HLT_SingleMuon1 | HLT_SingleMuon2)\n",
    "\n",
    "    # Double Muon HLT\n",
    "    HLT_DoubleMuon1 = branches.loc[:,'HLT_Mu17_TrkIsoVVL_Mu8_TrkIsoVVL'] == True\n",
    "    HLT_DoubleMuon2 = branches.loc[:,'HLT_Mu17_TrkIsoVVL_TkMu8_TrkIsoVVL'] == True\n",
    "    HLT_DoubleMuon3 = branches.loc[:,'HLT_Mu17_TrkIsoVVL_Mu8_TrkIsoVVL_DZ'] == True\n",
    "    HLT_DoubleMuon4 = branches.loc[:,'HLT_Mu17_TrkIsoVVL_TkMu8_TrkIsoVVL_DZ'] == True\n",
    "    if 'DoubleMuon_Run2016H'in file:\n",
    "        comb_HLT_DoubleMuon = (HLT_DoubleMuon3 | HLT_DoubleMuon4)\n",
    "    elif 'DoubleMuon_Run2016' in file:\n",
    "        comb_HLT_DoubleMuon = (HLT_DoubleMuon1 | HLT_DoubleMuon2)\n",
    "    else:\n",
    "        comb_HLT_DoubleMuon = (HLT_DoubleMuon1 | HLT_DoubleMuon2) | (HLT_DoubleMuon3 | HLT_DoubleMuon4)\n",
    "\n",
    "    # MuonEG HLT\n",
    "    HLT_MuonEG1 = branches.loc[:,'HLT_Mu8_TrkIsoVVL_Ele23_CaloIdL_TrackIdL_IsoVL'] == True\n",
    "    HLT_MuonEG2 = branches.loc[:,'HLT_Mu23_TrkIsoVVL_Ele8_CaloIdL_TrackIdL_IsoVL'] == True\n",
    "\n",
    "\n",
    "    if 'MuonEG_Run2016H' in file:\n",
    "        HLT_MuonEG3 = branches.loc[:,'HLT_Mu8_TrkIsoVVL_Ele23_CaloIdL_TrackIdL_IsoVL_DZ'] == True\n",
    "        HLT_MuonEG4 = branches.loc[:,'HLT_Mu23_TrkIsoVVL_Ele8_CaloIdL_TrackIdL_IsoVL_DZ'] == True\n",
    "        comb_HLT_MuonEG = (HLT_MuonEG1 | HLT_MuonEG2) | (HLT_MuonEG3 | HLT_MuonEG4)\n",
    "    else:\n",
    "        comb_HLT_MuonEG = (HLT_MuonEG1 | HLT_MuonEG2)\n",
    "\n",
    "\n",
    "    \n",
    "    # Apply trigger\n",
    "    if 'SingleMuon' in file:\n",
    "        print('SingleMuon trigger')\n",
    "        arrays = branches.loc[comb_HLT_SingleMuon , :].copy()\n",
    "    elif 'DoubleMuon' in file:\n",
    "        print('DoubleMuon trigger')\n",
    "        arrays = branches.loc[~comb_HLT_SingleMuon & comb_HLT_DoubleMuon, :].copy()\n",
    "    elif 'SingleElectron' in file:\n",
    "        print('SingleElectron trigger')\n",
    "        arrays = branches.loc[~comb_HLT_SingleMuon & ~comb_HLT_DoubleMuon &   HLT_SingleElectron ,:].copy()\n",
    "    elif 'MuonEG' in file:\n",
    "        print('MuonEG Trigger')\n",
    "        arrays = branches.loc[~comb_HLT_SingleMuon & ~comb_HLT_DoubleMuon &  ~HLT_SingleElectron & comb_HLT_MuonEG,:].copy()\n",
    "    elif 'DoubleEG' in file:\n",
    "        print('DoubleEG trigger')\n",
    "        arrays = branches.loc[~comb_HLT_SingleMuon & ~comb_HLT_DoubleMuon &  ~HLT_SingleElectron & ~comb_HLT_MuonEG & HLT_DoubleEG,:].copy()\n",
    "        \n",
    "    else:\n",
    "        print('isMC')\n",
    "        arrays = branches.loc[comb_HLT_SingleMuon | comb_HLT_DoubleMuon | comb_HLT_MuonEG | HLT_SingleElectron |  HLT_DoubleEG ,:].copy()\n",
    "\n",
    "    print('after trigger',len(arrays))    \n",
    "        \n",
    "    \n",
    "    # --cuts\n",
    "    \n",
    "    # MET \n",
    "#    if isData:\n",
    "#        MET_cut = (arrays.loc[:,'MET'] > 30)\n",
    "#    else:\n",
    "#        MET_cut = (arrays.loc[:,f'MET_T1Smear_pt'] > 30)\n",
    "#    arrays = arrays.loc[MET_cut,:]\n",
    "#    print('after MET',len(arrays))\n",
    "    \n",
    "    # lepton pt\n",
    "    lepton_pt_mask = (arrays.loc[:,\"z_lepton1_pt\"] > 25) & (arrays.loc[:,\"z_lepton2_pt\"] > 15)\n",
    "    arrays = arrays.loc[lepton_pt_mask,:]\n",
    "    print('after pt',len(arrays))\n",
    "    \n",
    "    # Zmass window\n",
    "    Zmass_mask     = abs(arrays.loc[:,\"dilepton_mass\"]-91.188) <= 15\n",
    "    arrays = arrays.loc[Zmass_mask,:]\n",
    "    print('after Zmass',len(arrays))\n",
    "    \n",
    "    # bjet veto\n",
    "#    bjet_veto_mask = arrays.loc[:,\"nJets\"] == 0\n",
    "#    arrays = arrays.loc[lepton_pt_mask & Zmass_mask & bjet_veto_mask,:]\n",
    "#    arrays = arrays.loc[bjet_veto_mask,:]\n",
    "#    print('after bjet_veto',len(arrays))\n",
    "\n",
    "    \n",
    "    # Photon Eta\n",
    "    if isbarrel == 1:\n",
    "        eta_cut = abs(arrays.loc[:,'photon_eta']) < 1.4442\n",
    "    elif isbarrel == 0:\n",
    "        eta_cut = abs((arrays.loc[:,'photon_eta']) > 1.566) & abs((arrays.loc[:,'photon_eta']) < 2.5)\n",
    "    \n",
    "    mask_mediumID = (1<<1) | (1<<3) | (1<<5) | (1<<7) | (1<<9) | (1<<11) | (1<<13)\n",
    "\n",
    "    # Original Photon MediumID \n",
    "    arrays['mediumID'] = arrays['photon_vidNestedWPBitmap'] & mask_mediumID\n",
    "    arrays = arrays.loc[arrays.loc[:,'mediumID'] == mask_mediumID, :]\n",
    "    print('after Photon ID',len(arrays))\n",
    "        \n",
    "    # Photon PT\n",
    "    pt_cut = (arrays.loc[:,'photon_pt'] >= 20)\n",
    "    arrays = arrays.loc[pt_cut & eta_cut ,:]\n",
    "    print('after photon pt eta',len(arrays))\n",
    "    \n",
    "    # -- Fill hist\n",
    "    print(\"events: \",len(arrays))\n",
    "    # data\n",
    "    if isData:\n",
    "        for i in trange(0, len(arrays['photon_pt']), desc=f'fill photonPT for {file}'):\n",
    "            hist.Fill(float(arrays['photon_pt'].values[i]))\n",
    "    # MC\n",
    "    else:\n",
    "        arrays['Generator_weight_sgn'] = arrays['Generator_weight'].apply(lambda x: 1 if x >= 0 else -1)\n",
    "        arrays['true_weight'] = lumi * xsec * 1000 *  arrays['PrefireWeight'] * arrays['puWeight']*  arrays['Generator_weight_sgn'] / true_events   \n",
    "\n",
    "        for i in trange(len(arrays['photon_pt']), desc=f'fill photonPT for {file}'):\n",
    "            hist.Fill(float(arrays['photon_pt'].values[i]),float(arrays['true_weight'].values[i]))\n",
    "    \n",
    "def AddHist_dataFake(file, hist,isbarrel,isData=True,xsec=1,lumi=1):\n",
    "    \n",
    "    # --read branches special case for MuonEG 2016H\n",
    "    if 'MuonEG_Run2016H' in file:\n",
    "        init_branches = [\n",
    "                    'channel_mark'\n",
    "                    ,'HLT_Ele27_WPTight_Gsf'\n",
    "                    ,'HLT_IsoTkMu24'\n",
    "                    ,'HLT_IsoMu24'\n",
    "                    ,'HLT_Mu17_TrkIsoVVL_Mu8_TrkIsoVVL'\n",
    "                    ,'HLT_Mu17_TrkIsoVVL_TkMu8_TrkIsoVVL'\n",
    "                    ,'HLT_Mu17_TrkIsoVVL_Mu8_TrkIsoVVL_DZ'\n",
    "                    ,'HLT_Mu17_TrkIsoVVL_TkMu8_TrkIsoVVL_DZ'\n",
    "                    ,'HLT_Mu8_TrkIsoVVL_Ele23_CaloIdL_TrackIdL_IsoVL'\n",
    "                    ,'HLT_Mu23_TrkIsoVVL_Ele8_CaloIdL_TrackIdL_IsoVL'\n",
    "                    ,'HLT_Mu8_TrkIsoVVL_Ele23_CaloIdL_TrackIdL_IsoVL_DZ'\n",
    "                    ,'HLT_Mu23_TrkIsoVVL_Ele8_CaloIdL_TrackIdL_IsoVL_DZ'\n",
    "                    ,'HLT_Ele23_Ele12_CaloIdL_TrackIdL_IsoVL_DZ'\n",
    "                    ,'photon_sieie'\n",
    "                    ,'photon_vidNestedWPBitmap'\n",
    "                    ,'photon_eta'\n",
    "                    ,'photon_pt'\n",
    "                    ,'photon_pfRelIso03_chg'\n",
    "                    ,'MET'\n",
    "                    ,\"z_lepton1_pt\"\n",
    "                    ,\"z_lepton2_pt\"\n",
    "                    ,\"dilepton_mass\"\n",
    "                    ,\"nJets\"\n",
    "        ]\n",
    "        \n",
    "    # --read branches \n",
    "    else:\n",
    "        init_branches = [\n",
    "                    'channel_mark'\n",
    "                    ,'HLT_Ele27_WPTight_Gsf'\n",
    "                    ,'HLT_IsoTkMu24'\n",
    "                    ,'HLT_IsoMu24'\n",
    "                    ,'HLT_Mu17_TrkIsoVVL_Mu8_TrkIsoVVL'\n",
    "                    ,'HLT_Mu17_TrkIsoVVL_TkMu8_TrkIsoVVL'\n",
    "                    ,'HLT_Mu17_TrkIsoVVL_Mu8_TrkIsoVVL_DZ'\n",
    "                    ,'HLT_Mu17_TrkIsoVVL_TkMu8_TrkIsoVVL_DZ'\n",
    "                    ,'HLT_Mu8_TrkIsoVVL_Ele23_CaloIdL_TrackIdL_IsoVL'\n",
    "                    ,'HLT_Mu23_TrkIsoVVL_Ele8_CaloIdL_TrackIdL_IsoVL'\n",
    "                    ,'HLT_Ele23_Ele12_CaloIdL_TrackIdL_IsoVL_DZ'\n",
    "                    ,'photon_sieie'\n",
    "                    ,'photon_vidNestedWPBitmap'\n",
    "                    ,'photon_eta'\n",
    "                    ,'photon_pt'\n",
    "                    ,'photon_pfRelIso03_chg'\n",
    "                    ,'MET'\n",
    "                    ,\"z_lepton1_pt\"\n",
    "                    ,\"z_lepton2_pt\"\n",
    "                    ,\"dilepton_mass\"\n",
    "                    ,\"nJets\"\n",
    "        ] \n",
    "    \n",
    "    # --Complete branches (data) \n",
    "    if isData:\n",
    "        print('is Data')\n",
    "\n",
    "                \n",
    "    # --Complete branches (MC)\n",
    "    else:\n",
    "        add_branches = ['Generator_weight','puWeight','PrefireWeight']\n",
    "        met_branches = uproot.open(file+':Events').keys(filter_name='MET_T1Smear*')\n",
    "        gen_lepton_branches = uproot.open(file+':Events').keys(filter_name='*_lepton*genPartFlav')\n",
    "        gen_photon_branches= uproot.open(file+':Events').keys(filter_name='*_photon*genPartFlav')\n",
    "        true_events = uproot.open(file)['nEventsGenWeighted'].values()[0]\n",
    "        init_branches.extend(add_branches)\n",
    "        init_branches.extend(gen_lepton_branches)\n",
    "        init_branches.extend(gen_photon_branches)\n",
    "        init_branches.extend(met_branches)\n",
    "\n",
    "                \n",
    "    # --Prepare main branches\n",
    "    branches = uproot.open(file+':Events').arrays(init_branches, library='pd')\n",
    "    \n",
    "    # --Triggers\n",
    "    \n",
    "    # Single Electron HLT\n",
    "    HLT_SingleElectron = branches.loc[:,'HLT_Ele27_WPTight_Gsf'] == True\n",
    "\n",
    "    # DoubleEG HLT\n",
    "    HLT_DoubleEG = branches.loc[:,'HLT_Ele23_Ele12_CaloIdL_TrackIdL_IsoVL_DZ'] == True\n",
    "\n",
    "    # Single MuonHLT\n",
    "    HLT_SingleMuon1 = branches.loc[:,'HLT_IsoTkMu24'] == True\n",
    "    HLT_SingleMuon2 = branches.loc[:,'HLT_IsoMu24'] == True\n",
    "    comb_HLT_SingleMuon  = (HLT_SingleMuon1 | HLT_SingleMuon2)\n",
    "\n",
    "    # Double Muon HLT\n",
    "    HLT_DoubleMuon1 = branches.loc[:,'HLT_Mu17_TrkIsoVVL_Mu8_TrkIsoVVL'] == True\n",
    "    HLT_DoubleMuon2 = branches.loc[:,'HLT_Mu17_TrkIsoVVL_TkMu8_TrkIsoVVL'] == True\n",
    "    HLT_DoubleMuon3 = branches.loc[:,'HLT_Mu17_TrkIsoVVL_Mu8_TrkIsoVVL_DZ'] == True\n",
    "    HLT_DoubleMuon4 = branches.loc[:,'HLT_Mu17_TrkIsoVVL_TkMu8_TrkIsoVVL_DZ'] == True\n",
    "    if 'DoubleMuon_Run2016H'in file:\n",
    "        comb_HLT_DoubleMuon = (HLT_DoubleMuon3 | HLT_DoubleMuon4)\n",
    "    elif 'DoubleMuon_Run2016' in file:\n",
    "        comb_HLT_DoubleMuon = (HLT_DoubleMuon1 | HLT_DoubleMuon2)\n",
    "    else:\n",
    "        comb_HLT_DoubleMuon = (HLT_DoubleMuon1 | HLT_DoubleMuon2) | (HLT_DoubleMuon3 | HLT_DoubleMuon4)\n",
    "\n",
    "    # MuonEG HLT\n",
    "    HLT_MuonEG1 = branches.loc[:,'HLT_Mu8_TrkIsoVVL_Ele23_CaloIdL_TrackIdL_IsoVL'] == True\n",
    "    HLT_MuonEG2 = branches.loc[:,'HLT_Mu23_TrkIsoVVL_Ele8_CaloIdL_TrackIdL_IsoVL'] == True\n",
    "\n",
    "\n",
    "    if 'MuonEG_Run2016H' in file:\n",
    "        HLT_MuonEG3 = branches.loc[:,'HLT_Mu8_TrkIsoVVL_Ele23_CaloIdL_TrackIdL_IsoVL_DZ'] == True\n",
    "        HLT_MuonEG4 = branches.loc[:,'HLT_Mu23_TrkIsoVVL_Ele8_CaloIdL_TrackIdL_IsoVL_DZ'] == True\n",
    "        comb_HLT_MuonEG = (HLT_MuonEG1 | HLT_MuonEG2) | (HLT_MuonEG3 | HLT_MuonEG4)\n",
    "    else:\n",
    "        comb_HLT_MuonEG = (HLT_MuonEG1 | HLT_MuonEG2)\n",
    "\n",
    "\n",
    "    \n",
    "    # Apply trigger\n",
    "    if 'SingleMuon' in file:\n",
    "        arrays = branches.loc[comb_HLT_SingleMuon , :].copy()\n",
    "    elif 'DoubleMuon' in file:\n",
    "        arrays = branches.loc[~comb_HLT_SingleMuon & comb_HLT_DoubleMuon, :].copy()\n",
    "    elif 'SingleElectron' in file:\n",
    "        arrays = branches.loc[~comb_HLT_SingleMuon & ~comb_HLT_DoubleMuon &   HLT_SingleElectron ,:].copy()\n",
    "    elif 'MuonEG' in file:\n",
    "        arrays = branches.loc[~comb_HLT_SingleMuon & ~comb_HLT_DoubleMuon &  ~HLT_SingleElectron & comb_HLT_MuonEG,:].copy()\n",
    "    elif 'DoubleEG' in file:\n",
    "        arrays = branches.loc[~comb_HLT_SingleMuon & ~comb_HLT_DoubleMuon &  ~HLT_SingleElectron & ~comb_HLT_MuonEG & HLT_DoubleEG,:].copy()\n",
    "        \n",
    "    else:\n",
    "        arrays = branches.loc[comb_HLT_SingleMuon | comb_HLT_DoubleMuon | comb_HLT_MuonEG | HLT_SingleElectron |  HLT_DoubleEG ,:].copy()\n",
    "        \n",
    "    \n",
    "    # --cuts\n",
    "#    # MET \n",
    "#    if isData:\n",
    "#        MET_cut = (arrays.loc[:,'MET'] > 30)\n",
    "#    else:\n",
    "#        MET_cut = (arrays.loc[:,f'MET_T1Smear_pt'] > 30)\n",
    "#    arrays = arrays.loc[MET_cut,:]\n",
    "\n",
    "    # lepton pt\n",
    "    lepton_pt_mask = (arrays.loc[:,\"z_lepton1_pt\"] > 25) & (arrays.loc[:,\"z_lepton2_pt\"] > 15)\n",
    "    arrays = arrays.loc[lepton_pt_mask,:]\n",
    "    print('after pt',len(arrays))\n",
    "    \n",
    "    # Zmass window\n",
    "    Zmass_mask     = abs(arrays.loc[:,\"dilepton_mass\"]-91.188) <= 15\n",
    "    arrays = arrays.loc[Zmass_mask,:]\n",
    "    print('after Zmass',len(arrays))\n",
    "    \n",
    "#    # bjet veto\n",
    "#    bjet_veto_mask = arrays.loc[:,\"nJets\"] == 0\n",
    "#    arrays = arrays.loc[lepton_pt_mask & Zmass_mask & bjet_veto_mask,:]\n",
    "#    arrays = arrays.loc[bjet_veto_mask,:]\n",
    "#    print('after bjet_veto',len(arrays))\n",
    "\n",
    "    \n",
    "    # Photon Eta\n",
    "    if isbarrel == 1:\n",
    "        eta_cut = abs(arrays.loc[:,'photon_eta']) < 1.4442\n",
    "    elif isbarrel == 0:\n",
    "        eta_cut = abs((arrays.loc[:,'photon_eta']) > 1.566) & abs((arrays.loc[:,'photon_eta']) < 2.5)        \n",
    "    arrays = arrays.loc[eta_cut,:]\n",
    "    print(\"Photon eta cut: \",len(arrays))\n",
    "    \n",
    "    pt_cut  = (arrays.loc[:,'photon_pt'] >= 20)\n",
    "    arrays = arrays.loc[pt_cut,:]\n",
    "    print(\"Photon pt cut: \",len(arrays))\n",
    "    \n",
    "    # Invert Photon MediumID \n",
    "    mask_mediumID = (1<<1) | (1<<3) | (1<<5) | (1<<7) | (1<<9) | (1<<11) | (1<<13)\n",
    "    mask_invert_IsoChg = (1<<1) | (1<<3) | (1<<5) | (1<<7) | (1<<11) | (1<<13)\n",
    "    mask_invert_sieie  = (1<<1) | (1<<3) | (1<<5) | (1<<9)  | (1<<11) | (1<<13)\n",
    "    \n",
    "    arrays['mediumID'] = arrays['photon_vidNestedWPBitmap'] & mask_mediumID\n",
    "    \n",
    "    # case I cut fail sieie or IsoChg in medium cut\n",
    "    cut_fail_IsoChg = (arrays.loc[:,'mediumID'] == mask_invert_IsoChg)\n",
    "    cut_fail_Sieie  = (arrays.loc[:,'mediumID'] == mask_invert_sieie)\n",
    "    cut_fail_medium = cut_fail_IsoChg | cut_fail_Sieie\n",
    "    \n",
    "    # case II cut fail one of medium cut\n",
    "    #cut_fail_medium = (arrays.loc[:,'mediumID'] != mask_mediumID)\n",
    "    \n",
    "    \n",
    "    \n",
    "    arrays = arrays.loc[cut_fail_medium, :]\n",
    "    print('after not medium',len(arrays)) \n",
    "    \n",
    "    \n",
    "    # -- Fill hist\n",
    "    \n",
    "    print(\"events: \",len(arrays))\n",
    "    # data\n",
    "    if isData:\n",
    "        for i in trange(0, len(arrays['photon_pt']), desc=f'fill photonPT for {file}'):\n",
    "            hist.Fill(float(arrays['photon_pt'].values[i]))\n",
    "    # MC\n",
    "    else:\n",
    "\n",
    "        arrays['Generator_weight_sgn'] = arrays['Generator_weight'].apply(lambda x: 1 if x >= 0 else -1)\n",
    "        arrays['true_weight'] = lumi * xsec * 1000 *  arrays['PrefireWeight'] * arrays['puWeight'] *  arrays['Generator_weight_sgn'] / true_events   \n",
    "\n",
    "        for i in trange(len(arrays['photon_pt']), desc=f'fill photonPT for {file}'):\n",
    "            hist.Fill(float(arrays['photon_pt'].values[i]),float(arrays['true_weight'].values[i]))"
   ]
  },
  {
   "cell_type": "code",
   "execution_count": 46,
   "id": "5fda1a64",
   "metadata": {},
   "outputs": [],
   "source": [
    "## 2016 CR\n",
    "\n",
    "filelist_data = [\n",
    "\"/eos/home-j/jiwoong/WZG_DB/2016/pre_post_separated_220209/FakePhoton/CR/merged/DoubleEG_Run2016B.root\"\n",
    ",\"/eos/home-j/jiwoong/WZG_DB/2016/pre_post_separated_220209/FakePhoton/CR/merged/DoubleEG_Run2016C.root\"\n",
    ",\"/eos/home-j/jiwoong/WZG_DB/2016/pre_post_separated_220209/FakePhoton/CR/merged/DoubleEG_Run2016D.root\"\n",
    ",\"/eos/home-j/jiwoong/WZG_DB/2016/pre_post_separated_220209/FakePhoton/CR/merged/DoubleEG_Run2016E.root\"\n",
    ",\"/eos/home-j/jiwoong/WZG_DB/2016/pre_post_separated_220209/FakePhoton/CR/merged/DoubleEG_Run2016F.root\"\n",
    ",\"/eos/home-j/jiwoong/WZG_DB/2016/pre_post_separated_220209/FakePhoton/CR/merged/DoubleEG_Run2016G.root\"\n",
    ",\"/eos/home-j/jiwoong/WZG_DB/2016/pre_post_separated_220209/FakePhoton/CR/merged/DoubleEG_Run2016H.root\"\n",
    ",\"/eos/home-j/jiwoong/WZG_DB/2016/pre_post_separated_220209/FakePhoton/CR/merged/DoubleMuon_Run2016B.root\"\n",
    ",\"/eos/home-j/jiwoong/WZG_DB/2016/pre_post_separated_220209/FakePhoton/CR/merged/DoubleMuon_Run2016C.root\"\n",
    ",\"/eos/home-j/jiwoong/WZG_DB/2016/pre_post_separated_220209/FakePhoton/CR/merged/DoubleMuon_Run2016D.root\"\n",
    ",\"/eos/home-j/jiwoong/WZG_DB/2016/pre_post_separated_220209/FakePhoton/CR/merged/DoubleMuon_Run2016E.root\"\n",
    ",\"/eos/home-j/jiwoong/WZG_DB/2016/pre_post_separated_220209/FakePhoton/CR/merged/DoubleMuon_Run2016F.root\"\n",
    ",\"/eos/home-j/jiwoong/WZG_DB/2016/pre_post_separated_220209/FakePhoton/CR/merged/DoubleMuon_Run2016G.root\"\n",
    ",\"/eos/home-j/jiwoong/WZG_DB/2016/pre_post_separated_220209/FakePhoton/CR/merged/DoubleMuon_Run2016H.root\"\n",
    ",\"/eos/home-j/jiwoong/WZG_DB/2016/pre_post_separated_220209/FakePhoton/CR/merged/MuonEG_Run2016B.root\"\n",
    ",\"/eos/home-j/jiwoong/WZG_DB/2016/pre_post_separated_220209/FakePhoton/CR/merged/MuonEG_Run2016C.root\"\n",
    ",\"/eos/home-j/jiwoong/WZG_DB/2016/pre_post_separated_220209/FakePhoton/CR/merged/MuonEG_Run2016D.root\"\n",
    ",\"/eos/home-j/jiwoong/WZG_DB/2016/pre_post_separated_220209/FakePhoton/CR/merged/MuonEG_Run2016E.root\"\n",
    ",\"/eos/home-j/jiwoong/WZG_DB/2016/pre_post_separated_220209/FakePhoton/CR/merged/MuonEG_Run2016F.root\"\n",
    ",\"/eos/home-j/jiwoong/WZG_DB/2016/pre_post_separated_220209/FakePhoton/CR/merged/MuonEG_Run2016G.root\"\n",
    ",\"/eos/home-j/jiwoong/WZG_DB/2016/pre_post_separated_220209/FakePhoton/CR/merged/MuonEG_Run2016H.root\"\n",
    ",\"/eos/home-j/jiwoong/WZG_DB/2016/pre_post_separated_220209/FakePhoton/CR/merged/SingleElectron_Run2016B.root\"\n",
    ",\"/eos/home-j/jiwoong/WZG_DB/2016/pre_post_separated_220209/FakePhoton/CR/merged/SingleElectron_Run2016C.root\"\n",
    ",\"/eos/home-j/jiwoong/WZG_DB/2016/pre_post_separated_220209/FakePhoton/CR/merged/SingleElectron_Run2016D.root\"\n",
    ",\"/eos/home-j/jiwoong/WZG_DB/2016/pre_post_separated_220209/FakePhoton/CR/merged/SingleElectron_Run2016E.root\"\n",
    ",\"/eos/home-j/jiwoong/WZG_DB/2016/pre_post_separated_220209/FakePhoton/CR/merged/SingleElectron_Run2016F.root\"\n",
    ",\"/eos/home-j/jiwoong/WZG_DB/2016/pre_post_separated_220209/FakePhoton/CR/merged/SingleElectron_Run2016G.root\"\n",
    ",\"/eos/home-j/jiwoong/WZG_DB/2016/pre_post_separated_220209/FakePhoton/CR/merged/SingleElectron_Run2016H.root\"\n",
    ",\"/eos/home-j/jiwoong/WZG_DB/2016/pre_post_separated_220209/FakePhoton/CR/merged/SingleMuon_Run2016B.root\"\n",
    ",\"/eos/home-j/jiwoong/WZG_DB/2016/pre_post_separated_220209/FakePhoton/CR/merged/SingleMuon_Run2016C.root\"\n",
    ",\"/eos/home-j/jiwoong/WZG_DB/2016/pre_post_separated_220209/FakePhoton/CR/merged/SingleMuon_Run2016D.root\"\n",
    ",\"/eos/home-j/jiwoong/WZG_DB/2016/pre_post_separated_220209/FakePhoton/CR/merged/SingleMuon_Run2016E.root\"\n",
    ",\"/eos/home-j/jiwoong/WZG_DB/2016/pre_post_separated_220209/FakePhoton/CR/merged/SingleMuon_Run2016F.root\"\n",
    ",\"/eos/home-j/jiwoong/WZG_DB/2016/pre_post_separated_220209/FakePhoton/CR/merged/SingleMuon_Run2016G.root\"\n",
    ",\"/eos/home-j/jiwoong/WZG_DB/2016/pre_post_separated_220209/FakePhoton/CR/merged/SingleMuon_Run2016H.root\"\n",
    "]"
   ]
  },
  {
   "cell_type": "code",
   "execution_count": 47,
   "id": "275ffaa0",
   "metadata": {},
   "outputs": [],
   "source": [
    "filelist_MC = {\n",
    "    \n",
    "   \"TTG\":\n",
    "        {\"name\":\"TTGJets\",\n",
    "        \"path\":\"/eos/home-j/jiwoong/WZG_DB/2016/pre_post_separated_220209/FakePhoton/CR/merged/TTGJets_TuneCP5_13TeV-amcatnloFXFX-madspin-pythia8_2016.root\",\n",
    "        \"xsec\":4.078,\n",
    "        },\n",
    "   \"TTZ\":\n",
    "        {\"name\":\"TTZToLLNuNu\",\n",
    "        \"path\":\"/eos/home-j/jiwoong/WZG_DB/2016/pre_post_separated_220209/FakePhoton/CR/merged/TTZToLLNuNu_M-10_TuneCP5_13TeV-amcatnlo-pythia8_2016.root\",\n",
    "        \"xsec\":0.2432,\n",
    "        },\n",
    "   \"TTW\":\n",
    "        {\"name\":\"TTWJetsToLNu\",\n",
    "        \"path\":\"/eos/home-j/jiwoong/WZG_DB/2016/pre_post_separated_220209/FakePhoton/CR/merged/TTWJetsToLNu_TuneCP5_13TeV-amcatnloFXFX-madspin-pythia8_2016.root\",\n",
    "        \"xsec\":0.2149,\n",
    "        },\n",
    "   \"tZq\":\n",
    "        {\"name\":\"tZq_ll\",\n",
    "        \"path\":\"/eos/home-j/jiwoong/WZG_DB/2016/pre_post_separated_220209/FakePhoton/CR/merged/tZq_ll_4f_ckm_NLO_TuneCP5_13TeV-amcatnlo-pythia8_2016.root\",\n",
    "        \"xsec\":0.07358,\n",
    "        },\n",
    "   \"WWW\":\n",
    "        {\"name\":\"WWW\",\n",
    "        \"path\":\"/eos/home-j/jiwoong/WZG_DB/2016/pre_post_separated_220209/FakePhoton/CR/merged/WWW_4F_TuneCP5_13TeV-amcatnlo-pythia8_2016.root\",\n",
    "        \"xsec\":0.2086,\n",
    "        },\n",
    "   \"ZGToLLG\":\n",
    "        {\"name\":\"ZGToLLG\",\n",
    "        \"path\":\"/eos/home-j/jiwoong/WZG_DB/2016/pre_post_separated_220209/FakePhoton/CR/merged/ZGToLLG_01J_5f_TuneCP5_13TeV-amcatnloFXFX-pythia8_2016.root\",\n",
    "        \"xsec\":55.48,\n",
    "        },\n",
    "    \"ZZ\":\n",
    "        {\"name\":\"ZZ\",\n",
    "        \"path\":\"/eos/home-j/jiwoong/WZG_DB/2016/pre_post_separated_220209/FakePhoton/CR/merged/ZZ_TuneCP5_13TeV-pythia8_2016.root\",\n",
    "        \"xsec\":16.523, # NLO\n",
    "        },\n",
    "    \"WZG\":\n",
    "        {\"name\":\"WZG\",\n",
    "        \"path\":\"/eos/home-j/jiwoong/WZG_DB/2016/pre_post_separated_220209/FakePhoton/CR/merged/wza_2016.root\",\n",
    "        \"xsec\":0.0384,\n",
    "        },\n",
    "   \"WWZ\":\n",
    "        {\"name\":\"WWZ\",\n",
    "        \"path\":\"/eos/home-j/jiwoong/WZG_DB/2016/pre_post_separated_220209/FakePhoton/CR/merged/WWZ_4F_TuneCP5_13TeV-amcatnlo-pythia8_2016.root\",\n",
    "        \"xsec\":0.1707,\n",
    "        },\n",
    "   \"ggZZ_2e2mu\":\n",
    "        {\"name\":\"ggZZ2e2mu\",\n",
    "        \"path\":\"/eos/home-j/jiwoong/WZG_DB/2016/pre_post_separated_220209/FakePhoton/CR/merged/GluGluToContinToZZTo2e2mu_TuneCP5_13TeV-mcfm701-pythia8_2016.root\",\n",
    "        \"xsec\":0.00319,\n",
    "        },\n",
    "#   \"ggZZ_2e2nu\":\n",
    "#        {\"name\":\"ggZZ2e2nu\",\n",
    "#        \"path\":\"/eos/home-j/jiwoong/SWAN_projects/Draw/2017/GluGluToContinToZZTo2e2nu_TuneCP5_13TeV-mcfm701-pythia8_2017_0000.root\",\n",
    "#        \"xsec\":0.00319,\n",
    "#        },\n",
    "   \"ggZZ_2e2tau\":\n",
    "        {\"name\":\"ggZZ2e2tau\",\n",
    "        \"path\":\"/eos/home-j/jiwoong/WZG_DB/2016/pre_post_separated_220209/FakePhoton/CR/merged/GluGluToContinToZZTo2e2tau_TuneCP5_13TeV-mcfm701-pythia8_2016.root\",\n",
    "        \"xsec\":0.00319,\n",
    "        },\n",
    "#   \"ggZZ_2mu2nu\":\n",
    "#        {\"name\":\"ggZZ2mu2nu\",\n",
    "#        \"path\":\"/eos/home-j/jiwoong/SWAN_projects/Draw/2017/GluGluToContinToZZTo2mu2nu_TuneCP5_13TeV-mcfm701-pythia8_2017_0000.root\",\n",
    "#        \"xsec\":0.00319,\n",
    "#        },\n",
    "   \"ggZZ_2mu2tau\":\n",
    "        {\"name\":\"ggZZ2mu2tau\",\n",
    "        \"path\":\"/eos/home-j/jiwoong/WZG_DB/2016/pre_post_separated_220209/FakePhoton/CR/merged/GluGluToContinToZZTo2mu2tau_TuneCP5_13TeV-mcfm701-pythia8_2016.root\",\n",
    "        \"xsec\":0.00319,\n",
    "        },\n",
    "   \"ggZZ_4e\":\n",
    "        {\"name\":\"ggZZ4e\",\n",
    "        \"path\":\"/eos/home-j/jiwoong/WZG_DB/2016/pre_post_separated_220209/FakePhoton/CR/merged/GluGluToContinToZZTo4e_TuneCP5_13TeV-mcfm701-pythia8_2016.root\",\n",
    "        \"xsec\":0.00159,\n",
    "        },\n",
    "   \"ggZZ_4mu\":\n",
    "        {\"name\":\"ggZZ4mu\",\n",
    "        \"path\":\"/eos/home-j/jiwoong/WZG_DB/2016/pre_post_separated_220209/FakePhoton/CR/merged/GluGluToContinToZZTo4mu_TuneCP5_13TeV-mcfm701-pythia8_2016.root\",\n",
    "        \"xsec\":0.00159,\n",
    "        },\n",
    "   \"ggZZ_4tau\":\n",
    "        {\"name\":\"ggZZ4tau\",\n",
    "        \"path\":\"/eos/home-j/jiwoong/WZG_DB/2016/pre_post_separated_220209/FakePhoton/CR/merged/GluGluToContinToZZTo4tau_TuneCP5_13TeV-mcfm701-pythia8_2016.root\",\n",
    "        \"xsec\":0.00159,\n",
    "        }    \n",
    "}"
   ]
  },
  {
   "cell_type": "code",
   "execution_count": 54,
   "id": "30bef53a",
   "metadata": {},
   "outputs": [
    {
     "name": "stdout",
     "output_type": "stream",
     "text": [
      "is Data\n",
      "after pt 429\n",
      "after Zmass 147\n",
      "Photon eta cut:  100\n",
      "Photon pt cut:  100\n",
      "after not medium 36\n",
      "events:  36\n"
     ]
    },
    {
     "name": "stderr",
     "output_type": "stream",
     "text": [
      "fill photonPT for /eos/home-j/jiwoong/WZG_DB/2016/pre_post_separated_220209/FakePhoton/CR/merged/DoubleEG_Run2016B.root: 100%|██████████| 36/36 [00:00<00:00, 113701.01it/s]"
     ]
    },
    {
     "name": "stdout",
     "output_type": "stream",
     "text": [
      "is Data\n"
     ]
    },
    {
     "name": "stderr",
     "output_type": "stream",
     "text": [
      "\n"
     ]
    },
    {
     "name": "stdout",
     "output_type": "stream",
     "text": [
      "after pt 173\n",
      "after Zmass 64\n",
      "Photon eta cut:  43\n",
      "Photon pt cut:  43\n",
      "after not medium 18\n",
      "events:  18\n"
     ]
    },
    {
     "name": "stderr",
     "output_type": "stream",
     "text": [
      "fill photonPT for /eos/home-j/jiwoong/WZG_DB/2016/pre_post_separated_220209/FakePhoton/CR/merged/DoubleEG_Run2016C.root: 100%|██████████| 18/18 [00:00<00:00, 88404.53it/s]"
     ]
    },
    {
     "name": "stdout",
     "output_type": "stream",
     "text": [
      "is Data\n"
     ]
    },
    {
     "name": "stderr",
     "output_type": "stream",
     "text": [
      "\n"
     ]
    },
    {
     "name": "stdout",
     "output_type": "stream",
     "text": [
      "after pt 332\n",
      "after Zmass 121\n",
      "Photon eta cut:  79\n",
      "Photon pt cut:  79\n",
      "after not medium 26\n",
      "events:  26\n"
     ]
    },
    {
     "name": "stderr",
     "output_type": "stream",
     "text": [
      "fill photonPT for /eos/home-j/jiwoong/WZG_DB/2016/pre_post_separated_220209/FakePhoton/CR/merged/DoubleEG_Run2016D.root: 100%|██████████| 26/26 [00:00<00:00, 97892.19it/s]"
     ]
    },
    {
     "name": "stdout",
     "output_type": "stream",
     "text": [
      "is Data\n"
     ]
    },
    {
     "name": "stderr",
     "output_type": "stream",
     "text": [
      "\n"
     ]
    },
    {
     "name": "stdout",
     "output_type": "stream",
     "text": [
      "after pt 326\n",
      "after Zmass 127\n",
      "Photon eta cut:  83\n",
      "Photon pt cut:  83\n",
      "after not medium 31\n",
      "events:  31\n"
     ]
    },
    {
     "name": "stderr",
     "output_type": "stream",
     "text": [
      "fill photonPT for /eos/home-j/jiwoong/WZG_DB/2016/pre_post_separated_220209/FakePhoton/CR/merged/DoubleEG_Run2016E.root: 100%|██████████| 31/31 [00:00<00:00, 114861.68it/s]"
     ]
    },
    {
     "name": "stdout",
     "output_type": "stream",
     "text": [
      "is Data\n"
     ]
    },
    {
     "name": "stderr",
     "output_type": "stream",
     "text": [
      "\n"
     ]
    },
    {
     "name": "stdout",
     "output_type": "stream",
     "text": [
      "after pt 161\n",
      "after Zmass 64\n",
      "Photon eta cut:  45\n",
      "Photon pt cut:  45\n",
      "after not medium 17\n",
      "events:  17\n"
     ]
    },
    {
     "name": "stderr",
     "output_type": "stream",
     "text": [
      "fill photonPT for /eos/home-j/jiwoong/WZG_DB/2016/pre_post_separated_220209/FakePhoton/CR/merged/DoubleEG_Run2016F.root: 100%|██████████| 17/17 [00:00<00:00, 103789.18it/s]"
     ]
    },
    {
     "name": "stdout",
     "output_type": "stream",
     "text": [
      "is Data\n"
     ]
    },
    {
     "name": "stderr",
     "output_type": "stream",
     "text": [
      "\n"
     ]
    },
    {
     "name": "stdout",
     "output_type": "stream",
     "text": [
      "after pt 858\n",
      "after Zmass 334\n",
      "Photon eta cut:  253\n",
      "Photon pt cut:  253\n",
      "after not medium 93\n",
      "events:  93\n"
     ]
    },
    {
     "name": "stderr",
     "output_type": "stream",
     "text": [
      "fill photonPT for /eos/home-j/jiwoong/WZG_DB/2016/pre_post_separated_220209/FakePhoton/CR/merged/DoubleEG_Run2016G.root: 100%|██████████| 93/93 [00:00<00:00, 178195.65it/s]"
     ]
    },
    {
     "name": "stdout",
     "output_type": "stream",
     "text": [
      "is Data\n"
     ]
    },
    {
     "name": "stderr",
     "output_type": "stream",
     "text": [
      "\n"
     ]
    },
    {
     "name": "stdout",
     "output_type": "stream",
     "text": [
      "after pt 869\n",
      "after Zmass 356\n",
      "Photon eta cut:  263\n",
      "Photon pt cut:  263\n",
      "after not medium 116\n",
      "events:  116\n"
     ]
    },
    {
     "name": "stderr",
     "output_type": "stream",
     "text": [
      "fill photonPT for /eos/home-j/jiwoong/WZG_DB/2016/pre_post_separated_220209/FakePhoton/CR/merged/DoubleEG_Run2016H.root: 100%|██████████| 116/116 [00:00<00:00, 192384.05it/s]"
     ]
    },
    {
     "name": "stdout",
     "output_type": "stream",
     "text": [
      "is Data\n"
     ]
    },
    {
     "name": "stderr",
     "output_type": "stream",
     "text": [
      "\n"
     ]
    },
    {
     "name": "stdout",
     "output_type": "stream",
     "text": [
      "after pt 336\n",
      "after Zmass 71\n",
      "Photon eta cut:  39\n",
      "Photon pt cut:  39\n",
      "after not medium 10\n",
      "events:  10\n"
     ]
    },
    {
     "name": "stderr",
     "output_type": "stream",
     "text": [
      "fill photonPT for /eos/home-j/jiwoong/WZG_DB/2016/pre_post_separated_220209/FakePhoton/CR/merged/DoubleMuon_Run2016B.root: 100%|██████████| 10/10 [00:00<00:00, 27007.75it/s]"
     ]
    },
    {
     "name": "stdout",
     "output_type": "stream",
     "text": [
      "is Data\n"
     ]
    },
    {
     "name": "stderr",
     "output_type": "stream",
     "text": [
      "\n"
     ]
    },
    {
     "name": "stdout",
     "output_type": "stream",
     "text": [
      "after pt 293\n",
      "after Zmass 58\n",
      "Photon eta cut:  40\n",
      "Photon pt cut:  40\n",
      "after not medium 14\n",
      "events:  14\n"
     ]
    },
    {
     "name": "stderr",
     "output_type": "stream",
     "text": [
      "fill photonPT for /eos/home-j/jiwoong/WZG_DB/2016/pre_post_separated_220209/FakePhoton/CR/merged/DoubleMuon_Run2016C.root: 100%|██████████| 14/14 [00:00<00:00, 47623.89it/s]"
     ]
    },
    {
     "name": "stdout",
     "output_type": "stream",
     "text": [
      "is Data\n"
     ]
    },
    {
     "name": "stderr",
     "output_type": "stream",
     "text": [
      "\n"
     ]
    },
    {
     "name": "stdout",
     "output_type": "stream",
     "text": [
      "after pt 383\n",
      "after Zmass 72\n",
      "Photon eta cut:  51\n",
      "Photon pt cut:  51\n",
      "after not medium 16\n",
      "events:  16\n"
     ]
    },
    {
     "name": "stderr",
     "output_type": "stream",
     "text": [
      "fill photonPT for /eos/home-j/jiwoong/WZG_DB/2016/pre_post_separated_220209/FakePhoton/CR/merged/DoubleMuon_Run2016D.root: 100%|██████████| 16/16 [00:00<00:00, 84840.54it/s]"
     ]
    },
    {
     "name": "stdout",
     "output_type": "stream",
     "text": [
      "is Data\n"
     ]
    },
    {
     "name": "stderr",
     "output_type": "stream",
     "text": [
      "\n"
     ]
    },
    {
     "name": "stdout",
     "output_type": "stream",
     "text": [
      "after pt 445\n",
      "after Zmass 85\n",
      "Photon eta cut:  53\n",
      "Photon pt cut:  53\n",
      "after not medium 17\n",
      "events:  17\n"
     ]
    },
    {
     "name": "stderr",
     "output_type": "stream",
     "text": [
      "fill photonPT for /eos/home-j/jiwoong/WZG_DB/2016/pre_post_separated_220209/FakePhoton/CR/merged/DoubleMuon_Run2016E.root: 100%|██████████| 17/17 [00:00<00:00, 82241.25it/s]"
     ]
    },
    {
     "name": "stdout",
     "output_type": "stream",
     "text": [
      "is Data\n"
     ]
    },
    {
     "name": "stderr",
     "output_type": "stream",
     "text": [
      "\n"
     ]
    },
    {
     "name": "stdout",
     "output_type": "stream",
     "text": [
      "after pt 373\n",
      "after Zmass 68\n",
      "Photon eta cut:  48\n",
      "Photon pt cut:  48\n",
      "after not medium 18\n",
      "events:  18\n"
     ]
    },
    {
     "name": "stderr",
     "output_type": "stream",
     "text": [
      "fill photonPT for /eos/home-j/jiwoong/WZG_DB/2016/pre_post_separated_220209/FakePhoton/CR/merged/DoubleMuon_Run2016F.root: 100%|██████████| 18/18 [00:00<00:00, 47363.53it/s]"
     ]
    },
    {
     "name": "stdout",
     "output_type": "stream",
     "text": [
      "is Data\n"
     ]
    },
    {
     "name": "stderr",
     "output_type": "stream",
     "text": [
      "\n"
     ]
    },
    {
     "name": "stdout",
     "output_type": "stream",
     "text": [
      "after pt 1231\n",
      "after Zmass 258\n",
      "Photon eta cut:  176\n",
      "Photon pt cut:  176\n",
      "after not medium 55\n",
      "events:  55\n"
     ]
    },
    {
     "name": "stderr",
     "output_type": "stream",
     "text": [
      "fill photonPT for /eos/home-j/jiwoong/WZG_DB/2016/pre_post_separated_220209/FakePhoton/CR/merged/DoubleMuon_Run2016G.root: 100%|██████████| 55/55 [00:00<00:00, 163375.86it/s]"
     ]
    },
    {
     "name": "stdout",
     "output_type": "stream",
     "text": [
      "is Data\n"
     ]
    },
    {
     "name": "stderr",
     "output_type": "stream",
     "text": [
      "\n"
     ]
    },
    {
     "name": "stdout",
     "output_type": "stream",
     "text": [
      "after pt 1232\n",
      "after Zmass 255\n",
      "Photon eta cut:  174\n",
      "Photon pt cut:  174\n",
      "after not medium 72\n",
      "events:  72\n"
     ]
    },
    {
     "name": "stderr",
     "output_type": "stream",
     "text": [
      "fill photonPT for /eos/home-j/jiwoong/WZG_DB/2016/pre_post_separated_220209/FakePhoton/CR/merged/DoubleMuon_Run2016H.root: 100%|██████████| 72/72 [00:00<00:00, 92834.27it/s]"
     ]
    },
    {
     "name": "stdout",
     "output_type": "stream",
     "text": [
      "is Data\n"
     ]
    },
    {
     "name": "stderr",
     "output_type": "stream",
     "text": [
      "\n"
     ]
    },
    {
     "name": "stdout",
     "output_type": "stream",
     "text": [
      "after pt 93\n",
      "after Zmass 17\n",
      "Photon eta cut:  9\n",
      "Photon pt cut:  9\n",
      "after not medium 6\n",
      "events:  6\n"
     ]
    },
    {
     "name": "stderr",
     "output_type": "stream",
     "text": [
      "fill photonPT for /eos/home-j/jiwoong/WZG_DB/2016/pre_post_separated_220209/FakePhoton/CR/merged/MuonEG_Run2016B.root: 100%|██████████| 6/6 [00:00<00:00, 22349.75it/s]"
     ]
    },
    {
     "name": "stdout",
     "output_type": "stream",
     "text": [
      "is Data\n"
     ]
    },
    {
     "name": "stderr",
     "output_type": "stream",
     "text": [
      "\n"
     ]
    },
    {
     "name": "stdout",
     "output_type": "stream",
     "text": [
      "after pt 34\n",
      "after Zmass 9\n",
      "Photon eta cut:  4\n",
      "Photon pt cut:  4\n",
      "after not medium 2\n",
      "events:  2\n"
     ]
    },
    {
     "name": "stderr",
     "output_type": "stream",
     "text": [
      "fill photonPT for /eos/home-j/jiwoong/WZG_DB/2016/pre_post_separated_220209/FakePhoton/CR/merged/MuonEG_Run2016C.root: 100%|██████████| 2/2 [00:00<00:00, 18078.90it/s]"
     ]
    },
    {
     "name": "stdout",
     "output_type": "stream",
     "text": [
      "is Data\n"
     ]
    },
    {
     "name": "stderr",
     "output_type": "stream",
     "text": [
      "\n"
     ]
    },
    {
     "name": "stdout",
     "output_type": "stream",
     "text": [
      "after pt 64\n",
      "after Zmass 6\n",
      "Photon eta cut:  4\n",
      "Photon pt cut:  4\n",
      "after not medium 1\n",
      "events:  1\n"
     ]
    },
    {
     "name": "stderr",
     "output_type": "stream",
     "text": [
      "fill photonPT for /eos/home-j/jiwoong/WZG_DB/2016/pre_post_separated_220209/FakePhoton/CR/merged/MuonEG_Run2016D.root: 100%|██████████| 1/1 [00:00<00:00, 10512.04it/s]"
     ]
    },
    {
     "name": "stdout",
     "output_type": "stream",
     "text": [
      "is Data\n"
     ]
    },
    {
     "name": "stderr",
     "output_type": "stream",
     "text": [
      "\n"
     ]
    },
    {
     "name": "stdout",
     "output_type": "stream",
     "text": [
      "after pt 61\n",
      "after Zmass 8\n",
      "Photon eta cut:  4\n",
      "Photon pt cut:  4\n",
      "after not medium 0\n",
      "events:  0\n"
     ]
    },
    {
     "name": "stderr",
     "output_type": "stream",
     "text": [
      "fill photonPT for /eos/home-j/jiwoong/WZG_DB/2016/pre_post_separated_220209/FakePhoton/CR/merged/MuonEG_Run2016E.root: 0it [00:00, ?it/s]"
     ]
    },
    {
     "name": "stdout",
     "output_type": "stream",
     "text": [
      "is Data\n"
     ]
    },
    {
     "name": "stderr",
     "output_type": "stream",
     "text": [
      "\n"
     ]
    },
    {
     "name": "stdout",
     "output_type": "stream",
     "text": [
      "after pt 40\n",
      "after Zmass 7\n",
      "Photon eta cut:  4\n",
      "Photon pt cut:  4\n",
      "after not medium 0\n",
      "events:  0\n"
     ]
    },
    {
     "name": "stderr",
     "output_type": "stream",
     "text": [
      "fill photonPT for /eos/home-j/jiwoong/WZG_DB/2016/pre_post_separated_220209/FakePhoton/CR/merged/MuonEG_Run2016F.root: 0it [00:00, ?it/s]"
     ]
    },
    {
     "name": "stdout",
     "output_type": "stream",
     "text": [
      "is Data\n"
     ]
    },
    {
     "name": "stderr",
     "output_type": "stream",
     "text": [
      "\n"
     ]
    },
    {
     "name": "stdout",
     "output_type": "stream",
     "text": [
      "after pt 160\n",
      "after Zmass 23\n",
      "Photon eta cut:  15\n",
      "Photon pt cut:  15\n",
      "after not medium 6\n",
      "events:  6\n"
     ]
    },
    {
     "name": "stderr",
     "output_type": "stream",
     "text": [
      "fill photonPT for /eos/home-j/jiwoong/WZG_DB/2016/pre_post_separated_220209/FakePhoton/CR/merged/MuonEG_Run2016G.root: 100%|██████████| 6/6 [00:00<00:00, 33644.15it/s]"
     ]
    },
    {
     "name": "stdout",
     "output_type": "stream",
     "text": [
      "is Data\n"
     ]
    },
    {
     "name": "stderr",
     "output_type": "stream",
     "text": [
      "\n"
     ]
    },
    {
     "name": "stdout",
     "output_type": "stream",
     "text": [
      "after pt 109\n",
      "after Zmass 19\n",
      "Photon eta cut:  13\n",
      "Photon pt cut:  13\n",
      "after not medium 5\n",
      "events:  5\n"
     ]
    },
    {
     "name": "stderr",
     "output_type": "stream",
     "text": [
      "fill photonPT for /eos/home-j/jiwoong/WZG_DB/2016/pre_post_separated_220209/FakePhoton/CR/merged/MuonEG_Run2016H.root: 100%|██████████| 5/5 [00:00<00:00, 16939.84it/s]"
     ]
    },
    {
     "name": "stdout",
     "output_type": "stream",
     "text": [
      "is Data\n"
     ]
    },
    {
     "name": "stderr",
     "output_type": "stream",
     "text": [
      "\n"
     ]
    },
    {
     "name": "stdout",
     "output_type": "stream",
     "text": [
      "after pt 2306\n",
      "after Zmass 1590\n",
      "Photon eta cut:  1028\n",
      "Photon pt cut:  1028\n",
      "after not medium 386\n",
      "events:  386\n"
     ]
    },
    {
     "name": "stderr",
     "output_type": "stream",
     "text": [
      "fill photonPT for /eos/home-j/jiwoong/WZG_DB/2016/pre_post_separated_220209/FakePhoton/CR/merged/SingleElectron_Run2016B.root: 100%|██████████| 386/386 [00:00<00:00, 110038.83it/s]"
     ]
    },
    {
     "name": "stdout",
     "output_type": "stream",
     "text": [
      "is Data\n"
     ]
    },
    {
     "name": "stderr",
     "output_type": "stream",
     "text": [
      "\n"
     ]
    },
    {
     "name": "stdout",
     "output_type": "stream",
     "text": [
      "after pt 708\n",
      "after Zmass 511\n",
      "Photon eta cut:  342\n",
      "Photon pt cut:  342\n",
      "after not medium 111\n",
      "events:  111\n"
     ]
    },
    {
     "name": "stderr",
     "output_type": "stream",
     "text": [
      "fill photonPT for /eos/home-j/jiwoong/WZG_DB/2016/pre_post_separated_220209/FakePhoton/CR/merged/SingleElectron_Run2016C.root: 100%|██████████| 111/111 [00:00<00:00, 156598.64it/s]"
     ]
    },
    {
     "name": "stdout",
     "output_type": "stream",
     "text": [
      "is Data\n"
     ]
    },
    {
     "name": "stderr",
     "output_type": "stream",
     "text": [
      "\n"
     ]
    },
    {
     "name": "stdout",
     "output_type": "stream",
     "text": [
      "after pt 2041\n",
      "after Zmass 1348\n",
      "Photon eta cut:  899\n",
      "Photon pt cut:  899\n",
      "after not medium 339\n",
      "events:  339\n"
     ]
    },
    {
     "name": "stderr",
     "output_type": "stream",
     "text": [
      "fill photonPT for /eos/home-j/jiwoong/WZG_DB/2016/pre_post_separated_220209/FakePhoton/CR/merged/SingleElectron_Run2016D.root: 100%|██████████| 339/339 [00:00<00:00, 83369.63it/s]"
     ]
    },
    {
     "name": "stdout",
     "output_type": "stream",
     "text": [
      "is Data\n"
     ]
    },
    {
     "name": "stderr",
     "output_type": "stream",
     "text": [
      "\n"
     ]
    },
    {
     "name": "stdout",
     "output_type": "stream",
     "text": [
      "after pt 1601\n",
      "after Zmass 1100\n",
      "Photon eta cut:  747\n",
      "Photon pt cut:  747\n",
      "after not medium 292\n",
      "events:  292\n"
     ]
    },
    {
     "name": "stderr",
     "output_type": "stream",
     "text": [
      "fill photonPT for /eos/home-j/jiwoong/WZG_DB/2016/pre_post_separated_220209/FakePhoton/CR/merged/SingleElectron_Run2016E.root: 100%|██████████| 292/292 [00:00<00:00, 195083.91it/s]"
     ]
    },
    {
     "name": "stdout",
     "output_type": "stream",
     "text": [
      "is Data\n"
     ]
    },
    {
     "name": "stderr",
     "output_type": "stream",
     "text": [
      "\n"
     ]
    },
    {
     "name": "stdout",
     "output_type": "stream",
     "text": [
      "after pt 1464\n",
      "after Zmass 1001\n",
      "Photon eta cut:  696\n",
      "Photon pt cut:  696\n",
      "after not medium 235\n",
      "events:  235\n"
     ]
    },
    {
     "name": "stderr",
     "output_type": "stream",
     "text": [
      "fill photonPT for /eos/home-j/jiwoong/WZG_DB/2016/pre_post_separated_220209/FakePhoton/CR/merged/SingleElectron_Run2016F.root: 100%|██████████| 235/235 [00:00<00:00, 195956.55it/s]"
     ]
    },
    {
     "name": "stdout",
     "output_type": "stream",
     "text": [
      "is Data\n"
     ]
    },
    {
     "name": "stderr",
     "output_type": "stream",
     "text": [
      "\n"
     ]
    },
    {
     "name": "stdout",
     "output_type": "stream",
     "text": [
      "after pt 5136\n",
      "after Zmass 3559\n",
      "Photon eta cut:  2481\n",
      "Photon pt cut:  2481\n",
      "after not medium 909\n",
      "events:  909\n"
     ]
    },
    {
     "name": "stderr",
     "output_type": "stream",
     "text": [
      "fill photonPT for /eos/home-j/jiwoong/WZG_DB/2016/pre_post_separated_220209/FakePhoton/CR/merged/SingleElectron_Run2016G.root: 100%|██████████| 909/909 [00:00<00:00, 113677.28it/s]"
     ]
    },
    {
     "name": "stdout",
     "output_type": "stream",
     "text": [
      "is Data\n"
     ]
    },
    {
     "name": "stderr",
     "output_type": "stream",
     "text": [
      "\n"
     ]
    },
    {
     "name": "stdout",
     "output_type": "stream",
     "text": [
      "after pt 5900\n",
      "after Zmass 4153\n",
      "Photon eta cut:  2891\n",
      "Photon pt cut:  2891\n",
      "after not medium 1065\n",
      "events:  1065\n"
     ]
    },
    {
     "name": "stderr",
     "output_type": "stream",
     "text": [
      "fill photonPT for /eos/home-j/jiwoong/WZG_DB/2016/pre_post_separated_220209/FakePhoton/CR/merged/SingleElectron_Run2016H.root: 100%|██████████| 1065/1065 [00:00<00:00, 217094.37it/s]"
     ]
    },
    {
     "name": "stdout",
     "output_type": "stream",
     "text": [
      "is Data\n"
     ]
    },
    {
     "name": "stderr",
     "output_type": "stream",
     "text": [
      "\n"
     ]
    },
    {
     "name": "stdout",
     "output_type": "stream",
     "text": [
      "after pt 5080\n",
      "after Zmass 3169\n",
      "Photon eta cut:  2120\n",
      "Photon pt cut:  2120\n",
      "after not medium 787\n",
      "events:  787\n"
     ]
    },
    {
     "name": "stderr",
     "output_type": "stream",
     "text": [
      "fill photonPT for /eos/home-j/jiwoong/WZG_DB/2016/pre_post_separated_220209/FakePhoton/CR/merged/SingleMuon_Run2016B.root: 100%|██████████| 787/787 [00:00<00:00, 111619.29it/s]"
     ]
    },
    {
     "name": "stdout",
     "output_type": "stream",
     "text": [
      "is Data\n"
     ]
    },
    {
     "name": "stderr",
     "output_type": "stream",
     "text": [
      "\n"
     ]
    },
    {
     "name": "stdout",
     "output_type": "stream",
     "text": [
      "after pt 3351\n",
      "after Zmass 2067\n",
      "Photon eta cut:  1457\n",
      "Photon pt cut:  1457\n",
      "after not medium 511\n",
      "events:  511\n"
     ]
    },
    {
     "name": "stderr",
     "output_type": "stream",
     "text": [
      "fill photonPT for /eos/home-j/jiwoong/WZG_DB/2016/pre_post_separated_220209/FakePhoton/CR/merged/SingleMuon_Run2016C.root: 100%|██████████| 511/511 [00:00<00:00, 198728.73it/s]"
     ]
    },
    {
     "name": "stdout",
     "output_type": "stream",
     "text": [
      "is Data\n"
     ]
    },
    {
     "name": "stderr",
     "output_type": "stream",
     "text": [
      "\n"
     ]
    },
    {
     "name": "stdout",
     "output_type": "stream",
     "text": [
      "after pt 5115\n",
      "after Zmass 3143\n",
      "Photon eta cut:  2157\n",
      "Photon pt cut:  2157\n",
      "after not medium 828\n",
      "events:  828\n"
     ]
    },
    {
     "name": "stderr",
     "output_type": "stream",
     "text": [
      "fill photonPT for /eos/home-j/jiwoong/WZG_DB/2016/pre_post_separated_220209/FakePhoton/CR/merged/SingleMuon_Run2016D.root: 100%|██████████| 828/828 [00:00<00:00, 216540.95it/s]"
     ]
    },
    {
     "name": "stdout",
     "output_type": "stream",
     "text": [
      "is Data\n"
     ]
    },
    {
     "name": "stderr",
     "output_type": "stream",
     "text": [
      "\n"
     ]
    },
    {
     "name": "stdout",
     "output_type": "stream",
     "text": [
      "after pt 3744\n",
      "after Zmass 2295\n",
      "Photon eta cut:  1566\n",
      "Photon pt cut:  1566\n",
      "after not medium 586\n",
      "events:  586\n"
     ]
    },
    {
     "name": "stderr",
     "output_type": "stream",
     "text": [
      "fill photonPT for /eos/home-j/jiwoong/WZG_DB/2016/pre_post_separated_220209/FakePhoton/CR/merged/SingleMuon_Run2016E.root: 100%|██████████| 586/586 [00:00<00:00, 106770.73it/s]"
     ]
    },
    {
     "name": "stdout",
     "output_type": "stream",
     "text": [
      "is Data\n"
     ]
    },
    {
     "name": "stderr",
     "output_type": "stream",
     "text": [
      "\n"
     ]
    },
    {
     "name": "stdout",
     "output_type": "stream",
     "text": [
      "after pt 3086\n",
      "after Zmass 1906\n",
      "Photon eta cut:  1322\n",
      "Photon pt cut:  1322\n",
      "after not medium 462\n",
      "events:  462\n"
     ]
    },
    {
     "name": "stderr",
     "output_type": "stream",
     "text": [
      "fill photonPT for /eos/home-j/jiwoong/WZG_DB/2016/pre_post_separated_220209/FakePhoton/CR/merged/SingleMuon_Run2016F.root: 100%|██████████| 462/462 [00:00<00:00, 120238.80it/s]"
     ]
    },
    {
     "name": "stdout",
     "output_type": "stream",
     "text": [
      "is Data\n"
     ]
    },
    {
     "name": "stderr",
     "output_type": "stream",
     "text": [
      "\n"
     ]
    },
    {
     "name": "stdout",
     "output_type": "stream",
     "text": [
      "after pt 11963\n",
      "after Zmass 7408\n",
      "Photon eta cut:  5103\n",
      "Photon pt cut:  5103\n",
      "after not medium 1866\n",
      "events:  1866\n"
     ]
    },
    {
     "name": "stderr",
     "output_type": "stream",
     "text": [
      "fill photonPT for /eos/home-j/jiwoong/WZG_DB/2016/pre_post_separated_220209/FakePhoton/CR/merged/SingleMuon_Run2016G.root: 100%|██████████| 1866/1866 [00:00<00:00, 218857.73it/s]"
     ]
    },
    {
     "name": "stdout",
     "output_type": "stream",
     "text": [
      "is Data\n"
     ]
    },
    {
     "name": "stderr",
     "output_type": "stream",
     "text": [
      "\n"
     ]
    },
    {
     "name": "stdout",
     "output_type": "stream",
     "text": [
      "after pt 13276\n",
      "after Zmass 8310\n",
      "Photon eta cut:  5761\n",
      "Photon pt cut:  5761\n",
      "after not medium 2164\n",
      "events:  2164\n"
     ]
    },
    {
     "name": "stderr",
     "output_type": "stream",
     "text": [
      "fill photonPT for /eos/home-j/jiwoong/WZG_DB/2016/pre_post_separated_220209/FakePhoton/CR/merged/SingleMuon_Run2016H.root: 100%|██████████| 2164/2164 [00:00<00:00, 110055.22it/s]\n"
     ]
    },
    {
     "name": "stdout",
     "output_type": "stream",
     "text": [
      "after pt 28873\n",
      "after Zmass 5385\n",
      "Photon eta cut:  4330\n",
      "Photon pt cut:  4330\n",
      "after not medium 829\n",
      "events:  829\n"
     ]
    },
    {
     "name": "stderr",
     "output_type": "stream",
     "text": [
      "fill photonPT for /eos/home-j/jiwoong/WZG_DB/2016/pre_post_separated_220209/FakePhoton/CR/merged/TTGJets_TuneCP5_13TeV-amcatnloFXFX-madspin-pythia8_2016.root: 100%|██████████| 829/829 [00:00<00:00, 116473.32it/s]\n"
     ]
    },
    {
     "name": "stdout",
     "output_type": "stream",
     "text": [
      "after pt 169659\n",
      "after Zmass 104376\n",
      "Photon eta cut:  74202\n",
      "Photon pt cut:  74202\n",
      "after not medium 26672\n",
      "events:  26672\n"
     ]
    },
    {
     "name": "stderr",
     "output_type": "stream",
     "text": [
      "fill photonPT for /eos/home-j/jiwoong/WZG_DB/2016/pre_post_separated_220209/FakePhoton/CR/merged/TTZToLLNuNu_M-10_TuneCP5_13TeV-amcatnlo-pythia8_2016.root: 100%|██████████| 26672/26672 [00:00<00:00, 86690.99it/s]\n"
     ]
    },
    {
     "name": "stdout",
     "output_type": "stream",
     "text": [
      "after pt 44803\n",
      "after Zmass 8196\n",
      "Photon eta cut:  5766\n",
      "Photon pt cut:  5766\n",
      "after not medium 1948\n",
      "events:  1948\n"
     ]
    },
    {
     "name": "stderr",
     "output_type": "stream",
     "text": [
      "fill photonPT for /eos/home-j/jiwoong/WZG_DB/2016/pre_post_separated_220209/FakePhoton/CR/merged/TTWJetsToLNu_TuneCP5_13TeV-amcatnloFXFX-madspin-pythia8_2016.root: 100%|██████████| 1948/1948 [00:00<00:00, 122755.81it/s]\n"
     ]
    },
    {
     "name": "stdout",
     "output_type": "stream",
     "text": [
      "after pt 128359\n",
      "after Zmass 95048\n",
      "Photon eta cut:  61380\n",
      "Photon pt cut:  61380\n",
      "after not medium 22344\n",
      "events:  22344\n"
     ]
    },
    {
     "name": "stderr",
     "output_type": "stream",
     "text": [
      "fill photonPT for /eos/home-j/jiwoong/WZG_DB/2016/pre_post_separated_220209/FakePhoton/CR/merged/tZq_ll_4f_ckm_NLO_TuneCP5_13TeV-amcatnlo-pythia8_2016.root: 100%|██████████| 22344/22344 [00:00<00:00, 108171.76it/s]\n"
     ]
    },
    {
     "name": "stdout",
     "output_type": "stream",
     "text": [
      "after pt 33\n",
      "after Zmass 3\n",
      "Photon eta cut:  1\n",
      "Photon pt cut:  1\n",
      "after not medium 1\n",
      "events:  1\n"
     ]
    },
    {
     "name": "stderr",
     "output_type": "stream",
     "text": [
      "fill photonPT for /eos/home-j/jiwoong/WZG_DB/2016/pre_post_separated_220209/FakePhoton/CR/merged/WWW_4F_TuneCP5_13TeV-amcatnlo-pythia8_2016.root: 100%|██████████| 1/1 [00:00<00:00, 3597.17it/s]\n"
     ]
    },
    {
     "name": "stdout",
     "output_type": "stream",
     "text": [
      "after pt 3803908\n",
      "after Zmass 1352562\n",
      "Photon eta cut:  1042092\n",
      "Photon pt cut:  1042092\n",
      "after not medium 188434\n",
      "events:  188434\n"
     ]
    },
    {
     "name": "stderr",
     "output_type": "stream",
     "text": [
      "fill photonPT for /eos/home-j/jiwoong/WZG_DB/2016/pre_post_separated_220209/FakePhoton/CR/merged/ZGToLLG_01J_5f_TuneCP5_13TeV-amcatnloFXFX-pythia8_2016.root: 100%|██████████| 188434/188434 [00:01<00:00, 99561.98it/s] \n"
     ]
    },
    {
     "name": "stdout",
     "output_type": "stream",
     "text": [
      "after pt 5172\n",
      "after Zmass 4053\n",
      "Photon eta cut:  2714\n",
      "Photon pt cut:  2714\n",
      "after not medium 1037\n",
      "events:  1037\n"
     ]
    },
    {
     "name": "stderr",
     "output_type": "stream",
     "text": [
      "fill photonPT for /eos/home-j/jiwoong/WZG_DB/2016/pre_post_separated_220209/FakePhoton/CR/merged/ZZ_TuneCP5_13TeV-pythia8_2016.root: 100%|██████████| 1037/1037 [00:00<00:00, 118064.42it/s]\n"
     ]
    },
    {
     "name": "stdout",
     "output_type": "stream",
     "text": [
      "after pt 23772\n",
      "after Zmass 8019\n",
      "Photon eta cut:  6224\n",
      "Photon pt cut:  6224\n",
      "after not medium 1154\n",
      "events:  1154\n"
     ]
    },
    {
     "name": "stderr",
     "output_type": "stream",
     "text": [
      "fill photonPT for /eos/home-j/jiwoong/WZG_DB/2016/pre_post_separated_220209/FakePhoton/CR/merged/wza_2016.root: 100%|██████████| 1154/1154 [00:00<00:00, 71130.64it/s]\n"
     ]
    },
    {
     "name": "stdout",
     "output_type": "stream",
     "text": [
      "after pt 444\n",
      "after Zmass 264\n",
      "Photon eta cut:  186\n",
      "Photon pt cut:  186\n",
      "after not medium 60\n",
      "events:  60\n"
     ]
    },
    {
     "name": "stderr",
     "output_type": "stream",
     "text": [
      "fill photonPT for /eos/home-j/jiwoong/WZG_DB/2016/pre_post_separated_220209/FakePhoton/CR/merged/WWZ_4F_TuneCP5_13TeV-amcatnlo-pythia8_2016.root: 100%|██████████| 60/60 [00:00<00:00, 92283.92it/s]\n"
     ]
    },
    {
     "name": "stdout",
     "output_type": "stream",
     "text": [
      "after pt 287571\n",
      "after Zmass 193840\n",
      "Photon eta cut:  144223\n",
      "Photon pt cut:  144223\n",
      "after not medium 32029\n",
      "events:  32029\n"
     ]
    },
    {
     "name": "stderr",
     "output_type": "stream",
     "text": [
      "fill photonPT for /eos/home-j/jiwoong/WZG_DB/2016/pre_post_separated_220209/FakePhoton/CR/merged/GluGluToContinToZZTo2e2mu_TuneCP5_13TeV-mcfm701-pythia8_2016.root: 100%|██████████| 32029/32029 [00:00<00:00, 79678.11it/s]\n"
     ]
    },
    {
     "name": "stdout",
     "output_type": "stream",
     "text": [
      "after pt 36300\n",
      "after Zmass 27480\n",
      "Photon eta cut:  22540\n",
      "Photon pt cut:  22540\n",
      "after not medium 11999\n",
      "events:  11999\n"
     ]
    },
    {
     "name": "stderr",
     "output_type": "stream",
     "text": [
      "fill photonPT for /eos/home-j/jiwoong/WZG_DB/2016/pre_post_separated_220209/FakePhoton/CR/merged/GluGluToContinToZZTo2e2tau_TuneCP5_13TeV-mcfm701-pythia8_2016.root: 100%|██████████| 11999/11999 [00:00<00:00, 84796.02it/s]\n"
     ]
    },
    {
     "name": "stdout",
     "output_type": "stream",
     "text": [
      "after pt 45990\n",
      "after Zmass 38428\n",
      "Photon eta cut:  31621\n",
      "Photon pt cut:  31621\n",
      "after not medium 17099\n",
      "events:  17099\n"
     ]
    },
    {
     "name": "stderr",
     "output_type": "stream",
     "text": [
      "fill photonPT for /eos/home-j/jiwoong/WZG_DB/2016/pre_post_separated_220209/FakePhoton/CR/merged/GluGluToContinToZZTo2mu2tau_TuneCP5_13TeV-mcfm701-pythia8_2016.root: 100%|██████████| 17099/17099 [00:00<00:00, 123852.08it/s]\n"
     ]
    },
    {
     "name": "stdout",
     "output_type": "stream",
     "text": [
      "after pt 448693\n",
      "after Zmass 276633\n",
      "Photon eta cut:  203474\n",
      "Photon pt cut:  203474\n",
      "after not medium 47395\n",
      "events:  47395\n"
     ]
    },
    {
     "name": "stderr",
     "output_type": "stream",
     "text": [
      "fill photonPT for /eos/home-j/jiwoong/WZG_DB/2016/pre_post_separated_220209/FakePhoton/CR/merged/GluGluToContinToZZTo4e_TuneCP5_13TeV-mcfm701-pythia8_2016.root: 100%|██████████| 47395/47395 [00:00<00:00, 124045.99it/s]\n"
     ]
    },
    {
     "name": "stdout",
     "output_type": "stream",
     "text": [
      "after pt 721710\n",
      "after Zmass 488613\n",
      "Photon eta cut:  394917\n",
      "Photon pt cut:  394917\n",
      "after not medium 78471\n",
      "events:  78471\n"
     ]
    },
    {
     "name": "stderr",
     "output_type": "stream",
     "text": [
      "fill photonPT for /eos/home-j/jiwoong/WZG_DB/2016/pre_post_separated_220209/FakePhoton/CR/merged/GluGluToContinToZZTo4mu_TuneCP5_13TeV-mcfm701-pythia8_2016.root: 100%|██████████| 78471/78471 [00:00<00:00, 98380.16it/s] \n"
     ]
    },
    {
     "name": "stdout",
     "output_type": "stream",
     "text": [
      "after pt 2581\n",
      "after Zmass 384\n",
      "Photon eta cut:  315\n",
      "Photon pt cut:  315\n",
      "after not medium 165\n",
      "events:  165\n"
     ]
    },
    {
     "name": "stderr",
     "output_type": "stream",
     "text": [
      "fill photonPT for /eos/home-j/jiwoong/WZG_DB/2016/pre_post_separated_220209/FakePhoton/CR/merged/GluGluToContinToZZTo4tau_TuneCP5_13TeV-mcfm701-pythia8_2016.root: 100%|██████████| 165/165 [00:00<00:00, 87858.34it/s]"
     ]
    },
    {
     "name": "stdout",
     "output_type": "stream",
     "text": [
      "is Data\n"
     ]
    },
    {
     "name": "stderr",
     "output_type": "stream",
     "text": [
      "\n"
     ]
    },
    {
     "name": "stdout",
     "output_type": "stream",
     "text": [
      "DoubleEG trigger\n",
      "after trigger 2150\n",
      "after pt 429\n",
      "after Zmass 147\n",
      "after Photon ID 45\n",
      "after photon pt eta 31\n",
      "events:  31\n"
     ]
    },
    {
     "name": "stderr",
     "output_type": "stream",
     "text": [
      "fill photonPT for /eos/home-j/jiwoong/WZG_DB/2016/pre_post_separated_220209/FakePhoton/CR/merged/DoubleEG_Run2016B.root: 100%|██████████| 31/31 [00:00<00:00, 70397.09it/s]"
     ]
    },
    {
     "name": "stdout",
     "output_type": "stream",
     "text": [
      "is Data\n"
     ]
    },
    {
     "name": "stderr",
     "output_type": "stream",
     "text": [
      "\n"
     ]
    },
    {
     "name": "stdout",
     "output_type": "stream",
     "text": [
      "DoubleEG trigger\n",
      "after trigger 978\n",
      "after pt 173\n",
      "after Zmass 64\n",
      "after Photon ID 17\n",
      "after photon pt eta 11\n",
      "events:  11\n"
     ]
    },
    {
     "name": "stderr",
     "output_type": "stream",
     "text": [
      "fill photonPT for /eos/home-j/jiwoong/WZG_DB/2016/pre_post_separated_220209/FakePhoton/CR/merged/DoubleEG_Run2016C.root: 100%|██████████| 11/11 [00:00<00:00, 55856.35it/s]"
     ]
    },
    {
     "name": "stdout",
     "output_type": "stream",
     "text": [
      "is Data\n"
     ]
    },
    {
     "name": "stderr",
     "output_type": "stream",
     "text": [
      "\n"
     ]
    },
    {
     "name": "stdout",
     "output_type": "stream",
     "text": [
      "DoubleEG trigger\n",
      "after trigger 1533\n",
      "after pt 332\n",
      "after Zmass 121\n",
      "after Photon ID 32\n",
      "after photon pt eta 27\n",
      "events:  27\n"
     ]
    },
    {
     "name": "stderr",
     "output_type": "stream",
     "text": [
      "fill photonPT for /eos/home-j/jiwoong/WZG_DB/2016/pre_post_separated_220209/FakePhoton/CR/merged/DoubleEG_Run2016D.root: 100%|██████████| 27/27 [00:00<00:00, 106534.53it/s]"
     ]
    },
    {
     "name": "stdout",
     "output_type": "stream",
     "text": [
      "is Data\n"
     ]
    },
    {
     "name": "stderr",
     "output_type": "stream",
     "text": [
      "\n"
     ]
    },
    {
     "name": "stdout",
     "output_type": "stream",
     "text": [
      "DoubleEG trigger\n",
      "after trigger 1394\n",
      "after pt 326\n",
      "after Zmass 127\n",
      "after Photon ID 27\n",
      "after photon pt eta 19\n",
      "events:  19\n"
     ]
    },
    {
     "name": "stderr",
     "output_type": "stream",
     "text": [
      "fill photonPT for /eos/home-j/jiwoong/WZG_DB/2016/pre_post_separated_220209/FakePhoton/CR/merged/DoubleEG_Run2016E.root: 100%|██████████| 19/19 [00:00<00:00, 84240.78it/s]"
     ]
    },
    {
     "name": "stdout",
     "output_type": "stream",
     "text": [
      "is Data\n"
     ]
    },
    {
     "name": "stderr",
     "output_type": "stream",
     "text": [
      "\n"
     ]
    },
    {
     "name": "stdout",
     "output_type": "stream",
     "text": [
      "DoubleEG trigger\n",
      "after trigger 1194\n",
      "after pt 161\n",
      "after Zmass 64\n",
      "after Photon ID 19\n",
      "after photon pt eta 17\n",
      "events:  17\n"
     ]
    },
    {
     "name": "stderr",
     "output_type": "stream",
     "text": [
      "fill photonPT for /eos/home-j/jiwoong/WZG_DB/2016/pre_post_separated_220209/FakePhoton/CR/merged/DoubleEG_Run2016F.root: 100%|██████████| 17/17 [00:00<00:00, 79137.81it/s]"
     ]
    },
    {
     "name": "stdout",
     "output_type": "stream",
     "text": [
      "is Data\n"
     ]
    },
    {
     "name": "stderr",
     "output_type": "stream",
     "text": [
      "\n"
     ]
    },
    {
     "name": "stdout",
     "output_type": "stream",
     "text": [
      "DoubleEG trigger\n",
      "after trigger 3355\n",
      "after pt 858\n",
      "after Zmass 334\n",
      "after Photon ID 93\n",
      "after photon pt eta 73\n",
      "events:  73\n"
     ]
    },
    {
     "name": "stderr",
     "output_type": "stream",
     "text": [
      "fill photonPT for /eos/home-j/jiwoong/WZG_DB/2016/pre_post_separated_220209/FakePhoton/CR/merged/DoubleEG_Run2016G.root: 100%|██████████| 73/73 [00:00<00:00, 130346.61it/s]"
     ]
    },
    {
     "name": "stdout",
     "output_type": "stream",
     "text": [
      "is Data\n"
     ]
    },
    {
     "name": "stderr",
     "output_type": "stream",
     "text": [
      "\n"
     ]
    },
    {
     "name": "stdout",
     "output_type": "stream",
     "text": [
      "DoubleEG trigger\n",
      "after trigger 3626\n",
      "after pt 869\n",
      "after Zmass 356\n",
      "after Photon ID 85\n",
      "after photon pt eta 63\n",
      "events:  63\n"
     ]
    },
    {
     "name": "stderr",
     "output_type": "stream",
     "text": [
      "fill photonPT for /eos/home-j/jiwoong/WZG_DB/2016/pre_post_separated_220209/FakePhoton/CR/merged/DoubleEG_Run2016H.root: 100%|██████████| 63/63 [00:00<00:00, 153807.42it/s]"
     ]
    },
    {
     "name": "stdout",
     "output_type": "stream",
     "text": [
      "is Data\n"
     ]
    },
    {
     "name": "stderr",
     "output_type": "stream",
     "text": [
      "\n"
     ]
    },
    {
     "name": "stdout",
     "output_type": "stream",
     "text": [
      "DoubleMuon trigger\n",
      "after trigger 1617\n",
      "after pt 336\n",
      "after Zmass 71\n",
      "after Photon ID 21\n",
      "after photon pt eta 13\n",
      "events:  13\n"
     ]
    },
    {
     "name": "stderr",
     "output_type": "stream",
     "text": [
      "fill photonPT for /eos/home-j/jiwoong/WZG_DB/2016/pre_post_separated_220209/FakePhoton/CR/merged/DoubleMuon_Run2016B.root: 100%|██████████| 13/13 [00:00<00:00, 71182.70it/s]"
     ]
    },
    {
     "name": "stdout",
     "output_type": "stream",
     "text": [
      "is Data\n"
     ]
    },
    {
     "name": "stderr",
     "output_type": "stream",
     "text": [
      "\n"
     ]
    },
    {
     "name": "stdout",
     "output_type": "stream",
     "text": [
      "DoubleMuon trigger\n",
      "after trigger 708\n",
      "after pt 293\n",
      "after Zmass 58\n",
      "after Photon ID 21\n",
      "after photon pt eta 17\n",
      "events:  17\n"
     ]
    },
    {
     "name": "stderr",
     "output_type": "stream",
     "text": [
      "fill photonPT for /eos/home-j/jiwoong/WZG_DB/2016/pre_post_separated_220209/FakePhoton/CR/merged/DoubleMuon_Run2016C.root: 100%|██████████| 17/17 [00:00<00:00, 54305.54it/s]"
     ]
    },
    {
     "name": "stdout",
     "output_type": "stream",
     "text": [
      "is Data\n"
     ]
    },
    {
     "name": "stderr",
     "output_type": "stream",
     "text": [
      "\n"
     ]
    },
    {
     "name": "stdout",
     "output_type": "stream",
     "text": [
      "DoubleMuon trigger\n",
      "after trigger 1145\n",
      "after pt 383\n",
      "after Zmass 72\n",
      "after Photon ID 19\n",
      "after photon pt eta 15\n",
      "events:  15\n"
     ]
    },
    {
     "name": "stderr",
     "output_type": "stream",
     "text": [
      "fill photonPT for /eos/home-j/jiwoong/WZG_DB/2016/pre_post_separated_220209/FakePhoton/CR/merged/DoubleMuon_Run2016D.root: 100%|██████████| 15/15 [00:00<00:00, 79638.68it/s]"
     ]
    },
    {
     "name": "stdout",
     "output_type": "stream",
     "text": [
      "is Data\n"
     ]
    },
    {
     "name": "stderr",
     "output_type": "stream",
     "text": [
      "\n"
     ]
    },
    {
     "name": "stdout",
     "output_type": "stream",
     "text": [
      "DoubleMuon trigger\n",
      "after trigger 1120\n",
      "after pt 445\n",
      "after Zmass 85\n",
      "after Photon ID 26\n",
      "after photon pt eta 14\n",
      "events:  14\n"
     ]
    },
    {
     "name": "stderr",
     "output_type": "stream",
     "text": [
      "fill photonPT for /eos/home-j/jiwoong/WZG_DB/2016/pre_post_separated_220209/FakePhoton/CR/merged/DoubleMuon_Run2016E.root: 100%|██████████| 14/14 [00:00<00:00, 43658.18it/s]"
     ]
    },
    {
     "name": "stdout",
     "output_type": "stream",
     "text": [
      "is Data\n"
     ]
    },
    {
     "name": "stderr",
     "output_type": "stream",
     "text": [
      "\n"
     ]
    },
    {
     "name": "stdout",
     "output_type": "stream",
     "text": [
      "DoubleMuon trigger\n",
      "after trigger 912\n",
      "after pt 373\n",
      "after Zmass 68\n",
      "after Photon ID 14\n",
      "after photon pt eta 12\n",
      "events:  12\n"
     ]
    },
    {
     "name": "stderr",
     "output_type": "stream",
     "text": [
      "fill photonPT for /eos/home-j/jiwoong/WZG_DB/2016/pre_post_separated_220209/FakePhoton/CR/merged/DoubleMuon_Run2016F.root: 100%|██████████| 12/12 [00:00<00:00, 42473.96it/s]"
     ]
    },
    {
     "name": "stdout",
     "output_type": "stream",
     "text": [
      "is Data\n"
     ]
    },
    {
     "name": "stderr",
     "output_type": "stream",
     "text": [
      "\n"
     ]
    },
    {
     "name": "stdout",
     "output_type": "stream",
     "text": [
      "DoubleMuon trigger\n",
      "after trigger 2478\n",
      "after pt 1231\n",
      "after Zmass 258\n",
      "after Photon ID 63\n",
      "after photon pt eta 44\n",
      "events:  44\n"
     ]
    },
    {
     "name": "stderr",
     "output_type": "stream",
     "text": [
      "fill photonPT for /eos/home-j/jiwoong/WZG_DB/2016/pre_post_separated_220209/FakePhoton/CR/merged/DoubleMuon_Run2016G.root: 100%|██████████| 44/44 [00:00<00:00, 130793.32it/s]"
     ]
    },
    {
     "name": "stdout",
     "output_type": "stream",
     "text": [
      "is Data\n"
     ]
    },
    {
     "name": "stderr",
     "output_type": "stream",
     "text": [
      "\n"
     ]
    },
    {
     "name": "stdout",
     "output_type": "stream",
     "text": [
      "DoubleMuon trigger\n",
      "after trigger 2712\n",
      "after pt 1232\n",
      "after Zmass 255\n",
      "after Photon ID 62\n",
      "after photon pt eta 44\n",
      "events:  44\n"
     ]
    },
    {
     "name": "stderr",
     "output_type": "stream",
     "text": [
      "fill photonPT for /eos/home-j/jiwoong/WZG_DB/2016/pre_post_separated_220209/FakePhoton/CR/merged/DoubleMuon_Run2016H.root: 100%|██████████| 44/44 [00:00<00:00, 63245.16it/s]"
     ]
    },
    {
     "name": "stdout",
     "output_type": "stream",
     "text": [
      "is Data\n"
     ]
    },
    {
     "name": "stderr",
     "output_type": "stream",
     "text": [
      "\n"
     ]
    },
    {
     "name": "stdout",
     "output_type": "stream",
     "text": [
      "MuonEG Trigger\n",
      "after trigger 181\n",
      "after pt 93\n",
      "after Zmass 17\n",
      "after Photon ID 4\n",
      "after photon pt eta 1\n",
      "events:  1\n"
     ]
    },
    {
     "name": "stderr",
     "output_type": "stream",
     "text": [
      "fill photonPT for /eos/home-j/jiwoong/WZG_DB/2016/pre_post_separated_220209/FakePhoton/CR/merged/MuonEG_Run2016B.root: 100%|██████████| 1/1 [00:00<00:00, 8035.07it/s]"
     ]
    },
    {
     "name": "stdout",
     "output_type": "stream",
     "text": [
      "is Data\n"
     ]
    },
    {
     "name": "stderr",
     "output_type": "stream",
     "text": [
      "\n"
     ]
    },
    {
     "name": "stdout",
     "output_type": "stream",
     "text": [
      "MuonEG Trigger\n",
      "after trigger 76\n",
      "after pt 34\n",
      "after Zmass 9\n",
      "after Photon ID 1\n",
      "after photon pt eta 1\n",
      "events:  1\n"
     ]
    },
    {
     "name": "stderr",
     "output_type": "stream",
     "text": [
      "fill photonPT for /eos/home-j/jiwoong/WZG_DB/2016/pre_post_separated_220209/FakePhoton/CR/merged/MuonEG_Run2016C.root: 100%|██████████| 1/1 [00:00<00:00, 3975.64it/s]"
     ]
    },
    {
     "name": "stdout",
     "output_type": "stream",
     "text": [
      "is Data\n"
     ]
    },
    {
     "name": "stderr",
     "output_type": "stream",
     "text": [
      "\n"
     ]
    },
    {
     "name": "stdout",
     "output_type": "stream",
     "text": [
      "MuonEG Trigger\n",
      "after trigger 126\n",
      "after pt 64\n",
      "after Zmass 6\n",
      "after Photon ID 3\n",
      "after photon pt eta 2\n",
      "events:  2\n"
     ]
    },
    {
     "name": "stderr",
     "output_type": "stream",
     "text": [
      "fill photonPT for /eos/home-j/jiwoong/WZG_DB/2016/pre_post_separated_220209/FakePhoton/CR/merged/MuonEG_Run2016D.root: 100%|██████████| 2/2 [00:00<00:00, 8136.38it/s]"
     ]
    },
    {
     "name": "stdout",
     "output_type": "stream",
     "text": [
      "is Data\n"
     ]
    },
    {
     "name": "stderr",
     "output_type": "stream",
     "text": [
      "\n"
     ]
    },
    {
     "name": "stdout",
     "output_type": "stream",
     "text": [
      "MuonEG Trigger\n",
      "after trigger 133\n",
      "after pt 61\n",
      "after Zmass 8\n",
      "after Photon ID 3\n",
      "after photon pt eta 2\n",
      "events:  2\n"
     ]
    },
    {
     "name": "stderr",
     "output_type": "stream",
     "text": [
      "fill photonPT for /eos/home-j/jiwoong/WZG_DB/2016/pre_post_separated_220209/FakePhoton/CR/merged/MuonEG_Run2016E.root: 100%|██████████| 2/2 [00:00<00:00, 11983.73it/s]"
     ]
    },
    {
     "name": "stdout",
     "output_type": "stream",
     "text": [
      "is Data\n"
     ]
    },
    {
     "name": "stderr",
     "output_type": "stream",
     "text": [
      "\n"
     ]
    },
    {
     "name": "stdout",
     "output_type": "stream",
     "text": [
      "MuonEG Trigger\n",
      "after trigger 114\n",
      "after pt 40\n",
      "after Zmass 7\n",
      "after Photon ID 3\n",
      "after photon pt eta 1\n",
      "events:  1\n"
     ]
    },
    {
     "name": "stderr",
     "output_type": "stream",
     "text": [
      "fill photonPT for /eos/home-j/jiwoong/WZG_DB/2016/pre_post_separated_220209/FakePhoton/CR/merged/MuonEG_Run2016F.root: 100%|██████████| 1/1 [00:00<00:00, 4092.00it/s]"
     ]
    },
    {
     "name": "stdout",
     "output_type": "stream",
     "text": [
      "is Data\n"
     ]
    },
    {
     "name": "stderr",
     "output_type": "stream",
     "text": [
      "\n"
     ]
    },
    {
     "name": "stdout",
     "output_type": "stream",
     "text": [
      "MuonEG Trigger\n",
      "after trigger 280\n",
      "after pt 160\n",
      "after Zmass 23\n",
      "after Photon ID 7\n",
      "after photon pt eta 5\n",
      "events:  5\n"
     ]
    },
    {
     "name": "stderr",
     "output_type": "stream",
     "text": [
      "fill photonPT for /eos/home-j/jiwoong/WZG_DB/2016/pre_post_separated_220209/FakePhoton/CR/merged/MuonEG_Run2016G.root: 100%|██████████| 5/5 [00:00<00:00, 30705.01it/s]"
     ]
    },
    {
     "name": "stdout",
     "output_type": "stream",
     "text": [
      "is Data\n"
     ]
    },
    {
     "name": "stderr",
     "output_type": "stream",
     "text": [
      "\n"
     ]
    },
    {
     "name": "stdout",
     "output_type": "stream",
     "text": [
      "MuonEG Trigger\n",
      "after trigger 276\n",
      "after pt 109\n",
      "after Zmass 19\n",
      "after Photon ID 7\n",
      "after photon pt eta 6\n",
      "events:  6\n"
     ]
    },
    {
     "name": "stderr",
     "output_type": "stream",
     "text": [
      "fill photonPT for /eos/home-j/jiwoong/WZG_DB/2016/pre_post_separated_220209/FakePhoton/CR/merged/MuonEG_Run2016H.root: 100%|██████████| 6/6 [00:00<00:00, 23541.46it/s]"
     ]
    },
    {
     "name": "stdout",
     "output_type": "stream",
     "text": [
      "is Data\n"
     ]
    },
    {
     "name": "stderr",
     "output_type": "stream",
     "text": [
      "\n"
     ]
    },
    {
     "name": "stdout",
     "output_type": "stream",
     "text": [
      "SingleElectron trigger\n",
      "after trigger 17501\n",
      "after pt 2306\n",
      "after Zmass 1590\n",
      "after Photon ID 425\n",
      "after photon pt eta 311\n",
      "events:  311\n"
     ]
    },
    {
     "name": "stderr",
     "output_type": "stream",
     "text": [
      "fill photonPT for /eos/home-j/jiwoong/WZG_DB/2016/pre_post_separated_220209/FakePhoton/CR/merged/SingleElectron_Run2016B.root: 100%|██████████| 311/311 [00:00<00:00, 156293.86it/s]"
     ]
    },
    {
     "name": "stdout",
     "output_type": "stream",
     "text": [
      "is Data\n"
     ]
    },
    {
     "name": "stderr",
     "output_type": "stream",
     "text": [
      "\n"
     ]
    },
    {
     "name": "stdout",
     "output_type": "stream",
     "text": [
      "SingleElectron trigger\n",
      "after trigger 7197\n",
      "after pt 708\n",
      "after Zmass 511\n",
      "after Photon ID 126\n",
      "after photon pt eta 89\n",
      "events:  89\n"
     ]
    },
    {
     "name": "stderr",
     "output_type": "stream",
     "text": [
      "fill photonPT for /eos/home-j/jiwoong/WZG_DB/2016/pre_post_separated_220209/FakePhoton/CR/merged/SingleElectron_Run2016C.root: 100%|██████████| 89/89 [00:00<00:00, 166500.02it/s]"
     ]
    },
    {
     "name": "stdout",
     "output_type": "stream",
     "text": [
      "is Data\n"
     ]
    },
    {
     "name": "stderr",
     "output_type": "stream",
     "text": [
      "\n"
     ]
    },
    {
     "name": "stdout",
     "output_type": "stream",
     "text": [
      "SingleElectron trigger\n",
      "after trigger 12090\n",
      "after pt 2041\n",
      "after Zmass 1348\n",
      "after Photon ID 330\n",
      "after photon pt eta 233\n",
      "events:  233\n"
     ]
    },
    {
     "name": "stderr",
     "output_type": "stream",
     "text": [
      "fill photonPT for /eos/home-j/jiwoong/WZG_DB/2016/pre_post_separated_220209/FakePhoton/CR/merged/SingleElectron_Run2016D.root: 100%|██████████| 233/233 [00:00<00:00, 195415.48it/s]"
     ]
    },
    {
     "name": "stdout",
     "output_type": "stream",
     "text": [
      "is Data\n"
     ]
    },
    {
     "name": "stderr",
     "output_type": "stream",
     "text": [
      "\n"
     ]
    },
    {
     "name": "stdout",
     "output_type": "stream",
     "text": [
      "SingleElectron trigger\n",
      "after trigger 10390\n",
      "after pt 1601\n",
      "after Zmass 1100\n",
      "after Photon ID 250\n",
      "after photon pt eta 183\n",
      "events:  183\n"
     ]
    },
    {
     "name": "stderr",
     "output_type": "stream",
     "text": [
      "fill photonPT for /eos/home-j/jiwoong/WZG_DB/2016/pre_post_separated_220209/FakePhoton/CR/merged/SingleElectron_Run2016E.root: 100%|██████████| 183/183 [00:00<00:00, 187117.90it/s]"
     ]
    },
    {
     "name": "stdout",
     "output_type": "stream",
     "text": [
      "is Data\n"
     ]
    },
    {
     "name": "stderr",
     "output_type": "stream",
     "text": [
      "\n"
     ]
    },
    {
     "name": "stdout",
     "output_type": "stream",
     "text": [
      "SingleElectron trigger\n",
      "after trigger 8234\n",
      "after pt 1464\n",
      "after Zmass 1001\n",
      "after Photon ID 270\n",
      "after photon pt eta 217\n",
      "events:  217\n"
     ]
    },
    {
     "name": "stderr",
     "output_type": "stream",
     "text": [
      "fill photonPT for /eos/home-j/jiwoong/WZG_DB/2016/pre_post_separated_220209/FakePhoton/CR/merged/SingleElectron_Run2016F.root: 100%|██████████| 217/217 [00:00<00:00, 181415.98it/s]"
     ]
    },
    {
     "name": "stdout",
     "output_type": "stream",
     "text": [
      "is Data\n"
     ]
    },
    {
     "name": "stderr",
     "output_type": "stream",
     "text": [
      "\n"
     ]
    },
    {
     "name": "stdout",
     "output_type": "stream",
     "text": [
      "SingleElectron trigger\n",
      "after trigger 23451\n",
      "after pt 5136\n",
      "after Zmass 3559\n",
      "after Photon ID 801\n",
      "after photon pt eta 604\n",
      "events:  604\n"
     ]
    },
    {
     "name": "stderr",
     "output_type": "stream",
     "text": [
      "fill photonPT for /eos/home-j/jiwoong/WZG_DB/2016/pre_post_separated_220209/FakePhoton/CR/merged/SingleElectron_Run2016G.root: 100%|██████████| 604/604 [00:00<00:00, 196323.59it/s]"
     ]
    },
    {
     "name": "stdout",
     "output_type": "stream",
     "text": [
      "is Data\n"
     ]
    },
    {
     "name": "stderr",
     "output_type": "stream",
     "text": [
      "\n"
     ]
    },
    {
     "name": "stdout",
     "output_type": "stream",
     "text": [
      "SingleElectron trigger\n",
      "after trigger 26053\n",
      "after pt 5900\n",
      "after Zmass 4153\n",
      "after Photon ID 901\n",
      "after photon pt eta 671\n",
      "events:  671\n"
     ]
    },
    {
     "name": "stderr",
     "output_type": "stream",
     "text": [
      "fill photonPT for /eos/home-j/jiwoong/WZG_DB/2016/pre_post_separated_220209/FakePhoton/CR/merged/SingleElectron_Run2016H.root: 100%|██████████| 671/671 [00:00<00:00, 211543.75it/s]"
     ]
    },
    {
     "name": "stdout",
     "output_type": "stream",
     "text": [
      "is Data\n"
     ]
    },
    {
     "name": "stderr",
     "output_type": "stream",
     "text": [
      "\n"
     ]
    },
    {
     "name": "stdout",
     "output_type": "stream",
     "text": [
      "SingleMuon trigger\n",
      "after trigger 26828\n",
      "after pt 5080\n",
      "after Zmass 3169\n",
      "after Photon ID 844\n",
      "after photon pt eta 623\n",
      "events:  623\n"
     ]
    },
    {
     "name": "stderr",
     "output_type": "stream",
     "text": [
      "fill photonPT for /eos/home-j/jiwoong/WZG_DB/2016/pre_post_separated_220209/FakePhoton/CR/merged/SingleMuon_Run2016B.root: 100%|██████████| 623/623 [00:00<00:00, 219068.69it/s]"
     ]
    },
    {
     "name": "stdout",
     "output_type": "stream",
     "text": [
      "is Data\n"
     ]
    },
    {
     "name": "stderr",
     "output_type": "stream",
     "text": [
      "\n"
     ]
    },
    {
     "name": "stdout",
     "output_type": "stream",
     "text": [
      "SingleMuon trigger\n",
      "after trigger 12592\n",
      "after pt 3351\n",
      "after Zmass 2067\n",
      "after Photon ID 536\n",
      "after photon pt eta 412\n",
      "events:  412\n"
     ]
    },
    {
     "name": "stderr",
     "output_type": "stream",
     "text": [
      "fill photonPT for /eos/home-j/jiwoong/WZG_DB/2016/pre_post_separated_220209/FakePhoton/CR/merged/SingleMuon_Run2016C.root: 100%|██████████| 412/412 [00:00<00:00, 125030.99it/s]"
     ]
    },
    {
     "name": "stdout",
     "output_type": "stream",
     "text": [
      "is Data\n"
     ]
    },
    {
     "name": "stderr",
     "output_type": "stream",
     "text": [
      "\n"
     ]
    },
    {
     "name": "stdout",
     "output_type": "stream",
     "text": [
      "SingleMuon trigger\n",
      "after trigger 20697\n",
      "after pt 5115\n",
      "after Zmass 3143\n",
      "after Photon ID 805\n",
      "after photon pt eta 602\n",
      "events:  602\n"
     ]
    },
    {
     "name": "stderr",
     "output_type": "stream",
     "text": [
      "fill photonPT for /eos/home-j/jiwoong/WZG_DB/2016/pre_post_separated_220209/FakePhoton/CR/merged/SingleMuon_Run2016D.root: 100%|██████████| 602/602 [00:00<00:00, 220656.38it/s]"
     ]
    },
    {
     "name": "stdout",
     "output_type": "stream",
     "text": [
      "is Data\n"
     ]
    },
    {
     "name": "stderr",
     "output_type": "stream",
     "text": [
      "\n"
     ]
    },
    {
     "name": "stdout",
     "output_type": "stream",
     "text": [
      "SingleMuon trigger\n",
      "after trigger 18656\n",
      "after pt 3744\n",
      "after Zmass 2295\n",
      "after Photon ID 573\n",
      "after photon pt eta 434\n",
      "events:  434\n"
     ]
    },
    {
     "name": "stderr",
     "output_type": "stream",
     "text": [
      "fill photonPT for /eos/home-j/jiwoong/WZG_DB/2016/pre_post_separated_220209/FakePhoton/CR/merged/SingleMuon_Run2016E.root: 100%|██████████| 434/434 [00:00<00:00, 201030.14it/s]"
     ]
    },
    {
     "name": "stdout",
     "output_type": "stream",
     "text": [
      "is Data\n"
     ]
    },
    {
     "name": "stderr",
     "output_type": "stream",
     "text": [
      "\n"
     ]
    },
    {
     "name": "stdout",
     "output_type": "stream",
     "text": [
      "SingleMuon trigger\n",
      "after trigger 14784\n",
      "after pt 3086\n",
      "after Zmass 1906\n",
      "after Photon ID 506\n",
      "after photon pt eta 375\n",
      "events:  375\n"
     ]
    },
    {
     "name": "stderr",
     "output_type": "stream",
     "text": [
      "fill photonPT for /eos/home-j/jiwoong/WZG_DB/2016/pre_post_separated_220209/FakePhoton/CR/merged/SingleMuon_Run2016F.root: 100%|██████████| 375/375 [00:00<00:00, 192847.47it/s]"
     ]
    },
    {
     "name": "stdout",
     "output_type": "stream",
     "text": [
      "is Data\n"
     ]
    },
    {
     "name": "stderr",
     "output_type": "stream",
     "text": [
      "\n"
     ]
    },
    {
     "name": "stdout",
     "output_type": "stream",
     "text": [
      "SingleMuon trigger\n",
      "after trigger 40818\n",
      "after pt 11963\n",
      "after Zmass 7408\n",
      "after Photon ID 1705\n",
      "after photon pt eta 1285\n",
      "events:  1285\n"
     ]
    },
    {
     "name": "stderr",
     "output_type": "stream",
     "text": [
      "fill photonPT for /eos/home-j/jiwoong/WZG_DB/2016/pre_post_separated_220209/FakePhoton/CR/merged/SingleMuon_Run2016G.root: 100%|██████████| 1285/1285 [00:00<00:00, 221606.05it/s]"
     ]
    },
    {
     "name": "stdout",
     "output_type": "stream",
     "text": [
      "is Data\n"
     ]
    },
    {
     "name": "stderr",
     "output_type": "stream",
     "text": [
      "\n"
     ]
    },
    {
     "name": "stdout",
     "output_type": "stream",
     "text": [
      "SingleMuon trigger\n",
      "after trigger 47810\n",
      "after pt 13276\n",
      "after Zmass 8310\n",
      "after Photon ID 1924\n",
      "after photon pt eta 1428\n",
      "events:  1428\n"
     ]
    },
    {
     "name": "stderr",
     "output_type": "stream",
     "text": [
      "fill photonPT for /eos/home-j/jiwoong/WZG_DB/2016/pre_post_separated_220209/FakePhoton/CR/merged/SingleMuon_Run2016H.root: 100%|██████████| 1428/1428 [00:00<00:00, 213695.81it/s]"
     ]
    },
    {
     "name": "stdout",
     "output_type": "stream",
     "text": [
      "is MC\n"
     ]
    },
    {
     "name": "stderr",
     "output_type": "stream",
     "text": [
      "\n"
     ]
    },
    {
     "name": "stdout",
     "output_type": "stream",
     "text": [
      "isMC\n",
      "after trigger 32620\n",
      "after pt 28873\n",
      "after Zmass 5385\n",
      "after Photon ID 4069\n",
      "after photon pt eta 3357\n",
      "events:  3357\n"
     ]
    },
    {
     "name": "stderr",
     "output_type": "stream",
     "text": [
      "fill photonPT for /eos/home-j/jiwoong/WZG_DB/2016/pre_post_separated_220209/FakePhoton/CR/merged/TTGJets_TuneCP5_13TeV-amcatnloFXFX-madspin-pythia8_2016.root: 100%|██████████| 3357/3357 [00:00<00:00, 122312.76it/s]"
     ]
    },
    {
     "name": "stdout",
     "output_type": "stream",
     "text": [
      "is MC\n"
     ]
    },
    {
     "name": "stderr",
     "output_type": "stream",
     "text": [
      "\n"
     ]
    },
    {
     "name": "stdout",
     "output_type": "stream",
     "text": [
      "isMC\n",
      "after trigger 170133\n",
      "after pt 169659\n",
      "after Zmass 104376\n",
      "after Photon ID 22131\n",
      "after photon pt eta 17120\n",
      "events:  17120\n"
     ]
    },
    {
     "name": "stderr",
     "output_type": "stream",
     "text": [
      "fill photonPT for /eos/home-j/jiwoong/WZG_DB/2016/pre_post_separated_220209/FakePhoton/CR/merged/TTZToLLNuNu_M-10_TuneCP5_13TeV-amcatnlo-pythia8_2016.root: 100%|██████████| 17120/17120 [00:00<00:00, 94489.92it/s]"
     ]
    },
    {
     "name": "stdout",
     "output_type": "stream",
     "text": [
      "is MC\n"
     ]
    },
    {
     "name": "stderr",
     "output_type": "stream",
     "text": [
      "\n"
     ]
    },
    {
     "name": "stdout",
     "output_type": "stream",
     "text": [
      "isMC\n",
      "after trigger 45760\n",
      "after pt 44803\n",
      "after Zmass 8196\n",
      "after Photon ID 2125\n",
      "after photon pt eta 1639\n",
      "events:  1639\n"
     ]
    },
    {
     "name": "stderr",
     "output_type": "stream",
     "text": [
      "fill photonPT for /eos/home-j/jiwoong/WZG_DB/2016/pre_post_separated_220209/FakePhoton/CR/merged/TTWJetsToLNu_TuneCP5_13TeV-amcatnloFXFX-madspin-pythia8_2016.root: 100%|██████████| 1639/1639 [00:00<00:00, 122808.73it/s]"
     ]
    },
    {
     "name": "stdout",
     "output_type": "stream",
     "text": [
      "is MC\n"
     ]
    },
    {
     "name": "stderr",
     "output_type": "stream",
     "text": [
      "\n"
     ]
    },
    {
     "name": "stdout",
     "output_type": "stream",
     "text": [
      "isMC\n",
      "after trigger 129340\n",
      "after pt 128359\n",
      "after Zmass 95048\n",
      "after Photon ID 17679\n",
      "after photon pt eta 13027\n",
      "events:  13027\n"
     ]
    },
    {
     "name": "stderr",
     "output_type": "stream",
     "text": [
      "fill photonPT for /eos/home-j/jiwoong/WZG_DB/2016/pre_post_separated_220209/FakePhoton/CR/merged/tZq_ll_4f_ckm_NLO_TuneCP5_13TeV-amcatnlo-pythia8_2016.root: 100%|██████████| 13027/13027 [00:00<00:00, 80800.80it/s]\n"
     ]
    },
    {
     "name": "stdout",
     "output_type": "stream",
     "text": [
      "is MC\n",
      "isMC\n",
      "after trigger 148\n",
      "after pt 33\n",
      "after Zmass 3\n",
      "after Photon ID 0\n",
      "after photon pt eta 0\n",
      "events:  0\n"
     ]
    },
    {
     "name": "stderr",
     "output_type": "stream",
     "text": [
      "fill photonPT for /eos/home-j/jiwoong/WZG_DB/2016/pre_post_separated_220209/FakePhoton/CR/merged/WWW_4F_TuneCP5_13TeV-amcatnlo-pythia8_2016.root: 0it [00:00, ?it/s]"
     ]
    },
    {
     "name": "stdout",
     "output_type": "stream",
     "text": [
      "is MC\n"
     ]
    },
    {
     "name": "stderr",
     "output_type": "stream",
     "text": [
      "\n"
     ]
    },
    {
     "name": "stdout",
     "output_type": "stream",
     "text": [
      "isMC\n",
      "after trigger 3877650\n",
      "after pt 3803908\n",
      "after Zmass 1352562\n",
      "after Photon ID 1071862\n",
      "after photon pt eta 835660\n",
      "events:  835660\n"
     ]
    },
    {
     "name": "stderr",
     "output_type": "stream",
     "text": [
      "fill photonPT for /eos/home-j/jiwoong/WZG_DB/2016/pre_post_separated_220209/FakePhoton/CR/merged/ZGToLLG_01J_5f_TuneCP5_13TeV-amcatnloFXFX-pythia8_2016.root: 100%|██████████| 835660/835660 [00:06<00:00, 121542.10it/s]\n"
     ]
    },
    {
     "name": "stdout",
     "output_type": "stream",
     "text": [
      "is MC\n",
      "isMC\n",
      "after trigger 5896\n",
      "after pt 5172\n",
      "after Zmass 4053\n",
      "after Photon ID 970\n",
      "after photon pt eta 678\n",
      "events:  678\n"
     ]
    },
    {
     "name": "stderr",
     "output_type": "stream",
     "text": [
      "fill photonPT for /eos/home-j/jiwoong/WZG_DB/2016/pre_post_separated_220209/FakePhoton/CR/merged/ZZ_TuneCP5_13TeV-pythia8_2016.root: 100%|██████████| 678/678 [00:00<00:00, 109475.60it/s]"
     ]
    },
    {
     "name": "stdout",
     "output_type": "stream",
     "text": [
      "is MC\n"
     ]
    },
    {
     "name": "stderr",
     "output_type": "stream",
     "text": [
      "\n"
     ]
    },
    {
     "name": "stdout",
     "output_type": "stream",
     "text": [
      "isMC\n",
      "after trigger 23791\n",
      "after pt 23772\n",
      "after Zmass 8019\n",
      "after Photon ID 6361\n",
      "after photon pt eta 4971\n",
      "events:  4971\n"
     ]
    },
    {
     "name": "stderr",
     "output_type": "stream",
     "text": [
      "fill photonPT for /eos/home-j/jiwoong/WZG_DB/2016/pre_post_separated_220209/FakePhoton/CR/merged/wza_2016.root: 100%|██████████| 4971/4971 [00:00<00:00, 124104.24it/s]"
     ]
    },
    {
     "name": "stdout",
     "output_type": "stream",
     "text": [
      "is MC\n"
     ]
    },
    {
     "name": "stderr",
     "output_type": "stream",
     "text": [
      "\n"
     ]
    },
    {
     "name": "stdout",
     "output_type": "stream",
     "text": [
      "isMC\n",
      "after trigger 572\n",
      "after pt 444\n",
      "after Zmass 264\n",
      "after Photon ID 84\n",
      "after photon pt eta 63\n",
      "events:  63\n"
     ]
    },
    {
     "name": "stderr",
     "output_type": "stream",
     "text": [
      "fill photonPT for /eos/home-j/jiwoong/WZG_DB/2016/pre_post_separated_220209/FakePhoton/CR/merged/WWZ_4F_TuneCP5_13TeV-amcatnlo-pythia8_2016.root: 100%|██████████| 63/63 [00:00<00:00, 89060.04it/s]"
     ]
    },
    {
     "name": "stdout",
     "output_type": "stream",
     "text": [
      "is MC\n"
     ]
    },
    {
     "name": "stderr",
     "output_type": "stream",
     "text": [
      "\n"
     ]
    },
    {
     "name": "stdout",
     "output_type": "stream",
     "text": [
      "isMC\n",
      "after trigger 287912\n",
      "after pt 287571\n",
      "after Zmass 193840\n",
      "after Photon ID 138475\n",
      "after photon pt eta 105893\n",
      "events:  105893\n"
     ]
    },
    {
     "name": "stderr",
     "output_type": "stream",
     "text": [
      "fill photonPT for /eos/home-j/jiwoong/WZG_DB/2016/pre_post_separated_220209/FakePhoton/CR/merged/GluGluToContinToZZTo2e2mu_TuneCP5_13TeV-mcfm701-pythia8_2016.root: 100%|██████████| 105893/105893 [00:00<00:00, 110677.60it/s]\n"
     ]
    },
    {
     "name": "stdout",
     "output_type": "stream",
     "text": [
      "is MC\n",
      "isMC\n",
      "after trigger 36880\n",
      "after pt 36300\n",
      "after Zmass 27480\n",
      "after Photon ID 6598\n",
      "after photon pt eta 5208\n",
      "events:  5208\n"
     ]
    },
    {
     "name": "stderr",
     "output_type": "stream",
     "text": [
      "fill photonPT for /eos/home-j/jiwoong/WZG_DB/2016/pre_post_separated_220209/FakePhoton/CR/merged/GluGluToContinToZZTo2e2tau_TuneCP5_13TeV-mcfm701-pythia8_2016.root: 100%|██████████| 5208/5208 [00:00<00:00, 71812.29it/s]"
     ]
    },
    {
     "name": "stdout",
     "output_type": "stream",
     "text": [
      "is MC\n"
     ]
    },
    {
     "name": "stderr",
     "output_type": "stream",
     "text": [
      "\n"
     ]
    },
    {
     "name": "stdout",
     "output_type": "stream",
     "text": [
      "isMC\n",
      "after trigger 46554\n",
      "after pt 45990\n",
      "after Zmass 38428\n",
      "after Photon ID 8675\n",
      "after photon pt eta 6836\n",
      "events:  6836\n"
     ]
    },
    {
     "name": "stderr",
     "output_type": "stream",
     "text": [
      "fill photonPT for /eos/home-j/jiwoong/WZG_DB/2016/pre_post_separated_220209/FakePhoton/CR/merged/GluGluToContinToZZTo2mu2tau_TuneCP5_13TeV-mcfm701-pythia8_2016.root: 100%|██████████| 6836/6836 [00:00<00:00, 94151.58it/s]"
     ]
    },
    {
     "name": "stdout",
     "output_type": "stream",
     "text": [
      "is MC\n"
     ]
    },
    {
     "name": "stderr",
     "output_type": "stream",
     "text": [
      "\n"
     ]
    },
    {
     "name": "stdout",
     "output_type": "stream",
     "text": [
      "isMC\n",
      "after trigger 448806\n",
      "after pt 448693\n",
      "after Zmass 276633\n",
      "after Photon ID 198884\n",
      "after photon pt eta 148853\n",
      "events:  148853\n"
     ]
    },
    {
     "name": "stderr",
     "output_type": "stream",
     "text": [
      "fill photonPT for /eos/home-j/jiwoong/WZG_DB/2016/pre_post_separated_220209/FakePhoton/CR/merged/GluGluToContinToZZTo4e_TuneCP5_13TeV-mcfm701-pythia8_2016.root: 100%|██████████| 148853/148853 [00:01<00:00, 101710.60it/s]\n"
     ]
    },
    {
     "name": "stdout",
     "output_type": "stream",
     "text": [
      "is MC\n",
      "isMC\n",
      "after trigger 723069\n",
      "after pt 721710\n",
      "after Zmass 488613\n",
      "after Photon ID 347138\n",
      "after photon pt eta 296366\n",
      "events:  296366\n"
     ]
    },
    {
     "name": "stderr",
     "output_type": "stream",
     "text": [
      "fill photonPT for /eos/home-j/jiwoong/WZG_DB/2016/pre_post_separated_220209/FakePhoton/CR/merged/GluGluToContinToZZTo4mu_TuneCP5_13TeV-mcfm701-pythia8_2016.root: 100%|██████████| 296366/296366 [00:02<00:00, 117571.13it/s]\n"
     ]
    },
    {
     "name": "stdout",
     "output_type": "stream",
     "text": [
      "is MC\n",
      "isMC\n",
      "after trigger 3672\n",
      "after pt 2581\n",
      "after Zmass 384\n",
      "after Photon ID 93\n",
      "after photon pt eta 73\n",
      "events:  73\n"
     ]
    },
    {
     "name": "stderr",
     "output_type": "stream",
     "text": [
      "fill photonPT for /eos/home-j/jiwoong/WZG_DB/2016/pre_post_separated_220209/FakePhoton/CR/merged/GluGluToContinToZZTo4tau_TuneCP5_13TeV-mcfm701-pythia8_2016.root: 100%|██████████| 73/73 [00:00<00:00, 79839.42it/s]\n"
     ]
    }
   ],
   "source": [
    "from array import array\n",
    "\n",
    "\n",
    "\n",
    "# Origin\n",
    "xbins_EB = [20,30,50,80,120,180]\n",
    "xbins_EE = [20,50,180]\n",
    "\n",
    "# Tunning\n",
    "#xbins_EB = [20,35,400]\n",
    "#xbins_EE = [20,400]\n",
    "\n",
    "\n",
    "\n",
    "isbarrel = 1 # barrel\n",
    "#isbarrel = 0 # endcap\n",
    "\n",
    "\n",
    "nbins=-1\n",
    "if isbarrel == 1:\n",
    "    xbins = xbins_EB\n",
    "    nbins = len(xbins_EB) - 1\n",
    "elif isbarrel ==0:\n",
    "    xbins = xbins_EE\n",
    "    nbins = len(xbins_EE) - 1\n",
    "else:\n",
    "    print(\"wrong!\")\n",
    "\n",
    "\n",
    "# --Fake template\n",
    "hist_datafake = ROOT.TH1F(\"\",\"\",nbins,array('d',xbins))\n",
    "hist_datafake.Sumw2()\n",
    "# data\n",
    "for file in filelist_data:\n",
    "    AddHist_dataFake(file, hist_datafake,isbarrel,True)\n",
    "# MC\n",
    "for file in filelist_MC:\n",
    "    AddHist_dataFake(filelist_MC[file]['path'], hist_datafake,isbarrel,False,filelist_MC[file]['xsec'],35.86)\n",
    "    \n",
    "    \n",
    "# Data template\n",
    "hist_data = ROOT.TH1F(\"\",\"\",nbins,array('d',xbins))\n",
    "hist_data.Sumw2()\n",
    "# data\n",
    "for file in filelist_data:\n",
    "    AddHist_data(file, hist_data, isbarrel)   \n",
    "# MC\n",
    "for file in filelist_MC:\n",
    "    AddHist_data(filelist_MC[file]['path'], hist_data,isbarrel,False,filelist_MC[file]['xsec'],35.86)                    \n",
    "\n",
    "    \n",
    "    \n"
   ]
  },
  {
   "cell_type": "code",
   "execution_count": 55,
   "id": "4c7cfcab",
   "metadata": {},
   "outputs": [
    {
     "name": "stdout",
     "output_type": "stream",
     "text": [
      "35.86 fb^{-1} (13 TeV)\n"
     ]
    },
    {
     "data": {
      "image/png": "[encoded data removed]",
      "text/plain": [
       "<IPython.core.display.Image object>"
      ]
     },
     "metadata": {},
     "output_type": "display_data"
    }
   ],
   "source": [
    "c1 = ROOT.TCanvas(\"\",\"\",1000,800)\n",
    "c1.Draw()\n",
    "\n",
    "hist_data.GetXaxis().SetTitle(\"photon P_{T} [GeV]\")\n",
    "hist_data.GetYaxis().SetTitle(\"Events/bin\")\n",
    "hist_data.SetMarkerStyle(0)\n",
    "hist_data.SetLineColor(4)\n",
    "hist_data.SetLineWidth(3)\n",
    "hist_data.Draw(\"HIST e\")\n",
    "\n",
    "\n",
    "\n",
    "hist_datafake.SetMarkerStyle(0)\n",
    "hist_datafake.SetLineColor(2)\n",
    "hist_datafake.SetLineWidth(3)\n",
    "hist_datafake.Draw(\"HIST SAME e\")\n",
    "\n",
    "legend = ROOT.TLegend(0.65, 0.65, 0.80, 0.85)\n",
    "legend.SetBorderSize(0)\n",
    "legend.SetFillColor(0)\n",
    "legend.SetTextSize(0.020)\n",
    "legend.SetLineWidth(1)\n",
    "legend.SetLineStyle(0)\n",
    "legend.AddEntry(hist_data,'data template with full selection')\n",
    "legend.AddEntry(hist_datafake,'fake template with full selection')\n",
    "legend.Draw(\"SAME\")\n",
    "\n",
    "\n",
    "\n",
    "\n",
    "#ROOT.gPad.SetLogx()\n",
    "ROOT.gPad.SetGrid()\n",
    "\n",
    "CMS_lumi(c1,0,0)"
   ]
  },
  {
   "cell_type": "markdown",
   "id": "fe251d0d",
   "metadata": {},
   "source": [
    "### Calculate FakeWeight"
   ]
  },
  {
   "cell_type": "code",
   "execution_count": 51,
   "id": "1f8c44ce",
   "metadata": {},
   "outputs": [
    {
     "name": "stdout",
     "output_type": "stream",
     "text": [
      "2016\t\t\t\t    images\r\n",
      "2017\t\t\t\t    log.csv\r\n",
      "2018\t\t\t\t    Lumi.py\r\n",
      "a\t\t\t\t    MagicDraw\r\n",
      "Combined_plot_2016.ipynb\t    Merged_file\r\n",
      "Combined_plot_FakeLepton2016.ipynb  Merged_file_211028\r\n",
      "Combined_plot.ipynb\t\t    Merged_file_FakePhoton_211128\r\n",
      "Combined_plot_SR2016.ipynb\t    Mu_Fake_Rate_2D_2016.root\r\n",
      "Combined_plot_ZZ2016.ipynb\t    npy_dict\r\n",
      "DataTemplate_EB_data.root\t    pickle_dict\r\n",
      "DataTemplate_EE_data.root\t    pickle_dict_sample\r\n",
      "Electron_channel\t\t    __pycache__\r\n",
      "Ele_Fake_Rate_2D_2016.root\t    Ratio_Plot.py\r\n",
      "fakefraction_real.csv\t\t    results_2016\r\n",
      "FakeLepton2016_Ele.ipynb\t    Scale_PDF_Unc.ipynb\r\n",
      "FakeLepton2016_Mu.ipynb\t\t    TDR_Style.py\r\n",
      "FakeLepton2017_Ele.ipynb\t    Template_Fit_2016.ipynb\r\n",
      "FakeLepton2018_Ele.ipynb\t    Template_Fit_AR_2017.ipynb\r\n",
      "FakeLepton_SingleEle_check.ipynb    Template_Fit_AR_2018.ipynb\r\n",
      "FakePhoton_2017-2018_hist_ref\t    Template_Fit.ipynb\r\n",
      "FakeTemplate_EB_fake.root\t    Test_Fit.ipynb\r\n",
      "FakeTemplate_EE_fake.root\t    WZG_sample\r\n",
      "FakeWeight_2016.ipynb\t\t    Yeop_test.ipynb\r\n"
     ]
    }
   ],
   "source": [
    "file1 = ROOT.TFile(\"DataTemplate_EE_data.root\",\"recreate\")\n",
    "file1.cd()\n",
    "hist_data.Write()\n",
    "file1.Close()\n",
    "\n",
    "file2 = ROOT.TFile(\"FakeTemplate_EE_fake.root\",\"recreate\")\n",
    "file2.cd()\n",
    "hist_datafake.Write()\n",
    "file2.Close()\n",
    "\n",
    "!ls"
   ]
  },
  {
   "cell_type": "code",
   "execution_count": 56,
   "id": "3a4a172f",
   "metadata": {},
   "outputs": [],
   "source": [
    "fake_fraction_2016 = {\"Barrel\":[0.293,0.228,0.233,0.175,0.152],\n",
    "                    \"Endcap\":[0.434,0.29]}"
   ]
  },
  {
   "cell_type": "code",
   "execution_count": 57,
   "id": "3d961fa3",
   "metadata": {},
   "outputs": [
    {
     "name": "stdout",
     "output_type": "stream",
     "text": [
      "isbarrel\n",
      "1th  ydata: 18128.224609375 yfake:  9829.8212890625 ydata/yfake: 1.84 fake fraction: 0.293 fake weight: 0.54\n",
      "isbarrel\n",
      "2th  ydata: 12317.978515625 yfake:  5184.7978515625 ydata/yfake: 2.38 fake fraction: 0.228 fake weight: 0.54\n",
      "isbarrel\n",
      "3th  ydata: 5230.4169921875 yfake:  1972.9248046875 ydata/yfake: 2.65 fake fraction: 0.233 fake weight: 0.62\n",
      "isbarrel\n",
      "4th  ydata: 1994.433837890625 yfake:  646.0548095703125 ydata/yfake: 3.09 fake fraction: 0.175 fake weight: 0.54\n",
      "isbarrel\n",
      "5th  ydata: 834.6087036132812 yfake:  268.48626708984375 ydata/yfake: 3.11 fake fraction: 0.152 fake weight: 0.47\n"
     ]
    }
   ],
   "source": [
    "for i in range(1,hist_data.GetNbinsX()+1):\n",
    "    \n",
    "    ydata= hist_data.GetBinContent(i)\n",
    "    yfake= hist_datafake.GetBinContent(i)\n",
    "    \n",
    "    j = i-1\n",
    "    \n",
    "    \n",
    "    if isbarrel == 1:\n",
    "        print('isbarrel')\n",
    "        fake_fraction = fake_fraction_2016['Barrel'][j]\n",
    "    elif isbarrel ==0:\n",
    "        print('isEndcap')\n",
    "        fake_fraction = fake_fraction_2016['Endcap'][j]\n",
    "    \n",
    "    \n",
    "    if (ydata == 0) or (yfake == 0):\n",
    "        ratio = 0\n",
    "    else:\n",
    "        ratio = ydata / yfake\n",
    "    \n",
    "    fake_weight = ratio * fake_fraction\n",
    "    print(\"{0}th  ydata: {1} yfake:  {2} ydata/yfake: {3:.2f} fake fraction: {4} fake weight: {5:.2f}\".format(i,ydata,yfake,ratio,fake_fraction,fake_weight))"
   ]
  },
  {
   "cell_type": "markdown",
   "id": "58f6dd6c",
   "metadata": {},
   "source": [
    "---"
   ]
  },
  {
   "cell_type": "markdown",
   "id": "0741da88",
   "metadata": {},
   "source": [
    "---"
   ]
  }
 ],
 "metadata": {
  "kernelspec": {
   "display_name": "Python 3",
   "language": "python",
   "name": "python3"
  },
  "language_info": {
   "codemirror_mode": {
    "name": "ipython",
    "version": 3
   },
   "file_extension": ".py",
   "mimetype": "text/x-python",
   "name": "python",
   "nbconvert_exporter": "python",
   "pygments_lexer": "ipython3",
   "version": "3.9.6"
  }
 },
 "nbformat": 4,
 "nbformat_minor": 5
}
