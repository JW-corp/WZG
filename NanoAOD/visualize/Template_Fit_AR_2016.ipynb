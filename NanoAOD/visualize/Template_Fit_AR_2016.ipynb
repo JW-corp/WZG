{
 "cells": [
  {
   "cell_type": "code",
   "execution_count": 1,
   "id": "ac7c13cf",
   "metadata": {
    "scrolled": true
   },
   "outputs": [
    {
     "name": "stderr",
     "output_type": "stream",
     "text": [
      "/cvmfs/sft.cern.ch/lcg/views/LCG_101swan/x86_64-centos7-gcc8-opt/lib/python3.9/site-packages/uproot3/__init__.py:127: FutureWarning: Consider switching from 'uproot3' to 'uproot', since the new interface became the default in 2020.\n",
      "\n",
      "    pip install -U uproot\n",
      "\n",
      "In Python:\n",
      "\n",
      "    >>> import uproot\n",
      "    >>> with uproot.open(...) as file:\n",
      "    ...\n",
      "\n",
      "  warnings.warn(\n",
      "/cvmfs/sft.cern.ch/lcg/views/LCG_101swan/x86_64-centos7-gcc8-opt/lib/python3.9/site-packages/awkward0/__init__.py:12: FutureWarning: Consider switching from 'awkward0' to 'awkward', since the new interface became the default in 2020.\n",
      "\n",
      "    pip install -U awkward\n",
      "\n",
      "In Python:\n",
      "\n",
      "    >>> import awkward as ak\n",
      "    >>> new_style_array = ak.from_awkward0(old_style_array)\n",
      "    >>> old_style_array = ak.to_awkward0(new_style_array)\n",
      "\n",
      "  warnings.warn(\n"
     ]
    },
    {
     "name": "stdout",
     "output_type": "stream",
     "text": [
      "Welcome to JupyROOT 6.24/06\n"
     ]
    }
   ],
   "source": [
    "import matplotlib\n",
    "import uproot, uproot3\n",
    "import numpy\n",
    "import awkward\n",
    "import numba\n",
    "import numpy as np\n",
    "import matplotlib.pyplot as plt\n",
    "import mplhep as hep\n",
    "import pandas as pd\n",
    "from tqdm import trange\n",
    "import ROOT\n",
    "import os,sys\n",
    "from array import array\n",
    "import pickle\n",
    "\n",
    "from Lumi import *\n",
    "from Ratio_Plot import *\n",
    "from TDR_Style import *"
   ]
  },
  {
   "cell_type": "code",
   "execution_count": 2,
   "id": "fa20c846",
   "metadata": {},
   "outputs": [
    {
     "data": {
      "text/plain": [
       "'4.0.1'"
      ]
     },
     "execution_count": 2,
     "metadata": {},
     "output_type": "execute_result"
    }
   ],
   "source": [
    "uproot.__version__"
   ]
  },
  {
   "cell_type": "code",
   "execution_count": 3,
   "id": "fa7fb7a8",
   "metadata": {},
   "outputs": [],
   "source": [
    "def AddHist_data_AR(file, hist,isbarrel,isData=True, xsec=1, lumi=1):\n",
    "    \n",
    "    \n",
    "    # --read branches special case for MuonEG 2016H\n",
    "    if 'MuonEG_Run2016H' in file:\n",
    "        init_branches = [\n",
    "                    'channel_mark'\n",
    "                    ,'HLT_Ele27_WPTight_Gsf'\n",
    "                    ,'HLT_IsoTkMu24'\n",
    "                    ,'HLT_IsoMu24'\n",
    "                    ,'HLT_Mu17_TrkIsoVVL_Mu8_TrkIsoVVL'\n",
    "                    ,'HLT_Mu17_TrkIsoVVL_TkMu8_TrkIsoVVL'\n",
    "                    ,'HLT_Mu17_TrkIsoVVL_Mu8_TrkIsoVVL_DZ'\n",
    "                    ,'HLT_Mu17_TrkIsoVVL_TkMu8_TrkIsoVVL_DZ'\n",
    "                    ,'HLT_Mu8_TrkIsoVVL_Ele23_CaloIdL_TrackIdL_IsoVL'\n",
    "                    ,'HLT_Mu23_TrkIsoVVL_Ele8_CaloIdL_TrackIdL_IsoVL'\n",
    "                    ,'HLT_Mu8_TrkIsoVVL_Ele23_CaloIdL_TrackIdL_IsoVL_DZ'\n",
    "                    ,'HLT_Mu23_TrkIsoVVL_Ele8_CaloIdL_TrackIdL_IsoVL_DZ'\n",
    "                    ,'HLT_Ele23_Ele12_CaloIdL_TrackIdL_IsoVL_DZ'\n",
    "                    ,'WZG_photon_sieie'\n",
    "                    ,'WZG_photon_vidNestedWPBitmap'\n",
    "                    ,'WZG_photon_eta'\n",
    "                    ,'WZG_photon_pt'\n",
    "                    ,'WZG_photon_pfRelIso03_chg'\n",
    "                    ,'MET']\n",
    "        \n",
    "    # --read branches \n",
    "    else:\n",
    "        init_branches =[\n",
    "                    'channel_mark'\n",
    "                    ,'HLT_Ele27_WPTight_Gsf'\n",
    "                    ,'HLT_IsoTkMu24'\n",
    "                    ,'HLT_IsoMu24'\n",
    "                    ,'HLT_Mu17_TrkIsoVVL_Mu8_TrkIsoVVL'\n",
    "                    ,'HLT_Mu17_TrkIsoVVL_TkMu8_TrkIsoVVL'\n",
    "                    ,'HLT_Mu17_TrkIsoVVL_Mu8_TrkIsoVVL_DZ'\n",
    "                    ,'HLT_Mu17_TrkIsoVVL_TkMu8_TrkIsoVVL_DZ'\n",
    "                    ,'HLT_Mu8_TrkIsoVVL_Ele23_CaloIdL_TrackIdL_IsoVL'\n",
    "                    ,'HLT_Mu23_TrkIsoVVL_Ele8_CaloIdL_TrackIdL_IsoVL'\n",
    "                    ,'HLT_Ele23_Ele12_CaloIdL_TrackIdL_IsoVL_DZ'\n",
    "                    ,'WZG_photon_sieie'\n",
    "                    ,'WZG_photon_vidNestedWPBitmap'\n",
    "                    ,'WZG_photon_eta'\n",
    "                    ,'WZG_photon_pt'\n",
    "                    ,'WZG_photon_pfRelIso03_chg'\n",
    "                    ,'MET']  \n",
    "    \n",
    "    # --Complete branches (data) \n",
    "    if isData:\n",
    "        print('is Data')\n",
    " \n",
    "                \n",
    "    # --Complete branches (MC)\n",
    "    else:\n",
    "        print('is MC')\n",
    "        add_branches = ['Generator_weight','puWeight','PrefireWeight','Muon_ID_Weight','Electron_ID_Weight','Electron_RECO_Weight']\n",
    "        met_branches = uproot.open(file+':Events').keys(filter_name='MET_T1Smear*')\n",
    "        gen_lepton_branches = uproot.open(file+':Events').keys(filter_name='*_lepton*genPartFlav')\n",
    "        gen_photon_branches= uproot.open(file+':Events').keys(filter_name='*_photon*genPartFlav')\n",
    "        true_events = uproot.open(file)['nEventsGenWeighted'].values()[0]\n",
    "        init_branches.extend(add_branches)\n",
    "        init_branches.extend(gen_lepton_branches)\n",
    "        init_branches.extend(gen_photon_branches)\n",
    "        init_branches.extend(met_branches)\n",
    "\n",
    "                \n",
    "    # --Prepare main branches\n",
    "    branches = uproot.open(file+':Events').arrays(init_branches, library='pd')\n",
    "\n",
    "                \n",
    "                \n",
    "    # --Triggers\n",
    "    \n",
    "    # Single Electron HLT\n",
    "    HLT_SingleElectron = branches.loc[:,'HLT_Ele27_WPTight_Gsf'] == True\n",
    "\n",
    "    # DoubleEG HLT\n",
    "    HLT_DoubleEG = branches.loc[:,'HLT_Ele23_Ele12_CaloIdL_TrackIdL_IsoVL_DZ'] == True\n",
    "\n",
    "    # Single MuonHLT\n",
    "    HLT_SingleMuon1 = branches.loc[:,'HLT_IsoTkMu24'] == True\n",
    "    HLT_SingleMuon2 = branches.loc[:,'HLT_IsoMu24'] == True\n",
    "    comb_HLT_SingleMuon  = (HLT_SingleMuon1 | HLT_SingleMuon2)\n",
    "\n",
    "    # Double Muon HLT\n",
    "    HLT_DoubleMuon1 = branches.loc[:,'HLT_Mu17_TrkIsoVVL_Mu8_TrkIsoVVL'] == True\n",
    "    HLT_DoubleMuon2 = branches.loc[:,'HLT_Mu17_TrkIsoVVL_TkMu8_TrkIsoVVL'] == True\n",
    "    HLT_DoubleMuon3 = branches.loc[:,'HLT_Mu17_TrkIsoVVL_Mu8_TrkIsoVVL_DZ'] == True\n",
    "    HLT_DoubleMuon4 = branches.loc[:,'HLT_Mu17_TrkIsoVVL_TkMu8_TrkIsoVVL_DZ'] == True\n",
    "    if 'DoubleMuon_Run2016H'in file:\n",
    "        comb_HLT_DoubleMuon = (HLT_DoubleMuon3 | HLT_DoubleMuon4)\n",
    "    elif 'DoubleMuon_Run2016' in file:\n",
    "        comb_HLT_DoubleMuon = (HLT_DoubleMuon1 | HLT_DoubleMuon2)\n",
    "    else:\n",
    "        comb_HLT_DoubleMuon = (HLT_DoubleMuon1 | HLT_DoubleMuon2) | (HLT_DoubleMuon3 | HLT_DoubleMuon4)\n",
    "\n",
    "    # MuonEG HLT\n",
    "    HLT_MuonEG1 = branches.loc[:,'HLT_Mu8_TrkIsoVVL_Ele23_CaloIdL_TrackIdL_IsoVL'] == True\n",
    "    HLT_MuonEG2 = branches.loc[:,'HLT_Mu23_TrkIsoVVL_Ele8_CaloIdL_TrackIdL_IsoVL'] == True\n",
    "\n",
    "\n",
    "    if 'MuonEG_Run2016H' in file:\n",
    "        HLT_MuonEG3 = branches.loc[:,'HLT_Mu8_TrkIsoVVL_Ele23_CaloIdL_TrackIdL_IsoVL_DZ'] == True\n",
    "        HLT_MuonEG4 = branches.loc[:,'HLT_Mu23_TrkIsoVVL_Ele8_CaloIdL_TrackIdL_IsoVL_DZ'] == True\n",
    "        comb_HLT_MuonEG = (HLT_MuonEG1 | HLT_MuonEG2) | (HLT_MuonEG3 | HLT_MuonEG4)\n",
    "    else:\n",
    "        comb_HLT_MuonEG = (HLT_MuonEG1 | HLT_MuonEG2)\n",
    "\n",
    "\n",
    "    \n",
    "    # Apply trigger\n",
    "    if 'SingleMuon' in file:\n",
    "        print('SingleMuon trigger')\n",
    "        arrays = branches.loc[comb_HLT_SingleMuon , :].copy()\n",
    "    elif 'DoubleMuon' in file:\n",
    "        print('DoubleMuon trigger')\n",
    "        arrays = branches.loc[~comb_HLT_SingleMuon & comb_HLT_DoubleMuon, :].copy()\n",
    "    elif 'SingleElectron' in file:\n",
    "        print('SingleElectron trigger')\n",
    "        arrays = branches.loc[~comb_HLT_SingleMuon & ~comb_HLT_DoubleMuon &   HLT_SingleElectron ,:].copy()\n",
    "    elif 'MuonEG' in file:\n",
    "        print('MuonEG Trigger')\n",
    "        arrays = branches.loc[~comb_HLT_SingleMuon & ~comb_HLT_DoubleMuon &  ~HLT_SingleElectron & comb_HLT_MuonEG,:].copy()\n",
    "    elif 'DoubleEG' in file:\n",
    "        print('DoubleEG trigger')\n",
    "        arrays = branches.loc[~comb_HLT_SingleMuon & ~comb_HLT_DoubleMuon &  ~HLT_SingleElectron & ~comb_HLT_MuonEG & HLT_DoubleEG,:].copy()\n",
    "        \n",
    "    else:\n",
    "        print('isMC')\n",
    "        arrays = branches.loc[comb_HLT_SingleMuon | comb_HLT_DoubleMuon | comb_HLT_MuonEG | HLT_SingleElectron |  HLT_DoubleEG ,:].copy()\n",
    "\n",
    "        \n",
    "        \n",
    "    \n",
    "    # --cuts\n",
    "    \n",
    "    # MET \n",
    "    if isData:\n",
    "        MET_cut = (arrays.loc[:,'MET'] > 30)\n",
    "    else:\n",
    "        MET_cut = (arrays.loc[:,f'MET_T1Smear_pt'] > 30)\n",
    "    arrays = arrays.loc[MET_cut,:]\n",
    "    \n",
    "    # Photon Eta\n",
    "    if isbarrel == 1:\n",
    "        eta_cut = abs(arrays.loc[:,'WZG_photon_eta']) < 1.4442\n",
    "    elif isbarrel == 0:\n",
    "        eta_cut = abs((arrays.loc[:,'WZG_photon_eta']) > 1.566) & abs((arrays.loc[:,'WZG_photon_eta']) < 2.5)\n",
    "    \n",
    "    mask_mediumID_withoutsieie = (1<<1) | (1<<3) | (1<<5) | (1<<9) | (1<<11) | (1<<13)\n",
    "    \n",
    "    # Photon MediumID without sieie\n",
    "    arrays['mediumID'] = arrays['WZG_photon_vidNestedWPBitmap'] & mask_mediumID_withoutsieie\n",
    "    arrays = arrays.loc[arrays.loc[:,'mediumID'] == mask_mediumID_withoutsieie, :]\n",
    "        \n",
    "    # Photon PT\n",
    "    pt_cut = (arrays.loc[:,'WZG_photon_pt'] >= 20)\n",
    "    arrays = arrays.loc[pt_cut & eta_cut ,:]\n",
    "        \n",
    "    # -- Fill hist\n",
    "    \n",
    "    # data\n",
    "    if isData:\n",
    "        for i in trange(0, len(arrays['WZG_photon_pt']), desc=f'fill photonPT for {file}'):\n",
    "            hist.Fill(float(arrays['WZG_photon_pt'].values[i]))\n",
    "    # MC\n",
    "    else:\n",
    "        arrays['Muon_ID_Weight']       = arrays['Muon_ID_Weight'].apply(lambda x: 1 if x==0 else x)\n",
    "        arrays['Electron_ID_Weight']   = arrays['Electron_ID_Weight'].apply(lambda x: 1 if x==0 else x)\n",
    "        arrays['Electron_RECO_Weight'] = arrays['Electron_RECO_Weight'].apply(lambda x: 1 if x==0 else x)\n",
    "        \n",
    "        arrays['Generator_weight_sgn'] = arrays['Generator_weight'].apply(lambda x: 1 if x >= 0 else -1)\n",
    "        arrays['true_weight'] = lumi * xsec * 1000 *  arrays['PrefireWeight'] * arrays['puWeight']\\\n",
    "        * arrays['Muon_ID_Weight'] * arrays['Electron_ID_Weight'] * arrays['Electron_RECO_Weight'] *  arrays['Generator_weight_sgn'] / true_events   \n",
    "\n",
    "        for i in trange(len(arrays['WZG_photon_pt']), desc=f'fill photonPT for {file}'):\n",
    "            hist.Fill(float(arrays['WZG_photon_pt'].values[i]),float(arrays['true_weight'].values[i]))\n",
    "    \n",
    "def AddHist_dataFake_AR(file, hist,isbarrel,isData=True,xsec=1,lumi=1):\n",
    "    \n",
    "    # --read branches special case for MuonEG 2016H\n",
    "    if 'MuonEG_Run2016H' in file:\n",
    "        init_branches = [\n",
    "                    'channel_mark'\n",
    "                    ,'HLT_Ele27_WPTight_Gsf'\n",
    "                    ,'HLT_IsoTkMu24'\n",
    "                    ,'HLT_IsoMu24'\n",
    "                    ,'HLT_Mu17_TrkIsoVVL_Mu8_TrkIsoVVL'\n",
    "                    ,'HLT_Mu17_TrkIsoVVL_TkMu8_TrkIsoVVL'\n",
    "                    ,'HLT_Mu17_TrkIsoVVL_Mu8_TrkIsoVVL_DZ'\n",
    "                    ,'HLT_Mu17_TrkIsoVVL_TkMu8_TrkIsoVVL_DZ'\n",
    "                    ,'HLT_Mu8_TrkIsoVVL_Ele23_CaloIdL_TrackIdL_IsoVL'\n",
    "                    ,'HLT_Mu23_TrkIsoVVL_Ele8_CaloIdL_TrackIdL_IsoVL'\n",
    "                    ,'HLT_Mu8_TrkIsoVVL_Ele23_CaloIdL_TrackIdL_IsoVL_DZ'\n",
    "                    ,'HLT_Mu23_TrkIsoVVL_Ele8_CaloIdL_TrackIdL_IsoVL_DZ'\n",
    "                    ,'HLT_Ele23_Ele12_CaloIdL_TrackIdL_IsoVL_DZ'\n",
    "                    ,'WZG_photon_sieie'\n",
    "                    ,'WZG_photon_vidNestedWPBitmap'\n",
    "                    ,'WZG_photon_eta'\n",
    "                    ,'WZG_photon_pt'\n",
    "                    ,'WZG_photon_pfRelIso03_chg'\n",
    "                    ,'MET']\n",
    "        \n",
    "    # --read branches \n",
    "    else:\n",
    "        init_branches = [\n",
    "                    'channel_mark'\n",
    "                    ,'HLT_Ele27_WPTight_Gsf'\n",
    "                    ,'HLT_IsoTkMu24'\n",
    "                    ,'HLT_IsoMu24'\n",
    "                    ,'HLT_Mu17_TrkIsoVVL_Mu8_TrkIsoVVL'\n",
    "                    ,'HLT_Mu17_TrkIsoVVL_TkMu8_TrkIsoVVL'\n",
    "                    ,'HLT_Mu17_TrkIsoVVL_Mu8_TrkIsoVVL_DZ'\n",
    "                    ,'HLT_Mu17_TrkIsoVVL_TkMu8_TrkIsoVVL_DZ'\n",
    "                    ,'HLT_Mu8_TrkIsoVVL_Ele23_CaloIdL_TrackIdL_IsoVL'\n",
    "                    ,'HLT_Mu23_TrkIsoVVL_Ele8_CaloIdL_TrackIdL_IsoVL'\n",
    "                    ,'HLT_Ele23_Ele12_CaloIdL_TrackIdL_IsoVL_DZ'\n",
    "                    ,'WZG_photon_sieie'\n",
    "                    ,'WZG_photon_vidNestedWPBitmap'\n",
    "                    ,'WZG_photon_eta'\n",
    "                    ,'WZG_photon_pt'\n",
    "                    ,'WZG_photon_pfRelIso03_chg'\n",
    "                    ,'MET'] \n",
    "    \n",
    "    # --Complete branches (data) \n",
    "    if isData:\n",
    "        print('is Data')\n",
    "\n",
    "                \n",
    "    # --Complete branches (MC)\n",
    "    else:\n",
    "        print('is MC')\n",
    "        add_branches = ['Generator_weight','puWeight','PrefireWeight','Muon_ID_Weight','Electron_ID_Weight','Electron_RECO_Weight']\n",
    "        met_branches = uproot.open(file+':Events').keys(filter_name='MET_T1Smear*')\n",
    "        gen_lepton_branches = uproot.open(file+':Events').keys(filter_name='*_lepton*genPartFlav')\n",
    "        gen_photon_branches= uproot.open(file+':Events').keys(filter_name='*_photon*genPartFlav')\n",
    "        true_events = uproot.open(file)['nEventsGenWeighted'].values()[0]\n",
    "        init_branches.extend(add_branches)\n",
    "        init_branches.extend(gen_lepton_branches)\n",
    "        init_branches.extend(gen_photon_branches)\n",
    "        init_branches.extend(met_branches)\n",
    "\n",
    "                \n",
    "    # --Prepare main branches\n",
    "    branches = uproot.open(file+':Events').arrays(init_branches, library='pd')\n",
    "    \n",
    "    # --Triggers\n",
    "    \n",
    "    # Single Electron HLT\n",
    "    HLT_SingleElectron = branches.loc[:,'HLT_Ele27_WPTight_Gsf'] == True\n",
    "\n",
    "    # DoubleEG HLT\n",
    "    HLT_DoubleEG = branches.loc[:,'HLT_Ele23_Ele12_CaloIdL_TrackIdL_IsoVL_DZ'] == True\n",
    "\n",
    "    # Single MuonHLT\n",
    "    HLT_SingleMuon1 = branches.loc[:,'HLT_IsoTkMu24'] == True\n",
    "    HLT_SingleMuon2 = branches.loc[:,'HLT_IsoMu24'] == True\n",
    "    comb_HLT_SingleMuon  = (HLT_SingleMuon1 | HLT_SingleMuon2)\n",
    "\n",
    "    # Double Muon HLT\n",
    "    HLT_DoubleMuon1 = branches.loc[:,'HLT_Mu17_TrkIsoVVL_Mu8_TrkIsoVVL'] == True\n",
    "    HLT_DoubleMuon2 = branches.loc[:,'HLT_Mu17_TrkIsoVVL_TkMu8_TrkIsoVVL'] == True\n",
    "    HLT_DoubleMuon3 = branches.loc[:,'HLT_Mu17_TrkIsoVVL_Mu8_TrkIsoVVL_DZ'] == True\n",
    "    HLT_DoubleMuon4 = branches.loc[:,'HLT_Mu17_TrkIsoVVL_TkMu8_TrkIsoVVL_DZ'] == True\n",
    "    if 'DoubleMuon_Run2016H'in file:\n",
    "        comb_HLT_DoubleMuon = (HLT_DoubleMuon3 | HLT_DoubleMuon4)\n",
    "    elif 'DoubleMuon_Run2016' in file:\n",
    "        comb_HLT_DoubleMuon = (HLT_DoubleMuon1 | HLT_DoubleMuon2)\n",
    "    else:\n",
    "        comb_HLT_DoubleMuon = (HLT_DoubleMuon1 | HLT_DoubleMuon2) | (HLT_DoubleMuon3 | HLT_DoubleMuon4)\n",
    "\n",
    "    # MuonEG HLT\n",
    "    HLT_MuonEG1 = branches.loc[:,'HLT_Mu8_TrkIsoVVL_Ele23_CaloIdL_TrackIdL_IsoVL'] == True\n",
    "    HLT_MuonEG2 = branches.loc[:,'HLT_Mu23_TrkIsoVVL_Ele8_CaloIdL_TrackIdL_IsoVL'] == True\n",
    "\n",
    "\n",
    "    if 'MuonEG_Run2016H' in file:\n",
    "        HLT_MuonEG3 = branches.loc[:,'HLT_Mu8_TrkIsoVVL_Ele23_CaloIdL_TrackIdL_IsoVL_DZ'] == True\n",
    "        HLT_MuonEG4 = branches.loc[:,'HLT_Mu23_TrkIsoVVL_Ele8_CaloIdL_TrackIdL_IsoVL_DZ'] == True\n",
    "        comb_HLT_MuonEG = (HLT_MuonEG1 | HLT_MuonEG2) | (HLT_MuonEG3 | HLT_MuonEG4)\n",
    "    else:\n",
    "        comb_HLT_MuonEG = (HLT_MuonEG1 | HLT_MuonEG2)\n",
    "\n",
    "\n",
    "    \n",
    "    # Apply trigger\n",
    "    if 'SingleMuon' in file:\n",
    "        print('SingleMuon trigger')\n",
    "        arrays = branches.loc[comb_HLT_SingleMuon , :].copy()\n",
    "    elif 'DoubleMuon' in file:\n",
    "        print('DoubleMuon trigger')\n",
    "        arrays = branches.loc[~comb_HLT_SingleMuon & comb_HLT_DoubleMuon, :].copy()\n",
    "    elif 'SingleElectron' in file:\n",
    "        print('SingleElectron trigger')\n",
    "        arrays = branches.loc[~comb_HLT_SingleMuon & ~comb_HLT_DoubleMuon &   HLT_SingleElectron ,:].copy()\n",
    "    elif 'MuonEG' in file:\n",
    "        print('MuonEG Trigger')\n",
    "        arrays = branches.loc[~comb_HLT_SingleMuon & ~comb_HLT_DoubleMuon &  ~HLT_SingleElectron & comb_HLT_MuonEG,:].copy()\n",
    "    elif 'DoubleEG' in file:\n",
    "        print('DoubleEG trigger')\n",
    "        arrays = branches.loc[~comb_HLT_SingleMuon & ~comb_HLT_DoubleMuon &  ~HLT_SingleElectron & ~comb_HLT_MuonEG & HLT_DoubleEG,:].copy()\n",
    "        \n",
    "    else:\n",
    "        print('isMC')\n",
    "        arrays = branches.loc[comb_HLT_SingleMuon | comb_HLT_DoubleMuon | comb_HLT_MuonEG | HLT_SingleElectron |  HLT_DoubleEG ,:].copy()\n",
    "\n",
    "    \n",
    "    # --cuts\n",
    "    # MET \n",
    "    if isData:\n",
    "        MET_cut = (arrays.loc[:,'MET'] > 30)\n",
    "    else:\n",
    "        MET_cut = (arrays.loc[:,f'MET_T1Smear_pt'] > 30)\n",
    "    arrays = arrays.loc[MET_cut,:]\n",
    "        \n",
    "    # Photon Eta\n",
    "    if isbarrel == 1:\n",
    "        eta_cut = abs(arrays.loc[:,'WZG_photon_eta']) < 1.4442\n",
    "    elif isbarrel == 0:\n",
    "        eta_cut = abs((arrays.loc[:,'WZG_photon_eta']) > 1.566) & abs((arrays.loc[:,'WZG_photon_eta']) < 2.5)\n",
    "\n",
    "    # need invert sieie? ( and of course, invert IsoChg)\n",
    "    # Photon MediumID with inveted sieie and without IsoChg\n",
    "    #mask_mediumID_withoutsieie_andIsoChg = (1<<1) | (1<<3) | (1<<5) | (1<<11) | (1<<13)\n",
    "    #mask_full_mediumID = (1<<1) | (1<<3) | (1<<5) | (1<<7) | (1<<9) | (1<<11) | (1<<13)\n",
    "    #arrays['mediumID'] = arrays['WZG_photon_vidNestedWPBitmap'] & mask_full_mediumID\n",
    "    #arrays = arrays.loc[arrays.loc[:,'mediumID'] == mask_mediumID_withoutsieie_andIsoChg,:]\n",
    "        \n",
    "        \n",
    "    # Photon IsoChg SB cut\n",
    "    sb = [4,10]\n",
    "\n",
    "    chg_cut = ((arrays.loc[:,\"WZG_photon_pfRelIso03_chg\"]*arrays.loc[:,\"WZG_photon_pt\"]) > sb[0]) & ((arrays.loc[:,\"WZG_photon_pfRelIso03_chg\"]*arrays.loc[:,\"WZG_photon_pt\"]) < sb[1])\n",
    "    pt_cut  = (arrays.loc[:,'WZG_photon_pt'] >= 20)        \n",
    "    \n",
    "    arrays = arrays.loc[pt_cut & eta_cut & chg_cut,:]\n",
    "    \n",
    "    \n",
    "    # -- Fill hist\n",
    "    # data\n",
    "    if isData:\n",
    "        for i in trange(0, len(arrays['WZG_photon_pt']), desc=f'fill photonPT for {file}'):\n",
    "            hist.Fill(float(arrays['WZG_photon_pt'].values[i]))\n",
    "    # MC\n",
    "    else:\n",
    "        arrays['Muon_ID_Weight']       = arrays['Muon_ID_Weight'].apply(lambda x: 1 if x==0 else x)\n",
    "        arrays['Electron_ID_Weight']   = arrays['Electron_ID_Weight'].apply(lambda x: 1 if x==0 else x)\n",
    "        arrays['Electron_RECO_Weight'] = arrays['Electron_RECO_Weight'].apply(lambda x: 1 if x==0 else x)\n",
    "        \n",
    "        arrays['Generator_weight_sgn'] = arrays['Generator_weight'].apply(lambda x: 1 if x >= 0 else -1)\n",
    "        arrays['true_weight'] = lumi * xsec * 1000 *  arrays['PrefireWeight'] * arrays['puWeight']\\\n",
    "        * arrays['Muon_ID_Weight'] * arrays['Electron_ID_Weight'] * arrays['Electron_RECO_Weight'] *  arrays['Generator_weight_sgn'] / true_events   \n",
    "\n",
    "        for i in trange(len(arrays['WZG_photon_pt']), desc=f'fill photonPT for {file}'):\n",
    "            hist.Fill(float(arrays['WZG_photon_pt'].values[i]),float(arrays['true_weight'].values[i]))"
   ]
  },
  {
   "cell_type": "code",
   "execution_count": 4,
   "id": "5fda1a64",
   "metadata": {},
   "outputs": [],
   "source": [
    "## 2016 AR\n",
    "\n",
    "filelist_data = [\n",
    "\"/eos/home-j/jiwoong/WZG_DB/2016/pre_post_separated_220209/FakePhoton/AR/merged/DoubleEG_Run2016B.root\"\n",
    ",\"/eos/home-j/jiwoong/WZG_DB/2016/pre_post_separated_220209/FakePhoton/AR/merged/DoubleEG_Run2016C.root\"\n",
    ",\"/eos/home-j/jiwoong/WZG_DB/2016/pre_post_separated_220209/FakePhoton/AR/merged/DoubleEG_Run2016D.root\"\n",
    ",\"/eos/home-j/jiwoong/WZG_DB/2016/pre_post_separated_220209/FakePhoton/AR/merged/DoubleEG_Run2016E.root\"\n",
    ",\"/eos/home-j/jiwoong/WZG_DB/2016/pre_post_separated_220209/FakePhoton/AR/merged/DoubleEG_Run2016F.root\"\n",
    ",\"/eos/home-j/jiwoong/WZG_DB/2016/pre_post_separated_220209/FakePhoton/AR/merged/DoubleEG_Run2016G.root\"\n",
    ",\"/eos/home-j/jiwoong/WZG_DB/2016/pre_post_separated_220209/FakePhoton/AR/merged/DoubleEG_Run2016H.root\"\n",
    ",\"/eos/home-j/jiwoong/WZG_DB/2016/pre_post_separated_220209/FakePhoton/AR/merged/DoubleMuon_Run2016B.root\"\n",
    ",\"/eos/home-j/jiwoong/WZG_DB/2016/pre_post_separated_220209/FakePhoton/AR/merged/DoubleMuon_Run2016C.root\"\n",
    ",\"/eos/home-j/jiwoong/WZG_DB/2016/pre_post_separated_220209/FakePhoton/AR/merged/DoubleMuon_Run2016D.root\"\n",
    ",\"/eos/home-j/jiwoong/WZG_DB/2016/pre_post_separated_220209/FakePhoton/AR/merged/DoubleMuon_Run2016E.root\"\n",
    ",\"/eos/home-j/jiwoong/WZG_DB/2016/pre_post_separated_220209/FakePhoton/AR/merged/DoubleMuon_Run2016F.root\"\n",
    ",\"/eos/home-j/jiwoong/WZG_DB/2016/pre_post_separated_220209/FakePhoton/AR/merged/DoubleMuon_Run2016G.root\"\n",
    ",\"/eos/home-j/jiwoong/WZG_DB/2016/pre_post_separated_220209/FakePhoton/AR/merged/DoubleMuon_Run2016H.root\"\n",
    ",\"/eos/home-j/jiwoong/WZG_DB/2016/pre_post_separated_220209/FakePhoton/AR/merged/MuonEG_Run2016B.root\"\n",
    ",\"/eos/home-j/jiwoong/WZG_DB/2016/pre_post_separated_220209/FakePhoton/AR/merged/MuonEG_Run2016C.root\"\n",
    ",\"/eos/home-j/jiwoong/WZG_DB/2016/pre_post_separated_220209/FakePhoton/AR/merged/MuonEG_Run2016D.root\"\n",
    ",\"/eos/home-j/jiwoong/WZG_DB/2016/pre_post_separated_220209/FakePhoton/AR/merged/MuonEG_Run2016E.root\"\n",
    ",\"/eos/home-j/jiwoong/WZG_DB/2016/pre_post_separated_220209/FakePhoton/AR/merged/MuonEG_Run2016F.root\"\n",
    ",\"/eos/home-j/jiwoong/WZG_DB/2016/pre_post_separated_220209/FakePhoton/AR/merged/MuonEG_Run2016G.root\"\n",
    ",\"/eos/home-j/jiwoong/WZG_DB/2016/pre_post_separated_220209/FakePhoton/AR/merged/MuonEG_Run2016H.root\"\n",
    ",\"/eos/home-j/jiwoong/WZG_DB/2016/pre_post_separated_220209/FakePhoton/AR/merged/SingleElectron_Run2016B.root\"\n",
    ",\"/eos/home-j/jiwoong/WZG_DB/2016/pre_post_separated_220209/FakePhoton/AR/merged/SingleElectron_Run2016C.root\"\n",
    ",\"/eos/home-j/jiwoong/WZG_DB/2016/pre_post_separated_220209/FakePhoton/AR/merged/SingleElectron_Run2016D.root\"\n",
    ",\"/eos/home-j/jiwoong/WZG_DB/2016/pre_post_separated_220209/FakePhoton/AR/merged/SingleElectron_Run2016E.root\"\n",
    ",\"/eos/home-j/jiwoong/WZG_DB/2016/pre_post_separated_220209/FakePhoton/AR/merged/SingleElectron_Run2016F.root\"\n",
    ",\"/eos/home-j/jiwoong/WZG_DB/2016/pre_post_separated_220209/FakePhoton/AR/merged/SingleElectron_Run2016G.root\"\n",
    ",\"/eos/home-j/jiwoong/WZG_DB/2016/pre_post_separated_220209/FakePhoton/AR/merged/SingleElectron_Run2016H.root\"\n",
    ",\"/eos/home-j/jiwoong/WZG_DB/2016/pre_post_separated_220209/FakePhoton/AR/merged/SingleMuon_Run2016B.root\"\n",
    ",\"/eos/home-j/jiwoong/WZG_DB/2016/pre_post_separated_220209/FakePhoton/AR/merged/SingleMuon_Run2016C.root\"\n",
    ",\"/eos/home-j/jiwoong/WZG_DB/2016/pre_post_separated_220209/FakePhoton/AR/merged/SingleMuon_Run2016D.root\"\n",
    ",\"/eos/home-j/jiwoong/WZG_DB/2016/pre_post_separated_220209/FakePhoton/AR/merged/SingleMuon_Run2016E.root\"\n",
    ",\"/eos/home-j/jiwoong/WZG_DB/2016/pre_post_separated_220209/FakePhoton/AR/merged/SingleMuon_Run2016F.root\"\n",
    ",\"/eos/home-j/jiwoong/WZG_DB/2016/pre_post_separated_220209/FakePhoton/AR/merged/SingleMuon_Run2016G.root\"\n",
    ",\"/eos/home-j/jiwoong/WZG_DB/2016/pre_post_separated_220209/FakePhoton/AR/merged/SingleMuon_Run2016H.root\"\n",
    "]"
   ]
  },
  {
   "cell_type": "code",
   "execution_count": 5,
   "id": "275ffaa0",
   "metadata": {},
   "outputs": [],
   "source": [
    "filelist_MC = {\n",
    "    \n",
    "   \"TTG\":\n",
    "        {\"name\":\"TTGJets\",\n",
    "        \"path\":\"/eos/home-j/jiwoong/WZG_DB/2016/pre_post_separated_220209/FakePhoton/AR/merged/TTGJets_TuneCP5_13TeV-amcatnloFXFX-madspin-pythia8_2016.root\",\n",
    "        \"xsec\":4.078,\n",
    "        },\n",
    "   \"TTZ\":\n",
    "        {\"name\":\"TTZToLLNuNu\",\n",
    "        \"path\":\"/eos/home-j/jiwoong/WZG_DB/2016/pre_post_separated_220209/FakePhoton/AR/merged/TTZToLLNuNu_M-10_TuneCP5_13TeV-amcatnlo-pythia8_2016.root\",\n",
    "        \"xsec\":0.2432,\n",
    "        },\n",
    "   \"TTW\":\n",
    "        {\"name\":\"TTWJetsToLNu\",\n",
    "        \"path\":\"/eos/home-j/jiwoong/WZG_DB/2016/pre_post_separated_220209/FakePhoton/AR/merged/TTWJetsToLNu_TuneCP5_13TeV-amcatnloFXFX-madspin-pythia8_2016.root\",\n",
    "        \"xsec\":0.2149,\n",
    "        },\n",
    "   \"tZq\":\n",
    "        {\"name\":\"tZq_ll\",\n",
    "        \"path\":\"/eos/home-j/jiwoong/WZG_DB/2016/pre_post_separated_220209/FakePhoton/AR/merged/tZq_ll_4f_ckm_NLO_TuneCP5_13TeV-amcatnlo-pythia8_2016.root\",\n",
    "        \"xsec\":0.07358,\n",
    "        },\n",
    "   \"WWW\":\n",
    "        {\"name\":\"WWW\",\n",
    "        \"path\":\"/eos/home-j/jiwoong/WZG_DB/2016/pre_post_separated_220209/FakePhoton/AR/merged/WWW_4F_TuneCP5_13TeV-amcatnlo-pythia8_2016.root\",\n",
    "        \"xsec\":0.2086,\n",
    "        },\n",
    "   \"ZGToLLG\":\n",
    "        {\"name\":\"ZGToLLG\",\n",
    "        \"path\":\"/eos/home-j/jiwoong/WZG_DB/2016/pre_post_separated_220209/FakePhoton/AR/merged/ZGToLLG_01J_5f_TuneCP5_13TeV-amcatnloFXFX-pythia8_2016.root\",\n",
    "        \"xsec\":55.48,\n",
    "        },\n",
    "    \"ZZ\":\n",
    "        {\"name\":\"ZZ\",\n",
    "        \"path\":\"/eos/home-j/jiwoong/WZG_DB/2016/pre_post_separated_220209/FakePhoton/AR/merged/ZZ_TuneCP5_13TeV-pythia8_2016.root\",\n",
    "        \"xsec\":16.523, # NLO\n",
    "        },\n",
    "    \"WZG\":\n",
    "        {\"name\":\"WZG\",\n",
    "        \"path\":\"/eos/home-j/jiwoong/WZG_DB/2016/pre_post_separated_220209/FakePhoton/AR/merged/wza_2016.root\",\n",
    "        \"xsec\":0.0384,\n",
    "        },\n",
    "   \"WWZ\":\n",
    "        {\"name\":\"WWZ\",\n",
    "        \"path\":\"/eos/home-j/jiwoong/WZG_DB/2016/pre_post_separated_220209/FakePhoton/AR/merged/WWZ_4F_TuneCP5_13TeV-amcatnlo-pythia8_2016.root\",\n",
    "        \"xsec\":0.1707,\n",
    "        },\n",
    "   \"ggZZ_2e2mu\":\n",
    "        {\"name\":\"ggZZ2e2mu\",\n",
    "        \"path\":\"/eos/home-j/jiwoong/WZG_DB/2016/pre_post_separated_220209/FakePhoton/AR/merged/GluGluToContinToZZTo2e2mu_TuneCP5_13TeV-mcfm701-pythia8_2016.root\",\n",
    "        \"xsec\":0.00319,\n",
    "        },\n",
    "#   \"ggZZ_2e2nu\":\n",
    "#        {\"name\":\"ggZZ2e2nu\",\n",
    "#        \"path\":\"/eos/home-j/jiwoong/SWAN_projects/Draw/2017/GluGluToContinToZZTo2e2nu_TuneCP5_13TeV-mcfm701-pythia8_2017_0000.root\",\n",
    "#        \"xsec\":0.00319,\n",
    "#        },\n",
    "   \"ggZZ_2e2tau\":\n",
    "        {\"name\":\"ggZZ2e2tau\",\n",
    "        \"path\":\"/eos/home-j/jiwoong/WZG_DB/2016/pre_post_separated_220209/FakePhoton/AR/merged/GluGluToContinToZZTo2e2tau_TuneCP5_13TeV-mcfm701-pythia8_2016.root\",\n",
    "        \"xsec\":0.00319,\n",
    "        },\n",
    "#   \"ggZZ_2mu2nu\":\n",
    "#        {\"name\":\"ggZZ2mu2nu\",\n",
    "#        \"path\":\"/eos/home-j/jiwoong/SWAN_projects/Draw/2017/GluGluToContinToZZTo2mu2nu_TuneCP5_13TeV-mcfm701-pythia8_2017_0000.root\",\n",
    "#        \"xsec\":0.00319,\n",
    "#        },\n",
    "   \"ggZZ_2mu2tau\":\n",
    "        {\"name\":\"ggZZ2mu2tau\",\n",
    "        \"path\":\"/eos/home-j/jiwoong/WZG_DB/2016/pre_post_separated_220209/FakePhoton/AR/merged/GluGluToContinToZZTo2mu2tau_TuneCP5_13TeV-mcfm701-pythia8_2016.root\",\n",
    "        \"xsec\":0.00319,\n",
    "        },\n",
    "   \"ggZZ_4e\":\n",
    "        {\"name\":\"ggZZ4e\",\n",
    "        \"path\":\"/eos/home-j/jiwoong/WZG_DB/2016/pre_post_separated_220209/FakePhoton/AR/merged/GluGluToContinToZZTo4e_TuneCP5_13TeV-mcfm701-pythia8_2016.root\",\n",
    "        \"xsec\":0.00159,\n",
    "        },\n",
    "   \"ggZZ_4mu\":\n",
    "        {\"name\":\"ggZZ4mu\",\n",
    "        \"path\":\"/eos/home-j/jiwoong/WZG_DB/2016/pre_post_separated_220209/FakePhoton/AR/merged/GluGluToContinToZZTo4mu_TuneCP5_13TeV-mcfm701-pythia8_2016.root\",\n",
    "        \"xsec\":0.00159,\n",
    "        },\n",
    "   \"ggZZ_4tau\":\n",
    "        {\"name\":\"ggZZ4tau\",\n",
    "        \"path\":\"/eos/home-j/jiwoong/WZG_DB/2016/pre_post_separated_220209/FakePhoton/AR/merged/GluGluToContinToZZTo4tau_TuneCP5_13TeV-mcfm701-pythia8_2016.root\",\n",
    "        \"xsec\":0.00159,\n",
    "        }    \n",
    "}"
   ]
  },
  {
   "cell_type": "code",
   "execution_count": 21,
   "id": "30bef53a",
   "metadata": {},
   "outputs": [
    {
     "name": "stdout",
     "output_type": "stream",
     "text": [
      "is Data\n",
      "DoubleEG trigger\n"
     ]
    },
    {
     "name": "stderr",
     "output_type": "stream",
     "text": [
      "fill photonPT for /eos/home-j/jiwoong/WZG_DB/2016/pre_post_separated_220209/FakePhoton/AR/merged/DoubleEG_Run2016B.root: 0it [00:00, ?it/s]"
     ]
    },
    {
     "name": "stdout",
     "output_type": "stream",
     "text": [
      "is Data\n"
     ]
    },
    {
     "name": "stderr",
     "output_type": "stream",
     "text": [
      "\n"
     ]
    },
    {
     "name": "stdout",
     "output_type": "stream",
     "text": [
      "DoubleEG trigger\n"
     ]
    },
    {
     "name": "stderr",
     "output_type": "stream",
     "text": [
      "fill photonPT for /eos/home-j/jiwoong/WZG_DB/2016/pre_post_separated_220209/FakePhoton/AR/merged/DoubleEG_Run2016C.root: 0it [00:00, ?it/s]"
     ]
    },
    {
     "name": "stdout",
     "output_type": "stream",
     "text": [
      "is Data\n"
     ]
    },
    {
     "name": "stderr",
     "output_type": "stream",
     "text": [
      "\n"
     ]
    },
    {
     "name": "stdout",
     "output_type": "stream",
     "text": [
      "DoubleEG trigger\n"
     ]
    },
    {
     "name": "stderr",
     "output_type": "stream",
     "text": [
      "fill photonPT for /eos/home-j/jiwoong/WZG_DB/2016/pre_post_separated_220209/FakePhoton/AR/merged/DoubleEG_Run2016D.root: 0it [00:00, ?it/s]"
     ]
    },
    {
     "name": "stdout",
     "output_type": "stream",
     "text": [
      "is Data\n"
     ]
    },
    {
     "name": "stderr",
     "output_type": "stream",
     "text": [
      "\n"
     ]
    },
    {
     "name": "stdout",
     "output_type": "stream",
     "text": [
      "DoubleEG trigger\n"
     ]
    },
    {
     "name": "stderr",
     "output_type": "stream",
     "text": [
      "fill photonPT for /eos/home-j/jiwoong/WZG_DB/2016/pre_post_separated_220209/FakePhoton/AR/merged/DoubleEG_Run2016E.root: 0it [00:00, ?it/s]"
     ]
    },
    {
     "name": "stdout",
     "output_type": "stream",
     "text": [
      "is Data\n"
     ]
    },
    {
     "name": "stderr",
     "output_type": "stream",
     "text": [
      "\n"
     ]
    },
    {
     "name": "stdout",
     "output_type": "stream",
     "text": [
      "DoubleEG trigger\n"
     ]
    },
    {
     "name": "stderr",
     "output_type": "stream",
     "text": [
      "fill photonPT for /eos/home-j/jiwoong/WZG_DB/2016/pre_post_separated_220209/FakePhoton/AR/merged/DoubleEG_Run2016F.root: 0it [00:00, ?it/s]"
     ]
    },
    {
     "name": "stdout",
     "output_type": "stream",
     "text": [
      "is Data\n"
     ]
    },
    {
     "name": "stderr",
     "output_type": "stream",
     "text": [
      "\n"
     ]
    },
    {
     "name": "stdout",
     "output_type": "stream",
     "text": [
      "DoubleEG trigger\n"
     ]
    },
    {
     "name": "stderr",
     "output_type": "stream",
     "text": [
      "fill photonPT for /eos/home-j/jiwoong/WZG_DB/2016/pre_post_separated_220209/FakePhoton/AR/merged/DoubleEG_Run2016G.root: 0it [00:00, ?it/s]"
     ]
    },
    {
     "name": "stdout",
     "output_type": "stream",
     "text": [
      "is Data\n"
     ]
    },
    {
     "name": "stderr",
     "output_type": "stream",
     "text": [
      "\n"
     ]
    },
    {
     "name": "stdout",
     "output_type": "stream",
     "text": [
      "DoubleEG trigger\n"
     ]
    },
    {
     "name": "stderr",
     "output_type": "stream",
     "text": [
      "fill photonPT for /eos/home-j/jiwoong/WZG_DB/2016/pre_post_separated_220209/FakePhoton/AR/merged/DoubleEG_Run2016H.root: 0it [00:00, ?it/s]"
     ]
    },
    {
     "name": "stdout",
     "output_type": "stream",
     "text": [
      "is Data\n"
     ]
    },
    {
     "name": "stderr",
     "output_type": "stream",
     "text": [
      "\n"
     ]
    },
    {
     "name": "stdout",
     "output_type": "stream",
     "text": [
      "DoubleMuon trigger\n"
     ]
    },
    {
     "name": "stderr",
     "output_type": "stream",
     "text": [
      "fill photonPT for /eos/home-j/jiwoong/WZG_DB/2016/pre_post_separated_220209/FakePhoton/AR/merged/DoubleMuon_Run2016B.root: 0it [00:00, ?it/s]"
     ]
    },
    {
     "name": "stdout",
     "output_type": "stream",
     "text": [
      "is Data\n"
     ]
    },
    {
     "name": "stderr",
     "output_type": "stream",
     "text": [
      "\n"
     ]
    },
    {
     "name": "stdout",
     "output_type": "stream",
     "text": [
      "DoubleMuon trigger\n"
     ]
    },
    {
     "name": "stderr",
     "output_type": "stream",
     "text": [
      "fill photonPT for /eos/home-j/jiwoong/WZG_DB/2016/pre_post_separated_220209/FakePhoton/AR/merged/DoubleMuon_Run2016C.root: 0it [00:00, ?it/s]"
     ]
    },
    {
     "name": "stdout",
     "output_type": "stream",
     "text": [
      "is Data\n"
     ]
    },
    {
     "name": "stderr",
     "output_type": "stream",
     "text": [
      "\n"
     ]
    },
    {
     "name": "stdout",
     "output_type": "stream",
     "text": [
      "DoubleMuon trigger\n"
     ]
    },
    {
     "name": "stderr",
     "output_type": "stream",
     "text": [
      "fill photonPT for /eos/home-j/jiwoong/WZG_DB/2016/pre_post_separated_220209/FakePhoton/AR/merged/DoubleMuon_Run2016D.root: 0it [00:00, ?it/s]"
     ]
    },
    {
     "name": "stdout",
     "output_type": "stream",
     "text": [
      "is Data\n"
     ]
    },
    {
     "name": "stderr",
     "output_type": "stream",
     "text": [
      "\n"
     ]
    },
    {
     "name": "stdout",
     "output_type": "stream",
     "text": [
      "DoubleMuon trigger\n"
     ]
    },
    {
     "name": "stderr",
     "output_type": "stream",
     "text": [
      "fill photonPT for /eos/home-j/jiwoong/WZG_DB/2016/pre_post_separated_220209/FakePhoton/AR/merged/DoubleMuon_Run2016E.root: 0it [00:00, ?it/s]"
     ]
    },
    {
     "name": "stdout",
     "output_type": "stream",
     "text": [
      "is Data\n"
     ]
    },
    {
     "name": "stderr",
     "output_type": "stream",
     "text": [
      "\n"
     ]
    },
    {
     "name": "stdout",
     "output_type": "stream",
     "text": [
      "DoubleMuon trigger\n"
     ]
    },
    {
     "name": "stderr",
     "output_type": "stream",
     "text": [
      "fill photonPT for /eos/home-j/jiwoong/WZG_DB/2016/pre_post_separated_220209/FakePhoton/AR/merged/DoubleMuon_Run2016F.root: 0it [00:00, ?it/s]"
     ]
    },
    {
     "name": "stdout",
     "output_type": "stream",
     "text": [
      "is Data\n"
     ]
    },
    {
     "name": "stderr",
     "output_type": "stream",
     "text": [
      "\n"
     ]
    },
    {
     "name": "stdout",
     "output_type": "stream",
     "text": [
      "DoubleMuon trigger\n"
     ]
    },
    {
     "name": "stderr",
     "output_type": "stream",
     "text": [
      "fill photonPT for /eos/home-j/jiwoong/WZG_DB/2016/pre_post_separated_220209/FakePhoton/AR/merged/DoubleMuon_Run2016G.root: 0it [00:00, ?it/s]"
     ]
    },
    {
     "name": "stdout",
     "output_type": "stream",
     "text": [
      "is Data\n"
     ]
    },
    {
     "name": "stderr",
     "output_type": "stream",
     "text": [
      "\n"
     ]
    },
    {
     "name": "stdout",
     "output_type": "stream",
     "text": [
      "DoubleMuon trigger\n"
     ]
    },
    {
     "name": "stderr",
     "output_type": "stream",
     "text": [
      "fill photonPT for /eos/home-j/jiwoong/WZG_DB/2016/pre_post_separated_220209/FakePhoton/AR/merged/DoubleMuon_Run2016H.root: 0it [00:00, ?it/s]"
     ]
    },
    {
     "name": "stdout",
     "output_type": "stream",
     "text": [
      "is Data\n"
     ]
    },
    {
     "name": "stderr",
     "output_type": "stream",
     "text": [
      "\n"
     ]
    },
    {
     "name": "stdout",
     "output_type": "stream",
     "text": [
      "MuonEG Trigger\n"
     ]
    },
    {
     "name": "stderr",
     "output_type": "stream",
     "text": [
      "fill photonPT for /eos/home-j/jiwoong/WZG_DB/2016/pre_post_separated_220209/FakePhoton/AR/merged/MuonEG_Run2016B.root: 0it [00:00, ?it/s]"
     ]
    },
    {
     "name": "stdout",
     "output_type": "stream",
     "text": [
      "is Data\n"
     ]
    },
    {
     "name": "stderr",
     "output_type": "stream",
     "text": [
      "\n"
     ]
    },
    {
     "name": "stdout",
     "output_type": "stream",
     "text": [
      "MuonEG Trigger\n"
     ]
    },
    {
     "name": "stderr",
     "output_type": "stream",
     "text": [
      "fill photonPT for /eos/home-j/jiwoong/WZG_DB/2016/pre_post_separated_220209/FakePhoton/AR/merged/MuonEG_Run2016C.root: 0it [00:00, ?it/s]"
     ]
    },
    {
     "name": "stdout",
     "output_type": "stream",
     "text": [
      "is Data\n"
     ]
    },
    {
     "name": "stderr",
     "output_type": "stream",
     "text": [
      "\n"
     ]
    },
    {
     "name": "stdout",
     "output_type": "stream",
     "text": [
      "MuonEG Trigger\n"
     ]
    },
    {
     "name": "stderr",
     "output_type": "stream",
     "text": [
      "fill photonPT for /eos/home-j/jiwoong/WZG_DB/2016/pre_post_separated_220209/FakePhoton/AR/merged/MuonEG_Run2016D.root: 0it [00:00, ?it/s]"
     ]
    },
    {
     "name": "stdout",
     "output_type": "stream",
     "text": [
      "is Data\n"
     ]
    },
    {
     "name": "stderr",
     "output_type": "stream",
     "text": [
      "\n"
     ]
    },
    {
     "name": "stdout",
     "output_type": "stream",
     "text": [
      "MuonEG Trigger\n"
     ]
    },
    {
     "name": "stderr",
     "output_type": "stream",
     "text": [
      "fill photonPT for /eos/home-j/jiwoong/WZG_DB/2016/pre_post_separated_220209/FakePhoton/AR/merged/MuonEG_Run2016E.root: 0it [00:00, ?it/s]"
     ]
    },
    {
     "name": "stdout",
     "output_type": "stream",
     "text": [
      "is Data\n"
     ]
    },
    {
     "name": "stderr",
     "output_type": "stream",
     "text": [
      "\n"
     ]
    },
    {
     "name": "stdout",
     "output_type": "stream",
     "text": [
      "MuonEG Trigger\n"
     ]
    },
    {
     "name": "stderr",
     "output_type": "stream",
     "text": [
      "fill photonPT for /eos/home-j/jiwoong/WZG_DB/2016/pre_post_separated_220209/FakePhoton/AR/merged/MuonEG_Run2016F.root: 0it [00:00, ?it/s]"
     ]
    },
    {
     "name": "stdout",
     "output_type": "stream",
     "text": [
      "is Data\n"
     ]
    },
    {
     "name": "stderr",
     "output_type": "stream",
     "text": [
      "\n"
     ]
    },
    {
     "name": "stdout",
     "output_type": "stream",
     "text": [
      "MuonEG Trigger\n"
     ]
    },
    {
     "name": "stderr",
     "output_type": "stream",
     "text": [
      "fill photonPT for /eos/home-j/jiwoong/WZG_DB/2016/pre_post_separated_220209/FakePhoton/AR/merged/MuonEG_Run2016G.root: 0it [00:00, ?it/s]"
     ]
    },
    {
     "name": "stdout",
     "output_type": "stream",
     "text": [
      "is Data\n"
     ]
    },
    {
     "name": "stderr",
     "output_type": "stream",
     "text": [
      "\n"
     ]
    },
    {
     "name": "stdout",
     "output_type": "stream",
     "text": [
      "MuonEG Trigger\n"
     ]
    },
    {
     "name": "stderr",
     "output_type": "stream",
     "text": [
      "fill photonPT for /eos/home-j/jiwoong/WZG_DB/2016/pre_post_separated_220209/FakePhoton/AR/merged/MuonEG_Run2016H.root: 0it [00:00, ?it/s]"
     ]
    },
    {
     "name": "stdout",
     "output_type": "stream",
     "text": [
      "is Data\n"
     ]
    },
    {
     "name": "stderr",
     "output_type": "stream",
     "text": [
      "\n"
     ]
    },
    {
     "name": "stdout",
     "output_type": "stream",
     "text": [
      "SingleElectron trigger\n"
     ]
    },
    {
     "name": "stderr",
     "output_type": "stream",
     "text": [
      "fill photonPT for /eos/home-j/jiwoong/WZG_DB/2016/pre_post_separated_220209/FakePhoton/AR/merged/SingleElectron_Run2016B.root: 0it [00:00, ?it/s]"
     ]
    },
    {
     "name": "stdout",
     "output_type": "stream",
     "text": [
      "is Data\n"
     ]
    },
    {
     "name": "stderr",
     "output_type": "stream",
     "text": [
      "\n"
     ]
    },
    {
     "name": "stdout",
     "output_type": "stream",
     "text": [
      "SingleElectron trigger\n"
     ]
    },
    {
     "name": "stderr",
     "output_type": "stream",
     "text": [
      "fill photonPT for /eos/home-j/jiwoong/WZG_DB/2016/pre_post_separated_220209/FakePhoton/AR/merged/SingleElectron_Run2016C.root: 0it [00:00, ?it/s]"
     ]
    },
    {
     "name": "stdout",
     "output_type": "stream",
     "text": [
      "is Data\n"
     ]
    },
    {
     "name": "stderr",
     "output_type": "stream",
     "text": [
      "\n"
     ]
    },
    {
     "name": "stdout",
     "output_type": "stream",
     "text": [
      "SingleElectron trigger\n"
     ]
    },
    {
     "name": "stderr",
     "output_type": "stream",
     "text": [
      "fill photonPT for /eos/home-j/jiwoong/WZG_DB/2016/pre_post_separated_220209/FakePhoton/AR/merged/SingleElectron_Run2016D.root: 0it [00:00, ?it/s]"
     ]
    },
    {
     "name": "stdout",
     "output_type": "stream",
     "text": [
      "is Data\n"
     ]
    },
    {
     "name": "stderr",
     "output_type": "stream",
     "text": [
      "\n"
     ]
    },
    {
     "name": "stdout",
     "output_type": "stream",
     "text": [
      "SingleElectron trigger\n"
     ]
    },
    {
     "name": "stderr",
     "output_type": "stream",
     "text": [
      "fill photonPT for /eos/home-j/jiwoong/WZG_DB/2016/pre_post_separated_220209/FakePhoton/AR/merged/SingleElectron_Run2016E.root: 100%|██████████| 1/1 [00:00<00:00, 8019.70it/s]"
     ]
    },
    {
     "name": "stdout",
     "output_type": "stream",
     "text": [
      "is Data\n"
     ]
    },
    {
     "name": "stderr",
     "output_type": "stream",
     "text": [
      "\n"
     ]
    },
    {
     "name": "stdout",
     "output_type": "stream",
     "text": [
      "SingleElectron trigger\n"
     ]
    },
    {
     "name": "stderr",
     "output_type": "stream",
     "text": [
      "fill photonPT for /eos/home-j/jiwoong/WZG_DB/2016/pre_post_separated_220209/FakePhoton/AR/merged/SingleElectron_Run2016F.root: 0it [00:00, ?it/s]"
     ]
    },
    {
     "name": "stdout",
     "output_type": "stream",
     "text": [
      "is Data\n"
     ]
    },
    {
     "name": "stderr",
     "output_type": "stream",
     "text": [
      "\n"
     ]
    },
    {
     "name": "stdout",
     "output_type": "stream",
     "text": [
      "SingleElectron trigger\n"
     ]
    },
    {
     "name": "stderr",
     "output_type": "stream",
     "text": [
      "fill photonPT for /eos/home-j/jiwoong/WZG_DB/2016/pre_post_separated_220209/FakePhoton/AR/merged/SingleElectron_Run2016G.root: 0it [00:00, ?it/s]"
     ]
    },
    {
     "name": "stdout",
     "output_type": "stream",
     "text": [
      "is Data\n"
     ]
    },
    {
     "name": "stderr",
     "output_type": "stream",
     "text": [
      "\n"
     ]
    },
    {
     "name": "stdout",
     "output_type": "stream",
     "text": [
      "SingleElectron trigger\n"
     ]
    },
    {
     "name": "stderr",
     "output_type": "stream",
     "text": [
      "fill photonPT for /eos/home-j/jiwoong/WZG_DB/2016/pre_post_separated_220209/FakePhoton/AR/merged/SingleElectron_Run2016H.root: 0it [00:00, ?it/s]"
     ]
    },
    {
     "name": "stdout",
     "output_type": "stream",
     "text": [
      "is Data\n"
     ]
    },
    {
     "name": "stderr",
     "output_type": "stream",
     "text": [
      "\n"
     ]
    },
    {
     "name": "stdout",
     "output_type": "stream",
     "text": [
      "SingleMuon trigger\n"
     ]
    },
    {
     "name": "stderr",
     "output_type": "stream",
     "text": [
      "fill photonPT for /eos/home-j/jiwoong/WZG_DB/2016/pre_post_separated_220209/FakePhoton/AR/merged/SingleMuon_Run2016B.root: 0it [00:00, ?it/s]"
     ]
    },
    {
     "name": "stdout",
     "output_type": "stream",
     "text": [
      "is Data\n"
     ]
    },
    {
     "name": "stderr",
     "output_type": "stream",
     "text": [
      "\n"
     ]
    },
    {
     "name": "stdout",
     "output_type": "stream",
     "text": [
      "SingleMuon trigger\n"
     ]
    },
    {
     "name": "stderr",
     "output_type": "stream",
     "text": [
      "fill photonPT for /eos/home-j/jiwoong/WZG_DB/2016/pre_post_separated_220209/FakePhoton/AR/merged/SingleMuon_Run2016C.root: 100%|██████████| 3/3 [00:00<00:00, 21326.97it/s]"
     ]
    },
    {
     "name": "stdout",
     "output_type": "stream",
     "text": [
      "is Data\n"
     ]
    },
    {
     "name": "stderr",
     "output_type": "stream",
     "text": [
      "\n"
     ]
    },
    {
     "name": "stdout",
     "output_type": "stream",
     "text": [
      "SingleMuon trigger\n"
     ]
    },
    {
     "name": "stderr",
     "output_type": "stream",
     "text": [
      "fill photonPT for /eos/home-j/jiwoong/WZG_DB/2016/pre_post_separated_220209/FakePhoton/AR/merged/SingleMuon_Run2016D.root: 0it [00:00, ?it/s]"
     ]
    },
    {
     "name": "stdout",
     "output_type": "stream",
     "text": [
      "is Data\n"
     ]
    },
    {
     "name": "stderr",
     "output_type": "stream",
     "text": [
      "\n"
     ]
    },
    {
     "name": "stdout",
     "output_type": "stream",
     "text": [
      "SingleMuon trigger\n"
     ]
    },
    {
     "name": "stderr",
     "output_type": "stream",
     "text": [
      "fill photonPT for /eos/home-j/jiwoong/WZG_DB/2016/pre_post_separated_220209/FakePhoton/AR/merged/SingleMuon_Run2016E.root: 0it [00:00, ?it/s]"
     ]
    },
    {
     "name": "stdout",
     "output_type": "stream",
     "text": [
      "is Data\n"
     ]
    },
    {
     "name": "stderr",
     "output_type": "stream",
     "text": [
      "\n"
     ]
    },
    {
     "name": "stdout",
     "output_type": "stream",
     "text": [
      "SingleMuon trigger\n"
     ]
    },
    {
     "name": "stderr",
     "output_type": "stream",
     "text": [
      "fill photonPT for /eos/home-j/jiwoong/WZG_DB/2016/pre_post_separated_220209/FakePhoton/AR/merged/SingleMuon_Run2016F.root: 0it [00:00, ?it/s]"
     ]
    },
    {
     "name": "stdout",
     "output_type": "stream",
     "text": [
      "is Data\n"
     ]
    },
    {
     "name": "stderr",
     "output_type": "stream",
     "text": [
      "\n"
     ]
    },
    {
     "name": "stdout",
     "output_type": "stream",
     "text": [
      "SingleMuon trigger\n"
     ]
    },
    {
     "name": "stderr",
     "output_type": "stream",
     "text": [
      "fill photonPT for /eos/home-j/jiwoong/WZG_DB/2016/pre_post_separated_220209/FakePhoton/AR/merged/SingleMuon_Run2016G.root: 100%|██████████| 5/5 [00:00<00:00, 34663.67it/s]"
     ]
    },
    {
     "name": "stdout",
     "output_type": "stream",
     "text": [
      "is Data\n"
     ]
    },
    {
     "name": "stderr",
     "output_type": "stream",
     "text": [
      "\n"
     ]
    },
    {
     "name": "stdout",
     "output_type": "stream",
     "text": [
      "SingleMuon trigger\n"
     ]
    },
    {
     "name": "stderr",
     "output_type": "stream",
     "text": [
      "fill photonPT for /eos/home-j/jiwoong/WZG_DB/2016/pre_post_separated_220209/FakePhoton/AR/merged/SingleMuon_Run2016H.root: 0it [00:00, ?it/s]"
     ]
    },
    {
     "name": "stdout",
     "output_type": "stream",
     "text": [
      "is MC\n"
     ]
    },
    {
     "name": "stderr",
     "output_type": "stream",
     "text": [
      "\n"
     ]
    },
    {
     "name": "stdout",
     "output_type": "stream",
     "text": [
      "isMC\n"
     ]
    },
    {
     "name": "stderr",
     "output_type": "stream",
     "text": [
      "fill photonPT for /eos/home-j/jiwoong/WZG_DB/2016/pre_post_separated_220209/FakePhoton/AR/merged/TTGJets_TuneCP5_13TeV-amcatnloFXFX-madspin-pythia8_2016.root: 100%|██████████| 1/1 [00:00<00:00, 5108.77it/s]"
     ]
    },
    {
     "name": "stdout",
     "output_type": "stream",
     "text": [
      "is MC\n"
     ]
    },
    {
     "name": "stderr",
     "output_type": "stream",
     "text": [
      "\n"
     ]
    },
    {
     "name": "stdout",
     "output_type": "stream",
     "text": [
      "isMC\n"
     ]
    },
    {
     "name": "stderr",
     "output_type": "stream",
     "text": [
      "fill photonPT for /eos/home-j/jiwoong/WZG_DB/2016/pre_post_separated_220209/FakePhoton/AR/merged/TTZToLLNuNu_M-10_TuneCP5_13TeV-amcatnlo-pythia8_2016.root: 100%|██████████| 1452/1452 [00:00<00:00, 117665.47it/s]"
     ]
    },
    {
     "name": "stdout",
     "output_type": "stream",
     "text": [
      "is MC\n"
     ]
    },
    {
     "name": "stderr",
     "output_type": "stream",
     "text": [
      "\n"
     ]
    },
    {
     "name": "stdout",
     "output_type": "stream",
     "text": [
      "isMC\n"
     ]
    },
    {
     "name": "stderr",
     "output_type": "stream",
     "text": [
      "fill photonPT for /eos/home-j/jiwoong/WZG_DB/2016/pre_post_separated_220209/FakePhoton/AR/merged/TTWJetsToLNu_TuneCP5_13TeV-amcatnloFXFX-madspin-pythia8_2016.root: 100%|██████████| 46/46 [00:00<00:00, 72451.36it/s]"
     ]
    },
    {
     "name": "stdout",
     "output_type": "stream",
     "text": [
      "is MC\n"
     ]
    },
    {
     "name": "stderr",
     "output_type": "stream",
     "text": [
      "\n"
     ]
    },
    {
     "name": "stdout",
     "output_type": "stream",
     "text": [
      "isMC\n"
     ]
    },
    {
     "name": "stderr",
     "output_type": "stream",
     "text": [
      "fill photonPT for /eos/home-j/jiwoong/WZG_DB/2016/pre_post_separated_220209/FakePhoton/AR/merged/tZq_ll_4f_ckm_NLO_TuneCP5_13TeV-amcatnlo-pythia8_2016.root: 100%|██████████| 585/585 [00:00<00:00, 114320.82it/s]"
     ]
    },
    {
     "name": "stdout",
     "output_type": "stream",
     "text": [
      "is MC\n"
     ]
    },
    {
     "name": "stderr",
     "output_type": "stream",
     "text": [
      "\n"
     ]
    },
    {
     "name": "stdout",
     "output_type": "stream",
     "text": [
      "isMC\n"
     ]
    },
    {
     "name": "stderr",
     "output_type": "stream",
     "text": [
      "fill photonPT for /eos/home-j/jiwoong/WZG_DB/2016/pre_post_separated_220209/FakePhoton/AR/merged/WWW_4F_TuneCP5_13TeV-amcatnlo-pythia8_2016.root: 0it [00:00, ?it/s]"
     ]
    },
    {
     "name": "stdout",
     "output_type": "stream",
     "text": [
      "is MC\n"
     ]
    },
    {
     "name": "stderr",
     "output_type": "stream",
     "text": [
      "\n"
     ]
    },
    {
     "name": "stdout",
     "output_type": "stream",
     "text": [
      "isMC\n"
     ]
    },
    {
     "name": "stderr",
     "output_type": "stream",
     "text": [
      "fill photonPT for /eos/home-j/jiwoong/WZG_DB/2016/pre_post_separated_220209/FakePhoton/AR/merged/ZGToLLG_01J_5f_TuneCP5_13TeV-amcatnloFXFX-pythia8_2016.root: 100%|██████████| 28/28 [00:00<00:00, 61262.66it/s]"
     ]
    },
    {
     "name": "stdout",
     "output_type": "stream",
     "text": [
      "is MC\n"
     ]
    },
    {
     "name": "stderr",
     "output_type": "stream",
     "text": [
      "\n"
     ]
    },
    {
     "name": "stdout",
     "output_type": "stream",
     "text": [
      "isMC\n"
     ]
    },
    {
     "name": "stderr",
     "output_type": "stream",
     "text": [
      "fill photonPT for /eos/home-j/jiwoong/WZG_DB/2016/pre_post_separated_220209/FakePhoton/AR/merged/ZZ_TuneCP5_13TeV-pythia8_2016.root: 100%|██████████| 3/3 [00:00<00:00, 14926.35it/s]"
     ]
    },
    {
     "name": "stdout",
     "output_type": "stream",
     "text": [
      "is MC\n"
     ]
    },
    {
     "name": "stderr",
     "output_type": "stream",
     "text": [
      "\n"
     ]
    },
    {
     "name": "stdout",
     "output_type": "stream",
     "text": [
      "isMC\n"
     ]
    },
    {
     "name": "stderr",
     "output_type": "stream",
     "text": [
      "fill photonPT for /eos/home-j/jiwoong/WZG_DB/2016/pre_post_separated_220209/FakePhoton/AR/merged/wza_2016.root: 100%|██████████| 28/28 [00:00<00:00, 65064.00it/s]"
     ]
    },
    {
     "name": "stdout",
     "output_type": "stream",
     "text": [
      "is MC\n"
     ]
    },
    {
     "name": "stderr",
     "output_type": "stream",
     "text": [
      "\n"
     ]
    },
    {
     "name": "stdout",
     "output_type": "stream",
     "text": [
      "isMC\n"
     ]
    },
    {
     "name": "stderr",
     "output_type": "stream",
     "text": [
      "fill photonPT for /eos/home-j/jiwoong/WZG_DB/2016/pre_post_separated_220209/FakePhoton/AR/merged/WWZ_4F_TuneCP5_13TeV-amcatnlo-pythia8_2016.root: 100%|██████████| 3/3 [00:00<00:00, 8450.58it/s]"
     ]
    },
    {
     "name": "stdout",
     "output_type": "stream",
     "text": [
      "is MC\n"
     ]
    },
    {
     "name": "stderr",
     "output_type": "stream",
     "text": [
      "\n"
     ]
    },
    {
     "name": "stdout",
     "output_type": "stream",
     "text": [
      "isMC\n"
     ]
    },
    {
     "name": "stderr",
     "output_type": "stream",
     "text": [
      "fill photonPT for /eos/home-j/jiwoong/WZG_DB/2016/pre_post_separated_220209/FakePhoton/AR/merged/GluGluToContinToZZTo2e2mu_TuneCP5_13TeV-mcfm701-pythia8_2016.root: 100%|██████████| 176/176 [00:00<00:00, 102670.03it/s]"
     ]
    },
    {
     "name": "stdout",
     "output_type": "stream",
     "text": [
      "is MC\n"
     ]
    },
    {
     "name": "stderr",
     "output_type": "stream",
     "text": [
      "\n"
     ]
    },
    {
     "name": "stdout",
     "output_type": "stream",
     "text": [
      "isMC\n"
     ]
    },
    {
     "name": "stderr",
     "output_type": "stream",
     "text": [
      "fill photonPT for /eos/home-j/jiwoong/WZG_DB/2016/pre_post_separated_220209/FakePhoton/AR/merged/GluGluToContinToZZTo2e2tau_TuneCP5_13TeV-mcfm701-pythia8_2016.root: 100%|██████████| 304/304 [00:00<00:00, 105525.81it/s]"
     ]
    },
    {
     "name": "stdout",
     "output_type": "stream",
     "text": [
      "is MC\n"
     ]
    },
    {
     "name": "stderr",
     "output_type": "stream",
     "text": [
      "\n"
     ]
    },
    {
     "name": "stdout",
     "output_type": "stream",
     "text": [
      "isMC\n"
     ]
    },
    {
     "name": "stderr",
     "output_type": "stream",
     "text": [
      "fill photonPT for /eos/home-j/jiwoong/WZG_DB/2016/pre_post_separated_220209/FakePhoton/AR/merged/GluGluToContinToZZTo2mu2tau_TuneCP5_13TeV-mcfm701-pythia8_2016.root: 100%|██████████| 433/433 [00:00<00:00, 119427.48it/s]"
     ]
    },
    {
     "name": "stdout",
     "output_type": "stream",
     "text": [
      "is MC\n"
     ]
    },
    {
     "name": "stderr",
     "output_type": "stream",
     "text": [
      "\n"
     ]
    },
    {
     "name": "stdout",
     "output_type": "stream",
     "text": [
      "isMC\n"
     ]
    },
    {
     "name": "stderr",
     "output_type": "stream",
     "text": [
      "fill photonPT for /eos/home-j/jiwoong/WZG_DB/2016/pre_post_separated_220209/FakePhoton/AR/merged/GluGluToContinToZZTo4e_TuneCP5_13TeV-mcfm701-pythia8_2016.root: 100%|██████████| 259/259 [00:00<00:00, 105447.95it/s]"
     ]
    },
    {
     "name": "stdout",
     "output_type": "stream",
     "text": [
      "is MC\n"
     ]
    },
    {
     "name": "stderr",
     "output_type": "stream",
     "text": [
      "\n"
     ]
    },
    {
     "name": "stdout",
     "output_type": "stream",
     "text": [
      "isMC\n"
     ]
    },
    {
     "name": "stderr",
     "output_type": "stream",
     "text": [
      "fill photonPT for /eos/home-j/jiwoong/WZG_DB/2016/pre_post_separated_220209/FakePhoton/AR/merged/GluGluToContinToZZTo4mu_TuneCP5_13TeV-mcfm701-pythia8_2016.root: 100%|██████████| 186/186 [00:00<00:00, 98515.03it/s]"
     ]
    },
    {
     "name": "stdout",
     "output_type": "stream",
     "text": [
      "is MC\n"
     ]
    },
    {
     "name": "stderr",
     "output_type": "stream",
     "text": [
      "\n"
     ]
    },
    {
     "name": "stdout",
     "output_type": "stream",
     "text": [
      "isMC\n"
     ]
    },
    {
     "name": "stderr",
     "output_type": "stream",
     "text": [
      "fill photonPT for /eos/home-j/jiwoong/WZG_DB/2016/pre_post_separated_220209/FakePhoton/AR/merged/GluGluToContinToZZTo4tau_TuneCP5_13TeV-mcfm701-pythia8_2016.root: 100%|██████████| 1/1 [00:00<00:00, 3953.16it/s]"
     ]
    },
    {
     "name": "stdout",
     "output_type": "stream",
     "text": [
      "is Data\n"
     ]
    },
    {
     "name": "stderr",
     "output_type": "stream",
     "text": [
      "\n"
     ]
    },
    {
     "name": "stdout",
     "output_type": "stream",
     "text": [
      "DoubleEG trigger\n"
     ]
    },
    {
     "name": "stderr",
     "output_type": "stream",
     "text": [
      "fill photonPT for /eos/home-j/jiwoong/WZG_DB/2016/pre_post_separated_220209/FakePhoton/AR/merged/DoubleEG_Run2016B.root: 0it [00:00, ?it/s]"
     ]
    },
    {
     "name": "stdout",
     "output_type": "stream",
     "text": [
      "is Data\n"
     ]
    },
    {
     "name": "stderr",
     "output_type": "stream",
     "text": [
      "\n"
     ]
    },
    {
     "name": "stdout",
     "output_type": "stream",
     "text": [
      "DoubleEG trigger\n"
     ]
    },
    {
     "name": "stderr",
     "output_type": "stream",
     "text": [
      "fill photonPT for /eos/home-j/jiwoong/WZG_DB/2016/pre_post_separated_220209/FakePhoton/AR/merged/DoubleEG_Run2016C.root: 0it [00:00, ?it/s]"
     ]
    },
    {
     "name": "stdout",
     "output_type": "stream",
     "text": [
      "is Data\n"
     ]
    },
    {
     "name": "stderr",
     "output_type": "stream",
     "text": [
      "\n"
     ]
    },
    {
     "name": "stdout",
     "output_type": "stream",
     "text": [
      "DoubleEG trigger\n"
     ]
    },
    {
     "name": "stderr",
     "output_type": "stream",
     "text": [
      "fill photonPT for /eos/home-j/jiwoong/WZG_DB/2016/pre_post_separated_220209/FakePhoton/AR/merged/DoubleEG_Run2016D.root: 0it [00:00, ?it/s]"
     ]
    },
    {
     "name": "stdout",
     "output_type": "stream",
     "text": [
      "is Data\n"
     ]
    },
    {
     "name": "stderr",
     "output_type": "stream",
     "text": [
      "\n"
     ]
    },
    {
     "name": "stdout",
     "output_type": "stream",
     "text": [
      "DoubleEG trigger\n"
     ]
    },
    {
     "name": "stderr",
     "output_type": "stream",
     "text": [
      "fill photonPT for /eos/home-j/jiwoong/WZG_DB/2016/pre_post_separated_220209/FakePhoton/AR/merged/DoubleEG_Run2016E.root: 0it [00:00, ?it/s]"
     ]
    },
    {
     "name": "stdout",
     "output_type": "stream",
     "text": [
      "is Data\n"
     ]
    },
    {
     "name": "stderr",
     "output_type": "stream",
     "text": [
      "\n"
     ]
    },
    {
     "name": "stdout",
     "output_type": "stream",
     "text": [
      "DoubleEG trigger\n"
     ]
    },
    {
     "name": "stderr",
     "output_type": "stream",
     "text": [
      "fill photonPT for /eos/home-j/jiwoong/WZG_DB/2016/pre_post_separated_220209/FakePhoton/AR/merged/DoubleEG_Run2016F.root: 0it [00:00, ?it/s]"
     ]
    },
    {
     "name": "stdout",
     "output_type": "stream",
     "text": [
      "is Data\n"
     ]
    },
    {
     "name": "stderr",
     "output_type": "stream",
     "text": [
      "\n"
     ]
    },
    {
     "name": "stdout",
     "output_type": "stream",
     "text": [
      "DoubleEG trigger\n"
     ]
    },
    {
     "name": "stderr",
     "output_type": "stream",
     "text": [
      "fill photonPT for /eos/home-j/jiwoong/WZG_DB/2016/pre_post_separated_220209/FakePhoton/AR/merged/DoubleEG_Run2016G.root: 0it [00:00, ?it/s]"
     ]
    },
    {
     "name": "stdout",
     "output_type": "stream",
     "text": [
      "is Data\n"
     ]
    },
    {
     "name": "stderr",
     "output_type": "stream",
     "text": [
      "\n"
     ]
    },
    {
     "name": "stdout",
     "output_type": "stream",
     "text": [
      "DoubleEG trigger\n"
     ]
    },
    {
     "name": "stderr",
     "output_type": "stream",
     "text": [
      "fill photonPT for /eos/home-j/jiwoong/WZG_DB/2016/pre_post_separated_220209/FakePhoton/AR/merged/DoubleEG_Run2016H.root: 0it [00:00, ?it/s]"
     ]
    },
    {
     "name": "stdout",
     "output_type": "stream",
     "text": [
      "is Data\n"
     ]
    },
    {
     "name": "stderr",
     "output_type": "stream",
     "text": [
      "\n"
     ]
    },
    {
     "name": "stdout",
     "output_type": "stream",
     "text": [
      "DoubleMuon trigger\n"
     ]
    },
    {
     "name": "stderr",
     "output_type": "stream",
     "text": [
      "fill photonPT for /eos/home-j/jiwoong/WZG_DB/2016/pre_post_separated_220209/FakePhoton/AR/merged/DoubleMuon_Run2016B.root: 0it [00:00, ?it/s]"
     ]
    },
    {
     "name": "stdout",
     "output_type": "stream",
     "text": [
      "is Data\n"
     ]
    },
    {
     "name": "stderr",
     "output_type": "stream",
     "text": [
      "\n"
     ]
    },
    {
     "name": "stdout",
     "output_type": "stream",
     "text": [
      "DoubleMuon trigger\n"
     ]
    },
    {
     "name": "stderr",
     "output_type": "stream",
     "text": [
      "fill photonPT for /eos/home-j/jiwoong/WZG_DB/2016/pre_post_separated_220209/FakePhoton/AR/merged/DoubleMuon_Run2016C.root: 0it [00:00, ?it/s]"
     ]
    },
    {
     "name": "stdout",
     "output_type": "stream",
     "text": [
      "is Data\n"
     ]
    },
    {
     "name": "stderr",
     "output_type": "stream",
     "text": [
      "\n"
     ]
    },
    {
     "name": "stdout",
     "output_type": "stream",
     "text": [
      "DoubleMuon trigger\n"
     ]
    },
    {
     "name": "stderr",
     "output_type": "stream",
     "text": [
      "fill photonPT for /eos/home-j/jiwoong/WZG_DB/2016/pre_post_separated_220209/FakePhoton/AR/merged/DoubleMuon_Run2016D.root: 0it [00:00, ?it/s]"
     ]
    },
    {
     "name": "stdout",
     "output_type": "stream",
     "text": [
      "is Data\n"
     ]
    },
    {
     "name": "stderr",
     "output_type": "stream",
     "text": [
      "\n"
     ]
    },
    {
     "name": "stdout",
     "output_type": "stream",
     "text": [
      "DoubleMuon trigger\n"
     ]
    },
    {
     "name": "stderr",
     "output_type": "stream",
     "text": [
      "fill photonPT for /eos/home-j/jiwoong/WZG_DB/2016/pre_post_separated_220209/FakePhoton/AR/merged/DoubleMuon_Run2016E.root: 0it [00:00, ?it/s]"
     ]
    },
    {
     "name": "stdout",
     "output_type": "stream",
     "text": [
      "is Data\n"
     ]
    },
    {
     "name": "stderr",
     "output_type": "stream",
     "text": [
      "\n"
     ]
    },
    {
     "name": "stdout",
     "output_type": "stream",
     "text": [
      "DoubleMuon trigger\n"
     ]
    },
    {
     "name": "stderr",
     "output_type": "stream",
     "text": [
      "fill photonPT for /eos/home-j/jiwoong/WZG_DB/2016/pre_post_separated_220209/FakePhoton/AR/merged/DoubleMuon_Run2016F.root: 0it [00:00, ?it/s]"
     ]
    },
    {
     "name": "stdout",
     "output_type": "stream",
     "text": [
      "is Data\n"
     ]
    },
    {
     "name": "stderr",
     "output_type": "stream",
     "text": [
      "\n"
     ]
    },
    {
     "name": "stdout",
     "output_type": "stream",
     "text": [
      "DoubleMuon trigger\n"
     ]
    },
    {
     "name": "stderr",
     "output_type": "stream",
     "text": [
      "fill photonPT for /eos/home-j/jiwoong/WZG_DB/2016/pre_post_separated_220209/FakePhoton/AR/merged/DoubleMuon_Run2016G.root: 0it [00:00, ?it/s]"
     ]
    },
    {
     "name": "stdout",
     "output_type": "stream",
     "text": [
      "is Data\n"
     ]
    },
    {
     "name": "stderr",
     "output_type": "stream",
     "text": [
      "\n"
     ]
    },
    {
     "name": "stdout",
     "output_type": "stream",
     "text": [
      "DoubleMuon trigger\n"
     ]
    },
    {
     "name": "stderr",
     "output_type": "stream",
     "text": [
      "fill photonPT for /eos/home-j/jiwoong/WZG_DB/2016/pre_post_separated_220209/FakePhoton/AR/merged/DoubleMuon_Run2016H.root: 0it [00:00, ?it/s]"
     ]
    },
    {
     "name": "stdout",
     "output_type": "stream",
     "text": [
      "is Data\n"
     ]
    },
    {
     "name": "stderr",
     "output_type": "stream",
     "text": [
      "\n"
     ]
    },
    {
     "name": "stdout",
     "output_type": "stream",
     "text": [
      "MuonEG Trigger\n"
     ]
    },
    {
     "name": "stderr",
     "output_type": "stream",
     "text": [
      "fill photonPT for /eos/home-j/jiwoong/WZG_DB/2016/pre_post_separated_220209/FakePhoton/AR/merged/MuonEG_Run2016B.root: 0it [00:00, ?it/s]"
     ]
    },
    {
     "name": "stdout",
     "output_type": "stream",
     "text": [
      "is Data\n"
     ]
    },
    {
     "name": "stderr",
     "output_type": "stream",
     "text": [
      "\n"
     ]
    },
    {
     "name": "stdout",
     "output_type": "stream",
     "text": [
      "MuonEG Trigger\n"
     ]
    },
    {
     "name": "stderr",
     "output_type": "stream",
     "text": [
      "fill photonPT for /eos/home-j/jiwoong/WZG_DB/2016/pre_post_separated_220209/FakePhoton/AR/merged/MuonEG_Run2016C.root: 0it [00:00, ?it/s]"
     ]
    },
    {
     "name": "stdout",
     "output_type": "stream",
     "text": [
      "is Data\n"
     ]
    },
    {
     "name": "stderr",
     "output_type": "stream",
     "text": [
      "\n"
     ]
    },
    {
     "name": "stdout",
     "output_type": "stream",
     "text": [
      "MuonEG Trigger\n"
     ]
    },
    {
     "name": "stderr",
     "output_type": "stream",
     "text": [
      "fill photonPT for /eos/home-j/jiwoong/WZG_DB/2016/pre_post_separated_220209/FakePhoton/AR/merged/MuonEG_Run2016D.root: 0it [00:00, ?it/s]"
     ]
    },
    {
     "name": "stdout",
     "output_type": "stream",
     "text": [
      "is Data\n"
     ]
    },
    {
     "name": "stderr",
     "output_type": "stream",
     "text": [
      "\n"
     ]
    },
    {
     "name": "stdout",
     "output_type": "stream",
     "text": [
      "MuonEG Trigger\n"
     ]
    },
    {
     "name": "stderr",
     "output_type": "stream",
     "text": [
      "fill photonPT for /eos/home-j/jiwoong/WZG_DB/2016/pre_post_separated_220209/FakePhoton/AR/merged/MuonEG_Run2016E.root: 0it [00:00, ?it/s]"
     ]
    },
    {
     "name": "stdout",
     "output_type": "stream",
     "text": [
      "is Data\n"
     ]
    },
    {
     "name": "stderr",
     "output_type": "stream",
     "text": [
      "\n"
     ]
    },
    {
     "name": "stdout",
     "output_type": "stream",
     "text": [
      "MuonEG Trigger\n"
     ]
    },
    {
     "name": "stderr",
     "output_type": "stream",
     "text": [
      "fill photonPT for /eos/home-j/jiwoong/WZG_DB/2016/pre_post_separated_220209/FakePhoton/AR/merged/MuonEG_Run2016F.root: 0it [00:00, ?it/s]"
     ]
    },
    {
     "name": "stdout",
     "output_type": "stream",
     "text": [
      "is Data\n"
     ]
    },
    {
     "name": "stderr",
     "output_type": "stream",
     "text": [
      "\n"
     ]
    },
    {
     "name": "stdout",
     "output_type": "stream",
     "text": [
      "MuonEG Trigger\n"
     ]
    },
    {
     "name": "stderr",
     "output_type": "stream",
     "text": [
      "fill photonPT for /eos/home-j/jiwoong/WZG_DB/2016/pre_post_separated_220209/FakePhoton/AR/merged/MuonEG_Run2016G.root: 0it [00:00, ?it/s]"
     ]
    },
    {
     "name": "stdout",
     "output_type": "stream",
     "text": [
      "is Data\n"
     ]
    },
    {
     "name": "stderr",
     "output_type": "stream",
     "text": [
      "\n"
     ]
    },
    {
     "name": "stdout",
     "output_type": "stream",
     "text": [
      "MuonEG Trigger\n"
     ]
    },
    {
     "name": "stderr",
     "output_type": "stream",
     "text": [
      "fill photonPT for /eos/home-j/jiwoong/WZG_DB/2016/pre_post_separated_220209/FakePhoton/AR/merged/MuonEG_Run2016H.root: 0it [00:00, ?it/s]"
     ]
    },
    {
     "name": "stdout",
     "output_type": "stream",
     "text": [
      "is Data\n"
     ]
    },
    {
     "name": "stderr",
     "output_type": "stream",
     "text": [
      "\n"
     ]
    },
    {
     "name": "stdout",
     "output_type": "stream",
     "text": [
      "SingleElectron trigger\n"
     ]
    },
    {
     "name": "stderr",
     "output_type": "stream",
     "text": [
      "fill photonPT for /eos/home-j/jiwoong/WZG_DB/2016/pre_post_separated_220209/FakePhoton/AR/merged/SingleElectron_Run2016B.root: 0it [00:00, ?it/s]"
     ]
    },
    {
     "name": "stdout",
     "output_type": "stream",
     "text": [
      "is Data\n"
     ]
    },
    {
     "name": "stderr",
     "output_type": "stream",
     "text": [
      "\n"
     ]
    },
    {
     "name": "stdout",
     "output_type": "stream",
     "text": [
      "SingleElectron trigger\n"
     ]
    },
    {
     "name": "stderr",
     "output_type": "stream",
     "text": [
      "fill photonPT for /eos/home-j/jiwoong/WZG_DB/2016/pre_post_separated_220209/FakePhoton/AR/merged/SingleElectron_Run2016C.root: 0it [00:00, ?it/s]"
     ]
    },
    {
     "name": "stdout",
     "output_type": "stream",
     "text": [
      "is Data\n"
     ]
    },
    {
     "name": "stderr",
     "output_type": "stream",
     "text": [
      "\n"
     ]
    },
    {
     "name": "stdout",
     "output_type": "stream",
     "text": [
      "SingleElectron trigger\n"
     ]
    },
    {
     "name": "stderr",
     "output_type": "stream",
     "text": [
      "fill photonPT for /eos/home-j/jiwoong/WZG_DB/2016/pre_post_separated_220209/FakePhoton/AR/merged/SingleElectron_Run2016D.root: 100%|██████████| 1/1 [00:00<00:00, 6096.37it/s]"
     ]
    },
    {
     "name": "stdout",
     "output_type": "stream",
     "text": [
      "is Data\n"
     ]
    },
    {
     "name": "stderr",
     "output_type": "stream",
     "text": [
      "\n"
     ]
    },
    {
     "name": "stdout",
     "output_type": "stream",
     "text": [
      "SingleElectron trigger\n"
     ]
    },
    {
     "name": "stderr",
     "output_type": "stream",
     "text": [
      "fill photonPT for /eos/home-j/jiwoong/WZG_DB/2016/pre_post_separated_220209/FakePhoton/AR/merged/SingleElectron_Run2016E.root: 100%|██████████| 1/1 [00:00<00:00, 7307.15it/s]"
     ]
    },
    {
     "name": "stdout",
     "output_type": "stream",
     "text": [
      "is Data\n"
     ]
    },
    {
     "name": "stderr",
     "output_type": "stream",
     "text": [
      "\n"
     ]
    },
    {
     "name": "stdout",
     "output_type": "stream",
     "text": [
      "SingleElectron trigger\n"
     ]
    },
    {
     "name": "stderr",
     "output_type": "stream",
     "text": [
      "fill photonPT for /eos/home-j/jiwoong/WZG_DB/2016/pre_post_separated_220209/FakePhoton/AR/merged/SingleElectron_Run2016F.root: 0it [00:00, ?it/s]"
     ]
    },
    {
     "name": "stdout",
     "output_type": "stream",
     "text": [
      "is Data\n"
     ]
    },
    {
     "name": "stderr",
     "output_type": "stream",
     "text": [
      "\n"
     ]
    },
    {
     "name": "stdout",
     "output_type": "stream",
     "text": [
      "SingleElectron trigger\n"
     ]
    },
    {
     "name": "stderr",
     "output_type": "stream",
     "text": [
      "fill photonPT for /eos/home-j/jiwoong/WZG_DB/2016/pre_post_separated_220209/FakePhoton/AR/merged/SingleElectron_Run2016G.root: 100%|██████████| 2/2 [00:00<00:00, 20262.34it/s]"
     ]
    },
    {
     "name": "stdout",
     "output_type": "stream",
     "text": [
      "is Data\n"
     ]
    },
    {
     "name": "stderr",
     "output_type": "stream",
     "text": [
      "\n"
     ]
    },
    {
     "name": "stdout",
     "output_type": "stream",
     "text": [
      "SingleElectron trigger\n"
     ]
    },
    {
     "name": "stderr",
     "output_type": "stream",
     "text": [
      "fill photonPT for /eos/home-j/jiwoong/WZG_DB/2016/pre_post_separated_220209/FakePhoton/AR/merged/SingleElectron_Run2016H.root: 100%|██████████| 1/1 [00:00<00:00, 10356.31it/s]"
     ]
    },
    {
     "name": "stdout",
     "output_type": "stream",
     "text": [
      "is Data\n"
     ]
    },
    {
     "name": "stderr",
     "output_type": "stream",
     "text": [
      "\n"
     ]
    },
    {
     "name": "stdout",
     "output_type": "stream",
     "text": [
      "SingleMuon trigger\n"
     ]
    },
    {
     "name": "stderr",
     "output_type": "stream",
     "text": [
      "fill photonPT for /eos/home-j/jiwoong/WZG_DB/2016/pre_post_separated_220209/FakePhoton/AR/merged/SingleMuon_Run2016B.root: 100%|██████████| 5/5 [00:00<00:00, 40721.40it/s]"
     ]
    },
    {
     "name": "stdout",
     "output_type": "stream",
     "text": [
      "is Data\n"
     ]
    },
    {
     "name": "stderr",
     "output_type": "stream",
     "text": [
      "\n"
     ]
    },
    {
     "name": "stdout",
     "output_type": "stream",
     "text": [
      "SingleMuon trigger\n"
     ]
    },
    {
     "name": "stderr",
     "output_type": "stream",
     "text": [
      "fill photonPT for /eos/home-j/jiwoong/WZG_DB/2016/pre_post_separated_220209/FakePhoton/AR/merged/SingleMuon_Run2016C.root: 100%|██████████| 4/4 [00:00<00:00, 14860.24it/s]"
     ]
    },
    {
     "name": "stdout",
     "output_type": "stream",
     "text": [
      "is Data\n"
     ]
    },
    {
     "name": "stderr",
     "output_type": "stream",
     "text": [
      "\n"
     ]
    },
    {
     "name": "stdout",
     "output_type": "stream",
     "text": [
      "SingleMuon trigger\n"
     ]
    },
    {
     "name": "stderr",
     "output_type": "stream",
     "text": [
      "fill photonPT for /eos/home-j/jiwoong/WZG_DB/2016/pre_post_separated_220209/FakePhoton/AR/merged/SingleMuon_Run2016D.root: 100%|██████████| 2/2 [00:00<00:00, 16100.98it/s]"
     ]
    },
    {
     "name": "stdout",
     "output_type": "stream",
     "text": [
      "is Data\n"
     ]
    },
    {
     "name": "stderr",
     "output_type": "stream",
     "text": [
      "\n"
     ]
    },
    {
     "name": "stdout",
     "output_type": "stream",
     "text": [
      "SingleMuon trigger\n"
     ]
    },
    {
     "name": "stderr",
     "output_type": "stream",
     "text": [
      "fill photonPT for /eos/home-j/jiwoong/WZG_DB/2016/pre_post_separated_220209/FakePhoton/AR/merged/SingleMuon_Run2016E.root: 100%|██████████| 3/3 [00:00<00:00, 9884.46it/s]"
     ]
    },
    {
     "name": "stdout",
     "output_type": "stream",
     "text": [
      "is Data\n"
     ]
    },
    {
     "name": "stderr",
     "output_type": "stream",
     "text": [
      "\n"
     ]
    },
    {
     "name": "stdout",
     "output_type": "stream",
     "text": [
      "SingleMuon trigger\n"
     ]
    },
    {
     "name": "stderr",
     "output_type": "stream",
     "text": [
      "fill photonPT for /eos/home-j/jiwoong/WZG_DB/2016/pre_post_separated_220209/FakePhoton/AR/merged/SingleMuon_Run2016F.root: 100%|██████████| 1/1 [00:00<00:00, 9341.43it/s]"
     ]
    },
    {
     "name": "stdout",
     "output_type": "stream",
     "text": [
      "is Data\n"
     ]
    },
    {
     "name": "stderr",
     "output_type": "stream",
     "text": [
      "\n"
     ]
    },
    {
     "name": "stdout",
     "output_type": "stream",
     "text": [
      "SingleMuon trigger\n"
     ]
    },
    {
     "name": "stderr",
     "output_type": "stream",
     "text": [
      "fill photonPT for /eos/home-j/jiwoong/WZG_DB/2016/pre_post_separated_220209/FakePhoton/AR/merged/SingleMuon_Run2016G.root: 100%|██████████| 4/4 [00:00<00:00, 16209.87it/s]"
     ]
    },
    {
     "name": "stdout",
     "output_type": "stream",
     "text": [
      "is Data\n"
     ]
    },
    {
     "name": "stderr",
     "output_type": "stream",
     "text": [
      "\n"
     ]
    },
    {
     "name": "stdout",
     "output_type": "stream",
     "text": [
      "SingleMuon trigger\n"
     ]
    },
    {
     "name": "stderr",
     "output_type": "stream",
     "text": [
      "fill photonPT for /eos/home-j/jiwoong/WZG_DB/2016/pre_post_separated_220209/FakePhoton/AR/merged/SingleMuon_Run2016H.root: 100%|██████████| 7/7 [00:00<00:00, 25420.02it/s]"
     ]
    },
    {
     "name": "stdout",
     "output_type": "stream",
     "text": [
      "is MC\n"
     ]
    },
    {
     "name": "stderr",
     "output_type": "stream",
     "text": [
      "\n"
     ]
    },
    {
     "name": "stdout",
     "output_type": "stream",
     "text": [
      "isMC\n"
     ]
    },
    {
     "name": "stderr",
     "output_type": "stream",
     "text": [
      "fill photonPT for /eos/home-j/jiwoong/WZG_DB/2016/pre_post_separated_220209/FakePhoton/AR/merged/TTGJets_TuneCP5_13TeV-amcatnloFXFX-madspin-pythia8_2016.root: 100%|██████████| 9/9 [00:00<00:00, 28339.89it/s]"
     ]
    },
    {
     "name": "stdout",
     "output_type": "stream",
     "text": [
      "is MC\n"
     ]
    },
    {
     "name": "stderr",
     "output_type": "stream",
     "text": [
      "\n"
     ]
    },
    {
     "name": "stdout",
     "output_type": "stream",
     "text": [
      "isMC\n"
     ]
    },
    {
     "name": "stderr",
     "output_type": "stream",
     "text": [
      "fill photonPT for /eos/home-j/jiwoong/WZG_DB/2016/pre_post_separated_220209/FakePhoton/AR/merged/TTZToLLNuNu_M-10_TuneCP5_13TeV-amcatnlo-pythia8_2016.root: 100%|██████████| 2173/2173 [00:00<00:00, 69054.99it/s]"
     ]
    },
    {
     "name": "stdout",
     "output_type": "stream",
     "text": [
      "is MC\n"
     ]
    },
    {
     "name": "stderr",
     "output_type": "stream",
     "text": [
      "\n"
     ]
    },
    {
     "name": "stdout",
     "output_type": "stream",
     "text": [
      "isMC\n"
     ]
    },
    {
     "name": "stderr",
     "output_type": "stream",
     "text": [
      "fill photonPT for /eos/home-j/jiwoong/WZG_DB/2016/pre_post_separated_220209/FakePhoton/AR/merged/TTWJetsToLNu_TuneCP5_13TeV-amcatnloFXFX-madspin-pythia8_2016.root: 100%|██████████| 77/77 [00:00<00:00, 89636.80it/s]"
     ]
    },
    {
     "name": "stdout",
     "output_type": "stream",
     "text": [
      "is MC\n"
     ]
    },
    {
     "name": "stderr",
     "output_type": "stream",
     "text": [
      "\n"
     ]
    },
    {
     "name": "stdout",
     "output_type": "stream",
     "text": [
      "isMC\n"
     ]
    },
    {
     "name": "stderr",
     "output_type": "stream",
     "text": [
      "fill photonPT for /eos/home-j/jiwoong/WZG_DB/2016/pre_post_separated_220209/FakePhoton/AR/merged/tZq_ll_4f_ckm_NLO_TuneCP5_13TeV-amcatnlo-pythia8_2016.root: 100%|██████████| 901/901 [00:00<00:00, 113868.50it/s]"
     ]
    },
    {
     "name": "stdout",
     "output_type": "stream",
     "text": [
      "is MC\n"
     ]
    },
    {
     "name": "stderr",
     "output_type": "stream",
     "text": [
      "\n"
     ]
    },
    {
     "name": "stdout",
     "output_type": "stream",
     "text": [
      "isMC\n"
     ]
    },
    {
     "name": "stderr",
     "output_type": "stream",
     "text": [
      "fill photonPT for /eos/home-j/jiwoong/WZG_DB/2016/pre_post_separated_220209/FakePhoton/AR/merged/WWW_4F_TuneCP5_13TeV-amcatnlo-pythia8_2016.root: 0it [00:00, ?it/s]"
     ]
    },
    {
     "name": "stdout",
     "output_type": "stream",
     "text": [
      "is MC\n"
     ]
    },
    {
     "name": "stderr",
     "output_type": "stream",
     "text": [
      "\n"
     ]
    },
    {
     "name": "stdout",
     "output_type": "stream",
     "text": [
      "isMC\n"
     ]
    },
    {
     "name": "stderr",
     "output_type": "stream",
     "text": [
      "fill photonPT for /eos/home-j/jiwoong/WZG_DB/2016/pre_post_separated_220209/FakePhoton/AR/merged/ZGToLLG_01J_5f_TuneCP5_13TeV-amcatnloFXFX-pythia8_2016.root: 100%|██████████| 89/89 [00:00<00:00, 98157.52it/s]"
     ]
    },
    {
     "name": "stdout",
     "output_type": "stream",
     "text": [
      "is MC\n"
     ]
    },
    {
     "name": "stderr",
     "output_type": "stream",
     "text": [
      "\n"
     ]
    },
    {
     "name": "stdout",
     "output_type": "stream",
     "text": [
      "isMC\n"
     ]
    },
    {
     "name": "stderr",
     "output_type": "stream",
     "text": [
      "fill photonPT for /eos/home-j/jiwoong/WZG_DB/2016/pre_post_separated_220209/FakePhoton/AR/merged/ZZ_TuneCP5_13TeV-pythia8_2016.root: 100%|██████████| 22/22 [00:00<00:00, 54407.25it/s]"
     ]
    },
    {
     "name": "stdout",
     "output_type": "stream",
     "text": [
      "is MC\n"
     ]
    },
    {
     "name": "stderr",
     "output_type": "stream",
     "text": [
      "\n"
     ]
    },
    {
     "name": "stdout",
     "output_type": "stream",
     "text": [
      "isMC\n"
     ]
    },
    {
     "name": "stderr",
     "output_type": "stream",
     "text": [
      "fill photonPT for /eos/home-j/jiwoong/WZG_DB/2016/pre_post_separated_220209/FakePhoton/AR/merged/wza_2016.root: 100%|██████████| 1125/1125 [00:00<00:00, 113163.82it/s]"
     ]
    },
    {
     "name": "stdout",
     "output_type": "stream",
     "text": [
      "is MC\n"
     ]
    },
    {
     "name": "stderr",
     "output_type": "stream",
     "text": [
      "\n"
     ]
    },
    {
     "name": "stdout",
     "output_type": "stream",
     "text": [
      "isMC\n"
     ]
    },
    {
     "name": "stderr",
     "output_type": "stream",
     "text": [
      "fill photonPT for /eos/home-j/jiwoong/WZG_DB/2016/pre_post_separated_220209/FakePhoton/AR/merged/WWZ_4F_TuneCP5_13TeV-amcatnlo-pythia8_2016.root: 100%|██████████| 13/13 [00:00<00:00, 31318.75it/s]"
     ]
    },
    {
     "name": "stdout",
     "output_type": "stream",
     "text": [
      "is MC\n"
     ]
    },
    {
     "name": "stderr",
     "output_type": "stream",
     "text": [
      "\n"
     ]
    },
    {
     "name": "stdout",
     "output_type": "stream",
     "text": [
      "isMC\n"
     ]
    },
    {
     "name": "stderr",
     "output_type": "stream",
     "text": [
      "fill photonPT for /eos/home-j/jiwoong/WZG_DB/2016/pre_post_separated_220209/FakePhoton/AR/merged/GluGluToContinToZZTo2e2mu_TuneCP5_13TeV-mcfm701-pythia8_2016.root: 100%|██████████| 3773/3773 [00:00<00:00, 100565.64it/s]"
     ]
    },
    {
     "name": "stdout",
     "output_type": "stream",
     "text": [
      "is MC\n"
     ]
    },
    {
     "name": "stderr",
     "output_type": "stream",
     "text": [
      "\n"
     ]
    },
    {
     "name": "stdout",
     "output_type": "stream",
     "text": [
      "isMC\n"
     ]
    },
    {
     "name": "stderr",
     "output_type": "stream",
     "text": [
      "fill photonPT for /eos/home-j/jiwoong/WZG_DB/2016/pre_post_separated_220209/FakePhoton/AR/merged/GluGluToContinToZZTo2e2tau_TuneCP5_13TeV-mcfm701-pythia8_2016.root: 100%|██████████| 447/447 [00:00<00:00, 117273.65it/s]"
     ]
    },
    {
     "name": "stdout",
     "output_type": "stream",
     "text": [
      "is MC\n"
     ]
    },
    {
     "name": "stderr",
     "output_type": "stream",
     "text": [
      "\n"
     ]
    },
    {
     "name": "stdout",
     "output_type": "stream",
     "text": [
      "isMC\n"
     ]
    },
    {
     "name": "stderr",
     "output_type": "stream",
     "text": [
      "fill photonPT for /eos/home-j/jiwoong/WZG_DB/2016/pre_post_separated_220209/FakePhoton/AR/merged/GluGluToContinToZZTo2mu2tau_TuneCP5_13TeV-mcfm701-pythia8_2016.root: 100%|██████████| 520/520 [00:00<00:00, 85213.44it/s]"
     ]
    },
    {
     "name": "stdout",
     "output_type": "stream",
     "text": [
      "is MC\n"
     ]
    },
    {
     "name": "stderr",
     "output_type": "stream",
     "text": [
      "\n"
     ]
    },
    {
     "name": "stdout",
     "output_type": "stream",
     "text": [
      "isMC\n"
     ]
    },
    {
     "name": "stderr",
     "output_type": "stream",
     "text": [
      "fill photonPT for /eos/home-j/jiwoong/WZG_DB/2016/pre_post_separated_220209/FakePhoton/AR/merged/GluGluToContinToZZTo4e_TuneCP5_13TeV-mcfm701-pythia8_2016.root: 100%|██████████| 8660/8660 [00:00<00:00, 126198.83it/s]"
     ]
    },
    {
     "name": "stdout",
     "output_type": "stream",
     "text": [
      "is MC\n"
     ]
    },
    {
     "name": "stderr",
     "output_type": "stream",
     "text": [
      "\n"
     ]
    },
    {
     "name": "stdout",
     "output_type": "stream",
     "text": [
      "isMC\n"
     ]
    },
    {
     "name": "stderr",
     "output_type": "stream",
     "text": [
      "fill photonPT for /eos/home-j/jiwoong/WZG_DB/2016/pre_post_separated_220209/FakePhoton/AR/merged/GluGluToContinToZZTo4mu_TuneCP5_13TeV-mcfm701-pythia8_2016.root: 100%|██████████| 3947/3947 [00:00<00:00, 125865.15it/s]"
     ]
    },
    {
     "name": "stdout",
     "output_type": "stream",
     "text": [
      "is MC\n"
     ]
    },
    {
     "name": "stderr",
     "output_type": "stream",
     "text": [
      "\n"
     ]
    },
    {
     "name": "stdout",
     "output_type": "stream",
     "text": [
      "isMC\n"
     ]
    },
    {
     "name": "stderr",
     "output_type": "stream",
     "text": [
      "fill photonPT for /eos/home-j/jiwoong/WZG_DB/2016/pre_post_separated_220209/FakePhoton/AR/merged/GluGluToContinToZZTo4tau_TuneCP5_13TeV-mcfm701-pythia8_2016.root: 100%|██████████| 7/7 [00:00<00:00, 29507.67it/s]\n"
     ]
    }
   ],
   "source": [
    "from array import array\n",
    "\n",
    "\n",
    "\n",
    "# Origin\n",
    "xbins_EB = [20,30,50,80,120,180]\n",
    "xbins_EE = [20,50,180]\n",
    "\n",
    "# Tunning\n",
    "#xbins_EB = [20,35,400]\n",
    "#xbins_EE = [20,400]\n",
    "\n",
    "\n",
    "\n",
    "isbarrel = 1 # barrel\n",
    "#isbarrel = 0 # endcap\n",
    "\n",
    "\n",
    "nbins=-1\n",
    "if isbarrel == 1:\n",
    "    xbins = xbins_EB\n",
    "    nbins = len(xbins_EB) - 1\n",
    "elif isbarrel ==0:\n",
    "    xbins = xbins_EE\n",
    "    nbins = len(xbins_EE) - 1\n",
    "else:\n",
    "    print(\"wrong!\")\n",
    "    \n",
    "\n",
    "# --Fake template\n",
    "hist_datafake = ROOT.TH1F(\"\",\"\",nbins,array('d',xbins))\n",
    "hist_datafake.Sumw2()\n",
    "# data\n",
    "for file in filelist_data:\n",
    "    AddHist_dataFake_AR(file, hist_datafake,isbarrel,True)\n",
    "# MC\n",
    "for file in filelist_MC:\n",
    "    AddHist_dataFake_AR(filelist_MC[file]['path'], hist_datafake,isbarrel,False,filelist_MC[file]['xsec'],35.86)\n",
    "    \n",
    "    \n",
    "# Data template\n",
    "hist_data = ROOT.TH1F(\"\",\"\",nbins,array('d',xbins))\n",
    "hist_data.Sumw2()\n",
    "# data\n",
    "for file in filelist_data:\n",
    "    AddHist_data_AR(file, hist_data, isbarrel)   \n",
    "# MC\n",
    "for file in filelist_MC:\n",
    "    AddHist_data_AR(filelist_MC[file]['path'], hist_data,isbarrel,False,filelist_MC[file]['xsec'],35.86)                    \n",
    "\n"
   ]
  },
  {
   "cell_type": "code",
   "execution_count": 22,
   "id": "4c7cfcab",
   "metadata": {},
   "outputs": [
    {
     "name": "stdout",
     "output_type": "stream",
     "text": [
      "35.86 fb^{-1} (13 TeV)\n"
     ]
    },
    {
     "data": {
      "image/png": "[encoded data removed]",
      "text/plain": [
       "<IPython.core.display.Image object>"
      ]
     },
     "metadata": {},
     "output_type": "display_data"
    }
   ],
   "source": [
    "c1 = ROOT.TCanvas(\"\",\"\",1000,800)\n",
    "c1.Draw()\n",
    "\n",
    "hist_data.GetXaxis().SetTitle(\"photon P_{T} [GeV]\")\n",
    "hist_data.GetYaxis().SetTitle(\"Events/bin\")\n",
    "hist_data.SetMarkerStyle(0)\n",
    "hist_data.SetLineColor(4)\n",
    "hist_data.SetLineWidth(3)\n",
    "hist_data.Draw(\"HIST e\")\n",
    "\n",
    "\n",
    "\n",
    "hist_datafake.SetMarkerStyle(0)\n",
    "hist_datafake.SetLineColor(2)\n",
    "hist_datafake.SetLineWidth(3)\n",
    "hist_datafake.Draw(\"HIST SAME e\")\n",
    "\n",
    "legend = ROOT.TLegend(0.65, 0.65, 0.80, 0.85)\n",
    "legend.SetBorderSize(0)\n",
    "legend.SetFillColor(0)\n",
    "legend.SetTextSize(0.020)\n",
    "legend.SetLineWidth(1)\n",
    "legend.SetLineStyle(0)\n",
    "legend.AddEntry(hist_data,'data template in AR')\n",
    "legend.AddEntry(hist_datafake,'fake template in AR')\n",
    "legend.Draw(\"SAME\")\n",
    "\n",
    "\n",
    "\n",
    "\n",
    "ROOT.gPad.SetLogx()\n",
    "ROOT.gPad.SetGrid()\n",
    "\n",
    "CMS_lumi(c1,0,0)"
   ]
  },
  {
   "cell_type": "markdown",
   "id": "fe251d0d",
   "metadata": {},
   "source": [
    "### Calculate FakeWeight"
   ]
  },
  {
   "cell_type": "code",
   "execution_count": 23,
   "id": "1f8c44ce",
   "metadata": {},
   "outputs": [
    {
     "name": "stdout",
     "output_type": "stream",
     "text": [
      "2016\t\t\t\t    log.csv\r\n",
      "2017\t\t\t\t    Lumi.py\r\n",
      "2018\t\t\t\t    MagicDraw\r\n",
      "a\t\t\t\t    Merged_file\r\n",
      "Combined_plot_2016.ipynb\t    Merged_file_211028\r\n",
      "Combined_plot_FakeLepton2016.ipynb  Merged_file_FakePhoton_211128\r\n",
      "Combined_plot.ipynb\t\t    Mu_Fake_Rate_2D_2016.root\r\n",
      "Combined_plot_SR2016.ipynb\t    npy_dict\r\n",
      "Combined_plot_ZZ2016.ipynb\t    pickle_dict\r\n",
      "DataTemplate_EB_data.root\t    pickle_dict_sample\r\n",
      "DataTemplate_EE_data.root\t    __pycache__\r\n",
      "Electron_channel\t\t    Ratio_Plot.py\r\n",
      "Ele_Fake_Rate_2D_2016.root\t    results_2016\r\n",
      "fakefraction_real.csv\t\t    Scale_PDF_Unc.ipynb\r\n",
      "FakeLepton2016_Ele.ipynb\t    TDR_Style.py\r\n",
      "FakeLepton2016_Mu.ipynb\t\t    Template_Fit_2016.ipynb\r\n",
      "FakeLepton2017_Ele.ipynb\t    Template_Fit_AR_2016.ipynb\r\n",
      "FakeLepton2018_Ele.ipynb\t    Template_Fit_AR_2017.ipynb\r\n",
      "FakeLepton_SingleEle_check.ipynb    Template_Fit_AR_2018.ipynb\r\n",
      "FakePhoton_2017-2018_hist_ref\t    Template_Fit.ipynb\r\n",
      "FakeTemplate_EB_fake.root\t    Test_Fit.ipynb\r\n",
      "FakeTemplate_EE_fake.root\t    WZG_sample\r\n",
      "images\t\t\t\t    Yeop_test.ipynb\r\n"
     ]
    }
   ],
   "source": [
    "file1 = ROOT.TFile(\"DataTemplate_EB_data.root\",\"recreate\")\n",
    "file1.cd()\n",
    "hist_data.Write()\n",
    "file1.Close()\n",
    "\n",
    "file2 = ROOT.TFile(\"FakeTemplate_EB_fake.root\",\"recreate\")\n",
    "file2.cd()\n",
    "hist_datafake.Write()\n",
    "file2.Close()\n",
    "\n",
    "!ls"
   ]
  },
  {
   "cell_type": "code",
   "execution_count": 24,
   "id": "3a4a172f",
   "metadata": {},
   "outputs": [],
   "source": [
    "fake_fraction_2016 = {\"Barrel\":[0.293,0.228,0.233,0.175,0.152],\n",
    "                    \"Endcap\":[0.434,0.29]}"
   ]
  },
  {
   "cell_type": "code",
   "execution_count": 25,
   "id": "3d961fa3",
   "metadata": {},
   "outputs": [
    {
     "name": "stdout",
     "output_type": "stream",
     "text": [
      "1th  ydata: 19.73711395263672 yfake:  5.025613307952881 ydata/yfake: 3.93 fake fraction: 0.293 fake weight: 1.15\n",
      "2th  ydata: 16.447181701660156 yfake:  3.9646544456481934 ydata/yfake: 4.15 fake fraction: 0.228 fake weight: 0.95\n",
      "3th  ydata: 8.857002258300781 yfake:  3.411395788192749 ydata/yfake: 2.60 fake fraction: 0.233 fake weight: 0.60\n",
      "4th  ydata: 2.344752550125122 yfake:  0.3817322254180908 ydata/yfake: 6.14 fake fraction: 0.175 fake weight: 1.07\n",
      "5th  ydata: 2.864257574081421 yfake:  0.085150346159935 ydata/yfake: 33.64 fake fraction: 0.152 fake weight: 5.11\n"
     ]
    }
   ],
   "source": [
    "for i in range(1,hist_data.GetNbinsX()+1):\n",
    "    \n",
    "    ydata= hist_data.GetBinContent(i)\n",
    "    yfake= hist_datafake.GetBinContent(i)\n",
    "    \n",
    "    j = i-1\n",
    "\n",
    "    if isbarrel == 1:\n",
    "        fake_fraction = fake_fraction_2016['Barrel'][j]\n",
    "    elif isbarrel ==0:\n",
    "        fake_fraction = fake_fraction_2016['Endcap'][j]\n",
    "    \n",
    "    \n",
    "    if (ydata == 0) or (yfake == 0):\n",
    "        ratio = 0\n",
    "    else:\n",
    "        ratio = ydata / yfake\n",
    "    \n",
    "    fake_weight = ratio * fake_fraction\n",
    "    print(\"{0}th  ydata: {1} yfake:  {2} ydata/yfake: {3:.2f} fake fraction: {4} fake weight: {5:.2f}\".format(i,ydata,yfake,ratio,fake_fraction,fake_weight))"
   ]
  },
  {
   "cell_type": "markdown",
   "id": "58f6dd6c",
   "metadata": {},
   "source": [
    "---"
   ]
  },
  {
   "cell_type": "markdown",
   "id": "0741da88",
   "metadata": {},
   "source": [
    "---"
   ]
  }
 ],
 "metadata": {
  "kernelspec": {
   "display_name": "Python 3",
   "language": "python",
   "name": "python3"
  },
  "language_info": {
   "codemirror_mode": {
    "name": "ipython",
    "version": 3
   },
   "file_extension": ".py",
   "mimetype": "text/x-python",
   "name": "python",
   "nbconvert_exporter": "python",
   "pygments_lexer": "ipython3",
   "version": "3.9.6"
  }
 },
 "nbformat": 4,
 "nbformat_minor": 5
}
