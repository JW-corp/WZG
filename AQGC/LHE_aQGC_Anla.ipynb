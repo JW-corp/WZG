{
 "cells": [
  {
   "cell_type": "code",
<<<<<<< HEAD
   "execution_count": 1,
   "id": "91531826-c667-406c-9aba-ed8c3bac97c6",
=======
   "execution_count": 2,
>>>>>>> 072aeafd2050122ba88146830cac7cfbebd0a248
   "metadata": {},
   "outputs": [],
   "source": [
    "import uproot\n",
    "import matplotlib.pyplot as plt\n",
    "import mplhep as hep\n",
    "import numpy as np\n",
    "import pandas as pd\n",
    "import awkward as ak\n",
    "import vector"
   ]
  },
  {
   "cell_type": "code",
<<<<<<< HEAD
   "execution_count": 2,
   "id": "e6ecbc62-81b3-4522-8a19-6053d87977b2",
=======
   "execution_count": 3,
>>>>>>> 072aeafd2050122ba88146830cac7cfbebd0a248
   "metadata": {},
   "outputs": [],
   "source": [
    "def Read_Tree(path):\n",
    "    tree = uproot.open(path_sm)['LHEF']\n",
    "    Evt_num = tree.num_entries\n",
    "    print('there are {0} numebr of events'.format(Evt_num))\n",
    "    Particles = tree.arrays(filter_name='Particle*')\n",
    "    \n",
    "    is_Ele = abs(Particles['Particle.PID']) == 11\n",
    "    is_Ele_ch = ak.num(Particles['Particle.PID'][is_Ele]) == 2\n",
    "    \n",
    "    is_Mu = abs(Particles['Particle.PID']) == 13\n",
    "    is_Mu_ch = ak.num(Particles['Particle.PID'][is_Mu]) == 2\n",
    "    \n",
    "    Particles_ele_ch = Particles[is_Ele_ch ]\n",
    "    Particles_mu_ch  = Particles[is_Mu_ch ]\n",
    "    \n",
    "    \n",
    "    return Evt_num,Particles_ele_ch,Particles_mu_ch"
   ]
  },
  {
   "cell_type": "code",
<<<<<<< HEAD
   "execution_count": 3,
   "id": "8cc5ef56-c4bb-433a-89d5-d1bd876fe12e",
=======
   "execution_count": 4,
>>>>>>> 072aeafd2050122ba88146830cac7cfbebd0a248
   "metadata": {},
   "outputs": [],
   "source": [
    "def Make_Object_Array(Particles):    \n",
    "    Photon_mask   = (Particles['Particle.PID'] == 22)\n",
    "    Photon = ak.zip({\n",
    "    \"PT\" :    Particles['Particle.PT'][Photon_mask],\n",
    "    \"Eta\":    Particles['Particle.Eta'][Photon_mask],\n",
    "    \"Phi\":    Particles['Particle.Phi'][Photon_mask],\n",
    "    \"E\" :    Particles['Particle.E'][Photon_mask],\n",
    "    \"Px\" : Particles['Particle.Px'][Photon_mask],\n",
    "    \"Py\" : Particles['Particle.Py'][Photon_mask],  \n",
    "    \"Pz\" : Particles['Particle.Pz'][Photon_mask],  \n",
    "    })\n",
    "    \n",
    "    Electron_mask = abs(Particles['Particle.PID']) == 11\n",
    "    Electron = ak.zip({\n",
    "    \"PT\" :    Particles['Particle.PT'][Electron_mask],\n",
    "    \"Eta\":    Particles['Particle.Eta'][Electron_mask],\n",
    "    \"Phi\":    Particles['Particle.Phi'][Electron_mask],\n",
    "    \"E\" :    Particles['Particle.E'][Electron_mask],\n",
    "    \"Px\" : Particles['Particle.Px'][Electron_mask],\n",
    "    \"Py\" : Particles['Particle.Py'][Electron_mask],  \n",
    "    \"Pz\" : Particles['Particle.Pz'][Electron_mask],  \n",
    "    })   \n",
    "    \n",
    "    Muon_mask = abs(Particles['Particle.PID']) == 13\n",
    "    Muon = ak.zip({\n",
    "    \"PT\" :    Particles['Particle.PT'][Muon_mask],\n",
    "    \"Eta\":    Particles['Particle.Eta'][Muon_mask],\n",
    "    \"Phi\":    Particles['Particle.Phi'][Muon_mask],\n",
    "    \"E\" :    Particles['Particle.E'][Muon_mask],\n",
    "    \"Px\" : Particles['Particle.Px'][Muon_mask],\n",
    "    \"Py\" : Particles['Particle.Py'][Muon_mask],  \n",
    "    \"Pz\" : Particles['Particle.Pz'][Muon_mask],  \n",
    "    })\n",
    "    \n",
    "    W_mask = abs(Particles['Particle.PID']) ==24 \n",
    "    Wboson = ak.zip({\n",
    "    \"PT\" :    Particles['Particle.PT'][W_mask],\n",
    "    \"Eta\":    Particles['Particle.Eta'][W_mask],\n",
    "    \"Phi\":    Particles['Particle.Phi'][W_mask],\n",
    "    \"E\" :    Particles['Particle.E'][W_mask],\n",
    "    \"Px\" : Particles['Particle.Px'][W_mask],\n",
    "    \"Py\" : Particles['Particle.Py'][W_mask],  \n",
    "    \"Pz\" : Particles['Particle.Pz'][W_mask],  \n",
    "    })\n",
    "\n",
    "    \n",
    "    return Electron,Muon,Photon,Wboson"
   ]
  },
  {
   "cell_type": "code",
<<<<<<< HEAD
   "execution_count": 9,
   "id": "2358695b-5652-418e-8015-75c1de4fa621",
=======
   "execution_count": 10,
>>>>>>> 072aeafd2050122ba88146830cac7cfbebd0a248
   "metadata": {},
   "outputs": [],
   "source": [
    "def Analysis(chmark,Particles):\n",
    "    \n",
    "    print(\"Start analysis {0} channel\".format(chmark))\n",
    "    Electron,Muon,Photon,Wboson = Make_Object_Array(Particles)\n",
    "    \n",
    "    if chmark=='Electron':\n",
    "        print(\"test -- contain muon? \",ak.sum(ak.num(Muon)))\n",
    "        print(\"test -- does not have diele? \",ak.sum(ak.num(Electron) !=2))\n",
    "        Lep1_vec = vector.obj(px=Electron[:,0].Px,py=Electron[:,0].Py,pz=Electron[:,0].Pz,E=Electron[:,0].E)\n",
    "        Lep2_vec = vector.obj(px=Electron[:,1].Px,py=Electron[:,1].Py,pz=Electron[:,1].Pz,E=Electron[:,1].E)\n",
    "        \n",
    "    elif chmark=='Muon':\n",
    "        print(\"test -- contain Electron? \",ak.sum(ak.num(Electron)))\n",
    "        print(\"test -- does not have dimu? \",ak.sum(ak.num(Muon) !=2))\n",
    "        Lep1_vec = vector.obj(px=Muon[:,0].Px,py=Muon[:,0].Py,pz=Muon[:,0].Pz,E=Muon[:,0].E)\n",
    "        Lep2_vec = vector.obj(px=Muon[:,1].Px,py=Muon[:,1].Py,pz=Muon[:,1].Pz,E=Muon[:,1].E)\n",
    "    else:\n",
    "        raise NameError('unavailable channel name')\n",
    "\n",
    "    W_vec    = vector.obj(px=Wboson[:,0].Px,py=Wboson[:,0].Py,pz=Wboson[:,0].Pz,E=Wboson[:,0].E)\n",
    "    WZ_vec    = Lep1_vec + Lep2_vec + W_vec    \n",
    "    \n",
    "    Mwz   =  WZ_vec.M.to_numpy()\n",
    "    phoPT =  ak.flatten(Photon.PT).to_numpy()\n",
    "    return Mwz,phoPT "
   ]
  },
  {
   "cell_type": "code",
<<<<<<< HEAD
   "execution_count": 15,
   "id": "d38749a7-2c82-4149-83cf-4519f82059a6",
=======
   "execution_count": 21,
>>>>>>> 072aeafd2050122ba88146830cac7cfbebd0a248
   "metadata": {},
   "outputs": [],
   "source": [
    "def Process(path):\n",
    "    Evt_num,Particles_ele_ch,Particles_mu_ch = Read_Tree(path_sm)\n",
    "    \n",
    "    print(\"Elech + Much == Evtnum ? \",len(Particles_ele_ch) + len(Particles_mu_ch) == Evt_num)\n",
    "    ele_Mwz,ele_phoPT   = Analysis(\"Electron\",Particles_ele_ch)\n",
    "    mu_Mwz,mu_phoPT   = Analysis(\"Muon\",Particles_mu_ch)\n",
    "    Mwz_arr   = np.concatenate((ele_Mwz, mu_Mwz), axis = 0)\n",
    "    phoPT_arr = np.concatenate((ele_phoPT, mu_phoPT), axis = 0)\n",
    "    \n",
    "    return Mwz_arr,phoPT_arr"
   ]
  },
  {
   "cell_type": "code",
<<<<<<< HEAD
   "execution_count": 10,
   "id": "41314a5b-7fcf-4abb-8ef3-d518bd4754b1",
=======
   "execution_count": 23,
>>>>>>> 072aeafd2050122ba88146830cac7cfbebd0a248
   "metadata": {},
   "outputs": [],
   "source": [
    "path_sm            = \"SM_WZG/unweighted_events.root\"\n",
    "path_aQGC_allzeros = \"aQGC_Allzeros/unweighted_events.root\"\n",
    "path_aQGC_FM       = \"aQGC_FM/unweighted_events.root\"\n",
    "path_aQGC_FT       = \"aQGC_FT/unweighted_events.root\""
   ]
  },
  {
   "cell_type": "code",
<<<<<<< HEAD
   "execution_count": 17,
   "id": "9f5f55a6-1db3-4400-9eb2-06a530270a01",
   "metadata": {},
   "outputs": [],
   "source": [
    "# aQGC list DB\n",
    "aQGC_list_df = pd.DataFrame([['sm',\"SM_WZG/unweighted_events.root\",0.017002],\n",
    "             ['aQGC_allzeros','aQGC_Allzeros/unweighted_events.root',0.016099],\n",
    "             ['aQGC_FT0_1e12','aQGC_FT/unweighted_events.root',0.016596],\n",
    "             ['aQGC_FM0_1e11','aQGC_FM/unweighted_events.root',0.01656]\n",
    "             ],columns=['name','path','xsec'])\n"
   ]
  },
  {
   "cell_type": "code",
   "execution_count": 28,
   "id": "25c428f3-bef3-4c0f-810f-3c801c1c7565",
   "metadata": {},
   "outputs": [],
   "source": [
    "aQGC_list_df.set_index('name',inplace=True)\n",
    "aQGC_list_df"
   ]
  },
  {
   "cell_type": "code",
   "execution_count": 40,
   "id": "66e8dcfa-cf3d-4e91-a28d-3f84a68a99f1",
   "metadata": {},
   "outputs": [
    {
     "name": "stdout",
     "output_type": "stream",
     "text": [
      "there are 10000 numebr of events\n",
      "Elech + Much == Evtnum ?  True\n",
      "Start analysis Electron channel\n",
      "test -- contain muon?  0\n",
      "test -- does not have diele?  0\n",
      "Start analysis Muon channel\n",
      "test -- contain Electron?  0\n",
      "test -- does not have dimu?  0\n",
      "there are 10000 numebr of events\n",
      "Elech + Much == Evtnum ?  True\n",
      "Start analysis Electron channel\n",
      "test -- contain muon?  0\n",
      "test -- does not have diele?  0\n",
      "Start analysis Muon channel\n",
      "test -- contain Electron?  0\n",
      "test -- does not have dimu?  0\n",
      "there are 10000 numebr of events\n",
      "Elech + Much == Evtnum ?  True\n",
      "Start analysis Electron channel\n",
      "test -- contain muon?  0\n",
      "test -- does not have diele?  0\n",
      "Start analysis Muon channel\n",
      "test -- contain Electron?  0\n",
      "test -- does not have dimu?  0\n",
      "there are 10000 numebr of events\n",
      "Elech + Much == Evtnum ?  True\n",
      "Start analysis Electron channel\n",
      "test -- contain muon?  0\n",
      "test -- does not have diele?  0\n",
      "Start analysis Muon channel\n",
      "test -- contain Electron?  0\n",
      "test -- does not have dimu?  0\n"
     ]
    }
   ],
   "source": [
    "Lumi= 59.7 * 1000\n",
    "Mwz_arr_sm, phoPT_arr_sm                     =  Process(aQGC_list_df.loc['sm']['path'])\n",
    "Mwz_arr_aQGC0, phoPT_arr_aQGC0               =  Process(aQGC_list_df.loc['aQGC_allzeros']['path'])\n",
    "Mwz_arr_aQGCFT0_1e12, phoPT_arr_aQGCFT0_1e12 =  Process(aQGC_list_df.loc['aQGC_FT0_1e12']['path'])\n",
    "Mwz_arr_aQGCFM0_1e11, phoPT_arr_aQGCFM0_1e11 =  Process(aQGC_list_df.loc['aQGC_FM0_1e11']['path'])\n",
    "\n",
    "w_sm                   = np.ones(len(Mwz_arr_sm))    * Lumi*aQGC_list_df.loc['sm']['xsec'] / 10000\n",
    "w_Mwz_arr_aQGC0        = np.ones(len(Mwz_arr_aQGC0)) * Lumi*aQGC_list_df.loc['aQGC_allzeros']['xsec'] / 10000\n",
    "w_Mwz_arr_aQGCFT0_1e12 = np.ones(len(Mwz_arr_aQGCFT0_1e12)) *Lumi* aQGC_list_df.loc['aQGC_FT0_1e12']['xsec'] / 10000\n",
    "w_Mwz_arr_aQGCFM0_1e11 = np.ones(len(Mwz_arr_aQGCFM0_1e11)) *Lumi* aQGC_list_df.loc['aQGC_FM0_1e11']['xsec'] / 10000"
   ]
  },
  {
   "cell_type": "code",
   "execution_count": 64,
   "id": "4ccdd98b-8831-4239-a8a8-eb55b073955e",
=======
   "execution_count": 25,
>>>>>>> 072aeafd2050122ba88146830cac7cfbebd0a248
   "metadata": {},
   "outputs": [
    {
     "data": {
<<<<<<< HEAD
      "image/png": "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\n",
      "text/plain": [
       "<Figure size 720x720 with 1 Axes>"
      ]
     },
     "metadata": {
      "needs_background": "light"
     },
     "output_type": "display_data"
    }
   ],
   "source": [
    "# Base-set\n",
    "plt.style.use(hep.style.ROOT)\n",
    "\n",
    "title='$M_{WZ}$'\n",
    "start=0\n",
    "end=1500\n",
    "bin=15\n",
    "bins = np.linspace(start, end, bin)  # divide start-end range with 'bin' number\n",
    "binwidth = (end - start) / bin  # width of one bin\n",
    "\n",
    "# Draw histogram\n",
    "plt.hist(np.clip(Mwz_arr_sm,start,end),weights=w_sm,bins=bins,histtype='step',linewidth=2,label='sm')\n",
    "plt.hist(np.clip(Mwz_arr_aQGC0,start,end),weights=w_Mwz_arr_aQGC0,bins=bins,histtype='step',linewidth=2,label='aQGC all param 0')\n",
    "plt.hist(np.clip(Mwz_arr_aQGCFT0_1e12,start,end),bins,bins,weights=w_Mwz_arr_aQGCFT0_1e12,histtype='step',linewidth=2,label='aQGC FT0 1e-12')\n",
    "plt.hist(np.clip(Mwz_arr_aQGCFM0_1e11,start,end),weights=w_Mwz_arr_aQGCFM0_1e11,bins=bins,histtype='step',linewidth=2,label='aQGC FM0 1e-11')\n",
    "\n",
    "plt.xticks(fontsize=16)  # xtick size\n",
    "plt.xlabel(title, fontsize=16)  # X-label\n",
    "\n",
    "plt.ylabel(\"Number of Events/(%d GeV)\" % binwidth, fontsize=16)  # Y-label\n",
    "plt.yticks(fontsize=16)  # ytick size\n",
    "\n",
    "plt.grid(alpha=0.5)  # grid\n",
    "plt.legend(prop={\"size\": 20})  # show legend\n",
    "hep.cms.label('Preliminary', data=False, lumi=59.7, year=2018,fontsize=20)\n",
    "\n",
    "outname_fig = title + \".png\"\n",
    "#plt.savefig(outname_fig)\n",
    "plt.show()  # show histogram\n",
    "plt.close()"
=======
      "text/html": [
       "<div>\n",
       "<style scoped>\n",
       "    .dataframe tbody tr th:only-of-type {\n",
       "        vertical-align: middle;\n",
       "    }\n",
       "\n",
       "    .dataframe tbody tr th {\n",
       "        vertical-align: top;\n",
       "    }\n",
       "\n",
       "    .dataframe thead th {\n",
       "        text-align: right;\n",
       "    }\n",
       "</style>\n",
       "<table border=\"1\" class=\"dataframe\">\n",
       "  <thead>\n",
       "    <tr style=\"text-align: right;\">\n",
       "      <th></th>\n",
       "    </tr>\n",
       "  </thead>\n",
       "  <tbody>\n",
       "  </tbody>\n",
       "</table>\n",
       "</div>"
      ],
      "text/plain": [
       "Empty DataFrame\n",
       "Columns: []\n",
       "Index: []"
      ]
     },
     "execution_count": 25,
     "metadata": {},
     "output_type": "execute_result"
    }
   ],
   "source": [
    "pd.DataFrame('sm',\"SM_WZG/unweighted_events.root\",)"
>>>>>>> 072aeafd2050122ba88146830cac7cfbebd0a248
   ]
  },
  {
   "cell_type": "code",
   "execution_count": null,
<<<<<<< HEAD
   "id": "4a73023a-365e-46a2-96b5-5af87f48e4b5",
=======
>>>>>>> 072aeafd2050122ba88146830cac7cfbebd0a248
   "metadata": {},
   "outputs": [],
   "source": []
  }
 ],
 "metadata": {
  "kernelspec": {
   "display_name": "Python 3",
   "language": "python",
   "name": "python3"
  },
  "language_info": {
   "codemirror_mode": {
    "name": "ipython",
    "version": 3
   },
   "file_extension": ".py",
   "mimetype": "text/x-python",
   "name": "python",
   "nbconvert_exporter": "python",
   "pygments_lexer": "ipython3",
<<<<<<< HEAD
   "version": "3.8.8"
  }
 },
 "nbformat": 4,
 "nbformat_minor": 5
=======
   "version": "3.7.5"
  }
 },
 "nbformat": 4,
 "nbformat_minor": 4
>>>>>>> 072aeafd2050122ba88146830cac7cfbebd0a248
}
