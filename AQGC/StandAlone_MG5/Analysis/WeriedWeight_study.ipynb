{
 "cells": [
  {
   "cell_type": "code",
   "execution_count": 1,
   "id": "e4e4c37c",
   "metadata": {},
   "outputs": [],
   "source": [
    "import uproot\n",
    "import awkward as ak\n",
    "import matplotlib.pyplot as plt"
   ]
  },
  {
   "cell_type": "code",
   "execution_count": 10,
   "id": "fc954a97",
   "metadata": {},
   "outputs": [],
   "source": [
    "infile = \"2016_merge.root\""
   ]
  },
  {
   "cell_type": "code",
   "execution_count": 78,
   "id": "c1c97eca",
   "metadata": {},
   "outputs": [
    {
     "name": "stdout",
     "output_type": "stream",
     "text": [
      "there are 99200 numebr of events\n"
     ]
    }
   ],
   "source": [
    "tree = uproot.open(infile)['Events']\n",
    "Evt_num = tree.num_entries\n",
    "print('there are {0} numebr of events'.format(Evt_num))\n",
    "Particles = tree.arrays(filter_name='Gen*')\n",
    "Weights   = tree.arrays(filter_name='LHE*')"
   ]
  },
  {
   "cell_type": "code",
   "execution_count": 81,
   "id": "23207a66",
   "metadata": {},
   "outputs": [],
   "source": [
    "OrgWeight = Weights.LHEWeight_originalXWGTUP\n",
    "ReWeight  = Weights.LHEReweightingWeight"
   ]
  },
  {
   "cell_type": "markdown",
   "id": "6ba5b1c6",
   "metadata": {},
   "source": [
    "### 1. 입자의 순서를 알기위해 일부만 출력.\n",
    "- W, l-, l+, photon 순서임을 확인.\n",
    "- Prompt photon 을 추출하는 전략: Photon PID mask 를 적용한후, 그중 첫 번째 Photon 만 뽑는다"
   ]
  },
  {
   "cell_type": "code",
   "execution_count": 82,
   "id": "cba7aa02",
   "metadata": {},
   "outputs": [
    {
     "name": "stdout",
     "output_type": "stream",
     "text": [
      "40 [2, -1, 24, -11, 11, 22, 24, 24, 24, 24, 24, 24]\n",
      "43 [2, -1, 24, -15, 15, 22, 24, 24, 24, 24, 24, 24]\n",
      "41 [2, -1, 24, -11, 11, 22, 24, 24, 24, 11, 24, -11]\n",
      "38 [2, -1, 24, -13, 13, 22, 24, 24, 24, 24, 24, 13]\n",
      "43 [2, -1, 24, -15, 15, 22, 24, 24, 15, 24, 24, 24]\n"
     ]
    }
   ],
   "source": [
    "counter=0\n",
    "for id in Particles.GenPart_pdgId:\n",
    "    print(len(id),id[:12])\n",
    "    counter+=1\n",
    "    if counter == 5:\n",
    "        break"
   ]
  },
  {
   "cell_type": "code",
   "execution_count": 119,
   "id": "17aabafd",
   "metadata": {},
   "outputs": [],
   "source": [
    "Photon_mask   = (Particles['GenPart_pdgId'] == 22)\n",
    "\n",
    "Photon = ak.zip({\n",
    "\"pt\" : Particles.GenPart_pt[Photon_mask]\n",
    ",\"eta\": Particles.GenPart_eta[Photon_mask]\n",
    ",\"phi\":Particles.GenPart_phi[Photon_mask]\n",
    ",\"mass\"  :Particles.GenPart_mass[Photon_mask]\n",
    "})"
   ]
  },
  {
   "cell_type": "code",
   "execution_count": 120,
   "id": "7836a691",
   "metadata": {},
   "outputs": [],
   "source": [
    "# Photon 이 없는 이벤트는 삭제\n",
    "photon_evt_maks = ak.num(Photon) > 0"
   ]
  },
  {
   "cell_type": "code",
   "execution_count": 121,
   "id": "fd9196cd",
   "metadata": {},
   "outputs": [],
   "source": [
    "# Glboal 하게 Photon event 컷을 적용\n",
    "Photon    = Photon[photon_evt_maks]\n",
    "OrgWeight = OrgWeight[photon_evt_maks]\n",
    "ReWeight  = ReWeight[photon_evt_maks]"
   ]
  },
  {
   "cell_type": "markdown",
   "id": "f526b286",
   "metadata": {},
   "source": [
    "### 2. Weight 계산 후, Weight 전/후 Distribution 비교\n",
    "Integral(0-all) = 1 로 Normalize 해서 비교"
   ]
  },
  {
   "cell_type": "code",
   "execution_count": 156,
   "id": "435ce489",
   "metadata": {},
   "outputs": [
    {
     "data": {
      "image/png": "[encoded data removed]",
      "text/plain": [
       "<Figure size 432x288 with 1 Axes>"
      ]
     },
     "metadata": {
      "needs_background": "light"
     },
     "output_type": "display_data"
    }
   ],
   "source": [
    "weights =OrgWeight * ReWeight[:,100]\n",
    "\n",
    "bins=20\n",
    "plt.hist(Photon[:,0].pt,bins=bins,histtype=\"step\",density=True,label=\"Photon PT\")\n",
    "plt.hist(Photon[:,0].pt,bins=bins,weights=weights,density=True,histtype=\"step\",label=\"Photon PT with weght\")\n",
    "\n",
    "\n",
    "plt.legend()\n",
    "plt.show()"
   ]
  },
  {
   "cell_type": "markdown",
   "id": "d86f8431",
   "metadata": {},
   "source": [
    "### 4. 결론\n",
    "\n",
    "Large PT쪽 xsec이 매우 낮다.   \n",
    "물론 당연하겠지만 너무 차이난다.  \n",
    "Weight를 적용하는 방식이 틀린것인지?"
   ]
  }
 ],
 "metadata": {
  "kernelspec": {
   "display_name": "Python 3 (ipykernel)",
   "language": "python",
   "name": "python3"
  },
  "language_info": {
   "codemirror_mode": {
    "name": "ipython",
    "version": 3
   },
   "file_extension": ".py",
   "mimetype": "text/x-python",
   "name": "python",
   "nbconvert_exporter": "python",
   "pygments_lexer": "ipython3",
   "version": "3.9.13"
  }
 },
 "nbformat": 4,
 "nbformat_minor": 5
}
