{
 "cells": [
  {
   "cell_type": "code",
   "execution_count": 121,
   "id": "91531826-c667-406c-9aba-ed8c3bac97c6",
   "metadata": {},
   "outputs": [],
   "source": [
    "import uproot\n",
    "import matplotlib.pyplot as plt\n",
    "import mplhep as hep\n",
    "import numpy as np\n",
    "import pandas as pd\n",
    "import awkward as ak\n",
    "import vector"
   ]
  },
  {
   "cell_type": "code",
   "execution_count": 150,
   "id": "e6ecbc62-81b3-4522-8a19-6053d87977b2",
   "metadata": {},
   "outputs": [],
   "source": [
    "def Read_Tree(path):\n",
    "    tree = uproot.open(path_sm)['LHEF']\n",
    "    Evt_num = tree.num_entries\n",
    "    print('there are {0} numebr of events'.format(Evt_num))\n",
    "    Particles = tree.arrays(filter_name='Particle*')\n",
    "    \n",
    "    is_Ele = abs(Particles['Particle.PID']) == 11\n",
    "    is_Ele_ch = ak.num(Particles['Particle.PID'][is_Ele]) == 2\n",
    "    \n",
    "    is_Mu = abs(Particles['Particle.PID']) == 13\n",
    "    is_Mu_ch = ak.num(Particles['Particle.PID'][is_Mu]) == 2\n",
    "    \n",
    "    Particles_ele_ch = Particles[is_Ele_ch ]\n",
    "    Particles_mu_ch  = Particles[is_Mu_ch ]\n",
    "    \n",
    "    \n",
    "    return Evt_num,Particles_ele_ch,Particles_mu_ch"
   ]
  },
  {
   "cell_type": "code",
   "execution_count": 151,
   "id": "8cc5ef56-c4bb-433a-89d5-d1bd876fe12e",
   "metadata": {},
   "outputs": [],
   "source": [
    "def Make_Object_Array(Particles):    \n",
    "    Photon_mask   = (Particles['Particle.PID'] == 22)\n",
    "    Photon = ak.zip({\n",
    "    \"PT\" :    Particles['Particle.PT'][Photon_mask],\n",
    "    \"Eta\":    Particles['Particle.Eta'][Photon_mask],\n",
    "    \"Phi\":    Particles['Particle.Phi'][Photon_mask],\n",
    "    \"E\" :    Particles['Particle.E'][Photon_mask],\n",
    "    \"Px\" : Particles['Particle.Px'][Photon_mask],\n",
    "    \"Py\" : Particles['Particle.Py'][Photon_mask],  \n",
    "    \"Pz\" : Particles['Particle.Pz'][Photon_mask],  \n",
    "    })\n",
    "    \n",
    "    Electron_mask = abs(Particles['Particle.PID']) == 11\n",
    "    Electron = ak.zip({\n",
    "    \"PT\" :    Particles['Particle.PT'][Electron_mask],\n",
    "    \"Eta\":    Particles['Particle.Eta'][Electron_mask],\n",
    "    \"Phi\":    Particles['Particle.Phi'][Electron_mask],\n",
    "    \"E\" :    Particles['Particle.E'][Electron_mask],\n",
    "    \"Px\" : Particles['Particle.Px'][Electron_mask],\n",
    "    \"Py\" : Particles['Particle.Py'][Electron_mask],  \n",
    "    \"Pz\" : Particles['Particle.Pz'][Electron_mask],  \n",
    "    })   \n",
    "    \n",
    "    Muon_mask = abs(Particles['Particle.PID']) == 13\n",
    "    Muon = ak.zip({\n",
    "    \"PT\" :    Particles['Particle.PT'][Muon_mask],\n",
    "    \"Eta\":    Particles['Particle.Eta'][Muon_mask],\n",
    "    \"Phi\":    Particles['Particle.Phi'][Muon_mask],\n",
    "    \"E\" :    Particles['Particle.E'][Muon_mask],\n",
    "    \"Px\" : Particles['Particle.Px'][Muon_mask],\n",
    "    \"Py\" : Particles['Particle.Py'][Muon_mask],  \n",
    "    \"Pz\" : Particles['Particle.Pz'][Muon_mask],  \n",
    "    })\n",
    "    \n",
    "    W_mask = abs(Particles['Particle.PID']) ==24 \n",
    "    Wboson = ak.zip({\n",
    "    \"PT\" :    Particles['Particle.PT'][W_mask],\n",
    "    \"Eta\":    Particles['Particle.Eta'][W_mask],\n",
    "    \"Phi\":    Particles['Particle.Phi'][W_mask],\n",
    "    \"E\" :    Particles['Particle.E'][W_mask],\n",
    "    \"Px\" : Particles['Particle.Px'][W_mask],\n",
    "    \"Py\" : Particles['Particle.Py'][W_mask],  \n",
    "    \"Pz\" : Particles['Particle.Pz'][W_mask],  \n",
    "    })\n",
    "\n",
    "    \n",
    "    return Electron,Muon,Photon,Wboson"
   ]
  },
  {
   "cell_type": "code",
   "execution_count": 164,
   "id": "2358695b-5652-418e-8015-75c1de4fa621",
   "metadata": {},
   "outputs": [],
   "source": [
    "def Analysis(chmark,Particles):\n",
    "    \n",
    "    print(\"Start analysis {0} channel\".format(chmark))\n",
    "    Electron,Muon,Photon,Wboson = Make_Object_Array(Particles)\n",
    "    \n",
    "    if chmark=='Electron':\n",
    "        print(\"test -- contain muon? \",ak.sum(ak.num(Muon)))\n",
    "        print(\"test -- does not have diele? \",ak.sum(ak.num(Electron) !=2))\n",
    "        Lep1_vec = vector.obj(px=Electron[:,0].Px,py=Electron[:,0].Py,pz=Electron[:,0].Pz,E=Electron[:,0].E)\n",
    "        Lep2_vec = vector.obj(px=Electron[:,1].Px,py=Electron[:,1].Py,pz=Electron[:,1].Pz,E=Electron[:,1].E)\n",
    "        \n",
    "    elif chmark=='Muon':\n",
    "        print(\"test -- contain Electron? \",ak.sum(ak.num(Electron)))\n",
    "        print(\"test -- does not have dimu? \",ak.sum(ak.num(Muon) !=2))\n",
    "        Lep1_vec = vector.obj(px=Muon[:,0].Px,py=Muon[:,0].Py,pz=Muon[:,0].Pz,E=Muon[:,0].E)\n",
    "        Lep2_vec = vector.obj(px=Muon[:,1].Px,py=Muon[:,1].Py,pz=Muon[:,1].Pz,E=Muon[:,1].E)\n",
    "    else:\n",
    "        raise NameError('unavailable channel name')\n",
    "\n",
    "    W_vec    = vector.obj(px=Wboson[:,0].Px,py=Wboson[:,0].Py,pz=Wboson[:,0].Pz,E=Wboson[:,0].E)\n",
    "    WZ_vec    = Lep1_vec + Lep2_vec + W_vec    \n",
    "    \n",
    "    Mwz   =  WZvec.M.to_numpy()\n",
    "    phoPT =  ak.flatten(Photon.PT).to_numpy()\n",
    "    return Mwz,phoPT "
   ]
  },
  {
   "cell_type": "code",
   "execution_count": 165,
   "id": "41314a5b-7fcf-4abb-8ef3-d518bd4754b1",
   "metadata": {},
   "outputs": [],
   "source": [
    "path_sm            = \"SM_WZG/unweighted_events.root\"\n",
    "path_aQGC_allzeros = \"aQGC_Allzeros/unweighted_events.root\"\n",
    "path_aQGC_FM       = \"aQGC_FM/unweighted_events.root\"\n",
    "path_aQGC_FT       = \"aQGC_FT/unweighted_events.root\""
   ]
  },
  {
   "cell_type": "code",
   "execution_count": 166,
   "id": "77d711f1-9142-473d-a38e-1f93e6396d3a",
   "metadata": {},
   "outputs": [
    {
     "name": "stdout",
     "output_type": "stream",
     "text": [
      "there are 10000 numebr of events\n"
     ]
    }
   ],
   "source": [
    "Evt_num,Particles_ele_ch,Particles_mu_ch = Read_Tree(path_sm)"
   ]
  },
  {
   "cell_type": "code",
   "execution_count": 167,
   "id": "d3012dc0-5019-4e5f-948f-01865b03e656",
   "metadata": {},
   "outputs": [
    {
     "name": "stdout",
     "output_type": "stream",
     "text": [
      "Elech + Much == Evtnum ?  True\n"
     ]
    }
   ],
   "source": [
    "print(\"Elech + Much == Evtnum ? \",len(Particles_ele_ch) + len(Particles_mu_ch) == Evt_num)"
   ]
  },
  {
   "cell_type": "code",
   "execution_count": 169,
   "id": "cf9ad0cf-6f6e-4723-a5e2-37148d91bb6f",
   "metadata": {},
   "outputs": [
    {
     "name": "stdout",
     "output_type": "stream",
     "text": [
      "Start analysis Electron channel\n",
      "test -- contain muon?  0\n",
      "test -- does not have diele?  0\n",
      "Start analysis Muon channel\n",
      "test -- contain Electron?  0\n",
      "test -- does not have dimu?  0\n"
     ]
    }
   ],
   "source": [
    "ele_Mwz,ele_phoPT   = Analysis(\"Electron\",Particles_ele_ch)\n",
    "mu_Mwz,mu_phoPT   = Analysis(\"Muon\",Particles_mu_ch)"
   ]
  },
  {
   "cell_type": "code",
   "execution_count": 170,
   "id": "320917a9-fa9b-47e7-98b6-cdd29c46ce31",
   "metadata": {},
   "outputs": [
    {
     "data": {
      "text/plain": [
       "array([283.62470258, 317.09783054, 169.31804808, ..., 213.38310271,\n",
       "       253.9161038 , 199.73998601])"
      ]
     },
     "execution_count": 170,
     "metadata": {},
     "output_type": "execute_result"
    }
   ],
   "source": [
    "ele_Mwz"
   ]
  },
  {
   "cell_type": "code",
   "execution_count": null,
   "id": "9f5f55a6-1db3-4400-9eb2-06a530270a01",
   "metadata": {},
   "outputs": [],
   "source": []
  }
 ],
 "metadata": {
  "kernelspec": {
   "display_name": "Python 3",
   "language": "python",
   "name": "python3"
  },
  "language_info": {
   "codemirror_mode": {
    "name": "ipython",
    "version": 3
   },
   "file_extension": ".py",
   "mimetype": "text/x-python",
   "name": "python",
   "nbconvert_exporter": "python",
   "pygments_lexer": "ipython3",
   "version": "3.8.8"
  }
 },
 "nbformat": 4,
 "nbformat_minor": 5
}
