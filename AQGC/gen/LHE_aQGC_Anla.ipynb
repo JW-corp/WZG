{
 "cells": [
  {
   "cell_type": "code",
<<<<<<< HEAD
   "execution_count": 121,
   "id": "91531826-c667-406c-9aba-ed8c3bac97c6",
=======
   "execution_count": 1,
>>>>>>> bfac6ed44ef4f65989c05d7b080e5169676f4121
   "metadata": {},
   "outputs": [],
   "source": [
    "import uproot\n",
    "import matplotlib.pyplot as plt\n",
    "import mplhep as hep\n",
    "import numpy as np\n",
    "import pandas as pd\n",
    "import awkward as ak\n",
    "import vector"
   ]
  },
  {
   "cell_type": "code",
<<<<<<< HEAD
   "execution_count": 150,
   "id": "e6ecbc62-81b3-4522-8a19-6053d87977b2",
   "metadata": {},
   "outputs": [],
   "source": [
    "def Read_Tree(path):\n",
    "    tree = uproot.open(path_sm)['LHEF']\n",
    "    Evt_num = tree.num_entries\n",
    "    print('there are {0} numebr of events'.format(Evt_num))\n",
    "    Particles = tree.arrays(filter_name='Particle*')\n",
    "    \n",
    "    is_Ele = abs(Particles['Particle.PID']) == 11\n",
    "    is_Ele_ch = ak.num(Particles['Particle.PID'][is_Ele]) == 2\n",
    "    \n",
    "    is_Mu = abs(Particles['Particle.PID']) == 13\n",
    "    is_Mu_ch = ak.num(Particles['Particle.PID'][is_Mu]) == 2\n",
    "    \n",
    "    Particles_ele_ch = Particles[is_Ele_ch ]\n",
    "    Particles_mu_ch  = Particles[is_Mu_ch ]\n",
    "    \n",
=======
   "execution_count": 41,
   "metadata": {},
   "outputs": [],
   "source": [
    "def read_data(path):\n",
    "    tree = uproot.open(path)['LHEF']\n",
    "    print('there are {0} numebr of events'.format(tree.num_entries))\n",
    "    Particles = tree.arrays(filter_name='Particle*')\n",
>>>>>>> bfac6ed44ef4f65989c05d7b080e5169676f4121
    "    \n",
    "    return Evt_num,Particles_ele_ch,Particles_mu_ch"
   ]
  },
  {
   "cell_type": "code",
   "execution_count": 151,
   "id": "8cc5ef56-c4bb-433a-89d5-d1bd876fe12e",
   "metadata": {},
   "outputs": [],
   "source": [
    "def Make_Object_Array(Particles):    \n",
    "    Photon_mask   = (Particles['Particle.PID'] == 22)\n",
    "    Photon = ak.zip({\n",
    "    \"PT\" :    Particles['Particle.PT'][Photon_mask],\n",
    "    \"Eta\":    Particles['Particle.Eta'][Photon_mask],\n",
    "    \"Phi\":    Particles['Particle.Phi'][Photon_mask],\n",
    "    \"E\" :    Particles['Particle.E'][Photon_mask],\n",
    "    \"Px\" : Particles['Particle.Px'][Photon_mask],\n",
    "    \"Py\" : Particles['Particle.Py'][Photon_mask],  \n",
    "    \"Pz\" : Particles['Particle.Pz'][Photon_mask],  \n",
    "    })\n",
    "    \n",
    "    Electron_mask = abs(Particles['Particle.PID']) == 11\n",
    "    Electron = ak.zip({\n",
    "    \"PT\" :    Particles['Particle.PT'][Electron_mask],\n",
    "    \"Eta\":    Particles['Particle.Eta'][Electron_mask],\n",
    "    \"Phi\":    Particles['Particle.Phi'][Electron_mask],\n",
    "    \"E\" :    Particles['Particle.E'][Electron_mask],\n",
    "    \"Px\" : Particles['Particle.Px'][Electron_mask],\n",
    "    \"Py\" : Particles['Particle.Py'][Electron_mask],  \n",
    "    \"Pz\" : Particles['Particle.Pz'][Electron_mask],  \n",
    "    })   \n",
    "    \n",
    "    Muon_mask = abs(Particles['Particle.PID']) == 13\n",
    "    Muon = ak.zip({\n",
    "    \"PT\" :    Particles['Particle.PT'][Muon_mask],\n",
    "    \"Eta\":    Particles['Particle.Eta'][Muon_mask],\n",
    "    \"Phi\":    Particles['Particle.Phi'][Muon_mask],\n",
    "    \"E\" :    Particles['Particle.E'][Muon_mask],\n",
    "    \"Px\" : Particles['Particle.Px'][Muon_mask],\n",
    "    \"Py\" : Particles['Particle.Py'][Muon_mask],  \n",
    "    \"Pz\" : Particles['Particle.Pz'][Muon_mask],  \n",
<<<<<<< HEAD
    "    })\n",
    "    \n",
    "    W_mask = abs(Particles['Particle.PID']) ==24 \n",
    "    Wboson = ak.zip({\n",
    "    \"PT\" :    Particles['Particle.PT'][W_mask],\n",
    "    \"Eta\":    Particles['Particle.Eta'][W_mask],\n",
    "    \"Phi\":    Particles['Particle.Phi'][W_mask],\n",
    "    \"E\" :    Particles['Particle.E'][W_mask],\n",
    "    \"Px\" : Particles['Particle.Px'][W_mask],\n",
    "    \"Py\" : Particles['Particle.Py'][W_mask],  \n",
    "    \"Pz\" : Particles['Particle.Pz'][W_mask],  \n",
    "    })\n",
    "\n",
    "    \n",
    "    return Electron,Muon,Photon,Wboson"
   ]
  },
  {
   "cell_type": "code",
   "execution_count": 164,
   "id": "2358695b-5652-418e-8015-75c1de4fa621",
   "metadata": {},
   "outputs": [],
   "source": [
    "def Analysis(chmark,Particles):\n",
=======
    "    })      \n",
    "    return Electron,Muon,Photon\n",
>>>>>>> bfac6ed44ef4f65989c05d7b080e5169676f4121
    "    \n",
    "    print(\"Start analysis {0} channel\".format(chmark))\n",
    "    Electron,Muon,Photon,Wboson = Make_Object_Array(Particles)\n",
    "    \n",
    "    if chmark=='Electron':\n",
    "        print(\"test -- contain muon? \",ak.sum(ak.num(Muon)))\n",
    "        print(\"test -- does not have diele? \",ak.sum(ak.num(Electron) !=2))\n",
    "        Lep1_vec = vector.obj(px=Electron[:,0].Px,py=Electron[:,0].Py,pz=Electron[:,0].Pz,E=Electron[:,0].E)\n",
    "        Lep2_vec = vector.obj(px=Electron[:,1].Px,py=Electron[:,1].Py,pz=Electron[:,1].Pz,E=Electron[:,1].E)\n",
    "        \n",
    "    elif chmark=='Muon':\n",
    "        print(\"test -- contain Electron? \",ak.sum(ak.num(Electron)))\n",
    "        print(\"test -- does not have dimu? \",ak.sum(ak.num(Muon) !=2))\n",
    "        Lep1_vec = vector.obj(px=Muon[:,0].Px,py=Muon[:,0].Py,pz=Muon[:,0].Pz,E=Muon[:,0].E)\n",
    "        Lep2_vec = vector.obj(px=Muon[:,1].Px,py=Muon[:,1].Py,pz=Muon[:,1].Pz,E=Muon[:,1].E)\n",
    "    else:\n",
    "        raise NameError('unavailable channel name')\n",
    "\n",
    "    W_vec    = vector.obj(px=Wboson[:,0].Px,py=Wboson[:,0].Py,pz=Wboson[:,0].Pz,E=Wboson[:,0].E)\n",
    "    WZ_vec    = Lep1_vec + Lep2_vec + W_vec    \n",
    "    \n",
    "    Mwz   =  WZvec.M.to_numpy()\n",
    "    phoPT =  ak.flatten(Photon.PT).to_numpy()\n",
    "    return Mwz,phoPT "
   ]
  },
  {
   "cell_type": "code",
<<<<<<< HEAD
   "execution_count": 165,
   "id": "41314a5b-7fcf-4abb-8ef3-d518bd4754b1",
   "metadata": {},
   "outputs": [],
   "source": [
    "path_sm            = \"SM_WZG/unweighted_events.root\"\n",
    "path_aQGC_allzeros = \"aQGC_Allzeros/unweighted_events.root\"\n",
    "path_aQGC_FM       = \"aQGC_FM/unweighted_events.root\"\n",
    "path_aQGC_FT       = \"aQGC_FT/unweighted_events.root\""
   ]
  },
  {
   "cell_type": "code",
   "execution_count": 166,
   "id": "77d711f1-9142-473d-a38e-1f93e6396d3a",
=======
   "execution_count": 42,
>>>>>>> bfac6ed44ef4f65989c05d7b080e5169676f4121
   "metadata": {},
   "outputs": [
    {
     "name": "stdout",
     "output_type": "stream",
     "text": [
<<<<<<< HEAD
      "there are 10000 numebr of events\n"
=======
      "there are 1000 numebr of events\n",
      "there are 1000 numebr of events\n",
      "there are 686 numebr of events\n"
>>>>>>> bfac6ed44ef4f65989c05d7b080e5169676f4121
     ]
    }
   ],
   "source": [
<<<<<<< HEAD
    "Evt_num,Particles_ele_ch,Particles_mu_ch = Read_Tree(path_sm)"
=======
    "sm_wzg_Electron,sm_wzg_Muon,sm_wzg_Photon  = read_data('WZAToLNuLLA_LO_loopsm/unweighted_events.root')\n",
    "qckmFM0_1e12_wzg_Electron,qckmFM0_1e12_wzg_Muon,qckmFM0_1e12_wzg_Photon = read_data('WZAToLNuLLA_LO_QCKM_FM0/fm0_1e12_unweighted_events.root')\n",
    "qckmFM0_1e10_wzg_Electron,qckmFM0_1e10_wzg_Muon,qckmFM0_1e10_wzg_Photon = read_data('WZAToLNuLLA_LO_QCKM_FM0/fm0_1e10_unweighted_events.root')"
   ]
  },
  {
   "cell_type": "code",
   "execution_count": 49,
   "metadata": {},
   "outputs": [],
   "source": [
    "Ele_ch_cut = ak.num(qckmFM0_1e12_wzg_Electron) >=2 \n",
    "qckmFM0_1e12_wzg_ech = qckmFM0_1e12_wzg_Electron[Ele_ch_cut]"
   ]
  },
  {
   "cell_type": "code",
   "execution_count": 55,
   "metadata": {},
   "outputs": [],
   "source": [
    "import vector\n",
    "Ele1 = qckmFM0_1e12_wzg_ech[:,0]\n",
    "Ele2 = qckmFM0_1e12_wzg_ech[:,1] \n",
    "Ele1vec = vector.obj(px=Ele1.Px, py=Ele1.Py, pz=Ele1.Pz, E = Ele1.E )\n",
    "Ele2vec = vector.obj(px=Ele2.Px, py=Ele2.Py, pz=Ele2.Pz, E = Ele2.E )\n",
    "Ele_mass = (Ele1vec+Ele2vec).mass"
   ]
  },
  {
   "cell_type": "code",
   "execution_count": 33,
   "metadata": {},
   "outputs": [],
   "source": [
    "sm_wzg_photon_pt_arr      = sm_wzg_Photon.PT[:,0].to_numpy()\n",
    "qckmfm0_1e12_wzg_photon_pt_arr = qckmFM0_1e12_wzg_Photon.PT[:,0].to_numpy()\n",
    "qckmfm0_1e10_wzg_photon_pt_arr = qckmFM0_1e10_wzg_Photon.PT[:,0].to_numpy()"
>>>>>>> bfac6ed44ef4f65989c05d7b080e5169676f4121
   ]
  },
  {
   "cell_type": "code",
<<<<<<< HEAD
   "execution_count": 167,
   "id": "d3012dc0-5019-4e5f-948f-01865b03e656",
   "metadata": {},
   "outputs": [
    {
     "name": "stdout",
     "output_type": "stream",
     "text": [
      "Elech + Much == Evtnum ?  True\n"
     ]
    }
   ],
   "source": [
    "print(\"Elech + Much == Evtnum ? \",len(Particles_ele_ch) + len(Particles_mu_ch) == Evt_num)"
=======
   "execution_count": 32,
   "metadata": {},
   "outputs": [],
   "source": [
    "xsec_sm = 0.008403447652523603\n",
    "xsec_FM01_e10 = 1.1151744887099e-05\n",
    "xsec_FM01_e12 = 1.0824929124249999e-09"
   ]
  },
  {
   "cell_type": "code",
   "execution_count": 38,
   "metadata": {},
   "outputs": [],
   "source": [
    "weight = np.ones(len(qckmfm0_1e10_wzg_photon_pt_arr)) * 1000 / len(qckmfm0_1e10_wzg_photon_pt_arr)"
   ]
  },
  {
   "cell_type": "code",
   "execution_count": 40,
   "metadata": {},
   "outputs": [
    {
     "data": {
      "image/png": "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\n",
      "text/plain": [
       "<Figure size 648x432 with 1 Axes>"
      ]
     },
     "metadata": {
      "needs_background": "light"
     },
     "output_type": "display_data"
    }
   ],
   "source": [
    "plt.figure(figsize=(9,6)) #\n",
    "plt.style.use(hep.style.ROOT)\n",
    "\n",
    "\n",
    "#bins = np.linspace(15,140,20)\n",
    "#binwidth = (140-15)/20\n",
    "bins=20\n",
    "plt.hist(sm_wzg_photon_pt_arr,bins=bins,histtype='step',linewidth=2,label='SM_LOOP_WZG')\n",
    "plt.hist(qckmfm0_1e12_wzg_photon_pt_arr,bins=bins,histtype='step',linewidth=2,label='QCKMFM0_e-12_WZG')\n",
    "plt.hist(qckmfm0_1e10_wzg_photon_pt_arr,bins=bins,weights = weight,histtype='step',linewidth=2,label='QCKMFM0_e-10_WZG')\n",
    "\n",
    "plt.legend()\n",
    "\n",
    "plt.xlabel('Photon PT (GeV)') # X-label\n",
    "plt.ylabel('Number of Events/(%d GeV)' % binwidth) # Y-label\n",
    "plt.grid() # grid option\n",
    "plt.show()"
>>>>>>> bfac6ed44ef4f65989c05d7b080e5169676f4121
   ]
  },
  {
   "cell_type": "code",
<<<<<<< HEAD
   "execution_count": 169,
   "id": "cf9ad0cf-6f6e-4723-a5e2-37148d91bb6f",
   "metadata": {},
   "outputs": [
    {
     "name": "stdout",
     "output_type": "stream",
     "text": [
      "Start analysis Electron channel\n",
      "test -- contain muon?  0\n",
      "test -- does not have diele?  0\n",
      "Start analysis Muon channel\n",
      "test -- contain Electron?  0\n",
      "test -- does not have dimu?  0\n"
     ]
    }
   ],
   "source": [
    "ele_Mwz,ele_phoPT   = Analysis(\"Electron\",Particles_ele_ch)\n",
    "mu_Mwz,mu_phoPT   = Analysis(\"Muon\",Particles_mu_ch)"
   ]
  },
  {
   "cell_type": "code",
   "execution_count": 170,
   "id": "320917a9-fa9b-47e7-98b6-cdd29c46ce31",
=======
   "execution_count": 29,
>>>>>>> bfac6ed44ef4f65989c05d7b080e5169676f4121
   "metadata": {},
   "outputs": [
    {
     "data": {
      "text/plain": [
       "array([283.62470258, 317.09783054, 169.31804808, ..., 213.38310271,\n",
       "       253.9161038 , 199.73998601])"
      ]
     },
     "execution_count": 170,
     "metadata": {},
     "output_type": "execute_result"
    }
   ],
   "source": [
    "ele_Mwz"
   ]
  },
  {
   "cell_type": "code",
   "execution_count": null,
<<<<<<< HEAD
   "id": "9f5f55a6-1db3-4400-9eb2-06a530270a01",
=======
>>>>>>> bfac6ed44ef4f65989c05d7b080e5169676f4121
   "metadata": {},
   "outputs": [],
   "source": []
  }
 ],
 "metadata": {
  "kernelspec": {
   "display_name": "Python 3",
   "language": "python",
   "name": "python3"
  },
  "language_info": {
   "codemirror_mode": {
    "name": "ipython",
    "version": 3
   },
   "file_extension": ".py",
   "mimetype": "text/x-python",
   "name": "python",
   "nbconvert_exporter": "python",
   "pygments_lexer": "ipython3",
   "version": "3.7.5"
  }
 },
 "nbformat": 4,
 "nbformat_minor": 5
}
