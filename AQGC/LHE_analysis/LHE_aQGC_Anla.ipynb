{
 "cells": [
  {
   "cell_type": "code",
   "execution_count": 2,
   "metadata": {},
   "outputs": [],
   "source": [
    "import uproot\n",
    "import matplotlib.pyplot as plt\n",
    "import mplhep as hep\n",
    "import numpy as np\n",
    "import pandas as pd\n",
    "import awkward as ak\n",
    "import vector"
   ]
  },
  {
   "cell_type": "code",
   "execution_count": 3,
   "metadata": {},
   "outputs": [],
   "source": [
    "def Read_Tree(path):\n",
    "    tree = uproot.open(path_sm)['LHEF']\n",
    "    Evt_num = tree.num_entries\n",
    "    print('there are {0} numebr of events'.format(Evt_num))\n",
    "    Particles = tree.arrays(filter_name='Particle*')\n",
    "    \n",
    "    is_Ele = abs(Particles['Particle.PID']) == 11\n",
    "    is_Ele_ch = ak.num(Particles['Particle.PID'][is_Ele]) == 2\n",
    "    \n",
    "    is_Mu = abs(Particles['Particle.PID']) == 13\n",
    "    is_Mu_ch = ak.num(Particles['Particle.PID'][is_Mu]) == 2\n",
    "    \n",
    "    Particles_ele_ch = Particles[is_Ele_ch ]\n",
    "    Particles_mu_ch  = Particles[is_Mu_ch ]\n",
    "    \n",
    "    \n",
    "    return Evt_num,Particles_ele_ch,Particles_mu_ch"
   ]
  },
  {
   "cell_type": "code",
   "execution_count": 4,
   "metadata": {},
   "outputs": [],
   "source": [
    "def Make_Object_Array(Particles):    \n",
    "    Photon_mask   = (Particles['Particle.PID'] == 22)\n",
    "    Photon = ak.zip({\n",
    "    \"PT\" :    Particles['Particle.PT'][Photon_mask],\n",
    "    \"Eta\":    Particles['Particle.Eta'][Photon_mask],\n",
    "    \"Phi\":    Particles['Particle.Phi'][Photon_mask],\n",
    "    \"E\" :    Particles['Particle.E'][Photon_mask],\n",
    "    \"Px\" : Particles['Particle.Px'][Photon_mask],\n",
    "    \"Py\" : Particles['Particle.Py'][Photon_mask],  \n",
    "    \"Pz\" : Particles['Particle.Pz'][Photon_mask],  \n",
    "    })\n",
    "    \n",
    "    Electron_mask = abs(Particles['Particle.PID']) == 11\n",
    "    Electron = ak.zip({\n",
    "    \"PT\" :    Particles['Particle.PT'][Electron_mask],\n",
    "    \"Eta\":    Particles['Particle.Eta'][Electron_mask],\n",
    "    \"Phi\":    Particles['Particle.Phi'][Electron_mask],\n",
    "    \"E\" :    Particles['Particle.E'][Electron_mask],\n",
    "    \"Px\" : Particles['Particle.Px'][Electron_mask],\n",
    "    \"Py\" : Particles['Particle.Py'][Electron_mask],  \n",
    "    \"Pz\" : Particles['Particle.Pz'][Electron_mask],  \n",
    "    })   \n",
    "    \n",
    "    Muon_mask = abs(Particles['Particle.PID']) == 13\n",
    "    Muon = ak.zip({\n",
    "    \"PT\" :    Particles['Particle.PT'][Muon_mask],\n",
    "    \"Eta\":    Particles['Particle.Eta'][Muon_mask],\n",
    "    \"Phi\":    Particles['Particle.Phi'][Muon_mask],\n",
    "    \"E\" :    Particles['Particle.E'][Muon_mask],\n",
    "    \"Px\" : Particles['Particle.Px'][Muon_mask],\n",
    "    \"Py\" : Particles['Particle.Py'][Muon_mask],  \n",
    "    \"Pz\" : Particles['Particle.Pz'][Muon_mask],  \n",
    "    })\n",
    "    \n",
    "    W_mask = abs(Particles['Particle.PID']) ==24 \n",
    "    Wboson = ak.zip({\n",
    "    \"PT\" :    Particles['Particle.PT'][W_mask],\n",
    "    \"Eta\":    Particles['Particle.Eta'][W_mask],\n",
    "    \"Phi\":    Particles['Particle.Phi'][W_mask],\n",
    "    \"E\" :    Particles['Particle.E'][W_mask],\n",
    "    \"Px\" : Particles['Particle.Px'][W_mask],\n",
    "    \"Py\" : Particles['Particle.Py'][W_mask],  \n",
    "    \"Pz\" : Particles['Particle.Pz'][W_mask],  \n",
    "    })\n",
    "\n",
    "    \n",
    "    return Electron,Muon,Photon,Wboson"
   ]
  },
  {
   "cell_type": "code",
   "execution_count": 10,
   "metadata": {},
   "outputs": [],
   "source": [
    "def Analysis(chmark,Particles):\n",
    "    \n",
    "    print(\"Start analysis {0} channel\".format(chmark))\n",
    "    Electron,Muon,Photon,Wboson = Make_Object_Array(Particles)\n",
    "    \n",
    "    if chmark=='Electron':\n",
    "        print(\"test -- contain muon? \",ak.sum(ak.num(Muon)))\n",
    "        print(\"test -- does not have diele? \",ak.sum(ak.num(Electron) !=2))\n",
    "        Lep1_vec = vector.obj(px=Electron[:,0].Px,py=Electron[:,0].Py,pz=Electron[:,0].Pz,E=Electron[:,0].E)\n",
    "        Lep2_vec = vector.obj(px=Electron[:,1].Px,py=Electron[:,1].Py,pz=Electron[:,1].Pz,E=Electron[:,1].E)\n",
    "        \n",
    "    elif chmark=='Muon':\n",
    "        print(\"test -- contain Electron? \",ak.sum(ak.num(Electron)))\n",
    "        print(\"test -- does not have dimu? \",ak.sum(ak.num(Muon) !=2))\n",
    "        Lep1_vec = vector.obj(px=Muon[:,0].Px,py=Muon[:,0].Py,pz=Muon[:,0].Pz,E=Muon[:,0].E)\n",
    "        Lep2_vec = vector.obj(px=Muon[:,1].Px,py=Muon[:,1].Py,pz=Muon[:,1].Pz,E=Muon[:,1].E)\n",
    "    else:\n",
    "        raise NameError('unavailable channel name')\n",
    "\n",
    "    W_vec    = vector.obj(px=Wboson[:,0].Px,py=Wboson[:,0].Py,pz=Wboson[:,0].Pz,E=Wboson[:,0].E)\n",
    "    WZ_vec    = Lep1_vec + Lep2_vec + W_vec    \n",
    "    \n",
    "    Mwz   =  WZ_vec.M.to_numpy()\n",
    "    phoPT =  ak.flatten(Photon.PT).to_numpy()\n",
    "    return Mwz,phoPT "
   ]
  },
  {
   "cell_type": "code",
   "execution_count": 21,
   "metadata": {},
   "outputs": [],
   "source": [
    "def Process(path):\n",
    "    Evt_num,Particles_ele_ch,Particles_mu_ch = Read_Tree(path_sm)\n",
    "    \n",
    "    print(\"Elech + Much == Evtnum ? \",len(Particles_ele_ch) + len(Particles_mu_ch) == Evt_num)\n",
    "    ele_Mwz,ele_phoPT   = Analysis(\"Electron\",Particles_ele_ch)\n",
    "    mu_Mwz,mu_phoPT   = Analysis(\"Muon\",Particles_mu_ch)\n",
    "    Mwz_arr   = np.concatenate((ele_Mwz, mu_Mwz), axis = 0)\n",
    "    phoPT_arr = np.concatenate((ele_phoPT, mu_phoPT), axis = 0)\n",
    "    \n",
    "    return Mwz_arr,phoPT_arr"
   ]
  },
  {
   "cell_type": "code",
   "execution_count": 23,
   "metadata": {},
   "outputs": [],
   "source": [
    "path_sm            = \"SM_WZG/unweighted_events.root\"\n",
    "path_aQGC_allzeros = \"aQGC_Allzeros/unweighted_events.root\"\n",
    "path_aQGC_FM       = \"aQGC_FM/unweighted_events.root\"\n",
    "path_aQGC_FT       = \"aQGC_FT/unweighted_events.root\""
   ]
  },
  {
   "cell_type": "code",
   "execution_count": 25,
   "metadata": {},
   "outputs": [
    {
     "data": {
      "text/html": [
       "<div>\n",
       "<style scoped>\n",
       "    .dataframe tbody tr th:only-of-type {\n",
       "        vertical-align: middle;\n",
       "    }\n",
       "\n",
       "    .dataframe tbody tr th {\n",
       "        vertical-align: top;\n",
       "    }\n",
       "\n",
       "    .dataframe thead th {\n",
       "        text-align: right;\n",
       "    }\n",
       "</style>\n",
       "<table border=\"1\" class=\"dataframe\">\n",
       "  <thead>\n",
       "    <tr style=\"text-align: right;\">\n",
       "      <th></th>\n",
       "    </tr>\n",
       "  </thead>\n",
       "  <tbody>\n",
       "  </tbody>\n",
       "</table>\n",
       "</div>"
      ],
      "text/plain": [
       "Empty DataFrame\n",
       "Columns: []\n",
       "Index: []"
      ]
     },
     "execution_count": 25,
     "metadata": {},
     "output_type": "execute_result"
    }
   ],
   "source": [
    "pd.DataFrame('sm',\"SM_WZG/unweighted_events.root\",)"
   ]
  },
  {
   "cell_type": "code",
   "execution_count": null,
   "metadata": {},
   "outputs": [],
   "source": []
  }
 ],
 "metadata": {
  "kernelspec": {
   "display_name": "Python 3",
   "language": "python",
   "name": "python3"
  },
  "language_info": {
   "codemirror_mode": {
    "name": "ipython",
    "version": 3
   },
   "file_extension": ".py",
   "mimetype": "text/x-python",
   "name": "python",
   "nbconvert_exporter": "python",
   "pygments_lexer": "ipython3",
   "version": "3.7.5"
  }
 },
 "nbformat": 4,
 "nbformat_minor": 4
}
